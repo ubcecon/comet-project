{
 "cells": [
  {
   "cell_type": "markdown",
   "id": "95b475a1-d8b5-4d1e-9658-7d14cfc78073",
   "metadata": {
    "pycharm": {
     "name": "#%% md\n"
    }
   },
   "source": [
    "# ECON 326: Interactions and Non-linear Terms in Regressions\n",
    "* **Authors**: COMET Team (Emrul Hasan, Shiming Wu, Jonah Heyl, Colin Grimes, Jonathan Graves, William Co)\n",
    "* **Last Update**: 8 December 2022\n",
    "---\n",
    "## Outline\n",
    "\n",
    "### Prerequisites\n",
    "* Multiple regression\n",
    "* Simple regression\n",
    "* Data analysis and introduction\n",
    "\n",
    "### Outcomes\n",
    "In this worksheet, you will learn:\n",
    "\n",
    "* How to incorporate interaction terms into a regression analysis\n",
    "* How to interpret models with interaction terms\n",
    "* How to create models which include non-linear terms\n",
    "* How to compute simple marginal effects for models with non-linear terms\n",
    "* How to explain polynomial regressions as approximations to a non-linear regression function\n",
    "\n",
    "### Notes\n",
    "\n",
    "<span id=\"fn1\">[<sup>1</sup>](#fn1s)Statistics Canada, Survey of Financial Security, 2019, 2021. Reproduced and distributed on an \"as is\" basis with the permission of Statistics Canada.Adapted from Statistics Canada, Survey of Financial Security, 2019, 2021. This does not constitute an endorsement by Statistics Canada of this product.</span>\n",
    "\n",
    "<span id=\"fn2\">[<sup>2</sup>](#fn2s)Stargazer package is due to: Hlavac, Marek (2022). stargazer: Well-Formatted Regression and Summary Statistics Tables.\n",
    " R package version 5.2.3. https://cran.r-project.org/web/packages/stargazer/index.html </span>"
   ]
  },
  {
   "cell_type": "code",
   "execution_count": null,
   "id": "5bdcbba2-917f-4069-8d75-5b18396d2918",
   "metadata": {
    "pycharm": {
     "name": "#%%\n"
    },
    "vscode": {
     "languageId": "r"
    }
   },
   "outputs": [],
   "source": [
    "library(tidyverse)\n",
    "library(haven)\n",
    "library(dplyr)\n",
    "library(scales)\n",
    "library(stargazer)\n",
    "\n",
    "install.packages(\"car\")\n",
    "library(car)\n",
    "\n",
    "source(\"functions5.r\")\n",
    "\n",
    "SFS_data <- read_dta(\"../datasets/SFS_2019_Eng.dta\")\n",
    "SFS_data <- clean_up_data()"
   ]
  },
  {
   "cell_type": "markdown",
   "id": "abe595b0-25e5-4a16-b1a7-a0928e9a08e1",
   "metadata": {
    "pycharm": {
     "name": "#%% md\n"
    }
   },
   "source": [
    "## Part 1: Interactions in Regression Models\n",
    "\n",
    "One of the most common extensions to multiple regression models is to include **interaction** terms.  What is an interaction term?  It's basically a term which represents the product of two (or more) variables in a model.\n",
    "\n",
    "For example, if we have a dummy variable for being a female ($F_i$) and a dummy variable for having a university degree ($D_i$), the _interaction_ of these two variables is the product $D_i \\times F_i$.  This can seem complicated but it also has a simple interpretation: it is now a dummy for being _both_ a female and having a university degree.  You can see why this is true:\n",
    "\n",
    "$$ D_i \\times F_i = 1 \\iff D_i = 1 \\text{ and } F_i = 1$$\n",
    "\n",
    "This is why these terms are so important for understanding regressions: they provide us with a simple way to describe and study how _combinations_ of our explanatory variables impact our model.  These variables enter into our regression models in exactly the same way as usual:\n",
    "\n",
    "$$Y_i = \\beta_0 + \\beta_1 F_i + \\beta_2 D_i + \\beta_3 D_i \\times F_i + \\epsilon_i$$\n",
    "\n",
    "At this point, you can see that this is just a multiple regression model - the only difference is that one of the variables is a combination of the other variables.  From an estimation perspective, there's no issue - you can use OLS to estimate a model with interaction terms, just like normal.  However, as we have seen, there are important differences when it comes to the _interpretation_ of these models.  Let's learn more about this in this worksheet.\n",
    "\n",
    "There are (in general) two ways to create interactions in R: (i) manually (i.e. creating a new variables which is $D_i \\times F_i$ then adding it to the regression), or (ii) using the built-in tools in R.  However, method (i) is a trap!  You should never use this method.  Why?  There are two reasons:\n",
    "\n",
    "1.  The main reason is that R (and you, the analyst) lose track of the relationship between the created interaction variable and the underlying variables.  This means that you can't use other tools to analyze these relationship (there are many packages such as ``margins`` which allow you to investigate complex interaction) which is a big loss.  You also can't perform post-regression analysis on the underlying variables in a simple way anymore.\n",
    "2.  The second reason is that it's easy to make mistakes.  You might define the interaction incorrectly (possible!).  However, it's more of an issue if later on you change the underlying variables and then forget to re-compute the interactions.  It also makes your code harder to read.\n",
    "\n",
    "Bottom line: don't do it.  Interaction in R are easy to create: you simply use the ``:`` or ``*`` operator when defining an interaction term.  \n",
    "\n",
    "* The ``:`` operator creates the interaction(s) of the two variables in question\n",
    "* The ``*`` operation creates the interactions(s) _and_ the main effects of the variables as well\n",
    "\n",
    "Even better: if you are interacting two qualitative (factor) variables, it will automatically \"expand\" the interaction into every possible combination of the variables.  A lot less work!\n",
    "\n",
    "For example, let's look at a regression model which interacts gender and education. Before we run regression, let's first summarize education into 'university' and 'non-university'."
   ]
  },
  {
   "cell_type": "code",
   "execution_count": null,
   "id": "1319d5a8-5cc1-46c8-9d45-022825f9058e",
   "metadata": {
    "pycharm": {
     "name": "#%%\n"
    },
    "vscode": {
     "languageId": "r"
    }
   },
   "outputs": [],
   "source": [
    "SFS_data <- SFS_data %>% #cretes a Education dummy variable\n",
    "               mutate( \n",
    "               Education = case_when(\n",
    "                     education == \"University\" ~ \"University\", #the ~ seperates the original from the new name\n",
    "                     education == \"Non-university post-secondary\" ~ \"Non-university\",\n",
    "                     education == \"High school\" ~ \"Non-university\",\n",
    "                     education == \"Less than high school\" ~ \"Non-university\")) %>%\n",
    "             mutate(Education = as_factor(Education)) #remember, it's a factor!"
   ]
  },
  {
   "cell_type": "code",
   "execution_count": null,
   "id": "2dc0e7fb-00bc-4b8d-aeb2-15adb8b5a3ab",
   "metadata": {
    "pycharm": {
     "name": "#%%\n"
    },
    "vscode": {
     "languageId": "r"
    }
   },
   "outputs": [],
   "source": [
    "regression1 <- lm(wealth ~ gender + Education + gender:Education, data = SFS_data)\n",
    "\n",
    "#regression1 <- lm(wealth ~ gender*Education, data = SFS_data) #an alternative way to run the same regression\n",
    "\n",
    "summary(regression1)"
   ]
  },
  {
   "cell_type": "markdown",
   "id": "1aaebad0-7305-4a89-a7fe-8eded9d46213",
   "metadata": {
    "pycharm": {
     "name": "#%% md\n"
    }
   },
   "source": [
    "There are a few important things to notice about this regression result.  First, take a close look at the terms:\n",
    "\n",
    "* ``genderFemale`` this is the main effect for being a female.  You _might_ immediately say that this is the impact of being a female - but this is _not true_.  Why?  Because female shows up in two places!  We have to be a little more careful - this is the effect of being a female in the base group (non-university) \n",
    "* ``genderFemale:EducationUniversity`` this is the interaction effect of being a female and having a university degree.  Basically, family with female (university degree) as main earner accumulates $143,396+324,112=467,508$ less wealth, compared with male counterpart.\n",
    "\n",
    "You can see this interpretation in the regression model itself:\n",
    "\n",
    "$$W_i = \\beta_0 + \\beta_1 F_i + \\beta_2 D_i + \\beta_3 F_i \\times D_i + \\epsilon_i$$\n",
    "\n",
    "Consider:\n",
    "\n",
    "$$\\frac{\\Delta W_i}{\\Delta F_i} = \\beta_1 + \\beta_3 D_i$$\n",
    "\n",
    "The marginal effect of being a female-lead household _changes_ depending on what the value of $D_i$ is!  For non-university degree (the level where $D_i = 0$) it's $\\beta_1$.  For university degree (the level where $D_i =1$), it's $\\beta_1 + \\beta_3$.  This is why, in an interaction model, it doesn't really make sense to talk about the \"effect of female\" - because there isn't a single, immutable effect.  It is different for different education degrees!\n",
    "\n",
    "You can talk about the _average_ effect, which is just $\\beta_1 + \\beta_3 \\bar{D_i}$ - but that's not really what people are asking about when they are discussing the gender effect, in general.\n",
    "\n",
    "This is why it's very important to carefully think about a regression model with interaction terms - the model may seem simple to estimate, but the interpretation is more complex.\n",
    "\n",
    "### Interactions with Continuous Variables\n",
    "\n",
    "So far, we have just looked at interacting qualitative variables - but you can interact any types of variables!\n",
    "\n",
    "* Qualitative-Qualitative\n",
    "* Qualitative-Quantitative\n",
    "* Quantitative-Quantitative\n",
    "\n",
    "The format and syntax in R is similar, with some small exceptions to deal with certain combinations of variables.  However (again), you do need to be careful with interpretation.\n",
    "\n",
    "For example, let's look at the interaction of income and sex on wealth.  In a regression equation, this would be expressed like:\n",
    "\n",
    "$$W_i = \\beta_0  + \\beta_1 Income_i + \\beta_2 F_i + \\beta_3 Income_i \\times F_i + \\epsilon_i$$\n",
    "\n",
    "Notice that, just like before:\n",
    "\n",
    "$$\\frac{\\partial W_i}{\\partial Income_i} = \\beta_1 + \\beta_3 F_i$$\n",
    "\n",
    "There are two _different_ \"slope\" coefficients; basically, male and female lead family can have a different return to wealth.  Let's see this in R:"
   ]
  },
  {
   "cell_type": "code",
   "execution_count": null,
   "id": "fc03b30d-6d8e-49dd-919c-c6b4ea387cc5",
   "metadata": {
    "pycharm": {
     "name": "#%%\n"
    },
    "vscode": {
     "languageId": "r"
    }
   },
   "outputs": [],
   "source": [
    "regression2 <- lm(wealth ~ income_before_tax + gender + income_before_tax:gender, data = SFS_data)\n",
    "\n",
    "summary(regression2)"
   ]
  },
  {
   "cell_type": "markdown",
   "id": "c66fad0a-4c27-49f5-bb21-5f01e70d8288",
   "metadata": {
    "pycharm": {
     "name": "#%% md\n"
    }
   },
   "source": [
    "As we can see here, the female-lead households in our model accumulate about 3.946 dollars more in wealth per dollar of income earned than male-lead respondents. But female-lead households accumulate 343,300 dollars less than male counterparts. So the overall effects depend on average income before tax. \n",
    "\n",
    "This addresses the common problem of estimating a regression model where you think the impact of a continuous variable might be different across the two groups.  One approach would be to run the model only for men, and only for women, and then compare - but this isn't a good idea.  Those regressions have a much smaller sample size, and if you have other controls in the model, you will \"throw away\" information.  The interaction method is much better."
   ]
  },
  {
   "cell_type": "markdown",
   "id": "03d1828a-81d4-4462-b5ff-168cc4aaba8d",
   "metadata": {
    "pycharm": {
     "name": "#%% md\n"
    }
   },
   "source": [
    "## Part 2: Non-linear Terms in Regression Models\n",
    "\n",
    "You might have been puzzled by why these models were called \"linear\" regressions.  The reason is because they are linear in the _coefficients_: the dependent variable is expressed as a linear combination of the explanatory variables.\n",
    "\n",
    "This implies that we can use the same methods (OLS) to estimate models that including linear combinations of _non-linear functions_ of the explanatory variables.  We have actually already seen an example of this: remember using ``log`` of a variable?  That's a non-linear function!\n",
    "\n",
    "As we learned when considering ``log``, the most important difference here is again regarding interpretations, not the actual estimation.\n",
    "\n",
    "In R, there is one small complication: when you want to include mathematical expressions in a model formula, you need to \"isolate\" then using the ``I()`` function.  This is because many operations in R, like ``+`` or ``*`` have a special meaning in a regression model.\n",
    "\n",
    "For example, let's consider a quadratic regression - that is, including both $Income_i$ and $Income_i^2$ (income squared) in our model."
   ]
  },
  {
   "cell_type": "code",
   "execution_count": null,
   "id": "cfbd9629-2343-46cf-9e07-d5c1fe79435d",
   "metadata": {
    "pycharm": {
     "name": "#%%\n"
    },
    "vscode": {
     "languageId": "r"
    }
   },
   "outputs": [],
   "source": [
    "regression3 <- lm(wealth ~ income_before_tax + I(income_before_tax^2), data = SFS_data)\n",
    "\n",
    "summary(regression3)"
   ]
  },
  {
   "cell_type": "markdown",
   "id": "de30d431-37bc-4ad4-bbbf-1661ea24c70c",
   "metadata": {
    "pycharm": {
     "name": "#%% md\n"
    }
   },
   "source": [
    "As you can see, we get regression results much like we would expect.  However, how do we interpret them?  The issue is that _income_ enters into two places.  We need to carefully interpret this model, using our knowledge of the equation:\n",
    "\n",
    "$$W_i = \\beta_0 + \\beta_1 Income_i + \\beta_2 Income_i^2 + \\epsilon_i$$\n",
    "\n",
    "$$\\implies \\frac{\\partial W_i}{\\partial Income_i} = \\beta_1 + 2 \\beta_2 Income_i$$\n",
    "\n",
    "You will notice something special about this; the marginal effect is _non-linear_. As $Income_i$ changes, the effect of income on $W_i$ changes. This is because we have estimated a quadratic relationship; the slope of a quadratic changes as the explanatory variable changes. That's what we're seeing here!\n",
    "\n",
    "This makes these models relatively difficult to interpret, since the marginal effects change (often dramatically) as the explanatory variables change. You frequently need to carefully interpret the model and often (to get estimates) perform tests on _combinations_ of coefficients, which can be done using things like the ``car`` package or the ``lincom`` function.  You can also compute this manually, using the formula for the sum of variances.\n",
    "\n",
    "For example, let's test if the marginal effect of income is significant at $Income_i = \\overline{Income}_i$.  This is the most frequently reported version of this effects, often called the \"marginal effect at the means\"."
   ]
  },
  {
   "cell_type": "code",
   "execution_count": null,
   "id": "150f70dd-6cc8-416c-bada-79519ed42f17",
   "metadata": {
    "pycharm": {
     "name": "#%%\n"
    },
    "vscode": {
     "languageId": "r"
    }
   },
   "outputs": [],
   "source": [
    "m <- mean(SFS_data$income_before_tax)\n",
    "\n",
    "linearHypothesis(regression3, hypothesis.matrix = c(0, 1, 2*m), rhs=0) "
   ]
  },
  {
   "cell_type": "markdown",
   "id": "90c825c5-eaba-40aa-b5f0-33876c91b599",
   "metadata": {
    "pycharm": {
     "name": "#%% md\n"
    }
   },
   "source": [
    "As we can see, it is highly significant\n",
    "\n",
    "> _Think Deeper_: what is the vector ``c(0, 1, 2*m)`` doing in the above expression?\n",
    "\n",
    "Let's see exactly what those values are.  Recall the formula:\n",
    "\n",
    "$$V(aX + bY) = a^2 V(X) + b^2 V(Y) + 2abCov(X,Y)$$\n",
    "\n",
    "In our situation, $X = Y = W_i$, so this is:\n",
    "\n",
    "$$V(\\beta_1 + 2\\bar{W_i}\\beta_2) = V(\\beta_1) + 4\\bar{W_i}^2V(\\beta_2) + 2(2\\bar{W_i})Cov(\\beta_1,\\beta_2)$$\n",
    "\n",
    "Fortunately, these are all things we have from the regression and its variance-covariance matrix:"
   ]
  },
  {
   "cell_type": "code",
   "execution_count": null,
   "id": "343e7798-e135-42c9-8ca1-e74a56798ec1",
   "metadata": {
    "pycharm": {
     "name": "#%%\n"
    },
    "vscode": {
     "languageId": "r"
    }
   },
   "outputs": [],
   "source": [
    "v <- vcov(regression3)\n",
    "coefs <- regression3$coefficients\n",
    "v\n",
    "\n",
    "var <- v[2,2] + 4*(m^2)*v[3,3] + 4*m*v[3,2]\n",
    "\n",
    "var\n",
    "\n",
    "coef <-  coefs[[2]] + 2*m*coefs[[3]]\n",
    "\n",
    "print(\"Coefficent Combination and SD\")\n",
    "round(coef,3)\n",
    "round(sqrt(var),3)"
   ]
  },
  {
   "cell_type": "markdown",
   "id": "ac40d80f-1849-4abb-ad34-008e502be16a",
   "metadata": {
    "pycharm": {
     "name": "#%% md\n"
    }
   },
   "source": [
    "As you can see, this gets fairly technical and is not something you will want to do without a very good reason.  In general, it's a better idea to rely on some of the packages written for R that handle this task for the (specific) model you are interested in evaluating.\n",
    "\n",
    "### Aside: Why Polynomial Terms?\n",
    "\n",
    "You might be wondering why econometricians spend so much time talking about models that included polynomial terms, when those are (realistically) a very small set of the universe of possible functions of an explanatory variable (you already know why we talk about ``log`` so much!).  \n",
    "\n",
    "The reason is actually approximation.  Consider the following _non-linear_ model:\n",
    "\n",
    "$$Y_i = f(X_i) + e_i$$\n",
    "\n",
    "This model is truly non-linear (and not just in terms of the parameters).  How can we estimate this model?  It's hard!  There are techniques to estimate complex models like this, but how far can we get with good-old OLS?  The answer is - provided that $f$ is \"smooth\" - pretty far.\n",
    "\n",
    "Think back to introductory calculus; you might remember a theorem called [Taylor's Theorem](https://en.wikipedia.org/wiki/Taylor%27s_theorem).  It says that a smoothly differentiable function can be arbitrarily well-approximated (about a point) by a polynomial expansion:\n",
    "\n",
    "$$f(x) = f(a) + f'(a)(x-a) + \\frac{f''(a)}{2!}(x-a)^2 + \\cdots + \\frac{f^{(k)}(a)}{k!}(x-a)^k + R_k(x)$$\n",
    "\n",
    "and the error term $R_k(x) \\to 0$ as $x \\to a$ and $k \\to \\infty$.\n",
    "\n",
    "Look closely at this expression.  Most of the terms (like $f'(a)$) are constants.  In fact, you can show that this can be written like:\n",
    "\n",
    "$$f(x) = \\beta_0 + \\beta_1 x + \\beta_2 x^2 + \\cdots + \\beta_k x^k + r$$\n",
    "\n",
    "Putting this into our expression above gives us the relationship:\n",
    "\n",
    "$$Y_i = \\beta_0 + \\beta_1 X_i + \\beta_2 X_i^2 + \\cdots + \\beta_k X_i^k+ \\epsilon_i$$\n",
    "\n",
    "Which is a linear regression model!  What this say is actually very important: linear regression models can be viewed as _approximations_ to nonlinear regressions, provided we have enough polynomial terms.  This is one complication: the error term is definitely not uncorrelated.  You can learn more about how to address this issue in other courses, but at the most the omitted variable bias is relatively small as $k \\to \\infty$."
   ]
  },
  {
   "cell_type": "markdown",
   "id": "890515b9-23d9-4957-b545-65a685dc1af1",
   "metadata": {
    "pycharm": {
     "name": "#%% md\n"
    }
   },
   "source": [
    "## Part 3: Exercises\n",
    "\n",
    "In this set of exercises, you will get some hands-on experience with estimating and interpreting non-linear regression models, as well as learning to scrutinize multiple regression models for their limitations. \n",
    "\n",
    "### Activity 1"
   ]
  },
  {
   "cell_type": "markdown",
   "id": "71cc13c4-88de-4288-9900-9aedf41bbf49",
   "metadata": {
    "pycharm": {
     "name": "#%% md\n"
    }
   },
   "source": [
    "Consider the following regression model:"
   ]
  },
  {
   "cell_type": "markdown",
   "id": "fe70e39b-fece-481f-95f5-5888672a0fdc",
   "metadata": {
    "pycharm": {
     "name": "#%% md\n"
    }
   },
   "source": [
    "\\begin{equation}\n",
    "W_i = \\beta_1 + \\beta_2 F_i + \\beta_3 E_i + \\beta_4 P_i + \\beta_5 F_i\\times E_i + \\beta_6 F_i \\times P_i + \\epsilon_i\n",
    "\\end{equation}\n",
    "\n",
    "$W_i$ denotes wealth, $F_i$ is a dummy variable for the gender of main earner in the household ($F_i=1$ if female is the main earner), $E_i$ is a factor variable for education and $P_i$ is a factor variable for province.\n",
    "\n",
    "### Short Answer 1\n",
    "<em>Prompt:</em> How should we interpret the coefficients $\\beta_5$ and $\\beta_6$? Why might these effects be important to estimate?"
   ]
  },
  {
   "cell_type": "markdown",
   "id": "100503b8-7d78-4b54-8266-ae5224954a6b",
   "metadata": {
    "pycharm": {
     "name": "#%% md\n"
    }
   },
   "source": [
    "<font color = \"red\">Answer here in red</font>"
   ]
  },
  {
   "cell_type": "markdown",
   "id": "11edeb02-1aa2-486b-b1f8-1901c6aa0108",
   "metadata": {
    "pycharm": {
     "name": "#%% md\n"
    }
   },
   "source": [
    "Now, let's estimate the model and interpret it concretely. (Please follow the order of variables in regression model: \n",
    "\n",
    "```\n",
    "reg1 <- gender, Education, province\n",
    "\n",
    "reg0 <- gender, education, province\n",
    "```\n",
    "\n",
    "What are your interaction variables? (remember to follow the same order)"
   ]
  },
  {
   "cell_type": "code",
   "execution_count": null,
   "id": "336576fd-45fa-4bb4-b01d-29c33ee046ad",
   "metadata": {
    "pycharm": {
     "name": "#%%\n"
    },
    "vscode": {
     "languageId": "r"
    }
   },
   "outputs": [],
   "source": [
    "\n",
    "\n",
    "#Quiz 1\n",
    "reg1 <- lm(???, data = SFS_data)\n",
    "reg0 <- lm(???, data = SFS_data)\n",
    "\n",
    "summary(reg1)\n",
    "summary(reg0)\n",
    "\n",
    "test_1() #quiz1\n"
   ]
  },
  {
   "cell_type": "markdown",
   "id": "a8b66bc9-7d83-472b-9b0f-2bb2d5fb5f21",
   "metadata": {
    "pycharm": {
     "name": "#%% md\n"
    }
   },
   "source": [
    "### Short Answer 2\n",
    "<em>Prompt:</em> How do we interpret the coefficient estimate on ``gender:Education``? What education level do female-lead households appear to be most discriminated in? How might we explain this intuitively?"
   ]
  },
  {
   "cell_type": "markdown",
   "id": "d9cc8f56-e792-4aa2-9400-8ee51736263f",
   "metadata": {
    "pycharm": {
     "name": "#%% md\n"
    }
   },
   "source": [
    "<font color = \"red\">Answer here in red</font>"
   ]
  },
  {
   "cell_type": "markdown",
   "id": "7023aa13-a4a1-4174-aa1a-4665bda586a9",
   "metadata": {
    "pycharm": {
     "name": "#%% md\n"
    }
   },
   "source": [
    "### Short Answer 3\n",
    "<em>Prompt:</em> How do you interpret the coefficient estimate on ``genderFemale:provinceAlberta``? (Hint: Write out the average wealth equations for female, male in Alberta, and female in Alberta separately.)"
   ]
  },
  {
   "cell_type": "markdown",
   "id": "e9f91e5c-dc39-41f4-9d57-d7595a214f15",
   "metadata": {
    "pycharm": {
     "name": "#%% md\n"
    }
   },
   "source": [
    "<font color = \"red\">Answer here in red</font>"
   ]
  },
  {
   "cell_type": "markdown",
   "id": "0f2287d1-6dd5-4e8a-b6cb-4500550a679a",
   "metadata": {
    "pycharm": {
     "name": "#%% md\n"
    }
   },
   "source": [
    "Now let's test whether the returns to education increase if people are entrepreneurs. `business` is a factor variable which suggests whether the household owns a business. Please add terms to the regression equation that allow us to run this test. Then, estimate this new model. We don't need `province` and `gender` variables in this exercise. For education, please use `education` variable. And we will continue to study wealth accumulated in households."
   ]
  },
  {
   "cell_type": "code",
   "execution_count": null,
   "id": "477be4fa-6c2b-4491-b45f-ed9453c98789",
   "metadata": {
    "pycharm": {
     "name": "#%%\n"
    },
    "vscode": {
     "languageId": "r"
    }
   },
   "outputs": [],
   "source": [
    "\n",
    "#Quiz 2\n",
    "SFS_data$business <- relevel(SFS_data$business, ref = \"No\") #Do not change; makes \"not a business owner\" the reference level for business\n",
    "\n",
    "reg2 <- lm(???, data = SFS_data)\n",
    "\n",
    "summary(reg2)\n",
    "test_1.5() #quiz1"
   ]
  },
  {
   "cell_type": "markdown",
   "id": "93b5e759-9a65-4d82-9054-ff38bad47447",
   "metadata": {
    "pycharm": {
     "name": "#%% md\n"
    }
   },
   "source": [
    "### Short Answer 4\n",
    "<em>Prompt:</em> Do returns to education increase when people are entrepreneurs? Explain why or why not with reference to the regression estimates."
   ]
  },
  {
   "cell_type": "markdown",
   "id": "3bffd5c7-0cb4-4bc5-b876-f65f91546d5f",
   "metadata": {
    "pycharm": {
     "name": "#%% md\n"
    }
   },
   "source": [
    "<font color = \"red\">Answer here in red</font>"
   ]
  },
  {
   "cell_type": "markdown",
   "id": "118c68c2-6f8d-4ec5-be3d-7905a6e1c9df",
   "metadata": {
    "pycharm": {
     "name": "#%% md\n"
    }
   },
   "source": [
    "### Activity 2"
   ]
  },
  {
   "cell_type": "markdown",
   "id": "654f4a7b-51db-4a4a-bf69-01ad34f9daa8",
   "metadata": {
    "pycharm": {
     "name": "#%% md\n"
    }
   },
   "source": [
    "A topic that many labour economists are concerned with, and one that we have discussed before, is the gender-wage gap. In this activity, we will construct a \"difference-in-difference\" regression to explore this gap using the `SFS_data2`."
   ]
  },
  {
   "cell_type": "markdown",
   "id": "117f95a6-cb30-4e1f-a642-c91d38d03144",
   "metadata": {
    "pycharm": {
     "name": "#%% md\n"
    }
   },
   "source": [
    "Suppose that we want to estimate the relationship between age, sex and wages. Within this relationship, we suspect that women earn less than men from the beginning of their working lives, __but this gap does not change as workers age__.\n",
    "\n",
    "Estimate a regression model (with no additional control variables) that estimates this relationship using ``SFS_data2``. We will use `income_before_tax` variable. Order: list `gender` before `agegr`.\n",
    "\n",
    "<em>Tested Objects:</em> ``reg3A``.\n",
    "\n",
    "Let's first simplify levels of age group using following codes."
   ]
  },
  {
   "cell_type": "code",
   "execution_count": null,
   "id": "2a066692-be8b-44f5-9253-2a2b60a2b57e",
   "metadata": {
    "pycharm": {
     "name": "#%%\n"
    },
    "vscode": {
     "languageId": "r"
    }
   },
   "outputs": [],
   "source": [
    "#Some Data cleaning, Just run this!\n",
    "SFS_data <- \n",
    "        SFS_data %>%\n",
    "        mutate(agegr = case_when(\n",
    "              age == \"01\" ~ \"Under 30\", #under 20\n",
    "              age == \"02\" ~ \"Under 30\", #20-24\n",
    "              age == \"03\" ~ \"20s\", #25-29\n",
    "              age == \"04\" ~ \"30s\",\n",
    "            age == \"05\" ~ \"30s\",\n",
    "              age == \"06\" ~ \"40s\",\n",
    "              age == \"07\" ~ \"40s\",\n",
    "              age == \"08\" ~ \"50s\",\n",
    "              age == \"09\" ~ \"50s\",\n",
    "              age == \"10\" ~ \"60s\", #60-64\n",
    "              age == \"11\" ~ \"Above 65\", #65-69\n",
    "              age == \"12\" ~ \"Above 65\", #70-74\n",
    "              age == \"13\" ~ \"Above 75\", #75-79\n",
    "              age == \"14\" ~ \"Above 75\", #80 and above\n",
    "              )) %>%\n",
    "        mutate(agegr = as_factor(agegr))\n",
    "\n",
    "SFS_data$agegr <- relevel(SFS_data$agegr, ref = \"Under 30\") #Set \"Under 30\" as default factor level"
   ]
  },
  {
   "cell_type": "markdown",
   "id": "23ddb9ba-793d-4930-8788-7d44eda1b4a6",
   "metadata": {
    "pycharm": {
     "name": "#%% md\n"
    }
   },
   "source": [
    "Let's restrict the sample to main working groups. Just run the following line."
   ]
  },
  {
   "cell_type": "code",
   "execution_count": null,
   "id": "56de77b2-7995-4605-96b6-a6096a7b2778",
   "metadata": {
    "pycharm": {
     "name": "#%%\n"
    },
    "vscode": {
     "languageId": "r"
    }
   },
   "outputs": [],
   "source": [
    "SFS_data2 <- subset(SFS_data, agegr == \"20s\" | agegr == \"30s\" | agegr == \"40s\" | agegr == \"50s\" | agegr == \"60s\" )"
   ]
  },
  {
   "cell_type": "code",
   "execution_count": null,
   "id": "13982cf3-1af7-44a5-aabe-5a36c07fec4b",
   "metadata": {
    "pycharm": {
     "name": "#%%\n"
    },
    "vscode": {
     "languageId": "r"
    }
   },
   "outputs": [],
   "source": [
    "\n",
    "#Quiz 3\n",
    "SFS_data2$agegr <- relevel(SFS_data2$agegr, ref = \"20s\") #Do not change; makes \"20s\" the reference level for age\n",
    "\n",
    "reg3A <- lm(???, data = SFS_data2)\n",
    "\n",
    "summary(reg3A)\n",
    "\n",
    "test_2() #quiz3"
   ]
  },
  {
   "cell_type": "markdown",
   "id": "dd007376-05a1-42a7-8a68-6260016c7517",
   "metadata": {
    "pycharm": {
     "name": "#%% md\n"
    }
   },
   "source": [
    "### Short Answer 5\n",
    "<em>Prompt:</em> What is the relationship between age and wages? Between sex and earnings? Is there a significant wage gap? Why might the regression above not give us the \"full picture\" of the sex wage gap?"
   ]
  },
  {
   "cell_type": "markdown",
   "id": "0550e82f-5ac0-432f-823d-ce096740e620",
   "metadata": {
    "pycharm": {
     "name": "#%% md\n"
    }
   },
   "source": [
    "<font color = \"red\">Answer here in red</font>"
   ]
  },
  {
   "cell_type": "markdown",
   "id": "208eb12b-0562-423d-b3d3-d6d6e43beca6",
   "metadata": {
    "pycharm": {
     "name": "#%% md\n"
    }
   },
   "source": [
    "Estimate the relationship between wages and age for male-lead households and female-lead households separately, then compare their returns to age. Let's continue to use `income_before_tax`\n",
    "\n",
    "<em>Tested objects:</em> ``reg3M`` (for males), ``reg3F`` (for females)."
   ]
  },
  {
   "cell_type": "code",
   "execution_count": null,
   "id": "27830afe-ee57-4165-9189-f9bf6e52a2cc",
   "metadata": {
    "pycharm": {
     "name": "#%%\n"
    },
    "vscode": {
     "languageId": "r"
    }
   },
   "outputs": [],
   "source": [
    "\n",
    "#Quiz 4\n",
    "reg3M <- lm(..., data = filter(SFS_data2, gender == \"Male\"))\n",
    "reg3F <- lm(..., data = filter(SFS_data2, gender == \"Female\"))\n",
    "\n",
    "summary(reg3M)\n",
    "summary(reg3F)\n",
    "\n",
    "test_3()\n",
    "test_4() #quiz4"
   ]
  },
  {
   "cell_type": "markdown",
   "id": "d3eee720-c95a-4671-9c24-fd514f2a942f",
   "metadata": {
    "pycharm": {
     "name": "#%% md\n"
    }
   },
   "source": [
    "### Short Answer 6\n",
    "<em>Prompt:</em> Do these regression estimates support your argument from Short Answer 5? Explain."
   ]
  },
  {
   "cell_type": "markdown",
   "id": "27fe30cd-cfe2-490b-8dff-86137c07a76d",
   "metadata": {
    "pycharm": {
     "name": "#%% md\n"
    }
   },
   "source": [
    "<font color = \"red\">Answer here in red</font>"
   ]
  },
  {
   "cell_type": "markdown",
   "id": "ac091dac-d8c4-419c-bd43-18cceba4c786",
   "metadata": {
    "pycharm": {
     "name": "#%% md\n"
    }
   },
   "source": [
    "Add one additional term to the multiple regression from Quiz 3 that accounts for the possibility that the sex wage gap can change as workers age. Please list gender before age.\n",
    "\n",
    "<em>Tested Objects:</em> ``reg4``."
   ]
  },
  {
   "cell_type": "code",
   "execution_count": null,
   "id": "ff38a2a5-ce34-4a93-95ed-0379f77883a7",
   "metadata": {
    "pycharm": {
     "name": "#%%\n"
    },
    "vscode": {
     "languageId": "r"
    }
   },
   "outputs": [],
   "source": [
    "\n",
    "#Quiz 5\n",
    "reg4 <- lm(???, data = SFS_data2)\n",
    "\n",
    "summary(reg4)\n",
    "\n",
    "test_5() #quiz5"
   ]
  },
  {
   "cell_type": "markdown",
   "id": "df92abc4-8f6b-4b7e-bee7-c9743c2f34bc",
   "metadata": {
    "pycharm": {
     "name": "#%% md\n"
    }
   },
   "source": [
    "### Short Answer 7\n",
    "<em>Prompt:</em> According to the regression you estimated above, what is the nature of the sex wage gap?"
   ]
  },
  {
   "cell_type": "markdown",
   "id": "a33a536c-936b-43f6-9972-ae146df6bf34",
   "metadata": {
    "pycharm": {
     "name": "#%% md\n"
    }
   },
   "source": [
    "<font color = \"red\">Answer here in red</font>"
   ]
  },
  {
   "cell_type": "markdown",
   "id": "c92c5313-b1e7-42ec-8de1-85455bf04a28",
   "metadata": {
    "pycharm": {
     "name": "#%% md\n"
    }
   },
   "source": [
    "### Theoretical Activity 1"
   ]
  },
  {
   "cell_type": "markdown",
   "id": "8235e0c6-bd0a-4949-bb10-2575459d3c40",
   "metadata": {
    "pycharm": {
     "name": "#%% md\n"
    }
   },
   "source": [
    "Suppose that a team of researchers is interested in the relationship between the price of a popular children's chocolate brand (let's call it \"Jumbo Chocolate Egg\") and its demand. The team conducts a series of surveys over a five-year period where they ask 200 households in a Vancouver neighborhood to report how many packs of Jumbo Chocolate Egg they bought in each quarter of the year. The company that produces Jumbo Chocolate Egg is interested in estimating the price elasticity of demand for their chocolate, so they changed the price of a pack of chocolate each quarter over this period. This survey is voluntary - the team went door-to-door to gather the data, and people could refuse to participate.\n",
    "\n",
    "After they compile a dataset from the survey responses, the team estimates this model:\n",
    "\n",
    "$$Q_i^2 = \\alpha_1 + \\alpha_2 ln(P_i) + \\alpha_3 H_i + \\epsilon_i$$\n",
    "\n",
    "$Q_i$ denotes the quantity of chocolate packs that household i purchased in a given quarter of a given year. That is, each quarter for a given household is a separate observation. $P_i$ is the price of the pack of chocolate in the given quarter, and $H_i$ is the household size (in number of people). Note that $\\hat{\\alpha_2}$ is <em>supposed to be</em> the estimated elasticity of demand.\n",
    "\n",
    "You join the team as a research advisor - in other words, you get to criticize their project and get paid doing so. Sounds great, but you have a lot of work ahead."
   ]
  },
  {
   "cell_type": "markdown",
   "id": "97c1de3c-8496-4179-8369-fbbf608c00d2",
   "metadata": {
    "pycharm": {
     "name": "#%% md\n"
    }
   },
   "source": [
    "### Short Answer 8\n",
    "<em>Prompt:</em> Are there any omitted variables that the team should be worried about when estimating the model? Give 2 examples of such variables if so, and explain how each variable's omission could affect the estimated elasticity of demand using the formula that we discussed in class."
   ]
  },
  {
   "cell_type": "markdown",
   "id": "f61015c7-01b1-4cce-bbb9-ef2b90cecf88",
   "metadata": {
    "pycharm": {
     "name": "#%% md\n"
    }
   },
   "source": [
    "<font color = \"red\">Answer here in red</font>"
   ]
  },
  {
   "cell_type": "markdown",
   "id": "3eccb205-3ea4-45e7-b2df-01269a7abd66",
   "metadata": {
    "pycharm": {
     "name": "#%% md\n"
    }
   },
   "source": [
    "### Short Answer 9\n",
    "<em>Prompt:</em> Is there anything wrong with the specification of the regression model? If so, explain how to correct it; if not, explain why the specification is correct."
   ]
  },
  {
   "cell_type": "markdown",
   "id": "16a328ce-8aef-4e31-b37c-dd3cf8b5803f",
   "metadata": {
    "pycharm": {
     "name": "#%% md\n"
    }
   },
   "source": [
    "<font color = \"red\">Answer here in red</font>"
   ]
  },
  {
   "cell_type": "markdown",
   "id": "34758f48-53bd-4bdd-afdd-17fb848c93bc",
   "metadata": {
    "pycharm": {
     "name": "#%% md\n"
    }
   },
   "source": [
    "### Short Answer 10\n",
    "<em>Prompt:</em> Is there any potential for sample selection bias in this study? Explain by referencing specific aspects of the experiment. What effect might this bias have on the estimated elasticity of demand?"
   ]
  },
  {
   "cell_type": "markdown",
   "id": "12dd66d8-b833-41df-aed6-b2d233a50642",
   "metadata": {
    "pycharm": {
     "name": "#%% md\n"
    }
   },
   "source": [
    "<font color = \"red\">Answer here in red</font>"
   ]
  },
  {
   "cell_type": "markdown",
   "id": "e7186718-f40f-4be8-9727-56c74d2902b0",
   "metadata": {
    "pycharm": {
     "name": "#%% md\n"
    }
   },
   "source": [
    "### Short Answer 11"
   ]
  },
  {
   "cell_type": "markdown",
   "id": "56b794f8-a595-48f7-b0d0-9fd1f178221a",
   "metadata": {
    "pycharm": {
     "name": "#%% md\n"
    }
   },
   "source": [
    "<em>Prompt:</em> A member of your team writes in the research report that \"this estimated elasticity of demand tells us about the preferences of consumers around Canada.\" Do you have an issue with this statement? Why or why not?"
   ]
  },
  {
   "cell_type": "markdown",
   "id": "c0a91110-e728-4e78-a477-2c645383c82b",
   "metadata": {
    "pycharm": {
     "name": "#%% md\n"
    }
   },
   "source": [
    "<font color = \"red\">Answer here in red</font>"
   ]
  }
 ],
 "metadata": {
  "kernelspec": {
   "display_name": "R",
   "language": "R",
   "name": "ir"
  },
  "language_info": {
   "codemirror_mode": "r",
   "file_extension": ".r",
   "mimetype": "text/x-r-source",
   "name": "R",
   "pygments_lexer": "r",
   "version": "4.1.1"
  }
 },
 "nbformat": 4,
 "nbformat_minor": 5
}
