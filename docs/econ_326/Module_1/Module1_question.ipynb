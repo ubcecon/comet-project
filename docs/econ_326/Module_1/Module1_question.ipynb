{
 "cells": [
  {
   "cell_type": "markdown",
   "metadata": {
    "pycharm": {
     "name": "#%% md\n"
    }
   },
   "source": [
    "# ECON 326: Introduction to Basic Statistics using Jupyter\n",
    "\n",
    "* **Authors**: COMET Team (Emrul Hasan, Jonah Heyl, Shiming Wu, Anneke Dresselhuis, Jonathan Graves, William Co)\n",
    "* **Last Updated**: 8 December 2022\n",
    "---\n",
    "\n",
    "## Outline\n",
    "\n",
    "### Prerequisites\n",
    "* Introduction to Jupyter \n",
    "* Introduction to R\n",
    "\n",
    "### Outcomes\n",
    "After completing this worksheet, you will be able to\n",
    "\n",
    "* Import and load data into R\n",
    "* Create and customize plots in R\n",
    "* Compute and visualize descriptive statistics from data\n",
    "* Perform a t-test in R"
   ]
  },
  {
   "cell_type": "markdown",
   "metadata": {
    "pycharm": {
     "name": "#%% md\n"
    }
   },
   "source": [
    "## Part 1: Introduction to R and Jupyter\n",
    "\n",
    "\n",
    "In this tutorial, we will be working with some real-world data: the 2019 Survey of Financial Security, provided by Statistics Canada[<sup id=\"fn1s\">1</sup>](#fn1). First, we will import data into our notebook. We are going to give a brief review of some of the features of R (feel free to skip this if you are already familiar with R or review the introduction notebooks if you are in need of a more comprehensive review).\n",
    "In R, we import data using different commands, which are stored in **libraries** that other developers of R have created for us.  Let's import some of the most important libraries now.  \n",
    "\n",
    "We can do this in a Jupyter notebook by selecting a cell and hitting `shift+enter` or by pressing the `play` button in the menu.\n",
    "\n",
    "> **Important**: information is stored in cells in a notebook.  However, cells run independently; so, if you run a later cell it doesn't re-evaluate previous cells.  You have to re-run them before you can use the results.  You can re-run all the cells in a notebook with the \"fast forward\" button.\n",
    "\n",
    "\n",
    "\n",
    "Try loading some of the packages into memory by running the following cell."
   ]
  },
  {
   "cell_type": "code",
   "execution_count": null,
   "metadata": {
    "collapsed": false,
    "jupyter": {
     "outputs_hidden": false
    },
    "pycharm": {
     "name": "#%%\n"
    }
   },
   "outputs": [],
   "source": [
    "# Run this cell to evaluate the code\n",
    "library(tidyverse)\n",
    "library(haven)\n",
    "library(dplyr)\n",
    "\n",
    "source(\"functions1.r\")\n",
    "\n",
    "#warning messages are okay"
   ]
  },
  {
   "cell_type": "markdown",
   "metadata": {
    "pycharm": {
     "name": "#%% md\n"
    }
   },
   "source": [
    "You have now imported the packages into memory, and they are available to use in subsequent cells.  You may also see some output, which tells you about how they have been imported.\n",
    "\n",
    "As an aside, in this course we try (as much as possible) to use R packages which are part of the [tidyverse](https://www.tidyverse.org/) family of packages.  This is because they are well-supported, consistent, and commonly used in data sciences.  There are (usually) other packages that provide similar functions.\n",
    "\n",
    "\n",
    "\n",
    "### Importing Data into R\n",
    "\n",
    "The first step in an econometric project is to import, tidy, and examine your data.  For this project, we will be using data from the 2019 Survey of Financial Security (SFS), provided by Statistics Canada (see the license notes).  This is _real data_ on real Canadians.\n",
    "\n",
    "In this course, we will always work with data that is **tidy**.  This is a data-science term that refers to data with a particular format or shape.  Specifically, tidy data is rectangular data in which:\n",
    "* Each row represents one observation\n",
    "* Each column represents a single variable\n",
    "\n",
    "You can imagine this as a spreadsheet in a program like Excel.  This is the way most statistical programs like to receive data - but it _isn't_ a property of the data itself.  It is only a representation; there can be other kinds of representations.  For example, a panel data set might have each row as a unit (e.g. country) and each column might represent a variable in a year (e.g. unemployment in 2016, unemployment in 2017, etc.).  Often, when we work with real-world data we have to reshape it in order for it to be usable - but in this course, we won't worry about that just yet.\n",
    "\n",
    "Data can be stored in many different file formats (which encode how information is stored), which must be interpreted by our statistical programs. For example, data files with a `.dta` are formatted for Stata,  data files with a `.csv` suffix are formatted as comma-seperated values, and data files with an `.Rda` suffix are formatted for R. This is referred to as **importing** data. There are different methods for importing data in different formats; for example:\n",
    "\n",
    "* `read_dta()`: Importing data from a ```.dta``` file: this is data that was created by the statistical software STATA and is commonly used in economics.\n",
    "* `read.csv()`: Importing data from a delimited text file: this is data which is in a text format, but where the columns are *delimited* or seperated by a special character.  For example, the ```.csv``` (comma-separated variable) format is text, but where the columns are separated by a comma.\n",
    "* `load()`: Importing data from an ```.Rda``` file: this is data that was created by the statistical software R and is commonly used in statistics.\n",
    "\n",
    "Each of these formats has a special **function** associated with it. Functions are commands, stored in R packages, that tell R to do things.  In fact, you've already seen one!  The ```library(...)``` function imports whatever package is in the brackets into memory.\n",
    "\n",
    "Let's start by importing our ```.dta``` file into memory, using the ```read_dta``` function.  When we read things into memory, we normally want to use them later, so we have to give them a name.  Let's call this ```SFS_data``` so we can refer to it later on."
   ]
  },
  {
   "cell_type": "code",
   "execution_count": null,
   "metadata": {
    "collapsed": false,
    "jupyter": {
     "outputs_hidden": false
    },
    "pycharm": {
     "name": "#%%\n"
    }
   },
   "outputs": [],
   "source": [
    "# read the file named \"SFS_2019_Eng.dta\" into memory, and assign it to the object SFS_data\n",
    "SFS_data <- read_dta(\"../datasets/SFS_2019_Eng.dta\")"
   ]
  },
  {
   "cell_type": "markdown",
   "metadata": {
    "pycharm": {
     "name": "#%% md\n"
    }
   },
   "source": [
    "### Viewing and Inspecting Data\n",
    "\n",
    "We have now imported our data into R. To better understand our data, the natural next step is to inspect and view it. We always do this immediately after loading in our data to make sure there are no unexpected features or problems with it. We will learn three of these commands:\n",
    "\n",
    "* ```head(...)```\n",
    "* ```print(...)```\n",
    "* ```glimpse(...)```\n",
    "\n",
    "Let's try these methods out to see what each one does!"
   ]
  },
  {
   "cell_type": "code",
   "execution_count": null,
   "metadata": {
    "collapsed": false,
    "jupyter": {
     "outputs_hidden": false
    },
    "pycharm": {
     "name": "#%%\n"
    }
   },
   "outputs": [],
   "source": [
    "head(SFS_data)"
   ]
  },
  {
   "cell_type": "code",
   "execution_count": null,
   "metadata": {
    "collapsed": false,
    "jupyter": {
     "outputs_hidden": false
    },
    "pycharm": {
     "name": "#%%\n"
    }
   },
   "outputs": [],
   "source": [
    "print(SFS_data)"
   ]
  },
  {
   "cell_type": "markdown",
   "metadata": {
    "pycharm": {
     "name": "#%% md\n"
    }
   },
   "source": [
    "You can use the following commands to know the detailed information of variables."
   ]
  },
  {
   "cell_type": "code",
   "execution_count": null,
   "metadata": {
    "pycharm": {
     "name": "#%%\n"
    }
   },
   "outputs": [],
   "source": [
    "# If you want to know more about the variables, you can input the name in dictionary().\n",
    "dictionary('pefatinc')\n",
    "\n",
    "str(SFS_data$pefatinc)"
   ]
  },
  {
   "cell_type": "markdown",
   "metadata": {},
   "source": [
    "Your turn! Try using the `glimpse()` function to check out the data. Store your answer in a variable called `answer00`"
   ]
  },
  {
   "cell_type": "code",
   "execution_count": null,
   "metadata": {},
   "outputs": [],
   "source": [
    "answer00 <- glimpse ??? #fill inthe code here.\n",
    "\n",
    "test_00()"
   ]
  },
  {
   "cell_type": "markdown",
   "metadata": {
    "pycharm": {
     "name": "#%% md\n"
    }
   },
   "source": [
    "Some important variables in this dataset:\n",
    "\n",
    "* ```pefmtinc```: income_before_tax\n",
    "* ```pefatinc```: income_after_tax\n",
    "* ```pwnetwpg```: wealth\n",
    "* ```pgdrmie```: gender\n",
    "* ```peducmie```: education\n"
   ]
  },
  {
   "cell_type": "markdown",
   "metadata": {
    "pycharm": {
     "name": "#%% md\n"
    }
   },
   "source": [
    "#### Accessing Variables and Data Frames\n",
    "\n",
    "If you recall, this dataset is _tidy_ in that each observation is a row, and each column is a variable.  In R, datasets are called *data frames* - this particular one is a special type of data frame called a _tibble_ (like, table).  We don't need to get into too many details about data frames, but basically they collect and organize all of the variables and observations.  Many functions in R need information to be organized into a data frame so that it can be computed.  You will see examples of these later on.\n",
    "\n",
    "One of the most important things to remember is that you can access the _variables_ in a dataframe in two ways:\n",
    "\n",
    "1.  First, you can use the `$` operator to directly access the variables\n",
    "2.  Second, within a command, you can tell the command what data you are working with, then refer to the variables by name.\n",
    "\n",
    "For example, if we wanted to get the `mean` of `pwnetwpg` (wealth) we could do it this way:"
   ]
  },
  {
   "cell_type": "code",
   "execution_count": null,
   "metadata": {
    "collapsed": false,
    "jupyter": {
     "outputs_hidden": false
    },
    "pycharm": {
     "name": "#%%\n"
    }
   },
   "outputs": [],
   "source": [
    "mean(SFS_data$pwnetwpg)"
   ]
  },
  {
   "cell_type": "markdown",
   "metadata": {
    "pycharm": {
     "name": "#%% md\n"
    }
   },
   "source": [
    "This says: get the variable ``pwnetwpg`` from the dataframe ``SFS_data``, then compute the mean.  In a command like ``filter`` you can tell the command to work with the data, and then refer to the variables just by their name.  "
   ]
  },
  {
   "cell_type": "markdown",
   "metadata": {},
   "source": [
    "Try it our yourself! What is the maximum value for education in this data set? (hint, try  the `max()` function) "
   ]
  },
  {
   "cell_type": "code",
   "execution_count": null,
   "metadata": {},
   "outputs": [],
   "source": [
    "answer0 <- max(...)???\n",
    "\n",
    "test_0() "
   ]
  },
  {
   "cell_type": "markdown",
   "metadata": {},
   "source": [
    "Often, we need to clean up data in order to use it.  One way is to _filter_ based on values"
   ]
  },
  {
   "cell_type": "code",
   "execution_count": null,
   "metadata": {
    "collapsed": false,
    "jupyter": {
     "outputs_hidden": false
    },
    "pycharm": {
     "name": "#%%\n"
    }
   },
   "outputs": [],
   "source": [
    "SFS_data <- filter(SFS_data, !is.na(SFS_data$pefmtinc))  \n",
    "# here we filter out the observations where before tax income is missing (or is a NA)"
   ]
  },
  {
   "cell_type": "markdown",
   "metadata": {},
   "source": [
    "We can also `rename` variables so that they have more sensible names (e.g. what is a `pgdrmie` anyways?):"
   ]
  },
  {
   "cell_type": "code",
   "execution_count": null,
   "metadata": {
    "collapsed": false,
    "jupyter": {
     "outputs_hidden": false
    },
    "pycharm": {
     "name": "#%%\n"
    }
   },
   "outputs": [],
   "source": [
    "SFS_data <- SFS_data %>%\n",
    "    rename(income_before_tax = pefmtinc) %>% # finally, we can rename columns, to be more meaningfull names, this is not nessary but is generally a good practice\n",
    "    rename(income_after_tax = pefatinc) %>%\n",
    "    rename(wealth = pwnetwpg) %>%\n",
    "    rename(gender = pgdrmie) %>%\n",
    "    rename(education = peducmie) "
   ]
  },
  {
   "cell_type": "markdown",
   "metadata": {},
   "source": [
    "You will notice that the code above looks a little different and uses the `%>%` operation.  This is called the **pipe operator**.  It is shorthard for \"insert whatever comes before into the first argument of what comes afer\" - kind of like a series a pipes, hence the name.  You can think of it as saying \"and then do\".\n",
    "\n",
    "For example, the line `SFS_data <- SFS_data %>% rename(income_before_tax = pefmtinc)` is the same as writing:\n",
    "\n",
    "```\n",
    "SFS_data <- rename(SFS_data, income_before_tax = pefmtinc)\n",
    "```\n",
    "\n",
    "This is particularly helpful when writing a \"chain\" of commands which modify or update data, since you don't have to keep writing `SFS_data <-` each time - making your code easier to write, read, and less prone to errors."
   ]
  },
  {
   "cell_type": "markdown",
   "metadata": {
    "pycharm": {
     "name": "#%% md\n"
    }
   },
   "source": [
    "## Part 2: The Wealth Gap in Female and Male-Led Households\n",
    "\n",
    "Now we can get started on our analysis. You may have heard people talk about the gender income/wealth gap in the news, politics or even other economics courses. For complex reasons that we won't get into here, women in many societies have historically and continue to experience economic inequality on the basis of their gender. In fact, many studies show that there is gender income gap and gender wealth gap, despite the fact that women are an important part of workforce. \n",
    "\n",
    "In this analysis, we'll be exploring a few of the following questions:\n",
    "What factors contribute to the gender gap? Here we are going to explore the wealth gap between male-led households and female-led households \n",
    "> In this context, a **male-led household** is a household in which a male earns the majority of the income and a **female-led household** is a household in which a female earns the majority of the income."
   ]
  },
  {
   "cell_type": "markdown",
   "metadata": {
    "tags": [
     "sidebar"
    ]
   },
   "source": [
    "<span style=\"color:#CC7A00\" > 🔎 **Let's think critically** </span>\n",
    "> 🟠 Note that in this dataset, sex and gender are used synonymously to describe two binary classes. In real life, a person's gender may not correspond to the sex assigned to them at birth, or even to a classification of sexual identity that exists in the view of Western hegemonic gender and sexuality tradition; as such, notions of sexuality and gender are best understood to exist on a spectrum rather than as a binary class.\\\n",
    "> 🟠 In the context of gender classification, what do you think are some ways that coding variables can reinforce exclusionary logics or dis/misrepresent certain people groups?\\\n",
    "> 🟠 What _other_ kinds of economic gender income or wealth gap questions are overlooked when we only look at differences between people who identify as [cisgendered](https://en.wikipedia.org/wiki/Cisgender) men and women?\\\n",
    "> 🟠 If you are interested in learning more about Statistics Canada's work in diversifying gender and sexual expression in the national census for 2021, you can read their [technical report on sex at birth and gender](https://www12.statcan.gc.ca/census-recensement/2021/ref/98-20-0002/982000022020002-eng.cfm) issued in July 2020.  "
   ]
  },
  {
   "cell_type": "markdown",
   "metadata": {},
   "source": [
    "With this in mind, we'll begin our analysis by asking ourselves: is there a significant gap between male-led household wealth and female-led household wealth? A different way to ask this is: given our data, what percent of the time would we except this gap to appear randomly? \n",
    "\n",
    "One way to evaluate this would be to ask: **if** there was no difference between these groups, how likely would the difference we measure in our data be?  This kind of hypothesis test describes a $p$-value, so first we will perform a $t$-test, to get this value. Now if this $p$-value indicates a significant gap in wealth, we can go on to ask what is causing this wealth gap.\n",
    "\n",
    "At a high level, there are a few things that can cause this wealth gap:\n",
    "\n",
    "1. **Difference in income** between male and female-led households.  \n",
    "2. **Difference in saving and investment habits** between male and female-led households (e.g., male-led households might take on more risk or holds less cash than female-led households). \n",
    "3. **Difference in inherited wealth** between male and female-led households (e.g., female-led households might inherit more wealth (regardless of income).\n",
    "4. **Difference in economic obstacles** faced by male and female-led households (e.g., female-led households might face additional obstacles in building wealth or accessing credit).\n",
    "\n",
    "> **Note**: these factors are not mutually exclusive - that is, lower income and less inheritance can have simultaneous affects on a person's wealth.\n",
    "\n",
    "We'll be exploring this topic for the next three modules. In this module, we'll see if there is a significant wealth gap, and what causes it, which may involve investigating the income gap between male and female-led households. First off, we're going to compute the average family wealth. Then we compute the average family wealth conditional on being a female lead household vs a male lead households. Next we will do a $t$-test to see if the wealth gap is significant. Finally, we will briefly investigate what is causing the wealth gap."
   ]
  },
  {
   "cell_type": "code",
   "execution_count": null,
   "metadata": {
    "collapsed": false,
    "jupyter": {
     "outputs_hidden": false
    },
    "pycharm": {
     "name": "#%%\n"
    }
   },
   "outputs": [],
   "source": [
    "mean(SFS_data$wealth) \n",
    "#this computes the sample mean of wealth from the SFS_data set\n",
    "#notice no more jargon! we just renamed it "
   ]
  },
  {
   "cell_type": "markdown",
   "metadata": {
    "pycharm": {
     "name": "#%% md\n"
    }
   },
   "source": [
    "One important step in working with data is to tell R what type our variables R.\n",
    "\n",
    "* This means that for **quantiative** variables, we need to make sure they are numeric\n",
    "* And for **qualiative** variables that they are _factors_\n",
    "\n",
    "This will also make them easier to read, and ensure they are handled properly.  Let's try that now using the `as.factor` and `as.numeric` functions. Compare the results above with the new dataset below."
   ]
  },
  {
   "cell_type": "code",
   "execution_count": null,
   "metadata": {
    "collapsed": false,
    "jupyter": {
     "outputs_hidden": false
    },
    "pycharm": {
     "name": "#%%\n"
    }
   },
   "outputs": [],
   "source": [
    "SFS_data<-SFS_data[!(SFS_data$education==\"9\"),] #\n",
    "\n",
    "SFS_data <- SFS_data %>%\n",
    "            mutate(education = case_when(\n",
    "                education == \"1\" ~ \"Less than high school\",\n",
    "                education == \"2\" ~ \"High school\",\n",
    "                education == \"3\" ~ \"Non-university post-secondary\",\n",
    "                education == \"4\" ~ \"University\",\n",
    "                TRUE ~ \"NA\" #otherwise\n",
    "            )) %>%\n",
    "            #filter(education != \"NA\") %>%\n",
    "            mutate(education = as_factor(education)) %>% #education is now afactor\n",
    "            mutate(gender = as_factor(gender)) # gender is now a factor\n",
    "\n",
    "head(SFS_data)"
   ]
  },
  {
   "cell_type": "markdown",
   "metadata": {
    "pycharm": {
     "name": "#%% md\n"
    }
   },
   "source": [
    "### Computing the Wealth Gap\n",
    "\n",
    "We will first describe the gender wealth gap. In R, there are many ways we could compute basic descriptive statistics.  The simplest way is to use ``summarize`` and ``group_by``:"
   ]
  },
  {
   "cell_type": "code",
   "execution_count": null,
   "metadata": {
    "collapsed": false,
    "jupyter": {
     "outputs_hidden": false
    },
    "pycharm": {
     "name": "#%%\n"
    }
   },
   "outputs": [],
   "source": [
    "# Next we look at wealth for households with men and women as main earners\n",
    "\n",
    "results <- SFS_data %>% \n",
    "    group_by(gender) %>%\n",
    "    summarize(m_wealth = mean(wealth), sd_wealth = sd(wealth)) \n",
    "\n",
    "results #more information about the tibble can be found in the introduction to R in comet"
   ]
  },
  {
   "cell_type": "markdown",
   "metadata": {
    "pycharm": {
     "name": "#%% md\n"
    }
   },
   "source": [
    "> **As We Mentioned**: _piping_ The above example uses the **pipe operator** (``%>%``).  Mechanically, what piping does is insert the object before the pipe into the object after the pipe.  For example, if we have ``z <- f(x,y)`` we could write this using pipes as ``z <- x %>% f(y)``.  Piping is really most useful when you are chaining (piping) a series of commands together.  You can think of a pipe as saying \"_and then_\" followed by a command.  The item before the pipe will be inputted into the next command.  This allows you to do complex data manipulation in a way that is readable.\n",
    ">\n",
    "> For example, the command above (1) starts with ``SFS_data`` (2) groups it by ``gender``, (3) takes the grouped data and summarizes it.  If we wrote this without using a pipe it would look like:\n",
    "> ``summarize(group_by(SFS_data,gender), m_wealth = mean(wealth), sd_wealth = sd(wealth))``\n",
    "\n",
    "\n",
    "We can also visualize this, using ``ggplot2``, which can create bar graphs and other visualizations.  Here's a bar graph and a boxplot."
   ]
  },
  {
   "cell_type": "code",
   "execution_count": null,
   "metadata": {
    "pycharm": {
     "name": "#%%\n"
    }
   },
   "outputs": [],
   "source": [
    "f <- ggplot(data = SFS_data, aes(x = gender, y = wealth)) + xlab(\"Gender of Main Earner\") + ylab(\"Wealth\")  #labels and defines our x and y axis\n",
    "f1 <- f + geom_bar(stat = \"summary\", fun = \"mean\", fill = \"lightblue\") # produce a summary statistic, the mean\n",
    "f1 <- f1 + coord_flip() # make a horizontal bar graph!\n",
    "\n",
    "options(repr.plot.width=6,repr.plot.height=3) # this controls the size; you can change 6 and 3 to look better\n",
    "\n",
    "f2 <- f + geom_boxplot(fill = \"lightblue\") + coord_flip() #formatting preferences\n",
    "\n",
    "f3 <- ggplot(data = SFS_data, aes(x = wealth)) + geom_histogram(binwidth = 500000) + xlab(\"Wealth\") + ylab(\"Count\") + facet_grid(. ~ gender) \n",
    "\n",
    "f1\n",
    "f2\n",
    "f3"
   ]
  },
  {
   "cell_type": "markdown",
   "metadata": {
    "pycharm": {
     "name": "#%% md\n"
    }
   },
   "source": [
    "> _Think Deeper:_ What does this tell you about the distribution of wealth in these datasets?  Could this be a problem for our analysis?\n",
    "\n",
    "This is all interesting to look at.  However, this is not a formal test of the gender-wealth gap.  We need to examine this from a statistical perspective. In other words, we would like to examine if the gender-wealth gap is statistically significant. We can do this through a two sample $t$-test, which can be performed using the `t.test()` command in R: "
   ]
  },
  {
   "cell_type": "code",
   "execution_count": null,
   "metadata": {},
   "outputs": [],
   "source": [
    "levels(SFS_data$gender)"
   ]
  },
  {
   "cell_type": "code",
   "execution_count": null,
   "metadata": {
    "collapsed": false,
    "jupyter": {
     "outputs_hidden": false
    },
    "pycharm": {
     "name": "#%%\n"
    }
   },
   "outputs": [],
   "source": [
    "t1 = t.test(  #take not of this useful function\n",
    "       x = filter(SFS_data, gender == \"Male\")$wealth,\n",
    "       y = filter(SFS_data, gender == \"Female\")$wealth,\n",
    "       alternative = \"two.sided\",\n",
    "       mu = 0,\n",
    "       conf.level = 0.95)\n",
    "\n",
    "t1 \n",
    "\n",
    "round(t1$estimate[1] - t1$estimate[2],2) # this just rounds our results"
   ]
  },
  {
   "cell_type": "markdown",
   "metadata": {
    "pycharm": {
     "name": "#%% md\n"
    }
   },
   "source": [
    "As we can see here, the `t.test()` command outputs the $p$-value and test statistic immediately. This particular $t$-test was for a 95% confidence level. The gender-wealth gap is $235,285.60 dollars. As you can see, there is a significant gap in wealth between male and female lead households.\n",
    "\n",
    "### Going Deeper:\n",
    "> ***What could be the potential causes of the gender-wealth gap in Canada?***\n",
    "\n",
    "The next step is to understand why or how the gender wealth gap might exist. The natural potential factors to study are education and income. For example, perhaps females are less likely to have a university degree in a high-paying field, or perhaps females earn less income.  These reasons could potentially create a gender wealth gap.  Let's take a look at education in the survey, then try to understand how it interacts with gender:"
   ]
  },
  {
   "cell_type": "code",
   "execution_count": null,
   "metadata": {
    "pycharm": {
     "name": "#%%\n"
    }
   },
   "outputs": [],
   "source": [
    "# Next we look at wealth for households with different education\n",
    "results <- \n",
    "    SFS_data %>% #we define our dataset \n",
    "    group_by(education) %>%  #group variable of interest\n",
    "    summarize(m_wealth = mean(wealth), sd_wealth = sd(wealth))\n",
    "\n",
    "results"
   ]
  },
  {
   "cell_type": "markdown",
   "metadata": {
    "pycharm": {
     "name": "#%% md\n"
    }
   },
   "source": [
    "The results suggest average wealth increases with education of the main earner. \n",
    "\n",
    "> _Think Deeper:_ Why might this be the case?  \n",
    "\n",
    "We also see how this breaks down by gender.  Look at the following table - do you see a pattern?"
   ]
  },
  {
   "cell_type": "code",
   "execution_count": null,
   "metadata": {
    "pycharm": {
     "name": "#%%\n"
    }
   },
   "outputs": [],
   "source": [
    "results <- \n",
    "    SFS_data %>% #we define our dataset \n",
    "    group_by(education,gender) %>% #group variable of interest\n",
    "    summarize(m_wealth = mean(wealth), sd_wealth = sd(wealth))\n",
    "\n",
    "results\n",
    "\n",
    "options(repr.plot.width=10,repr.plot.height=3)\n",
    "\n",
    "f <- ggplot(data = SFS_data, aes(x = gender, y = wealth)) + xlab(\"Gender\") + ylab(\"Wealth\") #labels and defines our x and y axis\n",
    "f <- f + geom_bar(stat = \"summary\", fun = \"mean\", fill = \"lightblue\") #produce a summary statistic, the mean\n",
    "f <- f + facet_grid(. ~ education) #add a grid by education\n",
    "\n",
    "f"
   ]
  },
  {
   "cell_type": "markdown",
   "metadata": {
    "pycharm": {
     "name": "#%% md\n"
    }
   },
   "source": [
    "You can see that female-led households tend to accumulate less wealth than the male counterpart.  \n",
    "\n",
    "However, it is worthwhile to look at the difference in wealth gap in percent terms rather than absolute terms. This is because people at a higher education level earn more so the gap may appear deceptively larger. ``percentage_table`` is a function, which takes `result`, name of `column1` and name of `column3` of `results` table that we summarized as inputs. We assign this function to the object `percentage_table`, and produce the table we want. "
   ]
  },
  {
   "cell_type": "code",
   "execution_count": null,
   "metadata": {},
   "outputs": [],
   "source": [
    "percentage_table <- SFS_data %>%\n",
    "    group_by(education) %>%\n",
    "    group_modify(~ data.frame(wealth_gap = \n",
    "                    mean(filter(., gender == \"Female\")$wealth)/mean(filter(., gender == \"Male\")$wealth) - 1)) %>%\n",
    "    mutate(wealth_gap = percent(wealth_gap))\n",
    "    \n",
    "\n",
    "percentage_table"
   ]
  },
  {
   "cell_type": "markdown",
   "metadata": {
    "pycharm": {
     "name": "#%% md\n"
    }
   },
   "source": [
    "From the results above, a family with a male as the main earner generally accumulates more wealth than female-lead household which has similar education background. The gender-wealth gap is widest for university graduates, with male-lead family has 28% more wealth than female-lead family. We can make this even more clear by adding a new variable (`university`) to our dataset.  Frequently, we will want to make new variables to help us analyze the results, especially when a variable is more complicated than we would like it to be.\n",
    "\n",
    "You can create this in many ways - but a very useful command is the `case_when` command.  Here is an example for our `university` variable.  Pay attention to the use of the `as_factor` command at the end to tell R that this is still a qualitative variable.\n",
    "\n"
   ]
  },
  {
   "cell_type": "code",
   "execution_count": null,
   "metadata": {
    "pycharm": {
     "name": "#%%\n"
    }
   },
   "outputs": [],
   "source": [
    "SFS_data <- SFS_data %>% \n",
    "               mutate( # more information on mutate in introduction to r modules\n",
    "               university = case_when( \n",
    "                     education == \"University\" ~ \"Yes\", #the ~ seperates the original from the new name\n",
    "                     education == \"Non-university post-secondary\" ~ \"No\", #changes the non university variable to \"No\"\n",
    "                     education == \"High school\" ~ \"No\", #changes the non university variable to \"no\"\n",
    "                     education == \"Less than high school\" ~ \"No\")) %>% #changes the non university variable to \"no\"\n",
    "             mutate(university = as_factor(university)) #remember, it's a factor!\n",
    "\n",
    "glimpse(SFS_data$university)"
   ]
  },
  {
   "cell_type": "markdown",
   "metadata": {
    "pycharm": {
     "name": "#%% md\n"
    }
   },
   "source": [
    "Now, let's repeat the analysis we did above by education status; then we can perform a $t$-test on each of these sub-groups:"
   ]
  },
  {
   "cell_type": "code",
   "execution_count": null,
   "metadata": {
    "pycharm": {
     "name": "#%%\n"
    }
   },
   "outputs": [],
   "source": [
    "results <- \n",
    "    SFS_data %>%\n",
    "    group_by(university,gender) %>%\n",
    "    summarize(m_wealth = mean(wealth), sd_wealth = sd(wealth))\n",
    "\n",
    "results \n",
    "\n",
    "f <- ggplot(data = SFS_data, aes(x = gender, y = wealth)) + xlab(\"Gender\") + ylab(\"Wealth\") #label and define our x and y axis\n",
    "f <- f + geom_bar(stat = \"summary\", fun = \"mean\", fill = \"lightblue\") #produce a summary statistic, the mean\n",
    "f <- f + facet_grid(. ~ university) #add a grid by education\n",
    "\n",
    "f"
   ]
  },
  {
   "cell_type": "markdown",
   "metadata": {
    "pycharm": {
     "name": "#%% md\n"
    }
   },
   "source": [
    "Similarly, let's look at the difference in wealth gap in percent terms. We use `results` generated in previous cell (the $4\\times 4$ table) as the inputs this time."
   ]
  },
  {
   "cell_type": "code",
   "execution_count": null,
   "metadata": {
    "pycharm": {
     "name": "#%%\n"
    }
   },
   "outputs": [],
   "source": [
    "percentage_table <- SFS_data %>%\n",
    "    group_by(university) %>%\n",
    "    group_modify(~ data.frame(wealth_gap = \n",
    "                    mean(filter(., gender == \"Female\")$wealth)/mean(filter(., gender == \"Male\")$wealth) - 1)) %>%\n",
    "    mutate(wealth_gap = percent(wealth_gap))\n",
    "    \n",
    "\n",
    "percentage_table"
   ]
  },
  {
   "cell_type": "markdown",
   "metadata": {
    "pycharm": {
     "name": "#%% md\n"
    }
   },
   "source": [
    "Without a university degree, male-lead households accumulate 18% more wealth than female counterparts, while with university degree, the gap is widened to 2%. Thus education seems to enlarge the gender-wealth gap.\n",
    "\n",
    "Let's study gender wealth gap within subsamples of \"university degree\" and \"no university degree\" respectively by running formal two sample t-test in the 2 subsamples."
   ]
  },
  {
   "cell_type": "code",
   "execution_count": null,
   "metadata": {
    "pycharm": {
     "name": "#%%\n"
    }
   },
   "outputs": [],
   "source": [
    "university_data = filter(SFS_data, university == \"Yes\") # university only data \n",
    "nuniversity_data = filter(SFS_data, university == \"No\") # non university data\n",
    "\n",
    "t2 = t.test(\n",
    "       x = filter(university_data, gender == \"Male\")$wealth,\n",
    "       y = filter(university_data, gender == \"Female\")$wealth,\n",
    "       alternative = \"two.sided\",\n",
    "       mu = 0,\n",
    "       conf.level = 0.95)\n",
    "\n",
    "t2  # test for the wealth gap in university data\n",
    "\n",
    "round(t2$estimate[1] - t2$estimate[2],2) #rounds our estimate\n",
    "\n",
    "\n",
    "t3 = t.test(\n",
    "       x = filter(nuniversity_data, gender == \"Male\")$wealth,\n",
    "       y = filter(nuniversity_data, gender == \"Female\")$wealth,\n",
    "       alternative = \"two.sided\",\n",
    "       mu = 0,\n",
    "       conf.level = 0.95)\n",
    "\n",
    "t3 # test for the wealth gap in non-university data\n",
    "\n",
    "round(t3$estimate[1] - t3$estimate[2],2) #rounds our estimate"
   ]
  },
  {
   "cell_type": "markdown",
   "metadata": {
    "pycharm": {
     "name": "#%% md\n"
    }
   },
   "source": [
    "Consider the results above.  Do you think the results of Welch Two Sample t-test are consistent with the above descriptive results?\n",
    "\n",
    "> _Think Deeper_: How can you explain the effects of education on gender-wealth gap? What would you need to know in order to rationalize your explanation?  \n",
    "\n",
    "### Wrapping Up\n",
    "\n",
    "At this point, we have started to explore the gender wealth gap.  Next, work on the following exercises to learn more. We will touch on the second important factor: income."
   ]
  },
  {
   "cell_type": "markdown",
   "metadata": {
    "pycharm": {
     "name": "#%% md\n"
    }
   },
   "source": [
    "## Part 3: Exercises"
   ]
  },
  {
   "cell_type": "markdown",
   "metadata": {
    "pycharm": {
     "name": "#%% md\n"
    },
    "tags": []
   },
   "source": [
    "### Activity 1 \n",
    "First, examine ``SFS_data`` with a focus on before-tax income. Create a table that tabulates the average before-tax income by gender. A correct ``tab_income`` table will pass the test.  Try looking at how we generated some of the earlier tables for inspiration, if you need a hint."
   ]
  },
  {
   "cell_type": "code",
   "execution_count": null,
   "metadata": {
    "pycharm": {
     "name": "#%%\n"
    }
   },
   "outputs": [],
   "source": [
    "\n",
    "tab_income <- #fill in the code below; what goes before the %>%?\n",
    "    ??? %>% \n",
    "    group_by(???)  %>%\n",
    "    summarize(m_income = ???(income_before_tax), sd_income = sd(income_before_tax))\n",
    "\n",
    "tab_income\n",
    "\n",
    "answer1 <- tab_income\n",
    "test_1() #quiz 1\n"
   ]
  },
  {
   "cell_type": "markdown",
   "metadata": {
    "pycharm": {
     "name": "#%% md\n"
    },
    "tags": []
   },
   "source": [
    "### Short Answer 1:\n",
    "\n",
    "What type of variable is ``gender``? Does it make sense to have ``gender`` as that variable type? Why or why not?  Write your answer in the box below:"
   ]
  },
  {
   "cell_type": "markdown",
   "metadata": {
    "pycharm": {
     "name": "#%% md\n"
    }
   },
   "source": [
    "<font color=\"red\">Type answer here\n",
    "</font>"
   ]
  },
  {
   "cell_type": "markdown",
   "metadata": {
    "pycharm": {
     "name": "#%% md\n"
    }
   },
   "source": [
    "### Activity 2\n",
    "\n",
    "The table that we got in the previous activity is fairly clear, but let's illustrate things with a chart. Construct a bar graph that charts the average income before tax by gender. ``income_graph`` will store this plot. You can see it by running the second code chunk below."
   ]
  },
  {
   "cell_type": "code",
   "execution_count": null,
   "metadata": {
    "collapsed": false,
    "jupyter": {
     "outputs_hidden": false
    },
    "pycharm": {
     "name": "#%%\n"
    }
   },
   "outputs": [],
   "source": [
    "income_graph <- ggplot(data = SFS_data, aes(x = ???, y = ???)) + \n",
    "                xlab(\"Gender\") + ylab(\"Income before tax\")  #what goes in the y = and x = spot? \n",
    "\n",
    "\n",
    "# don't change this part\n",
    "income_graph <- income_graph + geom_bar(stat = \"summary\", fun = mean, fill = \"lightblue\")\n",
    "income_graph <- income_graph + coord_flip()\n",
    "\n",
    "\n",
    "income_graph\n",
    "\n",
    "\n",
    "answer1_5 <- income_graph\n",
    "test_1_5() #quiz 1.5"
   ]
  },
  {
   "cell_type": "markdown",
   "metadata": {
    "pycharm": {
     "name": "#%% md\n"
    }
   },
   "source": [
    "### Short Answer 2\n",
    "Examine the graph.  What do we observe when we compare the average before-tax income between genders? What does this suggest?"
   ]
  },
  {
   "cell_type": "markdown",
   "metadata": {
    "pycharm": {
     "name": "#%% md\n"
    }
   },
   "source": [
    "<font color=\"red\">Answer here!</font>"
   ]
  },
  {
   "cell_type": "markdown",
   "metadata": {
    "pycharm": {
     "name": "#%% md\n"
    }
   },
   "source": [
    "### Activity 3\n",
    "Now, create a table that tabulates average before-tax income by education level and gender. This table, labelled ``tab_income2``, will be tested for correctness."
   ]
  },
  {
   "cell_type": "code",
   "execution_count": null,
   "metadata": {
    "pycharm": {
     "name": "#%%\n"
    }
   },
   "outputs": [],
   "source": [
    "tab_income2 <- \n",
    "    SFS_data %>%\n",
    "    group_by(???, ???) %>% \n",
    "    summarize(m_income = mean(???), sd_income = sd(???))\n",
    "\n",
    "tab_income2\n",
    "\n",
    "answer2 <- tab_income2\n",
    "test_2() #quiz 2\n"
   ]
  },
  {
   "cell_type": "markdown",
   "metadata": {
    "pycharm": {
     "name": "#%% md\n"
    }
   },
   "source": [
    "### Short Answer 3\n",
    "Examine the table. What do we observe when we compare the before-tax income gap between education levels? What does this suggest?  What could explain this finding?"
   ]
  },
  {
   "cell_type": "markdown",
   "metadata": {
    "pycharm": {
     "name": "#%% md\n"
    }
   },
   "source": [
    "<font color=\"red\">Answer here!</font>"
   ]
  },
  {
   "cell_type": "markdown",
   "metadata": {
    "pycharm": {
     "name": "#%% md\n"
    }
   },
   "source": [
    "### Activity 4\n",
    "Economists are often concerned with two aspects of the relationship between male and female lead households  and education:\n",
    "* Difference in average income between the two household groups\n",
    "* The difference in returns to education between the two household groups\n",
    "\n",
    "Let's explore these two topics. First, test whether there are significant differences in income before tax between male and female lead households within each education group. Within which education levels do we see significant differences \n",
    "\n",
    "_Note_: You will perform the t-test's of gender income gap on each education group."
   ]
  },
  {
   "cell_type": "code",
   "execution_count": null,
   "metadata": {
    "pycharm": {
     "name": "#%%\n"
    }
   },
   "outputs": [],
   "source": [
    "less_than_high_school_data = filter(SFS_data, education == \"Less than high school\") #filter variables we need\n",
    "high_school_data = filter(SFS_data, education == \"High school\")\n",
    "post_secondary_data = filter(SFS_data, education == \"Non-university post-secondary\")\n",
    "university_data = filter(SFS_data, education == \"University\")\n",
    "\n",
    "#Less than high school\n",
    "tlesshs = t.test( \n",
    "       x = filter(???, gender == \"Male\")$income_before_tax,\n",
    "       y = filter(less_than_high_school_data, gender == \"Female\")$???,\n",
    "       alternative = \"two.sided\",\n",
    "       mu = 0,\n",
    "       conf.level = 0.95)\n",
    "\n",
    "tlesshs\n",
    "\n",
    "tlesshs_ans=round(tlesshs$estimate[1] - tlesshs$estimate[2],2) #rounds answer\n",
    "\n",
    "answer3_3 <- tlesshs_ans\n",
    "\n",
    "test_3_3() "
   ]
  },
  {
   "cell_type": "code",
   "execution_count": null,
   "metadata": {},
   "outputs": [],
   "source": [
    "\n",
    "\n",
    "#High school\n",
    "ths = t.test(\n",
    "       x = filter(???, gender == \"Male\")$???,\n",
    "       y = filter(???, gender == \"???\")$income_before_tax,\n",
    "       alternative = \"two.sided\",\n",
    "       mu = 0,\n",
    "       conf.level = 0.95)\n",
    "ths\n",
    "\n",
    " \n",
    "ths_ans=round(ths$estimate[1] - ths$estimate[2],2) #rounds answer\n",
    "\n",
    "answer3 <- ths_ans\n",
    "\n",
    "test_3()\n",
    " "
   ]
  },
  {
   "cell_type": "code",
   "execution_count": null,
   "metadata": {},
   "outputs": [],
   "source": [
    "\n",
    "\n",
    "# Non-uni post-seconary\n",
    "tsocol = t.test(\n",
    "       x = filter(???, gender == \"Male\")$income_before_tax,\n",
    "       y = filter(???, gender == \"Female\")$income_before_tax,\n",
    "       alternative = \"two.sided\",\n",
    "       mu = 0,\n",
    "       conf.level = 0.95)\n",
    "tsocol\n",
    "tsocol_ans=round(tsocol$estimate[1] - tsocol$estimate[2],2) #rounds answer\n",
    "\n",
    "answer3_7 <- tsocol_ans\n",
    "\n",
    "test_3_7()\n"
   ]
  },
  {
   "cell_type": "code",
   "execution_count": null,
   "metadata": {},
   "outputs": [],
   "source": [
    "\n",
    "#University\n",
    "\n",
    "tuni = t.test(\n",
    "       x = filter(???, gender == \"Male\")$income_before_tax,\n",
    "        y = filter(???, gender == \"Female\")$???,\n",
    "       alternative = \"two.sided\",\n",
    "       mu = 0,\n",
    "       conf.level = 0.95)\n",
    "\n",
    "tuni\n",
    "tuni_ans=round(tuni$estimate[1] - tuni$estimate[2],2) #rounds answer\n",
    "\n",
    "\n",
    "answer4 <- tuni_ans\n",
    "\n",
    "\n",
    "test_4()"
   ]
  },
  {
   "cell_type": "markdown",
   "metadata": {
    "pycharm": {
     "name": "#%% md\n"
    }
   },
   "source": [
    "### Activity 5\n",
    "Next, examine whether returns to education differ between genders. For our purposes, we will define:\n",
    "> **Returns to Education**: The difference in average income before tax between two subsequent education levels.\n",
    "\n",
    "Run this test for the returns to education of: \n",
    "* High school diploma (relative to less than high school) and \n",
    "* University degree (relative to non-university post-secondary)\n",
    "\n",
    "*The following t-test objects will be tested for correctness:* Returns to education of a high school diploma for males (``retHS``) and for females(``retHSF``), and returns to education of a university's degree for males (``retU``) and for females (``retUF``)."
   ]
  },
  {
   "cell_type": "code",
   "execution_count": null,
   "metadata": {
    "pycharm": {
     "name": "#%%\n"
    }
   },
   "outputs": [],
   "source": [
    "\n",
    "#Returns to education: High school diploma\n",
    "\n",
    "##Males\n",
    "less_than_high_school_data = filter(SFS_data, ??? == \"Less than high school\") #filter variables we need\n",
    "high_school_data = filter(SFS_data, education == \"High school\")\n",
    "post_secondary_data = filter(SFS_data, education == \"Non-university post-secondary\")\n",
    "university_data = filter(SFS_data, education == \"University\")\n",
    "\n",
    "\n",
    "retHS = t.test(\n",
    "       x = filter(???, gender == \"Male\")$income_before_tax,\n",
    "       y = filter(less_than_high_school_data, gender == \"Male\")$???,\n",
    "       alternative = \"two.sided\",\n",
    "       mu = 0,\n",
    "       conf.level = 0.95)\n",
    "\n",
    "retHS\n",
    "retHS_ans=round(retHS$estimate[1] - retHS$estimate[2],2)\n",
    "\n",
    "test_5() "
   ]
  },
  {
   "cell_type": "code",
   "execution_count": null,
   "metadata": {
    "pycharm": {
     "name": "#%%\n"
    }
   },
   "outputs": [],
   "source": [
    "#Returns to education: High school diploma\n",
    "#Females\n",
    "\n",
    "retHSF = t.test(\n",
    "       x = filter(???, gender == \"Female\")$income_before_tax,\n",
    "       y = filter(less_than_high_school_data, gender == \"Female\")$???,\n",
    "       alternative = \"two.sided\",\n",
    "       mu = 0,\n",
    "       conf.level = 0.95)\n",
    "\n",
    "retHSF\n",
    "retHSF_ans=round(retHSF$estimate[1] - retHSF$estimate[2],2)\n",
    "\n",
    "test_6()"
   ]
  },
  {
   "cell_type": "code",
   "execution_count": null,
   "metadata": {
    "pycharm": {
     "name": "#%%\n"
    }
   },
   "outputs": [],
   "source": [
    "\n",
    "#Returns to education: University\n",
    "\n",
    "##Males\n",
    "\n",
    "retU = t.test(\n",
    "       x = filter(university_data, gender == \"Male\")$???,\n",
    "       y = filter(post_secondary_data, ??? == \"Male\")$income_before_tax,\n",
    "       alternative = \"two.sided\",\n",
    "       mu = 0,\n",
    "       conf.level = 0.95)\n",
    "\n",
    "retU\n",
    "retU_ans=round(retU$estimate[1] - retU$estimate[2],2)\n",
    "\n",
    "\n",
    "test_7() "
   ]
  },
  {
   "cell_type": "code",
   "execution_count": null,
   "metadata": {
    "pycharm": {
     "name": "#%%\n"
    }
   },
   "outputs": [],
   "source": [
    "\n",
    "#Returns to education: University\n",
    "##Females\n",
    "\n",
    "retUF = t.test(\n",
    "       x = filter(university_data, ??? == \"Female\")$income_before_tax,\n",
    "       y = filter(post_secondary_data, ??? == \"Female\")$???,\n",
    "       alternative = \"two.sided\",\n",
    "       mu = 0,\n",
    "       conf.level = 0.95)\n",
    "\n",
    "retUF\n",
    "retUF_ans=round(retUF$estimate[1] - retUF$estimate[2],2)\n",
    "\n",
    "test_8()"
   ]
  },
  {
   "cell_type": "markdown",
   "metadata": {
    "pycharm": {
     "name": "#%% md\n"
    }
   },
   "source": [
    "### Short Answer 4\n",
    "**Reflect on your analysis:** Interpret the results of the t-tests above. Are the returns to each level of education significant for males? For females? Comment on the difference between returns to education for a high school degree and that for a university degree. Would the result be what we expect? What could explain this finding?"
   ]
  },
  {
   "cell_type": "markdown",
   "metadata": {
    "pycharm": {
     "name": "#%% md\n"
    }
   },
   "source": [
    "<font color=\"red\">Answer here (delete this text)</font>"
   ]
  },
  {
   "cell_type": "markdown",
   "metadata": {
    "pycharm": {
     "name": "#%% md\n"
    }
   },
   "source": [
    "### Short Answer 5\n",
    "**Discuss your results:** Do the returns to each level of education (for either level of education) differ between males and females? What differences between the two groups might explain this difference?"
   ]
  },
  {
   "cell_type": "markdown",
   "metadata": {
    "pycharm": {
     "name": "#%% md\n"
    }
   },
   "source": [
    "<font color=\"red\">Answer here (delete this text)</font>"
   ]
  },
  {
   "cell_type": "markdown",
   "metadata": {
    "pycharm": {
     "name": "#%% md\n"
    }
   },
   "source": [
    "### Activity 6\n",
    "Now, let's repeat Activity 3 with after-tax income, i.e., create a table that tabulates average after-tax income by education level and gender. This table, labelled ``tab_income3``, will be tested for correctness."
   ]
  },
  {
   "cell_type": "code",
   "execution_count": null,
   "metadata": {
    "pycharm": {
     "name": "#%%\n"
    }
   },
   "outputs": [],
   "source": [
    "tab_income3 <- \n",
    "    SFS_data %>%\n",
    "    group_by(education, ???) %>% \n",
    "    summarize(m_income = ???(income_after_tax), sd_income = sd(???))\n",
    "\n",
    "tab_income3\n",
    "\n",
    "answer3 <- tab_income3\n",
    "test_9() #quiz 9"
   ]
  },
  {
   "cell_type": "markdown",
   "metadata": {
    "pycharm": {
     "name": "#%% md\n"
    }
   },
   "source": [
    "### Short Answer 6\n",
    "Compare the above table with the one in Activity 3. What do you find and why?"
   ]
  },
  {
   "cell_type": "markdown",
   "metadata": {
    "pycharm": {
     "name": "#%% md\n"
    }
   },
   "source": [
    "<font color=\"red\">Answer here (delete this text)</font>"
   ]
  },
  {
   "cell_type": "markdown",
   "metadata": {
    "pycharm": {
     "name": "#%% md\n"
    }
   },
   "source": [
    "<span id=\"fn1\">[<sup>1</sup>](#fn1s)Statistics Canada, Survey of Financial Security, 2019, 2021. Reproduced and distributed on an \"as is\" basis with the permission of Statistics Canada.Adapted from Statistics Canada, Survey of Financial Security, 2019, 2021. This does not constitute an endorsement by Statistics Canada of this product.</span>"
   ]
  }
 ],
 "metadata": {
  "kernelspec": {
   "display_name": "R",
   "language": "R",
   "name": "ir"
  },
  "language_info": {
   "codemirror_mode": "r",
   "file_extension": ".r",
   "mimetype": "text/x-r-source",
   "name": "R",
   "pygments_lexer": "r",
   "version": "4.1.1"
  }
 },
 "nbformat": 4,
 "nbformat_minor": 4
}
