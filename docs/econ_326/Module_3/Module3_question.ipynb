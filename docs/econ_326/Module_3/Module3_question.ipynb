{
 "cells": [
  {
   "cell_type": "markdown",
   "id": "9cdb1724-b18f-438f-ad87-a842d2b223b4",
   "metadata": {
    "pycharm": {
     "name": "#%% md\n"
    }
   },
   "source": [
    "# ECON 326: Multiple Regression using R and Jupyter"
   ]
  },
  {
   "cell_type": "markdown",
   "id": "4b11c71e-9823-40a8-a6db-dcf9c2b1c64c",
   "metadata": {
    "pycharm": {
     "name": "#%% md\n"
    }
   },
   "source": [
    "* **Authors**: COMET Team (Emrul Hasan, Jonah Heyl, Shiming Wu, William Co, Jonathan Graves)\n",
    "* **Last Update**: 8 December 2022\n",
    "---\n",
    "\n",
    "## Outline\n",
    "\n",
    "### Prerequisites\n",
    "* Simple regression\n",
    "* Data analysis and introduction\n",
    "\n",
    "### Outcomes\n",
    "\n",
    "* Understand how the theory of multiple regression models works in practice\n",
    "* Be able to estimate multiple regression models using R\n",
    "* Interpret and explain the estimates from multiple regression models\n",
    "* Understand the relationship between simple linear regressions and similar multiple regressions\n",
    "* Describe a control variable and regression relationship\n",
    "* Explore the relationship between controls and causal interpretations of regression model estimates\n",
    "\n",
    "### Notes\n",
    "\n",
    "<span id=\"fn1\">[<sup>1</sup>](#fn1s)Statistics Canada, Survey of Financial Security, 2019, 2021. Reproduced and distributed on an \"as is\" basis with the permission of Statistics Canada.Adapted from Statistics Canada, Survey of Financial Security, 2019, 2021. This does not constitute an endorsement by Statistics Canada of this product.</span>\n",
    "\n",
    "<span id=\"fn2\">[<sup>2</sup>](#fn2s)Stargazer package is due to: Hlavac, Marek (2018). stargazer: Well-Formatted Regression and Summary Statistics Tables.\n",
    " R package version 5.2.2. https://CRAN.R-project.org/package=stargazer </span>"
   ]
  },
  {
   "cell_type": "code",
   "execution_count": null,
   "id": "9e1f8a85-bfbb-46e9-91e0-f9f5976b826d",
   "metadata": {
    "pycharm": {
     "name": "#%%\n"
    },
    "vscode": {
     "languageId": "r"
    }
   },
   "outputs": [],
   "source": [
    "library(tidyverse) \n",
    "library(haven)\n",
    "library(dplyr)\n",
    "library(stargazer)\n",
    "\n",
    "source(\"functions3.r\")"
   ]
  },
  {
   "cell_type": "code",
   "execution_count": null,
   "id": "d67b0aed-158c-4938-bc4f-c710d499c4a7",
   "metadata": {
    "pycharm": {
     "name": "#%%\n"
    },
    "vscode": {
     "languageId": "r"
    }
   },
   "outputs": [],
   "source": [
    "SFS_data <- read_dta(\"../datasets/SFS_2019_Eng.dta\")\n",
    "\n",
    "## massive data clean-up oh no!\n",
    "SFS_data <- clean_up_sfs(SFS_data) #renaming things, etc.\n",
    "\n",
    "#if you want to see, it's in functions3.r"
   ]
  },
  {
   "cell_type": "markdown",
   "id": "49ce9684-2079-44dc-9c7e-433c3305bbb2",
   "metadata": {
    "pycharm": {
     "name": "#%% md\n"
    }
   },
   "source": [
    "## Part 1: Introducing Multiple Regressions\n",
    "\n",
    "At this point, you are familiar with the simple regression model and its relationship to the comparison-of-means $t$-test.  However, most econometric analysis don't use simple regression - this is because, in general, economic data and models are far too complicated to be summarized with a single relationship.  One of the features of most economic datasets is a complex, multi-dimensional relationship between different variables.  This leads to the two key motivations for **multiple regression**:\n",
    "\n",
    "* First, it can improve the *predictive* properties of a regression model, by introducing other variables that play an important econometric role in the relationship being studied.\n",
    "* Second, it allows the econometrician to *differentiate* the importance of different variables in a relationship.\n",
    "\n",
    "This second motivation is usually part of **causal analysis** when we believe that our model has an interpretation as a cause-and-effect.  However, even if it does not, it is still useful to understand which variables are \"driving\" the relationship in the data.\n",
    "\n",
    "Let's look at the following plot, which depict the relationships between `wealth`, `gender` and `education`.  In the top panel, the colour of each cell is the (average) log of `wealth`.  In the bottom panel, the size of each circle is the number of households in that combination of categories. "
   ]
  },
  {
   "cell_type": "markdown",
   "id": "1373f9b2-7a4a-435f-b805-2a1bfd90de07",
   "metadata": {
    "pycharm": {
     "name": "#%% md\n"
    }
   },
   "source": [
    "Let's first summarize education into \"university\" and \"non-university\". Since it's easier to see the pattern from log wealth, we will calculate log wealth and filter out NaN values."
   ]
  },
  {
   "cell_type": "code",
   "execution_count": null,
   "id": "702699b7-48bf-455b-a37b-dc945fb2a236",
   "metadata": {
    "pycharm": {
     "name": "#%%\n"
    },
    "vscode": {
     "languageId": "r"
    }
   },
   "outputs": [],
   "source": [
    "SFS_data <- SFS_data %>% \n",
    "               mutate( \n",
    "               Education = case_when(\n",
    "                     education == \"University\" ~ \"University\", # the ~ seperates the original from the new name\n",
    "                     education == \"Non-university post-secondary\" ~ \"Non-university\",\n",
    "                     education == \"High school\" ~ \"Non-university\",\n",
    "                     education == \"Less than high school\" ~ \"Non-university\")) %>%\n",
    "             mutate(Education = as_factor(Education)) # remember, it's a factor!\n",
    "\n",
    "glimpse(SFS_data$Education) #we have now data that only considers if someone has finished university or not"
   ]
  },
  {
   "cell_type": "code",
   "execution_count": null,
   "id": "0aa0d249-23ac-4a9b-98e8-56fb17917b7b",
   "metadata": {
    "pycharm": {
     "name": "#%%\n"
    },
    "vscode": {
     "languageId": "r"
    }
   },
   "outputs": [],
   "source": [
    "SFS_data <- SFS_data %>%\n",
    "               mutate(lnwealth = log(SFS_data$wealth)) # calculate log"
   ]
  },
  {
   "cell_type": "markdown",
   "id": "fafb7b07-f168-4b1a-adf0-0f949583ae46",
   "metadata": {},
   "source": [
    "Oops NaNs again. We solve this by running the code below."
   ]
  },
  {
   "cell_type": "code",
   "execution_count": null,
   "id": "d35ad6ba-36ab-4568-81e3-6c6cb47486fd",
   "metadata": {},
   "outputs": [],
   "source": [
    "SFS_data_logged <- SFS_data %>%\n",
    "                filter(income_before_tax > 0) %>% #filters Nans\n",
    "                filter(wealth > 0)  #removes negative values"
   ]
  },
  {
   "cell_type": "code",
   "execution_count": null,
   "id": "d7e82c5b-bbf6-4cc8-baa4-a08ab5cfd408",
   "metadata": {
    "pycharm": {
     "name": "#%%\n"
    },
    "vscode": {
     "languageId": "r"
    }
   },
   "outputs": [],
   "source": [
    "options(repr.plot.width=6,repr.plot.height=4) #controls the image size\n",
    "\n",
    "f <- ggplot(data = SFS_data_logged, aes(x = gender, y = Education)) + xlab(\"Gender\") + ylab(\"Education\") #defines x and y\n",
    "f + geom_tile(aes(fill=lnwealth)) + scale_fill_distiller(palette=\"Set1\") #this gives us fancier colours\n",
    "\n",
    "f <- ggplot(data = SFS_data, aes(x = gender, y = Education)) #defines x and y\n",
    "f + geom_count() #prints our graph"
   ]
  },
  {
   "cell_type": "markdown",
   "id": "296473b8-1798-42c9-9aa5-8ae5441261f8",
   "metadata": {
    "pycharm": {
     "name": "#%% md\n"
    }
   },
   "source": [
    "You can see immediately that there are *three* relationships happening at the same time:\n",
    "\n",
    "1. There is a relationship between ``wealth`` of households and ``gender`` of main earner\n",
    "2. There is a relationship between ``wealth`` and ``Education``\n",
    "3. There is a relationship between ``gender`` and ``Education``\n",
    "\n",
    "A simple regression can analyze any _one_ of these relationships in isolation, but it cannot assess more than one of them at a time.  For instance, let's look at these regressions."
   ]
  },
  {
   "cell_type": "code",
   "execution_count": null,
   "id": "f18cf649-b406-4f38-8121-fef1d06f12d6",
   "metadata": {
    "pycharm": {
     "name": "#%%\n"
    },
    "vscode": {
     "languageId": "r"
    }
   },
   "outputs": [],
   "source": [
    "regression1 <- lm(data = SFS_data, wealth ~ gender) #the effect of gender on wealth\n",
    "regression2 <- lm(data = SFS_data, wealth ~ Education) #the effect of education on wealth\n",
    "\n",
    "dummy_gender = as.numeric(SFS_data$gender)-1  # what is this line of code doing?  \n",
    "# hint, the as.numeric variable treats a factor as a number\n",
    "# male is 0\n",
    "\n",
    "regression3 <- lm(data = SFS_data, dummy_gender ~ Education) #the effect of education on gender\n",
    "# this is actually be a very important regression model called \"linear probability\"\n",
    "# we will learn more about it later in the course\n",
    "\n",
    "stargazer(regression1, regression2, regression3, title=\"Comparison of Regression Results\",\n",
    "          align = TRUE, type=\"text\", keep.stat = c(\"n\",\"rsq\")) # we will learn more about this command later on!"
   ]
  },
  {
   "cell_type": "markdown",
   "id": "0704350d-cdb4-4377-8837-6043f5cf7f98",
   "metadata": {
    "pycharm": {
     "name": "#%% md\n"
    }
   },
   "source": [
    "The problem here is that these results tell us:\n",
    "\n",
    "* Households with higher education accumulate more wealth (significant and positive coefficient on `EducationUniversity` in (2))\n",
    "* Among university degrees, the proportion of males is larger than females, with 42.6%(.38+.046) and 57.4%(1-42.6%) respectively. (coefficient on `EducationUniversity` in (3))\n",
    "* Families led by females accumulates less wealth than the male counterparts. (negative and significant coefficient on `genderFemale` in (1))\n",
    "\n",
    "This implies that when we measure the gender-wealth gap alone, we are *indirectly* including part of the education-wealth gap as well.  This is bad; the \"true\" gender-wealth gap is probably lower, but it is being increased because men are more likely to have university degree.\n",
    "\n",
    "This is both a practical and a theoretical problem.  It's not just about the model, it's also about what we mean when we say \"the gender wealth gap\".\n",
    "* If we mean \"the difference in wealth between a male and female led family\", then the simple regression result is what we want.\n",
    "* However, this ignores all the other reasons that a male could have a different wealth (education, income, age, etc.)\n",
    "* If we mean \"the difference in wealth between a male and female led family, holding other factors equal,\" then the simple regression result is not suitable.\n",
    "\n",
    "The problem is that \"holding other factors\" equal is a debatable proposition. Which factors? Why? These different ways of computing the gender wealth gap make this topic very complex, contributing to ongoing debate in the economics discipline and in the media about various kinds of gaps (e.g. the education wealth gap). We will revisit this in the exercises.\n",
    "\n",
    "### Multiple Regression Models\n",
    "\n",
    "When we measure the gender wealth gap, we do not want to conflate our measurement with the _education wealth gap_. To ensure that these two different gaps are distinguished, we *must* add in some other variables.\n",
    "\n",
    "A multiple regression model simply adds more explanatory ($X_i$) variables to the model.  In our case, we would take our simple regression model:\n",
    "\n",
    "$$W_i = \\beta_0 + \\beta_1 Gender_i + \\epsilon_i$$\n",
    "\n",
    "and augment with a variable which captures ``Education``:\n",
    "\n",
    "$$W_i = \\beta_0 + \\beta_1 Gender_i + \\color{red}{\\beta_2 Edu_i} + \\epsilon_i$$\n",
    "\n",
    "Just as in a simple regression, the goal of estimating a multiple regression model using OLS is to solve the problem:\n",
    "\n",
    "$$(\\hat{\\beta_0},\\hat{\\beta_1},\\hat{\\beta_2}) = \\arg \\min_{b_0,b_1,b_2} \\sum_{i=1}^{n} (W_i - b_0 - b_1 Gender_i -b_2 Edu_i)^2 = \\sum_{i=1}^{n} (e_i)^2$$\n",
    "\n",
    "In general, you can have any number of explanatory variables in a multiple regression model (as long as it's not larger than $n-1$, your sample size).  However, there are costs to including more variables, which we will learn about more later.  For now, we will focus on building an appropriate model and will worry about the number of variables later.\n",
    "\n",
    "Adding variables to a regression is easy in R; you use the same command as in simple regression, and just add the new variable to the model. For instance, we can add the variable `Education` like this:\n",
    "\n",
    "``wealth ~ gender + Education``\n",
    "\n",
    "Let's see it in action:"
   ]
  },
  {
   "cell_type": "code",
   "execution_count": null,
   "id": "454b48f5-2053-4718-9b20-02617353a3c8",
   "metadata": {
    "pycharm": {
     "name": "#%%\n"
    },
    "vscode": {
     "languageId": "r"
    }
   },
   "outputs": [],
   "source": [
    "multiple_model_1 <- lm(data = SFS_data, wealth ~ gender + Education)\n",
    "\n",
    "summary(multiple_model_1)"
   ]
  },
  {
   "cell_type": "markdown",
   "id": "1e50b0f0-e4e6-448c-a6fa-3b5eb9cd07ba",
   "metadata": {
    "pycharm": {
     "name": "#%% md\n"
    }
   },
   "source": [
    "As you can see, there are now three coefficients: one for ``genderFemale``, one for ``EducationUniversity`` and one for the intercept.  The important thing to remember is that these relationships are being calculated *jointly*.  Compare the result above to the two simple regressions we saw earlier:"
   ]
  },
  {
   "cell_type": "code",
   "execution_count": null,
   "id": "41787148-00eb-43e7-b18a-11fb88aa453c",
   "metadata": {
    "pycharm": {
     "name": "#%%\n"
    },
    "vscode": {
     "languageId": "r"
    }
   },
   "outputs": [],
   "source": [
    "stargazer(regression1, regression2, multiple_model_1, title=\"Comparison of Muliple and Simple Regression Results\",\n",
    "          align = TRUE, type=\"text\", keep.stat = c(\"n\",\"rsq\"))\n",
    "\n",
    "# which column is the multiple regression?"
   ]
  },
  {
   "cell_type": "markdown",
   "id": "2ac71273-eae2-471c-9b4f-578b11827aee",
   "metadata": {
    "pycharm": {
     "name": "#%% md\n"
    }
   },
   "source": [
    "Notice the difference in the coefficients: *all* of them are different.\n",
    "\n",
    "> _Think Deeper_: Why would all of these coefficients change?  Why not just the coefficient on ``gender``?\n",
    "\n",
    "You will also notice that the standard errors are different.  This is an important lesson: including (or not including) variables can change the statistical significance of a result.  This is why it is so important to be very careful when designing regression models and thinking them through: a coefficient estimate is a consequence of the *whole model*, and should not be considered in isolation."
   ]
  },
  {
   "cell_type": "markdown",
   "id": "655220e4-8992-4f0f-bd82-f58c9011d7ee",
   "metadata": {
    "pycharm": {
     "name": "#%% md\n"
    }
   },
   "source": [
    "### Interpreting Multiple Regression Coefficients\n",
    "\n",
    "Interpreting coefficients in a multiple regression is nearly the same as in a simple regression.  After all, our regression equation is:\n",
    "\n",
    "$$W_i = \\beta_0 + \\beta_1 Gender_i + \\beta_2 Edu_i + \\epsilon_i$$\n",
    "\n",
    "You could (let's pretend for a moment that $Edu_i$ was continuous) calculate:\n",
    "\n",
    "$$\\frac{\\partial W_i}{\\partial Edu_i} = \\beta_2$$\n",
    "\n",
    "This is the same interpretation as in a simple regression model:\n",
    "* $\\beta_2$ is the change in $W_i$ for a 1-unit change in $Edu_i$.\n",
    "* As you will see in the exercises, when $Edu_i$ is a dummy, we have the same interpretation as in a simple regression model: the (average) difference in the dependent variable between the two levels of the dummy variable.\n",
    "\n",
    "However, there is an important difference: we are *holding constant* the other explanatory variables.  That's what the $\\partial$ means when we take a derivative.  This was actually always there (since we were holding constant the residual), but now this is something that is directly observable in our data (and in the model we are building)."
   ]
  },
  {
   "cell_type": "code",
   "execution_count": null,
   "id": "d5d70567-a0ae-48f0-9f7f-78afdf0909a1",
   "metadata": {
    "pycharm": {
     "name": "#%%\n"
    },
    "vscode": {
     "languageId": "r"
    }
   },
   "outputs": [],
   "source": [
    "summary(multiple_model_1)"
   ]
  },
  {
   "cell_type": "markdown",
   "id": "0bf45645-377d-4c28-8bd6-9663f89776ca",
   "metadata": {
    "pycharm": {
     "name": "#%% md\n"
    }
   },
   "source": [
    "> **Test your knowledge:**  Based on the results above, how much more wealth do university graduates accumulate, relative to folks with non-university education levels, when we hold gender fixed?"
   ]
  },
  {
   "cell_type": "code",
   "execution_count": null,
   "id": "7e1c80b9-61ac-4acd-91d5-84fd251e5d92",
   "metadata": {
    "pycharm": {
     "name": "#%%\n"
    },
    "vscode": {
     "languageId": "r"
    }
   },
   "outputs": [],
   "source": [
    "# answer the question above by filling in the number \n",
    "answer1 <- ???       # your answer here\n",
    "\n",
    "test_1()"
   ]
  },
  {
   "cell_type": "markdown",
   "id": "1bf843c6-57cc-490a-9d2a-1c7bdb5c8f10",
   "metadata": {
    "pycharm": {
     "name": "#%% md\n"
    }
   },
   "source": [
    "### Control Variables: What Do They Mean?\n",
    "\n",
    "One very common term you may have heard, especially in the context of a multiple regression model, is the idea of a **control variable**.  In a multiple regression model, control variables are just explanatory variables - there is nothing special about how they are included.  However, there *is* something special about how we think about them.\n",
    "\n",
    "The idea of a control variable refers to how we *think about* a regression model, and in particular, the different variables.  Recall that the interpretation of a coefficient in a multiple regression model is the effect of that variable *holding constant* the other variables.  This is often referred to as **controlling** for the values of those other variables - we are not allowing their relationship with the variable in question, and the outcome variable, to affect our measurement of the result.  This is very common when we are discussing a *cause and effect* relationship - control is essential to these kinds of models.  However, it is also valuable even when we are just thinking about a predictive model.\n",
    "\n",
    "You can see how this works directly if you think about a multiple regression as a series of \"explanations\" for the outcome variable.  Each variable, one-by-one \"explains\" part of the outcome variable.  When we \"control\" for a variable, we remove the part of the outcome that can be explained by that variable alone.  In terms of our model, this refers to the residual.\n",
    "\n",
    "However, we must remember that our control variable *also* explains part of the other variables, so we must \"control\" for it as well.\n",
    "\n",
    "For instance, our multiple regression:\n",
    "\n",
    "$$W_i = \\beta_0 + \\beta_1 Gender_i + \\beta_2 Edu_i + \\epsilon_i$$\n",
    "\n",
    "Can be thought of as three, sequential, simple regressions:\n",
    "\n",
    "$$W_i = \\gamma_0 + \\gamma_1 Edu_i + u_i$$\n",
    "$$Gender_i = \\gamma_0 + \\gamma_1 Edu_i + v_i$$\n",
    "\n",
    "$$\\hat{u_i} = \\delta_0 + \\delta_1 \\hat{v_i} + \\eta_i$$\n",
    "\n",
    "* The first two regressions say: \"explain `wealth` and `gender` using `Education` (in simple regressions)\"\n",
    "* The final regression says: \"account for whatever is leftover ($\\hat{u_i}$) from the `education-wealth` relationship with whatever is leftover from the `gender-wealth` relationship.\"\n",
    "\n",
    "This has effectively \"isolated\" the variation in the data which has to do with ``education`` from the result of the model.\n",
    "\n",
    "Let's see this in action:"
   ]
  },
  {
   "cell_type": "code",
   "execution_count": null,
   "id": "c8876544-7de4-49ac-a1a7-511ef9ba2a9d",
   "metadata": {
    "pycharm": {
     "name": "#%%\n"
    },
    "vscode": {
     "languageId": "r"
    }
   },
   "outputs": [],
   "source": [
    "regression1 <- lm(wealth ~ Education, data = SFS_data)\n",
    "# regress wealth on education\n",
    "\n",
    "regression2 <- lm(dummy_gender ~ Education, data = SFS_data)\n",
    "# regress gender on education\n",
    "\n",
    "temp_data <-  tibble(wealth_leftovers = regression1$residual, gender_leftovers = regression2$residuals)\n",
    "# take whatever is left-over from those regressions, save it"
   ]
  },
  {
   "cell_type": "code",
   "execution_count": null,
   "id": "be8ad216-da53-438a-a53a-3b6c2b17a111",
   "metadata": {
    "pycharm": {
     "name": "#%%\n"
    },
    "vscode": {
     "languageId": "r"
    }
   },
   "outputs": [],
   "source": [
    "regression3 <- lm(wealth_leftovers ~ gender_leftovers, data = temp_data)\n",
    "# regress the leftovers on immigration status\n",
    "\n",
    "# compare the results with the multiple regression\n",
    "\n",
    "stargazer(regression1, regression2, regression3, multiple_model_1, title=\"Comparison of Multiple and Simple Regression Results\",\n",
    "          align = TRUE, type=\"text\", keep.stat = c(\"n\",\"rsq\"))"
   ]
  },
  {
   "cell_type": "markdown",
   "id": "66c99135-3e10-40ea-8b96-9b179a5184bc",
   "metadata": {
    "pycharm": {
     "name": "#%% md\n"
    }
   },
   "source": [
    "Look closely at these results.  You will notice that the coefficients on ``gender_leftovers`` in the \"control\" regression and ``gender`` in the multiple regression are *exactly the same*.\n",
    "\n",
    "> *Think Deeper:* What if we had done this experiment another way (``wealth`` and ``Education`` on ``gender``)?.  Which coefficients would match?  Why?\n",
    "\n",
    "This result is a consequence of the **Frisch-Waugh-Lovell theorem** about OLS - a variant of which is referred to as the \"regression anatomy\" equation.\n",
    "\n",
    "For our purposes, it does a very useful thing: it gives us a concrete way of thinking about what \"controls\" are doing: they are \"subtracting\" part of the variation from both the outcome and other explanatory variables.  In OLS, this is *exactly* what is happening - but for all variables at once! If you don't get it, don't worry about it too much. What is important is now we have a way to disentangle the effects on wealth, weather it be gender or education. "
   ]
  },
  {
   "cell_type": "markdown",
   "id": "63b7e17e-5b82-49b1-9cd2-b8348d869ea0",
   "metadata": {
    "pycharm": {
     "name": "#%% md\n"
    }
   },
   "source": [
    "## Part 2: Hands-On\n",
    "\n",
    "Now, it's time to continue our investigation of the gender-wealth gap, but now using our multiple regression tools.  As we discussed before, when we investigate the education-wealth gap, we usually want to \"hold fixed\" different kinds of variables.  We have already seen this, using the `Education` variable to control for the education-wealth gap.  However, there are many more variables we might want to include.\n",
    "\n",
    "For example, risky investments usually generate more returns and men are typically more willing to take risks - based on research that explores [psychological differences in how risk is processed between men and women](https://journals.sagepub.com/doi/abs/10.1177/0963721411429452) and research that explores [how the perception of a person's gender shapes how risk tolerant or risk adverse a person is thought to be](https://www.mendeley.com/catalogue/5a28efe5-479d-312a-bd80-32e6500a8f1c/). This implies that we may want to control for risky investments in the analysis.\n",
    "\n",
    "Let's try that now:"
   ]
  },
  {
   "cell_type": "code",
   "execution_count": null,
   "id": "d6b4c747-2666-474a-abd7-ce75c6bf0c5e",
   "metadata": {
    "pycharm": {
     "name": "#%%\n"
    },
    "vscode": {
     "languageId": "r"
    }
   },
   "outputs": [],
   "source": [
    "risk_regression1 <- lm(data = SFS_data, wealth ~ gender + Education + risk_proxy) \n",
    "#don't worry about what risk proxy is for now\n",
    "\n",
    "summary(risk_regression1)"
   ]
  },
  {
   "cell_type": "markdown",
   "id": "eda0efbb-fc5d-4620-be28-07127a00fcaf",
   "metadata": {
    "pycharm": {
     "name": "#%% md\n"
    }
   },
   "source": [
    "Once we control for risky investments, what do you see?  How has the gender-wealth gap changed?\n",
    "\n",
    "Another way is to study financial assets and stocks at the same time, so that we can understand how different categories of assets affect wealth."
   ]
  },
  {
   "cell_type": "code",
   "execution_count": null,
   "id": "b074009f-4669-45f1-92e5-9393a48e34a8",
   "metadata": {
    "pycharm": {
     "name": "#%%\n"
    },
    "vscode": {
     "languageId": "r"
    }
   },
   "outputs": [],
   "source": [
    "risk_regression2 <- lm(wealth ~ financial_asset + stock + bond + bank_deposits + mutual_funds + other_investments, data = SFS_data)\n",
    "\n",
    "summary(risk_regression2)"
   ]
  },
  {
   "cell_type": "markdown",
   "id": "60fe6ad2-4aef-4760-a4f6-1f097ecdaf6c",
   "metadata": {
    "pycharm": {
     "name": "#%% md\n"
    }
   },
   "source": [
    "Look closely at this result.  Do you see anything odd or problematic here? \n",
    "\n",
    "This is a topic we will revise later in this course, but this is **multicollinearity**.  Essentially, what this means is that one of the variables we have added to our model does not add any new information. \n",
    "\n",
    "In other words, once we control for the other variables, there's nothing left to explain.  Can you guess what variables are interacting to cause this problem?\n",
    "\n",
    "Let's dig deeper to see here:"
   ]
  },
  {
   "cell_type": "code",
   "execution_count": null,
   "id": "3bd14650-22b3-4b6e-b472-40290188d897",
   "metadata": {
    "pycharm": {
     "name": "#%%\n"
    },
    "vscode": {
     "languageId": "r"
    }
   },
   "outputs": [],
   "source": [
    "risk_reg1 <- lm(wealth ~ Education + stock + bond + bank_deposits + mutual_funds + other_investments, data = SFS_data)\n",
    "\n",
    "\n",
    "summary(risk_reg1)\n",
    "\n",
    "print(\"Leftovers from wealth ~ gender, education, stocks, bonds, ... \")\n",
    "head(round(risk_reg1$residuals,2))\n",
    "#peek at the leftover part of wealth\n",
    "\n",
    "risk_reg2 <- lm(financial_asset ~ Education + stock + bond + bank_deposits + mutual_funds + other_investments, data = SFS_data)\n",
    "\n",
    "\n",
    "summary(risk_reg2)\n",
    "\n",
    "print(\"Leftovers from financial asset ~ education, stock, bonds, ...\")\n",
    "head(round(risk_reg2$residuals,5))\n",
    "#peek at the leftover part of financial asset"
   ]
  },
  {
   "cell_type": "markdown",
   "id": "93896db1-1828-4586-9794-fac65793078a",
   "metadata": {
    "pycharm": {
     "name": "#%% md\n"
    },
    "tags": []
   },
   "source": [
    "> *Think Deeper:* Why is \"Average Leftovers from financial asset ~ Education + stock, bonds, ...\" equal to 0?\n",
    "\n",
    "As you can see, the residual from regressing `financial_asset ~ Education + stock + ...` is exactly (to machine precision) zero.  In other words, when you \"control\" for the asset classes, there's nothing left to explain about `financial_assets`.\n",
    "\n",
    "If we think about this, it makes sense: these \"controls\" are all the types of financial assets you could have!  So, if I tell you about them, you will immediately know the total value of my financial assets. \n",
    "\n",
    "\n",
    "This means that the final step of the multiple regression would be trying to solve this equation:\n",
    "\n",
    "$$\\hat{u_i} = \\delta_0 + \\delta_1 0 + \\eta_i$$\n",
    "\n",
    "--which does not have a unique solution for $\\delta_1$, meaning the regression model isn't well-posed.  R tries to \"fix\" this problem by getting rid of some variables, but this usually indicates that our model wasn't set-up properly in the first place.\n",
    "\n",
    "The lesson is that we can't just include controls without thinking about them; we have to pay close attention to their role in our model, and their relationship to other variables.\n",
    "\n",
    "For example, a *better* way to do this would be to just include `stock` and the total value instead of all the other classes (bank deposits, mutual funds, etc.): this is what `risk_proxy`: the ratio of stocks to total assets."
   ]
  },
  {
   "cell_type": "markdown",
   "id": "4b9695fe-d30f-4fad-acd7-37d917813576",
   "metadata": {
    "pycharm": {
     "name": "#%% md\n"
    },
    "tags": []
   },
   "source": [
    "You can also include different sets of controls in your model; often adding different \"layers\" of controls is a very good way to understand how different variables interact and affect your conclusions.  Here's an example, adding on several different \"layers\" of controls:"
   ]
  },
  {
   "cell_type": "code",
   "execution_count": null,
   "id": "7925a929-42e0-4b60-82d9-5e24b403a89d",
   "metadata": {
    "pycharm": {
     "name": "#%%\n"
    },
    "vscode": {
     "languageId": "r"
    }
   },
   "outputs": [],
   "source": [
    "regression1 <- lm(wealth ~ gender, data = SFS_data)\n",
    "regression2 <- lm(wealth ~ gender + Education, data = SFS_data)\n",
    "regression3 <- lm(wealth ~ gender + Education + risk_proxy, data = SFS_data)\n",
    "regression4 <- lm(wealth ~ gender + Education + risk_proxy + business + province + credit_limit, data = SFS_data)\n",
    "\n",
    "stargazer(regression1, regression2, regression3, regression4, title=\"Comparison of Controls\",\n",
    "          align = TRUE, type=\"text\", keep.stat = c(\"n\",\"rsq\"))"
   ]
  },
  {
   "cell_type": "markdown",
   "id": "55675ad5-cdd0-4a1f-a03e-41df708e2655",
   "metadata": {
    "pycharm": {
     "name": "#%% md\n"
    }
   },
   "source": [
    "A pretty big table!  Often, when we want to focus on just a single variable, we will simplify the table by just explaining which controls are included.  Here's an example which is much easier to read; it uses some formatting tricks which you don't need to worry about right now:"
   ]
  },
  {
   "cell_type": "code",
   "execution_count": null,
   "id": "e3a2f808-3eac-4d93-9ee2-9c807b60b230",
   "metadata": {
    "pycharm": {
     "name": "#%%\n"
    },
    "vscode": {
     "languageId": "r"
    }
   },
   "outputs": [],
   "source": [
    "var_omit = c(\"(province)\\\\w+\",\"(Education)\\\\w+\") #don't worry about this right now!\n",
    "\n",
    "stargazer(regression1, regression2, regression3, regression4, title=\"Comparison of Controls\",\n",
    "          align = TRUE, type=\"text\", keep.stat = c(\"n\",\"rsq\"), \n",
    "          omit = var_omit,\n",
    "          add.lines = list(c(\"Education Controls\", \"No\", \"Yes\", \"Yes\", \"Yes\"),\n",
    "                           c(\"Province Controls\", \"No\", \"No\", \"No\", \"Yes\")))\n",
    "\n",
    "#this is very advanced code; don't worry about it right now; we will come back to it at the end of the course"
   ]
  },
  {
   "cell_type": "markdown",
   "id": "dc676517-c620-4bb2-8027-3489f6524c04",
   "metadata": {
    "pycharm": {
     "name": "#%% md\n"
    }
   },
   "source": [
    "Notice in the above how the coefficients change when we change the included control variables.  Understanding this kind of variation is really important to interpreting a model, and whether or not the results are credible.  For example - ask yourself why the gender-wealth gap decreases as we include more control variables.  What do you think?\n",
    "\n",
    "### Omitted Variables\n",
    "\n",
    "Another important topic comes up in the context of multiple regression: **omitted variables**.  In a simple regression, this didn't really mean anything, but now it does.  When we have a large number of variables in a dataset, which ones do we include in our regression?  All of them?  Some of them?\n",
    "\n",
    "This is actually a very important problem, since it has crucial implication for the interpretation of our model.  For example, remember Assumption 1?  This is a statement about the \"true\" model - not what you are actually running.  It can very easily be violated when variables aren't included.\n",
    "\n",
    "We will revisit this later in the course, since it only really makes sense in the context of causal models, but for now we should pay close attention to which variables we are including and why.  Let's explore this, using the exercises."
   ]
  },
  {
   "cell_type": "markdown",
   "id": "840e062f-8bf2-4a97-b208-4893d6a8a361",
   "metadata": {
    "pycharm": {
     "name": "#%% md\n"
    }
   },
   "source": [
    "## Part 3: Exercises\n",
    "\n",
    "\n",
    "### Theoretical Activity 1\n",
    "\n",
    "Suppose you have a regression model that looks like:\n",
    "\n",
    "$$Y_i = \\beta_0 + \\beta_1 X_{i} + \\beta_2 D_{i} + \\epsilon_i$$\n",
    "\n",
    "Where $D_i$ is a dummy variable.  Recall that Assumption 1 implies that $E[\\epsilon_i|D_{i}, X_{i}] = 0$.  Suppose this assumption holds true.  Answer the following:\n",
    "\n",
    "1.  Compute $E[Y_i|X_i,D_i=1]$ and $E[Y_i|X_i,D_i=0]$\n",
    "2.  What is the difference between these two terms?\n",
    "3.  Interpret what the coefficient $\\beta_2$ means in this regression, using your answers in 1 and 2.\n",
    "\n",
    "#### Theoretical Answer 1\n",
    "\n",
    "**Complete the Exercise**: Carefully write your solutions in the box below.  Use mathematical notation where appropriate, and explain your results."
   ]
  },
  {
   "cell_type": "markdown",
   "id": "6c2cdb2b-1dde-4f62-990d-d7f1d1852552",
   "metadata": {
    "pycharm": {
     "name": "#%% md\n"
    }
   },
   "source": [
    "**TA 1 Answer**: <font color=\"red\">Answer in red here</font>"
   ]
  },
  {
   "cell_type": "markdown",
   "id": "fafdef6e-112f-4e7e-a9e3-68d893a57b37",
   "metadata": {
    "pycharm": {
     "name": "#%% md\n"
    }
   },
   "source": [
    "### Practical Activity 1\n",
    "\n",
    "To explore the mechanics of multiple regressions, let's return to the analysis that we did in Module 1; that is, let's re-examine the relationship between the gender income gap and education. \n",
    "\n",
    "Run a simple regression for the gender income gap (with a single regressor) for each education level. Then, run a multiple regression for the gender income gap that includes education (small e not big e) as a control.\n",
    "\n",
    "<em>Tested objects:</em> ``reg_LESS`` (simple regression; less than high school), ``reg_HS`` (high school diploma), ``reg_NU`` (Non-university post-secondary), ``reg_U`` (university),  ``reg2`` (multiple regression)."
   ]
  },
  {
   "cell_type": "code",
   "execution_count": null,
   "id": "250b901a-b81a-4173-9c5b-b8258d4b6eda",
   "metadata": {
    "pycharm": {
     "name": "#%%\n"
    },
    "vscode": {
     "languageId": "r"
    }
   },
   "outputs": [],
   "source": [
    "\n",
    "\n",
    "#Less than high school\n",
    "reg_LESS <- lm(???, data = filter(SFS_data, education == \"Less than high school\"))\n",
    "test_2() #For reg_LESS\n",
    "\n",
    "#High school diploma\n",
    "reg_HS <- lm(???, data = filter(SFS_data, education == \"High school\"))\n",
    "test_2.5() #For reg_HS\n",
    "\n",
    "#Non-university post-secondary\n",
    "reg_NU <- lm(???, data = filter(SFS_data, education == \"Non-university post-secondary\"))\n",
    "test_3() #For reg_NU\n",
    "\n",
    "\n",
    "#University\n",
    "reg_U <- lm(???, data = filter(SFS_data, education ==  \"University\"))\n",
    "test_3.5() #For reg_NU\n",
    "\n",
    "#Multiple regression\n",
    "reg2 <- lm(???, data = SFS_data)\n",
    "test_4() #For reg2\n",
    "\n",
    "#Table comparing regressions\n",
    "stargazer(reg_LESS, reg_HS, reg_NU, reg_U, \n",
    "          title = \"Comparing Conditional Regressions with Multiple Regression\", align = TRUE, type = \"text\", keep.stat = c(\"n\",\"rsq\")) \n",
    "summary(reg2)\n",
    "\n",
    "\n",
    "\n"
   ]
  },
  {
   "cell_type": "markdown",
   "id": "c44aae1b-4601-4a42-a893-bd971b549ab6",
   "metadata": {
    "pycharm": {
     "name": "#%% md\n"
    }
   },
   "source": [
    "### Short Answer 1\n",
    "**Prompt**: What variable \"value\" appears to be missing from the multiple regression in the table? How can we interpret the average income for the group associated with that value? Hint: Dummy Variables"
   ]
  },
  {
   "cell_type": "markdown",
   "id": "4c130fd4-fb1f-4ea6-8dee-f8fe6fe08cf6",
   "metadata": {
    "pycharm": {
     "name": "#%% md\n"
    }
   },
   "source": [
    " <font color=\"red\">Answer in red here</font>"
   ]
  },
  {
   "cell_type": "markdown",
   "id": "375fb7cc-237c-4b11-a4aa-afed64fae993",
   "metadata": {
    "pycharm": {
     "name": "#%% md\n"
    }
   },
   "source": [
    "### Short Answer 2\n",
    "Prompt: Compare the coefficient estimates for `gender` across each of the simple regressions. How does the gender income gap appear to vary across education levels? How should we interpret this variation?"
   ]
  },
  {
   "cell_type": "markdown",
   "id": "86a6ebb2-51b3-4ff6-884b-e04bafee8ace",
   "metadata": {
    "pycharm": {
     "name": "#%% md\n"
    }
   },
   "source": [
    "<font color=\"red\">Answer in red here</font>"
   ]
  },
  {
   "cell_type": "markdown",
   "id": "271532b5-6560-4524-a010-9ea20d6b66a5",
   "metadata": {
    "pycharm": {
     "name": "#%% md\n"
    }
   },
   "source": [
    "### Short Answer 3\n",
    "Prompt: Compare the simple regressions' estimates with those of the multiple regression. How does the multiple regression's coefficient estimate on `gender` compare to those estimates in the simple regressions? How can we interpret this? Further, how do we interpret the coefficient estimates on the other regressors in the multiple regression?"
   ]
  },
  {
   "cell_type": "markdown",
   "id": "04a90493-290d-46f1-9051-17286a0b2ad0",
   "metadata": {
    "pycharm": {
     "name": "#%% md\n"
    }
   },
   "source": [
    "<font color=\"red\">Answer in red here</font>"
   ]
  },
  {
   "cell_type": "markdown",
   "id": "460a5dd8-b7d2-48df-8ce6-d09af9bb0fe6",
   "metadata": {
    "pycharm": {
     "name": "#%% md\n"
    }
   },
   "source": [
    "### Activity 2\n",
    "Consider the multiple regression that we estimated in the previous activity:\n",
    "\n",
    "$$W_i = \\beta_0 + \\beta_1 Gender_i + \\beta_2 S_i + \\epsilon_i$$\n",
    "\n",
    "Note that $Gender_i$ is `gender` and $S_i$ is `education`."
   ]
  },
  {
   "cell_type": "markdown",
   "id": "de4cb458-3c34-4184-93ad-4a0ab1bdfec2",
   "metadata": {
    "pycharm": {
     "name": "#%% md\n"
    }
   },
   "source": [
    "### Short Answer 4\n",
    "Prompt: Why might we be skeptical of the argument that $\\beta_1$ captures the gender income gap (i.e., the effect of having female as the main earner on household's income, all else being equal)? What can we do to address these concerns?"
   ]
  },
  {
   "cell_type": "markdown",
   "id": "5cd41eb5-cd41-422c-af54-8b7ef782c09e",
   "metadata": {
    "pycharm": {
     "name": "#%% md\n"
    }
   },
   "source": [
    " <font color=\"red\">Answer in red here</font>"
   ]
  },
  {
   "cell_type": "markdown",
   "id": "201ac0e0-aede-4ded-ab8e-44fdd37caced",
   "metadata": {
    "pycharm": {
     "name": "#%% md\n"
    }
   },
   "source": [
    "### Short Answer 5\n",
    "Prompt: Suppose that a member of your research team suggests that we should add `age` as a control in the regression. Do you agree with this group member that this variable would be a good control? Why or why not?"
   ]
  },
  {
   "cell_type": "markdown",
   "id": "2d1ea2e0-5dfd-45b9-aa5a-cb2ef06cda27",
   "metadata": {
    "pycharm": {
     "name": "#%% md\n"
    }
   },
   "source": [
    " <font color=\"red\">Answer in red here</font>"
   ]
  },
  {
   "cell_type": "markdown",
   "id": "4c6e557a-fb70-4aa0-9da4-c8c12f950e6b",
   "metadata": {
    "pycharm": {
     "name": "#%% md\n"
    }
   },
   "source": [
    "Let's first simplify levels of age group using following codes."
   ]
  },
  {
   "cell_type": "code",
   "execution_count": null,
   "id": "a5733e7c-03d6-44bd-9333-0c633ecc7aa2",
   "metadata": {
    "pycharm": {
     "name": "#%%\n"
    },
    "vscode": {
     "languageId": "r"
    }
   },
   "outputs": [],
   "source": [
    "#Just run this!\n",
    "SFS_data <- \n",
    "        SFS_data %>%\n",
    "        mutate(agegr = case_when(\n",
    "              age == \"01\" ~ \"Under 30\",\n",
    "              age == \"02\" ~ \"Under 30\",\n",
    "              age == \"03\" ~ \"Under 30\",\n",
    "              age == \"04\" ~ \"30-45\",\n",
    "            age == \"05\" ~ \"30-45\",\n",
    "              age == \"06\" ~ \"30-45\",\n",
    "              age == \"07\" ~ \"45-60\",\n",
    "              age == \"08\" ~ \"45-60\",\n",
    "              age == \"09\" ~ \"45-60\",\n",
    "              age == \"10\" ~ \"60-75\",\n",
    "              age == \"11\" ~ \"60-75\",\n",
    "              age == \"12\" ~ \"60-75\",\n",
    "              age == \"13\" ~ \"Above 75\",\n",
    "              age == \"14\" ~ \"Above 75\",\n",
    "              )) %>%\n",
    "        mutate(agegr = as_factor(agegr))\n",
    "\n",
    "SFS_data$agegr <- relevel(SFS_data$agegr, ref = \"Under 30\") #Set \"Under 30\" as default factor level"
   ]
  },
  {
   "cell_type": "markdown",
   "id": "6e73b3e8-5fbc-4beb-b59a-1b56caf8d5b8",
   "metadata": {
    "pycharm": {
     "name": "#%% md\n"
    }
   },
   "source": [
    "Add `agegr` to the given multiple regression and compare it with the model that we estimated in the previous activity.\n",
    "\n",
    "<em>Tested Objects:</em> `reg3` (the same multiple regression that we estimated before, but with age added as a control)."
   ]
  },
  {
   "cell_type": "code",
   "execution_count": null,
   "id": "e73e353c-017e-450b-ad2c-45e02ac6a00b",
   "metadata": {
    "pycharm": {
     "name": "#%%\n"
    },
    "vscode": {
     "languageId": "r"
    }
   },
   "outputs": [],
   "source": [
    "\n",
    "#Add Age as Control\n",
    "#Add them in the order: gender, education, age\n",
    "reg3 <- lm(???, data = SFS_data)\n",
    "\n",
    "#Compare the regressions with and without this control\n",
    "stargazer(reg2, reg3, \n",
    "          title = \"Multiple Regressions with and without Age Controls\", align = TRUE, type = \"text\", keep.stat = c(\"n\",\"rsq\")) \n",
    "\n",
    "test_5() #For reg3 "
   ]
  },
  {
   "cell_type": "markdown",
   "id": "722d258c-4a05-42cd-bdd3-17c350adbfde",
   "metadata": {
    "pycharm": {
     "name": "#%% md\n"
    }
   },
   "source": [
    "### Short Answer 6\n",
    "Prompt: Compare the two regressions in the table above. What happens to the estimated gender income gap when we add age as a control? What might explain this effect?"
   ]
  },
  {
   "cell_type": "markdown",
   "id": "d520435b-8dc3-486b-8466-f48b81c62e9f",
   "metadata": {
    "pycharm": {
     "name": "#%% md\n"
    }
   },
   "source": [
    "<font color=\"red\">Answer in red here</font>"
   ]
  },
  {
   "cell_type": "markdown",
   "id": "290747b6-b87b-4231-a0c2-9e4aadcfab0a",
   "metadata": {
    "pycharm": {
     "name": "#%% md\n"
    }
   },
   "source": [
    "### Short Answer 7\n",
    "Prompt: Suppose that one of your fellow researchers argues that `employment` (employment status) should be added to the multiple regression as a control. That way, they reason, we can account for differences between employed and unemployed workers. Do you agree with their reasoning? Why or why not?"
   ]
  },
  {
   "cell_type": "markdown",
   "id": "bb3baa90-153f-4b33-bacb-d3af8742a1c5",
   "metadata": {
    "pycharm": {
     "name": "#%% md\n"
    }
   },
   "source": [
    "<font color=\"red\">Answer in red here</font>"
   ]
  },
  {
   "cell_type": "markdown",
   "id": "7aeaba8c-43de-4da9-b449-5ebc567d0dd3",
   "metadata": {
    "pycharm": {
     "name": "#%% md\n"
    }
   },
   "source": [
    "Let's test this argument directly. Add `employment` as a control to the multiple regression with all previous controls. Estimate this new regression (`reg4`)."
   ]
  },
  {
   "cell_type": "code",
   "execution_count": null,
   "id": "f9937f85-41a6-4266-adcf-f1b17eba40ef",
   "metadata": {
    "pycharm": {
     "name": "#%%\n"
    },
    "vscode": {
     "languageId": "r"
    }
   },
   "outputs": [],
   "source": [
    "\n",
    "# Add in the order before, with employment last\n",
    "reg4 <- lm(???, data = SFS_data)\n",
    "\n",
    "summary(reg4)\n",
    "\n",
    "test_5.5() "
   ]
  },
  {
   "cell_type": "markdown",
   "id": "11f9e31c-4a78-4b89-a19d-8461ef8b26bb",
   "metadata": {
    "pycharm": {
     "name": "#%% md\n"
    }
   },
   "source": [
    "### Short Answer 8\n",
    "Prompt: What happened when we tried to run the regression with `employment`? Does this \"result\" agree or disagree with your explanation in Short Answer 7?"
   ]
  },
  {
   "cell_type": "markdown",
   "id": "23ca7294-f457-4e64-a53f-81aa62cbb694",
   "metadata": {
    "pycharm": {
     "name": "#%% md\n"
    }
   },
   "source": [
    "<font color=\"red\">Answer in red here</font>"
   ]
  },
  {
   "cell_type": "markdown",
   "id": "4282f48e-4056-4494-85a5-a9455e59449e",
   "metadata": {
    "pycharm": {
     "name": "#%% md\n"
    }
   },
   "source": [
    "### Activity 3"
   ]
  },
  {
   "cell_type": "markdown",
   "id": "284dcf25-b020-4b02-a584-16c4eb70cb6d",
   "metadata": {
    "pycharm": {
     "name": "#%% md\n"
    }
   },
   "source": [
    "In the middle of your team's discussion of which controls they should add to the multiple regression (the same one as the previous activity), your roommate bursts into the room and yells \"Just add them all!\" After a moment of confused silence, the roommate elaborates that it never hurts to add controls as long as they don't \"break\" the regression (like `employment` and `agegr`). \"Data is hard to come by, so we should use as much of it as we can get,\" he says.\n",
    "\n",
    "Recall: Below are all of the variables in the dataset."
   ]
  },
  {
   "cell_type": "code",
   "execution_count": null,
   "id": "a2154e71-1d6a-482f-8c15-5011d9fc2500",
   "metadata": {
    "pycharm": {
     "name": "#%%\n"
    },
    "vscode": {
     "languageId": "r"
    }
   },
   "outputs": [],
   "source": [
    "glimpse(SFS_data) #Run Me!"
   ]
  },
  {
   "cell_type": "markdown",
   "id": "5d1f948d-db6b-466c-a036-74e5a3dcaa02",
   "metadata": {
    "pycharm": {
     "name": "#%% md\n"
    }
   },
   "source": [
    "### Short Answer 9\n",
    "Prompt: Do you agree with your roommate's argument? Why or why not?"
   ]
  },
  {
   "cell_type": "markdown",
   "id": "1b4025d3-9d4f-47ce-b775-97f808467c0d",
   "metadata": {
    "pycharm": {
     "name": "#%% md\n"
    }
   },
   "source": [
    "<font color=\"red\">Answer in red here</font>"
   ]
  },
  {
   "cell_type": "markdown",
   "id": "3df034a9-27cd-4591-8bef-b1c02decb6cb",
   "metadata": {
    "pycharm": {
     "name": "#%% md\n"
    }
   },
   "source": [
    "Let's back up our argument with regression analysis. Estimate a regression that has the same controls as `reg3` from the previous activity, but add `pasrbuyg` as a control as well.\n",
    "\n",
    "<em>Tested Objects:</em> `reg5`.\n",
    "\n",
    "What is \"pasrbuyg\"?"
   ]
  },
  {
   "cell_type": "code",
   "execution_count": null,
   "id": "9f054ebc-045a-4ad7-91d2-9720af00fee7",
   "metadata": {
    "pycharm": {
     "name": "#%%\n"
    },
    "vscode": {
     "languageId": "r"
    }
   },
   "outputs": [],
   "source": [
    "dictionary(???) #What goes in here?"
   ]
  },
  {
   "cell_type": "code",
   "execution_count": null,
   "id": "b20a0336-25c0-4ea6-8b08-ea8f7d84a666",
   "metadata": {
    "pycharm": {
     "name": "#%%\n"
    },
    "vscode": {
     "languageId": "r"
    }
   },
   "outputs": [],
   "source": [
    "source(\"functions3.r\")\n",
    "#Add pasrbuyg to regression\n",
    "#Keep the order (gender, education, agegr, pasrbuyg)\n",
    "reg5 <- lm(???, data = SFS_data)\n",
    "\n",
    "#Table comparing regressions with and without ppsort\n",
    "stargazer(reg3, reg5,\n",
    "          title = \"Multiple Regressions with and without ppsort\", align = TRUE, type = \"text\", keep.stat = c(\"n\",\"rsq\")) \n",
    "\n",
    "test_6() #For reg5 "
   ]
  },
  {
   "cell_type": "markdown",
   "id": "15004124-d90a-4f18-a6a5-4128db70505d",
   "metadata": {
    "pycharm": {
     "name": "#%% md\n"
    }
   },
   "source": [
    "### Short Answer 10\n",
    "Prompt: Does the table above suggest that we should add `pasrbuyg` as a control?"
   ]
  },
  {
   "cell_type": "markdown",
   "id": "3f045f36-e1a6-4006-b9ba-fed28b02d2dd",
   "metadata": {
    "pycharm": {
     "name": "#%% md\n"
    }
   },
   "source": [
    "<font color=\"red\">Answer in red here</font>"
   ]
  },
  {
   "cell_type": "markdown",
   "id": "b5c0d533-ed15-4741-9bae-bad95664bc9d",
   "metadata": {
    "pycharm": {
     "name": "#%% md\n"
    }
   },
   "source": [
    "### Short Answer 11\n",
    "Prompt: What other variables can be added as controls?"
   ]
  },
  {
   "cell_type": "markdown",
   "id": "c8424861-70d9-4674-b9c9-f9361c50ff5d",
   "metadata": {
    "pycharm": {
     "name": "#%% md\n"
    }
   },
   "source": [
    "<font color=\"red\">Answer in red here</font>"
   ]
  }
 ],
 "metadata": {
  "kernelspec": {
   "display_name": "R",
   "language": "R",
   "name": "ir"
  },
  "language_info": {
   "codemirror_mode": "r",
   "file_extension": ".r",
   "mimetype": "text/x-r-source",
   "name": "R",
   "pygments_lexer": "r",
   "version": "4.1.1"
  }
 },
 "nbformat": 4,
 "nbformat_minor": 5
}
