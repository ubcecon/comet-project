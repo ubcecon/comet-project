{
  "cells": [
    {
      "cell_type": "markdown",
      "metadata": {},
      "source": [
        "# 04 - ECON 326: Issues in Regression using R\n",
        "\n",
        "COMET Team <br> *Emrul Hasan, Jonah Heyl, Shiming Wu, William Co,\n",
        "Jonathan Graves*  \n",
        "2022-12-08\n",
        "\n",
        "## Outline\n",
        "\n",
        "### Prerequisites\n",
        "\n",
        "-   Multiple regression\n",
        "-   Simple regression\n",
        "-   Data analysis and introduction\n",
        "\n",
        "### Outcomes\n",
        "\n",
        "-   Understand the origin and meaning of multicollinearity in regression\n",
        "    models\n",
        "-   Perform simple tests for multicollinerarity using VIF\n",
        "-   Be able to demonstrate common methods to fix or resolve collinear\n",
        "    data\n",
        "-   Understand the origin and meaning of heteroskedasticity in\n",
        "    regression models\n",
        "-   Perform a variety of tests for heteroskedasticity\n",
        "-   Compute robust standard errors for regression models\n",
        "-   Understand other techniques for resolving heteroskedasticity in\n",
        "    regression models\n",
        "\n",
        "### Notes\n",
        "\n",
        "Note that the data in this exercise is provided under the Statistics\n",
        "Canada Open License: \\> <span id=\"fn1\">[<sup>1</sup>](#fn1s)Statistics\n",
        "Canada, Survey of Financial Security, 2019, 2021. Reproduced and\n",
        "distributed on an “as is” basis with the permission of Statistics\n",
        "Canada.Adapted from Statistics Canada, Survey of Financial Security,\n",
        "2019, 2021. This does not constitute an endorsement by Statistics Canada\n",
        "of this product.</span>\n",
        "\n",
        "> <span id=\"fn2\">[<sup>2</sup>](#fn2s)Stargazer package is due to:\n",
        "> Hlavac, Marek (2018). stargazer: Well-Formatted Regression and Summary\n",
        "> Statistics Tables. R package version 5.2.2.\n",
        "> https://CRAN.R-project.org/package=stargazer </span>"
      ],
      "id": "3319cbac-ecf9-41ff-84f3-f8c473acdbab"
    },
    {
      "cell_type": "code",
      "execution_count": null,
      "metadata": {
        "pycharm": {
          "name": "#%%\n"
        },
        "tags": [],
        "vscode": {
          "languageId": "r"
        }
      },
      "outputs": [],
      "source": [
        "#load the data and set it up\n",
        "library(car)\n",
        "library(tidyverse)\n",
        "library(haven)\n",
        "library(stargazer)\n",
        "library(lmtest)\n",
        "library(sandwich)"
      ],
      "id": "0a49e369-18f8-4d09-b2ab-1bf65f19e23c"
    },
    {
      "cell_type": "code",
      "execution_count": null,
      "metadata": {
        "pycharm": {
          "name": "#%%\n"
        },
        "vscode": {
          "languageId": "r"
        }
      },
      "outputs": [],
      "source": [
        "source(\"functions4.r\")\n",
        "SFS_data <- read_dta(\"../datasets/SFS_2019_Eng.dta\")\n",
        "SFS_data <- clean_up_data(SFS_data) #this function is explained in module 1"
      ],
      "id": "66cc52dd-08cd-4bdf-8b5a-3c5f215ee812"
    },
    {
      "cell_type": "code",
      "execution_count": null,
      "metadata": {
        "pycharm": {
          "name": "#%%\n"
        },
        "vscode": {
          "languageId": "r"
        }
      },
      "outputs": [],
      "source": [
        "glimpse(SFS_data)"
      ],
      "id": "e1ccaa82-0e62-4e0e-b8e7-1d257aa3acb0"
    },
    {
      "cell_type": "markdown",
      "metadata": {},
      "source": [
        "In this notebook, we will explore several important issues in multiple\n",
        "regression models, and explore how to identify, evaluate, and correct\n",
        "them where appropriate. It is important to remember that there can be\n",
        "many other issues that arise in specific regression models; as you learn\n",
        "more about econometrics and create your own research questions,\n",
        "different issues will arise. Consider these as “examples” for some of\n",
        "the most common issues that arise in regression models.\n",
        "\n",
        "## Part 1: Multicollinearity\n",
        "\n",
        "Multi-collinearity is a surprisingly common issue in applied regression\n",
        "analysis, where several explanatory variables are correlated to each\n",
        "other. For example, suppose we are interested at regressing one’s\n",
        "marriage rate against years of education and annual income. In this\n",
        "case, the two explanatory variables income and years of education are\n",
        "highly correlated. It refers to the situation where a variable is\n",
        "“overdetermined” by the other variables in a model, which will result in\n",
        "less reliable regression output. For example, if we have a high\n",
        "coefficient on education. How certain are we that this coefficient was\n",
        "not the result of having a high annual income as well? Let’s look at\n",
        "this problem mathematically; in calculating an OLS estimation, you are\n",
        "estimating a relationship like:\n",
        "\n",
        "$$Y_i = \\beta_a + \\beta_1 X_1 + \\epsilon_i$$\n",
        "\n",
        "You find the estimates of the coefficients in this model using OLS;\n",
        "i.e. solving an equation like:\n",
        "\n",
        "$$ \\min_{b_0, b_1} \\sum_{i=1}^n(Y_i - b_0 -b_1 X_i)^2 $$\n",
        "\n",
        "Under the OLS regression assumptions, this has a unique solution; i.e\n",
        "you can find unique values for $b_0$ and $b_1$.\n",
        "\n",
        "However, what if you wrote an equation like this:\n",
        "$$\\beta a=\\beta_0+\\beta_1 $$ We can then rewrite as\n",
        "$$Y_i = \\beta_0 + \\beta_1 + \\beta_2 X_i + \\epsilon_i$$\n",
        "\n",
        "This *seems* like it would be fine, but remember what you are doing:\n",
        "trying to find a *line* of best fit. The problem is that this equation\n",
        "does not define a unique line; the “intercept” is $\\beta_0 + \\beta_1$.\n",
        "There are two “parameters” ($\\beta_0, \\beta_1$) for a single\n",
        "“characteristics” (the intercept). This means that the resulting OLS\n",
        "problem:\n",
        "\n",
        "$$ \\min_{b_0, b_1, b_2} \\sum_{i=1}^n(Y_i - b_0 -b_1 -b_2 X_i)^2 $$\n",
        "\n",
        "Does not have a unique solution. In algebraic terms, it means you can\n",
        "find many representations of a line with two intercept parameters. This\n",
        "is referred to in econometrics as a lack of **identification**;\n",
        "multicollinearity is one way that identification can fail in regression\n",
        "models.\n",
        "\n",
        "You can see this in the following example, which fits an OLS estimate of\n",
        "`wealth` and `income_before_tax` then compares the fit to a regression\n",
        "with two intercepts. Try changing the values to see what happens.\n",
        "\n",
        "> **Note**: Make sure to understand what the example below is doing.\n",
        "> Notice how the results are exactly the same, no matter what the value\n",
        "> of `k` is?"
      ],
      "id": "837a32a5-f70f-4346-96d7-59ab8544caa4"
    },
    {
      "cell_type": "code",
      "execution_count": null,
      "metadata": {
        "pycharm": {
          "name": "#%%\n"
        },
        "vscode": {
          "languageId": "r"
        }
      },
      "outputs": [],
      "source": [
        "reg <- lm(wealth ~ income_before_tax, data = SFS_data)\n",
        "\n",
        "b_0 <- reg$coef[[1]]\n",
        "b_1 <- reg$coef[[2]]\n",
        "\n",
        "resid1 <- SFS_data$wealth - b_0 - b_1*SFS_data$income_before_tax\n",
        "\n",
        "\n",
        "k <- 90 #change me! \n",
        "\n",
        "b_0 = (reg$coef[[1]])/2 - k\n",
        "b_1 = (reg$coef[[1]])/2 + k \n",
        "b_2 = reg$coef[[2]]\n",
        "\n",
        "resid2 <-SFS_data$wealth - b_0 - b_1 - b_2*SFS_data$income_before_tax\n",
        "\n",
        "\n",
        "\n",
        "ggplot() + geom_density(aes(x = resid1), color = \"blue\") + xlab(\"Residuals from 1 Variable Model\") + ylab(\"Density\")\n",
        "ggplot() + geom_density(aes(x = resid2), color = \"red\")  + xlab(\"Residuals from 2 Variable Model\") + ylab(\"Density\")"
      ],
      "id": "25d5fe61-afcf-4460-80f1-729271f892d9"
    },
    {
      "cell_type": "markdown",
      "metadata": {},
      "source": [
        "Notice how the residuals look *exactly* the same - despite these being\n",
        "from (purportedly) two different models. This is because they not really\n",
        "two different models! They *identify* the same model!\n",
        "\n",
        "Okay, you’re probably thinking, that makes sense - but just don’t write\n",
        "down an equation like that. After all, it seems somewhat artificial that\n",
        "we added an extra intercept term.\n",
        "\n",
        "However, multicollinearly can occur with *any* set of variables in the\n",
        "model; not just the intercept. For example, suppose you have a multiple\n",
        "regression:\n",
        "\n",
        "$$Y_ i = \\beta_0 + \\beta_1 X_{1,i} + \\beta_2  X_{2,i} + \\beta_3  X_{3,i} + \\epsilon_i$$\n",
        "\n",
        "What would happen if there was a relationship between $X_1, X_2$ and\n",
        "$X_3$ like:\n",
        "\n",
        "$$X_{1,i} = 0.4 X_{2,i} + 12 X_{3,i}$$\n",
        "\n",
        "When, we could then re-write the equation as:\n",
        "\n",
        "$$Y_ i = \\beta_0 + \\beta_1 (0.4 X_{2,i} + 12 X_{3,i}) + \\beta_2  X_{2,i} + \\beta_3  X_{3,i} + \\epsilon_i$$\n",
        "\n",
        "$$\\implies Y_ i = \\beta_0 + (\\beta_2 + 0.4 \\beta_1)  X_{2,i} + (\\beta_3 + 12 \\beta_1)X_{3,i} + \\epsilon_i$$\n",
        "\n",
        "The same problem is now occuring, but with $X_2$ and $X_3$: the slope\n",
        "coefficients depend on a free parameter ($\\beta_1$). You cannot uniquely\n",
        "find the equation of a line (c.f. plane) with this kind of equation.\n",
        "\n",
        "Basically what is happening, is you are trying to solve a system of\n",
        "equations for 3 variables (or n variables), but only 2 (or n-1) are used\n",
        "in the equation (are independent). So what would you do, well you would\n",
        "leave one of the dependent variables out, so you could solve for all of\n",
        "your variables, this is exactly what R does.\n",
        "\n",
        "You can also intuitively see the condition here: multicollinearity\n",
        "occurs when you can express one variable as a *linear* combination of\n",
        "the other variables in the model.\n",
        "\n",
        "-   This is sometimes referred to as **perfect multicollinearity**,\n",
        "    since the variable is *perfectly* expressed as a linear combination\n",
        "    of the other variable.\n",
        "-   The linearity is important because this is a linear model; you can\n",
        "    have similar issues in other models, but it has a special name in\n",
        "    linear regression\n",
        "\n",
        "### Perfect Multicollinearity in Models\n",
        "\n",
        "In general, most statistical packages (like R) will automatically\n",
        "detect, warn, and remove perfectly multicollinear variables from a\n",
        "model; this is because the algorithm they use to solve problems like the\n",
        "OLS estimation equation detects the problem and avoids a “crash”. This\n",
        "is fine, from a mathematical perspective - since mathematically the two\n",
        "results are the same (in a well-defined sense, as we saw above).\n",
        "\n",
        "However, from an economic perspective this is very bad - it indicates\n",
        "that there was a problem with the *model* that you defined in the first\n",
        "place. Usually, this means one of three things:\n",
        "\n",
        "1.  You included a set of variables which were, in combination,\n",
        "    identical. For example, including “family size” and then “number of\n",
        "    children” and “number of adults” in a regression\n",
        "2.  You did not understand the data well enough, and variables had less\n",
        "    variation than you thought they did - conditional on the other\n",
        "    variables in the model. For example, maybe you thought people in the\n",
        "    dataset could have both graduate and undergraduate degrees - so\n",
        "    there was variation in “higher than high-school” but that wasn’t\n",
        "    true\n",
        "3.  You wrote down a model which was poorly defined in terms of the\n",
        "    variables. For example, you including all levels of a dummy\n",
        "    variable, or included the same variable measured in two different\n",
        "    units (wages in dollars and wages in 1000s of dollars).\n",
        "\n",
        "In all of these cases, you need to go back to your original regression\n",
        "model and re-evaluate what you are trying to do in order to simplify the\n",
        "model or correct the error.\n",
        "\n",
        "Consider the following regression model, in which we want to study\n",
        "whether or not there is a penalty for families led by someone who is\n",
        "younger is the SFS Data:"
      ],
      "id": "a12b72f2-531c-40e1-b4a1-78928a8bfd96"
    },
    {
      "cell_type": "code",
      "execution_count": null,
      "metadata": {
        "pycharm": {
          "name": "#%%\n"
        },
        "vscode": {
          "languageId": "r"
        }
      },
      "outputs": [],
      "source": [
        "SFS_data <- SFS_data %>%\n",
        "    mutate(ya = case_when(\n",
        "        education == \"Less than high school\"  ~ \"Yes\",\n",
        "        education == \"High school\" ~ \"Yes\",\n",
        "        education == \"Non-university post-secondary\" ~ \"No\", #this is for all other cases\n",
        "        TRUE ~ \"No\" #this is for all other cases\n",
        "    )) %>%\n",
        "    mutate(ya = as_factor(ya))\n",
        "\n",
        "regression2 <- lm(income_before_tax ~ ya + education , data = SFS_data)\n",
        "\n",
        "summary(regression2)"
      ],
      "id": "1da56f00-c3a5-4692-a4b9-6351a791fb16"
    },
    {
      "cell_type": "markdown",
      "metadata": {},
      "source": [
        "Can you see why the multi-collinearity is occurring here? Try to write\n",
        "down an equation which points out what the problem is in this\n",
        "regression - why is it multi-collinear? How could you fix this problem\n",
        "by changing the model?\n",
        "\n",
        "> *Think Deeper*: You will notice, above, that it excluded the\n",
        "> “University” education. Did it have to exclude that one? Could it have\n",
        "> excluded another one instead? What do you think?\n",
        "\n",
        "### Imperfect Multicollinearity\n",
        "\n",
        "A related issue to perfect multicollinearity is “near” (or\n",
        "**imperfect**) multicollinearity. If you recall from the above, perfect\n",
        "multicollinearity occurs when you have a relationship like:\n",
        "\n",
        "$$X_{1,i} = 0.4 X_{2,i} + 12 X_{3,i}$$\n",
        "\n",
        "Notice that in this relationship it holds *for all* values of $i$.\n",
        "However, what if it held for *nearly* all $i$ instead? In that case, we\n",
        "would still have a solution to the equation… but there would be a\n",
        "problem. Let’s look at this in the simple regression case.\n",
        "\n",
        "$$Y_i = \\beta_0 + \\beta_1 X_i + \\epsilon_i$$\n",
        "\n",
        "Now, let’s suppose that $X_i$ is “almost” collinear with $\\beta_0$. To\n",
        "be precise, suppose that $X_i = 15$ for $k$-% of the data ($k$ will be\n",
        "large) and $X_i = 20$ for $(1-k)$-% of the data. This is *almost*\n",
        "constant, and so it is *almost* collinear with $\\beta_0$ (the constant).\n",
        "Let’s also make the values of $Y_i$ so that\n",
        "$Y_i(X_i) = X_i + \\epsilon_i$ (so $\\beta_1 = 1$), and we will set\n",
        "$\\sigma_Y = 1$\n",
        "\n",
        "This implies that (applying some of the formulas from class):\n",
        "\n",
        "$$\\beta_1 = \\frac{Cov(X_i,Y_i)}{Var(X_i)} = 1$$\n",
        "\n",
        "$$s_b = \\frac{1}{\\sqrt{n-2}}\\sqrt{\\frac{1}{r^2}-1}$$\n",
        "\n",
        "$$r = \\frac{\\sigma_X}{\\sigma_Y}$$\n",
        "\n",
        "As you can see, when $Var(X_i)$ goes down, $\\sigma_X$ falls, and the\n",
        "value of $r$ falls; intuitively, when $k$ rises, the variance will go to\n",
        "zero, which makes $r$ go to zero as well (since there’s no variation).\n",
        "You can then see that $s_b$ diverges to infinity.\n",
        "\n",
        "We can make this more precise. In this model, how does $Var(X_i)$ depend\n",
        "on $k$? Well, first notice that\n",
        "$\\bar{X_i} = 15\\cdot k + 20 \\cdot (1-k)$. Then,\n",
        "\n",
        "$$Var(X_i) = (X_i - \\bar{X_i})^2 = k (15 - \\bar{X_i})^2 + (1-k)(20 - \\bar{X_i})^2$$\n",
        "\n",
        "$$\\implies Var(X_i) = 25[k(1-k)^2 + (1-k)k^2]$$\n",
        "\n",
        "Okay, that looks awful - so let’s plot a graph of $s_b$ versus $k$ (when\n",
        "$n = 1000$):"
      ],
      "id": "52a4b5c5-0a13-4bc6-94e7-0811342c28a7"
    },
    {
      "cell_type": "code",
      "execution_count": null,
      "metadata": {
        "pycharm": {
          "name": "#%%\n"
        },
        "vscode": {
          "languageId": "r"
        }
      },
      "outputs": [],
      "source": [
        "options(repr.plot.width=6,repr.plot.height=4)\n",
        "\n",
        "r = 0.01 \n",
        "\n",
        "eq = function(k){(1/sqrt(1000-2))*(1/(25*(k*(1-k)^2 + (1-k)*k^2))-1)}\n",
        "s = seq(0.5, 1.00, by = r)\n",
        "n = length(s)\n",
        "\n",
        "plot(eq(s), type='l',  xlab=\"Values of K\", ylab=\"Standard Error\", xaxt = \"n\")\n",
        "axis(1, at=seq(0, n-1, by = 10), labels=seq(0.5, 1.00, by = 10*r))\n",
        "\n",
        "# You will notice that the plot actually diverges to infinity\n",
        "# Try making R smaller to show this fact!\n",
        "#Notice the value at 1 increases"
      ],
      "id": "6a89c670-d035-4053-9a0e-90d4dbebc2b7"
    },
    {
      "cell_type": "markdown",
      "metadata": {},
      "source": [
        "Why does this happen? The reason actually has to do with *information*.\n",
        "\n",
        "When you estimate a regression, you are using the variation in the data\n",
        "to estimate each of the parameters. As the variation falls, the\n",
        "estimation gets less and less precise, because you are using less and\n",
        "less data to make an evaluation. The magnitude of this problem can be\n",
        "quantified using the **VIF** or **variance inflation factor** for each\n",
        "of the variables in question.Graphically you can think of regression as\n",
        "drawing a best fit line through data points. Now if the variance is $0$\n",
        "in the data, there is just one data point.If you remember from high\n",
        "school you need two points to draw a line, so with $0$ variance the OLS\n",
        "problem becomes ill-defined.\n",
        "\n",
        "We can calculate this directly in R by using the `vif` function. Let’s\n",
        "look at the collinearity in our model:"
      ],
      "id": "59873b26-8a4c-455f-befb-df71d59c9f0e"
    },
    {
      "cell_type": "code",
      "execution_count": null,
      "metadata": {
        "pycharm": {
          "name": "#%%\n"
        },
        "vscode": {
          "languageId": "r"
        }
      },
      "outputs": [],
      "source": [
        "regression2 <- lm(wealth ~  income_before_tax +income_after_tax, data = SFS_data)\n",
        "\n",
        "summary(regression2)"
      ],
      "id": "e4a447cb-579e-4bb5-a32c-2ad7d92d3416"
    },
    {
      "cell_type": "code",
      "execution_count": null,
      "metadata": {
        "pycharm": {
          "name": "#%%\n"
        },
        "vscode": {
          "languageId": "r"
        }
      },
      "outputs": [],
      "source": [
        "cat(\"Variance inflation factor of income after tax on wealth: \",vif(regression2,SFS_data$income_after_tax,SFS_data$wealth),'\\n')\n",
        "cat(\"Variance inflation factor of income before tax on wealth: \",vif(regression2,SFS_data$income_before_tax,SFS_data$wealth),'\\n')\n",
        "cat(\"Variance inflation factor of income before tax on income after tax: \",vif(regression2,SFS_data$income_before_tax,SFS_data$income_after_tax),'\\n')"
      ],
      "id": "343bb910-a817-496f-9b08-df710af6d58b"
    },
    {
      "cell_type": "markdown",
      "metadata": {},
      "source": [
        "Notice the extremely large VIF. This would indicate that you have a\n",
        "problem with collinearity in your data.\n",
        "\n",
        "> *Think Deeper*: What happens to the VIF as `k` changes? Why? Can you\n",
        "> explain?\n",
        "\n",
        "There are no “hard” rules for what makes a VIF too large - you should\n",
        "think about your model holistically, and use it as a way to investigate\n",
        "whether you have any problems with your model evaluation and analysis.\n",
        "\n",
        "## Part 2: Heteroskedasticity\n",
        "\n",
        "**Heteroskedasticity** (Het-er-o-sked-as-ti-city) is another common\n",
        "problem in many economic models. It refers to the situation in which the\n",
        "distribution of the residuals changes as the explanatory variables\n",
        "change. Usually, we could visualize this problem by drawing a residual\n",
        "plot and a fan or cone shape indicates the presence of\n",
        "heteroskedasticity. For example, consider this regression:"
      ],
      "id": "32569a4f-8b3d-4c7e-aeb0-0f9bc4886cdc"
    },
    {
      "cell_type": "code",
      "execution_count": null,
      "metadata": {
        "pycharm": {
          "name": "#%%\n"
        },
        "vscode": {
          "languageId": "r"
        }
      },
      "outputs": [],
      "source": [
        "regression3 <- lm(income_before_tax ~ income_after_tax, data = SFS_data)\n",
        "\n",
        "ggplot(data = SFS_data, aes(x = as.numeric(income_after_tax), y = as.numeric(regression3$residuals))) + geom_point() + labs(x = \"After-tax income\", y = \"Residuals\")"
      ],
      "id": "0e264f29-4fcd-4528-9807-c8c1bf57e64a"
    },
    {
      "cell_type": "markdown",
      "metadata": {},
      "source": [
        "This obviously does not look like a distribution which is unchanging as\n",
        "market income changes. This is a good “eyeball test” for\n",
        "heteroskedasticty. Why does heteroskedasticity arise? For many reasons:\n",
        "\n",
        "1.  It can be a property of the data; it just happens that some values\n",
        "    show more variation, due to the process which creates the data. One\n",
        "    of the most common ways this can arise is where there are several\n",
        "    different economic processes creating the data.\n",
        "\n",
        "2.  It can be because of an unobserved variable. This is similar to\n",
        "    above; if we can quantify that process in a variable or a\n",
        "    description, we have left it out. This could create bias in our\n",
        "    model, but it will also show up in the standard errors in this way.\n",
        "\n",
        "3.  It can be because of your model specification. Models, by their very\n",
        "    nature, can be heteroskedastic (or not); we will explore one\n",
        "    important example later in this worksheet.\n",
        "\n",
        "4.  There are many other reasons, which we won’t get into here.\n",
        "\n",
        "Whatever the reason it exists, you need to correct for it - if you\n",
        "don’t, while your coefficients will be OK, your standard errors will be\n",
        "incorrect. You can do this in a few ways. The first way is to try to\n",
        "change your variables that the “transformed” model (a) makes economic\n",
        "sense, and (b) no longer suffers from heteroskedasticity. For example,\n",
        "perhaps a *log-log* style model might work here:"
      ],
      "id": "b14d77ba-380f-4759-a268-4517e8f8a549"
    },
    {
      "cell_type": "code",
      "execution_count": null,
      "metadata": {
        "pycharm": {
          "name": "#%%\n"
        },
        "vscode": {
          "languageId": "r"
        }
      },
      "outputs": [],
      "source": [
        "SFS_data <- SFS_data %>%\n",
        "               filter(income_before_tax > 0) %>% #getting rid of NAs\n",
        "               mutate(lnincome_before_tax = log(income_before_tax))\n",
        "\n",
        "SFS_data <- SFS_data %>%\n",
        "               filter(income_after_tax > 0) %>%\n",
        "               mutate(lnincome_after_tax = log(income_after_tax))\n",
        "\n",
        "\n",
        "regression4 <- lm(lnincome_before_tax ~ lnincome_after_tax, data = SFS_data)\n",
        "\n",
        "ggplot(data = SFS_data, aes(x = lnincome_before_tax, y = regression4$residuals)) + geom_point() + labs(x = \"Log of before-tax income\", y = \"Residuals\")"
      ],
      "id": "6fc091e8-d969-4eaa-934a-5e230a76e85a"
    },
    {
      "cell_type": "markdown",
      "metadata": {},
      "source": [
        "> *Think Deeper*: Does the errors of this model seem homoskedastic?\n",
        "\n",
        "As you can see, that didn’t work out. This is pretty typical: when you\n",
        "transform a model by changing the variables, what you are really doing\n",
        "is adjusting how you think the data process should be described so that\n",
        "it’s no longer heteroskedastic. If you aren’t correct with this, you\n",
        "won’t fix the problem.\n",
        "\n",
        "For example, in a *log-log* model, we are saying “there’s a\n",
        "multiplicative relationship”… but that probably doesn’t make sense here.\n",
        "This is one of the reasons why data transformations are not usually a\n",
        "good way to fix this problem unless you have a very clear idea of what\n",
        "the transformation *should* be.\n",
        "\n",
        "The most robust (no pun intended) way is to simply use standard errors\n",
        "which are robust to heteroskedasticity. There are actually a number of\n",
        "different versions of these (which you don’t need to know about), but\n",
        "they are all called **HC** or **hetereoskedasticity-corrected** standard\n",
        "errors. In economics, we typically adopt White’s versions of these\n",
        "(called **HC1** in the literature); these are often referred to in\n",
        "economics papers as “robust” standard errors (for short).\n",
        "\n",
        "This is relatively easy to do in R. Basically, you run your model, as\n",
        "normal, and then re-test the coefficients to get the correct error using\n",
        "the `coeftest` command, but specifying which kind of errors you want to\n",
        "use. Here is an example:"
      ],
      "id": "591b1c67-e642-4777-a187-880a51db1409"
    },
    {
      "cell_type": "code",
      "execution_count": null,
      "metadata": {
        "pycharm": {
          "name": "#%%\n"
        },
        "vscode": {
          "languageId": "r"
        }
      },
      "outputs": [],
      "source": [
        "regression5 <- lm(income_before_tax ~ income_after_tax, data = SFS_data)\n",
        "\n",
        "summary(regression5)\n",
        "\n",
        "coeftest(regression5, vcov = vcovHC(regression5, type = \"HC1\"))"
      ],
      "id": "ade4d271-36c0-4df1-b36c-a5059b2ec9d5"
    },
    {
      "cell_type": "markdown",
      "metadata": {},
      "source": [
        "As you can see, the standard errors (and significance tests) give\n",
        "different results; in particular, the HC1 errors are almost 10-times\n",
        "larger than the uncorrected errors. In this particular model, it didn’t\n",
        "make much of a different to the conclusions (even though it changed the\n",
        "$t$ statistics a lot), but it can sometimes change your results.\n",
        "\n",
        "### Testing for Heteroskedasticity\n",
        "\n",
        "You can also perform some formal tests for heteroskedasticity. We\n",
        "learned about two of them in class:\n",
        "\n",
        "1.  White’s Test, which relies on performing a regression using the\n",
        "    residuals\n",
        "2.  Breusch-Pagan Test, which also relies on performing a simpler\n",
        "    regression using the residuals\n",
        "\n",
        "Both of them are, conceptually, very similar. Let’s try (2) for the\n",
        "above regression:"
      ],
      "id": "e0a31d55-f27d-4720-ae7a-a54383cfeef6"
    },
    {
      "cell_type": "code",
      "execution_count": null,
      "metadata": {
        "pycharm": {
          "name": "#%%\n"
        },
        "vscode": {
          "languageId": "r"
        }
      },
      "outputs": [],
      "source": [
        "regression2 <- lm(income_before_tax ~ income_after_tax, data = SFS_data) \n",
        "\n",
        "SFS_data$resid_sq <- (regression2$residuals)^2 #get the residuals then square it\n",
        "\n",
        "regression3 <- lm(resid_sq ~ income_after_tax, data = SFS_data) #make the residuals a function of X\n",
        "\n",
        "summary(regression3)"
      ],
      "id": "561db9aa-8501-49fd-a293-881e804b5bfd"
    },
    {
      "cell_type": "markdown",
      "metadata": {},
      "source": [
        "Inspecting the results, we can see from the $F$-statistic that we can\n",
        "strongly reject the assumption of homoskedasticity. This is denoted by\n",
        "the 3 asterisks. This data looks like it’s heteroskedastic, because the\n",
        "residuals can be predicted using the explanatory variables.\n",
        "\n",
        "There is one very important note:\n",
        "\n",
        "-   If you **fail** one of these tests, it implies that your data is\n",
        "    heteroskedastic\n",
        "-   If you **pass** one of these tests, it *does not* imply that your\n",
        "    data is homoskedastic (i.e. not heteroskedastic)\n",
        "\n",
        "This is because these are statistical tests, and the null hypothesis is\n",
        "“not heteroskedastic”. Failing to reject the null does not mean that the\n",
        "null hypothesis is correct - it just means that you can’t rule it out.\n",
        "This is one of the reasons many economists recommend that you *always*\n",
        "use robust standard errors unless you have a really compelling reason to\n",
        "believe otherwise.\n",
        "\n",
        "### Linear Probability Models\n",
        "\n",
        "How can a model naturally have heteroskedastic standard errors? It turns\n",
        "out that many common, and important, models have this issue. In\n",
        "particular, the **linear probability** model has this problem. If you\n",
        "recall, a linear probability model is a linear regression in which the\n",
        "dependent variable is a dummy. For example:\n",
        "\n",
        "$$D_i = \\beta_0 + \\beta_1 X_{1,i} + \\beta_2 X_{2,i} + \\epsilon_i$$\n",
        "\n",
        "These model are quite useful because the coefficients have the\n",
        "interpretation as being the change in the probability of the dummy\n",
        "condition occurring. For example, we previously regressed `gender` (of\n",
        "male or female) in these models to investigate the wealth gap. However,\n",
        "this can easily cause a problem when estimated using OLS - the value of\n",
        "$D_i$ must be 0 or 1, and the fitted values (which are probabilities)\n",
        "must be between 0 and 1.\n",
        "\n",
        "However, *nothing* in the OLS model forces this to be true. If you\n",
        "estimate a value for $\\beta_1$, if you have an $X_{1,i}$ that is high or\n",
        "low enough, the fitted values will be above or below 1 or 0\n",
        "(respectively). This implies that *mechanically* you have\n",
        "heteroskedasticity because high or low values of the explanatory\n",
        "variables will ALWAYS fit worse than intermediate values. For example,\n",
        "let’s look at the fitted values from this regression:"
      ],
      "id": "8593558a-8155-4536-a929-16fc0188eb49"
    },
    {
      "cell_type": "code",
      "execution_count": null,
      "metadata": {
        "pycharm": {
          "name": "#%%\n"
        },
        "vscode": {
          "languageId": "r"
        }
      },
      "outputs": [],
      "source": [
        "SFS_data <- SFS_data %>%\n",
        "    mutate(M_F = case_when(\n",
        "        gender == \"Male\"  ~ 0,\n",
        "        gender == \"Female\" ~ 1\n",
        "    ))\n",
        "\n",
        "SFS_data <- SFS_data[complete.cases(SFS_data$gender,SFS_data$income_before_tax), ]\n",
        "SFS_data$gender <- as.numeric(SFS_data$gender)\n",
        "SFS_data$income_before_tax <- as.numeric(SFS_data$income_before_tax)\n",
        "\n",
        "\n",
        "regression6 <- lm(gender ~ income_before_tax, data = SFS_data)\n",
        "\n",
        "SFS_data$fitted <- predict(regression6, SFS_data)\n",
        "\n",
        "summary(regression6)\n",
        "\n",
        "ggplot(data = SFS_data, aes(x = as.numeric(income_before_tax), y = fitted)) + geom_point() + labs(x = \"before tax income\", y = \"Predicted Probability\")"
      ],
      "id": "5e7b5f61-6518-44df-b85c-25599917e421"
    },
    {
      "cell_type": "markdown",
      "metadata": {},
      "source": [
        "Notice how that as $y$ gets larger as the fitted value drops. If someone\n",
        "has an income of over 1 million dollars, they would be predicted to have\n",
        "a negative probability of being a female - which is impossible.\n",
        "\n",
        "This is why you *always* must use robust standard errors in these\n",
        "models - even if a test says otherwise. Let’s think about what is\n",
        "happening here, well remember the example of imperfect collinearity,\n",
        "we’re the was $1-k$ chance of $x$ being 15 and k of $x$ being 20. Now\n",
        "remember x was co-linear to $\\beta_0$, and this caused large standard\n",
        "errors. In this scenario the probability of a someone being female given\n",
        "they earn over a million dollars a year is very small. This because few\n",
        "female lead has household earn over a million dollars a year as a\n",
        "percent of the total households earning over a million dollars a year.\n",
        "\n",
        "## Part 3: Exercises\n",
        "\n",
        "In these exercises, you will get some hands-on experience with testing\n",
        "and correcting for heteroskedasticity and multicollinearity. You will\n",
        "also start to think about the mechanics and uses of non-linear\n",
        "regressions.\n",
        "\n",
        "### Activity 1\n",
        "\n",
        "Multicollinearity may seem to be an abstract concept, so let’s explore\n",
        "this issue with a practical example.\n",
        "\n",
        "Suppose that we are looking to explore the relationship between a\n",
        "families income the gender of the major earner. For instance, we want to\n",
        "know whether families with higher incomes in Canada are more likely to\n",
        "be male. Recall that we have two measures of income: `income_before_tax`\n",
        "and `income_after_tax`. Both measures of income are informative:\n",
        "`income_before_tax` refers to gross annual income (before taxes) that\n",
        "employers pay to employees; `income_after_tax` refers to net income\n",
        "after taxes have been deducted.\n",
        "\n",
        "Since they are both good measures of income, we decide to put them both\n",
        "in our regression:\n",
        "\n",
        "$$M_F = \\beta_0 + \\beta_1 I_{bi} + \\beta_2 I_{ai} + \\epsilon_i$$\n",
        "\n",
        "$M_F$ denotes the dummy variable for whether the person is male or\n",
        "female, $I_{ai}$ denotes income after taxes, and $I_{bi}$ denotes income\n",
        "before taxes.\n",
        "\n",
        "### Short Answer 1\n",
        "\n",
        "<em>Prompt:</em> What concern should we have about this regression\n",
        "equation? Explain your intuition."
      ],
      "id": "72512db0-71e0-4007-86ea-39f732f8819d"
    },
    {
      "cell_type": "code",
      "execution_count": null,
      "metadata": {
        "tags": "question"
      },
      "outputs": [],
      "source": [
        "answer_1 <- #fill in your short answer"
      ],
      "id": "7075c77a-cde1-4e7f-8f24-2460747aed5a"
    },
    {
      "cell_type": "markdown",
      "metadata": {},
      "source": [
        "Answer: These two variables, being before tax and after tax income, may\n",
        "be close to co-linear, which will increase the error terms.This could\n",
        "even lead to r omitting one of the variables from the regression.\n",
        "\n",
        "Before we continue, let’s reduce the sample size of our data set to 200\n",
        "observations. We will also revert `gender` into a numeric variable:"
      ],
      "id": "55745f8a-f5e4-4117-92f8-be7eec4c9096"
    },
    {
      "cell_type": "code",
      "execution_count": null,
      "metadata": {
        "pycharm": {
          "name": "#%%\n"
        },
        "vscode": {
          "languageId": "r"
        }
      },
      "outputs": [],
      "source": [
        "#Run this!\n",
        "SFS_data200 <- head(SFS_data, 200) %>%\n",
        "    mutate(M_F = as.numeric(gender)) #everyone in the first 200 observations as, male or female"
      ],
      "id": "92f55459-6b1a-4076-851a-168718b94957"
    },
    {
      "cell_type": "markdown",
      "metadata": {},
      "source": [
        "### Activity 2\n",
        "\n",
        "Run the regression described above.\n",
        "\n",
        "<em>Tested Objects:</em> `reg1`."
      ],
      "id": "2f53cdee-52a5-49c1-9f43-d22044dd2207"
    },
    {
      "cell_type": "code",
      "execution_count": null,
      "metadata": {
        "pycharm": {
          "name": "#%%\n"
        },
        "tags": "question",
        "vscode": {
          "languageId": "r"
        }
      },
      "outputs": [],
      "source": [
        "#Quiz 1\n",
        "\n",
        "reg1 <- lm(???, data = SFS_data200) #fill me in\n",
        "\n",
        "summary(reg1)\n",
        "\n",
        "\n",
        "test_1()"
      ],
      "id": "3f24598c-07d0-468b-b5fd-5c697f349a35"
    },
    {
      "cell_type": "markdown",
      "metadata": {},
      "source": [
        "### Short Answer 2\n",
        "\n",
        "<em>Prompt:</em> What do you notice about the characteristics of the\n",
        "estimated regression? Does anything point to your concern being valid?\n",
        "\n",
        "<font color=\"red\">Answer here in red</font>"
      ],
      "id": "ca9e69e2-17ac-4adc-a9fb-0ae652280c15"
    },
    {
      "cell_type": "code",
      "execution_count": null,
      "metadata": {
        "tags": "question"
      },
      "outputs": [],
      "source": [
        "answer_2 <- #fill in your short answer"
      ],
      "id": "89791e2b-0004-4bfc-aa08-9de660815266"
    },
    {
      "cell_type": "markdown",
      "metadata": {},
      "source": [
        "Answer: The main concern is that there is not alot of data here only 200\n",
        "observations.Also income before and after taxes are collinear in this\n",
        "dataset, we can see this since income after tax was omitted.\n",
        "\n",
        "Now, let’s suppose we drop 50 more observations:"
      ],
      "id": "8ad85c16-ecfd-416f-b2a6-e61d74208fae"
    },
    {
      "cell_type": "code",
      "execution_count": null,
      "metadata": {
        "pycharm": {
          "name": "#%%\n"
        },
        "vscode": {
          "languageId": "r"
        }
      },
      "outputs": [],
      "source": [
        "#Run this!\n",
        "SFS_data150 <- head(SFS_data200, 150)"
      ],
      "id": "243c3c32-5330-40e3-b992-87c3237b73f3"
    },
    {
      "cell_type": "markdown",
      "metadata": {},
      "source": [
        "Run the regression model again and compare it with the previous\n",
        "regression.\n",
        "\n",
        "<em>Tested Objects:</em> `reg2`."
      ],
      "id": "c3689014-2ba0-446f-ab04-fc66d9443f43"
    },
    {
      "cell_type": "code",
      "execution_count": null,
      "metadata": {
        "pycharm": {
          "name": "#%%\n"
        },
        "tags": "question",
        "vscode": {
          "languageId": "r"
        }
      },
      "outputs": [],
      "source": [
        "#Quiz 2\n",
        "\n",
        "\n",
        "reg2 <- lm(???) # fill me in\n",
        "\n",
        "summary(reg2)\n",
        "\n",
        "\n",
        "test_2() "
      ],
      "id": "1e2b86a3-33f5-44fe-8dcd-24ca2802f692"
    },
    {
      "cell_type": "markdown",
      "metadata": {},
      "source": [
        "### Short Answer 3\n",
        "\n",
        "<em>Prompt:</em> What happened to the regression estimates when we\n",
        "dropped 50 observations? Does this point to your concern being valid?\n",
        "\n",
        "<font color=\"red\">Answer here in red</font>"
      ],
      "id": "faf0c331-fa3d-4689-be13-f1c875831025"
    },
    {
      "cell_type": "code",
      "execution_count": null,
      "metadata": {
        "tags": "question"
      },
      "outputs": [],
      "source": [
        "answer_3 <- #fill in your short answer"
      ],
      "id": "d2761d78-2f1b-4268-8cc1-03d743fd0846"
    },
    {
      "cell_type": "markdown",
      "metadata": {},
      "source": [
        "Answer: Well, we can’t say much for the co-linearity problem. But you\n",
        "can see that the standard errors have increased, which supports the idea\n",
        "that we are not using enough data.\n",
        "\n",
        "Next, increase the sample size back to its full size and run the\n",
        "regression once again.\n",
        "\n",
        "<em>Tested Objects:</em> `reg3`"
      ],
      "id": "c8e363a0-a84c-4d6e-8868-ca6c8950a013"
    },
    {
      "cell_type": "code",
      "execution_count": null,
      "metadata": {
        "pycharm": {
          "name": "#%%\n"
        },
        "tags": "question",
        "vscode": {
          "languageId": "r"
        }
      },
      "outputs": [],
      "source": [
        "#Quiz 3\n",
        "SFS_data <- SFS_data[complete.cases(SFS_data$income_after_tax), ] #do not modify this code\n",
        "SFS_data$income_after_tax <- as.numeric(SFS_data$income_after_tax) #do not modify this code\n",
        "\n",
        "reg3 <- lm(???) #fill me in\n",
        "\n",
        "summary(reg3)\n",
        "\n",
        "test_3() "
      ],
      "id": "c19c8485-37c7-4492-9aa3-37ab0573f9ac"
    },
    {
      "cell_type": "markdown",
      "metadata": {},
      "source": [
        "### Short Answer 5\n",
        "\n",
        "<em>Prompt:</em> Did this change eliminate the concern? How do you know?\n",
        "\n",
        "<font color=\"red\">Answer here in red </font>"
      ],
      "id": "55e24871-0f88-456c-97f0-914dc4b225ea"
    },
    {
      "cell_type": "code",
      "execution_count": null,
      "metadata": {
        "tags": "question"
      },
      "outputs": [],
      "source": [
        "answer_5 <- #fill in your short answer"
      ],
      "id": "5bcd568b-b4b7-43f9-ad1e-5c6e88b6524c"
    },
    {
      "cell_type": "markdown",
      "metadata": {},
      "source": [
        "Answer: The main concern was that after tax income is co-linear with\n",
        "before tax income. Now it’s included in the regression. This is because\n",
        "as when we look across many observations before income tax stops being a\n",
        "linear function of after income tax, since tax is a step function ( if\n",
        "you don’t know what that means, I am just saying that taxation is done\n",
        "in brackets).Now we could run some tests and see how co-linear,\n",
        "after-tax-income and before-tax-income, but a more important question\n",
        "is: in-terms of economics what does after-tax-income add to the model ?\n",
        "If female lead households tend to pay a different tax rate than male\n",
        "lead households (once we control for after tax income), this adds\n",
        "something to the model, but this seem rather absurd. Thus it makes sense\n",
        "to just leave after tax income out of the model. If we did believe that\n",
        "supposition than we would leave out before tax income.\n",
        "\n",
        "Heteroskedasticity is another issue that researchers frequently deal\n",
        "with when they estimate regression models. Consider the following\n",
        "regression model:\n",
        "\n",
        "$$I_i = \\alpha_0 + \\alpha_1 E_i + \\alpha_2 G_i  + \\epsilon_i$$\n",
        "\n",
        "$I_i$ denotes before tax income, $E_i$ is level of education, $D_i$ is a\n",
        "dummy variable for being female.\n",
        "\n",
        "### Short Answer 6\n",
        "\n",
        "<em>Prompt:</em> Should we be concerned about heteroskedasticity in this\n",
        "model? If so, what is the potential source of heteroskedasticity, and\n",
        "what do we suspect to be the relationship between the regressor and the\n",
        "error term?\n",
        "\n",
        "<font color=\"red\">Answer here in red</font>"
      ],
      "id": "535cc78b-8a24-44f7-8870-966d701ff9b3"
    },
    {
      "cell_type": "code",
      "execution_count": null,
      "metadata": {
        "tags": "question"
      },
      "outputs": [],
      "source": [
        "answer_6 <- #fill in your short answer"
      ],
      "id": "6a73777f-b324-4da9-af40-c37ef0d7a499"
    },
    {
      "cell_type": "markdown",
      "metadata": {},
      "source": [
        "Answer: The distribution of residuals will likely change relative to\n",
        "education. This because the higher the level of education the more\n",
        "additional factors will be required to predict the persons income. For\n",
        "instance, if someone has a 4 year degree what that degree is in will\n",
        "have a large impact on their income; however, every high school diploma\n",
        "is effectively the same.\n",
        "\n",
        "### Short Answer 7\n",
        "\n",
        "<em>Prompt:</em> If we suppose that heteroskedasticity is a problem in\n",
        "this regression, what consequences will this have for our regression\n",
        "estimates?\n",
        "\n",
        "<font color=\"red\">Answer here in red </font>\n",
        "\n",
        "#short answer template"
      ],
      "id": "99810648-1d9e-493e-9a58-b98740483e58"
    },
    {
      "cell_type": "code",
      "execution_count": null,
      "metadata": {
        "tags": "question"
      },
      "outputs": [],
      "source": [
        "answer_7 <- #fill in your short answer"
      ],
      "id": "b0bc5482-538c-4057-875c-7881e2585839"
    },
    {
      "cell_type": "markdown",
      "metadata": {},
      "source": [
        "Answer: If we do not use robust standard errors, the standards errors\n",
        "will be understated.\n",
        "\n",
        "Run the regression below, and graph the residuals against the level of\n",
        "schooling.\n",
        "\n",
        "<em>Tested Objects:</em> `reg5`. The graph will be graded manually."
      ],
      "id": "30389fe5-fbb6-4459-8232-f3a3378ad834"
    },
    {
      "cell_type": "code",
      "execution_count": null,
      "metadata": {
        "pycharm": {
          "name": "#%%\n"
        },
        "vscode": {
          "languageId": "r"
        }
      },
      "outputs": [],
      "source": [
        "#Run the regression\n",
        "reg5 <- lm(income_before_tax ~ education, data = SFS_data)"
      ],
      "id": "8015b270-eefc-4e2a-b44c-a105996a22e2"
    },
    {
      "cell_type": "code",
      "execution_count": null,
      "metadata": {
        "pycharm": {
          "name": "#%%\n"
        },
        "tags": "question",
        "vscode": {
          "languageId": "r"
        }
      },
      "outputs": [],
      "source": [
        "#Quiz 5\n",
        "\n",
        "resiplot <- ggplot(reg5, aes(x = ???, y = .resid)) + xlab(\"Education Level\") + ylab(\"Income (Residuals)\")\n",
        "resiplot + geom_point() + geom_hline(yintercept = 0) + scale_x_discrete(guide = guide_axis(n.dodge=3))\n",
        "x <- ???"
      ],
      "id": "ec22b7f6-6067-494a-bb31-942275d8de86"
    },
    {
      "cell_type": "markdown",
      "metadata": {},
      "source": [
        "### Short Answer 8\n",
        "\n",
        "<em>Prompt:</em> Describe the relationship between education level and\n",
        "the residuals in the graph above. What does the graph tell us about the\n",
        "presence and nature of heteroskedasticity in the regression model?\n",
        "\n",
        "<font color=\"red\">Answer here in red: </font>"
      ],
      "id": "4867ca61-7f93-4ccc-943f-34d934f81276"
    },
    {
      "cell_type": "code",
      "execution_count": null,
      "metadata": {
        "tags": "question"
      },
      "outputs": [],
      "source": [
        "answer_8 <- #fill in your short answer"
      ],
      "id": "b680137e-8869-443c-b4d2-74c0328ce5b3"
    },
    {
      "cell_type": "markdown",
      "metadata": {},
      "source": [
        "Answer: We can see that the residuals are increasing as the level of\n",
        "education increases, this supports heterskedasticity, as the\n",
        "distribution of errors is clearly not constant.\n",
        "\n",
        "To test for heteroskedasticity formally, let’s perform the White Test.\n",
        "First, store the residuals from the previous regression in `SFS_data`.\n",
        "\n",
        "<em> Tested Objects: `SFS_data` (checks to see that residuals were added\n",
        "properly)."
      ],
      "id": "1b39b833-aabd-4103-b0b2-2e0651b2076e"
    },
    {
      "cell_type": "code",
      "execution_count": null,
      "metadata": {
        "pycharm": {
          "name": "#%%\n"
        },
        "tags": "question",
        "vscode": {
          "languageId": "r"
        }
      },
      "outputs": [],
      "source": [
        "#Quiz 6\n",
        "\n",
        "SFS_data <- mutate(SFS_data, resid = ???)\n",
        "\n",
        "head(SFS_data$resid, 10) #Displays the residuals in the dataframe\n",
        "\n",
        "test_6() "
      ],
      "id": "b381f0a9-f009-425f-9555-2717ff65d1a9"
    },
    {
      "cell_type": "markdown",
      "metadata": {},
      "source": [
        "Next, generate a variable for the squared residuals, then run the\n",
        "required auxiliary regression.\n",
        "\n",
        "<em>Tested Objects:</em> `WT` (the auxiliary regression)."
      ],
      "id": "fc6274d2-313b-416b-9d20-508ebea96e2a"
    },
    {
      "cell_type": "code",
      "execution_count": null,
      "metadata": {
        "pycharm": {
          "name": "#%%\n"
        },
        "scrolled": true,
        "vscode": {
          "languageId": "r"
        }
      },
      "outputs": [],
      "source": [
        "#Quiz 7\n",
        "model=lm(income_before_tax~gender^2 + gender + education^2 +education+ education*gender, data = SFS_data) # fill me in\n",
        "resid = reg5$residuals\n",
        "rsq=(resid)^2"
      ],
      "id": "ef39f469-a701-4e3f-b81a-dbba58a07b6a"
    },
    {
      "cell_type": "code",
      "execution_count": null,
      "metadata": {
        "pycharm": {
          "name": "#%%\n"
        },
        "tags": "question",
        "vscode": {
          "languageId": "r"
        }
      },
      "outputs": [],
      "source": [
        "SFS_data$rsq=rsq\n",
        "\n",
        "WT <- lm(rsq~ ???, data =SFS_data) # fill me in\n",
        "\n",
        "summary(WT)\n",
        "\n",
        "\n",
        "test_7() "
      ],
      "id": "700ba715-284a-4c77-9fcb-b96c59790651"
    },
    {
      "cell_type": "markdown",
      "metadata": {},
      "source": [
        "### Short Answer 9\n",
        "\n",
        "<em>Prompt:</em> What does the white test suggest?\n",
        "\n",
        "### Activity 3\n",
        "\n",
        "Finish filling in this table:\n",
        "\n",
        "| Formal Issue Name      | Problem                                                                         | Meaning                                                                                            | Test                                                 | Solution                                                                                                 |\n",
        "|------|--------------------|---------------|---------------|------------------|\n",
        "| ???                    | Incorrect Standard errors, which can lead to incorrect confidence intervals etc | The distribution of residuals is not constant                                                      | White’s Test and Breusch-Pagan: `bptest()`           | Add additional factors to regression or use robust standard errors                                       |\n",
        "| Perfect Collinearity   | ???                                                                             | One variable in the regression is a linear function of another variable in the regression          | Collinearity test on the model, `ols_vif_tol(model)` | ???                                                                                                      |\n",
        "| Imperfect Collinearity | The model will have very large standard errors. R may need to omit a variable   | One variable can almost be fully predicted with a linear function of another variable in the model | ???                                                  | Omit one of the collinear variables, try using more data, or consider transformations (e.g., logarithms) |\n",
        "\n",
        "<span id=\"fn1\">[<sup>1</sup>](#fn1s)Provided under the Statistics Canada\n",
        "Open License. Adapted from Statistics Canada, Statistics Canada Open\n",
        "License (Public) Adapted from Statistics Canada, 2021 Census Public Use\n",
        "Microdata File (PUMF). This does not constitute an endorsement by\n",
        "Statistics Canada of this product.</span>"
      ],
      "id": "a40e8615-99d3-4ac7-81cf-bbaa4a53e6d9"
    }
  ],
  "nbformat": 4,
  "nbformat_minor": 5,
  "metadata": {
    "kernelspec": {
      "name": "ir",
      "display_name": "R",
      "language": "r"
    }
  }
}