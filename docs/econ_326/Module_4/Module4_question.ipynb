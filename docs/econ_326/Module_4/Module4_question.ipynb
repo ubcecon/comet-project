{
 "cells": [
  {
   "cell_type": "markdown",
   "metadata": {
    "pycharm": {
     "name": "#%% md\n"
    },
    "tags": []
   },
   "source": [
    "# ECON 326: Issues in Regression using R\n",
    "\n",
    "* **Authors**: COMET Team (Emrul Hasan, Jonah Heyl, Shiming Wu, William Co, Jonathan Graves)\n",
    "* **Last update**: 8 December 2022\n",
    "___\n",
    "## Outline\n",
    "\n",
    "### Prerequisites\n",
    "\n",
    "* Multiple regression\n",
    "* Simple regression\n",
    "* Data analysis and introduction\n",
    "\n",
    "### Outcomes\n",
    "\n",
    "* Understand the origin and meaning of multicollinearity in regression models\n",
    "* Perform simple tests for multicollinerarity using VIF\n",
    "* Be able to demonstrate common methods to fix or resolve collinear data\n",
    "* Understand the origin and meaning of heteroskedasticity in regression models\n",
    "* Perform a variety of tests for heteroskedasticity\n",
    "* Compute robust standard errors for regression models\n",
    "* Understand other techniques for resolving heteroskedasticity in regression models\n",
    "\n",
    "### Notes\n",
    "\n",
    "Note that the data in this exercise is provided under the Statistics Canada Open License:\n",
    "> <span id=\"fn1\">[<sup>1</sup>](#fn1s)Statistics Canada, Survey of Financial Security, 2019, 2021. Reproduced and distributed on an \"as is\" basis with the permission of Statistics Canada.Adapted from Statistics Canada, Survey of Financial Security, 2019, 2021. This does not constitute an endorsement by Statistics Canada of this product.</span>\n",
    "\n",
    "> <span id=\"fn2\">[<sup>2</sup>](#fn2s)Stargazer package is due to: Hlavac, Marek (2018). stargazer: Well-Formatted Regression and Summary Statistics Tables.\n",
    " R package version 5.2.2. https://CRAN.R-project.org/package=stargazer </span>"
   ]
  },
  {
   "cell_type": "code",
   "execution_count": null,
   "metadata": {
    "pycharm": {
     "name": "#%%\n"
    },
    "tags": [],
    "vscode": {
     "languageId": "r"
    }
   },
   "outputs": [],
   "source": [
    "#load the data and set it up\n",
    "\n",
    "library(tidyverse)\n",
    "library(haven)\n",
    "library(stargazer)\n",
    "library(lmtest)\n",
    "library(sandwich)"
   ]
  },
  {
   "cell_type": "code",
   "execution_count": null,
   "metadata": {
    "pycharm": {
     "name": "#%%\n"
    },
    "vscode": {
     "languageId": "r"
    }
   },
   "outputs": [],
   "source": [
    "source(\"functions4.r\")\n",
    "SFS_data <- read_dta(\"../datasets/SFS_2019_Eng.dta\")\n",
    "SFS_data <- clean_up_data() #this function is explained in module 1\n"
   ]
  },
  {
   "cell_type": "code",
   "execution_count": null,
   "metadata": {
    "pycharm": {
     "name": "#%%\n"
    },
    "vscode": {
     "languageId": "r"
    }
   },
   "outputs": [],
   "source": [
    "glimpse(SFS_data)"
   ]
  },
  {
   "cell_type": "markdown",
   "metadata": {
    "pycharm": {
     "name": "#%% md\n"
    }
   },
   "source": [
    "In this notebook, we will explore several important issues in multiple regression models, and explore how to identify, evaluate, and correct them where appropriate.  It is important to remember that there can be many other issues that arise in specific regression models; as you learn more about econometrics and create your own research questions, different issues will arise.  Consider these as \"examples\" for some of the most common issues that arise in regression models.\n",
    "\n",
    "## Part 1: Multicollinearity\n",
    "\n",
    "Multi-collinearity is a surprisingly common issue in applied regression analysis, where several explanatory variables are correlated to each other. For example, suppose we are interested at regressing one's marriage rate against years of education and annual income. In this case, the two explanatory variables income and years of education are highly correlated. It refers to the situation where a variable is \"overdetermined\" by the other variables in a model, which will result in less reliable regression output. For example, if we have a high coefficient on education. How certain are we that this coefficient was not the result of having a high annual income as well? Let's look at this problem mathematically; in calculating an OLS estimation, you are estimating a relationship like:\n",
    "\n",
    "$$Y_i = \\beta_a + \\beta_1 X_1 + \\epsilon_i$$\n",
    "\n",
    "You find the estimates of the coefficients in this model using OLS; i.e. solving an equation like:\n",
    "\n",
    "$$ \\min_{b_0, b_1} \\sum_{i=1}^n(Y_i - b_0 -b_1 X_i)^2 $$\n",
    "\n",
    "Under the OLS regression assumptions, this has a unique solution; i.e you can find unique values for $b_0$ and $b_1$.  \n",
    "\n",
    "However, what if you wrote an equation like this:\n",
    " $$\\beta a=\\beta_0+\\beta_1 $$\n",
    " We can then rewrite  as $$Y_i = \\beta_0 + \\beta_1 + \\beta_2 X_i + \\epsilon_i$$\n",
    "\n",
    "\n",
    "This _seems_ like it would be fine, but remember what you are doing: trying to find a _line_ of best fit.  The problem is that this equation does not define a unique line; the \"intercept\" is $\\beta_0 + \\beta_1$.  There are two \"parameters\" ($\\beta_0, \\beta_1$) for a single \"characteristics\" (the intercept).  This means that the resulting OLS problem:\n",
    "\n",
    "$$ \\min_{b_0, b_1, b_2} \\sum_{i=1}^n(Y_i - b_0 -b_1 -b_2 X_i)^2 $$\n",
    "\n",
    "Does not have a unique solution.  In algebraic terms, it means you can find many representations of a line with two intercept parameters.  This is referred to in econometrics as a lack of **identification**; multicollinearity is one way that identification can fail in regression models.\n",
    "\n",
    "You can see this in the following example, which fits an OLS estimate of ``wealth`` and ``income_before_tax`` then compares the fit to a regression with two intercepts.  Try changing the values to see what happens."
   ]
  },
  {
   "cell_type": "markdown",
   "metadata": {
    "pycharm": {
     "name": "#%% md\n"
    }
   },
   "source": [
    "> **Note**: Make sure to understand what the example below is doing. Notice how the results are exactly the same, no matter what the value of ``k`` is?"
   ]
  },
  {
   "cell_type": "code",
   "execution_count": null,
   "metadata": {
    "pycharm": {
     "name": "#%%\n"
    },
    "vscode": {
     "languageId": "r"
    }
   },
   "outputs": [],
   "source": [
    "reg <- lm(wealth ~ income_before_tax, data = SFS_data)\n",
    "\n",
    "b_0 <- reg$coef[[1]]\n",
    "b_1 <- reg$coef[[2]]\n",
    "\n",
    "resid1 <- SFS_data$wealth - b_0 - b_1*SFS_data$income_before_tax\n",
    "\n",
    "\n",
    "k <- 90 #change me! \n",
    "\n",
    "b_0 = (reg$coef[[1]])/2 - k\n",
    "b_1 = (reg$coef[[1]])/2 + k \n",
    "b_2 = reg$coef[[2]]\n",
    "\n",
    "resid2 <-SFS_data$wealth - b_0 - b_1 - b_2*SFS_data$income_before_tax\n",
    "\n",
    "\n",
    "\n",
    "ggplot() + geom_density(aes(x = resid1), color = \"blue\") + xlab(\"Residuals from 1 Variable Model\") + ylab(\"Density\")\n",
    "ggplot() + geom_density(aes(x = resid2), color = \"red\")  + xlab(\"Residuals from 2 Variable Model\") + ylab(\"Density\")\n"
   ]
  },
  {
   "cell_type": "markdown",
   "metadata": {},
   "source": [
    "Notice how the residuals look _exactly_ the same - despite these being from (purportedly) two different models.  This is because they not really two different models!  They _identify_ the same model!"
   ]
  },
  {
   "cell_type": "markdown",
   "metadata": {},
   "source": []
  },
  {
   "cell_type": "markdown",
   "metadata": {
    "pycharm": {
     "name": "#%% md\n"
    }
   },
   "source": [
    "\n",
    "Okay, you're probably thinking, that makes sense - but just don't write down an equation like that.  After all, it seems somewhat artificial that we added an extra intercept term.\n",
    "\n",
    "However, multicollinearly can occur with _any_ set of variables in the model; not just the intercept.  For example, suppose you have a multiple regression:\n",
    "\n",
    "$$Y_ i = \\beta_0 + \\beta_1 X_{1,i} + \\beta_2  X_{2,i} + \\beta_3  X_{3,i} + \\epsilon_i$$\n",
    "\n",
    "What would happen if there was a relationship between $X_1, X_2$ and $X_3$ like:\n",
    "\n",
    "$$X_{1,i} = 0.4 X_{2,i} + 12 X_{3,i}$$  \n",
    "\n",
    "When, we could then re-write the equation as:\n",
    "\n",
    "$$Y_ i = \\beta_0 + \\beta_1 (0.4 X_{2,i} + 12 X_{3,i}) + \\beta_2  X_{2,i} + \\beta_3  X_{3,i} + \\epsilon_i$$\n",
    "\n",
    "$$\\implies Y_ i = \\beta_0 + (\\beta_2 + 0.4 \\beta_1)  X_{2,i} + (\\beta_3 + 12 \\beta_1)X_{3,i} + \\epsilon_i$$\n",
    "\n",
    "The same problem is now occuring, but with $X_2$ and $X_3$: the slope coefficients depend on a free parameter ($\\beta_1$).  You cannot uniquely find the equation of a line (c.f. plane) with this kind of equation. \n",
    "\n",
    "Basically what is happening, is you are trying to solve a system of equations for 3 variables (or n variables), but only 2 (or n-1) are used in the equation (are independent). So what would you do, well you would leave one of the dependent variables out, so you could solve for all of your variables, this is exactly what R does.\n",
    "\n",
    "You can also intuitively see the condition here: multicollinearity occurs when you can express one variable as a _linear_ combination of the other variables in the model.\n",
    "\n",
    "* This is sometimes referred to as **perfect multicollinearity**, since the variable is _perfectly_ expressed as a linear combination of the other variable.\n",
    "* The linearity is important because this is a linear model; you can have similar issues in other models, but it has a special name in linear regression\n",
    "\n",
    "### Perfect Multicollinearity in Models\n",
    "\n",
    "In general, most statistical packages (like R) will automatically detect, warn, and remove perfectly multicollinear variables from a model; this is because the algorithm they use to solve problems like the OLS estimation equation detects the problem and avoids a \"crash\".  This is fine, from a mathematical perspective - since mathematically the two results are the same (in a well-defined sense, as we saw above).\n",
    "\n",
    "However, from an economic perspective this is very bad - it indicates that there was a problem with the _model_ that you defined in the first place.  Usually, this means one of three things:\n",
    "\n",
    "1. You included a set of variables which were, in combination, identical.  For example, including \"family size\" and then \"number of children\" and \"number of adults\" in a regression\n",
    "2. You did not understand the data well enough, and variables had less variation than you thought they did - conditional on the other variables in the model.  For example, maybe you thought people in the dataset could have both graduate and undergraduate degrees - so there was variation in \"higher than high-school\" but that wasn't true\n",
    "3. You wrote down a model which was poorly defined in terms of the variables.  For example, you including all levels of a dummy variable, or included the same variable measured in two different units (wages in dollars and wages in 1000s of dollars).\n",
    "\n",
    "In all of these cases, you need to go back to your original regression model and re-evaluate what you are trying to do in order to simplify the model or correct the error.  \n",
    "\n",
    "Consider the following regression model, in which we want to study whether or not there is a penalty for families led by someone who is younger is the SFS Data:"
   ]
  },
  {
   "cell_type": "code",
   "execution_count": null,
   "metadata": {
    "pycharm": {
     "name": "#%%\n"
    },
    "vscode": {
     "languageId": "r"
    }
   },
   "outputs": [],
   "source": [
    "SFS_data <- SFS_data %>%\n",
    "    mutate(ya = case_when(\n",
    "        education == \"Less than high school\"  ~ \"Yes\",\n",
    "        education == \"High school\" ~ \"Yes\",\n",
    "        education == \"Non-university post-secondary\" ~ \"No\", #this is for all other cases\n",
    "        TRUE ~ \"No\" #this is for all other cases\n",
    "    )) %>%\n",
    "    mutate(ya = as_factor(ya))\n",
    "\n",
    "regression2 <- lm(income_before_tax ~ ya + education , data = SFS_data)\n",
    "\n",
    "summary(regression2)"
   ]
  },
  {
   "cell_type": "markdown",
   "metadata": {
    "pycharm": {
     "name": "#%% md\n"
    }
   },
   "source": [
    "Can you see why the multi-collinearity is occurring here?  Try to write down an equation which points out what the problem is in this regression - why is it multi-collinear?  How could you fix this problem by changing the model?\n",
    "\n",
    "> _Think Deeper_: You will notice, above, that it excluded the \"University\" education.  Did it have to exclude that one?  Could it have excluded another one instead?  What do you think?\n",
    "\n",
    "### Imperfect Multicollinearity\n",
    "\n",
    "A related issue to perfect multicollinearity is \"near\" (or **imperfect**) multicollinearity.  If you recall from the above, perfect multicollinearity occurs when you have a relationship like:\n",
    "\n",
    "$$X_{1,i} = 0.4 X_{2,i} + 12 X_{3,i}$$  \n",
    "\n",
    "Notice that in this relationship it holds _for all_ values of $i$.  However, what if it held for _nearly_ all $i$ instead?  In that case, we would still have a solution to the equation... but there would be a problem.  Let's look at this in the simple regression case.  \n",
    "\n",
    "\n",
    "$$Y_i = \\beta_0 + \\beta_1 X_i + \\epsilon_i$$\n",
    "\n",
    "Now, let's suppose that $X_i$ is \"almost\" collinear with $\\beta_0$.  To be precise, suppose that $X_i = 15$ for $k$-% of the data ($k$ will be large) and $X_i = 20$ for $(1-k)$-% of the data.  This is _almost_ constant, and so it is _almost_ collinear with $\\beta_0$ (the constant).  Let's also make the values of $Y_i$ so that $Y_i(X_i) = X_i + \\epsilon_i$ (so $\\beta_1 = 1$), and we will set $\\sigma_Y = 1$\n",
    "\n",
    "This implies that (applying some of the formulas from class):\n",
    "\n",
    "$$\\beta_1 = \\frac{Cov(X_i,Y_i)}{Var(X_i)} = 1$$\n",
    "\n",
    "$$s_b = \\frac{1}{\\sqrt{n-2}}\\sqrt{\\frac{1}{r^2}-1}$$\n",
    "\n",
    "$$r = \\frac{\\sigma_X}{\\sigma_Y}$$\n",
    "\n",
    "As you can see, when $Var(X_i)$ goes down, $\\sigma_X$ falls, and the value of $r$ falls; intuitively, when $k$ rises, the variance will go to zero, which makes $r$ go to zero as well (since there's no variation).  You can then see that $s_b$ diverges to infinity.  \n",
    "\n",
    "We can make this more precise.  In this model, how does $Var(X_i)$ depend on $k$?  Well, first notice that $\\bar{X_i} = 15\\cdot k + 20 \\cdot (1-k)$.  Then,\n",
    "\n",
    "$$Var(X_i) = (X_i - \\bar{X_i})^2 = k (15 - \\bar{X_i})^2 + (1-k)(20 - \\bar{X_i})^2$$\n",
    "\n",
    "$$\\implies Var(X_i) = 25[k(1-k)^2 + (1-k)k^2]$$\n",
    "\n",
    "Okay, that looks awful - so let's plot a graph of $s_b$ versus $k$ (when $n = 1000$):"
   ]
  },
  {
   "cell_type": "code",
   "execution_count": null,
   "metadata": {
    "pycharm": {
     "name": "#%%\n"
    },
    "vscode": {
     "languageId": "r"
    }
   },
   "outputs": [],
   "source": [
    "options(repr.plot.width=6,repr.plot.height=4)\n",
    "\n",
    "r = 0.01 \n",
    "\n",
    "eq = function(k){(1/sqrt(1000-2))*(1/(25*(k*(1-k)^2 + (1-k)*k^2))-1)}\n",
    "s = seq(0.5, 1.00, by = r)\n",
    "n = length(s)\n",
    "\n",
    "plot(eq(s), type='l',  xlab=\"Values of K\", ylab=\"Standard Error\", xaxt = \"n\")\n",
    "axis(1, at=seq(0, n-1, by = 10), labels=seq(0.5, 1.00, by = 10*r))\n",
    "\n",
    "# You will notice that the plot actually diverges to infinity\n",
    "# Try making R smaller to show this fact!\n",
    "#Notice the value at 1 increases"
   ]
  },
  {
   "cell_type": "markdown",
   "metadata": {
    "pycharm": {
     "name": "#%% md\n"
    }
   },
   "source": [
    "Why does this happen?  The reason actually has to do with _information_.\n",
    "\n",
    "When you estimate a regression, you are using the variation in the data to estimate each of the parameters.  As the variation falls, the estimation gets less and less precise, because you are using less and less data to make an evaluation.  The magnitude of this problem can be quantified using the **VIF** or **variance inflation factor** for each of the variables in question.Graphically you can think of regression as drawing a best fit line through data points. Now if the variance is $0$ in the data, there is just one data point.If you remember from high school you need two points to draw a line, so with $0$ variance the OLS problem becomes ill-defined.\n",
    "\n",
    "We can calculate this directly in R by using the ``vif`` function.  Let's look at the collinearity in our model:"
   ]
  },
  {
   "cell_type": "code",
   "execution_count": null,
   "metadata": {
    "pycharm": {
     "name": "#%%\n"
    },
    "vscode": {
     "languageId": "r"
    }
   },
   "outputs": [],
   "source": [
    "regression2 <- lm(wealth ~  income_before_tax +income_after_tax, data = SFS_data)\n",
    "\n",
    "summary(regression2)\n",
    "\n"
   ]
  },
  {
   "cell_type": "code",
   "execution_count": null,
   "metadata": {
    "pycharm": {
     "name": "#%%\n"
    },
    "vscode": {
     "languageId": "r"
    }
   },
   "outputs": [],
   "source": [
    "cat(\"Variance inflation factor of income after tax on wealth: \",vif(regression2,SFS_data$income_after_tax,SFS_data$wealth),'\\n')\n",
    "cat(\"Variance inflation factor of income before tax on wealth: \",vif(regression2,SFS_data$income_before_tax,SFS_data$wealth),'\\n')\n",
    "cat(\"Variance inflation factor of income before tax on income after tax: \",vif(regression2,SFS_data$income_before_tax,SFS_data$income_after_tax),'\\n')"
   ]
  },
  {
   "cell_type": "markdown",
   "metadata": {
    "pycharm": {
     "name": "#%% md\n"
    }
   },
   "source": [
    "Notice the extremely large VIF.  This would indicate that you have a problem with collinearity in your data.\n",
    "\n",
    "> _Think Deeper_:  What happens to the VIF as ``k`` changes?  Why?  Can you explain?\n",
    "\n",
    "There are no \"hard\" rules for what makes a VIF too large - you should think about your model holistically, and use it as a way to investigate whether you have any problems with your model evaluation and analysis."
   ]
  },
  {
   "cell_type": "markdown",
   "metadata": {
    "pycharm": {
     "name": "#%% md\n"
    }
   },
   "source": [
    "## Part 2: Heteroskedasticity\n",
    "\n",
    "**Heteroskedasticity** (Het-er-o-sked-as-ti-city) is another common problem in many economic models.  It refers to the situation in which the distribution of the residuals changes as the explanatory variables change. Usually, we could visualize this problem by drawing a residual plot and a fan or cone shape indicates the presence of heteroskedasticity. For example, consider this regression:"
   ]
  },
  {
   "cell_type": "code",
   "execution_count": null,
   "metadata": {
    "pycharm": {
     "name": "#%%\n"
    },
    "vscode": {
     "languageId": "r"
    }
   },
   "outputs": [],
   "source": [
    "regression3 <- lm(income_before_tax ~ income_after_tax, data = SFS_data)\n",
    "\n",
    "ggplot(data = SFS_data, aes(x = as.numeric(income_after_tax), y = as.numeric(regression3$residuals))) + geom_point() + labs(x = \"After-tax income\", y = \"Residuals\")"
   ]
  },
  {
   "cell_type": "markdown",
   "metadata": {
    "pycharm": {
     "name": "#%% md\n"
    }
   },
   "source": [
    "This obviously does not look like a distribution which is unchanging as market income changes.  This is a good \"eyeball test\" for heteroskedasticty.  Why does heteroskedasticity arise?  For many reasons:\n",
    "\n",
    "1.  It can be a property of the data; it just happens that some values show more variation, due to the process which creates the data.  One of the most common ways this can arise is where there are several different economic processes creating the data.  \n",
    "\n",
    "2.  It can be because of an unobserved variable.  This is similar to above; if we can quantify that process in a variable or a description, we have left it out.  This could create bias in our model, but it will also show up in the standard errors in this way.\n",
    "3.  It can be because of your model specification.  Models, by their very nature, can be heteroskedastic (or not); we will explore one important example later in this worksheet.\n",
    "4.  There are many other reasons, which we won't get into here.\n",
    "\n",
    "Whatever the reason it exists, you need to correct for it - if you don't, while your coefficients will be OK, your standard errors will be incorrect.  You can do this in a few ways.  The first way is to try to change your variables that the \"transformed\" model (a) makes economic sense, and (b) no longer suffers from heteroskedasticity.  For example, perhaps a _log-log_ style model might work here:\n"
   ]
  },
  {
   "cell_type": "code",
   "execution_count": null,
   "metadata": {
    "pycharm": {
     "name": "#%%\n"
    },
    "vscode": {
     "languageId": "r"
    }
   },
   "outputs": [],
   "source": [
    "SFS_data <- SFS_data %>%\n",
    "               filter(income_before_tax > 0) %>% #getting rid of NAs\n",
    "               mutate(lnincome_before_tax = log(income_before_tax))\n",
    "\n",
    "SFS_data <- SFS_data %>%\n",
    "               filter(income_after_tax > 0) %>%\n",
    "               mutate(lnincome_after_tax = log(income_after_tax))\n",
    "\n",
    "\n",
    "regression4 <- lm(lnincome_before_tax ~ lnincome_after_tax, data = SFS_data)\n",
    "\n",
    "ggplot(data = SFS_data, aes(x = lnincome_before_tax, y = regression4$residuals)) + geom_point() + labs(x = \"Log of before-tax income\", y = \"Residuals\")"
   ]
  },
  {
   "cell_type": "markdown",
   "metadata": {
    "pycharm": {
     "name": "#%% md\n"
    }
   },
   "source": [
    "> _Think Deeper_: Does the errors of this model seem homoskedastic?\n",
    "\n",
    "As you can see, that didn't work out.  This is pretty typical: when you transform a model by changing the variables, what you are really doing is adjusting how you think the data process should be described so that it's no longer heteroskedastic.  If you aren't correct with this, you won't fix the problem.\n",
    "\n",
    "For example, in a _log-log_ model, we are saying \"there's a multiplicative relationship\"... but that probably doesn't make sense here.  This is one of the reasons why data transformations are not usually a good way to fix this problem unless you have a very clear idea of what the transformation _should_ be.\n",
    "\n",
    "The most robust (no pun intended) way is to simply use standard errors which are robust to heteroskedasticity.  There are actually a number of different versions of these (which you don't need to know about), but they are all called **HC** or **hetereoskedasticity-corrected** standard errors.  In economics, we typically adopt White's versions of these (called **HC1** in the literature); these are often referred to in economics papers as \"robust\" standard errors (for short).\n",
    "\n",
    "This is relatively easy to do in R.  Basically, you run your model, as normal, and then re-test the coefficients to get the correct error using the ``coeftest`` command, but specifying which kind of errors you want to use.  Here is an example:"
   ]
  },
  {
   "cell_type": "code",
   "execution_count": null,
   "metadata": {
    "pycharm": {
     "name": "#%%\n"
    },
    "vscode": {
     "languageId": "r"
    }
   },
   "outputs": [],
   "source": [
    "regression5 <- lm(income_before_tax ~ income_after_tax, data = SFS_data)\n",
    "\n",
    "summary(regression5)\n",
    "\n",
    "coeftest(regression5, vcov = vcovHC(regression5, type = \"HC1\"))"
   ]
  },
  {
   "cell_type": "markdown",
   "metadata": {
    "pycharm": {
     "name": "#%% md\n"
    }
   },
   "source": [
    "As you can see, the standard errors (and significance tests) give different results; in particular, the HC1 errors are almost 10-times larger than the uncorrected errors.  In this particular model, it didn't make much of a different to the conclusions (even though it changed the $t$ statistics a lot), but it can sometimes change your results.\n",
    "\n",
    "### Testing for Heteroskedasticity\n",
    "\n",
    "You can also perform some formal tests for heteroskedasticity.  We learned about two of them in class:\n",
    "\n",
    "1.  White's Test, which relies on performing a regression using the residuals\n",
    "2.  Breusch-Pagan Test, which also relies on performing a simpler regression using the residuals\n",
    "\n",
    "Both of them are, conceptually, very similar.  Let's try (2) for the above regression:"
   ]
  },
  {
   "cell_type": "code",
   "execution_count": null,
   "metadata": {
    "pycharm": {
     "name": "#%%\n"
    },
    "vscode": {
     "languageId": "r"
    }
   },
   "outputs": [],
   "source": [
    "regression2 <- lm(income_before_tax ~ income_after_tax, data = SFS_data) \n",
    "\n",
    "SFS_data$resid_sq <- (regression2$residuals)^2 #get the residuals then square it\n",
    "\n",
    "regression3 <- lm(resid_sq ~ income_after_tax, data = SFS_data) #make the residuals a function of X\n",
    "\n",
    "summary(regression3)"
   ]
  },
  {
   "cell_type": "markdown",
   "metadata": {
    "pycharm": {
     "name": "#%% md\n"
    }
   },
   "source": [
    "Inspecting the results, we can see from the $F$-statistic that we can strongly reject the assumption of homoskedasticity. This is denoted by the 3 asterisks. This data looks like it's heteroskedastic, because the residuals can be predicted using the explanatory variables.\n",
    "\n",
    "There is one very important note: \n",
    "\n",
    "* If you **fail** one of these tests, it implies that your data is heteroskedastic\n",
    "* If you **pass** one of these tests, it _does not_ imply that your data is homoskedastic (i.e. not heteroskedastic)\n",
    "\n",
    "This is because these are statistical tests, and the null hypothesis is \"not heteroskedastic\".  Failing to reject the null does not mean that the null hypothesis is correct - it just means that you can't rule it out.  This is one of the reasons many economists recommend that you _always_ use robust standard errors unless you have a really compelling reason to believe otherwise.\n",
    "\n",
    "### Linear Probability Models\n",
    "\n",
    "How can a model naturally have heteroskedastic standard errors?  It turns out that many common, and important, models have this issue.  In particular, the **linear probability** model has this problem.  If you recall, a linear probability model is a linear regression in which the dependent variable is a dummy.  For example:\n",
    "\n",
    "$$D_i = \\beta_0 + \\beta_1 X_{1,i} + \\beta_2 X_{2,i} + \\epsilon_i$$\n",
    "\n",
    "These model are quite useful because the coefficients have the interpretation as being the change in the probability of the dummy condition occurring.  For example, we previously regressed ``gender`` (of male or female) in these models to investigate the wealth gap.  However, this can easily cause a problem when estimated using OLS - the value of $D_i$ must be 0 or 1, and the fitted values (which are probabilities) must be between 0 and 1.\n",
    "\n",
    "However, _nothing_ in the OLS model forces this to be true.  If you estimate a value for $\\beta_1$, if you have an $X_{1,i}$ that is high or low enough, the fitted values will be above or below 1 or 0 (respectively).  This implies that _mechanically_ you have heteroskedasticity because high or low values of the explanatory variables will ALWAYS fit worse than intermediate values.  For example, let's look at the fitted values from this regression:"
   ]
  },
  {
   "cell_type": "code",
   "execution_count": null,
   "metadata": {
    "pycharm": {
     "name": "#%%\n"
    },
    "vscode": {
     "languageId": "r"
    }
   },
   "outputs": [],
   "source": [
    "SFS_data <- SFS_data %>%\n",
    "    mutate(M_F = case_when(\n",
    "        gender == \"Male\"  ~ 0,\n",
    "        gender == \"Female\" ~ 1,\n",
    "    ))\n",
    "\n",
    "regression6 <- lm(M_F ~ income_before_tax, data = SFS_data)\n",
    "\n",
    "SFS_data$fitted <- predict(regression6, SFS_data)\n",
    "\n",
    "summary(regression6)\n",
    "\n",
    "ggplot(data = SFS_data, aes(x = as.numeric(income_before_tax), y = fitted)) + geom_point() + labs(x = \"before tax income\", y = \"Predicted Probability\")\n",
    "\n"
   ]
  },
  {
   "cell_type": "markdown",
   "metadata": {
    "pycharm": {
     "name": "#%% md\n"
    }
   },
   "source": [
    "Notice how that as $y$ gets larger as the fitted value drops.  If someone has an income of over 1 million dollars, they would be predicted to have a negative probability of being a female - which is impossible.\n",
    "\n",
    "This is why you _always_ must use robust standard errors in these models - even if a test says otherwise. Let's think about what is happening here, well remember the example of  imperfect collinearity, we're the was $1-k$ chance of $x$ being 15 and k of $x$ being 20. Now remember x was co-linear to $\\beta_0$, and this caused large standard errors. In this scenario the probability of a someone being female given they earn over a million dollars a year is very small. This because few female lead has household earn over a million dollars a year as a percent of the total households earning over a million dollars a year."
   ]
  },
  {
   "cell_type": "markdown",
   "metadata": {
    "pycharm": {
     "name": "#%% md\n"
    }
   },
   "source": [
    "## Part 3: Exercises\n",
    "\n",
    "In these exercises, you will get some hands-on experience with testing and correcting for heteroskedasticity and multicollinearity. You will also start to think about the mechanics and uses of non-linear regressions.\n",
    "\n",
    "### Activity 1\n",
    "\n",
    "Multicollinearity may seem to be an abstract concept, so let's explore this issue with a practical example. \n",
    "\n",
    "Suppose that we are looking to explore the relationship between a families income the gender of the major earner. For instance, we want to know whether families with higher incomes in Canada are more likely to be male. Recall that we have two measures of income: ``income_before_tax`` and ``income_after_tax``. Both measures of income are informative: ``income_before_tax`` refers to gross annual income (before taxes) that employers pay to employees; ``income_after_tax`` refers to net income after taxes have been deducted. \n",
    "\n",
    "Since they are both good measures of income, we decide to put them both in our regression:\n",
    "\n",
    "$$M_F = \\beta_0 + \\beta_1 I_{bi} + \\beta_2 I_{ai} + \\epsilon_i$$\n",
    "\n",
    "$M_F$ denotes the dummy variable for whether the person is male or female, $I_{ai}$ denotes income after taxes, and $I_{bi}$ denotes income before taxes.\n",
    "\n",
    "### Short Answer 1\n",
    "\n",
    "<em>Prompt:</em> What concern should we have about this regression equation? Explain your intuition.\n"
   ]
  },
  {
   "cell_type": "markdown",
   "metadata": {
    "pycharm": {
     "name": "#%% md\n"
    }
   },
   "source": [
    "<font color=\"red\">Answer here in red"
   ]
  },
  {
   "cell_type": "markdown",
   "metadata": {
    "pycharm": {
     "name": "#%% md\n"
    }
   },
   "source": [
    "Before we continue, let's reduce the sample size of our data set to 200 observations. We will also revert ``gender`` into a numeric variable:"
   ]
  },
  {
   "cell_type": "code",
   "execution_count": null,
   "metadata": {
    "pycharm": {
     "name": "#%%\n"
    },
    "vscode": {
     "languageId": "r"
    }
   },
   "outputs": [],
   "source": [
    "#Run this!\n",
    "SFS_data200 <- head(SFS_data, 200) %>%\n",
    "    mutate(M_F = as.numeric(gender)) #everyone in the first 200 observations as, male or female"
   ]
  },
  {
   "cell_type": "markdown",
   "metadata": {
    "pycharm": {
     "name": "#%% md\n"
    }
   },
   "source": [
    "### Activity 2\n",
    "\n",
    "Run the regression described above.\n",
    "\n",
    "<em>Tested Objects:</em> ``reg1``."
   ]
  },
  {
   "cell_type": "code",
   "execution_count": null,
   "metadata": {
    "pycharm": {
     "name": "#%%\n"
    },
    "vscode": {
     "languageId": "r"
    }
   },
   "outputs": [],
   "source": [
    "\n",
    "#Quiz 1\n",
    "\n",
    "reg1 <- lm(???, data = SFS_data200) #fill me in\n",
    "\n",
    "summary(reg1)\n",
    "\n",
    "\n",
    "test_1() #test1"
   ]
  },
  {
   "cell_type": "markdown",
   "metadata": {
    "pycharm": {
     "name": "#%% md\n"
    }
   },
   "source": [
    "### Short Answer 2\n",
    "\n",
    "<em>Prompt:</em> What do you notice about the characteristics of the estimated regression? Does anything point to your concern being valid?"
   ]
  },
  {
   "cell_type": "markdown",
   "metadata": {
    "pycharm": {
     "name": "#%% md\n"
    }
   },
   "source": [
    "<font color=\"red\">Answer here in red\n",
    "\n"
   ]
  },
  {
   "cell_type": "markdown",
   "metadata": {
    "pycharm": {
     "name": "#%% md\n"
    }
   },
   "source": [
    "Now, let's suppose we drop 50 more observations:"
   ]
  },
  {
   "cell_type": "code",
   "execution_count": null,
   "metadata": {
    "pycharm": {
     "name": "#%%\n"
    },
    "vscode": {
     "languageId": "r"
    }
   },
   "outputs": [],
   "source": [
    "#Run this!\n",
    "SFS_data150 <- head(SFS_data200, 150)"
   ]
  },
  {
   "cell_type": "markdown",
   "metadata": {
    "pycharm": {
     "name": "#%% md\n"
    }
   },
   "source": [
    "Run the regression model again and compare it with the previous regression.\n",
    "\n",
    "<em>Tested Objects:</em> ``reg2``."
   ]
  },
  {
   "cell_type": "code",
   "execution_count": null,
   "metadata": {
    "pycharm": {
     "name": "#%%\n"
    },
    "vscode": {
     "languageId": "r"
    }
   },
   "outputs": [],
   "source": [
    "#Quiz 2\n",
    "\n",
    "\n",
    "reg2 <- lm(???) # fill me in\n",
    "\n",
    "summary(reg2)\n",
    "\n",
    "\n",
    "test_2() "
   ]
  },
  {
   "cell_type": "markdown",
   "metadata": {
    "pycharm": {
     "name": "#%% md\n"
    }
   },
   "source": [
    "### Short Answer 3\n",
    "\n",
    "<em>Prompt:</em> What happened to the regression estimates when we dropped 50 observations? Does this point to your concern being valid?"
   ]
  },
  {
   "cell_type": "markdown",
   "metadata": {
    "pycharm": {
     "name": "#%% md\n"
    }
   },
   "source": [
    "<font color=\"red\">Answer here in red</font>\n"
   ]
  },
  {
   "cell_type": "markdown",
   "metadata": {
    "pycharm": {
     "name": "#%% md\n"
    }
   },
   "source": [
    "Next, increase the sample size back to its full size and run the regression once again.\n",
    "\n",
    "<em>Tested Objects:</em> ``reg3``"
   ]
  },
  {
   "cell_type": "code",
   "execution_count": null,
   "metadata": {
    "pycharm": {
     "name": "#%%\n"
    },
    "vscode": {
     "languageId": "r"
    }
   },
   "outputs": [],
   "source": [
    "#Quiz 3\n",
    "\n",
    "\n",
    "reg3 <- lm(???) #fill me in\n",
    "\n",
    "summary(reg3)\n",
    "\n",
    "test_3() #test2"
   ]
  },
  {
   "cell_type": "markdown",
   "metadata": {
    "pycharm": {
     "name": "#%% md\n"
    }
   },
   "source": [
    "### Short Answer 5\n",
    "\n",
    "<em>Prompt:</em> Did this change eliminate the concern? How do you know?"
   ]
  },
  {
   "cell_type": "markdown",
   "metadata": {
    "pycharm": {
     "name": "#%% md\n"
    }
   },
   "source": [
    "<font color=\"red\">Answer here in red </font>\n",
    "\n",
    "\n"
   ]
  },
  {
   "cell_type": "markdown",
   "metadata": {
    "pycharm": {
     "name": "#%% md\n"
    }
   },
   "source": [
    "Heteroskedasticity is another issue that researchers frequently deal with when they estimate regression models. Consider the following regression model:\n",
    "\n",
    "$$I_i = \\alpha_0 + \\alpha_1 E_i + \\alpha_2 G_i  + \\epsilon_i$$\n",
    "\n",
    "$I_i$ denotes before tax income, $E_i$ is level of education, $D_i$ is a dummy variable for being female.\n",
    "\n",
    "### Short Answer 6 \n",
    "<em>Prompt:</em> Should we be concerned about heteroskedasticity in this model? If so, what is the potential source of heteroskedasticity, and what do we suspect to be the relationship between the regressor and the error term?"
   ]
  },
  {
   "cell_type": "markdown",
   "metadata": {
    "pycharm": {
     "name": "#%% md\n"
    }
   },
   "source": [
    "<font color=\"red\">Answer here in red\n"
   ]
  },
  {
   "cell_type": "markdown",
   "metadata": {
    "pycharm": {
     "name": "#%% md\n"
    }
   },
   "source": [
    "### Short Answer 7\n",
    "\n",
    "<em>Prompt:</em> If we suppose that heteroskedasticity is a problem in this regression, what consequences will this have for our regression estimates?"
   ]
  },
  {
   "cell_type": "markdown",
   "metadata": {
    "pycharm": {
     "name": "#%% md\n"
    }
   },
   "source": [
    "<font color=\"red\">Answer here in red </font>"
   ]
  },
  {
   "cell_type": "markdown",
   "metadata": {
    "pycharm": {
     "name": "#%% md\n"
    }
   },
   "source": [
    "Run the regression below, and graph the residuals against the level of schooling.\n",
    "\n",
    "<em>Tested Objects:</em> ``reg5``. The graph will be graded manually."
   ]
  },
  {
   "cell_type": "code",
   "execution_count": null,
   "metadata": {
    "pycharm": {
     "name": "#%%\n"
    },
    "vscode": {
     "languageId": "r"
    }
   },
   "outputs": [],
   "source": [
    "#Quiz 5\n",
    "\n",
    "#Run the regression\n",
    "reg5 <- lm(income_before_tax~education, data = SFS_data)\n",
    "\n",
    "resiplot <- ggplot(reg5, aes(x = ???, y = .resid)) + xlab(\"Education Level\") + ylab(\"Income (Residuals)\")\n",
    "resiplot + geom_point() + geom_hline(yintercept = 0) + scale_x_discrete(guide = guide_axis(n.dodge=3))\n"
   ]
  },
  {
   "cell_type": "markdown",
   "metadata": {
    "pycharm": {
     "name": "#%% md\n"
    }
   },
   "source": [
    "### Short Answer 8\n",
    "\n",
    "<em>Prompt:</em> Describe the relationship between education level and the residuals in the graph above. What does the graph tell us about the presence and nature of heteroskedasticity in the regression model?"
   ]
  },
  {
   "cell_type": "markdown",
   "metadata": {
    "pycharm": {
     "name": "#%% md\n"
    }
   },
   "source": [
    "<font color=\"red\">Answer here in red:  </font>\n",
    "\n"
   ]
  },
  {
   "cell_type": "markdown",
   "metadata": {
    "pycharm": {
     "name": "#%% md\n"
    }
   },
   "source": [
    "To test for heteroskedasticity formally, let's perform the White Test. First, store the residuals from the previous regression in ``SFS_data``.\n",
    "\n",
    "<em> Tested Objects: ``SFS_data`` (checks to see that residuals were added properly)."
   ]
  },
  {
   "cell_type": "code",
   "execution_count": null,
   "metadata": {
    "pycharm": {
     "name": "#%%\n"
    },
    "vscode": {
     "languageId": "r"
    }
   },
   "outputs": [],
   "source": [
    "#Quiz 6\n",
    "\n",
    "SFS_data <- mutate(SFS_data, resid = ???)\n",
    "\n",
    "head(SFS_data$resid, 10) #Displays the residuals in the dataframe\n",
    "\n",
    "test_6() #test3"
   ]
  },
  {
   "cell_type": "markdown",
   "metadata": {
    "pycharm": {
     "name": "#%% md\n"
    }
   },
   "source": [
    "Next, generate a variable for the squared residuals, then run the required auxiliary regression.\n",
    "\n",
    "<em>Tested Objects:</em> ``WT`` (the auxiliary regression)."
   ]
  },
  {
   "cell_type": "code",
   "execution_count": null,
   "metadata": {
    "pycharm": {
     "name": "#%%\n"
    },
    "scrolled": true,
    "vscode": {
     "languageId": "r"
    }
   },
   "outputs": [],
   "source": [
    "#Quiz 7\n",
    "model=lm(income_before_tax~gender^2 + gender + education^2 +education+ education*gender, data = SFS_data) # fill me in\n",
    "resid = reg5$residuals\n",
    "rsq=(resid)^2\n",
    "\n"
   ]
  },
  {
   "cell_type": "code",
   "execution_count": null,
   "metadata": {
    "pycharm": {
     "name": "#%%\n"
    },
    "vscode": {
     "languageId": "r"
    }
   },
   "outputs": [],
   "source": [
    "SFS_data$rsq=rsq\n",
    "\n",
    "WT <- lm(rsq~ ???, data =SFS_data) # fill me in\n",
    "\n",
    "summary(WT)\n",
    "\n",
    "\n",
    "test_7() #test4\n"
   ]
  },
  {
   "cell_type": "markdown",
   "metadata": {},
   "source": [
    "### Short Answer 9\n",
    "\n",
    "<em>Prompt:</em> What does the white test suggest?"
   ]
  },
  {
   "cell_type": "markdown",
   "metadata": {
    "pycharm": {
     "name": "#%% md\n"
    }
   },
   "source": [
    "### Activity 3\n",
    "\n",
    "Finish filling in this table:\n",
    "\n",
    "<table>\n",
    "  <tr>\n",
    "     <th>Formal Issue Name</th>\n",
    "    <th>Problem</th>\n",
    "      <th>Meaning</th>\n",
    "      <th>Test</th>\n",
    "    <th>Solution</th>\n",
    "  </tr>\n",
    "  <tr>\n",
    "    <td>??? </td>\n",
    "    <td>Incorrect Standard errors, which can lead to incorrect confidence intervals etc</td>\n",
    "     <td>The distribution of residuals is not constant</td>\n",
    "      <td> White's Test and  Breusch-Pagan: bptest() (for the Breuusch-pagan test)</td>\n",
    "      <td>Add additional factors to regression or use robust standard errors</td>\n",
    "  </tr>\n",
    "      <tr>\n",
    "    <td>Perfect Collinearity </td>\n",
    "    <td>???</td>\n",
    "     <td>One variable in the regression is a linear function of another variable in the regression</td>\n",
    "      <td> Collinearity test on the model, ols_vif_tol(model) </td>\n",
    "      <td>???</td>\n",
    "  </tr>\n",
    "      <tr>\n",
    "    <td>Imperfect Collinearity </td>\n",
    "    <td>The model will have very large standard erros. R may need to omit a varible</td>\n",
    "     <td>One variable can almost be fully predict with a linear function of another variable in the model</td>\n",
    "      <td> ??? </td>\n",
    "      <td>Omit one of the co-linear variables, try using more data, another option is using a transformation(for instance taking logarithms).</td>\n",
    "  </tr>\n",
    "</table>\n",
    "\n",
    "\n"
   ]
  },
  {
   "cell_type": "markdown",
   "metadata": {
    "pycharm": {
     "name": "#%% md\n"
    }
   },
   "source": [
    "<span id=\"fn1\">[<sup>1</sup>](#fn1s)Provided under the Statistics Canada Open License.  Adapted from Statistics Canada, Statistics Canada Open License (Public)\n",
    "Adapted from Statistics Canada, 2021 Census Public Use Microdata File (PUMF). This does not constitute an endorsement by Statistics Canada of this product.</span>"
   ]
  }
 ],
 "metadata": {
  "kernelspec": {
   "display_name": "R",
   "language": "R",
   "name": "ir"
  },
  "language_info": {
   "codemirror_mode": "r",
   "file_extension": ".r",
   "mimetype": "text/x-r-source",
   "name": "R",
   "pygments_lexer": "r",
   "version": "4.1.1"
  }
 },
 "nbformat": 4,
 "nbformat_minor": 4
}
