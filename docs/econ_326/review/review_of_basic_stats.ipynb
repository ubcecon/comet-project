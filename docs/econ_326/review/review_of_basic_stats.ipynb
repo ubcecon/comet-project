{
  "cells": [
    {
      "cell_type": "markdown",
      "metadata": {},
      "source": [
        "# 01 - Review of Basic Statistics using R\n",
        "\n",
        "COMET Team <br> \\_William Co, Anneke Dresselhuis, Jonathan Graves, Emrul\n",
        "Hasan, Jonah Heyl, Mridul Manas, Shiming Wu.  \n",
        "2023-05-08\n",
        "\n",
        "## Outline\n",
        "\n",
        "### Prerequisites\n",
        "\n",
        "-   Introduction to Jupyter\n",
        "-   Introduction to R\n",
        "\n",
        "### Outcomes\n",
        "\n",
        "In this notebook, you will learn how to:\n",
        "\n",
        "-   Import data from the Survey of Financial Security (Statistics\n",
        "    Canada, 2019)\n",
        "-   Wrangle, reshape and visualize `SFS_data` as part of an Exploratory\n",
        "    Data Analysis (EDA)\n",
        "-   Run statistical tests, such as the $t$-test, to compare mean income\n",
        "    of male-led vs. female-led households\n",
        "-   Generate summary statistics tables and other data-representations of\n",
        "    the data using `group_by()`\n",
        "-   Optional: Run a formal two sample t-test to check for heterogeneity\n",
        "    in how gender affects income and compare the returns to education\n",
        "\n",
        "## Part 1: Import Data into R\n",
        "\n",
        "The data we use comes from the <u>2019 Survey of Financial Security</u>\n",
        "released by Statistics Canada[<sup id=\"fn1s\">1</sup>](#fn1)."
      ],
      "id": "153cda7a-b8e0-467b-8bfe-eda30900f976"
    },
    {
      "cell_type": "code",
      "execution_count": null,
      "metadata": {},
      "outputs": [],
      "source": [
        "# Run this cell to load necessary packages for this tutorial\n",
        "library(tidyverse)\n",
        "library(haven)\n",
        "library(dplyr)\n",
        "install.packages('vtable')\n",
        "install.packages('viridis')\n",
        "\n",
        "source(\"functions1.r\")\n",
        "#warning messages are okay"
      ],
      "id": "c736207b-15f6-4960-b47f-0f79e19fefbe"
    },
    {
      "cell_type": "markdown",
      "metadata": {},
      "source": [
        "The **tidyverse** is a collection of R packages developed by Hadley\n",
        "Wickham and his colleagues as a cohesive set of tools for data\n",
        "manipulation, visualization, and analysis. In a **tidy** data set, each\n",
        "variable forms a column and each observation forms a row.\n",
        "\n",
        "> `tidyverse` packages such as the `tidyr` and `dplyr` are recommended\n",
        "> for cleaning and transforming your data into tidy formats.\n",
        "\n",
        "Let’s import the `.dta` file from Statistics Canada using the `read_dta`\n",
        "function."
      ],
      "id": "5055d067-3c5f-4aee-ba5f-50e171f6ec8a"
    },
    {
      "cell_type": "code",
      "execution_count": null,
      "metadata": {},
      "outputs": [],
      "source": [
        "#If this is your first time using Jupyter Lab, the shortcut to run a cell is `Shift + Enter`.\n",
        "SFS_data <- read_dta(\"../datasets/SFS_2019_Eng.dta\")"
      ],
      "id": "403493e5-72d2-4424-9bcf-ed07476dfdb9"
    },
    {
      "cell_type": "markdown",
      "metadata": {},
      "source": [
        "Here are some of the common File Extensions and Import Methods in R:\n",
        "\n",
        "-   `.dta` and `read_dta()` for STATA files\n",
        "-   `.csv` and `read_csv()` for data stored as comma-separated values\n",
        "-   `.Rda` and `load()` for RStudio files and other files formatted for\n",
        "    R"
      ],
      "id": "3cdada72-e02c-4d87-9b24-7b117f404132"
    },
    {
      "cell_type": "code",
      "execution_count": null,
      "metadata": {},
      "outputs": [],
      "source": [
        "head(SFS_data, 5)"
      ],
      "id": "d9271f06-f1a3-4210-8655-859effd4b24f"
    },
    {
      "cell_type": "markdown",
      "metadata": {},
      "source": [
        "> `head(df, n)` displays first n rows of the data frame. Other popular\n",
        "> methods include `glance()` and `print()`"
      ],
      "id": "cbb30a0d-68e4-4518-a9fc-29cd9c299cfb"
    },
    {
      "cell_type": "code",
      "execution_count": null,
      "metadata": {},
      "outputs": [],
      "source": [
        "#You can read the documentation for a given function by adding a question-mark\n",
        "?head\n",
        "#Run this"
      ],
      "id": "2b2fba21-b92f-404c-b7a3-878b80df3724"
    },
    {
      "cell_type": "markdown",
      "metadata": {},
      "source": [
        "### Part 2: Exploratory Data Analysis in R\n",
        "\n",
        "There are a routine of steps you should generally follow as part of your\n",
        "*EDA* or *Exploratory Data Analysis.* Normally, you would analyze and\n",
        "visualize the variation, correlation, and distribution of your variables\n",
        "of interest. We do this to gain an intuitive understanding of the data\n",
        "before we undetake any formal hypothesis tests or model-fitting.\n",
        "\n",
        "Let’s think of our key variables of interest. Given our research\n",
        "question, here are a few:\n",
        "\n",
        "-   gender of the highest income earner **(independent variable)**\n",
        "\n",
        "-   income after tax for each individual (variable of interest)\n",
        "\n",
        "-   income before tax for each individual (variable of interest)\n",
        "\n",
        "-   wealth for the household (control)\n",
        "\n",
        "-   education (control)\n",
        "\n",
        "**Cleaning and Reshaping `SFS_data`**\n",
        "\n",
        "For now, it’d be convenient to work with a new data frame containing\n",
        "only the key variables (columns) listed above. Moreover, the columns\n",
        "need to be renamed so they are easier for the reader to remember."
      ],
      "id": "865fe094-5a6c-48d0-b846-78fc6783461f"
    },
    {
      "cell_type": "code",
      "execution_count": null,
      "metadata": {},
      "outputs": [],
      "source": [
        "#rename columns\n",
        "SFS_data <- SFS_data %>%\n",
        "    rename(income_before_tax = pefmtinc) %>% \n",
        "    rename(income_after_tax = pefatinc) %>%\n",
        "    rename(wealth = pwnetwpg) %>%\n",
        "    rename(gender = pgdrmie) %>%\n",
        "    rename(education = peducmie) \n",
        "\n",
        "#Drop rows where tax info is missing, ie. pefmtinc = 'NA'.\n",
        "SFS_data <- filter(SFS_data, !is.na(SFS_data$income_before_tax))\n",
        "\n",
        "keep <- c(\"pefamid\", \"gender\", \"education\", \"wealth\", \"income_before_tax\", \"income_after_tax\")\n",
        "\n",
        "#new df with chosen columns\n",
        "df_gender_on_wealth <- SFS_data[keep]\n",
        "\n",
        "#preview\n",
        "head(df_gender_on_wealth, 5)"
      ],
      "id": "8250edd5-b666-4f86-9579-0018d694b36f"
    },
    {
      "cell_type": "markdown",
      "metadata": {},
      "source": [
        "> This is another **tidy representation** of the original data but with\n",
        "> less number of variables. The original data set is still stored as\n",
        "> `SFS_data`.\n",
        "\n",
        "**Ensuring correct data-types**\n",
        "\n",
        "Notice that education is stored as `<chr>` and generally qualitative\n",
        "variables should be *encoded* and stored as `factors`.\n",
        "\n",
        "> The variable `education` in the data-set came as *encoded* as it is\n",
        "> from a set of values {1, 2, 3, 4, 9}, each of which represent a level\n",
        "> of education obtained."
      ],
      "id": "06b1de1f-4942-4c2f-8ade-e788cfbfb3c8"
    },
    {
      "cell_type": "code",
      "execution_count": null,
      "metadata": {},
      "outputs": [],
      "source": [
        "df_gender_on_wealth <- df_gender_on_wealth %>%\n",
        "  mutate(education = as.factor(education), \n",
        "         gender = as.factor(gender),\n",
        "         income_before_tax = as.numeric(income_before_tax),\n",
        "         income_after_tax = as.numeric(income_after_tax))\n",
        "\n",
        "head(df_gender_on_wealth, 2)"
      ],
      "id": "78a4298f-cf9e-4846-97cf-07ec1753ac82"
    },
    {
      "cell_type": "markdown",
      "metadata": {},
      "source": [
        "All good! Let’s understand how each of the numbers in the set {1, 2, 3,\n",
        "9} represent an individual’s educational background.\n",
        "\n",
        "**Computing Descriptive Statistics using `vtable` in R**\n",
        "\n",
        "Next, I can calculate summary statistics for income and wealth, both\n",
        "overall and for male-led vs. female-led households."
      ],
      "id": "71d075f9-adfc-4765-a286-c009986a6576"
    },
    {
      "cell_type": "code",
      "execution_count": null,
      "metadata": {},
      "outputs": [],
      "source": [
        "library(vtable)"
      ],
      "id": "237daee9-9443-47b1-9cdb-f3b24a895e75"
    },
    {
      "cell_type": "markdown",
      "metadata": {},
      "source": [
        "> `sumtable` method from the `vtable` package can be used to display the\n",
        "> table in different formats including LaTeX, HTML, and data.frame."
      ],
      "id": "cc75cd08-1fc3-495b-94f2-a4c857def690"
    },
    {
      "cell_type": "code",
      "execution_count": null,
      "metadata": {},
      "outputs": [],
      "source": [
        "sumtbl <- sumtable(df_gender_on_wealth, out = \"kable\")\n",
        "#out = \"kable\" tells it to return a knitr::kable()\n",
        "#Replace \"kable\" with \"latex\" and see what happens!\n",
        "sumtbl"
      ],
      "id": "17f9fe94-8cc6-4bd0-bbe5-9f75d779547f"
    },
    {
      "cell_type": "markdown",
      "metadata": {},
      "source": [
        "This is like having a birds-eye view at our data*.* As researcher, we\n",
        "should take note of outliers and other irregularities in how data for\n",
        "variables is distributed and ask how it might affect the *validity* of\n",
        "our models and tests.\n",
        "\n",
        "> See Appendix for a common method to remove outliers using Z-score\n",
        "> thresholds\n",
        "\n",
        "**Grouping observations by their characteristics**\n",
        "\n",
        "Wouldn’t it be neat to see how mean or median incomes for male and\n",
        "female-led households look like based on the level of education obtained\n",
        "by the main income-earner?"
      ],
      "id": "8c17a405-8671-4ba4-8640-fa3c72b3d27f"
    },
    {
      "cell_type": "code",
      "execution_count": null,
      "metadata": {},
      "outputs": [],
      "source": [
        "by_gender_education <- df_gender_on_wealth %>%\n",
        "  \n",
        "  group_by(gender, education) %>%\n",
        "  summarise(mean_income = mean(income_before_tax, na.rm = TRUE),\n",
        "            median_income = median(income_before_tax, na.rm = TRUE),\n",
        "            mean_wealth = mean(wealth, na.rm = TRUE),\n",
        "            median_wealth = median(wealth, na.rm = TRUE))\n",
        "\n",
        "by_gender_education"
      ],
      "id": "986160e5-b124-490d-b6d3-37bbe3041b34"
    },
    {
      "cell_type": "markdown",
      "metadata": {},
      "source": [
        "> This is again a **tidy representation** of the SFS_data. *Grouping*\n",
        "> observations by gender and education makes it a bit easier to analyze\n",
        "> how the different groups compare.\n",
        "\n",
        "We can take this chain-of-thought further and generate a `heatmap` using\n",
        "the `ggplot` package."
      ],
      "id": "165ff4d8-8364-42e1-b3ad-2228ab05dd8c"
    },
    {
      "cell_type": "code",
      "execution_count": null,
      "metadata": {},
      "outputs": [],
      "source": [
        "library(ggplot2)\n",
        "library(viridis)\n",
        "\n",
        "# Create the heatmap with an accessible color palette\n",
        "heatmap_plot <- ggplot(by_gender_education, aes(x = education, y = gender, fill = mean_income)) +\n",
        "  geom_tile() +\n",
        "  scale_fill_viridis_c(option = \"plasma\", na.value = \"grey\", name = \"Mean Income\") +\n",
        "  labs(x = \"Education\", y = \"Gender\")\n",
        "\n",
        "# Display the heatmap\n",
        "heatmap_plot"
      ],
      "id": "4fd813cf-d597-4177-91bd-39f6a19cb421"
    },
    {
      "cell_type": "markdown",
      "metadata": {},
      "source": [
        "> I used the `scale_fill_viridis_c()` method from the `viridis` package\n",
        "> to ensure that the color palette used for this plot is as per the\n",
        "> standards of DS.\n",
        ">\n",
        "> Now, what does this tell you about how male-led households (gender\n",
        "> = 1) compare with female-led households in terms of the mean household\n",
        "> income? Does this tell if education widens the income gap between\n",
        "> male-led and female-led households with the same level of education?\n",
        "\n",
        "We can claim from the visualization that the female-led households with\n",
        "the same level of education have different mean incomes as compared to\n",
        "male-led households. This smells of *heterogeneity* and we can explore\n",
        "regression and other empirical methods to formally test this claim.\n",
        "\n",
        "However, we shouldn’t *yet* draw any conclusive statements about the\n",
        "relationships between gender (of the main income earner), income,\n",
        "education and other con-founders such as wealth.\n",
        "\n",
        "As researchers, we should ask if the differences in the mean or median\n",
        "incomes for the two groups are significant at all. **Think about how you\n",
        "would specify the null and alternative hypotheses!** We can then go a\n",
        "bit further and test if education indeed widens the gap or not.\n",
        "\n",
        "### Part 3: Running $t$-test and $Chi$-square test in R"
      ],
      "id": "355ea188-49d7-45af-a209-a414f7c229b2"
    },
    {
      "cell_type": "code",
      "execution_count": null,
      "metadata": {},
      "outputs": [],
      "source": [
        "# Performs a t-test for means comparison\n",
        "t_test_result <- t.test(income_before_tax ~ gender, data = df_gender_on_wealth)\n",
        "print(t_test_result)"
      ],
      "id": "bef470c6-9306-4974-809e-e23fe13b8297"
    },
    {
      "cell_type": "markdown",
      "metadata": {},
      "source": [
        "The 95% C.I does not include 0 and we can confirm that the male-led\n",
        "households on average earn more as income before tax than the female-led\n",
        "households, and the gap is statistically significant.\n",
        "\n",
        "> How about the medians for the two groups?"
      ],
      "id": "4c3f87fc-1ecf-433d-891b-3812aa781953"
    },
    {
      "cell_type": "code",
      "execution_count": null,
      "metadata": {},
      "outputs": [],
      "source": [
        "# Perform a Mann-Whitney U test for median comparison\n",
        "mannwhitneyu_test_result <- wilcox.test(income_before_tax ~ gender, data = df_gender_on_wealth)\n",
        "print(mannwhitneyu_test_result)"
      ],
      "id": "ce027a5e-4e4b-405b-a96d-361e8139fb4c"
    },
    {
      "cell_type": "markdown",
      "metadata": {},
      "source": [
        "This p-value is again highly significant, and based on our data, the\n",
        "median incomes for the two groups are not equal.\n",
        "\n",
        "Our variable of interest is income, and so far, we have provided\n",
        "statistical evidence for the case that the gender of the main\n",
        "income-earner is correlated with the household’s income.\n",
        "\n",
        "We are however more interested in the causal mechanisms through which\n",
        "education and wealth *determine* how gender affects household income.\n",
        "\n",
        "> Think deeper: According to Ortiz-Ospina and Roser (2018), women are\n",
        "> overrepresented in low-paying jobs but are underrepresented in\n",
        "> high-paying ones.\n",
        ">\n",
        "> What role does the attainment of education play in sorting genders\n",
        "> into high vs. low-paying jobs. Can we test this formally with the\n",
        "> data?\n",
        "\n",
        "**Optional: Studying how Wealth and Education might impact the\n",
        "income-gap**\n",
        "\n",
        "There are multiple reasons to study the links between **wealth** and the\n",
        "**income** gap? DFor instance, we might want to answer whether having\n",
        "more wealth affects an individual’s income? Moreover, are certain\n",
        "genders inheriting more wealth than the others, and if so, what can we\n",
        "say about the gender wage gap?\n",
        "\n",
        "We can use some of the methods we have learned in R to analyze and\n",
        "visualize relationships between income, gender, education and wealth.\n",
        "\n",
        "> Let’s see if having a university degree widens the gender income gap?"
      ],
      "id": "57a04989-495a-41ba-bda1-bccb673df2ee"
    },
    {
      "cell_type": "code",
      "execution_count": null,
      "metadata": {},
      "outputs": [],
      "source": [
        "SFS_data <- SFS_data %>% \n",
        "               mutate( # more information on mutate in introduction to r modules\n",
        "               university = case_when( \n",
        "                     education == \"4\" ~ \"Yes\", #the ~ seperates the original from the new name\n",
        "                     TRUE ~ \"No\")) %>% #changes the non university variable to\n",
        "             mutate(university = as_factor(university)) #remember, it's a factor!\n",
        "\n",
        "head(SFS_data$university, 10)"
      ],
      "id": "7306b295-7e6b-4892-9b0d-f35b60fbf0cf"
    },
    {
      "cell_type": "markdown",
      "metadata": {},
      "source": [
        "Let’s visualize how the mean wealth compares for male-led vs. female-led\n",
        "households conditional on whether the main-income earner went to\n",
        "university!"
      ],
      "id": "97abd4c0-e6de-4d8f-9355-e73ea295d1b0"
    },
    {
      "cell_type": "code",
      "execution_count": null,
      "metadata": {},
      "outputs": [],
      "source": [
        "results <- \n",
        "    SFS_data %>%\n",
        "    group_by(university,gender) %>%\n",
        "    summarize(m_wealth = mean(wealth), sd_wealth = sd(wealth))\n",
        "\n",
        "results \n",
        "\n",
        "f <- ggplot(data = SFS_data, aes(x = gender, y = wealth)) + xlab(\"Gender\") + ylab(\"Wealth\") #label and define our x and y axis\n",
        "f <- f + geom_bar(stat = \"summary\", fun = \"mean\", fill = \"lightblue\") #produce a summary statistic, the mean\n",
        "f <- f + facet_grid(. ~ university) #add a grid by education\n",
        "\n",
        "f"
      ],
      "id": "c45b8ffa-2a9c-4509-bc05-a4e9886c2780"
    },
    {
      "cell_type": "markdown",
      "metadata": {},
      "source": [
        "It smells like the wealth gap between the two types of households widens\n",
        "for groups that have obtained an university degree.\n",
        "\n",
        "Similarly, let’s look at the difference in wealth gap in percent terms.\n",
        "We use `results` generated in previous cell (the $4\\times 4$ table) as\n",
        "the inputs this time."
      ],
      "id": "6029c682-712a-48d2-95e4-4f90c3988034"
    },
    {
      "cell_type": "code",
      "execution_count": null,
      "metadata": {},
      "outputs": [],
      "source": [
        "library(scales)\n",
        "percentage_table <- SFS_data %>%\n",
        "  group_by(university) %>%\n",
        "  group_modify(~ data.frame(wealth_gap = mean(filter(., gender == 2)$wealth)/mean(filter(., gender == 1)$wealth) - 1)) %>%\n",
        "  mutate(wealth_gap = scales::percent(wealth_gap))\n",
        "\n",
        "percentage_table"
      ],
      "id": "a23bf047-6767-4667-bc5a-9ef5a2ccdb91"
    },
    {
      "cell_type": "markdown",
      "metadata": {},
      "source": [
        "Notice the signs are both negative, hence on average, female-led\n",
        "households have less wealth regardless of whether they have an\n",
        "university degree or not.\n",
        "\n",
        "More importantly, based on our data, female-led households with\n",
        "university degrees on average have 28% less wealth than male-led\n",
        "households with university degrees. Comparing the two groups given they\n",
        "don’t have university degrees, the gap is quite smaller: 18%.\n",
        "\n",
        "So, we have shown that the gap widens by about 10% when conditioned for\n",
        "university degree.\n",
        "\n",
        "Let’s test this further by creating sub-samples of “university degree”\n",
        "and “no university degree” respectively and then running formal two\n",
        "sample t-test."
      ],
      "id": "a982dd68-1011-4bc8-b487-006039c98a21"
    },
    {
      "cell_type": "code",
      "execution_count": null,
      "metadata": {},
      "outputs": [],
      "source": [
        "university_data = filter(SFS_data, university == \"Yes\") # university only data \n",
        "nuniversity_data = filter(SFS_data, university == \"No\") # non university data\n",
        "\n",
        "t2 = t.test(\n",
        "       x = filter(university_data, gender == 1)$wealth,\n",
        "       y = filter(university_data, gender == 2)$wealth,\n",
        "       alternative = \"two.sided\",\n",
        "       mu = 0,\n",
        "       conf.level = 0.95)\n",
        "\n",
        "t2  # test for the wealth gap in university data\n",
        "\n",
        "round(t2$estimate[1] - t2$estimate[2],2) #rounds our estimate\n",
        "\n",
        "\n",
        "t3 = t.test(\n",
        "       x = filter(nuniversity_data, gender == 1)$wealth,\n",
        "       y = filter(nuniversity_data, gender == 2)$wealth,\n",
        "       alternative = \"two.sided\",\n",
        "       mu = 0,\n",
        "       conf.level = 0.95)\n",
        "\n",
        "t3 # test for the wealth gap in non-university data\n",
        "\n",
        "round(t3$estimate[1] - t3$estimate[2],2) #rounds our estimate"
      ],
      "id": "0e48e3c5-83e7-456c-9d89-aab59401e78c"
    },
    {
      "cell_type": "markdown",
      "metadata": {},
      "source": [
        "In both tests, the p-values are very small, indicating strong\n",
        "statistical evidence to reject the null hypothesis. The confidence\n",
        "intervals also provide a range of plausible values for the difference in\n",
        "means, further supporting the alternative hypothesis.\n",
        "\n",
        "Based on these results, there appears to be a significant difference in\n",
        "wealth between the two gender groups regardless of university-status,\n",
        "with gender 1 consistently having higher mean wealth compared to gender\n",
        "2.\n",
        "\n",
        "### Optional: Returns to HS diploma\n",
        "\n",
        "Next, examine whether returns to education differ between genders. For\n",
        "our purposes, we will define:\n",
        "\n",
        "**Returns to Education**: The difference in average income before tax\n",
        "between two subsequent education levels.\n",
        "\n",
        "*The following t-test* finds the returns to education of a high school\n",
        "diploma for males (`retHS`) and for females(`retHSF`), and returns to\n",
        "education of a university’s degree for males (`retU`) and for females\n",
        "(`retUF`)."
      ],
      "id": "35c0cd21-8f51-4c53-b4fb-0f3c8a3106e5"
    },
    {
      "cell_type": "code",
      "execution_count": null,
      "metadata": {},
      "outputs": [],
      "source": [
        "#Returns to education: High school diploma\n",
        "\n",
        "##Males\n",
        "less_than_high_school_data = filter(SFS_data, education == 1) #Less than high school\n",
        "high_school_data = filter(SFS_data, education == 2) #High school\n",
        "post_secondary_data = filter(SFS_data, education == 3) #Non-university post-secondary\n",
        "university_data = filter(SFS_data, education == 4) #University\n",
        "\n",
        "\n",
        "retHS = t.test(\n",
        "       x = filter(high_school_data, gender == 1)$income_before_tax,\n",
        "       y = filter(less_than_high_school_data, gender == 1)$income_before_tax,\n",
        "       alternative = \"two.sided\",\n",
        "       mu = 0,\n",
        "       conf.level = 0.95)\n",
        "retHS_ans=round(retHS$estimate[1] - retHS$estimate[2],2)\n",
        "\n",
        "retHSF = t.test(\n",
        "       x = filter(high_school_data, gender == 2)$income_before_tax,\n",
        "       y = filter(less_than_high_school_data, gender == 2)$income_before_tax,\n",
        "       alternative = \"two.sided\",\n",
        "       mu = 0,\n",
        "       conf.level = 0.95)\n",
        "\n",
        "retHS\n",
        "retHSF\n",
        "#retHS_ans=round(retHS$estimate[1] - retHS$estimate[2],2)\n",
        "#retHSF_ans=round(retHSF$estimate[1] - retHSF$estimate[2],2)"
      ],
      "id": "b7341dc5-3984-4eec-89f2-231c39036657"
    },
    {
      "cell_type": "markdown",
      "metadata": {},
      "source": [
        "We have found statistically significant evidence for the case that\n",
        "returns to graduating with a high school diploma are indeed positive for\n",
        "individuals living in both male-led and female-led households.\n",
        "\n",
        "> We could also compute the average returns to a university diploma as\n",
        "> well by changing a few pieces of the code above.\n",
        "\n",
        "### Wrapping Up\n",
        "\n",
        "Congratulations on completing this tutorial! We really got started\n",
        "exploring the gender-wage gap from an empirical point-of-view. We also\n",
        "spent a few minutes exploring the relationships between gender, income,\n",
        "wealth and education. These early or preliminary-level explorations are\n",
        "quite helpful for specifying a regression model that is appropriate!\n",
        "\n",
        "You can head to **Appendix** to see further examples of R code working\n",
        "with data.\n",
        "\n",
        "### Appendix\n",
        "\n",
        "> If your data set comes with *meta-data*, you try `dictionary()` or\n",
        "> `str()` to know more about the **variables**."
      ],
      "id": "f2cc2023-2c8f-41d1-92b4-9bb58b39d4c7"
    },
    {
      "cell_type": "code",
      "execution_count": null,
      "metadata": {},
      "outputs": [],
      "source": [
        "dictionary('peducmie')"
      ],
      "id": "4971263d-e294-47ee-b512-1f8afefe8ab7"
    },
    {
      "cell_type": "markdown",
      "metadata": {},
      "source": [
        "> The `$` operator in `data$variable` points to your variable"
      ],
      "id": "5a2d0f6e-09e8-4266-a82e-22da71c1ee2f"
    },
    {
      "cell_type": "code",
      "execution_count": null,
      "metadata": {},
      "outputs": [],
      "source": [
        "#Computes the mean networth of the family units in the dataset\n",
        "mean(SFS_data$pwnetwpg)"
      ],
      "id": "274a4d12-9161-44af-a88c-22d08e632882"
    },
    {
      "cell_type": "markdown",
      "metadata": {},
      "source": [
        "> Removing outliers is a common practice in DS. Here’s the code for\n",
        "> removing outliers based on a custom Z-score threshold.\n",
        ">\n",
        "> Alternatively, you can first visualize your data with box plots and\n",
        "> then find a convenient threshold to remove outliers in the variables\n",
        "> of interest."
      ],
      "id": "fa6d6bb3-b511-46c2-84b4-b138dc671a15"
    },
    {
      "cell_type": "code",
      "execution_count": null,
      "metadata": {},
      "outputs": [],
      "source": [
        "#Calculate the 75th percentile values for wealth, income_before_tax and income_after_tax\n",
        "\n",
        "#Drop all rows where any of the variables exceed their 75th percentile value\n",
        "\n",
        "# Function to remove outliers based on z-score\n",
        "remove_outliers_zscore <- function(data, variable, threshold) {\n",
        "  z_scores <- scale(data[[variable]])\n",
        "  data_without_outliers <- data[abs(z_scores) <= threshold, ]\n",
        "  return(data_without_outliers)\n",
        "}\n",
        "\n",
        "# Set the threshold for z-score outlier removal\n",
        "zscore_threshold <- 3  # Adjust as needed\n",
        "\n",
        "# Remove outliers based on z-score for the desired variable\n",
        "df_filtered <- remove_outliers_zscore(df_gender_on_wealth, \"wealth\", zscore_threshold)\n",
        "\n",
        "df_filtered"
      ],
      "id": "1cabe6ca-5845-4282-8d92-0c9b0673c59a"
    },
    {
      "cell_type": "markdown",
      "metadata": {},
      "source": [
        "> In many places throughout this notebook, we have used the pipe\n",
        "> operator, ie. `%>%`. In essence, it tells R what to do next and breaks\n",
        "> the code into incremental steps for the reader including yourself."
      ],
      "id": "cef6a863-1f6c-49c3-9631-8f8ff15ac153"
    },
    {
      "cell_type": "code",
      "execution_count": null,
      "metadata": {},
      "outputs": [],
      "source": [
        "#df <- df %>% rename(income_before_tax = pefmtinc)\n",
        "#is the same as\n",
        "#df <- rename(df, income_before_tax = pefmtinc)"
      ],
      "id": "10b873c1-6212-4c3d-aa13-6c61c58834ce"
    },
    {
      "cell_type": "markdown",
      "metadata": {},
      "source": [
        "<span id=\"fn1\">[<sup>1</sup>](#fn1s)Statistics Canada, Survey of\n",
        "Financial Security, 2019, 2021. Reproduced and distributed on an “as is”\n",
        "basis with the permission of Statistics Canada.Adapted from Statistics\n",
        "Canada, Survey of Financial Security, 2019, 2021. This does not\n",
        "constitute an endorsement by Statistics Canada of this product.</span>\n",
        "\n",
        "    Esteban Ortiz-Ospina and Max Roseqoifhoihr (2018) - \"Economic inequality by gender\". Published online at OurWorldInData.org. Retrieved from: 'https://ourworldindata.org/economic-inequality-by-gender' [Online Resource]"
      ],
      "id": "da5e487d-ad30-4631-b1ae-5d40b073cb74"
    }
  ],
  "nbformat": 4,
  "nbformat_minor": 5,
  "metadata": {
    "kernelspec": {
      "name": "ir",
      "display_name": "R",
      "language": "r"
    }
  }
}