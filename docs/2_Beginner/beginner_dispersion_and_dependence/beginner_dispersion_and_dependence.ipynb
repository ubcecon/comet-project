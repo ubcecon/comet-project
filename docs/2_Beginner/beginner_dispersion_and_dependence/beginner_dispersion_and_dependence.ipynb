{
  "cells": [
    {
      "cell_type": "markdown",
      "metadata": {},
      "source": [
        "# 1.2 - Beginner - Dispersion and Dependence\n",
        "\n",
        "COMET Team <br> *Oliver (Junye) Xu, Anneke Dresselhuis, Jonathan\n",
        "Graves*  \n",
        "2023-01-12\n",
        "\n",
        "## Outline\n",
        "\n",
        "### Prerequisites\n",
        "\n",
        "-   Introduction to Jupyter\n",
        "-   Introduction to R\n",
        "-   Introduction to Visualization\n",
        "-   Central Tendency\n",
        "-   Distribution\n",
        "\n",
        "### Outcomes\n",
        "\n",
        "This notebook explains the concepts of dispersion and dependence. After\n",
        "completing this notebook, you will be able to:\n",
        "\n",
        "-   Understand and interpret measures of dispersion, including variance\n",
        "    and standard deviation\n",
        "-   Understand and interpret measures of dependence, including\n",
        "    covariance and correlation\n",
        "-   Investigate, compute, and interpret common descriptive statistics\n",
        "-   Create summary tables for variables, including qualitative variables\n",
        "-   Parse summary statistics for meaning\n",
        "\n",
        "### References\n",
        "\n",
        "-   [Introductory\n",
        "    Statistics](https://openstax.org/books/introductory-statistics/pages/2-7-measures-of-the-spread-of-the-data)\n",
        "\n",
        "## Introduction\n",
        "\n",
        "In this notebook, we will continue learning about how to use descriptive\n",
        "statistics to represent sets of data. We’ve already seen how to compute\n",
        "measures of central tendency and determine which measures are\n",
        "appropriate for given situations. We’ll now focus on computing measures\n",
        "of dispersion and dependence in order to better understand both the\n",
        "variation of variables, as well as relationships between variables in a\n",
        "data set. We’ll dedicate time to both measures, but we’ll look at\n",
        "dispersion first. Let’s first import our familiar 2016 Census data set\n",
        "from Statistics Canada."
      ],
      "id": "e175a627-0a45-4358-be68-5397e7fb36aa"
    },
    {
      "cell_type": "code",
      "execution_count": null,
      "metadata": {},
      "outputs": [],
      "source": [
        "# load packages\n",
        "library(tidyverse)\n",
        "library(haven)\n",
        "library(ggplot2)\n",
        "\n",
        "# reading in the data\n",
        "census_data <- read_dta(\"../datasets_beginner/01_census2016.dta\")\n",
        "\n",
        "# load self-tests\n",
        "source(\"beginner_dispersion_and_dependence_tests.r\")"
      ],
      "id": "da4f2986-fe43-4303-8038-2a7d43ca0b83"
    },
    {
      "cell_type": "markdown",
      "metadata": {},
      "source": [
        "## Part 1: Measures of Dispersion for a Single Variable\n",
        "\n",
        "Measures of dispersion describe the spread of data, that is, the\n",
        "possible values that a variable in a data set can take on. Common\n",
        "measures of dispersion which we’ll look at include the range,\n",
        "interquartile range, standard deviation and variance.\n",
        "\n",
        "### Range and interquartile range\n",
        "\n",
        "The **range** of a variable is the difference between the maximum and\n",
        "minimum value that a variable takes on.\n",
        "\n",
        "The **interquartile range** of a variable is the difference between the\n",
        "75th and 25th percentile values of the variable. We can use functions\n",
        "like `quantile()` and `fivenum()` to calculate these statistics quite\n",
        "quickly.\n",
        "\n",
        "> **Note**: both `quantile()` and `fivenum()` return the same output: a\n",
        "> list with different percentiles of the data. By default, these are the\n",
        "> minimum, 25th percentile, 50th percentile (median), 75th percentile,\n",
        "> and maximum values.\n",
        "\n",
        "### Variance\n",
        "\n",
        "The **variance** is the average of the squared differences from the\n",
        "mean.\n",
        "\n",
        "-   Small variance: observations tend to fall close to the mean\n",
        "-   High variance: observations are very spread out from the mean.\n",
        "\n",
        "The formula for the sample variance is:\n",
        "\n",
        "$$\n",
        "s_{x}^2 = \\frac{\\sum_{i=1}^{n} (x_i - \\overline{x})^2}{n - 1}\n",
        "$$\n",
        "\n",
        "The formula for the variance in a population is:\n",
        "\n",
        "$$\n",
        "\\sigma_{x}^2 = \\int(x - \\mu)^2 f(x) dx\n",
        "$$\n",
        "\n",
        "### Standard deviation\n",
        "\n",
        "The **standard deviation** is the square root of the variance. It also\n",
        "measures dispersion around the mean, similar to the variance. For a\n",
        "sample this is:\n",
        "\n",
        "$$\n",
        "s_{x} = \\sqrt{s_{x}^2} = \\sqrt{\\frac{\\sum_{i = 1}^{n} (x_i - \\overline{x})^2}{n - 1}}\n",
        "$$\n",
        "\n",
        "For the population:\n",
        "\n",
        "$$\n",
        "\\sigma_{x} = \\sqrt{\\sigma_{x}^2}\n",
        "$$\n",
        "\n",
        "> **Example**: a normal distribution with `mean = 30` and `sd = 5` is\n",
        "> exactly the same thing as a normal distribution with `mean = 30` and\n",
        "> `variance = 25`.\n",
        "\n",
        "We usually use standard deviations rather than variances because the\n",
        "variance does not have the *same units* as the original variable, while\n",
        "the standard deviation does.\n",
        "\n",
        "> **Advanced Note**: In econometrics, some samples have more information\n",
        "> than others about the population.For example, an estimate of the\n",
        "> population variance based on a sample size of 100 certainly has more\n",
        "> information than a sample size of 10. We measure the degree of\n",
        "> uncertainty of an estimate using the **degrees of freedom** of an\n",
        "> **estimate**. The degrees of freedom for our estimate of variance\n",
        "> (sample variance) is equal to $n - 1$.\n",
        "\n",
        "In R, we use the `var()` function to calculate the variance of a\n",
        "variable, and the `sd()` function for the standard deviation."
      ],
      "id": "84cc7874-1926-48ff-961e-b1697be5813e"
    },
    {
      "cell_type": "code",
      "execution_count": null,
      "metadata": {},
      "outputs": [],
      "source": [
        "# calculate the variance of wage\n",
        "variance <- var(census_data$wages, na.rm = TRUE) # remember that we need to remove all NA values"
      ],
      "id": "3f4b7a02-2b87-476a-a2cf-ad3ef12bb587"
    },
    {
      "cell_type": "markdown",
      "metadata": {},
      "source": [
        "### Test your knowledge\n",
        "\n",
        "Calculate the standard deviation of wages by filling in the code on the\n",
        "cell below."
      ],
      "id": "f63dd1ea-4f53-402a-a0d1-637a2d0d020a"
    },
    {
      "cell_type": "code",
      "execution_count": null,
      "metadata": {},
      "outputs": [],
      "source": [
        "# fill in the ... with your code below to find the sd of wages - round your answer to the nearest whole number\n",
        "\n",
        "answer_1 <- ...()\n",
        "test_1()"
      ],
      "id": "5ee480fd-6823-4ad3-a106-0db9134dbd6a"
    },
    {
      "cell_type": "markdown",
      "metadata": {},
      "source": [
        "### Interpreting Variation\n",
        "\n",
        "Let’s say we’re interested in understanding how the `wages` variable is\n",
        "dispersed around the mean."
      ],
      "id": "d08ceb77-df7a-4bac-bf53-76acd222a7ff"
    },
    {
      "cell_type": "code",
      "execution_count": null,
      "metadata": {},
      "outputs": [],
      "source": [
        "# recall the mean of wages\n",
        "mean(census_data$wages, na.rm = TRUE) \n",
        "\n",
        "# calculate the standard deviation of wages\n",
        "sd(census_data$wages, na.rm = TRUE) "
      ],
      "id": "6e75594b-eaea-4467-b585-c4c56d42223d"
    },
    {
      "cell_type": "markdown",
      "metadata": {},
      "source": [
        "We have a pretty large standard deviation - even larger than our mean!\n",
        "This tells us that most of the Canadians in the data set have a wage\n",
        "which lies approximately \\$64275.27 away from the mean of \\$54482.52.\n",
        "\n",
        "This large standard deviation tells us that there is high variation in\n",
        "wages and that some of them are very far from the mean. This can be for\n",
        "many reasons, but one possibility is that we have **outliers** in the\n",
        "data set: extreme values of the variable `wages`. This is common for\n",
        "wage distributions in the presence of income inequality.\n",
        "\n",
        "> **To Remember**: the standard deviation is small when the data are all\n",
        "> concentrated close to the mean, while the standard deviation is large\n",
        "> when the data are spread out away from the mean.\n",
        "\n",
        "### Empirical Rule\n",
        "\n",
        "Recall, from the *Central Tendency* notebook, that a very important\n",
        "distribution in econometrics is the **normal distribution**. For a\n",
        "variable with values distributed in this way, there is a quick way to\n",
        "estimate the density of the distribution with the standard deviation.\n",
        "This is called **68-95-99.7 rule** or **Empirical Rule**:\n",
        "\n",
        "-   68% of the values are within 1 standard deviation of the mean\n",
        "-   95% are within 2 standard deviations of the mean\n",
        "-   99.7% are within 3 standard deviations from the mean\n",
        "-   Remaining values are outliers and incredibly rare\n",
        "\n",
        "<figure>\n",
        "<img src=\"attachment:media/standard_deviation_examples.png\"\n",
        "alt=\"“Empirical rule”\" />\n",
        "<figcaption aria-hidden=\"true\">“Empirical rule”</figcaption>\n",
        "</figure>\n",
        "\n",
        "This gives us a helpful frame of reference when discussing the standard\n",
        "deviation of a variable.\n",
        "\n",
        "For example: let’s take test scores. Assuming test scores are normally\n",
        "distributed, if the mean score on a test is 70 and the standard\n",
        "deviation is 10, this tells us that approximately 68% of students who\n",
        "wrote that test earned a score between 60 and 80 (1 standard deviation),\n",
        "approximately 95% earned a score between 50 and 90 (2 standard\n",
        "deviations) and virtually everyone earned a score between 40 and 100 (3\n",
        "standard deviations).\n",
        "\n",
        "### Test your knowledge\n",
        "\n",
        "Let’s suppose the mean test score of my ECON 325 exam was 70 and the\n",
        "standard deviation was 5. If test scores are normally distributed and my\n",
        "grade was 85, what percentage of students got a grade higher than mine?\n",
        "\n",
        "> **Hint**: The area under the normal distribution has to sum to 1."
      ],
      "attachments": {
        "media/standard_deviation_examples.png": {
          "image/png": "[encoded data removed]"
        }
      },
      "id": "f30a1894-cead-40a9-b78a-9e97f3fbe6c8"
    },
    {
      "cell_type": "code",
      "execution_count": null,
      "metadata": {},
      "outputs": [],
      "source": [
        "# write your answer in decimal form and don't round\n",
        "\n",
        "answer_2 <- ...\n",
        "test_2()"
      ],
      "id": "ebff0027-73a3-40e1-bc1a-45de4de225ec"
    },
    {
      "cell_type": "markdown",
      "metadata": {},
      "source": [
        "## Part 2: Measures of Dispersion for Multiple Variables\n",
        "\n",
        "Measures of **dependence** calculate relationships between variables.\n",
        "The two most common are *covariance* and *correlation*.\n",
        "\n",
        "### Covariance\n",
        "\n",
        "**Covariance** is a measure of the direction of a relationship between\n",
        "two variables.\n",
        "\n",
        "-   Positive covariance: two variables are positively related\n",
        "    -   When one variable goes up, the other goes up, and vice versa.\n",
        "-   Negative covariance: two variables are negatively related.\n",
        "    -   When one variable goes up, the other goes down, and vice versa.\n",
        "\n",
        "This is similar to the idea of variance, but where variance measures how\n",
        "a *single* variable varies, covariance measures how *two* vary together.\n",
        "They also have similar formulas.\n",
        "\n",
        "Sample Covariance:\n",
        "\n",
        "$$\n",
        "s_{x,y}=\\frac{\\sum_{i=1}^{n}(x_{i}-\\bar{x})(y_{i}-\\bar{y})}{n-1}\n",
        "$$\n",
        "\n",
        "Population Covariance:\n",
        "\n",
        "$$\n",
        "\\sigma_{x,y}=\\int\\int(x_{i}-\\mu_x)(y_{i}-\\mu_y)f(x,y)dxdy\n",
        "$$\n",
        "\n",
        "This is tedious to calculate, especially for large samples. In R, we can\n",
        "use the `cov()` function to calculate the covariance between two\n",
        "variables. Let’s say we’re interested in exploring the covariance\n",
        "between the `wages` variable and `mrkinc` variable in the dataset."
      ],
      "id": "c6986bd1-3747-41bb-8e35-4fc828cf6d1c"
    },
    {
      "cell_type": "code",
      "execution_count": null,
      "metadata": {},
      "outputs": [],
      "source": [
        "# cov() function requires use=\"complete.obs\" to remove NA entries\n",
        "cov(census_data$wages, census_data$mrkinc, use=\"complete.obs\") "
      ],
      "id": "2d77ce1b-1ca2-45cc-8eef-dd1084f7feb6"
    },
    {
      "cell_type": "markdown",
      "metadata": {},
      "source": [
        "The calculated covariance between the `wages` variable and `mrkinc`\n",
        "variable in the dataset is positive, indicating the two variables are\n",
        "positively related. As one variable changes, the other variable will\n",
        "change in the same direction.\n",
        "\n",
        "Let’s try computing the covariance “by hand” to understand how the\n",
        "formula really works. To simplify the process, we will construct a\n",
        "hypothetical data set with variables $x$ and $y$."
      ],
      "id": "586d19a4-c1d8-48f2-9ed3-1f92489371dc"
    },
    {
      "cell_type": "code",
      "execution_count": null,
      "metadata": {},
      "outputs": [],
      "source": [
        "x <- c(6, 8, 10)\n",
        "y <- c(25, 100, 125)"
      ],
      "id": "aa28ec17-78c7-4dfc-9ba7-fdc1ccf6925d"
    },
    {
      "cell_type": "code",
      "execution_count": null,
      "metadata": {},
      "outputs": [],
      "source": [
        "# find the average values of x and y\n",
        "avg_x <- mean(x)\n",
        "avg_y <- mean(y)\n",
        "\n",
        "# sum the products of the differences between the observations and the average\n",
        "numerator <- {(x[1] - avg_x)*(y[1] - avg_y) + (x[2] - avg_x)*(y[2] - avg_y) + (x[3] - avg_x)*(y[3] - avg_y)}\n",
        "\n",
        "# denominator is the sample size minus 1\n",
        "denominator <- 3-1\n",
        "\n",
        "print(numerator/denominator)"
      ],
      "id": "3184b9cb-c002-4309-a610-614d022219a2"
    },
    {
      "cell_type": "code",
      "execution_count": null,
      "metadata": {},
      "outputs": [],
      "source": [
        "# confirming the previous calculation\n",
        "cov(x,y)"
      ],
      "id": "89d20f8e-1e89-42b9-9064-0a30390bd817"
    },
    {
      "cell_type": "markdown",
      "metadata": {},
      "source": [
        "Interpreting covariances directly is difficult because the size of the\n",
        "covariance depends on the scale of $x$ and $y$. Repeat the preceding\n",
        "calculation, but with variables that are 10x as large. What do you see?"
      ],
      "id": "bdb8c009-ca03-4e00-8280-9aeeadd8dfb8"
    },
    {
      "cell_type": "code",
      "execution_count": null,
      "metadata": {},
      "outputs": [],
      "source": [
        "x <- c(60, 80, 100)\n",
        "y <- c(250, 1000, 1250)\n",
        "\n",
        "cov(x,y)"
      ],
      "id": "0b49d880-db1f-4d26-b912-c75dcfdea97d"
    },
    {
      "cell_type": "markdown",
      "metadata": {},
      "source": [
        "The solution to this problem is the next topic: correlation.\n",
        "\n",
        "### Correlation\n",
        "\n",
        "A **correlation coefficient** measures the relationship between two\n",
        "variables. It allows us to know both if two variables move in the same\n",
        "direction (positive correlation), or in the opposite directions\n",
        "(negative correlation), or if they have no relationship (no\n",
        "correlation).\n",
        "\n",
        "> **Note**: even though a covariance or correlation may be zero, this\n",
        "> does not mean that there is no relationship between the variables -\n",
        "> this only means that there is no *linear* relationship.\n",
        "\n",
        "Correlation fixes the scale problem with covariance by standardizing\n",
        "covariance to a scale of -1 to 1. It does this by dividing the\n",
        "covariance by the standard deviations of the variables. The most popular\n",
        "version is **Pearson’s correlation coefficient** which is calculated as\n",
        "follows.\n",
        "\n",
        "$$\n",
        "r_{x,y} = \\frac{\\sum_{i=1}^{n} (x_i - \\overline{x})(y_i - \\overline{y})}{\\sqrt{\\sum_{i=1}^{n} (x_i - \\overline{x})^2 \\sum_{i=1}^{n}(y_i - \\overline{y})^2}}=\\frac{s_{x,y}}{s_{x} s_{y}}\n",
        "$$\n",
        "\n",
        "Once again, let’s try to compute the correlation “by hand” using the\n",
        "formula above."
      ],
      "id": "ec89236d-8685-4f26-838e-284f456d4cbf"
    },
    {
      "cell_type": "code",
      "execution_count": null,
      "metadata": {},
      "outputs": [],
      "source": [
        "numerator <- sum((x - mean(x))*(y - mean(y)))\n",
        "denominator <- sqrt(sum((x - mean(x))^2) * sum((y - mean(y))^2))\n",
        "numerator/denominator"
      ],
      "id": "aba2e5f3-35cd-41f8-947d-fc9dabbabd2a"
    },
    {
      "cell_type": "code",
      "execution_count": null,
      "metadata": {},
      "outputs": [],
      "source": [
        "numerator <- cov(x,y)\n",
        "denominator <- sd(x) * sd(y)\n",
        "numerator/denominator"
      ],
      "id": "e1820057-50c1-46cc-a2c9-7110cb856bcf"
    },
    {
      "cell_type": "markdown",
      "metadata": {},
      "source": [
        "In R, we can use the `cor()` function to calculate the correlation\n",
        "between two variables."
      ],
      "id": "b90e18d6-2c8b-4ebe-9e3b-57246942b29b"
    },
    {
      "cell_type": "code",
      "execution_count": null,
      "metadata": {},
      "outputs": [],
      "source": [
        "# Confirming the previous calculation\n",
        "cor(x,y)"
      ],
      "id": "17fc2190-6c5d-42a2-a049-6748c371f1ef"
    },
    {
      "cell_type": "markdown",
      "metadata": {},
      "source": [
        "To calculate the correlation between the `wages` variable and `mrkinc`\n",
        "variable in the dataset:"
      ],
      "id": "ad18439d-ab47-477f-a78c-86f831b7d897"
    },
    {
      "cell_type": "code",
      "execution_count": null,
      "metadata": {},
      "outputs": [],
      "source": [
        "# cor() function requires use=\"complete.obs\" to remove NA entries\n",
        "cor(census_data$wages, census_data$mrkinc, use=\"complete.obs\") "
      ],
      "id": "c571a6f9-1c02-4bc9-8423-ec91a5f7511b"
    },
    {
      "cell_type": "markdown",
      "metadata": {},
      "source": [
        "Now we have the number 0.8898687 $\\approx$ 0.89 as our correlation\n",
        "coefficient. What does it really mean?\n",
        "\n",
        "A correlation coefficient ranges from -1 to 1, which tells us two\n",
        "things:\n",
        "\n",
        "1.  The direction of the relationship between the 2 variables.\n",
        "\n",
        "    -   A negative correlation coefficient means that two variables move\n",
        "        in opposite directions. If a variable increases the other\n",
        "        decreases and vice versa.\n",
        "    -   A positive correlation implies that the two variables move in\n",
        "        the same direction, that is, if one variable increases the other\n",
        "        also increases and vice versa.\n",
        "\n",
        "2.  The strength of the relationship between the 2 variables.\n",
        "\n",
        "    -   The more extreme the correlation coefficient (the closer to -1\n",
        "        or 1), the stronger the relationship. The less extreme the\n",
        "        correlation coefficient (the closer to 0), the weaker the\n",
        "        relationship.\n",
        "    -   Two variables are uncorrelated if the correlation coefficient is\n",
        "        close to 0. As one variable increases, there is no tendency in\n",
        "        the other variable to either decrease or increase.\n",
        "\n",
        "<figure>\n",
        "<img src=\"attachment:media/correlation_examples.png\"\n",
        "alt=\"Three scatter plots are shown demonstrating positive, negative and no correlation”\" />\n",
        "<figcaption aria-hidden=\"true\">Three scatter plots are shown\n",
        "demonstrating positive, negative and no correlation”</figcaption>\n",
        "</figure>\n",
        "\n",
        "We can also easily visualize the correlation between two variables by\n",
        "plotting scatter plot with a trend line via the `ggplot()` function."
      ],
      "attachments": {
        "media/correlation_examples.png": {
          "image/png": "[encoded data removed]"
        }
      },
      "id": "33f83846-5c89-47fe-a562-cc2920b8cf84"
    },
    {
      "cell_type": "code",
      "execution_count": null,
      "metadata": {},
      "outputs": [],
      "source": [
        "# scatterplot of market income against wages\n",
        "ggplot(census_data, aes(x = mrkinc, y = wages)) +\n",
        "       geom_point(shape = 1)"
      ],
      "id": "a05ef308-132c-474e-825e-4f1fc277e6eb"
    },
    {
      "cell_type": "markdown",
      "metadata": {},
      "source": [
        "Adding a trend line to the scatter plot helps us interpret the\n",
        "directionality of two variables. We can do it via the `geom_smooth()`\n",
        "function by including the `method = lm` argument, which displays\n",
        "scatterplot patterns in the presence of overplotting. You will learn\n",
        "more about how trend lines are mathematically formulated in advanced\n",
        "econometrics classes."
      ],
      "id": "dbefa26d-44f2-4d77-87bd-b814ebde6da2"
    },
    {
      "cell_type": "code",
      "execution_count": null,
      "metadata": {},
      "outputs": [],
      "source": [
        "ggplot(census_data, aes(x = mrkinc, y = wages)) +\n",
        "  geom_point(shape = 1) +\n",
        "  geom_smooth(method = lm) # add this argument to draw the trendline"
      ],
      "id": "f7bc1584-f23d-4f3f-9a90-96ead9cc1f7c"
    },
    {
      "cell_type": "markdown",
      "metadata": {},
      "source": [
        "Now we can see the apparent positive correlation!\n",
        "\n",
        "### Test your knowledge\n",
        "\n",
        "Is the following statement True or False?\n",
        "\n",
        "The correlation coefficient adjusts the measure of covariance so that it\n",
        "can measure linear relatinoships."
      ],
      "id": "8c0c3919-5a27-4972-b793-768e7ece3417"
    },
    {
      "cell_type": "code",
      "execution_count": null,
      "metadata": {},
      "outputs": [],
      "source": [
        "answer_3 <-  \"...\" # enter \"True\" or \"False\"\n",
        "\n",
        "test_3()"
      ],
      "id": "05353bfc-2f67-4fd6-b043-dab18aafbc69"
    },
    {
      "cell_type": "markdown",
      "metadata": {},
      "source": [
        "Suppose the weights of packages(in lbs) at a particular post office are\n",
        "recorded as below."
      ],
      "id": "645f82d0-efdd-47b0-ac4d-59496857e25c"
    },
    {
      "cell_type": "code",
      "execution_count": null,
      "metadata": {},
      "outputs": [],
      "source": [
        "package_data <- c(95, 130, 148, 183, 100, 98, 137, 110, 188, 166)"
      ],
      "id": "0b561d89-32e0-46fc-b4de-ac364003c536"
    },
    {
      "cell_type": "code",
      "execution_count": null,
      "metadata": {},
      "outputs": [],
      "source": [
        "# calculate the mean, standard deviation and variance of the weights of packages\n",
        "# round all answers to 2 decimal places\n",
        "\n",
        "answer_4 <- # enter your answer here for mean\n",
        "answer_5 <- # enter your answer here for standard deviation \n",
        "answer_6 <- # enter your answer here for variance\n",
        "\n",
        "test_4()\n",
        "test_5()\n",
        "test_6()"
      ],
      "id": "a463851a-99ef-4657-8a43-de82c5e08013"
    },
    {
      "cell_type": "markdown",
      "metadata": {},
      "source": [
        "Use the example above to answer: Assuming the weights follow a normal\n",
        "distribution, 68% of packages at the post office weigh how much?\n",
        "\n",
        "1.  68% of packages weigh between 65.30 and 150.70 lbs\n",
        "2.  68% of packages weigh between 100.40 and 170.60 lbs\n",
        "3.  68% of packages weigh between 120.40 and 150.60 lbs\n",
        "4.  68% of packages weigh between 80.56 and 120.60 lbs"
      ],
      "id": "3d170b27-6b83-4732-a0b0-12b04e04f7ce"
    },
    {
      "cell_type": "code",
      "execution_count": null,
      "metadata": {},
      "outputs": [],
      "source": [
        "answer_7 <- \"...\"    # enter your choice here (ex, \"F\")\n",
        "\n",
        "test_7()"
      ],
      "id": "3f33db15-f68f-4d68-8da9-d8fdcd482b98"
    },
    {
      "cell_type": "markdown",
      "metadata": {},
      "source": [
        "Now, brainstorm some real-world examples that best demonstrate the\n",
        "correlation relationships below. The first one is already done for you!\n",
        "\n",
        "-   zero or near zero: the number of forks in your house vs the average\n",
        "    rainfall where you live\n",
        "-   weak negative:\n",
        "-   strong positive:\n",
        "-   weak positive:\n",
        "-   strong negative:"
      ],
      "id": "2e0a63b2-2f87-45bb-bcac-716daaec0bee"
    }
  ],
  "nbformat": 4,
  "nbformat_minor": 5,
  "metadata": {
    "kernelspec": {
      "name": "ir",
      "display_name": "R",
      "language": "r"
    }
  }
}