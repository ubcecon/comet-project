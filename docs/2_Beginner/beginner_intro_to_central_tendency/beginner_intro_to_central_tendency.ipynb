{
  "cells": [
    {
      "cell_type": "markdown",
      "metadata": {},
      "source": [
        "# 1.1 - Beginner - Introduction to Central Tendency\n",
        "\n",
        "COMET Team <br> *Sarthak Kwatra and Jonathan Graves*  \n",
        "2023-10-13\n",
        "\n",
        "## Prerequisites\n",
        "\n",
        "-   Introduction to Jupyter\n",
        "-   Introduction to R"
      ],
      "id": "36eb50ae-f8a8-4c13-8482-eefe922fad8c"
    },
    {
      "cell_type": "code",
      "execution_count": null,
      "metadata": {},
      "outputs": [],
      "source": [
        "# Importing the packages we'll be using in this module!\n",
        "\n",
        "# If any of these packages isn't installed run the line - install.packages(\"ggplot2\") -  with the name of the package within the quotation marks\n",
        "library(ggplot2)\n",
        "library(tidyverse)"
      ],
      "id": "87540d8d-75d2-4601-bfdb-684cd909c618"
    },
    {
      "cell_type": "markdown",
      "metadata": {},
      "source": [
        "> **Work in Progress**\n",
        ">\n",
        "> We haven’t written self-test for this unit yet! You’ll have to check\n",
        "> with your friends if you’ve got them right or not!\n",
        ">\n",
        "> -   Want to submit some? [Contact us!](mailto:comet.project@ubc.ca)\n",
        "\n",
        "## Introduction to Central Tendency\n",
        "\n",
        "For a moment, let’s think of data as alphabets. This data, or these\n",
        "alphabets, are available to us, but they are disarrayed and scattered,\n",
        "and they may mean nothing by themselves. However, if we look at data as\n",
        "alphabets, statistics is the language that we use to put alphabets into\n",
        "words to understand and communicate. Statistics is how we make sense of\n",
        "data.\n",
        "\n",
        "Therefore, understanding different statistical tools is almost like\n",
        "knowing different languages. All these statistical tools use the same\n",
        "alphabets (the data), and yet communicate a variety of things.\n",
        "\n",
        "Statistics is an economist’s arsenal of techniques and tools that allows\n",
        "them to extract meaningful insights from data. Many of these tools\n",
        "calculate a single representative value that summarizes the data in one\n",
        "way or another. We call these **numerical statistics**.\n",
        "\n",
        "> Here’s a helpful way of thinking about it: Have you ever tried\n",
        "> summarizing a movie to a friend? You’d probably pick the most\n",
        "> significant events or themes, presenting a concise yet comprehensive\n",
        "> overview. Similarly, statistical concepts aims to “summarize” a data\n",
        "> set into a single **typical** value.\n",
        "\n",
        "If you don’t have any experience with statistics, don’t fret! This\n",
        "course starts with all of the concepts from the ground up. If you have\n",
        "experience with statistics, this course will allow you to associate each\n",
        "statistical concept with R Code to make you even more efficient. The\n",
        "first among these statistical tools is the idea **central tendency**.\n",
        "\n",
        "Central tendency is meant to talk about what is “typical” for a dataset.\n",
        "Specifically, as evident from the term, tools of *central* tendency are\n",
        "concerned with the *centrality* of the data, or the middle values of the\n",
        "data. However, the center or the middle can mean multiple different\n",
        "things as far as data is concerned.\n",
        "\n",
        "Imagine standing in a room full of people and trying to find an average\n",
        "height. Or imagine being in a city and trying to find the most common\n",
        "temperature during the summer. Or imagine trying to understand what is\n",
        "the most commonly purchased car in your city. Both these tasks involve\n",
        "finding a ‘central’ or ‘typical’ value, which is the essence of central\n",
        "tendency.\n",
        "\n",
        "In order to understand the concepts of central tendency and use them,\n",
        "we’ll need a data set to work with. For this purpose, we will be using\n",
        "the `swiss` dataset that comes in-built as a part of R. We don’t need to\n",
        "import it, we just need to call the dataset. Additionally, for\n",
        "convenience, we’ll try to have a glimpse of the data set to see if\n",
        "anything important jumps out to us immediately."
      ],
      "id": "557646bd-0c24-4eb7-bc45-4ef613fd974b"
    },
    {
      "cell_type": "code",
      "execution_count": null,
      "metadata": {},
      "outputs": [],
      "source": [
        "glimpse(swiss)"
      ],
      "id": "3dce9727-0d73-46a2-add1-808ba00c9ec3"
    },
    {
      "cell_type": "markdown",
      "metadata": {},
      "source": [
        "`swiss` is a data set with records for socio-economic indicators for\n",
        "each of 47 French-speaking provinces of Switzerland at about 1888. Each\n",
        "of these uniquely recognized administrative divisions are called\n",
        "*cantons*. This data set like a guidebook, giving us insights into each\n",
        "canton’s characteristics. As a budding economist building your\n",
        "statistical arsenal, the `swiss` data set is the perfect place to start!\n",
        "\n",
        "Aside from just looking at your data set, one of the more helpful ways\n",
        "to understand your data set is to visualize it. Across the 47 cantons,\n",
        "let’s try to observe the `Agriculture` variable in our data set, which\n",
        "stands for “% of males involved in agriculture as occupation”, and see\n",
        "how it varies.\n",
        "\n",
        "For this, we’ll rely on a plot that is known as a **histogram**. A\n",
        "histogram is a plot that groups data into ranges or “bins” and showcases\n",
        "the frequency of our data points within these ranges. Let’s go ahead and\n",
        "visualize it!"
      ],
      "id": "757ebf4b-331f-44e7-b8a0-290426282dfa"
    },
    {
      "cell_type": "code",
      "execution_count": null,
      "metadata": {},
      "outputs": [],
      "source": [
        "agriculture_plot <- ggplot(swiss, aes(y = Agriculture)) + \n",
        "  geom_histogram( \n",
        "                 bins = 30, \n",
        "                 fill=\"lightgray\", \n",
        "                 color=\"black\", \n",
        "                 alpha = 0.7) +\n",
        "  labs(title = \"Histogram of Agriculture Rates\", \n",
        "       x = \"Frequency\", \n",
        "       y = \"% of Men Involved in Agriculture as an Occupation\") +\n",
        "  scale_x_continuous(breaks = seq(min(swiss$Agriculture), max(swiss$Agriculture))) +\n",
        "  scale_y_continuous(n.breaks = 10) +\n",
        "  theme_minimal()\n",
        "\n",
        "agriculture_plot"
      ],
      "id": "284e0c09-0159-4666-8195-f7d816c4ae60"
    },
    {
      "cell_type": "markdown",
      "metadata": {},
      "source": [
        "In a very similar manner, let’s also look at another variable,\n",
        "`Education`, which stands for the percentage of draftees educated beyond\n",
        "primary school for each of the cantons."
      ],
      "id": "6b7724e0-2cd8-448c-9533-19192860ef61"
    },
    {
      "cell_type": "code",
      "execution_count": null,
      "metadata": {},
      "outputs": [],
      "source": [
        "education_plot <- ggplot(swiss) + \n",
        "  geom_histogram(aes(y = Education), \n",
        "                 bins = 10, \n",
        "                 fill=\"lightgray\", \n",
        "                 color=\"black\", \n",
        "                 alpha = 0.7) +\n",
        "  labs(title = \"Histogram of Education in Draftees\", \n",
        "       x = \"Frequency\", \n",
        "       y = \"% Education beyond Primary School for Draftees.\") +\n",
        "  scale_x_continuous(breaks = seq(min(swiss$Education), max(swiss$Education))) +\n",
        "  scale_y_continuous(n.breaks = 10) +\n",
        "  theme_minimal()\n",
        "\n",
        "education_plot"
      ],
      "id": "50224a1e-fbab-4330-b2ae-70addbf4a2fd"
    },
    {
      "cell_type": "markdown",
      "metadata": {},
      "source": [
        "These graphs allow us to observe the distribution of the observations\n",
        "across the different levels in our variables. For instance, we can\n",
        "observe that for `Agriculture`, observations between 60 - 70 tends to\n",
        "have the highest frequency. Or on the other hand, most of the\n",
        "observations in the `Education` variable are in the 0 - 10 area.\n",
        "\n",
        "What does this all mean? How do we interpret all of these? To do this,\n",
        "we’ll take assistance of a few statistical concepts, namely: **Mean,\n",
        "Median, and Mode**, all of which are different interpretations of the\n",
        "word middle. Mean, Median, and Mode are the three primary concepts in\n",
        "the idea of central tendency.\n",
        "\n",
        "> **Test Your Knowledge**: Before you move on, where does the “middle”\n",
        "> of the data look like for `Education`? `Agriculture`? Write down your\n",
        "> answers, and see how the relate to the numerical statistics we will\n",
        "> compute below."
      ],
      "id": "22460839-c259-46ef-ac55-afe2d6cc45fd"
    },
    {
      "cell_type": "code",
      "execution_count": null,
      "metadata": {},
      "outputs": [],
      "source": [
        "# My answers are:\n",
        "\n",
        "Middle_of_education <- ?\n",
        "Middle_of_agriculture <- ?"
      ],
      "id": "c8712224-ede4-4b42-a1d5-3fcf53b25cc2"
    },
    {
      "cell_type": "markdown",
      "metadata": {},
      "source": [
        "## The Key Ideas of Central Tendency\n",
        "\n",
        "### Mean\n",
        "\n",
        "At its core, the mean[1] is a simple concept – it is what you get when\n",
        "you distribute the total equally among every entry in the data set. Or\n",
        "alteratively, when you sum all of the observations in a data set, then\n",
        "divide by the number of observations in that data set. Formulaically,\n",
        "\n",
        "$$\n",
        "\\overline{X} = \\frac{1}{n}\\sum_{i=1}^{n} X_i =  \\frac{\\text{Sum of Value of All Data Points}}{\\text{Total Number of Data Points}}\n",
        "$$\n",
        "\n",
        "Here, $\\sum$ stands for summation, and $\\overline{X}$ is what is used to\n",
        "represent the mean. While this may be enough for you to understand the\n",
        "concept, we can nuance this explanation a slight bit and make it more\n",
        "intuitive to interpret!\n",
        "\n",
        "> **Check Your Understanding**: can you see why the two explanations for\n",
        "> mean given above are the same?\n",
        "\n",
        "Let’s imagine a scenario within the context of our `swiss` dataset. If\n",
        "we considered all the cantons in Switzerland, what education level would\n",
        "a “typical” canton have? This is the **Mean Education Rate**. In R, the\n",
        "Mean is calculated quite simply through the `mean` function:\n",
        "\n",
        "[1] Specifically, the *arithmetic mean*."
      ],
      "id": "e110022d-f308-434f-892a-e4671ed66cfd"
    },
    {
      "cell_type": "code",
      "execution_count": null,
      "metadata": {},
      "outputs": [],
      "source": [
        "mean_education <- mean(swiss$Education)\n",
        "mean_education"
      ],
      "id": "e2369009-d1cb-41e0-a56b-4e08629a4382"
    },
    {
      "cell_type": "markdown",
      "metadata": {},
      "source": [
        "We could also check our comparison by computing it manually as well:"
      ],
      "id": "1f8e188b-f4b3-40f0-ba3c-45410bb1a1f5"
    },
    {
      "cell_type": "code",
      "execution_count": null,
      "metadata": {},
      "outputs": [],
      "source": [
        "total_education <- sum(swiss$Education)\n",
        "total_cantons <- nrow(swiss) #number of observations in `swiss`\n",
        "\n",
        "mean_education_manual <- total_education/total_cantons\n",
        "mean_education_manual"
      ],
      "id": "f08c492b-f7bd-4e14-b124-4d1e3e549219"
    },
    {
      "cell_type": "markdown",
      "metadata": {},
      "source": [
        "This allows us to notice that the **Mean Education Rate** across all of\n",
        "the Swiss cantons is **10.98%**. You can practice this yourself as well!\n",
        "Try to calculate fraction of Catholics within a typical Swiss canton in\n",
        "the code block below:"
      ],
      "id": "5824605d-8853-4af6-bcd7-a8faa71d6c3b"
    },
    {
      "cell_type": "code",
      "execution_count": null,
      "metadata": {},
      "outputs": [],
      "source": [
        "# Note: The first blank is supposed to be the function, and the second blank is supposed to be the variable\n",
        "avg_mean_catholic <- ...(swiss$...)"
      ],
      "id": "049901ed-22d0-4e59-904c-3ce8b35088b4"
    },
    {
      "cell_type": "markdown",
      "metadata": {},
      "source": [
        "Having observed the mean numerically, we can make our understanding of\n",
        "the concept even more robust by observing it visually. We can do this by\n",
        "slightly adjusting one of the histograms we’ve come up with earlier."
      ],
      "id": "54791fb8-16df-4503-8237-4ea011c9fa78"
    },
    {
      "cell_type": "code",
      "execution_count": null,
      "metadata": {},
      "outputs": [],
      "source": [
        "education_plot + \n",
        "  geom_hline(aes(yintercept=mean_education), color=\"red\", linetype=\"dashed\", linewidth=1)"
      ],
      "id": "36d267ab-c3f2-4051-84c5-fd0569aaa69c"
    },
    {
      "cell_type": "markdown",
      "metadata": {},
      "source": [
        "See the red line? This is the mean we calculated before! How does it\n",
        "compare to the guess you made based on the histogram?\n",
        "\n",
        "However, as with any tool, it is important to understand the appropriate\n",
        "use of the mean as well as its limitations. One of the primary\n",
        "limitations of the mean is that it is severely affected by extreme\n",
        "values.\n",
        "\n",
        "Let’s say there was an error in recording, and a canton accidentally\n",
        "reported an extremely high fertility rate, much beyond the actual range.\n",
        "We’ll simulate this and see its effect on the mean.\n",
        "\n",
        "First, let’s store your fertility measure from before as the original\n",
        "mean fertility rate:"
      ],
      "id": "2b7495e3-0b54-48e4-b94a-9827d12ab3da"
    },
    {
      "cell_type": "code",
      "execution_count": null,
      "metadata": {},
      "outputs": [],
      "source": [
        "original_mean <- mean(swiss$Fertility)\n",
        "original_mean"
      ],
      "id": "56a9f1d9-04c3-426a-a360-d375d77eda2b"
    },
    {
      "cell_type": "markdown",
      "metadata": {},
      "source": [
        "Then, let’s introduce an extreme value. For the sake of illustration,\n",
        "we’ll assign an unrealistically high fertility rate (e.g., 1000) to the\n",
        "first canton:"
      ],
      "id": "5713ccff-4157-47bf-8482-0566cf679d0c"
    },
    {
      "cell_type": "code",
      "execution_count": null,
      "metadata": {},
      "outputs": [],
      "source": [
        "swiss_with_extreme <- swiss\n",
        "swiss_with_extreme$Fertility[1] <- 1000"
      ],
      "id": "0c190222-738e-416e-b7b1-e396416e0d6d"
    },
    {
      "cell_type": "markdown",
      "metadata": {},
      "source": [
        "Now, let’s compute the original mean with this extreme value:"
      ],
      "id": "08bd2863-fa53-4846-ac39-fed5bcaeebd2"
    },
    {
      "cell_type": "code",
      "execution_count": null,
      "metadata": {},
      "outputs": [],
      "source": [
        "extreme_mean <- mean(swiss_with_extreme$Fertility)\n",
        "extreme_mean"
      ],
      "id": "70b6f3ce-5b7c-47a8-89fe-663982708a78"
    },
    {
      "cell_type": "markdown",
      "metadata": {},
      "source": [
        "This allows us to observe how significant a change a single observation\n",
        "can bring around in the Mean, making it jump from 70 to 89.7. For good\n",
        "measure, let’s also observe this visually:"
      ],
      "id": "d35822cc-46d3-4c01-9dfc-0313d41265e8"
    },
    {
      "cell_type": "code",
      "execution_count": null,
      "metadata": {},
      "outputs": [],
      "source": [
        "ggplot() +\n",
        "  geom_histogram(data = swiss, aes(x=log(Fertility)), color=\"blue\", alpha=0.1, boundary = 0) +\n",
        "  geom_vline(aes(xintercept=log(original_mean)), color=\"blue\", linetype=\"dashed\", size=1) +\n",
        "  geom_histogram(data = swiss_with_extreme, aes(x=log(Fertility)), fill=\"red\", alpha=0.3, boundary = 0) +\n",
        "  geom_vline(data = swiss, aes(xintercept=log(extreme_mean)), color=\"red\", linetype=\"dashed\", size=1) +\n",
        "  labs(title=\"Effect of Extreme Value on Mean Fertility Rate\",\n",
        "       x=\"Fertility Rate (in logs)\",\n",
        "       fill=\"Dataset\") +\n",
        "  scale_fill_manual(values = c(\"blue\", \"red\"), labels = c(\"Original Data\")) +\n",
        "  theme_minimal()"
      ],
      "id": "a8bacda5-4294-4fb4-bcdf-83fc1bf3d4d2"
    },
    {
      "cell_type": "markdown",
      "metadata": {},
      "source": [
        "In this plot, the blue histogram represents the original `swiss` data\n",
        "set, while the red histogram represents the data set with the extreme\n",
        "value. See how they’re pretty similar?\n",
        "\n",
        "The dashed lines indicate the mean of each data set. It becomes evident\n",
        "how the mean shifts due to just one extreme value, showcasing the\n",
        "sensitivity of the mean to outliers.\n",
        "\n",
        "In conclusion, the mean is particularly susceptible to extremes in a\n",
        "data set. This sensitivity is a primary reason why, in skewed\n",
        "distributions or when outliers are suspected, one might also consider\n",
        "other metrics of central tendency, like the median, which remains robust\n",
        "in the presence of extreme values. To deal with this potential issue, we\n",
        "naturally move onto other measures of central tendency.\n",
        "\n",
        "## The Median\n",
        "\n",
        "The **median** is, quite literally, the **middle** of an ordered\n",
        "sequence. The idea of centrality with the Median is to essentially order\n",
        "the data set, be it in an ascending or a descending order, and then\n",
        "dividing the data set in half. However, one of the characteristics that\n",
        "makes the Median important is that it allows us to deal with the very\n",
        "problem that we just elaborated on about the Mean. It is resilient to\n",
        "outliers or the extreme values in the data.\n",
        "\n",
        "It provides a central location of your dataset. For a symmetrical\n",
        "dataset, the mean and median will be the same. However, for a skewed\n",
        "dataset, the median will lie closer to the bulk of the data, making it a\n",
        "more representative metric.\n",
        "\n",
        "To calculate the Median, you arrange data in ascending (or descending)\n",
        "order. Let $n$ be the number of data points. If $n$ is odd, then:\n",
        "\n",
        "$$\n",
        "\\text{Median} = \\frac{n+1}{2}\\text{th data point}\n",
        "$$\n",
        "\n",
        "Otherwise,\n",
        "\n",
        "$$\n",
        "\\text{Median}  = \\frac{1}{2} \\cdot [\\frac{n}{2}\\text{th data point} + (\\frac{n}{2} + 1)\\text{th data point}]\n",
        "$$\n",
        "\n",
        "Not nice! On the other hand, in R, computing the median is\n",
        "straightforward using the built-in `median()` function.\n",
        "\n",
        "Using the Fertility column of the swiss dataset as an example:"
      ],
      "id": "9348484f-5ef3-4cce-8e0f-6d110ba746d4"
    },
    {
      "cell_type": "code",
      "execution_count": null,
      "metadata": {},
      "outputs": [],
      "source": [
        "# Calculating the median\n",
        "median_fertility <- median(swiss$Fertility)\n",
        "median_fertility"
      ],
      "id": "4f9d499e-8f22-4f51-8de3-6fef4d9a3cac"
    },
    {
      "cell_type": "markdown",
      "metadata": {},
      "source": [
        "To further visualize where the median lies in relation to the data:"
      ],
      "id": "266d2b54-633e-4acf-ba27-6b48edf4739a"
    },
    {
      "cell_type": "code",
      "execution_count": null,
      "metadata": {},
      "outputs": [],
      "source": [
        "# Plotting the data and highlighting the median\n",
        "\n",
        "fertility_plot <- ggplot(swiss, aes(x=Fertility)) + \n",
        "  geom_histogram(binwidth=2, fill=\"lightgray\", color=\"black\", alpha=0.7) + \n",
        "  geom_vline(aes(xintercept=median_fertility), color=\"red\", linetype=\"dashed\", size=1) +\n",
        "  labs(title=\"Median Fertility Rate Across Swiss Cantons\", x=\"Fertility Rate\") +\n",
        "  annotate(\"text\", x = median_fertility + 10, y=8, label = paste(\"Median:\", round(median_fertility, 2)), color=\"red\")\n",
        "\n",
        "fertility_plot"
      ],
      "id": "9a138e46-779c-402b-82ca-1c2e8ef85d59"
    },
    {
      "cell_type": "markdown",
      "metadata": {},
      "source": [
        "Finally, to bring this concept home, let’s repeat this exercise with the\n",
        "`Education` variable:"
      ],
      "id": "10f64a00-58fb-4748-8837-0aac4ed98d8c"
    },
    {
      "cell_type": "code",
      "execution_count": null,
      "metadata": {},
      "outputs": [],
      "source": [
        "# Calculating the median\n",
        "median_education <- median(swiss$Education)\n",
        "median_education"
      ],
      "id": "1618fc1a-2359-45e9-92bc-b053c4123f8d"
    },
    {
      "cell_type": "markdown",
      "metadata": {},
      "source": [
        "To further visualize where the median lies in relation to the data:"
      ],
      "id": "1334c753-0631-42ae-b785-5d992a87eb30"
    },
    {
      "cell_type": "code",
      "execution_count": null,
      "metadata": {},
      "outputs": [],
      "source": [
        "# Plotting the data and highlighting the median\n",
        "\n",
        "education_plot + \n",
        "  geom_hline(aes(yintercept = median_education), color=\"red\", linetype=\"dashed\", size=1) +\n",
        "  labs(title=\"Median Education Rate Across Swiss Cantons\", x=\"Education Rate\") +\n",
        "  annotate(\"text\", y = median_education + 2, x=8, label = paste(\"Median:\", round(median_education, 2)), color=\"red\")"
      ],
      "id": "2a855bb2-debd-4f96-8ed0-15665fe43aee"
    },
    {
      "cell_type": "markdown",
      "metadata": {},
      "source": [
        "### Outlier Robustness\n",
        "\n",
        "One important property of the median is that it is **robust to\n",
        "outliers**, unlike the mean. This make sense, since it only has to do\n",
        "with the *rank* of observations: it doesn’t matter how high the highest\n",
        "value is, or how low the lowest value is.\n",
        "\n",
        "We can see this with our `swiss` education situation before. Try it!"
      ],
      "id": "24990bab-12ea-4206-b8fb-759aedaacac0"
    },
    {
      "cell_type": "code",
      "execution_count": null,
      "metadata": {},
      "outputs": [],
      "source": [
        "# compute the median for education in the original data\n",
        "\n",
        "original_median <- ...(swiss$Education)\n",
        "original_median\n",
        "\n",
        "median_with_extreme <- ...(...)\n",
        "median_with_extreme"
      ],
      "id": "736d8dd5-09de-4ca0-8548-78dfd09f15cb"
    },
    {
      "cell_type": "markdown",
      "metadata": {},
      "source": [
        "What do you see? If you want, try changing that extreme value (`1000`)\n",
        "to other values. Does it make a difference?\n",
        "\n",
        "## Mode\n",
        "\n",
        "The **mode** refers to the value(s) that **appears most frequently** in\n",
        "a data set. This stands in contrast to other measures like the mean,\n",
        "which gives an average, or the median, which provides a midpoint.\n",
        "\n",
        "The beauty of the mode is its *versatility*. It’s relevant for both\n",
        "numeric data sets and qualitative data. This means that the mode can be\n",
        "used to gauge whether a value, such as `5`, appears with the greatest\n",
        "frequency in a data set, as well as if a category like `\"Female\"` or\n",
        "`\"University Graduate\"` appears with the greatest frequency.\n",
        "\n",
        "However, this is also the problem with mode. A data set’s relationship\n",
        "with mode can be quite complicated.\n",
        "\n",
        "-   It might not have a mode if no value repeats…\n",
        "-   be **uni-modal** if one value dominates in frequency…\n",
        "-   **bi-modal** if two values tie in their recurrence…\n",
        "-   or even **multi-modal** if multiple values share the highest\n",
        "    frequency.\n",
        "\n",
        "In R, we can calculate the mode without relying on external packages,\n",
        "since unlike the `mean` or the `median` function, there is no `mode`\n",
        "function. But mode is so simple, we can create one ourself.\n",
        "\n",
        "Consider a function that first creates a frequency table of the data set\n",
        "in question. It then identifies the maximum frequency from this table.\n",
        "Using this frequency, it’s possible to extract the modes, which are the\n",
        "values that appear with this maximum frequency. Here’s how it might\n",
        "look:"
      ],
      "id": "fdb6b408-4024-48c5-86b6-6a9540948803"
    },
    {
      "cell_type": "code",
      "execution_count": null,
      "metadata": {},
      "outputs": [],
      "source": [
        "calculate_mode <- function(x) {\n",
        "  # Tabulating frequencies of each value in the dataset\n",
        "  freq_table <- table(x)\n",
        "  \n",
        "  # Determining the maximum frequency\n",
        "  max_freq <- max(freq_table)\n",
        "  \n",
        "  # Pinpointing the values (modes) that correspond to the maximum frequency\n",
        "  modes <- as.numeric(names(freq_table[freq_table == max_freq]))\n",
        "  \n",
        "  return(modes)\n",
        "}\n",
        "\n",
        "# Applying the function on the 'Education' column from the 'swiss' dataset\n",
        "modes_education <- calculate_mode(swiss$Education)\n",
        "\n",
        "modes_education"
      ],
      "id": "f3e67555-cf77-46c8-be3b-9b4ed5b678b1"
    },
    {
      "cell_type": "markdown",
      "metadata": {},
      "source": [
        "Therefore, as our function correctly interprets, the Mode for the\n",
        "Education variable is 7. This means that the among the cantons, a lot of\n",
        "them have 7% draftees who are educated above the primary school level.\n",
        "\n",
        "## Getting All of Central Tendency Together\n",
        "\n",
        "To truly appreciate the nature of a data set, it’s beneficial to look at\n",
        "the mode in tandem with other measures like the mean and median.\n",
        "Together, these metrics provide a fuller, more nuanced picture of the\n",
        "data’s central tendency. By superimposing our histogram with lines\n",
        "symbolizing the mean (blue), median (red), and mode (green), we create a\n",
        "tapestry that visually harmonizes the data’s spread with its central\n",
        "measures."
      ],
      "id": "7c194d92-c487-4d1a-90bb-204bedbd84b3"
    },
    {
      "cell_type": "code",
      "execution_count": null,
      "metadata": {},
      "outputs": [],
      "source": [
        "ggplot(swiss, aes(x = Education)) + \n",
        "  geom_histogram(binwidth = 2, fill=\"lightgray\", color=\"black\", alpha=0.7) + \n",
        "  geom_vline(aes(xintercept = mean_education), color=\"blue\", linetype=\"dashed\", size=1) +\n",
        "  geom_vline(aes(xintercept = median_education), color=\"red\", linetype=\"dashed\", size=1) +\n",
        "  geom_vline(aes(xintercept = modes_education), color=\"green\", linetype=\"dashed\", size=1) +\n",
        "  labs(title=\"Median Education Rate Across Swiss Cantons\", x=\"Education Rate\")"
      ],
      "id": "0cff37a1-9160-4835-b489-28fd9dfa85a1"
    },
    {
      "cell_type": "markdown",
      "metadata": {},
      "source": [
        "See the relationship? We can also do this in a table using the\n",
        "`summarize` function:"
      ],
      "id": "7837c7c7-1ab6-486d-ab3d-47a48fe35531"
    },
    {
      "cell_type": "code",
      "execution_count": null,
      "metadata": {},
      "outputs": [],
      "source": [
        "swiss %>%\n",
        "  summarize(\n",
        "    mean = mean(Education),\n",
        "    median = median(Education),\n",
        "    mode = calculate_mode(Education)\n",
        "  )"
      ],
      "id": "362a6805-d33e-4a2f-9202-833575d86124"
    },
    {
      "cell_type": "markdown",
      "metadata": {},
      "source": [
        "This is called a **table of descriptive statistics** and is an important\n",
        "tool for any economist.\n",
        "\n",
        "### Try it Yourself!\n",
        "\n",
        "As a final check, why don’t you make a nice table of the same results\n",
        "for Fertility, as well?"
      ],
      "id": "a8a2fb1d-cf2e-47c7-a58f-aebe0872b32c"
    },
    {
      "cell_type": "code",
      "execution_count": null,
      "metadata": {},
      "outputs": [],
      "source": [
        "swiss %>%\n",
        "  summarize(\n",
        "    ...\n",
        "  )"
      ],
      "id": "cb41a348-3f62-4b3e-b767-c2f1187987a3"
    },
    {
      "cell_type": "markdown",
      "metadata": {},
      "source": [
        "What do you see?"
      ],
      "id": "713943f6-9cf1-404d-8f44-1dd5caac85f7"
    }
  ],
  "nbformat": 4,
  "nbformat_minor": 5,
  "metadata": {
    "kernelspec": {
      "name": "ir",
      "display_name": "R",
      "language": "r"
    }
  }
}