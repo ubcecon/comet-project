{
  "cells": [
    {
      "cell_type": "markdown",
      "metadata": {},
      "source": [
        "# 09 - Creating Meaningful Visuals\n",
        "\n",
        "Marina Adshade, Paul Corcuera, Giulia Lo Forte, Jane Platt  \n",
        "2024-05-29\n",
        "\n",
        "## Prerequisites\n",
        "\n",
        "1.  Be able to effectively use Stata do-files and generate log-files.\n",
        "2.  Be able to change your directory so that Stata can find your files.\n",
        "3.  Import datasets in .csv and .dta format.\n",
        "4.  Save data files.\n",
        "\n",
        "## Learning Outcomes\n",
        "\n",
        "1.  Know when to use the following kinds of visualizations to answer\n",
        "    specific questions using a data set:\n",
        "    -   scatterplots\n",
        "    -   line plots\n",
        "    -   bar plots\n",
        "    -   histograms\n",
        "2.  Generate and fine-tune visualizations using the Stata command\n",
        "    `twoway` and its different options.\n",
        "3.  Use `graph export` to save visualizations in various formats\n",
        "    including `.svg`, `.png` and `.pdf`.\n",
        "\n",
        "## 9.0 Intro\n",
        "\n",
        "**Note:** The best approach to completing this module is to copy and\n",
        "paste these commands into a do-file in Stata. Because Stata produces\n",
        "graphs in a separate window, Jupyter Notebooks will not produce a graph\n",
        "that we can see when we execute the commands on this page. The most we\n",
        "can do is export image files to a directory on our computer. We will see\n",
        "these commands whenever a graph is produced below.\n",
        "\n",
        "We’ll continue working with the fake data set we have been using as we\n",
        "work on developing our research skills. Recall that this data set is\n",
        "simulating information for workers in the years 1982-2012 in a fake\n",
        "country where a training program was introduced in 2003 to boost their\n",
        "earnings."
      ],
      "id": "3bf5034b-d2ec-49ff-a293-f6dfe03e30aa"
    },
    {
      "cell_type": "code",
      "execution_count": 1,
      "metadata": {},
      "outputs": [],
      "source": [
        "import stata_setup\n",
        "stata_setup.config('C:\\Program Files\\Stata18/','se')"
      ],
      "id": "07a6c1e5"
    },
    {
      "cell_type": "code",
      "execution_count": 2,
      "metadata": {},
      "outputs": [],
      "source": [
        ">>> import sys\n",
        ">>> sys.path.append('/Applications/Stata/utilities') # make sure this is the same as what you set up in Module 01, Section 1.3: Setting Up the STATA Path\n",
        ">>> from pystata import config\n",
        ">>> config.init('se')"
      ],
      "id": "36b24536"
    },
    {
      "cell_type": "code",
      "execution_count": 3,
      "metadata": {},
      "outputs": [],
      "source": [
        "%%stata\n",
        "clear*\n",
        "*cd \"\" \n",
        "use fake_data, clear "
      ],
      "id": "e407cd13"
    },
    {
      "cell_type": "markdown",
      "metadata": {},
      "source": [
        "Data visualization is an effective way of communicating ideas to our\n",
        "audience, whether it’s for an academic paper or a business setting. It\n",
        "can be a powerful medium to motivate our research, illustrate\n",
        "relationships between variables, and provide some intuition behind why\n",
        "we applied certain econometric methods.\n",
        "\n",
        "The real challenge is not understanding how to use Stata to create\n",
        "graphs. Instead, the challenge is figuring out which graph will do the\n",
        "best job at telling our empirical story. Before creating any graphs, we\n",
        "must identify the message we want the graph to convey. Try to answer\n",
        "these questions: Who is our audience? What is the question you’re trying\n",
        "to answer?\n",
        "\n",
        "## 9.1 Types of Graphs\n",
        "\n",
        "### 9.1.1 Scatter Plot using `twoway`\n",
        "\n",
        "**What is it? and, when to use?**\n",
        "\n",
        "Scatter plots are frequently used to demonstrate how two quantitative\n",
        "variables are related to one another. This plot works well when we are\n",
        "interested in showing relationships and groupings among variables from\n",
        "relatively large data sets.\n",
        "\n",
        "Below is a nice example.\n",
        "\n",
        "<figure>\n",
        "<img\n",
        "src=\"https://ourworldindata.org/uploads/2013/11/GDP-vs-Religion.png\"\n",
        "alt=\"Scatter plot presenting the relationship of country religiosity vs wealth\" />\n",
        "<figcaption aria-hidden=\"true\">Scatter plot presenting the relationship\n",
        "of country religiosity vs wealth</figcaption>\n",
        "</figure>\n",
        "\n",
        "Let’s say we want to plot the log-earnings by year using our fake data\n",
        "set. We begin by generating a new variable for log-earnings."
      ],
      "id": "3fefbbdc-0689-4594-a46c-f6934e488db6"
    },
    {
      "cell_type": "code",
      "execution_count": 4,
      "metadata": {},
      "outputs": [],
      "source": [
        "%%stata\n",
        "\n",
        "generate log_earnings = log(earnings)\n",
        "\n",
        "label var log_earnings \"Log-earnings\" // We are adding the label \"log-earnings\" to the variable log_earnings"
      ],
      "id": "d5e7a19c"
    },
    {
      "cell_type": "markdown",
      "metadata": {},
      "source": [
        "Now let’s create a new data set that includes a variable that is the\n",
        "log-earnings by year. We use the command `preserve` to save the data set\n",
        "that we are working on. We then include the command `restore` to bring\n",
        "back the original data set."
      ],
      "id": "b3f995cd-832a-4720-9605-1633d22cd597"
    },
    {
      "cell_type": "code",
      "execution_count": 5,
      "metadata": {},
      "outputs": [],
      "source": [
        "%%stata\n",
        "\n",
        "preserve\n",
        "collapse (mean) log_earnings, by(year)\n",
        "describe"
      ],
      "id": "51c827f4"
    },
    {
      "cell_type": "markdown",
      "metadata": {},
      "source": [
        "To create a graph between two numeric variables, we need to use the\n",
        "command `twoway`. The format for this command is\n",
        "`twoway (type_of_graph x-axis_variable y-axis_variable)`.\n",
        "\n",
        "In this case we want to create a graph that is a scatterplot that shows\n",
        "log-earnings as the dependent variable (y-axis) and year as the\n",
        "explanatory variable (x-axis variable)."
      ],
      "id": "f7c8af17-56d8-488c-aef5-325be284047c"
    },
    {
      "cell_type": "code",
      "execution_count": 6,
      "metadata": {},
      "outputs": [],
      "source": [
        "%%stata\n",
        "\n",
        "twoway (scatter log_earnings year)\n",
        "\n",
        "graph export graph1.jpg, as(jpg) replace"
      ],
      "id": "6358b942"
    },
    {
      "cell_type": "markdown",
      "metadata": {},
      "source": [
        "Note that no graph will appear in the notebook when we executed this\n",
        "command. However, we can find the graph directly saved under the name\n",
        "“graph1.jpg”. That graph will look like this:\n",
        "\n",
        "<figure>\n",
        "<img src=\"attachment:img/myscatterplot.svg\" alt=\"myscatterplot\" />\n",
        "<figcaption aria-hidden=\"true\">myscatterplot</figcaption>\n",
        "</figure>\n",
        "\n",
        "A second way that we can create this graph is by replacing the graph\n",
        "type `scatter` with the graph type `connected`. This will create the\n",
        "graph below."
      ],
      "attachments": {
        "img/myscatterplot.svg": {
          "image/svg+xml": "PD94bWwgdmVyc2lvbj0iMS4wIiBlbmNvZGluZz0iVVRGLTgiIHN0YW5kYWxvbmU9Im5vIj8+Cjwh\nLS0gVGhpcyBpcyBhIFN0YXRhIDE3LjAgZ2VuZXJhdGVkIFNWRyBmaWxlIChodHRwOi8vd3d3LnN0\nYXRhLmNvbSkgLS0+Cgo8c3ZnIHZlcnNpb249IjEuMSIgd2lkdGg9IjUuNTAwaW4iIGhlaWdodD0i\nNC4wMDBpbiIgdmlld0JveD0iMCAwIDM5NjAgMjg4MCIgeG1sbnM9Imh0dHA6Ly93d3cudzMub3Jn\nLzIwMDAvc3ZnIiB4bWxuczp4bGluaz0iaHR0cDovL3d3dy53My5vcmcvMTk5OS94bGluayI+Cgk8\nZGVzYz5TdGF0YSBHcmFwaCAtIEdyYXBoPC9kZXNjPgoJPHJlY3QgeD0iMCIgeT0iMCIgd2lkdGg9\nIjM5NjAiIGhlaWdodD0iMjg4MCIgc3R5bGU9ImZpbGw6I0VBRjJGMztzdHJva2U6bm9uZSIvPgoJ\nPHJlY3QgeD0iMC4wMCIgeT0iMC4wMCIgd2lkdGg9IjM5NTkuODgiIGhlaWdodD0iMjg4MC4wMCIg\nc3R5bGU9ImZpbGw6I0VBRjJGMyIvPgoJPHJlY3QgeD0iMi44OCIgeT0iMi44OCIgd2lkdGg9IjM5\nNTQuMTIiIGhlaWdodD0iMjg3NC4yNCIgc3R5bGU9ImZpbGw6bm9uZTtzdHJva2U6I0VBRjJGMztz\ndHJva2Utd2lkdGg6NS43NiIvPgoJPHJlY3QgeD0iMzkwLjgwIiB5PSIxMDAuODYiIHdpZHRoPSIz\nNDY4LjIyIiBoZWlnaHQ9IjIzODguMzMiIHN0eWxlPSJmaWxsOiNGRkZGRkYiLz4KCTxyZWN0IHg9\nIjM5My42OCIgeT0iMTAzLjc0IiB3aWR0aD0iMzQ2Mi40NiIgaGVpZ2h0PSIyMzgyLjU3IiBzdHls\nZT0iZmlsbDpub25lO3N0cm9rZTojRkZGRkZGO3N0cm9rZS13aWR0aDo1Ljc2Ii8+Cgk8bGluZSB4\nMT0iMzkwLjgwIiB5MT0iMjQyNS44MiIgeDI9IjM4NTkuMDIiIHkyPSIyNDI1LjgyIiBzdHlsZT0i\nc3Ryb2tlOiNFQUYyRjM7c3Ryb2tlLXdpZHRoOjguNjQiLz4KCTxsaW5lIHgxPSIzOTAuODAiIHkx\nPSIxODYwLjM5IiB4Mj0iMzg1OS4wMiIgeTI9IjE4NjAuMzkiIHN0eWxlPSJzdHJva2U6I0VBRjJG\nMztzdHJva2Utd2lkdGg6OC42NCIvPgoJPGxpbmUgeDE9IjM5MC44MCIgeTE9IjEyOTQuOTYiIHgy\nPSIzODU5LjAyIiB5Mj0iMTI5NC45NiIgc3R5bGU9InN0cm9rZTojRUFGMkYzO3N0cm9rZS13aWR0\naDo4LjY0Ii8+Cgk8bGluZSB4MT0iMzkwLjgwIiB5MT0iNzI5LjUzIiB4Mj0iMzg1OS4wMiIgeTI9\nIjcyOS41MyIgc3R5bGU9InN0cm9rZTojRUFGMkYzO3N0cm9rZS13aWR0aDo4LjY0Ii8+Cgk8bGlu\nZSB4MT0iMzkwLjgwIiB5MT0iMTY0LjIyIiB4Mj0iMzg1OS4wMiIgeTI9IjE2NC4yMiIgc3R5bGU9\nInN0cm9rZTojRUFGMkYzO3N0cm9rZS13aWR0aDo4LjY0Ii8+Cgk8Y2lyY2xlIGN4PSI0NTQuMDQi\nIGN5PSIyMjE3LjMwIiByPSIyNi4zNSIgc3R5bGU9ImZpbGw6IzFBNDc2RiIvPgoJPGNpcmNsZSBj\neD0iNDU0LjA0IiBjeT0iMjIxNy4zMCIgcj0iMjIuMDMiIHN0eWxlPSJmaWxsOm5vbmU7c3Ryb2tl\nOiMxQTQ3NkY7c3Ryb2tlLXdpZHRoOjguNjQiLz4KCTxjaXJjbGUgY3g9IjY2Mi45MyIgY3k9IjI0\nMTkuNjQiIHI9IjI2LjM1IiBzdHlsZT0iZmlsbDojMUE0NzZGIi8+Cgk8Y2lyY2xlIGN4PSI2NjIu\nOTMiIGN5PSIyNDE5LjY0IiByPSIyMi4wMyIgc3R5bGU9ImZpbGw6bm9uZTtzdHJva2U6IzFBNDc2\nRjtzdHJva2Utd2lkdGg6OC42NCIvPgoJPGNpcmNsZSBjeD0iODcxLjgyIiBjeT0iMjEwOC4zOSIg\ncj0iMjYuMzUiIHN0eWxlPSJmaWxsOiMxQTQ3NkYiLz4KCTxjaXJjbGUgY3g9Ijg3MS44MiIgY3k9\nIjIxMDguMzkiIHI9IjIyLjAzIiBzdHlsZT0iZmlsbDpub25lO3N0cm9rZTojMUE0NzZGO3N0cm9r\nZS13aWR0aDo4LjY0Ii8+Cgk8Y2lyY2xlIGN4PSIxMDgwLjU5IiBjeT0iMTg2My44NiIgcj0iMjYu\nMzUiIHN0eWxlPSJmaWxsOiMxQTQ3NkYiLz4KCTxjaXJjbGUgY3g9IjEwODAuNTkiIGN5PSIxODYz\nLjg2IiByPSIyMi4wMyIgc3R5bGU9ImZpbGw6bm9uZTtzdHJva2U6IzFBNDc2RjtzdHJva2Utd2lk\ndGg6OC42NCIvPgoJPGNpcmNsZSBjeD0iMTI4OS40NyIgY3k9IjE4MjQuODciIHI9IjI2LjM1IiBz\ndHlsZT0iZmlsbDojMUE0NzZGIi8+Cgk8Y2lyY2xlIGN4PSIxMjg5LjQ3IiBjeT0iMTgyNC44NyIg\ncj0iMjIuMDMiIHN0eWxlPSJmaWxsOm5vbmU7c3Ryb2tlOiMxQTQ3NkY7c3Ryb2tlLXdpZHRoOjgu\nNjQiLz4KCTxjaXJjbGUgY3g9IjE0OTguMzciIGN5PSIxNzA2LjMyIiByPSIyNi4zNSIgc3R5bGU9\nImZpbGw6IzFBNDc2RiIvPgoJPGNpcmNsZSBjeD0iMTQ5OC4zNyIgY3k9IjE3MDYuMzIiIHI9IjIy\nLjAzIiBzdHlsZT0iZmlsbDpub25lO3N0cm9rZTojMUE0NzZGO3N0cm9rZS13aWR0aDo4LjY0Ii8+\nCgk8Y2lyY2xlIGN4PSIxNzA3LjEzIiBjeT0iMTI2NC42NCIgcj0iMjYuMzUiIHN0eWxlPSJmaWxs\nOiMxQTQ3NkYiLz4KCTxjaXJjbGUgY3g9IjE3MDcuMTMiIGN5PSIxMjY0LjY0IiByPSIyMi4wMyIg\nc3R5bGU9ImZpbGw6bm9uZTtzdHJva2U6IzFBNDc2RjtzdHJva2Utd2lkdGg6OC42NCIvPgoJPGNp\ncmNsZSBjeD0iMTkxNi4wMiIgY3k9IjEzODcuOTAiIHI9IjI2LjM1IiBzdHlsZT0iZmlsbDojMUE0\nNzZGIi8+Cgk8Y2lyY2xlIGN4PSIxOTE2LjAyIiBjeT0iMTM4Ny45MCIgcj0iMjIuMDMiIHN0eWxl\nPSJmaWxsOm5vbmU7c3Ryb2tlOiMxQTQ3NkY7c3Ryb2tlLXdpZHRoOjguNjQiLz4KCTxjaXJjbGUg\nY3g9IjIxMjQuOTEiIGN5PSIzNTcuNjUiIHI9IjI2LjM1IiBzdHlsZT0iZmlsbDojMUE0NzZGIi8+\nCgk8Y2lyY2xlIGN4PSIyMTI0LjkxIiBjeT0iMzU3LjY1IiByPSIyMi4wMyIgc3R5bGU9ImZpbGw6\nbm9uZTtzdHJva2U6IzFBNDc2RjtzdHJva2Utd2lkdGg6OC42NCIvPgoJPGNpcmNsZSBjeD0iMjMz\nMy42OCIgY3k9Ijk5Ny4zMyIgcj0iMjYuMzUiIHN0eWxlPSJmaWxsOiMxQTQ3NkYiLz4KCTxjaXJj\nbGUgY3g9IjIzMzMuNjgiIGN5PSI5OTcuMzMiIHI9IjIyLjAzIiBzdHlsZT0iZmlsbDpub25lO3N0\ncm9rZTojMUE0NzZGO3N0cm9rZS13aWR0aDo4LjY0Ii8+Cgk8Y2lyY2xlIGN4PSIyNTQyLjU3IiBj\neT0iMTM2Ni4wMCIgcj0iMjYuMzUiIHN0eWxlPSJmaWxsOiMxQTQ3NkYiLz4KCTxjaXJjbGUgY3g9\nIjI1NDIuNTciIGN5PSIxMzY2LjAwIiByPSIyMi4wMyIgc3R5bGU9ImZpbGw6bm9uZTtzdHJva2U6\nIzFBNDc2RjtzdHJva2Utd2lkdGg6OC42NCIvPgoJPGNpcmNsZSBjeD0iMjc1MS40NiIgY3k9IjE1\nNDEuNDgiIHI9IjI2LjM1IiBzdHlsZT0iZmlsbDojMUE0NzZGIi8+Cgk8Y2lyY2xlIGN4PSIyNzUx\nLjQ2IiBjeT0iMTU0MS40OCIgcj0iMjIuMDMiIHN0eWxlPSJmaWxsOm5vbmU7c3Ryb2tlOiMxQTQ3\nNkY7c3Ryb2tlLXdpZHRoOjguNjQiLz4KCTxjaXJjbGUgY3g9IjI5NjAuMjIiIGN5PSIxMjc2LjAz\nIiByPSIyNi4zNSIgc3R5bGU9ImZpbGw6IzFBNDc2RiIvPgoJPGNpcmNsZSBjeD0iMjk2MC4yMiIg\nY3k9IjEyNzYuMDMiIHI9IjIyLjAzIiBzdHlsZT0iZmlsbDpub25lO3N0cm9rZTojMUE0NzZGO3N0\ncm9rZS13aWR0aDo4LjY0Ii8+Cgk8Y2lyY2xlIGN4PSIzMTY5LjExIiBjeT0iMTI1MC41MyIgcj0i\nMjYuMzUiIHN0eWxlPSJmaWxsOiMxQTQ3NkYiLz4KCTxjaXJjbGUgY3g9IjMxNjkuMTEiIGN5PSIx\nMjUwLjUzIiByPSIyMi4wMyIgc3R5bGU9ImZpbGw6bm9uZTtzdHJva2U6IzFBNDc2RjtzdHJva2Ut\nd2lkdGg6OC42NCIvPgoJPGNpcmNsZSBjeD0iMzM3OC4wMCIgY3k9IjEwNTMuMDIiIHI9IjI2LjM1\nIiBzdHlsZT0iZmlsbDojMUE0NzZGIi8+Cgk8Y2lyY2xlIGN4PSIzMzc4LjAwIiBjeT0iMTA1My4w\nMiIgcj0iMjIuMDMiIHN0eWxlPSJmaWxsOm5vbmU7c3Ryb2tlOiMxQTQ3NkY7c3Ryb2tlLXdpZHRo\nOjguNjQiLz4KCTxjaXJjbGUgY3g9IjM1ODYuNzciIGN5PSIxMDU4LjcxIiByPSIyNi4zNSIgc3R5\nbGU9ImZpbGw6IzFBNDc2RiIvPgoJPGNpcmNsZSBjeD0iMzU4Ni43NyIgY3k9IjEwNTguNzEiIHI9\nIjIyLjAzIiBzdHlsZT0iZmlsbDpub25lO3N0cm9rZTojMUE0NzZGO3N0cm9rZS13aWR0aDo4LjY0\nIi8+Cgk8Y2lyY2xlIGN4PSIzNzk1LjY2IiBjeT0iODQxLjY1IiByPSIyNi4zNSIgc3R5bGU9ImZp\nbGw6IzFBNDc2RiIvPgoJPGNpcmNsZSBjeD0iMzc5NS42NiIgY3k9Ijg0MS42NSIgcj0iMjIuMDMi\nIHN0eWxlPSJmaWxsOm5vbmU7c3Ryb2tlOiMxQTQ3NkY7c3Ryb2tlLXdpZHRoOjguNjQiLz4KCTxs\naW5lIHgxPSIzOTAuODAiIHkxPSIyNDg5LjE5IiB4Mj0iMzkwLjgwIiB5Mj0iMTAwLjg2IiBzdHls\nZT0ic3Ryb2tlOiMwMDAwMDA7c3Ryb2tlLXdpZHRoOjUuNzYiLz4KCTxsaW5lIHgxPSIzOTAuODAi\nIHkxPSIyNDI1LjgyIiB4Mj0iMzUwLjgzIiB5Mj0iMjQyNS44MiIgc3R5bGU9InN0cm9rZTojMDAw\nMDAwO3N0cm9rZS13aWR0aDo1Ljc2Ii8+Cgk8dGV4dCB4PSIzMDAuNzIiIHk9IjI0MjUuODIiIHN0\neWxlPSJmb250LWZhbWlseTonSGVsdmV0aWNhJztmb250LXNpemU6OTkuOTlweDtmaWxsOiMwMDAw\nMDAiIHRyYW5zZm9ybT0icm90YXRlKC05MCAzMDAuNzIsMjQyNS44MikiIHRleHQtYW5jaG9yPSJt\naWRkbGUiPjEwLjQ8L3RleHQ+Cgk8bGluZSB4MT0iMzkwLjgwIiB5MT0iMTg2MC4zOSIgeDI9IjM1\nMC44MyIgeTI9IjE4NjAuMzkiIHN0eWxlPSJzdHJva2U6IzAwMDAwMDtzdHJva2Utd2lkdGg6NS43\nNiIvPgoJPHRleHQgeD0iMzAwLjcyIiB5PSIxODYwLjM5IiBzdHlsZT0iZm9udC1mYW1pbHk6J0hl\nbHZldGljYSc7Zm9udC1zaXplOjk5Ljk5cHg7ZmlsbDojMDAwMDAwIiB0cmFuc2Zvcm09InJvdGF0\nZSgtOTAgMzAwLjcyLDE4NjAuMzkpIiB0ZXh0LWFuY2hvcj0ibWlkZGxlIj4xMC40NTwvdGV4dD4K\nCTxsaW5lIHgxPSIzOTAuODAiIHkxPSIxMjk0Ljk2IiB4Mj0iMzUwLjgzIiB5Mj0iMTI5NC45NiIg\nc3R5bGU9InN0cm9rZTojMDAwMDAwO3N0cm9rZS13aWR0aDo1Ljc2Ii8+Cgk8dGV4dCB4PSIzMDAu\nNzIiIHk9IjEyOTQuOTYiIHN0eWxlPSJmb250LWZhbWlseTonSGVsdmV0aWNhJztmb250LXNpemU6\nOTkuOTlweDtmaWxsOiMwMDAwMDAiIHRyYW5zZm9ybT0icm90YXRlKC05MCAzMDAuNzIsMTI5NC45\nNikiIHRleHQtYW5jaG9yPSJtaWRkbGUiPjEwLjU8L3RleHQ+Cgk8bGluZSB4MT0iMzkwLjgwIiB5\nMT0iNzI5LjUzIiB4Mj0iMzUwLjgzIiB5Mj0iNzI5LjUzIiBzdHlsZT0ic3Ryb2tlOiMwMDAwMDA7\nc3Ryb2tlLXdpZHRoOjUuNzYiLz4KCTx0ZXh0IHg9IjMwMC43MiIgeT0iNzI5LjUzIiBzdHlsZT0i\nZm9udC1mYW1pbHk6J0hlbHZldGljYSc7Zm9udC1zaXplOjk5Ljk5cHg7ZmlsbDojMDAwMDAwIiB0\ncmFuc2Zvcm09InJvdGF0ZSgtOTAgMzAwLjcyLDcyOS41MykiIHRleHQtYW5jaG9yPSJtaWRkbGUi\nPjEwLjU1PC90ZXh0PgoJPGxpbmUgeDE9IjM5MC44MCIgeTE9IjE2NC4yMiIgeDI9IjM1MC44MyIg\neTI9IjE2NC4yMiIgc3R5bGU9InN0cm9rZTojMDAwMDAwO3N0cm9rZS13aWR0aDo1Ljc2Ii8+Cgk8\ndGV4dCB4PSIzMDAuNzIiIHk9IjE2NC4yMiIgc3R5bGU9ImZvbnQtZmFtaWx5OidIZWx2ZXRpY2En\nO2ZvbnQtc2l6ZTo5OS45OXB4O2ZpbGw6IzAwMDAwMCIgdHJhbnNmb3JtPSJyb3RhdGUoLTkwIDMw\nMC43MiwxNjQuMjIpIiB0ZXh0LWFuY2hvcj0ibWlkZGxlIj4xMC42PC90ZXh0PgoJPHRleHQgeD0i\nMTkwLjcxIiB5PSIxMjk0Ljk2IiBzdHlsZT0iZm9udC1mYW1pbHk6J0hlbHZldGljYSc7Zm9udC1z\naXplOjk5Ljk5cHg7ZmlsbDojMDAwMDAwIiB0cmFuc2Zvcm09InJvdGF0ZSgtOTAgMTkwLjcxLDEy\nOTQuOTYpIiB0ZXh0LWFuY2hvcj0ibWlkZGxlIj4obWVhbikgbG9nX2Vhcm5pbmdzPC90ZXh0PgoJ\nPGxpbmUgeDE9IjM5MC44MCIgeTE9IjI0ODkuMTkiIHgyPSIzODU5LjAyIiB5Mj0iMjQ4OS4xOSIg\nc3R5bGU9InN0cm9rZTojMDAwMDAwO3N0cm9rZS13aWR0aDo1Ljc2Ii8+Cgk8bGluZSB4MT0iNDU0\nLjE2IiB5MT0iMjQ4OS4xOSIgeDI9IjQ1NC4xNiIgeTI9IjI1MjkuMTYiIHN0eWxlPSJzdHJva2U6\nIzAwMDAwMDtzdHJva2Utd2lkdGg6NS43NiIvPgoJPHRleHQgeD0iNDU0LjE2IiB5PSIyNjE5LjE0\nIiBzdHlsZT0iZm9udC1mYW1pbHk6J0hlbHZldGljYSc7Zm9udC1zaXplOjk5Ljk5cHg7ZmlsbDoj\nMDAwMDAwIiB0ZXh0LWFuY2hvcj0ibWlkZGxlIj4xOTk1PC90ZXh0PgoJPGxpbmUgeDE9IjE0OTgu\nMzciIHkxPSIyNDg5LjE5IiB4Mj0iMTQ5OC4zNyIgeTI9IjI1MjkuMTYiIHN0eWxlPSJzdHJva2U6\nIzAwMDAwMDtzdHJva2Utd2lkdGg6NS43NiIvPgoJPHRleHQgeD0iMTQ5OC4zNyIgeT0iMjYxOS4x\nNCIgc3R5bGU9ImZvbnQtZmFtaWx5OidIZWx2ZXRpY2EnO2ZvbnQtc2l6ZTo5OS45OXB4O2ZpbGw6\nIzAwMDAwMCIgdGV4dC1hbmNob3I9Im1pZGRsZSI+MjAwMDwvdGV4dD4KCTxsaW5lIHgxPSIyNTQy\nLjU3IiB5MT0iMjQ4OS4xOSIgeDI9IjI1NDIuNTciIHkyPSIyNTI5LjE2IiBzdHlsZT0ic3Ryb2tl\nOiMwMDAwMDA7c3Ryb2tlLXdpZHRoOjUuNzYiLz4KCTx0ZXh0IHg9IjI1NDIuNTciIHk9IjI2MTku\nMTQiIHN0eWxlPSJmb250LWZhbWlseTonSGVsdmV0aWNhJztmb250LXNpemU6OTkuOTlweDtmaWxs\nOiMwMDAwMDAiIHRleHQtYW5jaG9yPSJtaWRkbGUiPjIwMDU8L3RleHQ+Cgk8bGluZSB4MT0iMzU4\nNi44OSIgeTE9IjI0ODkuMTkiIHgyPSIzNTg2Ljg5IiB5Mj0iMjUyOS4xNiIgc3R5bGU9InN0cm9r\nZTojMDAwMDAwO3N0cm9rZS13aWR0aDo1Ljc2Ii8+Cgk8dGV4dCB4PSIzNTg2Ljg5IiB5PSIyNjE5\nLjE0IiBzdHlsZT0iZm9udC1mYW1pbHk6J0hlbHZldGljYSc7Zm9udC1zaXplOjk5Ljk5cHg7Zmls\nbDojMDAwMDAwIiB0ZXh0LWFuY2hvcj0ibWlkZGxlIj4yMDEwPC90ZXh0PgoJPHRleHQgeD0iMjEy\nNC45MSIgeT0iMjcyOS4xNiIgc3R5bGU9ImZvbnQtZmFtaWx5OidIZWx2ZXRpY2EnO2ZvbnQtc2l6\nZTo5OS45OXB4O2ZpbGw6IzAwMDAwMCIgdGV4dC1hbmNob3I9Im1pZGRsZSI+Q2FsZW5kYXIgWWVh\ncjwvdGV4dD4KPC9zdmc+Cg==\n"
        }
      },
      "id": "1a657789-b775-47b3-8a22-a12883cb75de"
    },
    {
      "cell_type": "code",
      "execution_count": 7,
      "metadata": {},
      "outputs": [],
      "source": [
        "%%stata\n",
        "\n",
        "twoway (connected log_earnings year)\n",
        "\n",
        "graph export graph1.jpg, as(jpg) replace"
      ],
      "id": "83ce2538"
    },
    {
      "cell_type": "markdown",
      "metadata": {},
      "source": [
        "<figure>\n",
        "<img src=\"attachment:./img/myconnectedplot.svg\"\n",
        "alt=\"connected-scatter-plot\" />\n",
        "<figcaption aria-hidden=\"true\">connected-scatter-plot</figcaption>\n",
        "</figure>\n",
        "\n",
        "### 9.1.2 Line Plot using `twoway`\n",
        "\n",
        "**What is it? and, when to use?**\n",
        "\n",
        "Line plots visualize trends with respect to an independent, ordered\n",
        "quantity (e.g., time). This plot works well when one of our variables is\n",
        "ordinal (time-like) or when we want to display multiple series on a\n",
        "common timeline.\n",
        "\n",
        "Line plots can be generated using Stata’s `twoway` command we saw\n",
        "earlier. This time, instead of writing `scatter` for the type of graph,\n",
        "we write `line`.\n",
        "\n",
        "Below we introduce something new. We have added options to the graph\n",
        "that change the title on the x-axis (`xtitle`) and on the y-axis\n",
        "(`y-title`). Options for the graph as a whole appear at the end of the\n",
        "command. As we will see, options that affect an individual plot appear\n",
        "in the brackets where the plot is specified."
      ],
      "attachments": {
        "./img/myconnectedplot.svg": {
          "image/svg+xml": "PD94bWwgdmVyc2lvbj0iMS4wIiBlbmNvZGluZz0iVVRGLTgiIHN0YW5kYWxvbmU9Im5vIj8+Cjwh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\ncj0ibWlkZGxlIj5ZZWFyPC90ZXh0Pgo8L3N2Zz4K\n"
        }
      },
      "id": "17e56be9-9942-407b-a021-b164e7790258"
    },
    {
      "cell_type": "code",
      "execution_count": 8,
      "metadata": {},
      "outputs": [],
      "source": [
        "%%stata\n",
        "\n",
        "twoway (line log_earnings year), xtitle(\"Year\") ytitle(\"Log-earnings\")\n",
        "\n",
        "graph export graph3.jpg, as(jpg) replace"
      ],
      "id": "3719e763"
    },
    {
      "cell_type": "markdown",
      "metadata": {},
      "source": [
        "It should look something like this:\n",
        "\n",
        "<figure>\n",
        "<img src=\"attachment:img/mylineplot.svg\" alt=\"mylineplot\" />\n",
        "<figcaption aria-hidden=\"true\">mylineplot</figcaption>\n",
        "</figure>\n",
        "\n",
        "Now, let’s try creating a line plot with multiple series on a common\n",
        "twoway graph. To create this graph we first need to `restore` our data\n",
        "to the original version of the “fake_data” data set."
      ],
      "attachments": {
        "img/mylineplot.svg": {
          "image/svg+xml": "PD94bWwgdmVyc2lvbj0iMS4wIiBlbmNvZGluZz0iVVRGLTgiIHN0YW5kYWxvbmU9Im5vIj8+Cjwh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\ndGV4dD4KPC9zdmc+Cg==\n"
        }
      },
      "id": "9fcd1a59-1a67-4467-8b98-80a903a4a73c"
    },
    {
      "cell_type": "code",
      "execution_count": 9,
      "metadata": {},
      "outputs": [],
      "source": [
        "%%stata\n",
        "\n",
        "restore"
      ],
      "id": "d17e8709"
    },
    {
      "cell_type": "markdown",
      "metadata": {},
      "source": [
        "Now that we have done that, we can collapse it to create the mean of\n",
        "*log_earnings* by both *year* and *treated*"
      ],
      "id": "475d34f8-1bc6-44e1-af76-9952267b6d7c"
    },
    {
      "cell_type": "code",
      "execution_count": 10,
      "metadata": {},
      "outputs": [],
      "source": [
        "%%stata\n",
        "\n",
        "preserve\n",
        "\n",
        "collapse (mean) log_earnings, by(treated year)\n",
        "\n",
        "describe"
      ],
      "id": "13632c72"
    },
    {
      "cell_type": "markdown",
      "metadata": {},
      "source": [
        "We can create a graph that separates the earnings between the treated\n",
        "and non-treated over time. We need to add each line separately to the\n",
        "graph. Within brackets, we can choose the observations we want included.\n",
        "We can also add line specific options, like `color`."
      ],
      "id": "1a968cbd-106c-4ee3-97d4-3e30fe63c9ca"
    },
    {
      "cell_type": "code",
      "execution_count": 11,
      "metadata": {},
      "outputs": [],
      "source": [
        "%%stata\n",
        "\n",
        "twoway (connected log_earnings year if treated==1, color(orange)) (connected log_earnings year if treated==0, color(purple)), xtitle(Year) ytitle(Average Log Earnings)\n",
        "\n",
        "graph export graph4.jpg, as(jpg) replace"
      ],
      "id": "9676dd21"
    },
    {
      "cell_type": "markdown",
      "metadata": {},
      "source": [
        "One final tip about working with scatterplots: sometimes we will want to\n",
        "draw a fit line on our graph that approximates the relationship between\n",
        "the two variables. We can do this by adding a second graph to the twoway\n",
        "plot that uses the graph type `lfit`.\n",
        "\n",
        "### 9.1.3 Histogram using `twoway`\n",
        "\n",
        "**What is it? and, when to use?**\n",
        "\n",
        "Histograms visualize the distribution of one quantitative variable. This\n",
        "plot works well when we are working with a discrete variable and are\n",
        "interested in visualizing all its possible values and how often they\n",
        "each occur.\n",
        "\n",
        "Now let’s restore the original data set so that we can plot the\n",
        "distribution of *log_earnings* and draw a simple histogram."
      ],
      "id": "15845498-0e70-43b8-a654-041c58883c23"
    },
    {
      "cell_type": "code",
      "execution_count": 12,
      "metadata": {},
      "outputs": [],
      "source": [
        "%%stata\n",
        "\n",
        "restore\n",
        "\n",
        "histogram log_earnings\n",
        "\n",
        "graph export graph5.jpg, as(jpg) replace"
      ],
      "id": "a1f0e78d"
    },
    {
      "cell_type": "markdown",
      "metadata": {},
      "source": [
        "It will look like this:\n",
        "\n",
        "<figure>\n",
        "<img src=\"attachment:img/myhistogram.svg\" alt=\"myhistogram\" />\n",
        "<figcaption aria-hidden=\"true\">myhistogram</figcaption>\n",
        "</figure>\n",
        "\n",
        "We can also draw two histograms on one plot. They won’t look very nice\n",
        "unless we change the plot colours though. But, if we execute the command\n",
        "below, it should create a nice graph that allows us to compare the\n",
        "distributions of *log_earnings* between the treatment and control\n",
        "groups."
      ],
      "attachments": {
        "img/myhistogram.svg": {
          "image/svg+xml": "PD94bWwgdmVyc2lvbj0iMS4wIiBlbmNvZGluZz0iVVRGLTgiIHN0YW5kYWxvbmU9Im5vIj8+Cjwh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\ndmc+Cg==\n"
        }
      },
      "id": "0465333b-1352-4ccd-b76b-0f84b5df5669"
    },
    {
      "cell_type": "code",
      "execution_count": 13,
      "metadata": {},
      "outputs": [],
      "source": [
        "%%stata\n",
        "\n",
        "twoway (histogram log_earnings if treated==0, color(orange) lcolor(black))     ///\n",
        "    (histogram log_earnings if treated==1, color(olive) lcolor(black)),        ///\n",
        "    legend(label(1 \"Treated\") label(2 \"Untreated\"))\n",
        "\n",
        "graph export graph6.jpg, as(jpg) replace"
      ],
      "id": "770061bb"
    },
    {
      "cell_type": "markdown",
      "metadata": {},
      "source": [
        "### 9.1.4 Bar Plot using `graph`\n",
        "\n",
        "**What is it? and, when to use?**\n",
        "\n",
        "Bar plots visualize comparisons of amounts. They are useful when we are\n",
        "interested in comparing a few categories as parts of a whole, or across\n",
        "time. *Bar plots should always start at 0. Starting bar plots at any\n",
        "number besides 0 is generally considered a misrepresentation of the\n",
        "data.*\n",
        "\n",
        "Let’s plot mean earnings by region. Note that the regions are numbered\n",
        "in our data set.\n",
        "\n",
        "To make a bar plot, we have to use the command `graph` instead of\n",
        "`twoway`. The syntax is\n",
        "similar:`graph bar (statistic) x-var, over(grouping_var)`.\n",
        "\n",
        "See an example below:"
      ],
      "id": "e662956f-0562-416e-bacc-1df7de8cb0e1"
    },
    {
      "cell_type": "code",
      "execution_count": 14,
      "metadata": {},
      "outputs": [],
      "source": [
        "%%stata\n",
        "\n",
        "graph bar (mean) earnings, over(region)\n",
        "graph export graph7.jpg, as(jpg) replace"
      ],
      "id": "8625295e"
    },
    {
      "cell_type": "markdown",
      "metadata": {},
      "source": [
        "<figure>\n",
        "<img src=\"attachment:img/mybarchart.svg\" alt=\"mybarchart\" />\n",
        "<figcaption aria-hidden=\"true\">mybarchart</figcaption>\n",
        "</figure>\n",
        "\n",
        "We can also create a horizontal bar plot by using the option `hbar`\n",
        "instead of `bar`."
      ],
      "attachments": {
        "img/mybarchart.svg": {
          "image/svg+xml": "PD94bWwgdmVyc2lvbj0iMS4wIiBlbmNvZGluZz0iVVRGLTgiIHN0YW5kYWxvbmU9Im5vIj8+Cjwh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\n"
        }
      },
      "id": "e9bf4ed0-8e75-4593-887a-cdc14ac7ebd6"
    },
    {
      "cell_type": "code",
      "execution_count": 15,
      "metadata": {},
      "outputs": [],
      "source": [
        "%%stata\n",
        "\n",
        "graph hbar (mean) earnings, over(region)\n",
        "\n",
        "graph export graph8.jpg, as(jpg) replace"
      ],
      "id": "f185c03e"
    },
    {
      "cell_type": "markdown",
      "metadata": {},
      "source": [
        "<figure>\n",
        "<img src=\"attachment:./img/mybarchart2.svg\" alt=\"mybarchart2\" />\n",
        "<figcaption aria-hidden=\"true\">mybarchart2</figcaption>\n",
        "</figure>\n",
        "\n",
        "We can also group our bars over another variable (or “category”)."
      ],
      "attachments": {
        "./img/mybarchart2.svg": {
          "image/svg+xml": "PD94bWwgdmVyc2lvbj0iMS4wIiBlbmNvZGluZz0iVVRGLTgiIHN0YW5kYWxvbmU9Im5vIj8+Cjwh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\n"
        }
      },
      "id": "aab72e56-b238-414e-b79a-b0067fe4f45c"
    },
    {
      "cell_type": "code",
      "execution_count": 16,
      "metadata": {},
      "outputs": [],
      "source": [
        "%%stata\n",
        "\n",
        "graph hbar (mean) earnings,  over(treated) over(region)\n",
        "\n",
        "graph export graph9.jpg, as(jpg) replace"
      ],
      "id": "373060fa"
    },
    {
      "cell_type": "markdown",
      "metadata": {},
      "source": [
        "<figure>\n",
        "<img src=\"attachment:img/mybarchart3.svg\" alt=\"mybarchart3\" />\n",
        "<figcaption aria-hidden=\"true\">mybarchart3</figcaption>\n",
        "</figure>\n",
        "\n",
        "## 9.2 Exporting Format\n",
        "\n",
        "So far, we have been exporting our graphs in .svg format. However, we\n",
        "can also export graphs in other formats such as `.jpg`, `.png`, and\n",
        "`.pdf`. This may be particularly helpful if using LaTeX to write a\n",
        "paper, as `.svg` files cannot be used with LaTeX PDF output.\n",
        "\n",
        "## 9.3 Fine-tuning a Graph Further\n",
        "\n",
        "In order to customize our graph further, we can use the tools in the\n",
        "Stata graph window or the graph option commands we have been using in\n",
        "this module. Namely, we can include and adjust the following:\n",
        "\n",
        "-   title\n",
        "-   axis titles\n",
        "-   legend\n",
        "-   axis\n",
        "-   scale\n",
        "-   labels\n",
        "-   theme (i.e. colour, appearance)\n",
        "-   adding lines, text or objects\n",
        "\n",
        "Let’s see how to add some of these customizations to our graphs in\n",
        "practice. For example, let’s modify our latest bar graph such that:\n",
        "\n",
        "-   the title is “Earnings by region and treatment”: we do this with the\n",
        "    option `title()`;\n",
        "-   the axis title is “Earnings (average)”: we do this with the option\n",
        "    `ytitle()`;\n",
        "-   the regions and the treatment status are labeled: we do this with\n",
        "    the sub-option *relabel* within the *over* option,\n",
        "    `over(varname, relabel())`. Remember that relabelling follows the\n",
        "    order in which the values appear: e.g., for treated and untreated,\n",
        "    the not treated group appears first and the treated group appears\n",
        "    second, therefore we have to use *1* to indicate the non-treated\n",
        "    group and *2* to indicate the treated group:\n",
        "    `over(treated, relabel(1 \"Not treated\" 2 \"Treated\"))`;\n",
        "-   the background color is white: we do this with the option\n",
        "    `graphregion(color())`;\n",
        "-   the color of the bars is dark green: we do this using the option\n",
        "    *bar* and its suboptions. Remember that we need to specify this\n",
        "    option for each variable we are plotting in the bars. In our case,\n",
        "    we are only plotting variable *earnings*, which is by definition the\n",
        "    first variable we are plotting, therefore all sub-options refer to\n",
        "    *1*: `bar(1, fcolor(dkgreen))`."
      ],
      "attachments": {
        "img/mybarchart3.svg": {
          "image/svg+xml": "PD94bWwgdmVyc2lvbj0iMS4wIiBlbmNvZGluZz0iVVRGLTgiIHN0YW5kYWxvbmU9Im5vIj8+Cjwh\nLS0gVGhpcyBpcyBhIFN0YXRhIDE3LjAgZ2VuZXJhdGVkIFNWRyBmaWxlIChodHRwOi8vd3d3LnN0\nYXRhLmNvbSkgLS0+Cgo8c3ZnIHZlcnNpb249IjEuMSIgd2lkdGg9IjUuNTAwaW4iIGhlaWdodD0i\nNC4wMDBpbiIgdmlld0JveD0iMCAwIDM5NjAgMjg4MCIgeG1sbnM9Imh0dHA6Ly93d3cudzMub3Jn\nLzIwMDAvc3ZnIiB4bWxuczp4bGluaz0iaHR0cDovL3d3dy53My5vcmcvMTk5OS94bGluayI+Cgk8\nZGVzYz5TdGF0YSBHcmFwaCAtIEdyYXBoPC9kZXNjPgoJPHJlY3QgeD0iMCIgeT0iMCIgd2lkdGg9\nIjM5NjAiIGhlaWdodD0iMjg4MCIgc3R5bGU9ImZpbGw6I0VBRjJGMztzdHJva2U6bm9uZSIvPgoJ\nPHJlY3QgeD0iMC4wMCIgeT0iMC4wMCIgd2lkdGg9IjM5NTkuODgiIGhlaWdodD0iMjg4MC4wMCIg\nc3R5bGU9ImZpbGw6I0VBRjJGMyIvPgoJPHJlY3QgeD0iMi44OCIgeT0iMi44OCIgd2lkdGg9IjM5\nNTQuMTIiIGhlaWdodD0iMjg3NC4yNCIgc3R5bGU9ImZpbGw6bm9uZTtzdHJva2U6I0VBRjJGMztz\ndHJva2Utd2lkdGg6NS43NiIvPgoJPHJlY3QgeD0iNDAzLjgwIiB5PSIxMDAuODYiIHdpZHRoPSIz\nNDU1LjIyIiBoZWlnaHQ9IjIzODguMzMiIHN0eWxlPSJmaWxsOiNGRkZGRkYiLz4KCTxyZWN0IHg9\nIjQwNi42OCIgeT0iMTAzLjc0IiB3aWR0aD0iMzQ0OS40NiIgaGVpZ2h0PSIyMzgyLjU3IiBzdHls\nZT0iZmlsbDpub25lO3N0cm9rZTojRkZGRkZGO3N0cm9rZS13aWR0aDo1Ljc2Ii8+Cgk8bGluZSB4\nMT0iNDAzLjgwIiB5MT0iMjQ4OS4xOSIgeDI9IjQwMy44MCIgeTI9IjEwMC44NiIgc3R5bGU9InN0\ncm9rZTojRUFGMkYzO3N0cm9rZS13aWR0aDo4LjY0Ii8+Cgk8bGluZSB4MT0iMTA1Ny42OSIgeTE9\nIjI0ODkuMTkiIHgyPSIxMDU3LjY5IiB5Mj0iMTAwLjg2IiBzdHlsZT0ic3Ryb2tlOiNFQUYyRjM7\nc3Ryb2tlLXdpZHRoOjguNjQiLz4KCTxsaW5lIHgxPSIxNzExLjU5IiB5MT0iMjQ4OS4xOSIgeDI9\nIjE3MTEuNTkiIHkyPSIxMDAuODYiIHN0eWxlPSJzdHJva2U6I0VBRjJGMztzdHJva2Utd2lkdGg6\nOC42NCIvPgoJPGxpbmUgeDE9IjIzNjUuNDgiIHkxPSIyNDg5LjE5IiB4Mj0iMjM2NS40OCIgeTI9\nIjEwMC44NiIgc3R5bGU9InN0cm9rZTojRUFGMkYzO3N0cm9rZS13aWR0aDo4LjY0Ii8+Cgk8bGlu\nZSB4MT0iMzAxOS4zOCIgeTE9IjI0ODkuMTkiIHgyPSIzMDE5LjM4IiB5Mj0iMTAwLjg2IiBzdHls\nZT0ic3Ryb2tlOiNFQUYyRjM7c3Ryb2tlLXdpZHRoOjguNjQiLz4KCTxsaW5lIHgxPSIzNjczLjI3\nIiB5MT0iMjQ4OS4xOSIgeDI9IjM2NzMuMjciIHkyPSIxMDAuODYiIHN0eWxlPSJzdHJva2U6I0VB\nRjJGMztzdHJva2Utd2lkdGg6OC42NCIvPgoJPHJlY3QgeD0iNDAzLjgwIiB5PSIyMjY3Ljc5IiB3\naWR0aD0iMTM0Ni4wMyIgaGVpZ2h0PSIxMDAuNDkiIHN0eWxlPSJmaWxsOiMxQTQ3NkYiLz4KCTxy\nZWN0IHg9IjQwNi42OCIgeT0iMjI3MC42NyIgd2lkdGg9IjEzNDAuMjciIGhlaWdodD0iOTQuNzMi\nIHN0eWxlPSJmaWxsOm5vbmU7c3Ryb2tlOiMxQTQ3NkY7c3Ryb2tlLXdpZHRoOjUuNzYiLz4KCTxy\nZWN0IHg9IjQwMy44MCIgeT0iMjA5OS44NiIgd2lkdGg9IjMzNTQuNDkiIGhlaWdodD0iMTAwLjQ5\nIiBzdHlsZT0iZmlsbDojMUE0NzZGIi8+Cgk8cmVjdCB4PSI0MDYuNjgiIHk9IjIxMDIuNzQiIHdp\nZHRoPSIzMzQ4LjczIiBoZWlnaHQ9Ijk0LjczIiBzdHlsZT0iZmlsbDpub25lO3N0cm9rZTojMUE0\nNzZGO3N0cm9rZS13aWR0aDo1Ljc2Ii8+Cgk8cmVjdCB4PSI0MDMuODAiIHk9IjE3OTguMjciIHdp\nZHRoPSIxMzc5LjMyIiBoZWlnaHQ9IjEwMC40OSIgc3R5bGU9ImZpbGw6IzFBNDc2RiIvPgoJPHJl\nY3QgeD0iNDA2LjY4IiB5PSIxODAxLjE1IiB3aWR0aD0iMTM3My41NiIgaGVpZ2h0PSI5NC43MyIg\nc3R5bGU9ImZpbGw6bm9uZTtzdHJva2U6IzFBNDc2RjtzdHJva2Utd2lkdGg6NS43NiIvPgoJPHJl\nY3QgeD0iNDAzLjgwIiB5PSIxNjMwLjMzIiB3aWR0aD0iMzAxMi44MiIgaGVpZ2h0PSIxMDAuNDki\nIHN0eWxlPSJmaWxsOiMxQTQ3NkYiLz4KCTxyZWN0IHg9IjQwNi42OCIgeT0iMTYzMy4yMSIgd2lk\ndGg9IjMwMDcuMDYiIGhlaWdodD0iOTQuNzMiIHN0eWxlPSJmaWxsOm5vbmU7c3Ryb2tlOiMxQTQ3\nNkY7c3Ryb2tlLXdpZHRoOjUuNzYiLz4KCTxyZWN0IHg9IjQwMy44MCIgeT0iMTMyOC43NSIgd2lk\ndGg9IjEzNTcuMDQiIGhlaWdodD0iMTAwLjQ5IiBzdHlsZT0iZmlsbDojMUE0NzZGIi8+Cgk8cmVj\ndCB4PSI0MDYuNjgiIHk9IjEzMzEuNjMiIHdpZHRoPSIxMzUxLjI4IiBoZWlnaHQ9Ijk0LjczIiBz\ndHlsZT0iZmlsbDpub25lO3N0cm9rZTojMUE0NzZGO3N0cm9rZS13aWR0aDo1Ljc2Ii8+Cgk8cmVj\ndCB4PSI0MDMuODAiIHk9IjExNjAuODEiIHdpZHRoPSIzMDQzLjYzIiBoZWlnaHQ9IjEwMC40OSIg\nc3R5bGU9ImZpbGw6IzFBNDc2RiIvPgoJPHJlY3QgeD0iNDA2LjY4IiB5PSIxMTYzLjY5IiB3aWR0\naD0iMzAzNy44NyIgaGVpZ2h0PSI5NC43MyIgc3R5bGU9ImZpbGw6bm9uZTtzdHJva2U6IzFBNDc2\nRjtzdHJva2Utd2lkdGg6NS43NiIvPgoJPHJlY3QgeD0iNDAzLjgwIiB5PSI4NTkuMTAiIHdpZHRo\nPSIxMzEzLjQ4IiBoZWlnaHQ9IjEwMC42MSIgc3R5bGU9ImZpbGw6IzFBNDc2RiIvPgoJPHJlY3Qg\neD0iNDA2LjY4IiB5PSI4NjEuOTgiIHdpZHRoPSIxMzA3LjcyIiBoZWlnaHQ9Ijk0Ljg1IiBzdHls\nZT0iZmlsbDpub25lO3N0cm9rZTojMUE0NzZGO3N0cm9rZS13aWR0aDo1Ljc2Ii8+Cgk8cmVjdCB4\nPSI0MDMuODAiIHk9IjY5MS4yOSIgd2lkdGg9IjMyNDcuNTciIGhlaWdodD0iMTAwLjQ5IiBzdHls\nZT0iZmlsbDojMUE0NzZGIi8+Cgk8cmVjdCB4PSI0MDYuNjgiIHk9IjY5NC4xNyIgd2lkdGg9IjMy\nNDEuODEiIGhlaWdodD0iOTQuNzMiIHN0eWxlPSJmaWxsOm5vbmU7c3Ryb2tlOiMxQTQ3NkY7c3Ry\nb2tlLXdpZHRoOjUuNzYiLz4KCTxyZWN0IHg9IjQwMy44MCIgeT0iMzg5LjU4IiB3aWR0aD0iMTM2\nMS41MCIgaGVpZ2h0PSIxMDAuNjEiIHN0eWxlPSJmaWxsOiMxQTQ3NkYiLz4KCTxyZWN0IHg9IjQw\nNi42OCIgeT0iMzkyLjQ2IiB3aWR0aD0iMTM1NS43NCIgaGVpZ2h0PSI5NC44NSIgc3R5bGU9ImZp\nbGw6bm9uZTtzdHJva2U6IzFBNDc2RjtzdHJva2Utd2lkdGg6NS43NiIvPgoJPHJlY3QgeD0iNDAz\nLjgwIiB5PSIyMjEuNzciIHdpZHRoPSIzMTU4LjIyIiBoZWlnaHQ9IjEwMC40OSIgc3R5bGU9ImZp\nbGw6IzFBNDc2RiIvPgoJPHJlY3QgeD0iNDA2LjY4IiB5PSIyMjQuNjUiIHdpZHRoPSIzMTUyLjQ2\nIiBoZWlnaHQ9Ijk0LjczIiBzdHlsZT0iZmlsbDpub25lO3N0cm9rZTojMUE0NzZGO3N0cm9rZS13\naWR0aDo1Ljc2Ii8+Cgk8bGluZSB4MT0iNDAzLjgwIiB5MT0iMjQ4OS4xOSIgeDI9IjM4NTkuMDIi\nIHkyPSIyNDg5LjE5IiBzdHlsZT0ic3Ryb2tlOiMwMDAwMDA7c3Ryb2tlLXdpZHRoOjUuNzYiLz4K\nCTxsaW5lIHgxPSI0MDMuODAiIHkxPSIyNDg5LjE5IiB4Mj0iNDAzLjgwIiB5Mj0iMjUyOS4xNiIg\nc3R5bGU9InN0cm9rZTojMDAwMDAwO3N0cm9rZS13aWR0aDo1Ljc2Ii8+Cgk8dGV4dCB4PSI0MDMu\nODAiIHk9IjI2MTkuMTQiIHN0eWxlPSJmb250LWZhbWlseTonSGVsdmV0aWNhJztmb250LXNpemU6\nOTkuOTlweDtmaWxsOiMwMDAwMDAiIHRleHQtYW5jaG9yPSJtaWRkbGUiPjA8L3RleHQ+Cgk8bGlu\nZSB4MT0iMTA1Ny42OSIgeTE9IjI0ODkuMTkiIHgyPSIxMDU3LjY5IiB5Mj0iMjUyOS4xNiIgc3R5\nbGU9InN0cm9rZTojMDAwMDAwO3N0cm9rZS13aWR0aDo1Ljc2Ii8+Cgk8dGV4dCB4PSIxMDU3LjY5\nIiB5PSIyNjE5LjE0IiBzdHlsZT0iZm9udC1mYW1pbHk6J0hlbHZldGljYSc7Zm9udC1zaXplOjk5\nLjk5cHg7ZmlsbDojMDAwMDAwIiB0ZXh0LWFuY2hvcj0ibWlkZGxlIj4yMCwwMDA8L3RleHQ+Cgk8\nbGluZSB4MT0iMTcxMS41OSIgeTE9IjI0ODkuMTkiIHgyPSIxNzExLjU5IiB5Mj0iMjUyOS4xNiIg\nc3R5bGU9InN0cm9rZTojMDAwMDAwO3N0cm9rZS13aWR0aDo1Ljc2Ii8+Cgk8dGV4dCB4PSIxNzEx\nLjU5IiB5PSIyNjE5LjE0IiBzdHlsZT0iZm9udC1mYW1pbHk6J0hlbHZldGljYSc7Zm9udC1zaXpl\nOjk5Ljk5cHg7ZmlsbDojMDAwMDAwIiB0ZXh0LWFuY2hvcj0ibWlkZGxlIj40MCwwMDA8L3RleHQ+\nCgk8bGluZSB4MT0iMjM2NS40OCIgeTE9IjI0ODkuMTkiIHgyPSIyMzY1LjQ4IiB5Mj0iMjUyOS4x\nNiIgc3R5bGU9InN0cm9rZTojMDAwMDAwO3N0cm9rZS13aWR0aDo1Ljc2Ii8+Cgk8dGV4dCB4PSIy\nMzY1LjQ4IiB5PSIyNjE5LjE0IiBzdHlsZT0iZm9udC1mYW1pbHk6J0hlbHZldGljYSc7Zm9udC1z\naXplOjk5Ljk5cHg7ZmlsbDojMDAwMDAwIiB0ZXh0LWFuY2hvcj0ibWlkZGxlIj42MCwwMDA8L3Rl\neHQ+Cgk8bGluZSB4MT0iMzAxOS4zOCIgeTE9IjI0ODkuMTkiIHgyPSIzMDE5LjM4IiB5Mj0iMjUy\nOS4xNiIgc3R5bGU9InN0cm9rZTojMDAwMDAwO3N0cm9rZS13aWR0aDo1Ljc2Ii8+Cgk8dGV4dCB4\nPSIzMDE5LjM4IiB5PSIyNjE5LjE0IiBzdHlsZT0iZm9udC1mYW1pbHk6J0hlbHZldGljYSc7Zm9u\ndC1zaXplOjk5Ljk5cHg7ZmlsbDojMDAwMDAwIiB0ZXh0LWFuY2hvcj0ibWlkZGxlIj44MCwwMDA8\nL3RleHQ+Cgk8bGluZSB4MT0iMzY3My4yNyIgeTE9IjI0ODkuMTkiIHgyPSIzNjczLjI3IiB5Mj0i\nMjUyOS4xNiIgc3R5bGU9InN0cm9rZTojMDAwMDAwO3N0cm9rZS13aWR0aDo1Ljc2Ii8+Cgk8dGV4\ndCB4PSIzNjczLjI3IiB5PSIyNjE5LjE0IiBzdHlsZT0iZm9udC1mYW1pbHk6J0hlbHZldGljYSc7\nZm9udC1zaXplOjk5Ljk5cHg7ZmlsbDojMDAwMDAwIiB0ZXh0LWFuY2hvcj0ibWlkZGxlIj4xMDAw\nMDA8L3RleHQ+Cgk8dGV4dCB4PSIyMTMxLjQ3IiB5PSIyNzI5LjE2IiBzdHlsZT0iZm9udC1mYW1p\nbHk6J0hlbHZldGljYSc7Zm9udC1zaXplOjk5Ljk5cHg7ZmlsbDojMDAwMDAwIiB0ZXh0LWFuY2hv\ncj0ibWlkZGxlIj5tZWFuIG9mIGVhcm5pbmdzPC90ZXh0PgoJPHRleHQgeD0iMjE2LjY5IiB5PSIy\nMjcyLjY3IiBzdHlsZT0iZm9udC1mYW1pbHk6J0hlbHZldGljYSc7Zm9udC1zaXplOjExMC4wMXB4\nO2ZpbGw6IzAwMDAwMCIgdGV4dC1hbmNob3I9ImVuZCI+NTwvdGV4dD4KCTx0ZXh0IHg9IjIxNi42\nOSIgeT0iMTgwMy4wMiIgc3R5bGU9ImZvbnQtZmFtaWx5OidIZWx2ZXRpY2EnO2ZvbnQtc2l6ZTox\nMTAuMDFweDtmaWxsOiMwMDAwMDAiIHRleHQtYW5jaG9yPSJlbmQiPjQ8L3RleHQ+Cgk8dGV4dCB4\nPSIyMTYuNjkiIHk9IjEzMzMuNTAiIHN0eWxlPSJmb250LWZhbWlseTonSGVsdmV0aWNhJztmb250\nLXNpemU6MTEwLjAxcHg7ZmlsbDojMDAwMDAwIiB0ZXh0LWFuY2hvcj0iZW5kIj4zPC90ZXh0PgoJ\nPHRleHQgeD0iMjE2LjY5IiB5PSI4NjMuOTgiIHN0eWxlPSJmb250LWZhbWlseTonSGVsdmV0aWNh\nJztmb250LXNpemU6MTEwLjAxcHg7ZmlsbDojMDAwMDAwIiB0ZXh0LWFuY2hvcj0iZW5kIj4yPC90\nZXh0PgoJPHRleHQgeD0iMjE2LjY5IiB5PSIzOTQuNDUiIHN0eWxlPSJmb250LWZhbWlseTonSGVs\ndmV0aWNhJztmb250LXNpemU6MTEwLjAxcHg7ZmlsbDojMDAwMDAwIiB0ZXh0LWFuY2hvcj0iZW5k\nIj4xPC90ZXh0PgoJPGxpbmUgeDE9IjQwMy44MCIgeTE9IjI0ODkuMTkiIHgyPSI0MDMuODAiIHky\nPSIxMDAuODYiIHN0eWxlPSJzdHJva2U6IzAwMDAwMDtzdHJva2Utd2lkdGg6NS43NiIvPgoJPHRl\neHQgeD0iMzYzLjgzIiB5PSIyMzUzLjA2IiBzdHlsZT0iZm9udC1mYW1pbHk6J0hlbHZldGljYSc7\nZm9udC1zaXplOjk5Ljk5cHg7ZmlsbDojMDAwMDAwIiB0ZXh0LWFuY2hvcj0iZW5kIj4xPC90ZXh0\nPgoJPHRleHQgeD0iMzYzLjgzIiB5PSIyMTg1LjEzIiBzdHlsZT0iZm9udC1mYW1pbHk6J0hlbHZl\ndGljYSc7Zm9udC1zaXplOjk5Ljk5cHg7ZmlsbDojMDAwMDAwIiB0ZXh0LWFuY2hvcj0iZW5kIj4w\nPC90ZXh0PgoJPHRleHQgeD0iMzYzLjgzIiB5PSIxODgzLjU0IiBzdHlsZT0iZm9udC1mYW1pbHk6\nJ0hlbHZldGljYSc7Zm9udC1zaXplOjk5Ljk5cHg7ZmlsbDojMDAwMDAwIiB0ZXh0LWFuY2hvcj0i\nZW5kIj4xPC90ZXh0PgoJPHRleHQgeD0iMzYzLjgzIiB5PSIxNzE1LjYxIiBzdHlsZT0iZm9udC1m\nYW1pbHk6J0hlbHZldGljYSc7Zm9udC1zaXplOjk5Ljk5cHg7ZmlsbDojMDAwMDAwIiB0ZXh0LWFu\nY2hvcj0iZW5kIj4wPC90ZXh0PgoJPHRleHQgeD0iMzYzLjgzIiB5PSIxNDE0LjAyIiBzdHlsZT0i\nZm9udC1mYW1pbHk6J0hlbHZldGljYSc7Zm9udC1zaXplOjk5Ljk5cHg7ZmlsbDojMDAwMDAwIiB0\nZXh0LWFuY2hvcj0iZW5kIj4xPC90ZXh0PgoJPHRleHQgeD0iMzYzLjgzIiB5PSIxMjQ2LjA4IiBz\ndHlsZT0iZm9udC1mYW1pbHk6J0hlbHZldGljYSc7Zm9udC1zaXplOjk5Ljk5cHg7ZmlsbDojMDAw\nMDAwIiB0ZXh0LWFuY2hvcj0iZW5kIj4wPC90ZXh0PgoJPHRleHQgeD0iMzYzLjgzIiB5PSI5NDQu\nNTAiIHN0eWxlPSJmb250LWZhbWlseTonSGVsdmV0aWNhJztmb250LXNpemU6OTkuOTlweDtmaWxs\nOiMwMDAwMDAiIHRleHQtYW5jaG9yPSJlbmQiPjE8L3RleHQ+Cgk8dGV4dCB4PSIzNjMuODMiIHk9\nIjc3Ni41NiIgc3R5bGU9ImZvbnQtZmFtaWx5OidIZWx2ZXRpY2EnO2ZvbnQtc2l6ZTo5OS45OXB4\nO2ZpbGw6IzAwMDAwMCIgdGV4dC1hbmNob3I9ImVuZCI+MDwvdGV4dD4KCTx0ZXh0IHg9IjM2My44\nMyIgeT0iNDc0Ljk3IiBzdHlsZT0iZm9udC1mYW1pbHk6J0hlbHZldGljYSc7Zm9udC1zaXplOjk5\nLjk5cHg7ZmlsbDojMDAwMDAwIiB0ZXh0LWFuY2hvcj0iZW5kIj4xPC90ZXh0PgoJPHRleHQgeD0i\nMzYzLjgzIiB5PSIzMDcuMDQiIHN0eWxlPSJmb250LWZhbWlseTonSGVsdmV0aWNhJztmb250LXNp\nemU6OTkuOTlweDtmaWxsOiMwMDAwMDAiIHRleHQtYW5jaG9yPSJlbmQiPjA8L3RleHQ+Cjwvc3Zn\nPgo=\n"
        }
      },
      "id": "841ffd6c-dc7e-4bf3-9e5d-4463fcff2925"
    },
    {
      "cell_type": "code",
      "execution_count": 17,
      "metadata": {},
      "outputs": [],
      "source": [
        "%%stata\n",
        "\n",
        "graph hbar (mean) earnings, ///\n",
        "    over(treated, relabel(1 \"Not treated\" 2 \"Treated\"))  ///\n",
        "    over(region, relabel(1 \"A\" 2 \"B\" 3 \"C\" 4 \"D\" 5 \"E\")) ///\n",
        "    title(\"Earnings by region and treatment\") ytitle(\"Earnings (average)\") ///\n",
        "    graphregion(color(white)) bar(1, fcolor(dkgreen))\n",
        "\n",
        "graph export graph10.jpg, as(jpg) replace"
      ],
      "id": "c8212b2d"
    },
    {
      "cell_type": "markdown",
      "metadata": {},
      "source": [
        "These are just some of the customizations available to you. Other common\n",
        "options are:\n",
        "\n",
        "-   adding a labelled legend to our graphs. To include the legend, we\n",
        "    use the option `legend( label(number_of_label \"label\"))`;\n",
        "-   adding a vertical line, for example one indicating the year in which\n",
        "    the treatment was administered (2003). To include the indicator line\n",
        "    we use the the option `xline()`. The line can also have different\n",
        "    characteristics. For example, we can change its color and pattern\n",
        "    using the options `lcolor()` and `lpattern()`.\n",
        "\n",
        "We can always go back to the Stata documentation to explore the options\n",
        "available based on what we need to do. We can also adjust many of these\n",
        "aspects in the Graph Editor that appears wheneve we create a new graph\n",
        "(top right corner). Just don’t forget to save your graph when you are\n",
        "done since this won’t be in your do-file!\n",
        "\n",
        "When thinking about colors, always make sure that your graphs are\n",
        "accessible to everyone. Run the code cell below to view the colorstyle\n",
        "options available in Stata. If the color you desire is not available,\n",
        "you can input its RGB code within quotes: for example, a red line would\n",
        "be `lcolor(\"248 7 27\")`. You can learn more about accessible color\n",
        "combinations on [this\n",
        "website](https://davidmathlogic.com/colorblind/#%23D81B60-%231E88E5-%23FFC107-%23004D40)."
      ],
      "id": "7e268abf-f3bd-4f45-b0be-34a107138be8"
    },
    {
      "cell_type": "code",
      "execution_count": 18,
      "metadata": {},
      "outputs": [],
      "source": [
        "%%stata\n",
        "\n",
        "help colorstyle"
      ],
      "id": "41c1c487"
    },
    {
      "cell_type": "markdown",
      "metadata": {},
      "source": [
        "## 9.4 Wrap Up\n",
        "\n",
        "We have learned in this module how to create different types of graphs\n",
        "using the command `twoway` and how to adjust them with the multiple\n",
        "options which come with this command. However, the most valuable\n",
        "take-away from this module is understanding when to use a specific type\n",
        "of graph. Graphs are only able to tell a story if we choose them\n",
        "appropriately and customize them as necessary.\n",
        "\n",
        "Remember to check the Stata documentation when creating graphs. The\n",
        "documentation can be your best ally if you end up using it.\n",
        "\n",
        "## 9.5 Wrap-up Table\n",
        "\n",
        "| Command | Function |\n",
        "|--------------------------------|----------------------------------------|\n",
        "| `twoway scatter` | It creates a scatterplot. |\n",
        "| `twoway connected` | It creates a scatterplot where points are connected by a line. |\n",
        "| `twoway line` | It creates a line graph. |\n",
        "| `twoway histogram` | It creates a histogram. |\n",
        "| `graph bar, over(varname)` | It creates a bar graph by category of *varname*. |\n",
        "\n",
        "## 9.6 Further Reading\n",
        "\n",
        "-   [Make your data speak for itself! Less is more (and people don’t\n",
        "    read)](https://towardsdatascience.com/data-visualization-best-practices-less-is-more-and-people-dont-read-ba41b8f29e7b)\n",
        "\n",
        "## References\n",
        "\n",
        "[Timbers, T., Campbell, T., Lee, M. (2022). Data Science: A First\n",
        "Introduction](https://datasciencebook.ca/viz.html) <br> [Schrimpf, Paul.\n",
        "“Data Visualization: Rules and Guidelines.” In *QuantEcon DataScience*.\n",
        "Edited by Chase Coleman, Spencer Lyon, and Jesse\n",
        "Perla.](https://datascience.quantecon.org/applications/visualization_rules.html)\n",
        "<br> [Kopf, Dan. “A brief history of the scatter plot.” *Quartz*. March\n",
        "31,\n",
        "2018.](https://qz.com/1235712/the-origins-of-the-scatter-plot-data-visualizations-greatest-invention/)\n",
        "<br> [Histograms in\n",
        "Stata](https://www.youtube.com/watch?v=nPqNZVToGx8&list=PLN5IskQdgXWnnIVeA_Y0OBGmnw21fvcmU&index=7)\n",
        "<br> [Box plots in\n",
        "Stata](https://www.youtube.com/watch?v=y6dngL80xuo&list=PLN5IskQdgXWnnIVeA_Y0OBGmnw21fvcmU&index=8)\n",
        "<br> [Pie charts in\n",
        "Stata](https://www.youtube.com/watch?v=T_skwxG4sTk&list=PLN5IskQdgXWnnIVeA_Y0OBGmnw21fvcmU&index=9)\n",
        "<br> [Bar graphs in\n",
        "Stata](https://www.youtube.com/watch?v=jNjAdtQwW6M&list=PLN5IskQdgXWnnIVeA_Y0OBGmnw21fvcmU&index=10)\n",
        "<br> [Basic scatter plots in\n",
        "Stata](https://www.youtube.com/watch?v=GhVGpe3lb3E&list=PLN5IskQdgXWnnIVeA_Y0OBGmnw21fvcmU&index=11)\n",
        "<br> [Modifying sizes of elements in\n",
        "graphs](https://www.youtube.com/watch?v=dNoADgrbPJg) <br> [Modifying\n",
        "graphs using the Graph\n",
        "Editor](https://www.youtube.com/watch?v=17opC4fDeME)"
      ],
      "id": "7b96eed5-d038-4274-8420-da5d55543f11"
    }
  ],
  "nbformat": 4,
  "nbformat_minor": 5,
  "metadata": {
    "kernelspec": {
      "name": "python3",
      "display_name": "Python 3 (ipykernel)",
      "language": "python",
      "path": "/usr/local/share/jupyter/kernels/python3"
    },
    "language_info": {
      "name": "python",
      "codemirror_mode": {
        "name": "ipython",
        "version": "3"
      },
      "file_extension": ".py",
      "mimetype": "text/x-python",
      "nbconvert_exporter": "python",
      "pygments_lexer": "ipython3",
      "version": "3.10.12"
    }
  }
}