{
  "cells": [
    {
      "cell_type": "markdown",
      "metadata": {},
      "source": [
        "# 13 - Using Dummy Variables and Interactions\n",
        "\n",
        "Marina Adshade, Paul Corcuera, Giulia Lo Forte, Jane Platt  \n",
        "2024-05-29\n",
        "\n",
        "## Prerequisites\n",
        "\n",
        "1.  Importing data into Stata.\n",
        "2.  Examining data using `browse` and `codebook`.\n",
        "3.  Creating new variables using the commands `generate` and `tabulate`.\n",
        "4.  Using globals.\n",
        "5.  Understanding linear regression analysis.\n",
        "\n",
        "## Learning Outcomes\n",
        "\n",
        "1.  Understand when a dummy variable is needed in analysis.\n",
        "2.  Create dummy variables from qualitative variables with two or more\n",
        "    categories.\n",
        "3.  Interpret coefficients on a dummy variable from an OLS regression.\n",
        "4.  Interpret coefficients on an interaction between a numeric variable\n",
        "    and a dummy variable from an OLS regression.\n",
        "\n",
        "## 13.0 Intro"
      ],
      "id": "a1af0db5-4253-406a-abce-eb40504f3f70"
    },
    {
      "cell_type": "code",
      "execution_count": 1,
      "metadata": {},
      "outputs": [],
      "source": [
        "import stata_setup\n",
        "stata_setup.config('C:\\Program Files\\Stata18/','se')"
      ],
      "id": "d97b2c24"
    },
    {
      "cell_type": "code",
      "execution_count": 2,
      "metadata": {},
      "outputs": [],
      "source": [
        ">>> import sys\n",
        ">>> sys.path.append('/Applications/Stata/utilities') # make sure this is the same as what you set up in Module 01, Section 1.3: Setting Up the STATA Path\n",
        ">>> from pystata import config\n",
        ">>> config.init('se')"
      ],
      "id": "b52c7caf"
    },
    {
      "cell_type": "markdown",
      "metadata": {},
      "source": [
        "## 13.1 Introduction to Dummy Variables for Regression Analysis\n",
        "\n",
        "We first took a look at dummy variables in [Module\n",
        "6](https://comet.arts.ubc.ca/docs/Research/econ490-pystata/06_Creating_Variables.html).\n",
        "There, we discussed both how to interpret and how to generate this type\n",
        "of variable. If you are unsure about what dummy variables measure,\n",
        "please make sure to review that module.\n",
        "\n",
        "Here we will discuss including qualitative variables as explanatory\n",
        "variables in a linear regression model as dummy variables.\n",
        "\n",
        "Imagine that we want to include a new explanatory variable in our\n",
        "multivariate regression from [Module\n",
        "11](https://comet.arts.ubc.ca/docs/Research/econ490-pystata/11_Linear_Reg.html)\n",
        "that indicates whether an individual is identified as female. To do\n",
        "this, we need to include a new dummy variable in our regression.\n",
        "\n",
        "For this module, we again will be using the fake data set. Recall that\n",
        "this data is simulating information for workers in the years 1982-2012\n",
        "in a fake country where a training program was introduced in 2003 to\n",
        "boost their earnings."
      ],
      "id": "2978b7c7-d9eb-4eed-8208-b10de479a9e1"
    },
    {
      "cell_type": "code",
      "execution_count": 3,
      "metadata": {},
      "outputs": [],
      "source": [
        "%%stata\n",
        "\n",
        "clear *\n",
        "** cd \" \"\n",
        "use fake_data,clear"
      ],
      "id": "aa2c869f"
    },
    {
      "cell_type": "markdown",
      "metadata": {},
      "source": [
        "Let’s generate a variable that takes the log of *earnings*, as we did\n",
        "for our regression in the previous module."
      ],
      "id": "1f53d3fd-50f6-4b60-837f-58ce38b344d1"
    },
    {
      "cell_type": "code",
      "execution_count": 4,
      "metadata": {},
      "outputs": [],
      "source": [
        "%%stata\n",
        "\n",
        "generate logearnings = log(earnings)"
      ],
      "id": "19257f66"
    },
    {
      "cell_type": "markdown",
      "metadata": {},
      "source": [
        "Let’s take a look at the data."
      ],
      "id": "fb840f10-ad48-453b-9081-7787ca06f9d2"
    },
    {
      "cell_type": "code",
      "execution_count": 5,
      "metadata": {},
      "outputs": [],
      "source": [
        "%%stata\n",
        "\n",
        "%browse 10"
      ],
      "id": "bf9c539b"
    },
    {
      "cell_type": "markdown",
      "metadata": {},
      "source": [
        "As expected, *logearnings* is a quantitative variable showing the\n",
        "logarithm of each value of *earnings*. We also have a variable named\n",
        "*sex*, but it doesn’t seem to be coded as a numeric variable. Let’s take\n",
        "a closer look:"
      ],
      "id": "0529fcaf-77a8-4e7d-8707-1f231626540c"
    },
    {
      "cell_type": "code",
      "execution_count": 6,
      "metadata": {},
      "outputs": [],
      "source": [
        "%%stata\n",
        "\n",
        "codebook sex"
      ],
      "id": "a58b999b"
    },
    {
      "cell_type": "markdown",
      "metadata": {},
      "source": [
        "As expected, *sex* is a string variable and is not numeric. We cannot\n",
        "use a string variable in a regression analysis; we have to create a new\n",
        "variable which indicates the sex of the individual represented by the\n",
        "observation in numeric form.\n",
        "\n",
        "A dummy variable is a numeric variable that takes either the value of 0\n",
        "or 1 depending on a condition. In this case, we want to create a\n",
        "variable that equals 1 whenever a worker is identified as “female”. We\n",
        "have seen how to do this in previous notebooks. Do you remember what to\n",
        "do?"
      ],
      "id": "7a9badc8-2c3a-4db5-848a-263f4edea8f0"
    },
    {
      "cell_type": "code",
      "execution_count": 7,
      "metadata": {},
      "outputs": [],
      "source": [
        "%%stata\n",
        "\n",
        "generate female = //fill in the blank!"
      ],
      "id": "f89300fc"
    },
    {
      "cell_type": "markdown",
      "metadata": {},
      "source": [
        "## 13.2 Interpreting the Coefficient on a Dummy Variable\n",
        "\n",
        "Whenever we interpret the coefficient on a dummy variable in a\n",
        "regression, we are making a direct comparison between the 1-category and\n",
        "the 0-category for that dummy. In the case of this *female* dummy, we\n",
        "are directly comparing the mean earnings of female-identified workers\n",
        "against the mean earnings of male-identified workers.\n",
        "\n",
        "Let’s consider the regression below."
      ],
      "id": "1001c124-e434-4f73-b556-3a691360deb1"
    },
    {
      "cell_type": "code",
      "execution_count": 8,
      "metadata": {},
      "outputs": [],
      "source": [
        "%%stata\n",
        "\n",
        "regress logearnings female"
      ],
      "id": "e52f04f7"
    },
    {
      "cell_type": "markdown",
      "metadata": {},
      "source": [
        "We remember from [Module\n",
        "11](https://comet.arts.ubc.ca/docs/Research/econ490-pystata/11_Linear_Reg.html)\n",
        "that “\\_cons” is the constant $β_0$, and we know that here\n",
        "$β_0 = E[logearnings_{i}|female_{i}=0]$. Therefore, the results of this\n",
        "regression suggest that, on average, males have log-earnings of 10.8. We\n",
        "also know from the [Module\n",
        "11](https://comet.arts.ubc.ca/docs/Research/econ490-pystata/11_Linear_Reg.html)\n",
        "that\n",
        "\n",
        "$$\n",
        "\\beta_1 = E[logearnings_{i}|female_{i}=1]- E[logearnings_{i}|female_{i}=0].\n",
        "$$\n",
        "\n",
        "The regression results here suggest that female-identified persons earn\n",
        "on average 0.55 less than male-identified persons. As a result,\n",
        "female-identified persons earn on average 10.8 - 0.55 = 10.25.\n",
        "\n",
        "In other words, the coefficient on the female variable shows the mean\n",
        "difference in log-earnings relative to males. $\\hat{β}_1$ thus provides\n",
        "the measure of the raw gender gap.\n",
        "\n",
        "**Note:** We are only able to state this result because the p-value for\n",
        "both $\\hat{β}_0$ and $\\hat{β}_1$ is less than 0.05, allowing us to\n",
        "reject the null hypothesis that $β_0 = 0$ and $β_1 = 0$ at 95%\n",
        "confidence level.\n",
        "\n",
        "The interpretation remains the same once we control for more variables,\n",
        "although it is *ceteris paribus* the other observables now also included\n",
        "in the regression. An example is below."
      ],
      "id": "27cf2f30-1d02-4aef-85c5-0434a9b52a7b"
    },
    {
      "cell_type": "code",
      "execution_count": 9,
      "metadata": {},
      "outputs": [],
      "source": [
        "%%stata\n",
        "\n",
        "regress logearnings female age "
      ],
      "id": "b29358cf"
    },
    {
      "cell_type": "markdown",
      "metadata": {},
      "source": [
        "In this case, among people that are the same age (i.e., holding *age*\n",
        "constant), the gender gap is (not surprisingly) slightly smaller than in\n",
        "our previous regression. That is expected, since previously we compared\n",
        "all females to all males, irrespective of the composition of age groups\n",
        "in those two categories of workers. As we control for age, we can see\n",
        "that the effect of *sex* decreases.\n",
        "\n",
        "## 13.3 Dummy Variables with Multiple Categories\n",
        "\n",
        "In this data set, we also have a *region* variable that has 5 different\n",
        "regions. As we saw in [Module\n",
        "6](https://comet.arts.ubc.ca/docs/Research/econ490-stata/06_Creating_Variables.html),\n",
        "we can create dummies for each category using `tabulate`.\n",
        "\n",
        "First, we `tabulate` the categorical variable we want to make into a set\n",
        "of dummies, and then we `generate` five new dummy variables for the 5\n",
        "regions represented in the data."
      ],
      "id": "3d86e4e7-aa56-4326-9277-f91fc8fc7493"
    },
    {
      "cell_type": "code",
      "execution_count": 10,
      "metadata": {},
      "outputs": [],
      "source": [
        "%%stata\n",
        "\n",
        "tabulate region, generate(regdummy)"
      ],
      "id": "6723ffc9"
    },
    {
      "cell_type": "markdown",
      "metadata": {},
      "source": [
        "Notice that the sum of the five dummies in any row is equal to 1. This\n",
        "is because every worker is located in only one region. If we included\n",
        "all of the regional dummies in a regression, we would introduce the\n",
        "problem of **perfect collinearity**: the full set of our dummy variables\n",
        "are perfectly correlated with one another. Think about it this way - if\n",
        "a person is in region 1 (*regdummy1* = 1), then we know that that person\n",
        "is not in region 2 (*regdummy2* = 0). Therefore being in region 1\n",
        "perfectly predicts **not** being in region 2.\n",
        "\n",
        "We must always exclude one of the dummies. Failing to do so means\n",
        "falling into the **dummy variable trap** of perfect collinearity\n",
        "described above. Essentially, if we include all of the five dummy\n",
        "variables, the fifth one will not add any new information. This is\n",
        "because, using the four other dummies, we can perfectly deduce whether a\n",
        "person is in region 5 (*regdummy5* = 1). To avoid this, we have to\n",
        "choose one region to serve as a base level for which we will not define\n",
        "a dummy. This dummy variable that we exclude will be the category of\n",
        "reference, or base level, when interpreting coefficients in the\n",
        "regression. This means that the coefficient on each region dummy\n",
        "variable will be comparing the mean earnings of people in that region to\n",
        "the mean earnings of people in the one region excluded.\n",
        "\n",
        "We have actually already seen this approach in action in the first\n",
        "regression we ran above; there, we didn’t add a separate dummy variable\n",
        "for “male”. Instead, we excluded the male dummy variable and interpreted\n",
        "the coefficient on *female* as the difference between female and male\n",
        "log-earnings.\n",
        "\n",
        "The easiest way to include multiple categories in a regression in Stata\n",
        "is to write the list of variables using the notation `i.variable`.\n",
        "Including this tells Stata to automatically drop one of the dummies. As\n",
        "we can see, Stata drops the first region dummy (*region* = 1) and\n",
        "includes dummy variables for the regions 2 - 5. In this way, Stata\n",
        "automatically helps us avoid the dummy variable trap!"
      ],
      "id": "408fcaaf-118c-456b-978c-fa58c7370e51"
    },
    {
      "cell_type": "code",
      "execution_count": 11,
      "metadata": {},
      "outputs": [],
      "source": [
        "%%stata\n",
        "\n",
        "regress logearnings i.region"
      ],
      "id": "c03cb2fa"
    },
    {
      "cell_type": "markdown",
      "metadata": {},
      "source": [
        "We might not want the first region to be our reference category. In\n",
        "fact, we will often want to control which dummy variable is selected as\n",
        "the reference or base level category. If that is the case, we first have\n",
        "to control the reference dummy variable using the command `fvset base`,\n",
        "which uses the following syntax: `fvset base value_of_base base_var`. We\n",
        "do this below by setting the base level category to be region 3."
      ],
      "id": "e4999298-f626-4f0d-8a7e-d558117153ad"
    },
    {
      "cell_type": "code",
      "execution_count": 12,
      "metadata": {},
      "outputs": [],
      "source": [
        "%%stata\n",
        "\n",
        "fvset base 3 region "
      ],
      "id": "84480db1"
    },
    {
      "cell_type": "markdown",
      "metadata": {},
      "source": [
        "When we run the regression below, the reference is now region 3 and not\n",
        "region 1."
      ],
      "id": "696ca271-4ff2-45b3-9273-3fada55096e9"
    },
    {
      "cell_type": "code",
      "execution_count": 13,
      "metadata": {},
      "outputs": [],
      "source": [
        "%%stata\n",
        "\n",
        "regress logearnings i.region"
      ],
      "id": "03f44ec0"
    },
    {
      "cell_type": "markdown",
      "metadata": {},
      "source": [
        "Of course, we could also create a new `global` that includes all of the\n",
        "dummy variables, and place that directly in the regression, as we\n",
        "learned in [Module\n",
        "4](https://comet.arts.ubc.ca/docs/Research/econ490-pystata/04_Locals_and_Globals.html).\n",
        "Here is an example of what that would look like:"
      ],
      "id": "74179f8b-e694-440b-afef-68b80a198318"
    },
    {
      "cell_type": "code",
      "execution_count": 14,
      "metadata": {},
      "outputs": [],
      "source": [
        "%%stata\n",
        "\n",
        "global regiondummies \"regdummy1 regdummy2 regdummy4 regdummy5\"\n",
        "reg logearnings ${regiondummies}"
      ],
      "id": "7e62ee4c"
    },
    {
      "cell_type": "markdown",
      "metadata": {},
      "source": [
        "When interpreting the coefficients in the regression above, our\n",
        "intercept is again the mean log-earnings among those in the base level\n",
        "category, i.e. those for which all dummies in the regression are 0;\n",
        "here, that is the mean log-earnings for all people in region 3. Each\n",
        "individual coefficient gives the difference in average log-earnings\n",
        "among people in that region and in region 3. For instance, the mean\n",
        "log-earnings in region 1 are about 0.012 higher than in region 3 and the\n",
        "mean log-earnings in region 2 are about 0.017 lower than in region 3.\n",
        "Both of these differences are statistically significant at a high level\n",
        "(\\> 99%).\n",
        "\n",
        "We can also use this logic of interpretation to compare mean\n",
        "log-earnings between the non-reference groups. For example, the meaning\n",
        "log-earnings in region 3 are given by the intercept coefficient: about\n",
        "10.49. Since the mean log-earnings in region 1 are about 0.012 higher\n",
        "than this, they must be about 10.49 + 0.012 = 10.502. In region 2, the\n",
        "mean log-earnings are about 10.49 - 0.017 = 10.473. We can thus conclude\n",
        "that the mean log-earnings in region 1 are about 10.502 - 10.473 = 0.029\n",
        "higher than in region 2. In this way, we compared the levels of the\n",
        "dependent variable for 2 dummy variables, neither of which are in the\n",
        "reference group excluded from the regression. We could have much more\n",
        "quickly compared the levels of these groups by comparing their\n",
        "deviations from the base group. Region 1 has mean log-earnings about\n",
        "0.012 above the reference level, while region 2 has mean log-earnings\n",
        "about 0.017 below this same reference level; thus, region 1 has mean\n",
        "log-earnings about 0.012 - (-0.017) = 0.029 above region 2.\n",
        "\n",
        "### 13.3.1 Dummy Variables with *Many* Multiple Categories\n",
        "\n",
        "In some projects, it may happen that a variable has many different\n",
        "categories. This issue is often referred to as *high-dimensional fixed\n",
        "effects*. Going back to our fictional dataset, imagine the case where we\n",
        "have data for all workers in the United States and we know the\n",
        "municipality in which they work. If that was the case, the variable\n",
        "*municipality* would take roughly 19,000 different values. To see how\n",
        "earnings vary by municipality, we would have to create 19,000-1 dummy\n",
        "variables. Using the approach described above would work in principle,\n",
        "but in practice it would require substantial computing power.\n",
        "\n",
        "What can we do then?\n",
        "\n",
        "Luckily for us, there is a package that deals exactly with this issue.\n",
        "The package is called `reghdfe` and needs to be installed with the\n",
        "command `ssc install reghdfe`.\n",
        "\n",
        "Using the package is very easy. The syntax is\n",
        "`reghdfe depvar indepvars, absorb(fixedeffects)`, where *depvar* is our\n",
        "dependent variable of interest, *indepvar* is a list of explanatory\n",
        "variables, and *fixedeffects* is a list of variables for which we would\n",
        "like to create dummies.\n",
        "\n",
        "To see how it works in practice, let’s say we want to study how earnings\n",
        "change with age for all regions. The code would then be\n",
        "`reghdfe logearnings age, absorb(region)`."
      ],
      "id": "902b763b-6af9-4566-8a43-dcc7151239b5"
    },
    {
      "cell_type": "code",
      "execution_count": 15,
      "metadata": {},
      "outputs": [],
      "source": [
        "%%stata\n",
        "\n",
        "* Install reghdfe\n",
        "ssc install reghdfe"
      ],
      "id": "dba7bc00"
    },
    {
      "cell_type": "code",
      "execution_count": 16,
      "metadata": {},
      "outputs": [],
      "source": [
        "%%stata\n",
        "\n",
        "* Estimate the model\n",
        "reghdfe logearnings age, absorb(region)"
      ],
      "id": "4083551f"
    },
    {
      "cell_type": "markdown",
      "metadata": {},
      "source": [
        "In practice, using `reghdfe` is equivalent to asking Stata to create\n",
        "four dummy variables for *region* and use them as additional explanatory\n",
        "variables. As a matter of fact,\n",
        "`reghdfe logearnings age, absorb(region)` produces the same results as\n",
        "`reg logearnings age i.region`. You can check it by running the code\n",
        "below. Notice that by default `reghdfe` suppresses the coefficients\n",
        "associated to each dummy variable for *region*."
      ],
      "id": "32262133-ba18-4599-9cc7-516da9e3857b"
    },
    {
      "cell_type": "code",
      "execution_count": 17,
      "metadata": {},
      "outputs": [],
      "source": [
        "%%stata\n",
        "\n",
        "regress logearnings age i.region"
      ],
      "id": "1dcfe223"
    },
    {
      "cell_type": "markdown",
      "metadata": {},
      "source": [
        "## 13.4 Interactions\n",
        "\n",
        "It is an established fact that a wage gap exists between male and female\n",
        "workers. However, it is possible that the wage gap changes depending on\n",
        "the age of the workers. For example, female and male high school\n",
        "students tend to work minimum wage jobs; hence, we might believe that\n",
        "the wage gap between people within the 15-18 age bracket is very small.\n",
        "Conversely, once people have the experience to start looking for better\n",
        "paying jobs, we might believe the wage gap starts to increase, meaning\n",
        "that this gap might be much larger in higher age brackets. The way to\n",
        "capture that differential effect of age across males and females is to\n",
        "create a new variable that is the product of the female dummy and age.\n",
        "\n",
        "**Warning:** Whenever we do this, it is **very important** that we also\n",
        "include both the female dummy and age as control variables.\n",
        "\n",
        "To run this in Stata, categorical variables must be preceded by `i.`,\n",
        "continuous variables must be preceded by `c.`, and terms are interacted\n",
        "with the `##` symbol. For our example, we have the categorical variable\n",
        "`i.female` interacted with continuous variable `c.age`. Including `##`\n",
        "for the interaction automatically includes the female dummy and age as\n",
        "control variables. The regression looks like this:"
      ],
      "id": "251a3171-5854-4ece-a4ea-398708edf2df"
    },
    {
      "cell_type": "code",
      "execution_count": 18,
      "metadata": {},
      "outputs": [],
      "source": [
        "%%stata\n",
        "\n",
        "regress logearnings i.female##c.age"
      ],
      "id": "773123ad"
    },
    {
      "cell_type": "markdown",
      "metadata": {},
      "source": [
        "Notice that Stata automatically includes the female and age variables as\n",
        "dummy variables for controls when we write the interaction using `##`.\n",
        "From the coefficient on *female*, we can see that, on average, people\n",
        "who are identified as female earn about 0.27 less than those identified\n",
        "as male, holding age constant. We can also see, from the coefficient on\n",
        "*age*, that each additional year of age increases log-earnings by about\n",
        "0.013 for the reference category (males). Looking at the coefficient on\n",
        "our interaction term, this effect of age on log-earnings is lower for\n",
        "females by 0.007, meaning that an extra year of age increases\n",
        "log-earnings for women by about 0.013 + (-0.007) = 0.006. It thus seems\n",
        "that our theory is correct: the wage gap between males and females of\n",
        "the same age increases as they get older. For men and women who are both\n",
        "20, an extra year will be associated with the man earning a bit more\n",
        "than the woman on average. However, if the man and woman are both 50, an\n",
        "extra year will be associated with the man earning much more than the\n",
        "woman on average (or at least out-earning her by much more than before).\n",
        "We can also see from the statistical significance of the coefficient on\n",
        "our interaction term that it was worth including!\n",
        "\n",
        "Try this yourself below with the set of region dummies we created above.\n",
        "Think about what these results mean."
      ],
      "id": "70c0e793-3463-4ea8-9675-9e5304c3104c"
    },
    {
      "cell_type": "code",
      "execution_count": 19,
      "metadata": {},
      "outputs": [],
      "source": [
        "%%stata\n",
        "\n",
        "regress logearnings i.female##i.region"
      ],
      "id": "087e7172"
    },
    {
      "cell_type": "markdown",
      "metadata": {},
      "source": [
        "## 13.5 Wrap Up\n",
        "\n",
        "There are very few empirical research projects using micro data that do\n",
        "not require researchers to use dummy variables. Important qualitative\n",
        "measures such as marital status, immigration status, occupation,\n",
        "industry, and race always require that we use dummy variables. Other\n",
        "important variables such as education, income, age and number of\n",
        "children often require us to use dummy variables even when they are\n",
        "sometimes measured using ranked categorical variables. For example, we\n",
        "could have a variable that measures years of education which is included\n",
        "as a continuous variable. However, we might instead want to include a\n",
        "variable that indicates if the person has a university degree. If that\n",
        "is the case, we can just use `generate` to create a dummy variable\n",
        "indicating that specific level of education!\n",
        "\n",
        "Even empirical research projects that use macro data sometimes require\n",
        "that we use dummy variables. For example, we might have a data set that\n",
        "measures macro variables for African countries with additional\n",
        "information about historic colonization. We might want to create a dummy\n",
        "variable that indicates the origin of the colonizers, and then include\n",
        "that in our analysis to understand that effect. As another example, we\n",
        "might have a time series data set and want to indicate whether or not a\n",
        "specific policy was implemented in a certain time period. We will need a\n",
        "dummy variable for that, and can include it in our analysis using the\n",
        "same process described above. Finally, we can use interaction terms to\n",
        "capture the effect of one variable on another if we believe that it\n",
        "varies between groups. If the coefficient on this interaction term is\n",
        "statistically significant, it can justify this term’s inclusion in our\n",
        "regression. This impacts our interpretation of coefficients in the\n",
        "regression.\n",
        "\n",
        "Try this yourself with any data set that you have downloaded in Stata.\n",
        "You will find that this approach is not complicated, but has the power\n",
        "to yield meaningful results!\n",
        "\n",
        "## 13.6 Wrap-up Table\n",
        "\n",
        "| Command | Function |\n",
        "|----------------------------------|--------------------------------------|\n",
        "| `reg depvar indepvar i.var` | It adds dummy variables for multiple categories of the categorical variable *var* in a regression. |\n",
        "| `reghdfe depvar indepvar, absorb(vars)` | It adds dummy variables for multiple categories of variables *vars*. It is particularly efficient when *vars* takes on many different values. |\n",
        "| `reg depvar var1#var2` | It adds an interaction term between variables *var1* and *var2* in a regression. If we do this, we must include *var1* and *var2* as controls in the regression. |\n",
        "| `reg depvar var1##var2` | It adds the interaction between *var1* and *var2* as well as *var1* and *var2* themselves to the regression. `reg depvar var1##var2` is the same as `reg depvar var1 var2 var1#var2`. |\n",
        "\n",
        "## References\n",
        "\n",
        "[Use factor variables in Stata to estimate interactions between two\n",
        "categorical variables](https://www.youtube.com/watch?v=f-tLLX8v11c)"
      ],
      "id": "b8a32f67-f0a4-4a06-a7ca-233aa8e8410e"
    }
  ],
  "nbformat": 4,
  "nbformat_minor": 5,
  "metadata": {
    "kernelspec": {
      "name": "python3",
      "display_name": "Python 3 (ipykernel)",
      "language": "python",
      "path": "/usr/local/share/jupyter/kernels/python3"
    },
    "language_info": {
      "name": "python",
      "codemirror_mode": {
        "name": "ipython",
        "version": "3"
      },
      "file_extension": ".py",
      "mimetype": "text/x-python",
      "nbconvert_exporter": "python",
      "pygments_lexer": "ipython3",
      "version": "3.10.12"
    }
  }
}