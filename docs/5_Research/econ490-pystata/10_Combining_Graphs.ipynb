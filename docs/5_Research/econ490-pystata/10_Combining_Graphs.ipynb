{
  "cells": [
    {
      "cell_type": "markdown",
      "metadata": {},
      "source": [
        "# 10 - Combining Graphs\n",
        "\n",
        "Marina Adshade, Paul Corcuera, Giulia Lo Forte, Jane Platt  \n",
        "2024-05-29\n",
        "\n",
        "## Prerequisites\n",
        "\n",
        "1.  Be able to effectively use Stata do-files and generate log-files.\n",
        "2.  Be able to change your directory so that Stata can find your files.\n",
        "3.  Import datasets in .csv and .dta format.\n",
        "4.  Save data files.\n",
        "5.  Use the command `twoway`.\n",
        "\n",
        "## Learning Outcomes\n",
        "\n",
        "1.  Know how to combine and save graphs using the commands\n",
        "    `graph combine` and `graph export`.\n",
        "\n",
        "## 10.0 Intro\n",
        "\n",
        "**Note:** The best approach to completing this module is to copy and\n",
        "paste these commands into a do-file in Stata. Because Stata produces\n",
        "graphs in a separate window, Jupyter Notebooks will not produce a graph\n",
        "that we can see when we execute the commands on this page. The most we\n",
        "can do is export image files to a directory on our computer. We will see\n",
        "these commands whenever a graph is produced below.\n",
        "\n",
        "We’ll continue working with the fake data set we have been using as we\n",
        "work on developing our research skills. Recall that this data set is\n",
        "simulating information for workers in the years 1982-2012 in a fake\n",
        "country where a training program was introduced in 2003 to boost their\n",
        "earnings."
      ],
      "id": "abb13fb2-49b6-4c88-846d-52230aa62240"
    },
    {
      "cell_type": "code",
      "execution_count": 1,
      "metadata": {},
      "outputs": [],
      "source": [
        "import stata_setup\n",
        "stata_setup.config('C:\\Program Files\\Stata18/','se')"
      ],
      "id": "ab2f7061"
    },
    {
      "cell_type": "code",
      "execution_count": 2,
      "metadata": {},
      "outputs": [],
      "source": [
        ">>> import sys\n",
        ">>> sys.path.append('/Applications/Stata/utilities') # make sure this is the same as what you set up in Module 01, Section 1.3: Setting Up the STATA Path\n",
        ">>> from pystata import config\n",
        ">>> config.init('se')"
      ],
      "id": "543fb9f3"
    },
    {
      "cell_type": "code",
      "execution_count": 3,
      "metadata": {},
      "outputs": [],
      "source": [
        "%%stata\n",
        "\n",
        "use fake_data, clear "
      ],
      "id": "f77399d1"
    },
    {
      "cell_type": "markdown",
      "metadata": {},
      "source": [
        "In this module, we will we will work on two examples. The first example\n",
        "covers combining two graphs with the same schema, while the second\n",
        "covers combining two graphs with different schemas. It will soon be very\n",
        "clear what we mean by *schema*.\n",
        "\n",
        "## 10.1 Example 1\n",
        "\n",
        "For this example, we want to generate two graphs with the same schema\n",
        "(they are the same type of graph and use the same variables as their x\n",
        "and y axis) and combine them using the `graph combine` command. Let’s\n",
        "begin by setting up the data. We are going to first generate a new\n",
        "variable that shows the logarithm of workers’ earnings. As explained in\n",
        "previous modules, collapsing data is irreversible; therefore, we can\n",
        "`preserve` the data set before we collapse it. Then, once we don’t want\n",
        "to use the collapsed version of the data set anymore, we can `restore`\n",
        "it back to the original data set we preserved. Therefore, we are going\n",
        "to preserve our data set and then collapse it by variables `treated` and\n",
        "`year`. This way our data has two unique identifiers, `treated` and\n",
        "`year`."
      ],
      "id": "6cca457a-ca35-43a9-b765-c4e47a7274f9"
    },
    {
      "cell_type": "code",
      "execution_count": 4,
      "metadata": {},
      "outputs": [],
      "source": [
        "%%stata\n",
        "\n",
        "generate log_earnings = log(earnings)\n",
        "label var log_earnings \"Log-earnings\"\n",
        "\n",
        "preserve\n",
        "\n",
        "collapse (mean) log_earnings, by(region treated year)"
      ],
      "id": "bdb9d2c1"
    },
    {
      "cell_type": "markdown",
      "metadata": {},
      "source": [
        "Now that we have our data prepared, we can start generating the two\n",
        "graphs and combining them using the `graph combine` command. We want\n",
        "these graphs to compare log-earnings between the control and treated\n",
        "groups in regions 1 and 2. To do this, we can create one graph that\n",
        "compares log-earnings between control and treated groups in region 1 and\n",
        "another that does the same comparison for region 2.\n",
        "\n",
        "Note that because the commands are so long it is clearer for us to break\n",
        "them up and run them using `///`. We can’t execute multi-line commands\n",
        "in the Command Window; so we will need to include them in a do-file.\n",
        "Note that we also indent the lines to make it easier to read the\n",
        "complete command."
      ],
      "id": "991738dd-f745-4933-a0f6-8cccd03dd67b"
    },
    {
      "cell_type": "code",
      "execution_count": 5,
      "metadata": {},
      "outputs": [],
      "source": [
        "%%stata\n",
        "\n",
        "*** Generate graph for Region 1 ***\n",
        "\n",
        "twoway (connected log_earnings year if region==?? & treated==1)      /// can you think of another way to specify treated vs untreated?\n",
        "    (connected log_earnings year if region==?? & treated==0),        ///\n",
        "        xline(2002, lpattern(dash))                                 /// \n",
        "        ylab(9.5(0.5)11)                                            ///\n",
        "        ytitle(\"Log-earnings\") xtitle(\"Year\")                       ///\n",
        "        legend( label(1 \"Treated\") label(2 \"Control\"))              ///\n",
        "        aspectratio(1)                                              ///\n",
        "        title(\"Region 1\") name(\"R1\", replace)"
      ],
      "id": "ee12684d"
    },
    {
      "cell_type": "code",
      "execution_count": 6,
      "metadata": {},
      "outputs": [],
      "source": [
        "%%stata\n",
        "\n",
        "*** Generate graph for Region 2 ***\n",
        "\n",
        "twoway (connected log_earnings year if region==?? & treated) ||      ///\n",
        "    (connected log_earnings year if region==?? & !treated),          ///\n",
        "        xline(2002, lpattern(dash))                                 ///\n",
        "        ylab(9.5(0.5)11)                                            ///\n",
        "        ytitle(\"Log-earnings\") xtitle(\"Year\")                       ///\n",
        "        legend( label(1 \"Treated\") label(2 \"Control\"))              ///\n",
        "        aspectratio(1)                                              ///\n",
        "        title(\"Region 2\") name(\"R2\", replace)"
      ],
      "id": "7b21ebdb"
    },
    {
      "cell_type": "markdown",
      "metadata": {},
      "source": [
        "We added a number of options here to make the graphs look appealing. You\n",
        "can learn more about these options in [Module\n",
        "9](https://comet.arts.ubc.ca/docs/Research/econ490-pystata/09_Stata_Graphs.html).\n",
        "\n",
        "Now let’s see what it looks like when we combine these graphs together\n",
        "into one panel. The syntax for `graph combine` goes as follows:\n",
        "`graph combine name_of_graph1 name_of_graph2 ..., [options]`, where the\n",
        "`[options]` describe how we want to position our graphs. More\n",
        "information can be found by running `help graph combine` in the Stata\n",
        "Command Cindow."
      ],
      "id": "839f47c6-de2d-4059-9d97-6e2aa9a53e32"
    },
    {
      "cell_type": "code",
      "execution_count": 7,
      "metadata": {},
      "outputs": [],
      "source": [
        "%%stata\n",
        "\n",
        "*** Combine graphs ***\n",
        "\n",
        "graph combine R1 R2, cols(2) title(\"Panel A: Log-earnings by Region\") saving(panel_a, replace)\n",
        "\n",
        "graph export graph10.jpg, as(jpg) replace"
      ],
      "id": "b2ca7eca"
    },
    {
      "cell_type": "markdown",
      "metadata": {},
      "source": [
        "<figure>\n",
        "<img src=\"attachment:img/panel_a.svg\" alt=\"Panel A\" />\n",
        "<figcaption aria-hidden=\"true\">Panel A</figcaption>\n",
        "</figure>\n",
        "\n",
        "## 10.2 Example 2\n",
        "\n",
        "For this example, we want to combine graphs that do not follow the same\n",
        "schema. Let’s say we are interested in seeing if there is any\n",
        "relationship between the distribution of earnings (*log_earnings*) and\n",
        "how worker’s earnings change over time in region 1. Which graphs do you\n",
        "think would best present this information?"
      ],
      "attachments": {
        "img/panel_a.svg": {
          "image/svg+xml": "PD94bWwgdmVyc2lvbj0iMS4wIiBlbmNvZGluZz0iVVRGLTgiIHN0YW5kYWxvbmU9Im5vIj8+Cjwh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\nCg==\n"
        }
      },
      "id": "54302c51-570d-437d-be7f-ca90644a8a21"
    },
    {
      "cell_type": "code",
      "execution_count": 8,
      "metadata": {},
      "outputs": [],
      "source": [
        "%%stata\n",
        "\n",
        "restore       // do you remember what restore does?        "
      ],
      "id": "f4ad1a4a"
    },
    {
      "cell_type": "code",
      "execution_count": 9,
      "metadata": {},
      "outputs": [],
      "source": [
        "%%stata\n",
        "\n",
        "histogram log_earnings if region==1,   ///\n",
        "    aspectratio(1)                     ///\n",
        "    name(\"histogram1\", replace)"
      ],
      "id": "e9848dfc"
    },
    {
      "cell_type": "markdown",
      "metadata": {},
      "source": [
        "Let’s create our second graph."
      ],
      "id": "3f22486c-d8ce-450e-a504-0c85d2222d7f"
    },
    {
      "cell_type": "code",
      "execution_count": 10,
      "metadata": {},
      "outputs": [],
      "source": [
        "%%stata\n",
        "\n",
        "preserve              \n",
        "\n",
        "collapse (mean) log_earnings, by(region year)"
      ],
      "id": "742ac873"
    },
    {
      "cell_type": "code",
      "execution_count": 11,
      "metadata": {},
      "outputs": [],
      "source": [
        "%%stata\n",
        "\n",
        "twoway (connected log_earnings year if region==1), ///\n",
        "    ytitle(\"Log-earnings\") xtitle(\"Year\")        ///\n",
        "    aspectratio(1)                               ///\n",
        "    name(\"plot1\", replace)"
      ],
      "id": "8708ec3e"
    },
    {
      "cell_type": "markdown",
      "metadata": {},
      "source": [
        "Now we combine `histogram1` with `plot1`."
      ],
      "id": "bb6fc709-6ddc-4c5a-bb8c-164ede2068c9"
    },
    {
      "cell_type": "code",
      "execution_count": 12,
      "metadata": {},
      "outputs": [],
      "source": [
        "%%stata\n",
        "\n",
        "graph combine histogram1 plot1, cols(2) title(\"Region 1\") name(newcombine, replace)\n",
        "\n",
        "graph export graph10.jpg, as(jpg) replace"
      ],
      "id": "11a4287a"
    },
    {
      "cell_type": "markdown",
      "metadata": {},
      "source": [
        "## 10.3 Wrap Up\n",
        "\n",
        "In this module we learned how to use the command `graph combine`. When\n",
        "producing a research paper we might want to compare statistics from\n",
        "different countries or different regions such as GDP, population\n",
        "density, inflation, exports, etc. These types of graphs allow us to see\n",
        "how the same variables diverge between different categories (for example\n",
        "how earnings diverge between region 1 and 2 in ex. 1) and also can show\n",
        "the relationship between different variables throughout one.\n",
        "Understanding which graphs to use and how to portray them is of extreme\n",
        "importance when building a research project, which is why working\n",
        "alongside the `twoway` and `graph combine` documentation is always of\n",
        "great value.\n",
        "\n",
        "## 10.4 Wrap-up Table\n",
        "\n",
        "| Command | Function |\n",
        "|--------------------------------|----------------------------------------|\n",
        "| `graph combine` | It combines two graphs with the same or different schemas. |\n",
        "| `graph export` | It exports graphs to a local folder. |\n",
        "\n",
        "## References\n",
        "\n",
        "[Getting started in stata (includes\n",
        "graphing)](https://www.youtube.com/watch?v=YAVq99iUTTI) <br> [(Non\n",
        "StataCorp) Combining graphs in\n",
        "Stata](https://www.youtube.com/watch?v=GN9Jh7ZLauI)"
      ],
      "id": "6f741905-a821-4bab-a73d-d2edec87081a"
    }
  ],
  "nbformat": 4,
  "nbformat_minor": 5,
  "metadata": {
    "kernelspec": {
      "name": "python3",
      "display_name": "Python 3 (ipykernel)",
      "language": "python",
      "path": "/usr/local/share/jupyter/kernels/python3"
    },
    "language_info": {
      "name": "python",
      "codemirror_mode": {
        "name": "ipython",
        "version": "3"
      },
      "file_extension": ".py",
      "mimetype": "text/x-python",
      "nbconvert_exporter": "python",
      "pygments_lexer": "ipython3",
      "version": "3.10.12"
    }
  }
}