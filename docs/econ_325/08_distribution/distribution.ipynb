{
  "cells": [
    {
      "cell_type": "markdown",
      "metadata": {},
      "source": [
        "# 08 - ECON 325: Distributions\n",
        "\n",
        "COMET Team <br> *Valeria Zolla, Colby Chambers, Jonathan Graves*  \n",
        "12/01/2023\n",
        "\n",
        "## Outline\n",
        "\n",
        "### Prerequisites\n",
        "\n",
        "-   Introduction to Jupyter\n",
        "-   Introduction to R\n",
        "-   Introduction to Visualization\n",
        "-   Central Tendency\n",
        "\n",
        "### Outcomes\n",
        "\n",
        "After completing this notebook, you will be able:\n",
        "\n",
        "-   Understand and work with Probability Density Functions (PDFs) and\n",
        "    Cumulative Density Functions (CDF)\n",
        "-   Use tables to find joint, marginal, and conditional probabilities\n",
        "-   Interpret uniform, normal, and $t$ distributions\n",
        "\n",
        "### References\n",
        "\n",
        "-   [Introduction to Probability and Statistics Using\n",
        "    R](https://mran.microsoft.com/snapshot/2018-09-28/web/packages/IPSUR/vignettes/IPSUR.pdf)\n",
        "\n",
        "# Introduction\n",
        "\n",
        "This notebook will explore in detail the concept of distributions, both\n",
        "in terms of their functional forms for probability and how they are\n",
        "representative of different sets of data. This notebook aims to help us\n",
        "develop a deeper understanding of statistics from the perspective of\n",
        "data spread. Let’s first load our reliable friend, the 2016 Census from\n",
        "Statistics Canada, which we will consult throughout this lesson."
      ],
      "id": "d020f36a-94f6-46e0-b46c-c4386edad2ad"
    },
    {
      "cell_type": "code",
      "execution_count": null,
      "metadata": {},
      "outputs": [],
      "source": [
        "# loading in our packages\n",
        "library(tidyverse)\n",
        "library(haven)\n",
        "library(digest)\n",
        "\n",
        "source(\"testing_distribution.r\")"
      ],
      "id": "dc1ef0e6-acf2-416e-afac-07a790c0581c"
    },
    {
      "cell_type": "code",
      "execution_count": null,
      "metadata": {},
      "outputs": [],
      "source": [
        "# reading in the data\n",
        "\n",
        "census_data <- read_dta(\"../datasets/01_census2016.dta\")\n",
        "\n",
        "# cleaning up factors\n",
        "census_data <- as_factor(census_data)\n",
        "\n",
        "# cleaning up missing data\n",
        "census_data <- filter(census_data, !is.na(census_data$wages))\n",
        "census_data <- filter(census_data, !is.na(census_data$mrkinc))\n",
        "\n",
        "# inspecting the data\n",
        "glimpse(census_data)"
      ],
      "id": "95bb0193-7977-46bc-b72a-51ec002fb091"
    },
    {
      "cell_type": "markdown",
      "metadata": {},
      "source": [
        "Now that we have our data set ready on stand-by for analysis, let’s\n",
        "start looking at distributions as a concept more generally.\n",
        "\n",
        "# Part 1: Distribution Functions - The Basics\n",
        "\n",
        "Let’s begin with a quick review of some basic ideas from probability\n",
        "theory.\n",
        "\n",
        "## What is a Probability?\n",
        "\n",
        "When working with data, the **probability** of seeing a particular piece\n",
        "of data take on a certain set of values (called an **event**) is the\n",
        "**likelihood** of those values occurring. When the possible values are\n",
        "discrete (e.g. `1,2,3` or `adult, child`), we refer to this as the\n",
        "**frequency**. When the possible values are continuous (e.g. any number\n",
        "between `0.5` and `3.75`), we refer to this as the **density**. We learn\n",
        "a little bit more about this later in this notebook.\n",
        "\n",
        "There is a difference between *population* probabilities and *empirical*\n",
        "or *sample* probabilities. Generally, when we talk about distributions\n",
        "we will be referring to *population* objects: but there are also sample\n",
        "versions as well, which are often easier to think about.\n",
        "\n",
        "For instance, let’s say we have a dataset with 5,000 observations and a\n",
        "variable called `birthmonth` which records the month of birth of every\n",
        "participant captured in the dataset. If 500 people in the data were born\n",
        "in October, then `birthmonth==\"October`” would have an *empirical*\n",
        "probability of occurring in an observation 10% of the time. We can’t be\n",
        "sure what the population probability would be, unless we knew more about\n",
        "the population.\n",
        "\n",
        "## What is a Random Variable?\n",
        "\n",
        "A **random variable** is a variable whose possible values are numerical\n",
        "outcomes of a random phenomenon, such as rolling a dice or surveys done\n",
        "to random people in certain locations at certain times. There are two\n",
        "types of random variables: discrete and continuous.\n",
        "\n",
        "-   A **discrete random variable** is one which may take on only a\n",
        "    finite number of distinct values. Examples of discrete random\n",
        "    variables include the options when you roll dice, the number of\n",
        "    children in a family, or the number of defective light bulbs in a\n",
        "    box of ten. A good example of a discrete random variable of the data\n",
        "    used in this notebook is the age group (`agegrp` in the data) of the\n",
        "    census participants as it can take only a finite number of distinct\n",
        "    values: 17 different categories to be exact.\n",
        "\n",
        "-   A **continuous random variable** is one which takes an infinite\n",
        "    number of possible values. We can commonly think of this variable as\n",
        "    being one that is *measured* rather than merely *categorized*.\n",
        "    Examples include height, weight, or how much people earn. In the\n",
        "    data, we can see that `wages` and `mrkinc` are great examples of\n",
        "    continuous random variables. They can take on an infinite number of\n",
        "    possible values.\n",
        "\n",
        "Now that we’ve learned some key terminology for describing variables and\n",
        "the values they can take on, we can work with distributions.\n",
        "\n",
        "## What is the Probability Distribution?\n",
        "\n",
        "A **probability distribution** refers to the pattern or arrangement of\n",
        "probabilities in a population. These are usually described as\n",
        "*functions*: the function takes in a possible event, then reports back\n",
        "the probability of that event occurring. As we explained above, there is\n",
        "a difference between *population* and *sample* distributions: \\* A\n",
        "*population* distribution (which is the typical way we describe these)\n",
        "describes population probabilities \\* An *empirical* or *sample*\n",
        "distribution reports describes empirical probabilities from within a\n",
        "particular sample\n",
        "\n",
        "It’s important to keep this difference in mind: from the perspective of\n",
        "statistical inference, we usually want to learn about the *population*\n",
        "distribution, but will use the *empirical* distribution to do so.\n",
        "\n",
        "Distribution functions come in several standard forms; let’s learn about\n",
        "them.\n",
        "\n",
        "# Probability Density Functions (PDFs)\n",
        "\n",
        "**Probability Density Functions** are also sometimes referred to as PDFs\n",
        "or probability mass functions. We usually use lower case letters like\n",
        "$f$ or $p$ to describe these functions.\n",
        "\n",
        "## 1. Discrete PDF:\n",
        "\n",
        "> ” The probability distribution of a discrete random variable is the\n",
        "> list of all possible values of the variable and their probabilities\n",
        "> which sum to 1.”\n",
        ">\n",
        "> \\- Econometrics with R\n",
        "\n",
        "In other words, a **Probability Density Function (PDF)** is the\n",
        "probability of occurrence of all the different values of a variable. The\n",
        "probability of occurrence is also called **density** or **frequency**.\n",
        "\n",
        "Suppose a random variable X may take k different values, with the\n",
        "probability that $X = x_{i}$ defined to be $P(X = x_{i}) = p_{i}$. The\n",
        "probabilities $p_{i}$ must satisfy the following:\n",
        "\n",
        "1.  For each i: $0<p_{i}<1$\n",
        "\n",
        "2.  $p_{1} + p_{2} + ... + p_{k} = 1$\n",
        "\n",
        "There are two different ways to view the empirical PDF of a discrete\n",
        "variable. The first way is by creating a frequency table."
      ],
      "id": "e2f719d4-908a-4cbf-8938-bd4faeb3c8e8"
    },
    {
      "cell_type": "code",
      "execution_count": null,
      "metadata": {},
      "outputs": [],
      "source": [
        "census_data0 <- filter(census_data, agegrp != \"not available\")\n",
        "sample_size <- nrow(census_data0) # number of observations\n",
        "table2 <- census_data0 %>% \n",
        "    group_by(agegrp) %>%\n",
        "    summarize(Count = n(),\n",
        "              Frequency = n()/sample_size*100) # creates two variables in our table\n",
        "\n",
        "table2"
      ],
      "id": "e4ab6b6a-3df2-4cdc-bcf9-4e0145508d49"
    },
    {
      "cell_type": "markdown",
      "metadata": {},
      "source": [
        "A second way to visualize an empirical PDF is by creating a graph.\n",
        "Because a PDF has a finite number of distinct values of which we measure\n",
        "their frequency, the typical format to express a categorical array such\n",
        "as a PDF is through a bar graph following what we learned in\n",
        "*Introduction to Visualization*."
      ],
      "id": "5dfa46ad-272e-47e5-a9c5-2391223dad5e"
    },
    {
      "cell_type": "code",
      "execution_count": null,
      "metadata": {},
      "outputs": [],
      "source": [
        "plot <- ggplot(data = table2,  # this declares the data for the chart; all variable names are in this data\n",
        "                aes(# this is a list of the aesthetic features of the chart\n",
        "                    x = agegrp,   # for example, the x-axis will be \"year\"\n",
        "                    y = Frequency # the y-axes will be expenditure-based real GDP per capita\n",
        "                ),\n",
        "                ) \n",
        "plot1 <- plot + geom_col() + \n",
        "    theme(axis.text.x = element_text(angle = 90, vjust = 0.5, hjust=1))\n",
        "\n",
        "plot1"
      ],
      "id": "4a4dd8b8-7974-4eb8-97eb-086faa113c3b"
    },
    {
      "cell_type": "markdown",
      "metadata": {},
      "source": [
        "# 2. Continuous PDF:\n",
        "\n",
        "> “Since a continuous random variable takes on a continuum of possible\n",
        "> values, we cannot use the concept of a probability distribution as\n",
        "> used for discrete random variables.”\n",
        ">\n",
        "> \\- Econometrics with R\n",
        "\n",
        "Unlike a discrete variable, a continuous random variable is not defined\n",
        "in specific values. Instead, it is defined over intervals of values, and\n",
        "is represented by the area under a curve (in calculus, this is the\n",
        "integral). The curve, which represents the probability function is also\n",
        "called a **density** curve and it must satisfy the following: 1. The\n",
        "curve has no negative values $p(x) > 0$ for all $x$ (there cannot be a\n",
        "negative probability of observing a value) 2. The total area under the\n",
        "curve is equal to 1\n",
        "\n",
        "Let’s imagine a random variable that can take any value over an interval\n",
        "of real numbers. The probability of observing values between $a$ and $b$\n",
        "is the area between the density curve and the area between $a$ and $b$:\n",
        "\n",
        "$$\n",
        "\\mathrm{P}(a \\le X \\le b) = \\left(\\int_{a}^{b} f(x) \\; dx\\right)\n",
        "$$\n",
        "\n",
        "Since the number of values which may be assumed by the random variable\n",
        "is infinite, the probability of observing any single value is equal to\n",
        "0.\n",
        "\n",
        "Therefore, to visualize a continuous PDF we commonly use graphs rather\n",
        "than tables and do not use bar graphs or scatterplots to visualize a\n",
        "continuous PDF. Because it is a continuous variable, we need to use a\n",
        "visualization type that allows for the entire continuum of possible\n",
        "values to be represented in the graph. As stated above, the probability\n",
        "of observing values between $a$ and $b$ is the area underneath the\n",
        "curve, therefore a continuous PDF should be visualized as a line graph.\n",
        "\n",
        "Suppose we would like to visualize a continuous empirical PDF for all\n",
        "wages between 25000 and 75000:"
      ],
      "id": "63fbf173-1f82-4e18-844e-0343e800d7b9"
    },
    {
      "cell_type": "code",
      "execution_count": null,
      "metadata": {},
      "outputs": [],
      "source": [
        "density <- density(census_data$wages)\n",
        "plot(density)\n",
        "\n",
        "# Telling R how to read our upper and lower bounds\n",
        "l <- min(which(density$x >= 25000))\n",
        "h <- max(which(density$x < 75000))\n",
        "\n",
        "# Visualizing our specified range in red \n",
        "polygon(c(density$x[c(l, l:h, h)]),\n",
        "        c(0, density$y[l:h], 0),\n",
        "        col = \"red\")"
      ],
      "id": "b5334010-3def-4eca-9a9f-6135dc060f5f"
    },
    {
      "cell_type": "markdown",
      "metadata": {},
      "source": [
        "# Cumulative Density Function (CDF)\n",
        "\n",
        "When we have a variable which is rankable, we can define a related\n",
        "object: the **Cumulative Density Function (CDF)**. The CDF for both\n",
        "discrete and continuous random variables is the probability that the\n",
        "random variable is less than or equal to a particular value. Naturally,\n",
        "this means that the CDF must necessarily be an increasing function.\n",
        "Think of the example of rolling a dice. $F(1)$ would indicate the the\n",
        "probability that a 1 was rolled. $F(2)$ would indicate the probability\n",
        "that a 2 **or lower** was rolled. Evidently, $F(2)$ would be greater\n",
        "than $F(1)$.\n",
        "\n",
        "Therefore, if we have a variable $X$ that can have take the value of $x$\n",
        "the CDF is is the probability that $X$ will take a value less than or\n",
        "equal to $x$. A CDF can only take values between 0 and 1: this is\n",
        "because the total probability that the random variable is less or equal\n",
        "to the biggest value of the variable is 100% or 1 while the probability\n",
        "that the random variable is less or equal to the smallest value of the\n",
        "variable is 0% or 0.\n",
        "\n",
        "If we use the lowercase $f(y)$ to represent the PDF of $y$, then by\n",
        "convention we use the uppercase $F(y)$ to represent the CDF of $y$.\n",
        "\n",
        "Mathematically, since $f_{X}(x)$ denotes the probability density\n",
        "function of $X$, then the probability that $X$ falls between $a$ and $b$\n",
        "where $a \\leq b$ is:\n",
        "\n",
        "$$\n",
        "\\mathrm{P}(a \\leq X \\leq b) = \\left(\\int_{a}^{b} f_{X}(x) \\; dx\\right)\n",
        "$$\n",
        "\n",
        "We know that the entire X variable falls between 2 values if the\n",
        "probability of x falling in between them is 1. Therefore $X$’s CDF curve\n",
        "is:\n",
        "\n",
        "$$\n",
        "\\mathrm{P}(−∞ \\le X \\le ∞) = \\left(\\int_{−∞}^{∞} f_{X}(x) \\; dx\\right) = 1\n",
        "$$\n",
        "\n",
        "Below we’ve used a scatterplot to visualize empirical CDF of the\n",
        "continuous variable `wages`. From the graph below we can tell that most\n",
        "people earn between 0-200000 as the probability of people’s wages being\n",
        "less than or equal to 200000 is over 80%."
      ],
      "id": "d97a6d10-fc98-41af-ba03-12b7590d133c"
    },
    {
      "cell_type": "code",
      "execution_count": null,
      "metadata": {},
      "outputs": [],
      "source": [
        "p <- ecdf(census_data$wages)\n",
        "\n",
        "# plot CDF\n",
        "plot(p)"
      ],
      "id": "5ed88572-123e-4855-a81a-db51b2929c1a"
    },
    {
      "cell_type": "markdown",
      "metadata": {},
      "source": [
        "# Joint Probability Distribution\n",
        "\n",
        "So far, we’ve looked at distributions for single random variables.\n",
        "However, we can also use distributions to analyze the probability of\n",
        "multiple random variables taking on certain values. Let’s say we have\n",
        "two random variables, $X$ and $Y$. The **joint distribution** is the\n",
        "probability distribution on all possible values that $X$ and $Y$ can\n",
        "take on.\n",
        "\n",
        "As an example, lets suppose both $X$ and $Y$ are discrete random\n",
        "variable which can take on values from 1-3, with the following joint\n",
        "probability table (X on vertical axis, and Y on horizontal):\n",
        "\n",
        "|     | 1   | 2   | 3   |\n",
        "|-----|-----|-----|-----|\n",
        "| 1   | 0   | 1/6 | 1/6 |\n",
        "| 2   | 1/6 | 0   | 1/6 |\n",
        "| 3   | 1/6 | 1/6 | 0   |\n",
        "\n",
        "Above, we’ve created a joint distribution for the two discrete random\n",
        "variables, $X$ and $Y$. Notice the probabilities will sum to 1, as some\n",
        "combination of both $X$ and $Y$ will always occur.\n",
        "\n",
        "Every joint distribution can be represented by a PDF and CDF, just like\n",
        "single random variables. The formal notation of a PDF for two jointly\n",
        "distributed random variables is below.\n",
        "\n",
        "$$f(x, y) = Prob (X = x, Y = y)$$\n",
        "\n",
        "where $f(x, y)$ is the joint probability density that the random\n",
        "variable $X$ takes on a value of $x$ and the random variable $Y$ takes\n",
        "on a value of $y$ simultaneously.\n",
        "\n",
        "The PDF for jointly distributed random variables would be, in this case,\n",
        "are the values recorded in the example table above. For example the PDF\n",
        "of an immigrant only speaking french $Prob(X=1, Y =2) = 1/6$.\n",
        "\n",
        "The CDF for jointly distributed random variables follows the exact same\n",
        "logic as with single variables as well. It just instead represents the\n",
        "probability of multiple variables taking on values less than those\n",
        "specified all at once. This is quite non-sensical for two discrete\n",
        "random variables such as `immstat` and `kol`, but we can imagine the CDF\n",
        "of two jointly distributed random variables being much more\n",
        "interpretable if both of those variables are continuous (i.e. `wages`\n",
        "and `mrkinc`). The formal notation of a CDF for two jointly distributed\n",
        "random variables is below.\n",
        "\n",
        "$$\n",
        "F(x, y) = Prob({X \\leq x}, {Y \\leq y})\n",
        "$$\n",
        "\n",
        "where $F(x, y)$ is the joint cumulative probability that the random\n",
        "variable $X$ takes on a value less than or equal to $x$ and the random\n",
        "variable $Y$ takes on a value less than or equal to $y$ simultaneously.\n",
        "\n",
        "# Marginal Probability Distribution\n",
        "\n",
        "If we add up all of the joint probabilities from the same row or the\n",
        "same column, we arrive at another concept known as the **marginal\n",
        "distribution**. This is essentially probability density function for\n",
        "each individual random variable. It gives the probability of one random\n",
        "variable taking on a series of different values, and it is found from\n",
        "utilizing the joint probabilities in our table above. We can represent\n",
        "the marginal probability density function as follows:\n",
        "\n",
        "$$\n",
        "f_{x}(x) = \\sum_{y} Prob(X = x, Y = y)\n",
        "$$\n",
        "\n",
        "where we sum across all possible joint probabilities of $X$ and $Y$ for\n",
        "a given value of $X$. Identical logic holds for the marginal probability\n",
        "density function of the random variable $Y$ as well.\n",
        "\n",
        "An example will make this more clear. If we wanted the marginal\n",
        "empirical probability distribution function of the $X$ random variable,\n",
        "we would need to find the marginal probability for all possible values\n",
        "of $X$.\n",
        "\n",
        "For $X=1$, the marginal probability is the sum of all joint\n",
        "probabilities in that corresponding row: 1/6 + 1/6 = 1/3\n",
        "\n",
        "# Conditional Probability Distribution\n",
        "\n",
        "The **conditional distribution** function gives us the probability of\n",
        "seeing a host of values for one random variable conditional on a\n",
        "specified value of another random variable, given the two random\n",
        "variables are jointly distributed.\n",
        "\n",
        "We can think about conditional probabilities mathematically. We will use\n",
        "the following formula to find the conditional probability density\n",
        "function:\n",
        "\n",
        "$$\n",
        "f(x | y) = \\frac {Prob ((X = x) \\bigcap (Y = y))} {Prob(Y = y)}\n",
        "$$\n",
        "\n",
        "where $f(x | y)$ represents the conditional probability that the random\n",
        "variable $X$ will take on a value of $x$ when the random variable of $Y$\n",
        "takes on a value of $y$. The $\\bigcap$ symbol simply represents the case\n",
        "that both $X$ = $x$ and $Y$ = $y$ simultaneously (a joint probability) -\n",
        "we can read this symbol as “given that”. One caveat to this equation is\n",
        "that the marginal probability that $Y = y$ must not be 0, else this\n",
        "conditional probability will be undefined.\n",
        "\n",
        "Let’s say we want to find the conditional probability of $X=1$ given\n",
        "$Y=2$. Recall the unconditional probability that $Y=1$ = 1/3. The\n",
        "conditional probability, given $Y=1$ will therefore be the probability\n",
        "of $X=1$ AND $Y=2$ divided by the probability that $Y=2$: (1/6) / (1/3)\n",
        "= 1/2.\n",
        "\n",
        "One important point to consider is that of **statistical independence of\n",
        "random variables**. Two random variables are independent if and only if\n",
        "their joint probability of occurrence equals the product of their\n",
        "marginal probabilities for all possible combinations of values of the\n",
        "random variables. In mathematical notation, this means that two random\n",
        "variables are statistically independent if and only if:\n",
        "\n",
        "$$\n",
        "f(x, y) = f_{x}(x) f_{y}(y)\n",
        "$$\n",
        "\n",
        "We can check for statistical independence of our jointly distributed\n",
        "random variables, $X$ and $Y$, quite quickly by consulting our table up\n",
        "above. Try to deduce whether these variables are independent yourself by\n",
        "multiplying combinations of marginal probabilities to see if they match\n",
        "the joint probability in the corresponding cell.\n",
        "\n",
        "Throughout these explanations, we have continually referred to the\n",
        "joint, marginal and conditional distribution of two discrete random\n",
        "variables; however, ***one or both of these variables can be\n",
        "continuous***. We focused on discrete random variables since they are\n",
        "much easier to represent in table format. Just imagine trying to create\n",
        "a table of joint probabilities for two jointly distributed continuous\n",
        "random variables: there would be near infinite cells, each of which\n",
        "would have a joint probability of about 0! Nonetheless, all of the same\n",
        "logic applies to continuous random variables. The only difference is\n",
        "that we often refer to mathematical formulas when finding the marginal\n",
        "and conditional probabily functions for these random variables, since\n",
        "their PDFs and CDFs can be represented by mathematical functions\n",
        "(provided they fit the mathematical conditions of a PDF we outlined\n",
        "earlier).\n",
        "\n",
        "One last important point to remember is that ***we can have more than\n",
        "two jointly distributed random variables***. We may want to represent\n",
        "the probability of 3, 4, or an even larger number of variables taking on\n",
        "certain values at once. While this is possible, it is not easy to\n",
        "represent graphically or in table format. That is why we have stuck to\n",
        "investigating two jointly distributed random variables in this notebook.\n",
        "However, you should keep this in mind as you progress in this course.\n",
        "\n",
        "Now is your turn to work on some exercises which will test your\n",
        "understanding of the material presented in this notebook!\n",
        "\n",
        "# Exercise 1\n",
        "\n",
        "Let the random variable $X$ denote the time (in hours) a person waits\n",
        "for their flight. This person can wait up to 2 hours for this flight.\n",
        "\n",
        "## Question 1\n",
        "\n",
        "Is $X$ a discrete or continuous random variable?"
      ],
      "id": "c6fd411f-771f-4154-8761-f3aa01392a1d"
    },
    {
      "cell_type": "code",
      "execution_count": null,
      "metadata": {},
      "outputs": [],
      "source": [
        "answer_1 <- \"...\" # your answer of \"discrete\" or \"continuous\" in place of ...\n",
        "\n",
        "test_1()"
      ],
      "id": "811ebedb-db13-4fc2-8149-f3b11bc5bb7f"
    },
    {
      "cell_type": "markdown",
      "metadata": {},
      "source": [
        "<span style=\"color:red\">Explain your reasoning here:\n",
        "\n",
        "## Question 2\n",
        "\n",
        "Say a potential probability density function representing this random\n",
        "variable (from the above flight example) is the following:\n",
        "\n",
        "$$ \n",
        "f(x) = \\begin{cases}\n",
        "x & \\text{if } 0 \\leq x \\leq 1,\\\\\n",
        "2 - x  & \\text{if } 1 \\leq x \\leq 2,\\\\\n",
        "0  & \\text{otherwise}\n",
        "\\end{cases}\n",
        "$$\n",
        "\n",
        "Is this a valid PDF?"
      ],
      "id": "900e248f-7d6d-4892-8b63-5e6a4fa5bcf1"
    },
    {
      "cell_type": "code",
      "execution_count": null,
      "metadata": {},
      "outputs": [],
      "source": [
        "answer_2 <- \"...\" # your answer of \"yes\" or \"no\" in place of ...\n",
        "\n",
        "test_2()"
      ],
      "id": "5520f348-d3d4-4293-87c8-18cb3eb34e93"
    },
    {
      "cell_type": "markdown",
      "metadata": {},
      "source": [
        "<span style=\"color:red\">Explain your reasoning here:\n",
        "\n",
        "## Question 3\n",
        "\n",
        "What is the probability of a person waiting up to 1.5 hours for their\n",
        "flight? Answer to 3 decimal places. **Hint**: this is not the same as\n",
        "the probability of waiting precisely 1.5 hours."
      ],
      "id": "77342e6e-b676-43cd-ba2c-86d0d9865cba"
    },
    {
      "cell_type": "code",
      "execution_count": null,
      "metadata": {},
      "outputs": [],
      "source": [
        "# your code here\n",
        "\n",
        "answer_3 <- ... # your answer for the cumulative probability (in decimal format, i.e. 95% = 0.95) here\n",
        "\n",
        "test_3()"
      ],
      "id": "b3b8df5a-c4af-41bd-b84d-4f2f208953c4"
    },
    {
      "cell_type": "markdown",
      "metadata": {},
      "source": [
        "# Exercise 2\n",
        "\n",
        "Let’s return to our `joint_table` for the joint distribution of discrete\n",
        "random variables `immstat` and `kol`."
      ],
      "id": "9d14e2be-f533-4ec8-9cb1-e2f4a8f8d75d"
    },
    {
      "cell_type": "code",
      "execution_count": null,
      "metadata": {},
      "outputs": [],
      "source": [
        "joint_table"
      ],
      "id": "71615b41-96cf-4411-ac92-9a1b17bcdcf1"
    },
    {
      "cell_type": "markdown",
      "metadata": {},
      "source": [
        "## Question 1\n",
        "\n",
        "What is the probability that someone is both an immigrant and knows both\n",
        "English and French? Answer to 3 decimal places."
      ],
      "id": "a2e98e85-b834-46eb-8d03-cf5484dfad69"
    },
    {
      "cell_type": "code",
      "execution_count": null,
      "metadata": {},
      "outputs": [],
      "source": [
        "answer_4 <- ... # your answer for the probability (in decimal format, i.e. 95% = 0.95) here\n",
        "\n",
        "test_4()"
      ],
      "id": "bb089cc2-e6a1-4e81-af6a-84f9e824d5ee"
    },
    {
      "cell_type": "markdown",
      "metadata": {},
      "source": [
        "## Question 2\n",
        "\n",
        "What is the probability that someone is an immigrant given that they\n",
        "know only English? Answer to 3 decimal places."
      ],
      "id": "01ea72e2-f210-48e9-b023-9f74dec23b71"
    },
    {
      "cell_type": "code",
      "execution_count": null,
      "metadata": {},
      "outputs": [],
      "source": [
        "# your code here\n",
        "\n",
        "answer_5 <- ... # your answer for the probability (in decimal format, i.e. 95% = 0.95) here\n",
        "\n",
        "test_5()"
      ],
      "id": "8ab3565f-3305-4d25-b84f-7aa903f410a6"
    },
    {
      "cell_type": "markdown",
      "metadata": {},
      "source": [
        "## Question 3\n",
        "\n",
        "Why is it difficult to graph a joint probability distribution function\n",
        "(either density or cumulative) for these two variables in Jupyter? Which\n",
        "type of probability density function can we easily graph in Jupyter for\n",
        "jointly distributed random variables?\n",
        "\n",
        "<span style=\"color:red\">Explain your reasoning here:\n",
        "\n",
        "# Exercise 3\n",
        "\n",
        "Let the random variable $Y$ be uniformly distributed on the range of\n",
        "values \\[20, 80\\].\n",
        "\n",
        "## Question 1\n",
        "\n",
        "What is the probability of $Y$ taking on the value of 30? Answer to 3\n",
        "decimal places. You may use a graph to help you."
      ],
      "id": "735cfe38-e028-4d02-8286-3ac84ca47cfa"
    },
    {
      "cell_type": "code",
      "execution_count": null,
      "metadata": {},
      "outputs": [],
      "source": [
        "# your code here\n",
        "\n",
        "answer_6 <- ... # your answer for the probability (in decimal format, i.e. 95% = 0.95) here\n",
        "\n",
        "test_6()"
      ],
      "id": "8bbc888c-6095-4869-b31c-ea31b757f694"
    },
    {
      "cell_type": "markdown",
      "metadata": {},
      "source": [
        "## Question 2\n",
        "\n",
        "What is the probability of $Y$ taking on a value of 60 or more? Answer\n",
        "to 3 decimal places."
      ],
      "id": "e089c0b2-1d4d-4224-b558-d4424600bdd9"
    },
    {
      "cell_type": "code",
      "execution_count": null,
      "metadata": {
        "tags": []
      },
      "outputs": [],
      "source": [
        "answer_7 <- ... # your answer for the probability (in decimal format, i.e. 95% = 0.95) here\n",
        "\n",
        "test_7()"
      ],
      "id": "310f1d71-98e3-44d8-a609-e0725820b948"
    },
    {
      "cell_type": "markdown",
      "metadata": {},
      "source": [
        "## Question 3\n",
        "\n",
        "What would happen to this probability if $Y$ was expanded to be\n",
        "uniformly distributed on the range of values \\[20, 100\\]?"
      ],
      "id": "e4dca982-82ae-48fb-9bcd-3b9410f27c8e"
    },
    {
      "cell_type": "code",
      "execution_count": null,
      "metadata": {},
      "outputs": [],
      "source": [
        "answer_8 <- \"...\" # your answer of \"it would increase\" or \"it would decrease\" in place of \"...\"\n",
        "\n",
        "test_8()"
      ],
      "id": "883640d5-31da-4d45-afdd-637e69bf9fe5"
    },
    {
      "cell_type": "markdown",
      "metadata": {},
      "source": [
        "<span style=\"color:red\">Explain your reasoning here:\n",
        "\n",
        "# Exercise 4\n",
        "\n",
        "Now let $Z$ be a normally distributed random variable representing the\n",
        "length of a piece of classical music (in minutes), with a mean of 5 and\n",
        "standard deviation of 1.5.\n",
        "\n",
        "## Question 1\n",
        "\n",
        "What is the probability that a given piece will last between 3 and 7\n",
        "minutes? Answer to 3 decimal places. You may use code to help you."
      ],
      "id": "de4904b8-43a3-419f-8d6e-fdd2f9d44ea6"
    },
    {
      "cell_type": "code",
      "execution_count": null,
      "metadata": {},
      "outputs": [],
      "source": [
        "# your code here\n",
        "\n",
        "answer_9 <- ... # your answer for the probability (in decimal format, i.e. 95% = 0.95) here\n",
        "\n",
        "test_9()"
      ],
      "id": "9aa93a74-b29e-4ac5-a6e4-f964b3313222"
    },
    {
      "cell_type": "markdown",
      "metadata": {},
      "source": [
        "## Question 2\n",
        "\n",
        "If $Z$ were to remain normally distributed and have the same standard\n",
        "deviation, but the mean piece length was changed to 3 minutes, how would\n",
        "this probability change?"
      ],
      "id": "7ec83112-a8f8-45ce-927f-ec1bfb82d464"
    },
    {
      "cell_type": "code",
      "execution_count": null,
      "metadata": {},
      "outputs": [],
      "source": [
        "answer_10 <- \"...\" # your answer of \"it would increase\" or \"it would decrease\" in place of \"...\"\n",
        "\n",
        "test_10()"
      ],
      "id": "b1a18b39-e11f-479d-862a-2e9dcf5c89da"
    },
    {
      "cell_type": "markdown",
      "metadata": {},
      "source": [
        "<span style=\"color:red\">Explain your reasoning here:\n",
        "\n",
        "## Question 3\n",
        "\n",
        "Returning to our original $Z$ variable (with mean 5), if the standard\n",
        "deviation were to decrease to 1, how would this probability change?"
      ],
      "id": "fe0a33b0-43a2-4949-beae-0e946e42ba07"
    },
    {
      "cell_type": "code",
      "execution_count": null,
      "metadata": {},
      "outputs": [],
      "source": [
        "answer_11 <- \"...\" # your answer of \"it would increase\" or \"it would decrease\" in place of \"...\"\n",
        "\n",
        "test_11()"
      ],
      "id": "a4d0d99f-eefd-49f4-880a-e48f3cbe3332"
    },
    {
      "cell_type": "markdown",
      "metadata": {},
      "source": [
        "<span style=\"color:red\">Explain your reasoning here:\n",
        "\n",
        "# Part 2: Parametric Distributions\n",
        "\n",
        "You may have noticed that all of the examples we used were for\n",
        "*empirical* distributions. This was because we don’t really know what\n",
        "the *population* distributions which make up the census actually are.\n",
        "However, many statistics *do* have known distributions which are very\n",
        "important to recognize and understand.\n",
        "\n",
        "Now that we have a strong background in random variables and the various\n",
        "probability functions which represent them, we can look at the three\n",
        "most famous examples of distributions:\n",
        "\n",
        "-   uniform distribution\n",
        "-   normal (or Gaussian) distribution\n",
        "-   student $t$-distribution\n",
        "\n",
        "These are called **parametric** distributions because (as we will see)\n",
        "they can be described by a set of numbers called *parameters*. For\n",
        "instance, the normal distribution’s two *parameters* are the mean and\n",
        "standard deviation.\n",
        "\n",
        "All the parametric distributions explained in this module are analyzed\n",
        "using four R commands. The four commands will start with the prefixes: -\n",
        "`d` for “density”: it produces the probability density function (PDF) -\n",
        "`p` for “probability”: it produces the cumulative distribution function\n",
        "(CDF) - `q` for “quantile”: it produces the inverse cumulative\n",
        "distribution function, also called the quantile function - `r` for\n",
        "“random”: generates random numbers from a particular parametric\n",
        "distribution\n",
        "\n",
        "## Uniform Distribution\n",
        "\n",
        "A continuous variable has a **uniform distribution** if all values have\n",
        "the same likelihood of occurring. Therefore, the variable’s density\n",
        "curve is a rectangle, with constant height across the interval and 0\n",
        "height elsewhere. Since the area under the curve must be equal to 1, the\n",
        "length of the interval determines the height of the curve. A good\n",
        "example of a random event that has a uniform distribution is rolling a\n",
        "dice. Rolling each of the six numbers is equally likely.\n",
        "\n",
        "Let’s see with a variable what this kind of distribution might look\n",
        "like. To do this, we will generate random values from this distribution\n",
        "using the function `runif()`. This command is written as\n",
        "`runif(n, min = , max = )`, where `n` is the number of observations, and\n",
        "`max` and `min` provide the interval between which the random variables\n",
        "are picked from.\n",
        "\n",
        "### Simulation"
      ],
      "id": "d30f326e-666d-4da0-9f7a-6c0231303b76"
    },
    {
      "cell_type": "code",
      "execution_count": null,
      "metadata": {},
      "outputs": [],
      "source": [
        "example_unif <- runif(10000, min = 10, max = 100)\n",
        "hist(example_unif, freq = FALSE, xlab = 'x', xlim = c(0,100), main = \"Empirical PDF for uniform random values on [0,100]\")"
      ],
      "id": "bda10c06-1d93-4e8e-87ee-d8e1dc69694d"
    },
    {
      "cell_type": "markdown",
      "metadata": {},
      "source": [
        "You may be wondering why all the bars aren’t the exact same height if\n",
        "each number is equally likely to be drawn. This is because of random\n",
        "chance. Each number is within the specified range is equally likely to\n",
        "be drawn, but out of random chance some ranges of numbers are being\n",
        "drawn at higher frequencies than others. If you re-run the previous code\n",
        "cell, you will see that the shape of the distribution changes each time.\n",
        "\n",
        "Since we know what this distribution is, we can plot the population\n",
        "distribution, and visualize it.\n",
        "\n",
        "For instance, suppose we have a uniform random variable $X$ defined on\n",
        "the interval $(10,50)$. Since the interval has a width of 40, so the\n",
        "curve must have a height of $\\frac{1}{40} = 0.024$ over the interval and\n",
        "0 elsewhere. The probability that $X \\leq 25$ is the area between 10 and\n",
        "25, or $(25-10)\\cdot 0.025 = 0.375$. Naturally, these kinds of\n",
        "calculations are much easier to do using R!\n",
        "\n",
        "### PDF\n",
        "\n",
        "The `dunif()` function calculates the uniform probability density\n",
        "function for a variable and can also calculate a specific value’s\n",
        "density."
      ],
      "id": "7d148d98-39f1-4a4d-bfc4-19468bcb0c5b"
    },
    {
      "cell_type": "code",
      "execution_count": null,
      "metadata": {},
      "outputs": [],
      "source": [
        "range <- seq(0, 100, by = 1) # creating a variable with a uniform distribution\n",
        "ex.dunif <- dunif(range, min = 10, max = 60) # calculating the PDF of the variable \"range\"\n",
        "plot(ex.dunif, type = \"o\") # plotting the PDF"
      ],
      "id": "57712856-6781-4d2e-a9ce-141c8cf4ee02"
    },
    {
      "cell_type": "markdown",
      "metadata": {},
      "source": [
        "### CDF\n",
        "\n",
        "The `punif()` function calculates the uniform cumulative distribution\n",
        "function for the set of values."
      ],
      "id": "aa57770a-e271-40cc-a626-ec6540bd1fed"
    },
    {
      "cell_type": "code",
      "execution_count": null,
      "metadata": {},
      "outputs": [],
      "source": [
        "x_cdf <- punif(range,      # Vector of quantiles\n",
        "      min = 10,            # Lower limit of the distribution (a)\n",
        "      max = 50,            # Upper limit of the distribution (b)\n",
        "      lower.tail = TRUE,   # If TRUE, probabilities are P(X <= x), or P(X > x) otherwise\n",
        "      log.p = FALSE)       # If TRUE, probabilities are given as log\n",
        "plot(x_cdf, type = \"l\")"
      ],
      "id": "2e739cd5-9916-4c2d-af0f-4d513c37361f"
    },
    {
      "cell_type": "markdown",
      "metadata": {},
      "source": [
        "The `qunif()` function calculates, based on the cumulative probability,\n",
        "where a specific value is located in the distribution of density and\n",
        "helps us access the quantile distribution probability values from the\n",
        "data."
      ],
      "id": "7609199a-a804-4635-b41b-e28f9faae924"
    },
    {
      "cell_type": "code",
      "execution_count": null,
      "metadata": {},
      "outputs": [],
      "source": [
        "quantiles <- seq(0, 1, by = 0.01)\n",
        "y_qunif <- qunif(quantiles, min = 10, max = 50)    \n",
        "plot(y_qunif, type = \"l\")"
      ],
      "id": "344dc8bf-4b66-41d4-9547-553c94b1a6ef"
    },
    {
      "cell_type": "markdown",
      "metadata": {},
      "source": [
        "## Normal (Gaussian) Distribution\n",
        "\n",
        "We first saw the normal distribution in the *Central Tendency notebook*\n",
        "and we are now better equipped to understand its nuances. The normal\n",
        "distribution is a special type of distribution for a number of reasons:\n",
        "it is fundamental to many statistic processes. Many random variables in\n",
        "natural and social sciences are normally distributed. Height, birth\n",
        "weight or SAT scores all follow a normal distribution.\n",
        "\n",
        "This kind of distribution is referred to as “normal” because it’s\n",
        "distribution is symmetrical and bell-shaped. A normal distribution is\n",
        "**parameterized** by its mean $\\mu$ and its standard deviation $\\sigma$,\n",
        "and it is expressed as $N(\\mu,\\sigma)$. Without knowing the mean and the\n",
        "standard deviation one cannot calculate the normal distribution.\n",
        "\n",
        "The PDF has a complex equation, which can be written as:\n",
        "\n",
        "$$\n",
        "f(x; \\mu, \\sigma) = \\displaystyle \\frac{x^{-(x-\\mu)^{2}/(2\\sigma^{2})}}{\\sigma\\sqrt{2\\pi}}\n",
        "$$\n",
        "\n",
        "A **standard normal distribution** is is a special normal distribution,\n",
        "characterized for having a mean equal to zero and a standard deviation\n",
        "equal to 1 ($\\mu=0$ and $\\sigma=1$). Hence, $N(0,1)$: - Standard normal\n",
        "variables are often denoted by $Z$ - Usually, the standard normal PDF is\n",
        "denoted by $\\phi$ and the standard normal CDF is denoted by $\\Phi$\n",
        "\n",
        "To generate simulated normal random variables, we can use the\n",
        "`rnorm()`this function. It is similar to the `runif()` function we saw\n",
        "earlier:\n",
        "\n",
        "### Simulation"
      ],
      "id": "e328b717-dfeb-4009-927d-095514fed788"
    },
    {
      "cell_type": "code",
      "execution_count": null,
      "metadata": {},
      "outputs": [],
      "source": [
        " x <- rnorm(10000, # number of observations\n",
        "            mean = 0, # mean\n",
        "            sd = 1) # sd\n",
        " hist(x, probability=TRUE) # the command hist() creates a histogram using variable x,\n",
        " xx <- seq(min(x), max(x), length=100)\n",
        " lines(xx, dnorm(xx, mean=0, sd=1))"
      ],
      "id": "f94c2fee-dfbc-4d76-bc69-8b05e65ff18f"
    },
    {
      "cell_type": "markdown",
      "metadata": {},
      "source": [
        "### PDF\n",
        "\n",
        "As with the uniform distribution, we can use `dnorm` to plot the\n",
        "standard normal pdf."
      ],
      "id": "d39c4e95-549b-48aa-8bbf-d3934f24eb1c"
    },
    {
      "cell_type": "code",
      "execution_count": null,
      "metadata": {},
      "outputs": [],
      "source": [
        " # create a sequence of 100 equally spaced numbers between -4 and 4\n",
        " x <- seq(-4, 4, length=100)\n",
        "\n",
        " # create a vector of values that shows the height of the probability distribution\n",
        " # for each value in x\n",
        " y <- dnorm(x)\n",
        "\n",
        " # plot x and y as a scatterplot with connected lines (type = \"l\") and add\n",
        " # an x-axis with custom labels\n",
        " plot(x,y, type = \"l\", lwd = 2, axes = FALSE, xlab = \"\", ylab = \"\")\n",
        " axis(1, at = -3:3, labels = c(\"-3s\", \"-2s\", \"-1s\", \"mean\", \"1s\", \"2s\", \"3s\"))"
      ],
      "id": "07c519f6-3f06-4409-8901-621ad4e35ace"
    },
    {
      "cell_type": "markdown",
      "metadata": {},
      "source": [
        "We have used the random values generated to observe the bell shaped\n",
        "distribution of this random variable. As it can be seen in the graph,\n",
        "the mean is zero (that is where all the values converge) and the\n",
        "standard deviation is one therefore, this is a standard normal PDF. We\n",
        "can change the numbers of mean and sd in the `rnorm()` command to make\n",
        "the distribution not standard as well.\n",
        "\n",
        "### CDF\n",
        "\n",
        "`pnorm()` - this function can give the entire CDF curve of a normally\n",
        "distributed random *variable* as well as give the probability of a\n",
        "normally distributed random *number* to be less than the value of a\n",
        "given number."
      ],
      "id": "7bc99583-b8f8-430e-b7c7-cf4d0272b526"
    },
    {
      "cell_type": "code",
      "execution_count": null,
      "metadata": {},
      "outputs": [],
      "source": [
        " curve(pnorm(x), \n",
        "       xlim = c(-3.5, 3.5), \n",
        "       ylab = \"Probability\", \n",
        "       main = \"Standard Normal Cumulative Distribution Function\")"
      ],
      "id": "1a871e9b-9029-46cf-b40e-1126d9248dc2"
    },
    {
      "cell_type": "code",
      "execution_count": null,
      "metadata": {},
      "outputs": [],
      "source": [
        " pnorm(27.4, mean=50, sd=20) # gives you the CDF at that specific location\n",
        " pnorm(27.4, 50, 20)"
      ],
      "id": "fd2a9dbb-a33a-4e37-b979-8de801768efe"
    },
    {
      "cell_type": "markdown",
      "metadata": {},
      "source": [
        "The`qnorm()` function takes the density value and gives a number with a\n",
        "matching cumulative value. Therefore, `qnorm()` gives the the inverse of\n",
        "the CDF. `qnorm()` can also create a percent point function (ppf). A ppf\n",
        "is the inverse curve of the cumulative distribution function. The CDF of\n",
        "a specific value is the probability of a normally distributed value of a\n",
        "random variable to be less than the value of a **given number**. For the\n",
        "percent point function, we start with that probability and then compute\n",
        "the corresponding **given number** for the cumulative distribution. In\n",
        "other words the answer of `qnorm()` will be the number where the area\n",
        "before it is X% of the sample."
      ],
      "id": "5a9306ab-4574-4f0b-ba11-e6be0f1d1837"
    },
    {
      "cell_type": "code",
      "execution_count": null,
      "metadata": {},
      "outputs": [],
      "source": [
        "  curve(qnorm(x), \n",
        "       xlim = c(0, 1), \n",
        "       xlab = \"Probability\",\n",
        "       ylab = \"x\", \n",
        "       main = \"Quantile (inverse CDF) Function\")"
      ],
      "id": "380168b9-25a6-499f-a92d-85103f536e6e"
    },
    {
      "cell_type": "code",
      "execution_count": null,
      "metadata": {},
      "outputs": [],
      "source": [
        " qnorm(0.95, mean=100, sd=15)"
      ],
      "id": "ea5ff04e-275b-4694-960d-69719fe782d3"
    },
    {
      "cell_type": "markdown",
      "metadata": {},
      "source": [
        "Finally, the function `dnorm()` gives the height of the probability\n",
        "distribution at each point for a given mean and standard deviation. The\n",
        "height of the pdf curve is the density. This function can also be used\n",
        "to calculate the entire density curve, as observed in the command\n",
        "*lines(xx, dnorm(xx, mean=0, sd=1))*"
      ],
      "id": "674d2d5e-ebbe-423d-a3ee-e72915a8ad53"
    },
    {
      "cell_type": "code",
      "execution_count": null,
      "metadata": {},
      "outputs": [],
      "source": [
        " dnorm(100, mean=100, sd=15)"
      ],
      "id": "d56f1047-202d-473b-a5fe-8c9071c90f19"
    },
    {
      "cell_type": "markdown",
      "metadata": {},
      "source": [
        "## Student’s $t$-Distribution\n",
        "\n",
        "The **Student’s $t$-distribution** is a continuous distribution that\n",
        "arises when estimating the sampling distribution of a normally\n",
        "distributed population in situations where the sample size is small and\n",
        "the population’s standard deviation is unknown. This may seem esoteric,\n",
        "but it’s actually really important: we will explore the concept of\n",
        "sampling distributions in a later module.\n",
        "\n",
        "The $t$-distribution is based on the number of observations and the\n",
        "degrees of freedom. A degree of freedom ($\\nu$) refers to the maximum\n",
        "number of logically independent values, which are values that have the\n",
        "freedom to vary, in the data sample. In other words, it is the number of\n",
        "values that need to be known in order to know all of the values. For\n",
        "example, imagine you have 3 values which have an average of 5. If you\n",
        "sample two of the values and they turn out to be 4, and 5, even without\n",
        "sampling the final value, there is no freedom in the last value.\n",
        "\n",
        "In the case of the $t$-distribution the degree(s) of freedom can be\n",
        "represented as $\\nu = n-1$, with $n$ being the sample size. When $\\nu$\n",
        "is large, the $t$-distribution begins to look like a standard normal\n",
        "distribution. This approximation between standard normal and\n",
        "$t$-distribution can start being noticed around $\\nu \\geq 30$.\n",
        "\n",
        "As with the uniform and normal distribution, to generate random values\n",
        "that together have a t-distribution we add the prefix `r` to the name of\n",
        "the distribution, `rt()`.\n",
        "\n",
        "### Simulation"
      ],
      "id": "439197d5-4bb1-433c-b395-43169a77e3f8"
    },
    {
      "cell_type": "code",
      "execution_count": null,
      "metadata": {},
      "outputs": [],
      "source": [
        " n <- 100\n",
        " df <- n - 1\n",
        " samples <- rt(n, df)\n",
        " hist(samples,breaks = 20, freq = FALSE)\n",
        " xx <- seq(min(samples), max(samples), length=100)\n",
        " lines(xx, dt(xx, df))"
      ],
      "id": "c58ef966-dd39-4f63-86b0-bb4e5b69adce"
    },
    {
      "cell_type": "markdown",
      "metadata": {},
      "source": [
        "A very interesting characteristic of the t-distribution that can be\n",
        "observed from this graph is that, although it is bell-shaped and\n",
        "symmetrical like the normal distribution, the t-distribution is not as\n",
        "thin as a normal distribution. That means that the data is more spread\n",
        "out than a normal distribution a characteristic which is explained by\n",
        "the central limit theorem (CLT) and law of large numbers (LLN), concepts\n",
        "that will be explained in a future module.\n",
        "\n",
        "### PDF\n",
        "\n",
        "The function `dt()` calculates the PDF of a particular variable or the\n",
        "density of a particular value of a variable, depending on the sample\n",
        "size and degrees of freedom. In the examples shown below we will be\n",
        "using the variable `ex.tvalues` which is a sequence of numbers ranging\n",
        "from -4 to 4 with increments of 0.01. Therefore there are 800 numbers\n",
        "generated which means the degrees of freedom = 799."
      ],
      "id": "19287cfc-57b8-45f7-97c0-29d48f49ef4d"
    },
    {
      "cell_type": "code",
      "execution_count": null,
      "metadata": {},
      "outputs": [],
      "source": [
        " ex.tvalues <- seq(- 4, 4, by = 0.01)  # generating a sequence of number \n",
        " ex_dt <- dt(ex.tvalues, df = 799) # calculating the PDF\n",
        " plot(ex_dt, type=\"l\")     "
      ],
      "id": "33f481d7-a351-4165-a20e-00f73dae00ca"
    },
    {
      "cell_type": "markdown",
      "metadata": {},
      "source": [
        "### CDF\n",
        "\n",
        "The `pt()` function calculates the entire CDF curve of a t-distributed\n",
        "random *variable* and gives the probability of a t-distributed random\n",
        "*number* that is less that the value of a given number."
      ],
      "id": "1a5eab77-7c8f-4b06-9fa6-1966c45acc35"
    },
    {
      "cell_type": "code",
      "execution_count": null,
      "metadata": {},
      "outputs": [],
      "source": [
        " ex_pt <- pt(ex.tvalues, df = 799)   # calculating CDF\n",
        " plot(ex_pt, type = \"l\") "
      ],
      "id": "088ee13c-6874-4022-b280-d19bd801983b"
    },
    {
      "cell_type": "markdown",
      "metadata": {},
      "source": [
        "`qnorm()`- this function takes the probability value and gives a number\n",
        "whose cumulative value matches the probability value. `qnorm()` can also\n",
        "create a percent point function (ppf)."
      ],
      "id": "5c55430a-58f7-4858-9cab-1fbd8daf0b09"
    },
    {
      "cell_type": "code",
      "execution_count": null,
      "metadata": {},
      "outputs": [],
      "source": [
        " ex.qtvalues <- seq(0, 1, by = 0.01)  # generating a sequence of number \n",
        " ex_qt <- qt(ex.qtvalues, df = 99)  # calculating the ppf\n",
        " plot(ex_qt, type = \"l\") # plotting the ppf "
      ],
      "id": "a9fe9fd5-1e48-4a9d-af4e-498ece9476ca"
    },
    {
      "cell_type": "markdown",
      "metadata": {},
      "source": [
        "Beyond these three common distributions, there are many other types of\n",
        "distributions which relatively accurately fit data. Examples include\n",
        "chi-square distribution or f-distribution. However, in rare cases, we\n",
        "may encounter variables for which we cannot fit a distribution. Perhaps\n",
        "the data is distributed sporadically and is not well approximated by any\n",
        "common distribution. In these cases, we describe it as a\n",
        "non-parametrical distribution.\n",
        "\n",
        "# Part 3: Exercises\n",
        "\n",
        "## Exercise 12\n",
        "\n",
        "Which of the following random variables are most likely to be\n",
        "uniformally distributed.\n",
        "\n",
        "**A.** The height of a UBC student  \n",
        "**B.** The wages of a UBC student  \n",
        "**C.** The birthday of a UBC student"
      ],
      "id": "aabca67f-10ac-43dd-a534-7ead541866dc"
    },
    {
      "cell_type": "code",
      "execution_count": null,
      "metadata": {},
      "outputs": [],
      "source": [
        "# Enter your answer here as \"A\", \"B\", or \"C\"\n",
        "\n",
        "answer_12 <- \"...\"\n",
        "test_12(answer_12)"
      ],
      "id": "f80f9161-549a-464d-8c03-8684583bd4e7"
    },
    {
      "cell_type": "markdown",
      "metadata": {},
      "source": [
        "## Exercise 13\n",
        "\n",
        "Which of the following random variables are most likely to be normally\n",
        "distributed.\n",
        "\n",
        "**A.** The height of a UBC student  \n",
        "**B.** The grades of a particular course  \n",
        "**C.** The birthday of a UBC student"
      ],
      "id": "c93be7eb-dddb-4215-8f17-5a2ab5d3a4a0"
    },
    {
      "cell_type": "code",
      "execution_count": null,
      "metadata": {
        "tags": []
      },
      "outputs": [],
      "source": [
        "# Enter your answer here as \"A\", \"B\", or \"C\"\n",
        "\n",
        "answer_13 <- \"...\"\n",
        "test_13(answer_13)"
      ],
      "id": "20e12b36-e82b-45af-b2ba-7661bfcfd39c"
    },
    {
      "cell_type": "markdown",
      "metadata": {},
      "source": [
        "## Exercise 14\n",
        "\n",
        "Given our uniform distribution `example_unif`, find $F(72)$. Note that\n",
        "you don’t need to calculate the exact probability given the\n",
        "distribution. To answer the question, you only need to know that this\n",
        "random variable is uniformly distributed for values between 10 and 100."
      ],
      "id": "1957be09-4846-451c-b631-bb8b276f3854"
    },
    {
      "cell_type": "code",
      "execution_count": null,
      "metadata": {},
      "outputs": [],
      "source": [
        "# Enter your answer as an integer below. Your answer should only have one decimal place. \n",
        "\n",
        "answer_14 <- ...\n",
        "test_14()"
      ],
      "id": "1ebf0a4c-1af2-4dce-a8ed-e6783a4db411"
    },
    {
      "cell_type": "markdown",
      "metadata": {},
      "source": [
        "## Exercise 15\n",
        "\n",
        "Assume we have a standard normal distribution. Find $F(0)$"
      ],
      "id": "f1e24cde-baa5-4892-b247-0afe079e9d8a"
    },
    {
      "cell_type": "code",
      "execution_count": null,
      "metadata": {},
      "outputs": [],
      "source": [
        "# Enter your answer as an integer below. Your answer should only have one decimal place\n",
        "\n",
        "answer_15 <- ...\n",
        "test_15()"
      ],
      "id": "c0ab9afc-5484-4014-9395-f826411b0b83"
    },
    {
      "cell_type": "markdown",
      "metadata": {},
      "source": [
        "## Exercise 16\n",
        "\n",
        "Let’s assume we have a students $t-$distribtion that is nearly\n",
        "coincident to the corresponding normal distribution. What must be true?\n",
        "\n",
        "**A.** The degrees of freedom parameter must be very large.  \n",
        "**B.** The degrees of freedom parameter must be very small.  \n",
        "**C.** The degrees of freedom parameter must be equal to the mean of the\n",
        "normal distribution."
      ],
      "id": "bef5dc67-2739-4a97-beb2-ac72cd3e4bd2"
    },
    {
      "cell_type": "code",
      "execution_count": null,
      "metadata": {},
      "outputs": [],
      "source": [
        "# Enter your answer here as \"A\", \"B\", or \"C\"\n",
        "\n",
        "answer_16 <- \"...\"\n",
        "test_16(answer_16)"
      ],
      "id": "97d075a6-7327-4b09-816d-975356adcd47"
    }
  ],
  "nbformat": 4,
  "nbformat_minor": 5,
  "metadata": {
    "kernelspec": {
      "name": "ir",
      "display_name": "R",
      "language": "r"
    }
  }
}