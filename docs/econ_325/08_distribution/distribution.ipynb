{
  "cells": [
    {
      "cell_type": "markdown",
      "metadata": {},
      "source": [
        "# 08 - ECON 325: Distributions\n",
        "\n",
        "COMET Team <br> *Valeria Zolla, Colby Chambers, Jonathan Graves*  \n",
        "2023-01-12\n",
        "\n",
        "## Outline\n",
        "\n",
        "### Prerequisites\n",
        "\n",
        "-   Introduction to Jupyter\n",
        "-   Introduction to R\n",
        "-   Introduction to Visualization\n",
        "-   Central Tendency\n",
        "\n",
        "### Outcomes\n",
        "\n",
        "After completing this notebook, you will be able:\n",
        "\n",
        "-   Understand and work with Probability Density Functions (PDFs) and\n",
        "    Cumulative Density Functions (CDF)\n",
        "-   Use tables to find joint, marginal, and conditional probabilities\n",
        "-   Interpret uniform, normal, and $t$ distributions\n",
        "\n",
        "### References\n",
        "\n",
        "-   [Introduction to Probability and Statistics Using\n",
        "    R](https://mran.microsoft.com/snapshot/2018-09-28/web/packages/IPSUR/vignettes/IPSUR.pdf)\n",
        "\n",
        "# Introduction\n",
        "\n",
        "This notebook will explore in detail the concept of distributions, both\n",
        "in terms of their functional forms for probability and how they are\n",
        "representative of different sets of data. This notebook aims to help us\n",
        "develop a deeper understanding of statistics from the perspective of\n",
        "data spread. Let’s first load our reliable friend, the 2016 Census from\n",
        "Statistics Canada, which we will consult throughout this lesson."
      ],
      "id": "e1da0a63-295a-446b-a2c1-78196f941040"
    },
    {
      "cell_type": "code",
      "execution_count": null,
      "metadata": {},
      "outputs": [],
      "source": [
        "# loading in our packages\n",
        "library(tidyverse)\n",
        "library(haven)\n",
        "library(digest)\n",
        "\n",
        "source(\"testing_distribution.r\")"
      ],
      "id": "4c632b03-c010-4fe8-9048-dbbeecc43fd2"
    },
    {
      "cell_type": "code",
      "execution_count": null,
      "metadata": {},
      "outputs": [],
      "source": [
        "# reading in the data\n",
        "\n",
        "census_data <- read_dta(\"../datasets/01_census2016.dta\")\n",
        "\n",
        "# cleaning up factors\n",
        "census_data <- as_factor(census_data)\n",
        "\n",
        "# cleaning up missing data\n",
        "census_data <- filter(census_data, !is.na(census_data$wages))\n",
        "census_data <- filter(census_data, !is.na(census_data$mrkinc))\n",
        "\n",
        "# inspecting the data\n",
        "glimpse(census_data)"
      ],
      "id": "ab120660-4e3a-4e6d-a468-232b576a26fd"
    },
    {
      "cell_type": "markdown",
      "metadata": {},
      "source": [
        "Now that we have our data set ready on stand-by for analysis, let’s\n",
        "start looking at distributions as a concept more generally.\n",
        "\n",
        "# Part 1: Distribution Functions - The Basics\n",
        "\n",
        "Let’s begin with a quick review of some basic ideas from probability\n",
        "theory.\n",
        "\n",
        "## What is a Probability?\n",
        "\n",
        "When working with data, the **probability** of seeing a particular piece\n",
        "of data take on a certain set of values (called an **event**) is the\n",
        "**likelihood** of those values occurring. When the possible values are\n",
        "discrete (e.g. `1,2,3` or `adult, child`), we refer to this as the\n",
        "**frequency**. When the possible values are continuous (e.g. any number\n",
        "between `0.5` and `3.75`), we refer to this as the **density**. We learn\n",
        "a little bit more about this later in this notebook.\n",
        "\n",
        "There is a difference between *population* probabilities and *empirical*\n",
        "or *sample* probabilities. Generally, when we talk about distributions\n",
        "we will be referring to *population* objects: but there are also sample\n",
        "versions as well, which are often easier to think about.\n",
        "\n",
        "For instance, let’s say we have a dataset with 5,000 observations and a\n",
        "variable called `birthmonth` which records the month of birth of every\n",
        "participant captured in the dataset. If 500 people in the data were born\n",
        "in October, then `birthmonth==\"October`” would have an *empirical*\n",
        "probability of occurring in an observation 10% of the time. We can’t be\n",
        "sure what the population probability would be, unless we knew more about\n",
        "the population.\n",
        "\n",
        "## What is a Random Variable?\n",
        "\n",
        "A **random variable** is a variable whose possible values are numerical\n",
        "outcomes of a random phenomenon, such as rolling a dice or surveys done\n",
        "to random people in certain locations at certain times. There are two\n",
        "types of random variables: discrete and continuous.\n",
        "\n",
        "-   A **discrete random variable** is one which may take on only a\n",
        "    finite number of distinct values. Examples of discrete random\n",
        "    variables include the options when you roll dice, the number of\n",
        "    children in a family, or the number of defective light bulbs in a\n",
        "    box of ten. A good example of a discrete random variable of the data\n",
        "    used in this notebook is the age group (`agegrp` in the data) of the\n",
        "    census participants as it can take only a finite number of distinct\n",
        "    values: 17 different categories to be exact.\n",
        "\n",
        "-   A **continuous random variable** is one which takes an infinite\n",
        "    number of possible values. We can commonly think of this variable as\n",
        "    being one that is *measured* rather than merely *categorized*.\n",
        "    Examples include height, weight, or how much people earn. In the\n",
        "    data, we can see that `wages` and `mrkinc` are great examples of\n",
        "    continuous random variables. They can take on an infinite number of\n",
        "    possible values.\n",
        "\n",
        "Now that we’ve learned some key terminology for describing variables and\n",
        "the values they can take on, we can work with distributions.\n",
        "\n",
        "## What is the Probability Distribution?\n",
        "\n",
        "A **probability distribution** refers to the pattern or arrangement of\n",
        "probabilities in a population. These are usually described as\n",
        "*functions*: the function takes in a possible event, then reports back\n",
        "the probability of that event occurring. As we explained above, there is\n",
        "a difference between *population* and *sample* distributions: \\* A\n",
        "*population* distribution (which is the typical way we describe these)\n",
        "describes population probabilities \\* An *empirical* or *sample*\n",
        "distribution reports describes empirical probabilities from within a\n",
        "particular sample\n",
        "\n",
        "It’s important to keep this difference in mind: from the perspective of\n",
        "statistical inference, we usually want to learn about the *population*\n",
        "distribution, but will use the *empirical* distribution to do so.\n",
        "\n",
        "Distribution functions come in several standard forms; let’s learn about\n",
        "them.\n",
        "\n",
        "# Probability Density Functions (PDFs)\n",
        "\n",
        "**Probability Density Functions** are also sometimes referred to as PDFs\n",
        "or probability mass functions. We usually use lower case letters like\n",
        "$f$ or $p$ to describe these functions.\n",
        "\n",
        "## 1. Discrete PDF:\n",
        "\n",
        "> ” The probability distribution of a discrete random variable is the\n",
        "> list of all possible values of the variable and their probabilities\n",
        "> which sum to 1.”\n",
        ">\n",
        "> \\- Econometrics with R\n",
        "\n",
        "In other words, a **Probability Density Function (PDF)** is the\n",
        "probability of occurrence of all the different values of a variable. The\n",
        "probability of occurrence is also called **density** or **frequency**.\n",
        "\n",
        "Suppose a random variable X may take k different values, with the\n",
        "probability that $X = x_{i}$ defined to be $P(X = x_{i}) = p_{i}$. The\n",
        "probabilities $p_{i}$ must satisfy the following:\n",
        "\n",
        "1.  For each i: $0<p_{i}<1$\n",
        "\n",
        "2.  $p_{1} + p_{2} + ... + p_{k} = 1$\n",
        "\n",
        "There are two different ways to view the empirical PDF of a discrete\n",
        "variable. The first way is by creating a frequency table."
      ],
      "id": "cd823436-d1fe-4987-a2f0-0f59a92902a7"
    },
    {
      "cell_type": "code",
      "execution_count": null,
      "metadata": {},
      "outputs": [],
      "source": [
        "census_data0 <- filter(census_data, agegrp != \"not available\")\n",
        "sample_size <- nrow(census_data0) # number of observations\n",
        "table2 <- census_data0 %>% \n",
        "    group_by(agegrp) %>%\n",
        "    summarize(Count = n(),\n",
        "              Frequency = n()/sample_size*100) # creates two variables in our table\n",
        "\n",
        "table2"
      ],
      "id": "97e78920-ae8d-4f47-b902-d7d3aa779035"
    },
    {
      "cell_type": "markdown",
      "metadata": {},
      "source": [
        "A second way to visualize an empirical PDF is by creating a graph.\n",
        "Because a PDF has a finite number of distinct values of which we measure\n",
        "their frequency, the typical format to express a categorical array such\n",
        "as a PDF is through a bar graph following what we learned in\n",
        "*Introduction to Visualization*."
      ],
      "id": "b4020f3c-5fbe-4b05-9c27-30821c364746"
    },
    {
      "cell_type": "code",
      "execution_count": null,
      "metadata": {},
      "outputs": [],
      "source": [
        "plot <- ggplot(data = table2,  # this declares the data for the chart; all variable names are in this data\n",
        "                aes(# this is a list of the aesthetic features of the chart\n",
        "                    x = agegrp,   # for example, the x-axis will be \"year\"\n",
        "                    y = Frequency # the y-axes will be expenditure-based real GDP per capita\n",
        "                ),\n",
        "                ) \n",
        "plot1 <- plot + geom_col() + \n",
        "    theme(axis.text.x = element_text(angle = 90, vjust = 0.5, hjust=1))\n",
        "\n",
        "plot1"
      ],
      "id": "07013c94-1bb3-4851-830f-9a66c6381c4e"
    },
    {
      "cell_type": "markdown",
      "metadata": {},
      "source": [
        "# 2. Continuous PDF:\n",
        "\n",
        "> “Since a continuous random variable takes on a continuum of possible\n",
        "> values, we cannot use the concept of a probability distribution as\n",
        "> used for discrete random variables.”\n",
        ">\n",
        "> \\- Econometrics with R\n",
        "\n",
        "Unlike a discrete variable, a continuous random variable is not defined\n",
        "in specific values. Instead, it is defined over intervals of values, and\n",
        "is represented by the area under a curve (in calculus, this is the\n",
        "integral). The curve, which represents the probability function is also\n",
        "called a **density** curve and it must satisfy the following: 1. The\n",
        "curve has no negative values $p(x) > 0$ for all $x$ (there cannot be a\n",
        "negative probability of observing a value) 2. The total area under the\n",
        "curve is equal to 1\n",
        "\n",
        "Let’s imagine a random variable that can take any value over an interval\n",
        "of real numbers. The probability of observing values between $a$ and $b$\n",
        "is the area between the density curve and the area between $a$ and $b$:\n",
        "\n",
        "$$\n",
        "\\mathrm{P}(a \\le X \\le b) = \\left(\\int_{a}^{b} f(x) \\; dx\\right)\n",
        "$$\n",
        "\n",
        "Since the number of values which may be assumed by the random variable\n",
        "is infinite, the probability of observing any single value is equal to\n",
        "0.\n",
        "\n",
        "Therefore, to visualize a continuous PDF we commonly use graphs rather\n",
        "than tables and do not use bar graphs or scatterplots to visualize a\n",
        "continuous PDF. Because it is a continuous variable, we need to use a\n",
        "visualization type that allows for the entire continuum of possible\n",
        "values to be represented in the graph. As stated above, the probability\n",
        "of observing values between $a$ and $b$ is the area underneath the\n",
        "curve, therefore a continuous PDF should be visualized as a line graph.\n",
        "\n",
        "Suppose we would like to visualize a continuous empirical PDF for all\n",
        "wages between 25000 and 75000:"
      ],
      "id": "6e2df295-07c7-4f69-bbc2-11dc917e21c8"
    },
    {
      "cell_type": "code",
      "execution_count": null,
      "metadata": {},
      "outputs": [],
      "source": [
        "density <- density(census_data$wages)\n",
        "plot(density)\n",
        "\n",
        "# Telling R how to read our upper and lower bounds\n",
        "l <- min(which(density$x >= 25000))\n",
        "h <- max(which(density$x < 75000))\n",
        "\n",
        "# Visualizing our specified range in red \n",
        "polygon(c(density$x[c(l, l:h, h)]),\n",
        "        c(0, density$y[l:h], 0),\n",
        "        col = \"red\")"
      ],
      "id": "c82043c5-8b25-4e88-aa8f-d7cdcd34cde4"
    },
    {
      "cell_type": "markdown",
      "metadata": {},
      "source": [
        "# Cumulative Density Function (CDF)\n",
        "\n",
        "When we have a variable which is rankable, we can define a related\n",
        "object: the **Cumulative Density Function (CDF)**. The CDF for both\n",
        "discrete and continuous random variables is the probability that the\n",
        "random variable is less than or equal to a particular value. Naturally,\n",
        "this means that the CDF must necessarily be an increasing function.\n",
        "Think of the example of rolling a dice. $F(1)$ would indicate the the\n",
        "probability that a 1 was rolled. $F(2)$ would indicate the probability\n",
        "that a 2 **or lower** was rolled. Evidently, $F(2)$ would be greater\n",
        "than $F(1)$.\n",
        "\n",
        "Therefore, if we have a variable $X$ that can have take the value of $x$\n",
        "the CDF is is the probability that $X$ will take a value less than or\n",
        "equal to $x$. A CDF can only take values between 0 and 1: this is\n",
        "because the total probability that the random variable is less or equal\n",
        "to the biggest value of the variable is 100% or 1 while the probability\n",
        "that the random variable is less or equal to the smallest value of the\n",
        "variable is 0% or 0.\n",
        "\n",
        "If we use the lowercase $f(y)$ to represent the PDF of $y$, then by\n",
        "convention we use the uppercase $F(y)$ to represent the CDF of $y$.\n",
        "\n",
        "Mathematically, since $f_{X}(x)$ denotes the probability density\n",
        "function of $X$, then the probability that $X$ falls between $a$ and $b$\n",
        "where $a \\leq b$ is:\n",
        "\n",
        "$$\n",
        "\\mathrm{P}(a \\leq X \\leq b) = \\left(\\int_{a}^{b} f_{X}(x) \\; dx\\right)\n",
        "$$\n",
        "\n",
        "We know that the entire X variable falls between 2 values if the\n",
        "probability of x falling in between them is 1. Therefore $X$’s CDF curve\n",
        "is:\n",
        "\n",
        "$$\n",
        "\\mathrm{P}(−∞ \\le X \\le ∞) = \\left(\\int_{−∞}^{∞} f_{X}(x) \\; dx\\right) = 1\n",
        "$$\n",
        "\n",
        "Below we’ve used a scatterplot to visualize empirical CDF of the\n",
        "continuous variable `wages`. From the graph below we can tell that most\n",
        "people earn between 0-200000 as the probability of people’s wages being\n",
        "less than or equal to 200000 is over 80%."
      ],
      "id": "83dd95bf-e12f-452c-9e0c-15f54d8531a6"
    },
    {
      "cell_type": "code",
      "execution_count": null,
      "metadata": {},
      "outputs": [],
      "source": [
        "p <- ecdf(census_data$wages)\n",
        "\n",
        "# plot CDF\n",
        "plot(p)"
      ],
      "id": "f05b17ee-dddf-4704-bb58-a585aad004cd"
    },
    {
      "cell_type": "markdown",
      "metadata": {},
      "source": [
        "# Joint Probability Distribution\n",
        "\n",
        "So far, we’ve looked at distributions for single random variables.\n",
        "However, we can also use distributions to analyze the probability of\n",
        "multiple random variables taking on certain values. Let’s say we have\n",
        "two random variables, $X$ and $Y$. The **joint distribution** is the\n",
        "probability distribution on all possible values that $X$ and $Y$ can\n",
        "take on.\n",
        "\n",
        "As an example, lets suppose both $X$ and $Y$ are discrete random\n",
        "variable which can take on values from 1-3, with the following joint\n",
        "probability table (X on vertical axis, and Y on horizontal):\n",
        "\n",
        "|     | 1   | 2   | 3   |\n",
        "|-----|-----|-----|-----|\n",
        "| 1   | 0   | 1/6 | 1/6 |\n",
        "| 2   | 1/6 | 0   | 1/6 |\n",
        "| 3   | 1/6 | 1/6 | 0   |\n",
        "\n",
        "Above, we’ve created a joint distribution for the two discrete random\n",
        "variables, $X$ and $Y$. Notice the probabilities will sum to 1, as some\n",
        "combination of both $X$ and $Y$ will always occur.\n",
        "\n",
        "Every joint distribution can be represented by a PDF and CDF, just like\n",
        "single random variables. The formal notation of a PDF for two jointly\n",
        "distributed random variables is below.\n",
        "\n",
        "$$f(x, y) = Prob (X = x, Y = y)$$\n",
        "\n",
        "where $f(x, y)$ is the joint probability density that the random\n",
        "variable $X$ takes on a value of $x$ and the random variable $Y$ takes\n",
        "on a value of $y$ simultaneously.\n",
        "\n",
        "The PDF for jointly distributed random variables would be, in this case,\n",
        "are the values recorded in the example table above. For example the PDF\n",
        "of an immigrant only speaking french $Prob(X=1, Y =2) = 1/6$.\n",
        "\n",
        "The CDF for jointly distributed random variables follows the exact same\n",
        "logic as with single variables as well. It just instead represents the\n",
        "probability of multiple variables taking on values less than those\n",
        "specified all at once. This is quite non-sensical for two discrete\n",
        "random variables such as `immstat` and `kol`, but we can imagine the CDF\n",
        "of two jointly distributed random variables being much more\n",
        "interpretable if both of those variables are continuous (i.e. `wages`\n",
        "and `mrkinc`). The formal notation of a CDF for two jointly distributed\n",
        "random variables is below.\n",
        "\n",
        "$$\n",
        "F(x, y) = Prob({X \\leq x}, {Y \\leq y})\n",
        "$$\n",
        "\n",
        "where $F(x, y)$ is the joint cumulative probability that the random\n",
        "variable $X$ takes on a value less than or equal to $x$ and the random\n",
        "variable $Y$ takes on a value less than or equal to $y$ simultaneously.\n",
        "\n",
        "# Marginal Probability Distribution\n",
        "\n",
        "If we add up all of the joint probabilities from the same row or the\n",
        "same column, we arrive at another concept known as the **marginal\n",
        "distribution**. This is essentially probability density function for\n",
        "each individual random variable. It gives the probability of one random\n",
        "variable taking on a series of different values, and it is found from\n",
        "utilizing the joint probabilities in our table above. We can represent\n",
        "the marginal probability density function as follows:\n",
        "\n",
        "$$\n",
        "f_{x}(x) = \\sum_{y} Prob(X = x, Y = y)\n",
        "$$\n",
        "\n",
        "where we sum across all possible joint probabilities of $X$ and $Y$ for\n",
        "a given value of $X$. Identical logic holds for the marginal probability\n",
        "density function of the random variable $Y$ as well.\n",
        "\n",
        "An example will make this more clear. If we wanted the marginal\n",
        "empirical probability distribution function of the $X$ random variable,\n",
        "we would need to find the marginal probability for all possible values\n",
        "of $X$.\n",
        "\n",
        "For $X=1$, the marginal probability is the sum of all joint\n",
        "probabilities in that corresponding row: 1/6 + 1/6 = 1/3\n",
        "\n",
        "# Conditional Probability Distribution\n",
        "\n",
        "The **conditional distribution** function gives us the probability of\n",
        "seeing a host of values for one random variable conditional on a\n",
        "specified value of another random variable, given the two random\n",
        "variables are jointly distributed.\n",
        "\n",
        "We can think about conditional probabilities mathematically. We will use\n",
        "the following formula to find the conditional probability density\n",
        "function:\n",
        "\n",
        "$$\n",
        "f(x | y) = \\frac {Prob ((X = x) \\bigcap (Y = y))} {Prob(Y = y)}\n",
        "$$\n",
        "\n",
        "where $f(x | y)$ represents the conditional probability that the random\n",
        "variable $X$ will take on a value of $x$ when the random variable of $Y$\n",
        "takes on a value of $y$. The $\\bigcap$ symbol simply represents the case\n",
        "that both $X$ = $x$ and $Y$ = $y$ simultaneously (a joint probability) -\n",
        "we can read this symbol as “given that”. One caveat to this equation is\n",
        "that the marginal probability that $Y = y$ must not be 0, else this\n",
        "conditional probability will be undefined.\n",
        "\n",
        "Let’s say we want to find the conditional probability of $X=1$ given\n",
        "$Y=2$. Recall the unconditional probability that $Y=1$ = 1/3. The\n",
        "conditional probability, given $Y=1$ will therefore be the probability\n",
        "of $X=1$ AND $Y=2$ divided by the probability that $Y=2$: (1/6) / (1/3)\n",
        "= 1/2.\n",
        "\n",
        "One important point to consider is that of **statistical independence of\n",
        "random variables**. Two random variables are independent if and only if\n",
        "their joint probability of occurrence equals the product of their\n",
        "marginal probabilities for all possible combinations of values of the\n",
        "random variables. In mathematical notation, this means that two random\n",
        "variables are statistically independent if and only if:\n",
        "\n",
        "$$\n",
        "f(x, y) = f_{x}(x) f_{y}(y)\n",
        "$$\n",
        "\n",
        "We can check for statistical independence of our jointly distributed\n",
        "random variables, $X$ and $Y$, quite quickly by consulting our table up\n",
        "above. Try to deduce whether these variables are independent yourself by\n",
        "multiplying combinations of marginal probabilities to see if they match\n",
        "the joint probability in the corresponding cell.\n",
        "\n",
        "Throughout these explanations, we have continually referred to the\n",
        "joint, marginal and conditional distribution of two discrete random\n",
        "variables; however, ***one or both of these variables can be\n",
        "continuous***. We focused on discrete random variables since they are\n",
        "much easier to represent in table format. Just imagine trying to create\n",
        "a table of joint probabilities for two jointly distributed continuous\n",
        "random variables: there would be near infinite cells, each of which\n",
        "would have a joint probability of about 0! Nonetheless, all of the same\n",
        "logic applies to continuous random variables. The only difference is\n",
        "that we often refer to mathematical formulas when finding the marginal\n",
        "and conditional probabily functions for these random variables, since\n",
        "their PDFs and CDFs can be represented by mathematical functions\n",
        "(provided they fit the mathematical conditions of a PDF we outlined\n",
        "earlier).\n",
        "\n",
        "One last important point to remember is that ***we can have more than\n",
        "two jointly distributed random variables***. We may want to represent\n",
        "the probability of 3, 4, or an even larger number of variables taking on\n",
        "certain values at once. While this is possible, it is not easy to\n",
        "represent graphically or in table format. That is why we have stuck to\n",
        "investigating two jointly distributed random variables in this notebook.\n",
        "However, you should keep this in mind as you progress in this course.\n",
        "\n",
        "Now is your turn to work on some exercises which will test your\n",
        "understanding of the material presented in this notebook!\n",
        "\n",
        "# Exercise 1\n",
        "\n",
        "Let the random variable $X$ denote the time (in hours) a person waits\n",
        "for their flight. This person can wait up to 2 hours for this flight.\n",
        "\n",
        "## Question 1\n",
        "\n",
        "Is $X$ a discrete or continuous random variable?"
      ],
      "id": "2a5fa163-1f8d-4fe0-8542-aa58c6139338"
    },
    {
      "cell_type": "code",
      "execution_count": null,
      "metadata": {},
      "outputs": [],
      "source": [
        "answer_1 <- \"...\" # your answer of \"discrete\" or \"continuous\" in place of ...\n",
        "\n",
        "test_1()"
      ],
      "id": "b2d48f69-7b33-4848-907c-5a23e813ccf9"
    },
    {
      "cell_type": "markdown",
      "metadata": {},
      "source": [
        "<span style=\"color:red\">Explain your reasoning here:\n",
        "\n",
        "## Question 2\n",
        "\n",
        "Say a potential probability density function representing this random\n",
        "variable (from the above flight example) is the following:\n",
        "\n",
        "$$ \n",
        "f(x) = \\begin{cases}\n",
        "x & \\text{if } 0 \\leq x \\leq 1,\\\\\n",
        "2 - x  & \\text{if } 1 \\leq x \\leq 2,\\\\\n",
        "0  & \\text{otherwise}\n",
        "\\end{cases}\n",
        "$$\n",
        "\n",
        "Is this a valid PDF?"
      ],
      "id": "741c02de-ea9e-4ec4-8037-6be5f4c571c2"
    },
    {
      "cell_type": "code",
      "execution_count": null,
      "metadata": {},
      "outputs": [],
      "source": [
        "answer_2 <- \"...\" # your answer of \"yes\" or \"no\" in place of ...\n",
        "\n",
        "test_2()"
      ],
      "id": "3f915e7d-7613-4242-b0bc-8d809c879e3f"
    },
    {
      "cell_type": "markdown",
      "metadata": {},
      "source": [
        "<span style=\"color:red\">Explain your reasoning here:\n",
        "\n",
        "## Question 3\n",
        "\n",
        "What is the probability of a person waiting up to 1.5 hours for their\n",
        "flight? Answer to 3 decimal places. **Hint**: this is not the same as\n",
        "the probability of waiting precisely 1.5 hours."
      ],
      "id": "3b8f7128-8ad9-48ba-98ea-c7277f0b1364"
    },
    {
      "cell_type": "code",
      "execution_count": null,
      "metadata": {},
      "outputs": [],
      "source": [
        "# your code here\n",
        "\n",
        "answer_3 <- ... # your answer for the cumulative probability (in decimal format, i.e. 95% = 0.95) here\n",
        "\n",
        "test_3()"
      ],
      "id": "333fde9b-a1ff-40e5-b3ad-c09e8d12795f"
    },
    {
      "cell_type": "markdown",
      "metadata": {},
      "source": [
        "# Exercise 2\n",
        "\n",
        "Let’s return to our `joint_table` for the joint distribution of discrete\n",
        "random variables `immstat` and `kol`."
      ],
      "id": "b9a27607-f974-4e9f-b8b3-c57c252cbc0a"
    },
    {
      "cell_type": "code",
      "execution_count": null,
      "metadata": {},
      "outputs": [],
      "source": [
        "joint_table"
      ],
      "id": "8762dc1d-b65a-4828-9940-63ce5dfd95c6"
    },
    {
      "cell_type": "markdown",
      "metadata": {},
      "source": [
        "## Question 1\n",
        "\n",
        "What is the probability that someone is both an immigrant and knows both\n",
        "English and French? Answer to 3 decimal places."
      ],
      "id": "ce8ed09f-0986-4954-a034-406e2075abb7"
    },
    {
      "cell_type": "code",
      "execution_count": null,
      "metadata": {},
      "outputs": [],
      "source": [
        "answer_4 <- ... # your answer for the probability (in decimal format, i.e. 95% = 0.95) here\n",
        "\n",
        "test_4()"
      ],
      "id": "77ee4a52-31d4-415e-9d8b-b5f207a117a1"
    },
    {
      "cell_type": "markdown",
      "metadata": {},
      "source": [
        "## Question 2\n",
        "\n",
        "What is the probability that someone is an immigrant given that they\n",
        "know only English? Answer to 3 decimal places."
      ],
      "id": "d389d0d5-8b30-4f12-a1cc-4ee74b54d4a0"
    },
    {
      "cell_type": "code",
      "execution_count": null,
      "metadata": {},
      "outputs": [],
      "source": [
        "# your code here\n",
        "\n",
        "answer_5 <- ... # your answer for the probability (in decimal format, i.e. 95% = 0.95) here\n",
        "\n",
        "test_5()"
      ],
      "id": "34d1fa16-0b28-452f-af77-cd6c231d5aab"
    },
    {
      "cell_type": "markdown",
      "metadata": {},
      "source": [
        "## Question 3\n",
        "\n",
        "Why is it difficult to graph a joint probability distribution function\n",
        "(either density or cumulative) for these two variables in Jupyter? Which\n",
        "type of probability density function can we easily graph in Jupyter for\n",
        "jointly distributed random variables?\n",
        "\n",
        "<span style=\"color:red\">Explain your reasoning here:\n",
        "\n",
        "# Exercise 3\n",
        "\n",
        "Let the random variable $Y$ be uniformly distributed on the range of\n",
        "values \\[20, 80\\].\n",
        "\n",
        "## Question 1\n",
        "\n",
        "What is the probability of $Y$ taking on the value of 30? Answer to 3\n",
        "decimal places. You may use a graph to help you."
      ],
      "id": "ffd0bb26-576e-4b02-9373-fe72b570a87c"
    },
    {
      "cell_type": "code",
      "execution_count": null,
      "metadata": {},
      "outputs": [],
      "source": [
        "# your code here\n",
        "\n",
        "answer_6 <- ... # your answer for the probability (in decimal format, i.e. 95% = 0.95) here\n",
        "\n",
        "test_6()"
      ],
      "id": "ef99d733-fc6f-4088-95c7-e38f12475ffc"
    },
    {
      "cell_type": "markdown",
      "metadata": {},
      "source": [
        "## Question 2\n",
        "\n",
        "What is the probability of $Y$ taking on a value of 60 or more? Answer\n",
        "to 3 decimal places."
      ],
      "id": "c92e0f3b-f1f0-4a0e-bed5-5d4a195d0fae"
    },
    {
      "cell_type": "code",
      "execution_count": null,
      "metadata": {
        "tags": []
      },
      "outputs": [],
      "source": [
        "answer_7 <- ... # your answer for the probability (in decimal format, i.e. 95% = 0.95) here\n",
        "\n",
        "test_7()"
      ],
      "id": "fceb4b80-8425-4809-921a-bac3466c55be"
    },
    {
      "cell_type": "markdown",
      "metadata": {},
      "source": [
        "## Question 3\n",
        "\n",
        "What would happen to this probability if $Y$ was expanded to be\n",
        "uniformly distributed on the range of values \\[20, 100\\]?"
      ],
      "id": "bf0410a8-fbc3-4e3a-89a1-ecee0588866d"
    },
    {
      "cell_type": "code",
      "execution_count": null,
      "metadata": {},
      "outputs": [],
      "source": [
        "answer_8 <- \"...\" # your answer of \"it would increase\" or \"it would decrease\" in place of \"...\"\n",
        "\n",
        "test_8()"
      ],
      "id": "957d0f39-b4fe-4b36-8512-4619ffe8e148"
    },
    {
      "cell_type": "markdown",
      "metadata": {},
      "source": [
        "<span style=\"color:red\">Explain your reasoning here:\n",
        "\n",
        "# Exercise 4\n",
        "\n",
        "Now let $Z$ be a normally distributed random variable representing the\n",
        "length of a piece of classical music (in minutes), with a mean of 5 and\n",
        "standard deviation of 1.5.\n",
        "\n",
        "## Question 1\n",
        "\n",
        "What is the probability that a given piece will last between 3 and 7\n",
        "minutes? Answer to 3 decimal places. You may use code to help you."
      ],
      "id": "49deb091-cbfd-4f71-9c71-7c7a10eb56f3"
    },
    {
      "cell_type": "code",
      "execution_count": null,
      "metadata": {},
      "outputs": [],
      "source": [
        "# your code here\n",
        "\n",
        "answer_9 <- ... # your answer for the probability (in decimal format, i.e. 95% = 0.95) here\n",
        "\n",
        "test_9()"
      ],
      "id": "17f1000e-127a-447b-bb11-f1cb9beb6b6a"
    },
    {
      "cell_type": "markdown",
      "metadata": {},
      "source": [
        "## Question 2\n",
        "\n",
        "If $Z$ were to remain normally distributed and have the same standard\n",
        "deviation, but the mean piece length was changed to 3 minutes, how would\n",
        "this probability change?"
      ],
      "id": "36d45255-7c05-46cc-8d54-116670c4cdcb"
    },
    {
      "cell_type": "code",
      "execution_count": null,
      "metadata": {},
      "outputs": [],
      "source": [
        "answer_10 <- \"...\" # your answer of \"it would increase\" or \"it would decrease\" in place of \"...\"\n",
        "\n",
        "test_10()"
      ],
      "id": "67829378-3ca7-41a0-8b80-70f42cd129bd"
    },
    {
      "cell_type": "markdown",
      "metadata": {},
      "source": [
        "<span style=\"color:red\">Explain your reasoning here:\n",
        "\n",
        "## Question 3\n",
        "\n",
        "Returning to our original $Z$ variable (with mean 5), if the standard\n",
        "deviation were to decrease to 1, how would this probability change?"
      ],
      "id": "5158b4de-7e36-49b3-bfac-c3a02790d31f"
    },
    {
      "cell_type": "code",
      "execution_count": null,
      "metadata": {},
      "outputs": [],
      "source": [
        "answer_11 <- \"...\" # your answer of \"it would increase\" or \"it would decrease\" in place of \"...\"\n",
        "\n",
        "test_11()"
      ],
      "id": "d9a455fb-29e2-4531-a97d-1879de4fe52d"
    },
    {
      "cell_type": "markdown",
      "metadata": {},
      "source": [
        "<span style=\"color:red\">Explain your reasoning here:\n",
        "\n",
        "# Part 2: Parametric Distributions\n",
        "\n",
        "You may have noticed that all of the examples we used were for\n",
        "*empirical* distributions. This was because we don’t really know what\n",
        "the *population* distributions which make up the census actually are.\n",
        "However, many statistics *do* have known distributions which are very\n",
        "important to recognize and understand.\n",
        "\n",
        "Now that we have a strong background in random variables and the various\n",
        "probability functions which represent them, we can look at the three\n",
        "most famous examples of distributions:\n",
        "\n",
        "-   uniform distribution\n",
        "-   normal (or Gaussian) distribution\n",
        "-   student $t$-distribution\n",
        "\n",
        "These are called **parametric** distributions because (as we will see)\n",
        "they can be described by a set of numbers called *parameters*. For\n",
        "instance, the normal distribution’s two *parameters* are the mean and\n",
        "standard deviation.\n",
        "\n",
        "All the parametric distributions explained in this module are analyzed\n",
        "using four R commands. The four commands will start with the prefixes: -\n",
        "`d` for “density”: it produces the probability density function (PDF) -\n",
        "`p` for “probability”: it produces the cumulative distribution function\n",
        "(CDF) - `q` for “quantile”: it produces the inverse cumulative\n",
        "distribution function, also called the quantile function - `r` for\n",
        "“random”: generates random numbers from a particular parametric\n",
        "distribution\n",
        "\n",
        "## Uniform Distribution\n",
        "\n",
        "A continuous variable has a **uniform distribution** if all values have\n",
        "the same likelihood of occurring. Therefore, the variable’s density\n",
        "curve is a rectangle, with constant height across the interval and 0\n",
        "height elsewhere. Since the area under the curve must be equal to 1, the\n",
        "length of the interval determines the height of the curve. A good\n",
        "example of a random event that has a uniform distribution is rolling a\n",
        "dice. Rolling each of the six numbers is equally likely.\n",
        "\n",
        "Let’s see with a variable what this kind of distribution might look\n",
        "like. To do this, we will generate random values from this distribution\n",
        "using the function `runif()`. This command is written as\n",
        "`runif(n, min = , max = )`, where `n` is the number of observations, and\n",
        "`max` and `min` provide the interval between which the random variables\n",
        "are picked from.\n",
        "\n",
        "### Simulation"
      ],
      "id": "56bf516a-51bf-4be5-8c7e-5ef4af5ed3d1"
    },
    {
      "cell_type": "code",
      "execution_count": null,
      "metadata": {},
      "outputs": [],
      "source": [
        "example_unif <- runif(10000, min = 10, max = 100)\n",
        "hist(example_unif, freq = FALSE, xlab = 'x', xlim = c(0,100), main = \"Empirical PDF for uniform random values on [0,100]\")"
      ],
      "id": "7e115d58-23eb-4582-9e44-91570476d981"
    },
    {
      "cell_type": "markdown",
      "metadata": {},
      "source": [
        "You may be wondering why all the bars aren’t the exact same height if\n",
        "each number is equally likely to be drawn. This is because of random\n",
        "chance. Each number is within the specified range is equally likely to\n",
        "be drawn, but out of random chance some ranges of numbers are being\n",
        "drawn at higher frequencies than others. If you re-run the previous code\n",
        "cell, you will see that the shape of the distribution changes each time.\n",
        "\n",
        "Since we know what this distribution is, we can plot the population\n",
        "distribution, and visualize it.\n",
        "\n",
        "For instance, suppose we have a uniform random variable $X$ defined on\n",
        "the interval $(10,50)$. Since the interval has a width of 40, so the\n",
        "curve must have a height of $\\frac{1}{40} = 0.024$ over the interval and\n",
        "0 elsewhere. The probability that $X \\leq 25$ is the area between 10 and\n",
        "25, or $(25-10)\\cdot 0.025 = 0.375$. Naturally, these kinds of\n",
        "calculations are much easier to do using R!\n",
        "\n",
        "### PDF\n",
        "\n",
        "The `dunif()` function calculates the uniform probability density\n",
        "function for a variable and can also calculate a specific value’s\n",
        "density."
      ],
      "id": "c1dffa8a-2cee-4ee2-a2c4-69088cc6c422"
    },
    {
      "cell_type": "code",
      "execution_count": null,
      "metadata": {},
      "outputs": [],
      "source": [
        "range <- seq(0, 100, by = 1) # creating a variable with a uniform distribution\n",
        "ex.dunif <- dunif(range, min = 10, max = 60) # calculating the PDF of the variable \"range\"\n",
        "plot(ex.dunif, type = \"o\") # plotting the PDF"
      ],
      "id": "79f56126-cb77-4288-b0b0-03d5cd4fb9f1"
    },
    {
      "cell_type": "markdown",
      "metadata": {},
      "source": [
        "### CDF\n",
        "\n",
        "The `punif()` function calculates the uniform cumulative distribution\n",
        "function for the set of values."
      ],
      "id": "66c20651-d6df-4d78-bb01-2727a9725832"
    },
    {
      "cell_type": "code",
      "execution_count": null,
      "metadata": {},
      "outputs": [],
      "source": [
        "x_cdf <- punif(range,      # Vector of quantiles\n",
        "      min = 10,            # Lower limit of the distribution (a)\n",
        "      max = 50,            # Upper limit of the distribution (b)\n",
        "      lower.tail = TRUE,   # If TRUE, probabilities are P(X <= x), or P(X > x) otherwise\n",
        "      log.p = FALSE)       # If TRUE, probabilities are given as log\n",
        "plot(x_cdf, type = \"l\")"
      ],
      "id": "5ab51ec2-948b-40c0-abbb-93546823ebc0"
    },
    {
      "cell_type": "markdown",
      "metadata": {},
      "source": [
        "The `qunif()` function calculates, based on the cumulative probability,\n",
        "where a specific value is located in the distribution of density and\n",
        "helps us access the quantile distribution probability values from the\n",
        "data."
      ],
      "id": "624bac93-698a-4339-9074-40e83527bef6"
    },
    {
      "cell_type": "code",
      "execution_count": null,
      "metadata": {},
      "outputs": [],
      "source": [
        "quantiles <- seq(0, 1, by = 0.01)\n",
        "y_qunif <- qunif(quantiles, min = 10, max = 50)    \n",
        "plot(y_qunif, type = \"l\")"
      ],
      "id": "19662068-3e68-41cf-8699-de7befe1a1ff"
    },
    {
      "cell_type": "markdown",
      "metadata": {},
      "source": [
        "## Normal (Gaussian) Distribution\n",
        "\n",
        "We first saw the normal distribution in the *Central Tendency notebook*\n",
        "and we are now better equipped to understand its nuances. The normal\n",
        "distribution is a special type of distribution for a number of reasons:\n",
        "it is fundamental to many statistic processes. Many random variables in\n",
        "natural and social sciences are normally distributed. Height, birth\n",
        "weight or SAT scores all follow a normal distribution.\n",
        "\n",
        "This kind of distribution is referred to as “normal” because it’s\n",
        "distribution is symmetrical and bell-shaped. A normal distribution is\n",
        "**parameterized** by its mean $\\mu$ and its standard deviation $\\sigma$,\n",
        "and it is expressed as $N(\\mu,\\sigma)$. Without knowing the mean and the\n",
        "standard deviation one cannot calculate the normal distribution.\n",
        "\n",
        "The PDF has a complex equation, which can be written as:\n",
        "\n",
        "$$\n",
        "f(x; \\mu, \\sigma) = \\displaystyle \\frac{x^{-(x-\\mu)^{2}/(2\\sigma^{2})}}{\\sigma\\sqrt{2\\pi}}\n",
        "$$\n",
        "\n",
        "A **standard normal distribution** is is a special normal distribution,\n",
        "characterized for having a mean equal to zero and a standard deviation\n",
        "equal to 1 ($\\mu=0$ and $\\sigma=1$). Hence, $N(0,1)$: - Standard normal\n",
        "variables are often denoted by $Z$ - Usually, the standard normal PDF is\n",
        "denoted by $\\phi$ and the standard normal CDF is denoted by $\\Phi$\n",
        "\n",
        "To generate simulated normal random variables, we can use the\n",
        "`rnorm()`this function. It is similar to the `runif()` function we saw\n",
        "earlier:\n",
        "\n",
        "### Simulation"
      ],
      "id": "b0d8b305-25b1-40b0-b1b5-0295c6542288"
    },
    {
      "cell_type": "code",
      "execution_count": null,
      "metadata": {},
      "outputs": [],
      "source": [
        " x <- rnorm(10000, # number of observations\n",
        "            mean = 0, # mean\n",
        "            sd = 1) # sd\n",
        " hist(x, probability=TRUE) # the command hist() creates a histogram using variable x,\n",
        " xx <- seq(min(x), max(x), length=100)\n",
        " lines(xx, dnorm(xx, mean=0, sd=1))"
      ],
      "id": "4bb4e6c3-2ac7-41e6-96fd-e3dc90c16fcb"
    },
    {
      "cell_type": "markdown",
      "metadata": {},
      "source": [
        "### PDF\n",
        "\n",
        "As with the uniform distribution, we can use `dnorm` to plot the\n",
        "standard normal pdf."
      ],
      "id": "eead728d-a5fb-4831-8106-892fcc1568ff"
    },
    {
      "cell_type": "code",
      "execution_count": null,
      "metadata": {},
      "outputs": [],
      "source": [
        " # create a sequence of 100 equally spaced numbers between -4 and 4\n",
        " x <- seq(-4, 4, length=100)\n",
        "\n",
        " # create a vector of values that shows the height of the probability distribution\n",
        " # for each value in x\n",
        " y <- dnorm(x)\n",
        "\n",
        " # plot x and y as a scatterplot with connected lines (type = \"l\") and add\n",
        " # an x-axis with custom labels\n",
        " plot(x,y, type = \"l\", lwd = 2, axes = FALSE, xlab = \"\", ylab = \"\")\n",
        " axis(1, at = -3:3, labels = c(\"-3s\", \"-2s\", \"-1s\", \"mean\", \"1s\", \"2s\", \"3s\"))"
      ],
      "id": "bf6b68e4-d3d3-4999-86bb-eb102ebbe097"
    },
    {
      "cell_type": "markdown",
      "metadata": {},
      "source": [
        "We have used the random values generated to observe the bell shaped\n",
        "distribution of this random variable. As it can be seen in the graph,\n",
        "the mean is zero (that is where all the values converge) and the\n",
        "standard deviation is one therefore, this is a standard normal PDF. We\n",
        "can change the numbers of mean and sd in the `rnorm()` command to make\n",
        "the distribution not standard as well.\n",
        "\n",
        "### CDF\n",
        "\n",
        "`pnorm()` - this function can give the entire CDF curve of a normally\n",
        "distributed random *variable* as well as give the probability of a\n",
        "normally distributed random *number* to be less than the value of a\n",
        "given number."
      ],
      "id": "b852e72d-efcf-4df5-bb1a-f2fa6c910e7d"
    },
    {
      "cell_type": "code",
      "execution_count": null,
      "metadata": {},
      "outputs": [],
      "source": [
        " curve(pnorm(x), \n",
        "       xlim = c(-3.5, 3.5), \n",
        "       ylab = \"Probability\", \n",
        "       main = \"Standard Normal Cumulative Distribution Function\")"
      ],
      "id": "343442ff-f884-461b-9db2-6323c90648b6"
    },
    {
      "cell_type": "code",
      "execution_count": null,
      "metadata": {},
      "outputs": [],
      "source": [
        " pnorm(27.4, mean=50, sd=20) # gives you the CDF at that specific location\n",
        " pnorm(27.4, 50, 20)"
      ],
      "id": "0df9076f-1301-4190-80f4-d85bbe8a06ca"
    },
    {
      "cell_type": "markdown",
      "metadata": {},
      "source": [
        "The`qnorm()` function takes the density value and gives a number with a\n",
        "matching cumulative value. Therefore, `qnorm()` gives the the inverse of\n",
        "the CDF. `qnorm()` can also create a percent point function (ppf). A ppf\n",
        "is the inverse curve of the cumulative distribution function. The CDF of\n",
        "a specific value is the probability of a normally distributed value of a\n",
        "random variable to be less than the value of a **given number**. For the\n",
        "percent point function, we start with that probability and then compute\n",
        "the corresponding **given number** for the cumulative distribution. In\n",
        "other words the answer of `qnorm()` will be the number where the area\n",
        "before it is X% of the sample."
      ],
      "id": "721308b5-935e-4836-91d5-4c44c5066cb3"
    },
    {
      "cell_type": "code",
      "execution_count": null,
      "metadata": {},
      "outputs": [],
      "source": [
        "  curve(qnorm(x), \n",
        "       xlim = c(0, 1), \n",
        "       xlab = \"Probability\",\n",
        "       ylab = \"x\", \n",
        "       main = \"Quantile (inverse CDF) Function\")"
      ],
      "id": "e5344b4b-fce0-4608-882b-30dbc0b824cf"
    },
    {
      "cell_type": "code",
      "execution_count": null,
      "metadata": {},
      "outputs": [],
      "source": [
        " qnorm(0.95, mean=100, sd=15)"
      ],
      "id": "3d20d326-9955-459e-ab4a-6726707db3fc"
    },
    {
      "cell_type": "markdown",
      "metadata": {},
      "source": [
        "Finally, the function `dnorm()` gives the height of the probability\n",
        "distribution at each point for a given mean and standard deviation. The\n",
        "height of the pdf curve is the density. This function can also be used\n",
        "to calculate the entire density curve, as observed in the command\n",
        "*lines(xx, dnorm(xx, mean=0, sd=1))*"
      ],
      "id": "84a9bf8a-af03-4328-a150-181513fde1b5"
    },
    {
      "cell_type": "code",
      "execution_count": null,
      "metadata": {},
      "outputs": [],
      "source": [
        " dnorm(100, mean=100, sd=15)"
      ],
      "id": "95e1b95a-dee9-474b-9e6a-72bc0d32d6ae"
    },
    {
      "cell_type": "markdown",
      "metadata": {},
      "source": [
        "## Student’s $t$-Distribution\n",
        "\n",
        "The **Student’s $t$-distribution** is a continuous distribution that\n",
        "arises when estimating the sampling distribution of a normally\n",
        "distributed population in situations where the sample size is small and\n",
        "the population’s standard deviation is unknown. This may seem esoteric,\n",
        "but it’s actually really important: we will explore the concept of\n",
        "sampling distributions in a later module.\n",
        "\n",
        "The $t$-distribution is based on the number of observations and the\n",
        "degrees of freedom. A degree of freedom ($\\nu$) refers to the maximum\n",
        "number of logically independent values, which are values that have the\n",
        "freedom to vary, in the data sample. In other words, it is the number of\n",
        "values that need to be known in order to know all of the values. For\n",
        "example, imagine you have 3 values which have an average of 5. If you\n",
        "sample two of the values and they turn out to be 4, and 5, even without\n",
        "sampling the final value, there is no freedom in the last value.\n",
        "\n",
        "In the case of the $t$-distribution the degree(s) of freedom can be\n",
        "represented as $\\nu = n-1$, with $n$ being the sample size. When $\\nu$\n",
        "is large, the $t$-distribution begins to look like a standard normal\n",
        "distribution. This approximation between standard normal and\n",
        "$t$-distribution can start being noticed around $\\nu \\geq 30$.\n",
        "\n",
        "As with the uniform and normal distribution, to generate random values\n",
        "that together have a t-distribution we add the prefix `r` to the name of\n",
        "the distribution, `rt()`.\n",
        "\n",
        "### Simulation"
      ],
      "id": "8ceee64b-4878-4e08-bf46-a8f75a0b0d20"
    },
    {
      "cell_type": "code",
      "execution_count": null,
      "metadata": {},
      "outputs": [],
      "source": [
        " n <- 100\n",
        " df <- n - 1\n",
        " samples <- rt(n, df)\n",
        " hist(samples,breaks = 20, freq = FALSE)\n",
        " xx <- seq(min(samples), max(samples), length=100)\n",
        " lines(xx, dt(xx, df))"
      ],
      "id": "3e9eec0c-73b9-475e-a2d1-19e082964154"
    },
    {
      "cell_type": "markdown",
      "metadata": {},
      "source": [
        "A very interesting characteristic of the t-distribution that can be\n",
        "observed from this graph is that, although it is bell-shaped and\n",
        "symmetrical like the normal distribution, the t-distribution is not as\n",
        "thin as a normal distribution. That means that the data is more spread\n",
        "out than a normal distribution a characteristic which is explained by\n",
        "the central limit theorem (CLT) and law of large numbers (LLN), concepts\n",
        "that will be explained in a future module.\n",
        "\n",
        "### PDF\n",
        "\n",
        "The function `dt()` calculates the PDF of a particular variable or the\n",
        "density of a particular value of a variable, depending on the sample\n",
        "size and degrees of freedom. In the examples shown below we will be\n",
        "using the variable `ex.tvalues` which is a sequence of numbers ranging\n",
        "from -4 to 4 with increments of 0.01. Therefore there are 800 numbers\n",
        "generated which means the degrees of freedom = 799."
      ],
      "id": "1ecca0d6-4c3c-46fe-bd64-7056fd1e863d"
    },
    {
      "cell_type": "code",
      "execution_count": null,
      "metadata": {},
      "outputs": [],
      "source": [
        " ex.tvalues <- seq(- 4, 4, by = 0.01)  # generating a sequence of number \n",
        " ex_dt <- dt(ex.tvalues, df = 799) # calculating the PDF\n",
        " plot(ex_dt, type=\"l\")     "
      ],
      "id": "cfa131a0-08d4-4ae0-b19c-76d7e614b3bf"
    },
    {
      "cell_type": "markdown",
      "metadata": {},
      "source": [
        "### CDF\n",
        "\n",
        "The `pt()` function calculates the entire CDF curve of a t-distributed\n",
        "random *variable* and gives the probability of a t-distributed random\n",
        "*number* that is less that the value of a given number."
      ],
      "id": "1d862707-7834-4988-a04d-70e4ee6ac060"
    },
    {
      "cell_type": "code",
      "execution_count": null,
      "metadata": {},
      "outputs": [],
      "source": [
        " ex_pt <- pt(ex.tvalues, df = 799)   # calculating CDF\n",
        " plot(ex_pt, type = \"l\") "
      ],
      "id": "e1941b46-3c93-4e28-afac-12355b85f2ee"
    },
    {
      "cell_type": "markdown",
      "metadata": {},
      "source": [
        "`qnorm()`- this function takes the probability value and gives a number\n",
        "whose cumulative value matches the probability value. `qnorm()` can also\n",
        "create a percent point function (ppf)."
      ],
      "id": "8dabaa7f-139b-471e-8864-9e9c81e3ceaf"
    },
    {
      "cell_type": "code",
      "execution_count": null,
      "metadata": {},
      "outputs": [],
      "source": [
        " ex.qtvalues <- seq(0, 1, by = 0.01)  # generating a sequence of number \n",
        " ex_qt <- qt(ex.qtvalues, df = 99)  # calculating the ppf\n",
        " plot(ex_qt, type = \"l\") # plotting the ppf "
      ],
      "id": "fd4f8713-0ea0-4c8e-922a-d68cb113c744"
    },
    {
      "cell_type": "markdown",
      "metadata": {},
      "source": [
        "Beyond these three common distributions, there are many other types of\n",
        "distributions which relatively accurately fit data. Examples include\n",
        "chi-square distribution or f-distribution. However, in rare cases, we\n",
        "may encounter variables for which we cannot fit a distribution. Perhaps\n",
        "the data is distributed sporadically and is not well approximated by any\n",
        "common distribution. In these cases, we describe it as a\n",
        "non-parametrical distribution.\n",
        "\n",
        "# Part 3: Exercises\n",
        "\n",
        "## Exercise 12\n",
        "\n",
        "Which of the following random variables are most likely to be\n",
        "uniformally distributed.\n",
        "\n",
        "**A.** The height of a UBC student  \n",
        "**B.** The wages of a UBC student  \n",
        "**C.** The birthday of a UBC student"
      ],
      "id": "f59d61f3-229f-4f34-b52b-e11ac4e9d62c"
    },
    {
      "cell_type": "code",
      "execution_count": null,
      "metadata": {},
      "outputs": [],
      "source": [
        "# Enter your answer here as \"A\", \"B\", or \"C\"\n",
        "\n",
        "answer_12 <- \"...\"\n",
        "test_12(answer_12)"
      ],
      "id": "3eb18ece-049e-49f2-a993-b0ade44d7be8"
    },
    {
      "cell_type": "markdown",
      "metadata": {},
      "source": [
        "## Exercise 13\n",
        "\n",
        "Which of the following random variables are most likely to be normally\n",
        "distributed.\n",
        "\n",
        "**A.** The height of a UBC student  \n",
        "**B.** The grades of a particular course  \n",
        "**C.** The birthday of a UBC student"
      ],
      "id": "b669657f-2155-443a-945a-90b03d67146e"
    },
    {
      "cell_type": "code",
      "execution_count": null,
      "metadata": {
        "tags": []
      },
      "outputs": [],
      "source": [
        "# Enter your answer here as \"A\", \"B\", or \"C\"\n",
        "\n",
        "answer_13 <- \"...\"\n",
        "test_13(answer_13)"
      ],
      "id": "78ef24e7-fe07-4fc1-ae6a-a431f4f89c4d"
    },
    {
      "cell_type": "markdown",
      "metadata": {},
      "source": [
        "## Exercise 14\n",
        "\n",
        "Given our uniform distribution `example_unif`, find $F(72)$. Note that\n",
        "you don’t need to calculate the exact probability given the\n",
        "distribution. To answer the question, you only need to know that this\n",
        "random variable is uniformly distributed for values between 10 and 100."
      ],
      "id": "e5293f1c-e0c9-43db-976f-ec12a650bb13"
    },
    {
      "cell_type": "code",
      "execution_count": null,
      "metadata": {},
      "outputs": [],
      "source": [
        "# Enter your answer as an integer below. Your answer should only have one decimal place. \n",
        "\n",
        "answer_14 <- ...\n",
        "test_14()"
      ],
      "id": "ae5c57a4-ca36-41d3-aed9-764b25766da7"
    },
    {
      "cell_type": "markdown",
      "metadata": {},
      "source": [
        "## Exercise 15\n",
        "\n",
        "Assume we have a standard normal distribution. Find $F(0)$"
      ],
      "id": "f329ff0b-14f5-4c16-b019-2834530f6076"
    },
    {
      "cell_type": "code",
      "execution_count": null,
      "metadata": {},
      "outputs": [],
      "source": [
        "# Enter your answer as an integer below. Your answer should only have one decimal place\n",
        "\n",
        "answer_15 <- ...\n",
        "test_15()"
      ],
      "id": "9d2b3a09-2ff3-449f-b947-bf3904b27951"
    },
    {
      "cell_type": "markdown",
      "metadata": {},
      "source": [
        "## Exercise 16\n",
        "\n",
        "Let’s assume we have a students $t-$distribtion that is nearly\n",
        "coincident to the corresponding normal distribution. What must be true?\n",
        "\n",
        "**A.** The degrees of freedom parameter must be very large.  \n",
        "**B.** The degrees of freedom parameter must be very small.  \n",
        "**C.** The degrees of freedom parameter must be equal to the mean of the\n",
        "normal distribution."
      ],
      "id": "dd8667ce-72b8-464e-9761-9bc80a382a85"
    },
    {
      "cell_type": "code",
      "execution_count": null,
      "metadata": {},
      "outputs": [],
      "source": [
        "# Enter your answer here as \"A\", \"B\", or \"C\"\n",
        "\n",
        "answer_16 <- \"...\"\n",
        "test_16(answer_16)"
      ],
      "id": "2f30ed32-3ec0-4e5a-b779-e51c88b2f93d"
    }
  ],
  "nbformat": 4,
  "nbformat_minor": 5,
  "metadata": {
    "kernelspec": {
      "name": "ir",
      "display_name": "R",
      "language": "r"
    }
  }
}