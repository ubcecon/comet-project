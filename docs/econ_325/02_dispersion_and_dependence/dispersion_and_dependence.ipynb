{
  "cells": [
    {
      "cell_type": "markdown",
      "metadata": {},
      "source": [
        "# 02 - ECON 325: Dispersion and Dependence\n",
        "\n",
        "COMET Team <br> *Oliver (Junye) Xu, Anneke Dresselhuis, Jonathan\n",
        "Graves*  \n",
        "2023-01-12\n",
        "\n",
        "## Outline\n",
        "\n",
        "### Prerequisites\n",
        "\n",
        "-   Introduction to Jupyter\n",
        "-   Introduction to R\n",
        "-   Introduction to Visualization\n",
        "-   Central Tendency\n",
        "-   Distribution\n",
        "\n",
        "### Outcomes\n",
        "\n",
        "This notebook explains the concepts of dispersion and dependence. After\n",
        "completing this notebook, you will be able to:\n",
        "\n",
        "-   Understand and interpret measures of dispersion, including variance\n",
        "    and standard deviation\n",
        "-   Understand and interpret measures of dependence, including\n",
        "    covariance and correlation\n",
        "-   Investigate, compute, and interpret common descriptive statistics\n",
        "-   Create summary tables for variables, including qualitative variables\n",
        "-   Parse summary statistics for meaning\n",
        "\n",
        "### References\n",
        "\n",
        "-   [Introductory\n",
        "    Statistics](https://openstax.org/books/introductory-statistics/pages/2-7-measures-of-the-spread-of-the-data)\n",
        "\n",
        "# Introduction\n",
        "\n",
        "In this notebook, we will continue learning about how to use descriptive\n",
        "statistics to represent sets of data. We’ve already seen how to compute\n",
        "measures of central tendency and determine which measures are\n",
        "appropriate for given situations. We’ll now focus on computing measures\n",
        "of dispersion and dependence in order to better understand both the\n",
        "variation of variables, as well as relationships between variables in a\n",
        "data set. We’ll dedicate time to both measures, but we’ll look at\n",
        "dispersion first. Let’s first import our familiar 2016 Census data set\n",
        "from Statistics Canada."
      ],
      "id": "4498b2b1-d295-42b1-acc7-baf042ef3b8c"
    },
    {
      "cell_type": "code",
      "execution_count": null,
      "metadata": {},
      "outputs": [],
      "source": [
        "source(\"testing_dispersion_and_dependence.r\")\n",
        "\n",
        "# load packages\n",
        "library(tidyverse)\n",
        "library(haven)\n",
        "library(ggplot2)\n",
        "\n",
        "# Reading in the data\n",
        "census_data <- read_dta(\"../datasets/01_census2016.dta\")"
      ],
      "id": "5fa988b2-c1d8-4180-9a65-e5002e9959a7"
    },
    {
      "cell_type": "markdown",
      "metadata": {},
      "source": [
        "# Understanding Measures of Dispersion\n",
        "\n",
        "Measures of dispersion describe the spread of data, that is, the\n",
        "possible values that a variable in a data set can take on. Common\n",
        "measures of dispersion which we’ll look at include the range,\n",
        "interquartile range, standard deviation and variance.\n",
        "\n",
        "## Range and Interquartile Range\n",
        "\n",
        "We’ve already seen the range and interquartile range in the *Central\n",
        "Tendency* notebook. Remember, the **range** is the difference between\n",
        "the maximum and minimum value that a variable takes on, while the\n",
        "**interquartile range** is the difference between the 75th and 25th\n",
        "percentile values. We can use functions like `quantile()` and\n",
        "`fivenum()` to calculate these statistics quite quickly.\n",
        "\n",
        "Both functions return the same output: a list that includes the minimum\n",
        "value, 25th percentile, 50th percentile (median), 75th percentile, and\n",
        "maximum value. In this way, these commands allow us to construct a\n",
        "snapshot of both the spread of the middle 50% of data around the median\n",
        "(the interquartile range), as well as the spread of the data in its\n",
        "entirely (the range).\n",
        "\n",
        "## Variance\n",
        "\n",
        "The **variance** is the average of the squared differences from the\n",
        "mean. A small variance indicates that observations tend to fall close to\n",
        "the mean, while a high variance indicates that observations are very\n",
        "spread out from the mean. The standard deviation (discussed next) is\n",
        "also the square root of variance, although we we won’t spend much time\n",
        "on variance here.\n",
        "\n",
        "> For example, a normal distribution with `mean = 30` and `sd = 5` is\n",
        "> exactly the same thing as a normal distribution with `mean = 30` and\n",
        "> `variance = 25`.\n",
        "\n",
        "The biggest difference between the two is that the variance is a squared\n",
        "measure and does not have the *same units* as the data in the way that\n",
        "the standard deviation does; hence why we usually work with standard\n",
        "deviation instead.\n",
        "\n",
        "# Standard Deviation\n",
        "\n",
        "The most commonly referenced measure of dispersion is **standard\n",
        "deviation**. This statistic measures dispersion around the mean. More\n",
        "specifically, it takes the squared value of the sum of the squared\n",
        "difference between each value and the mean for a given variable.\n",
        "\n",
        "For drawn samples from the population:\n",
        "\n",
        "$$\n",
        "s_{x}^2 = \\frac{\\sum_{i=0}^{n} (x_i - \\overline{x})^2}{n - 1}\n",
        "$$\n",
        "\n",
        "$$\n",
        "s_{x} = \\sqrt{s_{x}^2} = \\sqrt{\\frac{\\sum_{i=0}^{n} (x_i - \\overline{x})^2}{n - 1}}\n",
        "$$\n",
        "\n",
        "For the population:\n",
        "\n",
        "$$\n",
        "\\sigma_{x}^2 = \\int(x - \\mu)^2 f(x) dx\n",
        "$$\n",
        "\n",
        "$$\n",
        "\\sigma_{x} = \\sqrt{\\sigma_{x}^2}\n",
        "$$\n",
        "\n",
        "> **Note**: In general, we use samples to estimate population parameters\n",
        "> and some samples have more information to estimate than others. For\n",
        "> instance, an estimate of the population variance based on a sample\n",
        "> size of 100 certainly has more information than a sample size of 10.\n",
        "> The degrees of freedom is the amount of information an estimate has.\n",
        "> The degrees of freedom for an estimate is equal to the number of\n",
        "> observations minus the number of parameters we would like to estimate.\n",
        "> Thus, the degrees of freedom of our estimate of variance (sample\n",
        "> variance) is equal to *n - 1*.\n",
        "\n",
        "In R, we can use the `var()` function to calculate the variance of a\n",
        "variable, and the `sd()` function for the standard deviation."
      ],
      "id": "f2aaf6b2-2dc8-4c6e-9098-818a7db3905b"
    },
    {
      "cell_type": "code",
      "execution_count": null,
      "metadata": {
        "tags": []
      },
      "outputs": [],
      "source": [
        "# calculate the variance of wage\n",
        "variance <- var(census_data$wages, na.rm = TRUE)"
      ],
      "id": "a114a595-801b-44de-8ff6-0a4fbcb9ea0a"
    },
    {
      "cell_type": "markdown",
      "metadata": {},
      "source": [
        "We can see the relationship between the standard deviation and the\n",
        "variance by taking the `sqrt()` of the variance to find the standard\n",
        "deviation below:"
      ],
      "id": "33ade133-0572-47fd-8fb9-22867edcaae3"
    },
    {
      "cell_type": "code",
      "execution_count": null,
      "metadata": {},
      "outputs": [],
      "source": [
        "# fill in the ... with your code below to find the sd of wages\n",
        "answer_6 <- ...(var(census_data$wages, na.rm = TRUE))\n",
        "test_6()"
      ],
      "id": "ea9cd628-f3ad-4d81-9e51-0dae61240b09"
    },
    {
      "cell_type": "code",
      "execution_count": null,
      "metadata": {},
      "outputs": [],
      "source": [
        "# fill in the ... with your code below to find the sd of wages\n",
        "answer_6 <- sqrt(var(census_data$wages, na.rm = TRUE))\n",
        "test_6()"
      ],
      "id": "c84a8f74-5355-4107-88d6-c07addb8c34f"
    },
    {
      "cell_type": "code",
      "execution_count": null,
      "metadata": {},
      "outputs": [],
      "source": [
        "# recall the mean of wages\n",
        "mean(census_data$wages, na.rm = TRUE) # remember that we need to remove all NA values otherwise R won't let us compute our summary statistics!\n",
        "\n",
        "# calculate the standard deviation of wages\n",
        "sd(census_data$wages, na.rm = TRUE) "
      ],
      "id": "4e1eafcb-d9d0-473f-a325-c11bae33705a"
    },
    {
      "cell_type": "markdown",
      "metadata": {},
      "source": [
        "From the above, we can see that the standard deviation nicely comes in\n",
        "the same units as our variable of interest. It is also necessarily a\n",
        "positive or zero value. This convenience is partly why the standard\n",
        "deviation is such a preferred measure of dispersion.\n",
        "\n",
        "## Interpreting Variation\n",
        "\n",
        "Let’s say we’re interested in understanding how the `wages` variable was\n",
        "dispersed around the mean.\n",
        "\n",
        "In the case of `wages` above, we have a pretty high standard deviation,\n",
        "even higher than our mean! This tells us that most of the Canadians in\n",
        "the data set have a wage which lies approximately \\\\64275.27 away from\n",
        "the mean of \\\\54482.52.\n",
        "\n",
        "This large standard deviation tells us that there is high variation\n",
        "between wage observations and that some of them are spread out very far\n",
        "from the mean, suggesting we have it is likely we have a lot of outliers\n",
        "in the data set (this is common for wage distribution in the presence of\n",
        "income inequality). This brings us to a general rule: the standard\n",
        "deviation is small when the data are all concentrated close to the mean,\n",
        "while the standard deviation is large when the data are spread out away\n",
        "from the mean.\n",
        "\n",
        "# Empirical Rule\n",
        "\n",
        "Recall again from the *Central Tendency* notebook that data often\n",
        "approximately follow a normal distribution (symmetrical distribution\n",
        "wherein the mean value is also the median). For a variable with values\n",
        "distributed in this way, there is a standard when discussing their\n",
        "standard deviation. We say that about 68% of these values are within 1\n",
        "standard deviation of the mean, about 95% are within 2 standard\n",
        "deviations of the mean, and about 99.7% are within 3 standard deviations\n",
        "from the mean. Remaining observations are extreme outliers and\n",
        "incredibly rare. This is called the **68-95-99.7 rule or Empirical\n",
        "Rule**, and is visualized in the diagram below.\n",
        "\n",
        "<img src=\"media/standard_deviation_examples.png\">\n",
        "\n",
        "This gives us a helpful frame of reference when discussing the standard\n",
        "deviation of a variable. Although we already saw that the `wages`\n",
        "variable follows a relatively skewed distribution, we can imagine a\n",
        "variable that doesn’t - for example: test scores. If the mean score on a\n",
        "test is 70 and the standard deviation is 10, this tells us that\n",
        "approximately 68% of students who wrote that test earned a score between\n",
        "60 and 80 (1 standard deviation), approximately 95% earned a score\n",
        "between 50 and 90 (2 standard deviations) and virtually everyone earned\n",
        "a score between 40 and 100 (3 standard deviations).\n",
        "\n",
        "# Understanding Measures of Dependence\n",
        "\n",
        "Measures of **dependence** compute relationships between variables. The\n",
        "two most common measures of the relation between variables are\n",
        "covariance and correlation. We will investigate each of these, one at a\n",
        "time.\n",
        "\n",
        "# Covariance\n",
        "\n",
        "**Covariance** is a measure of the direction of a relationship between\n",
        "two variables. More specifically, it can be broken down into a positive\n",
        "case (meaning the two variables are positively related) and a negative\n",
        "case (meaning the two variables are negatively related). If two\n",
        "variables are positively related, it means that when one goes up, we can\n",
        "expect the other to go up, and vice versa when one goes down. If two\n",
        "variables are negatively related, it means that when one goes up, the\n",
        "other goes down and vice versa. It is similar to the idea of variance\n",
        "that we just covered, but where variance measures how a *single*\n",
        "variable varies, covariance measures how *two* variables vary together.\n",
        "\n",
        "Sample Covariance:\n",
        "\n",
        "$$\n",
        "cov_{x,y}=\\frac{\\sum_{i=1}^{n}(x_{i}-\\bar{x})(y_{i}-\\bar{y})}{n-1}\n",
        "$$\n",
        "\n",
        "Population Covariance:\n",
        "\n",
        "$$\n",
        "cov_{x,y}=\\int\\int(x_{i}-\\bar{x})(y_{i}-\\bar{y})f(x,y)dxdy\n",
        "$$\n",
        "\n",
        "> **Note**: As mentioned above, in R, the data only represents a sample.\n",
        "> This is why we use *n - 1* as a denominator, where *n* is the number\n",
        "> of observations. When dealing with samples, the denominator has the\n",
        "> freedom to vary (Degrees of Freedom). We only know *sample* means for\n",
        "> both variables, so we use *n - 1* to make the estimator unbiased,\n",
        "> because *n* and *n - 1* would be roughly equal for very large samples.\n",
        "\n",
        "This is incredibly tedious to calculate, especially for large samples.\n",
        "In R, we can use the `cov()` function to calculate the covariance\n",
        "between two variables. Let’s say we’re interested in exploring the\n",
        "covariance between the `wages` variable and `mrkinc` variable in the\n",
        "dataset."
      ],
      "id": "0fc641f2-47e9-4c11-bbda-93c672007654"
    },
    {
      "cell_type": "code",
      "execution_count": null,
      "metadata": {},
      "outputs": [],
      "source": [
        "# cov() function requires use=\"complete.obs\" to remove NA entries\n",
        "cov(census_data$wages, census_data$mrkinc, use=\"complete.obs\") "
      ],
      "id": "d48eb496-4cdb-4832-b13f-91b5600991f5"
    },
    {
      "cell_type": "markdown",
      "metadata": {},
      "source": [
        "The calculated covariance between the `wages` variable and `mrkinc`\n",
        "variable in the dataset is positive, indicating the two variables are\n",
        "positively related. As one variable changes, the other variable will\n",
        "change in the same direction with a magnitude of 4798121947.03. However,\n",
        "the wide range of calculated covariance makes it hard to interpret. In\n",
        "our example, covariance could return a value of 100, or 4798121947.03.\n",
        "This wide range of values is cause by a simple fact: The larger the X\n",
        "and Y values, the larger the covariance. A value of 100 or 4798121947.03\n",
        "tells us that two variables are related, but that number does not tell\n",
        "us exactly how strong that relationship is.\n",
        "\n",
        "Now, let’s try computing the covariance “by hand” to understand how the\n",
        "formula really works. To simplify the process, we will construct a\n",
        "hypothetical data set with variables x and y."
      ],
      "id": "c7628eac-6b79-44f7-97f0-d94b1e3a8372"
    },
    {
      "cell_type": "code",
      "execution_count": null,
      "metadata": {},
      "outputs": [],
      "source": [
        "x <- c(6, 8, 10)\n",
        "y <- c(25, 100, 125)"
      ],
      "id": "5818025c-23ba-445e-a0b1-3823df40e5ef"
    },
    {
      "cell_type": "code",
      "execution_count": null,
      "metadata": {},
      "outputs": [],
      "source": [
        "# Difference of each value and the mean for the variables\n",
        "# Product of the above differences\n",
        "# Sum the products\n",
        "# Denominator is one less than the sample size\n",
        "sum((x - mean(x))*(y - mean(y)))/(3-1)"
      ],
      "id": "d2810732-407b-4685-b7b8-a09860d1a615"
    },
    {
      "cell_type": "code",
      "execution_count": null,
      "metadata": {},
      "outputs": [],
      "source": [
        "# Confirming the previous calculation\n",
        "cov(x,y)"
      ],
      "id": "3df4a1d9-667b-4ce0-99fe-72322044bcae"
    },
    {
      "cell_type": "markdown",
      "metadata": {},
      "source": [
        "Covariance as a measure of dependence is not very meaningful. However,\n",
        "it is a computational stepping stone to something that is more\n",
        "interesting and informative, like correlation as we will see next. The\n",
        "correlation coefficient will tell us exactly how strong that\n",
        "relationship is by dividing the covariance by the standard deviation.\n",
        "\n",
        "# Correlation\n",
        "\n",
        "A **correlation coefficient** measures the linear relationship between\n",
        "two variables. It allows us to know if two variables evolve in the same\n",
        "direction (positive correlation), or in the opposite direction (negative\n",
        "correlation), or they are independent (no correlation).\n",
        "\n",
        "> Note that even though a covariance value or correlatation coefficient\n",
        "> may have a value of 0, this does not mean that there is no\n",
        "> relationship at all - this only means that there is no *linear*\n",
        "> relationship between the two variables at hand.\n",
        "\n",
        "Correlation standardizes covariance on a scale of -1 to 1 by dividing\n",
        "the covariance by the standard deviation. In this course, we use\n",
        "**Pearson’s correlation coefficient** which is calculated via the\n",
        "following formula:\n",
        "\n",
        "$$\n",
        "r_{x,y} = \\frac{\\sum_{i=0}^{n} (x_i - \\overline{x})(y_i - \\overline{y})}{\\sqrt{\\sum_{i=0}^{n} (x_i - \\overline{x})^2 \\sum_{i=0}^{n}(y_i - \\overline{y})^2}}=\\frac{cov_{x,y}}{s_{x} s_{y}}\n",
        "$$\n",
        "\n",
        "Once again, let’s try to compute the correlation “by hand” using the\n",
        "formula."
      ],
      "id": "9f9a177d-995d-44e8-a67d-42f4bea65775"
    },
    {
      "cell_type": "code",
      "execution_count": null,
      "metadata": {},
      "outputs": [],
      "source": [
        "numerator <- sum((x - mean(x))*(y - mean(y)))\n",
        "denominator <- sqrt(sum((x - mean(x))^2) * sum((y - mean(y))^2))\n",
        "numerator/denominator"
      ],
      "id": "97123cff-dae0-42c1-8e06-c85e347af95a"
    },
    {
      "cell_type": "code",
      "execution_count": null,
      "metadata": {},
      "outputs": [],
      "source": [
        "numerator <- cov(x,y)\n",
        "denominator <- sd(x) * sd(y)\n",
        "numerator/denominator"
      ],
      "id": "c21ab236-6b15-49bf-854e-bb93666171b6"
    },
    {
      "cell_type": "markdown",
      "metadata": {},
      "source": [
        "In R, we can use the `cor()` function to calculate the correlation\n",
        "between two variables"
      ],
      "id": "92c1075b-66f1-4044-b0e0-3bf9f8708c1d"
    },
    {
      "cell_type": "code",
      "execution_count": null,
      "metadata": {},
      "outputs": [],
      "source": [
        "# Confirming the previous calculation\n",
        "cor(x,y)"
      ],
      "id": "58084be2-a7ff-4c33-a52e-b5d573aa9e6f"
    },
    {
      "cell_type": "markdown",
      "metadata": {},
      "source": [
        "To calculate the correlation between the `wages` variable and `mrkinc`\n",
        "variable in the dataset:"
      ],
      "id": "0f37aa29-ae75-4c7d-914c-fb0516f015a1"
    },
    {
      "cell_type": "code",
      "execution_count": null,
      "metadata": {},
      "outputs": [],
      "source": [
        "# cor() function requires use=\"complete.obs\" to remove NA entries\n",
        "cor(census_data$wages, census_data$mrkinc, use=\"complete.obs\") "
      ],
      "id": "ec418033-468c-4881-a947-6381d5422cbb"
    },
    {
      "cell_type": "markdown",
      "metadata": {},
      "source": [
        "Now we have the number 0.8898687 $\\approx$ 0.89 as our correlation\n",
        "coefficient. What does it really mean? Let’s start interpreting this\n",
        "number! First of all, a correlation coefficient ranges from -1 to 1,\n",
        "which tells us two things:\n",
        "\n",
        "1.  The direction of the relationship between the 2 variables\n",
        "\n",
        "-   A negative correlation coefficient implies that the two variables\n",
        "    evolve in opposite directions, that is, if a variable increases the\n",
        "    other decreases and vice versa. A positive correlation, on the other\n",
        "    hand, implies that the two variables evolve in the same direction,\n",
        "    that is, if one variable increases the other also increases and vice\n",
        "    versa.\n",
        "\n",
        "1.  The strength of the relationship between the 2 variables\n",
        "\n",
        "-   The more extreme the correlation coefficient (the closer to -1 or\n",
        "    1), the stronger the relationship. The less extreme the correlation\n",
        "    coefficient (the closer to 0), the weaker the relationship. Two\n",
        "    variables are independent if the correlation coefficient is close to\n",
        "    0, that is, as one variable increases, there is no tendency in the\n",
        "    other variable to either decrease or increase.\n",
        "\n",
        "> **Test your knowledge**  \n",
        "> True or False? The correlation can measure linear relationship but the\n",
        "> covariance can’t."
      ],
      "id": "67932ec4-6e94-4a47-8a8c-c676ba6106df"
    },
    {
      "cell_type": "code",
      "execution_count": null,
      "metadata": {},
      "outputs": [],
      "source": [
        "answer_5 <-  \"...\" # enter True or False\n",
        "\n",
        "test_5()"
      ],
      "id": "314d2e93-628a-4398-a559-dedce5804f24"
    },
    {
      "cell_type": "markdown",
      "metadata": {},
      "source": [
        "We can also easily visualize correlation by plotting scatter plot with a\n",
        "trend line via `ggplot()` function."
      ],
      "id": "c7acfb90-232c-4187-aa73-d6bac5afaa69"
    },
    {
      "cell_type": "code",
      "execution_count": null,
      "metadata": {},
      "outputs": [],
      "source": [
        "ggplot(census_data, aes(x = mrkinc, y = wages)) +\n",
        "       geom_point(shape = 1)"
      ],
      "id": "16e93d4a-be17-44f0-87aa-85f4a18e8e1b"
    },
    {
      "cell_type": "markdown",
      "metadata": {},
      "source": [
        "Adding a trend line to the scatter plot helps us interpret the\n",
        "directionality of two variables. We can do it via the `geom_smooth()`\n",
        "function by including the `method=lm` argument, which displays\n",
        "scatterplot patterns in the presence of overplotting. You will learn\n",
        "more about how trend lines are mathematically formulated in advanced\n",
        "econometrics classes."
      ],
      "id": "877c30e7-c06d-4bed-8de8-734b3af6b7af"
    },
    {
      "cell_type": "code",
      "execution_count": null,
      "metadata": {},
      "outputs": [],
      "source": [
        "ggplot(census_data, aes(x = mrkinc, y = wages)) +\n",
        "  geom_point(shape = 1) +\n",
        "  geom_smooth(method = lm)"
      ],
      "id": "342573a7-facb-484b-b88a-7e6acca90194"
    },
    {
      "cell_type": "markdown",
      "metadata": {},
      "source": [
        "Now we can see the apparent positive correlation!\n",
        "\n",
        "<img src=\"media/correlation_examples.png\" alt=\"three scatter plots are shown demonstrating positive, negative and no correlation\"/>\n",
        "\n",
        "> **Try it yourself!**  \n",
        "> Brainstorm some real-world examples that best demonstrate the\n",
        "> correlation relationships below. The first one is already done for\n",
        "> you!\n",
        ">\n",
        "> -   zero or near zero : the number of forks in your house vs the\n",
        ">     average rainfall where you live\n",
        "> -   weak negative: *\\[your text here\\]*\n",
        "> -   strong positive: *\\[your text here\\]*\n",
        "> -   weak positive: *\\[your text here\\]*\n",
        "> -   strong negative: *\\[your text here\\]*\n",
        "\n",
        "# Making Tables: Visualizing Results\n",
        "\n",
        "Tables can be a useful way to generate large lists of different\n",
        "statistics that are relevant to your analysis."
      ],
      "id": "c4b78651-3f11-4948-8cb6-a0f03d72e511"
    },
    {
      "cell_type": "code",
      "execution_count": null,
      "metadata": {},
      "outputs": [],
      "source": [
        "census_data <- census_data %>% drop_na(wages)"
      ],
      "id": "2c15dcd7-8b9e-4768-be8e-2617a0dea4cc"
    },
    {
      "cell_type": "code",
      "execution_count": null,
      "metadata": {},
      "outputs": [],
      "source": [
        "table2 <- census_data %>%\n",
        "          group_by(immstat) %>%  # we're intereseted in calculating different statistics based on immigration status (1 or 2: 1 = immigrant, 2 = non-immigrant)\n",
        "          summarize(avg_wage = mean(wages),  # this will calulate all statistics two times, once for each group\n",
        "          sd_wage = sd(wages),\n",
        "          median_wage = quantile(wages,0.5),\n",
        "          r_wm = cor(wages, mrkinc))\n",
        "\n",
        "table2"
      ],
      "id": "118d60c9-5ec3-43b4-8192-07e2a9c675f3"
    },
    {
      "cell_type": "markdown",
      "metadata": {},
      "source": [
        "> **A Note on Reshaping Tables**  \n",
        "> These tables can be tough to read. Fortunately, R has a nice set of\n",
        "> reshaping commands which allow you to reorganize these tables:  \n",
        "> `pivot_wider`: turn selected row-values into columns (usually what you\n",
        "> want to do)  \n",
        "> `pivot_longer`: turn selected columns into rows\n",
        "\n",
        "You do this by specifying what the new names and rows should looks like.\n",
        "Here’s an example, using the above table:"
      ],
      "id": "a0cbb1dc-cdfc-4dc3-baa2-0909bff1948b"
    },
    {
      "cell_type": "code",
      "execution_count": null,
      "metadata": {},
      "outputs": [],
      "source": [
        "pivot_wider(table2, \n",
        "            names_from = c(immstat),\n",
        "            values_from = c(avg_wage, sd_wage, median_wage, r_wm),\n",
        "            names_sep = \".\") #the divider for new variable names"
      ],
      "id": "7ece92b2-f117-49f7-b0c7-74cc196f74e3"
    },
    {
      "cell_type": "markdown",
      "metadata": {},
      "source": [
        "# Practice Exercises\n",
        "\n",
        "## Exercise 1\n",
        "\n",
        "Suppose the weights of packages(in lbs) at a particular post office are\n",
        "recorded as below. Assuming the weights follow a normal distribution."
      ],
      "id": "b06ddcc7-84f4-4179-91d7-093f46c8605f"
    },
    {
      "cell_type": "code",
      "execution_count": null,
      "metadata": {},
      "outputs": [],
      "source": [
        "package_data <- c(95, 130, 148, 183, 100, 98, 137, 110, 188, 166)"
      ],
      "id": "6247fbc4-454c-4d8f-a418-12e09c903c4b"
    },
    {
      "cell_type": "code",
      "execution_count": null,
      "metadata": {},
      "outputs": [],
      "source": [
        "# calculate the mean, standard deviation and variance of the weights of packages\n",
        "# round all answers to 2 decimal places\n",
        "\n",
        "answer_1 <- # enter your answer here for mean\n",
        "answer_2 <- # enter your answer here for standard deviation \n",
        "answer_3 <- # enter your answer here for variance\n",
        "\n",
        "test_1()\n",
        "test_2()\n",
        "test_3()"
      ],
      "id": "9a76f36f-b1de-4df6-936a-f86037e95615"
    },
    {
      "cell_type": "markdown",
      "metadata": {},
      "source": [
        "## Exercise 2\n",
        "\n",
        "Use the example above to answer: 68% of packages at the post office\n",
        "weigh how much? 1. A - 68% of packages weigh between 65.30 and 150.70\n",
        "lbs 2. B - 68% of packages weigh between 100.40 and 170.60 lbs 3. C -\n",
        "68% of packages weigh between 120.40 and 150.60 lbs 4. D - 68% of\n",
        "packages weigh between 80.56 and 120.60 lbs"
      ],
      "id": "610129b7-bb0d-4266-aca9-997ba3d76aa7"
    },
    {
      "cell_type": "code",
      "execution_count": null,
      "metadata": {},
      "outputs": [],
      "source": [
        "answer_4 <- \"...\"    # enter your choice here (ex, \"F\")\n",
        "\n",
        "test_4()"
      ],
      "id": "bdb312cd-cfd8-495d-9dc1-609c7be0e083"
    }
  ],
  "nbformat": 4,
  "nbformat_minor": 5,
  "metadata": {
    "kernelspec": {
      "name": "ir",
      "display_name": "R",
      "language": "r"
    }
  }
}