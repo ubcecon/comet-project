{
  "cells": [
    {
      "cell_type": "markdown",
      "metadata": {},
      "source": [
        "# 02 - ECON 325: Dispersion and Dependence\n",
        "\n",
        "COMET Team <br> *Oliver (Junye) Xu, Anneke Dresselhuis, Jonathan\n",
        "Graves*  \n",
        "12/01/2023\n",
        "\n",
        "## Outline\n",
        "\n",
        "### Prerequisites\n",
        "\n",
        "-   Introduction to Jupyter\n",
        "-   Introduction to R\n",
        "-   Introduction to Visualization\n",
        "-   Central Tendency\n",
        "-   Distribution\n",
        "\n",
        "### Outcomes\n",
        "\n",
        "This notebook explains the concepts of dispersion and dependence. After\n",
        "completing this notebook, you will be able to:\n",
        "\n",
        "-   Understand and interpret measures of dispersion, including variance\n",
        "    and standard deviation\n",
        "-   Understand and interpret measures of dependence, including\n",
        "    covariance and correlation\n",
        "-   Investigate, compute, and interpret common descriptive statistics\n",
        "-   Create summary tables for variables, including qualitative variables\n",
        "-   Parse summary statistics for meaning\n",
        "\n",
        "### References\n",
        "\n",
        "-   [Introductory\n",
        "    Statistics](https://openstax.org/books/introductory-statistics/pages/2-7-measures-of-the-spread-of-the-data)\n",
        "\n",
        "# Introduction\n",
        "\n",
        "In this notebook, we will continue learning about how to use descriptive\n",
        "statistics to represent sets of data. We’ve already seen how to compute\n",
        "measures of central tendency and determine which measures are\n",
        "appropriate for given situations. We’ll now focus on computing measures\n",
        "of dispersion and dependence in order to better understand both the\n",
        "variation of variables, as well as relationships between variables in a\n",
        "data set. We’ll dedicate time to both measures, but we’ll look at\n",
        "dispersion first. Let’s first import our familiar 2016 Census data set\n",
        "from Statistics Canada."
      ],
      "id": "035c7524-f502-4693-84f1-1b57022e7006"
    },
    {
      "cell_type": "code",
      "execution_count": null,
      "metadata": {},
      "outputs": [],
      "source": [
        "source(\"testing_dispersion_and_dependence.r\")\n",
        "\n",
        "# load packages\n",
        "library(tidyverse)\n",
        "library(haven)\n",
        "library(ggplot2)\n",
        "\n",
        "# Reading in the data\n",
        "census_data <- read_dta(\"../datasets/01_census2016.dta\")"
      ],
      "id": "50aefe97-df8a-4a84-973d-8ff5a01400e2"
    },
    {
      "cell_type": "markdown",
      "metadata": {},
      "source": [
        "# Understanding Measures of Dispersion\n",
        "\n",
        "Measures of dispersion describe the spread of data, that is, the\n",
        "possible values that a variable in a data set can take on. Common\n",
        "measures of dispersion which we’ll look at include the range,\n",
        "interquartile range, standard deviation and variance.\n",
        "\n",
        "## Range and Interquartile Range\n",
        "\n",
        "We’ve already seen the range and interquartile range in the *Central\n",
        "Tendency* notebook. Remember, the **range** is the difference between\n",
        "the maximum and minimum value that a variable takes on, while the\n",
        "**interquartile range** is the difference between the 75th and 25th\n",
        "percentile values. We can use functions like `quantile()` and\n",
        "`fivenum()` to calculate these statistics quite quickly.\n",
        "\n",
        "Both functions return the same output: a list that includes the minimum\n",
        "value, 25th percentile, 50th percentile (median), 75th percentile, and\n",
        "maximum value. In this way, these commands allow us to construct a\n",
        "snapshot of both the spread of the middle 50% of data around the median\n",
        "(the interquartile range), as well as the spread of the data in its\n",
        "entirely (the range).\n",
        "\n",
        "## Variance\n",
        "\n",
        "The **variance** is the average of the squared differences from the\n",
        "mean. A small variance indicates that observations tend to fall close to\n",
        "the mean, while a high variance indicates that observations are very\n",
        "spread out from the mean. The standard deviation (discussed next) is\n",
        "also the square root of variance, although we we won’t spend much time\n",
        "on variance here.\n",
        "\n",
        "> For example, a normal distribution with `mean = 30` and `sd = 5` is\n",
        "> exactly the same thing as a normal distribution with `mean = 30` and\n",
        "> `variance = 25`.\n",
        "\n",
        "The biggest difference between the two is that the variance is a squared\n",
        "measure and does not have the *same units* as the data in the way that\n",
        "the standard deviation does; hence why we usually work with standard\n",
        "deviation instead.\n",
        "\n",
        "# Standard Deviation\n",
        "\n",
        "The most commonly referenced measure of dispersion is **standard\n",
        "deviation**. This statistic measures dispersion around the mean. More\n",
        "specifically, it takes the squared value of the sum of the squared\n",
        "difference between each value and the mean for a given variable.\n",
        "\n",
        "For drawn samples from the population:\n",
        "\n",
        "$$\n",
        "s_{x}^2 = \\frac{\\sum_{i=0}^{n} (x_i - \\overline{x})^2}{n - 1}\n",
        "$$\n",
        "\n",
        "$$\n",
        "s_{x} = \\sqrt{s_{x}^2} = \\sqrt{\\frac{\\sum_{i=0}^{n} (x_i - \\overline{x})^2}{n - 1}}\n",
        "$$\n",
        "\n",
        "For the population:\n",
        "\n",
        "$$\n",
        "\\sigma_{x}^2 = \\int(x - \\mu)^2 f(x) dx\n",
        "$$\n",
        "\n",
        "$$\n",
        "\\sigma_{x} = \\sqrt{\\sigma_{x}^2}\n",
        "$$\n",
        "\n",
        "> **Note**: In general, we use samples to estimate population parameters\n",
        "> and some samples have more information to estimate than others. For\n",
        "> instance, an estimate of the population variance based on a sample\n",
        "> size of 100 certainly has more information than a sample size of 10.\n",
        "> The degrees of freedom is the amount of information an estimate has.\n",
        "> The degrees of freedom for an estimate is equal to the number of\n",
        "> observations minus the number of parameters we would like to estimate.\n",
        "> Thus, the degrees of freedom of our estimate of variance (sample\n",
        "> variance) is equal to *n - 1*.\n",
        "\n",
        "In R, we can use the `var()` function to calculate the variance of a\n",
        "variable, and the `sd()` function for the standard deviation."
      ],
      "id": "e53de706-ffef-470d-af28-f5cfd15ab040"
    },
    {
      "cell_type": "code",
      "execution_count": null,
      "metadata": {
        "tags": []
      },
      "outputs": [],
      "source": [
        "# calculate the variance of wage\n",
        "variance <- var(census_data$wages, na.rm = TRUE)"
      ],
      "id": "7d8a8935-ba93-4cf1-9a90-199865302e06"
    },
    {
      "cell_type": "markdown",
      "metadata": {},
      "source": [
        "We can see the relationship between the standard deviation and the\n",
        "variance by taking the `sqrt()` of the variance to find the standard\n",
        "deviation below:"
      ],
      "id": "9c2bad3f-da21-4617-887e-24c162ddc87f"
    },
    {
      "cell_type": "code",
      "execution_count": null,
      "metadata": {},
      "outputs": [],
      "source": [
        "# fill in the ... with your code below to find the sd of wages\n",
        "answer_6 <- ...(var(census_data$wages, na.rm = TRUE))\n",
        "test_6()"
      ],
      "id": "5a3a42bb-77c5-48e8-8c04-8c4ddb2e4e57"
    },
    {
      "cell_type": "code",
      "execution_count": null,
      "metadata": {},
      "outputs": [],
      "source": [
        "# recall the mean of wages\n",
        "mean(census_data$wages, na.rm = TRUE) # remember that we need to remove all NA values otherwise R won't let us compute our summary statistics!\n",
        "\n",
        "# calculate the standard deviation of wages\n",
        "sd(census_data$wages, na.rm = TRUE) "
      ],
      "id": "9f687e84-1073-4bfa-9cf8-7065ef6f7c8d"
    },
    {
      "cell_type": "markdown",
      "metadata": {},
      "source": [
        "From the above, we can see that the standard deviation nicely comes in\n",
        "the same units as our variable of interest. It is also necessarily a\n",
        "positive or zero value. This convenience is partly why the standard\n",
        "deviation is such a preferred measure of dispersion.\n",
        "\n",
        "## Interpreting Variation\n",
        "\n",
        "Let’s say we’re interested in understanding how the `wages` variable was\n",
        "dispersed around the mean.\n",
        "\n",
        "In the case of `wages` above, we have a pretty high standard deviation,\n",
        "even higher than our mean! This tells us that most of the Canadians in\n",
        "the data set have a wage which lies approximately \\\\\\$64275.27 away from\n",
        "the mean of \\\\\\$54482.52.\n",
        "\n",
        "This large standard deviation tells us that there is high variation\n",
        "between wage observations and that some of them are spread out very far\n",
        "from the mean, suggesting we have it is likely we have a lot of outliers\n",
        "in the data set (this is common for wage distribution in the presence of\n",
        "income inequality). This brings us to a general rule: the standard\n",
        "deviation is small when the data are all concentrated close to the mean,\n",
        "while the standard deviation is large when the data are spread out away\n",
        "from the mean.\n",
        "\n",
        "# Empirical Rule\n",
        "\n",
        "Recall again from the *Central Tendency* notebook that data often\n",
        "approximately follow a normal distribution (symmetrical distribution\n",
        "wherein the mean value is also the median). For a variable with values\n",
        "distributed in this way, there is a standard when discussing their\n",
        "standard deviation. We say that about 68% of these values are within 1\n",
        "standard deviation of the mean, about 95% are within 2 standard\n",
        "deviations of the mean, and about 99.7% are within 3 standard deviations\n",
        "from the mean. Remaining observations are extreme outliers and\n",
        "incredibly rare. This is called the **68-95-99.7 rule or Empirical\n",
        "Rule**, and is visualized in the diagram below.\n",
        "\n",
        "<img src=\"media/standard_deviation_examples.png\">\n",
        "\n",
        "This gives us a helpful frame of reference when discussing the standard\n",
        "deviation of a variable. Although we already saw that the `wages`\n",
        "variable follows a relatively skewed distribution, we can imagine a\n",
        "variable that doesn’t - for example: test scores. If the mean score on a\n",
        "test is 70 and the standard deviation is 10, this tells us that\n",
        "approximately 68% of students who wrote that test earned a score between\n",
        "60 and 80 (1 standard deviation), approximately 95% earned a score\n",
        "between 50 and 90 (2 standard deviations) and virtually everyone earned\n",
        "a score between 40 and 100 (3 standard deviations).\n",
        "\n",
        "# Understanding Measures of Dependence\n",
        "\n",
        "Measures of **dependence** compute relationships between variables. The\n",
        "two most common measures of the relation between variables are\n",
        "covariance and correlation. We will investigate each of these, one at a\n",
        "time.\n",
        "\n",
        "# Covariance\n",
        "\n",
        "**Covariance** is a measure of the direction of a relationship between\n",
        "two variables. More specifically, it can be broken down into a positive\n",
        "case (meaning the two variables are positively related) and a negative\n",
        "case (meaning the two variables are negatively related). If two\n",
        "variables are positively related, it means that when one goes up, we can\n",
        "expect the other to go up, and vice versa when one goes down. If two\n",
        "variables are negatively related, it means that when one goes up, the\n",
        "other goes down and vice versa. It is similar to the idea of variance\n",
        "that we just covered, but where variance measures how a *single*\n",
        "variable varies, covariance measures how *two* variables vary together.\n",
        "\n",
        "Sample Covariance:\n",
        "\n",
        "$$\n",
        "cov_{x,y}=\\frac{\\sum_{i=1}^{n}(x_{i}-\\bar{x})(y_{i}-\\bar{y})}{n-1}\n",
        "$$\n",
        "\n",
        "Population Covariance:\n",
        "\n",
        "$$\n",
        "cov_{x,y}=\\int\\int(x_{i}-\\bar{x})(y_{i}-\\bar{y})f(x,y)dxdy\n",
        "$$\n",
        "\n",
        "> **Note**: As mentioned above, in R, the data only represents a sample.\n",
        "> This is why we use *n - 1* as a denominator, where *n* is the number\n",
        "> of observations. When dealing with samples, the denominator has the\n",
        "> freedom to vary (Degrees of Freedom). We only know *sample* means for\n",
        "> both variables, so we use *n - 1* to make the estimator unbiased,\n",
        "> because *n* and *n - 1* would be roughly equal for very large samples.\n",
        "\n",
        "This is incredibly tedious to calculate, especially for large samples.\n",
        "In R, we can use the `cov()` function to calculate the covariance\n",
        "between two variables. Let’s say we’re interested in exploring the\n",
        "covariance between the `wages` variable and `mrkinc` variable in the\n",
        "dataset."
      ],
      "id": "aed0a6f9-d214-48a0-9a82-01471eb6e566"
    },
    {
      "cell_type": "code",
      "execution_count": null,
      "metadata": {},
      "outputs": [],
      "source": [
        "# cov() function requires use=\"complete.obs\" to remove NA entries\n",
        "cov(census_data$wages, census_data$mrkinc, use=\"complete.obs\") "
      ],
      "id": "cfa2cc60-75a2-4809-8e59-c3dc6a1547c7"
    },
    {
      "cell_type": "markdown",
      "metadata": {},
      "source": [
        "The calculated covariance between the `wages` variable and `mrkinc`\n",
        "variable in the dataset is positive, indicating the two variables are\n",
        "positively related. As one variable changes, the other variable will\n",
        "change in the same direction with a magnitude of 4798121947.03. However,\n",
        "the wide range of calculated covariance makes it hard to interpret. In\n",
        "our example, covariance could return a value of 100, or 4798121947.03.\n",
        "This wide range of values is cause by a simple fact: The larger the X\n",
        "and Y values, the larger the covariance. A value of 100 or 4798121947.03\n",
        "tells us that two variables are related, but that number does not tell\n",
        "us exactly how strong that relationship is.\n",
        "\n",
        "Now, let’s try computing the covariance “by hand” to understand how the\n",
        "formula really works. To simplify the process, we will construct a\n",
        "hypothetical data set with variables x and y."
      ],
      "id": "c14e98bc-c7a4-4eb9-be31-82e37ab9698b"
    },
    {
      "cell_type": "code",
      "execution_count": null,
      "metadata": {},
      "outputs": [],
      "source": [
        "x <- c(6, 8, 10)\n",
        "y <- c(25, 100, 125)"
      ],
      "id": "2f43d96f-8743-46fe-907a-edc29c575140"
    },
    {
      "cell_type": "code",
      "execution_count": null,
      "metadata": {},
      "outputs": [],
      "source": [
        "# Difference of each value and the mean for the variables\n",
        "# Product of the above differences\n",
        "# Sum the products\n",
        "# Denominator is one less than the sample size\n",
        "sum((x - mean(x))*(y - mean(y)))/(3-1)"
      ],
      "id": "05bd46a8-06dc-47ad-9b05-73b557d9aa86"
    },
    {
      "cell_type": "code",
      "execution_count": null,
      "metadata": {},
      "outputs": [],
      "source": [
        "# Confirming the previous calculation\n",
        "cov(x,y)"
      ],
      "id": "6d9d09f8-c7a3-4905-93e9-e258ef717cb4"
    },
    {
      "cell_type": "markdown",
      "metadata": {},
      "source": [
        "Covariance as a measure of dependence is not very meaningful. However,\n",
        "it is a computational stepping stone to something that is more\n",
        "interesting and informative, like correlation as we will see next. The\n",
        "correlation coefficient will tell us exactly how strong that\n",
        "relationship is by dividing the covariance by the standard deviation.\n",
        "\n",
        "# Correlation\n",
        "\n",
        "A **correlation coefficient** measures the linear relationship between\n",
        "two variables. It allows us to know if two variables evolve in the same\n",
        "direction (positive correlation), or in the opposite direction (negative\n",
        "correlation), or they are independent (no correlation).\n",
        "\n",
        "> Note that even though a covariance value or correlatation coefficient\n",
        "> may have a value of 0, this does not mean that there is no\n",
        "> relationship at all - this only means that there is no *linear*\n",
        "> relationship between the two variables at hand.\n",
        "\n",
        "Correlation standardizes covariance on a scale of -1 to 1 by dividing\n",
        "the covariance by the standard deviation. In this course, we use\n",
        "**Pearson’s correlation coefficient** which is calculated via the\n",
        "following formula:\n",
        "\n",
        "$$\n",
        "r_{x,y} = \\frac{\\sum_{i=0}^{n} (x_i - \\overline{x})(y_i - \\overline{y})}{\\sqrt{\\sum_{i=0}^{n} (x_i - \\overline{x})^2 \\sum_{i=0}^{n}(y_i - \\overline{y})^2}}=\\frac{cov_{x,y}}{s_{x} s_{y}}\n",
        "$$\n",
        "\n",
        "Once again, let’s try to compute the correlation “by hand” using the\n",
        "formula."
      ],
      "id": "2c9198fe-339a-4fbb-81ba-3ca0dff44e2d"
    },
    {
      "cell_type": "code",
      "execution_count": null,
      "metadata": {},
      "outputs": [],
      "source": [
        "numerator <- sum((x - mean(x))*(y - mean(y)))\n",
        "denominator <- sqrt(sum((x - mean(x))^2) * sum((y - mean(y))^2))\n",
        "numerator/denominator"
      ],
      "id": "2891dacf-9d67-4219-b2e5-415db7bee2cd"
    },
    {
      "cell_type": "code",
      "execution_count": null,
      "metadata": {},
      "outputs": [],
      "source": [
        "numerator <- cov(x,y)\n",
        "denominator <- sd(x) * sd(y)\n",
        "numerator/denominator"
      ],
      "id": "13188489-0775-497c-9b2a-e00593e423b5"
    },
    {
      "cell_type": "markdown",
      "metadata": {},
      "source": [
        "In R, we can use the `cor()` function to calculate the correlation\n",
        "between two variables"
      ],
      "id": "94ba0607-57cb-4f8f-911f-fdd853081b5d"
    },
    {
      "cell_type": "code",
      "execution_count": null,
      "metadata": {},
      "outputs": [],
      "source": [
        "# Confirming the previous calculation\n",
        "cor(x,y)"
      ],
      "id": "d15fe313-9fd8-4be0-81f2-baaf0e385b15"
    },
    {
      "cell_type": "markdown",
      "metadata": {},
      "source": [
        "To calculate the correlation between the `wages` variable and `mrkinc`\n",
        "variable in the dataset:"
      ],
      "id": "01d40093-6049-42c3-b8f8-03a2dcc571fe"
    },
    {
      "cell_type": "code",
      "execution_count": null,
      "metadata": {},
      "outputs": [],
      "source": [
        "# cor() function requires use=\"complete.obs\" to remove NA entries\n",
        "cor(census_data$wages, census_data$mrkinc, use=\"complete.obs\") "
      ],
      "id": "a5daaafb-0072-430a-a4df-43d253313780"
    },
    {
      "cell_type": "markdown",
      "metadata": {},
      "source": [
        "Now we have the number 0.8898687 $\\approx$ 0.89 as our correlation\n",
        "coefficient. What does it really mean? Let’s start interpreting this\n",
        "number! First of all, a correlation coefficient ranges from -1 to 1,\n",
        "which tells us two things:\n",
        "\n",
        "1.  The direction of the relationship between the 2 variables\n",
        "\n",
        "-   A negative correlation coefficient implies that the two variables\n",
        "    evolve in opposite directions, that is, if a variable increases the\n",
        "    other decreases and vice versa. A positive correlation, on the other\n",
        "    hand, implies that the two variables evolve in the same direction,\n",
        "    that is, if one variable increases the other also increases and vice\n",
        "    versa.\n",
        "\n",
        "1.  The strength of the relationship between the 2 variables\n",
        "\n",
        "-   The more extreme the correlation coefficient (the closer to -1 or\n",
        "    1), the stronger the relationship. The less extreme the correlation\n",
        "    coefficient (the closer to 0), the weaker the relationship. Two\n",
        "    variables are independent if the correlation coefficient is close to\n",
        "    0, that is, as one variable increases, there is no tendency in the\n",
        "    other variable to either decrease or increase.\n",
        "\n",
        "> **Test your knowledge**  \n",
        "> True or False? The correlation can measure linear relationship but the\n",
        "> covariance can’t."
      ],
      "id": "00308ee1-b6ee-4330-93bf-126a3cd8563d"
    },
    {
      "cell_type": "code",
      "execution_count": null,
      "metadata": {},
      "outputs": [],
      "source": [
        "answer_5 <-  \"...\" # enter True or False\n",
        "\n",
        "test_5()"
      ],
      "id": "6cb439a9-4cca-4e74-9ceb-2232c4af2989"
    },
    {
      "cell_type": "markdown",
      "metadata": {},
      "source": [
        "We can also easily visualize correlation by plotting scatter plot with a\n",
        "trend line via `ggplot()` function."
      ],
      "id": "edb57648-9649-4f63-b2bd-6acdf6df2542"
    },
    {
      "cell_type": "code",
      "execution_count": null,
      "metadata": {},
      "outputs": [],
      "source": [
        "ggplot(census_data, aes(x = mrkinc, y = wages)) +\n",
        "       geom_point(shape = 1)"
      ],
      "id": "f55f7e2f-5cc6-440f-a282-44279f024cef"
    },
    {
      "cell_type": "markdown",
      "metadata": {},
      "source": [
        "Adding a trend line to the scatter plot helps us interpret the\n",
        "directionality of two variables. We can do it via the `geom_smooth()`\n",
        "function by including the `method=lm` argument, which displays\n",
        "scatterplot patterns in the presence of overplotting. You will learn\n",
        "more about how trend lines are mathematically formulated in advanced\n",
        "econometrics classes."
      ],
      "id": "c4cb0241-36a0-4362-b52f-3befa1e6952a"
    },
    {
      "cell_type": "code",
      "execution_count": null,
      "metadata": {},
      "outputs": [],
      "source": [
        "ggplot(census_data, aes(x = mrkinc, y = wages)) +\n",
        "  geom_point(shape = 1) +\n",
        "  geom_smooth(method = lm)"
      ],
      "id": "64c5a862-6f23-4e1a-8177-cd44c1f94081"
    },
    {
      "cell_type": "markdown",
      "metadata": {},
      "source": [
        "Now we can see the apparent positive correlation!\n",
        "\n",
        "<img src=\"media/correlation_examples.png\" alt=\"three scatter plots are shown demonstrating positive, negative and no correlation\"/>\n",
        "\n",
        "> **Try it yourself!**  \n",
        "> Brainstorm some real-world examples that best demonstrate the\n",
        "> correlation relationships below. The first one is already done for\n",
        "> you!\n",
        ">\n",
        "> -   zero or near zero : the number of forks in your house vs the\n",
        ">     average rainfall where you live\n",
        "> -   weak negative: *\\[your text here\\]*\n",
        "> -   strong positive: *\\[your text here\\]*\n",
        "> -   weak positive: *\\[your text here\\]*\n",
        "> -   strong negative: *\\[your text here\\]*\n",
        "\n",
        "# Making Tables: Visualizing Results\n",
        "\n",
        "Tables can be a useful way to generate large lists of different\n",
        "statistics that are relevant to your analysis."
      ],
      "id": "234b6805-d794-4c63-af87-549bd949261f"
    },
    {
      "cell_type": "code",
      "execution_count": null,
      "metadata": {},
      "outputs": [],
      "source": [
        "census_data <- census_data %>% drop_na(wages)"
      ],
      "id": "aa775017-7758-4f31-91d4-b5dbce828bba"
    },
    {
      "cell_type": "code",
      "execution_count": null,
      "metadata": {},
      "outputs": [],
      "source": [
        "table2 <- census_data %>%\n",
        "          group_by(immstat) %>%  # we're intereseted in calculating different statistics based on immigration status (1 or 2: 1 = immigrant, 2 = non-immigrant)\n",
        "          summarize(avg_wage = mean(wages),  # this will calulate all statistics two times, once for each group\n",
        "          sd_wage = sd(wages),\n",
        "          median_wage = quantile(wages,0.5),\n",
        "          r_wm = cor(wages, mrkinc))\n",
        "\n",
        "table2"
      ],
      "id": "8c087353-479d-4415-bcf3-f1a30a975df5"
    },
    {
      "cell_type": "markdown",
      "metadata": {},
      "source": [
        "> **A Note on Reshaping Tables**  \n",
        "> These tables can be tough to read. Fortunately, R has a nice set of\n",
        "> reshaping commands which allow you to reorganize these tables:  \n",
        "> `pivot_wider`: turn selected row-values into columns (usually what you\n",
        "> want to do)  \n",
        "> `pivot_longer`: turn selected columns into rows\n",
        "\n",
        "You do this by specifying what the new names and rows should looks like.\n",
        "Here’s an example, using the above table:"
      ],
      "id": "57f0e5a9-2f60-4c78-9875-e98825f4d9d3"
    },
    {
      "cell_type": "code",
      "execution_count": null,
      "metadata": {},
      "outputs": [],
      "source": [
        "pivot_wider(table2, \n",
        "            names_from = c(immstat),\n",
        "            values_from = c(avg_wage, sd_wage, median_wage, r_wm),\n",
        "            names_sep = \".\") #the divider for new variable names"
      ],
      "id": "a9312eb6-ec3c-41e5-8236-04cdbb48d56b"
    },
    {
      "cell_type": "markdown",
      "metadata": {},
      "source": [
        "# Practice Exercises\n",
        "\n",
        "## Exercise 1\n",
        "\n",
        "Suppose the weights of packages(in lbs) at a particular post office are\n",
        "recorded as below. Assuming the weights follow a normal distribution."
      ],
      "id": "76f6ebde-ca93-469f-9536-9e4c129e6ae3"
    },
    {
      "cell_type": "code",
      "execution_count": null,
      "metadata": {},
      "outputs": [],
      "source": [
        "package_data <- c(95, 130, 148, 183, 100, 98, 137, 110, 188, 166)"
      ],
      "id": "2d8e74d1-5518-425c-8b5f-b2dd19378773"
    },
    {
      "cell_type": "code",
      "execution_count": null,
      "metadata": {},
      "outputs": [],
      "source": [
        "# calculate the mean, standard deviation and variance of the weights of packages\n",
        "# round all answers to 2 decimal places\n",
        "\n",
        "answer_1 <- # enter your answer here for mean\n",
        "answer_2 <- # enter your answer here for standard deviation \n",
        "answer_3 <- # enter your answer here for variance\n",
        "\n",
        "test_1()\n",
        "test_2()\n",
        "test_3()"
      ],
      "id": "c2f82f8b-c060-4a92-8b45-a37a122a67ed"
    },
    {
      "cell_type": "markdown",
      "metadata": {},
      "source": [
        "## Exercise 2\n",
        "\n",
        "Use the example above to answer: 68% of packages at the post office\n",
        "weigh how much? \\* A - 68% of packages weigh between 65.30 and 150.70\n",
        "lbs \\* B - 68% of packages weigh between 100.40 and 170.60 lbs \\* C -\n",
        "68% of packages weigh between 120.40 and 150.60 lbs \\* D - 68% of\n",
        "packages weigh between 80.56 and 120.60 lbs"
      ],
      "id": "22418976-7faa-44be-adf3-7feebdebc019"
    },
    {
      "cell_type": "code",
      "execution_count": null,
      "metadata": {},
      "outputs": [],
      "source": [
        "answer_4 <- \"...\"    # enter your choice here (ex, \"F\")\n",
        "\n",
        "test_4()"
      ],
      "id": "3d857ef4-4205-4b5e-a9c5-c1faf53fcb14"
    }
  ],
  "nbformat": 4,
  "nbformat_minor": 5,
  "metadata": {
    "kernelspec": {
      "name": "ir",
      "display_name": "R",
      "language": "r"
    }
  }
}