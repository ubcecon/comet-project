{
  "cells": [
    {
      "cell_type": "markdown",
      "metadata": {},
      "source": [
        "# 01 - ECON 325: Central Tendency\n",
        "\n",
        "COMET Team <br> *Colby Chambers, Oliver (Junye) Xu, Anneke Dresselhuis,\n",
        "Jonathan Graves*  \n",
        "12/01/2023\n",
        "\n",
        "## Outline\n",
        "\n",
        "### Prerequisites\n",
        "\n",
        "-   Introduction to Jupyter\n",
        "-   Introduction to R\n",
        "-   Introduction to Visualization\n",
        "\n",
        "### Outcomes\n",
        "\n",
        "After completing this notebook, you will be able to:\n",
        "\n",
        "-   Define the following terms: mean, median, percentiles and mode.\n",
        "-   Calculate mean, median and mode in R.\n",
        "-   Create boxplots to visualize ranges of data.\n",
        "-   Interpret and work with these statistics under various applications.\n",
        "\n",
        "### References\n",
        "\n",
        "-   [Finding the Statistical Mode in\n",
        "    R](https://stackoverflow.com/questions/2547402/how-to-find-the-statistical-mode)\n",
        "\n",
        "# Introduction\n",
        "\n",
        "In this notebook, we will introduce the idea of **central tendency**. In\n",
        "statistics, central tendency refers to the idea of how different\n",
        "interpretations of the term “middle” can be used to describe a\n",
        "probability distribution or dataset. In this notebook, we’ll think about\n",
        "central tendency in terms of numerical values which describe a given\n",
        "subset of dataset. This concept is important because we often deal with\n",
        "incredibly large datasets that are too big to describe in their\n",
        "entirety. In this light, it’s crucial to have summary statistics that we\n",
        "can use to describe the general behaviour of variables. Before we\n",
        "continue, let’s import our familiar Canadian census dataset using the\n",
        "tools we’ve learned already."
      ],
      "id": "1e126180-7749-4cee-8d4d-095ee2ecca3f"
    },
    {
      "cell_type": "code",
      "execution_count": null,
      "metadata": {},
      "outputs": [],
      "source": [
        "# install.packages(\"tidyverse\") only run these two commands if you have not already installed these packages\n",
        "# install.packages(\"haven\")\n",
        "# install.packages(\"ggplot2\")\n",
        "\n",
        "library(tidyverse)\n",
        "library(haven)\n",
        "library(ggplot2)\n",
        "\n",
        "source(\"testing_central_tendency.r\") # self-testing materials\n",
        "\n",
        "census_data <- read_dta(\"../datasets/01_census2016.dta\")"
      ],
      "id": "21fdd535-8d8e-4595-82de-c15c49a67895"
    },
    {
      "cell_type": "markdown",
      "metadata": {},
      "source": [
        "# Part 1: Key Concepts\n",
        "\n",
        "## Mean\n",
        "\n",
        "The first, and most commonly referenced measure of central tendency is\n",
        "the **sample mean** (also referred to as the **arithmetic mean**). The\n",
        "mean of a variable is the average value of that variable, which can be\n",
        "found by summing together all values that a variable takes on in a set\n",
        "of observations and dividing by the total number of observations used.\n",
        "This is an intuitive measure of central tendency that many of us think\n",
        "of when we are trying to describe data. The formula for the sample mean\n",
        "is below.\n",
        "\n",
        "$$\n",
        "\\overline{x} = \\frac{1}{n}\\sum_{i=0}^{n} x_i =  \\frac{Sum~of~All~Data~Points}{Total~Number~of~Data~Points}\n",
        "$$\n",
        "\n",
        "For large datasets, using the formula above to find the mean by hand is\n",
        "impossibly incovenient. Luckily, we can quickly calculate the mean of a\n",
        "variable in R as below."
      ],
      "id": "2c2fc120-93f2-400c-80cc-d15de5e2f49e"
    },
    {
      "cell_type": "code",
      "execution_count": null,
      "metadata": {},
      "outputs": [],
      "source": [
        "# find the mean of market income (mrkinc)\n",
        "mean(census_data$mrkinc)"
      ],
      "id": "702fb560-6310-4025-b352-226a9b56ce5a"
    },
    {
      "cell_type": "markdown",
      "metadata": {},
      "source": [
        "Interesting! We see that the above code outputs `NA`. Why is this\n",
        "happening? Essentially, any time we try to perform operations to find\n",
        "statistics of central tendency for a variable that includes `NA` values,\n",
        "R will produce `NA` as the output. This is the case even if the data set\n",
        "only includes one observation recorded as `NA` for that variable. To\n",
        "account for this, we can simply filter our data set to remove these\n",
        "missing observations. We must do this when calculating *any* of the\n",
        "statistics introduced in this section, not just the mean. We do this\n",
        "below."
      ],
      "id": "906f11ae-8083-4ab5-906a-b97601f6e4ed"
    },
    {
      "cell_type": "code",
      "execution_count": null,
      "metadata": {},
      "outputs": [],
      "source": [
        "# remove missing values (NA values) in order to find the mean of mrkinc\n",
        "census_data <- filter(census_data, !is.na(census_data$mrkinc))\n",
        "\n",
        "mean(census_data$mrkinc)"
      ],
      "id": "72bf2118-d6a8-401e-8219-6f8aaf736fd3"
    },
    {
      "cell_type": "markdown",
      "metadata": {},
      "source": [
        "Looking at the code above, the filter function takes in a dataframe and\n",
        "an argument. It then keeps all observations which return a value of\n",
        "`TRUE` for that argument. Here, we had to specify that `is.na()` be\n",
        "`FALSE` (i.e. `!=TRUE`) to keep observations for which there was no `NA`\n",
        "recorded on the `mrkinc` variable. This now gives us an actual answer\n",
        "for our mean: the average market income is about 59000.\n",
        "\n",
        "> **Question**: Notice that the mean only makes sense when we can add\n",
        "> and divide the values of a variable. What kind of variable type is\n",
        "> this appropriate for?\n",
        "\n",
        "## Median\n",
        "\n",
        "Another common measure of central tendency is the **median**. The median\n",
        "is the value which exactly splits the observations for a variable in our\n",
        "data set in half when ordered in increasing (or decreasing) order. For\n",
        "instance, if we had observations for `mrkinc` of 60000, 45000, and\n",
        "72000, our median value for `mrkinc` would be 60000 because there is\n",
        "exactly one observation above (70000) and one observation below (45000)\n",
        "this value. To find the median of a variable, we order all of our\n",
        "observations in ascending (or descending) order, then find the value in\n",
        "the middle of this ordered list. This works great when we have an odd\n",
        "number of numbers to list (i.e. 9 observations). However, for a list\n",
        "which is of even length (i.e. has 10 observations), we must take the\n",
        "middle *two* observations and take their arithmetic mean (sound\n",
        "familiar!). A formula for finding the median in each of these two cases\n",
        "is below.\n",
        "\n",
        "Arrange data in ascending (or descending) order. Let $n$ be the number\n",
        "of data points. If $n$ is odd, then:\n",
        "\n",
        "$$\n",
        "Median = \\frac{n+1}{2}th ~~ {data~point}\n",
        "$$\n",
        "\n",
        "Otherwise,\n",
        "\n",
        "$$\n",
        "Median = \\frac{1}{2} * [\\frac{n}{2}th ~~ {data~point} + (\\frac{n}{2} + 1)th ~~ {data~point}]\n",
        "$$\n",
        "\n",
        "For large datasets, ordering all the values is basically impossible. We\n",
        "instead invoke the `median()` function to help us find our median\n",
        "quickly in R."
      ],
      "id": "1489a7b1-86e5-44d4-87fb-db7637032d89"
    },
    {
      "cell_type": "code",
      "execution_count": null,
      "metadata": {},
      "outputs": [],
      "source": [
        "# find the median of mrkinc\n",
        "median(census_data$mrkinc)"
      ],
      "id": "64e0a078-8357-4a70-9eec-4d544e2b0f7b"
    },
    {
      "cell_type": "markdown",
      "metadata": {},
      "source": [
        "As we can see, the mean and median of market income in this census are\n",
        "not the same. This is quite common, and we will return to this idea of\n",
        "the mean and median being different a bit later on.\n",
        "\n",
        "> **Question**: What kind of variable is the median appropriate for?\n",
        "> Why?\n",
        "\n",
        "## Percentiles\n",
        "\n",
        "As we learned, the median splits our dataset in half. In this way, 50%\n",
        "of our observations lie below the median, while the other 50% lie above.\n",
        "This brings us to **percentiles**: a percentile is a value on a scale of\n",
        "0-100 (cent- coming from the Latin “centum”, meaning “hundred”) that\n",
        "indicates the percentage of a distribution that is at or below that\n",
        "value. Put another way, the $n$-th percentile of a variable is the\n",
        "number at which $n$ percent of the recorded values lie to the left when\n",
        "all observations have been put in ascending order.\n",
        "\n",
        "The median is necessarily the 50th percentile of any given variable.\n",
        "This is because 50% of the recorded observations for that variable lie\n",
        "below the median. However, we can describe data with many more\n",
        "percentiles than just the 50th percentile. For example, we commonly\n",
        "refer to **quantiles** when describing data. Quantiles are equally\n",
        "divided sections of a distribution of values which together capture the\n",
        "full distribution of these values. They are thus a collection of\n",
        "percentiles which together must add up to 100. Below are some common\n",
        "examples of quantiles. - Quartiles: the 0th percentile, 25th percentile,\n",
        "50th percentile, 75th percentile, and 100th percentile - Quintiles: the\n",
        "0th percentile, 20th percentile, 40th percentile, 60th percentile, 80th\n",
        "percentile, and 100th percentile\n",
        "\n",
        "For instance, we may want to know what the 25th percentile of market\n",
        "income is in this dataset. That is, what is the value of market income\n",
        "for which 25% of the recorded observations for market income are less\n",
        "than this value. We can use the `quantile()` function in R to find this."
      ],
      "id": "d8b305e6-eb89-4edd-87e0-bafc597b841b"
    },
    {
      "cell_type": "code",
      "execution_count": null,
      "metadata": {},
      "outputs": [],
      "source": [
        "# find the 25th percentile of market income\n",
        "quantile(census_data$mrkinc)"
      ],
      "id": "d86e08bc-87aa-4f4d-929b-0d78ff8fa07a"
    },
    {
      "cell_type": "markdown",
      "metadata": {},
      "source": [
        "From our output, we can see that our 25th percentile is 22,000. That is,\n",
        "25% of the people in this dataset have a recorded market income less\n",
        "than 22,000. Further, we can see that this general `quantile()` function\n",
        "outputs all of the quartiles of the `mrkinc` variable (including the 0th\n",
        "percentile, which we can interpret as the minimum value, and the 100th\n",
        "percentile, which we can interpret as the maximum value). This is the\n",
        "default format of the `quantile()` function. If we want to find\n",
        "*specific* percentiles, we can specify an additional argument to the\n",
        "function. For example, we may want to find the 33rd percentile of market\n",
        "income."
      ],
      "id": "38b9d92d-34e7-4d68-8138-3b8c2345fc7a"
    },
    {
      "cell_type": "code",
      "execution_count": null,
      "metadata": {},
      "outputs": [],
      "source": [
        "# find the 33rd percentile of market income\n",
        "quantile(census_data$mrkinc, 0.33)"
      ],
      "id": "6c8fea97-cbb3-4114-a827-49b5832fe6a4"
    },
    {
      "cell_type": "markdown",
      "metadata": {},
      "source": [
        "We may even want to find a series of percentiles. We can pass a vector\n",
        "to the `quantile()` function to achieve this."
      ],
      "id": "beafc08f-507b-40a7-89e1-5b2f3ce7a06c"
    },
    {
      "cell_type": "code",
      "execution_count": null,
      "metadata": {},
      "outputs": [],
      "source": [
        "# find the 40th and 80th percentiles of market income\n",
        "quantile(census_data$mrkinc, c(0.4, 0.8))"
      ],
      "id": "1cd41fea-7207-414a-8adc-6ba509889407"
    },
    {
      "cell_type": "markdown",
      "metadata": {},
      "source": [
        "The picture below helps to visualize percentiles more clearly. It\n",
        "includes quartiles and a series of other details, including the\n",
        "**interquartile range**, which is the difference between the 75th and\n",
        "25th percentiles.\n",
        "\n",
        "![Interquartile range diagram showing minimum, 25th percentile, median,\n",
        "75 percentile and maximum](attachment:media/iqr_diagram.png)\n",
        "\n",
        "One incredibly helpful tool is Tukey’s **five number summary**; it\n",
        "includes the minimum, 25th percentile, median, 75th percentile, and\n",
        "maximum. To find this, we can call the `fivenum()` function, which takes\n",
        "in a set of data and returns the five statistics listed above. Try it\n",
        "below.\n",
        "\n",
        "> **Question**: Does the output look familiar? How?"
      ],
      "attachments": {
        "media/iqr_diagram.png": {
          "image/png": "[encoded data removed]"
        }
      },
      "id": "ec1d7389-a026-422d-9e79-7e08d8aad77a"
    },
    {
      "cell_type": "code",
      "execution_count": null,
      "metadata": {},
      "outputs": [],
      "source": [
        "fivenum(census_data$mrkinc)"
      ],
      "id": "d01e0fd7-8859-4496-9a10-d7e81be9e07f"
    },
    {
      "cell_type": "markdown",
      "metadata": {},
      "source": [
        "## Boxplots\n",
        "\n",
        "Sometimes, we might want to visualize this summary in a diagram. We can\n",
        "use a visualization called a **boxplot** to graphically represent the\n",
        "central tendency, spread and skewness of numerical data. There are a\n",
        "variety of different variations of the boxplot, but in R the default to\n",
        "create a diagram where:\n",
        "\n",
        "-   The box represents the interquartile ranges; i.e. the 25th and 75th\n",
        "    percentile.\n",
        "-   The bold line inside the box represents the median\n",
        "-   The lines outside the box (called the “whiskers”) are the either the\n",
        "    min and max, or 1.5 times the interquartile. Values which exceed\n",
        "    this distance are drawn as points, and are described as “outliers.\n",
        "    -   You can change this behaviour by setting `range = 0`; in this\n",
        "        case, the whiskers extend to the min and max, and the boxplot\n",
        "        depicts the five number summary. The default is `range = 1.5`.\n",
        "\n",
        "To make this plot, we simply invoke the `boxplot()` function. This\n",
        "outputs a box which captures the interquartile range, with the median\n",
        "value marked as a bold line inside the box. In this way, the boxplot\n",
        "represents the quartiles of a dataset and how the data is distributed\n",
        "more generally."
      ],
      "id": "9f2b34a4-e01c-4685-9812-03f362e278e5"
    },
    {
      "cell_type": "code",
      "execution_count": null,
      "metadata": {},
      "outputs": [],
      "source": [
        "boxplot(census_data$mrkinc)"
      ],
      "id": "101421c1-fe2b-43f9-971e-9bb8285a0ccb"
    },
    {
      "cell_type": "markdown",
      "metadata": {},
      "source": [
        "## Mode\n",
        "\n",
        "The last common measure of central tendency is the **mode**. The mode is\n",
        "the most common value a variable takes on in a dataset. For example, if\n",
        "a variable takes on values of 1, 6, 2, 3, 2, and 4, the mode of this\n",
        "variable is 2. If two different values are *equally* represented as the\n",
        "most common value, there will be multiple modes. In this way, it is\n",
        "possible that the mode can be described as *more* than one value.\n",
        "\n",
        "Let’s try the `mode()` function in R to see if we can find this\n",
        "statistic in our `mrkinc` variable."
      ],
      "id": "1c93fb6d-0e89-4976-8f41-23451be34f72"
    },
    {
      "cell_type": "code",
      "execution_count": null,
      "metadata": {},
      "outputs": [],
      "source": [
        "# find the mode of mrkinc\n",
        "mode(census_data$mrkinc)"
      ],
      "id": "b5273dd7-5b39-4699-af96-bc6c3d6e5f80"
    },
    {
      "cell_type": "markdown",
      "metadata": {},
      "source": [
        "We see that `mode()` doesn’t return a value for the mode, but instead\n",
        "returns the data type of the mode itself, which in this case is numeric.\n",
        "Unfortunately, R does not have a simple mode function like it does for\n",
        "the previous statistics. We must instead resort to either defining our\n",
        "own functions to find the mode, or even installing and importing new\n",
        "packages to help us. One possible method of finding the mode is seen\n",
        "below."
      ],
      "id": "a935aba9-f4b7-4b95-a64c-a91c994f16a8"
    },
    {
      "cell_type": "code",
      "execution_count": null,
      "metadata": {},
      "outputs": [],
      "source": [
        "# create a function which finds the mode\n",
        "findmode <- function(x) {\n",
        "    ux <- unique(x)\n",
        "    ux[which.max(tabulate(match(x, ux)))]\n",
        "    }\n",
        "\n",
        "# call this function to find the mode of mrkinc\n",
        "findmode(census_data$mrkinc)"
      ],
      "id": "c2866ef4-0f83-4acf-9ea4-4d7135937931"
    },
    {
      "cell_type": "markdown",
      "metadata": {},
      "source": [
        "## Summary\n",
        "\n",
        "The **mean** is a stand-by measure of central tendency which tells us\n",
        "our average value for a variable. The **median** tells us what value\n",
        "splits our dataset in half for a given variable, while **percentiles**\n",
        "allow us to hone in on dissecting the distribution of values for a\n",
        "variable in our dataset in more detail.\n",
        "\n",
        "It is perhaps unsurprising that R does not have an easy built-in\n",
        "function for finding the **mode**, given that the mode is generally much\n",
        "less useful than our other statistics. One way that the mode can be a\n",
        "deceiving statistic is in instances of **top coding**. This is where any\n",
        "values above a given threshold are reported as simply at that threshold.\n",
        "\n",
        "> For example, suppose the survey used to collect our `mrkinc` variable\n",
        "> offered a range of incomes for participants to select - but only up to\n",
        "> 110,000 - after which, anyone with a market income higher than 110,000\n",
        "> was described as having an income of 110,000. This could make\n",
        "> \\$110,000 by far the most commonly reported value for `mrkinc`. In\n",
        "> this case, these wealthy people in the population would skew the mode,\n",
        "> rendering this measure of central tendency to be misleading since it\n",
        "> prompts us to interpret the survey threshold as a very common value of\n",
        "> `mrkinc` in the data. If you take ECON 326, you will see how top\n",
        "> coding is dealt with, including by redefining these observations or\n",
        "> dropping them altogether.\n",
        "\n",
        "For these reasons, we will stick to the mean, median and percentiles as\n",
        "we move forward with applications and further elaboration. While it is\n",
        "important to understand what the mode is, it is not particularly\n",
        "important for our general analysis of central tendency.\n",
        "\n",
        "### Exercise 1\n",
        "\n",
        "Find the mean and median values of `wages`, to 2 decimal places if\n",
        "necessary. Be sure to remove missing observations first."
      ],
      "id": "24791051-8651-46a2-9268-85f6b3d18b04"
    },
    {
      "cell_type": "code",
      "execution_count": null,
      "metadata": {},
      "outputs": [],
      "source": [
        "# your code here\n",
        "census_data <- filter(census_data, !is.na(census_data$wages))\n",
        "\n",
        "mean(census_data$wages)\n",
        "median(census_data$wages)\n",
        "\n",
        "answer_1 <- # your answer for the mean here\n",
        "answer_2 <- # your answer for the median here\n",
        "\n",
        "test_1()\n",
        "test_2()"
      ],
      "id": "e5ce8cfb-e61f-4b20-8813-bfa695a9f7f0"
    },
    {
      "cell_type": "markdown",
      "metadata": {},
      "source": [
        "### Exercise 2\n",
        "\n",
        "Using what we’ve learned so far, graph the distribution of values of the\n",
        "`wages` variable. Use this graph to help you answer the following\n",
        "question: *Which of the following measures of central tendency is most\n",
        "apt to report for the central tendency of this variable?*\n",
        "\n",
        "-   A: mean\n",
        "-   B: median\n",
        "-   C: mode"
      ],
      "id": "e6727f72-5ae9-42e4-adb9-e782106dd8e0"
    },
    {
      "cell_type": "code",
      "execution_count": null,
      "metadata": {},
      "outputs": [],
      "source": [
        "answer_3 <- \"X\" # replace X with your answer of A, B, or C here\n",
        "\n",
        "test_3()"
      ],
      "id": "873fff3e-aaa1-4613-ac65-2b227f610e2d"
    },
    {
      "cell_type": "markdown",
      "metadata": {},
      "source": [
        "<span style=\"color: red;\">Explain your reasoning here:</span>\n",
        "\n",
        "### Exercise 3\n",
        "\n",
        "What is the interquartile range of the `wages` variable?"
      ],
      "id": "753e2fdc-9867-42d2-ba34-a48840824b72"
    },
    {
      "cell_type": "code",
      "execution_count": null,
      "metadata": {},
      "outputs": [],
      "source": [
        "# your code here\n",
        "quantile(census_data$wages)\n",
        "fivenum(census_data$wages)\n",
        "\n",
        "answer_4 <- # your answer here\n",
        "\n",
        "test_4()"
      ],
      "id": "ff945aa9-fbd2-455b-9f1a-c25d3b41e127"
    },
    {
      "cell_type": "markdown",
      "metadata": {},
      "source": [
        "# Part 2: Applications and Further Points\n",
        "\n",
        "Now that we have a basic understanding of the main measures of central\n",
        "tendency, let’s look at their practicalities, both from a data analysis\n",
        "and R standpoint.\n",
        "\n",
        "## Distributions\n",
        "\n",
        "As was alluded to earlier, the mean and median are usually not the same\n",
        "value. A clear case where they are the same, however, is when our data\n",
        "follows a perfectly symmetric distribution. This means that the\n",
        "probability of seeing any one value for a variable decreases in a near\n",
        "identical fashion outward from the 50th percentile (the median). As a\n",
        "result, the average value of the dataset is equal to this median value,\n",
        "meaning that the mean and median are the same. One common example of\n",
        "this is the standard normal distribution, a classic symmetric\n",
        "distribution. We will delve further into different types of\n",
        "distributions in the upcoming Variation notebook. For now, you can run\n",
        "the code cell below to see an example of a standard normal distribution\n",
        "that we have randomly created using functions in R."
      ],
      "id": "63b8a82f-9b37-4a5e-a611-86bf592d2759"
    },
    {
      "cell_type": "code",
      "execution_count": null,
      "metadata": {},
      "outputs": [],
      "source": [
        "# Don't worry about the specifics of this cell, just run the code.\n",
        "set.seed(124)\n",
        "\n",
        "x <- seq(0, 4, 0.1)\n",
        "\n",
        "plot(x, dnorm(x, 2, 0.5), type = \"l\", xlab=\"\", ylab=\"\")\n",
        "\n",
        "# This does not plot standard normal distribution"
      ],
      "id": "34897ac3-dc32-4ba9-a12a-22a6981e4939"
    },
    {
      "cell_type": "markdown",
      "metadata": {},
      "source": [
        "The above distribution is normally distributed and symmetric. We can see\n",
        "that the probability of seeing an observation with a specific value is\n",
        "largest at 2. Since the probability of seeing observations above and\n",
        "below it falls outward in a completely symmetric fashion, we should\n",
        "expect 50% of our observations to be above and below this point. We\n",
        "should also expect it to then be the average value. Thus, 2 is both the\n",
        "mean and median of the data. ***However, in the real world, many\n",
        "variables do not follow such a nicely symmetric distribution.*** Let’s\n",
        "look at our market income variable for an example."
      ],
      "id": "380247f1-4906-4fb4-a5b6-c51b04b5f6a2"
    },
    {
      "cell_type": "code",
      "execution_count": null,
      "metadata": {},
      "outputs": [],
      "source": [
        "# plot the histogram of mrkinc\n",
        "# hist(census_data$mrkinc, breaks=100, freq=TRUE, col=\"purple\", xlab=\"Market Income\", ylab=\"Number of Observations\", main=\"\")\n",
        "ggplot(census_data, aes(x=mrkinc)) + geom_histogram(bins=100)  + xlab(\"Market Income\") + ylab(\"Number of Observations\")"
      ],
      "id": "c2780b26-c32f-4c0d-a3c6-5fb9d1bd4a28"
    },
    {
      "cell_type": "markdown",
      "metadata": {},
      "source": [
        "This is a **histogram**. It shows us the number of observations with\n",
        "values in different market income groupings. From the output above, we\n",
        "can see that the data here for market income does not follow a nicely\n",
        "symmetric pattern. Instead, it appears that there are many more\n",
        "observations toward the lower end of market income (taller bars for each\n",
        "grouping), and then many much smaller groups extending far outward to\n",
        "the right end of high market incomes.\n",
        "\n",
        "## Skewness\n",
        "\n",
        "The graph above is an example of a **right-skewed distribution**. A\n",
        "right-skewed distribution is an asymmetric distribution which has a long\n",
        "right tail for its histogram. Typically, a right-skewed distribution has\n",
        "a mean larger than its median. We can understand why this is the case by\n",
        "looking at the histogram above. There are many observations for small\n",
        "levels of market income (exemplified by the tall bar groupings on the\n",
        "left-hand side of the diagram). This means that many people have low\n",
        "market incomes. As a result, when moving leftward from small to large\n",
        "values of `mrkinc`, the median appears quite quickly, representing the\n",
        "50th percentile being at quite a low level of market income. The mean\n",
        "will be much larger, as it is an averaging of `mrkinc` values and is\n",
        "such is being skewed upward by the few incredibly values. This aligns\n",
        "with the calculations for the mean and median we did earlier, wherein\n",
        "the mean was about \\$16,000 more than the median.\n",
        "\n",
        "Unfortunately, we do not have any variables in this dataset which\n",
        "exhibit a **left-skewed distribution**, an asymmetric distribution which\n",
        "has a long left tail for its histogram. However, you can imagine exactly\n",
        "the opposite logic applying in this case. A long tail on the left-hand\n",
        "side of the histogram signifies many observations with high values\n",
        "recorded for a given variable. Thus, in this case, the median is much\n",
        "higher than the mean, indicative of the large value at which we finally\n",
        "reach the 50th percentile.\n",
        "\n",
        "At this point, you may be wondering: if the mean and median are so often\n",
        "different, are they both useful measures of central tendency? The answer\n",
        "to this question depends on the situation. From the example with\n",
        "`mrkinc` above, we noticed that a large majority of individuals in the\n",
        "data set had a market income falling among the lower collection of\n",
        "values. Meanwhile, the mean was being artificially raised by the\n",
        "incredibly high market incomes of a few individuals in the outer right\n",
        "regions of our histogram. In this case, it makes more sense to report\n",
        "the median as a measure of central tendency, since it more accurately\n",
        "captures the income distribution of the vast majority of the population.\n",
        "This is why we often hear median household income reported as opposed to\n",
        "mean.\n",
        "\n",
        "More specifically, we prefer to report the median here because a few\n",
        "values for `mrkinc` were **outliers** in our data set, extreme\n",
        "observations which are either much larger or much smaller than the other\n",
        "observations present. Outliers skew our calculation of the mean and pull\n",
        "it closer to the extremes, yet do much less damage to our calculation of\n",
        "the median, so we prefer to report the median when many outliers are\n",
        "present. Conversely, we can also simply remove the outliers from our\n",
        "data and then report the mean for our newly “untainted” distribution.\n",
        "This should be done carefully and only with justification. We can see\n",
        "how our histogram for `mrkinc` changes when this is done below."
      ],
      "id": "765cd2f1-5694-43f9-9d9a-cd247f348dc1"
    },
    {
      "cell_type": "code",
      "execution_count": null,
      "metadata": {},
      "outputs": [],
      "source": [
        "# remove outliers from mrkinc (mrkinc > 150000) and plot a histogram of the results\n",
        "census_data <- filter(census_data, census_data$mrkinc > 0 & census_data$mrkinc < 200000)\n",
        "\n",
        "# hist(census_data$mrkinc, freq=TRUE, col=\"purple\", xlab=\"Market Income\", ylab=\"Number of Observations\", main=\"\")\n",
        "\n",
        "ggplot(census_data, aes(x=mrkinc)) + geom_histogram()  + xlab(\"Market Income\") + ylab(\"Number of Observations\")"
      ],
      "id": "8ebeea7f-178d-43b7-9a85-7ef3c7c20ffe"
    },
    {
      "cell_type": "markdown",
      "metadata": {},
      "source": [
        "In all cases, a good rule of thumb is the following: *if your data is\n",
        "symmetrically distributed and there aren’t any outliers, the mean is\n",
        "generally the best measure of central tendency. If your data is skewed\n",
        "(i.e. right or left skewed) or has many outliers, reporting the median\n",
        "is generally preferable.* No matter what, we should always keep in mind\n",
        "our economic intuition of the variable and context when making the\n",
        "decision of how to report central tendency. We may even decide it is\n",
        "best to just report both, as well as the most commonly reported\n",
        "quantiles (typically quartiles).\n",
        "\n",
        "Beyond the normal and skewed distributions we have generated above,\n",
        "there is one special distribution which, like the standard normal\n",
        "distribution, has an equal mean and median: the **uniform\n",
        "distribution**. A uniform distribution is a distribution in which every\n",
        "possible value for a variable appears with the same frequency, meaning,\n",
        "every value the variable can take on is equally likely to occur. This\n",
        "case is nice, since we don’t have to worry about choosing whether to\n",
        "report the mean or median when measuring central tendency: they are the\n",
        "same. Run the code cell below to see an example of roughly how a uniform\n",
        "distribution looks."
      ],
      "id": "5116d917-8f05-49b8-8fc4-94a5ed877d3c"
    },
    {
      "cell_type": "code",
      "execution_count": null,
      "metadata": {},
      "outputs": [],
      "source": [
        "# plot the histogram of ppsort\n",
        "#hist(census_data$ppsort, breaks=100, freq=TRUE, col=\"purple\", xlab=\"ppsort\", ylab=\"Number of Observations\", main=\"\")\n",
        "\n",
        "ggplot(census_data, aes(x=ppsort)) + geom_histogram(bins=100)  + xlab(\"ppsort\") + ylab(\"Number of Observations\")"
      ],
      "id": "236383d3-6e23-488b-aa55-0c372f495c4e"
    },
    {
      "cell_type": "markdown",
      "metadata": {},
      "source": [
        "The above uniform distribution is for the variable `ppsort`, a unique ID\n",
        "for each observation in our dataset. Since every bar grouping of\n",
        "`ppsort` has a roughly equal number of observations to match, we can see\n",
        "that the mean of this variable should be at about the halfway point of\n",
        "the distribution, which is also the 50th percentile (the median). Thus,\n",
        "our mean and median are roughly identical. *However, the mean and median\n",
        "of `ppsort` are not economically useful*. This variable is simply an\n",
        "identifier. It was chosen solely for visual purposes, since it is the\n",
        "only variable in the dataset which exhibits a roughly uniform\n",
        "distribution. Its mean and median do not inherently tell us anything\n",
        "important about this census dataset. This brings us to one final point:\n",
        "interpretation of measures of central tendency for different variables.\n",
        "\n",
        "## Interpretation of Measures of Central Tendency for Different Variables\n",
        "\n",
        "One common type of variable we come across is **categorical variables**.\n",
        "These variables take on one of a discrete number of values, each of\n",
        "which represent specific “categories” or information for that variable.\n",
        "We cannot typically report the mean or median for these variables. This\n",
        "is because these variables do not take on a continuous range of\n",
        "numerical values. They instead take on either a discrete number of\n",
        "numerical values (oftentimes in no meaningful order and not evenly\n",
        "spaced), or they are hard-coded as characters on which no mathematical\n",
        "operations can be done. In these cases, our most meaningful measure of\n",
        "central tendency is to report the mode; if the number of categories is\n",
        "small enough, we may also simply choose to report the frequency (number\n",
        "of observations) for each category. In either case, plotting a graph\n",
        "such as a bar chart is a convenient way to both show the mode to us\n",
        "immediately (it will be the category with the most observations) and how\n",
        "many observations take on each categorical value. An example is below."
      ],
      "id": "7d90c501-6c8b-4f60-9633-fc877c80b6b6"
    },
    {
      "cell_type": "code",
      "execution_count": null,
      "metadata": {},
      "outputs": [],
      "source": [
        "# plot a bar chart of pr (province of residence of respondents) using visualization tools learned previously\n",
        "ggplot(census_data, aes(x=factor(pr))) + \n",
        "geom_bar(fill=\"purple\") + \n",
        "xlab(\"Province of Residence\") + \n",
        "theme(axis.text.x = element_text(angle = 90))"
      ],
      "id": "03798a61-211d-42f1-9c38-2e439af59a78"
    },
    {
      "cell_type": "markdown",
      "metadata": {},
      "source": [
        "The graph above plots the frequency of each type of `pr` value, where\n",
        "the `pr` variable corresponds to province of residence. From this graph,\n",
        "we could see that the “mode” value of `pr` is Ontario. This makes sense\n",
        "because Ontario is the most populous province in Canada. If we were to\n",
        "try to “calculate” a mean or median for this variable, it would not mean\n",
        "much. Thus, for many categorical variables, we can present charts such\n",
        "as these to help determine the mode observation and also represent\n",
        "central tendency.\n",
        "\n",
        "## Dummy Variables\n",
        "\n",
        "There is one special type of categorical variable called a **dummy\n",
        "variable**. These are variables that take on one of 2 (usually\n",
        "arbitrary) values. Typically, they are the response to a binary question\n",
        "and represent an answer of “Yes” or “No” to that question. One example\n",
        "is the `pkids` variable. This variable takes on values of 1 and 0, which\n",
        "correspond to answers to the question “Does this individual belong to a\n",
        "household with any children?”. The value 1 represents the answer “Yes”,\n",
        "while 0 represents the answer “No”. To investigate this dummy variable\n",
        "more carefully, let’s remove missing observations as we have done\n",
        "before. In this case, using the `glimpse()` function, we can see that\n",
        "`NA` has been coded with the value 9, so let’s remove observations with\n",
        "this value. If you take ECON 326, you’ll get to work more with dummy\n",
        "variables!"
      ],
      "id": "ec98368f-41de-4d41-9beb-a8726f58eb24"
    },
    {
      "cell_type": "code",
      "execution_count": null,
      "metadata": {},
      "outputs": [],
      "source": [
        "# glimpse the function to see how missing observations are stored\n",
        "glimpse(census_data$pkids)\n",
        "\n",
        "# filter out missing observations for pkids\n",
        "census_data <- filter(census_data, census_data$pkids != 9)"
      ],
      "id": "f8079367-2f30-4200-98be-3b4738942f05"
    },
    {
      "cell_type": "markdown",
      "metadata": {},
      "source": [
        "Now we have a variable which only takes on values of 1 or 0, the most\n",
        "common format for dummy variables. For these variables, the mean is\n",
        "quite interesting. Let’s find it below."
      ],
      "id": "71f04d72-c56d-4f6a-9357-6e7d963ad67e"
    },
    {
      "cell_type": "code",
      "execution_count": null,
      "metadata": {},
      "outputs": [],
      "source": [
        "# calculate the mean of pkids\n",
        "mean(census_data$pkids)"
      ],
      "id": "1e7b7cb3-d4ba-4513-b8cd-87b4b8367b9e"
    },
    {
      "cell_type": "markdown",
      "metadata": {},
      "source": [
        "We can see that the mean of `pkids` is about 0.7. Let’s think about\n",
        "this. The mean is found by summing up all observations for a variable\n",
        "and then dividing by the total number of observations. In this case, we\n",
        "are summing up individual values of 0 and 1, then dividing by the total\n",
        "number of observations we have in the data set. Since values of 0 will\n",
        "not factor into this addition, our final sum will capture the sum of all\n",
        "the 1s in the data set. This number is thus a representation of the\n",
        "number of people who responded “Yes” to the question “Do you belong to a\n",
        "household with any children?”. Since we always divide this sum by the\n",
        "total number of observations to get our mean, this mean represents the\n",
        "ratio or percentage of the data set who belong to a household with some\n",
        "children. In this case, about 70% of respondents in the data set belong\n",
        "to a household with some children. For dummy variables, the median is\n",
        "not very helpful, since it simply represents a value at which 50% of\n",
        "observations record a lower value. In this case, observations can only\n",
        "take on one of two values, so the median does not provide us much\n",
        "intuitive information. The mean is much more useful in this case.\n",
        "\n",
        "### Exercise 4\n",
        "\n",
        "Use the `glimpse()` function to inspect the newly created `bilingual`\n",
        "dummy variable, then use that variable to answer this question: what\n",
        "percentage of people in the dataset are bilingual? Answer to **1**\n",
        "decimal place."
      ],
      "id": "73c8c0d8-9f32-4b87-89d3-99ccf50e45a3"
    },
    {
      "cell_type": "code",
      "execution_count": null,
      "metadata": {},
      "outputs": [],
      "source": [
        "census_data <- census_data %>%\n",
        "                mutate(bilingual = case_when(\n",
        "                        fol == 1 ~ 0,\n",
        "                        fol == 2 ~ 0,\n",
        "                        fol == 3 ~ 1,\n",
        "                        fol == 4 ~ 0))\n",
        "\n",
        "glimpse(census_data$bilingual)\n",
        "mean(census_data$bilingual)\n",
        "# your code here\n",
        "\n",
        "answer_5 <- # your answer here\n",
        "\n",
        "test_5()"
      ],
      "id": "3f4b2fd8-ff4a-4357-8a1d-6d2662929162"
    },
    {
      "cell_type": "markdown",
      "metadata": {},
      "source": [
        "### Exercise 5\n",
        "\n",
        "With the help of the variable `agegrp`, use a graph to answer the\n",
        "following question: what is the most common age group of participants\n",
        "recorded in the dataset? Use the `unique()` function to help you see how\n",
        "each `agegrp` category is coded."
      ],
      "id": "7e065ded-1c76-4240-b348-0af063d06f81"
    },
    {
      "cell_type": "code",
      "execution_count": null,
      "metadata": {},
      "outputs": [],
      "source": [
        "# your code here\n",
        ")) + geom_bar(fill=\"purple\") + xlab(\"age group\") + theme(axis.text.x = element_text(angle = 90))\n",
        "\n",
        "# unique(census_data$agegrp)\n",
        "\n",
        "answer_6 <- \"X to Y years\" # replace X and Y for your answer to the age group ranging from X to Y here\n",
        "test_6()"
      ],
      "id": "9d5d196b-c3ed-467f-bd0a-05e50a741340"
    },
    {
      "cell_type": "markdown",
      "metadata": {},
      "source": [
        "<span style=\"color: red;\">What is the statistical name for this figure?\n",
        "Would other common measures of central tendency be appropriate to report\n",
        "for this question? Answer here:</span>"
      ],
      "id": "7ac82ed6-53f8-480f-91a5-c61cc405965b"
    }
  ],
  "nbformat": 4,
  "nbformat_minor": 5,
  "metadata": {
    "kernelspec": {
      "name": "ir",
      "display_name": "R",
      "language": "r"
    }
  }
}