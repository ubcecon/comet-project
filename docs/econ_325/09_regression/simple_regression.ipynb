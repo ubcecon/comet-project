{
  "cells": [
    {
      "cell_type": "markdown",
      "metadata": {},
      "source": [
        "# 09 - ECON 325: Simple Regression\n",
        "\n",
        "COMET Team <br> *Jonathan Graves, Jonah Heyl, Anneke Dresselhuis, Rathin\n",
        "Dharani, Devan Rawlings, Jasmine Arora*  \n",
        "2023-07-11\n",
        "\n",
        "## Outline\n",
        "\n",
        "### Prerequisites\n",
        "\n",
        "-   Introduction to Jupyter\n",
        "-   Introduction to Data\n",
        "-   Introduction to R\n",
        "-   Hypothesis testing\n",
        "\n",
        "### Outcomes\n",
        "\n",
        "-   Build a simple linear regression using R\n",
        "-   Create and interpret regression outputs in R including: coefficient\n",
        "    estimates\n",
        "-   Examine the various elements of regression objects in R (including\n",
        "    fitted values, residuals and coefficients)\n",
        "-   Explain the role of qualitative variables in regression analysis as\n",
        "    dummy variables"
      ],
      "id": "3bb0ca5d-b9d9-45c4-b324-7a77b742034c"
    },
    {
      "cell_type": "code",
      "execution_count": null,
      "metadata": {},
      "outputs": [],
      "source": [
        "library(tidyverse)\n",
        "library(haven)\n",
        "\n",
        "source(\"tests_regression.r\")"
      ],
      "id": "93699cc6-f96e-4e82-a5fa-c94326eb1d06"
    },
    {
      "cell_type": "markdown",
      "metadata": {},
      "source": [
        "# Part 1: Learning About Regressions\n",
        "\n",
        "What is a regression? What is the relationship of a regression to other\n",
        "statistical concepts? How do we use regressions to answer economic\n",
        "questions?\n",
        "\n",
        "In this notebook, we will explore these questions using our census data\n",
        "set and will learn more about the immigrant wage gap. If you remember\n",
        "from last lecture, we were interested in the relationship between\n",
        "`wages` and `immstat` - wages and immigration status. However, this is\n",
        "not the only way to measure economic income - another variable, `mrkinc`\n",
        "(market income), also measures income. Let’s get started with\n",
        "regressions by exploring the relationship between `wages` and `mrkinc`\n",
        "in this data set.\n",
        "\n",
        "Let’s start off with a visualization:"
      ],
      "id": "08c81140-01a4-4368-87f1-51bd77c8550a"
    },
    {
      "cell_type": "code",
      "execution_count": null,
      "metadata": {},
      "outputs": [],
      "source": [
        "census_data <- read_dta(\"../datasets/01_census2016.dta\")\n",
        "\n",
        "census_data <- as_factor(census_data)\n",
        "\n",
        "census_data <- filter(census_data, !is.na(census_data$wages)) #Removing the rows in which wages = NA\n",
        "census_data <- filter(census_data, !is.na(census_data$mrkinc)) #Removing the rows in which mrkinc = NA\n",
        "\n",
        "glimpse(census_data)"
      ],
      "id": "bf2ab5e4-0a00-42e4-b8f5-f8f845d03660"
    },
    {
      "cell_type": "code",
      "execution_count": null,
      "metadata": {},
      "outputs": [],
      "source": [
        "options(repr.plot.width=6,repr.plot.height=4) #controls the image size\n",
        "\n",
        "f <- ggplot(data = census_data, aes(x = wages, y = mrkinc)) + xlab(\"Wages\") + ylab(\"Market Income\")\n",
        "f + geom_point()"
      ],
      "id": "518499bd-305a-439a-ac47-ba31809ed276"
    },
    {
      "cell_type": "markdown",
      "metadata": {},
      "source": [
        "> *Think Deeper*: What do you see here? Is there anything about this\n",
        "> relationship that sticks out to you? Why does it have the shape it\n",
        "> does?\n",
        "\n",
        "You can probably tell that there is definitely some relationship between\n",
        "wages and market income - but it can be difficult to visualize using a\n",
        "scatterplot alone. There are far too many points, and too much going on.\n",
        "\n",
        "## Conditional Expectation:\n",
        "\n",
        "The expectation of $X$ is what outcome we expect $X$ to *typically* be\n",
        "after *a lot* of sampling. It is a way to find out the predicted value\n",
        "of a random variable like $X$. We calculate it by multiplying the\n",
        "different values $X$ can take with the associated probabilities that $X$\n",
        "takes that value. For instance, the expectation of a die throw is 3.\n",
        "Essentially, $$\n",
        "E[X] =  \\sum_{i=1}^n P(X_i=x) X_i\n",
        "$$\n",
        "\n",
        "You can think of conditional expectation as the expected value based on\n",
        "some condition. It is: $$\n",
        "E[X|y_i=y] =  \\sum_{i=1}^n P(X_i=x|y_i=y) X_i\n",
        "$$\n",
        "\n",
        "Essentially, the conditional expectation tells us the average value of a\n",
        "random variable over a subpopulation. It connects the variable that\n",
        "defines the subpopulation and the variable that defines the average. The\n",
        "shape of the conditional expectation function tells us about the\n",
        "relationship between the two variables we are interested in. For\n",
        "example, a the conditional expectation of a dice roll *given* that the\n",
        "number is even, is 4.\n",
        "\n",
        "Linear regression assumes a linear conditional expectation function\n",
        "which means that the conditional expectation function can be described\n",
        "by a straight line $E[Y|X=x]= \\beta_0 +\\beta_1X$. This is what\n",
        "regression models are trying to approximate. Thus we can split a\n",
        "regression model into two parts: 1. the conditional expectation and 2.\n",
        "an error term.\n",
        "\n",
        "To be clear, let’s look at an example of this linear conditional\n",
        "expectation function, where our $Y$ (outcome variable) is wages and our\n",
        "$X$ (explanatory variable) is years of education. The conditional\n",
        "expectation function would be\n",
        "$E[WAGES|YEARS=years_i] = \\beta_0 +\\beta_1X$. This means that the\n",
        "*given* a particular value of years of education ($years_i$) for an\n",
        "individual $i$, the wages of that individual will follow the linear\n",
        "regression form $\\beta_0 +\\beta_1X$.\n",
        "\n",
        "## Regression Models\n",
        "\n",
        "This is where a *regression model* comes in. A regression model\n",
        "specifies (the *specification*) the relationship between two variables.\n",
        "For example, a linear relationship would be:\n",
        "\n",
        "$$\n",
        "M_i = \\beta_0 + \\beta_1 W_i\n",
        "$$\n",
        "\n",
        "Where $M_i$ is the market income of individual $i$, and $W_i$ is their\n",
        "wage. We normally (in econometrics) refer to $M_i$ as the **outcome**\n",
        "variable, and $W_i$ as the **explanatory** variable; you may have also\n",
        "heard the terms *dependent* and *independent*, but these aren’t actually\n",
        "very good descriptions of what these variables are in econometrics.\n",
        "\n",
        "A model like this is our description of what this relationship is - but\n",
        "it depends on two unknowns: $\\beta_0$, $\\beta_1$.\n",
        "\n",
        "-   The $\\beta_0$ and $\\beta_1$ are **parameters** of the model: they\n",
        "    are numbers that determine the relationship (intercept and slope)\n",
        "    between $M_i$ and $W_i$\n",
        "-   This is a linear relationship because the model we have specified is\n",
        "    linear in the coefficients (but there are many other kinds of\n",
        "    models). It is also linear in the variables, but that isn’t required\n",
        "    (we will see more about this later).\n",
        "\n",
        "However, it is unlikely, if not impossible, for\n",
        "($M_i = \\beta_0 + \\beta_1 W_i$) to completely explain everything about\n",
        "our data. We need to include a term which captures everything which is\n",
        "*not* described by this relationship. This is called the *residual* term\n",
        "(meaning “leftover”).\n",
        "\n",
        "-   The $\\epsilon_i$ is the residual: a component that corresponds to\n",
        "    the part of the data which is *not* described by the model\n",
        "-   These residual terms will usually have certain assumed properties\n",
        "    that allow us to estimate the model.\n",
        "\n",
        "Conceptually, we can think about a regression as two parts: the part of\n",
        "the relationship explained by our model ($M_i = \\beta_0 + \\beta_1 W_i$)\n",
        "and the part which is not explained ($\\epsilon_i$). The process of\n",
        "“fitting” or estimating a regression model refers to the selection of\n",
        "values for $\\beta_0$ and $\\beta_1$ such that as little needs to be\n",
        "explained by the residual term as possible. We write the complete\n",
        "*regression equation* by combining the two parts of the model:\n",
        "\n",
        "$$\n",
        "M_i = \\beta_0 + \\beta_1 W_i + \\epsilon_i\n",
        "$$\n",
        "\n",
        "The goal of regression analysis is to:\n",
        "\n",
        "1.  Estimate this equation (and especially the model parameters) as\n",
        "    accurately as possible.\n",
        "2.  Learn about the relationship between $M_i$ and $W_i$ from the\n",
        "    results of that estimation.\n",
        "\n",
        "There are many ways to define “accurately as possible” and similarly\n",
        "there are many ways to “estimate” the equation. In this course, we use\n",
        "*ordinary least squares* (OLS) which basically says:\n",
        "\n",
        "$$\n",
        "(\\hat{\\beta_0},\\hat{\\beta_1}) = \\arg \\min_{b_0,b_1} \\sum_{i=1}^{n} (M_i - b_0 - b_1 W_i)^2 = \\sum_{i=1}^{n} (e_i)^2\n",
        "$$\n",
        "\n",
        "Okay, that looks complicated, but don’t fear. It is just the calculus\n",
        "way of writing “choose $\\beta_0$ and $\\beta_1$ (call them\n",
        "$\\hat{\\beta_0},\\hat{\\beta_1}$) such that they minimize the sum of the\n",
        "squared residuals”.\n",
        "\n",
        "-   This should make sense; after all, the whole point of doing a\n",
        "    regression is to explain as much as possible using the parameters\n",
        "    ($\\beta_0, \\beta_1$) and as little as possible using $\\epsilon_i$.\n",
        "-   This has transformed our statistical problem into a calculus\n",
        "    problem, which you (well, a computer) can solve; for example, by\n",
        "    taking derivatives.\n",
        "\n",
        "There are many, many ways to solve this estimation problem - most of\n",
        "which are built into R. You can also solve it analytically (using some\n",
        "math). But let’s start with an alternative. Essentially, if you remember\n",
        "drawing a best fit line through points from high school, this is what a\n",
        "linear regression does in R.\n",
        "\n",
        "## Example: Manual Estimation\n",
        "\n",
        "A very *bad* way to solve this is the good-’ole eyeball method. That’s\n",
        "right - you look at the scatterplot, then guess some values and see how\n",
        "it performs.\n",
        "\n",
        "Try to get the best fit you can by playing around with the following\n",
        "example."
      ],
      "id": "d847f1cf-cc47-4abe-856c-ce18741f77d5"
    },
    {
      "cell_type": "code",
      "execution_count": null,
      "metadata": {},
      "outputs": [],
      "source": [
        "# set the value of B_0 and B_1 with these values\n",
        "\n",
        "B_0 = 0  #change me\n",
        "B_1 = 1  #change me\n",
        "\n",
        "# don't touch the rest of this code - but see if you can understand it!\n",
        "\n",
        "SSE = sum((census_data$mrkinc - B_0 - B_1*census_data$wages)^2)\n",
        "\n",
        "# here is the SSE from your model\n",
        "\n",
        "round(SSE/1000000,0)"
      ],
      "id": "d5b000a6-6422-4853-9a16-48db7a0d2cc3"
    },
    {
      "cell_type": "markdown",
      "metadata": {},
      "source": [
        "What was the lowest value you got? Here is what your guess looks like in\n",
        "a graph:"
      ],
      "id": "a3298fbd-b813-4af3-8fc0-e6289fd533a6"
    },
    {
      "cell_type": "code",
      "execution_count": null,
      "metadata": {},
      "outputs": [],
      "source": [
        "# just run this cell to see your results\n",
        "# re-run it if you change the values\n",
        "\n",
        "options(repr.plot.width=6,repr.plot.height=4) #controls the image size\n",
        "\n",
        "fitted_line = data.frame(wages = census_data$wages, mrkinc = B_0 + B_1*census_data$wages)\n",
        "\n",
        "f <- ggplot(data = census_data, aes(x = wages, y = mrkinc)) + xlab(\"Wages\") + ylab(\"Market Income\")\n",
        "f <- f + geom_point() + geom_line(color = \"red\", data = fitted_line)\n",
        "\n",
        "f"
      ],
      "id": "4a242fa6-a8c6-4823-b60a-8341d5edb5ff"
    },
    {
      "cell_type": "markdown",
      "metadata": {},
      "source": [
        "## Interactive Visualisation of OLS\n",
        "\n",
        "Understanding OLS is absolutely fundamental to understanding regressions\n",
        "and further topics in econometrics. Let’s try and understand the formula\n",
        "for OLS above through a more visual approach, just to cement our\n",
        "understanding.\n",
        "\n",
        "$$\n",
        "(\\hat{\\beta_0},\\hat{\\beta_1}) = \\arg \\min_{b_0,b_1} \\sum_{i=1}^{n} (M_i - b_0 - b_1 W_i)^2 = \\sum_{i=1}^{n} (e_i)^2\n",
        "$$\n",
        "\n",
        "To demonstrate this, we will use a small scatter plot with just 4\n",
        "points. The straight line through the scatter plot is modelled by the\n",
        "simple regression formula $B_0 + B_1X$. As we mentioned above, it’s\n",
        "nearly impossible for a regression to perfectly predict the relationship\n",
        "between two variables, there will almost always be an associated\n",
        "**unobservable error** with our regression estimation. So each of the\n",
        "points can be modelled by the equation $Y_i = B_0 + B_1X + e_i$ This can\n",
        "be seen as the vertical distance between the regression line and the\n",
        "actual data points. You may be wondering why we can’t just minimize the\n",
        "errors, what’s the need to minimize the squared errors? You can see\n",
        "below that some data points are above the regression line and some are\n",
        "below, hence the error terms will just cancel each other out and not\n",
        "yield much use for us trying to find the best regression line.\n",
        "Therefore, we take the squares of the errors, which are depicted as the\n",
        "red boxes in the diagram below. Our goal is to the find the regression\n",
        "line that minimizes those squares of errors, hence minimize the size of\n",
        "those red boxes.\n",
        "\n",
        "> Try your own values for `beta_0` and `beta_1`. Make sure to try the\n",
        "> values only roughly within the specified range. The actual value of\n",
        "> `beta_0` and `beta_1` that minimize the residual sum of squares is\n",
        "> 0.65 and 0.82 respectively. The code block below also displays the\n",
        "> area of the red boxes. You should see that deviation from these\n",
        "> optimal values will only make the area of the red boxes larger."
      ],
      "id": "bc79774f-85f7-449c-8842-43ea2539c22a"
    },
    {
      "cell_type": "code",
      "execution_count": null,
      "metadata": {},
      "outputs": [],
      "source": [
        "beta_0 <- 0.65 #CHANGE THIS VALUE, TRY VALUES BETWEEN 0 - 1\n",
        "beta_1 <- 0.82 #CHANGE THIS VALUE, TRY VALUES BETWEEN 0.6 - 1.4\n",
        "\n",
        "x <- c(1, 2, 3, 4)\n",
        "y <- c(1.7, 1.5, 4, 3.6)\n",
        "\n",
        "# don't worry about this code, just run it!\n",
        "dta <- data.frame(x, y)\n",
        "example_df_graph <- dta %>%\n",
        "                    ggplot(aes(x = x, y = y)) +\n",
        "                    geom_point() +\n",
        "                    geom_abline(intercept = beta_0, slope = beta_1) +\n",
        "                    xlim(0, 5) +\n",
        "                    ylim(0, 5) +\n",
        "                    geom_rect(aes(xmin = (dta[1, \"x\"] + (beta_0 + (beta_1 * dta[1, \"x\"])) - dta[1, \"y\"]), xmax = dta[1, \"x\"], \n",
        "                                  ymin = (beta_0 + (beta_1 * dta[1, \"x\"])), ymax = dta[1, \"y\"]),\n",
        "                            alpha = 0.1,\n",
        "                            fill = \"red\") +\n",
        "                    geom_rect(aes(xmin = dta[2, \"x\"], xmax = (dta[2, \"x\"] + (beta_0 + (beta_1 * dta[2, \"x\"])) - dta[2, \"y\"]), \n",
        "                                  ymin = dta[2, \"y\"], ymax = (beta_0 + (beta_1 * dta[2, \"x\"]))), \n",
        "                            alpha = 0.1, \n",
        "                            fill = \"red\") +\n",
        "                    geom_rect(aes(xmin = (dta[3, \"x\"] + (beta_0 + (beta_1 * dta[3, \"x\"])) - dta[3, \"y\"]), xmax = dta[3, \"x\"], \n",
        "                                  ymin = (beta_0 + (beta_1 * dta[3, \"x\"])), ymax = dta[3, \"y\"]), \n",
        "                            alpha = 0.1, \n",
        "                            fill = \"red\") +\n",
        "                    geom_rect(aes(xmin = dta[4, \"x\"], xmax = (dta[4, \"x\"] + (beta_0 + (beta_1 * dta[4, \"x\"])) - dta[4, \"y\"]), \n",
        "                                  ymin = dta[4, \"y\"], ymax = (beta_0 + (beta_1 * dta[4, \"x\"]))), \n",
        "                            alpha = 0.1, \n",
        "                            fill = \"red\")\n",
        "example_df_graph\n",
        "\n",
        "area_1 <- ((dta[1, \"x\"] - (dta[1, \"x\"] + (beta_0 + (beta_1 * dta[1, \"x\"])) - dta[1, \"y\"])) * \n",
        "        ((beta_0 + (beta_1 * dta[2, \"x\"])) - dta[2, \"y\"]))\n",
        "area_2 <- ((dta[2, \"x\"] + (beta_0 + (beta_1 * dta[2, \"x\"])) - dta[2, \"y\"]) - dta[2, \"x\"]) * \n",
        "          ((beta_0 + (beta_1 * dta[2, \"x\"])) - dta[2, \"y\"])\n",
        "area_3 <- (dta[3, \"x\"] - (dta[3, \"x\"] + (beta_0 + (beta_1 * dta[3, \"x\"])) - dta[3, \"y\"])) * \n",
        "          (dta[3, \"y\"]) - (beta_0 + (beta_1 * dta[3, \"x\"]))\n",
        "area_4 <- ((dta[4, \"x\"] + (beta_0 + (beta_1 * dta[4, \"x\"])) - dta[4, \"y\"]) - dta[4, \"x\"]) * \n",
        "          ((beta_0 + (beta_1 * dta[4, \"x\"])) - dta[4, \"y\"])\n",
        "\n",
        "area <- area_1 + area_2 + area_3 + area_4\n",
        "print(\"Area of red boxes is: \")\n",
        "area"
      ],
      "id": "0d8cc9b3-c783-4800-8179-196d3250986c"
    },
    {
      "cell_type": "markdown",
      "metadata": {},
      "source": [
        "# Simple Regressions in R\n",
        "\n",
        "Now, let’s see how we could use a regression in R to do this. The main\n",
        "part of a regression model in R is the… model. Not very surprising!\n",
        "Regression models look like: `Y ~ X` (the `~` symbol is called “tilde”\n",
        "FYI). `Y ~ X` means that we have created a model where `Y` is regressed\n",
        "on `X`.\n",
        "\n",
        "We can ignore the residual terms and parameters when writing the model\n",
        "in R and just focus on the variables for now.\n",
        "\n",
        "So, for example, our regression model is\n",
        "\n",
        "$$\n",
        "M_i = \\beta_0 + \\beta_1 W_i + \\epsilon_i\n",
        "$$\n",
        "\n",
        "Which can be written in R as\n",
        "\n",
        "`mrkinc ~ wages`\n",
        "\n",
        "Regressions are estimated in R using the `lm` function, which takes the\n",
        "data as an argument.\n",
        "\n",
        "-   This creates a *linear model* object, which can be used to calculate\n",
        "    things (using prediction) or perform tests\n",
        "-   It also stores all of the information about the model, such as the\n",
        "    coefficient and fit\n",
        "-   These models can also be printed and summarized to give important\n",
        "    basic information about a regression\n",
        "\n",
        "For an example linear model called `my_model`, some of the most\n",
        "important elements are:\n",
        "\n",
        "-   `my_model$coefficients`: the parameter coefficients\n",
        "-   `my_model$residuals`: the residuals\n",
        "-   `my_model$fitted.values`: the predicted values\n",
        "\n",
        "Enough talk! Let’s see our model in action here."
      ],
      "id": "3798ebc1-d0ff-42e6-bd16-e3cb15b336f8"
    },
    {
      "cell_type": "code",
      "execution_count": null,
      "metadata": {},
      "outputs": [],
      "source": [
        "regression1 = lm(mrkinc ~ wages, data = census_data)\n",
        "\n",
        "summary(regression1)\n",
        "\n",
        "head(regression1$coefficients)"
      ],
      "id": "1c1ca67b-9869-488d-b7a6-0e680a11d6d5"
    },
    {
      "cell_type": "markdown",
      "metadata": {},
      "source": [
        "Take a close look at the results. Identify the following elements:\n",
        "\n",
        "-   The values of the parameters\n",
        "-   The standard errors of the parameters\n",
        "-   The %-of the data explained by the model (R-sqaured)\n",
        "\n",
        "> **Test Your Knowledge**: What % of the data is explained by the model?\n",
        "> Answer to 2 decimal places."
      ],
      "id": "b5f3dae5-d375-4332-a78f-47a48f03ed6b"
    },
    {
      "cell_type": "code",
      "execution_count": null,
      "metadata": {
        "tags": "question"
      },
      "outputs": [],
      "source": [
        "#Hint: Convert the Multiple-R squared value into a percentage \n",
        "ans1 <- ...  # answer goes here\n",
        "\n",
        "test_1()"
      ],
      "id": "3f86693d-8b57-4bb4-8563-af65ee198a31"
    },
    {
      "cell_type": "markdown",
      "metadata": {},
      "source": [
        "The underlying model and the parameters tell us about the relationship\n",
        "between the different values:\n",
        "\n",
        "$$\n",
        "M_i = -2455 + 1.61 W_i + \\epsilon_i\n",
        "$$\n",
        "\n",
        "Notice, for example:\n",
        "\n",
        "$$\n",
        "\\frac{\\partial M_i}{\\partial W_i} = \\beta_1 = 1.61\n",
        "$$\n",
        "\n",
        "In other words, when wages go up by 1 dollar, we would expect that\n",
        "market income will rise by 1.61 dollars. This kind of analysis is key to\n",
        "*interpreting* what this model is telling us.\n",
        "\n",
        "Finally, let’s visualize our fitted model on the scatterplot from\n",
        "before. How does it compare to your original model?"
      ],
      "id": "f75ee6fb-8d5a-4fca-84fd-63a1fc037df0"
    },
    {
      "cell_type": "code",
      "execution_count": null,
      "metadata": {},
      "outputs": [],
      "source": [
        "fitted_line2 = data.frame(wages = census_data$wages, mrkinc = regression1$fitted.values)\n",
        "\n",
        "f <- ggplot(data = census_data, aes(x = wages, y = mrkinc)) + xlab(\"Wages\") + ylab(\"Market Income\")\n",
        "f <- f + geom_point() + geom_line(color = \"red\", data = fitted_line) + geom_line(color = \"blue\", data = fitted_line2)\n",
        "\n",
        "f"
      ],
      "id": "e2149972-f619-4f01-92f8-a44b93a36654"
    },
    {
      "cell_type": "markdown",
      "metadata": {},
      "source": [
        "As you can see - there’s a very close relationship between `mrkinc` and\n",
        "`wages`. This implies that we can focus our attention on wages in our\n",
        "analysis of the immigrant wage gap.\n",
        "\n",
        "# Part 2: Simple Regressions and $t$-Tests\n",
        "\n",
        "Previously, we looked at the relationship between market income and\n",
        "wages. However, these are both *quantitative* variables. However, what\n",
        "if we wanted to work with a *qualitative* variable like `immstat`?\n",
        "\n",
        "Regression models can still incorporate this kind of variable - which is\n",
        "good, because (as the Census makes clear) this is the most common type\n",
        "of variable in real-world data. How is this possible?\n",
        "\n",
        "Let’s start out with the simplest kind of qualitative variable: a\n",
        "**dummy** (0 or 1) variable. Consider the regression equation:\n",
        "\n",
        "$$\n",
        "W_i = \\beta_0 + \\beta_1 I_i + \\epsilon_i\n",
        "$$\n",
        "\n",
        "The conditional expectation when I_i is 0 and when it is 1 is :\n",
        "\n",
        "$$\n",
        "E[W_i|I_i = 1] = \\beta_0 + \\beta_1 \\cdot 1 + E[\\epsilon_i|I_i = 1]\n",
        "$$\n",
        "\n",
        "$$\n",
        "E[W_i|I_i = 0] = \\beta_0 + \\beta_1 \\cdot 0 + E[\\epsilon_i|I_i = 0]\n",
        "$$\n",
        "\n",
        "Under Assumption 1, we have that $E[\\epsilon_i|I_i] = 0$, so:\n",
        "\n",
        "$$\n",
        "E[W_i|I_i = 1] = \\beta_0 + \\beta_1\n",
        "$$\n",
        "\n",
        "$$\n",
        "E[W_i|I_i = 0] = \\beta_0\n",
        "$$\n",
        "\n",
        "Combining these two expressions:\n",
        "\n",
        "$$\n",
        "\\beta_1 = E[W_i|I_i = 1] - E[W_i|I_i = 0]\n",
        "$$\n",
        "\n",
        "What this tells us:\n",
        "\n",
        "1.  You can include **dummy** variables in regressions\n",
        "2.  The coefficients of the dummy variable have meaning in terms of the\n",
        "    regression model\n",
        "3.  They measure the (average) difference in the dependent variable\n",
        "    between the two levels of the dummy variable\n",
        "\n",
        "Each of these facts reinforces the idea that dummy variables can be\n",
        "included in a regression model just like quantitative variables.\n",
        "\n",
        "Let’s look at this in terms of `immstat`. We can create our regression\n",
        "equation as:\n",
        "\n",
        "$$\n",
        "W_i = \\beta_0 + \\beta_1 I_i + \\epsilon_i\n",
        "$$\n",
        "\n",
        "Then we can estimate this using R."
      ],
      "id": "76f462db-f236-4bd5-b333-3388057d1058"
    },
    {
      "cell_type": "code",
      "execution_count": null,
      "metadata": {},
      "outputs": [],
      "source": [
        "regression2 <- lm(wages ~ immstat, data = census_data)\n",
        "\n",
        "summary(regression2)"
      ],
      "id": "1e98ab43-d93b-4c7e-a141-53d274f48e75"
    },
    {
      "cell_type": "markdown",
      "metadata": {},
      "source": [
        "What do you see here?\n",
        "\n",
        "> **Test Your Knowledge**: What is the difference in average wage\n",
        "> between immigrants and non-immigrants?"
      ],
      "id": "a38c16ec-8476-4f3d-97c1-d811e0fe8398"
    },
    {
      "cell_type": "code",
      "execution_count": null,
      "metadata": {
        "tags": "question"
      },
      "outputs": [],
      "source": [
        "# input the answer (to 1 decimal place)\n",
        "answer2 <- ...  \n",
        "\n",
        "test_2()"
      ],
      "id": "b38225fd-d35d-4351-8d3a-8a3f128f3ae0"
    },
    {
      "cell_type": "markdown",
      "metadata": {},
      "source": [
        "The number about might seem familiar, if you remember what we learned\n",
        "about a $t$-test from earlier. Remember this result?"
      ],
      "id": "18cf2987-defe-4b14-998a-8d525f23a1ac"
    },
    {
      "cell_type": "code",
      "execution_count": null,
      "metadata": {},
      "outputs": [],
      "source": [
        "t1 <- t.test(x = filter(census_data, immstat == \"immigrants\")$wages,\n",
        "       y = filter(census_data, immstat == \"non-immigrants\")$wages,\n",
        "       alternative = \"two.sided\",\n",
        "       mu = 0,\n",
        "       conf.level = 0.95)\n",
        "t1\n",
        "\n",
        "t1$estimate[1] - t1$estimate[2]"
      ],
      "id": "8a536bde-d338-4265-b96f-ec3f16e88f01"
    },
    {
      "cell_type": "markdown",
      "metadata": {},
      "source": [
        "Look closely at this result, and the result above. What do you see? What\n",
        "is the relationship here.\n",
        "\n",
        "This is a very important result: regression is an example of the\n",
        "comparison that a two sample comparison is making, when the explanatory\n",
        "variable is a dummy. Why is this? Recall:\n",
        "\n",
        "$$\n",
        "\\beta_1 = E[W_i|I_i = 1] - E[W_i|I_i = 0]\n",
        "$$\n",
        "\n",
        "The regression coefficient of $\\beta_1$ has the interpretation of being\n",
        "a comparison of two means. This is exactly the same as what the $t$-test\n",
        "is doing! Comparing two means by different groups - groups which are\n",
        "specified by $I_i = 0$ or $I_i = 1$.\n",
        "\n",
        "-   In other words, another way of thinking about a regression is like a\n",
        "    form of \\`\\`super’’ comparison of means test.\n",
        "-   It can handle the same kind of analysis (i.e. with dummies), but can\n",
        "    also include quantitative variables - which regular comparison of\n",
        "    means tests cannot handle.\n",
        "\n",
        "# Part 3: Exercises\n",
        "\n",
        "## Activity 1\n",
        "\n",
        "In this activity, we’ll explore how the immigrant wage gap could depend\n",
        "on sex (male vs. female). We can now examine this issue directly using\n",
        "regressions.\n",
        "\n",
        "Estimate the immigrant wage gap for males and for females using\n",
        "regressions.\n",
        "\n",
        "<em>Tested objects:</em> `regm` (the regression for males), `regf` (the\n",
        "regression for females)."
      ],
      "id": "52ebcf48-dd17-41d4-aa32-633fa361b60f"
    },
    {
      "cell_type": "code",
      "execution_count": null,
      "metadata": {
        "tags": "question"
      },
      "outputs": [],
      "source": [
        "# Activity 1\n",
        "\n",
        "# Regression for males\n",
        "regm <- lm(... ~ ..., data = filter(census_data, ... == ...)) #what should replace the ...\n",
        "#Hint: Don't forget the quotation marks when specifying the subset \n",
        "\n",
        "# Regression for females\n",
        "regf <-  ... # what should replace the ...\n",
        "\n",
        "summary(regm) # Allow us to view regm's coefficient estimates\n",
        "summary(regf) # Same as above, but for regf\n",
        "\n",
        "test_3() # Quiz1\n",
        "test_4() # Quiz2"
      ],
      "id": "3d39f39d-5309-439a-919e-4933216808f9"
    },
    {
      "cell_type": "markdown",
      "metadata": {},
      "source": [
        "## Short Answer 1\n",
        "\n",
        "**Prompt:** How do we interpret the coefficient (Intercept) estimate on\n",
        "`immstat` in each of these regressions?\n",
        "\n",
        "**A** The average wage of a non-immigrant  \n",
        "**B** The average wage of an immigrant  \n",
        "**C** The difference between the average wage of an immigrant and\n",
        "non-immigrant  \n",
        "**D** Nothing we should worry about"
      ],
      "id": "2de4904b-cea5-4ba5-ac53-c136c7b0d722"
    },
    {
      "cell_type": "code",
      "execution_count": null,
      "metadata": {
        "tags": "question"
      },
      "outputs": [],
      "source": [
        "# Enter your answer below as \"A\", \"B\", \"C\", or \"D\"\n",
        "\n",
        "answer20 <- \"...\"\n",
        "test_20(answer20)"
      ],
      "id": "e1784824-1335-4f22-bd99-23cc4518895f"
    },
    {
      "cell_type": "markdown",
      "metadata": {},
      "source": [
        "## Short Answer 2\n",
        "\n",
        "**Prompt:** Compare the gaps. Is the immigrant wage gap larger for males\n",
        "or females? Why do you think that might that be?\n",
        "\n",
        "**A** The immigrant pay gap for females is much greater than that of\n",
        "males  \n",
        "**B** The immigrant pay gap for males is much greater than that of\n",
        "females  \n",
        "**C** The immigrant pay gap is roughly the same"
      ],
      "id": "02b8c424-e976-4bba-aa14-db48ba4ea135"
    },
    {
      "cell_type": "code",
      "execution_count": null,
      "metadata": {
        "tags": "question"
      },
      "outputs": [],
      "source": [
        "# Enter your answer below as \"A\", \"B\", or \"C\"\n",
        "\n",
        "answer21 <- \"\"\n",
        "test_21(answer21)"
      ],
      "id": "3a802ef5-8703-4a0d-89cc-973589d6f43b"
    },
    {
      "cell_type": "markdown",
      "metadata": {},
      "source": [
        "## Activity 2\n",
        "\n",
        "Many studies have suggested that workers’ wages increase as they age. In\n",
        "this activity, we will explore how the immigrant wage gap varies by age.\n",
        "First, let’s see the factor levels of the `agegrp`:"
      ],
      "id": "270572f7-1b4c-418d-915e-32f3d862bf3e"
    },
    {
      "cell_type": "code",
      "execution_count": null,
      "metadata": {},
      "outputs": [],
      "source": [
        "levels(census_data$agegrp) # Run this!"
      ],
      "id": "a02533bb-bd79-492d-b82b-c5a116f76436"
    },
    {
      "cell_type": "markdown",
      "metadata": {},
      "source": [
        "As we can see, there are several age groups in this dataframe, including\n",
        "ones that would not be particularly informative (have you ever seen a\n",
        "3-year-old doing salary work?). Let’s estimate the immigrant wage gap\n",
        "(with no controls) for five of these groups separately: \\* 20 to 24\n",
        "years \\* 30 to 34 years \\* 40 to 44 years \\* 50 to 54 years \\* 60 to 64\n",
        "years\n",
        "\n",
        "<em>Tested objects:</em> `reg5_20` (20 to 24 years), `reg5_50` (50 to 54\n",
        "years)"
      ],
      "id": "cee1c1b2-138e-4598-b5db-a19154455f6e"
    },
    {
      "cell_type": "code",
      "execution_count": null,
      "metadata": {
        "tags": "question"
      },
      "outputs": [],
      "source": [
        "reg5_20 <- lm(wages ~ immstat, data = filter(census_data, agegrp == '20 to 24 years')) \n",
        "\n",
        "reg5_30 <- ... # what should go here? Use the code above as a template\n",
        "\n",
        "reg5_40 <- ...\n",
        "\n",
        "reg5_50 <- ...\n",
        "\n",
        "reg5_60 <- ... \n",
        "\n",
        "# store the summaries (but don't show them!  too many!)\n",
        "sum20 <- summary(reg5_20)\n",
        "sum30 <- summary(reg5_30)\n",
        "sum40 <- summary(reg5_40)\n",
        "sum50 <- summary(reg5_50)\n",
        "sum60 <- summary(reg5_60)\n",
        "\n",
        "test_12() # Quiz3\n",
        "test_16() # Quiz4"
      ],
      "id": "91111dc5-6c87-48ef-a9f6-f7021b69f83c"
    },
    {
      "cell_type": "markdown",
      "metadata": {},
      "source": [
        "The code below will tabulate a brief summary of each regression:"
      ],
      "id": "2ad65edd-d7f8-4e3a-9d1c-1fc48a9f188a"
    },
    {
      "cell_type": "code",
      "execution_count": null,
      "metadata": {},
      "outputs": [],
      "source": [
        "# Just run me!  You don't need to edit this\n",
        "\n",
        "Age_Group <- c(\"20-24\", \"30-34\", \"40-44\", \"50-54\", \"60-64\")\n",
        "Wage_Gap <- c(reg5_20$coefficients[2], reg5_30$coefficients[2], reg5_40$coefficients[2], reg5_50$coefficients[2], reg5_60$coefficients[2])\n",
        "Std._Error <- c(sum20$coefficients[2,2], sum30$coefficients[2,2], sum40$coefficients[2,2], sum50$coefficients[2,2], sum60$coefficients[2,2])\n",
        "t_Value <- c(sum20$coefficients[2,3], sum30$coefficients[2,3], sum40$coefficients[2,3], sum50$coefficients[2,3], sum60$coefficients[2,3])\n",
        "p_Value <- c(sum20$coefficients[2,4], sum30$coefficients[2,4], sum40$coefficients[2,4], sum50$coefficients[2,4], sum60$coefficients[2,4])\n",
        "\n",
        "tibble(Age_Group, Wage_Gap, Std._Error, t_Value, p_Value) # it's like a table but a tibble"
      ],
      "id": "2c31c39f-ef6f-46ce-87de-0e1aa7c6ba8d"
    },
    {
      "cell_type": "markdown",
      "metadata": {},
      "source": [
        "## Short Answer 3\n",
        "\n",
        "**Prompt**: What happens to the immigrant wage gap as we move across age\n",
        "groups? What do you think might explain these changes?\n",
        "\n",
        "**A** Wage gap declines as age group decreases  \n",
        "**B** Wage gap increases as age group increases  \n",
        "**C** Wage gap is the highest at the “40 to 44 years” age group"
      ],
      "id": "cbdf7ca8-aebe-4cd2-842f-0e70a65eaac4"
    },
    {
      "cell_type": "code",
      "execution_count": null,
      "metadata": {
        "tags": "question"
      },
      "outputs": [],
      "source": [
        "# Enter your answer below as \"A\", \"B\", or \"C\"\n",
        "\n",
        "answer22 <- \"\"\n",
        "test_22(answer22)"
      ],
      "id": "e0548afc-ab3d-4566-b52c-a98942018b69"
    },
    {
      "cell_type": "markdown",
      "metadata": {},
      "source": [
        "## Activity 3\n",
        "\n",
        "As we observed in last week’s worksheet, the immigrant wage gap could\n",
        "differ by education level. As there are many education categories, it\n",
        "may be tedious to run a regression for each individual education level.\n",
        "\n",
        "Instead, we could run a single regression and add education level as a\n",
        "second regressor, $E_i$:\n",
        "\n",
        "$$\n",
        "W_i = \\beta_0 + \\beta_1 I_i + \\beta_2 E_i + \\epsilon_i\n",
        "$$\n",
        "\n",
        "This is actually a **multiple regression**, which we will learn about\n",
        "later - but from the point of the this lesson, the idea is that it is\n",
        "“run” in R essentially in the same way as a simple regression. Estimate\n",
        "the regression model above without $E_i$, then re-estimate the model\n",
        "with $E_i$ added.\n",
        "\n",
        "<em>Tested objects:</em> `reg2A` (regression without controls), `reg2B`\n",
        "(regression with controls)."
      ],
      "id": "adbbffaf-4ddd-4f87-ae54-b3073552fa91"
    },
    {
      "cell_type": "code",
      "execution_count": null,
      "metadata": {
        "tags": "question"
      },
      "outputs": [],
      "source": [
        "# Naive regression (just immstat)\n",
        "reg2A <- lm(... ~ ..., data = census_data) #this one works already\n",
        "\n",
        "# Regression with controls\n",
        "reg2B <-  lm(... ~ immstat + ..., data = census_data) # what should replace the ... think about the model\n",
        "\n",
        "# This will look ugly; try to look carefully at the output\n",
        "summary(reg2A)$coefficients\n",
        "summary(reg2B)$coefficients\n",
        "\n",
        "test_7()\n",
        "test_8() # Quiz 5"
      ],
      "id": "fc3a372a-5844-496a-a9d6-94af2b2819a5"
    },
    {
      "cell_type": "markdown",
      "metadata": {},
      "source": [
        "## Short Answer 4\n",
        "\n",
        "**Prompt**: compare the estimated immigrant wage gap with and without\n",
        "$E_i$ in the regression. What happens to the gap when we add $E_i$? How\n",
        "do we interpret this?\n",
        "\n",
        "**A** The estimated immigrant wage gap has increased after adding\n",
        "controls  \n",
        "**B** The estimated immigrant wage gap has decreased after adding\n",
        "controls  \n",
        "**C** The estimated immigrant wage gap has not changed after adding\n",
        "controls"
      ],
      "id": "bd3e6892-0338-4e43-b977-4efe602729c6"
    },
    {
      "cell_type": "code",
      "execution_count": null,
      "metadata": {
        "tags": "question"
      },
      "outputs": [],
      "source": [
        "# Enter your answer below as \"A\", \"B\", or \"C\"\n",
        "\n",
        "answer23 <- \"...\"\n",
        "test_23(answer23)"
      ],
      "id": "90f55b68-cbfa-4a9f-b26e-ba3211e0eddd"
    },
    {
      "cell_type": "markdown",
      "metadata": {},
      "source": [
        "## Activity 4\n",
        "\n",
        "Another topic of interest for labor economists that is related to the\n",
        "immigrant wage gap is racial wage discrimination - the issue of workers\n",
        "of similar productivity being paid different wages on average because of\n",
        "their race. Consequently, we can also use regressions to estimate the\n",
        "racial wage gap.\n",
        "\n",
        "Let’s suppose that we want to estimate this racial wage gap. Run a\n",
        "regression (without controls) that does this.\n",
        "\n",
        "<em>Test objects:</em> `reg_race`."
      ],
      "id": "dad911fd-3324-467d-972f-435fb21675f2"
    },
    {
      "cell_type": "code",
      "execution_count": null,
      "metadata": {
        "tags": "question"
      },
      "outputs": [],
      "source": [
        "# Do not modify this line (sets \"not a visible minority\" as the reference level):\n",
        "census_data$vismin <- relevel(census_data$vismin, ref = \"not a visible minority\")\n",
        "# this is also how you set a different base level for a factor (handy!)\n",
        "\n",
        "# Racial Wage Gap Regression\n",
        "\n",
        "reg_race <- lm(wages ~ ..., data = census_data) # what model should we use here?\n",
        "\n",
        "summary(reg_race)\n",
        "\n",
        "test_10() #Quiz6"
      ],
      "id": "63e329d9-3de3-48a4-8953-c12525410cef"
    },
    {
      "cell_type": "markdown",
      "metadata": {},
      "source": [
        "## Short Answer 5\n",
        "\n",
        "**Prompt**: How should we interpret the regression estimate for\n",
        "`visminblack`?\n",
        "\n",
        "**A** People from the Black community make on average about 14,795\n",
        "dollars less as compared to an average white person.  \n",
        "**B** Black immigrants make 14,795 dollars less than Black\n",
        "non-immigrants on average  \n",
        "**C** On average, a person from the Black community makes 14,795 dollars\n",
        "less than an average white person, holding all other variables constant"
      ],
      "id": "48855800-4b53-4e9b-a83a-1d3befecfc8d"
    },
    {
      "cell_type": "code",
      "execution_count": null,
      "metadata": {
        "tags": "question"
      },
      "outputs": [],
      "source": [
        "# Enter your answer below as \"A\", \"B\", or \"C\"\n",
        "\n",
        "answer24 <- \"...\"\n",
        "test_24(answer24)"
      ],
      "id": "0c645fb9-cfed-41ee-82bc-01625be3c12d"
    },
    {
      "cell_type": "markdown",
      "metadata": {},
      "source": [
        "## Short Answer 6\n",
        "\n",
        "**Prompt**: With this racial wage gap in mind, let’s return to the\n",
        "immigrant wage gap. Should we add explanatory variables for race to our\n",
        "regression from activity 2 and 3? Why or why not?\n",
        "\n",
        "**A** No we should not  \n",
        "**B** Yes, we should because there could be other factors explaining the\n",
        "wage gap  \n",
        "**C** Yes, we should control for education only.  \n",
        "**D** Yes, we should control for immigrant status only."
      ],
      "id": "d9898b59-b543-4d9e-a410-3ae1084287ca"
    },
    {
      "cell_type": "code",
      "execution_count": null,
      "metadata": {
        "tags": "question"
      },
      "outputs": [],
      "source": [
        "# Enter your answer below as \"A\", \"B\", or \"C\"\n",
        "\n",
        "answer25 <- \"...\"\n",
        "test_25(answer25)"
      ],
      "id": "c1b9bbbd-1f6a-49e0-9cfb-effeb1ce6134"
    },
    {
      "cell_type": "code",
      "execution_count": null,
      "metadata": {
        "tags": "aswer"
      },
      "outputs": [],
      "source": [
        "# Enter your answer below as \"A\", \"B\", or \"C\"\n",
        "\n",
        "answer25 <- \"B\"\n",
        "test_25(answer25)"
      ],
      "id": "4cc6378b-4db2-408d-b745-85c7defe102e"
    }
  ],
  "nbformat": 4,
  "nbformat_minor": 5,
  "metadata": {
    "kernelspec": {
      "name": "ir",
      "display_name": "R",
      "language": "r"
    }
  }
}