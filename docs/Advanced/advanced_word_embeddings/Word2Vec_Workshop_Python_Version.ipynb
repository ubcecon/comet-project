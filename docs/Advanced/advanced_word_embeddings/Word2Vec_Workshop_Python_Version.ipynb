{
 "cells": [
  {
   "cell_type": "markdown",
   "metadata": {},
   "source": [
    "# Introduction to Word Embeddings and Language Models\n",
    "_Python Version_\n",
    "<div>\n",
    "<img src=\"media/word_embedding_cover_art.png\" width=\"1000\"/>\n",
    "</div>\n",
    "\n",
    "_This notebook was prepared by Laura Nelson in collaboration with [UBC COMET](https://comet.arts.ubc.ca/) team members: Jonathan Graves, Angela Chen and Anneke Dresselhuis_"
   ]
  },
  {
   "cell_type": "markdown",
   "metadata": {},
   "source": [
    "## Prerequisites\n",
    "\n",
    "1. Some familiarity programming in R\n",
    "2. Some familarity with natural language processing\n",
    "3. No computational text experience necessary!\n",
    "\n",
    "## Learning outcomes\n",
    "\n",
    "In the notebook you will \n",
    "\n",
    "1. Familiarize yourself with concepts such as word embeddings (WE) vector-space model of language, natural language processing (NLP) and how they relate to small and large language models (LMs) \n",
    "1. Import and pre-process a textual dataset for use in word embedding \n",
    "1. Use word2vec to build a simple language model for examining patterns and biases textual datasets\n",
    "1. Identify and select methods for saving and loading models\n",
    "1. Use critical and reflexive thinking to gain a deeper understanding of how the inherent social and cultural biases of language are reproduced and mapped into language computation models\n",
    "\n",
    "## Outline\n",
    "\n",
    "The goal of this notebook is to demystify some of the technical aspects of language models and to invite learners to start thinking about how these important tools function in society.\n",
    "\n",
    "In particular, this lesson is designed to explore features of word embeddings produced through the word2vec model. The questions we ask in this lesson are guided by Ben Schmidt's blog post, [Rejecting the Gender Binary](\"http://bookworm.benschmidt.org/posts/2015-10-30-rejecting-the-gender-binary.html).\n",
    "\n",
    "The primary corpus we will use consists of the <a href=\"http://txtlab.org/?p=601\">150 English-language novels</a> made available by the <em>.txtLab</em> at McGill University. We also look at a <a href=\"http://ryanheuser.org/word-vectors-1/\">word2Vec model trained on the ECCO-TCP corpus</a> of 2,350 eighteenth-century literary texts made available by Ryan Heuser. (Note that the number of terms in the model has been shortened by half in order to conserve memory.)"
   ]
  },
  {
   "cell_type": "markdown",
   "metadata": {},
   "source": [
    "## Key Terms\n",
    "Before we dive in, feel free to familiarize yourself with the following key terms and how they relate to each other.\n",
    "</div>\n",
    "<img src=\"media/ai_key_terms.png\" width=\"500\"/>\n",
    "</div>\n",
    "\n",
    "**Artificial Intelligence (AI):** is a broad category that includes the study and development of computer systems that can copy intelligent human behaviour (adapted from [_Oxford Learners Dictionary_](https://www.oxfordlearnersdictionaries.com/definition/english/ai#:~:text=%2F%CB%8Ce%C9%AA%20%CB%88a%C9%AA%2F-,%2F%CB%8Ce%C9%AA%20%CB%88a%C9%AA%2F,way%20a%20human%20brain%20does.))\n",
    "\n",
    "**Machine Learning (ML):** is branch of AI which is uses statistical methods to imitate the way that humans learn (adapted from [_IBM_](https://www.ibm.com/topics/machine-learning))\n",
    "\n",
    "**Natural Language Processing (NLP):** is branch of AI which focuses on training computers to interpret human text and spoken words (adapted from [_IBM_](https://www.ibm.com/topics/natural-language-processing#:~:text=the%20next%20step-,What%20is%20natural%20language%20processing%3F,same%20way%20human%20beings%20can.))\n",
    "\n",
    "**Word Embeddings (WE):** is one part of NLP where human words are converted into numerical representations (usually vectors) in order for computers to be able to understand them (adapted from [_Turing_](https://www.turing.com/kb/guide-on-word-embeddings-in-nlp))\n",
    "\n",
    "**word2vec:** is an NLP technique that is commonly used to generate word embeddings"
   ]
  },
  {
   "cell_type": "markdown",
   "metadata": {},
   "source": [
    "## What are Word Embeddings?\n",
    "\n",
    "Building off of the definition above, word embeddings are one way that humans can represent language in a way that is legible to a machine. More specifically, word embeddings are an NLP approach that use vectors to store textual data in multiple dimensions; by existing in the multi-dimensional space of vectors, word embeddings are able to include important semantic information within a given numeric representation.\n",
    "\n",
    "For example, if we are trying to answer a research question about how popular a term is on the web at a given time, we might use a simple word frequency analysis to count how many times the word \"candidate\" shows up in tweets during a defined electoral period. However, if we wanted to gain a more nuanced understanding of what kind of language, biases or attitudes contextualize the term, \"candidate\" in discourse, we would need to use a method like word embedding to encode meaning into our understanding of how people have talked about candidates over time. Instead of describing our text as a series of word counts, we would treat our text like coordinates in space, where similar words and concepts are closer to each other, and words that are different from each other are further away.\n",
    "\n",
    "![Comparing word frequency count and word embedding methods](media/word_frequency_vs_word_embeddings.png)\n",
    "\n",
    "## What are Word Embeddings?\n",
    "\n",
    "Building off of the definition above, word embeddings are one way that humans can represent language in a way that is legible to a machine. More specifically, word embeddings are an NLP approach that use vectors to store textual data in multiple dimensions; by existing in the multi-dimensional space of vectors, word embeddings are able to include important semantic information within a given numeric representation.\n",
    "\n",
    "For example, if we are trying to answer a research question about how popular a term is on the web at a given time, we might use a simple word frequency analysis to count how many times the word \"candidate\" shows up in tweets during a defined electoral period. However, if we wanted to gain a more nuanced understanding of what kind of language, biases or attitudes contextualize the term, \"candidate\" in discourse, we would need to use a method like word embedding to encode meaning into our understanding of how people have talked about candidates over time. Instead of describing our text as a series of word counts, we would treat our text like coordinates in space, where similar words and concepts are closer to each other, and words that are different from each other are further away.\n",
    "\n",
    "![Comparing word frequency count and word embedding methods](media/word_frequency_vs_word_embeddings.png)\n"
   ]
  },
  {
   "cell_type": "markdown",
   "metadata": {},
   "source": [
    "For example, in the visualization above, a word frequency count returns the number of times the word \"candidate\" or \"candidates\" is used in a sample text corpus. When a word embedding is made from the same text corpus, we are able to map related concepts and phrases that are closely related to \"candidate\" as neighbours, while other words and phrases such as \"experimental study\" (which refers to the research paper in question, and not to candidates specifically) are further away. \n",
    "\n",
    "Here is another example of how different, but related words might be represented in a word embedding:\n",
    "<img src = \"media/w2v-Analogies.png\">\n",
    "\n",
    "## Making a Word Embedding\n",
    "So, how do word embeddings work? To make a word embedding, an input word gets compressed into a dense vector.\n",
    "\n",
    "![Creating a word embedding vector](media/creating_a_word_embedding.png)\n",
    "\n",
    "The magic and mystery of the word embedding process is that often the vectors produced during the model embed qualities of a word or phrase that are not interpretable by humans. However, for our purposes, having the text in vector format is all we need. With this format, we can perform tests like cosine similarity and other kinds of operations. Such operations can reveal many different kinds of relationships between words, as we'll examine a bit later.\n",
    "\n",
    "## Using word2vec\n",
    "\n",
    "Word2vec is one NLP technique that is commonly used to generate word embeddings. More precisely, word2vec is an algorithmic learning tool rather than a specific neural net that is already trained. The example we will be working through today has been made using this tool.\n",
    "\n",
    "The series of algorithms inside of the word2vec model try to describe and acquire parameters for a given word in terms of the text that appear immediately to the right and left in actual sentences. Essentially, it learns how to predict text.\n",
    "\n",
    "Without going too deep into the algorithm, suffice it to say that it involves a two-step process: \n",
    "\n",
    "1. First, the input word gets compressed into a dense vector, as seen in the simplified diagram, \"Creating a Word Embedding,\" above. \n",
    "2. Second, the vector gets decoded into the set of context words. Keywords that appear within similar contexts will have similar vector representations in between steps. \n",
    "\n",
    "Imagine that each word in a novel has its meaning determined by the ones that surround it in a limited window. For example, in Moby Dick's first sentence, “me” is paired on either side by “Call” and “Ishmael.” After observing the windows around every word in the novel (or many novels), the computer will notice a pattern in which “me” falls between similar pairs of words to “her,” “him,” or “them.” Of course, the computer had gone through a similar process over the words “Call” and “Ishmael,” for which “me” is reciprocally part of their contexts. This chaining of signifiers to one another mirrors some of humanists' most sophisticated interpretative frameworks of language.\n",
    "\n",
    "The two main model architectures of word2vec are **Continuous Bag of Words (CBOW)** and **Skip-Gram**, which can be distinguished partly by their input and output during training. \n",
    "\n",
    "**CBOW** takes the context words (for example, \"Call\",\"Ishmael\") as a single input and tries to predict the word of interest (\"me\").\n",
    "\n",
    "<div>\n",
    "<img src=\"media/CBOW.gif\" width=\"500\"/>\n",
    "</div>\n",
    "\n",
    "**Skip-Gram** does the opposite, taking a word of interest as its input (for example, \"me\") and tries to learn how to predict its context words (\"Call\",\"Ishmael\"). \n",
    "\n",
    "<div>\n",
    "<img src=\"media/SG.gif\" width=\"500\"/>\n",
    "</div>\n",
    "\n",
    "In general, CBOW is is faster and does well with frequent words, while Skip-Gram potentially represents rare words better.\n",
    "\n",
    "Since the word embedding is a vector, we are able perform tests like cosine similarity (which we'll learn more about in a bit!) and other kinds of operations. Those operations can reveal many different kinds of relationships between words, as we shall see."
   ]
  },
  {
   "cell_type": "markdown",
   "metadata": {},
   "source": [
    "## Bias and Language Models\n",
    "\n",
    "You might already be piecing together that the encoding of meaning in word embeddings is entirely shaped by the patterns of language use captured in the training data. That is, what is included in a word embedding directly reflects the complex social and cultural biases of everyday human language - in fact, exploring how these biases function and change over time (as we will do later) is one of the most interesting ways to use word embeddings in social research.\n",
    "\n",
    "#### It is simply impossible to have a bias-free language model (LM). \n",
    "\n",
    "In LMs, bias is not a bug or a glitch, rather, it is an essential feature that is baked into the fundamental structure. For example, LMs are not outside of learning and absorbing the pejorative dimensions of language which in turn, can result in reproducing harmful correlations of meaning for words about race, class or gender (among others). When unchecked, these harms can be “amplified in downstream applications of word embeddings” ([Arseniev-Koehler & Foster, 2020, p. 1](https://osf.io/preprints/socarxiv/b8kud/)).\n",
    "\n",
    "Just like any other computational model, it is important to critically engage with the source and context of the training data. One way that [Schiffers, Kern and Hienert](https://arxiv.org/abs/2302.06174v1) suggest doing this is by using domain specific models (2023). Working with models that understand the nuances of your particular topic or field can better account for \"specialized vocabulary and semantic relationships\" that can help make applications of WE more effective. \n",
    "\n",
    "## Preparing for our Analysis\n",
    "#### Word2vec Features\n",
    "\n",
    "**Here are a few features of the word2vec tool that we can use to customize our analysis:**\n",
    "\n",
    "* `size`: Number of dimensions for word embedding model</li>\n",
    "* `window`: Number of context words to observe in each direction</li>\n",
    "* `min_count`: Minimum frequency for words included in model</li>\n",
    "* `sg` (Skip-Gram): '0' indicates CBOW model; '1' indicates Skip-Gram</li>\n",
    "* `alpha`: Learning rate (initial); prevents model from over-correcting, enables finer tuning</li>\n",
    "* `iterations`: Number of passes through dataset</li>\n",
    "* `batch size`: Number of words to sample from data during each pass</li>\n",
    "\n",
    "Note: the script uses default value for each argument.\n",
    "\n",
    "**Some limitations of the word2vec Model**\n",
    "\n",
    "* Within word2vec, common articles or conjunctions, called **stop words** such as \"the\" and \"and,\" may not provide very rich contextual information for a given word, and may need additional subsampling or to be combined into a word phrase (Anwla, 2019).\n",
    "* word2vec isn't always the best at handling out-of-vocabulary words well (Chandran, 2021).\n",
    "\n",
    "Let's begin our analysis!"
   ]
  },
  {
   "cell_type": "markdown",
   "metadata": {},
   "source": [
    "## Excercise #1: Eggs, Sausages and Bacon\n",
    "<div>\n",
    "<img src=\"media/eggs_bacon_sausages.png\" width=\"750\"/>\n",
    "<div>"
   ]
  },
  {
   "cell_type": "markdown",
   "metadata": {
    "tags": []
   },
   "source": [
    "To begin, we are going to load a few packages that are necessary for our analysis. Please run the code cells below."
   ]
  },
  {
   "cell_type": "code",
   "execution_count": 24,
   "metadata": {
    "tags": []
   },
   "outputs": [
    {
     "name": "stdout",
     "output_type": "stream",
     "text": [
      "%pylab is deprecated, use %matplotlib inline and import the required libraries.\n",
      "Populating the interactive namespace from numpy and matplotlib\n"
     ]
    },
    {
     "name": "stderr",
     "output_type": "stream",
     "text": [
      "/opt/conda/lib/python3.10/site-packages/IPython/core/magics/pylab.py:162: UserWarning: pylab import has clobbered these variables: ['indices']\n",
      "`%matplotlib` prevents importing * from pylab and numpy\n",
      "  warn(\"pylab import has clobbered these variables: %s\"  % clobbered +\n"
     ]
    }
   ],
   "source": [
    "%pylab inline\n",
    "matplotlib.style.use('ggplot')"
   ]
  },
  {
   "cell_type": "markdown",
   "metadata": {},
   "source": [
    "#### Create a Document-Term Matrix (DTM) with a Few Pseudo-Texts\n",
    "To start off, we're going to create a mini dataframe based on the use of the words \"eggs,\" \"sausages\" and \"bacon\" found in three different novels: A, B and C.\n"
   ]
  },
  {
   "cell_type": "code",
   "execution_count": 25,
   "metadata": {
    "tags": []
   },
   "outputs": [
    {
     "data": {
      "text/html": [
       "<div>\n",
       "<style scoped>\n",
       "    .dataframe tbody tr th:only-of-type {\n",
       "        vertical-align: middle;\n",
       "    }\n",
       "\n",
       "    .dataframe tbody tr th {\n",
       "        vertical-align: top;\n",
       "    }\n",
       "\n",
       "    .dataframe thead th {\n",
       "        text-align: right;\n",
       "    }\n",
       "</style>\n",
       "<table border=\"1\" class=\"dataframe\">\n",
       "  <thead>\n",
       "    <tr style=\"text-align: right;\">\n",
       "      <th></th>\n",
       "      <th>eggs</th>\n",
       "      <th>sausage</th>\n",
       "      <th>bacon</th>\n",
       "    </tr>\n",
       "  </thead>\n",
       "  <tbody>\n",
       "    <tr>\n",
       "      <th>Novel A</th>\n",
       "      <td>50</td>\n",
       "      <td>60</td>\n",
       "      <td>60</td>\n",
       "    </tr>\n",
       "    <tr>\n",
       "      <th>Novel B</th>\n",
       "      <td>90</td>\n",
       "      <td>10</td>\n",
       "      <td>10</td>\n",
       "    </tr>\n",
       "    <tr>\n",
       "      <th>Novel C</th>\n",
       "      <td>20</td>\n",
       "      <td>70</td>\n",
       "      <td>70</td>\n",
       "    </tr>\n",
       "  </tbody>\n",
       "</table>\n",
       "</div>"
      ],
      "text/plain": [
       "         eggs  sausage  bacon\n",
       "Novel A    50       60     60\n",
       "Novel B    90       10     10\n",
       "Novel C    20       70     70"
      ]
     },
     "execution_count": 25,
     "metadata": {},
     "output_type": "execute_result"
    }
   ],
   "source": [
    "# dataframes!\n",
    "import pandas\n",
    "\n",
    "# Construct dataframe with three novels each containing three words\n",
    "columns = ['eggs','sausage','bacon']\n",
    "indices = ['Novel A', 'Novel B', 'Novel C']\n",
    "dtm = [[50,60,60],[90,10,10], [20,70,70]]\n",
    "dtm_df = pandas.DataFrame(dtm, columns = columns, index = indices)\n",
    "\n",
    "# Show dataframe\n",
    "dtm_df"
   ]
  },
  {
   "cell_type": "markdown",
   "metadata": {},
   "source": [
    "### Visualize"
   ]
  },
  {
   "cell_type": "code",
   "execution_count": 26,
   "metadata": {
    "tags": []
   },
   "outputs": [
    {
     "data": {
      "text/plain": [
       "(Text(0.5, 0, 'eggs'), Text(0, 0.5, 'sausage'))"
      ]
     },
     "execution_count": 26,
     "metadata": {},
     "output_type": "execute_result"
    },
    {
     "data": {
      "image/png": "[encoded data removed]",
      "text/plain": [
       "<Figure size 640x480 with 1 Axes>"
      ]
     },
     "metadata": {},
     "output_type": "display_data"
    }
   ],
   "source": [
    "# Plot our points\n",
    "scatter(dtm_df['eggs'], dtm_df['sausage'])\n",
    "\n",
    "# Make the graph look good\n",
    "xlim([0,100]), ylim([0,100])\n",
    "xlabel('eggs'), ylabel('sausage')"
   ]
  },
  {
   "cell_type": "markdown",
   "metadata": {},
   "source": [
    "### Vectors\n",
    "\n",
    "At a glance, a couple of points are lying closer to one another. We used the word frequencies of just two of the three words (eggs and sausages) in order to plot our texts in a two-dimensional plane. The term frequency \"summaries\" of <i>Novel A</i> & <i>Novel C</i> are pretty similar to one another: they both share a major concern with \"sausage\", whereas <i>Novel B</i> seems to focus primarily on \"eggs.\"\n",
    "\n",
    "This raises a question: how can we operationalize our intuition that the spatial distance presented here expresses topical similarity?"
   ]
  },
  {
   "cell_type": "markdown",
   "metadata": {},
   "source": [
    "## Cosine Similarity\n",
    "The most common measurement of distance between points is their [Cosine Similarity](https://en.wikipedia.org/wiki/Cosine_similarity). Cosine similarity can operate on textual data that contain word vectors and allows us to identify how similar documents are to each other, for example. Cosine Similarity thus helps us understand how much content overlap a set of documents have with one another. For example, imagine that we were to draw an arrow from the origin of the graph - point (0,0) - to the dot representing each text. This arrow is called a _vector_. \n",
    "\n",
    "Mathematically, this can be represented as: \n",
    "<div>\n",
    "<img src='media/Dot-Product.png' >\n",
    "\n",
    "Using our example above, we can see that the angle from (0,0) between Novel C and Novel A (orange triangle) is smaller than between Novel A and Novel B (navy triangle) or between Novel C and Novel B (both triangles together).\n",
    "<div>\n",
    "<img src=\"media/annotated_scatterplot.png\" width=\"400\"/>\n",
    "<div>\n",
    "\n",
    "Because this similarity measurement uses the cosine of the angle between vectors, the magnitude is not a matter of concern (this feature is really helpful for text vectors that can often be really long!). Instead, the output of cosine similarity yields a value between 0 and 1 (we don't have to work with something confusing like 18º!) that can be easily interpreted and compared - and thus we can also avoid the troubles associated with other dimensional distance measures such as [Euclidean Distance](https://en.wikipedia.org/wiki/Euclidean_distance)."
   ]
  },
  {
   "cell_type": "markdown",
   "metadata": {},
   "source": [
    "### Calculating Cosine Distance"
   ]
  },
  {
   "cell_type": "code",
   "execution_count": 27,
   "metadata": {
    "tags": []
   },
   "outputs": [],
   "source": [
    "# Although we want the Cosine Distance, it is mathematically simpler to calculate its opposite: Cosine Similarity\n",
    "\n",
    "from sklearn.metrics.pairwise import cosine_similarity"
   ]
  },
  {
   "cell_type": "code",
   "execution_count": 28,
   "metadata": {
    "tags": []
   },
   "outputs": [],
   "source": [
    "# So we will subtract the similarities from 1\n",
    "\n",
    "cos_sim = cosine_similarity(dtm_df)"
   ]
  },
  {
   "cell_type": "code",
   "execution_count": 29,
   "metadata": {
    "tags": []
   },
   "outputs": [
    {
     "data": {
      "text/html": [
       "<div>\n",
       "<style scoped>\n",
       "    .dataframe tbody tr th:only-of-type {\n",
       "        vertical-align: middle;\n",
       "    }\n",
       "\n",
       "    .dataframe tbody tr th {\n",
       "        vertical-align: top;\n",
       "    }\n",
       "\n",
       "    .dataframe thead th {\n",
       "        text-align: right;\n",
       "    }\n",
       "</style>\n",
       "<table border=\"1\" class=\"dataframe\">\n",
       "  <thead>\n",
       "    <tr style=\"text-align: right;\">\n",
       "      <th></th>\n",
       "      <th>Novel A</th>\n",
       "      <th>Novel B</th>\n",
       "      <th>Novel C</th>\n",
       "    </tr>\n",
       "  </thead>\n",
       "  <tbody>\n",
       "    <tr>\n",
       "      <th>Novel A</th>\n",
       "      <td>1.00</td>\n",
       "      <td>0.64</td>\n",
       "      <td>0.95</td>\n",
       "    </tr>\n",
       "    <tr>\n",
       "      <th>Novel B</th>\n",
       "      <td>0.64</td>\n",
       "      <td>1.00</td>\n",
       "      <td>0.35</td>\n",
       "    </tr>\n",
       "    <tr>\n",
       "      <th>Novel C</th>\n",
       "      <td>0.95</td>\n",
       "      <td>0.35</td>\n",
       "      <td>1.00</td>\n",
       "    </tr>\n",
       "  </tbody>\n",
       "</table>\n",
       "</div>"
      ],
      "text/plain": [
       "         Novel A  Novel B  Novel C\n",
       "Novel A     1.00     0.64     0.95\n",
       "Novel B     0.64     1.00     0.35\n",
       "Novel C     0.95     0.35     1.00"
      ]
     },
     "execution_count": 29,
     "metadata": {},
     "output_type": "execute_result"
    }
   ],
   "source": [
    "# Make it a little easier to read by rounding the values\n",
    "\n",
    "np.round(cos_sim, 2)\n",
    "\n",
    "# Label the dataframe rows and columns with eggs, sausage and bacon\n",
    "\n",
    "frame_2 = np.round(cos_sim, 2)\n",
    "frame_2 = pandas.DataFrame(frame_2, columns = indices, index = indices)\n",
    "frame_2"
   ]
  },
  {
   "cell_type": "markdown",
   "metadata": {},
   "source": [
    "_From this output table, which novels appear to be more similar to each other?_"
   ]
  },
  {
   "cell_type": "markdown",
   "metadata": {},
   "source": [
    "## Excercise #2: Working with 18th Century Literature\n",
    "\n",
    "<div>\n",
    "<img src=\"media/18th_cent_literature.png\" width=\"750\"/>\n",
    "<div>"
   ]
  },
  {
   "cell_type": "code",
   "execution_count": 30,
   "metadata": {
    "tags": []
   },
   "outputs": [
    {
     "data": {
      "text/html": [
       "<div>\n",
       "<style scoped>\n",
       "    .dataframe tbody tr th:only-of-type {\n",
       "        vertical-align: middle;\n",
       "    }\n",
       "\n",
       "    .dataframe tbody tr th {\n",
       "        vertical-align: top;\n",
       "    }\n",
       "\n",
       "    .dataframe thead th {\n",
       "        text-align: right;\n",
       "    }\n",
       "</style>\n",
       "<table border=\"1\" class=\"dataframe\">\n",
       "  <thead>\n",
       "    <tr style=\"text-align: right;\">\n",
       "      <th></th>\n",
       "      <th>abandoned</th>\n",
       "      <th>abhorrence</th>\n",
       "      <th>abide</th>\n",
       "      <th>abilities</th>\n",
       "      <th>ability</th>\n",
       "      <th>able</th>\n",
       "      <th>aboard</th>\n",
       "      <th>abode</th>\n",
       "      <th>abominable</th>\n",
       "      <th>abominably</th>\n",
       "      <th>...</th>\n",
       "      <th>yielding</th>\n",
       "      <th>yonder</th>\n",
       "      <th>york</th>\n",
       "      <th>young</th>\n",
       "      <th>younger</th>\n",
       "      <th>youngest</th>\n",
       "      <th>youth</th>\n",
       "      <th>youthful</th>\n",
       "      <th>youths</th>\n",
       "      <th>zeal</th>\n",
       "    </tr>\n",
       "  </thead>\n",
       "  <tbody>\n",
       "    <tr>\n",
       "      <th>Hawthorne: Scarlet Letter</th>\n",
       "      <td>1</td>\n",
       "      <td>1</td>\n",
       "      <td>1</td>\n",
       "      <td>1</td>\n",
       "      <td>1</td>\n",
       "      <td>1</td>\n",
       "      <td>1</td>\n",
       "      <td>1</td>\n",
       "      <td>0</td>\n",
       "      <td>0</td>\n",
       "      <td>...</td>\n",
       "      <td>1</td>\n",
       "      <td>1</td>\n",
       "      <td>1</td>\n",
       "      <td>1</td>\n",
       "      <td>1</td>\n",
       "      <td>1</td>\n",
       "      <td>1</td>\n",
       "      <td>1</td>\n",
       "      <td>0</td>\n",
       "      <td>1</td>\n",
       "    </tr>\n",
       "    <tr>\n",
       "      <th>Hawthorne: Seven Gables</th>\n",
       "      <td>1</td>\n",
       "      <td>0</td>\n",
       "      <td>1</td>\n",
       "      <td>1</td>\n",
       "      <td>1</td>\n",
       "      <td>1</td>\n",
       "      <td>1</td>\n",
       "      <td>1</td>\n",
       "      <td>1</td>\n",
       "      <td>0</td>\n",
       "      <td>...</td>\n",
       "      <td>1</td>\n",
       "      <td>1</td>\n",
       "      <td>0</td>\n",
       "      <td>1</td>\n",
       "      <td>1</td>\n",
       "      <td>1</td>\n",
       "      <td>1</td>\n",
       "      <td>1</td>\n",
       "      <td>0</td>\n",
       "      <td>1</td>\n",
       "    </tr>\n",
       "    <tr>\n",
       "      <th>Fitzgerald: This Side of Paradise</th>\n",
       "      <td>1</td>\n",
       "      <td>0</td>\n",
       "      <td>0</td>\n",
       "      <td>1</td>\n",
       "      <td>1</td>\n",
       "      <td>1</td>\n",
       "      <td>0</td>\n",
       "      <td>0</td>\n",
       "      <td>0</td>\n",
       "      <td>0</td>\n",
       "      <td>...</td>\n",
       "      <td>0</td>\n",
       "      <td>0</td>\n",
       "      <td>1</td>\n",
       "      <td>1</td>\n",
       "      <td>1</td>\n",
       "      <td>0</td>\n",
       "      <td>1</td>\n",
       "      <td>1</td>\n",
       "      <td>1</td>\n",
       "      <td>0</td>\n",
       "    </tr>\n",
       "    <tr>\n",
       "      <th>Fitzgerald: Beautiful and the Damned</th>\n",
       "      <td>1</td>\n",
       "      <td>1</td>\n",
       "      <td>0</td>\n",
       "      <td>0</td>\n",
       "      <td>1</td>\n",
       "      <td>1</td>\n",
       "      <td>1</td>\n",
       "      <td>1</td>\n",
       "      <td>1</td>\n",
       "      <td>1</td>\n",
       "      <td>...</td>\n",
       "      <td>1</td>\n",
       "      <td>1</td>\n",
       "      <td>1</td>\n",
       "      <td>1</td>\n",
       "      <td>1</td>\n",
       "      <td>1</td>\n",
       "      <td>1</td>\n",
       "      <td>0</td>\n",
       "      <td>1</td>\n",
       "      <td>0</td>\n",
       "    </tr>\n",
       "    <tr>\n",
       "      <th>Austen: Sense and Sensibility</th>\n",
       "      <td>1</td>\n",
       "      <td>1</td>\n",
       "      <td>0</td>\n",
       "      <td>1</td>\n",
       "      <td>1</td>\n",
       "      <td>1</td>\n",
       "      <td>0</td>\n",
       "      <td>1</td>\n",
       "      <td>0</td>\n",
       "      <td>1</td>\n",
       "      <td>...</td>\n",
       "      <td>0</td>\n",
       "      <td>0</td>\n",
       "      <td>0</td>\n",
       "      <td>1</td>\n",
       "      <td>1</td>\n",
       "      <td>1</td>\n",
       "      <td>1</td>\n",
       "      <td>1</td>\n",
       "      <td>0</td>\n",
       "      <td>1</td>\n",
       "    </tr>\n",
       "    <tr>\n",
       "      <th>Austen: Pride and Prejudice</th>\n",
       "      <td>0</td>\n",
       "      <td>1</td>\n",
       "      <td>1</td>\n",
       "      <td>1</td>\n",
       "      <td>0</td>\n",
       "      <td>1</td>\n",
       "      <td>0</td>\n",
       "      <td>1</td>\n",
       "      <td>1</td>\n",
       "      <td>1</td>\n",
       "      <td>...</td>\n",
       "      <td>1</td>\n",
       "      <td>0</td>\n",
       "      <td>1</td>\n",
       "      <td>1</td>\n",
       "      <td>1</td>\n",
       "      <td>1</td>\n",
       "      <td>1</td>\n",
       "      <td>0</td>\n",
       "      <td>1</td>\n",
       "      <td>0</td>\n",
       "    </tr>\n",
       "  </tbody>\n",
       "</table>\n",
       "<p>6 rows × 6993 columns</p>\n",
       "</div>"
      ],
      "text/plain": [
       "                                      abandoned  abhorrence  abide  abilities  \\\n",
       "Hawthorne: Scarlet Letter                     1           1      1          1   \n",
       "Hawthorne: Seven Gables                       1           0      1          1   \n",
       "Fitzgerald: This Side of Paradise             1           0      0          1   \n",
       "Fitzgerald: Beautiful and the Damned          1           1      0          0   \n",
       "Austen: Sense and Sensibility                 1           1      0          1   \n",
       "Austen: Pride and Prejudice                   0           1      1          1   \n",
       "\n",
       "                                      ability  able  aboard  abode  \\\n",
       "Hawthorne: Scarlet Letter                   1     1       1      1   \n",
       "Hawthorne: Seven Gables                     1     1       1      1   \n",
       "Fitzgerald: This Side of Paradise           1     1       0      0   \n",
       "Fitzgerald: Beautiful and the Damned        1     1       1      1   \n",
       "Austen: Sense and Sensibility               1     1       0      1   \n",
       "Austen: Pride and Prejudice                 0     1       0      1   \n",
       "\n",
       "                                      abominable  abominably  ...  yielding  \\\n",
       "Hawthorne: Scarlet Letter                      0           0  ...         1   \n",
       "Hawthorne: Seven Gables                        1           0  ...         1   \n",
       "Fitzgerald: This Side of Paradise              0           0  ...         0   \n",
       "Fitzgerald: Beautiful and the Damned           1           1  ...         1   \n",
       "Austen: Sense and Sensibility                  0           1  ...         0   \n",
       "Austen: Pride and Prejudice                    1           1  ...         1   \n",
       "\n",
       "                                      yonder  york  young  younger  youngest  \\\n",
       "Hawthorne: Scarlet Letter                  1     1      1        1         1   \n",
       "Hawthorne: Seven Gables                    1     0      1        1         1   \n",
       "Fitzgerald: This Side of Paradise          0     1      1        1         0   \n",
       "Fitzgerald: Beautiful and the Damned       1     1      1        1         1   \n",
       "Austen: Sense and Sensibility              0     0      1        1         1   \n",
       "Austen: Pride and Prejudice                0     1      1        1         1   \n",
       "\n",
       "                                      youth  youthful  youths  zeal  \n",
       "Hawthorne: Scarlet Letter                 1         1       0     1  \n",
       "Hawthorne: Seven Gables                   1         1       0     1  \n",
       "Fitzgerald: This Side of Paradise         1         1       1     0  \n",
       "Fitzgerald: Beautiful and the Damned      1         0       1     0  \n",
       "Austen: Sense and Sensibility             1         1       0     1  \n",
       "Austen: Pride and Prejudice               1         0       1     0  \n",
       "\n",
       "[6 rows x 6993 columns]"
      ]
     },
     "execution_count": 30,
     "metadata": {},
     "output_type": "execute_result"
    }
   ],
   "source": [
    "# Compare the distance between novels\n",
    "\n",
    "filelist = ['txtlab_Novel450_English/EN_1850_Hawthorne,Nathaniel_TheScarletLetter_Novel.txt',\n",
    "            'txtlab_Novel450_English/EN_1851_Hawthorne,Nathaniel_TheHouseoftheSevenGables_Novel.txt',\n",
    "            'txtlab_Novel450_English/EN_1920_Fitzgerald,FScott_ThisSideofParadise_Novel.txt',\n",
    "            'txtlab_Novel450_English/EN_1922_Fitzgerald,FScott_TheBeautifulandtheDamned_Novel.txt',\n",
    "            'txtlab_Novel450_English/EN_1811_Austen,Jane_SenseandSensibility_Novel.txt',\n",
    "            'txtlab_Novel450_English/EN_1813_Austen,Jane_PrideandPrejudice_Novel.txt']\n",
    "\n",
    "novel_names = ['Hawthorne: Scarlet Letter',\n",
    "           'Hawthorne: Seven Gables',\n",
    "           'Fitzgerald: This Side of Paradise',\n",
    "           'Fitzgerald: Beautiful and the Damned',\n",
    "           'Austen: Sense and Sensibility',\n",
    "           'Austen: Pride and Prejudice']\n",
    "\n",
    "text_list = []\n",
    "\n",
    "for file in filelist:\n",
    "    with open(file, 'r', encoding = 'utf-8') as myfile:\n",
    "        text_list.append(myfile.read()) \n",
    "\n",
    "# Import the function CountVectorizer\n",
    "from sklearn.feature_extraction.text import CountVectorizer\n",
    "\n",
    "cv = CountVectorizer(stop_words = 'english', min_df = 3, binary=True)\n",
    "\n",
    "novel_dtm = cv.fit_transform(text_list).toarray()\n",
    "feature_list = cv.get_feature_names_out()\n",
    "dtm_df_novel = pandas.DataFrame(novel_dtm, columns = feature_list, index = novel_names)\n",
    "dtm_df_novel"
   ]
  },
  {
   "cell_type": "code",
   "execution_count": 31,
   "metadata": {
    "tags": []
   },
   "outputs": [],
   "source": [
    "cos_sim_novel = cosine_similarity(dtm_df_novel)\n",
    "cos_sim_novel = np.round(cos_sim_novel, 2)"
   ]
  },
  {
   "cell_type": "code",
   "execution_count": 32,
   "metadata": {
    "tags": []
   },
   "outputs": [
    {
     "data": {
      "text/html": [
       "<div>\n",
       "<style scoped>\n",
       "    .dataframe tbody tr th:only-of-type {\n",
       "        vertical-align: middle;\n",
       "    }\n",
       "\n",
       "    .dataframe tbody tr th {\n",
       "        vertical-align: top;\n",
       "    }\n",
       "\n",
       "    .dataframe thead th {\n",
       "        text-align: right;\n",
       "    }\n",
       "</style>\n",
       "<table border=\"1\" class=\"dataframe\">\n",
       "  <thead>\n",
       "    <tr style=\"text-align: right;\">\n",
       "      <th></th>\n",
       "      <th>Hawthorne: Scarlet Letter</th>\n",
       "      <th>Hawthorne: Seven Gables</th>\n",
       "      <th>Fitzgerald: This Side of Paradise</th>\n",
       "      <th>Fitzgerald: Beautiful and the Damned</th>\n",
       "      <th>Austen: Sense and Sensibility</th>\n",
       "      <th>Austen: Pride and Prejudice</th>\n",
       "    </tr>\n",
       "  </thead>\n",
       "  <tbody>\n",
       "    <tr>\n",
       "      <th>Hawthorne: Scarlet Letter</th>\n",
       "      <td>1.00</td>\n",
       "      <td>0.80</td>\n",
       "      <td>0.69</td>\n",
       "      <td>0.75</td>\n",
       "      <td>0.67</td>\n",
       "      <td>0.67</td>\n",
       "    </tr>\n",
       "    <tr>\n",
       "      <th>Hawthorne: Seven Gables</th>\n",
       "      <td>0.80</td>\n",
       "      <td>1.00</td>\n",
       "      <td>0.74</td>\n",
       "      <td>0.80</td>\n",
       "      <td>0.70</td>\n",
       "      <td>0.70</td>\n",
       "    </tr>\n",
       "    <tr>\n",
       "      <th>Fitzgerald: This Side of Paradise</th>\n",
       "      <td>0.69</td>\n",
       "      <td>0.74</td>\n",
       "      <td>1.00</td>\n",
       "      <td>0.78</td>\n",
       "      <td>0.62</td>\n",
       "      <td>0.61</td>\n",
       "    </tr>\n",
       "    <tr>\n",
       "      <th>Fitzgerald: Beautiful and the Damned</th>\n",
       "      <td>0.75</td>\n",
       "      <td>0.80</td>\n",
       "      <td>0.78</td>\n",
       "      <td>1.00</td>\n",
       "      <td>0.69</td>\n",
       "      <td>0.68</td>\n",
       "    </tr>\n",
       "    <tr>\n",
       "      <th>Austen: Sense and Sensibility</th>\n",
       "      <td>0.67</td>\n",
       "      <td>0.70</td>\n",
       "      <td>0.62</td>\n",
       "      <td>0.69</td>\n",
       "      <td>1.00</td>\n",
       "      <td>0.81</td>\n",
       "    </tr>\n",
       "    <tr>\n",
       "      <th>Austen: Pride and Prejudice</th>\n",
       "      <td>0.67</td>\n",
       "      <td>0.70</td>\n",
       "      <td>0.61</td>\n",
       "      <td>0.68</td>\n",
       "      <td>0.81</td>\n",
       "      <td>1.00</td>\n",
       "    </tr>\n",
       "  </tbody>\n",
       "</table>\n",
       "</div>"
      ],
      "text/plain": [
       "                                      Hawthorne: Scarlet Letter  \\\n",
       "Hawthorne: Scarlet Letter                                  1.00   \n",
       "Hawthorne: Seven Gables                                    0.80   \n",
       "Fitzgerald: This Side of Paradise                          0.69   \n",
       "Fitzgerald: Beautiful and the Damned                       0.75   \n",
       "Austen: Sense and Sensibility                              0.67   \n",
       "Austen: Pride and Prejudice                                0.67   \n",
       "\n",
       "                                      Hawthorne: Seven Gables  \\\n",
       "Hawthorne: Scarlet Letter                                0.80   \n",
       "Hawthorne: Seven Gables                                  1.00   \n",
       "Fitzgerald: This Side of Paradise                        0.74   \n",
       "Fitzgerald: Beautiful and the Damned                     0.80   \n",
       "Austen: Sense and Sensibility                            0.70   \n",
       "Austen: Pride and Prejudice                              0.70   \n",
       "\n",
       "                                      Fitzgerald: This Side of Paradise  \\\n",
       "Hawthorne: Scarlet Letter                                          0.69   \n",
       "Hawthorne: Seven Gables                                            0.74   \n",
       "Fitzgerald: This Side of Paradise                                  1.00   \n",
       "Fitzgerald: Beautiful and the Damned                               0.78   \n",
       "Austen: Sense and Sensibility                                      0.62   \n",
       "Austen: Pride and Prejudice                                        0.61   \n",
       "\n",
       "                                      Fitzgerald: Beautiful and the Damned  \\\n",
       "Hawthorne: Scarlet Letter                                             0.75   \n",
       "Hawthorne: Seven Gables                                               0.80   \n",
       "Fitzgerald: This Side of Paradise                                     0.78   \n",
       "Fitzgerald: Beautiful and the Damned                                  1.00   \n",
       "Austen: Sense and Sensibility                                         0.69   \n",
       "Austen: Pride and Prejudice                                           0.68   \n",
       "\n",
       "                                      Austen: Sense and Sensibility  \\\n",
       "Hawthorne: Scarlet Letter                                      0.67   \n",
       "Hawthorne: Seven Gables                                        0.70   \n",
       "Fitzgerald: This Side of Paradise                              0.62   \n",
       "Fitzgerald: Beautiful and the Damned                           0.69   \n",
       "Austen: Sense and Sensibility                                  1.00   \n",
       "Austen: Pride and Prejudice                                    0.81   \n",
       "\n",
       "                                      Austen: Pride and Prejudice  \n",
       "Hawthorne: Scarlet Letter                                    0.67  \n",
       "Hawthorne: Seven Gables                                      0.70  \n",
       "Fitzgerald: This Side of Paradise                            0.61  \n",
       "Fitzgerald: Beautiful and the Damned                         0.68  \n",
       "Austen: Sense and Sensibility                                0.81  \n",
       "Austen: Pride and Prejudice                                  1.00  "
      ]
     },
     "execution_count": 32,
     "metadata": {},
     "output_type": "execute_result"
    }
   ],
   "source": [
    "cos_df = pandas.DataFrame(cos_sim_novel, columns = novel_names, index = novel_names)\n",
    "cos_df"
   ]
  },
  {
   "cell_type": "code",
   "execution_count": 33,
   "metadata": {
    "tags": []
   },
   "outputs": [
    {
     "data": {
      "image/png": "[encoded data removed]",
      "text/plain": [
       "<Figure size 640x480 with 1 Axes>"
      ]
     },
     "metadata": {},
     "output_type": "display_data"
    }
   ],
   "source": [
    "# Visualizing differences\n",
    "\n",
    "from sklearn.manifold import MDS\n",
    "\n",
    "# Two components as we're plotting points in a two-dimensional plane\n",
    "# \"Precomputed\" because we provide a distance matrix\n",
    "# We will also specify `random_state` so that the plot is reproducible.\n",
    "\n",
    "# Transform cosine similarity to cosine distance\n",
    "cos_dist = 1 - cosine_similarity(dtm_df_novel)\n",
    "\n",
    "mds = MDS(n_components=2, dissimilarity=\"precomputed\", random_state=1, normalized_stress=\"auto\")\n",
    "\n",
    "pos = mds.fit_transform(cos_dist)  # shape (n_components, n_samples)\n",
    "xs, ys = pos[:, 0], pos[:, 1]\n",
    "\n",
    "for x, y, name in zip(xs, ys, novel_names):\n",
    "    plt.scatter(x, y)\n",
    "    plt.text(x, y, name)\n",
    "\n",
    "plt.show()"
   ]
  },
  {
   "cell_type": "markdown",
   "metadata": {},
   "source": [
    "The above method has a broad range of applications, such as unsupervised clustering. Common techniques include <a href = \"https://en.wikipedia.org/wiki/K-means_clustering\">K-Means Clustering</a> and <a href=\"https://en.wikipedia.org/wiki/Hierarchical_clustering\">Hierarchical Dendrograms</a>. These attempt to identify groups of texts with shared content, based on these kinds of distance measures.\n",
    "\n",
    "Here's an example of a dendrogram based on these six novels:"
   ]
  },
  {
   "cell_type": "code",
   "execution_count": 34,
   "metadata": {
    "tags": []
   },
   "outputs": [
    {
     "data": {
      "image/png": "[encoded data removed]",
      "text/plain": [
       "<Figure size 640x480 with 1 Axes>"
      ]
     },
     "metadata": {},
     "output_type": "display_data"
    }
   ],
   "source": [
    "from scipy.cluster.hierarchy import ward, dendrogram\n",
    "linkage_matrix = ward(cos_dist)\n",
    "\n",
    "dendrogram(linkage_matrix, orientation=\"right\", labels=novel_names)\n",
    "\n",
    "plt.tight_layout()  # fixes margins\n",
    "\n",
    "plt.show()"
   ]
  },
  {
   "cell_type": "markdown",
   "metadata": {},
   "source": [
    "#### Vector Semantics\n",
    "\n",
    "We can also turn this logic on its head. Rather than produce vectors representing texts based on their words, we will produce vectors for the words based on their contexts."
   ]
  },
  {
   "cell_type": "code",
   "execution_count": 35,
   "metadata": {
    "tags": []
   },
   "outputs": [
    {
     "data": {
      "text/html": [
       "<div>\n",
       "<style scoped>\n",
       "    .dataframe tbody tr th:only-of-type {\n",
       "        vertical-align: middle;\n",
       "    }\n",
       "\n",
       "    .dataframe tbody tr th {\n",
       "        vertical-align: top;\n",
       "    }\n",
       "\n",
       "    .dataframe thead th {\n",
       "        text-align: right;\n",
       "    }\n",
       "</style>\n",
       "<table border=\"1\" class=\"dataframe\">\n",
       "  <thead>\n",
       "    <tr style=\"text-align: right;\">\n",
       "      <th></th>\n",
       "      <th>Hawthorne: Scarlet Letter</th>\n",
       "      <th>Hawthorne: Seven Gables</th>\n",
       "      <th>Fitzgerald: This Side of Paradise</th>\n",
       "      <th>Fitzgerald: Beautiful and the Damned</th>\n",
       "      <th>Austen: Sense and Sensibility</th>\n",
       "      <th>Austen: Pride and Prejudice</th>\n",
       "    </tr>\n",
       "  </thead>\n",
       "  <tbody>\n",
       "    <tr>\n",
       "      <th>abandoned</th>\n",
       "      <td>1</td>\n",
       "      <td>1</td>\n",
       "      <td>1</td>\n",
       "      <td>1</td>\n",
       "      <td>1</td>\n",
       "      <td>0</td>\n",
       "    </tr>\n",
       "    <tr>\n",
       "      <th>abhorrence</th>\n",
       "      <td>1</td>\n",
       "      <td>0</td>\n",
       "      <td>0</td>\n",
       "      <td>1</td>\n",
       "      <td>1</td>\n",
       "      <td>1</td>\n",
       "    </tr>\n",
       "    <tr>\n",
       "      <th>abide</th>\n",
       "      <td>1</td>\n",
       "      <td>1</td>\n",
       "      <td>0</td>\n",
       "      <td>0</td>\n",
       "      <td>0</td>\n",
       "      <td>1</td>\n",
       "    </tr>\n",
       "    <tr>\n",
       "      <th>abilities</th>\n",
       "      <td>1</td>\n",
       "      <td>1</td>\n",
       "      <td>1</td>\n",
       "      <td>0</td>\n",
       "      <td>1</td>\n",
       "      <td>1</td>\n",
       "    </tr>\n",
       "    <tr>\n",
       "      <th>ability</th>\n",
       "      <td>1</td>\n",
       "      <td>1</td>\n",
       "      <td>1</td>\n",
       "      <td>1</td>\n",
       "      <td>1</td>\n",
       "      <td>0</td>\n",
       "    </tr>\n",
       "  </tbody>\n",
       "</table>\n",
       "</div>"
      ],
      "text/plain": [
       "            Hawthorne: Scarlet Letter  Hawthorne: Seven Gables  \\\n",
       "abandoned                           1                        1   \n",
       "abhorrence                          1                        0   \n",
       "abide                               1                        1   \n",
       "abilities                           1                        1   \n",
       "ability                             1                        1   \n",
       "\n",
       "            Fitzgerald: This Side of Paradise  \\\n",
       "abandoned                                   1   \n",
       "abhorrence                                  0   \n",
       "abide                                       0   \n",
       "abilities                                   1   \n",
       "ability                                     1   \n",
       "\n",
       "            Fitzgerald: Beautiful and the Damned  \\\n",
       "abandoned                                      1   \n",
       "abhorrence                                     1   \n",
       "abide                                          0   \n",
       "abilities                                      0   \n",
       "ability                                        1   \n",
       "\n",
       "            Austen: Sense and Sensibility  Austen: Pride and Prejudice  \n",
       "abandoned                               1                            0  \n",
       "abhorrence                              1                            1  \n",
       "abide                                   0                            1  \n",
       "abilities                               1                            1  \n",
       "ability                                 1                            0  "
      ]
     },
     "execution_count": 35,
     "metadata": {},
     "output_type": "execute_result"
    }
   ],
   "source": [
    "# Turn our DTM sideways\n",
    "\n",
    "dtm_df_novel.T.head()"
   ]
  },
  {
   "cell_type": "code",
   "execution_count": 36,
   "metadata": {
    "tags": []
   },
   "outputs": [],
   "source": [
    "# Find the Cosine Distances between pairs of word-vectors\n",
    "\n",
    "cos_sim_words = cosine_similarity(dtm_df_novel.T)"
   ]
  },
  {
   "cell_type": "code",
   "execution_count": 37,
   "metadata": {
    "tags": []
   },
   "outputs": [
    {
     "data": {
      "text/plain": [
       "array([[1.  , 0.67, 0.52, ..., 0.89, 0.52, 0.77],\n",
       "       [0.67, 1.  , 0.58, ..., 0.5 , 0.58, 0.58],\n",
       "       [0.52, 0.58, 1.  , ..., 0.58, 0.33, 0.67],\n",
       "       ...,\n",
       "       [0.89, 0.5 , 0.58, ..., 1.  , 0.29, 0.87],\n",
       "       [0.52, 0.58, 0.33, ..., 0.29, 1.  , 0.  ],\n",
       "       [0.77, 0.58, 0.67, ..., 0.87, 0.  , 1.  ]])"
      ]
     },
     "execution_count": 37,
     "metadata": {},
     "output_type": "execute_result"
    }
   ],
   "source": [
    "# In readable format\n",
    "\n",
    "np.round(cos_sim_words, 2)"
   ]
  },
  {
   "cell_type": "markdown",
   "metadata": {},
   "source": [
    "Theoretically you could visualize and cluster these as well - but this takes a lot of computational power!\n",
    "\n",
    "We'll thus turn to the machine learning version: word embeddings"
   ]
  },
  {
   "cell_type": "code",
   "execution_count": 38,
   "metadata": {
    "tags": []
   },
   "outputs": [],
   "source": [
    "# Clean-up memory\n",
    "import sys\n",
    "\n",
    "# These are the usual ipython objects, including this one you are creating\n",
    "ipython_vars = ['In', 'Out', 'exit', 'quit', 'get_ipython', 'ipython_vars']\n",
    "\n",
    "# Get a sorted list of the objects and their sizes\n",
    "sorted([(x, sys.getsizeof(globals().get(x))) for x in dir() if not x.startswith('_') and x not in sys.modules and x not in ipython_vars], key=lambda x: x[1], reverse=True)\n",
    "\n",
    " \n",
    "del cos_sim_words \n",
    "del dtm_df_novel \n",
    "del novel_dtm \n",
    "del feature_list"
   ]
  },
  {
   "cell_type": "markdown",
   "metadata": {},
   "source": [
    "<font color = \"blue\" size=5>At this point you should restart your kernel if < 4 gb memory available</font>\n",
    "    \n",
    "* Do this by clicking on the \"Kernel\" menu and hitting \"restart\""
   ]
  },
  {
   "cell_type": "markdown",
   "metadata": {},
   "source": [
    "## Exercise #3: Using word2vec with 150 English Novels\n",
    "\n",
    "In this exercise, we'll use an English-language subset from a dataset about novels created by [Andrew Piper](https://www.mcgill.ca/langlitcultures/andrew-piper). Specifically we'll look at 150 novels by British and American authors spanning the years 1771-1930. These texts reside on disk, each in a separate plaintext file. Metadata is contained in a spreadsheet distributed with the novel files.\n",
    "\n",
    "#### Metadata Columns\n",
    "<ol><li>Filename: Name of file on disk</li>\n",
    "<li>ID: Unique ID in Piper corpus</li>\n",
    "<li>Language: Language of novel</li>\n",
    "<li>Date: Initial publication date</li>\n",
    "<li>Title: Title of novel</li>\n",
    "<li>Gender: Authorial gender</li>\n",
    "<li>Person: Textual perspective</li>\n",
    "<li>Length: Number of tokens in novel</li></ol>"
   ]
  },
  {
   "cell_type": "code",
   "execution_count": 1,
   "metadata": {
    "tags": []
   },
   "outputs": [],
   "source": [
    "# Data Wrangling\n",
    "\n",
    "import os\n",
    "import numpy as np\n",
    "import pandas\n",
    "from scipy.spatial.distance import cosine\n",
    "from sklearn.metrics import pairwise\n",
    "from sklearn.manifold import MDS, TSNE"
   ]
  },
  {
   "cell_type": "code",
   "execution_count": 2,
   "metadata": {
    "tags": []
   },
   "outputs": [
    {
     "name": "stderr",
     "output_type": "stream",
     "text": [
      "[nltk_data] Downloading package punkt to /home/jovyan/nltk_data...\n",
      "[nltk_data]   Package punkt is already up-to-date!\n"
     ]
    }
   ],
   "source": [
    "# Natural Language Processing\n",
    "\n",
    "import nltk\n",
    "nltk.download('punkt')\n",
    "from nltk.tokenize import word_tokenize, sent_tokenize"
   ]
  },
  {
   "cell_type": "code",
   "execution_count": 3,
   "metadata": {
    "tags": []
   },
   "outputs": [],
   "source": [
    "# New libarary (not in Anaconda: gensim)\n",
    "import gensim"
   ]
  },
  {
   "cell_type": "markdown",
   "metadata": {},
   "source": [
    "#### Import Corpus"
   ]
  },
  {
   "cell_type": "code",
   "execution_count": 4,
   "metadata": {
    "tags": []
   },
   "outputs": [],
   "source": [
    "# Custom Tokenizer for Classroom Use\n",
    "\n",
    "def fast_tokenize(text):\n",
    "    \n",
    "    # Get a list of punctuation marks\n",
    "    from string import punctuation\n",
    "    \n",
    "    lower_case = text.lower()\n",
    "    \n",
    "    # Iterate through text removing punctuation characters\n",
    "    no_punct = \"\".join([char for char in lower_case if char not in punctuation])\n",
    "    \n",
    "    # Split text over whitespace into list of words\n",
    "    tokens = no_punct.split()\n",
    "    \n",
    "    return tokens"
   ]
  },
  {
   "cell_type": "markdown",
   "metadata": {},
   "source": [
    "#### Import Metadata"
   ]
  },
  {
   "cell_type": "code",
   "execution_count": 5,
   "metadata": {
    "tags": []
   },
   "outputs": [],
   "source": [
    "# Import Metadata into Pandas Dataframe\n",
    "\n",
    "meta_df = pandas.read_csv('resources/txtlab_Novel450_English.csv', encoding = 'utf-8')"
   ]
  },
  {
   "cell_type": "code",
   "execution_count": 6,
   "metadata": {
    "scrolled": true,
    "tags": []
   },
   "outputs": [
    {
     "data": {
      "text/html": [
       "<div>\n",
       "<style scoped>\n",
       "    .dataframe tbody tr th:only-of-type {\n",
       "        vertical-align: middle;\n",
       "    }\n",
       "\n",
       "    .dataframe tbody tr th {\n",
       "        vertical-align: top;\n",
       "    }\n",
       "\n",
       "    .dataframe thead th {\n",
       "        text-align: right;\n",
       "    }\n",
       "</style>\n",
       "<table border=\"1\" class=\"dataframe\">\n",
       "  <thead>\n",
       "    <tr style=\"text-align: right;\">\n",
       "      <th></th>\n",
       "      <th>filename</th>\n",
       "      <th>id</th>\n",
       "      <th>language</th>\n",
       "      <th>date</th>\n",
       "      <th>author</th>\n",
       "      <th>title</th>\n",
       "      <th>gender</th>\n",
       "      <th>person</th>\n",
       "      <th>length</th>\n",
       "    </tr>\n",
       "  </thead>\n",
       "  <tbody>\n",
       "    <tr>\n",
       "      <th>0</th>\n",
       "      <td>EN_1771_Mackenzie,Henry_TheManofFeeling_Novel.txt</td>\n",
       "      <td>151</td>\n",
       "      <td>English</td>\n",
       "      <td>1771</td>\n",
       "      <td>Mackenzie,Henry</td>\n",
       "      <td>TheManofFeeling</td>\n",
       "      <td>male</td>\n",
       "      <td>first</td>\n",
       "      <td>36458</td>\n",
       "    </tr>\n",
       "    <tr>\n",
       "      <th>1</th>\n",
       "      <td>EN_1771_Smollett,Tobias_TheExpedictionofHenryC...</td>\n",
       "      <td>152</td>\n",
       "      <td>English</td>\n",
       "      <td>1771</td>\n",
       "      <td>Smollett,Tobias</td>\n",
       "      <td>TheExpedictionofHenryClinker</td>\n",
       "      <td>male</td>\n",
       "      <td>first</td>\n",
       "      <td>148261</td>\n",
       "    </tr>\n",
       "    <tr>\n",
       "      <th>2</th>\n",
       "      <td>EN_1778_Burney,Fanny_Evelina_Novel.txt</td>\n",
       "      <td>153</td>\n",
       "      <td>English</td>\n",
       "      <td>1778</td>\n",
       "      <td>Burney,Fanny</td>\n",
       "      <td>Evelina</td>\n",
       "      <td>female</td>\n",
       "      <td>first</td>\n",
       "      <td>154168</td>\n",
       "    </tr>\n",
       "    <tr>\n",
       "      <th>3</th>\n",
       "      <td>EN_1782_Burney,Fanny_Cecilia_Novel.txt</td>\n",
       "      <td>154</td>\n",
       "      <td>English</td>\n",
       "      <td>1782</td>\n",
       "      <td>Burney,Fanny</td>\n",
       "      <td>Cecilia</td>\n",
       "      <td>female</td>\n",
       "      <td>third</td>\n",
       "      <td>328981</td>\n",
       "    </tr>\n",
       "    <tr>\n",
       "      <th>4</th>\n",
       "      <td>EN_1786_Beckford,William_Vathek_Novel.txt</td>\n",
       "      <td>155</td>\n",
       "      <td>English</td>\n",
       "      <td>1786</td>\n",
       "      <td>Beckford,William</td>\n",
       "      <td>Vathek</td>\n",
       "      <td>male</td>\n",
       "      <td>third</td>\n",
       "      <td>36077</td>\n",
       "    </tr>\n",
       "  </tbody>\n",
       "</table>\n",
       "</div>"
      ],
      "text/plain": [
       "                                            filename   id language  date  \\\n",
       "0  EN_1771_Mackenzie,Henry_TheManofFeeling_Novel.txt  151  English  1771   \n",
       "1  EN_1771_Smollett,Tobias_TheExpedictionofHenryC...  152  English  1771   \n",
       "2             EN_1778_Burney,Fanny_Evelina_Novel.txt  153  English  1778   \n",
       "3             EN_1782_Burney,Fanny_Cecilia_Novel.txt  154  English  1782   \n",
       "4          EN_1786_Beckford,William_Vathek_Novel.txt  155  English  1786   \n",
       "\n",
       "             author                         title  gender person  length  \n",
       "0   Mackenzie,Henry               TheManofFeeling    male  first   36458  \n",
       "1   Smollett,Tobias  TheExpedictionofHenryClinker    male  first  148261  \n",
       "2      Burney,Fanny                       Evelina  female  first  154168  \n",
       "3      Burney,Fanny                       Cecilia  female  third  328981  \n",
       "4  Beckford,William                        Vathek    male  third   36077  "
      ]
     },
     "execution_count": 6,
     "metadata": {},
     "output_type": "execute_result"
    }
   ],
   "source": [
    "# Check Metadata\n",
    "\n",
    "meta_df.head()"
   ]
  },
  {
   "cell_type": "code",
   "execution_count": 7,
   "metadata": {
    "tags": []
   },
   "outputs": [],
   "source": [
    "# Set location of corpus folder\n",
    "\n",
    "fiction_folder = 'txtlab_Novel450_English/'"
   ]
  },
  {
   "cell_type": "code",
   "execution_count": 8,
   "metadata": {
    "tags": []
   },
   "outputs": [],
   "source": [
    "import os\n",
    "\n",
    "# Create an empty list to store the text of each novel\n",
    "novel_list = []\n",
    "\n",
    "# Iterate through filenames in 'fiction_folder'\n",
    "for filename in os.listdir(fiction_folder):\n",
    "    file_path = os.path.join(fiction_folder, filename)\n",
    "    \n",
    "    try:\n",
    "        # Attempt to read the novel text as a string using utf-8 encoding\n",
    "        with open(file_path, 'r', encoding='utf-8') as file_in:\n",
    "            this_novel = file_in.read()\n",
    "        \n",
    "        # Add novel text as a single string to the master list\n",
    "        novel_list.append(this_novel)\n",
    "    \n",
    "    except UnicodeDecodeError as e:\n",
    "        # Handle encoding errors by skipping the problematic file\n",
    "        print(f\"UnicodeDecodeError: Unable to read '{filename}' - Skipping this file.\")\n",
    "        continue\n",
    "\n",
    "# Now 'novel_list' contains the text of all readable novels.\n"
   ]
  },
  {
   "cell_type": "code",
   "execution_count": 9,
   "metadata": {
    "tags": []
   },
   "outputs": [
    {
     "data": {
      "text/plain": [
       "\"\\nChapter I\\n\\nAt half-past six o'clock on Sunday night Barnabas came out of his bedroom. The Thayer house was only one story high, and there were no chambers. A number of little bedrooms were clustered around the three square rooms—the north and south parlors, and the great kitchen.\\n\\nBarnabas walked out of his bedroom straight into the kitchen where the other members of the family were. They sat before the hearth fire in a semi-circle—Caleb Thayer, his wife Deborah, his son Ephraim, and his daught\""
      ]
     },
     "execution_count": 9,
     "metadata": {},
     "output_type": "execute_result"
    }
   ],
   "source": [
    "# Inspect first item in novel_list\n",
    "\n",
    "novel_list[0][:500]"
   ]
  },
  {
   "cell_type": "markdown",
   "metadata": {},
   "source": [
    "#### Pre-Processing\n",
    "word2Vec learns about the relationships among words by observing them in context. This means that we want to split our texts into word-units. However, we  want to maintain sentence boundaries as well, since the last word of the previous sentence might skew the meaning of the next sentence.\n",
    "\n",
    "Since novels were imported as single strings, we'll first need to divide them into sentences, and second, we'll split each sentence into its own list of words."
   ]
  },
  {
   "cell_type": "code",
   "execution_count": 10,
   "metadata": {
    "tags": []
   },
   "outputs": [],
   "source": [
    "# Split each novel into sentences\n",
    "\n",
    "sentences = [sentence for novel in novel_list for sentence in sent_tokenize(novel)]\n",
    "\n",
    "del novel_list"
   ]
  },
  {
   "cell_type": "code",
   "execution_count": 11,
   "metadata": {
    "tags": []
   },
   "outputs": [
    {
     "data": {
      "text/plain": [
       "\"\\nChapter I\\n\\nAt half-past six o'clock on Sunday night Barnabas came out of his bedroom.\""
      ]
     },
     "execution_count": 11,
     "metadata": {},
     "output_type": "execute_result"
    }
   ],
   "source": [
    "# Inspect first sentence\n",
    "\n",
    "sentences[0]"
   ]
  },
  {
   "cell_type": "code",
   "execution_count": 12,
   "metadata": {
    "tags": []
   },
   "outputs": [],
   "source": [
    "# Split each sentence into tokens\n",
    "\n",
    "sentences = [fast_tokenize(sentence) for sentence in sentences]"
   ]
  },
  {
   "cell_type": "code",
   "execution_count": 13,
   "metadata": {
    "tags": []
   },
   "outputs": [],
   "source": [
    "# Remove any sentences that contain zero tokens\n",
    "\n",
    "sentences = [sentence for sentence in sentences if sentence != []]"
   ]
  },
  {
   "cell_type": "code",
   "execution_count": 14,
   "metadata": {
    "scrolled": true,
    "tags": []
   },
   "outputs": [
    {
     "data": {
      "text/plain": [
       "['chapter',\n",
       " 'i',\n",
       " 'at',\n",
       " 'halfpast',\n",
       " 'six',\n",
       " 'oclock',\n",
       " 'on',\n",
       " 'sunday',\n",
       " 'night',\n",
       " 'barnabas',\n",
       " 'came',\n",
       " 'out',\n",
       " 'of',\n",
       " 'his',\n",
       " 'bedroom']"
      ]
     },
     "execution_count": 14,
     "metadata": {},
     "output_type": "execute_result"
    }
   ],
   "source": [
    "# Inspect first sentence\n",
    "\n",
    "sentences[0]"
   ]
  },
  {
   "cell_type": "markdown",
   "metadata": {},
   "source": [
    "#### Training"
   ]
  },
  {
   "cell_type": "markdown",
   "metadata": {},
   "source": [
    "To train the model, we would run:\n",
    "\n",
    "```\n",
    "# Train word2vec model from txtLab corpus\n",
    "\n",
    "model = gensim.models.Word2Vec(sentences, vector_size=100, window=5, \\\n",
    "                               min_count=25, sg=1, alpha=0.025, epochs=5, batch_words=10000)\n",
    "```\n",
    "\n",
    "However, this is both slow and memory intensive, so instead we will load pre-trained data."
   ]
  },
  {
   "cell_type": "code",
   "execution_count": 17,
   "metadata": {
    "scrolled": true,
    "tags": []
   },
   "outputs": [],
   "source": [
    "#unload moster dataframe\n",
    "del sentences\n",
    "\n",
    "# Load pre-trained model from harddisk\n",
    "model = gensim.models.KeyedVectors.load_word2vec_format('resources/word2vec.txtlab_Novel150_English.txt')"
   ]
  },
  {
   "cell_type": "markdown",
   "metadata": {},
   "source": [
    "## Embeddings\n"
   ]
  },
  {
   "cell_type": "code",
   "execution_count": 18,
   "metadata": {
    "scrolled": true,
    "tags": []
   },
   "outputs": [
    {
     "data": {
      "text/plain": [
       "array([-0.5510711 , -0.11189298, -0.04959059, -0.05850497,  0.28790763,\n",
       "       -0.80342406, -0.07215538,  0.2721556 , -0.24760762, -0.4051926 ,\n",
       "        0.01354405, -0.7165052 ,  0.17665575,  0.40048674, -0.19900815,\n",
       "        0.20170024,  0.26689592, -0.07850418,  0.41761532, -0.465634  ,\n",
       "       -0.02264982,  0.03582832, -0.3957834 , -0.3504738 , -0.10894601,\n",
       "       -0.02075713, -0.08951025,  0.63399905, -0.22439238, -0.04571422,\n",
       "        0.02540515, -0.09852695, -0.18284857, -0.09806305,  0.06884101,\n",
       "        0.20008531,  0.617396  , -0.15709312, -0.6067674 ,  0.5979467 ,\n",
       "       -0.3323625 , -0.21599118,  0.1550317 , -0.11773711,  0.72263384,\n",
       "       -0.4205337 ,  0.01987723, -0.0929396 ,  0.01469748,  0.26177695,\n",
       "        0.05429281,  0.33651814,  0.41468495,  0.44761443, -0.34722948,\n",
       "        0.4060455 , -0.00145013,  0.11014426, -0.25099453,  0.12387881,\n",
       "       -0.5413976 ,  0.25108388,  0.34349084, -0.00202278,  0.05355506,\n",
       "        0.02677856, -0.05316461,  0.62082773, -0.16097702,  0.2687234 ,\n",
       "       -0.41135943,  0.7923443 , -0.20083408,  0.00829648,  0.29228744,\n",
       "       -0.08214567,  0.6325427 , -0.2888334 , -0.18535183,  0.6230707 ,\n",
       "       -0.23328477,  0.18710871, -0.45419276,  0.26097402, -0.32497615,\n",
       "        0.06670722,  0.08160412,  0.43276155,  0.34504986,  0.44552633,\n",
       "        0.61302644, -0.09112564,  0.1026976 ,  0.08310616,  0.33132783,\n",
       "        0.23587197, -0.03966643,  0.0349041 ,  0.06835472,  0.00227987],\n",
       "      dtype=float32)"
      ]
     },
     "execution_count": 18,
     "metadata": {},
     "output_type": "execute_result"
    }
   ],
   "source": [
    "# Return dense word vector\n",
    "\n",
    "model.get_vector('whale')"
   ]
  },
  {
   "cell_type": "markdown",
   "metadata": {},
   "source": [
    "## Vector-Space Operations"
   ]
  },
  {
   "cell_type": "markdown",
   "metadata": {},
   "source": [
    "### Similarity\n",
    "Since words are represented as dense vectors, we can ask how similiar words' meanings are based on their cosine similarity (essentially how much they overlap). <em>gensim</em> has a few out-of-the-box functions that enable different kinds of comparisons."
   ]
  },
  {
   "cell_type": "code",
   "execution_count": 19,
   "metadata": {
    "tags": []
   },
   "outputs": [
    {
     "data": {
      "text/plain": [
       "0.591623"
      ]
     },
     "execution_count": 19,
     "metadata": {},
     "output_type": "execute_result"
    }
   ],
   "source": [
    "# Find cosine distance between two given word vectors\n",
    "\n",
    "model.similarity('pride','prejudice')"
   ]
  },
  {
   "cell_type": "code",
   "execution_count": 20,
   "metadata": {
    "tags": []
   },
   "outputs": [
    {
     "data": {
      "text/plain": [
       "[('unworthiness', 0.7083385586738586),\n",
       " ('vanity', 0.70763099193573),\n",
       " ('hardihood', 0.7038336396217346),\n",
       " ('heroism', 0.7029452919960022),\n",
       " ('selfishness', 0.6984862089157104),\n",
       " ('egotism', 0.6983219385147095),\n",
       " ('unselfishness', 0.6943386793136597),\n",
       " ('arrogance', 0.6935237646102905),\n",
       " ('selfconceit', 0.690157413482666),\n",
       " ('timidity', 0.69000643491745)]"
      ]
     },
     "execution_count": 20,
     "metadata": {},
     "output_type": "execute_result"
    }
   ],
   "source": [
    "# Find nearest word vectors by cosine distance\n",
    "\n",
    "model.most_similar('pride')"
   ]
  },
  {
   "cell_type": "code",
   "execution_count": 21,
   "metadata": {
    "tags": []
   },
   "outputs": [
    {
     "data": {
      "text/plain": [
       "'whale'"
      ]
     },
     "execution_count": 21,
     "metadata": {},
     "output_type": "execute_result"
    }
   ],
   "source": [
    "# Given a list of words, we can ask which doesn't belong\n",
    "\n",
    "# Finds mean vector of words in list\n",
    "# and identifies the word further from that mean\n",
    "\n",
    "model.doesnt_match(['pride','prejudice', 'whale'])"
   ]
  },
  {
   "cell_type": "markdown",
   "metadata": {},
   "source": [
    "### Multiple Valences\n",
    "A word embedding may encode both primary and secondary meanings that are both present at the same time. In order to identify secondary meanings in a word, we can subtract the vectors of primary (or simply unwanted) meanings. For example, we may wish to remove the sense of <em>river bank</em> from the word <em>bank</em>. This would be written mathetmatically as <em>RIVER - BANK</em>, which in <em>gensim</em>'s interface lists <em>RIVER</em> as a positive meaning and <em>BANK</em> as a negative one."
   ]
  },
  {
   "cell_type": "code",
   "execution_count": 22,
   "metadata": {
    "tags": []
   },
   "outputs": [
    {
     "data": {
      "text/plain": [
       "[('river', 0.7111629843711853),\n",
       " ('creek', 0.6831797361373901),\n",
       " ('shore', 0.6765630841255188),\n",
       " ('cove', 0.6756646633148193),\n",
       " ('ferryboat', 0.6710000038146973),\n",
       " ('thames', 0.6699836850166321),\n",
       " ('margin', 0.669341504573822),\n",
       " ('banks', 0.6658000946044922),\n",
       " ('hanger', 0.6630111336708069),\n",
       " ('wharf', 0.6603569984436035)]"
      ]
     },
     "execution_count": 22,
     "metadata": {},
     "output_type": "execute_result"
    }
   ],
   "source": [
    "# Get most similar words to BANK, in order to get a sense for its primary meaning\n",
    "\n",
    "model.most_similar('bank')"
   ]
  },
  {
   "cell_type": "code",
   "execution_count": 23,
   "metadata": {
    "tags": []
   },
   "outputs": [
    {
     "data": {
      "text/plain": [
       "[('unpaid', 0.37325167655944824),\n",
       " ('fee', 0.3700193762779236),\n",
       " ('cheque', 0.35955584049224854),\n",
       " ('embezzlement', 0.3573637008666992),\n",
       " ('deposit', 0.35101866722106934),\n",
       " ('salary', 0.3505880534648895),\n",
       " ('cash', 0.3501802086830139),\n",
       " ('mortgage', 0.3443868160247803),\n",
       " ('cowperwoods', 0.344247430562973),\n",
       " ('purchase', 0.3422768712043762)]"
      ]
     },
     "execution_count": 23,
     "metadata": {},
     "output_type": "execute_result"
    }
   ],
   "source": [
    "# Remove the sense of \"river bank\" from \"bank\" and see what is left\n",
    "\n",
    "model.most_similar(positive=['bank'], negative=['river'])"
   ]
  },
  {
   "cell_type": "markdown",
   "metadata": {},
   "source": [
    "### Analogy\n",
    "Analogies are rendered as simple mathematical operations in vector space. For example, the canonic word2vec analogy <em>MAN is to KING as WOMAN is to ??</em> is rendered as <em>KING - MAN + WOMAN</em>. In the gensim interface, we designate <em>KING</em> and <em>WOMAN</em> as positive terms and <em>MAN</em> as a negative term, since it is subtracted from those."
   ]
  },
  {
   "cell_type": "code",
   "execution_count": 24,
   "metadata": {
    "tags": []
   },
   "outputs": [
    {
     "data": {
      "text/plain": [
       "[('duke', 0.795354425907135),\n",
       " ('prince', 0.7459726929664612),\n",
       " ('otho', 0.7265864610671997),\n",
       " ('governor', 0.7148163318634033),\n",
       " ('kings', 0.6957926154136658),\n",
       " ('justicer', 0.6933550238609314),\n",
       " ('commanderinchief', 0.6793581247329712),\n",
       " ('minister', 0.6772224307060242),\n",
       " ('emperor', 0.6694881916046143),\n",
       " ('wizard', 0.668773353099823)]"
      ]
     },
     "execution_count": 24,
     "metadata": {},
     "output_type": "execute_result"
    }
   ],
   "source": [
    "# Get most similar words to KING, in order\n",
    "# to get a sense for its primary meaning\n",
    "\n",
    "model.most_similar('king')"
   ]
  },
  {
   "cell_type": "code",
   "execution_count": 25,
   "metadata": {
    "tags": []
   },
   "outputs": [
    {
     "data": {
      "text/plain": [
       "[('queen', 0.7486673593521118),\n",
       " ('princess', 0.7174912095069885),\n",
       " ('nun', 0.6718207597732544),\n",
       " ('duchess', 0.6638779044151306),\n",
       " ('dunstan', 0.6449073553085327),\n",
       " ('helena', 0.6422445774078369),\n",
       " ('duke', 0.6287195682525635),\n",
       " ('ruritania', 0.6268595457077026),\n",
       " ('bride', 0.6220378875732422),\n",
       " ('lomellino', 0.6219776272773743)]"
      ]
     },
     "execution_count": 25,
     "metadata": {},
     "output_type": "execute_result"
    }
   ],
   "source": [
    "# The canonic word2vec analogy: King - Man + Woman -> Queen\n",
    "\n",
    "model.most_similar(positive=['woman', 'king'], negative=['man'])"
   ]
  },
  {
   "cell_type": "markdown",
   "metadata": {},
   "source": [
    "### Gendered Vectors\n",
    "Note that this method uses vector projection, whereas Schmidt had used rejection."
   ]
  },
  {
   "cell_type": "code",
   "execution_count": 26,
   "metadata": {
    "scrolled": true,
    "tags": []
   },
   "outputs": [
    {
     "data": {
      "text/plain": [
       "[('louisa', 0.5036913156509399),\n",
       " ('helens', 0.45718511939048767),\n",
       " ('fragile', 0.4379361867904663),\n",
       " ('maiden', 0.4373876452445984),\n",
       " ('rosabella', 0.4361468553543091),\n",
       " ('jane', 0.43083661794662476),\n",
       " ('anne', 0.4306352138519287),\n",
       " ('charms', 0.43060559034347534),\n",
       " ('elizabeth', 0.429295152425766),\n",
       " ('womanly', 0.42321687936782837)]"
      ]
     },
     "execution_count": 26,
     "metadata": {},
     "output_type": "execute_result"
    }
   ],
   "source": [
    "# Feminine Vector\n",
    "\n",
    "model.most_similar(positive=['she','her','hers','herself'], negative=['he','him','his','himself'])"
   ]
  },
  {
   "cell_type": "code",
   "execution_count": 27,
   "metadata": {
    "tags": []
   },
   "outputs": [
    {
     "data": {
      "text/plain": [
       "[('mahbub', 0.42675507068634033),\n",
       " ('buck', 0.40121230483055115),\n",
       " ('osterman', 0.39523470401763916),\n",
       " ('bicycle', 0.3810529410839081),\n",
       " ('bill', 0.38029444217681885),\n",
       " ('policeman', 0.3739871680736542),\n",
       " ('pipe', 0.36621248722076416),\n",
       " ('sergeant', 0.3662109673023224),\n",
       " ('foreman', 0.35990503430366516),\n",
       " ('bonneville', 0.3561386466026306)]"
      ]
     },
     "execution_count": 27,
     "metadata": {},
     "output_type": "execute_result"
    }
   ],
   "source": [
    "# Masculine Vector\n",
    "\n",
    "model.most_similar(positive=['he','him','his','himself'], negative=['she','her','hers','herself'])"
   ]
  },
  {
   "cell_type": "markdown",
   "metadata": {},
   "source": [
    "## Visualization"
   ]
  },
  {
   "cell_type": "code",
   "execution_count": 28,
   "metadata": {
    "tags": []
   },
   "outputs": [
    {
     "data": {
      "text/plain": [
       "{'': 0,\n",
       " 'the': 1,\n",
       " 'and': 2,\n",
       " 'of': 3,\n",
       " 'to': 4,\n",
       " 'a': 5,\n",
       " 'i': 6,\n",
       " 'in': 7,\n",
       " 'was': 8,\n",
       " 'he': 9,\n",
       " 'that': 10,\n",
       " 'it': 11,\n",
       " 'her': 12,\n",
       " 'his': 13,\n",
       " 'you': 14,\n",
       " 'she': 15,\n",
       " 'had': 16,\n",
       " 'with': 17,\n",
       " 'as': 18,\n",
       " 'for': 19,\n",
       " 'not': 20,\n",
       " 'but': 21,\n",
       " 'at': 22,\n",
       " 'be': 23,\n",
       " 'is': 24,\n",
       " 'on': 25,\n",
       " 'him': 26,\n",
       " 'my': 27,\n",
       " 'have': 28,\n",
       " 'me': 29,\n",
       " 'said': 30,\n",
       " 'all': 31,\n",
       " 'which': 32,\n",
       " 'by': 33,\n",
       " 'so': 34,\n",
       " 'this': 35,\n",
       " 'from': 36,\n",
       " 'they': 37,\n",
       " 'were': 38,\n",
       " 'would': 39,\n",
       " 'no': 40,\n",
       " 'one': 41,\n",
       " 'if': 42,\n",
       " 'there': 43,\n",
       " 'what': 44,\n",
       " 'been': 45,\n",
       " 'an': 46,\n",
       " 'when': 47,\n",
       " 'or': 48,\n",
       " 'could': 49,\n",
       " 'who': 50,\n",
       " 'them': 51,\n",
       " 'do': 52,\n",
       " 'we': 53,\n",
       " 'their': 54,\n",
       " 'out': 55,\n",
       " 'up': 56,\n",
       " 'will': 57,\n",
       " 'are': 58,\n",
       " 'very': 59,\n",
       " 'now': 60,\n",
       " 'your': 61,\n",
       " 'more': 62,\n",
       " 'then': 63,\n",
       " 'mr': 64,\n",
       " 'little': 65,\n",
       " 'into': 66,\n",
       " 'about': 67,\n",
       " 'some': 68,\n",
       " 'like': 69,\n",
       " 'than': 70,\n",
       " 'did': 71,\n",
       " 'man': 72,\n",
       " 'time': 73,\n",
       " 'any': 74,\n",
       " 'know': 75,\n",
       " 'only': 76,\n",
       " 'see': 77,\n",
       " 'its': 78,\n",
       " 'never': 79,\n",
       " 'well': 80,\n",
       " 'should': 81,\n",
       " 'upon': 82,\n",
       " 'how': 83,\n",
       " 'has': 84,\n",
       " 'much': 85,\n",
       " 'such': 86,\n",
       " 'before': 87,\n",
       " 'mrs': 88,\n",
       " 'must': 89,\n",
       " 'over': 90,\n",
       " 'after': 91,\n",
       " 'own': 92,\n",
       " 'down': 93,\n",
       " 'come': 94,\n",
       " 'good': 95,\n",
       " 'think': 96,\n",
       " 'made': 97,\n",
       " 'can': 98,\n",
       " 'other': 99,\n",
       " 'go': 100,\n",
       " 'old': 101,\n",
       " 'say': 102,\n",
       " 'might': 103,\n",
       " 'am': 104,\n",
       " 'too': 105,\n",
       " 'again': 106,\n",
       " 'thought': 107,\n",
       " 'himself': 108,\n",
       " 'great': 109,\n",
       " 'way': 110,\n",
       " 'two': 111,\n",
       " 'dont': 112,\n",
       " 'came': 113,\n",
       " 'our': 114,\n",
       " 'long': 115,\n",
       " 'first': 116,\n",
       " 'here': 117,\n",
       " 'may': 118,\n",
       " 'day': 119,\n",
       " 'back': 120,\n",
       " 'us': 121,\n",
       " 'even': 122,\n",
       " 'eyes': 123,\n",
       " 'where': 124,\n",
       " 'life': 125,\n",
       " 'went': 126,\n",
       " 'miss': 127,\n",
       " 'make': 128,\n",
       " 'these': 129,\n",
       " 'just': 130,\n",
       " 'every': 131,\n",
       " 'away': 132,\n",
       " 'last': 133,\n",
       " 'shall': 134,\n",
       " 'hand': 135,\n",
       " 'young': 136,\n",
       " 'still': 137,\n",
       " 'yet': 138,\n",
       " 'most': 139,\n",
       " 'without': 140,\n",
       " 'though': 141,\n",
       " 'being': 142,\n",
       " 'nothing': 143,\n",
       " 'ever': 144,\n",
       " 'lady': 145,\n",
       " 'face': 146,\n",
       " 'looked': 147,\n",
       " 'seemed': 148,\n",
       " 'look': 149,\n",
       " 'through': 150,\n",
       " 'house': 151,\n",
       " 'tell': 152,\n",
       " 'those': 153,\n",
       " 'while': 154,\n",
       " 'herself': 155,\n",
       " 'always': 156,\n",
       " 'take': 157,\n",
       " 'once': 158,\n",
       " 'men': 159,\n",
       " 'father': 160,\n",
       " 'why': 161,\n",
       " 'mind': 162,\n",
       " 'let': 163,\n",
       " 'love': 164,\n",
       " 'off': 165,\n",
       " 'head': 166,\n",
       " 'saw': 167,\n",
       " 'get': 168,\n",
       " 'mother': 169,\n",
       " 'moment': 170,\n",
       " 'oh': 171,\n",
       " 'sir': 172,\n",
       " 'knew': 173,\n",
       " 'many': 174,\n",
       " 'room': 175,\n",
       " 'heart': 176,\n",
       " 'quite': 177,\n",
       " 'place': 178,\n",
       " 'poor': 179,\n",
       " 'something': 180,\n",
       " 'left': 181,\n",
       " 'right': 182,\n",
       " 'things': 183,\n",
       " 'felt': 184,\n",
       " 'going': 185,\n",
       " 'thing': 186,\n",
       " 'took': 187,\n",
       " 'people': 188,\n",
       " 'found': 189,\n",
       " 'heard': 190,\n",
       " 'dear': 191,\n",
       " 'put': 192,\n",
       " 'night': 193,\n",
       " 'better': 194,\n",
       " 'under': 195,\n",
       " 'another': 196,\n",
       " 'got': 197,\n",
       " 'yes': 198,\n",
       " 'give': 199,\n",
       " 'same': 200,\n",
       " 'home': 201,\n",
       " 'asked': 202,\n",
       " 'enough': 203,\n",
       " 'door': 204,\n",
       " 'told': 205,\n",
       " 'new': 206,\n",
       " 'done': 207,\n",
       " 'woman': 208,\n",
       " 'world': 209,\n",
       " 'because': 210,\n",
       " 'against': 211,\n",
       " 'voice': 212,\n",
       " 'myself': 213,\n",
       " 'rather': 214,\n",
       " 'want': 215,\n",
       " 'few': 216,\n",
       " 'between': 217,\n",
       " 'hands': 218,\n",
       " 'almost': 219,\n",
       " 'seen': 220,\n",
       " 'perhaps': 221,\n",
       " 'till': 222,\n",
       " 'however': 223,\n",
       " 'having': 224,\n",
       " 'morning': 225,\n",
       " 'turned': 226,\n",
       " 'far': 227,\n",
       " 'whom': 228,\n",
       " 'soon': 229,\n",
       " 'indeed': 230,\n",
       " 'course': 231,\n",
       " 'three': 232,\n",
       " 'round': 233,\n",
       " 'stood': 234,\n",
       " 'words': 235,\n",
       " 'ill': 236,\n",
       " 'side': 237,\n",
       " 'sure': 238,\n",
       " 'years': 239,\n",
       " 'im': 240,\n",
       " 'anything': 241,\n",
       " 'friend': 242,\n",
       " 'looking': 243,\n",
       " 'both': 244,\n",
       " 'began': 245,\n",
       " 'each': 246,\n",
       " 'whole': 247,\n",
       " 'hope': 248,\n",
       " 'part': 249,\n",
       " 'work': 250,\n",
       " 'kind': 251,\n",
       " 'find': 252,\n",
       " 'gave': 253,\n",
       " 'word': 254,\n",
       " 'days': 255,\n",
       " 'believe': 256,\n",
       " 'half': 257,\n",
       " 'sat': 258,\n",
       " 'since': 259,\n",
       " 'hear': 260,\n",
       " 'gone': 261,\n",
       " 'wife': 262,\n",
       " 'speak': 263,\n",
       " 'light': 264,\n",
       " 'name': 265,\n",
       " 'white': 266,\n",
       " 'nor': 267,\n",
       " 'answered': 268,\n",
       " 'cried': 269,\n",
       " 'lord': 270,\n",
       " 'really': 271,\n",
       " 'best': 272,\n",
       " 'next': 273,\n",
       " 'among': 274,\n",
       " 'end': 275,\n",
       " 'called': 276,\n",
       " 'wish': 277,\n",
       " 'girl': 278,\n",
       " 'o': 279,\n",
       " 'feel': 280,\n",
       " 'set': 281,\n",
       " 'together': 282,\n",
       " 'brought': 283,\n",
       " 'child': 284,\n",
       " 'full': 285,\n",
       " 'alone': 286,\n",
       " 'keep': 287,\n",
       " 'passed': 288,\n",
       " 'leave': 289,\n",
       " 'whose': 290,\n",
       " 'replied': 291,\n",
       " 'least': 292,\n",
       " 'money': 293,\n",
       " 'matter': 294,\n",
       " 'god': 295,\n",
       " 'air': 296,\n",
       " 'does': 297,\n",
       " 'often': 298,\n",
       " 'family': 299,\n",
       " 'cant': 300,\n",
       " 'talk': 301,\n",
       " 'evening': 302,\n",
       " 'help': 303,\n",
       " 'cannot': 304,\n",
       " 'manner': 305,\n",
       " 'less': 306,\n",
       " 'mean': 307,\n",
       " 'present': 308,\n",
       " 'hour': 309,\n",
       " 'letter': 310,\n",
       " 'towards': 311,\n",
       " 'friends': 312,\n",
       " 'taken': 313,\n",
       " 'rose': 314,\n",
       " 'feeling': 315,\n",
       " 'small': 316,\n",
       " 'boy': 317,\n",
       " 'business': 318,\n",
       " 'open': 319,\n",
       " 'coming': 320,\n",
       " 'care': 321,\n",
       " 'behind': 322,\n",
       " 'spoke': 323,\n",
       " 'read': 324,\n",
       " 'also': 325,\n",
       " 'john': 326,\n",
       " 'thou': 327,\n",
       " 'ask': 328,\n",
       " 'thats': 329,\n",
       " 'husband': 330,\n",
       " 'lay': 331,\n",
       " 'whether': 332,\n",
       " 'happy': 333,\n",
       " 'true': 334,\n",
       " 'children': 335,\n",
       " 'answer': 336,\n",
       " 'dark': 337,\n",
       " 'black': 338,\n",
       " 'call': 339,\n",
       " 'others': 340,\n",
       " 'rest': 341,\n",
       " 'along': 342,\n",
       " 'suppose': 343,\n",
       " 'given': 344,\n",
       " 'death': 345,\n",
       " 'suddenly': 346,\n",
       " 'near': 347,\n",
       " 'says': 348,\n",
       " 'women': 349,\n",
       " 'already': 350,\n",
       " 'hard': 351,\n",
       " 'sort': 352,\n",
       " 'returned': 353,\n",
       " 'certain': 354,\n",
       " 'within': 355,\n",
       " 'margaret': 356,\n",
       " 'chapter': 357,\n",
       " 'table': 358,\n",
       " 'used': 359,\n",
       " 'themselves': 360,\n",
       " 'everything': 361,\n",
       " 'else': 362,\n",
       " 'kept': 363,\n",
       " 'person': 364,\n",
       " 'high': 365,\n",
       " 'times': 366,\n",
       " 'sense': 367,\n",
       " 'ive': 368,\n",
       " 'fire': 369,\n",
       " 'either': 370,\n",
       " 'country': 371,\n",
       " 'large': 372,\n",
       " 'until': 373,\n",
       " 'making': 374,\n",
       " 'known': 375,\n",
       " 'certainly': 376,\n",
       " 'wanted': 377,\n",
       " 'held': 378,\n",
       " 'master': 379,\n",
       " 'power': 380,\n",
       " 'yourself': 381,\n",
       " 'strange': 382,\n",
       " 'lost': 383,\n",
       " 'wont': 384,\n",
       " 'sister': 385,\n",
       " 'remember': 386,\n",
       " 'street': 387,\n",
       " 'pretty': 388,\n",
       " 'nature': 389,\n",
       " 'feet': 390,\n",
       " 'continued': 391,\n",
       " 'idea': 392,\n",
       " 'itself': 393,\n",
       " 'strong': 394,\n",
       " 'question': 395,\n",
       " 'bed': 396,\n",
       " 'doubt': 397,\n",
       " 'live': 398,\n",
       " 'truth': 399,\n",
       " 'ought': 400,\n",
       " 'fear': 401,\n",
       " 'didnt': 402,\n",
       " 'case': 403,\n",
       " 'dead': 404,\n",
       " 'reason': 405,\n",
       " 'understand': 406,\n",
       " 'fell': 407,\n",
       " 'window': 408,\n",
       " 'arms': 409,\n",
       " 'possible': 410,\n",
       " 'short': 411,\n",
       " 'fact': 412,\n",
       " 'sometimes': 413,\n",
       " 'thus': 414,\n",
       " 'during': 415,\n",
       " 'saying': 416,\n",
       " 'son': 417,\n",
       " 'brother': 418,\n",
       " 'hair': 419,\n",
       " 'above': 420,\n",
       " 'eye': 421,\n",
       " 'return': 422,\n",
       " 'met': 423,\n",
       " 'soul': 424,\n",
       " 'walked': 425,\n",
       " 'silence': 426,\n",
       " 'daughter': 427,\n",
       " 'beautiful': 428,\n",
       " 'turn': 429,\n",
       " 'close': 430,\n",
       " 'fine': 431,\n",
       " 'aunt': 432,\n",
       " 'point': 433,\n",
       " 'gentleman': 434,\n",
       " 'added': 435,\n",
       " 'glad': 436,\n",
       " 'appeared': 437,\n",
       " 'water': 438,\n",
       " 'sight': 439,\n",
       " 'year': 440,\n",
       " 'tone': 441,\n",
       " 'exclaimed': 442,\n",
       " 'afraid': 443,\n",
       " 'subject': 444,\n",
       " 'arm': 445,\n",
       " 'bad': 446,\n",
       " 'low': 447,\n",
       " 'across': 448,\n",
       " 'hours': 449,\n",
       " 'means': 450,\n",
       " 'use': 451,\n",
       " 'became': 452,\n",
       " 'tom': 453,\n",
       " 'around': 454,\n",
       " 'state': 455,\n",
       " 'doing': 456,\n",
       " 'sent': 457,\n",
       " 'late': 458,\n",
       " 'ready': 459,\n",
       " 'tried': 460,\n",
       " 'taking': 461,\n",
       " 'thinking': 462,\n",
       " 'pleasure': 463,\n",
       " 'longer': 464,\n",
       " 'theres': 465,\n",
       " 'london': 466,\n",
       " 'red': 467,\n",
       " 'cold': 468,\n",
       " 'neither': 469,\n",
       " 'past': 470,\n",
       " 'change': 471,\n",
       " 'smile': 472,\n",
       " 'order': 473,\n",
       " 'followed': 474,\n",
       " 'town': 475,\n",
       " 'interest': 476,\n",
       " 'lips': 477,\n",
       " 'hes': 478,\n",
       " 'thee': 479,\n",
       " 'ye': 480,\n",
       " 'quiet': 481,\n",
       " 'ah': 482,\n",
       " 'hardly': 483,\n",
       " 'body': 484,\n",
       " 'become': 485,\n",
       " 'deep': 486,\n",
       " 'five': 487,\n",
       " 'need': 488,\n",
       " 'opened': 489,\n",
       " 'entered': 490,\n",
       " 'forward': 491,\n",
       " 'fellow': 492,\n",
       " 'spirit': 493,\n",
       " 'bring': 494,\n",
       " 'able': 495,\n",
       " 'deal': 496,\n",
       " 'four': 497,\n",
       " 'show': 498,\n",
       " 'sound': 499,\n",
       " 'hold': 500,\n",
       " 'walk': 501,\n",
       " 'thy': 502,\n",
       " 'loved': 503,\n",
       " 'therefore': 504,\n",
       " 'mine': 505,\n",
       " 'conversation': 506,\n",
       " 'minutes': 507,\n",
       " 'none': 508,\n",
       " 'ten': 509,\n",
       " 'party': 510,\n",
       " 'dinner': 511,\n",
       " 'tears': 512,\n",
       " 'road': 513,\n",
       " 'thoughts': 514,\n",
       " 'character': 515,\n",
       " 'hundred': 516,\n",
       " 'meet': 517,\n",
       " 'try': 518,\n",
       " 'silent': 519,\n",
       " 'girls': 520,\n",
       " 'trouble': 521,\n",
       " 'youre': 522,\n",
       " 'fathers': 523,\n",
       " 'received': 524,\n",
       " 'human': 525,\n",
       " 'fair': 526,\n",
       " 'ground': 527,\n",
       " 'beauty': 528,\n",
       " 'married': 529,\n",
       " 'general': 530,\n",
       " 'usual': 531,\n",
       " 'bear': 532,\n",
       " 'church': 533,\n",
       " 'different': 534,\n",
       " 'wonder': 535,\n",
       " 'second': 536,\n",
       " 'early': 537,\n",
       " 'laura': 538,\n",
       " 'feelings': 539,\n",
       " 'stand': 540,\n",
       " 'seeing': 541,\n",
       " 'book': 542,\n",
       " 'chair': 543,\n",
       " 'beyond': 544,\n",
       " 'real': 545,\n",
       " 'except': 546,\n",
       " 'talking': 547,\n",
       " 'length': 548,\n",
       " 'wrong': 549,\n",
       " 'seem': 550,\n",
       " 'week': 551,\n",
       " 'stay': 552,\n",
       " 'mary': 553,\n",
       " 'standing': 554,\n",
       " 'company': 555,\n",
       " 'seems': 556,\n",
       " 'thousand': 557,\n",
       " 'laid': 558,\n",
       " 'english': 559,\n",
       " 'chance': 560,\n",
       " 'de': 561,\n",
       " 'drew': 562,\n",
       " 'presence': 563,\n",
       " 'sitting': 564,\n",
       " 'nearly': 565,\n",
       " 'sleep': 566,\n",
       " 'several': 567,\n",
       " 'scarcely': 568,\n",
       " 'attention': 569,\n",
       " 'ran': 570,\n",
       " 'write': 571,\n",
       " 'horse': 572,\n",
       " 'ago': 573,\n",
       " 'whatever': 574,\n",
       " 'natural': 575,\n",
       " 'struck': 576,\n",
       " 'george': 577,\n",
       " 'doctor': 578,\n",
       " 'led': 579,\n",
       " 'clear': 580,\n",
       " 'ladies': 581,\n",
       " 'slowly': 582,\n",
       " 'account': 583,\n",
       " 'stopped': 584,\n",
       " 'living': 585,\n",
       " 'wild': 586,\n",
       " 'happened': 587,\n",
       " 'sit': 588,\n",
       " 'wished': 589,\n",
       " 'cause': 590,\n",
       " 'run': 591,\n",
       " 'wait': 592,\n",
       " 'earth': 593,\n",
       " 'dr': 594,\n",
       " 'story': 595,\n",
       " 'getting': 596,\n",
       " 'lived': 597,\n",
       " 'speaking': 598,\n",
       " 'edward': 599,\n",
       " 'knows': 600,\n",
       " 'please': 601,\n",
       " 'blue': 602,\n",
       " 'laughed': 603,\n",
       " 'afternoon': 604,\n",
       " 'uncle': 605,\n",
       " 'immediately': 606,\n",
       " 'reached': 607,\n",
       " 'comes': 608,\n",
       " 'duty': 609,\n",
       " 'mouth': 610,\n",
       " 'city': 611,\n",
       " 'free': 612,\n",
       " 'sudden': 613,\n",
       " 'heavy': 614,\n",
       " 'sun': 615,\n",
       " 'robert': 616,\n",
       " 'expression': 617,\n",
       " 'secret': 618,\n",
       " 'pay': 619,\n",
       " 'common': 620,\n",
       " 'sea': 621,\n",
       " 'impossible': 622,\n",
       " 'society': 623,\n",
       " 'turning': 624,\n",
       " 'purpose': 625,\n",
       " 'play': 626,\n",
       " 'save': 627,\n",
       " 'effect': 628,\n",
       " 'bright': 629,\n",
       " 'beside': 630,\n",
       " 'moved': 631,\n",
       " 'grey': 632,\n",
       " 'blood': 633,\n",
       " 'forth': 634,\n",
       " 'figure': 635,\n",
       " 'form': 636,\n",
       " 'hall': 637,\n",
       " 'sweet': 638,\n",
       " 'meant': 639,\n",
       " 'months': 640,\n",
       " 'heaven': 641,\n",
       " 'age': 642,\n",
       " 'sorry': 643,\n",
       " 'marry': 644,\n",
       " 'front': 645,\n",
       " 'appearance': 646,\n",
       " 'mothers': 647,\n",
       " 'wouldnt': 648,\n",
       " 'opinion': 649,\n",
       " 'position': 650,\n",
       " 'trust': 651,\n",
       " 'pale': 652,\n",
       " 'youth': 653,\n",
       " 'caught': 654,\n",
       " 'expected': 655,\n",
       " 'visit': 656,\n",
       " 'ones': 657,\n",
       " 'honour': 658,\n",
       " 'elizabeth': 659,\n",
       " 'happiness': 660,\n",
       " 'corner': 661,\n",
       " 'remained': 662,\n",
       " 'madame': 663,\n",
       " 'dress': 664,\n",
       " 'marriage': 665,\n",
       " 'instead': 666,\n",
       " 'big': 667,\n",
       " 'further': 668,\n",
       " 'thank': 669,\n",
       " 'captain': 670,\n",
       " 'waiting': 671,\n",
       " 'youll': 672,\n",
       " 'desire': 673,\n",
       " 'sake': 674,\n",
       " 'tomorrow': 675,\n",
       " 'carried': 676,\n",
       " 'grew': 677,\n",
       " 'broken': 678,\n",
       " 'view': 679,\n",
       " 'pass': 680,\n",
       " 'observed': 681,\n",
       " 'likely': 682,\n",
       " 'minute': 683,\n",
       " 'strength': 684,\n",
       " 'send': 685,\n",
       " 'cousin': 686,\n",
       " 'six': 687,\n",
       " 'pain': 688,\n",
       " 'cut': 689,\n",
       " 'england': 690,\n",
       " 'necessary': 691,\n",
       " 'st': 692,\n",
       " 'liked': 693,\n",
       " 'boys': 694,\n",
       " 'trying': 695,\n",
       " 'easy': 696,\n",
       " 'horses': 697,\n",
       " 'today': 698,\n",
       " 'mans': 699,\n",
       " 'besides': 700,\n",
       " 'although': 701,\n",
       " 'green': 702,\n",
       " 'scene': 703,\n",
       " 'bit': 704,\n",
       " 'act': 705,\n",
       " 'pleasant': 706,\n",
       " 'instant': 707,\n",
       " 'comfort': 708,\n",
       " 'circumstances': 709,\n",
       " 'books': 710,\n",
       " 'wind': 711,\n",
       " 'object': 712,\n",
       " 'rich': 713,\n",
       " 'forget': 714,\n",
       " 'leaving': 715,\n",
       " 'fancy': 716,\n",
       " 'step': 717,\n",
       " 'spoken': 718,\n",
       " 'king': 719,\n",
       " 'isnt': 720,\n",
       " 'line': 721,\n",
       " 'garden': 722,\n",
       " 'future': 723,\n",
       " 'perfectly': 724,\n",
       " 'probably': 725,\n",
       " 'started': 726,\n",
       " 'distance': 727,\n",
       " 'foot': 728,\n",
       " 'paper': 729,\n",
       " 'giving': 730,\n",
       " 'helen': 731,\n",
       " 'philip': 732,\n",
       " 'carriage': 733,\n",
       " 'charles': 734,\n",
       " 'laugh': 735,\n",
       " 'die': 736,\n",
       " 'talked': 737,\n",
       " 'shook': 738,\n",
       " 'couldnt': 739,\n",
       " 'river': 740,\n",
       " 'joy': 741,\n",
       " 'anxious': 742,\n",
       " 'amy': 743,\n",
       " 'watch': 744,\n",
       " 'worse': 745,\n",
       " 'fall': 746,\n",
       " 'art': 747,\n",
       " 'surely': 748,\n",
       " 'land': 749,\n",
       " 'countenance': 750,\n",
       " 'trees': 751,\n",
       " 'moments': 752,\n",
       " 'note': 753,\n",
       " 'looks': 754,\n",
       " 'occasion': 755,\n",
       " 'letters': 756,\n",
       " 'raised': 757,\n",
       " 'mere': 758,\n",
       " 'knowledge': 759,\n",
       " 'hat': 760,\n",
       " 'toward': 761,\n",
       " 'office': 762,\n",
       " 'floor': 763,\n",
       " 'pleased': 764,\n",
       " 'presently': 765,\n",
       " 'beginning': 766,\n",
       " 'soft': 767,\n",
       " 'showed': 768,\n",
       " 'makes': 769,\n",
       " 'smiled': 770,\n",
       " 'surprise': 771,\n",
       " 'smiling': 772,\n",
       " 'merely': 773,\n",
       " 'cry': 774,\n",
       " 'tea': 775,\n",
       " 'entirely': 776,\n",
       " 'repeated': 777,\n",
       " 'determined': 778,\n",
       " 'influence': 779,\n",
       " 'breath': 780,\n",
       " 'colonel': 781,\n",
       " 'shes': 782,\n",
       " 'music': 783,\n",
       " 'companion': 784,\n",
       " 'exactly': 785,\n",
       " 'changed': 786,\n",
       " 'sisters': 787,\n",
       " 'danger': 788,\n",
       " 'angry': 789,\n",
       " 'judge': 790,\n",
       " 'fixed': 791,\n",
       " 'worth': 792,\n",
       " 'died': 793,\n",
       " 'closed': 794,\n",
       " 'promise': 795,\n",
       " 'grave': 796,\n",
       " 'written': 797,\n",
       " 'creature': 798,\n",
       " 'prince': 799,\n",
       " 'id': 800,\n",
       " 'quick': 801,\n",
       " 'broke': 802,\n",
       " 'perfect': 803,\n",
       " 'shut': 804,\n",
       " 'public': 805,\n",
       " 'stop': 806,\n",
       " 'somewhat': 807,\n",
       " 'dare': 808,\n",
       " 'oclock': 809,\n",
       " 'service': 810,\n",
       " 'tonight': 811,\n",
       " 'watched': 812,\n",
       " 'affection': 813,\n",
       " 'particular': 814,\n",
       " 'terrible': 815,\n",
       " 'news': 816,\n",
       " 'quickly': 817,\n",
       " 'fanny': 818,\n",
       " 'guy': 819,\n",
       " 'later': 820,\n",
       " 'arrived': 821,\n",
       " 'glance': 822,\n",
       " 'phineas': 823,\n",
       " 'forgotten': 824,\n",
       " 'ears': 825,\n",
       " 'aware': 826,\n",
       " 'knowing': 827,\n",
       " 'reply': 828,\n",
       " 'threw': 829,\n",
       " 'straight': 830,\n",
       " 'youve': 831,\n",
       " 'private': 832,\n",
       " 'tired': 833,\n",
       " 'spite': 834,\n",
       " 'placed': 835,\n",
       " 'passion': 836,\n",
       " 'fresh': 837,\n",
       " 'laughing': 838,\n",
       " 'outside': 839,\n",
       " 'spirits': 840,\n",
       " 'school': 841,\n",
       " 'evil': 842,\n",
       " 'court': 843,\n",
       " 'peace': 844,\n",
       " 'force': 845,\n",
       " 'altogether': 846,\n",
       " 'follow': 847,\n",
       " 'remembered': 848,\n",
       " 'fast': 849,\n",
       " 'latter': 850,\n",
       " 'pity': 851,\n",
       " 'glass': 852,\n",
       " 'situation': 853,\n",
       " 'steps': 854,\n",
       " 'believed': 855,\n",
       " 'reading': 856,\n",
       " 'tall': 857,\n",
       " 'em': 858,\n",
       " 'paid': 859,\n",
       " 'wall': 860,\n",
       " 'notice': 861,\n",
       " 'seat': 862,\n",
       " 'pride': 863,\n",
       " 'especially': 864,\n",
       " 'filled': 865,\n",
       " 'fingers': 866,\n",
       " 'shoulder': 867,\n",
       " 'quietly': 868,\n",
       " 'noble': 869,\n",
       " 'nobody': 870,\n",
       " 'neck': 871,\n",
       " 'understood': 872,\n",
       " 'simple': 873,\n",
       " 'considered': 874,\n",
       " 'weeks': 875,\n",
       " 'french': 876,\n",
       " 'summer': 877,\n",
       " 'walking': 878,\n",
       " 'village': 879,\n",
       " 'speech': 880,\n",
       " 'yours': 881,\n",
       " 'opportunity': 882,\n",
       " 'aint': 883,\n",
       " 'hell': 884,\n",
       " 'afterwards': 885,\n",
       " 'touch': 886,\n",
       " 'gentlemen': 887,\n",
       " 'unless': 888,\n",
       " 'warm': 889,\n",
       " 'sky': 890,\n",
       " 'waited': 891,\n",
       " 'whispered': 892,\n",
       " 'beneath': 893,\n",
       " 'listened': 894,\n",
       " 'sad': 895,\n",
       " 'conduct': 896,\n",
       " 'obliged': 897,\n",
       " 'fortune': 898,\n",
       " 'gentle': 899,\n",
       " 'following': 900,\n",
       " 'twenty': 901,\n",
       " 'gold': 902,\n",
       " 'former': 903,\n",
       " 'surprised': 904,\n",
       " 'law': 905,\n",
       " 'watching': 906,\n",
       " 'pray': 907,\n",
       " 'allowed': 908,\n",
       " 'servant': 909,\n",
       " 'meeting': 910,\n",
       " 'listen': 911,\n",
       " 'grand': 912,\n",
       " 'below': 913,\n",
       " 'effort': 914,\n",
       " 'respect': 915,\n",
       " 'single': 916,\n",
       " 'everybody': 917,\n",
       " 'hung': 918,\n",
       " 'easily': 919,\n",
       " 'safe': 920,\n",
       " 'proud': 921,\n",
       " 'plain': 922,\n",
       " 'carry': 923,\n",
       " 'learned': 924,\n",
       " 'memory': 925,\n",
       " 'vain': 926,\n",
       " 'nice': 927,\n",
       " 'passing': 928,\n",
       " 'lucy': 929,\n",
       " 'handsome': 930,\n",
       " 'wrote': 931,\n",
       " 'acquaintance': 932,\n",
       " 'mamma': 933,\n",
       " 'picture': 934,\n",
       " 'darkness': 935,\n",
       " 'holding': 936,\n",
       " 'dropped': 937,\n",
       " 'breakfast': 938,\n",
       " 'opposite': 939,\n",
       " 'flowers': 940,\n",
       " 'begin': 941,\n",
       " 'simply': 942,\n",
       " 'ways': 943,\n",
       " 'settled': 944,\n",
       " 'train': 945,\n",
       " 'kindness': 946,\n",
       " 'duke': 947,\n",
       " 'honest': 948,\n",
       " 'anne': 949,\n",
       " 'fond': 950,\n",
       " 'offered': 951,\n",
       " 'expect': 952,\n",
       " 'confidence': 953,\n",
       " 'burst': 954,\n",
       " 'telling': 955,\n",
       " 'whats': 956,\n",
       " 'gate': 957,\n",
       " 'running': 958,\n",
       " 'henry': 959,\n",
       " 'fit': 960,\n",
       " 'hill': 961,\n",
       " 'conscious': 962,\n",
       " 'faith': 963,\n",
       " 'taste': 964,\n",
       " 'evidently': 965,\n",
       " 'difficulty': 966,\n",
       " 'lie': 967,\n",
       " 'putting': 968,\n",
       " 'touched': 969,\n",
       " 'stranger': 970,\n",
       " 'top': 971,\n",
       " 'sharp': 972,\n",
       " 'mistress': 973,\n",
       " 'bent': 974,\n",
       " 'experience': 975,\n",
       " 'serious': 976,\n",
       " 'lives': 977,\n",
       " 'fallen': 978,\n",
       " 'clothes': 979,\n",
       " 'break': 980,\n",
       " 'bound': 981,\n",
       " 'engaged': 982,\n",
       " 'windows': 983,\n",
       " 'supposed': 984,\n",
       " 'learn': 985,\n",
       " 'spent': 986,\n",
       " 'major': 987,\n",
       " 'brown': 988,\n",
       " 'hot': 989,\n",
       " 'regard': 990,\n",
       " 'offer': 991,\n",
       " 'eat': 992,\n",
       " 'drawingroom': 993,\n",
       " 'greater': 994,\n",
       " 'dog': 995,\n",
       " 'isabel': 996,\n",
       " 'paused': 997,\n",
       " 'rate': 998,\n",
       " 'piece': 999,\n",
       " ...}"
      ]
     },
     "execution_count": 28,
     "metadata": {},
     "output_type": "execute_result"
    }
   ],
   "source": [
    "# Dictionary of words in model\n",
    "\n",
    "model.key_to_index"
   ]
  },
  {
   "cell_type": "code",
   "execution_count": 30,
   "metadata": {
    "tags": []
   },
   "outputs": [
    {
     "data": {
      "text/plain": [
       "20865"
      ]
     },
     "execution_count": 30,
     "metadata": {},
     "output_type": "execute_result"
    }
   ],
   "source": [
    "# Visualizing the whole vocabulary would make it hard to read\n",
    "\n",
    "len(model.key_to_index)"
   ]
  },
  {
   "cell_type": "code",
   "execution_count": 31,
   "metadata": {
    "tags": []
   },
   "outputs": [],
   "source": [
    "# For interpretability, we'll select words that already have a semantic relation\n",
    "\n",
    "her_tokens = [token for token,weight in model.most_similar(positive=['she','her','hers','herself'], \\\n",
    "                                                       negative=['he','him','his','himself'], topn=50)]"
   ]
  },
  {
   "cell_type": "code",
   "execution_count": 32,
   "metadata": {
    "scrolled": true,
    "tags": []
   },
   "outputs": [
    {
     "data": {
      "text/plain": [
       "['louisa',\n",
       " 'helens',\n",
       " 'fragile',\n",
       " 'maiden',\n",
       " 'rosabella',\n",
       " 'jane',\n",
       " 'anne',\n",
       " 'charms',\n",
       " 'elizabeth',\n",
       " 'womanly',\n",
       " 'fanny',\n",
       " 'sex',\n",
       " 'portmans',\n",
       " 'lovable',\n",
       " 'lucy']"
      ]
     },
     "execution_count": 32,
     "metadata": {},
     "output_type": "execute_result"
    }
   ],
   "source": [
    "# Inspect list\n",
    "\n",
    "her_tokens[:15]"
   ]
  },
  {
   "cell_type": "code",
   "execution_count": 33,
   "metadata": {
    "tags": []
   },
   "outputs": [],
   "source": [
    "# Get the vector for each sampled word\n",
    "\n",
    "vectors = [model.get_vector(word) for word in her_tokens] "
   ]
  },
  {
   "cell_type": "code",
   "execution_count": 34,
   "metadata": {
    "tags": []
   },
   "outputs": [
    {
     "data": {
      "text/plain": [
       "array([[0.0000000e+00, 4.2728323e-01, 6.4128482e-01, ..., 3.4401667e-01,\n",
       "        6.0880047e-01, 4.3875921e-01],\n",
       "       [4.2728323e-01, 1.1920929e-07, 6.5647769e-01, ..., 5.0295484e-01,\n",
       "        3.7134373e-01, 6.0509455e-01],\n",
       "       [6.4128482e-01, 6.5647769e-01, 5.9604645e-08, ..., 6.4673072e-01,\n",
       "        5.1537478e-01, 7.2210795e-01],\n",
       "       ...,\n",
       "       [3.4401679e-01, 5.0295490e-01, 6.4673066e-01, ..., 0.0000000e+00,\n",
       "        5.2231884e-01, 6.0237920e-01],\n",
       "       [6.0880047e-01, 3.7134373e-01, 5.1537478e-01, ..., 5.2231884e-01,\n",
       "        5.9604645e-08, 6.5933627e-01],\n",
       "       [4.3875921e-01, 6.0509455e-01, 7.2210795e-01, ..., 6.0237920e-01,\n",
       "        6.5933627e-01, 2.9802322e-07]], dtype=float32)"
      ]
     },
     "execution_count": 34,
     "metadata": {},
     "output_type": "execute_result"
    }
   ],
   "source": [
    "# Calculate distances among texts in vector space\n",
    "\n",
    "dist_matrix = pairwise.pairwise_distances(vectors, metric='cosine')\n",
    "dist_matrix"
   ]
  },
  {
   "cell_type": "code",
   "execution_count": 35,
   "metadata": {
    "tags": []
   },
   "outputs": [
    {
     "name": "stderr",
     "output_type": "stream",
     "text": [
      "/opt/conda/lib/python3.10/site-packages/sklearn/manifold/_mds.py:299: FutureWarning: The default value of `normalized_stress` will change to `'auto'` in version 1.4. To suppress this warning, manually set the value of `normalized_stress`.\n",
      "  warnings.warn(\n"
     ]
    }
   ],
   "source": [
    "# Multi-Dimensional Scaling (Project vectors into 2-D)\n",
    "\n",
    "mds = MDS(n_components = 2, dissimilarity='precomputed')\n",
    "embeddings = mds.fit_transform(dist_matrix)"
   ]
  },
  {
   "cell_type": "code",
   "execution_count": 42,
   "metadata": {
    "tags": []
   },
   "outputs": [
    {
     "name": "stdout",
     "output_type": "stream",
     "text": [
      "%pylab is deprecated, use %matplotlib inline and import the required libraries.\n",
      "Populating the interactive namespace from numpy and matplotlib\n"
     ]
    },
    {
     "data": {
      "image/png": "[encoded data removed]",
      "text/plain": [
       "<Figure size 1000x1000 with 1 Axes>"
      ]
     },
     "metadata": {},
     "output_type": "display_data"
    }
   ],
   "source": [
    "# Make a pretty graph\n",
    "%pylab inline\n",
    "matplotlib.style.use('ggplot')\n",
    "\n",
    "_, ax = subplots(figsize=(10,10))\n",
    "ax.scatter(embeddings[:,0], embeddings[:,1], alpha=0)\n",
    "for i in range(len(vectors)):\n",
    "    ax.annotate(her_tokens[i], ((embeddings[i,0], embeddings[i,1])))"
   ]
  },
  {
   "cell_type": "code",
   "execution_count": 43,
   "metadata": {
    "tags": []
   },
   "outputs": [
    {
     "name": "stderr",
     "output_type": "stream",
     "text": [
      "/opt/conda/lib/python3.10/site-packages/sklearn/manifold/_mds.py:299: FutureWarning: The default value of `normalized_stress` will change to `'auto'` in version 1.4. To suppress this warning, manually set the value of `normalized_stress`.\n",
      "  warnings.warn(\n"
     ]
    },
    {
     "data": {
      "image/png": "[encoded data removed]",
      "text/plain": [
       "<Figure size 1000x1000 with 1 Axes>"
      ]
     },
     "metadata": {},
     "output_type": "display_data"
    }
   ],
   "source": [
    "# For comparison, here is the same graph using a masculine-pronoun vector\n",
    "\n",
    "his_tokens = [token for token,weight in model.most_similar(positive=['he','him','his','himself'], \\\n",
    "                                                       negative=['she','her','hers','herself'], topn=50)]\n",
    "vectors = [model.get_vector(word) for word in his_tokens]\n",
    "dist_matrix = pairwise.pairwise_distances(vectors, metric='cosine')\n",
    "mds = MDS(n_components = 2, dissimilarity='precomputed')\n",
    "embeddings = mds.fit_transform(dist_matrix)\n",
    "_, ax = plt.subplots(figsize=(10,10))\n",
    "ax.scatter(embeddings[:,0], embeddings[:,1], alpha=0)\n",
    "for i in range(len(vectors)):\n",
    "    ax.annotate(his_tokens[i], ((embeddings[i,0], embeddings[i,1])))"
   ]
  },
  {
   "cell_type": "markdown",
   "metadata": {},
   "source": [
    "> <span style=\"color:#CC7A00\" > What kinds of semantic relationships exist in the diagram above? </p>\n",
    "> <span style=\"color:#CC7A00\" > Are there any words that seem out of place?\n",
    "</span>"
   ]
  },
  {
   "cell_type": "markdown",
   "metadata": {},
   "source": [
    "## Saving & Loading Models"
   ]
  },
  {
   "cell_type": "code",
   "execution_count": 44,
   "metadata": {
    "tags": []
   },
   "outputs": [],
   "source": [
    "# Save current model for later use\n",
    "\n",
    "model.save_word2vec_format('resources/word2vec.txtlab_Novel150_English.txt')\n",
    "#model.save_word2vec_format('resources/word2vec.txtlab_Novel150_English.txt') # deprecated"
   ]
  },
  {
   "cell_type": "code",
   "execution_count": 45,
   "metadata": {
    "tags": []
   },
   "outputs": [],
   "source": [
    "# Load up models from disk\n",
    "\n",
    "# Model trained on Eighteenth Century Collections Online corpus (~2500 texts)\n",
    "# Made available by Ryan Heuser: http://ryanheuser.org/word-vectors-1/\n",
    "\n",
    "ecco_model = gensim.models.KeyedVectors.load_word2vec_format('resources/word2vec.ECCO-TCP.txt')\n",
    "#ecco_model = gensim.models.Word2Vec.load_word2vec_format('resources/word2vec.ECCO-TCP.txt') # deprecated"
   ]
  },
  {
   "cell_type": "code",
   "execution_count": 46,
   "metadata": {
    "tags": []
   },
   "outputs": [
    {
     "data": {
      "text/plain": [
       "[('ground', 0.657000720500946),\n",
       " ('turf', 0.6564096808433533),\n",
       " ('surface', 0.6480724811553955),\n",
       " ('declivity', 0.642420768737793),\n",
       " ('hill', 0.637111485004425),\n",
       " ('bridge', 0.6332241296768188),\n",
       " ('terrace', 0.6301186084747314),\n",
       " ('channel', 0.629577100276947),\n",
       " ('banks', 0.6294739246368408),\n",
       " ('wall', 0.6289103627204895)]"
      ]
     },
     "execution_count": 46,
     "metadata": {},
     "output_type": "execute_result"
    }
   ],
   "source": [
    "# What are similar words to BANK?\n",
    "\n",
    "ecco_model.most_similar('bank')"
   ]
  },
  {
   "cell_type": "code",
   "execution_count": 47,
   "metadata": {
    "tags": []
   },
   "outputs": [
    {
     "data": {
      "text/plain": [
       "[('currency', 0.36714255809783936),\n",
       " ('suit', 0.35922902822494507),\n",
       " ('stamp', 0.35820379853248596),\n",
       " ('promissory', 0.35605305433273315),\n",
       " ('pension', 0.35183224081993103),\n",
       " ('blank', 0.3518177568912506),\n",
       " ('payable', 0.34270504117012024),\n",
       " ('mortality', 0.34262457489967346),\n",
       " ('weekly', 0.3408060371875763),\n",
       " ('weal', 0.3309359848499298)]"
      ]
     },
     "execution_count": 47,
     "metadata": {},
     "output_type": "execute_result"
    }
   ],
   "source": [
    "# What if we remove the sense of \"river bank\"?\n",
    "\n",
    "ecco_model.most_similar(positive=['bank'], negative=['river'])"
   ]
  },
  {
   "cell_type": "markdown",
   "metadata": {},
   "source": [
    "## Exercises!\n",
    "See if you can attempt the following exercises on your own!"
   ]
  },
  {
   "cell_type": "code",
   "execution_count": 48,
   "metadata": {
    "tags": []
   },
   "outputs": [
    {
     "data": {
      "text/plain": [
       "[('hansom', 0.7500696778297424),\n",
       " ('taxi', 0.7478840947151184),\n",
       " ('cars', 0.7394878268241882),\n",
       " ('buggy', 0.7370666861534119),\n",
       " ('wagon', 0.7363459467887878),\n",
       " ('motor', 0.7324641346931458),\n",
       " ('omnibus', 0.7272354960441589),\n",
       " ('bus', 0.7186578512191772),\n",
       " ('cab', 0.711317777633667),\n",
       " ('sled', 0.7040993571281433)]"
      ]
     },
     "execution_count": 48,
     "metadata": {},
     "output_type": "execute_result"
    }
   ],
   "source": [
    "## EX. Use the most_similar method to find the tokens nearest to 'car' in either model.\n",
    "##     Do the same for 'motorcar'.\n",
    "\n",
    "## Q.  What characterizes these two words inthe corpus? Does this make sense?\n",
    "\n",
    "model.most_similar('car')"
   ]
  },
  {
   "cell_type": "code",
   "execution_count": 50,
   "metadata": {
    "tags": []
   },
   "outputs": [
    {
     "data": {
      "text/plain": [
       "[('haha', 0.7878643870353699),\n",
       " ('laundry', 0.7624444961547852),\n",
       " ('hoop', 0.7621448040008545),\n",
       " ('hallway', 0.747283399105072),\n",
       " ('taxi', 0.7455681562423706),\n",
       " ('slowed', 0.7431114315986633),\n",
       " ('broom', 0.7404183149337769),\n",
       " ('latchkey', 0.739296555519104),\n",
       " ('joness', 0.7392609119415283),\n",
       " ('shack', 0.7387081384658813)]"
      ]
     },
     "execution_count": 50,
     "metadata": {},
     "output_type": "execute_result"
    }
   ],
   "source": [
    "model.most_similar('motorcar')"
   ]
  },
  {
   "cell_type": "code",
   "execution_count": 51,
   "metadata": {
    "tags": []
   },
   "outputs": [
    {
     "data": {
      "text/plain": [
       "[('france', 0.7266117334365845),\n",
       " ('europe', 0.703520655632019),\n",
       " ('england', 0.6902426481246948),\n",
       " ('rome', 0.684619128704071),\n",
       " ('italy', 0.6807969212532043),\n",
       " ('germany', 0.6742438077926636),\n",
       " ('greece', 0.6369345784187317),\n",
       " ('london', 0.6132417917251587),\n",
       " ('america', 0.5939120054244995),\n",
       " ('india', 0.5838022232055664)]"
      ]
     },
     "execution_count": 51,
     "metadata": {},
     "output_type": "execute_result"
    }
   ],
   "source": [
    "## EX. How does our model answer the analogy: MADRID is to SPAIN as PARIS is to __________\n",
    "\n",
    "## Q.  What has our model learned about nation-states?\n",
    "\n",
    "\n",
    "model.most_similar(positive=['paris', 'spain'], negative = ['madrid'])"
   ]
  },
  {
   "cell_type": "code",
   "execution_count": 52,
   "metadata": {
    "tags": []
   },
   "outputs": [
    {
     "data": {
      "text/plain": [
       "[('maiden', 0.4955204129219055),\n",
       " ('louisa', 0.48071783781051636),\n",
       " ('adorable', 0.47827956080436707),\n",
       " ('charms', 0.46611225605010986),\n",
       " ('lover', 0.4660607874393463),\n",
       " ('maid', 0.44939324259757996),\n",
       " ('flora', 0.447085440158844),\n",
       " ('jane', 0.44704630970954895),\n",
       " ('lucilla', 0.43248656392097473),\n",
       " ('innocent', 0.43181905150413513)]"
      ]
     },
     "execution_count": 52,
     "metadata": {},
     "output_type": "execute_result"
    }
   ],
   "source": [
    "## EX. Perform the canonic Word2Vec addition again but leave out a term:\n",
    "##     Try 'king' - 'man', 'woman' - 'man', 'woman' + 'king'\n",
    "\n",
    "## Q.  What do these indicate semantically?\n",
    "\n",
    "model.most_similar(positive= ['woman'], negative=['man'])"
   ]
  },
  {
   "cell_type": "code",
   "execution_count": null,
   "metadata": {
    "tags": []
   },
   "outputs": [],
   "source": [
    "## EX. Heuser's blog post explores an analogy in eighteenth-century thought that\n",
    "##     RICHES are to VIRTUE what LEARNING is to GENIUS. How true is this in\n",
    "##     the ECCO-trained Word2Vec model? Is it true in the one we trained?\n",
    "\n",
    "##  Q. How might we compare word2vec models more generally?\n"
   ]
  },
  {
   "cell_type": "code",
   "execution_count": 53,
   "metadata": {
    "tags": []
   },
   "outputs": [
    {
     "data": {
      "text/plain": [
       "[('piety', 0.7372760772705078),\n",
       " ('morality', 0.7266900539398193),\n",
       " ('science', 0.6974709630012512),\n",
       " ('prudence', 0.6855395436286926),\n",
       " ('philosophy', 0.683079183101654),\n",
       " ('wisdom', 0.6511391997337341),\n",
       " ('genius', 0.6505820155143738),\n",
       " ('humanity', 0.640283465385437),\n",
       " ('modesty', 0.6369403004646301),\n",
       " ('morals', 0.6340599656105042)]"
      ]
     },
     "execution_count": 53,
     "metadata": {},
     "output_type": "execute_result"
    }
   ],
   "source": [
    "# ECCO model: RICHES are to VIRTUE what LEARNING is to ??\n",
    "\n",
    "ecco_model.most_similar(positive=['learning', 'virtue'], negative=['riches'])"
   ]
  },
  {
   "cell_type": "code",
   "execution_count": 54,
   "metadata": {
    "scrolled": true,
    "tags": []
   },
   "outputs": [
    {
     "data": {
      "text/plain": [
       "[('teaching', 0.5970186591148376),\n",
       " ('mathematics', 0.5865542888641357),\n",
       " ('chemistry', 0.5711618661880493),\n",
       " ('poetry', 0.5596555471420288),\n",
       " ('precept', 0.5438899993896484),\n",
       " ('believer', 0.5431545972824097),\n",
       " ('deficient', 0.5400426983833313),\n",
       " ('poetical', 0.5400040745735168),\n",
       " ('virgil', 0.5367878675460815),\n",
       " ('yankee', 0.5292307734489441)]"
      ]
     },
     "execution_count": 54,
     "metadata": {},
     "output_type": "execute_result"
    }
   ],
   "source": [
    "# txtLab model: RICHES are to VIRTUE what LEARNING is to ??\n",
    "model.most_similar(positive=['learning', 'virtue'], negative=['riches'])"
   ]
  },
  {
   "cell_type": "markdown",
   "metadata": {},
   "source": [
    "## Concluding Remarks and Resources\n",
    "Throughout this notebook we have seen how a number of mathematical operations can be used to explore word2vec's word embeddings. Hopefully this notebook has allowed you to see how the inherent biases of language become coded into word embeddings and systems that use word embeddings cannot be treated as search engines. \n",
    "\n",
    "While getting inside the technics of these computational processes can enable us to answer a set of new, interesting questions dealing with semantics, there are many other questions that remain unanswered.\n",
    "\n",
    "For example:\n",
    "* Many language models are built using text from large, online corpora (such as Wikipedia, which is known to have a contributor basis that is majority white, college-educated men) - what kind of impact might this have on a language model?\n",
    "* What barriers to the healthy functioning of democracy are created by the widespread use of these tools and technologies in society?\n",
    "* How might language models challenge or renegotiate ideas around copyright, intellectual property and conceptions of authorship more broadly?\n",
    "* What might guardrails look like for the safe and equitable management and deployment of language models?\n",
    "\n",
    "## Other Resources for Further Learning\n",
    "* [UBC Library Generative AI Research Guide](https://guides.library.ubc.ca/GenAI/home)\n",
    "* [What Is ChatGPT Doing … and Why Does It Work?](https://writings.stephenwolfram.com/2023/02/what-is-chatgpt-doing-and-why-does-it-work/) by Stephen Wolfram\n",
    "* [TensorFlow Word Embeddings tutorial](https://www.tensorflow.org/text/guide/word_embeddings)\n",
    "\n",
    "## References\n",
    "This notebook has been built using the following materials:\n",
    "- Arseniev-Koehler, A., & Foster, J. G. (2020). Sociolinguistic Properties of Word Embeddings [Preprint]. SocArXiv. https://doi.org/10.31235/osf.io/b8kud\n",
    "- Schiffers, R., Kern, D., & Hienert, D. (2023). Evaluation of Word Embeddings for the Social Sciences (arXiv:2302.06174). arXiv. http://arxiv.org/abs/2302.06174\n",
    "\n",
    "- Anwla, P. K. (2019, October 22). Challenges in word2vec Model. TowardsMachineLearning. https://towardsmachinelearning.org/performance-problems-in-word2vec-model/\n",
    "\n",
    "- Chandran, S. (2021, November 16). Introduction to Text Representations for Language Processing—Part 2. Medium. https://towardsdatascience.com/introduction-to-text-representations-for-language-processing-part-2-54fe6907868\n",
    "\n"
   ]
  }
 ],
 "metadata": {
  "kernelspec": {
   "display_name": "Python 3 (ipykernel)",
   "language": "python",
   "name": "python3"
  },
  "language_info": {
   "codemirror_mode": {
    "name": "ipython",
    "version": 3
   },
   "file_extension": ".py",
   "mimetype": "text/x-python",
   "name": "python",
   "nbconvert_exporter": "python",
   "pygments_lexer": "ipython3",
   "version": "3.10.8"
  }
 },
 "nbformat": 4,
 "nbformat_minor": 4
}
