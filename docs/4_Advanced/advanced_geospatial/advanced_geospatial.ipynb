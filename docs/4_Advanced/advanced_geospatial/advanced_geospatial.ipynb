{
  "cells": [
    {
      "cell_type": "markdown",
      "metadata": {},
      "source": [
        "# 3.10.1 - Advanced - Geospatial Analysis\n",
        "\n",
        "## Outline\n",
        "\n",
        "### Prerequisites\n",
        "\n",
        "-   Intermediate R skills\n",
        "-   Theoretical understanding of multiple regression\n",
        "-   Basic geometry\n",
        "\n",
        "### Outcomes\n",
        "\n",
        "After completing this notebook, you will be able to:\n",
        "\n",
        "-   Manipulate geospatial objects in R using the `sf` package\n",
        "-   Perform geospatial operations on real world data\n",
        "-   Understand applications of geospatial analysis in the context of\n",
        "    economic research\n",
        "\n",
        "### References\n",
        "\n",
        "-   [Geocomputation with R](https://r.geocompx.org/intro)\n",
        "\n",
        "## Introduction\n",
        "\n",
        "In this notebook, we’ll introduce the basics of geospatial analysis with\n",
        "vector data. We’ll use the `sf` package and data from `spData` for our\n",
        "examples."
      ],
      "id": "de06ddb0-0a90-4669-8c2b-1e860c86f2a5"
    },
    {
      "cell_type": "code",
      "execution_count": null,
      "metadata": {},
      "outputs": [],
      "source": [
        "# load packages\n",
        "library(tidyverse)\n",
        "library(ggplot2)\n",
        "library(sandwich)\n",
        "library(lmtest)\n",
        "library(sf)\n",
        "library(spData)\n",
        "\n",
        "# load self-tests\n",
        "source('advanced_geospatial_tests.r')"
      ],
      "id": "1c79ab9a-79cd-409e-bbc7-5c21a517bb0f"
    },
    {
      "cell_type": "markdown",
      "metadata": {},
      "source": [
        "## Part 1: Geospatial Data\n",
        "\n",
        "Geospatial data is data coded to represent physical objects. For\n",
        "example, let’s say we’re interested in analyzing the accessibility of\n",
        "healthcare in BC. A dataset containing locations of emergency\n",
        "departments (coded in longitude and latitude coordinates) and population\n",
        "density per municipality would consitute a geospatial dataset. We could\n",
        "use the geospatial data to estimate the share of BC residents within\n",
        "10km of an emergency department. That analysis would involve calculating\n",
        "relationships between physical objects (i.e., location of emergency\n",
        "departments) and overlaying numeric data (i.e., population density per\n",
        "municipality) on the physical objects.\n",
        "\n",
        "The first step to learning how to conduct geospatial analyses like this\n",
        "in R is to understand how geospatial data is stored - that’s what we’ll\n",
        "cover in this section.\n",
        "\n",
        "### Vector vs Raster Data\n",
        "\n",
        "In R, geospatial data can be stored as either **vector data** or\n",
        "**raster data**.\n",
        "\n",
        "-   **Vector data** is coded in a collection of mathematical objects,\n",
        "    such as points, lines, and polygons. Geospatial objects with vector\n",
        "    data have discrete boundaries and are associated with specific\n",
        "    locations through a **coordinate reference systems (CRS)**.\n",
        "-   **Raster data** is coded as 2-D cells with constant size, called\n",
        "    pixels. These pixels are accompanied with information that links\n",
        "    them with a specific location.\n",
        "\n",
        "Vector data is most widely used in the social sciences because\n",
        "applications in politics or economics typically require discrete\n",
        "boundaries of administrative regions (e.g., country or state borders).\n",
        "For this reason, we’ll focus on conducting geospatial analysis with\n",
        "vector data.\n",
        "\n",
        "Vector data codes geospatial objects with the following elements:\n",
        "\n",
        "-   **Points**, coded as `c(x, y)`: the most basic element, used when\n",
        "    the area of the objects are not meaningful (e.g., locations of\n",
        "    emergency departments in BC).\n",
        "-   **Linestrings**, coded as `rbind(c(x1, y1), c(x2, y2), c(x3, y3))`:\n",
        "    a series of points, used when the length of an object is meaningful\n",
        "    but the area is not (e.g., rivers, roads).\n",
        "-   **Polygons**, coded as\n",
        "    `list(rbind(c(x1, y1), c(x2, y2), c(x3, y3), c(x1, y1)))`: a series\n",
        "    of *closed* points, used when the area of an object is meaningful\n",
        "    (e.g., Canadian provinces, metropolitan areas, protected areas).\n",
        "\n",
        "> **Note**: to be closed objects, polygons need to start and end at the\n",
        "> same points; notice above that the polygon starts at `c(x1, y1)` and\n",
        "> also ends at `c(x1, y1)`.\n",
        "\n",
        "What exactly are these (x, y) coordinates? How does R (and the user)\n",
        "know which locations these coordinates represent?\n",
        "\n",
        "### Coordinate Reference Systems\n",
        "\n",
        "A coordinate reference system can be thought of as the base map in which\n",
        "your geospatial objects will be overlayed. There are two main types of\n",
        "CRS for vector data: **geographic CRS** and **projected CRS**.\n",
        "\n",
        "-   **Geographic CRS** map locations with longitude and latitude\n",
        "    coordinates. The x’s and y’s for the points, linestrings, and\n",
        "    polygons introduced above will simply be longitude and latitude\n",
        "    coordinates on the base map.\n",
        "\n",
        "> **Note**: Geographic coordinates are spherical! This means that you\n",
        "> cannot use the distance formula you learned in high-school to\n",
        "> calculate the distance between two points coded in\n",
        "> `c(longitude, latitude)` format. More on this later.\n",
        "\n",
        "-   **Projected CRS** map locations with Cartesian coordinates on a flat\n",
        "    surface. The x’s and y’s for the points, linestrings, and polygons\n",
        "    introduced above will simply be x’s and y’s of a regular xy plane\n",
        "    grid. There are different ways to project the earth on a flat\n",
        "    surface, and that implies different ways to store objects and the\n",
        "    relationships between them (e.g., conic, cylindrical, equidistant,\n",
        "    equal-area…). More on this later.\n",
        "\n",
        "### The `sf` package\n",
        "\n",
        "The `sf` package is currently the most widely used package for\n",
        "manipulating geospatial data in vector format in R. The package supports\n",
        "all of the elements described above (i.e., points, linestrings,\n",
        "polygons), as well as any combination of those objects (i.e.,\n",
        "multipoints, multilinestrings, multipolygons, and geometry collections).\n",
        "We’ll introduce them as needed throughout this notebook.\n",
        "\n",
        "The beauty of the `sf` package is that it is compatible with\n",
        "`tidyverse`: geometric objects are stored in dataframes, and we can\n",
        "manipulate those objects with the typical `tidyverse` functions we use\n",
        "with non-spatial datasets.\n",
        "\n",
        "To illustrate, let’s create some geospatial data from scratch."
      ],
      "id": "e846eecb-9b3b-4100-aa8f-069079e9874c"
    },
    {
      "cell_type": "code",
      "execution_count": null,
      "metadata": {},
      "outputs": [],
      "source": [
        "# creating a point\n",
        "a_point <- c(0,1)\n",
        "class(a_point)"
      ],
      "id": "c91b1094-9f1a-440d-ab26-f8650746d0f9"
    },
    {
      "cell_type": "markdown",
      "metadata": {},
      "source": [
        "Let’s transform our point into a geospatial object using the\n",
        "`st_point()` function."
      ],
      "id": "1303031c-4948-4659-b145-64138a53e9e7"
    },
    {
      "cell_type": "code",
      "execution_count": null,
      "metadata": {},
      "outputs": [],
      "source": [
        "# transforming point into geospatial object\n",
        "geo_point <- st_point(a_point)\n",
        "geo_point\n",
        "class(geo_point)"
      ],
      "id": "347a1686-c423-4e3a-a063-f1aacad2de59"
    },
    {
      "cell_type": "markdown",
      "metadata": {},
      "source": [
        "Notice that the data is coded as `POINT (0 1)` and the type of the\n",
        "object is `sfg`, which stands for **simple feature geometry**. The\n",
        "functions to transform R numeric vectors into `sfg` objects are:\n",
        "\n",
        "-   `st_point()`\n",
        "-   `st_linestring()`\n",
        "-   `st_polygon()`\n",
        "\n",
        "We can bind these `sfg` objects into a simple feature column with the\n",
        "function `st_sfc()`."
      ],
      "id": "b1d343e2-73aa-4e4f-99ff-676e6ad0eab6"
    },
    {
      "cell_type": "code",
      "execution_count": null,
      "metadata": {},
      "outputs": [],
      "source": [
        "# creating two more points\n",
        "another_point <- c(1,2)\n",
        "yet_another_point <- c(3,3)\n",
        "\n",
        "# transforming points into `sfg` objects\n",
        "geo_point_2 <- st_point(another_point)\n",
        "geo_point_3 <- st_point(yet_another_point)\n",
        "\n",
        "# combining `sfg` objects into a simple feature column \n",
        "sfc_obj <- st_sfc(geo_point, geo_point_2, geo_point_3)\n",
        "class(sfc_obj)"
      ],
      "id": "1d22c2cf-a590-4cef-a676-c5f0d23ece0a"
    },
    {
      "cell_type": "markdown",
      "metadata": {},
      "source": [
        "Now the type of the object is `sfc`. R also recognizes that it is a\n",
        "`sfc_POINT`, because we only passed points to the simple features\n",
        "column. Simple feature columns support different types of simple feature\n",
        "objects in a same column (e.g., a column with a point, a linestring, and\n",
        "a geometry collection).\n",
        "\n",
        "Since we have coded our elements as geospatial data, we can now plot the\n",
        "points in space."
      ],
      "id": "f83d3cbf-fc87-4314-9c01-1750bcf6e414"
    },
    {
      "cell_type": "code",
      "execution_count": null,
      "metadata": {},
      "outputs": [],
      "source": [
        "plot(sfc_obj)"
      ],
      "id": "601384d7-2a51-4418-a8a6-8fd28619cdcf"
    },
    {
      "cell_type": "markdown",
      "metadata": {},
      "source": [
        "Let’s take a look at the ouput of `sfc_obj`."
      ],
      "id": "74e6f6dc-a21e-4aef-ab03-5a2589b560fd"
    },
    {
      "cell_type": "code",
      "execution_count": null,
      "metadata": {},
      "outputs": [],
      "source": [
        "sfc_obj"
      ],
      "id": "b065baa6-c15b-460c-a544-f9056d34058c"
    },
    {
      "cell_type": "markdown",
      "metadata": {},
      "source": [
        "The output of this object gives us the following information:\n",
        "\n",
        "-   We only have points as geometric objects in the column\n",
        "-   The dimension of our objects is 2-D (i.e., we only passed 2\n",
        "    coordinates for each point `c(x, y)`)\n",
        "-   The bounds of our plot are `[c(0,1), c(3,1), c(3,3), c(0,3)]`\n",
        "-   We have not specified a CRS (i.e., we don’t have a base map)\n",
        "\n",
        "We can specify the CRS for our geometric data when creating the `sfc`\n",
        "object with the parameter `crs`. Here, we have chosen the `crs`\n",
        "“EPSG:4326”, which is a basic map of the world."
      ],
      "id": "cf4a06e3-754e-49f4-bd62-d4de05bde426"
    },
    {
      "cell_type": "code",
      "execution_count": null,
      "metadata": {},
      "outputs": [],
      "source": [
        "sfc_obj_with_crs <- st_sfc(geo_point, geo_point_2, geo_point_3, crs = \"EPSG:4326\")\n",
        "sfc_obj_with_crs"
      ],
      "id": "8e7a9acb-5a78-4504-8a79-8855a85a432e"
    },
    {
      "cell_type": "markdown",
      "metadata": {},
      "source": [
        "See now that R knows that our data refers to the Geodetic CRS WGS 84. A\n",
        "simple search of the term will tell you that this is one of the most\n",
        "widely used geographic CRS’s, in which the `c(x, y)` represents latitude\n",
        "and longitude coordinates.\n",
        "\n",
        "Once we specify the CRS, R knows which locations on Earth our geometric\n",
        "objects refer to. This allows us to overlay objects we create on\n",
        "existing geospatial objects that share the same CRS.\n",
        "\n",
        "Let’s see this in practice. Let’s load the `world` dataset from the\n",
        "`spData` package. We’ll use this dataset, which contains country\n",
        "borders, to overlay two lines connecting Salvador, Brazil, to (1)\n",
        "Luanda, Angola, and to (2) Maputo, Mozambique."
      ],
      "id": "7dc0053b-2c07-4505-a81a-e4602f75c676"
    },
    {
      "cell_type": "code",
      "execution_count": null,
      "metadata": {},
      "outputs": [],
      "source": [
        "# check the data and plot the `world` geometry\n",
        "head(world)\n",
        "plot(world[\"name_long\"]) # specify that we want to plot the attribute `name_long`"
      ],
      "id": "825f2e0f-fa0b-4b87-b2cc-cd0ae558ece0"
    },
    {
      "cell_type": "markdown",
      "metadata": {},
      "source": [
        "We can see from the output above that the country boundaries are stored\n",
        "as multipolygons, and that the CRS for the `world` geometry is WGS 84.\n",
        "\n",
        "As shown earlier, the argument used to transform numeric vectors to this\n",
        "CRS is `crs = \"EPSG:4326\"`. Let’s use that information to draw the lines\n",
        "from Salvador to Luanda and Maputo and overlay them on the plot. We’ll\n",
        "need the coordinates of these cities, which we can find by searching for\n",
        "them online.\n",
        "\n",
        "> **Note**: for this CRS, we need to specify the coordinates as\n",
        "> `c(longitude, latitude)`. The longitude and latitude of Salvador are\n",
        "> approximately `c(-38.5, -13)` and those of Luanda and Maputo are\n",
        "> `c(13.2, -8.8)` and `c(32.6, -26)` respectively."
      ],
      "id": "6cdff6c8-aa90-48c1-8744-931f217d496b"
    },
    {
      "cell_type": "code",
      "execution_count": null,
      "metadata": {},
      "outputs": [],
      "source": [
        "# create lines with `st_linestring()`\n",
        "line_luanda <- st_linestring(rbind(c(-38.5, -13), c(13.2, -8.8)))\n",
        "line_maputo <- st_linestring(rbind(c(-38.5, -13), c(32.6, -26)))\n",
        "\n",
        "# create simple feature column\n",
        "lines_sfc <- st_sfc(line_luanda, line_maputo, crs = \"EPSG:4326\")\n",
        "\n",
        "plot(world[\"name_long\"], reset = FALSE)\n",
        "plot(lines_sfc, add = TRUE, col =\"red\") # overlay the lines"
      ],
      "id": "854d5bb5-e1df-4ec2-b3d6-809bc2f40468"
    },
    {
      "cell_type": "markdown",
      "metadata": {},
      "source": [
        "The `plot()` function is the easiest way to plot geospatial objects in\n",
        "R. The default of this function plots one map for each attribute (try\n",
        "running `plot(world)` to see for yourself), so we specify `name_long` to\n",
        "plot a single map for the output. The parameters `reset = FALSE` and\n",
        "`add = TRUE` are needed to overlay plots.\n",
        "\n",
        "### Geospatial Operations\n",
        "\n",
        "We now turn our attention to objects that contain both simple features\n",
        "and other data types as columns. The `world` dataset, which we used in\n",
        "the previous section, has those features. Let’s examine this dataset\n",
        "further."
      ],
      "id": "781f9261-4b15-49e9-bba2-f28aabc7dd46"
    },
    {
      "cell_type": "code",
      "execution_count": null,
      "metadata": {},
      "outputs": [],
      "source": [
        "str(world)\n",
        "class(world)"
      ],
      "id": "c6dbf8b6-b252-4d55-88f5-e22d2e609bbe"
    },
    {
      "cell_type": "markdown",
      "metadata": {},
      "source": [
        "We can see that `world` contains the boundaries of countries as\n",
        "multipolygons, but also contains attributes of those countries as other\n",
        "types of data. Recognizing this, R categorizes this dataset as both `sf`\n",
        "and `data.frame`.\n",
        "\n",
        "We can create `sf` objects with categorical and numeric attributes using\n",
        "the function `st_sf()`. Let’s show this by creating a custom dataset for\n",
        "three cities in Portugal."
      ],
      "id": "0d10577c-61f0-4688-b765-a29fb6699dc9"
    },
    {
      "cell_type": "code",
      "execution_count": null,
      "metadata": {},
      "outputs": [],
      "source": [
        "# create a data.frame object containing the cities and their populations\n",
        "city_attr <- data.frame(                   \n",
        "  name = c(\"Lisboa\", \"Coimbra\", \"Porto\"),\n",
        "  population = c(545796, 106655, 231800)    \n",
        ")\n",
        "\n",
        "# specify points as c(lon, lat) coordinates of cities\n",
        "l_coord <- st_point(c(-9.1, 38.7)) \n",
        "c_coord <- st_point(c(-8.4, 40.2))\n",
        "p_coord <- st_point(c(-8.6, 41.1))\n",
        "\n",
        "# create a column with the specified CRS\n",
        "coordinates <- st_sfc(l_coord, c_coord, p_coord, crs = \"EPSG:4326\")  \n",
        "\n",
        "# create `sf` object with the data.frame and the sfc\n",
        "city_data <- st_sf(city_attr, geometry = coordinates)    \n",
        "city_data"
      ],
      "id": "370721a4-130c-4872-8fc0-823d0342702c"
    },
    {
      "cell_type": "code",
      "execution_count": null,
      "metadata": {},
      "outputs": [],
      "source": [
        "class(city_data)"
      ],
      "id": "dec7f3ff-0872-4193-abab-b6377ce1971c"
    },
    {
      "cell_type": "markdown",
      "metadata": {},
      "source": [
        "The image below illustrates the process of creating `sf` objects from\n",
        "`sfc` and `data.frame` objects, which we did above.\n",
        "\n",
        "<figure>\n",
        "<img src=\"attachment:media/sf_diagram.png\"\n",
        "alt=\"Lovelace, Robin and Nowosad, Jakub and Muenchow, Jannes, (2019). Geocomputation with R.\" />\n",
        "<figcaption aria-hidden=\"true\">Lovelace, Robin and Nowosad, Jakub and\n",
        "Muenchow, Jannes, (2019). Geocomputation with R.</figcaption>\n",
        "</figure>\n",
        "\n",
        "Now let’s suppose we want to merge `city_data` with data from the major\n",
        "rivers in Portugal that pass through those cities.\n",
        "\n",
        "> **Note**: These are not the actual coordinates of the rivers. The\n",
        "> points are simulated and made so that they pass through the major\n",
        "> cities."
      ],
      "attachments": {
        "media/sf_diagram.png": {
          "image/png": "[encoded data removed]"
        }
      },
      "id": "75fad634-005d-452e-bf05-8b05925bc64d"
    },
    {
      "cell_type": "code",
      "execution_count": null,
      "metadata": {},
      "outputs": [],
      "source": [
        "# creating river data\n",
        "# data.frame object\n",
        "river_names = data.frame(                           \n",
        "  river_name = c(\"Tejo\", \"Mondego\", \"Douro\")\n",
        ")\n",
        "\n",
        "# specify points as c(lon, lat) coordinates of rivers\n",
        "t_coord <- st_linestring(rbind(c(-10, 37), c(-9.1, 38.7), c(-9.1, 39.3)))    \n",
        "m_coord <- st_linestring(rbind(c(-8, 38.5), c(-8.4, 40.2), c(-7.8, 41.9)))\n",
        "d_coord <- st_linestring(rbind(c(-8, 42),c(-8.6, 41.1), c(-8.8, 40)))\n",
        "\n",
        "# create a column with the specified CRS\n",
        "rivers <- st_sfc(t_coord, m_coord, d_coord, crs = \"EPSG:4326\")    \n",
        "\n",
        "# create `sf` object with the data.frame and the sfc\n",
        "river_data <- st_sf(river_names, river_geometry = rivers)    \n",
        "plot(river_data)"
      ],
      "id": "5b20408b-8589-403f-acbf-a1857593cbcc"
    },
    {
      "cell_type": "markdown",
      "metadata": {},
      "source": [
        "One way of joining the data is to simply attach columns with `cbind()`."
      ],
      "id": "9ff14dcf-a40a-4a91-9161-a0da94aadc80"
    },
    {
      "cell_type": "code",
      "execution_count": null,
      "metadata": {},
      "outputs": [],
      "source": [
        "portugal_data <- cbind(city_data, river_data)\n",
        "portugal_data"
      ],
      "id": "5cffd094-d96a-4c23-a0fe-6dc32e07b1a4"
    },
    {
      "cell_type": "markdown",
      "metadata": {},
      "source": [
        "Another way to join datasets is through geospatial operations. These\n",
        "operations allow us to filter, merge, or subset dataframes based on\n",
        "whether points, lines, and polygons touch, intersect, or contain other\n",
        "geospatial objects.\n",
        "\n",
        "For example, let’s say we don’t know which river borders which city and\n",
        "we want to use geospatial operations to find out. We can use `st_join()`\n",
        "to merge both datasets based on intersections. `st_join()` is basically\n",
        "a left join in which the matches are determined by the relationships\n",
        "between the spatial objects."
      ],
      "id": "b8afafdc-8078-4c33-8600-46a69bdb4ca2"
    },
    {
      "cell_type": "code",
      "execution_count": null,
      "metadata": {},
      "outputs": [],
      "source": [
        "# merge city_data with river_data \n",
        "pt_data <- st_join(city_data, river_data[\"river_name\"])    # specify \"river_name\" to keep it in the merged dataset\n",
        "pt_data"
      ],
      "id": "ff18a912-4ba6-4ec2-ad14-95ca2eb61243"
    },
    {
      "cell_type": "markdown",
      "metadata": {},
      "source": [
        "`st_join()` assigns the names of the rivers to the observations in which\n",
        "the point (i.e., city) intersects with the line (i.e., river).\n",
        "\n",
        "> **Note**: `st_join()` drops the geometry of the second object.\n",
        "\n",
        "Similar to `st_join()`, we can filter, merge, or subset `sf` objects\n",
        "with other geospatial functions. The most common types of geospatial\n",
        "operations are:\n",
        "\n",
        "-   `st_intersects()`\n",
        "-   `st_disjoin()`\n",
        "-   `st_contains()`\n",
        "-   `st_overlaps()`\n",
        "-   `st_within()`\n",
        "\n",
        "You can learn more about the different geospatial operations in the\n",
        "[documentation of the\n",
        "package](https://r-spatial.github.io/sf/reference/st_join.html).\n",
        "\n",
        "### Test your Knowledge\n",
        "\n",
        "Create a polygon with vertices (0,0), (0,3), (3,6), (6,3), (6,0). Your\n",
        "answer must be a `sfg` object."
      ],
      "id": "49452d1a-d2c1-4af4-9938-62238e6cc568"
    },
    {
      "cell_type": "code",
      "execution_count": null,
      "metadata": {},
      "outputs": [],
      "source": [
        "polygon_1 <- st_...(...(...(...)))\n",
        "\n",
        "answer_1 <- polygon_1\n",
        "\n",
        "test_1()"
      ],
      "id": "93ed8992-ea35-48a1-91c5-befd51071330"
    },
    {
      "cell_type": "markdown",
      "metadata": {},
      "source": [
        "Determine whether the following points are contained in the polygon with\n",
        "a geospatial operation."
      ],
      "id": "3b393fa6-9d0e-4dc1-9a78-4b126700fadd"
    },
    {
      "cell_type": "code",
      "execution_count": null,
      "metadata": {},
      "outputs": [],
      "source": [
        "point_1 <- st_point(c(0,0))\n",
        "point_2 <- st_point(c(3,4))\n",
        "point_3 <- st_point(c(3,3))\n",
        "point_4 <- st_point(c(4,5))\n",
        "point_5 <- st_point(c(6,6))\n",
        "points <- st_sfc(point_1, point_2, point_3, point_4, point_5)"
      ],
      "id": "ccbe08b4-d4b8-48e4-8309-015a571c4ef2"
    },
    {
      "cell_type": "markdown",
      "metadata": {},
      "source": [
        "> **Hint**: you only need to run one function."
      ],
      "id": "42486166-bac8-4957-bb1d-dd12a6afe1d0"
    },
    {
      "cell_type": "code",
      "execution_count": null,
      "metadata": {},
      "outputs": [],
      "source": [
        "answer_2 <- st_...(...)\n",
        "\n",
        "test_2()"
      ],
      "id": "047e21e3-5676-4acf-9e26-17a85df7f4e7"
    },
    {
      "cell_type": "markdown",
      "metadata": {},
      "source": [
        "> **Think Deeper**: once you get to the correct answer of question 2,\n",
        "> inspect the output of `answer_2`. What does it mean? How is it\n",
        "> different than the intersection of two objects?\n",
        "\n",
        "Which of the following functions should be used to create an object with\n",
        "a simple feature column and other attributes?\n",
        "\n",
        "1.  `as_data_frame()`\n",
        "2.  `st_sfg()`\n",
        "3.  `st_sfc()`\n",
        "4.  `st_sf()`"
      ],
      "id": "05e0f536-6340-4685-94d2-c785edc837ca"
    },
    {
      "cell_type": "code",
      "execution_count": null,
      "metadata": {},
      "outputs": [],
      "source": [
        "# Replace ... by your answer of \"A\", \"B\", \"C\" or \"D\"\n",
        "answer_3 <- \"...\"\n",
        "\n",
        "test_3()"
      ],
      "id": "8b14c8ce-3492-4037-a3c9-3e6b033ae244"
    },
    {
      "cell_type": "markdown",
      "metadata": {},
      "source": [
        "What are the common coordinate inputs for geographic CRS?\n",
        "\n",
        "1.  `c(lat, lon)`\n",
        "2.  `c(lon, lat)`\n",
        "3.  `c(x, y)`\n",
        "4.  `c(y, x)`"
      ],
      "id": "e5f04a9f-4afc-444b-a777-6637a592640b"
    },
    {
      "cell_type": "code",
      "execution_count": null,
      "metadata": {},
      "outputs": [],
      "source": [
        "# Replace ... by your answer of \"A\", \"B\", \"C\" or \"D\"\n",
        "answer_4 <- \"...\"\n",
        "\n",
        "test_4()"
      ],
      "id": "95024b58-ca4c-4bb2-8cfa-aee5c2bb8745"
    },
    {
      "cell_type": "markdown",
      "metadata": {},
      "source": [
        "## Part 2: Hedonic Pricing with Data from Athenian Properties\n",
        "\n",
        "In this section, we’re going to estimate the value of apartment\n",
        "characteristics with a hedonic pricing function for apartments located\n",
        "in Athens, Greece. We’ll use the geospatial datasets `depmunic` and\n",
        "`properties` from the package `spData`.\n",
        "\n",
        "### Theory\n",
        "\n",
        "Typically, economists rely on market prices to estimate consumers’\n",
        "marginal willingness to pay for a good. When the good in question is not\n",
        "traded in markets, economists must resort to other strategies. One of\n",
        "those strategies is the **hedonic pricing method**.\n",
        "\n",
        "The main assumption of hedonic pricing is that *the total price of a\n",
        "good equals the sum of the prices of its components*. Using this\n",
        "assumption, we can deconstruct the price of a good traded in markets and\n",
        "attribute part of the total price to each of its non-traded component\n",
        "parts. For example, we can model the price of an apartment as a function\n",
        "of it’s size, view, age, location, number of bathrooms, proximity to\n",
        "public service, etc. If we take two apartments that are exactly equal\n",
        "but only differ on their view (e.g., one might be in the 2nd floor and\n",
        "the other on the 30th floor of the same building), their difference in\n",
        "price must be the added value of the view. If we have data on the prices\n",
        "and attributes of several apartments, we could leverage hedonic pricing\n",
        "to estimate how much consumers value a nice view.\n",
        "\n",
        "> **Think Deeper**: what are the other underlying assumptions of hedonic\n",
        "> pricing? When might it not be appropriate to use this method to value\n",
        "> non-traded goods?\n",
        "\n",
        "A model for the hedonic price of an apartment could be estimated with\n",
        "the following regression:\n",
        "\n",
        "$$\n",
        "P_{i} = \\beta_{0} + \\beta_{1} Size_{i} + \\beta_{2} Age_{i} + \\beta_{3} Bath_{i} + \\beta_{4} View_{i} + \\beta_{5} Room_{i} + \\beta_{6} Park_{i} + ... + \\beta_{k} X_{ki}\n",
        "$$\n",
        "\n",
        "where\n",
        "\n",
        "-   $P_{i}$ is the price per square meter of apartment $i$\n",
        "-   The variables $Size$, $Age$, $Bath$, $View$, $Room$, $Park$, $...$,\n",
        "    $X_{k}$ are the components of the apartment\n",
        "-   The $\\beta_{k}$s are the effects of those components on the price of\n",
        "    the apartment\n",
        "\n",
        "With that in mind, let’s try to estimate the hedonic pricing function of\n",
        "apartments in Athens.\n",
        "\n",
        "### Exploratory Analysis\n",
        "\n",
        "Let’s load two datasets from the `spData` package.\n",
        "\n",
        "-   `depmunic` has information on the 7 districts of the municipality of\n",
        "    Athens. The district boundaries are stored in the data as polygons.\n",
        "-   `properties` has data on properties for sale in the city of Athens.\n",
        "    Property locations are stored in the data as points.\n",
        "\n",
        "Let’s start with `depmunic`."
      ],
      "id": "2aee1629-5b69-4127-ad85-7890fdb874b9"
    },
    {
      "cell_type": "code",
      "execution_count": null,
      "metadata": {},
      "outputs": [],
      "source": [
        "head(depmunic)\n",
        "str(depmunic)"
      ],
      "id": "0d35e6b2-4778-4877-ac8f-3a331fe95448"
    },
    {
      "cell_type": "markdown",
      "metadata": {},
      "source": [
        "We can see that the dataset has attributes of the districts: `airbnb`,\n",
        "`museums`, `population`, …\n",
        "\n",
        "We can also see that the CRS used for this dataset is a Greek CRS:\n",
        "Projected CRS: GGRS87 / Greek Grid. This tells us that we’re dealing\n",
        "with a projected CRS tailored to Greece. A quick search will find that\n",
        "the units of reference are in meters.\n",
        "\n",
        "> **Note**: a crucial part of geospatial data exploration is learning\n",
        "> about the CRS of the dataset. This not only affects the relationships\n",
        "> within your own dataset but also determines whether you can merge or\n",
        "> filter geospatial objects based on other datasets.\n",
        "\n",
        "Let’s plot the `depmunic` data. We specify the attribute greenspace\n",
        "`[\"greensp\"]` to plot a chart of the green space exclusively."
      ],
      "id": "b0dcbc96-db23-41ad-9c0f-6b893179fa36"
    },
    {
      "cell_type": "code",
      "execution_count": null,
      "metadata": {},
      "outputs": [],
      "source": [
        "plot(depmunic[\"greensp\"])"
      ],
      "id": "65d1f546-cc2b-402d-bed3-930442dba5d2"
    },
    {
      "cell_type": "markdown",
      "metadata": {},
      "source": [
        "The plot shows that the district in yellow (district 2) is the one with\n",
        "largest greenspace, almost 10 times as much as the district in dark blue\n",
        "(district 4).\n",
        "\n",
        "Now let’s take a look at our `properties` data."
      ],
      "id": "0672d13c-d587-4377-a107-21450562b856"
    },
    {
      "cell_type": "code",
      "execution_count": null,
      "metadata": {},
      "outputs": [],
      "source": [
        "head(properties)\n",
        "str(properties)"
      ],
      "id": "0d835587-fd37-43c5-b02a-28b9b60d8491"
    },
    {
      "cell_type": "markdown",
      "metadata": {},
      "source": [
        "We can see that the dataset has attributes of the properties: `size`,\n",
        "`price`, `age`, …\n",
        "\n",
        "We can see that the CRS used for this dataset is also the Greek CRS.\n",
        "This is good news: both our datasets are referenced to the same grid.\n",
        "\n",
        "Let’s plot our `properties` dataset."
      ],
      "id": "153ae63f-77f4-4225-b73a-0b32adaa37d4"
    },
    {
      "cell_type": "code",
      "execution_count": null,
      "metadata": {},
      "outputs": [],
      "source": [
        "plot(properties[\"prpsqm\"])"
      ],
      "id": "8c0eaaf9-cc95-4bdd-a8bd-a2f20fd608e1"
    },
    {
      "cell_type": "markdown",
      "metadata": {},
      "source": [
        "The plot shows the distribution of properties with their color\n",
        "representing the price per square meter `prpsqm`. It’s hard to see a\n",
        "pattern from this chart, but it seems that most of the expensive\n",
        "properties are located towards the south.\n",
        "\n",
        "Let’s plot our property locations on top of our district boundaries."
      ],
      "id": "34877b1f-edf3-4806-8ef0-e2a6a95204f9"
    },
    {
      "cell_type": "code",
      "execution_count": null,
      "metadata": {},
      "outputs": [],
      "source": [
        "plot(depmunic[\"num_dep\"], reset = FALSE)\n",
        "plot(properties[\"price\"], add = TRUE, col = \"darkgreen\")"
      ],
      "id": "bf4b4b86-6cb7-4907-a96b-0fc1b58988a2"
    },
    {
      "cell_type": "markdown",
      "metadata": {},
      "source": [
        "### Empirical Methods\n",
        "\n",
        "Let’s try to put together a model to explain the price of properties in\n",
        "Athens using the hedonic pricing method. Our proposed specification will\n",
        "be: $$\n",
        "P_{i} = \\beta_0 + \\beta_1 Size_{i} + \\beta_2 Age_{i} + \\beta_{3} Dist_{i} + \\sum_{j=2}^{7} \\gamma_{j} D_{ij} + \\epsilon\n",
        "$$\n",
        "\n",
        "where\n",
        "\n",
        "-   $P_{i}$ is the price (in euros) per square meter of apartment $i$,\n",
        "-   $Size_{i}$ is the size in square meters of apartment $i$,\n",
        "-   $Age_{i}$ is the age in years of apartment $i$,\n",
        "-   $Dist_{i}$ is the distance between apartment $i$ and the closest\n",
        "    metro in meters,\n",
        "-   $D_{ij}$ are dummy variables indexing the districts $j$ for\n",
        "    apartment $i$.\n",
        "\n",
        "The dummy variables are included to account for district-specific\n",
        "characteristics, such as the number of museums, parks, area of\n",
        "greenspace, and other district specific factors that we don’t have data\n",
        "on.\n",
        "\n",
        "Looking at our `properties` dataset, we see that we already have data on\n",
        "all of our regressors except district location of the apartments. We\n",
        "need to use what we learned about geospatial operations to assign a\n",
        "categorical variable indicating district location to each property.\n",
        "\n",
        "Below we use the function `st_join()` to merge both datasets based on\n",
        "the intersection of the spatial elements, and pass the attribute\n",
        "`num_dep` (the district number) to the merged dataset."
      ],
      "id": "f7970026-d598-42a4-9cd1-95821c16d358"
    },
    {
      "cell_type": "code",
      "execution_count": null,
      "metadata": {},
      "outputs": [],
      "source": [
        "# find location districts for each property\n",
        "merged_data <- st_join(properties, depmunic[\"num_dep\"])\n",
        "merged_data"
      ],
      "id": "9de8c10d-152b-45e7-9cde-a437368c5e8c"
    },
    {
      "cell_type": "markdown",
      "metadata": {},
      "source": [
        "Notice that `st_join()` dropped the district boundaries. That is fine,\n",
        "since `num_dep` already indicates where each property is located. As a\n",
        "matter of fact, we don’t even need the points anymore. We only needed\n",
        "them to connect the apartments to their district! Let’s clean our data\n",
        "before running our model.\n",
        "\n",
        "> **Note**: we should drop spatial objects with the function\n",
        "> `st_drop_geometry()`, as opposed to `select()`."
      ],
      "id": "5c71b6ac-f92c-4835-9195-4b70c79b739c"
    },
    {
      "cell_type": "code",
      "execution_count": null,
      "metadata": {},
      "outputs": [],
      "source": [
        "model_data <- merged_data %>%\n",
        "                select(size, prpsqm, age, dist_metro, num_dep)%>%\n",
        "                mutate(num_dep = as_factor(num_dep))%>%    # so that R understand that this is a categorical variable\n",
        "                st_drop_geometry()\n",
        "str(model_data)"
      ],
      "id": "24066c6f-b898-4c5d-9def-3acd66071314"
    },
    {
      "cell_type": "markdown",
      "metadata": {},
      "source": [
        "### Results and Analysis\n",
        "\n",
        "Now, we’re ready to run our hedonic pricing model. Let’s do that using\n",
        "`lm()`. R will automatically create dummy variables for each district."
      ],
      "id": "bcb0e7b2-b633-41f6-a557-ee75b25abe5f"
    },
    {
      "cell_type": "code",
      "execution_count": null,
      "metadata": {},
      "outputs": [],
      "source": [
        "model1 <- lm(prpsqm ~ size + age + dist_metro + num_dep, data = model_data)\n",
        "coeftest(model1, vcov = vcovHC)"
      ],
      "id": "cd3ed5e4-1378-4c0b-99bc-31ab533c977a"
    },
    {
      "cell_type": "markdown",
      "metadata": {},
      "source": [
        "The most significant factor contributing to the price of an apartment in\n",
        "Athens appears to be district location. Although age and distance to\n",
        "metro are statistically significant, their effects are quite small (as\n",
        "long as the property is not *super* old or *super* far from the closest\n",
        "metro). However, we do see a wide range of effects for district\n",
        "locations. Once we control for size, age, and distance from metro, the\n",
        "mere fact of being in district 4 decreases the price per square meter by\n",
        "over 1,000 euros! Maybe it’s the lack of greenspace that we have noted\n",
        "earlier…\n",
        "\n",
        "Our model breaks down the price of an apartment as follows:\n",
        "\n",
        "$$\n",
        "P_{i} = 2352 + 4.3 Size_{i} -20 Age_{i} -0.1 Dist_{i} + \\sum_{i=2}^{7} \\gamma_{i} D_{i} + e\n",
        "$$\n",
        "\n",
        "In which the added effects for the dummies are:\n",
        "\n",
        "-   District 2: $-334$ euros\n",
        "-   District 3: $-490$ euros\n",
        "-   District 4: $-1031$ euros\n",
        "-   District 5: $-822$ euros\n",
        "-   District 6: $-918$ euros\n",
        "-   District 7: $-653$ euros\n",
        "\n",
        "District 1 is the base case (i.e., when all dummies equal zero), and is\n",
        "the most accretive location to the price of a property. That makes\n",
        "sense, since District 1 is the historic center of Athens.\n",
        "\n",
        "Now, let’s look at how well our model actually predicts the price per\n",
        "square meter of properties. This can shed light on the appropriateness\n",
        "of using hedonic pricing strategies for properties in Athens."
      ],
      "id": "6bc8a184-491c-4caa-a26d-fd9b37be83f5"
    },
    {
      "cell_type": "code",
      "execution_count": null,
      "metadata": {},
      "outputs": [],
      "source": [
        "summary(model1)$adj.r.squared"
      ],
      "id": "0ff79f34-17c8-495b-9b33-b223c902bab0"
    },
    {
      "cell_type": "markdown",
      "metadata": {},
      "source": [
        "Our adjusted $R^2$ says that our model only explains ~35% of the\n",
        "variation in the price of properties in Athens. The cause of low\n",
        "predictive power could be an error of methodology (prices of properties\n",
        "in Athens might not be the sum of their component parts!), or a missing\n",
        "variable problem.\n",
        "\n",
        "> **Think Deeper**: what component parts of properties might we be\n",
        "> missing in our hedonic pricing model?"
      ],
      "id": "b679c405-a7b2-4dc3-99b1-0182cd70a4db"
    }
  ],
  "nbformat": 4,
  "nbformat_minor": 5,
  "metadata": {
    "kernelspec": {
      "name": "ir",
      "display_name": "R",
      "language": "r"
    }
  }
}