{
  "cells": [
    {
      "cell_type": "markdown",
      "metadata": {},
      "source": [
        "# 3.10.2 - Advanced - Geospatial Analysis\n",
        "\n",
        "## Outline\n",
        "\n",
        "### Prerequisites\n",
        "\n",
        "-   Geospatial Analysis 1\n",
        "-   Intermediate R skills\n",
        "-   Theoretical understanding of multiple regression\n",
        "-   Basic geometry\n",
        "\n",
        "### Outcomes\n",
        "\n",
        "After completing this notebook, you will be able to:\n",
        "\n",
        "-   Manipulate geospatial objects in R using the `sf` package.\n",
        "-   Perform geospatial operations on real world data.\n",
        "-   Use the `sf` package to read in shapefile data from online sources.\n",
        "-   Calculate distances using geospatial operations.\n",
        "-   Understand applications of geospatial analysis in the context of\n",
        "    economic research.\n",
        "\n",
        "### References\n",
        "\n",
        "-   [Geocomputation with R](https://r.geocompx.org/intro)\n",
        "-   Disdier, Anne-Célia, and Keith Head. “The Puzzling Persistence of\n",
        "    the Distance Effect on Bilateral Trade.” The Review of Economics and\n",
        "    Statistics, 2008.\n",
        "-   Pebesma, E., & Bivand, R. (2023). [Spatial Data Science: With\n",
        "    Applications in R.](https://r-spatial.org/book/)\n",
        "-   Tinbergen, J. (1962) Shaping the World Economy: Suggestions for an\n",
        "    International Economic Policy. The Twentieth Century Fund, New York.\n",
        "-   \n",
        "\n",
        "## Introduction\n",
        "\n",
        "In this notebook, we’ll continue our discussion of geospatial analysis\n",
        "with vector data. We’ll use trade data and shapefiles from Statistics\n",
        "Canada for our examples."
      ],
      "id": "4fca73d7-8f9b-4ff6-9df1-a92ab8b1ccf0"
    },
    {
      "cell_type": "code",
      "execution_count": null,
      "metadata": {},
      "outputs": [],
      "source": [
        "# load packages\n",
        "library(tidyverse)\n",
        "library(ggplot2)\n",
        "library(sandwich)\n",
        "library(lmtest)\n",
        "library(sf)\n",
        "library(spData)\n",
        "library(rmapshaper)\n",
        "library(crsuggest)"
      ],
      "id": "88027f2b-5479-4540-9123-d17a24e6d229"
    },
    {
      "cell_type": "markdown",
      "metadata": {},
      "source": [
        "## Part 1: Understanding Geospatial Data\n",
        "\n",
        "> **Note**: geospatial files tend to be quite large and we use `for`\n",
        "> loops in this notebook. It is possible that the code takes a while to\n",
        "> run successfully.\n",
        "\n",
        "### File types and sizes\n",
        "\n",
        "In the previous notebook, we only worked with user-generated data and\n",
        "with datasets embedded in the package `spData`. It’s likely that for\n",
        "your applications, you’ll have to work with external geospatial files.\n",
        "\n",
        "The most common of geospatial file type is the **ESRI Shapefile** for\n",
        "vector data. This file has the extension `.shp` and typically comes in a\n",
        "zipped folder with at least three associated files. The `sf` function to\n",
        "read shapefiles is `read_sf(\"filename.shp\")`. There are many places to\n",
        "find shapefiles online. Some good places to look include\n",
        "[Geocommons](http://geocommons.com/), [Natural\n",
        "Earth](https://www.naturalearthdata.com/), and [Living\n",
        "Atlas](https://livingatlas.arcgis.com/en/browse/#d=2).\n",
        "\n",
        "Other common file types for vector data include:\n",
        "\n",
        "-   GeoJSON (`.geojson`): extension of JSON file, mostly used for\n",
        "    storing latitude and longitude coordinates.\n",
        "-   ESRI FileGDB (`.gdb`): stores objects created by ArcGIS (a popular\n",
        "    software for geospatial analysis.\n",
        "-   GeoPackage (`.gpkg`): lightweight, platform-independent, and compact\n",
        "    format.\n",
        "\n",
        "It’s important to keep in mind that these files come in varying forms\n",
        "and sizes. It’s very common for shapefiles to be extremely detailed and\n",
        "highly-defined, which can exponentially increase the file size and\n",
        "runtime of your analysis. The function `ms_simplify()` from the package\n",
        "`rmapshaper` simplifies shapefiles by reducing the number of vertices of\n",
        "the spatial objects while maintaining the integrity of the shapes.\n",
        "\n",
        "Let’s read a shapefile of Canadian provinces and plot them on a map with\n",
        "the attribute `province`."
      ],
      "id": "8b0fb904-f4dd-41e5-aad6-eefc9feda0c6"
    },
    {
      "cell_type": "code",
      "execution_count": null,
      "metadata": {},
      "outputs": [],
      "source": [
        "shape <- read_sf(\"advanced_geospatial_datasets/advanced_geospatial_datasets.shp\")\n",
        "\n",
        "shape_plot <- plot(shape[\"province\"])"
      ],
      "id": "bb62b37e-8d27-494a-84ee-b3736ccea3a4"
    },
    {
      "cell_type": "markdown",
      "metadata": {},
      "source": [
        "Zoom in on the province boundaries and look at how detailed they are.\n",
        "We’re likely not going to need this level of detail for our analysis, so\n",
        "let’s simplify the file to avoid large runtimes. We’ll do so by using\n",
        "the function `ms_simplify()` to reduce the number of vertices to 1% of\n",
        "our current number."
      ],
      "id": "597b1bd1-42c5-4e9d-9628-49f35ed75a5f"
    },
    {
      "cell_type": "code",
      "execution_count": null,
      "metadata": {},
      "outputs": [],
      "source": [
        "# run the code below to learn more about the function ms_simplify()\n",
        "# ?ms_simplify"
      ],
      "id": "d81f340e-2efe-4cb5-b8d5-d7ac5bd95eee"
    },
    {
      "cell_type": "code",
      "execution_count": null,
      "metadata": {},
      "outputs": [],
      "source": [
        "# keep parameter indicates % of vertices to keep\n",
        "canada_shape <- ms_simplify(shape, keep = 0.01, keep_shapes = TRUE)"
      ],
      "id": "7208e03c-bf2b-4710-8c3f-06a42986e732"
    },
    {
      "cell_type": "code",
      "execution_count": null,
      "metadata": {},
      "outputs": [],
      "source": [
        "plot(canada_shape[\"province\"])"
      ],
      "id": "8f70f584-27e2-4cc3-a79c-87e66e9dbe71"
    },
    {
      "cell_type": "markdown",
      "metadata": {},
      "source": [
        "Note how now we have simplified the boundaries of the provinces. We can\n",
        "use the function `object.size()` to compare how much memory we’re saving\n",
        "by using our `canada_shape` instead of the large `shape` object."
      ],
      "id": "01bd5189-8f1e-42b7-84b7-03a1eea6cddf"
    },
    {
      "cell_type": "code",
      "execution_count": null,
      "metadata": {},
      "outputs": [],
      "source": [
        "object.size(canada_shape)\n",
        "object.size(shape)"
      ],
      "id": "016a224d-af06-444e-bee8-a20f6289d8f9"
    },
    {
      "cell_type": "markdown",
      "metadata": {},
      "source": [
        "> **Note**: the object `shape` was already a simplified version of the\n",
        "> high-definition shapefiles on the Statistics Canada website.\n",
        "> Performing basic geospatial operations on those files could take\n",
        "> multiple *minutes*!\n",
        "\n",
        "### Choosing an appropriate CRS\n",
        "\n",
        "As explained in our previous notebook, a CRS is the grid of reference\n",
        "for our geographic objects. These grids can be either **geographic**,\n",
        "coded in spherical longitude and latitude coordinates, or **projected**,\n",
        "coded in planar (x,y) coordinates.\n",
        "\n",
        "The manner in which we identify the CRS is through a parameter of the\n",
        "form `AUTHORITY:CODE`. In the previous notebook, we used the identifier\n",
        "`EPSG:4326` to refer our geometric objects to the CRS WGS84, which is\n",
        "the most popular geographic CRS worldwide. When choosing a geographic\n",
        "CRS, you typically cannot go wrong with WGS84.\n",
        "\n",
        "Choosing a projected CRS is often a tricky task - it depends on how you\n",
        "plan on using it. When projecting a geographic CRS, there will\n",
        "unavoidably be distortions to either the distances or the areas of the\n",
        "projected objects. The most common types of projections include:\n",
        "\n",
        "-   **Lambert azimuthal equal-area (LAEA) projections**: preserve\n",
        "    equal-area at all locations but distorts shapes beyond thousands of\n",
        "    kilometers.\n",
        "-   **Azimuthal equidistant (AEQD) projections**: maintain accurate\n",
        "    straight-line distance between a point and the center point of the\n",
        "    projection.\n",
        "-   **Lambert conformal conic (LCC) projections**: the cone is set to\n",
        "    keep distance and area properties reasonable, which is useful for\n",
        "    regions covering thousands of kilometers.\n",
        "-   **Stereographic (STERE) projections**: projections for polar\n",
        "    regions, but with distortions on areas and distances thousands of\n",
        "    kilometers from the center.\n",
        "\n",
        "The package `crsuggest` has a function `suggest_crs()`, which takes a\n",
        "spatial object with a geographic CRS and returns a list of possible\n",
        "projected CRS’s that could be used for the given object.\n",
        "\n",
        "We can use the function `st_crs()` to find out the CRS of our objects\n",
        "and `st_transform()` to change the CRS of the object."
      ],
      "id": "23ac79b7-5bdd-4bda-9f1d-22d80de60efb"
    },
    {
      "cell_type": "code",
      "execution_count": null,
      "metadata": {},
      "outputs": [],
      "source": [
        "# run the cell to get information from the CRS\n",
        "print(st_crs(canada_shape))\n",
        "st_crs(canada_shape)$IsGeographic\n",
        "st_crs(canada_shape)$units_gdal"
      ],
      "id": "39c2a588-6c1b-4669-97e7-ee48b918aab3"
    },
    {
      "cell_type": "markdown",
      "metadata": {},
      "source": [
        "From the output above we can see that `canada_shape` is in a geographic\n",
        "CRS called NAD83. This geographic CRS is customized to North America and\n",
        "has an `AUTHORITY:CODE` of `EPSG:4269`.\n",
        "\n",
        "### Using S2 for operations in spherical coordinates\n",
        "\n",
        "Now that we’ve looking in more detail at CRS’s, it’s time to introduce\n",
        "`S2`. `S2` is a dependency of the `sf` package and is used for geometric\n",
        "operations on spherical coordinates (i.e., when the CRS is in longitude\n",
        "and latitude coordinates). `S2` setups are especially important when\n",
        "calculating distances or setting buffers around objects.\n",
        "\n",
        "This is better illustrated with an example. Let’s suppose we want to\n",
        "draw a buffer of distance 10 meters around the province of Alberta.\n",
        "Let’s perform this operation on our `canada_shape` dataset, first with\n",
        "`S2` turned on and then with `S2` turned off."
      ],
      "id": "8dfb7a53-707c-4109-a713-c9e1ce897421"
    },
    {
      "cell_type": "code",
      "execution_count": null,
      "metadata": {},
      "outputs": [],
      "source": [
        "# turn on `S2`\n",
        "sf_use_s2(TRUE)\n",
        "\n",
        "# define Alberta\n",
        "alberta <- canada_shape[canada_shape$province == \"Alberta\", ]\n",
        "\n",
        "plot(st_buffer(alberta, dist = 10))"
      ],
      "id": "62ee06fd-604e-4327-b77c-17d60f11012b"
    },
    {
      "cell_type": "code",
      "execution_count": null,
      "metadata": {},
      "outputs": [],
      "source": [
        "# turn off `S2`\n",
        "sf_use_s2(FALSE)\n",
        "\n",
        "# define Alberta\n",
        "alberta <- canada_shape[canada_shape$province == \"Alberta\", ]\n",
        "\n",
        "plot(st_buffer(alberta, dist = 10))"
      ],
      "id": "2d4d1f3e-07df-4313-86e6-6e28c565816d"
    },
    {
      "cell_type": "markdown",
      "metadata": {},
      "source": [
        "Notice the difference? That happens because when `S2` is turned off, the\n",
        "operation is performed in *degrees* and not in meters. Since the length\n",
        "of degrees change according to the longitude and latitude of the object,\n",
        "the buffers won’t be equidistant to the borders.\n",
        "\n",
        "Now, let’s try to calculate the distance between Alberta and Ontario\n",
        "with `S2` turned on and off."
      ],
      "id": "c808416a-904c-4fb2-a1dd-b43ac4016a9b"
    },
    {
      "cell_type": "code",
      "execution_count": null,
      "metadata": {},
      "outputs": [],
      "source": [
        "# turn on `S2`\n",
        "sf_use_s2(TRUE)\n",
        "\n",
        "# calculate distance\n",
        "alberta <- canada_shape[canada_shape$province == \"Alberta\", ]\n",
        "ontario <- canada_shape[canada_shape$province == \"Ontario\", ]\n",
        "\n",
        "st_distance(alberta, ontario)"
      ],
      "id": "27198ce6-ea77-40e8-b853-13bd31cff230"
    },
    {
      "cell_type": "code",
      "execution_count": null,
      "metadata": {},
      "outputs": [],
      "source": [
        "# turn off `S2`\n",
        "sf_use_s2(FALSE)\n",
        "\n",
        "# calculate distance\n",
        "alberta <- canada_shape[canada_shape$province == \"Alberta\", ]\n",
        "ontario <- canada_shape[canada_shape$province == \"Ontario\", ]\n",
        "\n",
        "st_distance(alberta, ontario)"
      ],
      "id": "37135609-1e3e-432e-a45c-f61659483c00"
    },
    {
      "cell_type": "markdown",
      "metadata": {},
      "source": [
        "Notice that when `S2` is turned off, we get a very different number. The\n",
        "main takeaway is that we should use `S2` when applying geospatial\n",
        "operations to objects with geographic coordinates.\n",
        "\n",
        "The diagram below shows how R uses `S2` for geometric operations.\n",
        "\n",
        "<figure>\n",
        "<img src=\"attachment:media/s2_operations_diagram.png\"\n",
        "alt=\"Lovelace, Robin and Nowosad, Jakub and Muenchow, Jannes, (2019). Geocomputation with R.\" />\n",
        "<figcaption aria-hidden=\"true\">Lovelace, Robin and Nowosad, Jakub and\n",
        "Muenchow, Jannes, (2019). Geocomputation with R.</figcaption>\n",
        "</figure>\n",
        "\n",
        "Let’t turn `S2` back on for the remainder of our analysis."
      ],
      "attachments": {
        "media/s2_operations_diagram.png": {
          "image/png": "[encoded data removed]"
        }
      },
      "id": "acba8bb7-444a-4385-ab60-74761f7097f8"
    },
    {
      "cell_type": "code",
      "execution_count": null,
      "metadata": {},
      "outputs": [],
      "source": [
        "sf_use_s2(TRUE)"
      ],
      "id": "b395f2f4-0fed-4d1e-a7f9-8b4dcbcc7c56"
    },
    {
      "cell_type": "markdown",
      "metadata": {},
      "source": [
        "## Part 2: Gravity Equation of Trade\n",
        "\n",
        "### Theory\n",
        "\n",
        "In the 1660’s, Isaac Newton formalized the law of gravity: particles\n",
        "attract each other with a force that is proportional to the product of\n",
        "their masses and inversely proportional to the square of their distance.\n",
        "In 1962, Dutch economist Jan Tinberg adapted the law of gravity to\n",
        "international trade. Tinberg (1962) proposed that the aggregate trade\n",
        "flows between any two countries is “proportional to the gross national\n",
        "products of those countries and inversely proportional to the distance\n",
        "between them.” Mathematically, that means\n",
        "\n",
        "$$\n",
        "Trade = G \\frac{Mass_{1}^\\alpha Mass_{2}^\\beta}{Distance^\\theta}\n",
        "$$\n",
        "\n",
        "Since then, there have been numerous attempts to estimate the effects of\n",
        "both economic mass and distance on trade flows empirically. By taking\n",
        "logs of both sides of the equation, we can show that the gravity\n",
        "equation translates to\n",
        "\n",
        "$$\n",
        "log(Trade) = log(G) + \\alpha log(Mass_{1}) + \\beta log(Mass_{2}) - \\theta log(Distance)\n",
        "$$\n",
        "\n",
        "In this section, we’ll try to estimate the effect of distance on trade\n",
        "flows using data from Canadian provinces and US states.\n",
        "\n",
        "### Empirical Methods\n",
        "\n",
        "Empirically, we can estimate the effect of distance on trade with an\n",
        "adaptation of the model above. For a Canadian province $i$ and a US\n",
        "state $j$:\n",
        "\n",
        "$$\n",
        "log(T_{ij}) = \\beta_{0} + \\beta_{1} log(Y_{j}) - \\beta_{2} log(X_{ij}) + \\sum_{i=2}^{13} \\gamma_{i} D_{i} + \\epsilon\n",
        "$$\n",
        "\n",
        "where\n",
        "\n",
        "-   $T_{ij}$ is total merchandise volume between province $i$ and state\n",
        "    $j$\n",
        "-   $Y_{j}$ is the GDP of state $j$\n",
        "-   $X_{ij}$ is the distance between province $i$ and state $j$\n",
        "-   $D_{i}$ is a dummy for province $i$\n",
        "\n",
        "This specification is similar to the traditional gravity equation; by\n",
        "controlling for provinces with dummy variables, we implicitly control\n",
        "for the economic masses of those provinces.\n",
        "\n",
        "The effect of interest is the coefficient on distance, $\\beta_{2}$,\n",
        "which can be interpreted as trade elasticity: the percentage change in\n",
        "total merchandise volume from a 1% change in distance.\n",
        "\n",
        "### Data Cleaning and Wrangling\n",
        "\n",
        "We have three datasets for this analysis: `canada_shape`, `us_states`,\n",
        "and `trade_data`. The first 2 datasets contain the shapefiles of\n",
        "Canadian provinces and US states, and the last file contains trade data\n",
        "from Statistics Canada. Let’s load our datasets."
      ],
      "id": "fc6ab765-f331-4843-b112-d62984b853f3"
    },
    {
      "cell_type": "code",
      "execution_count": null,
      "metadata": {},
      "outputs": [],
      "source": [
        "# load trade data\n",
        "trade_data <- read_csv(\"advanced_geospatial_datasets/trade_data.csv\")\n",
        "head(trade_data)\n",
        "\n",
        "# view canada_shape (we've loaded it in the previous section)\n",
        "head(canada_shape)\n",
        "\n",
        "# view us_states (comes with spData package)\n",
        "head(us_states)"
      ],
      "id": "2bf3f251-4890-4f06-934d-f9f8718442d3"
    },
    {
      "cell_type": "markdown",
      "metadata": {},
      "source": [
        "By looking at the “trade_data” dataset, we see that:\n",
        "\n",
        "-   We already have data on total merchandise volume\n",
        "    (`tmerch_value_usd`) between provinces and states\n",
        "-   We already have data on the GDP of US states (`gdp`)\n",
        "-   We can easily create dummies for each Canadian province with the\n",
        "    column `province`\n",
        "\n",
        "Therefore, the only variable missing for our specification is the\n",
        "distance between each province-state pair. We can use our shapefiles to\n",
        "calculate the distance between provinces and states with the function\n",
        "`st_distance` from the `sf` package.\n",
        "\n",
        "We want a dataset with the following structure:\n",
        "\n",
        "| Province | State | Total Merchandise Volume (USD) | State GDP (USD) | Distance (Km) |\n",
        "|---------------|:-------------|------------------:|:------------:|:----------:|\n",
        "| Alberta | Alabama | USD | USD | Km |\n",
        "| Alberta | Arkansas | USD | USD | Km |\n",
        "| Alberta | Arizona | USD | USD | Km |\n",
        "\n",
        "The easiest way to do this is by creating an `sf` object with the\n",
        "distance values, and then merging it with `trade_data` using the fields\n",
        "`province` and `state`.\n",
        "\n",
        "Before we do that, let’s take a look at the CRS of our shapefiles."
      ],
      "id": "63c2ec8f-7b3e-45b4-a879-2d2bc15fd68a"
    },
    {
      "cell_type": "code",
      "execution_count": null,
      "metadata": {},
      "outputs": [],
      "source": [
        "# look at CRS details\n",
        "st_crs(canada_shape)$WktPretty #WktPretty makes it easier to see the CRS parameters\n",
        "st_crs(us_states)$WktPretty"
      ],
      "id": "a821c2be-4ffb-4d6b-bc11-f245fbffe6a0"
    },
    {
      "cell_type": "markdown",
      "metadata": {},
      "source": [
        "Our objects reference the same CRS - the geographic NAD83 CRS. We could\n",
        "just go ahead and calculate the distance between our objects (as long as\n",
        "our `S2` is turned on!); however, for learning purposes, let’s take a\n",
        "look at the projected suggestions from the function `suggest_crs()`."
      ],
      "id": "5efa41ee-70ef-46ed-92ae-ab6cff24477a"
    },
    {
      "cell_type": "code",
      "execution_count": null,
      "metadata": {},
      "outputs": [],
      "source": [
        "# find list of suggested CRS\n",
        "suggest_crs(canada_shape, type = \"projected\", units = \"m\") #note that the units must be in metres instead of km\n",
        "suggest_crs(us_states, type = \"projected\", units = \"m\")"
      ],
      "id": "3721aa95-fd46-405f-9c62-4ae4651c8fc6"
    },
    {
      "cell_type": "markdown",
      "metadata": {},
      "source": [
        "This is quite an extensive list of candidates for our projected CRS. As\n",
        "you can see, the suggested CRS are very specific to the center of the\n",
        "geographic CRS - most of the suggested CRSs for Canada are artic/polar,\n",
        "while for the US they are based in Minnesota. Since our datasets are\n",
        "already in the same CRS, let’s stick with that."
      ],
      "id": "437ab674-fe20-4abd-9087-8e089ed4c336"
    },
    {
      "cell_type": "code",
      "execution_count": null,
      "metadata": {},
      "outputs": [],
      "source": [
        "# selecting the columns we'll need from `us_states`\n",
        "us_shape <- us_states %>%\n",
        "            select(state = NAME, geometry) "
      ],
      "id": "8eb44f4d-5d94-4f57-aad2-72a94bc5b5b8"
    },
    {
      "cell_type": "markdown",
      "metadata": {},
      "source": [
        "Let’s plot our shape files on a map and then turn to merging our\n",
        "datasets."
      ],
      "id": "82007ec3-2ec7-4bef-8612-60c46fa1200e"
    },
    {
      "cell_type": "code",
      "execution_count": null,
      "metadata": {},
      "outputs": [],
      "source": [
        "plot(canada_shape[\"province\"], reset = FALSE)\n",
        "plot(us_shape[\"state\"], add = TRUE)"
      ],
      "id": "03f8fb23-65fd-41c7-8866-0d5b04f42b6b"
    },
    {
      "cell_type": "markdown",
      "metadata": {},
      "source": [
        "### Creating our `sf` Object for the Distances\n",
        "\n",
        "Since our shapefiles are in two separate files, the approach we’re going\n",
        "to take is:\n",
        "\n",
        "1.  Create a vector with the labels `province` and `state`\n",
        "2.  Create a vector with the `distance` between each province-state pair\n",
        "3.  Merge those vectors together in a dataframe\n",
        "4.  Inner join the dataframe with the `trade_data` file\n",
        "\n",
        "By approaching the data wrangling step-by-step, we can see exactly what\n",
        "is going on and can check our work each step of the way. This is often\n",
        "preferred when working with multiple datasets and merging through\n",
        "variables that are not factors (we have to merge datasets through\n",
        "province-state names!).\n",
        "\n",
        "Let’s start with Step (1). We’ll create nested `for` loops, indexing\n",
        "provinces with `i` and states with `j`. Follow the comments of the code."
      ],
      "id": "5a377a02-3944-48ee-93fe-3400ac1f6dfd"
    },
    {
      "cell_type": "code",
      "execution_count": null,
      "metadata": {},
      "outputs": [],
      "source": [
        "province_num <- nrow(canada_shape)    # each entry of `canada_shape` is a province\n",
        "states_num <- nrow(us_shape)    # each entry of `us_shape` is a state\n",
        "\n",
        "prov_state_vec <- c()    # create a placeholder vector that will contain the `province - state` pairs\n",
        "for (i in 1:province_num){    # start the loop with a province i, from a set of 1 to `province_num` provinces\n",
        "    prov_i <- canada_shape$province[i]    # select province name indexed by i\n",
        "\n",
        "    for (j in 1:states_num){    # for the selected province i, loop through the states, indexed by j\n",
        "        state_j <- us_shape$state[j]    # select state name indexed by j\n",
        "        prov_state_pair <- paste(prov_i, \"-\", state_j)    # paste prov i and state j as a string separated by a dash\n",
        "        prov_state_vec <- append(prov_state_vec, prov_state_pair)    # append the `province-state` pair \"i - j\" to the placeholder vector\n",
        "    }    # close state loop for state j and repeat process for state j + 1 \n",
        "}    # close province loop for province i and repeat process for province i + 1\n",
        "head(prov_state_vec)"
      ],
      "id": "7adf4115-2315-4b8e-95a7-178c19226830"
    },
    {
      "cell_type": "markdown",
      "metadata": {},
      "source": [
        "Let’s check if our loop worked as intended. We have 13 provinces and 49\n",
        "states, so we should have a total of $(13)(49) = 637$ province-state\n",
        "pairs.\n",
        "\n",
        "> **Note**: you can check the number of provinces and states by running\n",
        "> `nrow(canada_shape)` and `nrow(us_shape)`. We’re missing Hawaii and\n",
        "> Alaska, and we’re counting the District of Columbia as a state."
      ],
      "id": "755c7413-5e40-478c-9090-911f4f1aaf72"
    },
    {
      "cell_type": "code",
      "execution_count": null,
      "metadata": {},
      "outputs": [],
      "source": [
        "length(prov_state_vec)"
      ],
      "id": "f27157ac-4f6c-408e-8c38-0158cacccd44"
    },
    {
      "cell_type": "markdown",
      "metadata": {},
      "source": [
        "It looks like it worked! Now to Step 2. We repeat the same process, but\n",
        "instead of pasting strings, we calculate the distance between province\n",
        "`i` and state `j`. As noted earlier, our projected CRS is in meters, so\n",
        "those are the units of our distances.\n",
        "\n",
        "> **Note**: this operation might take a while to run."
      ],
      "id": "2ab90525-49e2-4674-8c16-bf2034348c29"
    },
    {
      "cell_type": "code",
      "execution_count": null,
      "metadata": {},
      "outputs": [],
      "source": [
        "province_num <- nrow(canada_shape)\n",
        "states_num <- nrow(us_shape)\n",
        "\n",
        "distance_vec <- c()\n",
        "for (i in 1:province_num){\n",
        "    geo_prov_i <- st_make_valid(canada_shape$geometry[i])    # retrieve province geometry and adjust polygons with multiple vertices\n",
        "\n",
        "    for (j in 1:states_num) {\n",
        "        geo_state_j <- st_make_valid(us_shape$geometry[j])    # retrieve state geometry and adjust polygons with multiple vertices\n",
        "        distance <- as.double(st_distance(geo_prov_i, geo_state_j))    # calculate distance in meters\n",
        "        distance_vec <- append(distance_vec, distance)\n",
        "   }\n",
        "   \n",
        "}\n",
        "head(distance_vec)"
      ],
      "id": "2e47ae78-deb6-4631-b8db-03646872398c"
    },
    {
      "cell_type": "markdown",
      "metadata": {},
      "source": [
        "Do you see the distances? For Step 3, let’s merge both vectors into a\n",
        "dataframe with `cbind`, and then separate the state and province match\n",
        "into 2 columns with `separate_wider_delim`."
      ],
      "id": "362b92c7-882a-45f6-8117-1e69a7d28ca6"
    },
    {
      "cell_type": "code",
      "execution_count": null,
      "metadata": {},
      "outputs": [],
      "source": [
        "# merging distance files\n",
        "distance_data <- as.data.frame(cbind(prov_state_vec, distance_vec)) %>%\n",
        "                separate_wider_delim(prov_state_vec, names = c(\"province\", \"state\"), delim = \"-\") %>%\n",
        "                mutate(province = trimws(province), state = trimws(state), distance_m = as.numeric(distance_vec)) %>%    # trimming white-space\n",
        "                select(-distance_vec)\n",
        "head(distance_data)"
      ],
      "id": "fc594098-8325-4f1e-9f82-4b7d207b85c6"
    },
    {
      "cell_type": "markdown",
      "metadata": {},
      "source": [
        "> **Note**: The reason we are able to use `cbind()` to merge the two\n",
        "> dataframes without a unique identifier is because they are ordered\n",
        "> exactly the same. Our two `for` loops create pairs in an identical\n",
        "> manner, so the distance pairs will ordered the same as our\n",
        "> province-state pairs. We would not be able to do this is if they were\n",
        "> ordered differently!\n",
        "\n",
        "As a sanity check, let’s calculate the number of pairs per province\n",
        "(each province should be paired with exactly 49 states) and confirm that\n",
        "provinces and states that border each other have distance equal zero."
      ],
      "id": "650d3443-620b-441a-a770-d4ac94e5aadc"
    },
    {
      "cell_type": "code",
      "execution_count": null,
      "metadata": {},
      "outputs": [],
      "source": [
        "# group observations by `province` and calculate number of observations per province\n",
        "number_pairs <- distance_data %>%\n",
        "                group_by(province) %>%\n",
        "                summarize(n = n())\n",
        "number_pairs"
      ],
      "id": "0ef2f767-4ce7-4ce0-92a8-789740cf1ef4"
    },
    {
      "cell_type": "code",
      "execution_count": null,
      "metadata": {},
      "outputs": [],
      "source": [
        "# find border countries for distance in meters equal zero\n",
        "border_pairs <- distance_data %>%\n",
        "                filter(distance_m == 0)\n",
        "print(border_pairs)"
      ],
      "id": "2d1ce230-615e-4026-a53b-3dbf2371191f"
    },
    {
      "cell_type": "markdown",
      "metadata": {},
      "source": [
        "We only get 8 borders! That’s clearly not accurate.\n",
        "\n",
        "What’s going on here is that whenever dealing with geospatial data,\n",
        "we’re always working with approximations of actual physical objects, so\n",
        "the data is bound to have minor errors - it’s very hard to code physical\n",
        "elements into just a few data points! Let’s add a tolerance of 100m to\n",
        "our definition of border.\n",
        "\n",
        "> **Think Deeper**: how would you choose a reasonable tolerance for\n",
        "> distance calculations?"
      ],
      "id": "cf04c571-4a79-4d32-afe2-3a939e03c962"
    },
    {
      "cell_type": "code",
      "execution_count": null,
      "metadata": {},
      "outputs": [],
      "source": [
        "# find border countries for distance in meters equal zero\n",
        "border_pairs <- distance_data %>%\n",
        "                filter(distance_m < 100)\n",
        "print(border_pairs)"
      ],
      "id": "0f7b7076-5044-4eab-9f37-7c8df5272380"
    },
    {
      "cell_type": "markdown",
      "metadata": {},
      "source": [
        "Much better, but we’re still missing 2 border pairs - Ontario and\n",
        "Michigan and British Columbia and Idaho. Let’s check their distances."
      ],
      "id": "058efb66-282d-4791-9a11-7ee2f5d108f2"
    },
    {
      "cell_type": "code",
      "execution_count": null,
      "metadata": {},
      "outputs": [],
      "source": [
        "missing_pairs <- distance_data %>%\n",
        "                        filter(province %in% c(\"Ontario\", \"British Columbia\"), state %in% c(\"Michigan\", \"Idaho\"))\n",
        "missing_pairs"
      ],
      "id": "cf092776-c230-416a-8502-9086f19d858f"
    },
    {
      "cell_type": "markdown",
      "metadata": {},
      "source": [
        "Our data says that those border pairs are a few kilometers apart. What\n",
        "happened here is that when we calculated the distance, we adjusted the\n",
        "borders of the `multipolygon` shapes to avoid duplicate edges with the\n",
        "function `st_make_valid()`. This affected the Ontario and British\n",
        "Columbia borders with some US states. Since this affects the distances\n",
        "in a similar manner, it likely doesn’t pose major issues to our\n",
        "analysis. Let’s proceed to Step 4."
      ],
      "id": "22bf1113-d1e8-42b5-9032-3462ed490e9d"
    },
    {
      "cell_type": "code",
      "execution_count": null,
      "metadata": {},
      "outputs": [],
      "source": [
        "# merge our `trade_data` with our `distance_data`\n",
        "geo_data <- merge(trade_data, distance_data, by = c(\"province\", \"state\"))%>%    # inner-join based on `province` and `state`\n",
        "                mutate(dist_km = if_else(distance_m < 1000, 1, distance_m/1000),   # setting borders to 1 km distance to avoid log zeros\n",
        "                       tmerch_mi = tmerch_value_usd/1000000,\n",
        "                       state_gdp_mi = gdp)%>%\n",
        "                select(province, state, dist_km, state_gdp_mi, tmerch_mi)%>%\n",
        "                filter(!is.na(dist_km), !is.na(tmerch_mi), !is.na(state_gdp_mi))    # remove pairs with no trade flows\n",
        "head(geo_data)"
      ],
      "id": "ad0151c3-7f23-4141-a85b-14e8aac174ad"
    },
    {
      "cell_type": "markdown",
      "metadata": {},
      "source": [
        "Great! We finally compiled our data. Let’s look at how many pairs we\n",
        "have."
      ],
      "id": "289eb9f9-c217-450d-9529-2764993c6e3a"
    },
    {
      "cell_type": "code",
      "execution_count": null,
      "metadata": {},
      "outputs": [],
      "source": [
        "# group observations by `province` and calculate number of observations per province\n",
        "number_pairs_final <- geo_data %>%\n",
        "                group_by(province) %>%\n",
        "                summarize(n = n())\n",
        "number_pairs_final"
      ],
      "id": "51fd8986-865f-4836-b770-728532239f09"
    },
    {
      "cell_type": "markdown",
      "metadata": {},
      "source": [
        "It looks like there are a few province-country pairs with few trade\n",
        "flows. Let’s filter out provinces that don’t trade with all 49 US\n",
        "states."
      ],
      "id": "c71a5c31-961a-4dde-8609-383568ba70d2"
    },
    {
      "cell_type": "code",
      "execution_count": null,
      "metadata": {},
      "outputs": [],
      "source": [
        "# filter data\n",
        "model_data <- geo_data %>%\n",
        "              group_by(province) %>%\n",
        "              mutate(n = n()) %>%\n",
        "              filter(n == 49) %>%\n",
        "              select(-n)%>%\n",
        "              ungroup()\n",
        "\n",
        "nrow(model_data)"
      ],
      "id": "4af023d9-3bc2-4f3a-955e-2960af9bce93"
    },
    {
      "cell_type": "markdown",
      "metadata": {},
      "source": [
        "> **Think Deeper**: how would *not* removing those pairs affect the\n",
        "> results of our regression? Instead of filtering our dataset, what else\n",
        "> could we do to solve this issue?\n",
        "\n",
        "### Exploring our Data\n",
        "\n",
        "Now that we have our data, let’s plot a scatterplot to visualize our\n",
        "relationships. Let’s filter the data to only British Columbia pairs and\n",
        "plot the `distance` between the BC-state pairs against the `tmerch_mi`\n",
        "trade between BC-state pairs. Let’s also set the size of each data point\n",
        "to be the GDP of the US states."
      ],
      "id": "2d0c414f-a9ba-4079-ab67-9655aaf484d1"
    },
    {
      "cell_type": "code",
      "execution_count": null,
      "metadata": {},
      "outputs": [],
      "source": [
        "# filter data to BC-state pairs\n",
        "BC_data <- model_data %>%\n",
        "            filter(province == \"British Columbia\")\n",
        "\n",
        "# plot dist_km against log(tmerch_mi) and add a line of best fit\n",
        "ggplot(BC_data, aes(x = dist_km, y = log(tmerch_mi), size = state_gdp_mi)) +\n",
        "            geom_point() +\n",
        "            geom_smooth(method = lm, se = FALSE, linewidth = 1)"
      ],
      "id": "e334d592-cd9b-469f-900a-7becef1adb15"
    },
    {
      "cell_type": "markdown",
      "metadata": {},
      "source": [
        "The line of best fit shows a negative relationship between distance and\n",
        "trade. Also note that the largest data points are above the line: all\n",
        "else equal, higher GDP is associated with higher trade levels.\n",
        "\n",
        "### Running our Model\n",
        "\n",
        "Now, let’s run our model using `lm()`."
      ],
      "id": "9068b249-820c-4e5e-a304-5dc61c4a81b9"
    },
    {
      "cell_type": "code",
      "execution_count": null,
      "metadata": {},
      "outputs": [],
      "source": [
        "model1 <- lm(log(tmerch_mi) ~ log(dist_km) + province + log(state_gdp_mi), data = model_data)\n",
        "coeftest(model1, vcov = vcovHC)"
      ],
      "id": "0c5e3ddf-0e4e-4191-bf22-a8bd1a934d32"
    },
    {
      "cell_type": "markdown",
      "metadata": {},
      "source": [
        "Our regression indicates that a 1% increase in distance is associated\n",
        "with a 0.5% decrease in trade flows. Our parameter is statistically\n",
        "significant at the 1% level. As expected, the state GDP control is also\n",
        "positive and significant.\n",
        "\n",
        "### Discussion\n",
        "\n",
        "Our geospatial analysis suggests that the relationships drawn by Tilberg\n",
        "hold for Canada and the US: distance is inversely proportional to trade\n",
        "flows. The negative relationship between distance and trade flows has\n",
        "been consistently found in the literature, but the magnitude of the\n",
        "effects vary with time and geography.\n",
        "\n",
        "In a comprehensive study about the effects of distance on bilateral\n",
        "trade, Disdier and Head (2008) compiled 1467 different distance effect\n",
        "estimates from 103 papers. They found that the mean distance effect is\n",
        "0.9 - that is, a 10% increase in distance lowers bilateral trade by\n",
        "about 9%. Furthermore, 90% of the estimates compiled fall within the\n",
        "range of 0.28 to 1.55, dependent on the time period and geography of the\n",
        "study. It seems that our results are in line with what the researchers\n",
        "found, which adds to the credibility of our estimates from a simple\n",
        "model.\n",
        "\n",
        "This example concludes our modules on geospatial analysis. If you’re\n",
        "curious to learn more about the topics explored in these modules, refer\n",
        "to:\n",
        "\n",
        "-   [Geocomputation with R](https://r.geocompx.org/intro): for more\n",
        "    context around Geospatial analysis in general\n",
        "-   [This blog\n",
        "    post](https://cran.r-project.org/web/packages/gravity/vignettes/crash-course-on-gravity-models.html):\n",
        "    for more ways to model gravity\n",
        "-   [This user\n",
        "    guide](https://www.unescap.org/sites/default/files/Gravity-model-in-R_1.pdf):\n",
        "    for more context aroung the Gravity Equation of International Trade\n",
        "    in R"
      ],
      "id": "f2fd8c80-cc4e-4fb1-a20f-377087d148ff"
    }
  ],
  "nbformat": 4,
  "nbformat_minor": 5,
  "metadata": {
    "kernelspec": {
      "name": "ir",
      "display_name": "R",
      "language": "r"
    }
  }
}