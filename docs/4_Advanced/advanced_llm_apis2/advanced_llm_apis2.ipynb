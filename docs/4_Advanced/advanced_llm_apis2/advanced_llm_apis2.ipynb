{
  "cells": [
    {
      "cell_type": "markdown",
      "metadata": {},
      "source": [
        "# Advanced - LLM APIs 2\n",
        "\n",
        "COMET Team <br> *Jonathan Graves, Alex Haddon*  \n",
        "2024-08-07\n",
        "\n",
        "## What are LLMs?\n",
        "\n",
        "Large Language Models (LLMs) are advanced machine learning models\n",
        "designed to understand and generate human-like text based on the data\n",
        "they have been trained on. Examples of popular LLMs include GPT-3.5 from\n",
        "OpenAI and open-source models such as `ollama` or `huggingface`.\n",
        "\n",
        "## Applications of LLMs\n",
        "\n",
        "Large language models have a wide range of applications across various\n",
        "domains. In natural language understanding (NLU), they excel in tasks\n",
        "like text classification, named entity recognition, and language\n",
        "translation, enabling efficient content categorization and multilingual\n",
        "communication. LLMs are also powerful tools for text generation,\n",
        "facilitating the creation of articles, creative writing, and\n",
        "summarization of lengthy documents. Additionally, they enhance\n",
        "conversational agents and virtual assistants, providing human-like\n",
        "interactions and support. Furthermore, LLMs play a crucial role in\n",
        "knowledge extraction, sentiment analysis, and automated coding, making\n",
        "them invaluable in fields like customer support, market analysis,\n",
        "software development, and beyond. In fact, what you are reading right\n",
        "now was created using an LLM!\n",
        "\n",
        "Here is a [cool\n",
        "video](https://www.youtube.com/watch?v=5sLYAQS9sWQ&ab_channel=IBMTechnology)\n",
        "made by IBM that explains a little more about how LLMs work.\n",
        "\n",
        "# Setting Up the Environment\n",
        "\n",
        "Head to [ollama.com](https://ollama.com/) and download ollama locally.\n",
        "Then, in your terminal, run the code `ollama pull llama3` and wait for\n",
        "it to install\n",
        "\n",
        "## Installing Required Libraries\n",
        "\n",
        "Make sure to install the ollama library if you haven’t already; in your\n",
        "terminal use the command `pip install ollama`. There will be various\n",
        "other packages you will be prompted to install later in this notebook.\n",
        "\n",
        "# Using an LLM (e.g., llama3)\n",
        "\n",
        "## Connecting to the LLM API\n",
        "\n",
        "Define a function to query the model by specifying the correct model as\n",
        "well as the prompt we want to pass to the model.\n",
        "\n",
        "NOTE: Make sure that you have the ollama application open and running\n",
        "locally before you try and make an API call or else you will get an\n",
        "error likely stating your connection has been “refused”."
      ],
      "id": "5fbb11a4-15b9-4764-b894-8eaa2b0ee18f"
    },
    {
      "cell_type": "code",
      "execution_count": 1,
      "metadata": {},
      "outputs": [],
      "source": [
        "# Import the required library (ollama)\n",
        "import ollama\n",
        "\n",
        "\n",
        "response = ollama.chat(\n",
        "    model='llama3',  # specify the model \n",
        "    messages=[{'role': 'user', 'content': 'In fewer than 50 words, why is the sky blue?'}]) # insert the desired prompt\n",
        "\n",
        "print(response)"
      ],
      "id": "88b7c398"
    },
    {
      "cell_type": "markdown",
      "metadata": {},
      "source": [
        "The output of our API call to `ollama` comes in the\n",
        "[JSON](https://www.json.org/json-en.html) form which stands for\n",
        "JavaScript Object Notation. Essentially the output is split into a\n",
        "series of pairs consisting of a field name, colon, and then the value.\n",
        "For example, the output of our API call has `'model':'llama3'` as one of\n",
        "the entries meaning that the model we used to generate the response is\n",
        "llama3. If we want just the response to be the output we can specify\n",
        "that in our print statement using the code below:"
      ],
      "id": "5c08fcf6-ade0-43e6-aec5-578afef22a54"
    },
    {
      "cell_type": "code",
      "execution_count": 2,
      "metadata": {},
      "outputs": [],
      "source": [
        "# Only show the response from llama3\n",
        "print(response['message']['content'])"
      ],
      "id": "9152f716"
    },
    {
      "cell_type": "markdown",
      "metadata": {},
      "source": [
        "Now you try! Fill in the code skeleton with the correct code.\n",
        "\n",
        "HINT: *In your prompt specify that you don’t want a long response.\n",
        "Without that, ollama can take a very long time, especially if your\n",
        "machine is slower, as it is running locally rather than connecting to\n",
        "external servers.*"
      ],
      "id": "581dc985-615d-426c-8467-1eb175a89ec7"
    },
    {
      "cell_type": "code",
      "execution_count": 3,
      "metadata": {},
      "outputs": [],
      "source": [
        "#response = ollama.chat(\n",
        "#     model= ...,\n",
        "#     messages=[{'role': 'user', 'content': ...}])\n",
        "\n",
        "# print(...)"
      ],
      "id": "0fc1d832"
    },
    {
      "cell_type": "markdown",
      "metadata": {},
      "source": [
        "# Self-Tests and Exercises\n",
        "\n",
        "## Multiple Choice Questions\n",
        "\n",
        "Here are a few questions you can use to check your understanding. Run\n",
        "the cell below before attempting the multiple choice questions."
      ],
      "id": "e4aadbb0-8bc1-4d7e-b7d0-f917c412560c"
    },
    {
      "cell_type": "code",
      "execution_count": 4,
      "metadata": {},
      "outputs": [],
      "source": [
        "from v2_tests import Tests"
      ],
      "id": "608ab031"
    },
    {
      "cell_type": "markdown",
      "metadata": {},
      "source": [
        "### Question 1\n",
        "\n",
        "The output in JSON form uses the dictionary data type. What key (or\n",
        "sequence of keys) in the dictionary holds the output of the model? - A)\n",
        "\\[‘model’\\] - B) \\[‘message’\\] - C) \\[‘message’\\]\\[‘content’\\] - D)\n",
        "\\[‘content’\\] - E) \\[‘content’\\]\\[‘message’\\] - F)\n",
        "\\[‘model’\\]\\[‘message’\\]\n",
        "\n",
        "*Enter your answer below as a a string with one of A,B,C,D,E,F ie. “A”*"
      ],
      "id": "a00fb20f-4ddf-4e6b-9569-e79248284ea9"
    },
    {
      "cell_type": "code",
      "execution_count": 5,
      "metadata": {},
      "outputs": [],
      "source": [
        "answer1 = #your answer here \n",
        "\n",
        "Tests.test1(answer1)"
      ],
      "id": "fbd269d1"
    },
    {
      "cell_type": "markdown",
      "metadata": {},
      "source": [
        "### Question 2\n",
        "\n",
        "Out of the options below, which best describes what an LLM (Large\n",
        "Language Model) is?\n",
        "\n",
        "-   1.  A specialized algorithm for analyzing large datasets and\n",
        "        generating insights.\n",
        "-   1.  A type of neural network that excels in generating human-like\n",
        "        text based on extensive training data.\n",
        "-   1.  A tool designed for processing and translating spoken language\n",
        "        into text.\n",
        "-   1.  A machine learning model primarily used for image and object\n",
        "        recognition.\n",
        "\n",
        "*Enter your answer below as a a string with one of A,B,C,D ie. “A”*"
      ],
      "id": "9644b4ca-d554-425d-8887-f0e824050daa"
    },
    {
      "cell_type": "code",
      "execution_count": 6,
      "metadata": {},
      "outputs": [],
      "source": [
        "answer2 = #your answer here \n",
        "\n",
        "Tests.test2(answer2)"
      ],
      "id": "104c9849"
    },
    {
      "cell_type": "markdown",
      "metadata": {},
      "source": [
        "# Worked Example: Retrieving Data from a PDF\n",
        "\n",
        "## Problem Statement\n",
        "\n",
        "One real world application of what we learned above is when we have a\n",
        "pdf that we want our LLM to be able to answer questions about. This is a\n",
        "process called “fine tuning” where we train the LLM to answer our\n",
        "prompts under the context of the contents of our pdf or more broadly the\n",
        "information that we give to it. In this example, we will fine tune our\n",
        "LLM using The Gobal Risks Report 2024 from the World Economic Forum.\n",
        "After doing so, we will ask the LLM to give us some contextual based\n",
        "answers to questions we prompt the LLM with.\n",
        "\n",
        "## Solution Using the LLM\n",
        "\n",
        "Follow the steps below to get a comprehensive analysis using an LLM.\n",
        "\n",
        "#### Step 1\n",
        "\n",
        "First we will need to install various packages that will allow the PDF\n",
        "to be read and interpreted by the LLM. If you are interested in how this\n",
        "process works, feel free to open up the functions file as well as check\n",
        "out other lessons on word embeddings and creating RAGs."
      ],
      "id": "b87c933b-8f6e-4582-9122-e7abb658c302"
    },
    {
      "cell_type": "code",
      "execution_count": 7,
      "metadata": {},
      "outputs": [],
      "source": [
        "%pip install --upgrade --q unstructured langchain\n",
        "%pip install --upgrade --q \"unstructured[all-docs]\"\n",
        "%pip install --q langchain_community langchain_text_splitters chromadb\n",
        "!brew install libmagic\n",
        "!brew install poppler\n",
        "!brew install tesseract"
      ],
      "id": "89aeebe0"
    },
    {
      "cell_type": "markdown",
      "metadata": {},
      "source": [
        "#### Step 2\n",
        "\n",
        "Now we will import the pdf using the `load_file(...)` function."
      ],
      "id": "eecd33a3-2e0f-4167-b59a-4d3254e9eb2a"
    },
    {
      "cell_type": "code",
      "execution_count": 8,
      "metadata": {},
      "outputs": [],
      "source": [
        "from v2_functions import load_file\n",
        "\n",
        "path = \"WEF_The_Global_Risks_Report_2024.pdf\"\n",
        "\n",
        "data = load_file(path)\n",
        "\n",
        "# Check if data was loaded successfully\n",
        "if data:\n",
        "    # Preview the first page content\n",
        "    print(data[0].page_content)\n",
        "else:\n",
        "    print(\"Failed to load the PDF file.\")"
      ],
      "id": "184ccd92"
    },
    {
      "cell_type": "markdown",
      "metadata": {},
      "source": [
        "#### Step 3\n",
        "\n",
        "We will now embed to text into vectors and create a database from which\n",
        "the LLM will pull information from. We are essentially “translating” the\n",
        "contents of the pdf into a readable text for the LLM to use. Here, we\n",
        "use the function `process_and_store_pdf(...)`."
      ],
      "id": "be2be9f5-9adf-48a9-bb25-834d45f19ce4"
    },
    {
      "cell_type": "code",
      "execution_count": 9,
      "metadata": {},
      "outputs": [],
      "source": [
        "from v2_functions import process_and_store_pdf\n",
        "\n",
        "!ollama pull nomic-embed-text\n",
        "\n",
        "vector_database = process_and_store_pdf(data)"
      ],
      "id": "590ee137"
    },
    {
      "cell_type": "markdown",
      "metadata": {},
      "source": [
        "#### Step 4\n",
        "\n",
        "Now, we need to specify that we will be using the `llama3` LLM model and\n",
        "then use the function `setup_retriever_and_chain(..., ...)` which will\n",
        "make calls to the API to answer our prompts. Then, we will try answering\n",
        "a few prompts using the LLM!"
      ],
      "id": "1fc6e52e-e2ad-4e4e-a776-818d7402b835"
    },
    {
      "cell_type": "code",
      "execution_count": 10,
      "metadata": {},
      "outputs": [],
      "source": [
        "from v2_functions import setup_retriever_and_chain\n",
        "\n",
        "# specify LLM model\n",
        "model = \"llama3\"\n",
        "\n",
        "# retrieval function; see the functions file for more information\n",
        "chain = setup_retriever_and_chain(vector_database, model)\n",
        "\n",
        "# specify prompt\n",
        "prompt = \"Provide a summary of the report.\"\n",
        "\n",
        "# After, try a few of the prompts below:\n",
        "# - \"What does the report say about climate change?\"\n",
        "# - \"What does the report say about misinformation?\"\n",
        "# - \"Summarize the section on conflict.\"\n",
        "\n",
        "# create a function to put it all together\n",
        "def local_model(chain, prompt):\n",
        "    response = chain.invoke(prompt)\n",
        "    print(response)\n",
        "\n",
        "# making a function call; adjust the prompt as desired\n",
        "local_model(chain, prompt)"
      ],
      "id": "1a5d6515"
    },
    {
      "cell_type": "markdown",
      "metadata": {},
      "source": [
        "#### Step 6 (Optional)\n",
        "\n",
        "If we wanted to restart with a different pdf, we would need to delete\n",
        "all the existing embeddings we made and you can do so by running the\n",
        "code below."
      ],
      "id": "04f9e3d7-61b4-4c65-9ae0-cfc8ae7d7e79"
    },
    {
      "cell_type": "code",
      "execution_count": 11,
      "metadata": {},
      "outputs": [],
      "source": [
        "# Reset the embeddings with this line of code\n",
        "# vector_database.delete_collection()"
      ],
      "id": "1f7dbee1"
    },
    {
      "cell_type": "markdown",
      "metadata": {},
      "source": [
        "# Conclusion\n",
        "\n",
        "## Recap of What Was Learned\n",
        "\n",
        "-   We re-introduced the concept of Large Language Models (LLMs) and\n",
        "    their applications.\n",
        "-   We set up the environment and connected to the Ollama API.\n",
        "-   We explored how to use LLMs with example prompts and responses.\n",
        "-   We created our own embeddings from which we could make api calls to\n",
        "    the Ollama API with the additional context of the given pdf.\n",
        "\n",
        "For more information about word embeddings and retrieval-augmented\n",
        "generation (RAG) see our other applicable notebooks."
      ],
      "id": "15c5cc84-47dd-4353-ab4f-56b08dbb1ece"
    }
  ],
  "nbformat": 4,
  "nbformat_minor": 5,
  "metadata": {
    "kernelspec": {
      "name": "python3",
      "display_name": "Python 3 (ipykernel)",
      "language": "python",
      "path": "/usr/local/share/jupyter/kernels/python3"
    },
    "language_info": {
      "name": "python",
      "codemirror_mode": {
        "name": "ipython",
        "version": "3"
      },
      "file_extension": ".py",
      "mimetype": "text/x-python",
      "nbconvert_exporter": "python",
      "pygments_lexer": "ipython3",
      "version": "3.10.12"
    }
  }
}