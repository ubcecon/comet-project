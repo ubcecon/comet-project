{
  "cells": [
    {
      "cell_type": "markdown",
      "metadata": {},
      "source": [
        "# 3.1 - Advanced - Difference in Differences\n",
        "\n",
        "This notebook will cover:\n",
        "\n",
        "1.  Difference-in-Differences and when it is appropriate.\n",
        "2.  Consequences of misspecification.\n",
        "3.  The Event Study estimator.\n",
        "4.  The Triple Difference estimator.\n",
        "5.  Using Repeated Cross-Section data.\n",
        "6.  Failure of Parallel Trends.\n",
        "\n",
        "This notebook assumes you are familiar with and draws on concepts\n",
        "covered in:\n",
        "\n",
        "1.  Introduction to Jupyter.\n",
        "2.  Introduction to R.\n",
        "3.  Introduction to Data.\n",
        "4.  Expectations and Summary Statistics.\n",
        "5.  Conditional Expectations and the $t$-Test.\n",
        "6.  Regression Analysis."
      ],
      "id": "2fc70c92-8d3f-4e06-83bc-03705a30c385"
    },
    {
      "cell_type": "code",
      "execution_count": null,
      "metadata": {
        "vscode": {
          "languageId": "r"
        }
      },
      "outputs": [],
      "source": [
        "library(tidyverse)\n",
        "library(stargazer)\n",
        "library(broom)"
      ],
      "id": "5b0dec05-3a01-4772-863a-065a9cdc85ec"
    },
    {
      "cell_type": "markdown",
      "metadata": {},
      "source": [
        "## Difference-in-Differences\n",
        "\n",
        "To demonstrate how DID works and the consequences of misspecification, I\n",
        "require data where I know the true parameter values. Therefore this\n",
        "again necessitates using simulated data rather than real-life data.\n",
        "\n",
        "### Generating Panel-Structured Data\n",
        "\n",
        "Panel-Structured data have both an unit and a time index. The features\n",
        "that matter are that there should be a common time trend component and\n",
        "an additional time trend component specific only to the “treated” group.\n",
        "For our purposes, it can be more helpful to think of the “treated” group\n",
        "as simply the “group of interest” who may have been differentially\n",
        "affected by something that changed between the “before” and the “after”\n",
        "period(s). The minimum number of time periods you require to run a DID\n",
        "estimator is $2$, but the definition of a “period” is not constrained to\n",
        "“usual” time units like months and years. For example, if you have the\n",
        "privilege of working with linked census data, then your period may be\n",
        "decadal or quinquennial, while if you work with stock market data your\n",
        "period may be as fine as minutes or seconds.\n",
        "\n",
        "Note also that panel-structured data is not restricted to a unit-by-time\n",
        "structure. It is also possible to have a group-by-unit panel structured\n",
        "data. Examples include twins in a family unit, students in a class,\n",
        "patients and their primary physicians, *et cetera*. In this case, `i`\n",
        "below indexes the group instead of the unit and `T` indexes the unit\n",
        "within the group instead of time."
      ],
      "id": "61ab42e8-00a3-443d-a2bd-1446d9192ac1"
    },
    {
      "cell_type": "code",
      "execution_count": null,
      "metadata": {
        "vscode": {
          "languageId": "r"
        }
      },
      "outputs": [],
      "source": [
        "set.seed(998)\n",
        "sim.data <- tibble(i = c(1:10000), hgt = rnorm(10000, 1.68, 0.09), u = rnorm(10000, 0, 1))\n",
        "sim.data <- sim.data %>% mutate(diet = if_else(rnorm(10000, 0, 1) + u < 0, 0, 1))\n",
        "sim.data <- rbind(\n",
        "    sim.data %>% mutate(Treatment = 0, e = rnorm(10000, 0, 1) + u) %>% mutate(wgt = 28 * hgt ^ 2 + e),\n",
        "    sim.data %>% mutate(Treatment = 1, e = rnorm(10000, 0, 1) + u) %>% mutate(wgt = 2 + 28 * hgt ^ 2 - 3 * diet + e)\n",
        ")"
      ],
      "id": "58f39fbe-79ad-47ae-a565-e2e31f8b7313"
    },
    {
      "cell_type": "markdown",
      "metadata": {},
      "source": [
        "### Summary Statistics\n",
        "\n",
        "A quick overview of the synthetic data. To an approximation, this data\n",
        "set tries to simulate a height and weight data set. `hgt` is short for\n",
        "height (measured in meters; m), `wgt` for weight (measured in kilograms;\n",
        "kg), `diet` implies we are considering the effect of a diet. As is\n",
        "intuitive, evaluating the effect of a diet is an appropriate case for\n",
        "DID because diets take time to show their effects. We also clearly need\n",
        "height as a control because all else equal, a healthy but taller person\n",
        "should weigh more than a healthy but shorter person. `i` and `T` are our\n",
        "person and time indexes."
      ],
      "id": "a39af56d-bb52-404e-b838-3713581c02f0"
    },
    {
      "cell_type": "code",
      "execution_count": null,
      "metadata": {
        "vscode": {
          "languageId": "r"
        }
      },
      "outputs": [],
      "source": [
        "summary(sim.data)"
      ],
      "id": "1936f604-7ca0-4f8d-9409-212bb4f9f10c"
    },
    {
      "cell_type": "markdown",
      "metadata": {},
      "source": [
        "## Difference-in-Differences Estimator\n",
        "\n",
        "Recap that DID is the following model. We estimate\n",
        "\n",
        "$$\n",
        "    \\theta = \\mathbb{E}[Y_{i} \\mid \\underbrace{G_{i} = 1, T_{i} = 1}_{D_{i} = 1}] - \\mathbb{E}[Y_{i} \\mid \\underbrace{G_{i} = 1, T_{i} = 0}_{D_{i} = 0}].\n",
        "$$\n",
        "\n",
        "This is a model for when we have a treatment implemented in between two\n",
        "periods where we observe the units. However as before there will be bias\n",
        "without further adjustments to the method. The main bias with estimators\n",
        "that make use of the temporal dimension of the data is that naïve\n",
        "estimators conflate the true effect with time trends.\n",
        "\n",
        "To give an intuition, suppose we want to measure the effect of drinking\n",
        "milk daily on height growth in young children. The problem is that young\n",
        "children are developing and naturally grow taller regardless of their\n",
        "diet (unless they are severely malnourished). Therefore a naïve\n",
        "estimator conflates this natural time trend with the real effect of the\n",
        "target diet and can spuriously estimate a positive effect of drinking\n",
        "milk when it could very well be the case that the true effect is zero or\n",
        "even negative.\n",
        "\n",
        "Mathematically, we see the bias in the PO model by\n",
        "\n",
        "$$\n",
        "    \\theta = \\underbrace{\\mathbb{E}[Y_{1,i}(1) \\mid T_{i} = 1] - \\mathbb{E}[Y_{1,i}(0) \\mid T_{i} = 1]}_{ATET} + \\underbrace{\\mathbb{E}[Y_{1,i}(0) \\mid T_{i} = 1] - \\mathbb{E}[Y_{1,i}(0) \\mid T_{i} = 0]}_{Bias}.\n",
        "$$\n",
        "\n",
        "The bias is clearly coming from the unobserved time trend. How do we\n",
        "deal with it given that the comparison estimator already implicitly\n",
        "makes use of a time period indicator? The answer is we postulate the\n",
        "existence of a counterfactual group for which we do indeed observe them\n",
        "being untreated in both periods, but their time trend is identical to\n",
        "the group of interest:\n",
        "\n",
        "$$\n",
        "    \\mathbb{E}[Y_{0,i}(0) \\mid T_{i} = 1] - \\mathbb{E}[Y_{0,i}(0) \\mid T_{i} = 0] = \\mathbb{E}[Y_{1,i}(0) \\mid T_{i} = 1] - \\mathbb{E}[Y_{1,i}(0) \\mid T_{i} = 0]\n",
        "$$\n",
        "\n",
        "where\n",
        "\n",
        "$$\n",
        "    \\mathbb{E}[Y_{0,i}(0) \\mid T_{i} = 1] - \\mathbb{E}[Y_{0,i}(0) \\mid T_{i} = 0] = \\mathbb{E}[Y_{i} \\mid \\underbrace{G_{i} = 0, T_{i} = 1}_{D_{i} = 0}] - \\mathbb{E}[Y_{i} \\mid \\underbrace{G_{i} = 0, T_{i} = 0}_{D_{i} = 0}].\n",
        "$$\n",
        "\n",
        "With this observed control group we can now estimate:\n",
        "\n",
        "$$\n",
        "    ATET = \\left( \\mathbb{E}[Y_{i} \\mid G_{i} = 1, T_{i} = 1] - \\mathbb{E}[Y_{i} \\mid G_{i} = 1, T_{i} = 0] \\right) - \\left( \\mathbb{E}[Y_{i} \\mid G_{i} = 0, T_{i} = 1] - \\mathbb{E}[Y_{i} \\mid G_{i} = 0, T_{i} = 0] \\right).\n",
        "$$\n",
        "\n",
        "This is estimatable because all this data is observed.\n",
        "\n",
        "### Difference-in-Differences with $t$-Tests\n",
        "\n",
        "Before we talk about the regression method of estimating DID models,\n",
        "let’s talk about the much simpler method of doing a plain comparison\n",
        "estimate. Recall that the model is\n",
        "\n",
        "$$\n",
        "    ATET = \\left( \\mathbb{E}[Y_{i} \\mid G_{i} = 1, T_{i} = 1] - \\mathbb{E}[Y_{i} \\mid G_{i} = 1, T_{i} = 0] \\right) - \\left( \\mathbb{E}[Y_{i} \\mid G_{i} = 0, T_{i} = 1] - \\mathbb{E}[Y_{i} \\mid G_{i} = 0, T_{i} = 0] \\right)\n",
        "$$\n",
        "\n",
        "which we can rewrite as\n",
        "\n",
        "$$\n",
        "    ATET = \\mathbb{E}[Y_{i,1} - Y_{i,0} \\mid G_{i} = 1] - \\mathbb{E}[Y_{i,1} - Y_{i,0} \\mid G_{i} = 0].\n",
        "$$\n",
        "\n",
        "This tells us precisely how to estimate the ATET using the DID estimator\n",
        "using a simple $t$-test:\n",
        "\n",
        "1.  Generate $\\Delta Y_{i} = Y_{i,1} - Y_{i,0}$.\n",
        "2.  Test $\\overline{\\Delta Y_{i}} \\mid_{G_{i} = 1}$ versus\n",
        "    $\\overline{\\Delta Y_{i}} \\mid_{G_{i} = 0}$."
      ],
      "id": "17f60bdc-47b0-4571-a0c5-d19eddc8dc6c"
    },
    {
      "cell_type": "code",
      "execution_count": null,
      "metadata": {
        "vscode": {
          "languageId": "r"
        }
      },
      "outputs": [],
      "source": [
        "diff.data <- sim.data %>% filter(Treatment == 1) - sim.data %>% filter(Treatment == 0) %>% mutate(diet = 0)"
      ],
      "id": "3a44d75c-0b5e-4cf7-9a87-31ca5ae1a82c"
    },
    {
      "cell_type": "code",
      "execution_count": null,
      "metadata": {
        "vscode": {
          "languageId": "r"
        }
      },
      "outputs": [],
      "source": [
        "list(\n",
        "    t.test(\n",
        "        diff.data %>% filter(diet == 1) %>% select(wgt),\n",
        "        diff.data %>% filter(diet == 0) %>% select(wgt),\n",
        "        var.equal = TRUE\n",
        "    )\n",
        ") %>% \n",
        "    map_df(tidy) %>%\n",
        "    print"
      ],
      "id": "05513c78-6bbc-438f-bb19-9db9d604a7ce"
    },
    {
      "cell_type": "markdown",
      "metadata": {},
      "source": [
        "### Interpreting the Results\n",
        "\n",
        "Recall that the simple $t$-test method does not use controls, so this\n",
        "level of accuracy is unexpected. Note, in general the DID estimator\n",
        "without controls does not yield the same results as the DID estimator\n",
        "with controls when applied to real-world data.\n",
        "\n",
        "The estimate is simply interpreted as the estimated ATET. The diet\n",
        "decreases the weight of the group undertaking the diet by $2.97$ kg. In\n",
        "your own cases, what the treatment, outcome, treated group, and units\n",
        "are depends on your question and data.\n",
        "\n",
        "### Naïve Comparison Measure Estimator\n",
        "\n",
        "I will first present several wrong ways to use panel data and show\n",
        "empirically why you should not be doing these things if your interest is\n",
        "in the ATET. One way is to estimate a comparison measure for the “after”\n",
        "period only:\n",
        "\n",
        "$$\n",
        "    \\theta_{after} = \\mathbb{E}[Y_{i} \\mid \\underbrace{G_{i} = 1, T_{i} = 1}_{D_{i} = 1}] - \\mathbb{E}[Y_{i} \\mid \\underbrace{G_{i} = 0, T_{i} = 1}_{D_{i} = 0}].\n",
        "$$\n",
        "\n",
        "This is of course going to be biased because you can see that in the PO\n",
        "model this corresponds to\n",
        "\n",
        "$$\n",
        "    \\theta_{after} = \\underbrace{\\mathbb{E}[Y_{1,i}(1) \\mid T_{i} = 1] - \\mathbb{E}[Y_{1,i}(0) \\mid T_{i} = 1]}_{ATET} + \\underbrace{\\mathbb{E}[Y_{1,i}(0) \\mid T_{i} = 1] - \\mathbb{E}[Y_{0,i}(0) \\mid T_{i} = 1]}_{Bias}.\n",
        "$$\n",
        "\n",
        "This corresponds to the selection bias as we have been studying it for\n",
        "much of this course. However, if we assume that the size of this bias\n",
        "remains constant throughout time—which intuitively is exactly what the\n",
        "parallel trends assumption says—then we get rid of the selection bias\n",
        "precisely by further subtracting the “before” period comparison measure."
      ],
      "id": "b2945593-8cce-43a4-8ef3-3899c7d56464"
    },
    {
      "cell_type": "code",
      "execution_count": null,
      "metadata": {
        "vscode": {
          "languageId": "r"
        }
      },
      "outputs": [],
      "source": [
        "summary(\n",
        "    lm(\n",
        "        wgt ~ hgt + diet,\n",
        "        data = filter(sim.data, Treatment == 1)\n",
        "    )\n",
        ")"
      ],
      "id": "8d104d40-29e0-42f6-92ac-8acd74ccdd10"
    },
    {
      "cell_type": "markdown",
      "metadata": {},
      "source": [
        "### Naïve Before-After Estimator\n",
        "\n",
        "The second wrong way is to do exactly what was described at the start of\n",
        "this section,\n",
        "\n",
        "$$\n",
        "    \\theta = \\mathbb{E}[Y_{i} \\mid \\underbrace{G_{i} = 1, T_{i} = 1}_{D_{i} = 1}] - \\mathbb{E}[Y_{i} \\mid \\underbrace{G_{i} = 1, T_{i} = 0}_{D_{i} = 0}].\n",
        "$$\n",
        "\n",
        "Of course, by now you know where the problem with this estimator lies."
      ],
      "id": "d21ba3f4-858a-4e3f-81a7-df7b8534a9d0"
    },
    {
      "cell_type": "code",
      "execution_count": null,
      "metadata": {
        "vscode": {
          "languageId": "r"
        }
      },
      "outputs": [],
      "source": [
        "summary(\n",
        "    lm(\n",
        "        wgt ~ hgt + Treatment,\n",
        "        data = filter(sim.data, diet == 1)\n",
        "    )\n",
        ")"
      ],
      "id": "d60f4869-a1c2-4a0e-87e2-9b04a630b66d"
    },
    {
      "cell_type": "markdown",
      "metadata": {},
      "source": [
        "### Naïve Linear Estimator Without Interaction Terms\n",
        "\n",
        "A third way to estimate the ATET wrongly is to do a naïve linear\n",
        "estimator of the form\n",
        "\n",
        "$$\n",
        "    Y_{i} = b_{0} + b_{1} T_{i} + b_{2} D_{i} + e_{i}.\n",
        "$$\n",
        "\n",
        "Why would this be biased? One way to think about this is that this\n",
        "regression implies\n",
        "\n",
        "This points to a selection bias intuition. If you believe there is no\n",
        "unobserved selection into treatment, then this model is correct. In most\n",
        "cases this is not true.\n",
        "\n",
        "This may then prompt the question: intuitively the saturated model\n",
        "solves this problem and you have learnt in lectures that it does. Why?\n",
        "The idea again goes back to the parallel trends assumption. We assume\n",
        "that the selection bias is constant over time. As such, the “before”\n",
        "period observation where both groups are untreated provides an estimate\n",
        "of the selection bias, which we can then remove from this biased\n",
        "estimator to obtain the unbiased estimate of the ATET.\n",
        "\n",
        "This intuition should not also reveal something very interesting to\n",
        "those paying attention: the DID estimator circumvents selection bias\n",
        "entirely. You do not need an experimental set-up without selection bias\n",
        "to use DID!"
      ],
      "id": "782d80db-b9ed-455b-900e-f2332a314179"
    },
    {
      "cell_type": "code",
      "execution_count": null,
      "metadata": {
        "vscode": {
          "languageId": "r"
        }
      },
      "outputs": [],
      "source": [
        "summary(\n",
        "    lm(\n",
        "        wgt ~ hgt + Treatment + diet,\n",
        "        data = sim.data\n",
        "    )\n",
        ")"
      ],
      "id": "90fe8d08-84bc-41fc-b339-9c00954ae5bf"
    },
    {
      "cell_type": "markdown",
      "metadata": {},
      "source": [
        "### Difference-in-Differences using Linear Regression\n",
        "\n",
        "The linear regression model of DID is how most DID models are estimated\n",
        "in the academic literature. We estimate a model that is saturated in the\n",
        "time and group variables,\n",
        "\n",
        "$$\n",
        "    Y_{i} = \\alpha + \\gamma T_{i} + \\beta G_{i} + \\delta T_{i} \\times G_{i} + \\epsilon_{i}.\n",
        "$$\n",
        "\n",
        "This gives us\n",
        "\n",
        "This yields the time trend as $\\gamma$ and the time-invariant selection\n",
        "bias as $\\beta$. $\\delta$ is the unbiased estimator of the ATET and our\n",
        "parameter of interest."
      ],
      "id": "0d450dbf-e0e5-45ec-9afb-1f4a11504d3d"
    },
    {
      "cell_type": "code",
      "execution_count": null,
      "metadata": {
        "vscode": {
          "languageId": "r"
        }
      },
      "outputs": [],
      "source": [
        "summary(\n",
        "    lm(\n",
        "        wgt ~ hgt + Treatment * diet,\n",
        "        data = sim.data\n",
        "    )\n",
        ")"
      ],
      "id": "7fbf999d-d051-4de1-ba96-0702f149ee8c"
    },
    {
      "cell_type": "markdown",
      "metadata": {},
      "source": [
        "### Comparing Estimators\n",
        "\n",
        "The following table shows all the misspecified models and the correct\n",
        "specification. (1) is the naïve comparison estimator, (2) is the\n",
        "before-after estimator, (3) is the linear model estimator without the\n",
        "interaction term, (4) is the fully specified model, and (5) is what the\n",
        "$t$-test implicitly estimates.\n",
        "\n",
        "Again, note that (4) and (5) will in general not produce the same ATET\n",
        "estimate in most real-world data sets."
      ],
      "id": "82a04500-a960-49c7-88b5-447de74b59ea"
    },
    {
      "cell_type": "code",
      "execution_count": null,
      "metadata": {
        "vscode": {
          "languageId": "r"
        }
      },
      "outputs": [],
      "source": [
        "model1 <- lm(wgt ~ hgt + diet, data = filter(sim.data, Treatment == 1))\n",
        "model2 <- lm(wgt ~ hgt + Treatment, data = filter(sim.data, diet == 1))\n",
        "model3 <- lm(wgt ~ hgt + Treatment + diet, data = sim.data)\n",
        "model4 <- lm(wgt ~ hgt + Treatment * diet, data = sim.data)\n",
        "model5 <- lm(wgt ~ Treatment * diet, data = sim.data)\n",
        "\n",
        "stargazer(model1, \n",
        "          model2, \n",
        "          model3, \n",
        "          model4, \n",
        "          model5, \n",
        "          type = 'text',\n",
        "          df = FALSE,\n",
        "          omit.stat = c('F'))"
      ],
      "id": "a07c2bf0-ec26-4d93-9129-be65359bcdb6"
    },
    {
      "cell_type": "markdown",
      "metadata": {},
      "source": [
        "## Heterogeneity Over Time: the Event Study Estimator\n",
        "\n",
        "The logic of DID can be extended to the case where we observe multiple\n",
        "post-treatment periods. If we think that the ATET is heterogeneous over\n",
        "time, we can estimate an ATET for each period observed. This gives rise\n",
        "to the Event Study estimator. It is so named because this is often used\n",
        "to study the effect of a specific event—usually policy changes and\n",
        "natural disasters—and trace out its effects over many periods. While\n",
        "there is currently an active literature looking at problems with this\n",
        "estimator, we concern ourselves primarily with the simplest case where\n",
        "the treatment occurs only once and we observe the treated group and a\n",
        "counterfactual never-treated group for several periods before and after\n",
        "the event.\n",
        "\n",
        "### Load Data\n",
        "\n",
        "By convention, for a panel-structured data with more than two periods,\n",
        "period $0$ is when the treatment is implemented and all other period\n",
        "numbers refer to the number of periods after (before if negative)\n",
        "treatment implementation."
      ],
      "id": "fa9f804d-f501-4eff-a50c-1b9a729c8c9a"
    },
    {
      "cell_type": "code",
      "execution_count": null,
      "metadata": {
        "vscode": {
          "languageId": "r"
        }
      },
      "outputs": [],
      "source": [
        "set.seed(999)\n",
        "sim.data <- tibble(i = c(1:10000), hgt = rnorm(10000, 1.68, 0.09), u = rnorm(10000, 0, 1))\n",
        "sim.data <- sim.data %>% mutate(diet = if_else(rnorm(10000, 0, 1) + u < 0, 0, 1))\n",
        "sim.data <- rbind(\n",
        "    sim.data %>% mutate(Treatment = -3, e = rnorm(10000, 0, 1) + u) %>% mutate(wgt = - 1.2 + 28 * hgt ^ 2 + e),\n",
        "    sim.data %>% mutate(Treatment = -2, e = rnorm(10000, 0, 1) + u) %>% mutate(wgt = - .5 + 28 * hgt ^ 2 + e),\n",
        "    sim.data %>% mutate(Treatment = -1, e = rnorm(10000, 0, 1) + u) %>% mutate(wgt = 28 * hgt ^ 2 + e),\n",
        "    sim.data %>% mutate(Treatment = 0, e = rnorm(10000, 0, 1) + u) %>% mutate(wgt = .3 + 28 * hgt ^ 2 + 1.2 * diet + e),\n",
        "    sim.data %>% mutate(Treatment = 1, e = rnorm(10000, 0, 1) + u) %>% mutate(wgt = .5 + 28 * hgt ^ 2 + .8 * diet + e),\n",
        "    sim.data %>% mutate(Treatment = 2, e = rnorm(10000, 0, 1) + u) %>% mutate(wgt = .9 + 28 * hgt ^ 2 + .1 * diet + e),\n",
        "    sim.data %>% mutate(Treatment = 3, e = rnorm(10000, 0, 1) + u) %>% mutate(wgt = 1.1 + 28 * hgt ^ 2 - .5 * diet + e),\n",
        "    sim.data %>% mutate(Treatment = 4, e = rnorm(10000, 0, 1) + u) %>% mutate(wgt = 1.4 + 28 * hgt ^ 2 - 1.5 * diet + e)\n",
        ")"
      ],
      "id": "7c94a73b-779d-4723-8172-49c401d21dfc"
    },
    {
      "cell_type": "markdown",
      "metadata": {},
      "source": [
        "### Wrongly Using the Difference-in-Differences Estimator\n",
        "\n",
        "Intuitively, of course the plain DID estimator is a misspecification if\n",
        "we believe that the ATET is heterogeneous over time. We know what the\n",
        "wrongly estimated ATET will be using the Law of Iterated Expectations:\n",
        "\n",
        "$$\n",
        "    \\mathbb{E}[\\Delta_{i} \\mid G_{i} = 1] = \\mathbb{E}_{T}[\\mathbb{E}[\\Delta_{i} \\mid G_{i} = 1, T] \\mid G_{i} = 1].\n",
        "$$\n",
        "\n",
        "Hence, as in this simulated data set, if the time trend of the treatment\n",
        "effect is not monotonic, we can have unexpected results by misspecifying\n",
        "a case of truly heterogeneous treatment effects using the homogeneous\n",
        "treatment effect estimator."
      ],
      "id": "d697dbe5-e28a-45d8-963a-a8586fc476e2"
    },
    {
      "cell_type": "code",
      "execution_count": null,
      "metadata": {
        "vscode": {
          "languageId": "r"
        }
      },
      "outputs": [],
      "source": [
        "sim.data %>%\n",
        "    mutate(T = if_else(Treatment > -1, 1, 0)) %>%\n",
        "    lm(wgt ~ hgt + Treatment * diet, data = .) %>%\n",
        "    summary"
      ],
      "id": "3af345a5-5973-4e4f-867d-51cc8453a745"
    },
    {
      "cell_type": "markdown",
      "metadata": {},
      "source": [
        "### Event Study with $t$-Tests\n",
        "\n",
        "The $t$-Test version of the Event Study estimator is straightforward.\n",
        "Because what we are essentially interested in is\n",
        "\n",
        "$$\n",
        "    ATET(t) = \\left( \\mathbb{E}[Y_{i} \\mid G_{i} = 1, T_{i} = t] - \\mathbb{E}[Y_{i} \\mid G_{i} = 1, T_{i} = -1] \\right) - \\left( \\mathbb{E}[Y_{i} \\mid G_{i} = 0, T_{i} = t] - \\mathbb{E}[Y_{i} \\mid G_{i} = 0, T_{i} = -1] \\right)\n",
        "$$\n",
        "\n",
        "which we can rewrite as\n",
        "\n",
        "$$\n",
        "    ATET(t) = \\mathbb{E}[Y_{i,t} - Y_{i,-1} \\mid G_{i} = 1] - \\mathbb{E}[Y_{i,t} - Y_{i,-1} \\mid G_{i} = 0],\n",
        "$$\n",
        "\n",
        "it implies that what we want to do is simply to first restrict our data\n",
        "set to the periods $t$ and $-1$, then use the regular DID estimator on\n",
        "this subset, and repeat this exercise for all periods before and after\n",
        "$-1$."
      ],
      "id": "f6b22fac-9b6d-49e8-a87f-ee6ea8575b3d"
    },
    {
      "cell_type": "code",
      "execution_count": null,
      "metadata": {
        "vscode": {
          "languageId": "r"
        }
      },
      "outputs": [],
      "source": [
        "c(0:4) %>% \n",
        "    lapply(\n",
        "        function (t) t.test(\n",
        "            sim.data %>% filter(Treatment == t & diet == 1) %>% select(wgt) - sim.data %>% filter(Treatment == -1 & diet == 1) %>% select(wgt), \n",
        "            sim.data %>% filter(Treatment == t & diet == 0) %>% select(wgt) - sim.data %>% filter(Treatment == -1 & diet == 0) %>% select(wgt), \n",
        "            var.equal = TRUE\n",
        "        )\n",
        "    ) %>%\n",
        "    map_df(tidy) %>%\n",
        "    print"
      ],
      "id": "c7bb940a-63ee-4a88-aae6-7ed107a333fd"
    },
    {
      "cell_type": "markdown",
      "metadata": {},
      "source": [
        "### Interpreting the Results\n",
        "\n",
        "The $t$-test analogue of the Event Study estimator also highlights\n",
        "intuitively how we need to think about and interpret the estimator. The\n",
        "ATET estimate for each period is interpreted with respect to the base\n",
        "period, which in this case is the period just before the treatment is\n",
        "implemented. In this case,\n",
        "\n",
        "1.  The diet actually increases the weight of those on the diet by\n",
        "    $1.12$ kg on average in the period they start the diet.\n",
        "2.  The diet still increases the weight of those on the diet by $0.748$\n",
        "    kg on average relative to before starting the diet after $1$ period\n",
        "    (let’s say, months).\n",
        "3.  The effect of the diet $2$ months after starting the diet is\n",
        "    approximately zero relative to before the diet.\n",
        "4.  The effect of the diet turns negative after $3$ months relative to\n",
        "    before the diet, with those on diet losing $0.571$ kg on average.\n",
        "5.  Those on the diet lose $1.55$ kg on average after $4$ months on the\n",
        "    diet relative to before starting the diet.\n",
        "\n",
        "### Event Study with Linear Regression\n",
        "\n",
        "With linear regression, the Event Study method is even simpler.\n",
        "Factorise your time variable and set $-1$ as the base level using\n",
        "`relevel`, then estimate the model. `R` takes care of all the necessary\n",
        "interactions for us."
      ],
      "id": "45167ed7-d902-4c09-9691-89cb85f7ddcf"
    },
    {
      "cell_type": "code",
      "execution_count": null,
      "metadata": {
        "vscode": {
          "languageId": "r"
        }
      },
      "outputs": [],
      "source": [
        "sim.data %>%\n",
        "    mutate(Treatment = relevel(factor(Treatment, levels = c(-3, -2, -1, 0, 1, 2, 3, 4)), ref = 3)) %>%\n",
        "    lm(wgt ~ hgt + Treatment * diet, data = .) %>%\n",
        "    summary"
      ],
      "id": "061b4182-b13f-4fb6-a69e-eaeb22d4cc90"
    },
    {
      "cell_type": "markdown",
      "metadata": {},
      "source": [
        "## Heterogeneity Over Groups: the Triple Difference Estimator\n",
        "\n",
        "You have seen one way to discuss the Triple Differences estimator. Here\n",
        "I present another.\n",
        "\n",
        "Suppose we are interested in not only the ATET, but also how the ATET\n",
        "differs across certain groups of interest. An example is whether certain\n",
        "policies help to close the gender wage gap: what this implicitly asks is\n",
        "whether\n",
        "\n",
        "$$\n",
        "    ATET(female) > ATET(male).\n",
        "$$\n",
        "\n",
        "Provided that we have panel data, again there is a method that helps to\n",
        "illuminate this kind of heterogeneity: the Triple Difference estimator.\n",
        "What the Triple Difference estimator is interested in is implicitly\n",
        "\n",
        "$$\n",
        "    ATET(k) = \\left( \\mathbb{E}[Y_{i} \\mid G_{i} = 1, K = k, T_{i} = 1] - \\mathbb{E}[Y_{i} \\mid G_{i} = 1, K = k, T_{i} = 0] \\right) - \\left( \\mathbb{E}[Y_{i} \\mid G_{i} = 0, K = k, T_{i} = 1] - \\mathbb{E}[Y_{i} \\mid G_{i} = 0, K = k, T_{i} = 0] \\right),\n",
        "$$\n",
        "\n",
        "where $k$ is a group of interest that is not the basis for selection\n",
        "into treatment for which we think $ATET(k) \\ne ATET$ and we would like\n",
        "to estimate $ATET(k)$ specifically. As in the lecture notes, while we\n",
        "can in principle estimate heterogeneous treatment effects by simply\n",
        "estimating a DID model for each sub-group, this assumes a fully\n",
        "heterogeneous model where it may not actually be warranted, is\n",
        "inefficient as you are not using the full sample, and it is\n",
        "difficult—though not impossible, but the methods are beyond this level\n",
        "of study—to test if the differences are actually statistically\n",
        "significant.\n",
        "\n",
        "Hence, taking the usual route of adding yet another interaction term to\n",
        "the model to obtain the heterogeneous treatment effects of interest\n",
        "yields the Triple Differences estimator. This gives an intuition as to\n",
        "what Triple Differences are good for:\n",
        "\n",
        "1.  Triple Differences tells you if a treatment has additional effects\n",
        "    on specific sub-groups.\n",
        "2.  Triple Differences is also useful if what you are interested in is\n",
        "    the pure effect of the treatment and would like to partial out all\n",
        "    other confounding effects of time and group using an argument\n",
        "    similar to the parallel trends assumption.\n",
        "\n",
        "### Load Data\n",
        "\n",
        "The data requirements for Triple Differences is similar to that of DID,\n",
        "except you also require another grouping axis that exhibits variation\n",
        "over the treatment assignment indicator. In other words, it cannot be\n",
        "the case that that grouping variable is collinear with the treatment\n",
        "assignment indicator—then how exactly are you supposed to separate the\n",
        "effect of the group from the effect of the treatment?"
      ],
      "id": "b55ee9ad-7210-4abe-a03e-54f94f68bb81"
    },
    {
      "cell_type": "code",
      "execution_count": null,
      "metadata": {
        "vscode": {
          "languageId": "r"
        }
      },
      "outputs": [],
      "source": [
        "set.seed(999)\n",
        "sim.data <- tibble(i = c(1:10000), u = rnorm(10000, 0, 1))\n",
        "sim.data <- sim.data %>% mutate(sex = rnorm(10000, 0, 1) + u, diet = rnorm(10000, 0, 1))\n",
        "sim.data <- sim.data %>% mutate(diet = if_else(diet < 0, 0, 1), sex = factor(if_else(sex < 0, 'male', 'female'), levels = c('male', 'female')))\n",
        "sim.data <- sim.data %>% mutate(hgt = rnorm(10000, 1.69, .1))\n",
        "sim.data <- rbind(sim.data %>% mutate(Treatment = 0), sim.data %>% mutate(Treatment = 1)) \n",
        "sim.data <- sim.data %>% mutate(e = rnorm(20000, 0, 1) + u)\n",
        "sim.data <- sim.data %>% mutate(wgt = 26.4 * hgt * hgt + 1.7 * Treatment - 2.55 * (sex == 'female') - 1.3 * Treatment * (sex == 'female') - 2 * Treatment * diet - 1.2 * Treatment * diet * (sex == 'female') + e) "
      ],
      "id": "59474955-c1df-40d3-b3e1-43242a115666"
    },
    {
      "cell_type": "markdown",
      "metadata": {},
      "source": [
        "### Wrongly Using the Difference-in-Differences Estimator\n",
        "\n",
        "The Law of Iterated Expectations can again be used to tell us that if\n",
        "the treatment effect is really heterogeneous, then ignoring that\n",
        "heterogeneity is going to yield a biased estimator that is the weighted\n",
        "mean of all the treatment effects,\n",
        "\n",
        "$$\n",
        "    \\mathbb{E}[\\Delta_{i} \\mid G_{i} = 1] = \\mathbb{E}_{K}[\\mathbb{E}[\\Delta_{i} \\mid G_{i} = 1, K] \\mid G_{i} = 1].\n",
        "$$\n",
        "\n",
        "In this case, it may look like there was a mistake because $-2.5$ is\n",
        "less than either $-2$ or $-1.2$, but recall from the Regressions\n",
        "notebook that the proper way to interpret coefficients under interaction\n",
        "terms tells us that in fact the effect of the diet on the two sexes are\n",
        "$-2$ and $-3.2$ respectively. Therefore the biased estimate of $-2.5$\n",
        "adheres to the Law of Iterated Expectations well."
      ],
      "id": "8ac17c9e-ffb5-4362-8ba5-08038600f44e"
    },
    {
      "cell_type": "code",
      "execution_count": null,
      "metadata": {
        "vscode": {
          "languageId": "r"
        }
      },
      "outputs": [],
      "source": [
        "sim.data %>%\n",
        "    lm(wgt ~ hgt + Treatment * diet, data = .) %>%\n",
        "    summary"
      ],
      "id": "d9ed293f-721a-4612-b24e-0631c7cdf358"
    },
    {
      "cell_type": "markdown",
      "metadata": {},
      "source": [
        "### Triple Difference Intuition with $t$-Tests\n",
        "\n",
        "Before we move into regression analysis, which can be harder to\n",
        "interpret, look at some $t$-test results to get a bearing on your\n",
        "intuitions. Each row corresponds to one of the sexes. The first column\n",
        "of the table is the heterogeneous weight loss estimate of each sex.\n",
        "Then, the Triple Difference estimator is simply the difference in the\n",
        "two weight loss estimates. The estimate corresponds to the coefficient\n",
        "on the triple interaction term in our data simulation code, as expected,\n",
        "and can be interpreted in one of two ways. The first is outlined in the\n",
        "notes, corresponding to the true treatment effect after partialling out\n",
        "group effects as well. The second is outlined here, corresponding to the\n",
        "additional weight loss due to the diet on females compared to males."
      ],
      "id": "4a06feaf-b43f-42cc-b8c0-bc2f9de0e709"
    },
    {
      "cell_type": "code",
      "execution_count": null,
      "metadata": {
        "vscode": {
          "languageId": "r"
        }
      },
      "outputs": [],
      "source": [
        "list(\n",
        "    t.test(\n",
        "        sim.data %>% filter(sex == 'female' & Treatment == 1 & diet == 1) %>% select(wgt) - sim.data %>% filter(sex == 'female' & Treatment == 0 & diet == 1) %>% select(wgt), \n",
        "        sim.data %>% filter(sex == 'female' & Treatment == 1 & diet == 0) %>% select(wgt) - sim.data %>% filter(sex == 'female' & Treatment == 0 & diet == 0) %>% select(wgt), \n",
        "        var.equal = TRUE\n",
        "    ),\n",
        "    t.test(\n",
        "        sim.data %>% filter(sex == 'male' & Treatment == 1 & diet == 1) %>% select(wgt) - sim.data %>% filter(sex == 'male' & Treatment == 0 & diet == 1) %>% select(wgt), \n",
        "        sim.data %>% filter(sex == 'male' & Treatment == 1 & diet == 0) %>% select(wgt) - sim.data %>% filter(sex == 'male' & Treatment == 0 & diet == 0) %>% select(wgt), \n",
        "        var.equal = TRUE\n",
        "    )\n",
        ") %>%\n",
        "    map_df(tidy) %>%\n",
        "    print"
      ],
      "id": "86ebcbaa-eb3c-428c-a074-86b70f038f38"
    },
    {
      "cell_type": "markdown",
      "metadata": {},
      "source": [
        "### Triple Difference with Linear Regression\n",
        "\n",
        "This shows the Triple Difference estimator as discussed in the note. In\n",
        "`R`, the interaction operator `*` can be chained and therefore it is\n",
        "relatively simple to set up the Triple Difference estimator. `R` takes\n",
        "care of populating all the interaction terms."
      ],
      "id": "3b6c3165-b20a-4a5b-882c-d2f5729436fb"
    },
    {
      "cell_type": "code",
      "execution_count": null,
      "metadata": {
        "vscode": {
          "languageId": "r"
        }
      },
      "outputs": [],
      "source": [
        "sim.data %>%\n",
        "    lm(wgt ~ hgt + sex * Treatment * diet, data = .) %>%\n",
        "    summary"
      ],
      "id": "d108fa6a-aa62-4671-9f67-0f9e2321e957"
    },
    {
      "cell_type": "markdown",
      "metadata": {},
      "source": [
        "### Comparing Misspecified Estimators under Triple Differences\n",
        "\n",
        "The following two tables shows how various ways of misspecifying the\n",
        "model when the true CEF corresponds to the heterogeneous ATET/Triple\n",
        "Difference case results in biased estimates. You are encouraged to\n",
        "figure out if you can compute the biased estimates theoretically\n",
        "yourself to check your understanding of how the DID model works in\n",
        "general."
      ],
      "id": "df6bee71-215a-4fa9-8bcb-0450ca4e883c"
    },
    {
      "cell_type": "code",
      "execution_count": null,
      "metadata": {
        "vscode": {
          "languageId": "r"
        }
      },
      "outputs": [],
      "source": [
        "model1 <- lm(wgt ~ hgt + Treatment * diet, data = sim.data)\n",
        "model2 <- lm(wgt ~ hgt + Treatment * diet, data = sim.data %>% filter(sex == 'female'))\n",
        "model3 <- lm(wgt ~ hgt + Treatment * diet, data = sim.data %>% filter(sex == 'male'))\n",
        "model4 <- lm(wgt ~ hgt + Treatment * diet * sex, data = sim.data)\n",
        "\n",
        "stargazer(model1, \n",
        "          model2, \n",
        "          model3, \n",
        "          model4, \n",
        "          type = 'text',\n",
        "          df = FALSE,\n",
        "          omit.stat = c('F'))"
      ],
      "id": "eb9cfe52-a566-47f1-a04a-35e1fcde7569"
    },
    {
      "cell_type": "code",
      "execution_count": null,
      "metadata": {
        "vscode": {
          "languageId": "r"
        }
      },
      "outputs": [],
      "source": [
        "model1 <- lm(wgt ~ hgt + Treatment * sex, data = sim.data)\n",
        "model2 <- lm(wgt ~ hgt + Treatment * sex, data = sim.data %>% filter(diet == 1))\n",
        "model3 <- lm(wgt ~ hgt + Treatment * sex, data = sim.data %>% filter(diet == 0))\n",
        "model4 <- lm(wgt ~ hgt + diet * sex, data = sim.data)\n",
        "model5 <- lm(wgt ~ hgt + diet * sex, data = sim.data %>% filter(Treatment == 1))\n",
        "model6 <- lm(wgt ~ hgt + diet * sex, data = sim.data %>% filter(Treatment == 0))\n",
        "model7 <- lm(wgt ~ hgt + Treatment * diet * sex, data = sim.data)\n",
        "\n",
        "\n",
        "stargazer(model1, \n",
        "          model2, \n",
        "          model3, \n",
        "          model4, \n",
        "          model5, \n",
        "          model6, \n",
        "          model7, \n",
        "          type = 'text',\n",
        "          df = FALSE,\n",
        "          omit.stat = c('F'))"
      ],
      "id": "c36fb368-d8a1-49eb-ac9f-f00db60c2b39"
    },
    {
      "cell_type": "markdown",
      "metadata": {},
      "source": [
        "## Using Repeated Cross-Section Data\n",
        "\n",
        "Return to the DID model for a bit,\n",
        "\n",
        "$$\n",
        "    ATET = \\left( \\mathbb{E}[Y_{i} \\mid G_{i} = 1, T_{i} = 1] - \\mathbb{E}[Y_{i} \\mid G_{i} = 1, T_{i} = 0] \\right) - \\left( \\mathbb{E}[Y_{i} \\mid G_{i} = 0, T_{i} = 1] - \\mathbb{E}[Y_{i} \\mid G_{i} = 0, T_{i} = 0] \\right).\n",
        "$$\n",
        "\n",
        "Nothing in this equation indicates that the individuals at $T = 1$ has\n",
        "to be the same as the individuals at $T = 0$. The implication is that it\n",
        "is possible to do DID with repeated cross-section data. Recap, repeated\n",
        "cross-section data is simply data where you have collected data from\n",
        "samples in multiple periods, but the sample in each period is a\n",
        "different sample. Unlike panel data, while you have a time index in the\n",
        "data there are no longitudinal observations at the unit level.\n",
        "\n",
        "The model in theory suggests two ways to run DID. I will discuss each in\n",
        "turn.\n",
        "\n",
        "### Generating Repeated Cross-Section Data\n",
        "\n",
        "Data for repeated cross-section data is similar to panel data, except\n",
        "that instead of generating the unit first and then reusing the units\n",
        "over time you simply generate a new set of units in each time period."
      ],
      "id": "84ad83bb-bf1c-4a55-9b2a-eafa57c0a127"
    },
    {
      "cell_type": "code",
      "execution_count": null,
      "metadata": {
        "vscode": {
          "languageId": "r"
        }
      },
      "outputs": [],
      "source": [
        "set.seed(1000)\n",
        "sim.data <- rbind(\n",
        "    tibble(i = c(1:10000), Treatment = 0, hgt = rnorm(10000, 1.68, 0.09), u = rnorm(10000, 0, 1)),\n",
        "    tibble(i = c(1:10000), Treatment = 1, hgt = rnorm(10000, 1.68, 0.09), u = rnorm(10000, 0, 1))\n",
        ")\n",
        "sim.data <- sim.data %>% mutate(diet = if_else(rnorm(20000, 0, 1) + u < 0, 0, 1), e = rnorm(20000, 0, 1) + u)\n",
        "sim.data <- sim.data %>% mutate(wgt = 2 * T + 28 * hgt ^ 2 - 3 * T * diet + e)"
      ],
      "id": "e6577bb3-04ec-41cb-8291-96a8e2ed4af3"
    },
    {
      "cell_type": "markdown",
      "metadata": {},
      "source": [
        "### DID on Repeated Cross-Section using OLS\n",
        "\n",
        "This is straightforward. As long as the sample in each period are\n",
        "independent, representative samples and you know which group in the\n",
        "“before” period would be given the treatment if you could observe them\n",
        "in the “after” period, then DID using OLS works the same way as in the\n",
        "panel data case."
      ],
      "id": "fc89ecb0-b50e-4d27-9955-c35a6a5eb49d"
    },
    {
      "cell_type": "code",
      "execution_count": null,
      "metadata": {
        "vscode": {
          "languageId": "r"
        }
      },
      "outputs": [],
      "source": [
        "sim.data %>%\n",
        "    lm(wgt ~ hgt + Treatment * diet, data = .) %>%\n",
        "    summary"
      ],
      "id": "9c8d2de5-3f3e-488b-a88a-595bf771ad24"
    },
    {
      "cell_type": "markdown",
      "metadata": {},
      "source": [
        "### DID using a $2 \\times 2$ Table\n",
        "\n",
        "What I refer to as the $2 \\times 2$ table is:\n",
        "\n",
        "|  | $G = 0$ | $G = 1$ |  |\n",
        "|---------------:|:-----------------:|:-----------------:|:-----------------:|\n",
        "| $T = 0$ | $\\mu_{Y}(0,0)$ | $\\mu_{Y}(1,0)$ | $\\mu_{Y}(1,0) - \\mu_{Y}(0,0)$ |\n",
        "| $T = 1$ | $\\mu_{Y}(0,1)$ | $\\mu_{Y}(1,1)$ | $\\mu_{Y}(1,1) - \\mu_{Y}(0,1)$ |\n",
        "|  | $\\mu_{Y}(0,1) - \\mu_{Y}(0,0)$ | $\\mu_{Y}(1,1) - \\mu_{Y}(1,0)$ | $ATET$ |\n",
        "\n",
        "The principal problem is not in the point estimates. These are\n",
        "straightforward. The estimates for the central four cells are simply the\n",
        "four conditional means of the outcome variable. Then the estimates for\n",
        "the marginal cells are simply either row-wise or column-wise differences\n",
        "between the conditional means and the estimate of the ATET is the DID\n",
        "estimator using the conditional mean estimates in place of the true\n",
        "conditional expectations.\n",
        "\n",
        "The main problem is the question: How do you know that the ATET estimate\n",
        "is statistically significant? In other words, you want to test\n",
        "\n",
        "Recall the following:\n",
        "\n",
        "$$\n",
        "    Var(\\overline{X} + \\overline{Y}) = Var(\\overline{X}) + Var(\\overline{Y}) + 2 Cov(\\overline{X},\\overline{Y}).\n",
        "$$\n",
        "\n",
        "Note that this switching of notation from $\\mu$ (representing the true\n",
        "population-level conditional expectation) to $\\overline{X}$\n",
        "(representing our sample analogue estimator of the population-level\n",
        "expectations) is not a mistake. $\\mu$ has a variance of zero because it\n",
        "is the true population parameter. On the other hand $\\overline{X}$ has a\n",
        "variance because it is a function of a random sample. A function of\n",
        "random variables is itself a random variable (think about adding two\n",
        "random variables—is it now non-random?), therefore it makes sense to\n",
        "talk about its distributional properties. Now, if the data for $X$ and\n",
        "$Y$ are independent, then\n",
        "\n",
        "$$\n",
        "    Var(\\overline{X} + \\overline{Y}) = Var(\\overline{X}) + Var(\\overline{Y}).\n",
        "$$\n",
        "\n",
        "If the data was collected well, in many cases we can assume that\n",
        "$\\overline{Y}\\mid_{G=0,T=0}$, $\\overline{Y}\\mid_{G=0,T=1}$,\n",
        "$\\overline{Y}\\mid_{G=1,T=0}$, and $\\overline{Y}\\mid_{G=1,T=1}$, are\n",
        "indeed independent. Which then implies that the SE of the estimator\n",
        "should just be\n",
        "\n",
        "$$\n",
        "    SE\\left( \\left( \\overline{Y}\\mid_{G=1,T=1} - \\overline{Y}\\mid_{G=1,T=0} \\right) - \\left( \\overline{Y}\\mid_{G=0,T=1} - \\overline{Y}\\mid_{G=0,T=0} \\right) \\right) = \\sqrt{ Var\\left(\\overline{Y}\\mid_{G=0,T=0}\\right) + Var\\left(\\overline{Y}\\mid_{G=0,T=1}\\right) + Var\\left(\\overline{Y}\\mid_{G=1,T=0}\\right) + Var\\left(\\overline{Y}\\mid_{G=1,T=1}\\right) }.\n",
        "$$\n",
        "\n",
        "We can compute the second term. Each variance term is effectively just\n",
        "the squared SE of a conditional mean. Recall from the conditional\n",
        "expectations notebook that this is computed simply as\n",
        "`varmean = var(X[G = g & T = t], na.rm = TRUE) / sum(G = g & T = t & !is.na(X))`.\n",
        "\n",
        "Finally, we need a distribution. If you remember what you should have\n",
        "learnt about the $t$-test before, you would know that in only one case\n",
        "is the degrees of freedom the straightforward $df_{1} + df_{2} - 2$. In\n",
        "all other cases there is a specific formula that does not necessarily\n",
        "yield an integer DF. What do we then do here? You have two main options\n",
        "without going too deeply into theory unrelated to this course:\n",
        "\n",
        "1.  Assume that something analogous works for your situation as well, so\n",
        "    that you compute your DF as $$\n",
        "     df_{0,0} + df_{0,1} + df_{1,0} + df_{1,1} - 4.\n",
        "    $$\n",
        "2.  Ignore the DF and assume that you have sufficient variables (as a\n",
        "    rule-of-thumb, do you have at least $50$ observations in each of the\n",
        "    four groups?) so that you can assume that some Law of Large Numbers\n",
        "    holds and therefore the distribution of the test statistic is\n",
        "    approximately Normal.\n",
        "\n",
        "These give rise to the following procedure that should be roughly\n",
        "appropriate for this level:\n",
        "\n",
        "1.  Compute $\\overline{Y}\\mid_{G=1,T=1}$, $\\overline{Y}\\mid_{G=1,T=0}$,\n",
        "    $\\overline{Y}\\mid_{G=0,T=1}$, $\\overline{Y}\\mid_{G=0,T=0}$,\n",
        "    $Var\\left(\\overline{Y}\\mid_{G=0,T=0}\\right)$,\n",
        "    $Var\\left(\\overline{Y}\\mid_{G=0,T=1}\\right)$,\n",
        "    $Var\\left(\\overline{Y}\\mid_{G=1,T=0}\\right)$, and\n",
        "    $Var\\left(\\overline{Y}\\mid_{G=1,T=1}\\right)$.\n",
        "2.  Compute\n",
        "    $\\theta = \\left( \\overline{Y}\\mid_{G=1,T=1} - \\overline{Y}\\mid_{G=1,T=0} \\right) - \\left( \\overline{Y}\\mid_{G=0,T=1} - \\overline{Y}\\mid_{G=0,T=0} \\right)$.\n",
        "3.  Compute\n",
        "    $s^{2} = \\sqrt{ Var\\left(\\overline{Y}\\mid_{G=0,T=0}\\right) + Var\\left(\\overline{Y}\\mid_{G=0,T=1}\\right) + Var\\left(\\overline{Y}\\mid_{G=1,T=0}\\right) + Var\\left(\\overline{Y}\\mid_{G=1,T=1}\\right) }$.\n",
        "4.  Compute $\\frac{\\theta}{s}$ and label it either $t$ or $z$.\n",
        "5.  If you used the $t$ label, compute\n",
        "    $N\\mid_{G=0,T=0} + N\\mid_{G=0,T=1} + N\\mid_{G=1,T=0} + N\\mid_{G=1,T=1} - 4$\n",
        "    where $N$ means number of non-missing observations.\n",
        "6.  Compute the $p$ value for your test using either the\n",
        "    $t$-distribution or the Standard Normal distribution, depending on\n",
        "    whether you used the $t$ or $z$ label respectively.\n",
        "\n",
        "### Compute the $2 \\times 2$ Table of Means"
      ],
      "id": "68497b2f-a9eb-4dc0-a16b-ea71d4e3c393"
    },
    {
      "cell_type": "code",
      "execution_count": null,
      "metadata": {
        "vscode": {
          "languageId": "r"
        }
      },
      "outputs": [],
      "source": [
        "sim.res.mat <- matrix(\n",
        "    c(sim.data %>% filter(Treatment == 0 & diet == 0 & !is.na(wgt)) %>% .$wgt %>% mean, sim.data %>% filter(Treatment == 0 & diet == 1 & !is.na(wgt)) %>% .$wgt %>% mean, 0,\n",
        "      sim.data %>% filter(Treatment == 1 & diet == 0 & !is.na(wgt)) %>% .$wgt %>% mean, sim.data %>% filter(Treatment == 1 & diet == 1 & !is.na(wgt)) %>% .$wgt %>% mean, 0,\n",
        "      0, 0, 0),\n",
        "    nrow = 3,\n",
        "    ncol = 3,\n",
        "    byrow = TRUE\n",
        ")\n",
        "sim.res.mat[1,3] <- sim.res.mat[1,2] - sim.res.mat[1,1]\n",
        "sim.res.mat[2,3] <- sim.res.mat[2,2] - sim.res.mat[2,1]\n",
        "sim.res.mat[3,1] <- sim.res.mat[2,1] - sim.res.mat[1,1]\n",
        "sim.res.mat[3,2] <- sim.res.mat[2,2] - sim.res.mat[1,2]\n",
        "sim.res.mat[3,3] <- sim.res.mat[3,2] - sim.res.mat[3,1]\n",
        "rownames(sim.res.mat) <- c('before', 'after', 'diff time')\n",
        "colnames(sim.res.mat) <- c('no diet', 'diet', 'diff diet')\n",
        "print(sim.res.mat)"
      ],
      "id": "3836bd68-4f91-44f0-ae67-5a7ba3bc8576"
    },
    {
      "cell_type": "markdown",
      "metadata": {},
      "source": [
        "### Compute the Variances Associated with each Group"
      ],
      "id": "bbca70f0-e6e1-4680-be8b-c7a1158c8598"
    },
    {
      "cell_type": "code",
      "execution_count": null,
      "metadata": {
        "vscode": {
          "languageId": "r"
        }
      },
      "outputs": [],
      "source": [
        "sim.var.mat <- matrix(\n",
        "    c(sim.data %>% filter(Treatment == 0 & diet == 0 & !is.na(wgt)) %>% .$wgt %>% var, sim.data %>% filter(Treatment == 0 & diet == 1 & !is.na(wgt)) %>% .$wgt %>% var,\n",
        "     sim.data %>% filter(Treatment == 1 & diet == 0 & !is.na(wgt)) %>% .$wgt %>% var, sim.data %>% filter(Treatment == 1 & diet == 1 & !is.na(wgt)) %>% .$wgt %>% var),\n",
        "    nrow = 2,\n",
        "    ncol = 2,\n",
        "    byrow = TRUE\n",
        ")\n",
        "rownames(sim.var.mat) <- c('before', 'after')\n",
        "colnames(sim.var.mat) <- c('no diet', 'diet')\n",
        "print(sim.var.mat)"
      ],
      "id": "e5fbfa0e-de78-4cd6-aaab-3213e3082cc7"
    },
    {
      "cell_type": "markdown",
      "metadata": {},
      "source": [
        "### Compute the Counts in each Group"
      ],
      "id": "cac29d2a-e5ae-446f-a10a-3086ed9ac3b2"
    },
    {
      "cell_type": "code",
      "execution_count": null,
      "metadata": {
        "vscode": {
          "languageId": "r"
        }
      },
      "outputs": [],
      "source": [
        "sim.n.mat <- matrix(\n",
        "    c(sim.data %>% filter(Treatment == 0 & diet == 0 & !is.na(wgt)) %>% .$wgt %>% length, sim.data %>% filter(Treatment == 0 & diet == 1 & !is.na(wgt)) %>% .$wgt %>% length,\n",
        "     sim.data %>% filter(Treatment == 1 & diet == 0 & !is.na(wgt)) %>% .$wgt %>% length, sim.data %>% filter(Treatment == 1 & diet == 1 & !is.na(wgt)) %>% .$wgt %>% length),\n",
        "    nrow = 2,\n",
        "    ncol = 2,\n",
        "    byrow = TRUE\n",
        ")\n",
        "rownames(sim.n.mat) <- c('before', 'after')\n",
        "colnames(sim.n.mat) <- c('no diet', 'diet')\n",
        "print(sim.n.mat)"
      ],
      "id": "187c2a4c-ced8-4dd5-84a8-15b64ccdb4f4"
    },
    {
      "cell_type": "markdown",
      "metadata": {},
      "source": [
        "### Compute the Test Statistic"
      ],
      "id": "f0aba6d3-bb06-41c8-b74a-ef4a2a50e707"
    },
    {
      "cell_type": "code",
      "execution_count": null,
      "metadata": {
        "vscode": {
          "languageId": "r"
        }
      },
      "outputs": [],
      "source": [
        "sim.theta <- sim.res.mat[3,3] / sqrt(sum(sim.var.mat / sim.n.mat))\n",
        "print(sim.theta)"
      ],
      "id": "7910f680-b301-4b16-8235-9cae536472dc"
    },
    {
      "cell_type": "markdown",
      "metadata": {},
      "source": [
        "### Compute the $p$-Value"
      ],
      "id": "88b1df2b-8631-460f-be04-ca56ca6d7fac"
    },
    {
      "cell_type": "code",
      "execution_count": null,
      "metadata": {
        "vscode": {
          "languageId": "r"
        }
      },
      "outputs": [],
      "source": [
        "print(\n",
        "    list(\n",
        "        'z-test' = 2 * pnorm(abs(sim.theta), 0, 1, lower.tail = FALSE),\n",
        "        't-test' = 2 * pt(abs(sim.theta), sum(sim.n.mat), lower.tail = FALSE)\n",
        "    )\n",
        ")"
      ],
      "id": "87b76ad4-333b-4de1-a72a-69e01a2e16cf"
    },
    {
      "cell_type": "markdown",
      "metadata": {},
      "source": [
        "### Comparison Against Linear Regression"
      ],
      "id": "3b188fb0-5195-4cb9-87d5-52f4f7e2e549"
    },
    {
      "cell_type": "code",
      "execution_count": null,
      "metadata": {
        "vscode": {
          "languageId": "r"
        }
      },
      "outputs": [],
      "source": [
        "sim.data %>%\n",
        "    lm(wgt ~ Treatment * diet, data = .) %>%\n",
        "    summary"
      ],
      "id": "98a5e95f-6f7e-4a93-ad04-a2523de294da"
    },
    {
      "cell_type": "markdown",
      "metadata": {},
      "source": [
        "### Summary for Repeated Cross-Section\n",
        "\n",
        "Clearly, you can compute the DID estimator manually with repeated\n",
        "cross-section data and it yields estimates of similar quality to what\n",
        "OLS provides. If doing it manually is your preference, go ahead.\n",
        "Otherwise, you should also take away from this section that OLS works\n",
        "just as well for repeated cross-section data. The presentation of the\n",
        "manual method is really just to show you in detail how the underlying\n",
        "statistics of this estimator works.\n",
        "\n",
        "## When Parallel Trends Fails\n",
        "\n",
        "The key and only assumption for DID is parallel trends,\n",
        "\n",
        "$$\n",
        "    \\mathbb{E}[Y_{0,i}(0) \\mid T_{i} = 1] - \\mathbb{E}[Y_{0,i}(0) \\mid T_{i} = 0] = \\mathbb{E}[Y_{1,i}(0) \\mid T_{i} = 1] - \\mathbb{E}[Y_{1,i}(0) \\mid T_{i} = 0].\n",
        "$$\n",
        "\n",
        "What happens if this fails? Notice what happens to the bias when you\n",
        "compute the DID estimator,\n",
        "\n",
        "$$\n",
        "    \\theta - ATET = \\underbrace{\\left( \\mathbb{E}[Y_{1,i}(0) \\mid T_{i} = 1] - \\mathbb{E}[Y_{1,i}(0) \\mid T_{i} = 0] \\right)}_{\\text{Time Trend for $G_{i} = 1$}} - \\underbrace{\\left( \\mathbb{E}[Y_{0,i}(0) \\mid T_{i} = 1] - \\mathbb{E}[Y_{0,i}(0) \\mid T_{i} = 0] \\right)}_{\\text{Time Trend for $G_{i} = 0$}}.\n",
        "$$\n",
        "\n",
        "When parallel trends is not satisfied, there is no longer any guarantee\n",
        "that the trends for the two groups are in the same direction, such that\n",
        "DID reduces the bias in the estimator. In fact, if the two groups\n",
        "intuitively trend in opposite directions, DID exacerbates the bias. Can\n",
        "you think of situations where your treated and never-treated groups\n",
        "naturally trend in different directions over time?\n",
        "\n",
        "### Load Data\n",
        "\n",
        "I will now simulate some data to simulate the case where parallel trends\n",
        "fails."
      ],
      "id": "28e14ba7-b7df-4ba9-9c5d-94c2b711275e"
    },
    {
      "cell_type": "code",
      "execution_count": null,
      "metadata": {
        "vscode": {
          "languageId": "r"
        }
      },
      "outputs": [],
      "source": [
        "set.seed(998)\n",
        "sim.data <- tibble(i = c(1:10000), hgt = rnorm(10000, 1.63, 0.08), u = rnorm(10000, 0, 1))\n",
        "sim.data <- sim.data %>% mutate(diet = if_else(rnorm(10000, 0, 1) + u < 0, 0, 1))\n",
        "sim.data <- rbind(\n",
        "    sim.data %>% mutate(Treatment = 0, e = rnorm(10000, 0, 1) + u) %>% mutate(wgt = 28 * hgt ^ 2 + e),\n",
        "    sim.data %>% mutate(Treatment = 1, e = rnorm(10000, 0, 1) + u, hgt = if_else(diet == 1, hgt - .1, hgt + .1)) %>% mutate(wgt = 2 + 28 * hgt ^ 2 - 3 * diet + e)\n",
        ")\n",
        "summary(sim.data)"
      ],
      "id": "3caa70eb-5a00-47e5-bf11-aeb48dcde8e4"
    },
    {
      "cell_type": "markdown",
      "metadata": {},
      "source": [
        "### The $t$-Test Fails\n",
        "\n",
        "Intuitively, because the divergence in time trends is due to unaccounted\n",
        "for changes in other covariates, the $t$-test will be badly biased\n",
        "because it is not considering the possibility that other confounding\n",
        "factors may change differently between the groups over time. This again\n",
        "reflects the core intuition of the parallel trends assumption: the\n",
        "selection bias in treatment assignment has to be constant over time.\n",
        "\n",
        "In this case, because the time trends of the diet and non-diet group\n",
        "move in opposite directions, the simple DID (first row) is more biased\n",
        "than either the naïve comparison measure (second row) or the\n",
        "before-after estimator (third row)."
      ],
      "id": "8acb5182-7046-4d9f-af61-9d39371c70fb"
    },
    {
      "cell_type": "code",
      "execution_count": null,
      "metadata": {
        "vscode": {
          "languageId": "r"
        }
      },
      "outputs": [],
      "source": [
        "diff.data <- sim.data %>% filter(Treatment == 1) - sim.data %>% filter(Treatment == 0) %>% mutate(diet = 0)"
      ],
      "id": "96875d21-3f16-4446-bd3c-b2ed5a9d29be"
    },
    {
      "cell_type": "code",
      "execution_count": null,
      "metadata": {
        "vscode": {
          "languageId": "r"
        }
      },
      "outputs": [],
      "source": [
        "list(\n",
        "    t.test(\n",
        "        diff.data %>% filter(diet == 1) %>% select(wgt),\n",
        "        diff.data %>% filter(diet == 0) %>% select(wgt),\n",
        "        var.equal = TRUE\n",
        "    ),\n",
        "    t.test(\n",
        "        sim.data %>% filter(Treatment == 1, diet == 1) %>% select(wgt),\n",
        "        sim.data %>% filter(Treatment == 1, diet == 0) %>% select(wgt),\n",
        "        var.equal = TRUE\n",
        "    ),\n",
        "    t.test(\n",
        "        sim.data %>% filter(Treatment == 1, diet == 1) %>% select(wgt),\n",
        "        sim.data %>% filter(Treatment == 0, diet == 1) %>% select(wgt),\n",
        "        var.equal = TRUE\n",
        "    )\n",
        ") %>% \n",
        "    map_df(tidy) %>%\n",
        "    print"
      ],
      "id": "2aed4cde-d74d-408d-b7fe-3ff2b5285543"
    },
    {
      "cell_type": "markdown",
      "metadata": {},
      "source": [
        "### The Regression Method Still Works\n",
        "\n",
        "As you will see below, the regression method with controls still obtains\n",
        "the desired estimate. In fact, if you are paying attention, the OLS\n",
        "estimator gets the correct estimate despite misspecifying the form which\n",
        "height enters the model. This really gets to the heart of how closely\n",
        "linked regression methods (not just linear regression) and the CEF are.\n",
        "Notice that the regression model with controls is really estimating\n",
        "this:\n",
        "\n",
        "$$\n",
        "    ATET = \\left( \\mathbb{E}[Y_{i} \\mid X_{i}, G_{i} = 1, T_{i} = 1] - \\mathbb{E}[Y_{i} \\mid X_{i}, G_{i} = 1, T_{i} = 0] \\right) - \\left( \\mathbb{E}[Y_{i} \\mid X_{i}, G_{i} = 0, T_{i} = 1] - \\mathbb{E}[Y_{i} \\mid X_{i}, G_{i} = 0, T_{i} = 0] \\right).\n",
        "$$\n",
        "\n",
        "If controls $X_{i}$ are good enough proxies for the true reasons (or are\n",
        "the true reasons themselves) for divergence in time trends between the\n",
        "treated and never-treated groups, then the conditional version of the\n",
        "parallel trends assumption will be satisfied:\n",
        "\n",
        "$$\n",
        "    \\mathbb{E}[Y_{0,i}(0) \\mid X_{i}, T_{i} = 1] - \\mathbb{E}[Y_{0,i}(0) \\mid X_{i}, T_{i} = 0] = \\mathbb{E}[Y_{1,i}(0) \\mid X_{i}, T_{i} = 1] - \\mathbb{E}[Y_{1,i}(0) \\mid X_{i}, T_{i} = 0].\n",
        "$$\n",
        "\n",
        "This brings out the intuition for doing DID estimation with regression\n",
        "models. What you seek to control for is not selection bias—remember that\n",
        "DID has no problem with time-invariant selection bias. Instead, controls\n",
        "in the DID model should remove differences in the time trends of the\n",
        "treated and never-treated groups. This is what you need discuss when\n",
        "setting up your DID model and justifying the controls used."
      ],
      "id": "4137bfc6-4bf8-4a9d-aa78-6743c61491a6"
    },
    {
      "cell_type": "code",
      "execution_count": null,
      "metadata": {
        "vscode": {
          "languageId": "r"
        }
      },
      "outputs": [],
      "source": [
        "model1 <- lm(wgt ~ hgt + diet, data = filter(sim.data, Treatment == 1))\n",
        "model2 <- lm(wgt ~ hgt + Treatment, data = filter(sim.data, diet == 1))\n",
        "model3 <- lm(wgt ~ hgt + Treatment + diet, data = sim.data)\n",
        "model4 <- lm(wgt ~ hgt + Treatment * diet, data = sim.data)\n",
        "model5 <- lm(wgt ~ Treatment * diet, data = sim.data)\n",
        "\n",
        "stargazer(model1, \n",
        "          model2, \n",
        "          model3, \n",
        "          model4, \n",
        "          model5, \n",
        "          type = 'text',\n",
        "          df = FALSE,\n",
        "          omit.stat = c('F'))"
      ],
      "id": "69698f72-1ac6-49f2-aebd-930d9f4992ca"
    },
    {
      "cell_type": "markdown",
      "metadata": {},
      "source": [
        "## Exercise #: Difference-in-Differences in your Project\n",
        "\n",
        "### Load Your Data"
      ],
      "id": "78246477-24a5-4b29-b41d-9d3bf90412aa"
    },
    {
      "cell_type": "code",
      "execution_count": null,
      "metadata": {
        "vscode": {
          "languageId": "r"
        }
      },
      "outputs": [],
      "source": [
        "library(haven)"
      ],
      "id": "a7e9a562-5883-41d7-af55-401d5673f1d4"
    },
    {
      "cell_type": "code",
      "execution_count": null,
      "metadata": {
        "vscode": {
          "languageId": "r"
        }
      },
      "outputs": [],
      "source": [
        "my.data <- 'load your data'"
      ],
      "id": "1fa2ffb9-9a6a-4874-a4c1-7749cba95974"
    },
    {
      "cell_type": "code",
      "execution_count": null,
      "metadata": {
        "vscode": {
          "languageId": "r"
        }
      },
      "outputs": [],
      "source": [
        "my.data <- 'clean your data'"
      ],
      "id": "c4ed65da-7137-4523-b289-37974e2e25d7"
    },
    {
      "cell_type": "code",
      "execution_count": null,
      "metadata": {
        "vscode": {
          "languageId": "r"
        }
      },
      "outputs": [],
      "source": [
        "my.data %>% data.frame %>% stargazer(type = 'text')"
      ],
      "id": "e14d7165-7fea-4baf-bfdd-81b67cc43398"
    },
    {
      "cell_type": "markdown",
      "metadata": {},
      "source": [
        "### Plan and Run some DD Models"
      ],
      "id": "de2d07c6-0d39-4ea0-ac38-51c63782a8b2"
    },
    {
      "cell_type": "code",
      "execution_count": null,
      "metadata": {
        "vscode": {
          "languageId": "r"
        }
      },
      "outputs": [],
      "source": [
        "my.model.1 <- 'write your model' %>% lm(, data = my.data)\n",
        "my.model.1 %>% summary"
      ],
      "id": "7ebe6b61-cb3e-45d6-91fa-1d900ba5e0f2"
    },
    {
      "cell_type": "code",
      "execution_count": null,
      "metadata": {
        "vscode": {
          "languageId": "r"
        }
      },
      "outputs": [],
      "source": [
        "my.model.2 <- 'write another model' %>% lm(, data = my.data)\n",
        "my.model.2 %>% summary"
      ],
      "id": "1a2f4250-9bf3-4af9-abc4-d75d28d5f7d6"
    },
    {
      "cell_type": "code",
      "execution_count": null,
      "metadata": {
        "vscode": {
          "languageId": "r"
        }
      },
      "outputs": [],
      "source": [
        "my.model.3 <- 'write as many models as you would like to estimate' %>% lm(, data = my.data)\n",
        "my.model.3 %>% summary"
      ],
      "id": "20d0873c-2ac3-49ed-9455-641c68c74a13"
    },
    {
      "cell_type": "markdown",
      "metadata": {},
      "source": [
        "### Tabulate All Models"
      ],
      "id": "7d408b86-0bf7-49f0-b06e-d4313629d417"
    },
    {
      "cell_type": "code",
      "execution_count": null,
      "metadata": {
        "vscode": {
          "languageId": "r"
        }
      },
      "outputs": [],
      "source": [
        "stargazer(\n",
        "    my.model.1,\n",
        "    my.model.2,\n",
        "    my.model.3,\n",
        "    type = 'html',\n",
        "    out = 'prj_dd_out.html',\n",
        "    out.header = TRUE\n",
        ")"
      ],
      "id": "7aeb6688-baac-4014-ac3c-0fbafec6972c"
    }
  ],
  "nbformat": 4,
  "nbformat_minor": 5,
  "metadata": {
    "kernelspec": {
      "name": "ir",
      "display_name": "R",
      "language": "r"
    }
  }
}