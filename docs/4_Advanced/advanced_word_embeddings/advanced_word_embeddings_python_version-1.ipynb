{
  "cells": [
    {
      "cell_type": "raw",
      "metadata": {},
      "source": [
        "---\n",
        "title: \"4.4 - Advanced - Word Embeddings (Python)\"\n",
        "description: This notebook introduces the concept and implementation of word embeddings, as used in AI tools like LLMs, in Python.\n",
        "categories: [advanced, python, natural language processing, large language models, word embeddings, word2vec, vectors, cosine similarity]\n",
        "format: \n",
        "    html: default\n",
        "    ipynb:\n",
        "        jupyter:\n",
        "            kernelspec:\n",
        "                display_name: \"Python 3 (ipykernel)\"\n",
        "                language: python3\n",
        "                name: python3\n",
        "\n",
        "---"
      ]
    },
    {
      "cell_type": "markdown",
      "metadata": {},
      "source": [
        "_Python Version_\n",
        "\n",
        "<img src=\"media/word_embedding_cover_art.png\" width=\"1000\"/>\n",
        "\n",
        "_This notebook was prepared by Laura Nelson in collaboration with [UBC COMET](https://comet.arts.ubc.ca/) team members: Jonathan Graves, Angela Chen and Anneke Dresselhuis_\n",
        "\n",
        "\n",
        "## Prerequisites\n",
        "\n",
        "1. Some familiarity programming in R\n",
        "2. Some familarity with natural language processing\n",
        "3. No computational text experience necessary!\n",
        "\n",
        "## Learning outcomes\n",
        "\n",
        "In the notebook you will \n",
        "\n",
        "1. Familiarize yourself with concepts such as word embeddings (WE) vector-space model of language, natural language processing (NLP) and how they relate to small and large language models (LMs) \n",
        "1. Import and pre-process a textual dataset for use in word embedding \n",
        "1. Use word2vec to build a simple language model for examining patterns and biases textual datasets\n",
        "1. Identify and select methods for saving and loading models\n",
        "1. Use critical and reflexive thinking to gain a deeper understanding of how the inherent social and cultural biases of language are reproduced and mapped into language computation models\n",
        "\n",
        "## Outline\n",
        "\n",
        "The goal of this notebook is to demystify some of the technical aspects of language models and to invite learners to start thinking about how these important tools function in society.\n",
        "\n",
        "In particular, this lesson is designed to explore features of word embeddings produced through the word2vec model. The questions we ask in this lesson are guided by Ben Schmidt's blog post, [Rejecting the Gender Binary](\"http://bookworm.benschmidt.org/posts/2015-10-30-rejecting-the-gender-binary.html\").\n",
        "\n",
        "The primary corpus we will use consists of the <a href=\"http://txtlab.org/?p=601\">150 English-language novels</a> made available by the <em>.txtLab</em> at McGill University. We also look at a <a href=\"http://ryanheuser.org/word-vectors-1/\">word2Vec model trained on the ECCO-TCP corpus</a> of 2,350 eighteenth-century literary texts made available by Ryan Heuser. (Note that the number of terms in the model has been shortened by half in order to conserve memory.)\n",
        "\n",
        "## Key Terms\n",
        "Before we dive in, feel free to familiarize yourself with the following key terms and how they relate to each other.\n",
        "\n",
        "<img src=\"media/ai_key_terms.png\" width=\"500\"/>\n",
        "\n",
        "**Artificial Intelligence (AI):** is a broad category that includes the study and development of computer systems that can copy intelligent human behaviour (adapted from [_Oxford Learners Dictionary_](https://www.oxfordlearnersdictionaries.com/definition/english/ai#:~:text=%2F%CB%8Ce%C9%AA%20%CB%88a%C9%AA%2F-,%2F%CB%8Ce%C9%AA%20%CB%88a%C9%AA%2F,way%20a%20human%20brain%20does.))\n",
        "\n",
        "**Machine Learning (ML):** is branch of AI which is uses statistical methods to imitate the way that humans learn (adapted from [_IBM_](https://www.ibm.com/topics/machine-learning))\n",
        "\n",
        "**Natural Language Processing (NLP):** is branch of AI which focuses on training computers to interpret human text and spoken words (adapted from [_IBM_](https://www.ibm.com/topics/natural-language-processing#:~:text=the%20next%20step-,What%20is%20natural%20language%20processing%3F,same%20way%20human%20beings%20can.))\n",
        "\n",
        "**Word Embeddings (WE):** is one part of NLP where human words are converted into numerical representations (usually vectors) in order for computers to be able to understand them (adapted from [_Turing_](https://www.turing.com/kb/guide-on-word-embeddings-in-nlp))\n",
        "\n",
        "**word2vec:** is an NLP technique that is commonly used to generate word embeddings\n",
        "\n",
        "## What are Word Embeddings?\n",
        "\n",
        "Building off of the definition above, word embeddings are one way that humans can represent language in a way that is legible to a machine. More specifically, word embeddings are an NLP approach that use vectors to store textual data in multiple dimensions; by existing in the multi-dimensional space of vectors, word embeddings are able to include important semantic information within a given numeric representation.\n",
        "\n",
        "For example, if we are trying to answer a research question about how popular a term is on the web at a given time, we might use a simple word frequency analysis to count how many times the word \"candidate\" shows up in tweets during a defined electoral period. However, if we wanted to gain a more nuanced understanding of what kind of language, biases or attitudes contextualize the term, \"candidate\" in discourse, we would need to use a method like word embedding to encode meaning into our understanding of how people have talked about candidates over time. Instead of describing our text as a series of word counts, we would treat our text like coordinates in space, where similar words and concepts are closer to each other, and words that are different from each other are further away.\n",
        "\n",
        "<img src=\"media/word_frequency_vs_word_embeddings.png\" width=\"500\"/>\n",
        "\n",
        "## What are Word Embeddings?\n",
        "\n",
        "Building off of the definition above, word embeddings are one way that humans can represent language in a way that is legible to a machine. More specifically, word embeddings are an NLP approach that use vectors to store textual data in multiple dimensions; by existing in the multi-dimensional space of vectors, word embeddings are able to include important semantic information within a given numeric representation.\n",
        "\n",
        "For example, if we are trying to answer a research question about how popular a term is on the web at a given time, we might use a simple word frequency analysis to count how many times the word \"candidate\" shows up in tweets during a defined electoral period. However, if we wanted to gain a more nuanced understanding of what kind of language, biases or attitudes contextualize the term, \"candidate\" in discourse, we would need to use a method like word embedding to encode meaning into our understanding of how people have talked about candidates over time. Instead of describing our text as a series of word counts, we would treat our text like coordinates in space, where similar words and concepts are closer to each other, and words that are different from each other are further away.\n",
        "\n",
        "<img src=\"media/word_frequency_vs_word_embeddings.png\" width=\"500\"/>\n",
        "\n",
        "For example, in the visualization above, a word frequency count returns the number of times the word \"candidate\" or \"candidates\" is used in a sample text corpus. When a word embedding is made from the same text corpus, we are able to map related concepts and phrases that are closely related to \"candidate\" as neighbours, while other words and phrases such as \"experimental study\" (which refers to the research paper in question, and not to candidates specifically) are further away. \n",
        "\n",
        "Here is another example of how different, but related words might be represented in a word embedding:\n",
        "\n",
        "<img src = \"media/w2v-Analogies.png\" width=\"500\">\n",
        "\n",
        "## Making a Word Embedding\n",
        "So, how do word embeddings work? To make a word embedding, an input word gets compressed into a dense vector.\n",
        "\n",
        "<img src=\"media/creating_a_word_embedding.png\" width=\"500\"/>\n",
        "\n",
        "The magic and mystery of the word embedding process is that often the vectors produced during the model embed qualities of a word or phrase that are not interpretable by humans. However, for our purposes, having the text in vector format is all we need. With this format, we can perform tests like cosine similarity and other kinds of operations. Such operations can reveal many different kinds of relationships between words, as we'll examine a bit later.\n",
        "\n",
        "## Using word2vec\n",
        "\n",
        "Word2vec is one NLP technique that is commonly used to generate word embeddings. More precisely, word2vec is an algorithmic learning tool rather than a specific neural net that is already trained. The example we will be working through today has been made using this tool.\n",
        "\n",
        "The series of algorithms inside of the word2vec model try to describe and acquire parameters for a given word in terms of the text that appear immediately to the right and left in actual sentences. Essentially, it learns how to predict text.\n",
        "\n",
        "Without going too deep into the algorithm, suffice it to say that it involves a two-step process: \n",
        "\n",
        "1. First, the input word gets compressed into a dense vector, as seen in the simplified diagram, \"Creating a Word Embedding,\" above. \n",
        "2. Second, the vector gets decoded into the set of context words. Keywords that appear within similar contexts will have similar vector representations in between steps. \n",
        "\n",
        "Imagine that each word in a novel has its meaning determined by the ones that surround it in a limited window. For example, in Moby Dick's first sentence, “me” is paired on either side by “Call” and “Ishmael.” After observing the windows around every word in the novel (or many novels), the computer will notice a pattern in which “me” falls between similar pairs of words to “her,” “him,” or “them.” Of course, the computer had gone through a similar process over the words “Call” and “Ishmael,” for which “me” is reciprocally part of their contexts. This chaining of signifiers to one another mirrors some of humanists' most sophisticated interpretative frameworks of language.\n",
        "\n",
        "The two main model architectures of word2vec are **Continuous Bag of Words (CBOW)** and **Skip-Gram**, which can be distinguished partly by their input and output during training. \n",
        "\n",
        "**CBOW** takes the context words (for example, \"Call\", \"Ishmael\") as a single input and tries to predict the word of interest (\"me\").\n",
        "\n",
        "<div>\n",
        "<img src=\"media/CBOW.gif\" width=\"500\"/>\n",
        "</div>\n",
        "\n",
        "**Skip-Gram** does the opposite, taking a word of interest as its input (for example, \"me\") and tries to learn how to predict its context words (\"Call\", \"Ishmael\"). \n",
        "\n",
        "<div>\n",
        "<img src=\"media/SG.gif\" width=\"500\"/>\n",
        "</div>\n",
        "\n",
        "In general, CBOW is is faster and does well with frequent words, while Skip-Gram potentially represents rare words better.\n",
        "\n",
        "Since the word embedding is a vector, we are able perform tests like cosine similarity (which we'll learn more about in a bit!) and other kinds of operations. Those operations can reveal many different kinds of relationships between words, as we shall see.\n",
        "\n",
        "## Bias and Language Models\n",
        "\n",
        "You might already be piecing together that the encoding of meaning in word embeddings is entirely shaped by the patterns of language use captured in the training data. That is, what is included in a word embedding directly reflects the complex social and cultural biases of everyday human language - in fact, exploring how these biases function and change over time (as we will do later) is one of the most interesting ways to use word embeddings in social research.\n",
        "\n",
        "#### It is simply impossible to have a bias-free language model (LM). \n",
        "\n",
        "In LMs, bias is not a bug or a glitch, rather, it is an essential feature that is baked into the fundamental structure. For example, LMs are not outside of learning and absorbing the pejorative dimensions of language which in turn, can result in reproducing harmful correlations of meaning for words about race, class or gender (among others). When unchecked, these harms can be “amplified in downstream applications of word embeddings” ([Arseniev-Koehler & Foster, 2020, p. 1](https://osf.io/preprints/socarxiv/b8kud/)).\n",
        "\n",
        "Just like any other computational model, it is important to critically engage with the source and context of the training data. One way that [Schiffers, Kern and Hienert](https://arxiv.org/abs/2302.06174v1) suggest doing this is by using domain specific models (2023). Working with models that understand the nuances of your particular topic or field can better account for \"specialized vocabulary and semantic relationships\" that can help make applications of WE more effective. \n",
        "\n",
        "## Preparing for our Analysis\n",
        "#### Word2vec Features\n",
        "\n",
        "**Here are a few features of the word2vec tool that we can use to customize our analysis:**\n",
        "\n",
        "* `size`: Number of dimensions for word embedding model</li>\n",
        "* `window`: Number of context words to observe in each direction</li>\n",
        "* `min_count`: Minimum frequency for words included in model</li>\n",
        "* `sg` (Skip-Gram): '0' indicates CBOW model; '1' indicates Skip-Gram</li>\n",
        "* `alpha`: Learning rate (initial); prevents model from over-correcting, enables finer tuning</li>\n",
        "* `iterations`: Number of passes through dataset</li>\n",
        "* `batch size`: Number of words to sample from data during each pass</li>\n",
        "\n",
        "Note: the script uses default value for each argument.\n",
        "\n",
        "**Some limitations of the word2vec Model**\n",
        "\n",
        "* Within word2vec, common articles or conjunctions, called **stop words** such as \"the\" and \"and,\" may not provide very rich contextual information for a given word, and may need additional subsampling or to be combined into a word phrase (Anwla, 2019).\n",
        "* word2vec isn't always the best at handling out-of-vocabulary words well (Chandran, 2021).\n",
        "\n",
        "Let's begin our analysis!\n",
        "\n",
        "## Excercise #1: Eggs, Sausages and Bacon\n",
        "\n",
        "<img src=\"media/eggs_bacon_sausages.png\" width=\"750\"/>\n",
        "\n",
        "\n",
        "To begin, we are going to load a few packages that are necessary for our analysis. Please run the code cells below."
      ]
    },
    {
      "cell_type": "code",
      "execution_count": null,
      "metadata": {
        "tags": []
      },
      "outputs": [],
      "source": [
        "%pylab inline\n",
        "matplotlib.style.use('ggplot')"
      ]
    },
    {
      "cell_type": "markdown",
      "metadata": {},
      "source": [
        "#### Create a Document-Term Matrix (DTM) with a Few Pseudo-Texts\n",
        "To start off, we're going to create a mini dataframe based on the use of the words \"eggs,\" \"sausages\" and \"bacon\" found in three different novels: A, B and C."
      ]
    },
    {
      "cell_type": "code",
      "execution_count": null,
      "metadata": {
        "tags": []
      },
      "outputs": [],
      "source": [
        "# dataframes!\n",
        "import pandas\n",
        "\n",
        "# Construct dataframe with three novels each containing three words\n",
        "columns = ['eggs','sausage','bacon']\n",
        "indices = ['Novel A', 'Novel B', 'Novel C']\n",
        "dtm = [[50,60,60],[90,10,10], [20,70,70]]\n",
        "dtm_df = pandas.DataFrame(dtm, columns = columns, index = indices)\n",
        "\n",
        "# Show dataframe\n",
        "dtm_df"
      ]
    },
    {
      "cell_type": "markdown",
      "metadata": {},
      "source": [
        "### Visualize"
      ]
    },
    {
      "cell_type": "code",
      "execution_count": null,
      "metadata": {
        "tags": []
      },
      "outputs": [],
      "source": [
        "# Plot our points\n",
        "scatter(dtm_df['eggs'], dtm_df['sausage'])\n",
        "\n",
        "# Make the graph look good\n",
        "xlim([0,100]), ylim([0,100])\n",
        "xlabel('eggs'), ylabel('sausage')"
      ]
    },
    {
      "cell_type": "markdown",
      "metadata": {},
      "source": [
        "### Vectors\n",
        "\n",
        "At a glance, a couple of points are lying closer to one another. We used the word frequencies of just two of the three words (eggs and sausages) in order to plot our texts in a two-dimensional plane. The term frequency \"summaries\" of <i>Novel A</i> & <i>Novel C</i> are pretty similar to one another: they both share a major concern with \"sausage\", whereas <i>Novel B</i> seems to focus primarily on \"eggs.\"\n",
        "\n",
        "This raises a question: how can we operationalize our intuition that the spatial distance presented here expresses topical similarity?\n",
        "\n",
        "## Cosine Similarity\n",
        "The most common measurement of distance between points is their [Cosine Similarity](https://en.wikipedia.org/wiki/Cosine_similarity). Cosine similarity can operate on textual data that contain word vectors and allows us to identify how similar documents are to each other, for example. Cosine Similarity thus helps us understand how much content overlap a set of documents have with one another. For example, imagine that we were to draw an arrow from the origin of the graph - point (0,0) - to the dot representing each text. This arrow is called a _vector_. \n",
        "\n",
        "Mathematically, this can be represented as: \n",
        "\n",
        "<img src='media/Dot-Product.png' >\n",
        "\n",
        "Using our example above, we can see that the angle from (0,0) between Novel C and Novel A (orange triangle) is smaller than between Novel A and Novel B (navy triangle) or between Novel C and Novel B (both triangles together).\n",
        "\n",
        "<img src=\"media/annotated_scatterplot.png\" width=\"400\"/>\n",
        "\n",
        "Because this similarity measurement uses the cosine of the angle between vectors, the magnitude is not a matter of concern (this feature is really helpful for text vectors that can often be really long!). Instead, the output of cosine similarity yields a value between 0 and 1 (we don't have to work with something confusing like 18º!) that can be easily interpreted and compared - and thus we can also avoid the troubles associated with other dimensional distance measures such as [Euclidean Distance](https://en.wikipedia.org/wiki/Euclidean_distance).\n",
        "\n",
        "### Calculating Cosine Distance"
      ]
    },
    {
      "cell_type": "code",
      "execution_count": 4,
      "metadata": {
        "tags": []
      },
      "outputs": [],
      "source": [
        "# Although we want the Cosine Distance, it is mathematically simpler to calculate its opposite: Cosine Similarity\n",
        "\n",
        "from sklearn.metrics.pairwise import cosine_similarity"
      ]
    },
    {
      "cell_type": "code",
      "execution_count": 5,
      "metadata": {
        "tags": []
      },
      "outputs": [],
      "source": [
        "# So we will subtract the similarities from 1\n",
        "\n",
        "cos_sim = cosine_similarity(dtm_df)"
      ]
    },
    {
      "cell_type": "code",
      "execution_count": null,
      "metadata": {
        "tags": []
      },
      "outputs": [],
      "source": [
        "# Make it a little easier to read by rounding the values\n",
        "\n",
        "np.round(cos_sim, 2)\n",
        "\n",
        "# Label the dataframe rows and columns with eggs, sausage and bacon\n",
        "\n",
        "frame_2 = np.round(cos_sim, 2)\n",
        "frame_2 = pandas.DataFrame(frame_2, columns = indices, index = indices)\n",
        "frame_2"
      ]
    },
    {
      "cell_type": "markdown",
      "metadata": {},
      "source": [
        "_From this output table, which novels appear to be more similar to each other?_\n",
        "\n",
        "## Excercise #2: Working with 18th Century Literature\n",
        "\n",
        "<img src=\"media/18th_cent_literature.png\" width=\"750\"/>"
      ]
    },
    {
      "cell_type": "code",
      "execution_count": null,
      "metadata": {
        "tags": []
      },
      "outputs": [],
      "source": [
        "# Compare the distance between novels\n",
        "\n",
        "filelist = ['txtlab_Novel450_English/EN_1850_Hawthorne,Nathaniel_TheScarletLetter_Novel.txt',\n",
        "            'txtlab_Novel450_English/EN_1851_Hawthorne,Nathaniel_TheHouseoftheSevenGables_Novel.txt',\n",
        "            'txtlab_Novel450_English/EN_1920_Fitzgerald,FScott_ThisSideofParadise_Novel.txt',\n",
        "            'txtlab_Novel450_English/EN_1922_Fitzgerald,FScott_TheBeautifulandtheDamned_Novel.txt',\n",
        "            'txtlab_Novel450_English/EN_1811_Austen,Jane_SenseandSensibility_Novel.txt',\n",
        "            'txtlab_Novel450_English/EN_1813_Austen,Jane_PrideandPrejudice_Novel.txt']\n",
        "\n",
        "novel_names = ['Hawthorne: Scarlet Letter',\n",
        "           'Hawthorne: Seven Gables',\n",
        "           'Fitzgerald: This Side of Paradise',\n",
        "           'Fitzgerald: Beautiful and the Damned',\n",
        "           'Austen: Sense and Sensibility',\n",
        "           'Austen: Pride and Prejudice']\n",
        "\n",
        "text_list = []\n",
        "\n",
        "for file in filelist:\n",
        "    with open(file, 'r', encoding = 'utf-8') as myfile:\n",
        "        text_list.append(myfile.read()) \n",
        "\n",
        "# Import the function CountVectorizer\n",
        "from sklearn.feature_extraction.text import CountVectorizer\n",
        "\n",
        "cv = CountVectorizer(stop_words = 'english', min_df = 3, binary=True)\n",
        "\n",
        "novel_dtm = cv.fit_transform(text_list).toarray()\n",
        "feature_list = cv.get_feature_names()\n",
        "dtm_df_novel = pandas.DataFrame(novel_dtm, columns = feature_list, index = novel_names)\n",
        "dtm_df_novel"
      ]
    },
    {
      "cell_type": "code",
      "execution_count": 13,
      "metadata": {
        "tags": []
      },
      "outputs": [],
      "source": [
        "cos_sim_novel = cosine_similarity(dtm_df_novel)\n",
        "cos_sim_novel = np.round(cos_sim_novel, 2)"
      ]
    },
    {
      "cell_type": "code",
      "execution_count": null,
      "metadata": {
        "tags": []
      },
      "outputs": [],
      "source": [
        "cos_df = pandas.DataFrame(cos_sim_novel, columns = novel_names, index = novel_names)\n",
        "cos_df"
      ]
    },
    {
      "cell_type": "code",
      "execution_count": null,
      "metadata": {
        "tags": []
      },
      "outputs": [],
      "source": [
        "# Visualizing differences\n",
        "\n",
        "from sklearn.manifold import MDS\n",
        "\n",
        "# Two components as we're plotting points in a two-dimensional plane\n",
        "# \"Precomputed\" because we provide a distance matrix\n",
        "# We will also specify `random_state` so that the plot is reproducible.\n",
        "\n",
        "# Transform cosine similarity to cosine distance\n",
        "cos_dist = 1 - cosine_similarity(dtm_df_novel)\n",
        "\n",
        "mds = MDS(n_components=2, dissimilarity=\"precomputed\", random_state=1)\n",
        "\n",
        "pos = mds.fit_transform(cos_dist)  # shape (n_components, n_samples)\n",
        "xs, ys = pos[:, 0], pos[:, 1]\n",
        "\n",
        "for x, y, name in zip(xs, ys, novel_names):\n",
        "    plt.scatter(x, y)\n",
        "    plt.text(x, y, name)\n",
        "\n",
        "plt.show()"
      ]
    },
    {
      "cell_type": "markdown",
      "metadata": {},
      "source": [
        "The above method has a broad range of applications, such as unsupervised clustering. Common techniques include <a href = \"https://en.wikipedia.org/wiki/K-means_clustering\">K-Means Clustering</a> and <a href=\"https://en.wikipedia.org/wiki/Hierarchical_clustering\">Hierarchical Dendrograms</a>. These attempt to identify groups of texts with shared content, based on these kinds of distance measures.\n",
        "\n",
        "Here's an example of a dendrogram based on these six novels:"
      ]
    },
    {
      "cell_type": "code",
      "execution_count": null,
      "metadata": {
        "tags": []
      },
      "outputs": [],
      "source": [
        "from scipy.cluster.hierarchy import ward, dendrogram\n",
        "linkage_matrix = ward(cos_dist)\n",
        "\n",
        "dendrogram(linkage_matrix, orientation=\"right\", labels=novel_names)\n",
        "\n",
        "plt.tight_layout()  # fixes margins\n",
        "\n",
        "plt.show()"
      ]
    },
    {
      "cell_type": "markdown",
      "metadata": {},
      "source": [
        "#### Vector Semantics\n",
        "\n",
        "We can also turn this logic on its head. Rather than produce vectors representing texts based on their words, we will produce vectors for the words based on their contexts."
      ]
    },
    {
      "cell_type": "code",
      "execution_count": null,
      "metadata": {
        "tags": []
      },
      "outputs": [],
      "source": [
        "# Turn our DTM sideways\n",
        "\n",
        "dtm_df_novel.T.head()"
      ]
    },
    {
      "cell_type": "code",
      "execution_count": 21,
      "metadata": {
        "tags": []
      },
      "outputs": [],
      "source": [
        "# Find the Cosine Distances between pairs of word-vectors\n",
        "\n",
        "cos_sim_words = cosine_similarity(dtm_df_novel.T)"
      ]
    },
    {
      "cell_type": "code",
      "execution_count": null,
      "metadata": {
        "tags": []
      },
      "outputs": [],
      "source": [
        "# In readable format\n",
        "\n",
        "np.round(cos_sim_words, 2)"
      ]
    },
    {
      "cell_type": "markdown",
      "metadata": {},
      "source": [
        "Theoretically you could visualize and cluster these as well - but this takes a lot of computational power!\n",
        "\n",
        "We'll thus turn to the machine learning version: word embeddings"
      ]
    },
    {
      "cell_type": "code",
      "execution_count": 23,
      "metadata": {
        "tags": []
      },
      "outputs": [],
      "source": [
        "# Clean-up memory\n",
        "import sys\n",
        "\n",
        "# These are the usual ipython objects, including this one you are creating\n",
        "ipython_vars = ['In', 'Out', 'exit', 'quit', 'get_ipython', 'ipython_vars']\n",
        "\n",
        "# Get a sorted list of the objects and their sizes\n",
        "sorted([(x, sys.getsizeof(globals().get(x))) for x in dir() if not x.startswith('_') and x not in sys.modules and x not in ipython_vars], key=lambda x: x[1], reverse=True)\n",
        "\n",
        " \n",
        "del cos_sim_words \n",
        "del dtm_df_novel \n",
        "del novel_dtm \n",
        "del feature_list"
      ]
    },
    {
      "cell_type": "markdown",
      "metadata": {},
      "source": [
        "<font color = \"blue\" size=5>At this point you should restart your kernel if < 4 gb memory available</font>\n",
        "    \n",
        "* Do this by clicking on the \"Kernel\" menu and hitting \"restart\"\n",
        "\n",
        "## Exercise #3: Using word2vec with 150 English Novels\n",
        "\n",
        "In this exercise, we'll use an English-language subset from a dataset about novels created by [Andrew Piper](https://www.mcgill.ca/langlitcultures/andrew-piper). Specifically we'll look at 150 novels by British and American authors spanning the years 1771-1930. These texts reside on disk, each in a separate plaintext file. Metadata is contained in a spreadsheet distributed with the novel files.\n",
        "\n",
        "#### Metadata Columns\n",
        "1. Filename: Name of file on disk\n",
        "2. ID: Unique ID in Piper corpus\n",
        "3. Language: Language of novel\n",
        "4. Date: Initial publication date\n",
        "5. Title: Title of novel\n",
        "6. Gender: Authorial gender\n",
        "7. Person: Textual perspective\n",
        "8. Length: Number of tokens in novel"
      ]
    },
    {
      "cell_type": "code",
      "execution_count": 1,
      "metadata": {
        "tags": []
      },
      "outputs": [],
      "source": [
        "# Data Wrangling\n",
        "\n",
        "import os\n",
        "import numpy as np\n",
        "import pandas\n",
        "from scipy.spatial.distance import cosine\n",
        "from sklearn.metrics import pairwise\n",
        "from sklearn.manifold import MDS, TSNE"
      ]
    },
    {
      "cell_type": "code",
      "execution_count": null,
      "metadata": {
        "tags": []
      },
      "outputs": [],
      "source": [
        "# Natural Language Processing\n",
        "\n",
        "import nltk\n",
        "nltk.download('punkt')\n",
        "from nltk.tokenize import word_tokenize, sent_tokenize"
      ]
    },
    {
      "cell_type": "code",
      "execution_count": null,
      "metadata": {},
      "outputs": [],
      "source": [
        "!pip install gensim"
      ]
    },
    {
      "cell_type": "code",
      "execution_count": 4,
      "metadata": {
        "tags": []
      },
      "outputs": [],
      "source": [
        "# New library (not in Anaconda: gensim)\n",
        "import gensim"
      ]
    },
    {
      "cell_type": "markdown",
      "metadata": {},
      "source": [
        "#### Import Corpus"
      ]
    },
    {
      "cell_type": "code",
      "execution_count": 5,
      "metadata": {
        "tags": []
      },
      "outputs": [],
      "source": [
        "# Custom Tokenizer for Classroom Use\n",
        "\n",
        "def fast_tokenize(text):\n",
        "    \n",
        "    # Get a list of punctuation marks\n",
        "    from string import punctuation\n",
        "    \n",
        "    lower_case = text.lower()\n",
        "    \n",
        "    # Iterate through text removing punctuation characters\n",
        "    no_punct = \"\".join([char for char in lower_case if char not in punctuation])\n",
        "    \n",
        "    # Split text over whitespace into list of words\n",
        "    tokens = no_punct.split()\n",
        "    \n",
        "    return tokens"
      ]
    },
    {
      "cell_type": "markdown",
      "metadata": {},
      "source": [
        "#### Import Metadata"
      ]
    },
    {
      "cell_type": "code",
      "execution_count": 6,
      "metadata": {
        "tags": []
      },
      "outputs": [],
      "source": [
        "# Import Metadata into Pandas Dataframe\n",
        "\n",
        "meta_df = pandas.read_csv('resources/txtlab_Novel450_English.csv', encoding = 'utf-8')"
      ]
    },
    {
      "cell_type": "code",
      "execution_count": null,
      "metadata": {
        "scrolled": true,
        "tags": []
      },
      "outputs": [],
      "source": [
        "# Check Metadata\n",
        "\n",
        "meta_df.head()"
      ]
    },
    {
      "cell_type": "code",
      "execution_count": 8,
      "metadata": {
        "tags": []
      },
      "outputs": [],
      "source": [
        "# Set location of corpus folder\n",
        "\n",
        "fiction_folder = 'txtlab_Novel450_English/'"
      ]
    },
    {
      "cell_type": "code",
      "execution_count": 9,
      "metadata": {
        "tags": []
      },
      "outputs": [],
      "source": [
        "import os\n",
        "\n",
        "# Create an empty list to store the text of each novel\n",
        "novel_list = []\n",
        "\n",
        "# Iterate through filenames in 'fiction_folder'\n",
        "for filename in os.listdir(fiction_folder):\n",
        "    file_path = os.path.join(fiction_folder, filename)\n",
        "    \n",
        "    try:\n",
        "        # Attempt to read the novel text as a string using utf-8 encoding\n",
        "        with open(file_path, 'r', encoding='utf-8') as file_in:\n",
        "            this_novel = file_in.read()\n",
        "        \n",
        "        # Add novel text as a single string to the master list\n",
        "        novel_list.append(this_novel)\n",
        "    \n",
        "    except UnicodeDecodeError as e:\n",
        "        # Handle encoding errors by skipping the problematic file\n",
        "        print(f\"UnicodeDecodeError: Unable to read '{filename}' - Skipping this file.\")\n",
        "        continue\n",
        "\n",
        "# Now 'novel_list' contains the text of all readable novels."
      ]
    },
    {
      "cell_type": "code",
      "execution_count": null,
      "metadata": {
        "tags": []
      },
      "outputs": [],
      "source": [
        "# Inspect first item in novel_list\n",
        "\n",
        "novel_list[0][:500]"
      ]
    },
    {
      "cell_type": "markdown",
      "metadata": {},
      "source": [
        "#### Pre-Processing\n",
        "word2Vec learns about the relationships among words by observing them in context. This means that we want to split our texts into word-units. However, we  want to maintain sentence boundaries as well, since the last word of the previous sentence might skew the meaning of the next sentence.\n",
        "\n",
        "Since novels were imported as single strings, we'll first need to divide them into sentences, and second, we'll split each sentence into its own list of words."
      ]
    },
    {
      "cell_type": "code",
      "execution_count": 11,
      "metadata": {
        "tags": []
      },
      "outputs": [],
      "source": [
        "# Split each novel into sentences\n",
        "\n",
        "sentences = [sentence for novel in novel_list for sentence in sent_tokenize(novel)]\n",
        "\n",
        "del novel_list"
      ]
    },
    {
      "cell_type": "code",
      "execution_count": null,
      "metadata": {
        "tags": []
      },
      "outputs": [],
      "source": [
        "# Inspect first sentence\n",
        "\n",
        "sentences[0]"
      ]
    },
    {
      "cell_type": "code",
      "execution_count": 14,
      "metadata": {
        "tags": []
      },
      "outputs": [],
      "source": [
        "# Split each sentence into tokens\n",
        "\n",
        "sentences = [fast_tokenize(sentence) for sentence in sentences]"
      ]
    },
    {
      "cell_type": "code",
      "execution_count": 15,
      "metadata": {
        "tags": []
      },
      "outputs": [],
      "source": [
        "# Remove any sentences that contain zero tokens\n",
        "\n",
        "sentences = [sentence for sentence in sentences if sentence != []]"
      ]
    },
    {
      "cell_type": "code",
      "execution_count": null,
      "metadata": {
        "scrolled": true,
        "tags": []
      },
      "outputs": [],
      "source": [
        "# Inspect first sentence\n",
        "\n",
        "sentences[0]"
      ]
    },
    {
      "cell_type": "markdown",
      "metadata": {},
      "source": [
        "#### Training\n",
        "\n",
        "To train the model, we would run:\n",
        "\n",
        "```\n",
        "# Train word2vec model from txtLab corpus\n",
        "\n",
        "model = gensim.models.Word2Vec(sentences, vector_size=100, window=5, \\\n",
        "                               min_count=25, sg=1, alpha=0.025, epochs=5, batch_words=10000)\n",
        "```\n",
        "\n",
        "However, this is both slow and memory intensive, so instead we will load pre-trained data."
      ]
    },
    {
      "cell_type": "code",
      "execution_count": 17,
      "metadata": {
        "scrolled": true,
        "tags": []
      },
      "outputs": [],
      "source": [
        "#unload monster dataframe\n",
        "del sentences\n",
        "\n",
        "# Load pre-trained model from harddisk\n",
        "model = gensim.models.KeyedVectors.load_word2vec_format('resources/word2vec.txtlab_Novel150_English.txt')"
      ]
    },
    {
      "cell_type": "markdown",
      "metadata": {},
      "source": [
        "## Embeddings"
      ]
    },
    {
      "cell_type": "code",
      "execution_count": null,
      "metadata": {
        "scrolled": true,
        "tags": []
      },
      "outputs": [],
      "source": [
        "# Return dense word vector\n",
        "\n",
        "model.get_vector('whale')"
      ]
    },
    {
      "cell_type": "markdown",
      "metadata": {},
      "source": [
        "## Vector-Space Operations\n",
        "\n",
        "### Similarity\n",
        "Since words are represented as dense vectors, we can ask how similiar words' meanings are based on their cosine similarity (essentially how much they overlap). <em>gensim</em> has a few out-of-the-box functions that enable different kinds of comparisons."
      ]
    },
    {
      "cell_type": "code",
      "execution_count": null,
      "metadata": {
        "tags": []
      },
      "outputs": [],
      "source": [
        "# Find cosine distance between two given word vectors\n",
        "\n",
        "model.similarity('pride','prejudice')"
      ]
    },
    {
      "cell_type": "code",
      "execution_count": null,
      "metadata": {
        "tags": []
      },
      "outputs": [],
      "source": [
        "# Find nearest word vectors by cosine distance\n",
        "\n",
        "model.most_similar('pride')"
      ]
    },
    {
      "cell_type": "code",
      "execution_count": null,
      "metadata": {
        "tags": []
      },
      "outputs": [],
      "source": [
        "# Given a list of words, we can ask which doesn't belong\n",
        "\n",
        "# Finds mean vector of words in list\n",
        "# and identifies the word further from that mean\n",
        "\n",
        "model.doesnt_match(['pride','prejudice', 'whale'])"
      ]
    },
    {
      "cell_type": "markdown",
      "metadata": {},
      "source": [
        "### Multiple Valences\n",
        "A word embedding may encode both primary and secondary meanings that are both present at the same time. In order to identify secondary meanings in a word, we can subtract the vectors of primary (or simply unwanted) meanings. For example, we may wish to remove the sense of <em>river bank</em> from the word <em>bank</em>. This would be written mathetmatically as <em>RIVER - BANK</em>, which in <em>gensim</em>'s interface lists <em>RIVER</em> as a positive meaning and <em>BANK</em> as a negative one."
      ]
    },
    {
      "cell_type": "code",
      "execution_count": null,
      "metadata": {
        "tags": []
      },
      "outputs": [],
      "source": [
        "# Get most similar words to BANK, in order to get a sense for its primary meaning\n",
        "\n",
        "model.most_similar('bank')"
      ]
    },
    {
      "cell_type": "code",
      "execution_count": null,
      "metadata": {
        "tags": []
      },
      "outputs": [],
      "source": [
        "# Remove the sense of \"river bank\" from \"bank\" and see what is left\n",
        "\n",
        "model.most_similar(positive=['bank'], negative=['river'])"
      ]
    },
    {
      "cell_type": "markdown",
      "metadata": {},
      "source": [
        "### Analogy\n",
        "Analogies are rendered as simple mathematical operations in vector space. For example, the canonic word2vec analogy <em>MAN is to KING as WOMAN is to ??</em> is rendered as <em>KING - MAN + WOMAN</em>. In the gensim interface, we designate <em>KING</em> and <em>WOMAN</em> as positive terms and <em>MAN</em> as a negative term, since it is subtracted from those."
      ]
    },
    {
      "cell_type": "code",
      "execution_count": null,
      "metadata": {
        "tags": []
      },
      "outputs": [],
      "source": [
        "# Get most similar words to KING, in order\n",
        "# to get a sense for its primary meaning\n",
        "\n",
        "model.most_similar('king')"
      ]
    },
    {
      "cell_type": "code",
      "execution_count": null,
      "metadata": {
        "tags": []
      },
      "outputs": [],
      "source": [
        "# The canonic word2vec analogy: King - Man + Woman -> Queen\n",
        "\n",
        "model.most_similar(positive=['woman', 'king'], negative=['man'])"
      ]
    },
    {
      "cell_type": "markdown",
      "metadata": {},
      "source": [
        "### Gendered Vectors\n",
        "Note that this method uses vector projection, whereas Schmidt had used rejection."
      ]
    },
    {
      "cell_type": "code",
      "execution_count": null,
      "metadata": {
        "scrolled": true,
        "tags": []
      },
      "outputs": [],
      "source": [
        "# Feminine Vector\n",
        "\n",
        "model.most_similar(positive=['she','her','hers','herself'], negative=['he','him','his','himself'])"
      ]
    },
    {
      "cell_type": "code",
      "execution_count": null,
      "metadata": {
        "tags": []
      },
      "outputs": [],
      "source": [
        "# Masculine Vector\n",
        "\n",
        "model.most_similar(positive=['he','him','his','himself'], negative=['she','her','hers','herself'])"
      ]
    },
    {
      "cell_type": "markdown",
      "metadata": {},
      "source": [
        "## Visualization"
      ]
    },
    {
      "cell_type": "code",
      "execution_count": null,
      "metadata": {
        "tags": []
      },
      "outputs": [],
      "source": [
        "# Dictionary of words in model\n",
        "\n",
        "model.key_to_index"
      ]
    },
    {
      "cell_type": "code",
      "execution_count": null,
      "metadata": {
        "tags": []
      },
      "outputs": [],
      "source": [
        "# Visualizing the whole vocabulary would make it hard to read\n",
        "\n",
        "len(model.key_to_index)"
      ]
    },
    {
      "cell_type": "code",
      "execution_count": 30,
      "metadata": {
        "tags": []
      },
      "outputs": [],
      "source": [
        "# For interpretability, we'll select words that already have a semantic relation\n",
        "\n",
        "her_tokens = [token for token,weight in model.most_similar(positive=['she','her','hers','herself'], \\\n",
        "                                                       negative=['he','him','his','himself'], topn=50)]"
      ]
    },
    {
      "cell_type": "code",
      "execution_count": null,
      "metadata": {
        "scrolled": true,
        "tags": []
      },
      "outputs": [],
      "source": [
        "# Inspect list\n",
        "\n",
        "her_tokens[:15]"
      ]
    },
    {
      "cell_type": "code",
      "execution_count": 32,
      "metadata": {
        "tags": []
      },
      "outputs": [],
      "source": [
        "# Get the vector for each sampled word\n",
        "\n",
        "vectors = [model.get_vector(word) for word in her_tokens] "
      ]
    },
    {
      "cell_type": "code",
      "execution_count": null,
      "metadata": {
        "tags": []
      },
      "outputs": [],
      "source": [
        "# Calculate distances among texts in vector space\n",
        "\n",
        "dist_matrix = pairwise.pairwise_distances(vectors, metric='cosine')\n",
        "dist_matrix"
      ]
    },
    {
      "cell_type": "code",
      "execution_count": 34,
      "metadata": {
        "tags": []
      },
      "outputs": [],
      "source": [
        "# Multi-Dimensional Scaling (Project vectors into 2-D)\n",
        "\n",
        "mds = MDS(n_components = 2, dissimilarity='precomputed')\n",
        "embeddings = mds.fit_transform(dist_matrix)"
      ]
    },
    {
      "cell_type": "code",
      "execution_count": null,
      "metadata": {
        "tags": []
      },
      "outputs": [],
      "source": [
        "# Make a pretty graph\n",
        "%pylab inline\n",
        "matplotlib.style.use('ggplot')\n",
        "\n",
        "_, ax = subplots(figsize=(10,10))\n",
        "ax.scatter(embeddings[:,0], embeddings[:,1], alpha=0)\n",
        "for i in range(len(vectors)):\n",
        "    ax.annotate(her_tokens[i], ((embeddings[i,0], embeddings[i,1])))"
      ]
    },
    {
      "cell_type": "code",
      "execution_count": null,
      "metadata": {
        "tags": []
      },
      "outputs": [],
      "source": [
        "# For comparison, here is the same graph using a masculine-pronoun vector\n",
        "\n",
        "his_tokens = [token for token,weight in model.most_similar(positive=['he','him','his','himself'], \\\n",
        "                                                       negative=['she','her','hers','herself'], topn=50)]\n",
        "vectors = [model.get_vector(word) for word in his_tokens]\n",
        "dist_matrix = pairwise.pairwise_distances(vectors, metric='cosine')\n",
        "mds = MDS(n_components = 2, dissimilarity='precomputed')\n",
        "embeddings = mds.fit_transform(dist_matrix)\n",
        "_, ax = plt.subplots(figsize=(10,10))\n",
        "ax.scatter(embeddings[:,0], embeddings[:,1], alpha=0)\n",
        "for i in range(len(vectors)):\n",
        "    ax.annotate(his_tokens[i], ((embeddings[i,0], embeddings[i,1])))"
      ]
    },
    {
      "cell_type": "markdown",
      "metadata": {},
      "source": [
        "> <span style=\"color:#CC7A00\" > What kinds of semantic relationships exist in the diagram above? </p>\n",
        "> <span style=\"color:#CC7A00\" > Are there any words that seem out of place?\n",
        "</span>\n",
        "\n",
        "## Saving & Loading Models"
      ]
    },
    {
      "cell_type": "code",
      "execution_count": 37,
      "metadata": {
        "tags": []
      },
      "outputs": [],
      "source": [
        "# Save current model for later use\n",
        "\n",
        "model.save_word2vec_format('resources/word2vec.txtlab_Novel150_English.txt')\n",
        "#model.save_word2vec_format('resources/word2vec.txtlab_Novel150_English.txt') # deprecated"
      ]
    },
    {
      "cell_type": "code",
      "execution_count": 38,
      "metadata": {
        "tags": []
      },
      "outputs": [],
      "source": [
        "# Load up models from disk\n",
        "\n",
        "# Model trained on Eighteenth Century Collections Online corpus (~2500 texts)\n",
        "# Made available by Ryan Heuser: http://ryanheuser.org/word-vectors-1/\n",
        "\n",
        "ecco_model = gensim.models.KeyedVectors.load_word2vec_format('resources/word2vec.ECCO-TCP.txt')\n",
        "#ecco_model = gensim.models.Word2Vec.load_word2vec_format('resources/word2vec.ECCO-TCP.txt') # deprecated"
      ]
    },
    {
      "cell_type": "code",
      "execution_count": null,
      "metadata": {
        "tags": []
      },
      "outputs": [],
      "source": [
        "# What are similar words to BANK?\n",
        "\n",
        "ecco_model.most_similar('bank')"
      ]
    },
    {
      "cell_type": "code",
      "execution_count": null,
      "metadata": {
        "tags": []
      },
      "outputs": [],
      "source": [
        "# What if we remove the sense of \"river bank\"?\n",
        "\n",
        "ecco_model.most_similar(positive=['bank'], negative=['river'])"
      ]
    },
    {
      "cell_type": "markdown",
      "metadata": {},
      "source": [
        "## Exercises!\n",
        "See if you can attempt the following exercises on your own!"
      ]
    },
    {
      "cell_type": "code",
      "execution_count": null,
      "metadata": {
        "tags": []
      },
      "outputs": [],
      "source": [
        "## EX. Use the most_similar method to find the tokens nearest to 'car' in either model.\n",
        "##     Do the same for 'motorcar'.\n",
        "\n",
        "## Q.  What characterizes these two words inthe corpus? Does this make sense?\n",
        "\n",
        "model.most_similar('car')"
      ]
    },
    {
      "cell_type": "code",
      "execution_count": null,
      "metadata": {
        "tags": []
      },
      "outputs": [],
      "source": [
        "model.most_similar('motorcar')"
      ]
    },
    {
      "cell_type": "code",
      "execution_count": null,
      "metadata": {
        "tags": []
      },
      "outputs": [],
      "source": [
        "## EX. How does our model answer the analogy: MADRID is to SPAIN as PARIS is to __________\n",
        "\n",
        "## Q.  What has our model learned about nation-states?\n",
        "\n",
        "\n",
        "model.most_similar(positive=['paris', 'spain'], negative = ['madrid'])"
      ]
    },
    {
      "cell_type": "code",
      "execution_count": null,
      "metadata": {
        "tags": []
      },
      "outputs": [],
      "source": [
        "## EX. Perform the canonic Word2Vec addition again but leave out a term:\n",
        "##     Try 'king' - 'man', 'woman' - 'man', 'woman' + 'king'\n",
        "\n",
        "## Q.  What do these indicate semantically?\n",
        "\n",
        "model.most_similar(positive= ['woman'], negative=['man'])"
      ]
    },
    {
      "cell_type": "code",
      "execution_count": null,
      "metadata": {
        "tags": []
      },
      "outputs": [],
      "source": [
        "## EX. Heuser's blog post explores an analogy in eighteenth-century thought that\n",
        "##     RICHES are to VIRTUE what LEARNING is to GENIUS. How true is this in\n",
        "##     the ECCO-trained Word2Vec model? Is it true in the one we trained?\n",
        "\n",
        "##  Q. How might we compare word2vec models more generally?"
      ]
    },
    {
      "cell_type": "code",
      "execution_count": null,
      "metadata": {
        "tags": []
      },
      "outputs": [],
      "source": [
        "# ECCO model: RICHES are to VIRTUE what LEARNING is to ??\n",
        "\n",
        "ecco_model.most_similar(positive=['learning', 'virtue'], negative=['riches'])"
      ]
    },
    {
      "cell_type": "code",
      "execution_count": null,
      "metadata": {
        "scrolled": true,
        "tags": []
      },
      "outputs": [],
      "source": [
        "# txtLab model: RICHES are to VIRTUE what LEARNING is to ??\n",
        "model.most_similar(positive=['learning', 'virtue'], negative=['riches'])"
      ]
    },
    {
      "cell_type": "markdown",
      "metadata": {},
      "source": [
        "## Concluding Remarks and Resources\n",
        "Throughout this notebook we have seen how a number of mathematical operations can be used to explore word2vec's word embeddings. Hopefully this notebook has allowed you to see how the inherent biases of language become coded into word embeddings and systems that use word embeddings cannot be treated as search engines. \n",
        "\n",
        "While getting inside the technics of these computational processes can enable us to answer a set of new, interesting questions dealing with semantics, there are many other questions that remain unanswered.\n",
        "\n",
        "For example:\n",
        "* Many language models are built using text from large, online corpora (such as Wikipedia, which is known to have a contributor basis that is majority white, college-educated men) - what kind of impact might this have on a language model?\n",
        "* What barriers to the healthy functioning of democracy are created by the widespread use of these tools and technologies in society?\n",
        "* How might language models challenge or renegotiate ideas around copyright, intellectual property and conceptions of authorship more broadly?\n",
        "* What might guardrails look like for the safe and equitable management and deployment of language models?\n",
        "\n",
        "## Other Resources for Further Learning\n",
        "* [UBC Library Generative AI Research Guide](https://guides.library.ubc.ca/GenAI/home)\n",
        "* [What Is ChatGPT Doing … and Why Does It Work?](https://writings.stephenwolfram.com/2023/02/what-is-chatgpt-doing-and-why-does-it-work/) by Stephen Wolfram\n",
        "* [TensorFlow Word Embeddings tutorial](https://www.tensorflow.org/text/guide/word_embeddings)\n",
        "\n",
        "## References\n",
        "This notebook has been built using the following materials:\n",
        "- Arseniev-Koehler, A., & Foster, J. G. (2020). Sociolinguistic Properties of Word Embeddings [Preprint]. SocArXiv. https://doi.org/10.31235/osf.io/b8kud\n",
        "- Schiffers, R., Kern, D., & Hienert, D. (2023). Evaluation of Word Embeddings for the Social Sciences (arXiv:2302.06174). arXiv. http://arxiv.org/abs/2302.06174\n",
        "\n",
        "- Anwla, P. K. (2019, October 22). Challenges in word2vec Model. TowardsMachineLearning. https://towardsmachinelearning.org/performance-problems-in-word2vec-model/\n",
        "\n",
        "- Chandran, S. (2021, November 16). Introduction to Text Representations for Language Processing—Part 2. Medium. https://towardsdatascience.com/introduction-to-text-representations-for-language-processing-part-2-54fe6907868\n"
      ]
    }
  ],
  "metadata": {
    "kernelspec": {
      "display_name": "Python 3 (ipykernel)",
      "language": "python",
      "name": "python3"
    },
    "language_info": {
      "codemirror_mode": {
        "name": "ipython",
        "version": 3
      },
      "file_extension": ".py",
      "mimetype": "text/x-python",
      "name": "python",
      "nbconvert_exporter": "python",
      "pygments_lexer": "ipython3",
      "version": "3.8.8"
    }
  },
  "nbformat": 4,
  "nbformat_minor": 4
}
