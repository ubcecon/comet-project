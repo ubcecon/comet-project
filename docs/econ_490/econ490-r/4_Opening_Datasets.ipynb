{
 "cells": [
  {
   "cell_type": "markdown",
   "id": "0c979bda",
   "metadata": {},
   "source": [
    "# ECON 490: Opening Datasets (4)\n",
    "\n",
    "## Prerequisites\n",
    "\n",
    "1. Understand the basics of R such as data types and structures.\n",
    "\n",
    "\n",
    "## Learning Outcomes\n",
    "\n",
    "After completing this notebook, you will be able to:\n",
    "\n",
    "1. Load a variety of data types into R using various functions.\n",
    "2. View and reformat variables, specifically by factorizing.\n",
    "3. Work with missing data.\n",
    "4. Select subsets of observations and variables for use."
   ]
  },
  {
   "cell_type": "markdown",
   "id": "78473b63-1d41-4186-89ff-ce856e6c1bd0",
   "metadata": {},
   "source": [
    "In this notebook, we will focus on loading, viewing and cleaning up our data set: these are **fundamental** skills which will be necessary for essentially every data project we will do.  This data analysis process usually consists of four steps:\n",
    "\n",
    "1. We clear the workspace and set up the directory (the folder that R accesses whenever we run a command that either opens or saves a file).\n",
    "2. We load the data into R, meaning we take a file on our computer and tell R how to interpret it.\n",
    "2. We inspect the data through a variety of methods to ensure it looks good and has been properly loaded.\n",
    "2. We clean up the data by removing missing observations and adjusting the way variables are interpreted.\n",
    "\n",
    "In this module, we will cover each of these steps in detail."
   ]
  },
  {
   "cell_type": "markdown",
   "id": "34424cb4-d2e8-4c01-aa6f-c1a08b83ff23",
   "metadata": {},
   "source": [
    "## 4.1 Clearing the workspace and changing the directory\n",
    "Our script files should begin with a command that clears the previous work that has been done in R. This makes sure that\n",
    "\n",
    "1. we do not waste computer memory on thinfs other than the current project;\n",
    "2. whatever result we obtain in the current session truly belongs to that session.\n",
    "\n",
    "To clear our workspace, we can use the `rm()` function. If we do not specify any object names as inputs of the `rm()` function, R will remove all objects available in the workspace. Alternatively, we can use the function `ls()` which lists all the objects in the current workspace. Any one of the two commands below will clear our workspace from all existing objects."
   ]
  },
  {
   "cell_type": "code",
   "execution_count": null,
   "id": "a37a51d1-2fdb-49cc-b5be-14cf94f4e9df",
   "metadata": {},
   "outputs": [],
   "source": [
    "rm()\n",
    "rm(list=ls())"
   ]
  },
  {
   "cell_type": "markdown",
   "id": "31f4756e-7be2-487b-8fb5-bbaed212fc1d",
   "metadata": {},
   "source": [
    "Before importing data into R, it is useful to know how to change the folder that R accesses whenever we run a command that either opens or saves a file. Once we instruct R to change the directory to a specific folder, from that point onward it will open files from that folder and save all files to that folder, including data files and script files. R will continue to do this until either the program is closed or we change to another directory.\n",
    "\n",
    "Before changing the directory, it is important to know what the current directory is. In R, we can view the current directory with the command `getwd()`."
   ]
  },
  {
   "cell_type": "code",
   "execution_count": null,
   "id": "960f4820-0d25-4583-987e-64e65ac0eded",
   "metadata": {},
   "outputs": [],
   "source": [
    "print(getwd())"
   ]
  },
  {
   "cell_type": "markdown",
   "id": "192509a5-5401-4746-8c4f-c46497500621",
   "metadata": {},
   "source": [
    "<div class=\"alert alert-info\">\n",
    "\n",
    "**Note:**  We write the directory path within quotation marks to make sure R interprets this as a single string of words. If we don't do this, we may encounter issues with folders that include blank spaces. \n",
    "\n",
    "</div>\n",
    "\n",
    "Now that we know what the current directory is, we can change it to any specific location you like by using the command `setwd()` and a file path in quotes.\n",
    "For example, we can change our working directory to a directory named \"some_folder/some_folder\" with the command `setwd(\"some_folder/some_subfolder\")`.\n",
    "\n",
    "Instead of changing directory every time, R allows us to create 'projects'. RStudio Projects are built-in features of RStudio that allow us to create a working directory for a project which we can launch whenever we want. \n",
    "\n",
    "To create an RStudio Project, first launch RStudio. Then navigate through __File__, __New Project__, __New Directory__, and then __New Project__. You can then choose the name of your project and select where you would like the project to be stored. To allow for the project to live on OneDrive (which is highly recommended), select the OneDrive directory in your computer. Finally, create the project. If you access your OneDrive folder on your computer, you should then see a subfolder with your project name and a default .RProj object already inside.\n",
    "Whenever you want to return to your project to work on it, you can simply click the .RStudio Project object above. You can also start a fresh session in RStudio and navigate to your project by selecting __File__, __Open Project__, and then following the specified instructions.\n",
    "More details on RStudio Projects can be found in [Module 17](econometrics/econ490-r/17_Wf_Guide.ipynb)."
   ]
  },
  {
   "cell_type": "markdown",
   "id": "8b0367ff-d748-4ce9-b73d-bd7c29871dcf",
   "metadata": {},
   "source": [
    "## 4.2 Loading Data\n",
    "\n",
    "Before we can load our data, we need to tell R which packages we will be using in our notebook. Without these packages, R will not have access to the appropriate functions needed to interpret our raw data. As explained previously, packages only need to be installed once; however, they need to be imported every time we open a notebook.\n",
    "\n",
    "We have discussed packages previously: for data loading, the two most important ones are tidyverse and haven.\n",
    "* tidyverse should already be somewhat familiar. It includes a wide range of useful functions for working with data in R.\n",
    "* haven is a special package containing functions that can be used to import data.\n",
    "\n",
    "Let's get started by loading them now."
   ]
  },
  {
   "cell_type": "code",
   "execution_count": null,
   "id": "2f7c8a4a-254f-403b-8ac4-8298c7a192da",
   "metadata": {},
   "outputs": [],
   "source": [
    "# loading in our packages\n",
    "library(tidyverse)\n",
    "library(haven)\n",
    "library(IRdisplay)"
   ]
  },
  {
   "cell_type": "markdown",
   "id": "ab43d07c-1ef3-42ac-ab44-510471b2b9ac",
   "metadata": {},
   "source": [
    "Data can be created by different programs and stored in different styles - these are called **file types**. We can usually tell what kind of file type we are working with by looking at the extension.  For example, a text file usually has the extension `.txt`. The data we will be using in this course is commonly stored in Stata, Excel, text, or comma-separated variables files.  These have the following types:\n",
    "\n",
    "* .dta for a Stata data file\n",
    "* .xls or .xlsx for an Excel file\n",
    "* .txt for a text file\n",
    "* .csv for a comma-separated variables file\n",
    "\n",
    "To load any data set, we need to use the appropriate function in order to specify to R the format in which the data is stored: \n",
    "\n",
    "- To load a .csv file, we use the command `read_csv(\"file name\")`.\n",
    "- To load a STATA data file, we use the command `read_dta(\"file name\")`.\n",
    "- To load an Excel file, we the command `read_excel(\"file name\")`.\n",
    "- To load a text file, we use the command `read_table(\"file name\", header = FALSE)`.\n",
    "  - The header argument specifies whether or not we have specified column names in our data file. \n",
    "  \n",
    "> **Note:** if we are using an Excel file, we need to load in the readxl package alongside the tidyverse and haven packages above to read the file.\n",
    "\n",
    "In this module, we'll be working with the data set in the \"fake_data.dta\" files. This data set is simulating information of workers in the years 1982-2012 in a fake country where a training program was introduced in 2003 to boost their earnings. \n",
    "\n",
    "Let's read in our data in dta format now."
   ]
  },
  {
   "cell_type": "code",
   "execution_count": null,
   "id": "22d03ad3-212a-4d9b-b5e8-460d9923aa8a",
   "metadata": {
    "tags": []
   },
   "outputs": [],
   "source": [
    "# reading in the data\n",
    "fake_data <- read_dta(\"../econ490-stata/fake_data.dta\") "
   ]
  },
  {
   "cell_type": "markdown",
   "id": "2c229dff-7d44-414e-a277-bbb126539e1a",
   "metadata": {},
   "source": [
    "## 4.3 Viewing Data\n",
    "Now that we've loaded in our data, it's important to inspect the data. Let's look at a series of commands which help us to do this."
   ]
  },
  {
   "cell_type": "markdown",
   "id": "79b803a2-32e4-47b9-90ce-4a796a6da05a",
   "metadata": {
    "tags": []
   },
   "source": [
    "#### 4.3.1 `glimpse`\n",
    "\n",
    "The first command we are going to use describes the basic characteristics of the variables in the loaded data set."
   ]
  },
  {
   "cell_type": "code",
   "execution_count": null,
   "id": "5822499f-63a2-45dd-8f84-211f2ed4c88a",
   "metadata": {},
   "outputs": [],
   "source": [
    "glimpse(fake_data)"
   ]
  },
  {
   "cell_type": "markdown",
   "id": "0f4a5cd3-effb-4aad-9ea6-b3922c444e92",
   "metadata": {},
   "source": [
    "Alternatively, we can use the `print` command, which displays the same information as the `glimpse` command but in horizontal form."
   ]
  },
  {
   "cell_type": "code",
   "execution_count": null,
   "id": "b7afedaf-9d19-4e79-bdca-579607ea11e3",
   "metadata": {},
   "outputs": [],
   "source": [
    "print(fake_data)"
   ]
  },
  {
   "cell_type": "markdown",
   "id": "ace765ee-73cb-4130-8e30-af3dd150290a",
   "metadata": {},
   "source": [
    "With many variables, this can be harder to read than the `glimpse` command. Thus, we typically prefer to use the `glimpse` command."
   ]
  },
  {
   "cell_type": "markdown",
   "id": "85f3a46b-d78c-4ab7-a4b8-d5d97adbbddb",
   "metadata": {},
   "source": [
    "#### 4.3.2 `View` and `head`"
   ]
  },
  {
   "cell_type": "markdown",
   "id": "5181853d-cff5-4bfd-81b5-12b3f37c34ac",
   "metadata": {},
   "source": [
    "In addition to the `glimpse` command, we can also see the raw data we have imported as if it were an Excel file. To do this, we can use the `View` function. This command will open a clear representation of our data as though it were a spreadsheet. We can also use the command `head`. This prints out a preview of our data set exactly as it would appear in Excel (showing the first ten rows by default). We can then specify a numeric argument to the function to change the number of rows we want to see, as well as the specific rows we want via indicating their positions."
   ]
  },
  {
   "cell_type": "code",
   "execution_count": null,
   "id": "187c17f1-06ad-453e-b7d9-a5d22abecf75",
   "metadata": {},
   "outputs": [],
   "source": [
    "head(fake_data)"
   ]
  },
  {
   "cell_type": "markdown",
   "id": "47565477-b7cb-44d5-b509-f63e8059b73a",
   "metadata": {},
   "source": [
    "There is even the function `tail`, which functions identically to `head` but works from the back of the data set (outputs the final rows)."
   ]
  },
  {
   "cell_type": "code",
   "execution_count": null,
   "id": "ec9dcf3f-c159-496a-a7ad-ced9af1dd431",
   "metadata": {},
   "outputs": [],
   "source": [
    "tail(fake_data)"
   ]
  },
  {
   "cell_type": "markdown",
   "id": "63c6f768-f894-4ba0-a546-2324ff5bfe7c",
   "metadata": {},
   "source": [
    "Opening the data editor has many benefits. Most importantly we get to see our data as a whole, allowing us to have a clearer perspective of the information the data set is providing us. For example, here we observe that we have unique worker codes, the year where they are observed, worker characteristics, and whether or not they participated in the training program. This viewing process is particularly useful when we first load a data set, since it lets us know if our data has been loaded in correctly and looks appropriate."
   ]
  },
  {
   "cell_type": "markdown",
   "id": "197c7707-636b-4f20-a313-1600bf904929",
   "metadata": {},
   "source": [
    "#### 4.3.3 `summary` and `sapply`\n",
    "\n",
    "We can further analyze any variable by using the `summary` command. This commands gives us the minimum, 25th percentile, 50th percentile (median), 75th percentile, and max of each our variables, as well as the mean of each of these variables. It is a good command for getting a quick overview of the general spread of all variables in our data set."
   ]
  },
  {
   "cell_type": "code",
   "execution_count": null,
   "id": "0d081d26-1f4c-413c-9032-bdf98f60d506",
   "metadata": {
    "tags": []
   },
   "outputs": [],
   "source": [
    "summary(fake_data)"
   ]
  },
  {
   "cell_type": "markdown",
   "id": "a88385af-abaf-43bc-9c44-4c0623a24562",
   "metadata": {},
   "source": [
    "From the command above, we can tell that this function will only be meaningful for variables in numeric or integer form. \n",
    "\n",
    "We can also apply summary to specific variables."
   ]
  },
  {
   "cell_type": "code",
   "execution_count": null,
   "id": "21f6aa59-91a5-4865-8b6d-fb0ecbe7228d",
   "metadata": {},
   "outputs": [],
   "source": [
    "summary(fake_data$earnings)"
   ]
  },
  {
   "cell_type": "markdown",
   "id": "65000aac-4f74-430a-9c3d-0847ce662135",
   "metadata": {},
   "source": [
    "If we want to quickly access more specific information about our variables, such as their standard deviations, we can supply this as an argument to the function `sapply`. It will output the standard deviations of each of our numeric variables. However, it will not operate on character variables. Remember, we can check the type of each variable using the `glimpse` function from earlier."
   ]
  },
  {
   "cell_type": "code",
   "execution_count": null,
   "id": "6d466132-f196-4b52-9e71-40a119a09605",
   "metadata": {},
   "outputs": [],
   "source": [
    "sapply(fake_data, sd)"
   ]
  },
  {
   "cell_type": "markdown",
   "id": "a4a1a274-2326-4002-93b7-75b73329d590",
   "metadata": {
    "tags": []
   },
   "source": [
    "We can also apply arguments such as mean, min, and median to the function above; however, `sd` is a good one since it is not covered in the `summary` function."
   ]
  },
  {
   "cell_type": "markdown",
   "id": "337fbb89-f8f6-48c0-8711-fd46e313861a",
   "metadata": {},
   "source": [
    "#### 4.3.4 `count` and `table`\n",
    "\n",
    "We can also learn more about the frequency of the different measures of our variables by using the command `count`. We simply supply a specific variable to the function to see the distribution of values for that variable."
   ]
  },
  {
   "cell_type": "code",
   "execution_count": null,
   "id": "d4710ee1-2295-45c6-8b94-dedde57e97e4",
   "metadata": {
    "tags": []
   },
   "outputs": [],
   "source": [
    "count(fake_data, region)"
   ]
  },
  {
   "cell_type": "markdown",
   "id": "87fbe577-baaa-41e3-93fe-e3bd95b952c5",
   "metadata": {},
   "source": [
    "Here we can see that there are five regions indicated in this data set, that more people surveyed came from region 1 and then fewer people surveyed came from region 3. Similarly, we can use the `table` function and specify our variable to accomplish the same task."
   ]
  },
  {
   "cell_type": "code",
   "execution_count": null,
   "id": "e58077b9-b2e3-460a-bec9-47acbf5a0b8f",
   "metadata": {},
   "outputs": [],
   "source": [
    "table(fake_data$region)"
   ]
  },
  {
   "cell_type": "markdown",
   "id": "f62b134e-3cbb-4a64-a471-e964004c9617",
   "metadata": {},
   "source": [
    "## 4.4 Cleaning Data\n",
    "Now that we've loaded in our data, the next step is to do some rudimentary cleaning of our data. This most commonly includes factorizing variables and dropping missing observations."
   ]
  },
  {
   "cell_type": "markdown",
   "id": "24f488a6-dc83-47d3-82eb-05f664df5e9f",
   "metadata": {},
   "source": [
    "#### 4.4.1 Factorize variables"
   ]
  },
  {
   "cell_type": "markdown",
   "id": "ce175e3f-d536-4318-9995-45d7f67c4e82",
   "metadata": {},
   "source": [
    "We have already seen that there are different types of variables which can be stored in R. Namely, there are quantitative variables and qualitative variables. Any quantitative variable can be stored in R as a set of strings or letters. These are known as **character** variables. Qualitative variables can also be stored in R as factor variables. Factor variables associate a qualitative response to a categorical value, making analysis much easier. Additionally, data is often encoded, meaning that the levels of a qualitative variable are represented by \"codes\", usually in numeric form.\n",
    "\n",
    "Look at the *region* variable in the output from `glimpse` above:\n",
    "\n",
    "```\n",
    "region     <dbl> 1, 1, 4, 4, 4, 5, 5, 5, 5, 2, 2, 5, 5, 5, 5, 2, 2, 4, 4, 2,~\n",
    "```\n",
    "\n",
    "The *region* variable in this data set corresponds to a particular region that the worker is living in. We can also see the variable type is <dbl+lbl>: this is a labeled double. This is good: it means that R already understands what the levels of this variable mean.\n",
    "\n",
    "There are three similar ways to change variables into factor variables. \n",
    "\n",
    "1.  We can change a specific variable inside a data frame to a factor by using the `as_factor` command. Let's do that below, using the special pipe `%>%` operator. This operator allows us to pipe existing code into a new function. In this way, it helps us break up long code across many lines, improving legibility. You can think of the pipe operator as saying AND THEN when describing your code aloud."
   ]
  },
  {
   "cell_type": "code",
   "execution_count": null,
   "id": "8ece030e-a09b-4bf7-8b68-1df5cf8c3838",
   "metadata": {},
   "outputs": [],
   "source": [
    "fake_data <- fake_data %>%  #we start by saying we want to update the data, AND THEN... (%>%)\n",
    "    mutate(region = as_factor(region)) #mutate (update) region to be a factor variable\n",
    "\n",
    "glimpse(fake_data)"
   ]
  },
  {
   "cell_type": "markdown",
   "id": "f0d4d12f-81de-4b1b-b70c-2c0035ffdf62",
   "metadata": {},
   "source": [
    "Do you see the difference in the _region_ variable?  You can also see that the type has changed to <fct> a **factor variable**.\n",
    "\n",
    "R would already know how to \"decode\" the factor variables from the imported data if and only if they were of type <dbl+lbl>.  What about when this isn't the case? This brings us to the next method:\n",
    "\n",
    "2.  We can **supply a list of factors** using the `factor` command.   This command takes two other values:\n",
    "    * A list of levels the qualitative variable will take on.\n",
    "    * A list of labels, one for each level, describing what each level means.\n",
    "\n",
    "We can create a custom factor variable as follows:"
   ]
  },
  {
   "cell_type": "code",
   "execution_count": null,
   "id": "997953d6-56ba-4ac3-8a35-69de4771cb6b",
   "metadata": {},
   "outputs": [],
   "source": [
    "#first, we write down a list of levels\n",
    "region_levels = c(1:5)\n",
    "#then, we write down a list of our labels\n",
    "region_labels = c('Region A', 'Region B', 'Region C', 'Region D', 'Region E')\n",
    "\n",
    "#now, we use the command but with some options - telling factor() how to interpret the levels\n",
    "\n",
    "fake_data <- fake_data %>%  #we start by saying we want to update the data, AND THEN... (%>%)\n",
    "    mutate(region2 = factor(region,   #notice it's factor, not as_factor\n",
    "                          levels = region_levels, \n",
    "                          labels = region_labels)) #mutate (update region) to be a factor of regions\n",
    "glimpse(fake_data)"
   ]
  },
  {
   "cell_type": "markdown",
   "id": "e09f0971-2b7c-490f-a589-954ba6792f5c",
   "metadata": {},
   "source": [
    "Again, do you see the difference between _region_ and _region2_ here?  This is how we can customize factor labels when creating new variables.\n",
    "\n",
    "3.  The final method is very similar to the first. If we have a large data set, it can be tiresome to decode all of the variables one-by-one.  Instead, we can use `as_factor` on the **entire data set** and it will convert all of the variables with appropriate types."
   ]
  },
  {
   "cell_type": "code",
   "execution_count": null,
   "id": "a009a782-0c17-486c-9114-b4970139f849",
   "metadata": {},
   "outputs": [],
   "source": [
    "fake_data <- as_factor(fake_data)\n",
    "\n",
    "glimpse(fake_data)"
   ]
  },
  {
   "cell_type": "markdown",
   "id": "a2895123-45da-41b0-97d3-75125fce00a1",
   "metadata": {},
   "source": [
    "This is our final data set, with all variables factorized."
   ]
  },
  {
   "cell_type": "markdown",
   "id": "81de1032-3e94-4cfd-b19c-8106fdbc32be",
   "metadata": {},
   "source": [
    "#### 4.4.2 Remove missing data"
   ]
  },
  {
   "cell_type": "markdown",
   "id": "b4dc759d-ff6d-48b3-81a4-96d72a3ab30d",
   "metadata": {},
   "source": [
    "We often face the challenge of dealing with missing values among observations for some of our variables. To check if any of our variables have missing values, we can use the `is.na` function alongside the `any` function. This code will return a value of TRUE or FALSE depending on whether we do or do not have any missing observations in our data set."
   ]
  },
  {
   "cell_type": "code",
   "execution_count": null,
   "id": "7f6d7ec4-5ad0-478a-ba9d-e8f1250400f3",
   "metadata": {},
   "outputs": [],
   "source": [
    "any(is.na(fake_data))"
   ]
  },
  {
   "cell_type": "markdown",
   "id": "4e05cb49-1574-4dbb-88db-bbc0b905dc71",
   "metadata": {},
   "source": [
    "Here, we can see that our data set already has no missing observations, so we do not need to worry about the process of potentially removing or redefining them. However, this is often not the case."
   ]
  },
  {
   "cell_type": "markdown",
   "id": "2bc0c3be-1b6a-4bbb-b485-46c38cd35fdf",
   "metadata": {},
   "source": [
    "Let's go through the process of dropping missing observations for the *sex* variable anyway, assuming that missing observations are coded as \"not available\". We will do this as a demonstration, even though no observations will actually be dropped. To do this, we will use the `filter()` method. This function conditionally drops rows (observations) by evaluating each row against the supplied condition. Only observations where the condition is true/met are retained (selection by inclusion) in the data frame. To use this to drop hypothetical missing observations for *sex*, we do the following:"
   ]
  },
  {
   "cell_type": "code",
   "execution_count": null,
   "id": "67a648e3-6fbb-4a96-ba88-fc025636f513",
   "metadata": {},
   "outputs": [],
   "source": [
    "filter(fake_data, sex != \"not available\")"
   ]
  },
  {
   "cell_type": "markdown",
   "id": "18e96b9d-f9cb-4faa-bf43-19b1ace6869e",
   "metadata": {},
   "source": [
    "> **Recall**: The operator `!=` is a conditional statement for \"not equal to\". Therefore we are telling R to keep the observations that are not equal to \"not available\".\n",
    "\n",
    "This process utilized the `filter` function, which retains rows meeting a specific condition. However, we can also supply a series of conditions to filter at once. We could have, for instance, decided that we only wanted to keep observations for females from region 1. In this case, we could run the following code."
   ]
  },
  {
   "cell_type": "code",
   "execution_count": null,
   "id": "66a12d82-8922-46d6-b07b-d36a7dfab50d",
   "metadata": {},
   "outputs": [],
   "source": [
    "head(filter(fake_data, sex == \"F\" & region == 1))"
   ]
  },
  {
   "cell_type": "markdown",
   "id": "3ed21c46-d8ca-4e1c-b13f-51e19d3e82d3",
   "metadata": {},
   "source": [
    "> **Important Note**: choosing which observations to drop is always an important research decision. There are two key ways to handle missing data: dropping it altogether (done above) or treating \"missing\" as its own valid category (not done above since no data is missing). This decision has important consequences for your analysis, and should always be carefully thought through - especially if the reasons why data are missing might not be random."
   ]
  },
  {
   "cell_type": "markdown",
   "id": "40ca1ca1-4f9d-40c9-b490-a7acf921bab3",
   "metadata": {},
   "source": [
    "#### 4.4.3 Remove variables\n",
    "Beyond filtering observations as was done above, we sometimes want to \"filter\" our variables. This process of operating on columns instead of rows requires the `select` function instead of the `filter` function. This is a useful function when we have more data at our disposal than we actually need to answer the research question at hand. This is especially pertinent given the propensity for data sets to collect an abundance of information, some of which may not be useful to us and instead slow down our loading and cleaning process."
   ]
  },
  {
   "cell_type": "markdown",
   "id": "fb7255f5-b7cc-45e4-9470-815c2f7baf2d",
   "metadata": {},
   "source": [
    "Let's assume we are interested in seeing the gender wage gap among male and female workers of region 2, and nothing else. To help us with our analysis, we can filter by only observations which belong to region 2, then select for just the variables we are interested in."
   ]
  },
  {
   "cell_type": "code",
   "execution_count": null,
   "id": "8fdc2024-a5c8-498c-978c-f583e7031b1c",
   "metadata": {},
   "outputs": [],
   "source": [
    "head(fake_data %>% filter(region == 2) %>% select(sex, earnings)) "
   ]
  },
  {
   "cell_type": "markdown",
   "id": "445c10a1-1506-47fa-af1e-7704f49dad6a",
   "metadata": {},
   "source": [
    "In the code above, we pass as parameters to the `select` function every column we wish to keep.\n",
    "\n",
    "* `select(variables, I, want, to, keep)`\n",
    "* `select(-variables, -I, -don't, -want)`\n",
    "\n",
    "This is very useful and is usually done for practical reasons such as memory. Cleaning data sets to remove unessential information also allows us to focus our analysis and makes it easier to answer our desired research question. In our specific case, we want to keep data on just wages and sex. We have used the select function for this. If we were to further our research of the gender wage gap within region 2, we would now be able to refer to \"fake_data\" more quickly for immediate results."
   ]
  },
  {
   "cell_type": "markdown",
   "id": "c1707daf-4bdb-439a-a347-d64f0f393e60",
   "metadata": {},
   "source": [
    "## 4.5 Common mistakes\n",
    "\n",
    "Common mistakes happen because we do not respect the format of specific variables. Let's say we want to filter the observations in order to get only women working in region 1. We may forget that variable *sex* is a string variable and type the following:"
   ]
  },
  {
   "cell_type": "code",
   "execution_count": null,
   "id": "8f72bdce-a722-472d-aa88-fcb760aab899",
   "metadata": {},
   "outputs": [],
   "source": [
    "head(filter(fake_data, sex == F & region == 1))"
   ]
  },
  {
   "cell_type": "markdown",
   "id": "0280064d-6c6e-4eb1-a244-52a0064dc415",
   "metadata": {},
   "source": [
    "We obtain a tibble with no observations. This mistake occurrs when we forget to wrap values of string variables in quotes. The correct command would be the following:"
   ]
  },
  {
   "cell_type": "code",
   "execution_count": null,
   "id": "ed6902ad-4c3e-4bd7-a52a-7a2672690d8f",
   "metadata": {},
   "outputs": [],
   "source": [
    "head(filter(fake_data, sex == \"F\" & region == 1))"
   ]
  },
  {
   "cell_type": "markdown",
   "id": "eb067a69-e610-439d-81dd-d24fc100530a",
   "metadata": {},
   "source": [
    "## 4.6 Wrap Up\n",
    "In this notebook, we have covered the basic process of working with data. Specifically, we looked at how to load in data, how to view it, and how to clean it by factorizing, dropping and selecting variables and observations. This general scheme is critical to any research project, so it is important to keep in mind as you progress throughout your undergraduate economics coursework and beyond. In the next section, we will cover a larger concept which is also essential to the cleaning of a data set, but merits its own section: creating variables.\n",
    "\n",
    "Here is a wrap-up table with all the commands we have seen in this module.\n",
    "\n",
    "| Command | Function |\n",
    "|---------|----------|\n",
    "|`rm()`     | It removes all objects in the workspace.|\n",
    "|`getwd()`  | It shows the current working directory.|\n",
    "|`setwd()`  | It changes the working directory to a file path of our choice.|\n",
    "|`read_dta()` | It imports a .dta file.|\n",
    "|`read_csv()` | It imports a .csv file. |\n",
    "|`read_table()` | It imports a .txt file.|\n",
    "|`glimpse()` | It shows basic characteristics of the data. |\n",
    "|`print()` | It shows basic characteristics of the data, displaying them on a horizontal format. |\n",
    "|`head()` | It shows the top observations of the data. |\n",
    "|`tail()` | It shows the bottom observations of the data.|\n",
    "|`summary()` | It gives the minimum, 25th percentile, 50th percentile (median), 75th percentile, and max of each variable.|\n",
    "|`sapply()` | It returns a given statistic for each variable of the dataset.|\n",
    "|`count()` | It counts how many different values there are for a given variable.|\n",
    "|`as_factor()` | It transforms a variable into a factor variable.|\n",
    "|`is.na()` | It returns a value of TRUE if there are not-available observations for a given variable; otherwise, it returns FALSE.|\n",
    "|`filter()` | It filters the data according to specific conditions that observations must satisfy.|\n",
    "|`select()` | It keeps only certain variables of our data.|"
   ]
  },
  {
   "cell_type": "markdown",
   "id": "f0ce8c06-d6b9-4fd2-ac62-8775ab622d97",
   "metadata": {},
   "source": [
    "## References\n",
    "\n",
    "* [Introduction to Probability and Statistics Using R](https://mran.microsoft.com/snapshot/2018-09-28/web/packages/IPSUR/vignettes/IPSUR.pdf)\n",
    "* [DSCI 100 Textbook](https://datasciencebook.ca/index.html)"
   ]
  }
 ],
 "metadata": {
  "kernelspec": {
   "display_name": "R",
   "language": "R",
   "name": "ir"
  },
  "language_info": {
   "codemirror_mode": "r",
   "file_extension": ".r",
   "mimetype": "text/x-r-source",
   "name": "R",
   "pygments_lexer": "r",
   "version": "4.2.3"
  }
 },
 "nbformat": 4,
 "nbformat_minor": 5
}
