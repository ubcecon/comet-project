{
 "cells": [
  {
   "cell_type": "markdown",
   "id": "cd25df09-d39a-453f-a006-0ae02387403b",
   "metadata": {},
   "source": [
    "# ECON 490: Combining Graphs (9)\n",
    "\n",
    "## Prerequisites\n",
    "\n",
    "1. Load data and packages.\n",
    "2. Create variables and objects.\n",
    "3. Have some familiarity with the syntax of commands to create basic graphs.\n",
    "\n",
    "## Learning Outcomes \n",
    "1. Identify best practices for data visualization.\n",
    "2. Feel comfortable with combining graphs using facets in `ggplot2`.\n",
    "\n",
    "\n",
    "We'll continue working with the fake data set we have been using so far. Recall that this data set is simulating information for workers in the years 1982-2012 in a fake country where a training program was introduced in 2003 to boost their earnings."
   ]
  },
  {
   "cell_type": "code",
   "execution_count": null,
   "id": "728d3ce0-38d9-4af1-9ea4-d1389a88b1df",
   "metadata": {},
   "outputs": [],
   "source": [
    "# Clear the memory from any pre-existing objects\n",
    "rm(list=ls())\n",
    "\n",
    "# Load packages\n",
    "library(tidyverse)\n",
    "library(magrittr)\n",
    "library(ggplot2)\n",
    "library(haven)\n",
    "library(tidyverse)\n",
    "\n",
    "# Import dataset\n",
    "fake_data <- read_dta(\"../econ490-stata/fake_data.dta\")"
   ]
  },
  {
   "cell_type": "markdown",
   "id": "063e162e-e8bf-4af3-9189-d87fcb929a9b",
   "metadata": {},
   "source": [
    "In this module, we will wor on two examples. The first example covers combining two graphs with the same schema, while the second covers combining two graphs with different schemas. It will soon be very clear what we mean by *schema*."
   ]
  },
  {
   "cell_type": "markdown",
   "id": "07dedba6-0079-4af2-a07b-462eb98e616a",
   "metadata": {},
   "source": [
    "## 9.1 Example 1\n",
    "\n",
    "For this example, we want to generate two graphs with the same schema: they are the same type of graph and use the same variables as the x and y axis.\n",
    "For example, let's say we want to see the evolution of average earnings over time for treated and untreated workers in two different regions. \n",
    "Instead of having four lines in one graph, we would like to separate the two regions in two different panels of the same graph.\n",
    "\n",
    "Let's do this step by step. We start by creating the data: we want a dataframe with average earnings by year and treatment status for the first two regions. We use `group_by`, as seen in [Module 6](econometrics/econ490-r/6_Within_Group.ipynb)."
   ]
  },
  {
   "cell_type": "code",
   "execution_count": null,
   "id": "4b3c0b79-9556-4f79-8a31-e98d718abd53",
   "metadata": {},
   "outputs": [],
   "source": [
    "figure1_data <- fake_data %>%\n",
    "        mutate(log_earnings = log(earnings)) %>% # take log of earnings\n",
    "        group_by(year, region, treated) %>%      # group by time, treatment status, and region\n",
    "        summarise(mean_earnings = mean(log_earnings)) %>% # take average by group\n",
    "        filter(region==1|region==2) %>%          # keep only first two regions\n",
    "        mutate(treatment = case_when(treated == 1 ~ 'Treated', treated == 0 ~ 'Untreated')) # create a character variable for treatment"
   ]
  },
  {
   "cell_type": "markdown",
   "id": "20635136-e7a1-4fe0-99b3-693d9ea3f506",
   "metadata": {},
   "source": [
    "Once we have created our data, we proceed with the same steps we have used in section 9.2.2 of [Module 9](econometrics/econ490-r/9_ggplot_graphs.ipynb) to create a line graph with one line for each treatment status (*treated* and *untreated*).\n",
    "In this case, we add a crucial component: `facet_grid`. It allows to split up our data by one or two variables that vary on the horizontal and/or vertical direction. The syntax is `facet_grid(vertical ~ horizontal)`.\n",
    "\n",
    "In the code below, we split vertically our data for the two regions, by adding `facet_grid(region ~ .)` to our code."
   ]
  },
  {
   "cell_type": "code",
   "execution_count": null,
   "id": "6a66b394-348a-41f3-8f5f-cee8ec552c20",
   "metadata": {},
   "outputs": [],
   "source": [
    "# Specify data and axis\n",
    "figure1 <- ggplot(data = figure1_data, # referencing the data we want to use\n",
    "                 aes(\n",
    "                     x = year,  # x is year\n",
    "                     y = mean_earnings, # our y is avg logearnings\n",
    "                     group=treatment, # each line is data for one value of treatment\n",
    "                     color=treatment # each value of treatment as one color\n",
    "                 ))\n",
    "\n",
    "# Tell R the graph will be a line graph\n",
    "figure1 <- figure1 + geom_line() \n",
    "\n",
    "# Add labels\n",
    "figure1 <- figure1 + labs(x = \"Year\", y = \"Average Log-earnings\")\n",
    "\n",
    "# \"split\" vertically graph by region\n",
    "figure1 + facet_grid(region ~ .)"
   ]
  },
  {
   "cell_type": "markdown",
   "id": "5476d395-63ce-47f2-ba28-6dd55cb6db59",
   "metadata": {},
   "source": [
    "Notice that now our graph is made of two panels whose titles are the names of the regions. However, we do not know what region 1 and region 2 mean. We can add a character variable to our data, named *region_name*, and split horizontally the graph into the two names stored in *region_name*."
   ]
  },
  {
   "cell_type": "code",
   "execution_count": null,
   "id": "f9ac01da-7732-42c6-ab04-4732382a5895",
   "metadata": {},
   "outputs": [],
   "source": [
    "# Add names to regions\n",
    "figure1_data <- figure1_data %>%\n",
    "                mutate(region_name = case_when(region == 1 ~ 'Ontario', region == 2 ~ 'Manitoba'))\n",
    "\n",
    "# Specify data and axis\n",
    "figure1 <- ggplot(data = figure1_data, # referencing the data we want to use\n",
    "                 aes(\n",
    "                     x = year,  # x is year\n",
    "                     y = mean_earnings, # our y is avg logearnings\n",
    "                     group=treatment, # each line is data for one value of treatment\n",
    "                     color=treatment # each value of treatment as one color\n",
    "                 ))\n",
    "\n",
    "# Tell R the graph will be a line graph\n",
    "figure1 <- figure1 + geom_line() \n",
    "\n",
    "# Add labels\n",
    "figure1 <- figure1 + labs(x = \"Year\", y = \"Average Log-earnings\")\n",
    "\n",
    "# Split horizontally and use labels\n",
    "figure1 + facet_grid(. ~ region_name)"
   ]
  },
  {
   "cell_type": "markdown",
   "id": "7dd67324-ec0a-4399-851b-2adb8e6fd412",
   "metadata": {},
   "source": [
    "We can also add a vertical line for year 2002, the moment in which the treatment has been introduced. We do so by using the geometry `geom_vline`. We set its intercept to year 2002 with `aes(xintercept=2002)` and its color and type with `color` and `linetype`, respectively."
   ]
  },
  {
   "cell_type": "code",
   "execution_count": null,
   "id": "9589b5c6-3672-4e16-be2a-a58ee8fefbfa",
   "metadata": {},
   "outputs": [],
   "source": [
    "# Add dashed red vertical line\n",
    "figure1 <- figure1 + geom_vline(aes(xintercept=2002), color=\"#bb0000\", linetype=\"dashed\")\n",
    "\n",
    "# Split vertically by region_name\n",
    "figure1 + facet_grid(. ~ region_name)"
   ]
  },
  {
   "cell_type": "markdown",
   "id": "570f4113-6fb2-4e63-bcdd-340e517cb74e",
   "metadata": {},
   "source": [
    "## 9.2 Example 2\n",
    "\n",
    "For this example, we want to combine graphs that do not follow the same schema. Let's say we are interested in seeing if there is any relationship between the distribution of earnings (*log_earnings*) and how worker's earnings change over time in region 1. \n",
    "As we have seen in [Module 8](econometrics/econ490-r/8_ggplot_graphs.ipynb), we usually use histograms to represent density distributions and we can use a scatterplot or a line plot for the graph of earnings over time. \n",
    "\n",
    "In this paragraph, we will see how to use `grid.arrange` to put multiple graphs on one page. The `grid.arrange` function is stored in the library *gridExtra*, which we install below. "
   ]
  },
  {
   "cell_type": "code",
   "execution_count": null,
   "id": "1e68c325-ad24-40f7-9bb5-4530dca90196",
   "metadata": {},
   "outputs": [],
   "source": [
    "# Install and laod\n",
    "install.packages(\"gridExtra\")\n",
    "library(gridExtra)"
   ]
  },
  {
   "cell_type": "markdown",
   "id": "bd05faf5-fd39-4d1f-aebd-069286ac41e6",
   "metadata": {},
   "source": [
    "Let's create the two plots separately and then combine them together.\n",
    "Start with the histogram: use `geom_histogram` to create a histogram for the density of log-earnings and store it into the object *plot1*. You can find a detailed explanation in section 8.2.3 of [Module 8](econometrics/econ490-r/8_ggplot_graphs.ipynb)."
   ]
  },
  {
   "cell_type": "code",
   "execution_count": null,
   "id": "e12cd882-1da0-4cd6-9f17-e9f4c29c619a",
   "metadata": {},
   "outputs": [],
   "source": [
    "# Add log earnings to dataset\n",
    "fake_data <- fake_data %>% mutate(log_earnings = log(earnings))\n",
    "\n",
    "# Plot 1: histogram\n",
    "plot1 <- ggplot(data = fake_data, aes(x = log_earnings)) + geom_histogram()"
   ]
  },
  {
   "cell_type": "markdown",
   "id": "4a84be31-c501-40e7-85de-800253fa852e",
   "metadata": {},
   "source": [
    "Then, create a line graph for the average log-earning by year using `geom_line` and store it into the object *plot2*. You can find a detailed explanation in section 8.2.2 of [Module 8](econometrics/econ490-r/8_ggplot_graphs.ipynb)."
   ]
  },
  {
   "cell_type": "code",
   "execution_count": null,
   "id": "d4977b48-d0a8-4463-9236-259a64715b55",
   "metadata": {},
   "outputs": [],
   "source": [
    "# Create a dataframe with the average wage by year\n",
    "plot2_data <- fake_data %>%\n",
    "              group_by(year) %>%\n",
    "              summarise(mean_earnings = mean(log_earnings))\n",
    "\n",
    "# Plot 2: line graph\n",
    "plot2 <- ggplot(data = plot2_data, aes(x = year, y = mean_earnings)) + geom_line()"
   ]
  },
  {
   "cell_type": "markdown",
   "id": "547018da-da88-4c50-bc3b-20e5286039f4",
   "metadata": {},
   "source": [
    "Now combine the objects *plot1* and *plot2* into one single page using the function `grid.arrange`. Notice that we can specify how many numbers of columns or rows we want with `ncol` or `nrow`, respectively."
   ]
  },
  {
   "cell_type": "code",
   "execution_count": null,
   "id": "25c79c80-ff4d-4890-b477-8aeabb226b38",
   "metadata": {},
   "outputs": [],
   "source": [
    "grid.arrange(plot1, plot2, nrow=1)"
   ]
  },
  {
   "cell_type": "markdown",
   "id": "c9937608-a922-4177-b7c9-d04d23ca9e90",
   "metadata": {},
   "source": [
    "## 9.3 Wrap Up\n",
    "In this module we learned how to combine graphs, whether they have the same schema or not. When producing a research paper we might want to compare statistics from different countries or regions, such as GDP, population density, inflation, exports, etc. These types of graphs allow us to see how the same variables diverge across different categories (as in Example 1) or how different variables influence each other (as in Example 2)."
   ]
  }
 ],
 "metadata": {
  "kernelspec": {
   "display_name": "R",
   "language": "R",
   "name": "ir"
  },
  "language_info": {
   "codemirror_mode": "r",
   "file_extension": ".r",
   "mimetype": "text/x-r-source",
   "name": "R",
   "pygments_lexer": "r",
   "version": "4.2.3"
  }
 },
 "nbformat": 4,
 "nbformat_minor": 5
}
