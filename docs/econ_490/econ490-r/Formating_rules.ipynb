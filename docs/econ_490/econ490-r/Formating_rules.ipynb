{
 "cells": [
  {
   "cell_type": "markdown",
   "id": "99438e9a-a402-454b-bfe6-d7e4316bb9cd",
   "metadata": {
    "tags": []
   },
   "source": [
    "\n",
    "# ECON 490: Formatting Guidelines (00)\n",
    "\n",
    "\n",
    "## Prerequisites \n",
    "--- \n",
    "\n",
    "1. Numbered list of modules and skills needed before completing for this module.\n",
    "\n",
    "\n",
    "## Learning Outcomes\n",
    "\n",
    "---\n",
    "1. Numbered list of expected outcomes after completing the module writen used the guidelines provided in the workshop.\n",
    "\n",
    "\n",
    "## 00.1 Introduction to Formatting Guidelines\n",
    "\n",
    "Start with a brief introduction that is included under a heading - do not simply continuing on from above. Note that the heads at this level use title case. \n",
    "\n",
    "## 00.2 Formatting guidelines for text\n",
    "\n",
    "#### 00.2.1 How to indicate code and options\n",
    "\n",
    "Code should be indicated using this method `summarize`. Options can be indcated the same way `[fweight=weight]`.\n",
    "\n",
    "If there are blocks of code, then approach is:\n",
    "\n",
    "```stata\n",
    "    /* Here is the code */   \n",
    "```\n",
    "\n",
    "#### 00.2.2 How to indicate variable names\n",
    "\n",
    "Variable name can be indicated by italics. Like this *fake_variable*.\n",
    "\n",
    "#### 00.2.3 How to indicate file and folder name \n",
    "\n",
    "File and folder names can be indicate by encasing them in \"\". Like this file name \"1.data_build.do:\"\n",
    "\n",
    "Note that the headings at this level use sentence case. \n",
    "\n",
    "#### 00.2.4 Do-files and log-files\n",
    "\n",
    "Not do file and log file, or dofile and logfile. But do-file and log-file. "
   ]
  },
  {
   "cell_type": "markdown",
   "id": "67dc3151-3c60-4d7c-af07-81418d318651",
   "metadata": {},
   "source": [
    "## 00.3 Creating Notes and Warnings\n",
    "\n",
    "<div class=\"alert alert-block alert-info\">\n",
    "    \n",
    "<b>Note:</b> Notes appear in blue boxes\n",
    "\n",
    "</div>\n",
    "\n",
    "<div class=\"alert alert-block alert-warning\">\n",
    "    \n",
    "<b>Warning:</b> Warnings appear in red (orange? Brown?) boxes. \n",
    "    \n",
    "</div>\n",
    "\n"
   ]
  },
  {
   "cell_type": "markdown",
   "id": "28cf4b90-c579-4a32-a192-12500cc382e8",
   "metadata": {},
   "source": [
    "## 00.4 Wrap Up\n",
    "\n",
    "A brief summary of what has been accomplished and what is coming next.\n",
    "\n",
    "## References\n",
    "---\n",
    "\n",
    "[What's it like–Getting started in Stata](https://youtu.be/TtlwTuN06jg)"
   ]
  }
 ],
 "metadata": {
  "kernelspec": {
   "display_name": "Python 3 (ipykernel)",
   "language": "python",
   "name": "python3"
  },
  "language_info": {
   "codemirror_mode": {
    "name": "ipython",
    "version": 3
   },
   "file_extension": ".py",
   "mimetype": "text/x-python",
   "name": "python",
   "nbconvert_exporter": "python",
   "pygments_lexer": "ipython3",
   "version": "3.10.5"
  }
 },
 "nbformat": 4,
 "nbformat_minor": 5
}
