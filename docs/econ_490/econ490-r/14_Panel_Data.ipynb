{
 "cells": [
  {
   "cell_type": "markdown",
   "id": "721206bd-1471-4306-be77-08c5c4b62f29",
   "metadata": {
    "tags": []
   },
   "source": [
    "# ECON 490: Panel Data Regressions (14)\n",
    "\n",
    "## Prerequisites\n",
    "\n",
    "1. Run OLS Regressions.\n",
    "\n",
    "## Learning Outcomes\n",
    "\n",
    "1. Prepare data for time series analysis. \n",
    "2. Run panel data regressions.\n",
    "3. Create lagged variables.\n",
    "4. Understand and work with fixed effects.\n",
    "5. Correct for heteroskedasticity and serial correlation.\n",
    "\n",
    "This module uses the [Penn World Tables](https://www.rug.nl/ggdc/productivity/pwt/?lang=en) which measure income, input, output and productivity, covering 183 countries between 1950 and 2019. Before beginning this module, you should download this data as dta."
   ]
  },
  {
   "cell_type": "markdown",
   "id": "9234dde6",
   "metadata": {
    "tags": []
   },
   "source": [
    "## 14.1 What is Panel Data?\n",
    "\n",
    "In economics, we typically have data consisting of many units observed at a particular point in time. This is called cross-sectional data. There may be several different versions of the data set that are collected over time (monthly, annually, etc.), but each version includes an entirely different set of individuals. \n",
    "\n",
    "For example, let's consider a Canadian cross-sectional data set: General Social Survey Cycle 31: Family, 2017. In this data set, the first observation is a 55 year old married woman who lives in Alberta with two children. When the General Social Survey Cycle 25: Family, 2011 was collected six years previously there were probably similar women surveyed, but it is extremely unlikely that this exact same woman was included in that data set as well. Even if she was included, we would have no way to match her data over the two years of the survey. \n",
    "\n",
    "Cross-sectional data allows us to explore variation between individuals at one point in time but does not allow us to explore variation over time for those same individuals. \n",
    "\n",
    "You are also familiar with time-series data sets from your previous economics courses. Time-series data sets contain observations over several years for only one country, state, province, etc. For example, measures of income, output, unemployment, and fertility for Canada from 1960 to 2020 would be considered time-series data. Time-series data allows us to explore variation over time for one individual unit (e.g. Canada), but does not allow us to explore variation between individual units (i.e. multiple countries) at any one point in time.\n",
    "\n",
    "Panel data allows us to observe the same unit across multiple time periods. For example, the [Penn World Tables](https://www.rug.nl/ggdc/productivity/pwt/?lang=en) is a panel data set that measures income, output, input and productivity, covering 183 countries from 1950 to the near present. There are also microdata panel data sets that follow the same people over time. One example is the Canadian National Longitudinal Survey of Children and Youth (NLSCY), which followed the same children from 1994 to 2010, surveying them every two years as they progressed from childhood to adulthood. \n",
    "\n",
    "Panel data sets allow us to answer questions that we cannot answer with time series and cross-sectional data; they allow us to simultaneously explore variation over time for individual countries (for example) and variation between individuals at one point in time. This approach is extremely productive for two reasons:\n",
    "\n",
    "1. Panel data sets are large, much larger than if we were to use data collected at one point in time.\n",
    "2. Panel data regressions control for variables that do not change over time and are difficult to measure, such as geography and culture.\n",
    "\n",
    "In this sense, panel data sets allow us to answer empirical questions that cannot be answered with other types of data such as cross-sectional or time-series data. \n",
    "\n",
    "Before we move forward exploring panel data sets in this module, we should understand the two main types of panel data:\n",
    "\n",
    "- Balanced Panel: A panel data set in which we observe *all* units over *all* included time periods. Suppose we have a data set following the school outcomes of a select group of $N$ children over $T$ years. This is common in studies which investigate the effects of early childhood interventions on relevant outcomes over time. If the panel data set is balanced, we will see $T$ observations for each child corresponding to the $T$ years they have been tracked. As a result, our data set in total will have $n = N*T$ observations.\n",
    "\n",
    "- Unbalanced Panel: A panel data set in which we do _not_ observe all units over all included time periods. Suppose in our data set tracking select children's education outcomes over time that some children drop out of the study. This panel data set would be an unbalanced panel because it would necessarily have $n < N*T$ observations since the children who dropped out would not have observations for the years they were no longer in the study.\n",
    "\n",
    "We learned the techniques to create a balanced panel the notebook Within Group Analysis (7). Essentially all that is needed is to create a new data set that includes only the years for which there are no missing values. \n"
   ]
  },
  {
   "cell_type": "markdown",
   "id": "c03b39d0-3499-47fe-be52-281c94149f9d",
   "metadata": {},
   "source": [
    "## 14.2 Preparing your data for time series analysis\n",
    "\n",
    "Your first step in any panel data analysis is to identify which variable is the panel variable and which variable is the time variable. Your second step is indicating that information to R. \n",
    "\n",
    "We are going to use the Penn World Data (discussed above) in this example. In that dataset the panel variable is either *country* or *isocode* (the code of a country) and the time variable is *year*. Below you will need to change the directory to the folder where you have downloaded this data. You can use the `getwd` function."
   ]
  },
  {
   "cell_type": "code",
   "execution_count": null,
   "id": "0f5d903b-d26b-49fc-8465-b9ebe714cfa5",
   "metadata": {},
   "outputs": [],
   "source": [
    "# Clear the memory from any pre-existing objects\n",
    "rm(list=ls())\n",
    "\n",
    "# Load packages\n",
    "library(dplyr)\n",
    "library(tidyr)"
   ]
  },
  {
   "cell_type": "code",
   "execution_count": null,
   "id": "c27d2c44-e606-49a3-a9a2-2ce670dc177c",
   "metadata": {},
   "outputs": [],
   "source": [
    "# Import data (remember to change directory to the location of this data file)\n",
    "pwt1001 <- read_dta(\"pwt1001.dta\")  #change me!\n",
    "\n",
    "# Get summary of the data\n",
    "summary(pwt1001)"
   ]
  },
  {
   "cell_type": "markdown",
   "id": "bc5cc93d-1f81-4dc8-8121-c2d6ede04ca9",
   "metadata": {},
   "source": [
    "You may have noticed that the variable *year* is an integer (i.e. a number like 2010) and that *country* and *isocode* are character variables (i.e. they are words like \"Canada\"). Specifying the panel and time variables requires that both of the variables we are using are coded as numeric variables. Moreover, we need to sort our data by the unique identifier (*country* or *isocode* in our case) and time variable (*year*)."
   ]
  },
  {
   "cell_type": "code",
   "execution_count": null,
   "id": "a825479b-d213-416f-b9de-9616773a3f1a",
   "metadata": {},
   "outputs": [],
   "source": [
    "# Order data according to isocode and year, and call it df\n",
    "df <- pwt1001[order(pwt1001$isocode,pwt1001$year),]"
   ]
  },
  {
   "cell_type": "markdown",
   "id": "c5f8a3f2",
   "metadata": {},
   "source": [
    "Now that we have sorted our data, we need to tell R that the dataframe *df* contains panel data. We do so by relying on the package `plm`, a package containing various tools for Linear Models for Panel data. We load the package `plm` and use the `pdata.frame()` function to create a panel data frame. In the argument `index` of the function `pdata.frame()` we have to specify the name of the cross-sectional unit identifier (*isocode*) and the time variable (*year*).  "
   ]
  },
  {
   "cell_type": "code",
   "execution_count": null,
   "id": "0dd666b5",
   "metadata": {},
   "outputs": [],
   "source": [
    "# Install and load plm package\n",
    "install.packages(\"plm\")\n",
    "library(plm)\n",
    "\n",
    "# Convert dataframe to panel data format\n",
    "panel_data <- pdata.frame(df, index=c(\"isocode\", \"year\"))"
   ]
  },
  {
   "cell_type": "markdown",
   "id": "14656069-b9e8-491b-bf2f-37c2462d30f0",
   "metadata": {},
   "source": [
    "To check that we have correctly converted our data in a panel data frame, we can use the `class` or the `pdim` functions. Note that `pdim` tells us if our dataframe is balanced or not, as well as the number of cross-sectional unit identifiers and time periods. "
   ]
  },
  {
   "cell_type": "code",
   "execution_count": null,
   "id": "a785922c-d1be-4610-9698-6529b124616c",
   "metadata": {},
   "outputs": [],
   "source": [
    "class(panel_data)"
   ]
  },
  {
   "cell_type": "code",
   "execution_count": null,
   "id": "ee524369-85d0-4578-935f-2d6462150653",
   "metadata": {},
   "outputs": [],
   "source": [
    "pdim(panel_data)"
   ]
  },
  {
   "cell_type": "markdown",
   "id": "b5d4f45d-1dc9-4930-b71f-72b4daca5490",
   "metadata": {
    "tags": []
   },
   "source": [
    "## 14.3 Basic Regressions with Panel Data\n",
    "\n",
    "For now we are going to focus on the skills you need to run your own panel data regressions. At the end of this Notebook you will find more details about the econometrics of panel data regressions that will help you understand these approaches in section 14.7. Please make sure you understand that theory before beginning your own research. \n",
    "\n",
    "Now that we have specified the panel and time variables we are working with, we can begin to run regressions using our panel data. For panel data regressions we simply replace `lm` with the command `plm`. The command `plm` takes another input, `model`. We can specify `model` to be fixed effect, random effect, or a pooled OLS. For now, let's use a pooled OLS with `model=\"pooling\"`. More details on the other models will be addressed below. \n",
    "\n",
    "Let's try this out by regressing the natural log of Gross Domestic Product on the natural log of human capital."
   ]
  },
  {
   "cell_type": "code",
   "execution_count": null,
   "id": "5d02d14c-f2ae-4ed6-a76c-7ee10bcbd366",
   "metadata": {},
   "outputs": [],
   "source": [
    "# Create the two new variables\n",
    "panel_data <- panel_data %>% mutate(lngdp = log(rgdpo/pop), lnhc = log(hc))\n",
    "\n",
    "# Estimate specification\n",
    "model <- plm(lngdp ~ lnhc, data = panel_data, model = \"pooling\")\n",
    "summary(model)"
   ]
  },
  {
   "cell_type": "markdown",
   "id": "35d436ef-1f42-4888-9047-b8bc7976714b",
   "metadata": {},
   "source": [
    "The coefficients in a panel regression are interpreted similarly to those in a basic OLS regression. Because we have taken the natural log of our variables, we can interpret the coefficient on each explanatory variable as being that a 1% increase in the explanatory variable leads to a $\\beta$ % increase in the dependent variable. \n",
    "\n",
    "Thus, in the regression results above, a 1% increase in human capital leads to a roughly 2.5% increase in real GDP per capita. That's a huge effect, but then again this model is almost certainly misspecified due to omitted variable bias. Namely, we are likely missing a number of explanatory variables that explain variation in both GDP per capita and human capital, such as savings and population growth rates.\n",
    "\n",
    "One thing we know is that GDP per capita can be impacted by the individual characteristics of a country that do not change much over time. For example, it is known that distance from the equator has an impact on the standard of living of a country; countries that are closer to the equator are generally poorer than those farther from it. This is a time-invariant characteristic that we might want to control for in our regression. At the same time, we know that GDP per capita could be similarly impacted in many countries by a shock at one point in time. For example, a worldwide global recession would affect the GDP per capita of all countries at a given time such that values of GDP per capita in this time period are uniformly different in all countries from values in other periods. That seems like a time-variant characteristic (time trend) that we might want to control for in our regression. Fortunately, with panel data regressions we can account for these sources of endogeneity. Let's look at how panel data helps us do this now."
   ]
  },
  {
   "cell_type": "markdown",
   "id": "9054e9cb-21d1-4699-9e06-249ea007b44f",
   "metadata": {
    "tags": []
   },
   "source": [
    "#### 14.3.1 Fixed Effects Models\n",
    "We refer to shocks that are invariant based on some variable (e.g. household level shocks that don't vary with year or time-specific shocks that don't vary with household) as **fixed effects**. For instance, we can define household fixed effects, time fixed effects, and so on. Notice that this is an assumption on the error terms, and as such, when we include fixed effects to our specification they become part of the model we assume to be true. \n",
    "\n",
    "Earlier we were concerned about omitted variable bias and endogeneity. We are concerned about distance from the equator positively impacting both human capital and real GDP per capita, in which case our independent variable would be correlated with our error term, preventing us from interpreting our regression result as causal. We are now able to add country fixed effects to our regression. There are two ways to do this. Let's look at the more obvious one first.\n",
    "\n",
    "*Approach 1*: create a series of country dummy variables for each country and include them in the regression. For example, we would have one dummy variable called \"Canada\" that would be equal to 1 if the country is Canada and 0 if not. We would have dummy variables for all but one of the countries in this data set in order to avoid introducing perfect collinearity into our regression specification. Rather than define all of these dummies manually and include them in our regression command, we can simply factorize them and R will include them automatically."
   ]
  },
  {
   "cell_type": "code",
   "execution_count": null,
   "id": "a01fab29-d765-4f2b-ba13-821174ea72a0",
   "metadata": {},
   "outputs": [],
   "source": [
    "# Factorize isocode\n",
    "panel_data <- panel_data %>% mutate(countrycode = factor(isocode))"
   ]
  },
  {
   "cell_type": "markdown",
   "id": "9100876f-25a5-46a3-8c64-f04750f648c8",
   "metadata": {},
   "source": [
    "Now we can add the factorized version of country codes to our panel linear model."
   ]
  },
  {
   "cell_type": "code",
   "execution_count": null,
   "id": "879e211d-6076-4a92-a3ac-905080ba9f9a",
   "metadata": {},
   "outputs": [],
   "source": [
    "model <- plm(lngdp ~ lnhc + countrycode, data = panel_data, model = \"pooling\")\n",
    "summary(model)"
   ]
  },
  {
   "cell_type": "markdown",
   "id": "b9b2e2f2",
   "metadata": {},
   "source": [
    "As you can see, the problem with this approach is that we end up with a huge table containing the coefficients of every country dummy, none of which we care about. We are interested in the relationship between GDP and human capital, not the mean values of GDP for each country relative to the omitted one. Luckily for us, a well-known result is that controlling for fixed effects is equivalent to adding multiple dummy variables. This leads us into the second approach to including fixed effects in a regression.\n",
    "\n",
    "*Approach 2*: We can alternatively apply fixed affects to the regression by adding `model=\"within\"` as an option on the regression."
   ]
  },
  {
   "cell_type": "code",
   "execution_count": null,
   "id": "1b21b87a",
   "metadata": {},
   "outputs": [],
   "source": [
    "model <- plm(lngdp ~ lnhc, data = panel_data, model = \"within\")\n",
    "summary(model)"
   ]
  },
  {
   "cell_type": "markdown",
   "id": "d257d3de-45f7-473c-bf7e-f2a4c332c8fc",
   "metadata": {},
   "source": [
    "We obtained the same coefficient and standard errors on our explanatory variable using both approaches!"
   ]
  },
  {
   "cell_type": "markdown",
   "id": "14c3b04e-b1a0-4678-b00a-998da6d751ab",
   "metadata": {},
   "source": [
    "#### 14.3.2 Random Effects Models\n",
    "One type of model we can also run is a **random effects model**. The main difference between a random and fixed effects model is that, with the random effects model, differences across countries are assumed to be random. This allows us to treat time-invariant variables such as latitude as control variables. To run a random-effects model just add `model=\"random\"` as argument of `plm`."
   ]
  },
  {
   "cell_type": "code",
   "execution_count": null,
   "id": "dea2a496-1914-4c70-9f89-739452875752",
   "metadata": {},
   "outputs": [],
   "source": [
    "model <- plm(lngdp ~ lnhc, data = panel_data, model = \"random\")\n",
    "summary(model)"
   ]
  },
  {
   "cell_type": "markdown",
   "id": "95dc2def-c749-4b59-a1fd-303a1755dabb",
   "metadata": {},
   "source": [
    "As you can see, with this data and choice of variables there is little difference in results between all of these models and choice of code to run. \n",
    "\n",
    "This, however, will not always be the case. The test to determine if you should use the fixed-effects model or the random-effects model is called the Hausman test. \n",
    "\n",
    "To run this test in R, we first have to store the fixed-effect and the random-effect models in two different objects, one called *fixed* and the other called *random*."
   ]
  },
  {
   "cell_type": "code",
   "execution_count": null,
   "id": "a742d499-b65d-4dea-815d-47da6363680c",
   "metadata": {},
   "outputs": [],
   "source": [
    "fixed <- plm(lngdp ~ lnhc, data = panel_data, model = \"within\")\n",
    "random <- plm(lngdp ~ lnhc, data = panel_data, model = \"random\")"
   ]
  },
  {
   "cell_type": "markdown",
   "id": "77e12562-50bd-43af-84bf-febdcd5718e3",
   "metadata": {},
   "source": [
    "Then, we perform the Hausman test by comparin the two objects *fixed* and *random* using the function `phtest`. Remember, the null hypothesis is that the preferred model is random effects."
   ]
  },
  {
   "cell_type": "code",
   "execution_count": null,
   "id": "952370c4-be73-42f3-94a1-87a77b908a65",
   "metadata": {},
   "outputs": [],
   "source": [
    "phtest(fixed, random)"
   ]
  },
  {
   "cell_type": "markdown",
   "id": "5b1e13a6-6b28-4db1-9b36-643e3ed00809",
   "metadata": {},
   "source": [
    "As you can see, the p-values associated with this test suggest that we would reject the null hypothesis (random effect) and that we should adopt a fixed-effects model. "
   ]
  },
  {
   "cell_type": "markdown",
   "id": "fd21fad9-d80a-4ac2-bfb5-74e1186dc25f",
   "metadata": {},
   "source": [
    "#### 14.3.3 Controlling for multiple fixed effects\n",
    "\n",
    "We have run a panel data with fixed effects and we may think that no more needs to be done for factors that are constant across the cross-section variables (i.e. countries in this setting) at any one point in time (i.e. years). However, for very long time series, time dummy variables may also be needed. We need to check for that possibility.\n",
    "\n",
    "In R, we can easily do it ysubg two functions: the `pFtest()` and the `plmtest()`.\n",
    "First, let's save our model with and without time fixed effects in two objects."
   ]
  },
  {
   "cell_type": "code",
   "execution_count": null,
   "id": "1045af11-320b-4c5f-9223-d2f7aba703ed",
   "metadata": {},
   "outputs": [],
   "source": [
    "# No time fixed effects\n",
    "fixed <- plm(lngdp ~ lnhc, data = panel_data, model = \"within\")\n",
    "\n",
    "# Time fixed effects\n",
    "fixed_yearfe <- plm(lngdp ~ lnhc + factor(year), data = panel_data, model = \"within\")"
   ]
  },
  {
   "cell_type": "markdown",
   "id": "b5084a2e-289c-4e07-82b5-92de453b275f",
   "metadata": {},
   "source": [
    "Now that we have saved both models, we can use the test. `pFtest()` requires you to use both models as inputs. `plmtest()` only needs the model without time fixed effect as input."
   ]
  },
  {
   "cell_type": "code",
   "execution_count": null,
   "id": "263e7e66-d198-431b-b718-abf25bbc0cff",
   "metadata": {},
   "outputs": [],
   "source": [
    "# Option 1: pFtest\n",
    "pFtest(fixed_yearfe, fixed)"
   ]
  },
  {
   "cell_type": "code",
   "execution_count": null,
   "id": "ed3f96c3-d32e-4080-8411-c9ca480dc741",
   "metadata": {},
   "outputs": [],
   "source": [
    "# Option 2: plmtest\n",
    "plmtest(fixed, c(\"time\"), type=(\"bp\"))"
   ]
  },
  {
   "cell_type": "markdown",
   "id": "5f497b61-584d-4d7e-83be-5a71ee631ce0",
   "metadata": {},
   "source": [
    "Both tests report a p-value smaller than 0.05, which suggests that we can reject the null hypothesis and need time-fixed effects in our model."
   ]
  },
  {
   "cell_type": "markdown",
   "id": "14e23294-b0c9-4c1d-8d34-29768d693034",
   "metadata": {
    "tags": []
   },
   "source": [
    "## 14.4 Creating New Time Series Variables\n",
    "\n",
    "Panel data also provides us with a new source of variation: variation over time. This means that we have access to a wide variety of variables we can include. For instance, we can create lags (variables in previous periods) and leads (variables in future periods). Once we have defined our panel data set using the `pdata.frame` function (which we did earlier) we can create the lags using the `dplyr::lag()` function and the leads using the `dplyr::lead()` function.\n",
    "\n",
    "<div class=\"alert alert-block alert-warning\">\n",
    "<b>Warning:</b> Many other packages have a lag() and a lead() function. To make sure that R knows which function you want to use, specify that the source library is dplyr by writing the functions in their full names: dplyr::lag() and dplyr::lead(). Failing to do so may result in lag() and lead() not to behave as expected.   \n",
    "</div>\n",
    "\n",
    "For example, let's create a new variable that lags the natural log of GDP by one period."
   ]
  },
  {
   "cell_type": "code",
   "execution_count": null,
   "id": "a7232452-9fdb-4f45-8012-27260b25e18d",
   "metadata": {},
   "outputs": [],
   "source": [
    "panel_data <- panel_data %>% mutate(lag1_lngdp = dplyr::lag(lngdp,1))"
   ]
  },
  {
   "cell_type": "markdown",
   "id": "69d1b4fc-04bc-4322-9da5-8bfbc188e3a3",
   "metadata": {},
   "source": [
    "If we wanted to lag this same variable ten periods, we could use this command:"
   ]
  },
  {
   "cell_type": "code",
   "execution_count": null,
   "id": "aaea41a9-f0a1-4f5d-bfcb-24bd5ec992bd",
   "metadata": {},
   "outputs": [],
   "source": [
    "panel_data <- panel_data %>% mutate(lag10_lngdp = dplyr::lag(lngdp,10))"
   ]
  },
  {
   "cell_type": "markdown",
   "id": "63726246-b253-466a-9f20-7ead6c3d7b57",
   "metadata": {},
   "source": [
    "Let's inspect the first 50 rows of our data frame to check that we have created lagged variables as expected."
   ]
  },
  {
   "cell_type": "code",
   "execution_count": null,
   "id": "7fb1b3a5-07f8-42b8-ab9a-2817a36b2f9e",
   "metadata": {},
   "outputs": [],
   "source": [
    "head(panel_data[, c(\"lngdp\", \"lag1_lngdp\", \"lag10_lngdp\")],50)"
   ]
  },
  {
   "cell_type": "markdown",
   "id": "1e7b0f18-7b33-49a1-bd28-36847819cf31",
   "metadata": {},
   "source": [
    "We can then include lagged variables in our regression if we believe that past values of GDP influence current levels of GDP."
   ]
  },
  {
   "cell_type": "code",
   "execution_count": null,
   "id": "22d3f8a6-9b92-438a-877e-83965f522add",
   "metadata": {},
   "outputs": [],
   "source": [
    "model <- plm(lngdp ~ lnhc + lag10_lngdp, data = panel_data, model = \"within\")\n",
    "summary(model)"
   ]
  },
  {
   "cell_type": "markdown",
   "id": "0205c29f-fd82-4a7c-a368-977f401feffb",
   "metadata": {},
   "source": [
    "While we included lagged values from the previous 10 years as examples, we can use any period for our lags. In fact, including lag variables as controls for recent periods such as one lag back and two lags back is the most common choice for inclusion of past values of independent variables as controls.\n",
    "\n",
    "Finally, these time series variables are useful if we are trying to measure the growth rate of a variable. You may remember that the growth rate of a variable X is just equal to $ln(X_{t}) - ln(X_{t-1})$ where the subscripts indicate time. \n",
    "\n",
    "For example, if we want to now include the natural log of the population growth rate in our regression we can create that new variable by taking the natural log of the population growth rate $ln(pop_{t}) - ln(pop_{t-1})$"
   ]
  },
  {
   "cell_type": "code",
   "execution_count": null,
   "id": "b9ddbaac-c2b9-4866-b3bd-4dfc0ae31b42",
   "metadata": {},
   "outputs": [],
   "source": [
    "# Create log of population\n",
    "panel_data$lnpop <- log(panel_data$pop)\n",
    "\n",
    "# Create the population growth rate\n",
    "panel_data <- panel_data %>% mutate(lnn = lnpop - dplyr::lag(lnpop,1))"
   ]
  },
  {
   "cell_type": "markdown",
   "id": "598ae055-7cd9-4f98-ab3d-0846eb1d5095",
   "metadata": {},
   "source": [
    "Another variable that might also be useful is the natural log of the growth rate of GDP."
   ]
  },
  {
   "cell_type": "code",
   "execution_count": null,
   "id": "9b324b1a-f2ec-464a-b21b-ecbb1bc33bcd",
   "metadata": {},
   "outputs": [],
   "source": [
    "panel_data <- panel_data %>% mutate(dlngdp = lngdp - dplyr::lag(lngdp,1))"
   ]
  },
  {
   "cell_type": "markdown",
   "id": "00b437b7-e960-43f1-a5c5-5c773db680da",
   "metadata": {},
   "source": [
    "Let's put this all together in a regression to see the effect of the growth rate of population on growth rate of GDP, controlling for human capital and the level of GDP in the previous year:"
   ]
  },
  {
   "cell_type": "code",
   "execution_count": null,
   "id": "1850298e-9e7a-4e47-a92c-ce18b6976b63",
   "metadata": {},
   "outputs": [],
   "source": [
    "model <- plm(dlngdp ~ lag1_lngdp + lnn + lnhc, data = panel_data, model = \"within\")\n",
    "summary(model)"
   ]
  },
  {
   "cell_type": "markdown",
   "id": "ea00828d-8437-4281-a888-8a722b11290b",
   "metadata": {
    "tags": []
   },
   "source": [
    "## 14.5 Is our Panel Data Regression Properly Specified?\n",
    "\n",
    "While there are concerns with interpreting the coefficients of these regressions that are familiar to all regressions (i.e. multicollinearity, inferring causality), there are some topics which require special treatment when working with panel data."
   ]
  },
  {
   "cell_type": "markdown",
   "id": "d1f3d76b-e161-4b8d-b63d-b1b251b09ded",
   "metadata": {},
   "source": [
    "### 14.5.1 Heteroskedasticity\n",
    "\n",
    "As always, when running regression we must consider whether our residuals are heteroskedastic (not constant for all values of $X$). To test our panel data regression for heteroskedasticity in the residuals, we need to calculate a modified Wald statistic. We use the Breusch-Pagan test that can be found in the `lmtest` package."
   ]
  },
  {
   "cell_type": "code",
   "execution_count": null,
   "id": "5deed4a3-661c-4739-8594-b8b8b73954d6",
   "metadata": {},
   "outputs": [],
   "source": [
    "library(lmtest)"
   ]
  },
  {
   "cell_type": "markdown",
   "id": "736092e2-71ef-4bdf-9af5-4bd5e6c66832",
   "metadata": {},
   "source": [
    "Once we have loaded the `lmtest` package, we can call the Breusch-Pagan test in the `bptest()` function. The first argument of `bptest()` is the model we want to test; in our case, it is the specification for log GDP and log human capital. The second argument is the data frame."
   ]
  },
  {
   "cell_type": "code",
   "execution_count": null,
   "id": "c0014b7a-1737-4a61-8a80-d72ab470bac5",
   "metadata": {},
   "outputs": [],
   "source": [
    "bptest(lngdp ~ lnhc + countrycode, data = panel_data)"
   ]
  },
  {
   "cell_type": "markdown",
   "id": "454c65a3-07f9-41f1-9533-f2252f06e3c5",
   "metadata": {},
   "source": [
    "The null is homoskedasticity (or constant variance of the error term). From the output above, we can see that we reject the null hypothesis and conclude that the residuals in this regression are heteroskedastic.\n",
    "\n",
    "We can control for heteroskedasticity in different ways when we use a Fixed Effects model. The `coeftest()` function allows us to estimate several heteroskedasticity-consistent covariance estimators."
   ]
  },
  {
   "cell_type": "code",
   "execution_count": null,
   "id": "5a72e33c-4a32-4cef-a959-5d2e0782e2d5",
   "metadata": {},
   "outputs": [],
   "source": [
    "# Estimate model\n",
    "fixed <- plm(lngdp ~ lnhc, data = panel_data, model=\"within\")\n",
    "\n",
    "# Show original coefficients\n",
    "coeftest(fixed)\n",
    "\n",
    "# Show heteroskedasticity consistent coefficients\n",
    "coeftest(fixed, vcovHC)"
   ]
  },
  {
   "cell_type": "markdown",
   "id": "a7dddecb-3719-4225-90d4-00fe8b6bc376",
   "metadata": {},
   "source": [
    "### 14.5.2 Serial Correlation\n",
    "In time-series setups where we only observe a single unit over time (no cross-sectional dimension) we might be worried that a linear regression model like\n",
    "\n",
    "$$ Y_t = \\alpha + \\beta X_t + \\varepsilon_t $$\n",
    "\n",
    "can have errors that not only are heteroskedastic (i.e. that depend on observables $X_t$) but can also be correlated across time. For instance, if $Y_t$ was income, then $\\varepsilon_t$ may represent income shocks (including transitory and permanent components). The permanent income shocks are, by definition, very persistent over time. This would mean that $\\varepsilon_{t-1}$ affects (and thus is correlated with) shocks in the next period $\\varepsilon_t$. This problem is called serial correlation or autocorrelation, and if it exists, the assumptions of the regression model (i.e. unbiasedness, consistency, etc.) are violated. This can take the form of regressions where a variable is correlated with lagged versions of the same variable.\n",
    "\n",
    "To test our panel data regression for serial correlation, we need to run a Breusch-Godfrey/Woolridge test. In R, we can do it easily with `pbgtest()`."
   ]
  },
  {
   "cell_type": "code",
   "execution_count": null,
   "id": "124b2e77-2330-40a9-91d0-2674e1a461df",
   "metadata": {},
   "outputs": [],
   "source": [
    "# Estimate model\n",
    "fixed <- plm(lngdp ~ lnhc, data = panel_data, model=\"within\")\n",
    "\n",
    "# Run test\n",
    "pbgtest(fixed)"
   ]
  },
  {
   "cell_type": "markdown",
   "id": "e4a130b3-5b46-4a97-b2e4-0482321705c2",
   "metadata": {},
   "source": [
    "The null hypothesis is that there is no serial correlation between residuals. From the output, we see that we cannot reject the null hypothesis and conclude the variables are correlated with lagged versions of themselves. One method for dealing with this serial correlation in panel data regression is by using again the `coeftest()` function, this time with the Arellano method of computing the covariance matrix. Note that the Arellano method allows a fully general structure with respect to both heteroskedasticity and serial correlation, so that our standard errors would effectively be robust to both threats."
   ]
  },
  {
   "cell_type": "code",
   "execution_count": null,
   "id": "94de19fa-8b21-4531-9e47-fee627c62cf0",
   "metadata": {},
   "outputs": [],
   "source": [
    "# Estimate model\n",
    "fixed <- plm(lngdp ~ lnhc, data = panel_data, model=\"within\")\n",
    "\n",
    "# Show original coefficients\n",
    "coeftest(fixed)\n",
    "\n",
    "# Show heteroskedasticity and serial correlation consistent coefficients\n",
    "coeftest(fixed, vcovHC(fixed, method=\"arellano\"))"
   ]
  },
  {
   "cell_type": "markdown",
   "id": "10ddac8c",
   "metadata": {},
   "source": [
    "### 14.5.3 Granger Causality \n",
    "\n",
    "In the regressions that we have been running in this example we have found that the level of human capital is correlated with the level of GDP per capita. But have we proven that having high human capital causes countries to be wealthier? Or is is possible that people living in wealthier countries can afford to invest more in human capital? \n",
    "\n",
    "The Granger Causality test allows use to unpack some of the causality in these regressions. While understanding how this test works is beyond the scope of this notebook, we can look at an example using this data.\n",
    "\n",
    "The first thing we need to do is ensure that our panel is balanced. In the Penn World tables there are no missing values for real GDP and for population, but there are missing values for human capital. We can simply drop all the observations that do not include a measure for human capital."
   ]
  },
  {
   "cell_type": "code",
   "execution_count": null,
   "id": "06c4e519-76d6-4cb6-96c2-c8ee87807b79",
   "metadata": {},
   "outputs": [],
   "source": [
    "panel_data <- panel_data %>%\n",
    "            drop_na(lnhc)"
   ]
  },
  {
   "cell_type": "markdown",
   "id": "8e0881a8-909d-477d-86a2-ac8a1c7a95ac",
   "metadata": {},
   "source": [
    "Next we can run the test that is provided by R for Granger Causality: `grangertest()`. The first input is the model we want to use, the second input is the data, and the optional third input is the number of lags we want to use (by default, R uses only 1 lag)."
   ]
  },
  {
   "cell_type": "code",
   "execution_count": null,
   "id": "11eedb1c",
   "metadata": {},
   "outputs": [],
   "source": [
    "granger_test <- grangertest(lngdp ~ lnhc, data = panel_data, order=3)\n",
    "print(granger_test)"
   ]
  },
  {
   "cell_type": "markdown",
   "id": "e63c26e6",
   "metadata": {},
   "source": [
    "Note that R gives us two models. In model 1, both previous values of GDP and human capital are included: this is an unrestricted model that includes all Granger-causal terms. In model 2, the Granger causal terms are omitted and only previous values of GDP are included.\n",
    "From our results, we can reject the null hypothesis of lack of Granger causality. The evidence seems to suggest that high levels of human capital cause countries to be wealthier. \n",
    "\n",
    "Please speak to your instructor or TA if you need help with this test. "
   ]
  },
  {
   "cell_type": "markdown",
   "id": "0dedfb40",
   "metadata": {},
   "source": [
    "## 14.6 How is Panel Data Helpful?\n",
    "\n",
    "In typical cross-sectional settings, it is hard to defend a selection on observables (otherwise known as conditional independence) assumption. However, panel data allows us to control for unobserved time invariant heterogeneity. \n",
    "\n",
    "Consider the following example. Household income  $y_{jt}$ at time $t$ can be split into two components: \n",
    "\n",
    "$$\n",
    "y_{jt} = e_{jt} + \\Psi_{j}\n",
    "$$\n",
    "    \n",
    "where $\\Psi_{j}$ is a measure of unobserved household-level determinants of income such as social programs targeted towards certain households. \n",
    "    \n",
    "Consider what happens when we compute each $j$ household's average income, average value of $e$, and average value of $\\Psi$ across time $t$ in the data:\n",
    "\n",
    "$$\n",
    "\\bar{y}_{J}= \\frac{1}{\\sum_{j,t}   \\mathbf{1}\\{ j = J \\}  } \\sum_{j,t}  y_{jt} \\mathbf{1}\\{ j = J \\}\n",
    "$$\n",
    "$$\n",
    "\\bar{e}_{J}= \\frac{1}{\\sum_{j,t}   \\mathbf{1}\\{ j = J \\}  } \\sum_{j,t}  e_{jt} \\mathbf{1}\\{ j = J \\}\n",
    "$$\n",
    "$$\n",
    "\\bar{\\Psi}_{J} =  \\Psi_{J}\n",
    "$$\n",
    "    \n",
    "Notice that the mean of $\\Psi_{j}$ does not change over time for a fixed household $j$. Hence, we can subtract the two household level means from the original equation to get: \n",
    "   \n",
    "$$\n",
    "y_{jt} - \\bar{y}_{j} = e_{jt} - \\bar{e}_{j}  + \\underbrace{ \\Psi_{j} - \\bar{\\Psi}_{j}  }_\\text{equals zero!}\n",
    "$$\n",
    " \n",
    "Therefore, we are able to get rid of the unobserved heterogeneity in household determinants of income via \"de-meaning\"! This is called a within-group or fixed-effects transform. If we believe these types of unobserved errors/shocks are creating endogeneity, we can get rid of them using this powerful trick. In some cases, we may alternatively choose to do a first-differences transform of our regression specification. This entails subtracting the regression in one period not from its expectation across time but from the regression in the previous period. In this case, time-invariant characteristics are similarly removed from the regression since they are constant across all periods $t$."
   ]
  },
  {
   "cell_type": "markdown",
   "id": "843207a8-aee6-4b6a-a5f4-76532d6e7709",
   "metadata": {},
   "source": [
    "## 14.7 Common Mistakes\n",
    "\n",
    "One common mistake is not to respect the order set by R in defining the ordering variables. By default, R orders panel data based on a cross sectional ID first and a time variable second. If we change the order of the indices, then the estimates produced by R will change.\n",
    "\n",
    "If we invert the order of the cross-sectional ID (*country*) and the time variable (*year*) we may get different results."
   ]
  },
  {
   "cell_type": "code",
   "execution_count": null,
   "id": "0a1cde3d-b6c0-4721-9da4-b19f7886093d",
   "metadata": {},
   "outputs": [],
   "source": [
    "# Default order\n",
    "plm(lngdp ~ lnhc, data = panel_data, model=\"within\")\n",
    "\n",
    "# Inverted order\n",
    "plm(lngdp ~ lnhc, data = panel_data, model=\"within\", index=c(\"year\",\"isocode\"))"
   ]
  },
  {
   "cell_type": "markdown",
   "id": "1e15af0f-a708-4ab6-aac3-e1919792f04c",
   "metadata": {},
   "source": [
    "Another common mistake happens with the `lag()` and `lead()` functions. Since there are several functions with this name, it's always best to specify to R that we want to use the `lag()` and `lead()` functions from the package `dplyr`.\n",
    "\n",
    "See what happens when we forget to specify it: do you see any difference between *lag1_lngdp* and *new_lag1_lngdp*? "
   ]
  },
  {
   "cell_type": "code",
   "execution_count": null,
   "id": "b95b9e45-8ab9-4601-9de6-9ce4f384ecae",
   "metadata": {},
   "outputs": [],
   "source": [
    "# Create lag using dplyr::lag\n",
    "panel_data <- panel_data %>% mutate(lag1_lngdp = dplyr::lag(lngdp,1))\n",
    "\n",
    "# Create lag using lag\n",
    "panel_data <- panel_data %>% mutate(new_lag1_lngdp = lag(lngdp,1))\n",
    "\n",
    "# Check the difference\n",
    "head(panel_data[, c(\"lngdp\", \"lag1_lngdp\", \"new_lag1_lngdp\")],50)"
   ]
  },
  {
   "cell_type": "markdown",
   "id": "21102b32-1030-49d9-bf23-2376c6cadbb0",
   "metadata": {},
   "source": [
    "## 14.8 Wrap Up\n",
    "\n",
    "In this module we've learned how to address linear regression in the case where we have access to two dimensions: cross-sectional variation and time variation. The usefulness of time variation is that it allows us to control for time-invariant components of the error term which may be causing endogeneity. We also investigated different ways for addressing problems such as heteroskedasticity and autocorrelation in our standard errors when working specifically with panel data. In the next module, we will cover a popular research design method: difference-in-differences.\n",
    "\n",
    "Below you can find a table with the most important functions/commands seen in this module.\n",
    "\n",
    "\n",
    "| Command | Function |\n",
    "|--------|----------|\n",
    "| `pdata.frame` | It transforms a data frame in panel data format. |\n",
    "| `plm` | It estimates a linear model with panel data. Use option \"within\" for Fixed Effects and \"random\" for Random Effects. |\n",
    "| `phtest` | It performs a test to choose between Fixed Effects and Random Effects model. |\n",
    "| `pFtest` | It performs a test to choose whether time fixed effects are needed. |\n",
    "| `dplyr::lag` | It creates lag variables. |\n",
    "| `dplyr::lead` | It creates lead variables. |\n",
    "| `bptest` | It tests for heteroskedasticity. |\n",
    "| `pbgtest` | It tests for serial correlation. |\n",
    "| `grangertest` | It tests for Granger causality. |"
   ]
  },
  {
   "cell_type": "markdown",
   "id": "b2349381-2282-45b9-bf8d-a11cb3fe65ef",
   "metadata": {},
   "source": [
    "## References\n",
    "\n",
    "[Formatting and managing dates](https://www.youtube.com/watch?v=SOQvXICIRNY&t=149s) <br>\n",
    "[Time-series operators (lags)](https://www.youtube.com/watch?v=ik8r4WvrPkc&t=224s)"
   ]
  }
 ],
 "metadata": {
  "kernelspec": {
   "display_name": "R",
   "language": "R",
   "name": "ir"
  },
  "language_info": {
   "codemirror_mode": "r",
   "file_extension": ".r",
   "mimetype": "text/x-r-source",
   "name": "R",
   "pygments_lexer": "r",
   "version": "4.2.3"
  }
 },
 "nbformat": 4,
 "nbformat_minor": 5
}
