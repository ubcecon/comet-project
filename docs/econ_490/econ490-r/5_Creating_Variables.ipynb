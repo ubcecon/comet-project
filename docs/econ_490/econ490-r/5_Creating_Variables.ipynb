{
 "cells": [
  {
   "cell_type": "markdown",
   "id": "52dcbe2e-5db6-46dd-9728-89de39d13c4a",
   "metadata": {
    "tags": []
   },
   "source": [
    "# ECON 490: Generating Variables (5)\n",
    "\n",
    "## Prerequisites\n",
    "\n",
    "1. Import datasets in csv and dta format.\n",
    "2. Save files.\n",
    "\n",
    "## Learning Outcomes\n",
    "\n",
    "In this module, you will learn to:\n",
    "\n",
    "1. Generate dummy (or indicator) variables using `ifelse` and `case_when`.\n",
    "2. Create new variables using `mutate`.\n",
    "3. Rename variables using `rename`."
   ]
  },
  {
   "cell_type": "markdown",
   "id": "c51cc109",
   "metadata": {
    "tags": []
   },
   "source": [
    "## 5.1 Review of the Data Opening Procedure\n",
    "We'll continue working with the fake data data set introduced in the previous lecture. Recall that this data set is simulating information of workers in the years 1982-2012 in a fake country where a training program was introduced in 2003 to boost their earnings.  \n",
    "\n",
    "Last lecture we looked at the process of loading our \"fake_data\" data set into R and preparing it for analysis. Specifically, we covered the following important points:\n",
    "1. Import the relevant package (Haven) which gives us access to commands for loading the data. Additionally, import the tidyverse package in order to clean our data.\n",
    "2. Use the `read_csv` or `read_dta` functions to load our data set. \n",
    "3. Clean our data by factorizing all important variables.\n",
    "\n",
    "Let's run through this procedure quickly so that we are all ready to do our analysis. "
   ]
  },
  {
   "cell_type": "code",
   "execution_count": null,
   "id": "da404a56-1c12-4f0d-90ff-b72578f6682b",
   "metadata": {},
   "outputs": [],
   "source": [
    "library(haven)\n",
    "library(tidyverse)\n",
    "library(IRdisplay)"
   ]
  },
  {
   "cell_type": "code",
   "execution_count": null,
   "id": "f1594da8-97a5-48c6-8c34-ce8fcdf18e13",
   "metadata": {},
   "outputs": [],
   "source": [
    "fake_data <- read_csv(\"../econ490-stata/fake_data.csv\")\n",
    "fake_data <- as_factor(fake_data)"
   ]
  },
  {
   "cell_type": "markdown",
   "id": "22a46ea4",
   "metadata": {
    "tags": []
   },
   "source": [
    "##  5.2 Generating Dummy Variables\n",
    "The most common type of variable we will create during data cleaning and analysis is the dummy variable. Dummy variables are variables that can only take on two values: 0 and 1. It is useful to think of a dummy variable as being the answer to a question that can be answered \"yes\" or \"no\". With a dummy variable the answer yes is coded as \"1\" and no is coded as \"0\".\n",
    "\n",
    "Examples of question that are used to create dummy variables can include:\n",
    "\n",
    "1. Is the person female? Females are coded \"1\" and males are coded \"0\".\n",
    "2. Does the person have a university degree? People with a university degree are coded \"1\" and everyone else is coded \"0\".\n",
    "3. Is the person married? Married people are coded \"1\" and everyone else is coded \"0\".\n",
    "4. Is the person a millennial? People born between 1980 and 1996 are coded \"1\" and those born in other years are coded \"0\".\n",
    "\n",
    "As you have probably already figured out, dummy variables are used primarily for data that is qualitative and cannot be ranked in any way. For example, being married is qualitative and \"married\" is neither higher nor lower than \"single\", thus we could create a dummy variable coded as 1 if the person is married and 0 if not.  However, dummy variables sometimes also refer to variables that are qualitative and ranked, such as level of education. They can also refer to variables that are quantitative, such as age groupings. \n",
    "\n",
    "It is important to remember that dummy variables must always be used when we want to include categorical (qualitative) variables in our analysis. These are variables such as sex, gender, race, marital status, religiosity, immigration status, etc. Without creating dummy variables for these demographics, analysis of the results from data analysis, regression, and other research will not be meaningful, as we are working with variables which have been numerically scaled in an arbitrary way. This is especially true for interpreting the coefficients outputted from regression."
   ]
  },
  {
   "cell_type": "markdown",
   "id": "255798d5-6b3e-4e8b-99bd-b7d52f34e742",
   "metadata": {},
   "source": [
    "#### 5.2.1 Creating dummy variables using `ifelse`\n",
    "\n",
    "We can use the `ifelse` function to create a simple dummy variable. This command generates a completely new variable based on certain conditions. Let's do an example where we create a dummy variable that indicates if the observation identified as female. "
   ]
  },
  {
   "cell_type": "code",
   "execution_count": null,
   "id": "7c260f56-9654-417b-b082-82e60419e417",
   "metadata": {},
   "outputs": [],
   "source": [
    "fake_data$female = ifelse(fake_data$sex == \"F\", 1, 0)"
   ]
  },
  {
   "cell_type": "markdown",
   "id": "6bd62c04",
   "metadata": {},
   "source": [
    "What R interprets here is that IF the condition `sex == \"F\"` holds, our dummy will take the value of 1; otherwise (ELSE), it will take the value of 0. Depending on what we're doing, we may want it to be the case that when _sex_ is missing, our dummy is zero. We can first check if we have any missing observations for a given variable by using the `is.na` function nested within the `any` function. If there are any missing values for the _sex_ variable in this data set, the code below will return TRUE. This helps us see whether any data is in fact missing for _sex_."
   ]
  },
  {
   "cell_type": "code",
   "execution_count": null,
   "id": "179c12c9-a46c-441c-81b2-d74f91cd79e7",
   "metadata": {},
   "outputs": [],
   "source": [
    "sum(is.na(fake_data$sex))"
   ]
  },
  {
   "cell_type": "markdown",
   "id": "6b5801ee-59c2-47ab-990a-512a49fb6bf6",
   "metadata": {},
   "source": [
    "It appears that there are no missing observations for the _sex_ variable. Nonetheless, if we wanted to account for missing values and ensure that they were denoted as 0 for the dummy _female_, we can invoke the `is.na` function as an additional condition in our function as is done below."
   ]
  },
  {
   "cell_type": "code",
   "execution_count": null,
   "id": "89f54d5c",
   "metadata": {},
   "outputs": [],
   "source": [
    "fake_data$female = ifelse(fake_data$sex == \"F\" & !is.na(fake_data$sex), 1, 0)"
   ]
  },
  {
   "cell_type": "markdown",
   "id": "2eaa0c38-c633-4370-8d45-4f15e07471d7",
   "metadata": {},
   "source": [
    "The above condition within our function says that _female_ == 1 only when _sex_ == \"F\" and _sex_ is not marked as NA (since !is.na must be TRUE)."
   ]
  },
  {
   "cell_type": "markdown",
   "id": "ecae02e4-c392-4524-8e82-2e1f6aaca3e9",
   "metadata": {
    "tags": []
   },
   "source": [
    "#### 5.2.2 Creating a series of dummy variables using `ifelse`\n",
    "\n",
    "We now know how to create singular dummy variables with `ifelse`. However, we may also want to create dummy variables corresponding to a whole set of categories for a given variable - for example, one for each region identified in the data set. To do this, we can just meticulously craft a dummy for each category, such as *reg1*, *reg2*, *reg3*, and *reg4*. We must leave out one region to serve as our base group, being region 5, in order to avoid the dummy variable trap. The reason why we do this will be explained in greater detail in a future notebook; for now, just take it as given."
   ]
  },
  {
   "cell_type": "code",
   "execution_count": null,
   "id": "e5307149-68fd-41ec-965d-47783d515ab5",
   "metadata": {
    "tags": []
   },
   "outputs": [],
   "source": [
    "fake_data$reg1 = ifelse(fake_data$region == 1 & !is.na(fake_data$region), 1, 0)\n",
    "fake_data$reg2 = ifelse(fake_data$region == 2 & !is.na(fake_data$region), 1, 0)\n",
    "fake_data$reg3 = ifelse(fake_data$region == 3 & !is.na(fake_data$region), 1, 0)\n",
    "fake_data$reg4 = ifelse(fake_data$region == 4 & !is.na(fake_data$region), 1, 0)"
   ]
  },
  {
   "cell_type": "markdown",
   "id": "054be0df-f104-47c6-82bd-d01a026e9d77",
   "metadata": {},
   "source": [
    "This command helped us generate five new dummy variables, one for each category for region. This was quite cumbersome. In general, there are packages out there which help to expedite this process in R. Fortunately, if we are running a regression on a qualitative variable such as _region_, R will generate the necessary dummy variables for us automatically."
   ]
  },
  {
   "cell_type": "markdown",
   "id": "9d08e281-0101-4a43-aba3-58dabea5b32d",
   "metadata": {},
   "source": [
    "#### 5.2.3 Creating dummy variables using `case_when`\n",
    "\n",
    "We can also use more complex functions to create dummy variables. An important one is the `case_when` function. This function creates different values for an input based on specified cases. Specifically, it consists of a series of lines, and each line gives a (i) case and (ii) value for that case. This function is nearly always used to operate on either strings or variables which do not have numerical significance in terms of how they are coded. Otherwise, we could use simple operators such as <, >, and = to classify values of these variables and then invoke the `ifelse` function as we did above. Unfortunately, we don't have any variables in our \"fake_data\" data set which call for this and so we don't have an example fit for this function. However, to see documentation for this useful `case_when` function, run the code cell below!"
   ]
  },
  {
   "cell_type": "code",
   "execution_count": null,
   "id": "aeab7ca4-0495-4c15-b4bc-1c4db0a6e4ba",
   "metadata": {},
   "outputs": [],
   "source": [
    "?case_when"
   ]
  },
  {
   "cell_type": "markdown",
   "id": "e63e4c19",
   "metadata": {},
   "source": [
    "## 5.3 Generating Variables Based on Expressions\n",
    "Sometimes we want to generate variables after some transformations (e.g. squaring, taking logs, combining different variables). We can do that by simply writing the expression as an argument to the function `mutate`. This function manipulates our data frame by supplying to it a new column based on the function we input. For example, let's create a variable called *log_earnings* which is the log of earnings."
   ]
  },
  {
   "cell_type": "code",
   "execution_count": null,
   "id": "db54948c-fc2d-4d42-89f1-82507bb57f4e",
   "metadata": {},
   "outputs": [],
   "source": [
    "fake_data <- fake_data %>% mutate(log_earnings = log(earnings))\n",
    "\n",
    "summary(fake_data$log_earnings)"
   ]
  },
  {
   "cell_type": "markdown",
   "id": "f65a94a0-3caa-4a15-97db-36cb7abc0588",
   "metadata": {},
   "source": [
    "Let's try a second example. Let's create a new variable that is the number of years since the year the individual started working. "
   ]
  },
  {
   "cell_type": "code",
   "execution_count": null,
   "id": "270af9fb-e2a3-47c1-aaa8-56d57ac5e535",
   "metadata": {},
   "outputs": [],
   "source": [
    "fake_data <- fake_data %>% mutate(experience_proxy = year - start_year)\n",
    "\n",
    "summary(fake_data$experience_proxy)"
   ]
  },
  {
   "cell_type": "markdown",
   "id": "a00f18cd-2072-4ee2-bcca-5d923f4dacb4",
   "metadata": {},
   "source": [
    "The `mutate` function allows us to easily add new variables to our data frame. If we wanted to instead replace a given variable with a new feature, say add one default year to all experience_proxy observations, we can simply redefine it directly in our data frame."
   ]
  },
  {
   "cell_type": "code",
   "execution_count": null,
   "id": "5780e119-25f4-4df2-bb60-a950605d184d",
   "metadata": {},
   "outputs": [],
   "source": [
    "fake_data$experience_proxy <- fake_data$experience_proxy + 1"
   ]
  },
  {
   "cell_type": "markdown",
   "id": "edd0d630",
   "metadata": {},
   "source": [
    "## 5.4 Following Good Naming Conventions\n",
    "\n",
    "Choosing good names for our variables is more important, and harder, than one might think! Sometimes, the variables in a data set have unrecognizable names which may be confusing when conducting research. In these cases, it is a good idea to change them immediately. In your research, you will also be creating your own variables (like dummy variables) for qualitative measures and will want to be careful about giving them good names. This is especially important for generating tables, since you will want your tables to be easily legible in your paper.\n",
    "\n",
    "We can rename variables with the `rename` function found inside the `dplyr` package (which we can access via having loaded in R's tidyverse). Let' try to rename one of those dummy variables we created above. Maybe we know that if region = 3 then the region is in the west."
   ]
  },
  {
   "cell_type": "code",
   "execution_count": null,
   "id": "eb8431c2",
   "metadata": {
    "tags": []
   },
   "outputs": [],
   "source": [
    "rename(fake_data, west = reg3)"
   ]
  },
  {
   "cell_type": "markdown",
   "id": "12996cd5",
   "metadata": {},
   "source": [
    "Don’t worry about including every piece of information in your variable names. Instead, just try to be clear and concise. Avoid variable names that include unnecessary pieces of information and can only be interpreted by you. At the end of the day, you want others to be able to understand your work. "
   ]
  },
  {
   "cell_type": "markdown",
   "id": "cadca34f-a4c3-4f4f-86d5-366dc5bef9f2",
   "metadata": {},
   "source": [
    "## 5.5 Wrap Up\n",
    "\n",
    "When we are doing our own research, we *always* have to spend some time working with the data before beginning analysis. In this module, you have learned some important tools for manipulating data to get it ready for that analysis. Like everything else that you do in R, emphasis should be on readability and reproducibility in your code. This is pivotal for both you and your audience to understand your research. In the next module, we will explore how to create new variables for group level analysis, among other things.\n",
    "\n",
    "The following table summarizes the main commands we have seen in this module.\n",
    "\n",
    "|Command| Function|\n",
    "|-------|---------|\n",
    "|`ifelse()`| It creates a variable taking two values, based on whether it satisfies one certain condition.|\n",
    "|`case_when()`| It creates a variable taking multiple values, based on whether it satisfies multiple conditions.|\n",
    "|`mutate`| It creates a new variable based on an expression.|\n",
    "|`rename`| It renames a variable.|"
   ]
  }
 ],
 "metadata": {
  "kernelspec": {
   "display_name": "R",
   "language": "R",
   "name": "ir"
  },
  "language_info": {
   "codemirror_mode": "r",
   "file_extension": ".r",
   "mimetype": "text/x-r-source",
   "name": "R",
   "pygments_lexer": "r",
   "version": "4.2.3"
  }
 },
 "nbformat": 4,
 "nbformat_minor": 5
}
