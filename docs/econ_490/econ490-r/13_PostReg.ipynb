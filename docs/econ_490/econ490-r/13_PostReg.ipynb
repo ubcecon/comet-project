{
 "cells": [
  {
   "cell_type": "markdown",
   "id": "3124f872-f26c-4bb7-99b1-7dbeeaeb37c5",
   "metadata": {
    "tags": []
   },
   "source": [
    "# ECON 490: Good Regression Practice (13)\n",
    "\n",
    "## Prerequisites\n",
    "\n",
    "1. Importing data into R.\n",
    "2. Creating new variables in R.\n",
    "3. Running OLS regressions.\n",
    "\n",
    "## Learning Outcomes\n",
    "\n",
    "1. Identify and correct for outliers by trimming or winsorizing the dependent variable. \n",
    "2. Identify and correct for the problem of multicollinearity.\n",
    "3. Identify and correct for the problem of heteroskedasticity. \n",
    "4. Identify and correct for the problem of non-linearity. "
   ]
  },
  {
   "cell_type": "markdown",
   "id": "461282c4-5024-4716-8824-8235fae5212a",
   "metadata": {
    "tags": []
   },
   "source": [
    "## 13.1 Dealing with Outliers \n",
    "\n",
    "Imagine that we have constructed a dependent variable which contains the earnings growth of individual workers and we see that some worker's earnings increased by more than 400%. We might wonder if this massive change is just a coding error made by the statisticians that produced the data set. Even without that type of error, though, we might worry that the earnings growth of a small number of observations are driving the results of our analysis. If this is the case, we are producing an inaccurate analysis based on results that are not associated with the majority of our observations. \n",
    "\n",
    "The standard practice in these cases is to either winsorize or trim the subset of observations that are used in that regression. Both practices remove the outlier values in the dependent variable to allow us to produce a more accurate empirical analysis. \n",
    "\n",
    "<div class=\"alert alert-block alert-warning\">\n",
    "    \n",
    "<b>Warning:</b> You should only consider fixing outliers when there is a clear reason to address this issue. Do not apply the tools below if the summary statistics in your data make sense to you in terms of abnormal values. For example, outliers might be a sign that your dependent and independent variables have a non-linear relationship. If that is the case, you will want to consider including an interaction term that addresses that non-linearity. \n",
    "    \n",
    "</div>"
   ]
  },
  {
   "cell_type": "markdown",
   "id": "3250148f-17b3-4b97-950d-c8cb318c34ee",
   "metadata": {
    "tags": []
   },
   "source": [
    "#### 13.1.1 Winsorizing a dependent variable\n",
    "\n",
    "Winsorizing is the process of limiting the extreme values of a dependent variable to reduce the effect of (possibly erroneous) outliers. It consists of replacing values below the $a$ percentile with that percentile value and values above the $b$ percentile with that percentile value. Consider the following example using our fake data set:"
   ]
  },
  {
   "cell_type": "code",
   "execution_count": null,
   "id": "7cb96f2a",
   "metadata": {},
   "outputs": [],
   "source": [
    "#Clear the memory from any pre-existing objects\n",
    "rm(list=ls())\n",
    "\n",
    "# loading in our packages\n",
    "library(tidyverse) #This includes ggplot2! \n",
    "library(haven)\n",
    "library(IRdisplay)\n",
    "\n",
    "#Open the dataset \n",
    "fake_data <- read_dta(\"../econ490-stata/fake_data.dta\")  \n"
   ]
  },
  {
   "cell_type": "code",
   "execution_count": null,
   "id": "9cfedc8f",
   "metadata": {},
   "outputs": [],
   "source": [
    "quantile(fake_data$earnings, probs = c(0.01,0.99))"
   ]
  },
  {
   "cell_type": "code",
   "execution_count": null,
   "id": "a271fdd6",
   "metadata": {},
   "outputs": [],
   "source": [
    "min(fake_data$earnings)"
   ]
  },
  {
   "cell_type": "code",
   "execution_count": null,
   "id": "873ad269",
   "metadata": {},
   "outputs": [],
   "source": [
    "max(fake_data$earnings)"
   ]
  },
  {
   "cell_type": "markdown",
   "id": "8f64c4df",
   "metadata": {},
   "source": [
    "From the summary statistics above, we can see that that the income earned by the individual at the 1st percentile is 2,831.03 and that the lowest earner in the data set earned 8.88.  \n",
    "\n",
    "We can also see that income earned by the individual at the 99th percentile is only 607,140.32 and that the highest earner in the data earned over 60 millions!\n",
    "\n",
    "These facts suggest to us that there are large outliers in our dependent variable.\n",
    "\n",
    "We want to get rid of these outliers by winsorizing our data set. What that will mean is replacing the earnings of all observations below the 1st percentile by exactly the earnings of the individual at the 1st percentile. Further, it means replacing the earnings of all observations above the 99th percentile by exactly the earnings of the individual at the 99th percentile. "
   ]
  },
  {
   "cell_type": "markdown",
   "id": "7d26ae53-4f54-485f-aaa9-b2371687de07",
   "metadata": {},
   "source": [
    "To winsorize this data, we do the following:\n",
    "\n",
    "1. Create a new variable using the command `mutate` with the same values as earnings that we call *log_earnings_winsor*. We decide to store the winsorized version of the dependent variable as a different variable for organizational purposes - we don't want to overwrite the original data set.\n",
    "2. If earnings are smaller than the 1st percentile, we replace the values of *log_earnings_winsor* with the earnings of the individual at the 1st percentile: `(quantile(fake_data$earnings, probs = 0.01) = 2831)`.\n",
    "3. If earnings are larger than the 1st percentile, we replace the values of *earnings_winsor* with the earnings of the individual at the 99th percentile: `(quantile(fake_data$earnings, probs = 0.99) = 607140 )`.\n",
    "\n",
    "The values of this new variable will be created using the command `ifelse()`. If earnings are less than 2831, the value of *log_earnings_winsor* is replaced by the log(2831) using this command.\n",
    "\n",
    "You can run these commands yourself below:"
   ]
  },
  {
   "cell_type": "code",
   "execution_count": null,
   "id": "ed3ddf66",
   "metadata": {},
   "outputs": [],
   "source": [
    "fake_data <- fake_data %>%\n",
    "        mutate(log_earnings_winsor = ifelse(earnings<2831 ,  log(2831),  ifelse( earnings  > 607140 , log(607140), log(earnings)))) \n"
   ]
  },
  {
   "cell_type": "markdown",
   "id": "810e01f6",
   "metadata": {
    "tags": []
   },
   "source": [
    "Now we can use this new dependent variable in our regression analysis. If the outliers were not creating problems, there will be no change in the results. If they were creating problems, those problems will now be fixed. \n",
    "\n",
    "Let's take a look at this by first running the regression from [Module 10](econometrics/econ490-r/10_Linear_Reg.ipynb) with the original earning variable. "
   ]
  },
  {
   "cell_type": "code",
   "execution_count": null,
   "id": "c1969b50-431f-4832-8a36-f5266a3b0e2b",
   "metadata": {
    "scrolled": true,
    "tags": []
   },
   "outputs": [],
   "source": [
    "lm(data=fake_data, log(earnings) ~ as.factor(sex))\n"
   ]
  },
  {
   "cell_type": "code",
   "execution_count": null,
   "id": "02e0f204",
   "metadata": {},
   "outputs": [],
   "source": [
    "lm(data=fake_data, log_earnings_winsor ~ as.factor(sex))\n"
   ]
  },
  {
   "cell_type": "markdown",
   "id": "c8b07933-77fe-405b-8308-3fecb3896484",
   "metadata": {},
   "source": [
    "Do you think that in this case the outliers were having a significant impact before being winsorized?"
   ]
  },
  {
   "cell_type": "markdown",
   "id": "dbd9db9f",
   "metadata": {
    "tags": []
   },
   "source": [
    "#### 13.1.2 Trimming a dependent variable \n",
    "\n",
    "Trimming consists of replacing both values below the $a$ percentile and values above the $b$ percentile by a missing value. This is done to exclude these outliers from regression, since R by design does not include missing (`NA`) observations in the `lm` command.\n",
    "\n",
    "Below we trim our earnings variable. "
   ]
  },
  {
   "cell_type": "code",
   "execution_count": null,
   "id": "c59570e7",
   "metadata": {
    "tags": []
   },
   "outputs": [],
   "source": [
    "fake_data <- fake_data %>%\n",
    "        mutate(log_earnings_trimmed = ifelse(earnings<2831 ,  NA,  ifelse( earnings  > 607140 , NA, log(earnings)))) \n"
   ]
  },
  {
   "cell_type": "markdown",
   "id": "3ba74dae-65ea-4bd7-ba82-dff0341489eb",
   "metadata": {},
   "source": [
    "Here is the result of the regression with the new dependent variable. "
   ]
  },
  {
   "cell_type": "code",
   "execution_count": null,
   "id": "6c300756-667f-4d75-9fe9-f89e7e1e85b5",
   "metadata": {
    "scrolled": true,
    "tags": []
   },
   "outputs": [],
   "source": [
    "lm(data=fake_data, log_earnings_trimmed ~ as.factor(sex))"
   ]
  },
  {
   "cell_type": "markdown",
   "id": "5026b02d",
   "metadata": {
    "tags": []
   },
   "source": [
    "## 13.2 Multicollinearity \n",
    "\n",
    "If two variables are linear combinations of one another they are multicollinear. Ultimately, R does not allow us to include two variables in a regression that are perfect linear combinations of one another, such as a constant or a dummy variable for male and a dummy for female (since female = 1 - male). In all of the regressions above, we see that one of those variables was dropped from the regression \"because of collinearity\"."
   ]
  },
  {
   "cell_type": "code",
   "execution_count": null,
   "id": "1e52d59c-adc7-47a0-8757-7c7cd88a0ef1",
   "metadata": {},
   "outputs": [],
   "source": [
    "fake_data <- fake_data %>%\n",
    "        mutate(male = case_when(sex == 'M' ~ 1, sex == 'F' ~ 0)) %>%\n",
    "        mutate(female = case_when(sex == 'F' ~ 1, sex == 'M' ~ 0))"
   ]
  },
  {
   "cell_type": "code",
   "execution_count": null,
   "id": "fd7ecdcd-8b30-4e9c-ab8c-0b2086fbe18d",
   "metadata": {},
   "outputs": [],
   "source": [
    "lm(data=fake_data, log_earnings_trimmed ~ male + female)"
   ]
  },
  {
   "cell_type": "markdown",
   "id": "cf83d5c1",
   "metadata": {},
   "source": [
    "Is this a problem? Not really. Multicollinearity is a sign that a variable is not adding any new information. Notice that with the constant term and a male dummy we can know the mean earnings of females. In this case, the constant term is by construction the mean earnings of females, and the male dummy gives the earning premium for male workers.\n",
    "\n",
    "While there are some statistical tests for multicollinearity, nothing beats having the right intuition when running a regression. If it is clear that two variables contain essentially the same information, we should avoid including both in our analysis. For instance, we might have an age variable that includes both years and months (e.g. if a baby is 1 year and 1 month old, then this age variable would be coded as 1 + 1/12 = 1.083). If we include this variable in a regression that also includes an age variable for only years (e.g the baby's age would be coded as 1) then we would have the problem of multicollinearity. Because they are not perfectly collinear, R might still produce some results, but the coefficients on these two variables would be biased. "
   ]
  },
  {
   "cell_type": "markdown",
   "id": "c6588110",
   "metadata": {
    "tags": []
   },
   "source": [
    "## 13.3 Heteroskedasticity \n",
    "\n",
    "When we run a linear regression, we essentially split the outcome into a (linear) part explained by observables and an error term:\n",
    "\n",
    "$$\n",
    "y_i = a + b x_i + e_i\n",
    "$$ \n",
    "\n",
    "The standard errors in our coefficients depend on $e_i^2$ (as you might remember from ECON 326). Heteroskedasticity refers to the case in which the variance of this projection error depends on the observables $x_i$. For instance, the variance of wages tends to be higher for people who are university educated (i.e. there are some people with very high wages) whereas it is small for people who are non-university educated (i.e. they tend to be concentrated in smaller paying jobs). R by default assumes that the variance does not depend on the observables, which is known as homoskedasticity. It is safe to say that this is an incredibly restrictive assumption.\n",
    "\n",
    "While there are tests for heteroskedasticity, the more empirical economists rely on including heteroskedastic consistent standard errors as a default in their regressions. The most standard way to do this is to use `feols`, another command similar to `lm()` that comes from the `fixest` package."
   ]
  },
  {
   "cell_type": "code",
   "execution_count": null,
   "id": "ca6eef8d",
   "metadata": {},
   "outputs": [],
   "source": [
    "install.packages('fixest')\n",
    "library(fixest)"
   ]
  },
  {
   "cell_type": "code",
   "execution_count": null,
   "id": "f610df1a",
   "metadata": {},
   "outputs": [],
   "source": [
    "model = feols(log_earnings_trimmed ~ as.factor(sex) , fake_data)\n"
   ]
  },
  {
   "cell_type": "code",
   "execution_count": null,
   "id": "8ec61d01",
   "metadata": {},
   "outputs": [],
   "source": [
    "summary(model, vcov=\"HC1\")"
   ]
  },
  {
   "cell_type": "markdown",
   "id": "c3e28c20",
   "metadata": {
    "tags": []
   },
   "source": [
    "A best practice is simply to always use robust standard errors in your ECON 490 project."
   ]
  },
  {
   "cell_type": "markdown",
   "id": "41387be7-188f-4015-a7db-80ce88a203ac",
   "metadata": {
    "tags": []
   },
   "source": [
    "## 13.4 Non-linearity\n",
    "\n",
    "Our regression analysis so far assumes that the relationship between our explained and explanatory variables is linear. If this is not the case, meaning the relationship is non-linear, then we will get inaccurate results from our analysis. \n",
    "\n",
    "Let's consider an example. We know that earnings increases with age, but what if economic theory predicts that the amount at which earnings increase for each year of age when workers are younger is larger than the amount at which earnings increase for each year of age when workers are older? What we are asking here is whether earnings is increasing with age at a decreasing rate. In essence, we want to check whether there is a concave relation between age and earnings. We can think of several mechanisms for why this relationship might exist: for a young worker, as they age they get higher wages through increased experience in the job; for an older worker, as they age those wage increases will be smaller as there are smaller productity gains with each additional year working. In fact, if the productivity of workers decreaseas as they age, perhaps for reasons related to health, then it is possible to find a negative relationship between age and earning beyond a certain age; the relationship is an inverted U-shape. \n",
    "\n",
    "We can correct for this in our model by including another variable, that is age to the power of two."
   ]
  },
  {
   "cell_type": "code",
   "execution_count": null,
   "id": "bffee3a9",
   "metadata": {},
   "outputs": [],
   "source": [
    "fake_data <- fake_data %>% mutate(age2 = age^2) "
   ]
  },
  {
   "cell_type": "code",
   "execution_count": null,
   "id": "10ab7d5b-3683-4868-b0ac-8cc00ebab38d",
   "metadata": {},
   "outputs": [],
   "source": [
    "model = lm(log_earnings_trimmed ~ age + age2, fake_data)"
   ]
  },
  {
   "cell_type": "code",
   "execution_count": null,
   "id": "3c373670-83cb-4e08-b994-a0413f5bd0b7",
   "metadata": {},
   "outputs": [],
   "source": [
    "summary(model, vcov=\"HC1\")"
   ]
  },
  {
   "cell_type": "markdown",
   "id": "42c201c2-f7e4-415e-a931-659ef9ae04d6",
   "metadata": {},
   "source": [
    "There does seem to be some evidence in our regression results that this economic theory is correct, since the coefficient on the interaction term is both negative and statistically significant.\n",
    "\n",
    "How do we interpret these results? Let's think about the equation we have just estimated:\n",
    "$$\n",
    "Earnings_i = \\beta_0 + \\beta_1 Age_i + \\beta_2 Age^2_i + \\varepsilon_i \n",
    "$$\n",
    "This means that earnings of an individual change in the following way with their age:\n",
    "$$\n",
    "\\frac{\\partial Earnings_i}{\\partial Age_i} = \\beta_1 + 2 \\beta_2 Age_i\n",
    "$$\n",
    "Due to the quadratic term, as age changes, the relationship between age and earnings changes as well.\n",
    "We have just estimated $\\beta_1$ to be positive and equal to 0.067, and $\\beta_2$ to be negative and equal to 0.001.\n",
    "This means that as age increases, its correlation with earnings decrease:\n",
    "$$\n",
    "\\frac{\\partial Earnings_i}{\\partial Age_i} = 0.067 - 0.002 Age_i\n",
    "$$\n",
    "\n",
    "\n",
    "Since the marginal effect changes with the size of $Age_i$, providing one unique number for the marginal effect becomes difficult.\n",
    "The most frequently reported version of this effect is the ''marginal effect at the means'': the marginal effect of age on earnings when age takes its average value.\n",
    "In our case, this will be equal to 0.067 minus 0.002 times the average value of age.\n"
   ]
  },
  {
   "cell_type": "code",
   "execution_count": null,
   "id": "742a7036-af79-4557-b483-58d1add42d38",
   "metadata": {},
   "outputs": [],
   "source": [
    "mean(fake_data$age)"
   ]
  },
  {
   "cell_type": "markdown",
   "id": "15d5fce5-9f37-4d8c-9a7d-bc7b156224f7",
   "metadata": {},
   "source": [
    "Since the average age of workers is 45, the marginal effect of age at the means is \n",
    "$$\n",
    "0.067 - 2 * 0.001 * 45 = -0.023\n",
    "$$\n",
    "What does that mean? It means that, for the average person, becoming one year older is associated with a 2% decrease in log earnings.\n",
    "\n",
    "Notice that this is the effect for the *average person*. Is the same true for young workers and elder workers? To learn how to interpret this non-linearity in age, let's see how the predicted earnings correlate with age.\n",
    "We can obtain the predicted earnings with the `predict` function and then use a scatterplot to eyeball its relationship with age. \n",
    "\n",
    "Let's see how to do this step by step.\n",
    "First, we store our regression in the object *fit*. Second, we use the function `model.frame` to keep only the observations and variables used in our regression. Then, we use `predict` to store in data frame *yhat* the predicted earnings obtained from our regression. Notice that `predict` creates a list, therefore we transform it into a dataframe using the function `as.data.frame`. Finally, we merge the two dataframes together using the function `cbind`."
   ]
  },
  {
   "cell_type": "code",
   "execution_count": null,
   "id": "24054914-d872-4a6b-b43e-415c38f0c2e4",
   "metadata": {},
   "outputs": [],
   "source": [
    "# Run the regression with the quadratic term\n",
    "fit = lm(log_earnings_trimmed ~ age + age2, fake_data)\n",
    "\n",
    "# Predict earnigns and save them as yhat in the same dataframe\n",
    "datareg <- model.frame(fit)          # keep observations used in regression\n",
    "yhat <- as.data.frame(predict(fit))  # save predicted earnings as data frame\n",
    "datareg = cbind(datareg, yhat)       # merge the two dataframes\n",
    "datareg <- datareg %>% rename(yhat = \"predict(fit)\") # rename"
   ]
  },
  {
   "cell_type": "markdown",
   "id": "608f3a06-ed3c-4d31-b7a7-e66f2b1a032d",
   "metadata": {},
   "source": [
    "Once we have all the information in one unique dataframe called *datareg*, we can display a scatterplot with age on the x-axis and predicted log-earnings on the y-axis. We covered how to create scatterplots in [Module 8](econometrics/econ490-r/8_ggplot_graphs.ipynb)."
   ]
  },
  {
   "cell_type": "code",
   "execution_count": null,
   "id": "94663491-261c-4649-8732-ef5a79136452",
   "metadata": {},
   "outputs": [],
   "source": [
    "# Create scatterplot\n",
    "ggplot(data = datareg, aes(x=age, y=yhat)) + geom_point()"
   ]
  },
  {
   "cell_type": "markdown",
   "id": "f9dd9ac1-7fa2-4f87-b743-f20d3c6fa93c",
   "metadata": {},
   "source": [
    "The scatterplot shows an inverted-U relationship between age and the predicted log-earnings. This relationship implies that, when a worker is very young, becoming older is positively correlated with earnings. However, after a certain age, this correlation becomes negative and the worker gets lower earnings for each additional year of age. In fact, based on this graph workers earns start to decline just after the age of 50. Had we modelled this as a linear model we would have missed this important piece of information! "
   ]
  },
  {
   "cell_type": "markdown",
   "id": "66b4dbfc-1ca4-46a5-a7f1-f387c615c15f",
   "metadata": {},
   "source": [
    "<div class=\"alert alert-info\">\n",
    "\n",
    "\n",
    "**Note:** If there is a theoretical reason for believing that non-linearity exists, R provides some tests for non-linearity. You can also create a scatter plot to see if you can observe a non-linear relationship in the data. We covered that approach in [Module 9](econometrics/econ490-r/9_ggplot_graphs.ipynb).\n",
    "    \n",
    "</div>"
   ]
  },
  {
   "cell_type": "markdown",
   "id": "aaca8ff2-3cc5-4f75-a91d-c80c6f7f38a9",
   "metadata": {},
   "source": [
    "## 13.5 Wrap Up \n",
    "\n",
    "While it is important to always follow best practices for regression analysis, such as checking and correcting for outliers, heteroskedaticity, multicollinearity and non-linearity, this can be more of an art than a science. If you need any guidance on whether or not you need to address these issues, please speak with your instructor or TA."
   ]
  }
 ],
 "metadata": {
  "kernelspec": {
   "display_name": "R",
   "language": "R",
   "name": "ir"
  },
  "language_info": {
   "codemirror_mode": "r",
   "file_extension": ".r",
   "mimetype": "text/x-r-source",
   "name": "R",
   "pygments_lexer": "r",
   "version": "4.2.3"
  }
 },
 "nbformat": 4,
 "nbformat_minor": 5
}
