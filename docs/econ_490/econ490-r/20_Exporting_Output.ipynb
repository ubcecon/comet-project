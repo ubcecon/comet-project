{
 "cells": [
  {
   "cell_type": "markdown",
   "id": "f57d8254-2b57-4fea-aaba-8c0403ff6ff1",
   "metadata": {},
   "source": [
    "# ECON 490: Exporting Regression Output (20)\n",
    "\n",
    "## Prerequisites\n",
    "\n",
    "1. Run OLS Regressions.\n",
    "\n",
    "## Learning Outcomes\n",
    "\n",
    "1. Being able to export regression output in a table. \n",
    "2. Being able to plot regression coefficients in a graph."
   ]
  },
  {
   "cell_type": "markdown",
   "id": "67d46e3f-0f8d-4d77-9362-370579b1209b",
   "metadata": {},
   "source": [
    "## 20.1 Exporting regression output\n",
    "\n",
    "When doing our project, presenting our results in a clear and organized manner is as important as obtaining the results themselves. R's output is very clear on the computer display, but at some point we need to \"move\" it from R to our draft. In this module, we will see how to save a regression output in a table.\n",
    "\n",
    "Once again, we will be using the fictional dataset. Recall that this data is simulating information of workers in the years 1982-2012 in a fictional country where a training program was introduced in 2003 to boost their earnings. \n",
    "\n",
    "Let's start by loading our packages and opening the dataset."
   ]
  },
  {
   "cell_type": "code",
   "execution_count": null,
   "id": "f845003d-7a9c-4963-a96b-409420833d87",
   "metadata": {},
   "outputs": [],
   "source": [
    "# Loading in our packages\n",
    "library(tidyverse)\n",
    "library(haven)\n",
    "library(IRdisplay)\n",
    "\n",
    "# Open the data\n",
    "fake_data <- read_dta(\"../econ490-stata/fake_data.dta\")"
   ]
  },
  {
   "cell_type": "markdown",
   "id": "e8315ecb-428a-4777-b474-6347ad3d35e8",
   "metadata": {},
   "source": [
    "Imagine we are interested in estimating a multivariate regression of the following form\n",
    "\n",
    "$$\n",
    "\\text{Earnings}_{it} = \\alpha + \\beta_1 \\text{Age}_{it} + \\beta_2 \\text{Sex}_i + \\varepsilon_{it}\n",
    "$$\n",
    "\n",
    "where $\\text{Earnings}_{it}$ is the logarithm of earnings of individual $i$ at time $t$, $\\text{Age}_{it}$ is the logarithm of age of individual $i$ at time $t$, and $\\text{Sex}_i$ is a dummy variable equal to one if the sex of individual $i$ is female.\n",
    "\n",
    "First, we create the variables we need."
   ]
  },
  {
   "cell_type": "code",
   "execution_count": null,
   "id": "3109f742-6246-482d-a1f7-d84398f30722",
   "metadata": {},
   "outputs": [],
   "source": [
    "fake_data <- fake_data %>%\n",
    "        mutate(log_earnings = log(earnings)) %>%\n",
    "        mutate(log_age = log(age)) %>%\n",
    "        mutate(sexdummy = as.factor(sex))"
   ]
  },
  {
   "cell_type": "markdown",
   "id": "499eb034-eed8-47e8-8b08-3f5e420968da",
   "metadata": {},
   "source": [
    "Then we can estimate our regression using the function `lm`. We have seen how to do it in [Module 12](econometrics/econ490-r/12_Linear_Reg.ipynb)."
   ]
  },
  {
   "cell_type": "code",
   "execution_count": null,
   "id": "f910027a-9e08-4d2e-83a4-55fd8a4ba343",
   "metadata": {},
   "outputs": [],
   "source": [
    "summary(lm(data=fake_data, log_earnings ~ log_age + sexdummy))"
   ]
  },
  {
   "cell_type": "markdown",
   "id": "ef37780b-effa-4104-a9bb-4d17bd22e549",
   "metadata": {},
   "source": [
    "There are different options available to export this table to another file. In this module, we will use `stargazer`.\n",
    "\n",
    "`stargazer` can take several options. In its simplest specification, we just need to type `stargazer(modelname, type=\"filetype\", output=\"filename\")` to save the results of the model *modelname* in a file of type *filetype* named *filename*. We can use text files, tex files, and html files.\n",
    "\n",
    "For example, let's save our results in a text file named *table.txt*. First, we have to call the stargazer library."
   ]
  },
  {
   "cell_type": "code",
   "execution_count": null,
   "id": "e9a77f35-3b1d-47f1-98b6-a77f6403580c",
   "metadata": {},
   "outputs": [],
   "source": [
    "install.packages(\"stargazer\")\n",
    "library(stargazer)"
   ]
  },
  {
   "cell_type": "markdown",
   "id": "90b00f40-1ec2-4f2b-a650-28c72cf6cf3b",
   "metadata": {},
   "source": [
    "Then, we can save our linear model in a object called *model1* and use it as input of the `stargazer` function."
   ]
  },
  {
   "cell_type": "code",
   "execution_count": null,
   "id": "e560cea6-ad64-4aec-86c3-9261954fc389",
   "metadata": {},
   "outputs": [],
   "source": [
    "model1 <- lm(data=fake_data, log_earnings ~ log_age + sexdummy)\n",
    "stargazer(model1, type=\"text\", out=\"table.txt\")"
   ]
  },
  {
   "cell_type": "markdown",
   "id": "68064a4b-4112-4091-9e9d-702afe71acc6",
   "metadata": {},
   "source": [
    "A file named *table.txt* should appear in your folder. Notice that this worked, but our table does not have a very professional appearance yet. We can add more options to the function `stargazer` to make our results more clear and organized.\n",
    "Here are some of the options we can add:\n",
    "- we can align the numeric values within our table with option `align=TRUE`;\n",
    "- we can keep only selected statistics using `keep.stat`;\n",
    "- we can add a title *titlename* with the option `title=\"titlename\"`;\n",
    "- we can modify the labels of covariates in the regression table with the option `covaraiate.labels`;\n",
    "- we can show only some coefficients, by including them in `keep(coeffnames)`. Similarly, we can omit some of the coefficients by including them in `omit(coeffnames)`.\n",
    "\n",
    "Let's try all of them in practice. Let's save again the same table, with the following modifications:\n",
    "- keep only the coefficients for *log_age* and *sexdummy*;\n",
    "- rename those coefficients;\n",
    "- keep only the statistics on number of observations and adjusted R$^2$;\n",
    "- add a title."
   ]
  },
  {
   "cell_type": "code",
   "execution_count": null,
   "id": "caf2834b-29ed-4c59-9211-a86afc21f148",
   "metadata": {},
   "outputs": [],
   "source": [
    "stargazer(model1, type=\"text\", out=\"table.txt\", title=\"Earnings analysis\", keep.stat=c(\"n\",\"adj.rsq\"), keep=c(\"log_age\",\"sexdummy\"), covariate.labels=c(\"Age (ln)\", \"Male\"))"
   ]
  },
  {
   "cell_type": "markdown",
   "id": "ace2a83a-7a16-4133-af66-b18d540905a3",
   "metadata": {},
   "source": [
    "This is way nicer, but what if we want to show the results of multiple models in the same table?\n",
    "Suppose we want to first estimate a model with only *Age* or only *Sex* as explanatory variable, and then a multivariate model encompassing both. In this case, we only need to store the results of each model in a separate object and then add all of them as inputs of `stargazer`.\n",
    "\n",
    "In the example below, we store the three models in objects *model1*, *model2*, and *model3* before adding them as inputs of `stargazer`."
   ]
  },
  {
   "cell_type": "code",
   "execution_count": null,
   "id": "70b8db3b-ca6e-47e5-8aa7-19bbb855e8d9",
   "metadata": {},
   "outputs": [],
   "source": [
    "# Store regressions\n",
    "model1 <- lm(data=fake_data, log_earnings ~ log_age)\n",
    "model2 <- lm(data=fake_data, log_earnings ~ sexdummy)\n",
    "model3 <- lm(data=fake_data, log_earnings ~ log_age + sexdummy)\n",
    "\n",
    "# Create table\n",
    "stargazer(model1, model2, model3, title=\"Comparison\", align=TRUE, type=\"text\", out=\"table.txt\", keep.stat=c(\"n\",\"adj.rsq\"))"
   ]
  },
  {
   "cell_type": "markdown",
   "id": "5ce822f0-47aa-4f9a-bea8-3da8c94476e6",
   "metadata": {},
   "source": [
    "## 20.2 Plotting regression coefficients\n",
    "\n",
    "Visual representations can be better than tables. Sometimes we need to plot our estimated coefficients and their confidence intervals. \n",
    "In R, this is easily done with command `coefplot`. The graphs obtained with `coefplot` are easy to customize. In its simplest use, we only need to save our regression results in an object and then give that object as input of `coefplot`.\n",
    "\n",
    "Once again, let's try it on our multivariate model. The first thing to do, is to load the corresponding library."
   ]
  },
  {
   "cell_type": "code",
   "execution_count": null,
   "id": "b402f029-e3cd-4e4c-84f1-7757e84cefbb",
   "metadata": {},
   "outputs": [],
   "source": [
    "# Load package\n",
    "install.packages(\"coefplot\")\n",
    "library(coefplot)"
   ]
  },
  {
   "cell_type": "markdown",
   "id": "1fae882a-ad03-4e02-ad2d-c7064aaf7c35",
   "metadata": {},
   "source": [
    "Now we can save our estimated coefficients in an object named *model1* and use it as input for the `coefplot` function. Note that we can omit the constant by adding the option `intercept=FALSE`."
   ]
  },
  {
   "cell_type": "code",
   "execution_count": null,
   "id": "4de55638-13e1-4419-bc5a-2fbefcdb4cd1",
   "metadata": {},
   "outputs": [],
   "source": [
    "model1 <- lm(data=fake_data, log_earnings ~ log_age + sexdummy)\n",
    "coefplot(model1, intercept=FALSE)"
   ]
  },
  {
   "cell_type": "markdown",
   "id": "e392e25c-24a9-4144-844c-184add4f7764",
   "metadata": {},
   "source": [
    "We can customize our graph further by using options that are specific to `coefplot`. By default, R draws two confidence intervals: the first at one standard deviation from the coefficient, and the second at two standard deviations from the coefficient. We can modify them with the options `innerCI` and `outerCI`, respectively. By default, they are set to `innerCI=1` and `outerCI=2`.\n",
    "We can also change the color of the estimates and their confidence intervals with the option `color`.\n",
    "Finally, we can display the estimated coefficients horizontally with the option `horizontal=TRUE`.\n",
    "\n",
    "Let's apply these options to our example and generate an horizontal plot with red objects and only one confidence interval at 1.5 standard deviations distance."
   ]
  },
  {
   "cell_type": "code",
   "execution_count": null,
   "id": "79a7dba6-6a29-4a08-bb3c-0ebc645d0791",
   "metadata": {},
   "outputs": [],
   "source": [
    "coefplot(model1, intercept=FALSE, horizontal=TRUE, color=\"red\", innerCI=0, outerCI=1.5)"
   ]
  },
  {
   "cell_type": "markdown",
   "id": "48a7eeef-ed87-4347-b5a2-043e67385fde",
   "metadata": {},
   "source": [
    "## 20.3 Wrap Up\n",
    "We have learned in this module how to store regression output in a clear and organized manner using the command `etable` and how to plot regression coefficients using the command `stargazer`.\n",
    "\n",
    "Remember to check the R documentation when creating graphs and exporting tables. The documentation can be your best ally if you end up using it.\n",
    "\n",
    "Here is a summary of the new commands we have seen in this module.\n",
    "\n",
    "|Command| Function|\n",
    "|-------|---------|\n",
    "|`stargazer(modelname, type=\"filetype\", output=\"filename\")`|It saves *modelname* in a file of type *filetype* named *filename*.|\n",
    "|`coefplot(modelname)`|It plots regression coefficients and two confidence intervals, one at 1 standard deviation and the other at 2 standard deviations distance.|"
   ]
  }
 ],
 "metadata": {
  "kernelspec": {
   "display_name": "R",
   "language": "R",
   "name": "ir"
  },
  "language_info": {
   "codemirror_mode": "r",
   "file_extension": ".r",
   "mimetype": "text/x-r-source",
   "name": "R",
   "pygments_lexer": "r",
   "version": "4.1.3"
  }
 },
 "nbformat": 4,
 "nbformat_minor": 5
}
