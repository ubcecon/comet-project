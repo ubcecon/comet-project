{
 "cells": [
  {
   "cell_type": "markdown",
   "id": "26d95ffb",
   "metadata": {
    "tags": []
   },
   "source": [
    "# ECON 490: R Workflow Guide (17)\n",
    "\n",
    "## Prerequisites\n",
    "\n",
    "1. Knowledge of the content of the previous modules: opening datasets, creating graphs, regression analysis. \n",
    "\n",
    "## Learning Outcomes\n",
    "\n",
    "1. Develop foundational skills and practices for workflow management in research and data applications.\n",
    "2. Improve coding style, especially for collaborative settings.\n",
    "3. Use the secure file-hosting service UBC One Drive to store, share, and synchronize folders."
   ]
  },
  {
   "cell_type": "markdown",
   "id": "ed4c514c-1f36-40f7-ac8a-bbdfc5f55966",
   "metadata": {},
   "source": [
    "## 17.1 Introduction to Workflow Management\n",
    "\n",
    "Structuring your files and folders early on can save you a lot of time and effort throughout your research project. This approach will make it easier for you to keep track of your progress and reduce your workload. This will be particularly important if you are working in a group, with several co-authors on one project.\n",
    "\n",
    "In this module, we will discuss how to manage files and scripts as part of your research workflow. We will also cover how to stylize your code to make it easy to read and replicate. While these are not strict rules, consider them guidelines for research and data management."
   ]
  },
  {
   "cell_type": "markdown",
   "id": "462a8ee0-0dca-445f-a7d4-3af33b5a24cd",
   "metadata": {},
   "source": [
    "## 17.2 Setting up the Directory\n",
    "\n",
    "#### 17.2.1 Using UBC Microsoft OneDrive\n",
    "\n",
    "You have been asked to create a series of folders that will hold all of the information for your project. There are good reasons for keeping those folders on UBC OneDrive. You might, for example, want to be able to access that information when you are away from your computer (for example, working in a lab). You might (legitimately!!) be concerned that all of your hard work will be lost if your computer is damaged or stolen. You might also be working on your project as part of a group, in which case file sharing will be necessary! Setting up OneDrive and installing the application on your own computer will resolve all of those issues. \n",
    "\n",
    "[UBC Microsoft OneDrive](https://lthub.ubc.ca/guides/microsoft-onedrive-student-guide/) is a secure file-hosting service that allows you to store, share, and synchronize files and folders from any connected devices. You can learn how to store files on this service from the link provided above, here we are going to cover how to access these files directly from R on any computer. \n",
    "\n",
    "To begin, follow the instructions for your operating system to install the Microsoft OneDrive application to any computer that you want to work on. Once you complete this process, you will see that you have a new folder in your computer directory that contains all of the files in your OneDrive folder. It is likely labeled OneDrive itself by default. It is in this folder that you will create your RStudio Project file."
   ]
  },
  {
   "cell_type": "markdown",
   "id": "d46f3f67-38fb-4329-a27d-ead2eb78c627",
   "metadata": {
    "tags": []
   },
   "source": [
    "#### 17.2.2 Creating an RStudio project\n",
    "\n",
    "RStudio Projects are built-in features of RStudio that allow us to create a working directory for a project which we can launch whenever we want. In this way, the project allows us to refer to all of our files using relative and not absolute paths. This approach also prevents us from needing to set our directory every time we work on our project. In this sense, it is quite a valuable tool both from a collaboration and efficiency standpoint.\n",
    "\n",
    "To create an RStudio Project, first launch RStudio. Then navigate through __File__, __New Project__, __New Directory__, and then __New Project__. You can then choose the name of your project and select where you would like the project to be stored. To allow for the project to live on OneDrive (which is highly recommended), select the OneDrive directory in your computer. Finally, create the project. If you access your OneDrive folder on your computer, you should then see a subfolder with your project name and a default .RProj object already inside, which looks like the one below."
   ]
  },
  {
   "cell_type": "markdown",
   "id": "5e442beb-64ab-4a36-89c6-77e4fb134a7d",
   "metadata": {},
   "source": [
    "![RStudio Project Default Directory](img/fig1-R-project.png  \"RProject Object\")"
   ]
  },
  {
   "cell_type": "markdown",
   "id": "12a0b839-6562-450f-bf8b-7643b3e72cd9",
   "metadata": {},
   "source": [
    "Whenever you want to return to your project to work on it, you can simply click the .RStudio Project object above. You can also start a fresh session in RStudio and navigate to your project by selecting __File__, __Open Project__, and then following the specified instructions."
   ]
  },
  {
   "cell_type": "markdown",
   "id": "7f729b9f-177a-4e14-a1e6-e0048a626228",
   "metadata": {
    "tags": []
   },
   "source": [
    "#### 17.2.3 Organization of the main folder\n",
    "\n",
    "Now that you have an RStudio Project directory in your computer, you can organize folders within this larger folder. This is important given that, over the course of a research project, you are likely to accumulate numerous files for your project such as raw data files, scripts, tables, graphs and figures. In fact, there are often many versions of each of these files.\n",
    "\n",
    "Within the main project folder, sort all your files into sub-folders similar to the structure shown below:\n",
    "\n",
    "![Main directory structure](img/fig1-R-directory.png  \"Main directory structure\")\n",
    "\n",
    "Each sub-folder consists of a specific category of files and is numbered to indicate the workflow:\n",
    "\n",
    "* **data:** contains all the data files\n",
    "* **scripts:** contains all the R scripts used to process, clean and analyze the data files\n",
    "* **tables:** contains all the regression tables, summary statistics, etc.\n",
    "* **figures:** contains all the graphs and figures\n",
    "* **literature:** contains papers and documents related to your literature review\n",
    "* **paper:** contains word documents or LaTeX files relating to the written part of your paper\n",
    "* **slides:** contains presentation slides\n",
    "\n",
    "<div class=\"alert alert-block alert-info\">\n",
    "    \n",
    "<b>Note:</b> Avoid spaces, special characters or capital letters in your folder or file names. If you need to use spaces, you can use underscores `_` . Consider numbering your files to indicate the workflow. \n",
    "    \n",
    "</div>"
   ]
  },
  {
   "cell_type": "markdown",
   "id": "ed536b89",
   "metadata": {
    "tags": []
   },
   "source": [
    "#### 17.2.4 Scripts folder\n",
    "\n",
    "It's almost never a good idea to use one script for an entire project. Instead, create different scripts for different tasks and add descriptive labels to reflect your workflow. As mentioned in the previous section, prefix your files with numbers to align with the workflow sequence.\n",
    "\n",
    "![Scripts folder with example scripts](img/fig2-R-scripts.png \"Example scripts\")\n",
    "\n",
    "In the image above, the first script `build_data.R` cleans the raw data and generates core variables that will be used in subsequent scripts. The second script `descriptive_statistics.R` generates descriptive statistics and relevant figures. The third script `results.R` runs the final regressions and generates regression tables. The master script `master_script.R` runs all these other scripts. We will discuss its role in detail in a moment.\n",
    "\n",
    "<div class=\"alert alert-info\">\n",
    "    \n",
    "Note: Some researchers prefer to use different scripts for different figures and tables, which is completely fine as long as the files are labeled well. If you are generating different tables and figures within the same script, write them into separate code blocks within a script so that they can be easily distinguished."
   ]
  },
  {
   "cell_type": "markdown",
   "id": "5e6c54c9",
   "metadata": {
    "tags": []
   },
   "source": [
    "#### 17.2.5 Choosing good file names\n",
    "\n",
    "While you are welcome to use your own naming conventions, it can be helpful to prefix your file names with numbers to align with your workflow, post-fixed with version numbers. Version numbers could be `_v1`, `_v2` (i.e. \"ECON490_script_v12.R\") or they could be indicated by dates (i.e. \"ECON490_script_230430.R\"). \n",
    "\n",
    "<div class=\"alert alert-block alert-info\">\n",
    "    \n",
    "<b>Note:</b>  Following the yymmdd (year month date) format when using dates will automatically sort your files with the latest version at the top. Other date formats will not sort the files in the correct order and thus defeat the purpose of adding a post-fixed version number.\n",
    "    \n",
    "</div>\n",
    "\n",
    "As you make progress with your project, you might find yourself collecting many versions of some of your files. As older versions become redundant, delete them or move them to a temp folder. Creating a temp folder for old scripts, tables, or documents can be helpful in keeping your main folders neat if you are hesitant to delete them or if you are susceptible to digital hoarding (as many of us are)."
   ]
  },
  {
   "cell_type": "markdown",
   "id": "9adff39d-6e7b-4e75-adb3-017706dc8840",
   "metadata": {},
   "source": [
    "## 17.3 Working in the Directory\n",
    "\n",
    "#### 17.3.1 Referring to specific files\n",
    "One advantage of using projects in RStudio is that your working directory is set automatically every time you launch your project. In this way, you do not need to set your directory first in order to refer to relative file paths (provided the files are in fact somewhere within your overarching project directory). For instance, if you want to load in a \"fake_data.csv\" data set in the data folder within a directory structured identically to the one above, you can simply use the following code:\n",
    "\n",
    "```R\n",
    "data <- read.csv(\"1. data/fake_data.csv\")\n",
    "\n",
    "````\n",
    "\n",
    "We can access any of the folders listed above and any potential subfolders/files within them quite quickly using this approach. To check your current directory at any time, you can use the `getwd` function."
   ]
  },
  {
   "cell_type": "markdown",
   "id": "0dbb9e24-9256-414d-ba8f-2a9754a81d14",
   "metadata": {},
   "source": [
    "#### 17.3.2 Creating a README file\n",
    "In your main directory, it is also a good idea to include a README file, particularly if you will be sharing your project with others. A README file is a text file which gives a general overview of the purpose of the project and how to best understand it. While some README files are quite long and lend themselves to a table of contents, yours will likely not need this feature. The file can simply include the following features:\n",
    "\n",
    "* A title\n",
    "* A general description of the project's goal\n",
    "* An acknowledgment of the sources of any data and how it was used\n",
    "* Any other major features you think are important to include\n",
    "\n",
    "If you desire, you can also explain in greater detail how all or some of the different folders and files within them contribute to the functioning of the project as a whole. In this way, anyone who reads it, as long as it is located in the main directory of your project, can understand how the project folder is laid out and where to go to find the information they need. This is very helpful for classmates, teaching assistants, and professors."
   ]
  },
  {
   "cell_type": "markdown",
   "id": "1ecacc55-1d4d-4aa2-8bbc-b118d4afded7",
   "metadata": {},
   "source": [
    "#### 17.3.3 Creating a master script\n",
    "\n",
    "You may also want to create a master script. This script acts as a compiler and runs some, or all, of the scripts for your project. In its simplest form, it can include just a series of commands allowing the user to run various scripts. In greater detail, it can function in lieu of a README file and also include a general description of the project and the purpose of various scripts.\n",
    "\n",
    "In any case, a master script is useful for running various scripts at once, since it provides an alternative to simply combining the code in all of these scripts together into a single script. For example, imagine that you have a script which builds the model for your project, one which cleans your data, and one which produces tables of summary statistics. These are all detailed scripts which accomplish very different goals. To combine them all into a single script could be quite overwhelming. With a master script, however, you can run all of these scripts quickly while leaving them discretely separated in various files. In this way, the master script is like a compiler.\n",
    "\n",
    "For an example of a very brief master script for a project with few scripts, look at the template below.\n",
    "\n",
    "```R\n",
    "# Brief Project Description\n",
    "\n",
    "# running the script for loading and cleaning data\n",
    "source(\"2. scripts/build_data.R\")\n",
    "\n",
    "# running the script for generating summary statistics\n",
    "source(\"2. scripts/descriptive_statistics.R\")\n",
    "\n",
    "# running the script for generating results\n",
    "source(\"2. scripts/results.R\")\n",
    "\n",
    "```\n",
    "\n",
    "It is important to note that R cannot read the singular backslashes inherent to file paths on Windows computers. While copying file paths is not a problem for Mac users (since R can read forward slashes just fine), the backslashes inherent to file paths for Windows users are a problem. For Windows users, one can either change all of the backslashes to forward slashes (as has been done throughout this notebook), or simply add a second backslash to all existing backslashes. Either option will allow code to run successfully."
   ]
  },
  {
   "cell_type": "markdown",
   "id": "2f491652",
   "metadata": {},
   "source": [
    "## 17.4 Best Practices for Writing Code\n",
    "\n",
    "There are three core practices that will make it easy to write, edit and understand your code:\n",
    "\n",
    "1. Adding comments\n",
    "2. Splitting up your code into multiple lines\n",
    "3. Indenting and spacing your code\n",
    "\n",
    "#### 17.4.1 Commenting\n",
    "\n",
    "Leaving comments will not only help you remember what you have done, but it will help your group members, your TA and your instructor understand your process. \n",
    "\n",
    "There are three ways to comment in an R script\n",
    "\n",
    "```R\n",
    "# comments on individual lines\n",
    "\n",
    "1 + 1 # comments on individual lines and after some code\n",
    "\n",
    "# comments on multiple lines\n",
    "# like a \"code block\"\n",
    "# activated by highlighting your code and running CTRL + shift + C (or Command + shift + C on mac)\n",
    "\n",
    "```\n",
    "\n",
    "You can also use a series of number signs `#` or combination of number signs and dashes `#-` to format your script and partition your code. For instance, for a script dedicated to data cleaning, we can specify its purpose at the top as such:\n",
    "\n",
    "```R\n",
    "####################\n",
    "# Data Cleaning\n",
    "#------------------#\n",
    "```\n",
    "\n",
    "Formatting your script in this manner creates visual bookmarks and highlights different sections of your script.\n",
    "\n",
    "Another use for comments is to \"comment out\" code that you might be testing or might need later. Use a number sign to comment out a line:\n",
    "\n",
    "```R\n",
    "# fake_data <- data %>% mutate(log_earnings = log(earnings))\n",
    "```\n",
    "\n",
    "Comment out a block of code by running CTRL + shift + C on Windows or Command + shift + C on mac. There is no formal way of commenting out a block of code in writing like in Stata, so this command is the best approach to quickly comment out a block of code if you don't want to run it right now but feel you may need it later:\n",
    "\n",
    "```R\n",
    "\n",
    "# fake_data %>% group_by(region) %>% count()\n",
    "# fake_data %>% group_by(sex) %>% summarise(meanearnings = mean(earnings))\n",
    "# fake_data %>% group_by(region) %>% summarise(total = n())\n",
    "\n",
    "\n",
    "```\n",
    "\n",
    "Most importantly, leave comments before or after your code to explain what you did.\n",
    "\n",
    "```R\n",
    "# Open Raw Data\n",
    "fake_data <- read.csv(\"1. data/fake_data.csv\")\n",
    "\n",
    "fake_data <- as.factor(fake_data) # factorize all variables\n",
    "```\n",
    "\n",
    "As we move on to writing more complex code, leaving comments will become more helpful.\n",
    "\n",
    "\n",
    "#### 17.4.2 Splitting the code across lines\n",
    "\n",
    "R can automatically read code as continuing across multiple lines, provided we don't give it a reason to believe our code is finished. Let's look at an example to see why.\n",
    "Imagine we want to create a scatterplot in R combining the command `ggplot` and `geom_point` (for all details on how to do graphs in R, see [Module 9](econometrics/econ490-r/9_ggplot_graphs.ipynb)). \n",
    "\n",
    "The line of code that achieves it is `figure <- ggplot(data = fake_data, aes(x = year,  y = earnings)) + geom_point()`.\n",
    "This may be too long and we may want to split it in several lines. Knowing that R can read code as continuing across multiple lines, we would be tempted to write the following:\n",
    "\n",
    "```R\n",
    "figure <- ggplot(data = fake_data, aes(x = year,  y = earnings))\n",
    "+ geom_point()\n",
    "\n",
    "figure()\n",
    "\n",
    "```\n",
    "\n",
    "R will return an error for the above code. This is because it believes our code is done on the first line, so that the addition of `geom_point` is alone and non-sensical. For R to understand that `ggplot` and `geom_point` belong to the same block of code, we must leave the plus sign on the first line:\n",
    "\n",
    "```R\n",
    "figure <- ggplot(data = fake_data, aes(x = year,  y = earnings)) + \n",
    "geom_point()\n",
    "\n",
    "figure()\n",
    "\n",
    "```\n",
    "\n",
    "The plus sign at the end of the first line signals to R that the code on the first line is not complete and it must keep reading down below to `geom_point`. While operators allow R to \"keep reading\" across multiple lines, an open bracket achieves the same goal. For example, we could split the code in two lines such that `aes(` is the last word on the first line:\n",
    "\n",
    "```R\n",
    "figure <- ggplot(data = fake_data, aes(\n",
    "                     x = year, y = earnings)) + geom_point()\n",
    "                 \n",
    "figure\n",
    "\n",
    "```\n",
    "\n",
    "Now our code is split across multiple lines and is also easier to read.\n",
    "\n",
    "#### 17.4.3 Indenting and spacing your code\n",
    "\n",
    "Using indentations in your code and spacing it neatly can further improve its readability with little effort. You can use the `tab` button on your keyboard to indent and organize your code. Let's reformat the last example to see this in action.\n",
    "\n",
    "```stata\n",
    "figure <- ggplot(data = fake_data,\n",
    "                 aes(\n",
    "                     x = year,  \n",
    "                     y = earnings) + \n",
    "          geom_point()\n",
    "\n",
    "figure\n",
    "```\n",
    "\n",
    "This is the same code block as before, but it is significantly easier to read this time around.\n",
    "\n",
    "You might not want to indent your code on such a granular level, as shown in the example above. That's okay, as long as the code is organized in a way that is clear to you and your collaborators, and generally easy to understand.\n",
    "\n",
    "#### 17.4.4 Putting it all together \n",
    "\n",
    "Let's review a final example that combines all the code styling tools we have discussed so far.\n",
    "\n",
    "```R\n",
    "figure <- ggplot(data = fake_data, # choose the data we want\n",
    "                 aes(\n",
    "                     x = year,  # x is year\n",
    "                     y = average_logearn) # y is earnings\n",
    "          + geom_point()\n",
    "                 \n",
    "\n",
    "figure\n",
    "```\n",
    "\n",
    "The comments in this example might seem unnecessary, since the code is self-explanatory. However, depending on your familiarity with R (or coding in general) and the complexity of the code, adding comments that seem obvious at the time can be helpful when you revisit your work days or weeks later. As students of economics, we understand that there is an opportunity cost to everything, including time spent deciphering code already written."
   ]
  },
  {
   "cell_type": "markdown",
   "id": "fc1d2167-5d6e-4714-866a-69dacbe19f24",
   "metadata": {},
   "source": [
    "## 17.5 Wrap Up\n",
    "\n",
    "In this notebook, we looked at how to use UBC OneDrive to securely store projects. We also looked at how to use R's built-in RStudio Projects functionality to minimize the need for setting directories. Further, we explored how to structure this directory, how to name files, and how to separate scripts. We also discussed important file types to include and best practices for coding more generally."
   ]
  },
  {
   "cell_type": "markdown",
   "id": "e6edb4f8-cd63-4c19-82c7-9083a9b7242e",
   "metadata": {},
   "source": [
    "## References\n",
    "\n",
    "- [Structuring a Good README File](https://www.freecodecamp.org/news/how-to-write-a-good-readme-file/) <br>\n",
    "- [Understanding RStudio Projects](https://martinctc.github.io/blog/rstudio-projects-and-working-directories-a-beginner%27s-guide/)"
   ]
  }
 ],
 "metadata": {
  "kernelspec": {
   "display_name": "Python 3 (ipykernel)",
   "language": "python",
   "name": "python3"
  },
  "language_info": {
   "codemirror_mode": {
    "name": "ipython",
    "version": 3
   },
   "file_extension": ".py",
   "mimetype": "text/x-python",
   "name": "python",
   "nbconvert_exporter": "python",
   "pygments_lexer": "ipython3",
   "version": "3.10.11"
  }
 },
 "nbformat": 4,
 "nbformat_minor": 5
}
