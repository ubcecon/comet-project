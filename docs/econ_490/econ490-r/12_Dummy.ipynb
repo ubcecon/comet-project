{
 "cells": [
  {
   "cell_type": "markdown",
   "id": "39b40014",
   "metadata": {
    "tags": []
   },
   "source": [
    "# ECON 490: Dummy Variables and Interactions (12)\n",
    "\n",
    "## Prerequisites\n",
    "\n",
    "1. Importing data into R.\n",
    "2. Examining data using `glimpse`.\n",
    "3. Creating new variables in R.\n",
    "4. Conducting linear regression analysis. \n",
    "\n",
    "## Learning Outcomes\n",
    "\n",
    "1. Understand when dummy variable are needed in analysis.\n",
    "2. Create dummy variables from qualitative variables with two or more categories.\n",
    "2. Interpret coefficients associated with dummy variables from an OLS regression.\n",
    "3. Interpret coefficients of an interaction between a numeric variable and a dummy variable from an OLS regression."
   ]
  },
  {
   "cell_type": "markdown",
   "id": "915459de-007c-4707-a317-2e3403520059",
   "metadata": {
    "tags": []
   },
   "source": [
    "## 12.1 Introduction to Dummy Variables for Regression Analysis\n",
    "\n",
    "You will remember dummy variables from when they were introduced in [Module 6](econometrics/econ490-r/6_Within_Group.ipynb). There we discussed both how to interpret and to generate this type of variable. If you have any uncertainty about what this type of variable measures, please make sure you review that module.\n",
    "\n",
    "Here we will discuss including qualitative variables as explanatory variables in a linear regression model.\n",
    "\n",
    "Imagine that we want to include a new explanatory variable in our multivariate regression from [Module 10](econometrics/econ490-r/10_Linear_Reg.ipynb) which indicates whether an individual represented by a given observation is female. To do this we will need to include a new dummy variable in our regression and then interpret the coefficient on that variable from the regression results.\n",
    "\n",
    "For this module we will again be using the \"fake_data\" data set. Recall that this data is simulating information of workers in the years 1982-2012 in a fake country where a training program was introduced in 2003 to boost their earnings. "
   ]
  },
  {
   "cell_type": "code",
   "execution_count": null,
   "id": "f70acb0b",
   "metadata": {},
   "outputs": [],
   "source": [
    "#Clear the memory from any pre-existing objects\n",
    "rm(list=ls())\n",
    "\n",
    "# loading in our packages\n",
    "library(tidyverse) #This includes ggplot2! \n",
    "library(haven)\n",
    "library(IRdisplay)\n",
    "\n",
    "#Open the dataset \n",
    "fake_data <- read_dta(\"../econ490-stata/fake_data.dta\")\n",
    "\n",
    "# inspecting the data\n",
    "glimpse(fake_data)"
   ]
  },
  {
   "cell_type": "markdown",
   "id": "033f1dae-6671-47e4-9dfa-3eba8a502f27",
   "metadata": {},
   "source": [
    "In [Module 5](econometrics/econ490-r/5_Creating_Variables.ipynb) we showed how to create new variables. Here, we are generating a new variable based on the values of the already existing variable _earnings_. "
   ]
  },
  {
   "cell_type": "code",
   "execution_count": null,
   "id": "63bb565c",
   "metadata": {},
   "outputs": [],
   "source": [
    "fake_data <- fake_data %>%\n",
    "        mutate(log_earnings = log(earnings)) #the log function"
   ]
  },
  {
   "cell_type": "markdown",
   "id": "fdb9e2fc-1c4c-4067-a98c-444b8439388f",
   "metadata": {},
   "source": [
    "Let's take a look at the data. "
   ]
  },
  {
   "cell_type": "code",
   "execution_count": null,
   "id": "90643a62",
   "metadata": {},
   "outputs": [],
   "source": [
    "glimpse(fake_data)"
   ]
  },
  {
   "cell_type": "markdown",
   "id": "f03d7633",
   "metadata": {},
   "source": [
    "As expected, _logearnings_ is a quantitative variable showing the logarithm of each value of _earnings_. We observe a variable named _sex_, but it doesn't seem to be coded as a numeric variable. Notice that next to sex it says `<chr>`."
   ]
  },
  {
   "cell_type": "markdown",
   "id": "7fb36429",
   "metadata": {},
   "source": [
    "As expected, sex is a string variable and is not numeric. We cannot use a string variable in a regression analysis; we have to create a new variable which indicates the sex of the individual represented by the observation. \n",
    "\n",
    "A dummy variable is a numeric variable that takes either the value of 0 or 1 depending on a condition. A very simple way to create different categories for a variable in R is to use the `as.factor()` function."
   ]
  },
  {
   "cell_type": "code",
   "execution_count": null,
   "id": "ffd78896",
   "metadata": {},
   "outputs": [],
   "source": [
    "as.factor(fake_data$sex)"
   ]
  },
  {
   "cell_type": "markdown",
   "id": "13e82f3b",
   "metadata": {},
   "source": [
    "## 12.2 Interpreting the Coefficient on Dummy Variables\n",
    "\n",
    "Whenever we interpret the coefficient on a dummy variable in a regression, we are making a direct comparison between the 1-category and the 0-category for that dummy. In the case of this female dummy, we are directly comparing the mean earnings of female identified workers against the mean earnings of male identified workers. \n",
    "\n",
    "Let's consider the regression below."
   ]
  },
  {
   "cell_type": "code",
   "execution_count": null,
   "id": "a07d94cb",
   "metadata": {},
   "outputs": [],
   "source": [
    "lm(data=fake_data, log_earnings ~ as.factor(sex))"
   ]
  },
  {
   "cell_type": "markdown",
   "id": "e6757e66",
   "metadata": {},
   "source": [
    "Notice that the regression by default used females as the reference point and only estimated a male premium. Typically, we want this to be the other way around. To change the reference group we write the code below."
   ]
  },
  {
   "cell_type": "code",
   "execution_count": null,
   "id": "63036fb6",
   "metadata": {},
   "outputs": [],
   "source": [
    "# Change reference level\n",
    "fake_data = fake_data %>% mutate(female = relevel(as.factor(sex), \"M\"))"
   ]
  },
  {
   "cell_type": "code",
   "execution_count": null,
   "id": "3d7d87ca",
   "metadata": {},
   "outputs": [],
   "source": [
    "summary(lm(data=fake_data, log_earnings ~ female))"
   ]
  },
  {
   "cell_type": "markdown",
   "id": "30c6cc8c",
   "metadata": {},
   "source": [
    "We remember from [Module 10](econometrics/econ490-r/10_Linear_Reg.ipynb) that \"_cons\" is the constant $β_0$, and we know that here $β_0 = E[logearnings_{i}|female_{i}=0]$. Therefore, the results of this regression suggest that, on average, males have log earnings of 10.8. We also know from the [Module 10](econometrics/econ490-r/10_Linear_Reg.ipynb) that\n",
    "\n",
    "$$\n",
    "\\beta_1 = E[logearnings_{i}|female_{i}=1]- E[logearnings_{i}|female_{i}=0].\n",
    "$$\n",
    "\n",
    "The regression results here suggest that female identified persons earn on average 0.55 less than male identified persons and, as a result, on average female identified persons earn 10.8 - 0.55 = 10.25.  \n",
    "\n",
    "In other words, the coefficient on the female variable shows the mean difference in log-earnings relative to males. $\\hat{β}_1$ thus provides the measure of the raw gender gap.\n",
    "\n",
    "<div class=\"alert alert-info\">\n",
    "\n",
    "\n",
    "**Note:** We are only able to state this result because the p-value for both  $\\hat{β}_0$ and  $\\hat{β}_1$ is less than 0.05, allowing us to reject the null hypothesis that $β_0 = 0$ and $β_1 = 0$ at 95% confidence level.\n",
    "    \n",
    "</div>"
   ]
  },
  {
   "cell_type": "markdown",
   "id": "5121a282",
   "metadata": {},
   "source": [
    "The interpretation remains the same once we control for more variables, although it is ceteris paribus (holding constant) the other observables in the regression."
   ]
  },
  {
   "cell_type": "code",
   "execution_count": null,
   "id": "27035cc0",
   "metadata": {},
   "outputs": [],
   "source": [
    "summary(lm(data=fake_data, log_earnings ~ female + age))"
   ]
  },
  {
   "cell_type": "markdown",
   "id": "706294ac",
   "metadata": {},
   "source": [
    "In this case, among people that are the same age, the gender gap is (not surprisingly) slightly smaller than in our previous regression. That is expected since previously we compared all females to all males irrespective of the composition of age groups in those two categories of workers. As we control for age, we can see that this differential decreases."
   ]
  },
  {
   "cell_type": "markdown",
   "id": "60716028",
   "metadata": {},
   "source": [
    "## 12.3 Dummy Variables with Multiple Categories\n",
    "\n",
    "The previous section also holds when there is a variable with multiple categories, as is the case for region. "
   ]
  },
  {
   "cell_type": "code",
   "execution_count": null,
   "id": "7c5dc07a",
   "metadata": {},
   "outputs": [],
   "source": [
    "lm(data=fake_data, log_earnings ~ as.factor(region))"
   ]
  },
  {
   "cell_type": "markdown",
   "id": "07d55278",
   "metadata": {},
   "source": [
    "Notice that the sum of the five dummies in any row is equal to 1. This is because every worker is located in exactly one region. If we included all of the regional dummies in a regression we would introduce the problem of multi-collinearity: the full set of dummy variables are perfectly correlated. Think about it this way - if a person is in region 1 (regdummy1 = 1) then we know that the person is not in region 2 (regdummy2 = 0). Therefore being in region 1 predicts not being in region 2. \n",
    "\n",
    "We must always exclude one of the dummies. Failing to do so means falling into the **dummy variable trap** of perfect collinearity described above. To avoid this, choose one region to serve as a base level for which you will not define a dummy. This dummy variable that you exclude will be the category of reference, or base level, when interpreting coefficients in the regression. That is, the coefficient on each region dummy variable will be comparing the mean earnings of people in that region to the mean earnings of people in the one region excluded.\n",
    "\n",
    "We have actually already seen this approach in action in the regression we ran above; there we didn't add a separate dummy variable for \"male\". Instead, we essentially excluded the male dummy variable and interpreted the coefficient on \"female\" as the difference between female and male log-earnings. "
   ]
  },
  {
   "cell_type": "markdown",
   "id": "146e2fa8",
   "metadata": {},
   "source": [
    "You may have noticed that R drops the first region dummy (region = 1) and includes dummy variables for the regions 2 - 5. \n",
    "\n",
    "We can use the same trick as the previous section to change the reference group! Let's change the reference group to 3."
   ]
  },
  {
   "cell_type": "code",
   "execution_count": null,
   "id": "b42fbe82-dd37-4458-9071-cfebc119b07b",
   "metadata": {},
   "outputs": [],
   "source": [
    "fake_data <- fake_data %>% mutate(region = relevel(as.factor(region), 3))"
   ]
  },
  {
   "cell_type": "code",
   "execution_count": null,
   "id": "34209422-8dfd-4f66-8d52-f58ef95c5f67",
   "metadata": {},
   "outputs": [],
   "source": [
    "summary(lm(data = fake_data, log_earnings ~ region))"
   ]
  },
  {
   "cell_type": "markdown",
   "id": "fe567f28-0d95-4d72-9347-34e693b7902f",
   "metadata": {},
   "source": [
    "When interpreting the coefficients in the regression above, our intercept is again the mean log earnings among those for which all dummies in the regression are 0; here, that is the mean earnings for all people in region 3. Each individual coefficient gives the difference in average log earnings among people in that region and in region 3. For instance, the mean log earnings in region 1 are about 0.012 higher than in region 3, and the mean log earnings in region 2 are about 0.017 lower than in region 3. Both of these differences are statistically significant at a high level (> 99%).\n",
    "\n",
    "It follows from this logic of interpretation that we can compare mean earnings among non-reference groups. For example, the meaning log earnings in region 3 are given by the intercept coefficient: about 10.49. Since the mean log earnings in region 1 are about 0.012 higher than this, they must be about 10.49 + 0.012 = 10.502. In region 2, the mean log earnings are similarly about 10.49 - 0.017 = 10.473. We can thus conclude that the mean log earnings in region 1 are about 10.502 - 10.473 = 0.029 higher than in region 2. In this way, we compared the levels of the dependent variable for 2 dummy variables, neither of which are in the reference group excluded from the regression. One could imagine that we could have much more quickly compared the levels of these groups by comparing their deviations from the base group. Region 1 has mean log earnings about 0.012 above a reference level, while region 2 has mean log earnings about 0.017 below this same reference level; thus, region 1 should have mean log earnings about 0.012 - (-0.017) = 0.029 above region 2."
   ]
  },
  {
   "cell_type": "markdown",
   "id": "0f4868ea",
   "metadata": {},
   "source": [
    "## 12.4 Interactions \n",
    "\n",
    "It is an established fact that a wage gap exists between male and female workers. However, it is possible that the wage gap changes depending on the age of the workers. For example, female and male high school students tend to work minimum wage jobs, hence we might believe that the wage gap between people within the 15-18 age bracket is very small. Conversely, once people have the experience to start looking for better paying jobs, we might believe the wage gap starts to increase, meaning that this gap might be much larger in higher age brackets. This means that the wage gap between males and females may also vary as age increases. The way to capture that differential effect of age across males and females is to create a new variable that is the product of the female dummy and age. \n",
    "\n",
    "Whenever we do this it is *very important* that we also include both the female dummy and age as control variables. Luckily, by simply regressing *log_earnings* on our interaction term, _female*age_, R automatically generates dummy variables for all female and age categories without inducing the dummy variable trap."
   ]
  },
  {
   "cell_type": "code",
   "execution_count": null,
   "id": "48bcbb94",
   "metadata": {},
   "outputs": [],
   "source": [
    "summary(lm(data=fake_data, log_earnings ~ female * age))"
   ]
  },
  {
   "cell_type": "markdown",
   "id": "48d1a361",
   "metadata": {},
   "source": [
    "We can see that, on average, people who are identified as female earn about 0.27 less than those identified as male, holding age constant. We can also see that each additional year of age increases log-earnings by about 0.013 for the reference category (males). This affect of age on log-earnings is lower for females by 0.007, meaning that an extra year of age increase log earnings for women by about 0.013 + (-0.007) = 0.006. It thus seems that our theory is correct: the wage gap between males and females of the same age increases as they get older. For men and women who are both 20, an extra year will be associated with the man earning a bit more than the woman on average. However, if the man and woman are both 50, an extra year will be associated with the man earning much more than the women on average (or at least out-earning her by much more than before). We can also see from the statistical significance of the coefficient on our interaction term that it was worth including!\n",
    "\n",
    "Try this yourself below with the set of region dummies we created above, and think about what these results mean!"
   ]
  },
  {
   "cell_type": "code",
   "execution_count": null,
   "id": "21b43142-0182-4f5e-b248-4f3e32386c2a",
   "metadata": {},
   "outputs": [],
   "source": [
    "summary(lm(data=fake_data, log_earnings ~ female * region))"
   ]
  },
  {
   "cell_type": "markdown",
   "id": "6388831c-8b7a-4e4e-b2fa-9cc4272107a5",
   "metadata": {},
   "source": [
    "## 12.5 Wrap Up\n",
    "\n",
    "There are very few empirical research projects using micro data that do not require researchers to use dummy variables. Important qualitative measures such as marital status, immigration status, occupation, industry, and race always require that we use dummy variables. Other important variables such as education, income, age and number of children often require us to use dummy variables, even when they are measured using ranked categorical variables. For example, we could have a variable that measures years of education as a continuous variable. However, we might instead want to include a variable that indicated if the person has a university degree. If that is the case we can use `as.factor()` to create a dummy variable indicating that level of education. \n",
    "\n",
    "Even empirical research projects that use macro data sometimes require that we use dummy variables. For example, we might have a data set that measures macro variables for African countries, including information about historic colonization. We might want to create dummy variables that indicate the origin of the colonizers, and then include that in our analysis to understand that effect. As another example, we might have a time series data set and want to indicate whether or not a specific policy was implemented in any one time period. We will need a dummy variable for that, and can include one in our analysis using the same process described above. Finally, we can use interaction terms to capture the effect of one variable on another if we believe that it varies between groups. If the coefficient on this interaction term is statistically significant, it is justified that this term be included in our regression for analysis. This impacts our interpretation of coefficients in the regression.\n",
    "\n",
    "Create dummy variables and/or interaction terms with any data set that you have downloaded in R as you see fit. You will find that this approach is not complicated, but has the power to yield meaningful results!"
   ]
  },
  {
   "cell_type": "code",
   "execution_count": null,
   "id": "97737cff",
   "metadata": {},
   "outputs": [],
   "source": []
  }
 ],
 "metadata": {
  "kernelspec": {
   "display_name": "R",
   "language": "R",
   "name": "ir"
  },
  "language_info": {
   "codemirror_mode": "r",
   "file_extension": ".r",
   "mimetype": "text/x-r-source",
   "name": "R",
   "pygments_lexer": "r",
   "version": "4.1.3"
  }
 },
 "nbformat": 4,
 "nbformat_minor": 5
}
