{
 "cells": [
  {
   "cell_type": "markdown",
   "id": "69e5218e",
   "metadata": {},
   "source": [
    "# ECON 490: Instrumental Variable Analysis (19)\n",
    "\n",
    "## Prerequisites\n",
    "\n",
    "1. Run OLS regressions.\n",
    "\n",
    "## Learning Outcomes\n",
    "\n",
    "1. Understand what an instrumental variable is and the conditions it must satisfy to address the endogeneity problem.\n",
    "2. Implement a Two Stage Least Squares (2SLS) regression-based approach using an instrument. \n",
    "3. Describe the weak instrument problem.\n",
    "4. Interpret the first stage test of whether or not the instrument is weak."
   ]
  },
  {
   "cell_type": "markdown",
   "id": "9b39ca44",
   "metadata": {},
   "source": [
    "## 19.1 The linear IV model\n",
    "\n",
    "Consider a case where we want to know the effect of education on earnings. We may want to estimate a model like the following\n",
    "\n",
    "$$\n",
    "Y_{i} = \\alpha + \\beta X_i + \\epsilon_i\n",
    "$$\n",
    "where $Y_i$ is earnings of individual $i$ and $X_i$ is years of education of individual $i$.\n",
    "\n",
    "A possible issue comes from omitted variable bias: it is possible that the decision to attend school is influenced by other individual characteristics that are also correlated with earnings. For example, think of individuals with high innate ability. They may want to enrol in school for longer and obtain higher-level degrees. Moreover, their employers may compensate them for their high ability, regardless of their years of schooling.\n",
    "\n",
    "Instrumental variables can help us when there are hidden factors affecting both the treatment (in our case, years of education) and the outcome (in our case, earnings). The instrumental variables approach relies on finding something affecting the treatment and affecting the outcome solely through the treatment. In short, the instrument should satisfy two assumptions:\n",
    "1. *relevance*: the instrument should be correlated with the explanatory variable; in our case, it should be correlated with the years of education $X_i$;\n",
    "2. *exclusion restriction*: the instrument should be correlated with the dependent variable only through the explanatory variable; in our case, it should be correlated with $Y_i$ only through its correlation with $X_i$.\n",
    "\n",
    "Let's say we have found an instrumental variable $Z_i$ for the variable $X_i$. Then, using an Instrumental Variable analyis implies estimating the following model\n",
    "$$\n",
    "\\begin{align}\n",
    "Y_i &= \\alpha_1 + \\beta X_i + u_i  \\quad \\text{(Structural Equation)}\\\\\n",
    "X_i &= \\alpha_2 + \\gamma Z_i + e_i  \\quad \\text{(First Stage Equation)}\n",
    "\\end{align}\n",
    "$$\n",
    "where the two conditions we have seen above imply that:\n",
    "1. $\\gamma \\neq 0$;\n",
    "2. $Z_i$ is uncorrelated with $u_i$.\n",
    "\n",
    "In practice, using an Instrumental Variable analysis often implies using a Two-Stages Least Square (2SLS) estimator. The two steps of the 2SLS are:\n",
    "1. Estimate the First Stage Equation by OLS and obtain the predicted value of $X_i$. In this way, we have effectively split $X_i$ into\n",
    "$$\n",
    "X_i = \\underbrace{\\hat{X}_i}_\\text{exogenous part} + \\underbrace{\\hat{e}_i}_\\text{endogenous part} \n",
    "$$\n",
    "where $\\hat{X_i} \\equiv \\hat{\\alpha_2} + \\hat{\\gamma} Z_i $.\n",
    "\n",
    "2. Plug $\\hat{X_i}$ instead of $X_i$ into the Structural Equation and estimate via OLS. We are then using the \"exogenous\" part of $X_i$ to capture $\\beta$. \n",
    "\n",
    "<div class=\"alert alert-warning\">\n",
    "\n",
    "**Caution**: We can run 2SLS following the steps above, but when we want to do inference we need to be sure we're using the true residuals in the Structural equation $\\hat{u}_i$. The built-in R command `ivreg` automatically give us the right residuals.\n",
    "</div>\n",
    "\n",
    "Let's see how to estimate this in R. Once again, we can use our fictional dataset simulating wages of workers in the years 1982-2012 in a fictional country."
   ]
  },
  {
   "cell_type": "code",
   "execution_count": 1,
   "id": "4977440b",
   "metadata": {},
   "outputs": [
    {
     "name": "stderr",
     "output_type": "stream",
     "text": [
      "-- \u001b[1mAttaching core tidyverse packages\u001b[22m ---------------------------------------------------------------- tidyverse 2.0.0 --\n",
      "\u001b[32mv\u001b[39m \u001b[34mdplyr    \u001b[39m 1.1.2     \u001b[32mv\u001b[39m \u001b[34mreadr    \u001b[39m 2.1.4\n",
      "\u001b[32mv\u001b[39m \u001b[34mforcats  \u001b[39m 1.0.0     \u001b[32mv\u001b[39m \u001b[34mstringr  \u001b[39m 1.5.0\n",
      "\u001b[32mv\u001b[39m \u001b[34mggplot2  \u001b[39m 3.4.2     \u001b[32mv\u001b[39m \u001b[34mtibble   \u001b[39m 3.2.1\n",
      "\u001b[32mv\u001b[39m \u001b[34mlubridate\u001b[39m 1.9.2     \u001b[32mv\u001b[39m \u001b[34mtidyr    \u001b[39m 1.3.0\n",
      "\u001b[32mv\u001b[39m \u001b[34mpurrr    \u001b[39m 1.0.1     \n",
      "-- \u001b[1mConflicts\u001b[22m ---------------------------------------------------------------------------------- tidyverse_conflicts() --\n",
      "\u001b[31mx\u001b[39m \u001b[34mdplyr\u001b[39m::\u001b[32mfilter()\u001b[39m masks \u001b[34mstats\u001b[39m::filter()\n",
      "\u001b[31mx\u001b[39m \u001b[34mdplyr\u001b[39m::\u001b[32mlag()\u001b[39m    masks \u001b[34mstats\u001b[39m::lag()\n",
      "\u001b[36mi\u001b[39m Use the conflicted package (\u001b[3m\u001b[34m<http://conflicted.r-lib.org/>\u001b[39m\u001b[23m) to force all conflicts to become errors\n"
     ]
    }
   ],
   "source": [
    "# Load in our packages\n",
    "library(tidyverse)\n",
    "library(haven)"
   ]
  },
  {
   "cell_type": "code",
   "execution_count": 2,
   "id": "a03539f2",
   "metadata": {},
   "outputs": [],
   "source": [
    "# Import dataset\n",
    "fake_data <- read_dta(\"../econ490-stata/fake_data.dta\")"
   ]
  },
  {
   "cell_type": "markdown",
   "id": "2e8857e5",
   "metadata": {},
   "source": [
    "In R, we can perform IV analysis with a 2SLS estimator by using the command `ivreg`. This command is a part of the package *AER* which we will have to install.  \n",
    "The syntax is `ivreg(<Y> ~ <X> | <Z>, data=<data>)` where instead of `<Y>`, `<X>`, and `<Z>` you have to write the names of the corresponding Y, X, and Z variables of your model, and instead of `<data>` you write the name of your dataframe.\n",
    "\n",
    "We now have to choose an instrumental variable that can work in our setting. A well-known example for an instrument for years of schoolig is studied by Angrist and Krueger (1991): they propose that $Z$ is the quarter of birth. The premise behind their IV is that students are required to enter school in the *year they turn 6* but not necessarily when they are *already* 6 years old, creating a relationship between quarter of birth and schooling. At the same time, the time of the year one is born shouldn't  affect one's earnings aside from its effect on schooling.\n",
    "\n",
    "Let's see how to estimate a simple IV in R using our data and `ivregr`."
   ]
  },
  {
   "cell_type": "code",
   "execution_count": 4,
   "id": "951b872b",
   "metadata": {},
   "outputs": [
    {
     "name": "stderr",
     "output_type": "stream",
     "text": [
      "si installano anche le dipendenze 'rprojroot', 'diffobj', 'brio', 'desc', 'pkgload', 'praise', 'processx', 'waldo', 'Matrix', 'testthat', 'SparseM', 'MatrixModels', 'boot', 'minqa', 'nloptr', 'RcppEigen', 'carData', 'nnet', 'pbkrtest', 'quantreg', 'lme4', 'car', 'survival'\n",
      "\n",
      "\n"
     ]
    },
    {
     "name": "stdout",
     "output_type": "stream",
     "text": [
      "\n",
      "  Ci sono versioni binarie disponibile, ma le versioni con le sorgenti\n",
      "  sono successive:\n",
      "             binary  source needs_compilation\n",
      "pkgload       1.3.2 1.3.2.1             FALSE\n",
      "processx      3.8.1   3.8.2              TRUE\n",
      "waldo         0.4.0   0.5.1             FALSE\n",
      "Matrix        1.5-4   1.6-0              TRUE\n",
      "testthat      3.1.7  3.1.10              TRUE\n",
      "MatrixModels  0.5-1   0.5-2             FALSE\n",
      "nnet         7.3-18  7.3-19              TRUE\n",
      "quantreg       5.95    5.96              TRUE\n",
      "lme4         1.1-32  1.1-34              TRUE\n",
      "\n",
      "  Binaries will be installed\n",
      "package 'rprojroot' successfully unpacked and MD5 sums checked\n",
      "package 'diffobj' successfully unpacked and MD5 sums checked\n",
      "package 'brio' successfully unpacked and MD5 sums checked\n",
      "package 'desc' successfully unpacked and MD5 sums checked\n",
      "package 'praise' successfully unpacked and MD5 sums checked\n",
      "package 'processx' successfully unpacked and MD5 sums checked\n",
      "package 'Matrix' successfully unpacked and MD5 sums checked\n",
      "package 'testthat' successfully unpacked and MD5 sums checked\n",
      "package 'SparseM' successfully unpacked and MD5 sums checked\n",
      "package 'boot' successfully unpacked and MD5 sums checked\n",
      "package 'minqa' successfully unpacked and MD5 sums checked\n",
      "package 'nloptr' successfully unpacked and MD5 sums checked\n",
      "package 'RcppEigen' successfully unpacked and MD5 sums checked\n",
      "package 'carData' successfully unpacked and MD5 sums checked\n",
      "package 'nnet' successfully unpacked and MD5 sums checked\n",
      "package 'pbkrtest' successfully unpacked and MD5 sums checked\n",
      "package 'quantreg' successfully unpacked and MD5 sums checked\n",
      "package 'lme4' successfully unpacked and MD5 sums checked\n",
      "package 'car' successfully unpacked and MD5 sums checked\n",
      "package 'survival' successfully unpacked and MD5 sums checked\n",
      "package 'AER' successfully unpacked and MD5 sums checked\n",
      "\n",
      "The downloaded binary packages are in\n",
      "\tC:\\Users\\asus\\AppData\\Local\\Temp\\RtmpSKfx3W\\downloaded_packages\n"
     ]
    },
    {
     "name": "stderr",
     "output_type": "stream",
     "text": [
      "installazione pacchetti sorgenti 'pkgload', 'waldo', 'MatrixModels'\n",
      "\n",
      "\n",
      "Warning message in install.packages(\"AER\"):\n",
      "\"installation of package 'MatrixModels' had non-zero exit status\"\n",
      "Caricamento del pacchetto richiesto: car\n",
      "\n",
      "Caricamento del pacchetto richiesto: carData\n",
      "\n",
      "\n",
      "Caricamento pacchetto: 'car'\n",
      "\n",
      "\n",
      "Il seguente oggetto è mascherato da 'package:dplyr':\n",
      "\n",
      "    recode\n",
      "\n",
      "\n",
      "Il seguente oggetto è mascherato da 'package:purrr':\n",
      "\n",
      "    some\n",
      "\n",
      "\n",
      "Caricamento del pacchetto richiesto: lmtest\n",
      "\n",
      "Caricamento del pacchetto richiesto: zoo\n",
      "\n",
      "\n",
      "Caricamento pacchetto: 'zoo'\n",
      "\n",
      "\n",
      "I seguenti oggetti sono mascherati da 'package:base':\n",
      "\n",
      "    as.Date, as.Date.numeric\n",
      "\n",
      "\n",
      "Caricamento del pacchetto richiesto: sandwich\n",
      "\n",
      "Caricamento del pacchetto richiesto: survival\n",
      "\n"
     ]
    }
   ],
   "source": [
    "# Install AER package\n",
    "install.packages(\"AER\")\n",
    "library(AER)"
   ]
  },
  {
   "cell_type": "code",
   "execution_count": 6,
   "id": "463a3425",
   "metadata": {},
   "outputs": [
    {
     "data": {
      "text/plain": [
       "\n",
       "Call:\n",
       "ivreg(formula = earnings ~ schooling | quarter_birth, data = fake_data)\n",
       "\n",
       "Residuals:\n",
       "     Min       1Q   Median       3Q      Max \n",
       "-7350123 -1141494   207065   950620 58770337 \n",
       "\n",
       "Coefficients:\n",
       "             Estimate Std. Error t value Pr(>|t|)\n",
       "(Intercept) -10926159   66819840  -0.164    0.870\n",
       "schooling      714973    4339063   0.165    0.869\n",
       "\n",
       "Residual standard error: 1544000 on 138136 degrees of freedom\n",
       "Multiple R-Squared: -36.29,\tAdjusted R-squared: -36.29 \n",
       "Wald test: 0.02715 on 1 and 138136 DF,  p-value: 0.8691 \n"
      ]
     },
     "metadata": {},
     "output_type": "display_data"
    }
   ],
   "source": [
    "modelIV <- ivreg(earnings ~ schooling | quarter_birth, data = fake_data)\n",
    "summary(modelIV)"
   ]
  },
  {
   "cell_type": "markdown",
   "id": "5b2736bb",
   "metadata": {},
   "source": [
    "We obtain a standard output: value of the coefficients, standard errors, p-value, and 95% confidence intervals. From the regression output, years of schooling does not seem to have any effect on earnings. However, before trusting these results we should check that the two assumptions on IV are met in this case: relevance and exclusion restriction."
   ]
  },
  {
   "cell_type": "markdown",
   "id": "b0d3937f",
   "metadata": {},
   "source": [
    "## 19.2 Weak instrument test\n",
    "While we cannot really test for exclusion restriction, we can check whether our instrument is relevant. We do that by looking directly at the coefficients in the First Stage Equation. \n",
    "\n",
    "In R, we need to estimate the First Stage Equation and then perform a simple F-test.\n",
    "Recall that our first stage is \n",
    "$$\n",
    "X_i = \\alpha_2 + \\gamma Z_i + e_i\n",
    "$$\n",
    "where $X_i$ is years of education and $Z_i$ is quarter of birth.\n",
    "We simply have to estimate this regression with a OLS. We have seen how to do it using the function `lm`."
   ]
  },
  {
   "cell_type": "code",
   "execution_count": 10,
   "id": "5b3f4058",
   "metadata": {},
   "outputs": [
    {
     "data": {
      "text/plain": [
       "\n",
       "Call:\n",
       "lm(formula = schooling ~ quarter_birth, data = fake_data)\n",
       "\n",
       "Residuals:\n",
       "    Min      1Q  Median      3Q     Max \n",
       "-7.4011 -1.4001 -0.3981  1.5999 10.6019 \n",
       "\n",
       "Coefficients:\n",
       "               Estimate Std. Error t value Pr(>|t|)    \n",
       "(Intercept)   1.540e+01  1.657e-02 929.220   <2e-16 ***\n",
       "quarter_birth 9.984e-04  6.190e-03   0.161    0.872    \n",
       "---\n",
       "Signif. codes:  0 '***' 0.001 '**' 0.01 '*' 0.05 '.' 0.1 ' ' 1\n",
       "\n",
       "Residual standard error: 2.206 on 138136 degrees of freedom\n",
       "Multiple R-squared:  1.884e-07,\tAdjusted R-squared:  -7.051e-06 \n",
       "F-statistic: 0.02602 on 1 and 138136 DF,  p-value: 0.8719\n"
      ]
     },
     "metadata": {},
     "output_type": "display_data"
    }
   ],
   "source": [
    "first_stage <- lm(schooling ~ quarter_birth, data = fake_data)\n",
    "summary(first_stage)"
   ]
  },
  {
   "cell_type": "markdown",
   "id": "ffbb4e50",
   "metadata": {},
   "source": [
    "Among the outputs given us by `summary`, we can see the F-statistic and its p-value. we can see that the instrumental variable we have chosen is not relevant for our explanatory variable $X$: *quarter_birth* is not correlated with *schooling*. Another indicator of lack of relevance is given by the F-statistic reported by R: as a rule of thumb, every time its value is less than 10, the instrument is not relevant. \n",
    "\n",
    "Whenever the correlation between $X$ and $Z$ is very close to zero (as in our case), we say we have a *weak instrument* problem. In practice, this problem will result in severe finite-sample bias and large variance in our estimates. Since our instrument is not valid, we cannot trust the results we have obtained so far.  "
   ]
  },
  {
   "cell_type": "markdown",
   "id": "626830b4",
   "metadata": {},
   "source": [
    "## 19.3 Wrap Up\n",
    "\n",
    "In this module we studied the Linear IV model and how to estimate it using the Two-Stage Least Squares Method using `ivreg`. We learned that we can overcome the endogeneity problem when we have access to a different type of variable: instrumental variables. A good instrument must satisfy two important conditions:\n",
    "\n",
    "1. It must be uncorrelated with the error term (also referred to as the exclusion restriction principle).\n",
    "2. It must be correlated, after controlling for observables, with the variable of interest (there must be a first stage).\n",
    "\n",
    "While condition 2 can be checked using regression results on the first stage, condition 1 is inherently not capable of being tested. Therefore, any project that uses instrumental variables must include a discussion, using contextual knowledge, of why condition 1 may hold. \n",
    "\n",
    "Finally, do not forget that for every endogenous variable in our regression, we require at least one instrument. For example, if we have a regression with 2 endogenous variables, we require at least 2 instrumental variables.\n",
    "\n",
    "The new commands we have encountered in this module are summarized below:\n",
    "|Command|Function|\n",
    "|---------|--------|\n",
    "|`ivreg`|It performs Instrumental Variable analysis using a Two-Stage Least Squares estimator by default.|"
   ]
  },
  {
   "cell_type": "code",
   "execution_count": null,
   "id": "bdf13d8d",
   "metadata": {},
   "outputs": [],
   "source": []
  }
 ],
 "metadata": {
  "kernelspec": {
   "display_name": "R",
   "language": "R",
   "name": "ir"
  },
  "language_info": {
   "codemirror_mode": "r",
   "file_extension": ".r",
   "mimetype": "text/x-r-source",
   "name": "R",
   "pygments_lexer": "r",
   "version": "4.1.3"
  }
 },
 "nbformat": 4,
 "nbformat_minor": 5
}
