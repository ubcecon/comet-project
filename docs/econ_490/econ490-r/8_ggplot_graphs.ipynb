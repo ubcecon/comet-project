{
 "cells": [
  {
   "cell_type": "markdown",
   "id": "ddcf8a49",
   "metadata": {},
   "source": [
    "# ECON 490: Creating Meaningful Visuals (8)\n",
    "\n",
    "## Prerequisites\n",
    "\n",
    "1. Load data and packages.\n",
    "2. Create variables and objects.\n",
    "3. Have some familiarity with the syntax of commands. \n",
    "\n",
    "## Learning Outcomes \n",
    "\n",
    "1. Identify best practices for data visualization.\n",
    "2. Distinguish between the main forms of visualization using economic data: scatter plots, line plots, bar plots, and histograms.\n",
    "3. Feel comfortable with the syntax of `ggplot2`, which includes the use of geometries, aesthetic layers, labeling and themes.\n",
    "4. Store graphs in png or svg format."
   ]
  },
  {
   "cell_type": "markdown",
   "id": "8ccd90d0",
   "metadata": {
    "tags": []
   },
   "source": [
    "## 8.1 General Points about Visualization\n",
    "\n",
    "If you are familiar with Stata, you will notice that graphs in R are completely different. The most important and widely used package for data visualization in R is `ggplot2`. This package operates under the premise that every graph can be decomposed into the following layers: \n",
    "\n",
    "* Data : the very base of every graph, where it comes from.\n",
    "* Mapping: informs graphics which variables are going to be part of some graphical property (e.g. column 3 of the data is going to be the dependent variable and y-axis of some graph).\n",
    "* Statistics: transforms the input variables to be displayed (e.g. graphs the means of some particular columns, counts the number of observations in some category).\n",
    "* Scales: indicates the relationship between variables and properties (e.g. we want to associate different colours with different values of a region variable). \n",
    "* Geometries: a key layer of the  graph structure. The geometry indicates the general aesthetic of the graph (e.g. a line, a polygon, etc). \n",
    "* Facets: this can be used to split data into different sub-plots.\n",
    "* Coordinates: dictates the positioning of variables. It thinks of the world as an X and Y axis by default, but more generally there can be more complicated structures (e.g. cartography!).\n",
    "* Theme: deals with other graphic information that is not related to the previous parts (e.g. background colour of our graph).\n",
    "\n",
    "In the next section, we will look at how to construct a standard graph. You will notice how `ggplot2` tries to respect the above structure when constructing graphic information. \n",
    "\n",
    "First, let's load in the data set that we've been using so far in these modules. Recall that this data set is simulating information for workers in the years 1982-2012 in a fake country where a training program was introduced in 2003 to boost their earnings.\n",
    "\n",
    "Let's also clear our memory and installing/import the necessary packages below."
   ]
  },
  {
   "cell_type": "code",
   "execution_count": null,
   "id": "26666817",
   "metadata": {},
   "outputs": [],
   "source": [
    "#Clear the memory from any pre-existing objects\n",
    "rm(list=ls())\n",
    "\n",
    "# Install in our packages\n",
    "install.packages(\"tmap\")\n",
    "install.packages(\"maps\")\n",
    "install.packages(\"mapproj\")\n",
    "\n",
    "# loading in our packages\n",
    "library(tidyverse)\n",
    "library(magrittr)\n",
    "library(ggplot2)\n",
    "library(maps)\n",
    "library(mapproj)\n",
    "library(tmap) "
   ]
  },
  {
   "cell_type": "code",
   "execution_count": null,
   "id": "cd730e99-1758-4177-af06-7473877d86d7",
   "metadata": {},
   "outputs": [],
   "source": [
    "#Open the dataset \n",
    "library(haven)\n",
    "library(tidyverse)\n",
    "fake_data <- read_dta(\"../econ490-stata/fake_data.dta\")  \n",
    "\n",
    "# inspecting the data\n",
    "glimpse(fake_data)"
   ]
  },
  {
   "cell_type": "markdown",
   "id": "c35e0819-6bf5-4545-8d5c-c62bee65610c",
   "metadata": {
    "tags": []
   },
   "source": [
    "## 8.2 Types of Graphs"
   ]
  },
  {
   "cell_type": "markdown",
   "id": "8dc5352e-7d3f-493a-a575-84ed1f31fdbb",
   "metadata": {
    "tags": []
   },
   "source": [
    "#### 8.2.1 Scatter plots\n",
    "\n",
    "Scatter plots are used to demonstrate how two quantitative variables are related to one another. This plot works well when we are interested in showing relationships and groupings among variables from relatively large data sets. Below is an example of a nice scatter plot.\n",
    "\n",
    "![Relationship of country religiosity vs wealth](https://ourworldindata.org/uploads/2013/11/GDP-vs-Religion.png)\n",
    "\n",
    "Let's say we want to plot log earnings by year. We begin by generating a new variable for log earnings."
   ]
  },
  {
   "cell_type": "code",
   "execution_count": null,
   "id": "bbadc69c",
   "metadata": {},
   "outputs": [],
   "source": [
    "fake_data <- fake_data %>%\n",
    "        mutate(log_earnings = log(earnings)) # the log function"
   ]
  },
  {
   "cell_type": "markdown",
   "id": "0022c181-732e-441c-ae7e-6d0bf11c935b",
   "metadata": {},
   "source": [
    "The purpose of a scatter plot is to observe how variables related to one another. We can now create our scatter plot.\n",
    "\n",
    "The first step of creating any graph is to call the `ggplot` function and input the data source as well as the variables on the axes."
   ]
  },
  {
   "cell_type": "code",
   "execution_count": null,
   "id": "85431998",
   "metadata": {},
   "outputs": [],
   "source": [
    "figure <- ggplot(data = fake_data, # referencing the data we chose\n",
    "                 aes(\n",
    "                     x = year,  # x-axis is year\n",
    "                     y = log_earnings # y-axis is avg logearnings\n",
    "                 ))"
   ]
  },
  {
   "cell_type": "markdown",
   "id": "a6bf12ac",
   "metadata": {},
   "source": [
    "We have used the data layer and the mapping layer (as part of the aesthetics). However, we need a little bit more to be able to create a visualization. We require some geometry, the elemental part of any graph!\n",
    "\n",
    "R can use different geometries. Since the scatterplot is made of points, we apply the `geom_point` function."
   ]
  },
  {
   "cell_type": "code",
   "execution_count": null,
   "id": "0c2df87d",
   "metadata": {},
   "outputs": [],
   "source": [
    "# This graph will take a while to compile\n",
    "figure + geom_point()"
   ]
  },
  {
   "cell_type": "markdown",
   "id": "17ce2f72",
   "metadata": {},
   "source": [
    "This graph looks very messy! This is because we have plotted every observation, meaning there are 2 million dots in the graph. This makes it very difficult for us to observe any type of relationship. In fact this graph makes it look like wages doesn't change across time at all. \n",
    "\n",
    "A very useful tool when creating graphs is to filter out some parts of our data for ease of visualization. We can do that using the `filter` function.\n",
    "Usually, we are interested in seeing how the *average* earning changes over time. The graph above is very messy and does not allow us to see what the average earning is."
   ]
  },
  {
   "cell_type": "code",
   "execution_count": null,
   "id": "604e0348",
   "metadata": {},
   "outputs": [],
   "source": [
    "# Create a dataframe with the average wage by year\n",
    "figure1_data <- fake_data %>%\n",
    "                group_by(year) %>%\n",
    "                summarise(mean_earnings = mean(log_earnings))\n",
    "\n",
    "# Specify the setting in ggplot\n",
    "figure1 <- ggplot(data = figure1_data, # referencing the data we want to use\n",
    "                 aes(\n",
    "                     x = year,  # x is year\n",
    "                     y = mean_earnings # our y is avg logearnings\n",
    "                 ))\n",
    "\n",
    "# Add the points for the scatterplot\n",
    "figure1 <- figure1 + geom_point()\n",
    "\n",
    "# Show the graph\n",
    "figure1"
   ]
  },
  {
   "cell_type": "markdown",
   "id": "d0d3f4a3",
   "metadata": {},
   "source": [
    "Now our graph is looking better! You can play around with different options that can be found in the [documentation](https://ggplot2.tidyverse.org/reference/). For instance, one can include labels and a theme:"
   ]
  },
  {
   "cell_type": "code",
   "execution_count": null,
   "id": "3f3e4134",
   "metadata": {},
   "outputs": [],
   "source": [
    "figure1 = figure1 + geom_point() + labs(x = \"Years\",\n",
    "                        y = \"Average Log-Earnings\",\n",
    "                        title = \"Earnings Trends\") +\n",
    "                        theme(\n",
    "                            text = element_text(\n",
    "                                size = 20)) # increases text size: try playing around with this number!\n",
    "figure1"
   ]
  },
  {
   "cell_type": "markdown",
   "id": "795433ec",
   "metadata": {
    "tags": []
   },
   "source": [
    "#### 8.2.2 Line plots \n",
    "Line plots visualize trends with respect to an independent, ordered quantity (e.g., time). This plot works well when one of our variables is ordinal (time-like) or when we want to display multiple series on a common timeline.\n",
    "\n",
    "Line plots can be generated using `geom_line()`. Below we also introduce something new, we have added options to the graph that change labels (`labs`). We add a label to the x-axis (`x=\"Year\"`) and a label to the y-axis (`y=\"Log-earnings\"`)."
   ]
  },
  {
   "cell_type": "code",
   "execution_count": null,
   "id": "6083ecef-6956-4431-b6bc-12cf9e1c2f1c",
   "metadata": {},
   "outputs": [],
   "source": [
    "# Specify data and axes\n",
    "figure2 <- ggplot(data = figure1_data, # referencing the data we want to use\n",
    "                 aes(\n",
    "                     x = year,  # x is year\n",
    "                     y = mean_earnings # our y is avg logearnings\n",
    "                 ))\n",
    "\n",
    "# Tell R the graph will be a line graph\n",
    "figure2 <- figure2 + geom_line() \n",
    "\n",
    "# Add labels\n",
    "figure2 <- figure2 + labs(x = \"Year\", y = \"Log-earnings\")\n",
    "figure2"
   ]
  },
  {
   "cell_type": "markdown",
   "id": "9511e5c5-4f0a-484d-a8fb-120eaea17fb9",
   "metadata": {},
   "source": [
    "Suppose we want to look at how average earnings change over time for treated and untreated individuals.\n",
    "We can create a graph that separates the two groups in two different lines. We do so by specifying a categorical variable for the argument `group` in the `aes` input of `ggplot`.\n",
    "Notice that we create a character variable in our data, called *treatment*, that takes two values: 'Treated' and 'Untreated'. We further specify to R that each value of variable *treatment* should have a different color: we do so with the option `color=treatment`.\n",
    "We could have used directly our variable *treated*, but R would interpret that variable as taking any value within a range rather than a variable taking only two values."
   ]
  },
  {
   "cell_type": "code",
   "execution_count": null,
   "id": "8a5fcc93-9c00-4e64-ad4b-7ca9d6ff116e",
   "metadata": {},
   "outputs": [],
   "source": [
    "# Create the data\n",
    "figure3_data <- fake_data %>%\n",
    "               group_by(year, treated) %>%\n",
    "               summarise(mean_earnings = mean(log_earnings)) %>%\n",
    "               mutate(treatment = case_when(treated == 1 ~ 'Treated', treated == 0 ~ 'Untreated'))\n",
    "\n",
    "# Specify data and axis\n",
    "figure3 <- ggplot(data = figure3_data, # referencing the data we want to use\n",
    "                 aes(\n",
    "                     x = year,  # x is year\n",
    "                     y = mean_earnings, # our y is avg logearnings\n",
    "                     group=treatment, # each line is data for one value of treatment\n",
    "                     color=treatment # each value of treatment as one color\n",
    "                 ))\n",
    "\n",
    "# Tell R the graph will be a line graph\n",
    "figure3 <- figure3 + geom_line() \n",
    "\n",
    "# Add labels\n",
    "figure3 <- figure3 + labs(x = \"Year\", y = \"Log-earnings\")\n",
    "figure3"
   ]
  },
  {
   "cell_type": "markdown",
   "id": "2e0c957c",
   "metadata": {
    "tags": []
   },
   "source": [
    "#### 8.2.3 Histogram plots \n",
    "\n",
    "Histograms visualize the distribution of one quantitative variable. This plot works well when we are working with a discrete variable and are interested in visualizing all its possible values and how often they occur.\n",
    "\n",
    "Let's say we want to see the distribution of the age of workers. Once again, we specify the data as one of the inputs of `ggplot`. This time we need to specify only the x-axis (which is variable *age*), as the y-axis will be given by the count of workers with that age.\n",
    "In this example, we want to use histogram as a geometry, therefore we use the function `geom_histogram`."
   ]
  },
  {
   "cell_type": "code",
   "execution_count": null,
   "id": "648ce5b1",
   "metadata": {},
   "outputs": [],
   "source": [
    "# Specify data and axes in ggplot\n",
    "figure3 <- ggplot(data = fake_data, # referencing the data we chose\n",
    "                 aes(x = age))      # specify axis\n",
    "\n",
    "# Add histogram type\n",
    "figure3 <- figure3 + geom_histogram()\n",
    "\n",
    "# Show figure\n",
    "figure3 "
   ]
  },
  {
   "cell_type": "markdown",
   "id": "4c2f476d-9ef8-4bed-b2b6-66be637cd670",
   "metadata": {},
   "source": [
    "We can change the width of each bin with the option `binwidth` in function `geom_histogram`. Below we show two examples, one where each bin has width of 1 year, and another where each bin has width of 5 years."
   ]
  },
  {
   "cell_type": "code",
   "execution_count": null,
   "id": "bec93cb4-e0cb-4eda-a6d1-89c55ebeda85",
   "metadata": {},
   "outputs": [],
   "source": [
    "# Specify data and axes in ggplot\n",
    "figure3 <- ggplot(data = fake_data, # referencing the data we chose\n",
    "                 aes(x = age))      # specify axis\n",
    "\n",
    "# Add histogram type\n",
    "figure3 <- figure3 + geom_histogram(binwidth=1) # width of 1 year\n",
    "\n",
    "# Show figure\n",
    "figure3 "
   ]
  },
  {
   "cell_type": "code",
   "execution_count": null,
   "id": "0f9b51d4-9150-4550-aafa-dbc1e6d4afe4",
   "metadata": {},
   "outputs": [],
   "source": [
    "# Specify data and axes in ggplot\n",
    "figure3 <- ggplot(data = fake_data, # referencing the data we chose\n",
    "                 aes(x = age))      # specify axis\n",
    "\n",
    "# Add histogram type\n",
    "figure3 <- figure3 + geom_histogram(binwidth=5) # width of 5 years\n",
    "\n",
    "# Show figure\n",
    "figure3 "
   ]
  },
  {
   "cell_type": "markdown",
   "id": "a6c77b4f",
   "metadata": {
    "tags": []
   },
   "source": [
    "#### 8.2.4 Bar plots\n",
    "\n",
    "Bar plots visualize comparisons of amounts. They are useful when we are interested in comparing a few categories as parts of a whole or across time. *Bar plots should always start at 0. Starting bar plots at any number besides 0 is generally considered a misrepresentation of the data.*\n",
    "\n",
    "Let's say we want to plot average earnings by region. First, we need to create the appropriate data containing average earnings for each region and use it as input in `ggplot`. In the aesthetics set in the `aes` function, set the categoric variable for the x axis (in our case, *region*) and the numeric variable in the y axis (in our case, *meanearnings*).\n",
    "Finally, call the function for adding the bars: `geom_col`."
   ]
  },
  {
   "cell_type": "code",
   "execution_count": null,
   "id": "1505fd04",
   "metadata": {},
   "outputs": [],
   "source": [
    "# Create data for figure\n",
    "figure4_data <- fake_data %>% \n",
    "              group_by(region) %>% \n",
    "              summarise(meanearnings = mean(earnings))\n",
    "\n",
    "# Specify data and axes\n",
    "figure4 <- ggplot(data = figure4_data,  \n",
    "                aes(x = region,   \n",
    "                    y = meanearnings)) \n",
    "\n",
    "# Add bars\n",
    "figure4 <- figure4 + geom_col()\n",
    "\n",
    "# Show graph\n",
    "figure4"
   ]
  },
  {
   "cell_type": "markdown",
   "id": "42d2e72a-9af9-4597-91af-901abe1fbed2",
   "metadata": {},
   "source": [
    "We may prefer to turn our bar plot horizontally. In the example below we do that by adding the option `coord_flip`."
   ]
  },
  {
   "cell_type": "code",
   "execution_count": null,
   "id": "fb663399-d169-4fac-88b4-8e836b9678cc",
   "metadata": {},
   "outputs": [],
   "source": [
    "# Create data for figure\n",
    "figure4_data <- fake_data %>% \n",
    "              group_by(region) %>% \n",
    "              summarise(meanearnings = mean(earnings))\n",
    "\n",
    "# Specify data and axes\n",
    "figure4 <- ggplot(data = figure4_data,  \n",
    "                aes(x = region,   \n",
    "                    y = meanearnings)) \n",
    "\n",
    "# Add bars\n",
    "figure4 <- figure4 + geom_col()\n",
    "\n",
    "# Turn it horizontally\n",
    "figure4 <- figure4 + coord_flip()\n",
    "\n",
    "# Show graph\n",
    "figure4"
   ]
  },
  {
   "cell_type": "markdown",
   "id": "2f8f6a54-af0b-490d-a04a-c72946109e54",
   "metadata": {
    "tags": []
   },
   "source": [
    "## 8.3 Exporting\n",
    "\n",
    "Once we've decided that our graph can successfully answer our economic question, we can export it from Jupyter. Once again, the ggplot package comes to our rescue with the `ggsave` command, which allows us to save a visualization using the following key arguments: `(\"file_name.file_format\", my_plot, width = #, height = #)`.\n",
    "\n",
    "The first part of the argument, \"file_name.file_format\" is where we give our graphic a descriptive name and specify which file format we want our graphic to be saved in the Jupyter workspace. If we are saving to a specific folder, we can add this before the file name with a `/` in between to separate the two (example: `\"folder/file_name.file_format\"`). The format we choose may depend on the context we plan to use the visualization in. Images are typically stored in either raster or vector formats. \n",
    "\n",
    "Raster images are represented as a 2-D grid of square pixels, each with its own color. Raster images are often compressed before being stored so they take up less space. A compressed format is \"lossy\" if the image cannot be perfectly recreated when loading and displaying, with the hope that the change is not noticeable. \"Lossless\" formats, on the other hand, allow a perfect display of the original image.\n",
    "\n",
    "Common raster file types:\n",
    "\n",
    "* JPEG (.jpg, .jpeg): lossy, usually used for photographs\n",
    "* PNG (.png): lossless, usually used for plots/line drawings\n",
    "* BMP (.bmp): lossless, raw image data, no compression (rarely used)\n",
    "* TIFF (.tif, .tiff): typically lossless, no compression, used mostly in graphic arts, publishing\n",
    "* GIMP: open-source software\n",
    "\n",
    "Vector images are represented as a collection of mathematical objects (lines, surfaces, shapes, curves). When the computer displays the image, it redraws all of the elements using their mathematical formulas.\n",
    "\n",
    "Common vector file types:\n",
    "\n",
    "* SVG (.svg): general-purpose use\n",
    "* EPS (.eps): general-purpose use (rarely used)\n",
    "* Inkscape: open-source software\n",
    "\n",
    "Raster and vector images have advantages and disadvantages. A raster image of a fixed width and height takes the same amount of space and time to load regardless of what the image shows (the one caveat is that the compression algorithms may shrink the image more or run faster for certain images). A vector image takes space and time to load depending on how complex the image is, since the computer has to draw all the elements each time it is displayed. For example, if we have a scatter plot with 1 million points stored as an SVG file, it may take our computer some time to open the image. On the upside, with vector graphics we can zoom into/scale up the image as much as we like without it looking bad, while raster images eventually start to look “pixelated\".\n",
    "\n",
    "The second part of the argument, `my_plot`, specifies which plot in our analysis we'd like to export. The last key part of the argument, `width =` and `height =` specifies the dimensions of our image. Because we've tinkered with the graph output size using options (`repr.plot.width = 15, repr.plot.height = 9`) above in our code, we'll want to use these dimensions as we export to ensure that our visualization isn't cut off by R's default saving dimensions.\n",
    "\n",
    "For instance, we may save our very first graph as follows:"
   ]
  },
  {
   "cell_type": "code",
   "execution_count": null,
   "id": "82868cbc-b632-4df0-ba0e-0a16af00d3dd",
   "metadata": {},
   "outputs": [],
   "source": [
    "# Create a dataframe with the average wage by year\n",
    "figure1_data <- fake_data %>%\n",
    "                group_by(year) %>%\n",
    "                summarise(mean_earnings = mean(log_earnings))\n",
    "\n",
    "# Specify the setting in ggplot\n",
    "figure1 <- ggplot(data = figure1_data, # referencing the data we want to use\n",
    "                 aes(\n",
    "                     x = year,  # x is year\n",
    "                     y = mean_earnings # our y is avg logearnings\n",
    "                 ))\n",
    "\n",
    "# Add the points for the scatterplot\n",
    "figure1 <- figure1 + geom_point()\n",
    "\n",
    "# Save the graph (uncomment me!)\n",
    "#ggsave(\"earnings_trends.png\", figure, width = 15, height = 9) "
   ]
  },
  {
   "cell_type": "markdown",
   "id": "88608984-6abf-4d89-a070-57899112565e",
   "metadata": {},
   "source": [
    "Did you see the file 'earnings_trends.png' appear in your directory? Now try saving the same graph as a .svg in the code cell below."
   ]
  },
  {
   "cell_type": "code",
   "execution_count": null,
   "id": "324eecc3-ebe2-4c86-89ec-ffdbd7a2a83f",
   "metadata": {},
   "outputs": [],
   "source": [
    "#ggsave(\"earnings_trends .....\", figure, width = 15, height = 9) "
   ]
  },
  {
   "cell_type": "markdown",
   "id": "67428561-83e1-4ca5-8465-47f8e7fe6d9d",
   "metadata": {
    "tags": []
   },
   "source": [
    "## 8.4 Fine-tuning a graph further\n",
    "We have already seen this in part in our examples above. We can customize a graph in many ways. We can include and adjust the following:\n",
    "* title\n",
    "* axis titles\n",
    "* legend\n",
    "* axis\n",
    "* scale\n",
    "* labels\n",
    "* theme (color, appearance)\n",
    "* add extra lines or text\n",
    "\n",
    "We will try to cover most of them in the example below. Let's go back to our easy scatterplot displaying the average earnings by year.\n",
    "Any change we may want to make to the geometry (in our case, to the points of the scatterplot) should be specified as options inside the function `geom_point`. By default, R uses a full circle as shape of the scatterplot. We can modify that to be a full triangle with the option `shape=24`. We can increase the size of the triangles to be three times as big as the default with the option `size=3`. In terms of colors, it is possible to call a color by its name in R. R stores 657 colors. You can find the full list by typing `colors()` or you can access it at [this link](https://r-graph-gallery.com/42-colors-names.html). If the color you desire is not available, you can input its RGB or HEX code. We can modify both the color of the border and the color of the filling. We can set the border to dark green with `color=\"darkgreen\"` and the filling to yellow using its corresponding HEX code with `fill=\"#f0e442\"`. When choosing colors, be mindful of colorblindness. You can learn more about accessible color combinations in [this website](https://davidmathlogic.com/colorblind/#%23D81B60-%231E88E5-%23FFC107-%23004D40).\n",
    "\n",
    "Since modifications to axes and titles concern the whole graph, they are added as an additional option to the object *figure1*. In the example below, we add labels and a title as inputs of the option `labs`.\n",
    "We can increase the size of axis title with the argument `axis.title=element_text(size=16)` and the size of the graph title with the argument  `plot.title=element_text(size=20)`, both in function `theme`. We can write the title in bold by adding the option `face=\"bold\"`."
   ]
  },
  {
   "cell_type": "code",
   "execution_count": null,
   "id": "f53aa780-99da-4aa9-b0e0-30f1f10b42b9",
   "metadata": {},
   "outputs": [],
   "source": [
    "# Create a dataframe with the average wage by year\n",
    "figure1_data <- fake_data %>%\n",
    "                group_by(year) %>%\n",
    "                summarise(mean_earnings = mean(log_earnings))\n",
    "\n",
    "# Specify the setting in ggplot\n",
    "figure1 <- ggplot(data = figure1_data, # referencing the data we want to use\n",
    "                 aes(\n",
    "                     x = year,  # x is year\n",
    "                     y = mean_earnings # our y is avg logearnings\n",
    "                 ))\n",
    "\n",
    "# Add the points for the scatterplot\n",
    "figure1 <- figure1 + geom_point(shape=24, size=3, color=\"darkgreen\", fill=\"#f0e442\")\n",
    "\n",
    "# Add labels and title\n",
    "figure1 <- figure1 + labs(x = \"Year\", y = \"Average log-earnings\", title = \"Earnings Trends\")\n",
    "\n",
    "# Increase font size of labels and title\n",
    "figure1 <- figure1 + theme(axis.title=element_text(size=16), plot.title=element_text(size=20, face=\"bold\"))\n",
    "\n",
    "# Show the figure\n",
    "figure1"
   ]
  },
  {
   "cell_type": "markdown",
   "id": "266f15d6-cbb9-4984-87e2-345afc41f372",
   "metadata": {},
   "source": [
    "## 8.5 Wrap Up\n",
    "\n",
    "We have learned in this module how to create different types of graphs using the command `ggplot()` and how to adjust them with the multiple options this command has. However, the most valuable lesson form this module is understanding when to use a specific type of graph. Graphs are only able to illustrate a story if we use them wisely and with strategically chosen options. Remember to check the R documentation when creating graphs. It may become your best friend. A wide range of graphs, with example code, can be found in [The R Graph Gallery website](https://r-graph-gallery.com/index.html). The geometries we have seen in this module are summarized below.\n",
    "\n",
    "|Command| Function|\n",
    "|--------|------------|\n",
    "|`geom_point` | It creates a scatterplot.|\n",
    "|`geom_line` | It creates a line plot. |\n",
    "|`geom_hist` | It creates a histogram.|\n",
    "|`geom_col` | It creates a bar plot. |"
   ]
  },
  {
   "cell_type": "markdown",
   "id": "ee97ccce-8c6e-4553-8951-a7c1077c3451",
   "metadata": {
    "tags": []
   },
   "source": [
    "## 8.6 Advanced: maps\n",
    "R has the best packages to easily create really complex maps. Maps can be an incredibly valuable part of a research project. With them, we can demonstrate geographical, social, and political features of a particular place. For example, we can show elevation and temperature changes of a country. We can also show how population density or income changes throughout a region. During the 2020 USA presidential campaign, CNN showed a map of the United States divided by counties colored red, blue or white depending on what party the majority of the county voted for. That same map can be created using some very simple commands in R!"
   ]
  },
  {
   "cell_type": "markdown",
   "id": "fe965551-ac3f-46a8-b348-17da25dc15fe",
   "metadata": {},
   "source": [
    "Let's start by creating a world map. We can use the data set \"world\", since it is provided within one of the packages we installed earlier. It includes the coordinates and names of all countries. We can also map a particular country or region with the command `filter`. To make the filling color a little bit transparent, we use the option `alpha`: `alpha=1` means that the color is not transparent at all, while `alpha=0` means that it is fully transparent."
   ]
  },
  {
   "cell_type": "code",
   "execution_count": null,
   "id": "9c50a329-5c73-4876-a1cb-c5a7d1591c0b",
   "metadata": {},
   "outputs": [],
   "source": [
    "# Map of the world\n",
    "World <- map_data(\"world\")\n",
    "         ggplot() +\n",
    "         geom_polygon(data = World, aes(x=long, y = lat, group = group), fill=\"deepskyblue\", alpha=0.5)"
   ]
  },
  {
   "cell_type": "code",
   "execution_count": null,
   "id": "fe026dcc-1916-4254-95ab-0e601c3796de",
   "metadata": {},
   "outputs": [],
   "source": [
    "# Map of Peru\n",
    "Peru <- map_data(\"world\") %>% filter(region==\"Peru\") # filtering the data to only use Peru \n",
    "  ggplot() +\n",
    "  geom_polygon(data = Peru, aes(x=long, y = lat, group = group), fill=\"red\", alpha=0.6) +\n",
    "  coord_fixed(1)   # setting the transparency of the chart with alpha"
   ]
  },
  {
   "cell_type": "markdown",
   "id": "ec51e547-a2d6-4220-96e9-8fe968d3b59b",
   "metadata": {},
   "source": [
    "Let us continue using the Peru example. Imagine we wanted to show the population of the 10 largest cities in Peru. Below we create a dataframe containing information on coordinates, name, and population of the 10 largest cities in Peru."
   ]
  },
  {
   "cell_type": "code",
   "execution_count": null,
   "id": "37c39d8b-6ea6-418b-a4fe-64ab40e52142",
   "metadata": {},
   "outputs": [],
   "source": [
    "# Set a vector of names\n",
    "city <- c(\"Lima\", \"Arequipa\", \"Trujillo\",  \"Chiclayo\", \"Piura\", \"Chimbote\", \"Huancayo\", \"Cuzco\", \"Iquitos\", \"Pucallpa\")\n",
    "\n",
    "# Create two vectors of coordinates\n",
    "lat <- c(-12.0464, -16.4090, -8.1060, -6.7701, -5.1783, -9.0633, -12.0686, -13.5320, -3.7437, -8.3929)\n",
    "long <- c(-77.0428, -71.5375, -79.0330, -79.8550, -80.6549, -78.5890, -75.2103, -71.9675, -73.2516, -74.5826)\n",
    "\n",
    "# Add a vector of population\n",
    "population <- c(9751717, 1008290, 891000, 552508, 484475, 371012, 456250, 428450, 483870, 326040)\n",
    "\n",
    "# Create and show the dataframe\n",
    "data <- data.frame(city, lat, long, population)\n",
    "data"
   ]
  },
  {
   "cell_type": "markdown",
   "id": "3a5d39c9-4b63-4f49-a0ea-ecd52cc0a6ab",
   "metadata": {},
   "source": [
    "Now we are ready to display this information in a map. We show Peruvian land using `geom_polygon` and a point for each Peruvian city with `geom_point`. The size of each point will be proportional to the population of that city. To do so, we add the option `size=population`. We set the size of the city points to range between 8 and 13 with the option `scale_size_continuous(range=c(8, 13))`.\n",
    "\n",
    "We add a text to each point with `geom_text`. This text will show the name of the city (`data$city`), followed by a column and the size of the city with a comma separator (`as.character(format(data$population, big.mark=\",\"))`).\n",
    "Finally, we suppress the legen with `theme(legend.position = 'none')`."
   ]
  },
  {
   "cell_type": "code",
   "execution_count": null,
   "id": "fc377fe7-e488-497d-9422-87e79602c7a0",
   "metadata": {},
   "outputs": [],
   "source": [
    "Peru <- map_data(\"world\") %>% filter(region==\"Peru\") \n",
    "      ggplot() +\n",
    "      geom_polygon(data = Peru, aes(x=long, y = lat, group = group), fill=\"deepskyblue\", alpha=0.7) + \n",
    "      geom_point(data=data, aes(x=long, y=lat, size=population,),  color=\"mediumblue\",  alpha=0.6)+ # ddding the points showing population size \n",
    "      scale_size_continuous(range=c(8, 13)) + # choosing the size range of the population points \n",
    "      geom_text(data = data, label=paste0(data$city, \":\", as.character(format(data$population, big.mark=\",\"))), aes(x=long, y=lat), hjust=0.5, vjust=-2.7, fontface='bold', size=3) +\n",
    "      theme(legend.position = 'none')+ # no legend\n",
    "      ggtitle(\"The biggest cities in Peru by population of urban unit\") + \n",
    "      theme(plot.title = element_text(lineheight=1, face=\"bold\")) # creating the title of the map "
   ]
  },
  {
   "cell_type": "markdown",
   "id": "81ae217e-7e72-422c-9c4b-d198e8ceeb86",
   "metadata": {},
   "source": [
    "## References\n",
    "\n",
    "- [The details of ggplot](https://www.youtube.com/watch?v=h29g21z0a68)"
   ]
  }
 ],
 "metadata": {
  "kernelspec": {
   "display_name": "R",
   "language": "R",
   "name": "ir"
  },
  "language_info": {
   "codemirror_mode": "r",
   "file_extension": ".r",
   "mimetype": "text/x-r-source",
   "name": "R",
   "pygments_lexer": "r",
   "version": "4.2.3"
  }
 },
 "nbformat": 4,
 "nbformat_minor": 5
}
