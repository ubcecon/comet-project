{
 "cells": [
  {
   "cell_type": "markdown",
   "id": "ce4a6b9b",
   "metadata": {},
   "source": [
    "# ECON 490: Working with R Scripts (2)\n",
    "\n",
    "## Prerequisites \n",
    "\n",
    "1. Connect to a Jupyter Lab session using R.\n",
    "\n",
    "## Learning Outcomes\n",
    "\n",
    "1. Be able to effectively use R script files."
   ]
  },
  {
   "cell_type": "markdown",
   "id": "500b836d",
   "metadata": {},
   "source": [
    "## 2.1 Opening R Scripts from R Interface\n",
    "\n",
    "If you choose to work with R, it is very advisable to install RStudio [here](https://www.rstudio.com/). RStudio provides a nice interface to work with R code. Whenever we work with R or any other programming language, it is very important that we make our code replicable. For instance, we may be working on a graph and realize that it is not looking the way we intended it to look. Without a list of the commands we previously used, it may take a long time to re-do said graph with the proper corrections. \n",
    "\n",
    "R provides a way to save code notebooks, also known as R-scripts, where we can keep all the code we ran in a particular instance. To open the Do-file Editor from our R session, we use the shortcut `Ctrl(Command)+9` or click at this part of the R Interface\n",
    "\n",
    "![](img/Rstudio.png)\n",
    "\n",
    "You should now observe a new window in your computer that looks like this:\n",
    "\n",
    "![](img/rscript.png)\n",
    "\n",
    "To run a highlighted part of code, you can use `Ctrl(Command)+Enter`. \n",
    "\n",
    "<div class=\"alert alert-info\">\n",
    "\n",
    "**Note:** The Jupyter cells in the following lectures will work as an R script proxy, but whenever you run R non-interactively it is very important to keep track of any changes you make in an R script.\n",
    "\n",
    "</div>"
   ]
  },
  {
   "cell_type": "markdown",
   "id": "7abad6ce",
   "metadata": {},
   "source": [
    "## 2.2 Writing Comments in our Code\n",
    "\n",
    "Writing comments for different parts of our code is a very good practice. It allows us to revisit code we wrote in the past and understand what we did. R allows for three different types of comments in our do-files. \n",
    "\n",
    "- The first type of comment uses the hashtag `#` like below."
   ]
  },
  {
   "cell_type": "code",
   "execution_count": null,
   "id": "950a1f95",
   "metadata": {},
   "outputs": [],
   "source": [
    "# This is an R comment: nothing is gonna happen"
   ]
  },
  {
   "cell_type": "markdown",
   "id": "eadd8845",
   "metadata": {},
   "source": [
    "Notice that we can put it next to any line of code and it will still recognize such part as a comment."
   ]
  },
  {
   "cell_type": "code",
   "execution_count": null,
   "id": "d8448442",
   "metadata": {},
   "outputs": [],
   "source": [
    "5 # This command is printing the number 5"
   ]
  },
  {
   "cell_type": "markdown",
   "id": "66f16a08",
   "metadata": {},
   "source": [
    "- Unline other programs such as Stata, R does not allow multi-line comments. We need to put a hashtag at the beginning of each comment line."
   ]
  },
  {
   "cell_type": "code",
   "execution_count": null,
   "id": "f0814e86",
   "metadata": {},
   "outputs": [],
   "source": [
    "#Multi-line comments only work...\n",
    "#this way!\n"
   ]
  },
  {
   "cell_type": "markdown",
   "id": "37fa0638",
   "metadata": {},
   "source": [
    "Notice that comments are highlighted with the colour <font color='green'>green</font>  within our R scripts. Whenever we see this color, we should automatically recognize that part of the cell as being a comment made by the author. Similarly, we can see that some parts of a cell are highlighted <font color='blue'>blue</font>. Whenever we see this colour, we should recognize that part of the cell as being a function or command.\n",
    "\n",
    "![](img/rcode.png)"
   ]
  },
  {
   "cell_type": "markdown",
   "id": "8b066f9e",
   "metadata": {},
   "source": [
    "## 2.3 Delimiters \n",
    "\n",
    "R works with functions, and the ending of a particular function is what determines the delimitation to the next command instruction. For instance,"
   ]
  },
  {
   "cell_type": "code",
   "execution_count": null,
   "id": "5b879c69",
   "metadata": {},
   "outputs": [],
   "source": [
    "#Single line \n",
    "print(5) "
   ]
  },
  {
   "cell_type": "markdown",
   "id": "d158fae0",
   "metadata": {},
   "source": [
    "can work identically as"
   ]
  },
  {
   "cell_type": "code",
   "execution_count": null,
   "id": "2ef542a6",
   "metadata": {},
   "outputs": [],
   "source": [
    "#Multiple line\n",
    "print(\n",
    "5\n",
    ")"
   ]
  },
  {
   "cell_type": "markdown",
   "id": "632090bf",
   "metadata": {
    "jp-MarkdownHeadingCollapsed": true,
    "tags": []
   },
   "source": [
    "## 2.4 Clearing the R Session\n",
    "\n",
    "Whenever we begin working with a new R session, it is advisable to clean the memory for any pre-existing objects. In Stata, this is done by the `clear` command. In R, we need to provide the list of objects to be removed from memory. The best way to do this is to list everything that exists in memory:\n",
    "\n",
    "```R\n",
    "   rm(list=ls())\n",
    "```\n",
    "\n",
    "You should include this line at the beginning of any new R script you create."
   ]
  },
  {
   "cell_type": "markdown",
   "id": "96ce2078",
   "metadata": {},
   "source": [
    "## 2.5 Wrap Up\n",
    "\n",
    "When producing a research project, organization and attention to detail are critical skills to have. That is why you should always save your R scripts in an easy-to-reach folder as soon as you begin your work by clicking the save icon on the top right. It is good practice to also **save your R script each and every time you run the file**. Getting in the habit of doing this will save you many hours of redoing accidentally lost work when your file closes abruptly.\n",
    "\n",
    "<div class=\"alert alert-info\">\n",
    "\n",
    "**Note:** You can always show your R scripts to either your TA or instructor for feedback. With any practical assignments you complete in R more generally, it is good to submit corresponding R scripts alongside them.\n",
    "\n",
    "</div>"
   ]
  }
 ],
 "metadata": {
  "kernelspec": {
   "display_name": "R",
   "language": "R",
   "name": "ir"
  },
  "language_info": {
   "codemirror_mode": "r",
   "file_extension": ".r",
   "mimetype": "text/x-r-source",
   "name": "R",
   "pygments_lexer": "r",
   "version": "4.2.3"
  }
 },
 "nbformat": 4,
 "nbformat_minor": 5
}
