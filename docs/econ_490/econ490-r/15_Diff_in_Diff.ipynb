{
 "cells": [
  {
   "cell_type": "markdown",
   "id": "2872277b-bb0a-4943-8da9-94872099f9de",
   "metadata": {},
   "source": [
    "# ECON 490: Differences-in-Differences Analysis (15)\n",
    "\n",
    "## Prerequisites\n",
    "\n",
    "1. Run OLS regressions.\n",
    "2. Run panel data regressions.\n",
    "\n",
    "## Learning Outcomes\n",
    "\n",
    "1. Understand the parallel trends (PT) assumption.\n",
    "2. Run the according OLS regression that retrieves the causal estimand.\n",
    "3. Implement these regressions in the two-period case and in multiple time periods (a.k.a event studies).\n",
    "4. Conduct a test on the plausibility of the PT whenever there are more than 1 pre-treatment periods."
   ]
  },
  {
   "cell_type": "markdown",
   "id": "49f9ce6a-c630-4241-9135-77d3aedb7f73",
   "metadata": {},
   "source": [
    "For this module, we will keep working on our fake dataset. Recall that this data is simulating information of workers in the years 1982-2012 in a fake country where a training program was introduced in 2003 to boost their earnings.\n",
    "\n",
    "Let's start by loading our data and letting R know that it is a panel data with panel variable *workerid* and time variable *year*. You will remember that we have seen how to do this in the previous modules. "
   ]
  },
  {
   "cell_type": "markdown",
   "id": "5f6c3af4-5366-4517-9a49-de32e49f1f54",
   "metadata": {
    "tags": []
   },
   "source": [
    "## 15.1 Loading the *panel* data \n",
    "\n",
    "Difference-in-differences (Diff-in-Diff) is a **research design** used to estimate the causal impact of a treatment by comparing the changes in outcomes over time between a treated group and an untreated or control group. By comparing changes in outcomes over time, it relies on the use of multiple (at least two) time periods. Therefore, there is a link between Diff-in-Diff designs and panel data. Every time you want to use a Diff-in-Diff design, you always have to make sure you have panel data.\n",
    "\n",
    "Why are panel datasets crucial in Diff-in-Diff research designs? The idea is that panel data allows us to control for unobserved time invariant heterogeneity. \n",
    "Consider the following example. Earnings $y_{it}$ of worker $i$ at time $t$ can be split into two components:\n",
    "\n",
    "$$\n",
    "y_{it} = e_{it} + \\alpha_{i}\n",
    "$$\n",
    "\n",
    "where $\\alpha_i$ is a measure of worker quality and $e_{it}$ are the part of earnings not explained by $\\alpha_i$. This says that a bad quality worker (low $\\alpha_i$) will receive lower earnings *at any time period*. Notice that worker quality is typically unobserved and is usually part of our error term, which should not be correlated with treatment. In many cases, this invariant heterogeneity is the cause of endogeneity bias. In this example, it can be that workers who attend a training program also tend to be the ones that perform poorly at their job and *select* into this program. \n",
    "\n",
    "However, notice that if we take time differences, we get rid of this heterogeneity. Suppose we subtract earnings at time $1$ from earnings at time $0$ obtaining: \n",
    "\n",
    "$$\n",
    "y_{i1} - y_{i0} =   e_{i1} - e_{i0}\n",
    "$$\n",
    "\n",
    "where our new equation no longer depends on $\\alpha_i$! However, our model now has *changes* rather than levels. This is going to be the trick used implicitly throughout this module."
   ]
  },
  {
   "cell_type": "markdown",
   "id": "bdc9a0b9-2d07-4c2c-b1b4-ac695cb2e0a7",
   "metadata": {},
   "source": [
    "For this module, we will keep working on our fake dataset. Recall that this data is simulating information of workers in the years 1982-2012 in a fake country where a training program was introduced in 2003 to boost their earnings.\n",
    "\n",
    "Let's start by loading the packages we need."
   ]
  },
  {
   "cell_type": "code",
   "execution_count": null,
   "id": "980d5ea7-ffd9-40bb-9888-c9c4c9307b97",
   "metadata": {},
   "outputs": [],
   "source": [
    "# Load the plm library (for panel data)\n",
    "install.packages(\"plm\")\n",
    "library(plm)\n",
    "\n",
    "# Loading in our packages\n",
    "library(tidyverse)\n",
    "library(haven)"
   ]
  },
  {
   "cell_type": "markdown",
   "id": "16f76326-fd49-4c9b-912d-3a3a4797f7cb",
   "metadata": {},
   "source": [
    "The we import our data and let R know that it is a panel data with panel variable *workerid* and time variable *year*."
   ]
  },
  {
   "cell_type": "code",
   "execution_count": null,
   "id": "1f642bae-4bbb-46d5-a429-ea54fb8d90c5",
   "metadata": {},
   "outputs": [],
   "source": [
    "# Load data\n",
    "fake_data <- read_dta(\"../econ490-stata/fake_data.dta\") \n",
    "\n",
    "# Set as panel\n",
    "panel_data <- pdata.frame(fake_data, index = c(\"workerid\",\"year\"))"
   ]
  },
  {
   "cell_type": "markdown",
   "id": "f2ce4a2b-7d16-4e64-9b49-74b9e1f62159",
   "metadata": {
    "tags": []
   },
   "source": [
    "## 15.2 Parallel trends assumption\n",
    "\n",
    "When using a Diff-in-Diff design, you should always make sure that your data has a binary treatment variable which takes value 1 when your unit of observation is treated and 0 otherwise. In the example above, let's denote such a binary treatment variable as $D_i$. It takes value 1 if a worker $i$ is enrolled in the training program at some point in time.\n",
    "\n",
    "In our fake dataset, the binary treatment variable already exists and is called *treated*. Let's check that it takes values 0 or 1."
   ]
  },
  {
   "cell_type": "code",
   "execution_count": null,
   "id": "2e3be425-fdbe-4acd-8c3e-027e340a5eee",
   "metadata": {},
   "outputs": [],
   "source": [
    "summary(panel_data$treated)"
   ]
  },
  {
   "cell_type": "markdown",
   "id": "16cce870-532a-4753-b3e5-090d2677ae91",
   "metadata": {},
   "source": [
    "The aim of Diff-in-Diff analysis is to estimate the causal impact of a treatment by comparing the changes in outcomes over time between a treated group and an untreated or control group.\n",
    "A crucial assumption needed to claim causal impact is that, *in the absence of treatment*, the treatment and control groups would follow similar trends over time. This assumption is called **parallel trends assumption**. Whenever we adopt a Diff-in-Diff design in our research, the first thing we need to check is that this assumption is satisfied.\n",
    "How do we do that?\n",
    "\n",
    "A common approach to check that for parallel trends is to plot the mean outcome for each group (the treated and untreated group) over time.\n",
    "We start by generating the average log-earnings for each group in each year."
   ]
  },
  {
   "cell_type": "code",
   "execution_count": null,
   "id": "9905d07a-91cc-4dba-9764-2a93b12a3595",
   "metadata": {},
   "outputs": [],
   "source": [
    "# Generate log-earnings\n",
    "panel_data <- panel_data %>% mutate(logearn = log(earnings))\n",
    "\n",
    "# Generate average by group and year\n",
    " mean_earn <- panel_data %>% \n",
    "            group_by(treated, year) %>% \n",
    "            summarise(meanearnings = mean(logearn)) %>%\n",
    "            mutate(treatment = case_when(treated == 1 ~ 'Treated', treated == 0 ~ 'Untreated'))"
   ]
  },
  {
   "cell_type": "markdown",
   "id": "03d4a89f-2685-480d-bed5-e5d985b4caee",
   "metadata": {},
   "source": [
    "Next, we plot the trend of average earnings by each group. Remember that we have seen how to make graphs in [Module 8](econometrics/econ490-r/8_ggplot_graphs.ipynb).\n",
    "It is common practice to add a vertical line in the period just before the treatment is assigned. In our case, that would be year 2002. The idea is that the treated workers receive the treatment between years 2002 and 2003."
   ]
  },
  {
   "cell_type": "code",
   "execution_count": null,
   "id": "957fdcb2-21ba-4a3f-80af-a53931b0b7b1",
   "metadata": {},
   "outputs": [],
   "source": [
    "# Make graph\n",
    "ggplot(mean_earn, aes(x=year, y=meanearnings, group=treatment, color=treatment)) +\n",
    "  geom_line() +\n",
    "  geom_vline(xintercept = \"2002\", linetype = \"dashed\", color = \"red\") + # add vertical line in 2002\n",
    "  labs(x = \"Year\", y = \"Mean earnings\", color = \"Treatment\")"
   ]
  },
  {
   "cell_type": "markdown",
   "id": "210ae984-6c5d-4bee-b303-cbb6486af572",
   "metadata": {},
   "source": [
    "Remember that we care about the two variables having similar trends *before* the year of the treatment. By looking at the graph, it seems that the average earnings of the two groups had similar trends up until year 2002, just right before the treatment.\n",
    "This makes us confident that the parallel trends assumption is satisfied.\n",
    "\n",
    "This test for parallel trends assumption is very rudimentary, but perfectly fine for the early stage of our research project. In the next sections, we will see how to estimate the Diff-in-Diff design and there we will see a more formal test for parallel trends assumption."
   ]
  },
  {
   "cell_type": "markdown",
   "id": "6df1d989-2e6a-4e09-ad3a-a2113b63734b",
   "metadata": {
    "tags": []
   },
   "source": [
    "## 15.3 Difference-in-Differences and Regression\n",
    "\n",
    "Whenever we talk about difference-in-differences, we refer to a research design that relies on some version of the parallel trend assumption. To connect this design to regression, we need to first build a model. To begin, we will assume a case where no control variables are involved. \n",
    "\n",
    "For simplicity, suppose there are only two periods: a period $t=0$ when no-one is treated, and a period $t=1$ when some workers receive the treatment.\n",
    "We would then rely on a linear model of the form: \n",
    "\n",
    "$$\n",
    "y_{it} = \\beta D_i \\mathbf{1}\\{t=1\\}  +  \\lambda_t + \\alpha_i + e_{it} \\tag{1}\n",
    "$$ \n",
    "\n",
    "where $y_{it}$ is earnings while $\\lambda_t$ and $\\alpha_i$ are year and worker fixed effects.\n",
    "The key element in this linear model is the interaction between $D_i$ and $\\mathbf{1}\\{t=1\\}$.\n",
    "Recall that $D_i$ is a dummy variable taking value 1 if worker $i$ receives the treatment at any point in time and $\\mathbf{1}\\{t=1\\}$ is a dummy variable taking value 1 when $t=1$.\n",
    "Therefore, the interaction term $D_i \\mathbf{1}\\{t=1\\}$ will take value 1 for treated workers only when the year is $t=1$.\n",
    "The parameter $\\beta$ provides the average treatment effect (on the treated) at period $t=1$ (i.e. the effect activates for those with $D_i=1$ and at $t=1$). It is the average impact of the treatment on those workers who actually received the treatment. $\\beta$ states by how much the average earnings of treated individuals would have changed if they had not received the treatment."
   ]
  },
  {
   "cell_type": "markdown",
   "id": "ad9a996b-d048-48a7-a4f2-6a4e11f8fcab",
   "metadata": {
    "tags": []
   },
   "source": [
    "Let's see how we can estimate this Diff-in-Diff linear model.\n",
    "Recall that we have information of workers in the years 1982-2012 and the training program (the treatment) as introduced in 2003. We'll keep one year prior and one year after the program, to keep things consistent with the previous section. Specifically, we can think of year 2002 as $t=0$ and year 2003 as $t=1$."
   ]
  },
  {
   "cell_type": "code",
   "execution_count": null,
   "id": "6f91ea52",
   "metadata": {},
   "outputs": [],
   "source": [
    "# Keep only years 2002 and 2003\n",
    "panel_data <- panel_data[panel_data$year %in% c(\"2002\", \"2003\"),]"
   ]
  },
  {
   "cell_type": "markdown",
   "id": "7490434a-8941-40ae-8c4a-986c07d69911",
   "metadata": {},
   "source": [
    "Next, we create a dummy variable called *time* that takes value 1 when year is 2003 and 0 otherwise. It will be the equivalent of $\\mathbf{1}\\{t=1\\}$ from Equation (1)."
   ]
  },
  {
   "cell_type": "code",
   "execution_count": null,
   "id": "7213cbe6-03ce-47ff-a473-5fe436ef63db",
   "metadata": {},
   "outputs": [],
   "source": [
    "# Create dummy variable\n",
    "panel_data <- panel_data %>%\n",
    "            mutate(time = ifelse(panel_data$year == \"2003\", 1, 0))"
   ]
  },
  {
   "cell_type": "markdown",
   "id": "7c6df5b7-4fc3-43de-b97e-5befb72e49be",
   "metadata": {},
   "source": [
    "Notice that the Diff-in-Diff linear model in Equation (1) can be seen as a specific case of a linear model with many fixed effects using a panel data. We can still use the `plm()` function that we have studied in the panel data module. Remember to add the option `effect = \"twoways\"` to tell R to add both time and worker Fixed Effects to the specification."
   ]
  },
  {
   "cell_type": "code",
   "execution_count": null,
   "id": "c20d4480",
   "metadata": {},
   "outputs": [],
   "source": [
    "did_model <- plm(logearn ~ treated * time, data = panel_data, index=c(\"workerid\", \"year\"), model = \"within\", effect = \"twoways\")\n",
    "summary(did_model)"
   ]
  },
  {
   "cell_type": "markdown",
   "id": "7ed6eb4f-0f5d-423c-8625-202aca0470a4",
   "metadata": {},
   "source": [
    "Our coefficient of interest is *treated:time*. This says that *on average* workers who entered the program received 18 percentage points more earnings relative to a counterfactual scenario where they never entered the program (which in this case is captured by the control units). How did we get this interpretation? Recall that OLS estimates are interpreted as a 1 unit increase in the independent variable: a 1 unit increase of $ D_i \\mathbf{1}\\{t=1\\}$ corresponds to those who started receiving treatment at $t=1$. Furthermore, the dependent variable is in log scale, so a 0.18 increase corresponds to a 18 percentage point increase in earnings. "
   ]
  },
  {
   "cell_type": "markdown",
   "id": "ad519885-da51-429d-b362-0668b256cc75",
   "metadata": {
    "jp-MarkdownHeadingCollapsed": true,
    "tags": []
   },
   "source": [
    "### 15.3.1  Adding covariates \n",
    "\n",
    "The first thing to notice is that our regression specification in Equation (1) involves workers fixed effects $\\alpha_i$. This means that every worker characteristic that is fixed over time (for example, sex at birth) will be absorbed by the fixed effects $\\alpha_i$. Therefore, if we added characteristics such as sex and race, those will be omitted from the regression due to perfect collinearity. \n",
    "\n",
    "This means that we can add covariates to the extent that they are time varying by nature (e.g. tenure, experience) or are trends based on fixed characteristics (e.g. time dummies interacted with sex). We refer to the latter as covariate-specific trends. \n",
    "\n",
    "Algebraically, we obtain a specification that is very similar to Equation (1):\n",
    "$$\n",
    "y_{it} = \\beta D_i \\mathbf{1}\\{t=1\\}  + \\gamma X_{it} +  \\lambda_t + \\alpha_i + e_{it} \\tag{2}\n",
    "$$ \n",
    "\n",
    "where $X_{it}$ is a time varying characteristic of worker $i$ and time $t$."
   ]
  },
  {
   "cell_type": "markdown",
   "id": "d3a02a1f-02a3-4388-8782-e53bbec635ba",
   "metadata": {
    "tags": []
   },
   "source": [
    "## 15.4 Multiple Time Periods\n",
    "\n",
    "When we have kept only years 2002 and 2003, we have canceled substantial information. We may want to keep our dataset at its original state, with all its years.\n",
    "A very natural approach to extending this to multiple time periods is to attempt to get the average effect across all post-treatment time periods (i.e. maybe the effects of the training program decay over time, but we are interested in the average over time). We may think of maintaining the parallel trends assumption in a model like this: \n",
    "\n",
    "$$\n",
    "y_{it} = \\beta D_i \\mathbf{1}\\{t\\geq 1\\}  + \\lambda_t + \\alpha_i + e_{it} \\tag{3}\n",
    "$$ \n",
    "\n",
    "where the $\\beta$ corresponds now to all time periods following the year in which treatment was applied: $t\\geq 1$. Some people rename $ D_i \\mathbf{1}\\{t\\geq 1\\}$ to $D_{it}$, where $D_{it}$ is simply a variable that takes 0 before any treatment and 1 for those who are being treated at that particular time $t$. This is known as the *Two-way Fixed Effects Model* . It receives this name because we are including unit fixed effects, time fixed effects, and our treatment status. "
   ]
  },
  {
   "cell_type": "markdown",
   "id": "f1e2e2fa-ea6b-4c5a-9f50-c00b1ee08b10",
   "metadata": {},
   "source": [
    "Let's load our fake dataset again and estimate a Two-way Fixed Effects Model step-by-step."
   ]
  },
  {
   "cell_type": "code",
   "execution_count": null,
   "id": "0ad40e29",
   "metadata": {},
   "outputs": [],
   "source": [
    "# Load data\n",
    "fake_data <- read_dta(\"../econ490-stata/fake_data.dta\") \n",
    "\n",
    "# Set as panel\n",
    "panel_data <- pdata.frame(fake_data, index = c(\"workerid\",\"year\"))\n",
    "\n",
    "# Generate log-earnings\n",
    "panel_data <- panel_data %>% mutate(logearn = log(earnings))"
   ]
  },
  {
   "cell_type": "markdown",
   "id": "d2d365dd-da6d-4385-9f5c-103c02dc9aae",
   "metadata": {},
   "source": [
    "Remember that now we need to create $\\mathbf{1}\\{t\\geq 1\\}$, a dummy equal to 1 for all years following the year in which the treatment was administered. In our example, we need to create a dummy variable taking value 1 for all years greater or equal than 2003."
   ]
  },
  {
   "cell_type": "code",
   "execution_count": null,
   "id": "6f6c8c25-a937-4eda-93aa-496215e4d5ac",
   "metadata": {},
   "outputs": [],
   "source": [
    "# Create dummy for year >= 2003\n",
    "panel_data$post2003 = ifelse(panel_data$year %in% c(\"2003\", \"2004\", \"2005\", \"2006\", \"2007\", \"2008\", \"2009\", \"2010\", \"2011\"), 1, 0)"
   ]
  },
  {
   "cell_type": "markdown",
   "id": "1968eae6-279e-45ae-95db-fe3f872a49db",
   "metadata": {},
   "source": [
    "We can use again `plm` to estimate Equation (3), but remember to use the new *post2003* dummy variable."
   ]
  },
  {
   "cell_type": "code",
   "execution_count": null,
   "id": "b1826685",
   "metadata": {
    "tags": []
   },
   "outputs": [],
   "source": [
    "did_model <- plm(logearn ~ treated * post2003, data = panel_data, index=c(\"workerid\", \"year\"), model = \"within\", effect = \"twoways\")\n",
    "summary(did_model)"
   ]
  },
  {
   "cell_type": "markdown",
   "id": "f1bcf9f8-3f56-4807-a40c-f87bef1e3b59",
   "metadata": {},
   "source": [
    "The results say that a 1 unit increase in $D_i \\mathbf{1}\\{t\\geq 1\\}$ corresponds to a 0.07 increase in log-earnings *on average*. That 1 unit increase only occurs for those who start receiving treatment in 2003. Given that the outcome is in a log scale, we interpret these results in percentage points. Therefore, the coefficient of interest says that those who started treatment in 2003 received, on average, a 7 percentage point increase in earnings."
   ]
  },
  {
   "cell_type": "markdown",
   "id": "8d7a0eca-692d-458c-a5f1-d7f5fbe1201b",
   "metadata": {},
   "source": [
    "In this fake data set, everyone either starts treatment at year 2003 or does not enter the program at all. However, when there is variation in the timing of the program (i.e. people entering the training program earlier than others), regression using this model may fail to capture the true parameter of interest. For a reference, see this [paper](https://www.sciencedirect.com/science/article/abs/pii/S0304407621001445)."
   ]
  },
  {
   "cell_type": "markdown",
   "id": "7987a6a8-e4ec-4028-ac5e-34ded94516fb",
   "metadata": {
    "tags": []
   },
   "source": [
    "## 15.5 Event studies\n",
    "\n",
    "The natural extension of the previous section, which is the standard approach today, is to estimate different treatment effects depending on the time period.\n",
    "It may be possible that the effect of the treatment fades over time: it was large right after the training program was received, but then decreased over time.\n",
    "\n",
    "To capture the evolution of treatment effects over time, we may want to compute treatment effects at different time lags from when the program was received: 1 year after, 2 years after, and so on.\n",
    "Similarly, we may compute \"treatment effects\" at different years *prior* the program.\n",
    "This is a very powerful tool because it allows us to more formally test whether the parallel trend assumption holds or not: if there are treatment effects prior to receiving the treatment, then the treatment and control groups were likely not having the same trend before receiving the treatment. This is often known as a pre-trends test."
   ]
  },
  {
   "cell_type": "markdown",
   "id": "52998330-482e-4560-8ca8-a02920abf280",
   "metadata": {},
   "source": [
    "A linear model where we test for different treatment effects in different years is usually called *Event study*.\n",
    "Essentially, we extend the Diff-in-Diff linear model to the following equation:\n",
    "\n",
    "$$\n",
    "y_{it} = \\sum_{k=-T,k\\neq1}^T \\beta_k \\mathbf{1}\\{K_{it} = k\\}  + \\lambda_t + \\alpha_i + e_{it} \\tag{4}\n",
    "$$ \n",
    "\n",
    "where $K_{it}$ are event time dummies (i.e. whether person $i$ is observed at event time $k$ in time $t$). Notice that, for workers who never enter treatment, it is as if the event time is $\\infty$: they are an infinite amount of years away from receiving the treatment. Due to multicollinearity, we need to omit one category of event time dummies $k$. The typical choice is $k=-1$ (one year prior to treatment), which will serve as our reference group. This means that we are comparing changes relative to event time -1. "
   ]
  },
  {
   "cell_type": "markdown",
   "id": "99d4da4c-08de-4518-80a1-801dfa9c1ef6",
   "metadata": {},
   "source": [
    "How do we estimate Equation (4) in practice?\n",
    "We begin by constructing a variable that identifies the time relative to the event. For instance, if a person enters the training program in 2003, the observation corresponding to 2002 is time -1 relative to the event, the observation corresponding to 2003 is time 0 relative to the event, and so on. We call this variable *event_time* and we compute it as the difference between the current year and the year in which the treatment was received (stored in variable *time_entering_treatment*).\n",
    "\n",
    "In this fake data set, everyone enters the program in 2003, so it is very easy to construct the event time. If this is not the case, you need to make sure that your data set contains a variable which states the year in which every person receives the treatment."
   ]
  },
  {
   "cell_type": "code",
   "execution_count": null,
   "id": "d4cfea7c",
   "metadata": {},
   "outputs": [],
   "source": [
    "# Load data\n",
    "fake_data <- read_dta(\"../econ490-stata/fake_data.dta\") \n",
    "\n",
    "# Set as panel\n",
    "panel_data <- pdata.frame(fake_data, index = c(\"workerid\",\"year\"))\n",
    "\n",
    "# Generate log-earnings\n",
    "panel_data <- panel_data %>% mutate(logearn = log(earnings))\n",
    "\n",
    "# Generate a variable for year in which treatment was received\n",
    "panel_data$time_entering_treatment = ifelse(panel_data$treated == 1, 2003, NA)\n",
    "\n",
    "# Convert year to numeric\n",
    "panel_data$yearnum <- 1994 + as.numeric(panel_data$year)\n",
    "\n",
    "# Generate a variable for time relative to the event\n",
    "panel_data$event_time = panel_data$yearnum - panel_data$time_entering_treatment"
   ]
  },
  {
   "cell_type": "markdown",
   "id": "22e0ebb7-7bad-47ef-b24a-6f614908fb6f",
   "metadata": {},
   "source": [
    "To make sure we have created *event_time* in the right way, let's see which values it takes."
   ]
  },
  {
   "cell_type": "code",
   "execution_count": null,
   "id": "427f4972-2b95-4786-a5b7-ff341dc0c942",
   "metadata": {},
   "outputs": [],
   "source": [
    "summary(panel_data$event_time)"
   ]
  },
  {
   "cell_type": "markdown",
   "id": "b122bc4b-c5dd-4ade-acb0-3b3cb2d53bd6",
   "metadata": {},
   "source": [
    "Notice that all untreated workers have a missing value for variable *event_time*. We want to include untreated workers in the reference category $k=-1$. Therefore, we code untreated units as if they always belonged to event time -1. We use `ifelse` to replace variable *event_time* with value -1 when variable *treated* takes value 0."
   ]
  },
  {
   "cell_type": "code",
   "execution_count": null,
   "id": "e79cfa97",
   "metadata": {},
   "outputs": [],
   "source": [
    "panel_data$event_time <- ifelse(panel_data$treated == 0, -1, panel_data$event_time)\n",
    "summary(panel_data$event_time)"
   ]
  },
  {
   "cell_type": "markdown",
   "id": "c6b318d6-d252-4060-ac8e-51e88b023a62",
   "metadata": {},
   "source": [
    "We then decide which *window* of time around the treatment we want to focus on (the $T$'s in Equation (4)). For instance, we may want to focus on 2 years prior to the treatment and 2 years after the treatment and estimate those treatment effects. Our choice should depend on the amount of information we have in each year. In this case, notice that the number of workers 8 years after treatment is substantially lower than the number of workers 8 years before treatment is started. \n",
    "\n",
    "We could drop all observations before $k=-2$ and after $k=2$. This would once again reduce the amount of information we have in our dataset.\n",
    "An alternative approach, called *binning* the window around treatment, is usually preferred. It works by pretending that treated workers who are observed before *event_time* -2 were actually observed in *event_time* -2 and treated workers who are observed after *event_time* 2 were actually observed in *event_time* 2. Once again, we use the command `ifelse`."
   ]
  },
  {
   "cell_type": "code",
   "execution_count": null,
   "id": "0ef4b6e3-f699-4f5f-8809-02be22c33b87",
   "metadata": {},
   "outputs": [],
   "source": [
    "panel_data$event_time <- ifelse(panel_data$event_time < -2 & panel_data$treated == 1, -2, panel_data$event_time)\n",
    "panel_data$event_time <- ifelse(panel_data$event_time > 2 & panel_data$treated == 1, 2, panel_data$event_time)"
   ]
  },
  {
   "cell_type": "markdown",
   "id": "53b3f437-ca14-451b-a54e-c0eded379361",
   "metadata": {},
   "source": [
    "Notice how these steps have modified the values of variable *event_time* compared to before:"
   ]
  },
  {
   "cell_type": "code",
   "execution_count": null,
   "id": "c5a013e2-1174-449c-b29c-1105ad3fe795",
   "metadata": {},
   "outputs": [],
   "source": [
    "summary(panel_data$event_time)"
   ]
  },
  {
   "cell_type": "markdown",
   "id": "3960d44b-9f92-4405-80ce-cbc788c977e6",
   "metadata": {},
   "source": [
    "The next step is to generate a dummy variable for each value of *event_time*. We use the function `case_when()` to do it."
   ]
  },
  {
   "cell_type": "code",
   "execution_count": null,
   "id": "b32a21c8",
   "metadata": {},
   "outputs": [],
   "source": [
    "panel_data <- panel_data %>%\n",
    "            mutate(event_time_dummy1 = case_when(event_time == -2 ~ 1, TRUE ~ 0),\n",
    "                   event_time_dummy2 = case_when(event_time == -1 ~ 1, TRUE ~ 0),\n",
    "                   event_time_dummy3 = case_when(event_time == 0 ~ 1, TRUE ~ 0),\n",
    "                   event_time_dummy4 = case_when(event_time == 1 ~ 1, TRUE ~ 0),\n",
    "                   event_time_dummy5 = case_when(event_time == 2 ~ 1, TRUE ~ 0))"
   ]
  },
  {
   "cell_type": "markdown",
   "id": "1af1be65-8834-462c-b033-1572d6d772f3",
   "metadata": {},
   "source": [
    "Notice that *event_time_dummy2* is the one that corresponds to *event_time* -1.\n",
    "\n",
    "Once again, Equation (4) is nothing but a linear model with many fixed effects. We can again use the command `plm`.\n",
    "This time we include dummy variables for the different values of *event_time*, with the exception of the dummy variable for the baseline event time $k=-1$: *event_time_dummy2*."
   ]
  },
  {
   "cell_type": "code",
   "execution_count": null,
   "id": "fc2673e8",
   "metadata": {},
   "outputs": [],
   "source": [
    "did_model <- plm(logearn ~ event_time_dummy1 + event_time_dummy3 + event_time_dummy4 + event_time_dummy5 , \n",
    "                 data = panel_data, index=c(\"workerid\", \"year\"), model = \"within\", effect = \"twoways\")\n",
    "summary(did_model)"
   ]
  },
  {
   "cell_type": "markdown",
   "id": "b989820d-0f9f-4e7b-bd38-a4a8d0b000a5",
   "metadata": {},
   "source": [
    "Again, the interpretation is the same as before, only now we have dynamic effects. The coefficient on the *event_time1* dummy says that 2 years prior to entering treatment, treated units experienced a 0.4 percentage point increase in earnings relative to control units. "
   ]
  },
  {
   "cell_type": "markdown",
   "id": "2a7521ad-cb2e-42f6-9d1e-ec0c24275c0a",
   "metadata": {},
   "source": [
    "Should we worry that we are finding a difference between treated and control units prior to the policy? Notice that the \"effect\" of the policy at event time -2 (*event_time_dummy1*, when there was no training program) is not statistically different than zero. \n",
    "This confirms that our parallel trend assumption is supported by the data. In other words, there are no observable differences in trends prior to the enactment of the training program. *Checking the p-value of those coefficients prior to the treatment is called the pre-trend test* and does not require any fancy work. A mere look at the regression results suffices!\n",
    "\n",
    "Furthermore, we can observe how the policy effect evolves over time. At the year of entering the training program, earnings are boosted by 20 percentage points. The next year the effect decreases to 15 percentage points, and 2+ years after the policy the effect significantly decreases towards 6 percentage points and is less statistically significant. "
   ]
  },
  {
   "cell_type": "markdown",
   "id": "f8a5549a-b7b5-4d27-80cb-d5e4b1978634",
   "metadata": {},
   "source": [
    "### 15.5.1 Event study graph\n",
    "The table output is a correct way to convey the results, but its efficacy is limited, especially when we want to use a large time window. In those cases, we prefer a graph representing all coefficients of interest.\n",
    "\n",
    "We can easily do that using the library `coefplot`. We use the function `coefplot` from the same library and the coefficients we have saved in object *did_model* as input."
   ]
  },
  {
   "cell_type": "code",
   "execution_count": null,
   "id": "1d43d9bc-3ca7-4c05-b909-86a754982532",
   "metadata": {},
   "outputs": [],
   "source": [
    "# Load coefplot\n",
    "install.packages(\"coefplot\")\n",
    "library(coefplot)"
   ]
  },
  {
   "cell_type": "code",
   "execution_count": null,
   "id": "736ed110-f5ff-4730-bab0-05fff5626704",
   "metadata": {},
   "outputs": [],
   "source": [
    "# Create graph\n",
    "coefplot(did_model, horizontal = TRUE)"
   ]
  },
  {
   "cell_type": "markdown",
   "id": "2b63c2e1-22d4-482c-bcba-9da2d37e03fa",
   "metadata": {},
   "source": [
    "In the graph it is easy to see that the parallel trend assumption is satisfied: the difference between treatment and control group before the treatment is administered (the coefficient for *event_dummy_1*) is not statistically different than zero."
   ]
  },
  {
   "cell_type": "markdown",
   "id": "b572ded2-36d3-4d30-a490-73627f31aeda",
   "metadata": {
    "tags": []
   },
   "source": [
    "## 15.6 Common mistakes\n",
    "\n",
    "The most common mistake when dealing with a Diff-in-Diff research design is to add covariates that are already captured by the fixed effects.\n",
    "Let's see what happens if we try to estimate Equation (2) where $X$ is gender at birth."
   ]
  },
  {
   "cell_type": "code",
   "execution_count": null,
   "id": "47d5075a-a661-43e2-85c8-5f0ae8a12206",
   "metadata": {},
   "outputs": [],
   "source": [
    "# Load data\n",
    "fake_data <- read_dta(\"../econ490-stata/fake_data.dta\") \n",
    "\n",
    "# Set as panel\n",
    "panel_data <- pdata.frame(fake_data, index = c(\"workerid\",\"year\"))\n",
    "\n",
    "# Generate log-earnings\n",
    "panel_data <- panel_data %>% mutate(logearn = log(earnings))\n",
    "\n",
    "# Keep only years 2002 and 2003\n",
    "panel_data <- panel_data[panel_data$year %in% c(\"2002\", \"2003\"),]\n",
    "\n",
    "# Create dummy variable\n",
    "panel_data <- panel_data %>%\n",
    "            mutate(time = ifelse(panel_data$year == \"2003\", 1, 0))\n",
    "\n",
    "# Estimate incorrect specification\n",
    "did_model <- plm(logearn ~ treated * time +  sex, data = panel_data, index=c(\"workerid\", \"year\"), model = \"within\", effect = \"twoways\")\n",
    "summary(did_model)"
   ]
  },
  {
   "cell_type": "markdown",
   "id": "cbeaa973-6394-443a-b76b-68f8d0e1d45a",
   "metadata": {},
   "source": [
    "We cannot estimate the coefficient for *sex* in the specification above because *sex* does not change over time for the same individual. Remember: you can add covariates that are time varying by nature (e.g. tenure, experience) or are trends based on fixed characteristics (e.g. time dummies interacted with sex)."
   ]
  },
  {
   "cell_type": "markdown",
   "id": "3f91e071-2bc8-4eef-ad25-6b68dc5879b8",
   "metadata": {},
   "source": [
    "A common mistake when dealing with event studies is to forget to re-assign untreated workers to the baseline time event $k=0$. Let's see what happens if we try to estimate Equation (4) without this adjustment."
   ]
  },
  {
   "cell_type": "code",
   "execution_count": null,
   "id": "a80a922a-63dd-4d5e-a38a-292f09a7f3ea",
   "metadata": {},
   "outputs": [],
   "source": [
    "# Load data\n",
    "fake_data <- read_dta(\"../econ490-stata/fake_data.dta\") \n",
    "\n",
    "# Set as panel\n",
    "panel_data <- pdata.frame(fake_data, index = c(\"workerid\",\"year\"))\n",
    "\n",
    "# Generate log-earnings\n",
    "panel_data <- panel_data %>% mutate(logearn = log(earnings))\n",
    "\n",
    "# Generate a variable for year in which treatment was received\n",
    "panel_data$time_entering_treatment = ifelse(panel_data$treated == 1, 2003, NA)\n",
    "\n",
    "# Convert year to numeric\n",
    "panel_data$yearnum <- 1994 + as.numeric(panel_data$year)\n",
    "\n",
    "# Generate a variable for time relative to the event\n",
    "panel_data$event_time = panel_data$yearnum - panel_data$time_entering_treatment\n",
    "\n",
    "# Binning\n",
    "panel_data$event_time <- ifelse(panel_data$event_time < -2 & panel_data$treated == 1, -2, panel_data$event_time)\n",
    "panel_data$event_time <- ifelse(panel_data$event_time > 2 & panel_data$treated == 1, 2, panel_data$event_time)\n",
    "\n",
    "# Create event time dummies\n",
    "panel_data <- panel_data %>%\n",
    "            mutate(event_time_dummy1 = case_when(event_time == -2 ~ 1, TRUE ~ 0),\n",
    "                   event_time_dummy2 = case_when(event_time == -1 ~ 1, TRUE ~ 0),\n",
    "                   event_time_dummy3 = case_when(event_time == 0 ~ 1, TRUE ~ 0),\n",
    "                   event_time_dummy4 = case_when(event_time == 1 ~ 1, TRUE ~ 0),\n",
    "                   event_time_dummy5 = case_when(event_time == 2 ~ 1, TRUE ~ 0))\n",
    "\n",
    "# Run regression\n",
    "did_model <- plm(logearn ~ event_time_dummy1 + event_time_dummy3 + event_time_dummy4 + event_time_dummy5 , \n",
    "                 data = panel_data, index=c(\"workerid\", \"year\"), model = \"within\", effect = \"twoways\")\n",
    "summary(did_model)"
   ]
  },
  {
   "cell_type": "markdown",
   "id": "1830f45f-0bad-47df-974d-213af37fd8b4",
   "metadata": {},
   "source": [
    "There are no error messages from R, but do you notice anything different compared to our results in Section 15.5?\n",
    "\n",
    "The number of observations has decreased dramatically: instead of 138,138 workers as in Section 15.5, we now have less than 40,000 workers. We are estimating our linear model only on the treated workers. This is a conceptual mistake: we cannot uncover the effect of the treatment if we do not compare the earnings of treated workers with the earnings of untreated workers."
   ]
  },
  {
   "cell_type": "markdown",
   "id": "2bce2236-b364-4cb9-9845-df1c29e01aaa",
   "metadata": {
    "tags": []
   },
   "source": [
    "## 15.7 Wrap Up \n",
    "\n",
    "In this module we've seen how the difference-in-differences design relies on two components: \n",
    "\n",
    "1. Panel data, in which units are observed over time.\n",
    "2. Including time and unit fixed effects\n",
    "\n",
    "These two components make regressions mathematically equivalent to taking time-differences that eliminate any time-invariant components of the error term creating endogeneity. Furthermore, when we have access to more than 2 time periods, we are able to construct dynamic treatment effects (event study) and test whether the parallel trends condition holds."
   ]
  }
 ],
 "metadata": {
  "kernelspec": {
   "display_name": "R",
   "language": "R",
   "name": "ir"
  },
  "language_info": {
   "codemirror_mode": "r",
   "file_extension": ".r",
   "mimetype": "text/x-r-source",
   "name": "R",
   "pygments_lexer": "r",
   "version": "4.2.3"
  }
 },
 "nbformat": 4,
 "nbformat_minor": 5
}
