{
 "cells": [
  {
   "cell_type": "markdown",
   "id": "5406a3af-c085-48de-ae85-382485f1f8e8",
   "metadata": {
    "tags": []
   },
   "source": [
    "# ECON 490: Jupyter and R (1)\n",
    "\n",
    "## Prerequisites \n",
    "\n",
    "1. Have Anaconda Navigator installed onto your personal computer.\n",
    "\n",
    "## Learning Outcomes\n",
    "\n",
    "1. Connect to JupyterLab using an R session."
   ]
  },
  {
   "cell_type": "markdown",
   "id": "a90f25be",
   "metadata": {
    "tags": []
   },
   "source": [
    "## 1.1 Jupyter \n",
    "\n",
    "You will need to install [Anaconda Navigator](https://www.anaconda.com/) in order to be able to run JupyterLab.\n",
    "\n",
    "Conda is an open-source package and environment management system. With Conda we can create a particular directory folder (also known as environment) which will contain the packages that allow us to run Jupyter online notebooks. These online notebooks can run code coming from different softwares (henceforth referred as kernels). Some examples include Stata, R, and Python. The bare minimum for our environments is some version of Python. \n",
    "\n",
    "The only way to set up an environment based on Stata requires us to manually connect our computer's Stata program to Jupyter notebooks."
   ]
  },
  {
   "cell_type": "markdown",
   "id": "a894eb0b",
   "metadata": {
    "tags": []
   },
   "source": [
    "## 1.2 Setting up Your Computer \n",
    "\n",
    "Once Anaconda has been installed, launch JupyterLab from Anaconda Navigator. Within JupyterLab, click on the plus sign in the blue box on the top right corner and from the page that appears select \"Terminal\". All commands given below will be typed into that terminal window in the box that follows the $.\n",
    "\n",
    "The terminal will run the command `conda` that can find packages to install from channels. This is not dissimilar to downloading software from a server. We want to make sure that our computer first finds the `conda-forge` channel. \n",
    "\n",
    "To do this, you should run the following commands directly in your own terminal window in JupyterLab:\n",
    "\n",
    "```\n",
    "  conda config --add channels conda-forge\n",
    "  conda config --set channel_priority strict\n",
    "```\n",
    "\n",
    "The goal here is to create a package bundle (i.e. an environment) where you will install some version of R Kernel, Stata Kernel, and Jupyter. You can explore the things one can download to an environment from the  `conda-forge` channel by running, for example, `conda search r-base` or `conda search stata_kernel`. You can see that the terminal lists all the different versions of these packages that one can download from the different channels. \n",
    "\n",
    "Now we are ready to create a new environment where we will install all these packages. In this particular case, we will create an environment based on Python 3.9.7. Let us create an environment called `stata_r_env` by writing:\n",
    "\n",
    "```\n",
    "  conda create -n stata_r_env python=3.9.7\n",
    "```\n",
    "\n",
    "If you omit the `=3.9.7` part, you will create an environment with the default Python version. \n",
    "\n",
    "We want anything that we install from the channel to be part of this new environment. To do so, we need to activate it by running\n",
    "```\n",
    "  conda activate stata_r_env\n",
    "```\n",
    "\n",
    "Now that our environment is activated, we can install everything we want. We begin by installing Jupyter, which will allow us to run the interactive notebooks coming up:\n",
    "\n",
    "```\n",
    "  conda install jupyter\n",
    "```"
   ]
  },
  {
   "cell_type": "markdown",
   "id": "c2b00757-2ad8-4e4b-aaa9-b351b1d4ff28",
   "metadata": {
    "tags": []
   },
   "source": [
    "## 1.3 Installing R Kernel on our environment\n",
    "\n",
    "Finally, to be able to run the entire ECON 490 folder, it is highly recommended to install a stable R-version. In this particular case, we will focus on R 4.1.2. We can do this by running:\n",
    "\n",
    "```  \n",
    "  conda install -c conda-forge r-base=4.1.2  \n",
    "```"
   ]
  },
  {
   "cell_type": "markdown",
   "id": "716175cd",
   "metadata": {},
   "source": [
    "To use R interactively from this environment, we need to open R from the terminal. If you are using Windows, you can do this by typing `r.exe` or `start r`. If you are using MacOS, you can do this by typing `r`. You will notice that a message pops us similar to when we open R from our desktop. You need to run:\n",
    "```  \n",
    "  install.packages('IRkernel')\n",
    "  IRkernel::installspec()\n",
    "  q()\n",
    "```\n",
    "\n",
    "The first two lines connect our R version with the Jupyter notebook. The last line closes R from the terminal because we're done. Now you should be able to change directories from the terminal by running `cd any_directory` and then running `jupyter notebook` to open the interactive web page needed to open, create and export Jupyter notebooks."
   ]
  },
  {
   "cell_type": "markdown",
   "id": "42f14d41-093e-4906-84b1-cbb39b23f247",
   "metadata": {},
   "source": [
    "## 1.4 (Optional) Running the COMET notebooks on your own computer\n",
    "\n",
    "Now that you have installed the R kernel on your environment, you may want to run the COMET notebooks locally on your computer.\n",
    "To do so, just follow some simple steps:\n",
    "1. **Download the notebooks from COMET.** On the top-right corner of this webpage, you can see the menu called \"LAUNCH COMET\". Click on the down arrow to its right and then click on \"LAUNCH LOCALLY\". A zipped folder will be automatically download to your computer. Unzip it and within it locate a folder called \"econ490\". That folder contains subfolder \"econ490-stata\" with all Jupyter Notebooks concerning the Stata modules and subfolder \"econ490-r\" with all the Jupyter Notebooks concerning the R modules. Move the whole \"econ490\" folder to where it is most convenient for you on your computer. You will need also some of the material contained in the \"econ490-stata\" folder.\n",
    "2. **Open the notebooks in Jupyter.** Open Anaconda Navigator and locate the Jupyter notebook tile. Click on the button \"Launch\" in the Jupyter notebook tile. A Jupyter file browser will open in a web browser tab. Click on the File Browser on your left (a folder icon) and locate your \"econ490\" folder. Now open any module you may want to work on. Be careful! Always make sure that the R kernel is connected and ready to run. You can check the status of your kernel by looking at the circle on the top-right of your Notebook. It should be of color white. Moving your cursor on top of it, you should see the message 'Kernel status: Idle'. The first time you open a R notebook, it will take a couple of seconds for the R kernel to connect. While connecting, the circle will be gray with a tiny thunderbolt inside. You can always interrupt or reconnect the kernel by clicking on the \"Kernel\" menu on the top bar.\n",
    "\n",
    "<div class=\"alert alert-info\">\n",
    "\n",
    "**Note:** You will only have to do step 1 once on any computer. After that, you will only have to do step 2, that is to open directly the notebooks in Jupyter. \n",
    "\n",
    "</div>\n",
    "\n",
    "\n",
    "You can also choose to run the R modules of the COMET notebooks online. To do so, go on the \"LAUNCH COMET\" button located on top-right corner of this webpage and then click \"LAUNCH ON JUPYTEROPEN\". You will need to input your CWL credentials and then a Jupyter file browser will open in a web browser tab. Navigate through the folders in the \"Files\" tab: click on folder \"docs\", then \"econ_490\", and finally \"econ490-r\". Now open any module you want to work on.\n",
    "\n",
    "\n",
    "<div class=\"alert alert-info\">\n",
    "\n",
    "**Note:** Please speak with your instructor if you run into any issues with setting up JupyterLab.\n",
    "\n",
    "</div>"
   ]
  }
 ],
 "metadata": {
  "kernelspec": {
   "display_name": "R",
   "language": "R",
   "name": "ir"
  },
  "language_info": {
   "codemirror_mode": "r",
   "file_extension": ".r",
   "mimetype": "text/x-r-source",
   "name": "R",
   "pygments_lexer": "r",
   "version": "4.1.3"
  }
 },
 "nbformat": 4,
 "nbformat_minor": 5
}
