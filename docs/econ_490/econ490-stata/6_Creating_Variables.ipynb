{
 "cells": [
  {
   "cell_type": "markdown",
   "id": "52dcbe2e-5db6-46dd-9728-89de39d13c4a",
   "metadata": {
    "tags": []
   },
   "source": [
    "# ECON 490: Generating Variables (6)\n",
    "\n",
    "## Prerequisites \n",
    "\n",
    "1. Be able to effectively use Stata do-files and generate-log files.\n",
    "2. Be able to change your directory so that Stata can find your files.\n",
    "3. Import datasets in csv and dta format. \n",
    "4. Save data files. \n",
    "\n",
    "## Learning Outcomes\n",
    "\n",
    "1. Explore your data set with commands like `describe`, `browse`,`tabulate`, `codebook` and `lookfor`.\n",
    "2. Generate dummy (or indicator) variables using the command `generate` or `tabulate`.\n",
    "3. Create new variables in Stata using `generate` and `replace`.\n",
    "4. Rename and label variables."
   ]
  },
  {
   "cell_type": "markdown",
   "id": "c51cc109",
   "metadata": {
    "tags": []
   },
   "source": [
    "## 6.1 Getting Started\n",
    "\n",
    "We'll continue working with the fake data data set introduced in the previous lecture. Recall that this data set is simulating information of workers in the years 1982-2012 in a fake country where a training program was introduced in 2003 to boost their earnings.  \n",
    "\n",
    "Last lecture we introduced a three step process to import data into Stata:\n",
    "1. Clear the workspace\n",
    "2. Change the directory to the space where the files we will use are located \n",
    "3. Import the data using commands specific to the file type.\n",
    "\n",
    "Let's run these commands now so we are all ready to do our analysis. "
   ]
  },
  {
   "cell_type": "code",
   "execution_count": null,
   "id": "529bf1e8",
   "metadata": {},
   "outputs": [],
   "source": [
    "* Below you will need to include the path on your own computer to where the data is stored between the quotation marks.\n",
    "\n",
    "clear *\n",
    "cd \" \"\n",
    "import delimited using \"fake_data.csv\", clear"
   ]
  },
  {
   "cell_type": "markdown",
   "id": "ff0942e8-6e3f-4b6c-8a8f-7b47306db9aa",
   "metadata": {},
   "source": [
    "## 6.2 Commands to Explore the Dataset"
   ]
  },
  {
   "cell_type": "markdown",
   "id": "b91dec57",
   "metadata": {},
   "source": [
    "#### 6.2.1 `describe`\n",
    "\n",
    "The first command we are going to use describes the basic characteristics of the variables in the loaded data set."
   ]
  },
  {
   "cell_type": "code",
   "execution_count": null,
   "id": "35d1ba54",
   "metadata": {},
   "outputs": [],
   "source": [
    "describe"
   ]
  },
  {
   "cell_type": "markdown",
   "id": "490d9ed3-7ace-494a-9059-3eb2c48f4de7",
   "metadata": {},
   "source": [
    "#### 6.2.2 `browse`"
   ]
  },
  {
   "cell_type": "markdown",
   "id": "dabaaeaa",
   "metadata": {},
   "source": [
    "In addition to the `describe` command, in the Stata interface you can also open the data editor and see the raw data as if it were an Excel file. To do this, we can type `browse`. This command will open a new Stata window. If we want to do this from within Jupyter, we use the command with `%` before `browse`. Either approach gives us a \"spreadsheet-like\" view of the data set."
   ]
  },
  {
   "cell_type": "code",
   "execution_count": null,
   "id": "812753b1",
   "metadata": {},
   "outputs": [],
   "source": [
    "%browse"
   ]
  },
  {
   "cell_type": "markdown",
   "id": "4ea772ee",
   "metadata": {},
   "source": [
    "Opening the data editor has many benefits. Most importantly, we get to see the data as a whole, allowing us to have a clearer perspective of the information the data set is providing us. For example, here we observe that we have unique worker codes, the year where they are observed, worker characteristics (sex, age, and earnings), and whether or not they participated in the specified 2003 training program. "
   ]
  },
  {
   "cell_type": "markdown",
   "id": "2e2db56c-5e83-44cf-ab6b-2771dd875c3e",
   "metadata": {},
   "source": [
    "#### 6.2.3 `codebook`\n",
    "\n",
    "We can further analyze any variable by using the `codebook` command. Let's do this here to learn more about the variable _earnings_."
   ]
  },
  {
   "cell_type": "code",
   "execution_count": null,
   "id": "97231fa4",
   "metadata": {},
   "outputs": [],
   "source": [
    "codebook earnings"
   ]
  },
  {
   "cell_type": "markdown",
   "id": "49d3e066",
   "metadata": {
    "tags": []
   },
   "source": [
    "The codebook command gives us important information about this variable such as the type (i.e. string or numeric), how many missing observations it has (very useful to know!) and all unique values. If the variable is numeric, it will also provide some summary statistics. If the variable is a string, it will provided examples of some of the entries.\n",
    "\n",
    "Try changing the variable name in the cell above to see the codebook entries for different variables in the data set. "
   ]
  },
  {
   "cell_type": "markdown",
   "id": "4100494f-29d8-4f6b-9372-bb355fa15b30",
   "metadata": {},
   "source": [
    "#### 6.2.4 `tabulate`\n",
    "\n",
    "We can also learn more about the frequency of the different measures of one variable by using the command `tabulate`."
   ]
  },
  {
   "cell_type": "code",
   "execution_count": null,
   "id": "78397323",
   "metadata": {
    "tags": []
   },
   "outputs": [],
   "source": [
    "tabulate region"
   ]
  },
  {
   "cell_type": "markdown",
   "id": "b3415838-e127-45b1-add4-adcc7cf47ac9",
   "metadata": {},
   "source": [
    "Here we can see that there are five regions indicated in this data set. We can see that the majority of people surveyed came from region 1. \n",
    "\n",
    "We can actually include two variables in the `tabulate` command if we want more information. When we do this below we see that there were 234,355 female identified and 425,698 male identified persons surveyed in region 1. "
   ]
  },
  {
   "cell_type": "code",
   "execution_count": null,
   "id": "793fd56f",
   "metadata": {},
   "outputs": [],
   "source": [
    "tabulate region sex"
   ]
  },
  {
   "cell_type": "markdown",
   "id": "97863d59",
   "metadata": {},
   "source": [
    "#### 6.2.5 `lookfor`\n",
    "\n",
    "What if there's a gazillion variables and we're looking for a particular one? Thankfully, Stata provides a nice command called `lookfor` which helps us search for variables based on keywords. Suppose we want to look for a variable that is related to year. "
   ]
  },
  {
   "cell_type": "code",
   "execution_count": null,
   "id": "02dfeec3",
   "metadata": {},
   "outputs": [],
   "source": [
    "lookfor year"
   ]
  },
  {
   "cell_type": "markdown",
   "id": "1be3dacb",
   "metadata": {},
   "source": [
    "Stata found three variables that include the word year either in the variable name or in the variable label. This is super useful when we are getting to know a data set!"
   ]
  },
  {
   "cell_type": "markdown",
   "id": "22a46ea4",
   "metadata": {
    "tags": []
   },
   "source": [
    "##  6.3 Generating Dummy Variables\n",
    "\n",
    "Dummy variables are variables that can only take on two values: 0 and 1. It is useful to think of a dummy variable as being the answer to a question that can be answered with \"yes\" or \"no\". With a dummy variable, the answer yes is coded as \"1\" and no is coded as \"0\".\n",
    "\n",
    "Examples of question that are used to create dummy variables include:\n",
    "\n",
    "1. Is the person female? Females are coded \"1\" and everyone else is coded \"0\".\n",
    "2. Does the person have a university degree? People with a degree are coded \"1\" and everyone else is coded \"0\".\n",
    "3. Is the person married? Married people are coded \"1\" and everyone else is coded \"0\".\n",
    "4. Is the person a millennial? People born between 1980 and 1996 are coded \"1\" and those born in other years are coded \"0\",\n",
    "\n",
    "As you have probably already figured out, dummy variables are used primarily for data that is qualitative and cannot be ranked in any way. For example, being married is qualitative and \"married\" is neither higher nor lower than \"single\".  But they are sometimes also used for variables that are qualitative and ranked, such as level of education. Further, dummy variables are sometimes used for variables that are quantitative, such as age groupings. \n",
    "\n",
    "It is important to remember that dummy variables must always be used when we want to include categorical (qualitative) variables in our analysis. These are variables such as sex, gender, race, marital status, religiosity, immigration status etc. We can’t use these variables without creating a dummy variable because the results found would in no way be meaningful."
   ]
  },
  {
   "cell_type": "markdown",
   "id": "255798d5-6b3e-4e8b-99bd-b7d52f34e742",
   "metadata": {},
   "source": [
    "#### 6.3.1 Creating dummy variables using `generate`\n",
    "\n",
    "As an example, let's create a dummy variable which indicates if the observation is identified as female. To do this, we are going to use the command `generate` which generates a completely new variable."
   ]
  },
  {
   "cell_type": "code",
   "execution_count": null,
   "id": "f90992d9",
   "metadata": {},
   "outputs": [],
   "source": [
    "generate female = ( sex == \"F\") "
   ]
  },
  {
   "cell_type": "markdown",
   "id": "6bd62c04",
   "metadata": {},
   "source": [
    "What Stata does here is that it defines our dummy variable as 1 whenever the condition `sex == \"F\" ` holds. Otherwise, it makes the variable take the value of zero. Depending on what we're doing, we may want it to be the case that our dummy takes on the value of 0 when `sex` is missing. Let's do that below."
   ]
  },
  {
   "cell_type": "code",
   "execution_count": null,
   "id": "89f54d5c",
   "metadata": {},
   "outputs": [],
   "source": [
    "generate female = ( sex == \"F\")  if !mi(sex)"
   ]
  },
  {
   "cell_type": "markdown",
   "id": "61cda66d",
   "metadata": {},
   "source": [
    "Whoops! We got an error. This says that our variable is already defined. Stata does this because it doesn't want us to accidentally overwrite an existing variable. Whenever we want to replace an existing variable, we have to use the command `replace`."
   ]
  },
  {
   "cell_type": "code",
   "execution_count": null,
   "id": "f71c8767",
   "metadata": {},
   "outputs": [],
   "source": [
    "replace female = ( sex == \"F\")  if !mi(sex)"
   ]
  },
  {
   "cell_type": "markdown",
   "id": "6a7a1ef2",
   "metadata": {
    "tags": []
   },
   "source": [
    "We could have also used the command `capture drop female` before we used `generate`. The `capture` command tells Stata to ignore any error in the command that immediately follows. In this example, this would do the following: \n",
    "\n",
    "-  If the variable that is being dropped didn't exist, the `drop female` command would automatically create an error. The `capture` command tells Stata to ignore that problem. \n",
    "- If the variable did exist already, the `drop female` command would work just fine, so that line will proceed as normal."
   ]
  },
  {
   "cell_type": "markdown",
   "id": "ecae02e4-c392-4524-8e82-2e1f6aaca3e9",
   "metadata": {
    "tags": []
   },
   "source": [
    "#### 6.3.2 Creating dummy variables using `tabulate`\n",
    "\n",
    "We already talked about how to create dummy variables with generate and replace. Let’s see how this can be done for a whole set of dummy variable. For our example, this will be one dummy for each region identified in the data set. "
   ]
  },
  {
   "cell_type": "code",
   "execution_count": null,
   "id": "e5307149-68fd-41ec-965d-47783d515ab5",
   "metadata": {
    "tags": []
   },
   "outputs": [],
   "source": [
    "tabulate region, generate(reg)"
   ]
  },
  {
   "cell_type": "markdown",
   "id": "054be0df-f104-47c6-82bd-d01a026e9d77",
   "metadata": {},
   "source": [
    "This command generated five new dummy variables, one for each region category. We asked Stata to call these variables \"reg\" and so these five new variables are called reg1, reg2, reg3, reg4, and reg5. When we run the command `des reg*`, we will see all of the variables whose names start with \"reg\" listed. Stata has helpfully labeled these variables with data labels from marstat. You might want to change the names for your own project to something that is more meaningful to you. "
   ]
  },
  {
   "cell_type": "code",
   "execution_count": null,
   "id": "eb7e34db-7c7e-439f-95d6-2e56efa53821",
   "metadata": {},
   "outputs": [],
   "source": [
    "des reg*"
   ]
  },
  {
   "cell_type": "markdown",
   "id": "e63e4c19",
   "metadata": {},
   "source": [
    "## 6.4 Generating Variables Based on Expressions\n",
    "\n",
    "Sometimes we want to generate variables after some transformations (e.g. squaring, taking logs, combining different variables). We can do that by simply writing the expression for the desired transformation. For example, let's create a new variable that is simply the natural log of earnings."
   ]
  },
  {
   "cell_type": "code",
   "execution_count": null,
   "id": "cb297a3b",
   "metadata": {},
   "outputs": [],
   "source": [
    "gen log_earnings = log(earnings)"
   ]
  },
  {
   "cell_type": "code",
   "execution_count": null,
   "id": "6051acde",
   "metadata": {},
   "outputs": [],
   "source": [
    "summarize earnings log_earnings"
   ]
  },
  {
   "cell_type": "markdown",
   "id": "f65a94a0-3caa-4a15-97db-36cb7abc0588",
   "metadata": {},
   "source": [
    "Let's try a second example. Let's create a new variable that is the number of years since the year the individual started working. "
   ]
  },
  {
   "cell_type": "code",
   "execution_count": null,
   "id": "0218168d",
   "metadata": {},
   "outputs": [],
   "source": [
    "gen experience_proxy = year - start_year"
   ]
  },
  {
   "cell_type": "code",
   "execution_count": null,
   "id": "63697318",
   "metadata": {},
   "outputs": [],
   "source": [
    "summarize experience_proxy"
   ]
  },
  {
   "cell_type": "markdown",
   "id": "edd0d630",
   "metadata": {},
   "source": [
    "## 6.5 Following Good Naming Conventions\n",
    "\n",
    "Choosing good names for your variables is more important, and harder, than you might think! Some of the variables in an original data set may have very unrecognizable names, which may be confusing when conducting research. In these cases, changing them early on is preferable. You will also be creating your own variables, such as dummy variables for qualitative measures, and you will want to be careful about giving them good names. This will become even more pertinent once you start generating tables, since you will want all of your variables to have high-quality names that will carry over to your paper for ease of comprehension on the reader's part.\n",
    "\n",
    "Luckily, you can always rename your variables with the command `rename`. Let' try to rename one of the dummy variables we just created above. Maybe we know that if region = 3 then the region is in the west."
   ]
  },
  {
   "cell_type": "code",
   "execution_count": null,
   "id": "eb8431c2",
   "metadata": {},
   "outputs": [],
   "source": [
    "rename reg3 west\n",
    "des west"
   ]
  },
  {
   "cell_type": "markdown",
   "id": "12996cd5",
   "metadata": {},
   "source": [
    "Importantly, we don't need to include every piece of information in our variable name. Most of the important information is included in the variable label (more on that in a moment). We should always avoid variable names that include unnecessary pieces of information and can only be interpreted by the researcher. \n",
    "\n",
    "\n",
    "<div class=\"alert alert-info\">\n",
    "\n",
    "**Pro tip:**  Put all of your variables in lower case to avoid errors (since Stata is case sensitive). \n",
    "</div>"
   ]
  },
  {
   "cell_type": "markdown",
   "id": "38c71e6a",
   "metadata": {},
   "source": [
    "## 6.6 Creating Variable Labels\n",
    "\n",
    "It is important that anyone using our data set knows what each variable measures. We can add a new label, or change a variable label, at any time by using the label variable command. Continuing the example from above, if we create a new dummy variable indicating whether people are female, we will want to add a label to this new variable. To do this, the appropriate command would be:"
   ]
  },
  {
   "cell_type": "code",
   "execution_count": null,
   "id": "c86da612",
   "metadata": {},
   "outputs": [],
   "source": [
    "label variable female \"Female Dummy\""
   ]
  },
  {
   "cell_type": "markdown",
   "id": "e6699b55",
   "metadata": {},
   "source": [
    "When we describe the data, we will see this extra information in the variable label column."
   ]
  },
  {
   "cell_type": "code",
   "execution_count": null,
   "id": "fe81da03",
   "metadata": {},
   "outputs": [],
   "source": [
    "des female"
   ]
  },
  {
   "cell_type": "markdown",
   "id": "cadca34f-a4c3-4f4f-86d5-366dc5bef9f2",
   "metadata": {},
   "source": [
    "## 6.7 Wrap Up\n",
    "\n",
    "When we are doing our own research, we *always* have to spend some time working with the data before beginning our analysis. In this module, we have learned some important tools for manipulating data to get it ready for that analysis. Like everything else that we do in Stata, these manipulations should be done in a do-file, so that we always know exactly what we have done with our data. Losing track of those changes can cause some very serious mistakes when we start to do our research! In the next module, we will look at how to do analysis on the sub-groups of variables in our data set.\n",
    "\n",
    "The following table summarizes the main commands we have seen in this module.\n",
    "\n",
    "|Command| Function|\n",
    "|----|----|\n",
    "|`tabulate`| It provides a list of the different values of a variable.|\n",
    "|`summarize`| It provides the summary statistics of a variable.|\n",
    "|`generate`| It generates a new variable. |\n",
    "|`replace`| It replaces specific values of a variable.|"
   ]
  },
  {
   "cell_type": "markdown",
   "id": "1b4900a5-8287-41d9-b225-ec90db474a09",
   "metadata": {},
   "source": [
    "## 6.8 Video tutorial\n",
    "\n",
    "Click on the image below for a video tutorial on this module.\n",
    "\n",
    "[![Generating Variables](img/stata6.png)](https://learning.media.ubc.ca/media/Notebook+6+-+Generating+Variables/0_9dxplu7b)"
   ]
  },
  {
   "cell_type": "markdown",
   "id": "652ba757-c4ac-4f3d-bbf3-f49a94c04b4d",
   "metadata": {},
   "source": [
    "## References\n",
    "\n",
    "[How to create a date variable from a date stored as a string](https://www.youtube.com/watch?v=M3XVgPJuFzU) <br>\n",
    "[How to create a categorical variable from a continuous variable](https://www.youtube.com/watch?v=XWVaXN2KwmA) <br>\n",
    "[How to create a new variable that is calculated from other (multiple) variables](https://www.youtube.com/watch?v=E_wCh0rf4p8)"
   ]
  }
 ],
 "metadata": {
  "kernelspec": {
   "display_name": "Stata",
   "language": "stata",
   "name": "stata"
  },
  "language_info": {
   "codemirror_mode": "stata",
   "file_extension": ".do",
   "mimetype": "text/x-stata",
   "name": "stata",
   "version": "15.1"
  }
 },
 "nbformat": 4,
 "nbformat_minor": 5
}
