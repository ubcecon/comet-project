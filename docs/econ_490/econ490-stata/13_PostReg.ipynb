{
 "cells": [
  {
   "cell_type": "markdown",
   "id": "34a2771e-046f-4937-a41b-dfedd7d4d4cd",
   "metadata": {
    "tags": []
   },
   "source": [
    "# ECON 490: Good Regression Practice (13)\n",
    "\n",
    "## Prerequisites \n",
    "\n",
    "1. Importing data into Stata.\n",
    "2. Creating new varables using `generate` and `replace`.\n",
    "3. Identifying percentiles in data using `summarize` and `return list`.\n",
    "4. Running OLS regressions.\n",
    "\n",
    "## Learning Outcomes\n",
    "\n",
    "1. Identify and correct for outliers by trimming or winsorizing the dependent variable. \n",
    "2. Identify and correct for the problem of multicollinearity.\n",
    "3. Identify and correct for the problem of heteroskedasticity. \n",
    "4. Identify and correct for the problem of non-linearity. "
   ]
  },
  {
   "cell_type": "markdown",
   "id": "0c0edbe3-5cf6-415a-8314-d335fefa509d",
   "metadata": {
    "tags": []
   },
   "source": [
    "## 14.1 Dealing with Outliers \n",
    "\n",
    "Imagine that we have constructed a dependent variable which contains the earnings growth of individual workers and we see that some worker's earnings increased by more than 400%. We might wonder if this massive change is just a coding error made by the statisticians that produced the data set. Even without that type of error, though, we might worry that the earnings growth of a small number of observations are driving the results of our analysis. If this is the case, we will produce an inaccurate analysis based on results that are not associated with the majority of our observations. \n",
    "\n",
    "The standard practice in these cases is to either winsorize or trim the subset of observations that are used in that regression. Both practices remove the outlier values in the dependent variable to allow us to produce a more accurate empirical analysis. In this section, we will look at both approaches.\n",
    "\n",
    "<div class=\"alert alert-block alert-warning\">\n",
    "    \n",
    "<b>Warning:</b> You should only consider fixing outliers when there is a clear reason to address this issue. Do not apply the tools below if the summary statistics in your data make sense to you in terms of abnormal values. For example, outliers might be a sign that your dependent and explanatory variables have a non-linear relationship. If that is the case, you will want to consider including an interaction term that addresses that non-linearity. \n",
    "    \n",
    "</div>\n"
   ]
  },
  {
   "cell_type": "markdown",
   "id": "3ffeb05e-2fee-4804-8ae1-6bf581d45cbe",
   "metadata": {
    "tags": []
   },
   "source": [
    "#### 14.1.1 Winsorizing a dependent variable\n",
    "\n",
    "Winsorizing is the process of limiting extreme values in the dependent variable to reduce the effect of (possibly erroneous) outliers. It consists of replacing values below the $a$ percentile by that percentile value, and values above the $b$ percentile by that percentile. Consider the following example using our fake data set:"
   ]
  },
  {
   "cell_type": "code",
   "execution_count": null,
   "id": "d450438d-1efb-4246-9036-d9360d3b4408",
   "metadata": {},
   "outputs": [],
   "source": [
    "clear all\n",
    "use fake_data, clear "
   ]
  },
  {
   "cell_type": "markdown",
   "id": "261dd8c0-a9d9-4121-bee6-df1016a5ac21",
   "metadata": {},
   "source": [
    "Let's have a look at the distribution of earnings in the dataset.\n",
    "Specifically, focus on the earnings at four points of the distribution: the minimum, the maximum, the 1st percentile, and the 99th percentile. We can display them using locals, as seen in [Module 4](econometrics/econ490-stata/4_Locals_and_Globals.ipynb)."
   ]
  },
  {
   "cell_type": "code",
   "execution_count": null,
   "id": "9cfedc8f",
   "metadata": {},
   "outputs": [],
   "source": [
    "su earnings, d\n",
    "local ratio_lb = round(r(p1)/r(min))\n",
    "local ratio_ub = round(r(max)/r(p99))\n",
    "display \"The earnings of the individual in the 1st percentile are `r(p1)'\"\n",
    "display \"The lowest earner in the dataset earned `r(min)'\"\n",
    "display \"The earnings of the individual in the 99th percentile are `r(p99)' \"\n",
    "display \"The highest earner in the dataset earned `r(max)'\"\n",
    "display \"The individual in the 1st pctile earned `ratio_lb' times as much as the lowest earner!\"\n",
    "display \"The highest earner earned `ratio_ub' times as much as the individual in the 99th pctile!\""
   ]
  },
  {
   "cell_type": "markdown",
   "id": "8f64c4df",
   "metadata": {},
   "source": [
    "This table suggests to us that there are large outliers in our dependent variable.\n",
    "\n",
    "We want to get rid of these outliers by winsorizing our data set. What that means is replacing the earnings of all observations below the 1st percentile by exactly the earnings of the individual at the 1st percentile, and replacing the earnings of all observations above the 99th percentile by exactly the earnings of the individual at the 99th percentile. \n",
    "\n",
    "Recall that we can see how Stata stored the information in the previously run `summarize` command by using the command `return list`."
   ]
  },
  {
   "cell_type": "code",
   "execution_count": null,
   "id": "4e481b53",
   "metadata": {},
   "outputs": [],
   "source": [
    "return list"
   ]
  },
  {
   "cell_type": "markdown",
   "id": "7d26ae53-4f54-485f-aaa9-b2371687de07",
   "metadata": {},
   "source": [
    "To winsorize this data, we do the following 3 step process:\n",
    "\n",
    "1. We create a new variable called *earnings_winsor* which is identical to our _earnings_ variable (`gen earnings_winsor = earnings`). We choose to store the winsorized version of the dependent variable in a different variable so that we don't overwrite the original data set. \n",
    "2. If earnings are smaller than the 1st percentile, we replace the values of *earnings_winsor* with the earnings of the individual at the 1st percentile (stored in Stata in r(p1)). Note that we need to ensure that Stata does not include missing values.\n",
    "3. If earnings are larger than the 1st percentile, we replace the values of *earnings_winsor* with the earnings of the individual at the 99th percentile (stored in Stata in r(p99). Note that we need to ensure that Stata does not include missing values.\n",
    "\n",
    "You can run these commands yourself below:"
   ]
  },
  {
   "cell_type": "code",
   "execution_count": null,
   "id": "ed3ddf66",
   "metadata": {},
   "outputs": [],
   "source": [
    "gen earnings_winsor = earnings\n",
    "replace earnings_winsor = r(p1) if earnings_winsor<r(p1) & earnings_winsor!=.\n",
    "replace earnings_winsor = r(p99) if earnings_winsor>r(p99) & earnings_winsor!=."
   ]
  },
  {
   "cell_type": "markdown",
   "id": "50fed47a-d942-45f7-a130-0bcac88b689c",
   "metadata": {},
   "source": [
    "Let's take a look at the summary statistics of the original earnings variable and the new variable that we have created:"
   ]
  },
  {
   "cell_type": "code",
   "execution_count": null,
   "id": "0243cc71",
   "metadata": {},
   "outputs": [],
   "source": [
    "su earnings earnings_winsor"
   ]
  },
  {
   "cell_type": "markdown",
   "id": "810e01f6",
   "metadata": {
    "tags": []
   },
   "source": [
    "Now we will use this new dependent variable in our regression analysis. If the outliers were not creating problems, there will be no change in the results. If they were creating problems, those problems will now be fixed. \n",
    "\n",
    "Let's take a look at this by first running the regression from [Module 12](econometrics/econ490-stata/12_Linear_Reg.ipynb) with the original _earnings_ variable."
   ]
  },
  {
   "cell_type": "code",
   "execution_count": null,
   "id": "c1969b50-431f-4832-8a36-f5266a3b0e2b",
   "metadata": {
    "scrolled": true,
    "tags": []
   },
   "outputs": [],
   "source": [
    "capture drop logearnings\n",
    "gen logearnings = log(earnings)\n",
    "regress logearnings age "
   ]
  },
  {
   "cell_type": "markdown",
   "id": "fe843db7-71ca-45fc-b32f-d43ba225091b",
   "metadata": {
    "tags": []
   },
   "source": [
    "Now we will run this again, using the new winsorized earnings variable. "
   ]
  },
  {
   "cell_type": "code",
   "execution_count": null,
   "id": "0a96723a-bdca-4d7e-90d4-f25df347e670",
   "metadata": {
    "scrolled": true,
    "tags": []
   },
   "outputs": [],
   "source": [
    "capture drop logearnings_winsor\n",
    "gen logearnings_winsor = log(earnings_winsor)\n",
    "regress logearnings_winsor age "
   ]
  },
  {
   "cell_type": "markdown",
   "id": "c8b07933-77fe-405b-8308-3fecb3896484",
   "metadata": {},
   "source": [
    "Do you think that in this case the outliers were having a significant impact before being winsorized?"
   ]
  },
  {
   "cell_type": "markdown",
   "id": "dbd9db9f",
   "metadata": {
    "tags": []
   },
   "source": [
    "#### 14.1.2 Trimming a dependent variable \n",
    "\n",
    "Trimming consists of replacing both values below the $a$ percentile and values above the $b$ percentile by a missing value. This is useful since any observation which equals a missing value won't be used in the regression due to Stata automatically excluding observations with missing values in the command `regress`.\n",
    "\n",
    "Here are the commands for trimming a variable. Notice that the steps are quite similar to when we winsorized the same variable. "
   ]
  },
  {
   "cell_type": "code",
   "execution_count": null,
   "id": "c59570e7",
   "metadata": {
    "tags": []
   },
   "outputs": [],
   "source": [
    "su earnings, d\n",
    "\n",
    "capture drop earnings_trim\n",
    "gen earnings_trim = earnings\n",
    "replace earnings_trim = . if earnings_trim < r(p1) & earnings_trim!=.\n",
    "replace earnings_trim = . if earnings_trim > r(p99) & earnings_trim!=."
   ]
  },
  {
   "cell_type": "markdown",
   "id": "3ba74dae-65ea-4bd7-ba82-dff0341489eb",
   "metadata": {},
   "source": [
    "And here is the result of the regression with the new dependent variable. "
   ]
  },
  {
   "cell_type": "code",
   "execution_count": null,
   "id": "6c300756-667f-4d75-9fe9-f89e7e1e85b5",
   "metadata": {
    "scrolled": true,
    "tags": []
   },
   "outputs": [],
   "source": [
    "capture drop logearnings_trim\n",
    "gen logearnings_trim = log(earnings_trim)\n",
    "regress logearnings_trim age "
   ]
  },
  {
   "cell_type": "markdown",
   "id": "5026b02d",
   "metadata": {
    "tags": []
   },
   "source": [
    "## 14.2 Multicollinearity \n",
    "\n",
    "If two variables are linear combinations of one another they are multicollinear. Ultimately, Stata will not allow you to include two variables in a regression that are perfect linear combinations of one another, such as a constant, a dummy variable for male and a dummy for female (since female = 1 - male). If you try this yourself you will see that one of those variables will be dropped from the regression \"because of collinearity\".\n"
   ]
  },
  {
   "cell_type": "code",
   "execution_count": null,
   "id": "1841acca",
   "metadata": {},
   "outputs": [],
   "source": [
    "cap drop male\n",
    "gen male = sex == \"M\"\n",
    "\n",
    "cap drop female \n",
    "gen female = sex == \"F\""
   ]
  },
  {
   "cell_type": "code",
   "execution_count": null,
   "id": "0e559eb3",
   "metadata": {},
   "outputs": [],
   "source": [
    "reg logearnings male female"
   ]
  },
  {
   "cell_type": "markdown",
   "id": "cf83d5c1",
   "metadata": {},
   "source": [
    "Is this a problem? Not really. Multicollinearity is a sign that a variable is not adding any new information. Notice that with the constant term and a male dummy we can know the mean earnings of females. In this case, the constant term is by construction the mean earnings of females, and the male dummy gives the earning premium paid to male workers.\n",
    "\n",
    "While there are some statistical tests for multicollinearity, nothing beats having the right intuition when running a regression. If there is an obvious case where two variables contain basically the same information, you should avoid including both in the analysis. \n",
    "\n",
    "For instance, we might have an age variable that includes both years and months (e.g. if a baby is 1 year and 1 month old, then this age variable would be coded as 1 + 1/12 = 1.083). If we included this variable in a regression which also included an age variable that includes only years (e.g the baby's age would be coded as 1) then we would have the problem of multicollinearity. Because they are not perfectly collinear, Stata might still produce some results; however, the coefficients on these two variables would be biased."
   ]
  },
  {
   "cell_type": "markdown",
   "id": "c6588110",
   "metadata": {
    "tags": []
   },
   "source": [
    "## 14.3 Heteroskedasticity \n",
    "\n",
    "When we run a linear regression, we essentially split the outcome into a (linear) part explained by observables and an error term:\n",
    "$$\n",
    "y_i = a + b x_i + e_i\n",
    "$$ \n",
    "\n",
    "The standard errors in our coefficients depend on $e_i^2$ (as you might remember from ECON 326). Heteroskedasticity refers to the case where the variance of this projection error depends on the observables $x_i$. For instance, the variance of wages tends to be higher for people who are university educated (some of these people have very high wages) whereas it is small for people who are non-university educated (these people tend to be concentrated in smaller paying jobs).  Stata by default assumes that the variance does not depend on the observables, which is known as homoskedasticity. It is safe to say that this is an incredibly restrictive assumption.\n",
    "\n",
    "While there are tests for heteroskedasticity, the more empirical economists rely on including the option `robust` at the end of the `regress` command for the OLS regression to address this."
   ]
  },
  {
   "cell_type": "code",
   "execution_count": null,
   "id": "f610df1a",
   "metadata": {},
   "outputs": [],
   "source": [
    "cap drop logearnings\n",
    "gen logearnings = log(earnings)\n",
    "regress logearnings age, robust"
   ]
  },
  {
   "cell_type": "markdown",
   "id": "c3e28c20",
   "metadata": {
    "tags": []
   },
   "source": [
    "Best practices are simply to always use robust standard errors in your ECON 490 project."
   ]
  },
  {
   "cell_type": "markdown",
   "id": "41387be7-188f-4015-a7db-80ce88a203ac",
   "metadata": {
    "tags": []
   },
   "source": [
    "## 14.4 Non-linearity\n",
    "\n",
    "Our regression analysis so far assumes that the relationship between our independent and explanatory variables is linear. If this is not the case, and the relationship is non-linear, then we are getting inaccurate results with our analysis. \n",
    "\n",
    "Let's consider an example. We know that earnings increases with age, but what if economic theory predicts that the amount at which earnings increase for each year of age when workers are younger is larger than the amount at which earnings increase for each year of age when workers are older? What we are asking here is whether earnings is increasing with age at a decreasing rate. In essence, we want to check whether there is a concave relation between age and earnings. We can think of several mechanisms for why this relationship might exist: for a young worker, as they age they get higher wages through increased experience in the job; for an older worker, as they age those wage increases will be smaller as there are smaller productity gains with each additional year working. In fact, if the productivity of workers decreaseas as they age, perhaps for reasons related to health, then it is possible to find a negative relationship between age and earning beyond a certain age; the relationship is an inverted U-shape.\n",
    "\n",
    "We could check if this is the case in our model by including a new interaction term that is simply age interacted with itself. You learned how to do this in [Module 13](econometrics/econ490-stata/13_Dummy.ipynb). Let's include this in the regression above, remembering that age is a continuous variable."
   ]
  },
  {
   "cell_type": "code",
   "execution_count": null,
   "id": "10ab7d5b-3683-4868-b0ac-8cc00ebab38d",
   "metadata": {},
   "outputs": [],
   "source": [
    "reg logearnings c.age##c.age"
   ]
  },
  {
   "cell_type": "markdown",
   "id": "42c201c2-f7e4-415e-a931-659ef9ae04d6",
   "metadata": {},
   "source": [
    "There does seem to be some evidence in our regression results that this economic theory is correct, since the coefficient on the interaction term is both negative and statistically significant.\n",
    "\n",
    "How do we interpret these results? Let's think about the equation we have just estimated:\n",
    "$$\n",
    "Earnings_i = \\beta_0 + \\beta_1 Age_i + \\beta_2 Age^2_i + \\varepsilon_i \n",
    "$$\n",
    "This means that earnings of an individual change in the following way with their age:\n",
    "$$\n",
    "\\frac{\\partial Earnings_i}{\\partial Age_i} = \\beta_1 + 2 \\beta_2 Age_i\n",
    "$$\n",
    "Due to the quadratic term, as age changes, the relationship between age and earnings changes as well.\n",
    "We have just estimated $\\beta_1$ to be positive and equal to 0.079, and $\\beta_2$ to be negative and equal to 0.001.\n",
    "This means that as age increases, its correlation with earnings decrease:\n",
    "$$\n",
    "\\frac{\\partial Earnings_i}{\\partial Age_i} = 0.079 - 0.002 Age_i\n",
    "$$"
   ]
  },
  {
   "cell_type": "markdown",
   "id": "ed715e65-4306-46c2-8bb3-275d3ae98377",
   "metadata": {},
   "source": [
    "Since the marginal effect changes with the size of $Age_i$, providing one unique number for the marginal effect becomes difficult.\n",
    "The most frequently reported version of this effect is the ''marginal effect at the means'': the marginal effect of age on earnings when age takes its average value.\n",
    "In our case, this will be equal to 0.079 minus 0.002 times the average value of age.\n",
    "\n",
    "To do this in practice, we store the estimated coefficients and average age in three locals: local *agemean* stores the average age, while locals *beta1* and *beta2* store the estimated coefficients. You learned how to do this in [Module 4](econometrics/econ490-stata/4_Locals_and_Globals.ipynb). Notice that Stata automatically stores the estimated coefficients in locals with syntax `_b[regressor name]`. To retrieve the estimated coefficient $\\beta_2$, we manually create the variable $Age^2_i$ and call it *agesq*."
   ]
  },
  {
   "cell_type": "code",
   "execution_count": null,
   "id": "adc1e906-79b6-4766-8d06-f6a3ff34b0cd",
   "metadata": {},
   "outputs": [],
   "source": [
    "sum age\n",
    "local agemean : display %2.0fc r(mean)\n",
    "cap drop agesq\n",
    "gen agesq = age*age\n",
    "reg logearnings age agesq\n",
    "local beta1 : display %5.3fc _b[age]\n",
    "local beta2 : display %5.3fc _b[agesq]\n",
    "local marg_effect = `beta1' + (2 * `beta2' * `agemean')\n",
    "display \"beta1 is `beta1', beta2 is `beta2', and average age is `agemean'.\"\n",
    "display \"Therefore, the marginal effect at the means is `beta1' + 2*(`beta2')*`agemean', which is equal to `marg_effect'.\""
   ]
  },
  {
   "cell_type": "markdown",
   "id": "f0b46a3c-c5c8-463d-ae9c-df39c86ad0bb",
   "metadata": {},
   "source": [
    "We obtain that the marginal effect at the means is -0.011. What does that mean? It means that, for the average person, becoming one year older is associated with a 1% decrease in log earnings.\n",
    "\n",
    "Notice that this is the effect for the *average person*. Is the same true for young workers and elder workers? To learn how to interpret this non-linearity in age, let's see how the predicted earnings correlate with age.\n",
    "We can obtain the predicted earnings with the `predict` command and then use a scatterplot to eyeball its relationship with age. We covered how to create scatterplots in [Module 9](econometrics/econ490-stata/9_Stata_Graphs.ipynb).\n",
    "\n",
    "<div class=\"alert alert-info\">\n",
    "\n",
    "**Note:** Stata graphs will not appear in the Jupyter Notebooks. To make the most out of this part of the module, it is recommended that you run this code on Stata installed locally in your computer.\n",
    "    \n",
    "</div>"
   ]
  },
  {
   "cell_type": "code",
   "execution_count": null,
   "id": "8eb1a375-7663-427b-bc57-3ba0aeb4f8b3",
   "metadata": {},
   "outputs": [],
   "source": [
    "* Run the regression with the quadratic term\n",
    "reg logearnings c.age##c.age\n",
    "\n",
    "* Predict earnings and save them as yhat\n",
    "predict yhat, xb\n",
    "\n",
    "* Plot the scatterplot\n",
    "twoway scatter yhat age"
   ]
  },
  {
   "cell_type": "markdown",
   "id": "68af8720-b37c-4a72-8d0e-49630078d62a",
   "metadata": {},
   "source": [
    "You should obtain a scatterplot showing an inverted-U relationship between age and the predicted log-earnings. This relationship implies that, when a worker is very young, becoming older is positively correlated with earnings. However, after a certain age, this correlation becomes negative and the worker gets lower earnings for each additional year of age. In fact, based on this graph workers earns start to decline just after the age of 50. Had we modelled this as a linear model we would have missed this important piece of information!"
   ]
  },
  {
   "cell_type": "markdown",
   "id": "5ae22de1-124b-4165-919c-a9c0ab59eeed",
   "metadata": {},
   "source": [
    "<div class=\"alert alert-info\">\n",
    "\n",
    "\n",
    "**Note:** If there is a theoretical reason for believing that non-linearity exists, Stata provides some tests for non-linearity. You can also created a scatter-plot to see if you can observe a non-linear relationship in the data. We covered that approach in [Module 9](econometrics/econ490-stata/9_Stata_Graphs.ipynb).\n",
    "    \n",
    "</div>"
   ]
  },
  {
   "cell_type": "markdown",
   "id": "aaca8ff2-3cc5-4f75-a91d-c80c6f7f38a9",
   "metadata": {
    "tags": []
   },
   "source": [
    "## 14.5 Wrap Up \n",
    "\n",
    "It is important to always follow best practices for regression analysis. Nonetheless, checking and correcting for outliers, as well as addressing heteroskedasticity, multicollinearity and non-linearity can be more of an art than a science. If you need any guidance on whether or not you need to address these issues, please be certain to speak with your instructor or TA."
   ]
  },
  {
   "cell_type": "markdown",
   "id": "1233b0b7-2736-4e39-8a4d-324b2202df6f",
   "metadata": {
    "jp-MarkdownHeadingCollapsed": true,
    "tags": []
   },
   "source": [
    "## References\n",
    "\n",
    "[How to identify and replace unusual data values](https://www.youtube.com/watch?v=jIiHb0gsyVo)"
   ]
  }
 ],
 "metadata": {
  "kernelspec": {
   "display_name": "Stata",
   "language": "stata",
   "name": "stata"
  },
  "language_info": {
   "codemirror_mode": "stata",
   "file_extension": ".do",
   "mimetype": "text/x-stata",
   "name": "stata",
   "version": "15.1"
  }
 },
 "nbformat": 4,
 "nbformat_minor": 5
}
