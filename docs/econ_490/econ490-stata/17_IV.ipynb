{
 "cells": [
  {
   "cell_type": "markdown",
   "id": "6d173847",
   "metadata": {},
   "source": [
    "# ECON 490: Instrumental Variable Analysis (17)\n",
    "\n",
    "## Prerequisites\n",
    "\n",
    "1. Run OLS regressions.\n",
    "\n",
    "## Learning Outcomes\n",
    "\n",
    "1. Understand what an instrumental variable is and the conditions it must satisfy to address the endogeneity problem.\n",
    "2. Implement a Two Stage Least Squares (2SLS) regression-based approach using an instrument. \n",
    "3. Describe the weak instrument problem.\n",
    "4. Interpret the first stage test of whether or not the instrument is weak."
   ]
  },
  {
   "cell_type": "markdown",
   "id": "c6b7aee3",
   "metadata": {},
   "source": [
    "## 17.1 The linear IV model\n",
    "\n",
    "Consider a case where we want to know the effect of education on earnings. We may want to estimate a model like the following\n",
    "\n",
    "$$\n",
    "Y_{i} = \\alpha + \\beta X_i + \\epsilon_i\n",
    "$$\n",
    "where $Y_i$ is earnings of individual $i$ and $X_i$ is years of education of individual $i$.\n",
    "\n",
    "A possible issue comes from omitted variable bias: it is possible that the decision to attend school is influenced by other individual characteristics that are also correlated with earnings. For example, think of individuals with high innate ability. They may want to enroll in school for longer and obtain higher-level degrees. Moreover, their employers may compensate them for their high ability, regardless of their years of schooling.\n",
    "\n",
    "Instrumental variables can help us when there are hidden factors affecting both the treatment (in our case, years of education) and the outcome (in our case, earnings). The instrumental variables approach relies on finding something affecting the treatment and affecting the outcome solely through the treatment. In short, the instrument should satisfy two assumptions:\n",
    "1. *relevance*: the instrument should be correlated with the explanatory variable; in our case, it should be correlated with the years of education $X_i$;\n",
    "2. *exclusion restriction*: the instrument should be correlated with the dependent variable only through the explanatory variable; in our case, it should be correlated with $Y_i$ only through its correlation with $X_i$.\n",
    "\n",
    "Let's say we have found an instrumental variable $Z_i$ for the variable $X_i$. Then, using an Instrumental Variable analyis implies estimating the following model\n",
    "$$\n",
    "\\begin{align}\n",
    "Y_i &= \\alpha_1 + \\beta X_i + u_i  \\quad \\text{(Structural Equation)}\\\\\n",
    "X_i &= \\alpha_2 + \\gamma Z_i + e_i  \\quad \\text{(First Stage Equation)}\n",
    "\\end{align}\n",
    "$$\n",
    "where the two conditions we have seen above imply that:\n",
    "1. $\\gamma \\neq 0$;\n",
    "2. $Z_i$ is uncorrelated with $u_i$.\n",
    "\n",
    "In practice, using an Instrumental Variable analysis often implies using a Two-Stages Least Square (2SLS) estimator. The two steps of the 2SLS are:\n",
    "1. Estimate the First Stage Equation by OLS and obtain the predicted value of $X_i$. In this way, we have effectively split $X_i$ into\n",
    "$$\n",
    "X_i = \\underbrace{\\hat{X}_i}_\\text{exogenous part} + \\underbrace{\\hat{e}_i}_\\text{endogenous part} \n",
    "$$\n",
    "where $\\hat{X_i} \\equiv \\hat{\\alpha_2} + \\hat{\\gamma} Z_i $.\n",
    "\n",
    "2. Plug $\\hat{X_i}$ instead of $X_i$ into the Structural Equation and estimate via OLS. We are then using the \"exogenous\" part of $X_i$ to capture $\\beta$. \n",
    "\n",
    "<div class=\"alert alert-warning\">\n",
    "\n",
    "**Caution**: We can run 2SLS following the steps above, but when we want to do inference we need to be sure we're using the true residuals in the Structural equation $\\hat{u}_i$. The built-in Stata command `ivregress` or `ivreg2` automatically give us the right residuals.\n",
    "</div>\n",
    "\n",
    "\n",
    "Let's see how to estimate this in Stata. Once again, we can use our fictional dataset simulating wages of workers in the years 1982-2012 in a fictional country."
   ]
  },
  {
   "cell_type": "code",
   "execution_count": null,
   "id": "7a720ef9-90ff-43a3-bd72-1264801969e8",
   "metadata": {},
   "outputs": [],
   "source": [
    "clear* \n",
    "use fake_data, clear\n",
    "describe, de"
   ]
  },
  {
   "cell_type": "markdown",
   "id": "99d12879-83eb-4552-8755-d303e341d9e0",
   "metadata": {},
   "source": [
    "In Stata, we can perform IV analysis with a 2SLS estimator by using one of the following two commands: `ivregress` or `ivreg2`. They have a similar syntax:\n",
    "* `ivregress 2sls <Y> (<X> = <Z>)`\n",
    "* `ivreg2 <Y> (<X> = <Z>)`\n",
    "\n",
    "where instead of `<Y>`, `<X>`, and `<Z>` you have to write the names of the corresponding Y, X, and Z variables of your model.\n",
    "\n",
    "We now have to choose an instrumental variable that can work in our setting. A well-known example for an instrument for years of schooling is studied by Angrist and Krueger (1991): they propose that $Z$ is the quarter of birth. The premise behind their IV is that students are required to enter school in the *year they turn 6* but not necessarily when they are *already* 6 years old, creating a relationship between quarter of birth and schooling. At the same time, the time of the year one is born shouldn't  affect one's earnings aside from its effect on schooling.\n",
    "\n",
    "Let's see how to estimate a simple IV in Stata using our data and each one of the commands `ivregress` and `ivreg2`."
   ]
  },
  {
   "cell_type": "code",
   "execution_count": null,
   "id": "402d8abd-0942-422b-9b1a-653cd81ee34a",
   "metadata": {},
   "outputs": [],
   "source": [
    "ivregress 2sls earnings (schooling = quarter_birth)"
   ]
  },
  {
   "cell_type": "code",
   "execution_count": null,
   "id": "9feff843-86df-42ed-9917-21bc5060881f",
   "metadata": {},
   "outputs": [],
   "source": [
    "ivreg2 earnings (schooling = quarter_birth)"
   ]
  },
  {
   "cell_type": "markdown",
   "id": "330d1839-dd75-40ea-a03e-0f31ffddba1a",
   "metadata": {},
   "source": [
    "Both Stata functions give us a standard output: value of the coefficients, standard errors, p-value, and 95% confidence intervals. From the regression output, years of schooling does not seem to have any effect on earnings. However, before trusting these results we should check that the two assumptions on IV are met in this case: relevance and exclusion restriction.\n",
    "\n",
    "Notice that `ivreg2` gives us more details about tests we can perform to assess whether our instrument is valid. We will talk more about these tests, especially the weak identification test, in the paragraphs below."
   ]
  },
  {
   "cell_type": "markdown",
   "id": "fee9e2af-63b6-44fd-9f32-832fc3ce6eb4",
   "metadata": {},
   "source": [
    "## 17.2 Weak instrument test\n",
    "While we cannot really test for exclusion restriction, we can check whether our instrument is relevant. We do that by looking directly at the First Stage. \n",
    "In Stata, we only need to add the option `first` to get an explicit output for the First Stage."
   ]
  },
  {
   "cell_type": "code",
   "execution_count": null,
   "id": "510deec0-1dda-479d-bc68-0c337f75ce16",
   "metadata": {},
   "outputs": [],
   "source": [
    "ivregress 2sls earnings (schooling = quarter_birth), first"
   ]
  },
  {
   "cell_type": "code",
   "execution_count": null,
   "id": "e5e0a566-b375-4040-abe4-eafb40e854d9",
   "metadata": {},
   "outputs": [],
   "source": [
    "ivreg2 earnings (schooling = quarter_birth), first"
   ]
  },
  {
   "cell_type": "markdown",
   "id": "b57ec4aa-f287-473e-8b9f-f23c8dceb960",
   "metadata": {},
   "source": [
    "From both methods, we can see that the instrumental variable we have chosen is not relevant for our explanatory variable $X$: *quarter_birth* is not correlated with *schooling*. Another indicator of lack of relevance is given by the F-statistic reported by Stata in the \"Weak Identification test\" row: as a rule of thumb, every time its value is less than 10, the instrument is not relevant. \n",
    "\n",
    "Whenever the correlation between $X$ and $Z$ is very close to zero (as in our case), we say we have a *weak instrument* problem. In practice, this problem will result in severe finite-sample bias and large variance in our estimates. Since our instrument is not valid, we cannot trust the results we have obtained so far. "
   ]
  },
  {
   "cell_type": "markdown",
   "id": "da2f3ab4-fa3b-4a0b-a630-003fa083aab4",
   "metadata": {},
   "source": [
    "## 17.3 Wrap Up\n",
    "\n",
    "In this module we studied the Linear IV model and how to estimate it using the Two-Stage Least Squares Method using `ivregress` or `ivreg2`. We learned that we can overcome the endogeneity problem when we have access to a different type of variable: instrumental variables. A good instrument must satisfy two important conditions:\n",
    "\n",
    "1. It must be uncorrelated with the error term (also referred to as the exclusion restriction principle).\n",
    "2. It must be correlated, after controlling for observables, with the variable of interest (there must be a first stage).\n",
    "\n",
    "While condition 2 can be checked using regression results on the first stage, condition 1 is inherently not capable of being tested. Therefore, any project that uses instrumental variables must include a discussion, using contextual knowledge, of why condition 1 may hold. \n",
    "\n",
    "Finally, do not forget that for every endogenous variable in our regression, we require at least one instrument. For example, if we have a regression with 2 endogenous variables, we require at least 2 instrumental variables.\n",
    "\n",
    "The new commands we have encountered in this module are summarized below:\n",
    "|Command|Function|\n",
    "|---------|--------|\n",
    "|`ivregress 2sls`|It performs Instrumental Variable analysis using a Two-Stage Least Squares estimator.|\n",
    "|`ivreg2`|It performs Instrumental Variable analysis using a Two-Stage Least Squares estimator by default.|\n",
    "|`, first`| This option shows the results for the First Stage regression in the IV analysis.|"
   ]
  },
  {
   "cell_type": "markdown",
   "id": "dc4c4b2a-c90b-44f2-92a2-3bc72307dd8b",
   "metadata": {},
   "source": [
    "## 17.4 Video tutorial\n",
    "\n",
    "Click on the image below for a video tutorial on this module.\n",
    "\n",
    "[![Instrumental Variable Analysis](img/stata17.png)](https://learning.media.ubc.ca/media/Notebook+17+-+Instrumental+Variables/0_2j1kvl3m)"
   ]
  },
  {
   "cell_type": "markdown",
   "id": "f54276c9-38a9-4bd7-857b-687a2f8bc7e1",
   "metadata": {},
   "source": [
    "## References\n",
    "\n",
    "[Instrumental-variables regression using Stata](https://www.youtube.com/watch?v=lbnswRJ1qV0)"
   ]
  }
 ],
 "metadata": {
  "kernelspec": {
   "display_name": "Stata",
   "language": "stata",
   "name": "stata"
  },
  "language_info": {
   "codemirror_mode": "stata",
   "file_extension": ".do",
   "mimetype": "text/x-stata",
   "name": "stata",
   "version": "15.1"
  }
 },
 "nbformat": 4,
 "nbformat_minor": 5
}
