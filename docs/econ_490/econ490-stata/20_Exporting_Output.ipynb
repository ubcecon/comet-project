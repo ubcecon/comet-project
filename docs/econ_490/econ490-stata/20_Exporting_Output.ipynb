{
 "cells": [
  {
   "cell_type": "markdown",
   "id": "e52cb2f2-0d35-484f-a0e5-06ab45c68eee",
   "metadata": {},
   "source": [
    "# ECON 490: Exporting Regression Output (20)\n",
    "\n",
    "## Prerequisites\n",
    "\n",
    "1. Run OLS Regressions.\n",
    "\n",
    "## Learning Outcomes\n",
    "\n",
    "1. Being able to export regression output in a table. \n",
    "2. Being able to plot regression coefficients in a graph.\n"
   ]
  },
  {
   "cell_type": "markdown",
   "id": "261ed363-0dd2-46ba-a780-9f0f598a2d4c",
   "metadata": {},
   "source": [
    "## 20.1 Exporting regression output\n",
    "\n",
    "When doing our project, presenting our results in a clear and organized manner is as important as obtaining the results themselves. Stata's output is very clear on the computer display, but at some point we need to \"move\" it from Stata to our draft. In this module, we will see how to save a regression output in a table.\n",
    "\n",
    "Once again, we will be using the fictional dataset. Recall that this data is simulating information of workers in the years 1982-2012 in a fictional country where a training program was introduced in 2003 to boost their earnings.\n",
    "\n",
    "Let's start by opening the dataset."
   ]
  },
  {
   "cell_type": "code",
   "execution_count": null,
   "id": "578d136d-94e8-4d73-ab87-63a4ad8471e7",
   "metadata": {},
   "outputs": [],
   "source": [
    "* Load the dataset\n",
    "clear *\n",
    "use \"fake_data.dta\", clear"
   ]
  },
  {
   "cell_type": "markdown",
   "id": "1c72a1e2-2892-45e0-b66c-4e01191adc41",
   "metadata": {},
   "source": [
    "Imagine we are interested in estimating a multivariate regression of the following form\n",
    "\n",
    "$$\n",
    "\\text{Earnings}_{it} = \\alpha + \\beta_1 \\text{Age}_{it} + \\beta_2 \\text{Sex}_i + \\varepsilon_{it}\n",
    "$$\n",
    "\n",
    "where $\\text{Earnings}_{it}$ is the logarithm of earnings of individual $i$ at time $t$, $\\text{Age}_{it}$ is the logarithm of age of individual $i$ at time $t$, and $\\text{Sex}_i$ is a dummy variable equal to one if the sex of individual $i$ is female.\n",
    "\n",
    "First, we create the variables we need."
   ]
  },
  {
   "cell_type": "code",
   "execution_count": null,
   "id": "714811cb-218a-4d20-a851-f5afd32c5385",
   "metadata": {},
   "outputs": [],
   "source": [
    "* Create the variables\n",
    "gen logearn = log(earnings)\n",
    "gen logage = log(age)\n",
    "gen sexdummy = 1 if sex == \"F\"\n",
    "replace sexdummy = 0 if missing(sexdummy)"
   ]
  },
  {
   "cell_type": "markdown",
   "id": "f23c8280-c0ff-4df6-892a-78c85efaa841",
   "metadata": {},
   "source": [
    "Then, we can estimate our specification using the command `reg`. We have seen how to do it in [Module 11](econometrics/econ490-stata/11_Linear_Reg.ipynb). "
   ]
  },
  {
   "cell_type": "code",
   "execution_count": null,
   "id": "a67d6227-3bdf-4a06-b376-fee05dc1c9c8",
   "metadata": {},
   "outputs": [],
   "source": [
    "reg logearn logage sexdummy"
   ]
  },
  {
   "cell_type": "markdown",
   "id": "52fbff45-c734-4c31-9401-e516cf2d0b21",
   "metadata": {},
   "source": [
    "There are different options available to export this table to another file. In this module, we will use `etable`.\n",
    "\n",
    "`etable` can take several options. In its simplest specification, we just need to type `etable, export(filename)` after fitting a model to save a table in a file named *filename*. We can use files of Microsoft Word, Microsoft Excel, LATEX, Markdown, or PDF, but we need to specify the right extension.\n",
    "\n",
    "For example, let's save our results in a Microsoft Word file named *table.docx*."
   ]
  },
  {
   "cell_type": "code",
   "execution_count": null,
   "id": "3b7bb0f3-99f7-4f49-b2d7-d804c01f2fb8",
   "metadata": {},
   "outputs": [],
   "source": [
    "reg logearn logage sexdummy\n",
    "etable, export(table.docx)"
   ]
  },
  {
   "cell_type": "markdown",
   "id": "3efa1630-f31a-4176-b432-bd5b4242db2a",
   "metadata": {},
   "source": [
    "A file named *table.docx* should appear in your folder. Notice that this worked, but our table does not have a very professional appearance yet. We can add more options to the command `etable` to make our results more clear and organized.\n",
    "Here are some of the options we can add:\n",
    "- we can add more statistics, such as the number of observations (*N*), the R$^2$ (*r2*), the adjusted R$^2$ (*r2_a*), and the F statistic (*F*), with the option `mstat(N)`, `mstat(r2)`, `mstat(r2_a)`, and `mstat(F)`; \n",
    "- we can add a title *titlename* with the option `title(titlename)`;\n",
    "- we can show the stars indicating the level of significance of our coefficients with the option `showstars` and add a footnote explaining them with `showstarsnote`;\n",
    "- for the coefficients, we can display the variable labels instead of their names by adding the option `varlabel`;\n",
    "- for the dependent variable, we can display its variable label instead of its name by adding the option `column(dvlabel)`;\n",
    "- we can show only some coefficients, by including them in `keep(coeffnames)`. For example, we can show only the coefficients for age and sex by adding the option `keep(logage sexdummy)`.\n",
    "\n",
    "Let's try all of them in practice. Notice that now we add the option *replace* when we save the file because there is already a Microsoft Word file named *table.docx*: `export(table.docx, replace)`."
   ]
  },
  {
   "cell_type": "code",
   "execution_count": null,
   "id": "da2c1f35-1049-4115-a962-5ca58eae36fb",
   "metadata": {},
   "outputs": [],
   "source": [
    "* Add labels to variables\n",
    "label var logearn \"Earnings (ln)\"\n",
    "label var logage \"Age (ln)\"\n",
    "label var sexdummy \"Female\"\n",
    "\n",
    "* Run regression\n",
    "reg logearn logage sexdummy\n",
    "\n",
    "* Store results\n",
    "etable, export(table.docx, replace) mstat(N) mstat(r2_a) title(Earnings) showstars showstarsnote keep(logage sexdummy) varlabel column(dvlabel)"
   ]
  },
  {
   "cell_type": "markdown",
   "id": "39532544-49cf-4289-9092-8585a90049cf",
   "metadata": {},
   "source": [
    "This is way nicer, but what if we want to show the results of multiple models in the same table?\n",
    "Suppose we want to first estimate a model with only *Age* or only *Sex* as explanatory variable, and then a multivariate model encompassing both. In this case, we only need to store the results of each model using the command `estimates store`.\n",
    "\n",
    "In the example below, we store the three models in objects *model1*, *model2*, and *model3*."
   ]
  },
  {
   "cell_type": "code",
   "execution_count": null,
   "id": "f1bb9d08-af4b-4994-97e9-c8822c56eae7",
   "metadata": {},
   "outputs": [],
   "source": [
    "* Store first regression in model1\n",
    "regress logearn logage\n",
    "estimates store model1\n",
    "\n",
    "* Store second regression in model2\n",
    "regress logearn sexdummy\n",
    "estimates store model2\n",
    "\n",
    "* Store third regression in model3\n",
    "regress logearn logage sexdummy\n",
    "estimates store model3"
   ]
  },
  {
   "cell_type": "markdown",
   "id": "efc0b112-db63-4ac5-80f3-443d4a41f736",
   "metadata": {},
   "source": [
    "Now, we can export all the objects in one single table by calling their names in the options `estimates()`."
   ]
  },
  {
   "cell_type": "code",
   "execution_count": null,
   "id": "69b3cfe6-7c24-4cdf-ae6b-b71afbb6ebc5",
   "metadata": {},
   "outputs": [],
   "source": [
    "etable, estimates(model1 model2 model3) mstat(N) mstat(r2_a) showstars showstarsnote varlabel column(dvlabel) export(table.docx, replace)"
   ]
  },
  {
   "cell_type": "markdown",
   "id": "5b7c2486-bb8d-4f1c-91ba-f67559213388",
   "metadata": {},
   "source": [
    "## 20.2 Plotting regression coefficients\n",
    "\n",
    "Visual representations can be better than tables. Sometimes we need to plot our estimated coefficients and their confidence intervals. \n",
    "In Stata, this is easily done with command `coefplot`. The graphs obtained with `coefplot` are easy to customize. In its simplest use, we only need to run `coefplot` right after our regression.\n",
    "\n",
    "Once again, let's try it on our multivariate model. We can omit the constant by adding the option `drop(_cons)`. Remember to save the graph."
   ]
  },
  {
   "cell_type": "code",
   "execution_count": null,
   "id": "1924e70e-7658-415a-963c-efa7413323cb",
   "metadata": {},
   "outputs": [],
   "source": [
    "regress logearn logage sexdummy\n",
    "coefplot, drop(_cons)\n",
    "graph export graph1.jpg, as(jpg) replace"
   ]
  },
  {
   "cell_type": "markdown",
   "id": "ebacb453-7628-44dd-9ae1-1e7a2334f125",
   "metadata": {},
   "source": [
    "Since it is a graph, we can add most of the options that we have seen in [Module 9](econometrics/econ490-stata/9_Stata_Graphs.ipynb). For example, we can change the color of the background from light blue to white with the option `graphregion(color(white))`.\n",
    "\n",
    "There are some options that are specific to `coefplot`. By default confidence intervals are drawn at 95% significance levels. We can specify different and multiple levels in the option `levels()`. For example, we can show both the 95% and 99.9% confidence intervals with `levels(99.9 95)`. \n",
    "Additionally, we can use a vertical layout with the option `vertical`.\n",
    "\n",
    "Let's apply these options to our example."
   ]
  },
  {
   "cell_type": "code",
   "execution_count": null,
   "id": "b6d47a42-4de1-43bb-a62f-4ed5f9dd93d2",
   "metadata": {},
   "outputs": [],
   "source": [
    "regress logearn logage sexdummy\n",
    "coefplot, drop(_cons) graphregion(color(white)) levels(99.9 95) vertical\n",
    "graph export graph1.jpg, as(jpg) replace"
   ]
  },
  {
   "cell_type": "markdown",
   "id": "2571483d-726d-4e8e-9514-046625859e55",
   "metadata": {},
   "source": [
    "## 20.3 Wrap Up\n",
    "We have learned in this module how to store regression output in a clear and organized manner using the command `etable` and how to plot regression coefficients using the command `coefplot`.\n",
    "\n",
    "Remember to check the Stata documentation when creating graphs and exporting tables. The documentation can be your best ally if you end up using it.\n",
    "\n",
    "Here is a summary of the new commands we have seen in this module.\n",
    "\n",
    "|Command| Function|\n",
    "|-------|---------|\n",
    "|`etable, export(filename)`|It exports the regression output to a file named *filename*.|\n",
    "|`coefplot`|It plots regression coefficients and their 95% confidence intervals.|"
   ]
  },
  {
   "cell_type": "markdown",
   "id": "be2ad295-052e-423f-8f80-a3616aa10772",
   "metadata": {},
   "source": [
    "## References \n",
    "\n",
    "[etable manual](https://www.stata.com/manuals/retable.pdf) <br>\n",
    "[How to use coefplot](https://repec.sowi.unibe.ch/stata/coefplot/getting-started.html) <br>"
   ]
  },
  {
   "cell_type": "code",
   "execution_count": null,
   "id": "02c07cdd-3564-41f0-8d55-84a4e3de95fc",
   "metadata": {},
   "outputs": [],
   "source": []
  }
 ],
 "metadata": {
  "kernelspec": {
   "display_name": "Stata",
   "language": "stata",
   "name": "stata"
  },
  "language_info": {
   "codemirror_mode": "stata",
   "file_extension": ".do",
   "mimetype": "text/x-stata",
   "name": "stata",
   "version": "15.1"
  }
 },
 "nbformat": 4,
 "nbformat_minor": 5
}
