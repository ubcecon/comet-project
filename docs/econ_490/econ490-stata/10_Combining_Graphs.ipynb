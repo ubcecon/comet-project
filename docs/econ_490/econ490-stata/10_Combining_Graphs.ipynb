{
 "cells": [
  {
   "cell_type": "markdown",
   "id": "bd3153b3",
   "metadata": {},
   "source": [
    "# Econ 490: Combining Graphs in Stata (10)\n",
    "\n",
    "## Prerequisites \n",
    "\n",
    "1. Be able to effectively use Stata do-files and generate log-files.\n",
    "2. Be able to change your directory so that Stata can find your files.\n",
    "3. Import datasets in csv and dta format. \n",
    "4. Save data files. \n",
    "5. Use the command `twoway`.\n",
    "\n",
    "## Learning Outcomes \n",
    "\n",
    "1. Know how to combine and save graphs using the commands `graph combine` and `graph export`.\n",
    "\n",
    "\n",
    "<div class=\"alert alert-block alert-info\">\n",
    "<b>Note:</b> Your best approach to completing this module is to copy and paste these commands into a do-file in Stata. Because Stata produces graphs in a separate window, Jupyter Notebooks will not produce a graph that you can see when you execute the commands on this page. The most we can do is export image files to a directory on your computer. You will see these commands whenever a graph is produced below. \n",
    "</div>\n",
    "\n",
    "We'll continue working with the fake data data set we have been using as we work developing our research skills. Recall that this data set is simulating information for workers in the years 1982-2012 in a fake country where a training program was introduced in 2003 to boost their earnings. "
   ]
  },
  {
   "cell_type": "code",
   "execution_count": null,
   "id": "166d11aa",
   "metadata": {},
   "outputs": [],
   "source": [
    "use fake_data, clear "
   ]
  },
  {
   "cell_type": "markdown",
   "id": "3b49d8be-908f-42d8-a3c4-96ec59bfa27c",
   "metadata": {},
   "source": [
    "In this module, we will we will work on two examples. The first example covers combining two graphs with the same schema, while the second covers combining two graphs with different schemas."
   ]
  },
  {
   "cell_type": "markdown",
   "id": "365c5dac-4a4e-4f4d-990c-ead83dfe25c2",
   "metadata": {},
   "source": [
    "## 10.1 Example 1\n",
    "For this example, we want to generate two graphs with the same schema (they are the same type of graph and use the same variables as their x and y axis) and combine them using the `graph combine` command. Let's begin by setting up the data. We are going to first generate a new variable that shows the logarithm of workers' earnings. As explained in previous modules, collapsing data is irreversible; therefore, we can `preserve` the data set before we collapse it. Then, once we don't want to use the collapsed version of the data set anymore, we can `reverse` it back to the original data set we preserved. Therefore,  we are going to preserve our data set and then collapse it by variables `treated` and `year`. This way our data has no two unique ids, `treated` and `year`. "
   ]
  },
  {
   "cell_type": "code",
   "execution_count": null,
   "id": "67c999dd",
   "metadata": {
    "scrolled": true
   },
   "outputs": [],
   "source": [
    "gen log_earnings = log(earnings)\n",
    "la var log_earnings \"Log-earnings\"\n",
    "\n",
    "preserve\n",
    "\n",
    "collapse (mean) log_earnings, by(region treated year)"
   ]
  },
  {
   "cell_type": "markdown",
   "id": "e6d8b471",
   "metadata": {},
   "source": [
    "Now that we have our data prepared, we can start generating the two graphs and combine them using the `graph combine` command. We want these graphs to compare log-earnings between the control and treated groups in regions 1 and 2. To do this, we can create one graph that compares log-earnings between control and treated groups in region 1 and another that does the same comparison for region 2.\n",
    "\n",
    "Note that because the commands are so long it is clearer for us to run them using `///` at indicate to that the command continues on the next line. You will not be able to execute multi-line commands in the Command Window; they will need to included in a do-file. Note that we also indent the lines to make it easier to read the complete command. "
   ]
  },
  {
   "cell_type": "code",
   "execution_count": null,
   "id": "26abd096",
   "metadata": {},
   "outputs": [],
   "source": [
    "*** Generate graph for Region 1 ***\n",
    "\n",
    "twoway (connected log_earnings year if region==1 & treated==1)      ///\n",
    "    (connected log_earnings year if region==1 & treated==0),        ///\n",
    "        xline(2002, lpattern(dash))                                 /// \n",
    "        ylab(9.5(0.5)11)                                            ///\n",
    "        ytitle(\"Log-earnings\") xtitle(\"Year\")                       ///\n",
    "        legend( label(1 \"Treated\") label(2 \"Control\"))              ///\n",
    "        aspectratio(1)                                              ///\n",
    "        title(\"Region 1\") name(\"R1\", replace)"
   ]
  },
  {
   "cell_type": "code",
   "execution_count": null,
   "id": "efa9d34c",
   "metadata": {},
   "outputs": [],
   "source": [
    "*** Generate graph for Region 2 ***\n",
    "\n",
    "twoway (connected log_earnings year if region==2 & treated) ||      ///\n",
    "    (connected log_earnings year if region==2 & !treated),          ///\n",
    "        xline(2002, lpattern(dash))                                 ///\n",
    "        ylab(9.5(0.5)11)                                            ///\n",
    "        ytitle(\"Log-earnings\") xtitle(\"Year\")                       ///\n",
    "        legend( label(1 \"Treated\") label(2 \"Control\"))              ///\n",
    "        aspectratio(1)                                              ///\n",
    "        title(\"Region 2\") name(\"R2\", replace)"
   ]
  },
  {
   "cell_type": "markdown",
   "id": "8c6e85d7-bc3a-48f0-a642-2aff9aa682a0",
   "metadata": {},
   "source": [
    "We added a number of options here to make the graphs look appealing. The best way to learn what these do is use `help twoway` and explore the options that are available. A number of these things can also be changed in the Graph Editor, but note that they will not be included in the do-file. You will want to save those files under a different name so they are not overwritten. \n",
    "\n",
    "Now let's see what it looks like when we combine these graphs together into one panel."
   ]
  },
  {
   "cell_type": "code",
   "execution_count": null,
   "id": "fa461164",
   "metadata": {},
   "outputs": [],
   "source": [
    "*** Combine graphs ***\n",
    "\n",
    "graph combine R1 R2, cols(2) title(\"Panel A: Log-earnings by Region\") saving(panel_a, replace)\n",
    "\n",
    "graph export graph10.jpg, as(jpg) replace"
   ]
  },
  {
   "cell_type": "markdown",
   "id": "1108b840",
   "metadata": {},
   "source": [
    "![Panel A](img/panel_a.svg)"
   ]
  },
  {
   "cell_type": "markdown",
   "id": "01db5749",
   "metadata": {},
   "source": [
    "## 10.2 Example 2\n",
    "For this example we want to combine graphs that do not follow the same schema. Lets say we are interested in seeing if there is any relationship between the distribution of earnings (*log_earnings*) and how worker's earnings change over time in region 1. Like we saw last module, we usually use histograms to present density distribution and we can use a scatter plot or a line plot for the graph of earnings over time. We will begin by generating a histogram of log-earnings in region 1. "
   ]
  },
  {
   "cell_type": "code",
   "execution_count": null,
   "id": "245fe383",
   "metadata": {},
   "outputs": [],
   "source": [
    "restore       "
   ]
  },
  {
   "cell_type": "code",
   "execution_count": null,
   "id": "4242880b",
   "metadata": {},
   "outputs": [],
   "source": [
    "histogram log_earnings if region==1,   ///\n",
    "    aspectratio(1)                     ///\n",
    "    name(\"histogram1\", replace)"
   ]
  },
  {
   "cell_type": "markdown",
   "id": "e25eb31f",
   "metadata": {},
   "source": [
    "Let's create our second graph. "
   ]
  },
  {
   "cell_type": "code",
   "execution_count": null,
   "id": "d49ae0a5",
   "metadata": {},
   "outputs": [],
   "source": [
    "preserve              \n",
    "\n",
    "collapse (mean) log_earnings, by(region year)"
   ]
  },
  {
   "cell_type": "code",
   "execution_count": null,
   "id": "cf7f3ada",
   "metadata": {},
   "outputs": [],
   "source": [
    "twoway (connected log_earnings year if region==1), ///\n",
    "    ytitle(\"Log-earnings\") xtitle(\"Year\")        ///\n",
    "    aspectratio(1)                               ///\n",
    "    name(\"plot1\", replace)"
   ]
  },
  {
   "cell_type": "markdown",
   "id": "292292e8",
   "metadata": {},
   "source": [
    "Now we combine `histogram1` with `plot1`. "
   ]
  },
  {
   "cell_type": "code",
   "execution_count": null,
   "id": "310efb4c",
   "metadata": {},
   "outputs": [],
   "source": [
    "graph combine histogram1 plot1, cols(2) title(\"Region 1\") name(newcombine, replace)\n",
    "\n",
    "graph export graph10.jpg, as(jpg) replace"
   ]
  },
  {
   "cell_type": "markdown",
   "id": "220ed099-8ceb-4d02-a504-eb02fe30f71c",
   "metadata": {},
   "source": [
    "## 10.3 Wrap Up\n",
    "In this module we learned how to use the command `generate combine`. When producing a research paper we might want to compare statistics from different countries or different regions such as GDP, population density, inflation, exports, etc. These types of graphs allow us to see how the same variables diverge between different categories (for example how earnings diverge between region 1 and 2 in ex. 1) and also can show the relationship between different variables throughout one. Understanding what graphs to use and how to portray them is of extreme importance when building a research project, which is why working alongside the `twoway` and `graph combine` documentation is always of great value."
   ]
  },
  {
   "cell_type": "markdown",
   "id": "4f4d7fd1-ce14-481c-b120-8a23fe9921d1",
   "metadata": {},
   "source": [
    "## References\n",
    "\n",
    "[Getting started in stata (includes graphing)](https://www.youtube.com/watch?v=YAVq99iUTTI) <br>\n",
    "[(Non StataCorp) Combining graphs in Stata](https://www.youtube.com/watch?v=GN9Jh7ZLauI)"
   ]
  }
 ],
 "metadata": {
  "kernelspec": {
   "display_name": "Stata",
   "language": "stata",
   "name": "stata"
  },
  "language_info": {
   "codemirror_mode": "stata",
   "file_extension": ".do",
   "mimetype": "text/x-stata",
   "name": "stata",
   "version": "15.1"
  }
 },
 "nbformat": 4,
 "nbformat_minor": 5
}
