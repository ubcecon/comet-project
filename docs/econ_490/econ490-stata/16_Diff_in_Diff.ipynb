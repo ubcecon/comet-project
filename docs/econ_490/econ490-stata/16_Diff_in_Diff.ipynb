{
 "cells": [
  {
   "cell_type": "markdown",
   "id": "c2034a7b",
   "metadata": {},
   "source": [
    "# ECON 490: Differences-in-Differences Analysis (16)\n",
    "\n",
    "## Prerequisites\n",
    "\n",
    "1. Run OLS regressions.\n",
    "2. Run panel data regressions.\n",
    "\n",
    "## Learning Outcomes\n",
    "\n",
    "1. Understand the parallel trends (PT) assumption.\n",
    "2. Run the according OLS regression that retrieves the causal estimand.\n",
    "3. Implement these regressions in the two-period case and in multiple time periods (a.k.a event studies).\n",
    "4. Conduct a test on the plausibility of the PT whenever there are more than 1 pre-treatment periods."
   ]
  },
  {
   "cell_type": "markdown",
   "id": "8899bd6d",
   "metadata": {
    "tags": []
   },
   "source": [
    "## 16.1 Loading the *panel* data \n",
    "\n",
    "Difference-in-differences (Diff-in-Diff) is a **research design** used to estimate the causal impact of a treatment by comparing the changes in outcomes over time between a treated group and an untreated or control group. By comparing changes in outcomes over time, it relies on the use of multiple (at least two) time periods. Therefore, there is a link between Diff-in-Diff designs and panel data. Every time you want to use a Diff-in-Diff design, you always have to make sure you have panel data.\n",
    "\n",
    "Why are panel datasets crucial in Diff-in-Diff research designs? The idea is that panel data allows us to control for unobserved time invariant heterogeneity. \n",
    "Consider the following example. Earnings $y_{it}$ of worker $i$ at time $t$ can be split into two components:\n",
    "\n",
    "$$\n",
    "y_{it} = e_{it} + \\alpha_{i}\n",
    "$$\n",
    "\n",
    "where $\\alpha_i$ is a measure of worker quality and $e_{it}$ are the part of earnings not explained by $\\alpha_i$. This says that a bad quality worker (low $\\alpha_i$) will receive lower earnings *at any time period*. Notice that worker quality is typically unobserved and is usually part of our error term, which should not be correlated with treatment. In many cases, this invariant heterogeneity is the cause of endogeneity bias. In this example, it can be that workers who attend a training program also tend to be the ones that perform poorly at their job and *select* into this program. \n",
    "\n",
    "However, notice that if we take time differences, we get rid of this heterogeneity. Suppose we subtract earnings at time $1$ from earnings at time $0$ obtaining: \n",
    "\n",
    "$$\n",
    "y_{i1} - y_{i0} =   e_{i1} - e_{i0}\n",
    "$$\n",
    "\n",
    "where our new equation no longer depends on $\\alpha_i$! However, our model now has *changes* rather than levels. This is going to be the trick used implicitly throughout this module."
   ]
  },
  {
   "cell_type": "markdown",
   "id": "a6a715f1-03c3-4160-af3c-5c5b230fcd77",
   "metadata": {},
   "source": [
    "For this module, we will keep working on our fake dataset. Recall that this data is simulating information of workers in the years 1982-2012 in a fake country where a training program was introduced in 2003 to boost their earnings.\n",
    "\n",
    "Let's start by loading our data and letting Stata know that it is a panel data with panel variable *workerid* and time variable *year*. You will remember that we have seen how to do this in [Module 14](econometrics/econ490-stata/14_Panel_Data.ipynb). "
   ]
  },
  {
   "cell_type": "code",
   "execution_count": null,
   "id": "ec60dead-05dc-4711-bc0e-7faf03f336c3",
   "metadata": {},
   "outputs": [],
   "source": [
    "* Load the data\n",
    "clear* \n",
    "use fake_data, clear \n",
    "\n",
    "* Set as panel data\n",
    "xtset workerid year, yearly"
   ]
  },
  {
   "cell_type": "markdown",
   "id": "3bedfdca",
   "metadata": {
    "tags": []
   },
   "source": [
    "## 16.2 Parallel trends assumption\n",
    "\n",
    "When using a Diff-in-Diff design, you should always make sure that your data has a binary treatment variable which takes value 1 when your unit of observation is treated and 0 otherwise. In the example above, let's denote such a binary treatment variable as $D_i$. It takes value 1 if a worker $i$ is enrolled in the training program at some point in time.\n",
    "\n",
    "In our fake dataset, the binary treatment variable already exists and is called *treated*. Let's check that it takes values 0 or 1."
   ]
  },
  {
   "cell_type": "code",
   "execution_count": null,
   "id": "2e3be425-fdbe-4acd-8c3e-027e340a5eee",
   "metadata": {},
   "outputs": [],
   "source": [
    "describe, full\n",
    "\n",
    "sum treated, detail"
   ]
  },
  {
   "cell_type": "markdown",
   "id": "c1393eef-ec0d-4b35-9319-de26571277fa",
   "metadata": {},
   "source": [
    "The aim of Diff-in-Diff analysis is to estimate the causal impact of a treatment by comparing the changes in outcomes over time between a treated group and an untreated or control group.\n",
    "A crucial assumption needed to claim causal impact is that, *in the absence of treatment*, the treatment and control groups would follow similar trends over time. This assumption is called **parallel trends assumption**. Whenever we adopt a Diff-in-Diff design in our research, the first thing we need to check is that this assumption is satisfied.\n",
    "How do we do that?\n",
    "\n",
    "A common approach to check that for parallel trends is to plot the mean outcome for each group (the treated and untreated group) over time.\n",
    "We start by generating the average log-earnings for each group in each year."
   ]
  },
  {
   "cell_type": "code",
   "execution_count": null,
   "id": "9905d07a-91cc-4dba-9764-2a93b12a3595",
   "metadata": {},
   "outputs": [],
   "source": [
    "* Generate log-earnings\n",
    "gen logearn = log(earnings)\n",
    "\n",
    "* Take the average by group and year\n",
    "bysort year treated: egen meanearn = mean(logearn)"
   ]
  },
  {
   "cell_type": "markdown",
   "id": "67b7ddc9-767d-4958-bb89-6981e1965f93",
   "metadata": {},
   "source": [
    "Next, we plot the trend of average earnings by each group. Remember that we have seen how to make graphs in [Module 9](econometrics/econ490-stata/9_Stata_Graphs.ipynb).\n",
    "It is common practice to add a vertical line in the period just before the treatment is assigned. In our case, that would be year 2002. The idea is that the treated workers receive the treatment between years 2002 and 2003."
   ]
  },
  {
   "cell_type": "code",
   "execution_count": null,
   "id": "957fdcb2-21ba-4a3f-80af-a53931b0b7b1",
   "metadata": {},
   "outputs": [],
   "source": [
    "* Make graph\n",
    "twoway (line meanearn year if treated == 1, lcolor(gs12) lpattern(solid)) || ///\n",
    "    (line meanearn year if treated == 0, lcolor(gs6) lpattern(dash)), ///\n",
    "    graphregion(color(white))                     ///\n",
    "    legend(label(1 \"Treated\") label(2 \"Control\")) ///\n",
    "    ytitle(\"Average earnings\") xtitle(\"Year\")     ///\n",
    "    xline(2002, lpattern(dash) lcolor(black))\n",
    "graph export graph1.jpg, as(jpg) replace"
   ]
  },
  {
   "cell_type": "markdown",
   "id": "b92dd66b-d6be-4c29-92a3-345a06e800a1",
   "metadata": {},
   "source": [
    "Remember that we care about the two variables having similar trends *before* the year of the treatment. By looking at the graph, it seems that the average earnings of the two groups had similar trends up until year 2002, just right before the treatment.\n",
    "This makes us confident that the parallel trends assumption is satisfied.\n",
    "\n",
    "This test for parallel trends assumption is very rudimentary, but perfectly fine for the early stage of our research project. In the next sections, we will see how to estimate the Diff-in-Diff design and there we will see a more formal test for parallel trends assumption."
   ]
  },
  {
   "cell_type": "markdown",
   "id": "8ad2ac63",
   "metadata": {
    "tags": []
   },
   "source": [
    "## 16.3 Difference-in-Differences and Regression\n",
    "\n",
    "Whenever we talk about difference-in-differences, we refer to a research design that relies on some version of the parallel trend assumption. To connect this design to regression, we need to first build a model. To begin, we will assume a case where no control variables are involved. \n",
    "\n",
    "For simplicity, suppose there are only two periods: a period $t=0$ when no-one is treated, and a period $t=1$ when some workers receive the treatment.\n",
    "We would then rely on a linear model of the form: \n",
    "\n",
    "$$\n",
    "y_{it} = \\beta D_i \\mathbf{1}\\{t=1\\}  +  \\lambda_t + \\alpha_i + e_{it} \\tag{1}\n",
    "$$ \n",
    "\n",
    "where $y_{it}$ is earnings while $\\lambda_t$ and $\\alpha_i$ are year and worker fixed effects.\n",
    "The key element in this linear model is the interaction between $D_i$ and $\\mathbf{1}\\{t=1\\}$.\n",
    "Recall that $D_i$ is a dummy variable taking value 1 if worker $i$ receives the treatment at any point in time and $\\mathbf{1}\\{t=1\\}$ is a dummy variable taking value 1 when $t=1$.\n",
    "Therefore, the interaction term $D_i \\mathbf{1}\\{t=1\\}$ will take value 1 for treated workers only when the year is $t=1$.\n",
    "The parameter $\\beta$ provides the average treatment effect (on the treated) at period $t=1$ (i.e. the effect activates for those with $D_i=1$ and at $t=1$). It is the average impact of the treatment on those workers who actually received the treatment. $\\beta$ states by how much the average earnings of treated individuals would have changed if they had not received the treatment."
   ]
  },
  {
   "cell_type": "markdown",
   "id": "358c9732",
   "metadata": {
    "tags": []
   },
   "source": [
    "Let's see how we can estimate this Diff-in-Diff linear model.\n",
    "Recall that we have information of workers in the years 1982-2012 and the training program (the treatment) as introduced in 2003. We'll keep one year prior and one year after the program, to keep things consistent with the previous section. Specifically, we can think of year 2002 as $t=0$ and year 2003 as $t=1$."
   ]
  },
  {
   "cell_type": "code",
   "execution_count": null,
   "id": "6f91ea52",
   "metadata": {},
   "outputs": [],
   "source": [
    "keep if year==2002 | year==2003"
   ]
  },
  {
   "cell_type": "markdown",
   "id": "44c31f21-9d76-4a5b-a94f-a3d8efa85876",
   "metadata": {},
   "source": [
    "Notice that the Diff-in-Diff linear model in Equation (1) can be seen as a specific case of a linear model with many fixed effects. We can use either the command `areg` or `reghdfe` to run this type of regression. In either case, remember to list in `absorb()` all the fixed effects we don't want to see in the regression output. \n",
    "Recall that we can create fixed effects with the `i.` operator and interactions with the `#` operator."
   ]
  },
  {
   "cell_type": "code",
   "execution_count": null,
   "id": "c20d4480",
   "metadata": {},
   "outputs": [],
   "source": [
    "areg logearn treated#2003.year i.year, absorb(workerid)"
   ]
  },
  {
   "cell_type": "markdown",
   "id": "d7f72df1",
   "metadata": {},
   "source": [
    "This says that *on average* workers who entered the program received 18 percentage points more earnings relative to a counterfactual scenario where they never entered the program (which in this case is captured by the control units). How did we get this interpretation? Recall that OLS estimates are interpreted as a 1 unit increase in the independent variable: a 1 unit increase of $ D_i \\mathbf{1}\\{t=1\\}$ corresponds to those who started receiving treatment at $t=1$. Furthermore, the dependent variable is in log scale, so a 0.18 increase corresponds to a 18 percentage point increase in earnings. "
   ]
  },
  {
   "cell_type": "markdown",
   "id": "30d75e4d",
   "metadata": {
    "jp-MarkdownHeadingCollapsed": true,
    "tags": []
   },
   "source": [
    "### 16.3.1  Adding covariates \n",
    "\n",
    "The first thing to notice is that our regression specification in Equation (1) involves workers fixed effects $\\alpha_i$. This means that every worker characteristic that is fixed over time (for example, sex at birth) will be absorbed by the fixed effects $\\alpha_i$. Therefore, if we added characteristics such as sex and race, those will be omitted from the regression due to perfect collinearity. \n",
    "\n",
    "This means that we can add covariates to the extent that they are time varying by nature (e.g. tenure, experience) or are trends based on fixed characteristics (e.g. time dummies interacted with sex). We refer to the latter as covariate-specific trends. \n",
    "\n",
    "Algebraically, we obtain a specification that is very similar to Equation (1):\n",
    "$$\n",
    "y_{it} = \\beta D_i \\mathbf{1}\\{t=1\\}  + \\gamma X_{it} +  \\lambda_t + \\alpha_i + e_{it} \\tag{2}\n",
    "$$ \n",
    "\n",
    "where $X_{it}$ is a time varying characteristic of worker $i$ and time $t$."
   ]
  },
  {
   "cell_type": "markdown",
   "id": "8b55d20e",
   "metadata": {
    "tags": []
   },
   "source": [
    "## 16.4 Multiple Time Periods\n",
    "\n",
    "When we have kept only years 2002 and 2003, we have canceled substantial information. We may want to keep our dataset at its original state, with all its years.\n",
    "A very natural approach to extending this to multiple time periods is to attempt to get the average effect across all post-treatment time periods (i.e. maybe the effects of the training program decay over time, but we are interested in the average over time). We may think of maintaining the parallel trends assumption in a model like this: \n",
    "\n",
    "$$\n",
    "y_{it} = \\beta D_i \\mathbf{1}\\{t\\geq 1\\}  + \\lambda_t + \\alpha_i + e_{it} \\tag{3}\n",
    "$$ \n",
    "\n",
    "where the $\\beta$ corresponds now to all time periods following the year in which treatment was applied: $t\\geq 1$. Some people rename $ D_i \\mathbf{1}\\{t\\geq 1\\}$ to $D_{it}$, where $D_{it}$ is simply a variable that takes 0 before any treatment and 1 for those who are being treated at that particular time $t$. This is known as the *Two-way Fixed Effects Model* . It receives this name because we are including unit fixed effects, time fixed effects, and our treatment status. "
   ]
  },
  {
   "cell_type": "markdown",
   "id": "3c63b22a-747f-41bb-9b58-ebaef419b1eb",
   "metadata": {},
   "source": [
    "Let's load our fake dataset again and estimate a Two-way Fixed Effects Model step-by-step."
   ]
  },
  {
   "cell_type": "code",
   "execution_count": null,
   "id": "0ad40e29",
   "metadata": {},
   "outputs": [],
   "source": [
    "* Load data\n",
    "clear* \n",
    "use fake_data, clear \n",
    "\n",
    "* Generate log-earnings\n",
    "gen logearn = log(earnings)"
   ]
  },
  {
   "cell_type": "markdown",
   "id": "56973388-9283-4fa4-a227-ba2e9aded27c",
   "metadata": {},
   "source": [
    "Remember that now we need to create $\\mathbf{1}\\{t\\geq 1\\}$, a dummy equal to 1 for all years following the year in which the treatment was administered. In our example, we need to create a dummy variable taking value 1 for all years greater or equal than 2003."
   ]
  },
  {
   "cell_type": "code",
   "execution_count": null,
   "id": "d3f7d5f1-18a3-43b1-a97d-6d4fa127a19c",
   "metadata": {},
   "outputs": [],
   "source": [
    "gen post2003 = year>=2003"
   ]
  },
  {
   "cell_type": "markdown",
   "id": "0b543990-c881-4f43-a43b-187ba8e34f1d",
   "metadata": {},
   "source": [
    "We can use again `areg` or `reghdfe` to estimate Equation (3), but remember to use the new *post2003* dummy variable."
   ]
  },
  {
   "cell_type": "code",
   "execution_count": null,
   "id": "b1826685",
   "metadata": {
    "tags": []
   },
   "outputs": [],
   "source": [
    "areg logearn 1.treated#1.post2003 i.year, absorb(workerid)"
   ]
  },
  {
   "cell_type": "markdown",
   "id": "8a1c2987",
   "metadata": {},
   "source": [
    "The results say that a 1 unit increase in $D_i \\mathbf{1}\\{t\\geq 1\\}$ corresponds to a 0.07 increase in log-earnings *on average*. That 1 unit increase only occurs for those who start receiving treatment in 2003. Given that the outcome is in a log scale, we interpret these results in percentage points. Therefore, the coefficient of interest says that those who started treatment in 2003 received, on average, a 7 percentage point increase in earnings."
   ]
  },
  {
   "cell_type": "markdown",
   "id": "85b2c4fa",
   "metadata": {},
   "source": [
    "In this fake data set, everyone either starts treatment at year 2003 or does not enter the program at all. However, when there is variation in the timing of the program (i.e. people entering the training program earlier than others), regression using this model may fail to capture the true parameter of interest. For a reference, see this [paper](https://www.sciencedirect.com/science/article/abs/pii/S0304407621001445)."
   ]
  },
  {
   "cell_type": "markdown",
   "id": "3c893b15",
   "metadata": {
    "tags": []
   },
   "source": [
    "## 16.5 Event studies\n",
    "\n",
    "The natural extension of the previous section, which is the standard approach today, is to estimate different treatment effects depending on the time period.\n",
    "It may be possible that the effect of the treatment fades over time: it was large right after the training program was received, but then decreased over time.\n",
    "\n",
    "To capture the evolution of treatment effects over time, we may want to compute treatment effects at different time lags from when the program was received: 1 year after, 2 years after, and so on.\n",
    "Similarly, we may compute \"treatment effects\" at different years *prior* the program.\n",
    "This is a very powerful tool because it allows us to more formally test whether the parallel trend assumption holds or not: if there are treatment effects prior to receiving the treatment, then the treatment and control groups were likely not having the same trend before receiving the treatment. This is often known as a pre-trends test."
   ]
  },
  {
   "cell_type": "markdown",
   "id": "47a48406-d4af-4911-9221-710f529dc6a7",
   "metadata": {},
   "source": [
    "A linear model where we test for different treatment effects in different years is usually called *Event study*.\n",
    "Essentially, we extend the Diff-in-Diff linear model to the following equation:\n",
    "\n",
    "$$\n",
    "y_{it} = \\sum_{k=-T,k\\neq1}^T \\beta_k \\mathbf{1}\\{K_{it} = k\\}  + \\lambda_t + \\alpha_i + e_{it} \\tag{4}\n",
    "$$ \n",
    "\n",
    "where $K_{it}$ are event time dummies (i.e. whether person $i$ is observed at event time $k$ in time $t$). Notice that, for workers who never enter treatment, it is as if the event time is $\\infty$: they are an infinite amount of years away from receiving the treatment. Due to multicollinearity, we need to omit one category of event time dummies $k$. The typical choice is $k=-1$ (one year prior to treatment), which will serve as our reference group. This means that we are comparing changes relative to event time -1. "
   ]
  },
  {
   "cell_type": "markdown",
   "id": "420f3934-3eb2-49c6-82bc-c88ab2552bcd",
   "metadata": {},
   "source": [
    "How do we estimate Equation (4) in practice?\n",
    "We begin by constructing a variable that identifies the time relative to the event. For instance, if a person enters the training program in 2003, the observation corresponding to 2002 is time -1 relative to the event, the observation corresponding to 2003 is time 0 relative to the event, and so on. We call this variable *event_time* and we compute it as the difference between the current year and the year in which the treatment was received (stored in variable *time_entering_treatment*).\n",
    "\n",
    "In this fake data set, everyone enters the program in 2003, so it is very easy to construct the event time. If this is not the case, you need to make sure that your data set contains a variable which states the year in which every person receives the treatment."
   ]
  },
  {
   "cell_type": "code",
   "execution_count": null,
   "id": "d4cfea7c",
   "metadata": {},
   "outputs": [],
   "source": [
    "* Load data\n",
    "clear* \n",
    "use fake_data, clear \n",
    "\n",
    "* Generate log-earnings\n",
    "gen logearn = log(earnings)\n",
    "\n",
    "* Generate a variable for year in which treatment was received\n",
    "cap drop time_entering_treatment \n",
    "gen time_entering_treatment = 2003 if treated==1 \n",
    "replace time_entering_treatment = . if treated==0\n",
    "\n",
    "* Generate a variable for time relative to the event\n",
    "cap drop event_time\n",
    "gen event_time = year - time_entering_treatment"
   ]
  },
  {
   "cell_type": "markdown",
   "id": "c9c57983-7775-4bf5-991f-f41fc9ee2efb",
   "metadata": {},
   "source": [
    "To make sure we have created *event_time* in the right way, let's see which values it takes."
   ]
  },
  {
   "cell_type": "code",
   "execution_count": null,
   "id": "95b7cce1",
   "metadata": {},
   "outputs": [],
   "source": [
    "tab event_time , m"
   ]
  },
  {
   "cell_type": "markdown",
   "id": "d39bb30c-05b0-4c7a-b70e-b0b4eb166180",
   "metadata": {},
   "source": [
    "Notice that all untreated workers have a missing value for variable *event_time*. We want to include untreated workers in the reference category $k=-1$. Therefore, we code untreated units as if they always belonged to event time -1."
   ]
  },
  {
   "cell_type": "code",
   "execution_count": null,
   "id": "e79cfa97",
   "metadata": {},
   "outputs": [],
   "source": [
    "replace event_time = -1 if treated==0"
   ]
  },
  {
   "cell_type": "markdown",
   "id": "d64b27ff",
   "metadata": {},
   "source": [
    "We then decide which *window* of time around the treatment we want to focus on (the $T$'s in Equation (4)). For instance, we may want to focus on 2 years prior to the treatment and 2 years after the treatment and estimate those treatment effects. Our choice should depend on the amount of information we have in each year. In this case, notice that the number of workers 8 years after treatment is substantially lower than the number of workers 8 years before treatment is started. \n",
    "\n",
    "We could drop all observations before $k=-2$ and after $k=2$. This would once again reduce the amount of information we have in our dataset.\n",
    "An alternative approach, called *binning* the window around treatment, is usually preferred. It works by pretending that treated workers who are observed before *event_time* -2 were actually observed in *event_time* -2 and treated workers who are observed after *event_time* 2 were actually observed in *event_time* 2."
   ]
  },
  {
   "cell_type": "code",
   "execution_count": null,
   "id": "0ef4b6e3-f699-4f5f-8809-02be22c33b87",
   "metadata": {},
   "outputs": [],
   "source": [
    "replace event_time = -2 if event_time<-2 & treated==1\n",
    "replace event_time = 2 if event_time>2 & treated==1"
   ]
  },
  {
   "cell_type": "markdown",
   "id": "d4e22a0b-6c4c-46db-a958-7d0e0b44552a",
   "metadata": {},
   "source": [
    "Notice how these steps have modified the values of variable *event_time*:"
   ]
  },
  {
   "cell_type": "code",
   "execution_count": null,
   "id": "c5a013e2-1174-449c-b29c-1105ad3fe795",
   "metadata": {},
   "outputs": [],
   "source": [
    "tab event_time"
   ]
  },
  {
   "cell_type": "markdown",
   "id": "917bf7b0-5bba-4c17-9ac7-91b1922605a7",
   "metadata": {},
   "source": [
    "The next step is to generate a dummy variable for each value of *event_time*."
   ]
  },
  {
   "cell_type": "code",
   "execution_count": null,
   "id": "b32a21c8",
   "metadata": {},
   "outputs": [],
   "source": [
    "tab event_time, gen(event_time_dummy)"
   ]
  },
  {
   "cell_type": "markdown",
   "id": "881912a1",
   "metadata": {},
   "source": [
    "Notice that *event_time_dummy2* is the one that corresponds to *event_time* -1.\n",
    "\n",
    "Once again, Equation (4) is nothing but a linear model with many fixed effects. We can again use either command `areg` or `reghdfe`.\n",
    "This time we include dummy variables for the different values of *event_time*, with the exception of the dummy variable for the baseline event time $k=-1$: *event_time_dummy2*."
   ]
  },
  {
   "cell_type": "code",
   "execution_count": null,
   "id": "fc2673e8",
   "metadata": {},
   "outputs": [],
   "source": [
    "areg logearn event_time_dummy1 event_time_dummy3 event_time_dummy4 event_time_dummy5 i.year , absorb(workerid)"
   ]
  },
  {
   "cell_type": "markdown",
   "id": "a3364294",
   "metadata": {},
   "source": [
    "Again, the interpretation is the same as before, only now we have dynamic effects. The coefficient on the *event_time1* dummy says that 2 years prior to entering treatment, treated units experienced a 0.4 percentage point increase in earnings relative to control units. "
   ]
  },
  {
   "cell_type": "markdown",
   "id": "94f2fb2c",
   "metadata": {},
   "source": [
    "Should we worry that we are finding a difference between treated and control units prior to the policy? Notice that the \"effect\" of the policy at event time -2 (*event_time_dummy1*, when there was no training program) is not statistically different than zero. \n",
    "This confirms that our parallel trend assumption is supported by the data. In other words, there are no observable differences in trends prior to the enactment of the training program. *Checking the p-value of those coefficients prior to the treatment is called the pre-trend test* and does not require any fancy work. A mere look at the regression results suffices!\n",
    "\n",
    "Furthermore, we can observe how the policy effect evolves over time. At the year of entering the training program, earnings are boosted by 20 percentage points. The next year the effect decreases to 15 percentage points, and 2+ years after the policy the effect significantly decreases towards 6 percentage points and is less statistically significant. "
   ]
  },
  {
   "cell_type": "markdown",
   "id": "12cf08c3-0950-49fa-b106-c38841dbeebe",
   "metadata": {},
   "source": [
    "### 16.5.1 Event study graph\n",
    "The table output is a correct way to convey the results, but its efficacy is limited, especially when we want to use a large time window. In those cases, we prefer a graph representing all coefficients of interest.\n",
    "\n",
    "We can easily do that using the command `coefplot`. We keep all coefficients of interest by including all *event_time* dummies as inputs in `keep()` and we rename them one-by-one in `rename()` to increase clarity of the graph."
   ]
  },
  {
   "cell_type": "code",
   "execution_count": null,
   "id": "1d43d9bc-3ca7-4c05-b909-86a754982532",
   "metadata": {},
   "outputs": [],
   "source": [
    "coefplot, keep(event_time_*) vertical graphregion(color(white)) yline(0) ///\n",
    "    rename(event_time_dummy1=\"k=-2\" event_time_dummy3=\"k=0\" event_time_dummy4=\"k=+1\" event_time_dummy5=\"k=+2\") \n",
    "graph export graph2.jpg, as(jpg) replace"
   ]
  },
  {
   "cell_type": "markdown",
   "id": "87178964-11b0-4269-b2ff-b5619b65015e",
   "metadata": {},
   "source": [
    "In the graph it is easy to see that the parallel trend assumption is satisfied: the difference between treatment and control group before the treatment is administered (the coefficient for $k=-2$) is not statistically different than zero."
   ]
  },
  {
   "cell_type": "markdown",
   "id": "190c03e4-6471-413a-9fa2-bce5e274e450",
   "metadata": {
    "tags": []
   },
   "source": [
    "## 16.6 Common mistakes\n",
    "\n",
    "The most common mistake when dealing with a Diff-in-Diff research design is to add covariates that are already captured by the fixed effects.\n",
    "Let's see what happens if we try to estimate Equation (2) where $X$ is gender at birth."
   ]
  },
  {
   "cell_type": "code",
   "execution_count": null,
   "id": "e15887c7-2eed-4b26-a983-99181de70735",
   "metadata": {},
   "outputs": [],
   "source": [
    "* Load the data\n",
    "clear* \n",
    "use fake_data, clear \n",
    "\n",
    "* Set as panel data\n",
    "xtset workerid year, yearly\n",
    "\n",
    "* Generate log-earnings\n",
    "gen logearn = log(earnings)\n",
    "\n",
    "* Keep only two years\n",
    "keep if year==2002 | year==2003\n",
    "\n",
    "* Estimate incorrect specification\n",
    "areg logearn treated#2003.year i.year sex, absorb(workerid)"
   ]
  },
  {
   "cell_type": "markdown",
   "id": "851a21cb-e032-4b85-94ba-b52390395180",
   "metadata": {},
   "source": [
    "We cannot estimate the specification above because *sex* does not change over time for the same individual. Remember: you can add covariates that they are time varying by nature (e.g. tenure, experience) or are trends based on fixed characteristics (e.g. time dummies interacted with sex)."
   ]
  },
  {
   "cell_type": "markdown",
   "id": "3098453e-b259-439f-bb1b-1827b9277760",
   "metadata": {},
   "source": [
    "A common mistake when dealing with event studies is to forget to re-assign untreated workers to the baseline time event $k=0$. Let's see what happens if we try to estimate Equation (4) without this adjustment."
   ]
  },
  {
   "cell_type": "code",
   "execution_count": null,
   "id": "5f0e9bb9-2ca4-40e6-9580-2091f42d3d5f",
   "metadata": {},
   "outputs": [],
   "source": [
    "* Load data\n",
    "clear* \n",
    "use fake_data, clear \n",
    "\n",
    "* Generate log-earnings\n",
    "gen logearn = log(earnings)\n",
    "\n",
    "* Generate a variable for year in which treatment was received\n",
    "cap drop time_entering_treatment \n",
    "gen time_entering_treatment = 2003 if treated==1 \n",
    "replace time_entering_treatment = . if treated==0\n",
    "\n",
    "* Generate a variable for time relative to the event\n",
    "cap drop event_time\n",
    "gen event_time = year - time_entering_treatment\n",
    "\n",
    "* Binning\n",
    "replace event_time = -2 if event_time<-2 & treated==1\n",
    "replace event_time = 2 if event_time>2 & treated==1\n",
    "\n",
    "* Create event_time dummies\n",
    "tab event_time, gen(event_time_dummy)\n",
    "\n",
    "* Run regression\n",
    "areg logearn event_time_dummy1 event_time_dummy3 event_time_dummy4 event_time_dummy5 i.year , absorb(workerid)"
   ]
  },
  {
   "cell_type": "markdown",
   "id": "4aa80d7b-9bb0-4504-a8cb-15e27ec2c056",
   "metadata": {},
   "source": [
    "There are no error messages from Stata, but do you notice anything different compared to our results in Section 18.5?\n",
    "\n",
    "The number of observations has decreased dramatically: instead of 138,138 workers as in Section 18.5, we only have 40,656 workers. We are estimating our linear model only on the treated workers. This is a conceptual mistake: we cannot uncover the effect of the treatment if we do not compare the earnings of treated workers with the earnings of untreated workers."
   ]
  },
  {
   "cell_type": "markdown",
   "id": "b9fdfae7-fe4a-47e9-a157-06c006569c3b",
   "metadata": {
    "tags": []
   },
   "source": [
    "## 16.7 Wrap Up \n",
    "\n",
    "In this module we've seen how the difference-in-differences design relies on two components: \n",
    "\n",
    "1. Panel data, in which units are observed over time.\n",
    "2. Including time and unit fixed effects\n",
    "\n",
    "These two components make regressions mathematically equivalent to taking time-differences that eliminate any time-invariant components of the error term creating endogeneity. Furthermore, when we have access to more than 2 time periods, we are able to construct dynamic treatment effects (event study) and test whether the parallel trends condition holds."
   ]
  },
  {
   "cell_type": "markdown",
   "id": "40f52e77-79b0-4206-81cd-be2402f378f1",
   "metadata": {},
   "source": [
    "## 16.8 Video tutorial\n",
    "\n",
    "Click on the image below for a video tutorial on this module.\n",
    "\n",
    "[![Differences-in-Differences Analysis](img/stata16.png)](https://learning.media.ubc.ca/media/Notebook+16+-+Differences+in+Differences/0_s4ytmzpc)"
   ]
  },
  {
   "cell_type": "markdown",
   "id": "11b515a2-779e-47ab-a231-0a98e2015def",
   "metadata": {},
   "source": [
    "## References\n",
    "\n",
    "[Difference in differences using Stata](https://www.youtube.com/watch?v=OQCKafoCb9Q)"
   ]
  }
 ],
 "metadata": {
  "kernelspec": {
   "display_name": "Stata",
   "language": "stata",
   "name": "stata"
  },
  "language_info": {
   "codemirror_mode": "stata",
   "file_extension": ".do",
   "mimetype": "text/x-stata",
   "name": "stata",
   "version": "15.1"
  }
 },
 "nbformat": 4,
 "nbformat_minor": 5
}
