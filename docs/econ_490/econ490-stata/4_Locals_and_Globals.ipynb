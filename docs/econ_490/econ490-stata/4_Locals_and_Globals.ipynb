{
 "cells": [
  {
   "cell_type": "markdown",
   "id": "575754e6-605a-4ba6-8d71-cd4d40b2dbb8",
   "metadata": {},
   "source": [
    "# ECON 490: Locals and Globals (4)\n",
    "\n",
    "## Prerequisites \n",
    "\n",
    "1. View the characteristics of any dataset using the command `describe`.\n",
    "2. Use `help` to learn how to run commands.\n",
    "3. Understand the Stata command syntax using the command `summarize`.\n",
    "4. Create loops using the commands `for`, `while`, `forvalues` and `foreach`.\n",
    "\n",
    "## Learning Outcomes\n",
    "\n",
    "1. Recognize the difference between data set variables and Stata variables.\n",
    "2. Recognize the difference between local and global Stata variables.\n",
    "3. Use the command `local` to create temporary macros.\n",
    "4. Use the command `global` to create permanent macros.\n",
    "5. Forecast how you will use macros in your own research."
   ]
  },
  {
   "cell_type": "markdown",
   "id": "5ce83e3b-74b1-4a6d-b288-24bff26a7d1b",
   "metadata": {
    "tags": []
   },
   "source": [
    "## 4.1 Stata Variables\n",
    "\n",
    "In ECON 325 and ECON 326, you learned that \"variables\" are characteristics of a data set. For example, if we had a data set that included all of the countries in the world, we might have a variable which indicates each country's population. As another example, if we had a data set that included a sample of persons in Canada, we might have a variable which indicates each person's marital status. These are data set variables, and they can be qualitative (strings) or quantitative (numeric). \n",
    "\n",
    "In Stata, there is a separate category of variables available for use which we call \"macros\". Macros work as placeholders for values that we want to store either temporarily or permanently. Locals are macros that store data temporarily (within the span of the executed code), while globals are macros that store data permanently, or at least as long as we have Stata open on our computer. We can think of Stata macros as analogous to workspace objects in Python or R. Below, you are going to learn how to use these macros in your own research."
   ]
  },
  {
   "cell_type": "markdown",
   "id": "72a46e3e",
   "metadata": {
    "tags": []
   },
   "source": [
    "## 4.2 Locals \n",
    "\n",
    "Locals are an extremely useful object in Stata. A local name is usually enwrapped between two backticks. \n",
    "\n",
    "Here we will cover two popular applications of locals."
   ]
  },
  {
   "cell_type": "markdown",
   "id": "6039980f-b4a9-4a79-b0d8-14fd114846d8",
   "metadata": {
    "tags": []
   },
   "source": [
    "### 4.2.1 Storing results\n",
    "The first use of local macros is to store results of your code. To help you understand how powerful this is, you should be aware that most Stata commands have hidden results stored after they are run. Consider the following example"
   ]
  },
  {
   "cell_type": "code",
   "execution_count": null,
   "id": "9f4f6900",
   "metadata": {
    "tags": []
   },
   "outputs": [],
   "source": [
    "sysuse auto, clear\n",
    "\n",
    "summarize price"
   ]
  },
  {
   "cell_type": "markdown",
   "id": "68f4f49e",
   "metadata": {},
   "source": [
    "\n",
    "When we ran `summarize` above, Stata produced output that was stored in several local variables. We can access those stored results with the command `return list` (for regular commands) or `ereturn list` (for estimation commands, which we'll cover later in Module 12). Since `summarize` is not an estimation command, we can run the following:"
   ]
  },
  {
   "cell_type": "code",
   "execution_count": null,
   "id": "ea1694af",
   "metadata": {},
   "outputs": [],
   "source": [
    "return list"
   ]
  },
  {
   "cell_type": "markdown",
   "id": "41fd27d5",
   "metadata": {},
   "source": [
    "Notice that Stata has reported that variables have been stored as scalars, where a scalar is simply a quantity. \n",
    "\n",
    "If we want Stata to tell us the mean price from the automobile data set that was just calculated using `summarize`, we can use the following:"
   ]
  },
  {
   "cell_type": "code",
   "execution_count": null,
   "id": "a677af58",
   "metadata": {
    "tags": []
   },
   "outputs": [],
   "source": [
    "display r(mean)"
   ]
  },
  {
   "cell_type": "markdown",
   "id": "66e875fa-b614-4151-90ec-5178887e8a4c",
   "metadata": {},
   "source": [
    "We can now store that scalar as a local, and use that local in other Stata commands:"
   ]
  },
  {
   "cell_type": "code",
   "execution_count": null,
   "id": "8a7716a1",
   "metadata": {},
   "outputs": [],
   "source": [
    "local price_mean = r(mean)\n",
    "display \"The mean of price variable is `price_mean'.\" "
   ]
  },
  {
   "cell_type": "markdown",
   "id": "01a906e2-7257-479f-a0f0-89cb64d410bf",
   "metadata": {},
   "source": [
    "We can also modify the format of our local, so that the average price is rounded to the closest integer and there is a comma separator for thousand units. We do so by typing `%5.0fc`. To learn more about different formats in Stata, type `help format`."
   ]
  },
  {
   "cell_type": "code",
   "execution_count": null,
   "id": "210b0da9-968f-4d42-bc8d-e290ed0b7e33",
   "metadata": {},
   "outputs": [],
   "source": [
    "local price_mean_formatted : display %5.0fc r(mean)\n",
    "display \"The average price is `price_mean_formatted'.\""
   ]
  },
  {
   "cell_type": "markdown",
   "id": "44e307ee",
   "metadata": {},
   "source": [
    "Imagine that we wanted to create a new variable that is equal to the price minus the mean of that same variable. We would do this if we wanted to de-mean that variable or, in other words, create a new price variable that has a mean of zero. To do this, we could use the `generate` command along with the local we just created to do exactly that:"
   ]
  },
  {
   "cell_type": "code",
   "execution_count": null,
   "id": "7e402b47",
   "metadata": {
    "tags": []
   },
   "outputs": [],
   "source": [
    "local price_mean = r(mean)\n",
    "g price_demean = price - `price_mean'"
   ]
  },
  {
   "cell_type": "markdown",
   "id": "77c745dd-79ae-44f5-a793-501bfef2fbf1",
   "metadata": {},
   "source": [
    "Note that there is no output when we run this command. \n",
    "\n",
    "If we try to run this command a second time, we will get an error because Stata doesn't want us to accidentally overwrite an existing variable. In order to correct this problem, we need to use the command `replace` instead of the command `generate`. Try it yourself above!\n",
    "\n",
    "Let's take a look at the mean of our new variable using `summarize` again. "
   ]
  },
  {
   "cell_type": "code",
   "execution_count": null,
   "id": "24ab72a2",
   "metadata": {},
   "outputs": [],
   "source": [
    "su price_demean"
   ]
  },
  {
   "cell_type": "markdown",
   "id": "1f392e21-80d1-4099-a4b0-aeff3b359c9a",
   "metadata": {},
   "source": [
    "We can see that the mean is roughly zero just as we expected. "
   ]
  },
  {
   "cell_type": "markdown",
   "id": "34edc912-72ca-4745-b26c-4334e7d8de37",
   "metadata": {
    "tags": []
   },
   "source": [
    "### 4.2.2 Executing loops\n",
    "\n",
    "Locals are automatically generated whenever we use loops (as discussed in [Module 3](econometrics/econ490-stata/3_Stata_Essentials.ipynb)). \n",
    "In this subsection, we will see how to use locals both *inside* the loop (these locals are automatically generated by Stata) and *outside* the loop (when we store the list of values to loop from into a local).\n",
    "\n",
    "Consider another common application here involving a categorical variable that can take on 5 possible values."
   ]
  },
  {
   "cell_type": "code",
   "execution_count": null,
   "id": "3f016e58",
   "metadata": {},
   "outputs": [],
   "source": [
    "su rep78"
   ]
  },
  {
   "cell_type": "markdown",
   "id": "cd8a1925-9905-4919-9324-fd98bedc67d1",
   "metadata": {},
   "source": [
    "Note that if we run the command above that we used to display the mean of price, we will now get a different value. Try it yourself!"
   ]
  },
  {
   "cell_type": "markdown",
   "id": "1c6080cf",
   "metadata": {},
   "source": [
    "There are times when we might want to save all the possible categorical values in a local. When we use the `levelsof` command as is done below, we can create a new local with a name that we choose. Here, that name is _levels_rep_."
   ]
  },
  {
   "cell_type": "code",
   "execution_count": null,
   "id": "c355afec",
   "metadata": {},
   "outputs": [],
   "source": [
    "levelsof rep78, local(levels_rep)"
   ]
  },
  {
   "cell_type": "markdown",
   "id": "a2c48071",
   "metadata": {},
   "source": [
    "We can do different things with this new list of values. For instance, we can now summarize a variable based on every distinct value of _rep78_, by creating a loop using `foreach` and looping through all the values of the newly created local. "
   ]
  },
  {
   "cell_type": "code",
   "execution_count": null,
   "id": "184decde",
   "metadata": {},
   "outputs": [],
   "source": [
    "foreach x in `levels_rep' {\n",
    "su price if rep78 == `x'\n",
    "}"
   ]
  },
  {
   "cell_type": "markdown",
   "id": "b17385ab-684c-424a-bdef-99faf8f8699b",
   "metadata": {},
   "source": [
    "Notice that in the loop above there are two locals:\n",
    "1. *levels_rep* : the local containing the list of values taken by variable *rep*;\n",
    "2. *x* : the local containing, in each loop, one specific value from the list stored in *levels_rep*."
   ]
  },
  {
   "cell_type": "markdown",
   "id": "84e56620",
   "metadata": {
    "tags": []
   },
   "source": [
    "## 4.3 Globals\n",
    "Globals are equally useful in Stata. Globals name is preceded by a dollar sign.\n",
    "\n",
    "Globals have the same applications as locals, but their values are stored permanently. Due to their permanent nature, globals cannot be used *inside* loops. They can be used for all the other applications for which locals are used.\n",
    "\n",
    "Here we will cover two popular applications of globals."
   ]
  },
  {
   "cell_type": "markdown",
   "id": "eaa53acf-67de-4bf4-87cf-0879723fedbb",
   "metadata": {
    "tags": []
   },
   "source": [
    "### 4.3.1 Storing lists\n",
    "Globals are used to store lists of variable names, paths and/or directories that we need for our research project. \n",
    "\n",
    "Consider the following example where we create a global called *covariates* that is simply a list of two variable names:"
   ]
  },
  {
   "cell_type": "code",
   "execution_count": null,
   "id": "d183fffa",
   "metadata": {
    "tags": []
   },
   "outputs": [],
   "source": [
    "global covariates \"rep78 foreign\""
   ]
  },
  {
   "cell_type": "markdown",
   "id": "e6c332c3-4026-4630-94f8-05e044e64460",
   "metadata": {
    "tags": []
   },
   "source": [
    "We can now use this global anywhere we want to invoke the two variables specified. When we want to indicate that we are using a global, we refer to this type of macro with the dollar sign symbol `$`.\n",
    "\n",
    "Here we `summarize` these two variables. "
   ]
  },
  {
   "cell_type": "code",
   "execution_count": null,
   "id": "480ae792-8870-4b62-95e3-270d58f11315",
   "metadata": {},
   "outputs": [],
   "source": [
    "su ${covariates}"
   ]
  },
  {
   "cell_type": "markdown",
   "id": "d08df08a-7653-4403-868f-b123ac4b3170",
   "metadata": {
    "tags": []
   },
   "source": [
    "In the empty cell below, `describe` these three variables using the macro we have just created. "
   ]
  },
  {
   "cell_type": "code",
   "execution_count": null,
   "id": "632f1954-00fe-4084-b7ac-69f75e01e341",
   "metadata": {},
   "outputs": [],
   "source": []
  },
  {
   "cell_type": "markdown",
   "id": "9b4148e5-30f6-4678-a27a-ba04df0046ab",
   "metadata": {},
   "source": [
    "Notice that lists of variables can be very useful when we estimate multiple regression models. Suppose that we want to estimate how price changes with mileage, controlling for the car origin and the trunk space. We can store all our control variables in one global called *controls* and then call that global directly when estimating our regression."
   ]
  },
  {
   "cell_type": "code",
   "execution_count": null,
   "id": "6f965dd3-1204-48a6-bf18-17e8a1542b1e",
   "metadata": {},
   "outputs": [],
   "source": [
    "global controls trunk foreign\n",
    "reg price mpg $controls"
   ]
  },
  {
   "cell_type": "markdown",
   "id": "832e7f15-512b-4f3c-9c9f-836bac1bdc25",
   "metadata": {},
   "source": [
    "Using globals for estimating regressions will be very helpful when you will have to estimate many specifications, as it reduces the likelihood of making typos or mistakes."
   ]
  },
  {
   "cell_type": "markdown",
   "id": "76e9d2d8-3e10-4709-bbc5-9f507b5146c8",
   "metadata": {
    "tags": []
   },
   "source": [
    "### 4.3.2 Changing directories\n",
    "Globals are useful to store file paths and we see more of them in the module of project workflow. \n",
    "\n",
    "In the following example, we are saving in global *datadirectory* the file path for the folder where our data is stored and in global *outputdirectory* the file path where we want to save our results.\n",
    "\n",
    "Note that this is a fictional example, so no output will be produced."
   ]
  },
  {
   "cell_type": "code",
   "execution_count": null,
   "id": "39883b0a-bec1-4aae-ab75-d9f6790dea89",
   "metadata": {},
   "outputs": [],
   "source": [
    "global datadirectory C:\\project\\mydata\\\n",
    "global outputdirectory C:\\project\\output\\"
   ]
  },
  {
   "cell_type": "markdown",
   "id": "7916ee67-a2d9-4efe-ab76-ded74b3ab55a",
   "metadata": {},
   "source": [
    "We can use global *datadirectory* to load our data more easily:"
   ]
  },
  {
   "cell_type": "code",
   "execution_count": null,
   "id": "a0a432b1-6c63-4ccd-956a-3580a59b6765",
   "metadata": {},
   "outputs": [],
   "source": [
    "use \"$datadirectory\\data.dta\", clear"
   ]
  },
  {
   "cell_type": "markdown",
   "id": "77790dc6-cdfa-4126-92eb-d9ef4b1a9352",
   "metadata": {},
   "source": [
    "Similarly, once we have finished editing our data, we can store our results in the folder saved within global *outputdirectory*:"
   ]
  },
  {
   "cell_type": "code",
   "execution_count": null,
   "id": "2a42c30f-5639-431d-b9f8-2e654220140e",
   "metadata": {},
   "outputs": [],
   "source": [
    "save using \"$outputdirectory\\output.dta\", replace"
   ]
  },
  {
   "cell_type": "markdown",
   "id": "05552a15-a4e9-4fed-9f0c-b701a24794db",
   "metadata": {
    "tags": []
   },
   "source": [
    "## 4.5 Common mistakes\n",
    "\n",
    "The most common mistake that happens when using locals or globals is to accidentally save an empty macro.\n",
    "In those cases, the local or global will contain no value. This can happen if you run only some lines of the do file in your local machine, as the local macros defined in the original do file are not defined in the smaller subset of do file you are running.\n",
    "These errors can happen if you run Stata on your local machine, but not if you run your code on JupyterLab.\n",
    "To avoid this kind of mistake, run your do file entirely, not pieces of it.\n",
    "\n",
    "Another common mistake is to save the wrong values in your local variable. Stata always updates the automatically created locals in `return list` or `ereturn list`. In the following example, we fail to save the average price because Stata has updated the value of `r(mean)` with the average length. "
   ]
  },
  {
   "cell_type": "code",
   "execution_count": null,
   "id": "066bb14a-78a4-471f-aafa-0a5fc8851d65",
   "metadata": {},
   "outputs": [],
   "source": [
    "summarize price length"
   ]
  },
  {
   "cell_type": "code",
   "execution_count": null,
   "id": "939b2c32-1610-43da-a8bb-ed004e1d0199",
   "metadata": {},
   "outputs": [],
   "source": [
    "return list"
   ]
  },
  {
   "cell_type": "code",
   "execution_count": null,
   "id": "52a65371-cf72-41fb-b541-31d13fd1ede3",
   "metadata": {},
   "outputs": [],
   "source": [
    "local price_mean = r(mean)\n",
    "display \"The average price is `price_mean'.\" "
   ]
  },
  {
   "cell_type": "markdown",
   "id": "26e56781-deee-4dfe-9605-5dec985e479e",
   "metadata": {
    "tags": []
   },
   "source": [
    "## 4.6 Wrap Up\n",
    "\n",
    "In this module we learned how Stata has its own set of variables that have some very useful applications. We will see these macros throughout the following modules. You will also use them in your own research project.  \n",
    "\n",
    "To demonstrate how useful macros can be, we can use our _covariates_ global to run a very simple regression in which _price_ is the dependent variable and the explanatory variables are _rep78_ and _foreign_. That command using our macro would be:"
   ]
  },
  {
   "cell_type": "code",
   "execution_count": null,
   "id": "6abb838c-eb8f-48d2-a793-c95290ea271b",
   "metadata": {},
   "outputs": [],
   "source": [
    "regress price ${covariates}"
   ]
  },
  {
   "cell_type": "markdown",
   "id": "e71e30a0-77ae-4264-9162-7af63d5b52b0",
   "metadata": {},
   "source": [
    "If we only wanted to include observations where price is above average, then using the local we created earlier in this module the regression would be:"
   ]
  },
  {
   "cell_type": "code",
   "execution_count": null,
   "id": "9f2493f6-3475-4cb4-9a92-fe98957e16f0",
   "metadata": {},
   "outputs": [],
   "source": [
    "regress price ${covariates} if price > `price_mean'"
   ]
  },
  {
   "cell_type": "markdown",
   "id": "f4f49778-c272-4c6e-9683-b85584884efa",
   "metadata": {},
   "source": [
    "You can see for yourself that Stata ran the regression on only a subset of the data.\n",
    "\n",
    "In the next module, we will work on importing data sets in various formats."
   ]
  }
 ],
 "metadata": {
  "kernelspec": {
   "display_name": "Stata",
   "language": "stata",
   "name": "stata"
  },
  "language_info": {
   "codemirror_mode": "stata",
   "file_extension": ".do",
   "mimetype": "text/x-stata",
   "name": "stata",
   "version": "15.1"
  }
 },
 "nbformat": 4,
 "nbformat_minor": 5
}
