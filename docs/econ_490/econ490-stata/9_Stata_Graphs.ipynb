{
 "cells": [
  {
   "cell_type": "markdown",
   "id": "cd33af66",
   "metadata": {
    "pycharm": {
     "name": "#%% md\n"
    }
   },
   "source": [
    "# Econ 490: Visualisation Types (9)\n",
    "\n",
    "## Prerequisites\n",
    "\n",
    "1. Be able to effectively use Stata do files and generate log files.\n",
    "2. Be able to change your directory so that Stata can find your files.\n",
    "3. Import datasets in csv and dta format. \n",
    "4. Save data files. \n",
    "\n",
    "## Learning Outcomes \n",
    "- Know when to use the following kinds of visualizations to answer specific questions using a data set:\n",
    "    - scatterplots\n",
    "    - line plots\n",
    "    - bar plots\n",
    "    - histograms\n",
    "- Generate and fine-tune visualizations using the Stata command `twoway` and its different options\n",
    "- Use `graph export` to save visualizations in various formats including `.svg`, `.png` and `.pdf`\n",
    "\n",
    "We'll continue working with the fake data data set introduced in the previous lecture. Recall that this data set is simulating information for workers in the years 1982-2012 in a fake country where a training program was introduced in 2003 to boost their earnings. "
   ]
  },
  {
   "cell_type": "code",
   "execution_count": null,
   "id": "f22f87cb",
   "metadata": {
    "pycharm": {
     "name": "#%%\n"
    }
   },
   "outputs": [],
   "source": [
    "use fake_data, clear "
   ]
  },
  {
   "cell_type": "markdown",
   "id": "a42c9968-ea25-4479-a9e7-5c05587762a9",
   "metadata": {},
   "source": [
    "Data visualization is an effective way of communicating ideas to your audience, whether it's for an academic paper or a business setting. It can be a powerful medium to motivate your research, illustrate relationships between variables and provide some intuition behind why you applied certain econometric methods.\n",
    "\n",
    "The real challenge is not understanding how to use Stata to create graphs. Instead, the challenge is figuring out which graph will do the best job at telling your empirical story. Before creating any graphs, be sure to identify the message you want the graph to convey. Try to answer these questions: Who is our audience? What is the question you're trying to answer?\n",
    "\n",
    "<div class=\"alert alert-block alert-info\">\n",
    "<b>Note:</b> Your best approach to completing this module is to copy and paste these commands into a do-file in Stata. Because Stata produces graphs in a separate window, Jupyter Notebooks will not produce a graph that you can see when you execute the commands on this page. The most we can do is export image files to a directory on your computer. You will see these commands whenever a graph is produced below. \n",
    "</div>\n",
    "\n",
    "## 9.1 Types of graphs \n",
    "#### 9.1.1 Scatter plot\n",
    "\n",
    "<!-- what is it? and, when to use? --> \n",
    "Scatter plots are frequently used to demonstrate how two quantitative variables are related to one another. This plot works well when we are interested in showing relationships and groupings among variables from relatively large data sets.\n",
    "\n",
    "Below is an example.\n",
    "\n",
    "- ![Relationship of country religiosity vs wealth](https://ourworldindata.org/uploads/2013/11/GDP-vs-Religion.png) "
   ]
  },
  {
   "cell_type": "markdown",
   "id": "5ba3c390",
   "metadata": {
    "pycharm": {
     "name": "#%% md\n"
    }
   },
   "source": [
    "Let's say we want to plot the log-earnings by year using our fake data set. We begin by generating a new variable for log earnings. "
   ]
  },
  {
   "cell_type": "code",
   "execution_count": null,
   "id": "3882cea8",
   "metadata": {
    "pycharm": {
     "name": "#%%\n"
    }
   },
   "outputs": [],
   "source": [
    "gen log_earnings = log(earnings)\n",
    "\n",
    "la var log_earnings \"Log-earnings\" // We are adding the label \"log-earnings\" to the variable log_earnings"
   ]
  },
  {
   "cell_type": "markdown",
   "id": "78f8dc86-36f2-465c-926f-c64e1b715fd5",
   "metadata": {},
   "source": [
    "Now let's create a new data set that includes a variable that is the log earnings by year. We use the command `preserve` so that later on we can `restore` the original data set. "
   ]
  },
  {
   "cell_type": "code",
   "execution_count": null,
   "id": "f3f276c5",
   "metadata": {
    "pycharm": {
     "name": "#%%\n"
    }
   },
   "outputs": [],
   "source": [
    "preserve\n",
    "collapse (mean) log_earnings, by(year)\n",
    "describe"
   ]
  },
  {
   "cell_type": "markdown",
   "id": "98027fc2",
   "metadata": {
    "pycharm": {
     "name": "#%% md\n"
    }
   },
   "source": [
    "To create graph between two numeric variables, we need to use the command `twoway`. The format for this command is `twoway (type_of_graph x-axis_variable y-axis_variable)`. \n",
    "\n",
    "In this case we want to create a graph that is a scatterplot that shows earnings as the dependent variable (y-axis) and year as the explanitory variable (x-axis variable)."
   ]
  },
  {
   "cell_type": "code",
   "execution_count": null,
   "id": "79ed0753",
   "metadata": {
    "pycharm": {
     "name": "#%%\n"
    }
   },
   "outputs": [],
   "source": [
    "twoway (scatter log_earnings year)\n",
    "\n",
    "graph export graph1.jpg, as(jpg) replace"
   ]
  },
  {
   "cell_type": "markdown",
   "id": "1b77b22f-0d93-47c0-af91-675b770e9560",
   "metadata": {
    "pycharm": {
     "name": "#%% md\n"
    }
   },
   "source": [
    "Note that no graph will have appeared in the Notebook when you executed this command. However you should be able to find the graph the open directly saved under the name \"graph1.jpg\". That graph will look like this:"
   ]
  },
  {
   "cell_type": "markdown",
   "id": "7ef49ccc-1603-4b04-abae-92eed84c23a4",
   "metadata": {
    "pycharm": {
     "name": "#%% md\n"
    }
   },
   "source": [
    "![myscatterplot](img/myscatterplot.svg)"
   ]
  },
  {
   "cell_type": "markdown",
   "id": "701947d1",
   "metadata": {
    "pycharm": {
     "name": "#%% md\n"
    }
   },
   "source": [
    "A second way that you could create this graph is by replacing the graph type `scatter` with the graph type `connected`. This will create the graph below."
   ]
  },
  {
   "cell_type": "code",
   "execution_count": null,
   "id": "4df2b883-908c-4c95-8c97-3fb4d8fe90d0",
   "metadata": {},
   "outputs": [],
   "source": [
    "twoway (connected log_earnings year)\n",
    "\n",
    "graph export graph1.jpg, as(jpg) replace"
   ]
  },
  {
   "cell_type": "markdown",
   "id": "1d201ca2",
   "metadata": {
    "pycharm": {
     "name": "#%% md\n"
    }
   },
   "source": [
    "![connected-scatter-plot](./img/myconnectedplot.svg)"
   ]
  },
  {
   "cell_type": "markdown",
   "id": "5bae8b63",
   "metadata": {
    "pycharm": {
     "name": "#%% md\n"
    }
   },
   "source": [
    "#### 9.1.2 Line plot\n",
    "\n",
    "<!-- what is it? and, when to use? --> \n",
    "Line plots visualize trends with respect to an independent, ordered quantity (e.g., time). This plot works well when one of our variables is ordinal (time-like) or when we want to display multiple series on a common timeline.\n",
    "\n",
    "Line plots can be generated using Stata's `twoway` command we saw earlier. This time, instead of writting `scatter` for the type of graph, we write `line`.\n",
    "\n",
    "Below we introduce something new, we have added options to the graph that change the title on the x-axis (`xtitle`) and on the y-axis (`y-title`). Options for the graph as a whole appear at the end of the command. As we will see options that affect an individual plot appear in the brackets where the plot is specified. "
   ]
  },
  {
   "cell_type": "code",
   "execution_count": null,
   "id": "b0c3faa4",
   "metadata": {
    "pycharm": {
     "name": "#%%\n"
    }
   },
   "outputs": [],
   "source": [
    "twoway (line log_earnings year), xtitle(\"Year\") ytitle(\"Log-earnings\")\n",
    "\n",
    "graph export graph3.jpg, as(jpg) replace"
   ]
  },
  {
   "cell_type": "markdown",
   "id": "4eea7a71-3fc0-42a5-85d7-654106eef20c",
   "metadata": {
    "pycharm": {
     "name": "#%% md\n"
    }
   },
   "source": [
    "It should look something like this:"
   ]
  },
  {
   "cell_type": "markdown",
   "id": "1575808b-2f70-4992-853f-36a2b5d0f127",
   "metadata": {
    "pycharm": {
     "name": "#%% md\n"
    }
   },
   "source": [
    "![mylineplot](img/mylineplot.svg)"
   ]
  },
  {
   "cell_type": "markdown",
   "id": "00aa3a36",
   "metadata": {
    "pycharm": {
     "name": "#%% md\n"
    }
   },
   "source": [
    "Now let's try creating a line plot with multiple series on a common twoway graph. To create this graph we first need to `restore` our data to the original version of the \"fake_data\" data set. "
   ]
  },
  {
   "cell_type": "code",
   "execution_count": null,
   "id": "9b3c4add",
   "metadata": {
    "pycharm": {
     "name": "#%%\n"
    }
   },
   "outputs": [],
   "source": [
    "restore"
   ]
  },
  {
   "cell_type": "markdown",
   "id": "8e565e1a-4291-46ef-a62f-8b5c99b1c251",
   "metadata": {},
   "source": [
    "Now that we have done that, we can collapse it to create the mean of log earnings by both year and whether not an individual is in a treatment group. "
   ]
  },
  {
   "cell_type": "code",
   "execution_count": null,
   "id": "ebef86e2",
   "metadata": {
    "pycharm": {
     "name": "#%%\n"
    }
   },
   "outputs": [],
   "source": [
    "preserve\n",
    "\n",
    "collapse (mean) log_earnings, by(treated year)\n",
    "\n",
    "describe"
   ]
  },
  {
   "cell_type": "markdown",
   "id": "a71a26f8-81ef-461c-8666-203f6a5cf136",
   "metadata": {},
   "source": [
    "We can create a graph that separating the earnings between the treated and non-treated over time. You can see that we need to add each line separately to the graph. Within those brackets we can choose the observations we want included. We can also add line specific options, like `color`."
   ]
  },
  {
   "cell_type": "code",
   "execution_count": null,
   "id": "738d3fda",
   "metadata": {
    "pycharm": {
     "name": "#%%\n"
    }
   },
   "outputs": [],
   "source": [
    "twoway (connected log_earnings year if treated==1, color(orange)) (connected log_earnings year if treated==0, color(purple)), xtitle(Year) ytitle(Average Log Earnings)\n",
    "\n",
    "graph export graph4.jpg, as(jpg) replace"
   ]
  },
  {
   "cell_type": "markdown",
   "id": "565e2fd8-c854-42fd-b8ee-b2087a48553a",
   "metadata": {},
   "source": [
    "One final tip about working with scatterplots. Sometimes you will want to draw fit line on your graph that approximates the relationship between the two variables. You can do this by adding a second graph to the twoway plot that uses the graph type `lfit`."
   ]
  },
  {
   "cell_type": "markdown",
   "id": "3f2bd2b7",
   "metadata": {
    "pycharm": {
     "name": "#%% md\n"
    }
   },
   "source": [
    "#### 9.1.3 Histogram\n",
    "\n",
    "<!-- what is it? and, when to use? --> \n",
    "Histograms visualize the distribution of one quantitative variable. This plot works well when we are working with a discrete variable and are interested in visualizing all its possible values and how often they each occur."
   ]
  },
  {
   "cell_type": "markdown",
   "id": "39d38f18",
   "metadata": {
    "pycharm": {
     "name": "#%% md\n"
    }
   },
   "source": [
    "Now let's restore the original data set so that we can plot the distribution of *log_earnings* and draw a simple histogram."
   ]
  },
  {
   "cell_type": "code",
   "execution_count": null,
   "id": "d883e9dd",
   "metadata": {
    "pycharm": {
     "name": "#%%\n"
    }
   },
   "outputs": [],
   "source": [
    "restore\n",
    "\n",
    "histogram log_earnings\n",
    "\n",
    "graph export graph5.jpg, as(jpg) replace"
   ]
  },
  {
   "cell_type": "code",
   "execution_count": null,
   "id": "592159fa-739b-43fd-b40c-5da05529ee26",
   "metadata": {
    "jupyter": {
     "source_hidden": true
    },
    "tags": []
   },
   "outputs": [],
   "source": []
  },
  {
   "cell_type": "markdown",
   "id": "638f2769-6f0d-4d9a-92f5-7b7b66dcb110",
   "metadata": {
    "pycharm": {
     "name": "#%% md\n"
    }
   },
   "source": [
    "It will look like this:"
   ]
  },
  {
   "cell_type": "markdown",
   "id": "6fb0ce3b-f077-47ba-b0e4-eafc8971e20e",
   "metadata": {
    "pycharm": {
     "name": "#%% md\n"
    }
   },
   "source": [
    "![myhistogram](img/myhistogram.svg)"
   ]
  },
  {
   "cell_type": "markdown",
   "id": "5f96ac93-d6dd-4af8-b18f-1067a616aaa7",
   "metadata": {},
   "source": [
    "You can also draw two histograms on one plot. They won't look very nice unless you change the plot colours. But if you execute the command below it should create a nice graph that allows you to compare the distributions on log earnings between the treatment and control groups. "
   ]
  },
  {
   "cell_type": "code",
   "execution_count": null,
   "id": "aef6c90b-065c-41de-9178-ee2f2e7606fd",
   "metadata": {},
   "outputs": [],
   "source": [
    "twoway (histogram log_earnings if treated==0, color(orange) lcolor(black)) (histogram log_earnings if treated==1, color(olive) lcolor(black)), legend(label(1 \"Treated\") label(2 \"Untreated\"))\n",
    "\n",
    "graph export graph6.jpg, as(jpg) replace"
   ]
  },
  {
   "cell_type": "markdown",
   "id": "e3f4ad10",
   "metadata": {
    "pycharm": {
     "name": "#%% md\n"
    }
   },
   "source": [
    "#### 9.1.4 Bar plot\n",
    "\n",
    "<!-- what is it? and, when to use? --> \n",
    "Bar plots visualize comparisons of amounts. They are useful when we are interested in comparing a few categories as parts of a whole, or across time. "
   ]
  },
  {
   "cell_type": "markdown",
   "id": "9cbedede",
   "metadata": {
    "pycharm": {
     "name": "#%% md\n"
    }
   },
   "source": [
    "Now let's plot mean earnings by region. Note that the regions are numbered in our data set. "
   ]
  },
  {
   "cell_type": "code",
   "execution_count": null,
   "id": "75fbb694",
   "metadata": {
    "pycharm": {
     "name": "#%%\n"
    }
   },
   "outputs": [],
   "source": [
    "graph bar (mean) earnings, over(region)\n",
    "\n",
    "graph export graph7.jpg, as(jpg) replace"
   ]
  },
  {
   "cell_type": "markdown",
   "id": "5d3451cc",
   "metadata": {
    "pycharm": {
     "name": "#%% md\n"
    }
   },
   "source": [
    "![mybarchart](img/mybarchart.svg)"
   ]
  },
  {
   "cell_type": "markdown",
   "id": "f8f21e84",
   "metadata": {
    "pycharm": {
     "name": "#%% md\n"
    }
   },
   "source": [
    "We can also create a horizontal bar plot by using the option `hbar` instead of `bar`."
   ]
  },
  {
   "cell_type": "code",
   "execution_count": null,
   "id": "1b8213e0",
   "metadata": {
    "pycharm": {
     "name": "#%%\n"
    }
   },
   "outputs": [],
   "source": [
    "graph hbar (mean) earnings, over(region)\n",
    "\n",
    "graph export graph8.jpg, as(jpg) replace"
   ]
  },
  {
   "cell_type": "markdown",
   "id": "a44dbac2",
   "metadata": {
    "pycharm": {
     "name": "#%% md\n"
    }
   },
   "source": [
    "![mybarchart2](./img/mybarchart2.svg)"
   ]
  },
  {
   "cell_type": "markdown",
   "id": "fed07ee2",
   "metadata": {
    "pycharm": {
     "name": "#%% md\n"
    }
   },
   "source": [
    "We can also group our bars over another variable (or \"category\")."
   ]
  },
  {
   "cell_type": "code",
   "execution_count": null,
   "id": "866d538a",
   "metadata": {
    "pycharm": {
     "name": "#%%\n"
    }
   },
   "outputs": [],
   "source": [
    "graph hbar (mean) earnings,  over(treated) over(region)\n",
    "\n",
    "graph export graph9.jpg, as(jpg) replace"
   ]
  },
  {
   "cell_type": "markdown",
   "id": "97411a72",
   "metadata": {
    "pycharm": {
     "name": "#%% md\n"
    }
   },
   "source": [
    "![mybarchart3](img/mybarchart3.svg)"
   ]
  },
  {
   "cell_type": "markdown",
   "id": "d59c71d9-ac62-43d8-99de-8a17107e3ab8",
   "metadata": {
    "pycharm": {
     "name": "#%% md\n"
    }
   },
   "source": [
    "## 9.2 Exporting Format\n",
    "\n",
    "So far, we have been exporting our graphs in svg format. However, you should keep in mind that you can also export graphs in other formats such as `.jpg`, `.png` and `.pdf`. This may be particularly helpful if you plan to use LaTeX for writing your paper, as `.svg` files cannot be used with LaTeX PDF output. "
   ]
  },
  {
   "cell_type": "markdown",
   "id": "fe702a1c-1b63-4b0f-9515-baf6cd92f5e5",
   "metadata": {
    "pycharm": {
     "name": "#%% md\n"
    }
   },
   "source": [
    "## 9.3 Fine-tuning a Graph Further\n",
    "\n",
    "In order to customize our graph further, we can use the tools in the Stata graph window or the graph option commands we have been using in this module. Namely, we can include and adjust the following: \n",
    "\n",
    "- title \n",
    "- axis titles\n",
    "- legend \n",
    "- axis \n",
    "- scale\n",
    "- labels \n",
    "- theme (i.e. colour, appearance)\n",
    "- adding lines, text or objects \n",
    "\n",
    "While we won't cover each of these in this module, you can always go back to the Stata documentation to explore the options available to you based on your needs. You can also adjust many of these aspecs in the Graph Editor that appears wheneve you create a new graph. Just don't forget to save your graph when you are done since this won't be in your do-file!"
   ]
  },
  {
   "cell_type": "markdown",
   "id": "fcd30a3b",
   "metadata": {
    "pycharm": {
     "name": "#%% md\n"
    }
   },
   "source": [
    "Run the code cell below to view the colorstyle options available in Stata."
   ]
  },
  {
   "cell_type": "code",
   "execution_count": null,
   "id": "58f9a570",
   "metadata": {
    "pycharm": {
     "name": "#%%\n"
    }
   },
   "outputs": [],
   "source": [
    "help colorstyle"
   ]
  },
  {
   "cell_type": "markdown",
   "id": "f7baebaa",
   "metadata": {
    "pycharm": {
     "name": "#%% md\n"
    }
   },
   "source": [
    "- Add a labelled  legend to our graphs. To include the legend, we use the option `legend( label(number_of_label \"label\"))`.\n",
    "- Add an indicator line for the year treatment began in 2002. To include the indicator line we use the the option  `xline()`. The line can also have different characteristics. For example, we can change its color and pattern using the options `lcolor` `lpattern()`.\n"
   ]
  },
  {
   "cell_type": "markdown",
   "id": "97c0c584-b10a-4ea2-9b93-85bb08ec6a34",
   "metadata": {},
   "source": [
    "## 9.5 Wrap Up\n",
    "We have learned in this module how to create different types of graphs using the command `twoway` and how to adjust them with the multiple options which come with this command. However, the most valuable take-away from this module is understanding when to use a specific type of graph. Graphs are only able to tell a story if we choose them appropriately and customize them as necessary.\n",
    "\n",
    "Remember to check the Stata documentation when creating graphs. The documentation can be your best ally if you end up using it."
   ]
  },
  {
   "cell_type": "markdown",
   "id": "e1207a79",
   "metadata": {
    "pycharm": {
     "name": "#%% md\n"
    }
   },
   "source": [
    "## 9.6 Further Reading\n",
    "\n",
    "- [Make your data speak for itself! Less is more (and people don’t read)](https://towardsdatascience.com/data-visualization-best-practices-less-is-more-and-people-dont-read-ba41b8f29e7b)"
   ]
  },
  {
   "cell_type": "markdown",
   "id": "628c4867",
   "metadata": {
    "pycharm": {
     "name": "#%% md\n"
    },
    "tags": []
   },
   "source": [
    "## References \n",
    "\n",
    "[Timbers, T., Campbell, T., Lee, M. (2022). Data Science: A First Introduction](https://datasciencebook.ca/viz.html) <br>\n",
    "[Schrimpf, Paul. \"Data Visualization: Rules and Guidelines.\" In *QuantEcon DataScience*. Edited by Chase Coleman, Spencer Lyon, and Jesse Perla.](https://datascience.quantecon.org/applications/visualization_rules.html) <br>\n",
    "[Kopf, Dan. \"A brief history of the scatter plot.\" *Quartz*. March 31, 2018.](https://qz.com/1235712/the-origins-of-the-scatter-plot-data-visualizations-greatest-invention/) <br>\n",
    "[Histograms in Stata](https://www.youtube.com/watch?v=nPqNZVToGx8&list=PLN5IskQdgXWnnIVeA_Y0OBGmnw21fvcmU&index=7) <br>\n",
    "[Box plots in Stata](https://www.youtube.com/watch?v=y6dngL80xuo&list=PLN5IskQdgXWnnIVeA_Y0OBGmnw21fvcmU&index=8) <br>\n",
    "[Pie charts in Stata](https://www.youtube.com/watch?v=T_skwxG4sTk&list=PLN5IskQdgXWnnIVeA_Y0OBGmnw21fvcmU&index=9) <br>\n",
    "[Bar graphs in Stata](https://www.youtube.com/watch?v=jNjAdtQwW6M&list=PLN5IskQdgXWnnIVeA_Y0OBGmnw21fvcmU&index=10) <br>\n",
    "[Basic scatter plots in Stata](https://www.youtube.com/watch?v=GhVGpe3lb3E&list=PLN5IskQdgXWnnIVeA_Y0OBGmnw21fvcmU&index=11) <br>\n",
    "[Modifying sizes of elements in graphs](https://www.youtube.com/watch?v=dNoADgrbPJg) <br>\n",
    "[Modifying graphs using the Graph Editor](https://www.youtube.com/watch?v=17opC4fDeME)"
   ]
  }
 ],
 "metadata": {
  "kernelspec": {
   "display_name": "Stata",
   "language": "stata",
   "name": "stata"
  },
  "language_info": {
   "codemirror_mode": "stata",
   "file_extension": ".do",
   "mimetype": "text/x-stata",
   "name": "stata",
   "version": "15.1"
  },
  "toc-autonumbering": false,
  "toc-showcode": false
 },
 "nbformat": 4,
 "nbformat_minor": 5
}
