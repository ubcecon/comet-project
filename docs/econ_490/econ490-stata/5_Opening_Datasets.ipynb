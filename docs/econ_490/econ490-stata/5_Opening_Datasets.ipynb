{
 "cells": [
  {
   "cell_type": "markdown",
   "id": "0e59219e-040e-4a6b-9e90-26d4176b113c",
   "metadata": {},
   "source": [
    "# ECON 490: Opening Datasets (5)\n",
    "\n",
    "## Prerequisites\n",
    "\n",
    "1. Understand how to effectively use Stata do files and know how to generate log files.\n",
    "2. Run basic Stata commands such as `help`, `describe`, `summarize`, `for` and `while`.\n",
    "3. Know how to use macros in writing Stata commands.\n",
    "\n",
    "## Learning Outcomes\n",
    "\n",
    "1. Understand how to use `clear` at the beginning of do-files.\n",
    "2. Know how to change directories so that Stata can find relevant files.\n",
    "3. Import datasets in csv and excel formats.\n",
    "4. Import datasets in dta format. \n",
    "5. Save data files. "
   ]
  },
  {
   "cell_type": "markdown",
   "id": "c549f25e",
   "metadata": {},
   "source": [
    "In this repository you will find a folder named \"data\", with a sub-folder named \"raw\". In that sub-folder you will find two different versions of the same data set: \"fake_data.csv\" and \"fake_data.dta\". The data set simulates information of workers in the years 1982-2012 in a fake country where, in 2003, a policy was enacted that allowed some workers to enter a training program with the purpose of boosting their earnings. We will be using this data set to learn how to explore and manipulate real-world datasets. "
   ]
  },
  {
   "cell_type": "markdown",
   "id": "6ad05f12",
   "metadata": {
    "tags": []
   },
   "source": [
    "## 5.1 Clearing the Workspace\n",
    "\n",
    "Do-files should begin with a command that clears the previous work that has been open in Stata. This makes sure that: \n",
    "1. We do not waste computer memory on things other than the current project.\n",
    "2. Whatever result we obtain in the current session truly belongs to that session.\n",
    "\n",
    "\n",
    "We can clear the workspace of many different things (see `help clear` if needed). For the purpose of this lecture, the most comprehensive thing to do is to run the following:"
   ]
  },
  {
   "cell_type": "code",
   "execution_count": null,
   "id": "d8f05172",
   "metadata": {},
   "outputs": [],
   "source": [
    "clear *"
   ]
  },
  {
   "cell_type": "markdown",
   "id": "71346a85-6a2f-442a-a2aa-f214d2373f23",
   "metadata": {},
   "source": [
    "## 5.2 Changing Directories \n",
    "\n",
    "Before we get started on importing data into Stata, it is useful to know how to change the folder that Stata accesses whenever we run a command that either opens or saves a file. Once we instruct Stata to change the directory to a specific folder, from that point onward it will open files from that folder and save all files to that folder, including data files, do files, and log files. Stata will continue to do this until either the program is closed or we change to another directory. This means that every time we open Stata, we need to change the directory to the one we want to use. \n",
    "\n",
    "We can begin by using the `pwd` command to view the current working directory.\n"
   ]
  },
  {
   "cell_type": "code",
   "execution_count": null,
   "id": "e5bf972e-0f19-41fa-9852-5a237685168e",
   "metadata": {},
   "outputs": [],
   "source": [
    "pwd"
   ]
  },
  {
   "cell_type": "markdown",
   "id": "ae544dff",
   "metadata": {},
   "source": [
    "<div class=\"alert alert-info\">\n",
    "\n",
    "**Note:**  We write the directory path within quotation marks to make sure Stata interprets this as a single string of words. If we don't do this, we may encounter issues with folders that include blank spaces. \n",
    "\n",
    "</div>\n",
    "\n",
    "Now change the directory to the specific location where you saved the fake_data file using the command below. You can change your workspace to a directory named \"some_folder/some_sub_folder\" by writing `cd \"some_folder/some_sub_folder\"`. \n",
    "\n",
    "Use the space below to do this on your own computer."
   ]
  },
  {
   "cell_type": "code",
   "execution_count": null,
   "id": "ad2645a8",
   "metadata": {},
   "outputs": [],
   "source": [
    "cd \" \" \n",
    "* type your file path to the folder containing the data between the quotation marks in the line above"
   ]
  },
  {
   "cell_type": "markdown",
   "id": "802cd00b-98bc-42d4-98c5-961b16d34cee",
   "metadata": {},
   "source": [
    "Notice that once we change directories, Stata outputs the full name of the directory where we are currently working.\n",
    "\n",
    "One trick to using `cd` is that we can use periods (.) to move back folders: two period to move back one folder, three periods to move back two folders, etc. Try the command below to compare the folder Stata is now directed to with the command above. You can repeat this using two periods."
   ]
  },
  {
   "cell_type": "code",
   "execution_count": null,
   "id": "a092548e-6d3e-46a5-b4e4-d36de3efc490",
   "metadata": {},
   "outputs": [],
   "source": [
    "cd .."
   ]
  },
  {
   "cell_type": "markdown",
   "id": "bf22c16b-62cb-4ab1-becc-d98173e6df85",
   "metadata": {},
   "source": [
    "An easier way to change the directory is by typing the `cd` command followed by the folder you want to set as your working directory. In this method, quotation marks are not necessary."
   ]
  },
  {
   "cell_type": "code",
   "execution_count": null,
   "id": "91ea32e0-d069-4f9b-8e14-0c6fdc77d5e2",
   "metadata": {},
   "outputs": [],
   "source": [
    "cd myfolder\n",
    "\n",
    "*Use myfolder as a placeholder for the folder you want to set as your working directory"
   ]
  },
  {
   "cell_type": "markdown",
   "id": "c73a85f6-9404-4ad0-b3cc-157e4050244b",
   "metadata": {},
   "source": [
    "In addition, we can use the command `cd` on its own to go back to the home directory.\n",
    "\n",
    "The process for changing directories in Stata varies depending on the type of computer being used. If one approach does not work, it is possible that the method is not suitable to your computer. Please see the link below for instructions on how to change directories according to the type of computer you are using.\n",
    "\n",
    "https://www.stata.com/manuals/dcd.pdf"
   ]
  },
  {
   "cell_type": "markdown",
   "id": "cebaadcd",
   "metadata": {},
   "source": [
    "## 5.3 Opening Datasets \n",
    "\n",
    "#### 5.3.1 Excel and CSV files \n",
    "When looking for the data for your research, you will realize that many data sets are not formatted for Stata. In some cases, data sets are formatted as excel or CSV files. Not surprisingly the command to load in data is called `import`. IT comes in two main forms: `import excel` and `import delimited`. \n",
    "\n",
    "Let's import the data set called `fake_data.csv`. We need to use import delimited to import this data into Stata. The syntax for this command is `import delimited [using] filename [, import_delimited_options]`. \n",
    "\n",
    "We always include the option `clear` when we use import to make sure we're clearing any previous data set that was opened before in our Stata session. Recall that to use an option, we include a comma (`,`) after the command line and write the option name. You are welcome to also read the documentation of these commands by writing `help import delimited`.\n",
    "\n",
    "Note that the command below will not import the data unless you have changed your directory (above) to the folder which contains this file. "
   ]
  },
  {
   "cell_type": "markdown",
   "id": "bc33540d",
   "metadata": {},
   "source": [
    "\n",
    "**Ignore the following block of code that will create a csv file to be used as an example**\n"
   ]
  },
  {
   "cell_type": "code",
   "execution_count": null,
   "id": "d0ef3364",
   "metadata": {},
   "outputs": [],
   "source": [
    "use fake_data, clear\n",
    "export delimited using \"fake_data.csv\", replace"
   ]
  },
  {
   "cell_type": "markdown",
   "id": "7a7b9a67",
   "metadata": {},
   "source": [
    "\n",
    "\n",
    "To load a csv dataset we write."
   ]
  },
  {
   "cell_type": "code",
   "execution_count": null,
   "id": "e39dbfdf",
   "metadata": {},
   "outputs": [],
   "source": [
    "import delimited using \"fake_data.csv\", clear"
   ]
  },
  {
   "cell_type": "markdown",
   "id": "415ef7d6",
   "metadata": {},
   "source": [
    "When we run this command, Stata will print a message saying that there are 9 variables and almost 3 million observations.  When we open datasets that are not in Stata format, it is very important to check whether the first row of the data includes the variable names. \n",
    "\n",
    "We can use the command `list` to look at our data. It is better to limit the observations we see since we don't want to see all 3 million! Thus, we use `in` to constrain the list to the first 3 observations below."
   ]
  },
  {
   "cell_type": "code",
   "execution_count": null,
   "id": "1887588f",
   "metadata": {},
   "outputs": [],
   "source": [
    "list in 1/3 "
   ]
  },
  {
   "cell_type": "markdown",
   "id": "57afd700",
   "metadata": {},
   "source": [
    "By default the first row of data is interpreted as the variable names of the data set, which in this case is correct. If that's not the case, we need to include the import delimited option `varnames(#|nonames)`, where we replace `#` by the observation number that includes the names. If the data has no names the option is `varnames(nonames)`. Don't forget that you can always check the documentation by writing `help import delimited`.\n",
    "\n",
    "#### 5.3.2 Stata files\n",
    "To open data sets in Stata format, we use the command `use`. As we can observe from the example below, we can recognize a dataset is stored in stata format because the file's name will end with .dta."
   ]
  },
  {
   "cell_type": "code",
   "execution_count": null,
   "id": "f5df833c",
   "metadata": {},
   "outputs": [],
   "source": [
    "use \"fake_data.dta\", clear"
   ]
  },
  {
   "cell_type": "code",
   "execution_count": null,
   "id": "f04ae5e8",
   "metadata": {},
   "outputs": [],
   "source": [
    "list in 1/3 "
   ]
  },
  {
   "cell_type": "markdown",
   "id": "c5c5b28e-6afa-4c63-8a14-ee3fe621fc6f",
   "metadata": {},
   "source": [
    "#### 5.3.3 Other files\n",
    "\n",
    "You can open a number of different data files in Stata with no issues. If you are struggling, one option at UBC is to use the program StatTransfer to convert your file to dta format. This program is available in the library on the UBC Vancouver Campus at one of the [Digital Scholarship workstations](https://researchcommons.library.ubc.ca/digital-scholarship-lab-use-policy-and-guideline/). Once your data is in dta format, it can be imported with the `use` command seen above."
   ]
  },
  {
   "cell_type": "markdown",
   "id": "45bd1679-015f-4b5b-aa0d-4b5b32697148",
   "metadata": {
    "tags": []
   },
   "source": [
    "<div class=\"alert alert-info\">\n",
    "\n",
    "**Note:** UBC has research support available for any student who needs help with data, including anyone who needs help getting  data into a format that can be imported into Stata. You can find the contact information for the Economics Librarian on the [UBC Library ECON 490 Research Guide](https://guides.library.ubc.ca/ECON490).\n",
    "\n",
    "</div>"
   ]
  },
  {
   "cell_type": "markdown",
   "id": "4438cf70-e7b8-47ed-bfbb-47f59688d1c4",
   "metadata": {},
   "source": [
    "## 5.4 Commands to Explore the Dataset"
   ]
  },
  {
   "cell_type": "markdown",
   "id": "3c6a51ce-9aa4-48ae-ba25-15d9241c9a81",
   "metadata": {},
   "source": [
    "#### 5.4.1 `describe`\n",
    "\n",
    "The first command we are going to use describes the basic characteristics of the variables in the loaded data set."
   ]
  },
  {
   "cell_type": "code",
   "execution_count": null,
   "id": "5b7675dc-acfb-4904-942b-874e84e95083",
   "metadata": {},
   "outputs": [],
   "source": [
    "describe"
   ]
  },
  {
   "cell_type": "markdown",
   "id": "33b700fc-a70c-4141-95b3-c4aeb1fb7a9a",
   "metadata": {},
   "source": [
    "#### 5.4.2 `browse`"
   ]
  },
  {
   "cell_type": "markdown",
   "id": "46abe624-3be1-4d2e-b38b-76da76170011",
   "metadata": {},
   "source": [
    "In addition to the `describe` command, in the Stata interface you can also open the data editor and see the raw data as if it were an Excel file. To do this, we can type `browse`. This command will open a new Stata window. If we want to do this from within Jupyter, we use the command with `%` before `browse`. Either approach gives us a \"spreadsheet-like\" view of the data set."
   ]
  },
  {
   "cell_type": "code",
   "execution_count": null,
   "id": "a16d5e36-011c-48c8-91a4-5469db972473",
   "metadata": {},
   "outputs": [],
   "source": [
    "%browse"
   ]
  },
  {
   "cell_type": "markdown",
   "id": "e90bb08b-f20d-4faa-87a7-0d4466d7d665",
   "metadata": {},
   "source": [
    "Opening the data editor has many benefits. Most importantly, we get to see the data as a whole, allowing us to have a clearer perspective of the information the data set is providing us. For example, here we observe that we have unique worker codes, the year where they are observed, worker characteristics (sex, age, and earnings), and whether or not they participated in the specified 2003 training program. "
   ]
  },
  {
   "cell_type": "markdown",
   "id": "6589b00e-28c9-4d01-b805-f6b073c94409",
   "metadata": {},
   "source": [
    "#### 5.4.3 `codebook`\n",
    "\n",
    "We can further analyze any variable by using the `codebook` command. Let's do this here to learn more about the variable _earnings_."
   ]
  },
  {
   "cell_type": "code",
   "execution_count": null,
   "id": "4daa8a07-e476-49ff-ba5b-4e8f18ef2fb0",
   "metadata": {},
   "outputs": [],
   "source": [
    "codebook earnings"
   ]
  },
  {
   "cell_type": "markdown",
   "id": "cf73f7f2-ada6-4f89-a27f-7f504a59e379",
   "metadata": {},
   "source": [
    "The codebook command gives us important information about this variable such as the type (i.e. string or numeric), how many missing observations it has (very useful to know!) and all unique values. If the variable is numeric, it will also provide some summary statistics. If the variable is a string, it will provided examples of some of the entries.\n",
    "\n",
    "Try changing the variable name in the cell above to see the codebook entries for different variables in the data set. "
   ]
  },
  {
   "cell_type": "markdown",
   "id": "59a56d17-6e46-4cad-931f-bc0764f19eae",
   "metadata": {},
   "source": [
    "#### 5.4.4 `tabulate`\n",
    "\n",
    "We can also learn more about the frequency of the different measures of one variable by using the command `tabulate`."
   ]
  },
  {
   "cell_type": "code",
   "execution_count": null,
   "id": "53a046a9-5937-4bf3-8616-b33f19a77a93",
   "metadata": {},
   "outputs": [],
   "source": [
    "tabulate region"
   ]
  },
  {
   "cell_type": "markdown",
   "id": "34a7421f-ac48-4b29-8a80-4a19c501097a",
   "metadata": {},
   "source": [
    "Here we can see that there are five regions indicated in this data set. We can see that the majority of people surveyed came from region 1. \n",
    "\n",
    "We can actually include two variables in the `tabulate` command if we want more information. When we do this below we see that there were 234,355 female identified and 425,698 male identified persons surveyed in region 1. "
   ]
  },
  {
   "cell_type": "code",
   "execution_count": null,
   "id": "f3e7d86e-900d-4d20-ab9d-70cea6eb6ed0",
   "metadata": {},
   "outputs": [],
   "source": [
    "tabulate region sex"
   ]
  },
  {
   "cell_type": "markdown",
   "id": "f59655e9-3012-4f05-a213-07bea8c6fca3",
   "metadata": {},
   "source": [
    "#### 5.4.5 `lookfor`\n",
    "\n",
    "What if there's a gazillion variables and we're looking for a particular one? Thankfully, Stata provides a nice command called `lookfor` which helps us search for variables based on keywords. Suppose we want to look for a variable that is related to year. "
   ]
  },
  {
   "cell_type": "code",
   "execution_count": null,
   "id": "4daa21ea-e41b-46da-92a5-3709997da82f",
   "metadata": {},
   "outputs": [],
   "source": [
    "lookfor year"
   ]
  },
  {
   "cell_type": "markdown",
   "id": "7006fc99-5f28-4890-a209-8419fd3de69a",
   "metadata": {},
   "source": [
    "Stata found three variables that include the word year either in the variable name or in the variable label. This is super useful when we are getting to know a data set!"
   ]
  },
  {
   "cell_type": "markdown",
   "id": "3e82767b",
   "metadata": {},
   "source": [
    "## 5.5 Saving Datasets \n",
    "\n",
    "We can save any opened data set in Stata format by writing `save using \"some_directory/dataset_name.dta\", replace`. The replace option overwrites a previous version of the file to keep our save current. \n",
    "\n",
    "We can also save files in different formats with the `export excel` and `export delimited` commands. Look at the help documentation for more details."
   ]
  },
  {
   "cell_type": "markdown",
   "id": "d60434da-04d7-46a7-bbbf-0aabc00859a0",
   "metadata": {},
   "source": [
    "## 5.6 Wrap Up\n",
    "\n",
    "Now that you are able to import data into Stata, you can start doing your own analysis! Try finding a data set that interests you and practice some of the commands that you have already learned in the first few Modules. In the next module, we will look at commands for working with data in greater depth."
   ]
  },
  {
   "cell_type": "markdown",
   "id": "567b6bdc-9b41-4a11-81c4-454272db8416",
   "metadata": {},
   "source": [
    "### 5.6.1 Wrap Up Table"
   ]
  },
  {
   "cell_type": "markdown",
   "id": "632e4c43-52ab-4225-bdcd-91863aee7e66",
   "metadata": {},
   "source": [
    "| Command | Function |\n",
    "|---------|----------|\n",
    "|clear    | used to clear the workspace|\n",
    "|cd       | used to change the working directory|\n",
    "|pwd      | used to view the current working directory|\n",
    "|use      | used to open a Stata dataset\n",
    "|import delimited| used to load a csv dataset|\n",
    "|import excel| used to load an excel dataset|\n",
    "|list| used to look at the data|\n",
    "|describe| used to describe the basic characteristics of the variables in the loaded dataset|\n",
    "|browse| used to open up the data editor and view the observations of the dataset|\n",
    "|codebook| used to describe data contents|\n",
    "|tabulate| used to summarize the frequency of the different measures of a variable|\n",
    "|lookfor| used to search for the variables of a dataset based on keywords|\n",
    "|export excel| used to save a dataset in excel format|\n",
    "|export delimited| used to save a dataset in csv format|\n",
    "\n"
   ]
  },
  {
   "cell_type": "markdown",
   "id": "69e064bd-79ab-4051-ae3c-4a41dcf4735b",
   "metadata": {},
   "source": [
    "### 5.6.2 Errors"
   ]
  },
  {
   "cell_type": "markdown",
   "id": "cd4477ba-c1a1-4cf8-8e99-6002b8acff52",
   "metadata": {},
   "source": [
    "The tabulate command may be used in conjunction with conditional statements. When specifying the condition, ensure that you use quotation marks; otherwise, Stata will return an error code. Uncomment each line of code below to see it in action."
   ]
  },
  {
   "cell_type": "code",
   "execution_count": null,
   "id": "0d5999e1-beee-4ee6-93fd-936cdba1dd91",
   "metadata": {},
   "outputs": [],
   "source": [
    "\n",
    "*tabulate sex if sex==F          //incorrect\n",
    "*tabulate sex if sex==\"F\"        //correct\n",
    "\n"
   ]
  },
  {
   "cell_type": "markdown",
   "id": "07cfe35c-6d1e-401e-b59d-4f59e7135516",
   "metadata": {},
   "source": [
    "## References\n",
    "\n",
    "[Import data from excel](https://www.youtube.com/watch?v=N5ZFgzN2_7c&list=PLN5IskQdgXWnnIVeA_Y0OBGmnw21fvcmU&index=5) <br>\n",
    "[Import delimited data](https://www.youtube.com/watch?v=8vwRchxkaZs&list=PLN5IskQdgXWnnIVeA_Y0OBGmnw21fvcmU&index=6)"
   ]
  }
 ],
 "metadata": {
  "kernelspec": {
   "display_name": "Stata",
   "language": "stata",
   "name": "stata"
  },
  "language_info": {
   "codemirror_mode": "stata",
   "file_extension": ".do",
   "mimetype": "text/x-stata",
   "name": "stata",
   "version": "15.1"
  }
 },
 "nbformat": 4,
 "nbformat_minor": 5
}
