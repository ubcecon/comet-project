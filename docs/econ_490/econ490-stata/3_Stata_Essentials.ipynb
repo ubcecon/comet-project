{
 "cells": [
  {
   "cell_type": "markdown",
   "id": "b14cf900",
   "metadata": {},
   "source": [
    "# ECON 490: Stata Essentials (3)\n",
    "\n",
    "## Prerequisites \n",
    "\n",
    "1. Understand how to effectively use Stata do files and know how to generate log files.\n",
    "\n",
    "## Learning Outcomes\n",
    "\n",
    "1. View the characteristics of any dataset using the command `describe`.\n",
    "2. Use `help` to learn best how to run commands.\n",
    "3. Understand the Stata command syntax using the command `summarize`.\n",
    "4. Create loops using the commands `for`, `while`, `forvalues` and `foreach` ."
   ]
  },
  {
   "cell_type": "markdown",
   "id": "34449ac6",
   "metadata": {},
   "source": [
    "## 3.1 Describing Your Data"
   ]
  },
  {
   "cell_type": "markdown",
   "id": "9431d143-a383-4b18-aa64-6a5a8d6c4ca7",
   "metadata": {},
   "source": [
    "Let's start by opening a dataset that was provided when you installed Stata onto your own computer. We will soon move on to importing our own data, but this Stata data set will help get us started. This is a dataset on automobiles and their characteristics. You can install this dataset by running the command in the cell below:"
   ]
  },
  {
   "cell_type": "code",
   "execution_count": null,
   "id": "7db68e54",
   "metadata": {},
   "outputs": [],
   "source": [
    "sysuse auto.dta, clear"
   ]
  },
  {
   "cell_type": "markdown",
   "id": "0e7a1c8b-6c0f-42cc-aeef-bb45f3846618",
   "metadata": {},
   "source": [
    "We can begin by checking the characteristics of the data set we have just downloaded. The command `describe` allows us to see the number of observations, the number of variables, a list of variable names and descriptions, and the variable types and labels of that data set."
   ]
  },
  {
   "cell_type": "code",
   "execution_count": null,
   "id": "b649f5ec",
   "metadata": {},
   "outputs": [],
   "source": [
    "describe "
   ]
  },
  {
   "cell_type": "markdown",
   "id": "d15255a8",
   "metadata": {},
   "source": [
    "Notice that this data set consists of 12 variables and 74 observations. We can see that the first variable is named _make_, which indicates the make and model of the vehicle. We can also see that the variable _make_ is a string variables (made up of text). Other variables in this data set are numeric. For example, the variable _mpg_ indicates the vehicle's mileage (miles per gallon) as an integer. The variable _foreign_ is also numeric, and it only takes the values 0 or 1, indicating whether the car is foreign or domestically made; this is a dummy variable. "
   ]
  },
  {
   "cell_type": "markdown",
   "id": "5a6b0114",
   "metadata": {},
   "source": [
    "## 3.2 Introduction to Stata Command Syntax\n",
    "\n",
    "#### 3.2.1 Using HELP to understand commands\n",
    "\n",
    "To help us get comfortable with the syntax used by Stata, let's start with a simple and useful command: `summarize`. This command will give us the basic statistics from any variable(s) in the data set, such as the variables we have discussed above. "
   ]
  },
  {
   "cell_type": "code",
   "execution_count": null,
   "id": "5193ef56",
   "metadata": {
    "tags": []
   },
   "outputs": [],
   "source": [
    "summarize make mpg foreign"
   ]
  },
  {
   "cell_type": "markdown",
   "id": "8ae99045",
   "metadata": {},
   "source": [
    "Stata has a help manual installed in the program which provides documentation for all Stata published commands. This information can be reached by typing the command `help` and then the name of the command we need extra information about. \n",
    "\n",
    "To see the extra information that is available by using `summarize`, run the command below: "
   ]
  },
  {
   "cell_type": "code",
   "execution_count": null,
   "id": "bbe0b9a2",
   "metadata": {},
   "outputs": [],
   "source": [
    "help summarize"
   ]
  },
  {
   "cell_type": "markdown",
   "id": "d729e924",
   "metadata": {},
   "source": [
    "You will need to run this command directly into the Stata console on your computer in order to able to see all of the information provided by `help`. You should run this command now in order to be able to see that output directly.\n",
    "\n",
    "When you do you will see that the first 1-2 letters of the command are often underlined. This underlining indicates the shortest permitted abbreviation for a command (or option). \n",
    "\n",
    "For example, if you type `help rename` you will see that `rename` can be abbreviated `ren`, `rena`, or `renam`, or it can be spelled out in its entirety. \n",
    "\n",
    "Other examples are, `g`enerate, `ap`pend, `rot`ate, `ru`n.\n",
    "\n",
    "If there is no underline, then no abbreviation is allowed. For example, the command `replace` cannot be abbreviated. The reason for this is that Stata doesn't want us to accidentally make changes to our data by replacing the information in the variable. \n",
    "\n",
    "We can write the `summarize` command with its shortest abbreviation `su` or a longer abbreviation such as `sum`. \n",
    "\n",
    "Also, in the Stata help output we can see that some words are written in blue and are encased within square brackets. We will talk more about these options below, but in Stata we can directly click on those links for more information from help. \n",
    "\n",
    "Finally, help provides a list of the available options for a command. In the case of `summarize`, these options allow us to display extra information for a variable. We will learn more about this below in section 3.2.4."
   ]
  },
  {
   "cell_type": "markdown",
   "id": "82bd3637",
   "metadata": {},
   "source": [
    "#### 3.2.2 Imposing IF conditions\n",
    "\n",
    "When the syntax of the command allows for `[if]`, we can run the command on a subset of the data that satisfies any condition we choose. Here is the list of conditional operators available to us:\n",
    "\n",
    "1. Equal: ==\n",
    "2. Greater than and less than: > and <\n",
    "3. Greater than or equal and less than or equal: >= and <= \n",
    "4. Not Equal: != \n",
    "\n",
    "We can also compound different conditions using the list of logical operators:\n",
    "\n",
    "1. And: & \n",
    "2. Or: | \n",
    "3. Not: ! or ~ \n",
    "\n",
    "Let's look at an example which applies this new knowledge: summarizing the variable _price_ when the make of the car is domestic (i.e. not foreign):"
   ]
  },
  {
   "cell_type": "code",
   "execution_count": null,
   "id": "2393aa31",
   "metadata": {},
   "outputs": [],
   "source": [
    "su price if foreign == 0"
   ]
  },
  {
   "cell_type": "markdown",
   "id": "b25662dd-4e00-4bea-8365-2d6534a2b901",
   "metadata": {},
   "source": [
    "Let's do this again, but now we will impose the additional condition that the mileage must be less than 25."
   ]
  },
  {
   "cell_type": "code",
   "execution_count": null,
   "id": "5915e31f",
   "metadata": {},
   "outputs": [],
   "source": [
    "su price if foreign == 0  & mpg < 25"
   ]
  },
  {
   "cell_type": "markdown",
   "id": "17dbf4c8",
   "metadata": {},
   "source": [
    "Maybe we want to restrict to a particular list of values. Here we can make use of the option `inlist()` or we can write out all of the conditions using the \"or\" operator:"
   ]
  },
  {
   "cell_type": "code",
   "execution_count": null,
   "id": "d671bf5b",
   "metadata": {},
   "outputs": [],
   "source": [
    "su price if inlist(mpg,10,15,25,40)"
   ]
  },
  {
   "cell_type": "markdown",
   "id": "f9d1f0fe",
   "metadata": {},
   "source": [
    "This works exactly the same way as this command:"
   ]
  },
  {
   "cell_type": "code",
   "execution_count": null,
   "id": "5ac5a632",
   "metadata": {},
   "outputs": [],
   "source": [
    "su price if mpg == 10 | mpg == 15 | mpg == 25 | mpg == 40"
   ]
  },
  {
   "cell_type": "markdown",
   "id": "130191fe-1019-4d4f-b557-f43bd296ffff",
   "metadata": {},
   "source": [
    "Maybe we want to restrict to values in a particular range. Here we can make use of the option `inrange()` or we can write out all of the conditions using the conditional operators:"
   ]
  },
  {
   "cell_type": "code",
   "execution_count": null,
   "id": "437f39b8",
   "metadata": {},
   "outputs": [],
   "source": [
    "su price if inrange(mpg,5,25) "
   ]
  },
  {
   "cell_type": "markdown",
   "id": "2643276e",
   "metadata": {},
   "source": [
    "Notice the output returned by the code below is equal to the previous cell:"
   ]
  },
  {
   "cell_type": "code",
   "execution_count": null,
   "id": "32341d60",
   "metadata": {},
   "outputs": [],
   "source": [
    "su price if mpg >= 5 & mpg <= 25"
   ]
  },
  {
   "cell_type": "markdown",
   "id": "4fc8723b",
   "metadata": {
    "tags": []
   },
   "source": [
    "There might be variables for which there is no information recorded for some observations. For example, when we `summarize` our automobile data we will see that there are 74 observations for most variables, but that the variable _rep78_ has only 69 observations - for five observations there is no repair record indicated in the data set."
   ]
  },
  {
   "cell_type": "code",
   "execution_count": null,
   "id": "b2292e6e",
   "metadata": {},
   "outputs": [],
   "source": [
    "su price rep78 "
   ]
  },
  {
   "cell_type": "markdown",
   "id": "26a5d7a2",
   "metadata": {},
   "source": [
    "If, for some reason, we only want to consider observations without missing values, we can use the option `!missing()` which combines the command `missing()` with the negative conditional operator \"!\". For example, the command below says to summarize the variable _price_ for all observations for which _rep78_ is NOT missing."
   ]
  },
  {
   "cell_type": "code",
   "execution_count": null,
   "id": "b759c46a",
   "metadata": {},
   "outputs": [],
   "source": [
    "su price if !missing(rep78)"
   ]
  },
  {
   "cell_type": "markdown",
   "id": "f153c5d0-f767-4224-812a-7ef72868f2c7",
   "metadata": {},
   "source": [
    "This command can also be written using the conditional operator since missing numeric variables are indicated by a \".\". This is shown below:"
   ]
  },
  {
   "cell_type": "code",
   "execution_count": null,
   "id": "bbe0e504",
   "metadata": {},
   "outputs": [],
   "source": [
    "su price if rep78 != ."
   ]
  },
  {
   "cell_type": "markdown",
   "id": "57912575-66cd-4aef-8380-812a1685c9e8",
   "metadata": {},
   "source": [
    "Notice that in both cases there are only 69 observations.\n",
    "\n",
    "If we wanted to do this with missing string variables, we could indicate those with \"\". "
   ]
  },
  {
   "cell_type": "markdown",
   "id": "299a1cd4",
   "metadata": {},
   "source": [
    "#### 3.2.3 Imposing IN conditions \n",
    "\n",
    "We can also subset the data by using the observation number. The example below summarizes the data in observations 1 through 10."
   ]
  },
  {
   "cell_type": "code",
   "execution_count": null,
   "id": "405da0d6",
   "metadata": {},
   "outputs": [],
   "source": [
    "su price in 1/10"
   ]
  },
  {
   "cell_type": "markdown",
   "id": "12db3e2a",
   "metadata": {},
   "source": [
    "But be careful! This type of condition is generally not recommended because it depends on the order of the data.\n",
    "\n",
    "To see this, lets sort the observations in ascending order by running the command `sort`: "
   ]
  },
  {
   "cell_type": "code",
   "execution_count": null,
   "id": "74011390",
   "metadata": {},
   "outputs": [],
   "source": [
    "sort price \n",
    "su price in 1/10"
   ]
  },
  {
   "cell_type": "markdown",
   "id": "3cabb699",
   "metadata": {},
   "source": [
    "We can see that the result changes because the observations 1 through 10 in the data are now different.\n",
    "\n",
    "Always avoid using `in` whenever you can. Try to use `if` instead!"
   ]
  },
  {
   "cell_type": "markdown",
   "id": "8525e318",
   "metadata": {},
   "source": [
    "#### 3.2.4 Command options\n",
    "\n",
    "When we used the `help` command, we saw that we can introduce some optional arguments after a comma. In the case of the `summarize` command we were shown the following options: `d`etail, `mean`only, `f`ormat and `sep`arator(#). \n",
    "\n",
    "If we want additional statistics apart from the mean, standard deviation, min, and max values, we can use the option `detail` or just `d` for short."
   ]
  },
  {
   "cell_type": "code",
   "execution_count": null,
   "id": "4125d4a6",
   "metadata": {},
   "outputs": [],
   "source": [
    "su price , d"
   ]
  },
  {
   "cell_type": "markdown",
   "id": "eb20bbbf",
   "metadata": {},
   "source": [
    "## 3.3 Using Loops \n",
    "\n",
    "Much like any other programming language, there are `for` and `while` loops that we can use to iterate through many times. In particular, the `for` loops are also sub-divided into `forvalues` (which iterate across a range of numbers) and `foreach` (which iterate across a list of names). \n",
    "\n",
    "It is very common that these loops create a local scope (i.e. the iteration labels only exist within a loop). A local in Stata is a special variable that temporarily stores information. We'll discuss locals in the next module, but consider this simple example in which the letter \"i\" is used as a place holder for the number 95. \n",
    "\n",
    "For a better understanding of locals and globals, please visit [Module 4](econometrics/econ490-stata/4_Locals_and_Globals.ipynb).\n"
   ]
  },
  {
   "cell_type": "code",
   "execution_count": null,
   "id": "e5e000e8",
   "metadata": {},
   "outputs": [],
   "source": [
    "local i = 95\n",
    "\n",
    "display `i'"
   ]
  },
  {
   "cell_type": "markdown",
   "id": "eedd47a2-8773-4a59-a7ad-fcad145be220",
   "metadata": {},
   "source": [
    "We can also create locals that are strings rather than numeric in type. Consider this example:"
   ]
  },
  {
   "cell_type": "code",
   "execution_count": null,
   "id": "252cb8d9",
   "metadata": {},
   "outputs": [],
   "source": [
    "local course = \"ECON 490\"\n",
    "\n",
    "display \"`course'\""
   ]
  },
  {
   "cell_type": "markdown",
   "id": "c815061c",
   "metadata": {},
   "source": [
    "\n",
    "We can store anything inside a local. When we want to use that information, we include the local encased in a backtick (\\`) and  apostrophe (')."
   ]
  },
  {
   "cell_type": "code",
   "execution_count": null,
   "id": "4d859c21-727e-4d3b-bab4-18de8b8be25c",
   "metadata": {},
   "outputs": [],
   "source": [
    "local course = \"ECON 490\"\n",
    "\n",
    "display \"I am enrolled in `course' and hope my grade will be `i'%!\""
   ]
  },
  {
   "cell_type": "markdown",
   "id": "335beb73",
   "metadata": {},
   "source": [
    "#### 3.3.1 Creating loops Using `forvalues` \n",
    "\n",
    "Whenever we want to iterate across a range of values defined as `forvalues` = `local_var_name' =  min_value(steps)max_value, we can write the command below. Here we are iterating from 1 to 10 in increments of 1."
   ]
  },
  {
   "cell_type": "code",
   "execution_count": null,
   "id": "0047f100",
   "metadata": {},
   "outputs": [],
   "source": [
    "forvalues counter=1(1)10{\n",
    "    *Notice that now counter is a local variable\n",
    "    display `counter'\n",
    "}"
   ]
  },
  {
   "cell_type": "markdown",
   "id": "9ba7d46c-b387-4032-971c-114160ba24ad",
   "metadata": {
    "tags": []
   },
   "source": [
    "Notice that the open brace `{` needs to be on the same line as the `for` command, with no comments after it. Similarly, the closing brace `}` needs to be on its own line."
   ]
  },
  {
   "cell_type": "markdown",
   "id": "1b7aa836-8614-46ab-9fb2-b8228135185b",
   "metadata": {},
   "source": [
    "Experiment below with the command above by changing the increments and min or max values. See what your code outputs."
   ]
  },
  {
   "cell_type": "code",
   "execution_count": null,
   "id": "57d2aa66",
   "metadata": {},
   "outputs": [],
   "source": []
  },
  {
   "cell_type": "markdown",
   "id": "18b1cc56",
   "metadata": {},
   "source": [
    "#### 3.3.2 Creating loops using `foreach`\n",
    "\n",
    "Whenever we want to iterate across a list of names, we can write the command below which asks Stata to `summarize` for a list of variables (in this example, _mpg_ and _price_)."
   ]
  },
  {
   "cell_type": "code",
   "execution_count": null,
   "id": "e1e987c3",
   "metadata": {},
   "outputs": [],
   "source": [
    "foreach name in \"mpg\" \"price\"{\n",
    "    summarize `name'\n",
    "}"
   ]
  },
  {
   "cell_type": "markdown",
   "id": "9a7440be",
   "metadata": {},
   "source": [
    "We can have a list stored in a local variable as well."
   ]
  },
  {
   "cell_type": "code",
   "execution_count": null,
   "id": "a2fbfa65",
   "metadata": {},
   "outputs": [],
   "source": [
    "local namelist \"mpg price\"\n",
    "foreach name in `namelist'{\n",
    "    summarize `name'\n",
    "}"
   ]
  },
  {
   "cell_type": "markdown",
   "id": "da6c3fe6",
   "metadata": {},
   "source": [
    "#### 3.3.3 Writing loops with conitions using `while`\n",
    "\n",
    "Whenever we want to iterate until a condition is met, we can write the command below. The condition here is simply \"while counter is less than 5\". "
   ]
  },
  {
   "cell_type": "code",
   "execution_count": null,
   "id": "edc8b7fc",
   "metadata": {},
   "outputs": [],
   "source": [
    "local counter = 1 \n",
    "while `counter'<5{\n",
    "    display `counter'\n",
    "    local counter = `counter'+1\n",
    "}"
   ]
  },
  {
   "cell_type": "markdown",
   "id": "48a855d2",
   "metadata": {
    "tags": []
   },
   "source": [
    "## 3.4 Wrap Up\n",
    "\n",
    "In this module, we looked at the way Stata commands function and how their syntax works. In general, many Stata commands will follow the folllowing structure: \n",
    "\n",
    "name_of_command [varlist] [if] [in] [weight] [, options]\n",
    "\n",
    "At this point, you should feel more comfortable reading a documentation file for a Stata command. The question that remains is how to find new commands!\n",
    "\n",
    "You are encouraged to search for commands using the command `search`. For example, if you are interested in running a regression you can write:"
   ]
  },
  {
   "cell_type": "code",
   "execution_count": null,
   "id": "bd581dc5",
   "metadata": {},
   "outputs": [],
   "source": [
    "search regress "
   ]
  },
  {
   "cell_type": "markdown",
   "id": "ac286408-7cd3-4431-827e-d2af4183a512",
   "metadata": {},
   "source": [
    "You will see that a new Stata window pops up on your computer, and you can click on the different options that it shows to look at the documentation for all these commands. Try it yourself in the code cell below!"
   ]
  },
  {
   "cell_type": "code",
   "execution_count": null,
   "id": "55f92b05-4b8f-4834-bfec-c9361d76be25",
   "metadata": {},
   "outputs": [],
   "source": []
  },
  {
   "cell_type": "markdown",
   "id": "56e14126-8496-4286-adf6-1c0ae9092c7e",
   "metadata": {},
   "source": [
    "In the following modules, whenever there is a command which confuses you, feel free to write `search command` or `help command` to redirect to the documentation for reference.\n",
    "\n",
    "> Remember: These commands have to be used on your Stata console!\n",
    "\n",
    "In the next module, we will expand on our knowledge of locals, as well as globals, another type of variable."
   ]
  },
  {
   "cell_type": "markdown",
   "id": "214fddb8-8d1c-44dd-a9c9-50f0be5619bc",
   "metadata": {},
   "source": [
    "### Wrap-up Table\n",
    "\n",
    "|Command  |  Function|\n",
    "|---------|------------|\n",
    "|`Describe` |Provides the characteristics of our dataset including the number of observations and variables, and variable types|\n",
    "|`Summarize`| Calculates and provides a variety of summary statistics of the general dataset or specific variables|\n",
    "|`Help`     |Provides information on each command including its definition, syntax, and the options associated with the command|\n",
    "|`If-conditions`|Used to verify a condition before executing a command. If conditions make use of logical and conditional operators and are preceded by the desired command|\n",
    "|`Sort`     |Used to sort the observations of the data set into ascending order|\n",
    "|`Detail`   |Provides additional statistics, including skewness, kurtosis, the four smallest and four largest values, and various percentile|\n",
    "|`Display`  |Displays strings and values of scalar expressions|\n",
    "|`Search`   |Can be used to find useful commands|\n",
    "|`While`    |A type of loop that iterates until a condition is met|\n",
    "|`Forvalues`|A type of for-loop that iterates across a range of numbers|\n",
    "|`Foreach`  |A type of for-loop that iterates across a list of items|\n",
    "\n",
    "\n",
    "\n",
    "\n",
    "\n",
    "\n"
   ]
  },
  {
   "cell_type": "markdown",
   "id": "b89b43c9-ede4-4c13-bf51-f93cbf8797c0",
   "metadata": {},
   "source": [
    "## 3.5 Errors\n",
    "\n",
    "A common occurrence while working with stata is encountering various errors. Whenever an error occurs, the program will stop executing and a return code with an error message will pop-up. Most commonly occuring errors can be attributed to syntax issues, so please verify your code before execution. Below we have provided 3 common errors you may encounter."
   ]
  },
  {
   "cell_type": "code",
   "execution_count": null,
   "id": "c5b47427-4d37-44c2-80c5-315157906018",
   "metadata": {},
   "outputs": [],
   "source": [
    "summarize hello"
   ]
  },
  {
   "cell_type": "markdown",
   "id": "48202fba-5fa4-4877-ad0b-99681a16ee37",
   "metadata": {},
   "source": [
    "You must verify that the variable you use for a command exists and that you are using its correct spelling. Stata alerts you when you try to execute a command with a non-existing variable."
   ]
  },
  {
   "cell_type": "code",
   "execution_count": null,
   "id": "6fd14604-bff7-4cdc-aeec-218e0346d0f1",
   "metadata": {},
   "outputs": [],
   "source": [
    "su price if 5 =< mpg =< 25"
   ]
  },
  {
   "cell_type": "markdown",
   "id": "e1f83a78-42f0-476b-83d7-1274f356f3f7",
   "metadata": {},
   "source": [
    "In this example, the error is due to the use of invalid conditional operators. To make use of the greater than or equal to operator, you must use the symbol (mpg >= ) and to use the less than or equal to operator, you use the symbol (mpg <= ). \n"
   ]
  },
  {
   "cell_type": "code",
   "execution_count": null,
   "id": "0251cf04-9448-4d04-885d-85c31a8ba380",
   "metadata": {},
   "outputs": [],
   "source": [
    "local word = 95\n",
    "\n",
    "display \"I am enrolled in `course' and hope my grade will be 'word'%!\" // this is incorrect \n",
    "\n",
    "display \"I am enrolled in `course' and hope my grade will be `word'%!\" // this is correct"
   ]
  },
  {
   "cell_type": "markdown",
   "id": "2e8e6527-da79-4cf8-b7e9-41adb42b8e2a",
   "metadata": {},
   "source": [
    "The number 95 does not display in the string due to the wrong punctuation marks being used to enclose the local. We make the error of using two apostraphes instead of a backtick (`) and an apostrophe (')."
   ]
  },
  {
   "cell_type": "markdown",
   "id": "2ea47fd5-1115-4528-8b44-1eadceacea47",
   "metadata": {},
   "source": [
    "## 3.6 Video tutorial\n",
    "\n",
    "Click on the image below for a video tutorial on this module.\n",
    "\n",
    "[![Stata Essentials](img/stata3.png)](https://learning.media.ubc.ca/media/Notebook+3+-+Stata+Essentials/0_5k4mez5a)"
   ]
  },
  {
   "cell_type": "markdown",
   "id": "2b7eac57-2f59-4762-b244-ea3a69f8d5d0",
   "metadata": {},
   "source": [
    "## References\n",
    "\n",
    "[PDF documentation in Stata](https://www.youtube.com/watch?v=zyJ8Wk3rV2c&list=PLN5IskQdgXWnnIVeA_Y0OBGmnw21fvcmU&index=2) <br>\n",
    "[Stata Interface tour](https://www.youtube.com/watch?v=FQ1MBQw_MTI) <br>\n",
    "[One-way tables of summary statistics](https://www.youtube.com/watch?v=ug0LihyIzvM) <br>\n",
    "[Two-way tables of summary statistics](https://www.youtube.com/watch?v=u_Efw1oWxWk)"
   ]
  }
 ],
 "metadata": {
  "kernelspec": {
   "display_name": "Stata",
   "language": "stata",
   "name": "stata"
  },
  "language_info": {
   "codemirror_mode": "stata",
   "file_extension": ".do",
   "mimetype": "text/x-stata",
   "name": "stata",
   "version": "15.1"
  }
 },
 "nbformat": 4,
 "nbformat_minor": 5
}
