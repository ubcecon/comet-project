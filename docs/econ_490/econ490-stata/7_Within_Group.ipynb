{
 "cells": [
  {
   "cell_type": "markdown",
   "id": "1e37786e-51b3-4446-9594-269c46bc9b45",
   "metadata": {},
   "source": [
    "# ECON 490: Conducting Within Group Analysis (7)\n",
    "\n",
    "## Prerequisites \n",
    "\n",
    "1. Be able to effectively use Stata do-files and generate log-files.\n",
    "2. Be able to change your directory so that Stata can find your files.\n",
    "3. Import datasets in csv and dta format. \n",
    "4. Save data files. \n",
    "\n",
    "## Learning Outcomes\n",
    "\n",
    "1. Create new variables using the command `egen`.\n",
    "2. Know when to use the pre-command `by` and when to use `bysort`. \n",
    "3. Use the command `collapse` to create a new data set of summary statistics.\n",
    "3. Change a panel data set to a cross-sectional data set using the command `reshape`. "
   ]
  },
  {
   "cell_type": "markdown",
   "id": "4ea9768b-b2fe-4c8c-8bb0-ac477329900c",
   "metadata": {},
   "source": [
    "## 7.1 Introduction to Working Within Groups\n",
    "\n",
    "There are times when you need to consider workers as a group. Consider some of the following examples:\n",
    "\n",
    "- You would like to know the average wages of workers by educational grouping, in each year of the data. \n",
    "- You would like to know the standard deviation of men and women's earnings, in each geographic region in the data. \n",
    "- You would like to know the top quintile of wealth, by birth cohort. \n",
    "\n",
    "This module will show you how to calculate these statistics using the fake data data set introduced in the previous lecture. Recall that this data set is simulating information of workers in the years 1982-2012 in a fake country where a training program was introduced in 2003 to boost their earnings.  \n",
    "\n",
    "Let's begin by loading that data set into Stata:"
   ]
  },
  {
   "cell_type": "code",
   "execution_count": null,
   "id": "73ad2550",
   "metadata": {},
   "outputs": [],
   "source": [
    "clear *\n",
    "\n",
    "use \"fake_data.dta\", clear"
   ]
  },
  {
   "cell_type": "markdown",
   "id": "c40c2751",
   "metadata": {},
   "source": [
    "## 7.2 Generating Variables using `generate`\n",
    "\n",
    "When we are working on a particular project, it is important to know how to create variables that are computed for a group rather than an individual or an observation. For instance, we may have a data set that is divided by individual and by year. We might want the variables to show us the statistics of a particular individual throughout the years or the statistics of all individuals each year.\n",
    "\n",
    "Stata provides functionality to easily compute such statistics. The key to this analysis is the pre-command `by`, and the only requisite to using this is to ensure data is sorted the correct way.\n",
    "\n",
    "Let's take a look at our data by using the `browse` command we learned in [Module 5](econometrics/econ490-stata/5_Opening_Datasets.ipynb)."
   ]
  },
  {
   "cell_type": "code",
   "execution_count": null,
   "id": "ec41bba8",
   "metadata": {},
   "outputs": [],
   "source": [
    "%browse 10"
   ]
  },
  {
   "cell_type": "markdown",
   "id": "16ab5be2-4f1b-4932-ba6e-40a3ad7a9734",
   "metadata": {},
   "source": [
    "We can tell here that the data is sorted by the variable *workerid*. \n",
    "\n",
    "\n",
    "We use the pre-command `by` alongside the command `generate` to develop these group compounded variables. If we use variables other than *workerid* (the variable by which the data is sorted) to group our new variable, we will not be able to generate the new variable.\n",
    "\n",
    "When we run the command below Stata will produce this error. "
   ]
  },
  {
   "cell_type": "code",
   "execution_count": null,
   "id": "61946a7a",
   "metadata": {},
   "outputs": [],
   "source": [
    "cap drop var_one \n",
    "by year: gen var_one = 1 \n"
   ]
  },
  {
   "cell_type": "markdown",
   "id": "eee9474c",
   "metadata": {},
   "source": [
    "If we want to group by year, Stata expects us to sort the data such that all observations corresponding to the same year are next to each other. We can use the `sort` command as follows."
   ]
  },
  {
   "cell_type": "code",
   "execution_count": null,
   "id": "3f735ce4",
   "metadata": {},
   "outputs": [],
   "source": [
    "sort year "
   ]
  },
  {
   "cell_type": "code",
   "execution_count": null,
   "id": "a24fef76",
   "metadata": {},
   "outputs": [],
   "source": [
    "%browse 10"
   ]
  },
  {
   "cell_type": "markdown",
   "id": "60a6afc2",
   "metadata": {},
   "source": [
    "Let's try the command above again, now with the sorted data."
   ]
  },
  {
   "cell_type": "code",
   "execution_count": null,
   "id": "3db3e80a",
   "metadata": {},
   "outputs": [],
   "source": [
    "cap drop var_one \n",
    "by year: gen var_one = 1 "
   ]
  },
  {
   "cell_type": "markdown",
   "id": "125c6313",
   "metadata": {},
   "source": [
    "Now that the data is sorted by year, the code works! \n",
    "\n",
    "We could have also used the pre-command `bysort` instead of `by`. When we do this we can skip the command to sort the data. Everything is done in one step!\n",
    "\n",
    "Let's sort the data, so it is reverted back to the same ordering scheme as when we started, and generate our new variable again. "
   ]
  },
  {
   "cell_type": "code",
   "execution_count": null,
   "id": "a0a411bc",
   "metadata": {},
   "outputs": [],
   "source": [
    "sort workerid year "
   ]
  },
  {
   "cell_type": "code",
   "execution_count": null,
   "id": "76bbca55",
   "metadata": {},
   "outputs": [],
   "source": [
    "cap drop var_one \n",
    "bysort year: gen var_one = 1 "
   ]
  },
  {
   "cell_type": "markdown",
   "id": "c60f4f45",
   "metadata": {},
   "source": [
    "The variable we have created is not interesting by any means. It simply takes the value of 1 everywhere. In fact, we haven't done anything that we couldn't have done with `gen var_one=1`. We can see this by using the `summary` command."
   ]
  },
  {
   "cell_type": "code",
   "execution_count": null,
   "id": "4ff35715",
   "metadata": {},
   "outputs": [],
   "source": [
    "su var_one"
   ]
  },
  {
   "cell_type": "markdown",
   "id": "4012ca77",
   "metadata": {},
   "source": [
    "You may not be aware, but Stata records the observation number as a hidden variable (a scalar) called *_n* and the total number of observations as *_N*.\n",
    "\n",
    "Let's take a look at these by creating new two variables: one that is the observation number and one that is the total number of observations."
   ]
  },
  {
   "cell_type": "code",
   "execution_count": null,
   "id": "3f4f51b5",
   "metadata": {},
   "outputs": [],
   "source": [
    "cap drop obs_number \n",
    "gen obs_number = _n \n",
    "\n",
    "cap drop tot_obs\n",
    "gen tot_obs = _N"
   ]
  },
  {
   "cell_type": "code",
   "execution_count": null,
   "id": "b6ddfe64",
   "metadata": {},
   "outputs": [],
   "source": [
    "%browse 10"
   ]
  },
  {
   "cell_type": "markdown",
   "id": "0a6c95f7",
   "metadata": {},
   "source": [
    "As expected, the numbering of observations is sensitive to the way that the data is sorted! The cool thing is that whenever we use the pre-command `by`, the scalars `_n` and `_N` record the observation number and total number of observations for each group separately."
   ]
  },
  {
   "cell_type": "code",
   "execution_count": null,
   "id": "41ec5ffc",
   "metadata": {},
   "outputs": [],
   "source": [
    "cap drop obs_number \n",
    "bysort workerid: gen obs_number = _n \n",
    "\n",
    "cap drop tot_obs\n",
    "bysort workerid: gen tot_obs = _N"
   ]
  },
  {
   "cell_type": "code",
   "execution_count": null,
   "id": "d624e6e4",
   "metadata": {},
   "outputs": [],
   "source": [
    "%browse 10"
   ]
  },
  {
   "cell_type": "markdown",
   "id": "f617e736",
   "metadata": {},
   "source": [
    "As we can see, some workers are observed only 2 times in the data (they were only surveyed in two years), whereas other workers are observed 8 times (they were surveyed in 8 years). By knowing (and recording in a variable) the number of times a worker has been observed, we can do some analysis based on this information. For example, in some cases you might be interested in keeping only workers who are observed across all time periods. In this case, you could use the command:"
   ]
  },
  {
   "cell_type": "code",
   "execution_count": null,
   "id": "afb03d57",
   "metadata": {
    "scrolled": true
   },
   "outputs": [],
   "source": [
    "keep if tot_obs==8"
   ]
  },
  {
   "cell_type": "code",
   "execution_count": null,
   "id": "da5ed851",
   "metadata": {
    "scrolled": true
   },
   "outputs": [],
   "source": [
    "%browse 10"
   ]
  },
  {
   "cell_type": "markdown",
   "id": "81943f05",
   "metadata": {},
   "source": [
    "## 7.3 Generating Variables Using Extended Generate\n",
    "\n",
    "The command `egenerate` is used whenever we want to create variables which require access to some functions (e.g. mean, standard deviation, min).  The basic syntax works as follows: \n",
    "\n",
    "```stata\n",
    " bysort groupvar: egen new_var = function() , options\n",
    "```\n",
    "\n",
    "Let's see an example where we create a new variable called *avg_earnings* which is the mean of earnings for every worker. We will need to reload our data since we dropped many observations above when we used the `keep` command."
   ]
  },
  {
   "cell_type": "code",
   "execution_count": null,
   "id": "bc6d18ab",
   "metadata": {},
   "outputs": [],
   "source": [
    "clear *\n",
    "use \"fake_data.dta\", clear"
   ]
  },
  {
   "cell_type": "code",
   "execution_count": null,
   "id": "0cfe7ae7",
   "metadata": {},
   "outputs": [],
   "source": [
    "cap drop avg_earnings\n",
    "bysort workerid: egen avg_earnings = mean(earnings)"
   ]
  },
  {
   "cell_type": "code",
   "execution_count": null,
   "id": "c0aea1ab",
   "metadata": {},
   "outputs": [],
   "source": [
    "cap drop total_earnings\n",
    "bysort workerid: egen total_earnings = total(earnings)"
   ]
  },
  {
   "cell_type": "markdown",
   "id": "042c022f",
   "metadata": {},
   "source": [
    "By definition, these commands will create variables that use information across different observations. You can check the list of available functions by writing `help egen` in the Stata command window. \n",
    "\n",
    "In this documentation, you will notice that there are some functions that do not allow for `by`. For example, suppose we want to create the total sum across different variables in the same row. "
   ]
  },
  {
   "cell_type": "code",
   "execution_count": null,
   "id": "5af55327",
   "metadata": {},
   "outputs": [],
   "source": [
    "cap drop sum_of_vars\n",
    "egen sum_of_vars = rowtotal(start_year region treated)"
   ]
  },
  {
   "cell_type": "markdown",
   "id": "ffac2d40",
   "metadata": {},
   "source": [
    "The variable we are creating for the example has no particular meaning, but what we need to notice is that the function `rowtotal()` only sums the non-missing values in our variables. This means that if there is a missing value in any of the three variables, the sum only occurs between the two variables that do not have the missing value. We could also write this command as `gen sum_of_vars = start_year + region + treated`; however, if there is a missing value (`.`) in *start_year*,  *region* or *treated*, then the generated value for *sum_of_vars* will also be a missing value. The answer lies in the missing observations. If we sum any number with a missing value (`.`), then the sum will also be missing."
   ]
  },
  {
   "cell_type": "markdown",
   "id": "054d8436",
   "metadata": {},
   "source": [
    "We can also use `by` with a list of variables. Here will use *year* and *region* in one command."
   ]
  },
  {
   "cell_type": "code",
   "execution_count": null,
   "id": "6c4d1161",
   "metadata": {},
   "outputs": [],
   "source": [
    "cap drop regionyear_earnings\n",
    "bysort year region : egen regionyear_earnings = total(earnings)"
   ]
  },
  {
   "cell_type": "markdown",
   "id": "0d4a2a47",
   "metadata": {},
   "source": [
    "What this command gives us is a new variable that records total earnings in each region for every year."
   ]
  },
  {
   "cell_type": "markdown",
   "id": "f3f1796c",
   "metadata": {},
   "source": [
    "## 7.4 Collapsing Data\n",
    "\n",
    "We can also compute statistics at some group level with the `collapse` command. Collapse is extremely useful whenever we want to apply sample weights to our data (we will learn more about this in [Module 11](econometrics/econ490-stata/11_Linear_Reg.ipynb)). Sample weights cannot be applied using `egen` but are often extremely important when using micro data. Those weights allow us to manipulate our data to better reflect the composition of the data when the authority that collected the data might have over sampled some segments of the population. \n",
    "\n",
    "The syntax is \n",
    "\n",
    "```stata\n",
    "collapse (statistic1) new_name = existing_variable (statistic2) new_name2 = existing_variable2 ... [pweight =     weight_variable], by(group) \n",
    "```\n",
    "\n",
    "You can obtain a list of possible statistics by running the command `help collapse`. You can also learn more about using weights by typing `help weight`.\n",
    "\n",
    "Let's suppose we want to create a data set at the region-year level using information in the current data set, but we want to use the sample weights that were provided with our data. First, we decide which statistics we want to keep from the original data set. For the sake of explanation, let's suppose we want to keep average earnings, the variance of earnings, and the total employment. We write the following:"
   ]
  },
  {
   "cell_type": "code",
   "execution_count": null,
   "id": "e34f1ff4",
   "metadata": {},
   "outputs": [],
   "source": [
    "collapse (mean) avg_earnings = earnings (sd) sd_earnings = earnings (count) tot_emp = earnings, by(region year)"
   ]
  },
  {
   "cell_type": "code",
   "execution_count": null,
   "id": "a1757c3c",
   "metadata": {},
   "outputs": [],
   "source": [
    "%browse 10"
   ]
  },
  {
   "cell_type": "markdown",
   "id": "c58e9b48",
   "metadata": {},
   "source": [
    "<div class=\"alert alert-block alert-warning\">\n",
    "    \n",
    "<b>Warning:</b> When you use `collapse`, Stata produces a new data set with the results and in the process drops the data set that was loaded at the time the command was run. If you need to keep that data, be certain to save the file before you run this command. \n",
    "</div>"
   ]
  },
  {
   "cell_type": "markdown",
   "id": "08d16014",
   "metadata": {},
   "source": [
    "## 7.5 Reshaping \n",
    "\n",
    "We have collapsed our data and so we need to import the data again to gain access to the full data set."
   ]
  },
  {
   "cell_type": "code",
   "execution_count": null,
   "id": "66d0c0b3",
   "metadata": {},
   "outputs": [],
   "source": [
    "clear *\n",
    "\n",
    "use \"fake_data.dta\", clear"
   ]
  },
  {
   "cell_type": "markdown",
   "id": "f10d3cab",
   "metadata": {},
   "source": [
    "Notice that the nature of this particular data set is panel form; individuals have been followed over many years. Sometimes we are interested in working with a cross section (i.e. we have 1 observation per worker which includes all of the years). Is there a simple way to go back and forth between these two? Yes!\n",
    "\n",
    "The command's name is `reshape` and has two main forms: `wide` and `long`. The former is related to a cross-sectional nature, whereas the latter relates to the usual panel nature. \n",
    "\n",
    "Suppose we want to record the earnings of workers while keeping the information across years."
   ]
  },
  {
   "cell_type": "code",
   "execution_count": null,
   "id": "cf51ee35",
   "metadata": {},
   "outputs": [],
   "source": [
    "reshape wide earnings region age start_year sample_weight, i(workerid) j(year)"
   ]
  },
  {
   "cell_type": "markdown",
   "id": "3044a30f",
   "metadata": {},
   "source": [
    "<div class=\"alert alert-warning\">\n",
    "\n",
    "**Warning:** This command acts on all of the variables in your data set. If you don't include them in the list, Stata will assume that they do not vary across *i* (in this case workers). If you don't check this beforehand, you may get an error message.\n",
    "\n",
    "</div>"
   ]
  },
  {
   "cell_type": "code",
   "execution_count": null,
   "id": "f7112af7",
   "metadata": {},
   "outputs": [],
   "source": [
    "%browse 10"
   ]
  },
  {
   "cell_type": "markdown",
   "id": "c75f42cb",
   "metadata": {},
   "source": [
    "There are so many missing values in the data! Should we worry? Not at all. As a matter of fact, we learned at the beginning of this module that many workers are not observed across all years. That's what these missing values are representing. \n",
    "\n",
    "Notice that the variable _year_ which was part of the command line (the `j(year)` part) has disappeared. We now have one observation per worker, with their information recorded across years in a cross-sectional way. \n",
    "\n",
    "How do we go from a `wide` data set to a regular panel form? We need to indicate the prefix in the variables, which are formally known as `stubs` in the Stata lingo, and use the `reshape long` command. When we write `j(year)` it will create a new variable called _year_."
   ]
  },
  {
   "cell_type": "code",
   "execution_count": null,
   "id": "a8e23674",
   "metadata": {},
   "outputs": [],
   "source": [
    "reshape long earnings region age  start_year sample_weight, i(workerid) j(year) "
   ]
  },
  {
   "cell_type": "code",
   "execution_count": null,
   "id": "20db4a2e",
   "metadata": {},
   "outputs": [],
   "source": [
    "%browse 10"
   ]
  },
  {
   "cell_type": "markdown",
   "id": "51f41de7",
   "metadata": {},
   "source": [
    "Notice that we now have an observation for every worker in every year, although we know some workers are only observed in a subset of these. This is known as a **balanced panel**.  \n",
    "\n",
    "To retrieve the original data set, we get rid of such observations with missing values."
   ]
  },
  {
   "cell_type": "code",
   "execution_count": null,
   "id": "4a801f6f",
   "metadata": {},
   "outputs": [],
   "source": [
    "keep if !missing(earnings)"
   ]
  },
  {
   "cell_type": "code",
   "execution_count": null,
   "id": "7254563f",
   "metadata": {},
   "outputs": [],
   "source": [
    "%browse 10"
   ]
  },
  {
   "cell_type": "markdown",
   "id": "f65b9278",
   "metadata": {},
   "source": [
    "## 7.6 Wrap Up \n",
    "\n",
    "In this module, you have developed some very useful skills that will help you explore data sets. Namely, these skills will help you both prepare your data for empirical analysis (i.e. turning cross sectional data into panel data) and create summary statistics that you can use to illustrate your results. In the next module, we will look at how to work with multiple data sets simultaneously and merge them into one."
   ]
  },
  {
   "cell_type": "markdown",
   "id": "d3d73196-6651-40e7-a1b6-4508e277930c",
   "metadata": {},
   "source": [
    "### 7.6.1 Wrap Up Table"
   ]
  },
  {
   "cell_type": "markdown",
   "id": "294dc0a9-9320-4e80-ad48-6c74eef2b204",
   "metadata": {},
   "source": [
    "| Command | Function |\n",
    "|---------|----------|\n",
    "|`by` | It is a pre-command used to  Repeat Stata command on subsets of the data |\n",
    "|`generate` | It generates variables |\n",
    "|`sort` | It sorts data |\n",
    "|`summary`| It summarizes statistics of a dataset |\n",
    "|`_n` | It records the observation number |\n",
    "|`_N` | It records the total number of observations for each group separately |\n",
    "|`drop` | It drops variables or observations |\n",
    "|`keep` | It keeps variables or observations that satisfy a specified condition |\n",
    "|`egenerate` | It  create variables that require access to some functions |\n",
    "|`rowtotal()` | It sums non-missing values for each observation of a list of variables |\n",
    "|`collapse` | It makes a dataset of a summary of statistics |\n",
    "|`reshape` | It converts data from wide to long and vice versa |"
   ]
  },
  {
   "cell_type": "markdown",
   "id": "79c9e865-79cd-41fe-98b4-3930c580e46c",
   "metadata": {},
   "source": [
    "### 7.6.2 Errors"
   ]
  },
  {
   "cell_type": "markdown",
   "id": "32dd2305-c2b9-4b12-90f6-7a0057a538a1",
   "metadata": {},
   "source": [
    "#### 1. Sort\n",
    "To develop group compounded variables, ensure that you first sort the observations by the variable. Not sorting the obserations will return an error code."
   ]
  },
  {
   "cell_type": "code",
   "execution_count": null,
   "id": "e9766748-2fab-4482-8e9d-2eede2890b14",
   "metadata": {},
   "outputs": [],
   "source": [
    "cap drop var\n",
    "by sex: gen var = _n"
   ]
  },
  {
   "cell_type": "markdown",
   "id": "8cd4aefa-7e37-4cd6-92ca-9f686476d3af",
   "metadata": {},
   "source": [
    "The correct method of of generating compounded variables is below:"
   ]
  },
  {
   "cell_type": "code",
   "execution_count": null,
   "id": "bddf6932-6d83-4ba3-8f43-d14a8d0662c9",
   "metadata": {},
   "outputs": [],
   "source": [
    "cap drop var\n",
    "bysort sex: gen var = _n"
   ]
  },
  {
   "cell_type": "code",
   "execution_count": null,
   "id": "fd429cf1-ea46-419e-a6cf-5116e9a74b02",
   "metadata": {},
   "outputs": [],
   "source": [
    "su var"
   ]
  },
  {
   "cell_type": "markdown",
   "id": "aec4731c-9178-489e-a0d7-23774c93664a",
   "metadata": {},
   "source": [
    "#### 2. Reshape Error"
   ]
  },
  {
   "cell_type": "markdown",
   "id": "77b9c5bf-2688-49db-806a-0565a247070d",
   "metadata": {},
   "source": [
    "Reshaping data can be tricky and doing so incorrectly can cause many variables to be dropped in the proccess. The command `reshape error` can be used to identify the issues encountered when reshaping data."
   ]
  },
  {
   "cell_type": "code",
   "execution_count": null,
   "id": "331376f8-9057-4f8d-bc4e-530bf9b3a89b",
   "metadata": {},
   "outputs": [],
   "source": [
    "clear *\n",
    "use \"fake_data.dta\", clear"
   ]
  },
  {
   "cell_type": "code",
   "execution_count": null,
   "id": "9ee93385-cb13-4a3f-bc2f-d9dfb3b687e3",
   "metadata": {},
   "outputs": [],
   "source": [
    "reshape wide earnings sex, i(year) j(workerid)"
   ]
  },
  {
   "cell_type": "code",
   "execution_count": null,
   "id": "2c7f4ca5-5b39-44b9-858a-a0c5c7f22c8b",
   "metadata": {},
   "outputs": [],
   "source": [
    "reshape error"
   ]
  },
  {
   "cell_type": "markdown",
   "id": "09758891-73e6-41ce-8c2d-c1042c0e31ef",
   "metadata": {},
   "source": [
    "## 7.7 Video tutorial\n",
    "\n",
    "Click on the image below for a video tutorial on this module.\n",
    "\n",
    "[![Conducting Within Group Analysis](img/stata7.png)](https://learning.media.ubc.ca/media/Notebook+7+-+Within++Group+Analysis/0_l5526lb0)"
   ]
  },
  {
   "cell_type": "markdown",
   "id": "103be646-3384-489b-8c8a-e18adc5d19b4",
   "metadata": {},
   "source": [
    "## References\n",
    "\n",
    "[Reshape data from wide format to long format](https://www.youtube.com/watch?v=Bx9kVdkr9oY) <br>\n",
    "[(Non StataCorp) How to group data in STATA with SORT and BY](https://www.youtube.com/watch?v=nEOyH0AFKHc)"
   ]
  }
 ],
 "metadata": {
  "kernelspec": {
   "display_name": "Stata",
   "language": "stata",
   "name": "stata"
  },
  "language_info": {
   "codemirror_mode": "stata",
   "file_extension": ".do",
   "mimetype": "text/x-stata",
   "name": "stata",
   "version": "15.1"
  }
 },
 "nbformat": 4,
 "nbformat_minor": 5
}
