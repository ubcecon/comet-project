{
 "cells": [
  {
   "cell_type": "markdown",
   "id": "e3e96389-0ec3-442e-b0b9-25ca341d0e14",
   "metadata": {},
   "source": [
    "# GEOG 374: Lab 5 - Regional and Gender Differences in Canadian Income and Education\n",
    "* **Authors**: COMET Team (Kevin Pierce, Nina Hewitt and Micheal Jerowsky)\n",
    "* **Last Update**: 19 June 2023"
   ]
  },
  {
   "cell_type": "markdown",
   "id": "52be8c72-44bc-4712-9a81-cfb372e3b2f0",
   "metadata": {},
   "source": [
    "## Outline\n",
    "\n",
    "### Prerequisites\n",
    "\n",
    "* Introduction to Jupyter\n",
    "* Introduction to R\n",
    "* Introduction to Data\n",
    "\n",
    "### Outcomes\n",
    "\n",
    "After completing this notebook, you will be able to:\n",
    "* Visualize and explore data using a box plot.\n",
    "* Visualize and explore data using a mosaic plot.\n",
    "* Conduct a chi-square analysis.\n",
    "\n",
    "### References\n",
    "\n",
    "* [Illowsky and Dean - Chapter 11: The Chi-Square Distribution](https://openstax.org/books/introductory-statistics/pages/11-introduction)\n",
    "* [Shafer and Zhang - Chapter 11: Chi-Square Tests and F-Tests](https://saylordotorg.github.io/text_introductory-statistics/s15-chi-square-tests-and-f-tests.html)\n",
    "* [Lane - Chapter 17: Chi-Square](https://onlinestatbook.com/2/chi_square/Chi_Square.html)\n"
   ]
  },
  {
   "cell_type": "markdown",
   "id": "59a94028-978a-482f-83a9-74bfcc1bb541",
   "metadata": {},
   "source": [
    "## Introduction\n",
    "In this lab we will get acquainted with chi-square analysis by exploring inequities in pay and education. In Canadian society, these are a common subject of academic research with numerous implications for government and corporate policy. \n",
    "\n",
    "One of the most well-understood inequities is the [gender pay gap](https://www150.statcan.gc.ca/n1/pub/75-004-m/75-004-m2019004-eng.htm), whereby men tend to earn more than other genders in equivalent jobs (controlling for all other relevant factors). Another inequity often studied is [regional variation in higher education](https://www.cmec.ca/299/education-in-canada-an-overview/index.html).\n",
    "\n",
    "These social problems are intricately nuanced and we will only study them superficially in this assignment. Here we will evaluate the gender pay gap and disparities in educational attainment across genders and regions using Canadian census data from 2016. \n",
    "\n",
    "Note: A major limitation of Canadian census data is that it only records biological sex. Acknowledging that this is an oversimplification, we will use biological sex as a proxy for broader gender inequities in Canada."
   ]
  },
  {
   "cell_type": "markdown",
   "id": "3e3a88bb-e8c2-40bb-9c0c-31a598a7d66e",
   "metadata": {},
   "source": [
    "## Data\n",
    "The `canadaIncomeEducation.csv` dataset contains six columns representing nearly 7000 individuals in Canada's five largest cities. These are:\n",
    "1. **Income** -- the income level of the individual\n",
    "2. **Education** -- the highest education attained by the individual among *High School*, *Bachelor Degree*, *Master Degree*, and *Doctoral Degree*\n",
    "3. **City** -- The city in which the individual resides among *Toronto*, *Ottawa*, *Montreal*, *Vancouver*, and *Calgary*\n",
    "4. **Age** -- The age of the individual organized into a set of categorical variables *25-29*, *30-34*, ..., *85+*. \n",
    "5. **Major** -- The field of study of the individual, either as *STEM* (science, technology, engineering, medicine), *BHASE* (business, arts, social sciences, legal studies, health care, education, services), or *NA* (for high school graduates).\n",
    "\n",
    "Prior to beginning this lab, run the r code below to read in the .csv file and save it to the variable `df`. The `source` and `library` functions are included so that you can complete the test questions in this module and they can be autograded. `dplyr` is a package for working with dataframes."
   ]
  },
  {
   "cell_type": "code",
   "execution_count": null,
   "id": "1c6a36ff-9947-469a-abf0-27752ccb2680",
   "metadata": {},
   "outputs": [],
   "source": [
    "source(\"lab_05_tests.r\")\n",
    "library(testthat)\n",
    "library(digest)\n",
    "library(dplyr)\n",
    "\n",
    "df = read.csv(\"../datasets/Lab_05_canadaIncomeEducation.csv\")"
   ]
  },
  {
   "cell_type": "markdown",
   "id": "45a5a8de-def4-43ee-907a-afa6c927267d",
   "metadata": {
    "tags": []
   },
   "source": [
    "## Part 1: Key Concepts"
   ]
  },
  {
   "cell_type": "markdown",
   "id": "ce80e020-a9b6-4ea0-8901-bb4875246c23",
   "metadata": {
    "tags": []
   },
   "source": [
    "### Chi-Squre Analysis\n",
    "\n",
    "Chi-square analysis is used with categorical data for which there is count, proportion, or percent data. Typically this sort of analysis is conducted when determining if (1) data fits an expected distribution; (2) two factors are independent from one another; or (3) the distributions of two populations are the same.\n",
    "\n",
    "The chi-square distribution is used when conducting such analyses. It is a positively skewed distribution, and its shape depends on the degrees of freedom present with the curve approximating a normal distribution when df > 90.\n",
    "\n",
    "![Chi-Square Distribution (Shafer and Zhang)](media/chisqdist.png) \n",
    "\n",
    "The test statistics based on the chi-square distribution are always greater than or equal to zero. When conducting a chi-square analysis, one can compute a test statistic and compare it to a critical value when determining whether or not to reject the null hypothesis; however, in this lab we will use r to compute a p-value which we will then compare to our desired $\\alpha$.\n",
    "\n",
    "There are three primary types of chi-square analysis: (1) goodness of fit test; (2) test of independence; and (3) test for homogeneity.\n",
    "\n",
    "### Goodness of Fit Test: \n",
    "The chi-square goodness of fit test is used to determine if an observed frequency distribution fits an expected frequency distribution. \n",
    "\n",
    ">**Example:** A researcher wishes to determine if there is a difference in the number of arrests in Vancouver based on the type of crime committed (theft, property-crime, drug use, and homicide) based on a random sample of 240 arrests.\n",
    "\n",
    "When conducting a goodness of fit test, our hypotheses will be as follows:\n",
    "\n",
    "$H_0$: There is no difference from the expected frequency distribution.\n",
    "\n",
    "$H_1$: There is a difference from the expected frequency distribution.\n",
    "\n",
    "### Test of Independence:\n",
    "The chi-square test of independence is used to determine whether two variables are independent of each other.\n",
    "\n",
    ">**Example:** A researcher wants to determine if party cabinet members' opinions about greenhouse gas emissions limits are independent of party affiliation.\n",
    "\n",
    "When conducting a test of independence our hypotheses will be as follows:\n",
    "\n",
    "$H_0$: The variables are independent of each other.\n",
    "\n",
    "$H_1$: The variables are dependent upon each other.\n",
    "\n",
    "### Test for Homogeneity of Proportions: \n",
    "The chi-squared test for homogeneity of proportions is used to determine whether different populations share the same proportions of specified characteristics.\n",
    "\n",
    ">**Example:** A researcher wants to know if the proportion of students who smoke is the same for different grade levels (e.g. freshmen and seniors).\n",
    "\n",
    "When conducting a test for homogeneity of proportions our hypotheses will be as follows:\n",
    "\n",
    "$H_0$: $\\rho_1 = \\rho_2 = \\rho_3 = \\rho_4 ...$\n",
    "\n",
    "$H_1$: At least one proportion is different.\n",
    "\n",
    "### Contingency Analysis and Visualization\n",
    "Both the test of independence and the test for homogeneity of proportions are forms of contingency analysis, in which the researcher is looking for associations between variables. One common way to visualize this is using a contingency table. A contingency table displays how the frequencies of different values for one variable depend on the values of another variable when both are categorical.\n",
    "\n",
    "![Contingency Table (Nina Hewitt)](media/contingencytable.png)\n",
    "\n",
    "Another useful visualization to consider is a mosaic plot. A mosaic plot is a graphical representation of a contingency table. It is a special type of stacked bar chart that shows cross tabulations of counts against a model where proportionally equal counts are expected. In this lab, we will use mosaic plots to help visualize the differences that exist between populations.\n",
    "\n",
    "![Mosaic Plot (Nina Hewitt)](media/mosaicplot.png)\n"
   ]
  },
  {
   "cell_type": "markdown",
   "id": "835499ce-0924-4739-a234-65450c980a5a",
   "metadata": {},
   "source": [
    "## Part 2: Lab Exercises\n",
    "### Exercise 1: Evaluate Regional and Age Differences in Educational Attainment\n",
    "First we will ensure that our data meet the assumptions of correlation and regression, and then we will investigate whether floods have changed through time within the Fraser basin using correlation analysis.\n",
    "\n",
    "**A)** Investigate the dataframes for this lab using `head` and `tail` to view their structure, headings, and the total number of records. Then calculate the median income for each city in the dataset and aggregate these values in a dataframe called `medIncomes`."
   ]
  },
  {
   "cell_type": "code",
   "execution_count": null,
   "id": "851b46a3-b376-4d64-8cb4-f6d61ee3981a",
   "metadata": {},
   "outputs": [],
   "source": [
    "head(df)\n",
    "tail(df)\n",
    "\n",
    "(medIncomes = aggregate(Income~City,data=df,FUN=median))"
   ]
  },
  {
   "cell_type": "markdown",
   "id": "4165f99c-fce5-440b-acdf-d919de576083",
   "metadata": {},
   "source": [
    "**Question 1:** Which city appears to have the highest median income? Please remember to capitalise your answer."
   ]
  },
  {
   "cell_type": "code",
   "execution_count": null,
   "id": "cbab0eb7-ce3c-41b7-95ba-d684513fa33b",
   "metadata": {},
   "outputs": [],
   "source": [
    "answer_1 = \"\" # your answer here. \n",
    "\n",
    "test_1()"
   ]
  },
  {
   "cell_type": "markdown",
   "id": "f8b9d7e9-3419-450f-9eef-1732ca86bb69",
   "metadata": {},
   "source": [
    "**Question 2:** Which city appears to have the lowest median income?"
   ]
  },
  {
   "cell_type": "code",
   "execution_count": null,
   "id": "5e2ed643-224b-4666-83f7-ac1d2f32893c",
   "metadata": {},
   "outputs": [],
   "source": [
    "answer_2 = \"\" # your answer here\n",
    "\n",
    "test_2()"
   ]
  },
  {
   "cell_type": "markdown",
   "id": "551fd4c3-ac60-445a-a1a6-577b93845806",
   "metadata": {},
   "source": [
    "**B)** Produce a boxplot of Canadian incomes across cities. Put income on the y-axis and the cities on the x-axis. Label all axes and provide a title. You will need to control the limits of the plot using the `ylim` argument of the `boxplot` function. This will exclude the largest outliers from the plot in exchange for resolving the box-and-whisker components we care about."
   ]
  },
  {
   "cell_type": "code",
   "execution_count": null,
   "id": "70b9df47-1878-4ab5-8543-45c752a319aa",
   "metadata": {},
   "outputs": [],
   "source": [
    "boxplot(Income~City, # y,x\n",
    "        data=df, # the dataframe\n",
    "        ylim=c(0,300000), # limits the y-axis to prevent the most extreme values from making the visualization unreadable.\n",
    "        main = '', # Provide a descriptive title \n",
    "        xlab = '', # Provide a descriptive label\n",
    "        ylab = '', # Provide a descriptive label\n",
    "        col= 'lightblue'\n",
    "        )"
   ]
  },
  {
   "cell_type": "markdown",
   "id": "4c8b3834-ec7a-4ea1-adb2-1b90eba4f08b",
   "metadata": {},
   "source": [
    "**Question 3:** In a few sentences, describe the shape of the income distribution (skew, variability, outliers) and comment on any apparent differences between cities. How do the income distributions compare to a normal distribution?"
   ]
  },
  {
   "cell_type": "markdown",
   "id": "b5ed26ca-02f9-4c85-86eb-891b732b1827",
   "metadata": {},
   "source": [
    "<font color=\"red\">Write your answer here</font>"
   ]
  },
  {
   "cell_type": "markdown",
   "id": "d69a14ae-87ac-404e-ab74-d5311e9768cd",
   "metadata": {},
   "source": [
    "**C)** Produce a contingency table named T between the highest degree individuals earned and the city that they live in. We will soon use this to investigate whether educational attainment is contingent on location.\n",
    "\n",
    "Construct contingecy tables between two categorical variables `y` and `x` with `table(x,y)`. The output counts the number of individuals having each unique combination of `y` and `x`. "
   ]
  },
  {
   "cell_type": "code",
   "execution_count": null,
   "id": "6c9d5094-0d4c-45e2-8556-b7b6964a96f9",
   "metadata": {},
   "outputs": [],
   "source": [
    "(T = table(df$City,df$Education))"
   ]
  },
  {
   "cell_type": "markdown",
   "id": "17755a7e-7e6b-4dbf-89a0-3b7c7e0d9300",
   "metadata": {},
   "source": [
    "**D)** Visualize this contingency table with a mosaic plot. You can produce mosaic plots shaded by the residuals with `mosaicplot(T, shade=TRUE)`. You can investigate how to use it with `help(mosaicplot)` function as well."
   ]
  },
  {
   "cell_type": "code",
   "execution_count": null,
   "id": "81d15f61-5320-47ce-b6b1-5a616c97aec1",
   "metadata": {},
   "outputs": [],
   "source": [
    "mosaicplot(T, shade=TRUE)"
   ]
  },
  {
   "cell_type": "markdown",
   "id": "63367a40-238e-4d1b-8277-55119e8eaa3f",
   "metadata": {},
   "source": [
    "**Question 4:** In a sentence or two, comment on any differences in educational attainment between cities suggested by the mosaic plot."
   ]
  },
  {
   "cell_type": "markdown",
   "id": "979fce0d-976f-4722-aadc-3542b1fc3eb6",
   "metadata": {},
   "source": [
    "<font color=\"red\">Write your answer here</font>"
   ]
  },
  {
   "cell_type": "markdown",
   "id": "24ad0f16-26a2-4f73-86f2-b3d9e7626aea",
   "metadata": {},
   "source": [
    "**E)** Conduct $\\chi^2$-analysis to determine if educational attainment is contingent on city in Canada. Conduct the calculation and store its p-value as `p1`."
   ]
  },
  {
   "cell_type": "markdown",
   "id": "68ba1302-4d3d-42a2-acf6-538ff442f740",
   "metadata": {},
   "source": [
    "**Question 5:** What are your null and alternative hypotheses for this test?\n",
    "\n",
    "A) $H_0$: There is no difference from the expected frequency distribution; $H_1$: There is a difference from the expected frequency distribution\n",
    "\n",
    "B) $H_0: \\rho = 0$; $H_1: \\rho \\neq 0$\n",
    "\n",
    "C) $H_0$: $\\rho_1 = \\rho_2 = \\rho_3 = \\rho_4$; $H_1$: At least one proportion is different.\n",
    "\n",
    "D) $H_0$: The variables are independent of each other; $H_1$: The variables are dependent upon each other."
   ]
  },
  {
   "cell_type": "code",
   "execution_count": null,
   "id": "d0a622e5-5ec6-4e6d-80eb-f52c75a9d919",
   "metadata": {},
   "outputs": [],
   "source": [
    "answer_5 = '' # your answer here ('A', 'B', 'C', or 'D')\n",
    "\n",
    "test_5()"
   ]
  },
  {
   "cell_type": "code",
   "execution_count": null,
   "id": "b816d302-848b-4bd6-8ad1-7dbc189ea93b",
   "metadata": {},
   "outputs": [],
   "source": [
    "(T = table(df$City,df$Education)) # create and print a contingency table of city vs. education.\n",
    "(C = chisq.test(T)) # run the chi-square test on the contingency table.\n",
    "p1 = C$p.value # store the p-value as p1"
   ]
  },
  {
   "cell_type": "markdown",
   "id": "89503f40-234d-4729-a7c4-92dced541c3c",
   "metadata": {},
   "source": [
    "**Question 6:** Make a conclusion as to whether educational attainment is contingent on city at $\\alpha$=0.05. Provide the relevant numerical value(s) to support your conclusion. In a sentence or two, interpret any differences in a few apparent city-degree disparities in your earlier mosaic plot."
   ]
  },
  {
   "cell_type": "markdown",
   "id": "db828712-3d4a-4a9e-867e-ab86aeddcaed",
   "metadata": {},
   "source": [
    "<font color=\"red\">Write your answer here</font>"
   ]
  },
  {
   "cell_type": "markdown",
   "id": "1037a974-b53f-4ce9-a8fa-0a96384458cd",
   "metadata": {},
   "source": [
    "**F)** Now investigate if educational attainment is contingent on age. Construct a contingency table between highest degree earned and age. Produce a mosaic plot, then conduct $\\chi^2$-analysis. Save your p-value as `p2`.\n",
    "\n",
    "You will need to drop age groups `25-29` and those beyond `70-74` from the analysis to maintain sufficient counts for each category. We can do this using a mask that we can then apply to our dataframe."
   ]
  },
  {
   "cell_type": "code",
   "execution_count": null,
   "id": "3084113b-9d29-4dc9-bdbb-339f9d5ec898",
   "metadata": {},
   "outputs": [],
   "source": [
    "mask = !(df$Age %in% c('25-29','70-74','75-79','80-84','85+')) #create a mask to exclude certain portions of the data from our dataset.\n",
    "df1 = subset(df, mask) # store the subset as a new dataframe called df1\n",
    "( T = table(df1$Education, df1$Age) ) # create and print a contingency table of education vs. age.\n",
    "( C = chisq.test(T) ) # run the chi-square test on the contingency table.\n",
    "( p2 = C$p.value ) # store the p-value as p2"
   ]
  },
  {
   "cell_type": "code",
   "execution_count": null,
   "id": "7fefdb75-5151-4432-b7b6-b36ee25129de",
   "metadata": {},
   "outputs": [],
   "source": [
    "mosaicplot(T,shade=TRUE)"
   ]
  },
  {
   "cell_type": "markdown",
   "id": "0a72998d-be52-4bdd-8d6a-9834d6f7cb06",
   "metadata": {},
   "source": [
    "**Question 7:** Is educational attainment contingent on age? ('yes' or 'no')"
   ]
  },
  {
   "cell_type": "code",
   "execution_count": null,
   "id": "3336245a-c948-43e2-9645-a92f669da5e0",
   "metadata": {},
   "outputs": [],
   "source": [
    "answer_7 = '' # your answer here ('yes' or 'no')\n",
    "\n",
    "test_7()"
   ]
  },
  {
   "cell_type": "markdown",
   "id": "b9faa585-3fed-4383-99f1-22c133d59a46",
   "metadata": {},
   "source": [
    "**Question 8:** Summarize your conclusion on whether educational attainment is contingent on age, making reference to the appropriate numerical values."
   ]
  },
  {
   "cell_type": "markdown",
   "id": "cbf0e56b-b48d-4135-bf1d-58d27f79328a",
   "metadata": {},
   "source": [
    "<font color=\"red\">Write your answer here</font>"
   ]
  },
  {
   "cell_type": "markdown",
   "id": "1ac0a9f0-50a1-40cc-8310-bde4dcfffd68",
   "metadata": {},
   "source": [
    "**Question 9:** Interpret the major variations in educational attainment across age categories that are visible in your mosaic plot. Take care to explain how these are manifest in the plot for full credit."
   ]
  },
  {
   "cell_type": "markdown",
   "id": "6ee2413c-fbbc-47b7-85d5-5bdf66af8e81",
   "metadata": {},
   "source": [
    "<font color=\"red\">Write your answer here</font>"
   ]
  },
  {
   "cell_type": "markdown",
   "id": "0107067b-07b4-4d69-ad8f-7d910ccc00f7",
   "metadata": {},
   "source": [
    "### Exercise 2: Evaluate the Gender Pay Gap\n",
    "Now we will investigate if there is a gender pay gap in Canada. However, we must first make a new dataframe `df2` that classifies individual income levels into categories. For the purposes of this lab, we will use four categories: 0-25k, 25-50k, 50-75k, and 75-100k. "
   ]
  },
  {
   "cell_type": "code",
   "execution_count": null,
   "id": "eb561150-d685-427a-80e1-46d4ff804a95",
   "metadata": {},
   "outputs": [],
   "source": [
    "df2 <- df # copy our original dataframe to make changes to it.\n",
    "breaks = c(0,25000,50000,75000,100000) # our break points\n",
    "labels = c(\"0-25k\",\"25-50k\",\"50-75k\",\"75-100k\") # descriptive labels for each of the four pay categories\n",
    "df2$IncomeBracket <- cut(df2$Income, breaks=breaks, labels=labels)"
   ]
  },
  {
   "cell_type": "markdown",
   "id": "2aace744-32c4-41a5-b6a9-83be9889dc9e",
   "metadata": {},
   "source": [
    "**A)** Demonstrate that Canada's five major cities show a pay gap between sexes. Construct a contingency table. Produce a mosaic plot. Conduct $\\chi^2$ analysis. Assign your p-value to a variable `p3`."
   ]
  },
  {
   "cell_type": "code",
   "execution_count": null,
   "id": "bed37261-52c1-4dd3-92e3-ef0941203e6b",
   "metadata": {},
   "outputs": [],
   "source": [
    "T = table(df2$IncomeBracket,df2$Sex) # construct the contingency tabe of income bracket vs. sex\n",
    "mosaicplot(T, shade=TRUE) # construct a mosaic plot to visualize your contingency table.\n",
    "( C = chisq.test(T) ) # conduct your chi-square analysis.\n",
    "p3 = C$p.value # store the p-value as p3"
   ]
  },
  {
   "cell_type": "markdown",
   "id": "9675f595-95cc-4af2-8d44-d30fde63eaac",
   "metadata": {},
   "source": [
    "**Question 10:** What are your null and alternative hypotheses for this test?\n",
    "\n",
    "A) $H_0$: There is no difference from the expected frequency distribution; $H_1$: There is a difference from the expected frequency distribution\n",
    "\n",
    "B) $H_0: \\rho = 0$; $H_1: \\rho \\neq 0$\n",
    "\n",
    "C) $H_0$: $\\rho_1 = \\rho_2 = \\rho_3 = \\rho_4$; $H_1$: At least one proportion is different.\n",
    "\n",
    "D) $H_0$: The variables are independent of each other; $H_1$: The variables are dependent upon each other."
   ]
  },
  {
   "cell_type": "code",
   "execution_count": null,
   "id": "f14214be-f072-4e71-a279-d0f30810f8c8",
   "metadata": {},
   "outputs": [],
   "source": [
    "answer_10 <- '' # your answer here ('A', 'B', 'C', or 'D')\n",
    "\n",
    "test_10()"
   ]
  },
  {
   "cell_type": "markdown",
   "id": "edff2b88-a322-4c89-ac22-13abbfe36f9c",
   "metadata": {},
   "source": [
    "**Question 11:** Can you reject your null hypothesis? ('Yes' or 'No')"
   ]
  },
  {
   "cell_type": "code",
   "execution_count": null,
   "id": "d53ee86d-db47-4c4d-8540-76280bfb210b",
   "metadata": {},
   "outputs": [],
   "source": [
    "answer_11 = '' # your answer here ('Yes' or 'No')\n",
    "\n",
    "test_11()"
   ]
  },
  {
   "cell_type": "markdown",
   "id": "b691779c-ad00-4f45-b74a-50525d19d98b",
   "metadata": {},
   "source": [
    "**Question 12:** Summarize your results, making reference to the appropriate numerical values."
   ]
  },
  {
   "cell_type": "markdown",
   "id": "9b68f72b-a49f-4379-bb26-8b106a42d381",
   "metadata": {},
   "source": [
    "<font color=\"red\">Write your answer here</font>"
   ]
  },
  {
   "cell_type": "markdown",
   "id": "75a7b567-ae0a-43dc-accb-506d74647df0",
   "metadata": {},
   "source": [
    "**B)** Now we will investigate the effect of education on the gender pay gap by conducting two separate chi-square analyses: one for master's degree holders and one for high school graduates. Use the dataframe `df2` binned across four income brackets. To start, form one dataframe `df_ms` containing only master's degree holders, and another `df_hs` containing only high school graduates, then use these to develop two contingency tables `T_ms` and `T_hs` between income and sex."
   ]
  },
  {
   "cell_type": "code",
   "execution_count": null,
   "id": "e6591a8f-79f2-4a41-8629-3c7514dd6b29",
   "metadata": {
    "tags": []
   },
   "outputs": [],
   "source": [
    "mask_ms = df2$Education=='Master degree' # create a mask to select only master degree holders.\n",
    "mask_hs = df2$Education=='High school' # create a mask to select only high school degree holders.\n",
    "df_ms = subset(df2, mask_ms) # create a new dataframe selecting for master degree holders using the appropriate mask.\n",
    "df_hs = subset(df2, mask_hs) # create a new dataframe selecting for high school degree holders using the appropriate mask.\n",
    "T_ms = table(df_ms$IncomeBracket, df_ms$Sex) # construct a contingency table of income bracket vs. sex for master degree holders.\n",
    "T_hs = table(df_hs$IncomeBracket, df_hs$Sex) # construct a contingency table of income bracket vs. sex for high school degree holders.\n",
    "\n",
    "T_hs"
   ]
  },
  {
   "cell_type": "markdown",
   "id": "774b63e8-6a73-42d3-a37d-d98c76309e39",
   "metadata": {},
   "source": [
    "**Question 13:** How many female high school degree holders are there in the 50-75k income bracket?"
   ]
  },
  {
   "cell_type": "code",
   "execution_count": null,
   "id": "e12b954e-f7a8-4a36-b2a8-7962dfa6cd96",
   "metadata": {},
   "outputs": [],
   "source": [
    "answer_13 = # your answer here\n",
    "\n",
    "test_13()"
   ]
  },
  {
   "cell_type": "markdown",
   "id": "e015543c-2a9d-4be1-908c-e9447863a383",
   "metadata": {},
   "source": [
    "**C)** Conduct two separate chi-square analyses, one for `T_ms` and another for `T_hs`. Assign your p-values to respectively `p_ms` and `p_hs`."
   ]
  },
  {
   "cell_type": "code",
   "execution_count": null,
   "id": "75b8ffca-1ffd-4728-94a6-c6488118b987",
   "metadata": {},
   "outputs": [],
   "source": [
    "( C_hs = chisq.test(T_hs) ) # conduct your chi-square analysis.\n",
    "p_hs = C_hs$p.value # store the p-value as p_hs\n",
    "( C_ms = chisq.test(T_ms) ) # conduct your chi-square analysis.\n",
    "p_ms = C_ms$p.value # store the p-value as p_ms"
   ]
  },
  {
   "cell_type": "markdown",
   "id": "af207e44-4d8e-4526-85ce-624c0a8ae119",
   "metadata": {},
   "source": [
    "**Question 14:** Discuss your conclusions at  𝛼=0.05  in a few sentences, making specific reference to the appropriate numerical values from your analyses above. Does the severity of the gender pay gap depend on education level? Describe your conclusion."
   ]
  },
  {
   "cell_type": "markdown",
   "id": "3a4cdbdf-7da0-4c1e-9f32-5d4e52158423",
   "metadata": {},
   "source": [
    "<font color=\"red\">Write your answer here</font>"
   ]
  }
 ],
 "metadata": {
  "kernelspec": {
   "display_name": "R",
   "language": "R",
   "name": "ir"
  },
  "language_info": {
   "codemirror_mode": "r",
   "file_extension": ".r",
   "mimetype": "text/x-r-source",
   "name": "R",
   "pygments_lexer": "r",
   "version": "4.1.3"
  }
 },
 "nbformat": 4,
 "nbformat_minor": 5
}
