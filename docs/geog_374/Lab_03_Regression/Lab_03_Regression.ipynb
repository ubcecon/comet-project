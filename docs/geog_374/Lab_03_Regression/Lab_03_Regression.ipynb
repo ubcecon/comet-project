{
 "cells": [
  {
   "cell_type": "markdown",
   "id": "e3e96389-0ec3-442e-b0b9-25ca341d0e14",
   "metadata": {},
   "source": [
    "# GEOG 374: Lab 3 - The Impact of Pacific Ocean Temperatures on Snowpack and Floods in the Fraser River Basin\n",
    "* **Authors**: COMET Team (Kevin Pierce, Nina Hewitt and Micheal Jerowsky)\n",
    "* **Last Update**: 19 June 2023"
   ]
  },
  {
   "cell_type": "markdown",
   "id": "52be8c72-44bc-4712-9a81-cfb372e3b2f0",
   "metadata": {},
   "source": [
    "## Outline\n",
    "\n",
    "### Prerequisites\n",
    "\n",
    "* Introduction to Jupyter\n",
    "* Introduction to R\n",
    "* Introduction to Data\n",
    "\n",
    "### Outcomes\n",
    "\n",
    "After completing this notebook, you will be able to:\n",
    "* Explore data to gain a better understanding of its content and structure.\n",
    "* Determine if your data meet the assumptions of correlation and regression.\n",
    "* Conduct a correlation and regression analysis.\n",
    "\n",
    "### References\n",
    "\n",
    "* [Shafer and Zhang - Chapter 10: Correlation and Regression](https://saylordotorg.github.io/text_introductory-statistics/s14-correlation-and-regression.html)\n",
    "* [Illowsky and Dean - Chapter 12: Linear Regression and Correlation](https://openstax.org/books/introductory-statistics/pages/12-introduction)\n",
    "* [Lane - Chapter 14: Regression](http://onlinestatbook.com/2/regression/regression.html)"
   ]
  },
  {
   "cell_type": "markdown",
   "id": "59a94028-978a-482f-83a9-74bfcc1bb541",
   "metadata": {},
   "source": [
    "## Introduction\n",
    "In this lab, we will investigate how El Nino Southern Oscillation (ENSO) affects floods and snowfall in Canada's Fraser River system. We will apply regression analysis to snowpack and discharge data in the Fraser basin. This will allow us to determine if these data indicate a shift in precipitation characteristics through time, and to what extent precipitation patterns may depend on ENSO. Many of Earth's major river basins are affected by climate change and ENSO. [See for example the IPCC reports](https://www.ipcc.ch/).\n",
    "\n",
    "The [Fraser River](https://www.thecanadianencyclopedia.ca/en/article/fraser-river), depicted below at Lillooet BC, is southern British Columbia's major river system. It originates at the BC-Alberta border and empties into the Salish Sea directly beside the UBC Vancouver campus nearly 1400 km later.\n",
    "\n",
    "![Fraser River at Lillooet (Credit Canadian Encyclopedia)](media/fraser.jpg) \n",
    "\n",
    "The [El Nino Southern Oscillation](https://www.climate.gov/news-features/blogs/enso/what-el-ni%C3%B1o%E2%80%93southern-oscillation-enso-nutshell) is a phenomenon whereby the circulation patterns of the Pacific Ocean oscillate between three phases: El Nino, La Nina, and Neutral.\n",
    "These phases are identified by measurements of ocean surface temperature, and they are widely acknowledged to affect evaporation and atmospheric circulation patterns, leading to changes in precipitation which affect entire continents.\n",
    "\n",
    "The image below shows the distribution of sea surface temperatures in El Nino and La Nina conditions.\n",
    "\n",
    "![Diagram of ENSO phases (Credit climate.gov)](media/enso.png) \n",
    "\n"
   ]
  },
  {
   "cell_type": "markdown",
   "id": "3e3a88bb-e8c2-40bb-9c0c-31a598a7d66e",
   "metadata": {},
   "source": [
    "## Data\n",
    "This lab involves three different datasets. Each of these are timeseries. The timeseries do not necessarily span the same number of years, and datasets are imperfect and contain missing values. We will have to locate and work around these imperfections.\n",
    "\n",
    "`fraserRiverAnnualExtremes.csv` reports maximum annual discharges in the Fraser River at Hope, BC from 1912-2018. These floods always occur in early summer during the major snowmelt. Units of discharge are [ $𝑚^3/𝑠$ ] (sometimes written \"cms\"). This is the volume of water flowing past a line across the channel in a second.\n",
    "\n",
    "`ensoPhaseAnnual.csv` reports the Oceanic Nino Index (ONI), which is a dimensionless measure of sea surface temperature. When ONI < -0.6, we say ENSO is in the La Nina phase. When ONI > 0.6, we say ENSO is in the El Nino phase. Otherwise, ENSO is in the Neutral phase.\n",
    "\n",
    "`fraserBasinSnowData.csv` reports the snowpack on April 1st of each year at 14 different gauging stations in the Fraser basin from 1945-2021. The snowpack is characterized by \"snow water equivalent\" (SWE), which is the depth of water obtained if an area of snow is melted. The units of SWE are millimeters (mm).\n",
    "\n",
    "Prior to beginning this lab, run the r code below to read in the .csv files and save each to a variable. The `source` and `library` functions are included so that you can complete the test questions in this module and they can be autograded."
   ]
  },
  {
   "cell_type": "code",
   "execution_count": 76,
   "id": "1c6a36ff-9947-469a-abf0-27752ccb2680",
   "metadata": {},
   "outputs": [],
   "source": [
    "source(\"lab_03_tests.r\")\n",
    "library(testthat)\n",
    "library(digest)\n",
    "library(dplyr)\n",
    "\n",
    "flows = read.csv('../datasets/Lab_03_fraserRiverAnnualExtremes.csv')\n",
    "ensos = read.csv('../datasets/Lab_03_ensoPhaseAnnual.csv')\n",
    "snows = read.csv('../datasets/Lab_03_fraserBasinSnowData.csv')"
   ]
  },
  {
   "cell_type": "markdown",
   "id": "45a5a8de-def4-43ee-907a-afa6c927267d",
   "metadata": {
    "tags": []
   },
   "source": [
    "## Part 1: Key Concepts"
   ]
  },
  {
   "cell_type": "markdown",
   "id": "ce80e020-a9b6-4ea0-8901-bb4875246c23",
   "metadata": {
    "tags": []
   },
   "source": [
    "### Correlation and Regression\n",
    "\n",
    "**Correlation** is a statistical method to determine whether a relationship exists between two variables, as well as the direction and strength of that relationship. It is used to test the statistical significance of that association. Meanwhile, **regression** is a statistical method to describe the nature of the relationship between variables. Precisely, it has predictive value. In short, we use correlation to represent a linear relationship between two variables, while we use regression to produce a line of best fit that will allow us to estimate the value of one variable based on the other. However, there are some basic assumptions that must be fulfilled before conducting correlation or regression analysis:\n",
    "- The variables under investigation are continuous.\n",
    "- The datasets have a bivariate normal distribution.\n",
    "- The data demonstrate **homoscedasticity**, or the size of the error term is the same for all values of the independent variable.\n",
    "- The data follow a linear relationship.\n",
    "- Outliers have been removed.\n",
    "\n",
    "Typically, a researcher will begin with correlation analysis even if they intend to conduct a regression. If the outcome of the correlation analysis indicates that a statistically significant relationship exists, a regression analysis can then be conducted to allow for prediction and extrapolation. Generally speaking, analysis is conducted as follows:\n",
    "\n",
    "1. Visualize your data using a scatterplot to determine if it meets the basic assumptions of correlation and regression analysis.\n",
    "2. Determine the null and alternative hypotheses for your correlation analysis.\n",
    "3. Calculate the Pearson Product Moment Correlation Coefficient (PPMCC, r).\n",
    "4. Determine the strength and direction of the relationship.\n",
    "5. Calculate the significance of $r$.\n",
    "6. If $r$ is significant, reject $H_0$ and continue to step 7 to conduct regression analysis. \n",
    "7. Calculate the equation for the line of best fit.\n",
    "8. Calculate the coefficient of determination ($r^2$).\n",
    "9. Make predictions and extrapolate values based on the regression line equation.\n",
    "\n",
    "### Independent and Dependent Variables\n",
    "\n",
    "In simple correlation and regression we work with two variables:\n",
    "* **Independent variable (x):** This is the variable that is changed or controlled by the researcher in order to test its effects on the dependent variable. In some cases the researcher may not control or manipulate this variable, but it is the variable which is thought to affect the dependent variable. \n",
    "* **Dependent variable (y):** This is the variable being tested and measured by the researcher and is not manipulated or controlled.\n",
    "\n",
    "### Visualizing Correlation Using a Scatterplot\n",
    "\n",
    "The relationship between our independent (x) and dependent (y) variables is visualized using a scatterplot in correlation analysis. A positive correlation will result in the value of y increasing as x increases, while a negative correlation will result in the value of y decreasing as x increases. The degree to which data pairs are spread or tightly clustered is also indicative of the strength of the relationship. \n",
    "\n",
    "![Correlation (diagrammm.com, creative commons license)](media/scatterplots.PNG) \n",
    "\n",
    "### Pearson Product Moment Correlation Coefficient (PPMCC)\n",
    "\n",
    "The strength and direction of the linear relationship between two variables is computed as the Pearson Product Moment Correlation Coefficient (PPMCC, $r$). It can vary in value from -1 (high negative linear relationship) to +1 (high positive linear relationship). We will determine $r$ in this lab using the `cor.test` function; however, the equation to calculate the PPMCC statistic is as follows:\n",
    "\n",
    "$$\n",
    "\\displaystyle r = \\frac{n(\\sum xy) - (\\sum x)(\\sum y)}{\\sqrt{[n(\\sum x^2) - (\\sum x)^2][n(\\sum y^2) - (\\sum y)^2]}}\n",
    "$$\n",
    "\n",
    "Once $r$ has been calculated, it is then important to determine if it is indicative of a statistically significant relationship. There are multiple ways to conduct a hypothesis test to determine the statistical significance of $r$; however, in this lab we will determine the p-values associated with a t-test statistic and compare it to our alpha of 0.05. For such a test, our null and alternative hypotheses will be as follows:\n",
    "\n",
    "$$\n",
    "H_0: \\rho = 0\n",
    "$$\n",
    "$$\n",
    "H_1: \\rho \\neq 0\n",
    "$$ \n",
    "\n",
    "If our computed p-value is less than the critical value, then there is a statistically significant correlation present and we can reject our null hypothesis. We will be using the `cor.test` function to determine this.\n",
    "\n",
    "### Regression\n",
    "If the result of our correlation analysis is statistically significant, we can conduct a regression analysis to calculate a line of best fit to provide a model for prediction:\n",
    "\n",
    "![Line of Best Fit (Lane onlinestatbook.com)](media/regressionline.PNG) \n",
    "\n",
    "The line of best fit (or the \"least squares line\") visualizes the sum of the squares of the vertical distances from each data point to the line, such that this distance is kept to a minimum. In addition, the closer the data points are to the line, the better the fit and the predictive capacity of the regression equation. The equation for the line of best fit is:\n",
    "\n",
    "$$\n",
    "y' = a + bx\n",
    "$$\n",
    "\n",
    "Such that `y'`: predicted value of y; `a`: y-intercept; `b`: slope; `x`: value of x.\n",
    "\n",
    "Meanwhile, the coefficient of determination, $r^2$, can also be calculated by simply squaring our PPMCC value to provide a measure of the variation of the dependent variable that is explained by the regression line and the independent variable. In other words, this is a ratio of explained variation to the total variation present. The remaining variation in the y variable that cannot be explained by x can also be calculated as $1 - r^2$, and this is called the coefficient of non-determination.\n",
    "\n",
    "In order to predict the value of y for a given value of x, we simply replace `x` with the given value and solve for `y'`. However, it is important to remember that the power of this prediction is directly related to our $r^2$ value. Additionally, making a prediction outside of the bounds of our data (e.g. extrapolation) can be erroneous—be cautious. \n"
   ]
  },
  {
   "cell_type": "markdown",
   "id": "835499ce-0924-4739-a234-65450c980a5a",
   "metadata": {},
   "source": [
    "## Part 2: Lab Exercises\n",
    "### Exercise 1: Data Visualization and Correlation Analysis of Floods Over Time\n",
    "First we will ensure that our data meet the assumptions of correlation and regression, and then we will investigate whether floods have changed through time within the Fraser basin using correlation analysis.\n",
    "\n",
    "**A)** Investigate the dataframes for this lab using `head` and `tail` to view their structure, headings, and the total number of records."
   ]
  },
  {
   "cell_type": "code",
   "execution_count": null,
   "id": "851b46a3-b376-4d64-8cb4-f6d61ee3981a",
   "metadata": {},
   "outputs": [],
   "source": [
    "head(flows)\n",
    "tail(flows)"
   ]
  },
  {
   "cell_type": "code",
   "execution_count": null,
   "id": "1095fc49-7916-4a4b-8578-f2db2b4a1f4a",
   "metadata": {},
   "outputs": [],
   "source": [
    "head(ensos)\n",
    "tail(ensos)"
   ]
  },
  {
   "cell_type": "code",
   "execution_count": null,
   "id": "d08b9b94-7069-4574-a47f-442c090c4eb2",
   "metadata": {},
   "outputs": [],
   "source": [
    "head(snows)\n",
    "tail(snows)"
   ]
  },
  {
   "cell_type": "markdown",
   "id": "4165f99c-fce5-440b-acdf-d919de576083",
   "metadata": {},
   "source": [
    "**Question 1:** What was the maximum annual discharge (max) in the Fraser River at Hope, BC in 2011?"
   ]
  },
  {
   "cell_type": "code",
   "execution_count": null,
   "id": "cbab0eb7-ce3c-41b7-95ba-d684513fa33b",
   "metadata": {},
   "outputs": [],
   "source": [
    "answer_1 = # your answer here\n",
    "\n",
    "test_1()"
   ]
  },
  {
   "cell_type": "markdown",
   "id": "551fd4c3-ac60-445a-a1a6-577b93845806",
   "metadata": {},
   "source": [
    "**B)** Produce a scatterplot of maximum annual Fraser River flow versus time. Be sure to label your axes with units and include a title. You can use `plot(x,y)` function with appropriate vectors `y` and `x` from the `flows` dataframe."
   ]
  },
  {
   "cell_type": "code",
   "execution_count": null,
   "id": "70b9df47-1878-4ab5-8543-45c752a319aa",
   "metadata": {},
   "outputs": [],
   "source": [
    "plot(flows$year,\n",
    "     flows$max,\n",
    "     xlab='Year',\n",
    "     ylab='Maximum annual discharge [cms]',\n",
    "     main='Fraser River maximum annual floods through time',\n",
    "     col='blue'\n",
    "    )"
   ]
  },
  {
   "cell_type": "markdown",
   "id": "4c8b3834-ec7a-4ea1-adb2-1b90eba4f08b",
   "metadata": {},
   "source": [
    "**Question 2:** In which year was the largest recorded flood in this dataset?\n",
    "\n",
    "A) 1921\n",
    "\n",
    "B) 1950\n",
    "\n",
    "C) 1975\n",
    "\n",
    "D) 2001"
   ]
  },
  {
   "cell_type": "code",
   "execution_count": null,
   "id": "60964422-00ca-4209-a171-9ff97af304fb",
   "metadata": {
    "tags": []
   },
   "outputs": [],
   "source": [
    "answer_2 = '' # your answer here ('A', 'B', 'C', or 'D')\n",
    "\n",
    "test_2()"
   ]
  },
  {
   "cell_type": "markdown",
   "id": "0e76c944-c3d6-4e71-ae36-d35ac6b996a4",
   "metadata": {
    "tags": []
   },
   "source": [
    "**Question 3:** Recall that in order to fulfill the underlying assumptions of regression, the data must demonstrate homoscedasticity, or similar variance in error terms for all values of the independent variable. If the data do not demonstrate this quality, they are said to be **heteroscedastic**. Are the maximum discharges heteroscedastic or homoscedastic?"
   ]
  },
  {
   "cell_type": "code",
   "execution_count": null,
   "id": "34ef1c6d-dabe-40aa-8602-7c5049f1df65",
   "metadata": {},
   "outputs": [],
   "source": [
    "answer_3 <- '' # your answer here ('heteroscedastic' or 'homoscedastic')\n",
    "\n",
    "test_3()"
   ]
  },
  {
   "cell_type": "markdown",
   "id": "d69a14ae-87ac-404e-ab74-d5311e9768cd",
   "metadata": {},
   "source": [
    "**C)** Construct a Q-Q plot to check if maximum annual discharges are normally distributed as required by regression analysis."
   ]
  },
  {
   "cell_type": "code",
   "execution_count": null,
   "id": "6c9d5094-0d4c-45e2-8556-b7b6964a96f9",
   "metadata": {},
   "outputs": [],
   "source": [
    "x = flows$max\n",
    "qqnorm(x, main='Normal Q-Q Plot for Maximum Annual Discharge')\n",
    "qqline(x, col='steelblue')"
   ]
  },
  {
   "cell_type": "markdown",
   "id": "17755a7e-7e6b-4dbf-89a0-3b7c7e0d9300",
   "metadata": {},
   "source": [
    "**D)** Conduct a log transformation of discharge to produce a more normally-distributed dataset using`log(flow$max)` to investigate this. Then run the `qqnorm` and `qqline` functions again to visualize the data."
   ]
  },
  {
   "cell_type": "code",
   "execution_count": null,
   "id": "81d15f61-5320-47ce-b6b1-5a616c97aec1",
   "metadata": {},
   "outputs": [],
   "source": [
    "x = log(flows$max)\n",
    "qqnorm(x, main='Normal Q-Q Plot for Log-transformed Maximum Annual Discharge')\n",
    "qqline(x, col='steelblue')"
   ]
  },
  {
   "cell_type": "markdown",
   "id": "24ad0f16-26a2-4f73-86f2-b3d9e7626aea",
   "metadata": {},
   "source": [
    "**E)** Conduct a Pearson's correlation analysis between log-transformed discharges and time. Then extract the correlation coefficient and p-value and assign these variables `r1` and `p1` respectively. Don't forget to assign references to the variables. Adapt the following code:"
   ]
  },
  {
   "cell_type": "code",
   "execution_count": null,
   "id": "b816d302-848b-4bd6-8ad1-7dbc189ea93b",
   "metadata": {},
   "outputs": [],
   "source": [
    "x = # reference the independent variable\n",
    "y = # reference the dependent variable\n",
    "(C = cor.test(x, y)) # the extra parentheses will print the output for reading\n",
    "p1 = C$p.value # extract the p value from the output C of correlation analysis   \n",
    "r1 = C$estimate # extract the sample correlation coefficient from the output C"
   ]
  },
  {
   "cell_type": "markdown",
   "id": "89503f40-234d-4729-a7c4-92dced541c3c",
   "metadata": {},
   "source": [
    "**Question 4:** What are the null and alternative hypotheses for the Pearson correlation analysis?\n",
    "\n",
    "A) $H_0: \\rho = 0$; $H_1: \\rho > 0$\n",
    "\n",
    "B) $H_0: \\rho = 0$; $H_1: \\rho \\neq 0$\n",
    "\n",
    "C) $H_0: \\rho \\neq 0$; $H_1: \\rho = 0$\n",
    "\n",
    "D) $H_0: \\rho < 0$; $H_1: \\rho \\neq 0$"
   ]
  },
  {
   "cell_type": "code",
   "execution_count": null,
   "id": "ab27976d-cd3d-4990-9c62-07418eb573f8",
   "metadata": {
    "tags": []
   },
   "outputs": [],
   "source": [
    "answer_4 <- '' # your answer here ('A', 'B', 'C', or 'D')\n",
    "\n",
    "test_4()"
   ]
  },
  {
   "cell_type": "markdown",
   "id": "1037a974-b53f-4ce9-a8fa-0a96384458cd",
   "metadata": {},
   "source": [
    "**F)** Summarize your results. Is there a statistically significant correlation between discharge and time at $\\alpha$ = 0.05? State your conclusion and describe how you determined it with specific reference to the appropriate numerical values."
   ]
  },
  {
   "cell_type": "markdown",
   "id": "0a72998d-be52-4bdd-8d6a-9834d6f7cb06",
   "metadata": {},
   "source": [
    "<font color=\"red\">Write your answer here</font>"
   ]
  },
  {
   "cell_type": "markdown",
   "id": "0107067b-07b4-4d69-ad8f-7d910ccc00f7",
   "metadata": {},
   "source": [
    "### Exercise 2: Correlation and Regression Analysis of Snowpacks Over Time\n",
    "Now we will investigate snowpack through time with a similar technique as in exercise 1. An added complication is that the snow measurements come from gauging stations which have different elevations and precipitation characteristics. We prepared the data by shifting and scaling it to allow for direct comparison across gauging stations, such that:\n",
    "\n",
    "$$ \n",
    "z = \\frac{x_s - \\bar{x}_s}{\\sigma_{x_s}}\n",
    "$$\n",
    "\n",
    "Here, $x_s$ is the SWE at a station, $\\bar{x}_s$ is the mean SWE at that station, and $\\sigma_{x_s}$ is the standard deviation of SWE at that station. The resulting $z$ is a dimensionless measure of snowpack which can be compared across stations. "
   ]
  },
  {
   "cell_type": "markdown",
   "id": "2aace744-32c4-41a5-b6a9-83be9889dc9e",
   "metadata": {},
   "source": [
    "**A)** Conduct correlation analysis between $z$ and time. Extract the p-value and test statistic and assign them to variables `p2` and `r2` respectively. You can assume the data are monotonic, homoscedastic, and normally-distributed as required by Pearson's method—we checked for you. There are slight departures from normality in the lower tail which reduces the reliability of results a bit. Adapt the following code:"
   ]
  },
  {
   "cell_type": "code",
   "execution_count": null,
   "id": "bed37261-52c1-4dd3-92e3-ef0941203e6b",
   "metadata": {
    "tags": []
   },
   "outputs": [],
   "source": [
    "x = snows$year # reference the independent variable\n",
    "y = snows$z # reference the dependent variable\n",
    "\n",
    "(C =  cor.test(x, y)) # the extra parentheses will print the output for reading\n",
    "p2 = C$p.value  # extract the p value from the output C of correlation analysis\n",
    "r2 = C$estimate # extract the sample correlation coefficient from the output C"
   ]
  },
  {
   "cell_type": "markdown",
   "id": "9675f595-95cc-4af2-8d44-d30fde63eaac",
   "metadata": {},
   "source": [
    "**Question 5:** Summarize the results of your correlation analysis at $\\alpha$=0.05, making specific reference to the appropriate numerical values."
   ]
  },
  {
   "cell_type": "markdown",
   "id": "d6a737d9-958b-465f-bf20-bca5f1869933",
   "metadata": {},
   "source": [
    "<font color=\"red\">Write your answer here</font>"
   ]
  },
  {
   "cell_type": "markdown",
   "id": "edff2b88-a322-4c89-ac22-13abbfe36f9c",
   "metadata": {},
   "source": [
    "**Question 6:** What is the $r^2$ value associated with the PPMCC? Please round your answer to 3 decimal places."
   ]
  },
  {
   "cell_type": "code",
   "execution_count": null,
   "id": "d53ee86d-db47-4c4d-8540-76280bfb210b",
   "metadata": {
    "tags": []
   },
   "outputs": [],
   "source": [
    "answer_6 = # your answer here \n",
    "\n",
    "test_6()"
   ]
  },
  {
   "cell_type": "markdown",
   "id": "75a7b567-ae0a-43dc-accb-506d74647df0",
   "metadata": {
    "tags": []
   },
   "source": [
    "**B)** Make a scatterplot of the dimensionless snowpack metric $z$ against time (with time on the x-axis). Include the best fit regression line. Be sure to include axis labels, units, and a title. Further include text showing the equation of the regression line and its p-value. Adapt the following code:"
   ]
  },
  {
   "cell_type": "code",
   "execution_count": null,
   "id": "e6591a8f-79f2-4a41-8629-3c7514dd6b29",
   "metadata": {},
   "outputs": [],
   "source": [
    "x = # reference the independent variable\n",
    "y = # reference the dependent variable\n",
    "\n",
    "plot(x,\n",
    "     y,\n",
    "     xlab = '', # provide a descriptive label\n",
    "     ylab = '', # provide a descriptive label\n",
    "     main = '', # provide a descriptive title\n",
    "     col = 'brown'\n",
    "     ) \n",
    "\n",
    "(l = lm(y ~ x)) # make a linear model on the data. Extra parentheses are to print.\n",
    "abline(l, col='black', lw=3) # superimpose the linear model over the data.\n",
    "text(1960, -2.1, 'y = 19.31 - 0.0097x') # first two arguments control position.\n",
    "text(1960, -2.5, 'p =') # assign the p-value from your correlation analysis to the text label"
   ]
  },
  {
   "cell_type": "markdown",
   "id": "774b63e8-6a73-42d3-a37d-d98c76309e39",
   "metadata": {},
   "source": [
    "**Question 7:** Summarize the evidence you have gathered for how snowpack and flood discharges in the Fraser basin have changed through time. Briefly describe a few implications of any of your results for society or the environment in BC."
   ]
  },
  {
   "cell_type": "markdown",
   "id": "e015543c-2a9d-4be1-908c-e9447863a383",
   "metadata": {},
   "source": [
    "<font color=\"red\">Write your answer here</font>"
   ]
  },
  {
   "cell_type": "markdown",
   "id": "e62e876d-6082-4569-b006-ee60fed3ebfd",
   "metadata": {},
   "source": [
    "### Exercise 3: Correlation and Regression Analysis of ENSO on Maximum Annual Fraser River Discharges"
   ]
  },
  {
   "cell_type": "markdown",
   "id": "bb71e6c4-256d-44b2-980e-43b8ccc2de3e",
   "metadata": {},
   "source": [
    "Finally, we will analyze the impact of ENSO on maximum annual Fraser River discharges. However, before we can do that an appropriate dataframe must be prepared. Currently the `flows` and `ensos` dataframes include different years. We can match the years these two dataframes have in common and create a new dataframe for use in our analysis using the following code:"
   ]
  },
  {
   "cell_type": "code",
   "execution_count": 48,
   "id": "d4f227f4-1fd8-4c15-852c-30f2312df9af",
   "metadata": {},
   "outputs": [],
   "source": [
    "mask = match(flows$year,ensos$year) # obtain the correct rows in the 'ensos' dataframe\n",
    "ensos1 = ensos[mask,] # filter out the subset of the ensos dataframe with the correct years"
   ]
  },
  {
   "cell_type": "markdown",
   "id": "c4a491db-53ab-47b6-9921-cd77e43d8eb8",
   "metadata": {},
   "source": [
    "**A)** Plot Fraser River maximum annual discharge versus the Oceanic Nino Index. You will want to plot `flows$max` versus `ensos1$oni`. Keep in mind that river discharges are dependent on Pacific Ocean temperatures, and not the converse. To make your plot, adapt the following code:"
   ]
  },
  {
   "cell_type": "code",
   "execution_count": null,
   "id": "1341f54c-4e05-40b6-9cc8-2081f167f939",
   "metadata": {},
   "outputs": [],
   "source": [
    "x = # reference the independent variable\n",
    "y = # reference the dependent variable\n",
    "\n",
    "plot(x,\n",
    "     y,\n",
    "     xlab = '', # provide a descriptive label\n",
    "     ylab = '', # provide a descriptive label\n",
    "     main = ''  # provide a descriptive title\n",
    "    )"
   ]
  },
  {
   "cell_type": "markdown",
   "id": "92d7b81b-1328-42cb-abb1-63391b937f0e",
   "metadata": {},
   "source": [
    "**Question 8:** Describe any trend in the data. State the requirements of Pearson's correlation analysis. Do the data appear to meet these? Explain in a sentence or two. Based on the plot, do you expect El Nino or La Nina years to have higher precipitation in BC? Why? Hint: Remember that ONI > 0.6 represents El Nino while ONI < -0.6 represents La Nina. "
   ]
  },
  {
   "cell_type": "markdown",
   "id": "4f4a0828-3916-4f2a-bb25-c32d0230ac91",
   "metadata": {},
   "source": [
    "<font color=\"red\">Write your answer here</font>"
   ]
  },
  {
   "cell_type": "markdown",
   "id": "3523b9f9-c785-441f-9b78-bc85a45bc9a8",
   "metadata": {},
   "source": [
    "**B)** Conduct a correlation analysis. Assign the p-value and sample correlation coefficient to variables `p3` and `r3`. Adapt the following code:"
   ]
  },
  {
   "cell_type": "code",
   "execution_count": null,
   "id": "bb00f790-a650-4ac5-847c-11b12844b9c4",
   "metadata": {},
   "outputs": [],
   "source": [
    "x = # reference the independent variable\n",
    "y = # reference the dependent variable\n",
    "\n",
    "(C = cor.test(x, y)) # the extra parentheses will print the output for reading\n",
    "p3 = C$p.value  # extract the p value from the output C of correlation analysis  \n",
    "r3 = C$estimate # extract the sample correlation coefficient from the output C"
   ]
  },
  {
   "cell_type": "markdown",
   "id": "f3e6bab1-4f54-4a34-95a3-e75888ff9663",
   "metadata": {},
   "source": [
    "**Question 9:** Summarize your results as to whether there is a significant relationship between ENSO conditions and Fraser River floods at $\\alpha$=0.05. Make specific reference to the appropriate numerical values."
   ]
  },
  {
   "cell_type": "markdown",
   "id": "c671062c-55ca-4fd2-b9bc-1babd4ee3a0b",
   "metadata": {},
   "source": [
    "<font color=\"red\">Write your answer here</font>"
   ]
  },
  {
   "cell_type": "markdown",
   "id": "e49cf3ad-3f89-452f-b0df-6d4f694584b8",
   "metadata": {},
   "source": [
    "**C)** Re-make your earlier plot, this time including a linear model to the data. Add text indicating (i) the regressed relationship, (ii) the p-value, and (iii) the coefficient of determination $r^2$. Adapt the following code: "
   ]
  },
  {
   "cell_type": "code",
   "execution_count": null,
   "id": "cc68e2b9-4206-422c-966b-01104a239f76",
   "metadata": {
    "tags": []
   },
   "outputs": [],
   "source": [
    "x = # reference the independent variable\n",
    "y = # reference the dependent variable\n",
    "\n",
    "plot(x,\n",
    "     y,\n",
    "     xlab = '', # provide a descriptive label\n",
    "     ylab = '', # provide a descriptive label\n",
    "     main = '',  # provide a descriptive title\n",
    "     col = 'brown'\n",
    "    )\n",
    "\n",
    "(l = lm(flows$max ~ ensos1$oni)) # make a linear model on the data. Extra parentheses are to print.\n",
    "abline(l, col='black', lw=3) # superimpose the linear model over the data.\n",
    "text(1.5,14000, 'y = 8718.4 - 681.6x') # first two arguments control position.\n",
    "text(1.5, 13500, 'p << ') # assign the p-value from your correlation analysis to the text label\n",
    "text(1.5, 13000, 'R^2 = ') # assign the r2 value to the text label."
   ]
  },
  {
   "cell_type": "markdown",
   "id": "3d3f72c2-f79e-4877-87d1-91c6187d28b8",
   "metadata": {},
   "source": [
    "**Question 10:** For an ONI value of 3.5, what is the predicted annual discharge? Hint: the linear model you have developed has predictive value. Round your answer to 1 decimal place."
   ]
  },
  {
   "cell_type": "code",
   "execution_count": null,
   "id": "fa007b17-474b-4b4c-813a-78316544c47a",
   "metadata": {},
   "outputs": [],
   "source": [
    "answer_10 = # your answer here \n",
    "\n",
    "test_10()"
   ]
  }
 ],
 "metadata": {
  "kernelspec": {
   "display_name": "R",
   "language": "R",
   "name": "ir"
  },
  "language_info": {
   "codemirror_mode": "r",
   "file_extension": ".r",
   "mimetype": "text/x-r-source",
   "name": "R",
   "pygments_lexer": "r",
   "version": "4.1.1"
  }
 },
 "nbformat": 4,
 "nbformat_minor": 5
}
