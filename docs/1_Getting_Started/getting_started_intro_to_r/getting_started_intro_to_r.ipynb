{
  "cells": [
    {
      "cell_type": "markdown",
      "metadata": {},
      "source": [
        "# 0.2 - Introduction to R\n",
        "\n",
        "COMET Team <br> *Colby Chambers, Anneke Dresselhuis, Oliver Xu, Colin\n",
        "Grimes, Jonathan Graves*  \n",
        "2023-01-12\n",
        "\n",
        "## Outline\n",
        "\n",
        "### Prerequisites:\n",
        "\n",
        "-   Introduction to Jupyter\n",
        "\n",
        "### Learning Objectives\n",
        "\n",
        "-   Understand variables, functions and objects in R\n",
        "-   Import and load data into Jupyter Notebook\n",
        "-   Access and perform manipulations on data"
      ],
      "id": "d52c3e5a-a169-48c6-bb77-b67c6fca2971"
    },
    {
      "cell_type": "code",
      "execution_count": null,
      "metadata": {},
      "outputs": [],
      "source": [
        "# Run this cell\n",
        "\n",
        "source(\"getting_started_intro_to_r_tests.r\")"
      ],
      "id": "ec92bc43-154e-4fd8-a6c5-b73c27b478eb"
    },
    {
      "cell_type": "markdown",
      "metadata": {},
      "source": [
        "## Introduction\n",
        "\n",
        "In this notebook, we will be introducing **R**, which is a programming\n",
        "language that is particularly well-suited for statistics, econometrics,\n",
        "and data science. If you are familiar with other programming languages,\n",
        "such as Python, this will likely be very familiar to you - if this is\n",
        "your first time coding, don’t be intimidated! Try to play around with\n",
        "the examples and exercises as you work through this notebook; it’s\n",
        "easiest to learn R (or any programming language) by trying things for\n",
        "yourself.\n",
        "\n",
        "## Part 1: Manipulating Data\n",
        "\n",
        "To begin, it’s important to get a good grasp of the different **data\n",
        "types** in R and how to use them. Whenever we work with R, we will be\n",
        "manipulating different kinds of information, which is referred to as\n",
        "“data”. Data comes in many different forms, and these forms define how\n",
        "we can use it in calculations or visualizations - these are called\n",
        "*types* in R.\n",
        "\n",
        "R has 6 basic data types. Data types are used to store information about\n",
        "a variable or object in R:\n",
        "\n",
        "1.  **Character**: data in text format, like “word” or “abc”\n",
        "2.  **Numeric** (real or decimal): data in real number format, like 6,\n",
        "    or 18.8 (referred to as **Double** in R)\n",
        "3.  **Integer**: data in a whole number (integer) format, like 2L (the L\n",
        "    tells R to store this as an integer)\n",
        "4.  **Logical**: truth values, like TRUE or FALSE\n",
        "5.  **Complex**: data in complex (i.e. imaginary) format, like 1+6i\n",
        "    (where $i$ is the $\\sqrt{-1}$)\n",
        "6.  **Raw**: raw digital data, an unusual type which we will not cover\n",
        "    here\n",
        "\n",
        "If we are ever wondering what type an object in R is, or what its\n",
        "properties are, we can use the following two functions, which allow us\n",
        "to examine the data type and elements contained within an object:\n",
        "\n",
        "-   `typeof()`: this function returns a character string that\n",
        "    corresponds to the data type of an object\n",
        "-   `str()`: this function displays a compact internal structure of an R\n",
        "    object\n",
        "\n",
        "We will see some examples of these in just a moment.\n",
        "\n",
        "### Data Structures\n",
        "\n",
        "We often need to store data in complex forms. Data can also be stored in\n",
        "different structures in R beyond basic data types. Data structures in R\n",
        "programming can be complicated, as they are tools for holding multiple\n",
        "values. However, some of them are very important and are worth\n",
        "discussing here.\n",
        "\n",
        "-   **Vectors**: a vector of values, like $(1,3,5,7)$\n",
        "-   **Matrices**: a matrix of values, like $[1,2; 3,4]$ (usually\n",
        "    displayed as a square)\n",
        "-   **Lists**: a list of elements, like $($pet = “cat,”dog”, “mouse”$)$,\n",
        "    with named properties\n",
        "-   **Dataframe**: a collection of vectors or lists, organized into rows\n",
        "    and columns according to observations\n",
        "\n",
        "Note that vectors don’t need to be numeric! There are some useful\n",
        "built-in functions to create data structures (we don’t have to create\n",
        "our own functions to do so).\n",
        "\n",
        "-   `c()`: this function combines values into a vector\n",
        "-   `matrix()`: this function creates a matrix from a given set of\n",
        "    values\n",
        "-   `list()`: this function creates a list from a given set of values\n",
        "-   `data.frame()`: this function creates a data frame from a given set\n",
        "    of lists or vectors\n",
        "\n",
        "Okay, enough background - lets see this in action!\n",
        "\n",
        "### Working with Vectors\n",
        "\n",
        "Vectors are important. We can create them from values or other elements,\n",
        "using the `c()` function:"
      ],
      "id": "5bd3409d-ed53-4c7e-a4ff-afd3d360d9f1"
    },
    {
      "cell_type": "code",
      "execution_count": null,
      "metadata": {},
      "outputs": [],
      "source": [
        "# generates a vector containing values\n",
        "z <- c(1, 2, 3)\n",
        "\n",
        "# generates a vector containing characters\n",
        "countries <- c(\"Canada\", \"Japan\", \"United Kingdom\")"
      ],
      "id": "a25196d9-c1d3-4de4-b255-a32da532a9b7"
    },
    {
      "cell_type": "markdown",
      "metadata": {},
      "source": [
        "We can also access the elements of the vector. Since a vector is made of\n",
        "basic data, we can get those elements using the `[ ]` index notation.\n",
        "This is very similar to how in mathematical notation we refer to\n",
        "elements of a vector.\n",
        "\n",
        "> **Note**: if you’re familiar with other programming languages, it’s\n",
        "> important to note that R is 1-indexed. So, the first element of a\n",
        "> vector is 1, not 0. Keep this in mind!"
      ],
      "id": "755adc37-8caf-4e74-bbaa-dcf30967da59"
    },
    {
      "cell_type": "code",
      "execution_count": null,
      "metadata": {},
      "outputs": [],
      "source": [
        "# extract the 2nd component of \"z\"\n",
        "z[2]\n",
        "\n",
        "# extract the 3rd component of \"countries\"\n",
        "countries[3]"
      ],
      "id": "446a6f9d-2832-4ece-99a7-1d3831b4ad07"
    },
    {
      "cell_type": "markdown",
      "metadata": {},
      "source": [
        "As mentioned above, we can use the `typeof()` and `str()` functions to\n",
        "glimpse the kind of data stored in our objects. Run the cell below to\n",
        "see how this works:"
      ],
      "id": "e57900f7-9132-4879-8ecd-8eaf77388db1"
    },
    {
      "cell_type": "code",
      "execution_count": null,
      "metadata": {},
      "outputs": [],
      "source": [
        "# view the data type of countries\n",
        "typeof(countries)\n",
        "\n",
        "# view the data structure of countries\n",
        "str(countries)\n",
        "\n",
        "# view the data type of z\n",
        "typeof(z)\n",
        "\n",
        "# view the data structure of z\n",
        "str(z)"
      ],
      "id": "c991f4e9-63e9-4c0b-a8ce-db9ae6abb75d"
    },
    {
      "cell_type": "markdown",
      "metadata": {},
      "source": [
        "The output of `str(countries)` begins by acknowledging that the\n",
        "contained data is of a character (chr) type. The information contained\n",
        "in the `[1:3]` first refers to the component number (there is only 1\n",
        "component list here) and then the number of observations (the 3\n",
        "countries).\n",
        "\n",
        "### Working with Matrices\n",
        "\n",
        "Just like vectors, we can also create matrices; you can think of them as\n",
        "organized collections of rows (or columns), which are vectors. They’re a\n",
        "little bit more complicated to create manually, since you need to use a\n",
        "more complex function.\n",
        "\n",
        "The simplest way to make a matrix is to provide a vector of all the\n",
        "values you are interested in including, and then tell R how the matrix\n",
        "is organized. R will then fill in the values:"
      ],
      "id": "af0f4b5b-27ff-45a4-ae23-8d6642e68fb0"
    },
    {
      "cell_type": "code",
      "execution_count": null,
      "metadata": {},
      "outputs": [],
      "source": [
        "# generates a 2 x 2 matrix\n",
        "m <- matrix(c(2,3,6,7,7,3), nrow=2,ncol=3)\n",
        "\n",
        "print(m)"
      ],
      "id": "1abcb087-a78b-43dd-bf8a-4b80c441bc27"
    },
    {
      "cell_type": "markdown",
      "metadata": {},
      "source": [
        "Take note of the order in which the values are filled it; it might be\n",
        "unexpected!\n",
        "\n",
        "Just like with vectors, we can also access parts of the matrix. If you\n",
        "look at the cell output above, you will see some notation like `[1,]` or\n",
        "`[,2]`. These are the *rows* and *columns* of the matrix. We can refer\n",
        "to them using this notation. We can also refer to elements using\n",
        "`[1,2]`. Again, this is very similar to the mathematical notation for\n",
        "matrices."
      ],
      "id": "aadd6d6a-dcc4-4492-9cc4-1b698926884e"
    },
    {
      "cell_type": "code",
      "execution_count": null,
      "metadata": {},
      "outputs": [],
      "source": [
        "# If we want to access specific parts of the matrix:\n",
        "\n",
        "# 2th column of matrix\n",
        "m[,2]     \n",
        "\n",
        "# 1st row of matrix\n",
        "m[1,]  \n",
        "\n",
        "# Element in row 1, column 2\n",
        "\n",
        "m[1,2]"
      ],
      "id": "077eadf5-29e3-412f-8fcd-8c0fee5df39b"
    },
    {
      "cell_type": "markdown",
      "metadata": {},
      "source": [
        "As with vectors, we can also observe and inspect the data structures of\n",
        "matrices using the helper function above."
      ],
      "id": "7cf1513d-bbdc-46b8-aa6d-382f5f4ee41b"
    },
    {
      "cell_type": "code",
      "execution_count": null,
      "metadata": {},
      "outputs": [],
      "source": [
        "# what type is m?\n",
        "\n",
        "typeof(m)\n",
        "\n",
        "# glimpse data structure of m\n",
        "str(m)"
      ],
      "id": "8721fa21-1c50-427a-9aa4-87785ef666d2"
    },
    {
      "cell_type": "markdown",
      "metadata": {},
      "source": [
        "The output of `str(m)` begins by displaying that the data in the matrix\n",
        "is of an numeric (num) type. The `[1:2, 1:3]` shows the structre of the\n",
        "rows and columns. The final part displays the values in the matrix.\n",
        "\n",
        "### Working with Lists\n",
        "\n",
        "Lists are a little bit more complex because they can store many\n",
        "different data types and objects, each of which can be given *names*\n",
        "which are specific ways to refer to these objects. Names can be any\n",
        "useful descriptive term for an element of the list. You can think of\n",
        "lists like flexible vectors with names."
      ],
      "id": "807ae037-9615-4634-a73b-18bec22634fa"
    },
    {
      "cell_type": "code",
      "execution_count": null,
      "metadata": {},
      "outputs": [],
      "source": [
        "# generates a list with 3 components named \"text\" \"a_vector\" and \"a_matrix\"\n",
        "my_list <- list(text=\"test\", a_vector = z, a_matrix = m) "
      ],
      "id": "9862d480-e5e4-4516-9189-174f4324ba78"
    },
    {
      "cell_type": "markdown",
      "metadata": {},
      "source": [
        "We can access elements of the list using the `[ ]` or `[[ ]]`\n",
        "operations. There is a difference:\n",
        "\n",
        "-   `[ ]` accesses the *elements of the list* which is the name and\n",
        "    object\n",
        "-   `[[ ]]` accesses the *object* directly\n",
        "\n",
        "We usually want to use `[[ ]]` when working with data stored in lists.\n",
        "One very nice feature is that you can refer to elements of a list by\n",
        "number (like a vector) or by their name."
      ],
      "id": "1f8604fe-03fc-458c-9fa4-17845aaf7909"
    },
    {
      "cell_type": "code",
      "execution_count": null,
      "metadata": {},
      "outputs": [],
      "source": [
        "# If we want to access specific parts of the list:\n",
        "\n",
        "# 1st component in list\n",
        "my_list[[1]] \n",
        "\n",
        "# 1st component in list by name (text)\n",
        "my_list[[\"text\"]]\n",
        "\n",
        "# 1st part of the list (note the brackets)\n",
        "my_list[1] \n",
        "\n",
        "# glimpse data type of my_list\n",
        "typeof(my_list)"
      ],
      "id": "64368091-b5d9-42c4-ac5f-b26d108f5239"
    },
    {
      "cell_type": "markdown",
      "metadata": {},
      "source": [
        "There is one final way to access elements of a list by name: using the\n",
        "`$` or **access** operator. This works basically like `[[name]]` but is\n",
        "more transparent when writing code. You put the object you want to\n",
        "access, followed by the operator, followed by the property:"
      ],
      "id": "f36fa0cf-e6ca-4045-8d28-67a6e75a795c"
    },
    {
      "cell_type": "code",
      "execution_count": null,
      "metadata": {},
      "outputs": [],
      "source": [
        "# access the named property \"text\"\n",
        "my_list$text\n",
        "\n",
        "#access the named property \"a_matrix\"\n",
        "my_list$a_matrix"
      ],
      "id": "ac4c205f-423e-4b1c-b0c0-6d37f9dbafc2"
    },
    {
      "cell_type": "markdown",
      "metadata": {},
      "source": [
        "You will notice that this *only* works for named object - which is\n",
        "particularly convenient for data frames, which we will discuss next.\n",
        "\n",
        "### Working with Dataframes\n",
        "\n",
        "Dataframes are the most complex object you will work with in this course\n",
        "but also the most important. They represent data - like the kind of data\n",
        "we would use in econometrics. In this course, we will primarily focus on\n",
        "**tidy data**, which refers to data in which the columns represent\n",
        "variables, and the rows represent observations. In terms of R, you can\n",
        "think of data-frames as a combination of a matrix and a list.\n",
        "\n",
        "We can access columns (variables) using their names, or their ordering"
      ],
      "id": "05cc526c-7c88-494b-85a2-6353e5345756"
    },
    {
      "cell_type": "code",
      "execution_count": null,
      "metadata": {},
      "outputs": [],
      "source": [
        "# generates a dataframe with 2 columns and 3 rows\n",
        "df <- data.frame(ID=c(1:3),\n",
        "                 Country=c('Canada', 'Japan', 'United Kingdom'))\n",
        "\n",
        "# If we want access specific parts of the dataframe:\n",
        "\n",
        "# 2nd column in dataframe\n",
        "df[2] \n",
        "\n",
        "df$Country\n",
        "\n",
        "# glimpse compact data structure of df\n",
        "str(df)"
      ],
      "id": "1f33a835-f62a-4555-bc3a-0c83aa66a9a6"
    },
    {
      "cell_type": "markdown",
      "metadata": {},
      "source": [
        "Notice that the `str(df)` command shows us what the names of the columns\n",
        "are in this dataset and how we can access them.\n",
        "\n",
        "### Test your knowledge\n",
        "\n",
        "Let’s see if you understand how to create new vectors! In the block\n",
        "below:\n",
        "\n",
        "1.  Create an object named `my_vector` which is a vector and which\n",
        "    contains the numbers from 10 to 15, inclusive.\n",
        "2.  Extract the 4th element of `my_vector` and store it in the object\n",
        "    `answer_1`."
      ],
      "id": "76d37040-f2d4-4d16-84d1-619a7234e938"
    },
    {
      "cell_type": "code",
      "execution_count": null,
      "metadata": {},
      "outputs": [],
      "source": [
        "my_vector <- c(...) # replace ... with the appropriate code\n",
        "\n",
        "answer_1 <- my_vector[...] # replace ... with the appropriate code\n",
        "\n",
        "test_1()"
      ],
      "id": "44647fe5-ceca-4b21-8204-6e5596eb8bcf"
    },
    {
      "cell_type": "markdown",
      "metadata": {},
      "source": [
        "1.  Create a new vector named `my_second_vector` with the elements `my`,\n",
        "    `second`, and `vector` (all lowercase!).\n",
        "2.  Extract the 3th element of `my_second_vector` and store it in the\n",
        "    object `answer_2`."
      ],
      "id": "b56bcfd5-84f8-4673-b594-49cb7645670a"
    },
    {
      "cell_type": "code",
      "execution_count": null,
      "metadata": {},
      "outputs": [],
      "source": [
        "my_second_vector <- (...)\n",
        "\n",
        "answer_2 <- (...)\n",
        "\n",
        "test_2()"
      ],
      "id": "4bba7eb4-6977-451a-a238-7a75c5730162"
    },
    {
      "cell_type": "markdown",
      "metadata": {},
      "source": [
        "In this exercise:\n",
        "\n",
        "1.  Create an object named `mat` which is a matrix with 2 rows and 2\n",
        "    columns. The first column will take on values 11, 22, while the\n",
        "    second column will take on values 33, 44.\n",
        "2.  Extract the value in the first row, second column from `mat` and\n",
        "    store it in the object `answer_2`"
      ],
      "id": "10a3184a-eca0-48fb-8b4b-e91bfffa244a"
    },
    {
      "cell_type": "code",
      "execution_count": null,
      "metadata": {},
      "outputs": [],
      "source": [
        "mat <- matrix(..., nrow=...,ncol=...) # fill in the missing code\n",
        "\n",
        "answer_3 <- mat[...]  # fill in the missing code\n",
        "\n",
        "test_3()"
      ],
      "id": "6876596a-8bf0-430e-a903-803ca6f3567a"
    },
    {
      "cell_type": "markdown",
      "metadata": {},
      "source": [
        "1.  Given the matrix below, extract the element on the 30th row and 10th\n",
        "    column, store it in a object called `first`.\n",
        "2.  Extract the element on the 27th row and 13th column, store it in a\n",
        "    object called `second`.\n",
        "3.  Extract the element on the 12th row and 33rd column, store it in a\n",
        "    object called `third`.\n",
        "4.  Create a vector with the three elements and store it in the object\n",
        "    `answer_4`."
      ],
      "id": "ea3ee5e5-1083-4fd4-8271-64a26b1bfb5a"
    },
    {
      "cell_type": "code",
      "execution_count": null,
      "metadata": {},
      "outputs": [],
      "source": [
        "mat2 <- matrix(c(1:1050), nrow=30,ncol=35)\n",
        "\n",
        "first <- ...\n",
        "\n",
        "second <- ...\n",
        "\n",
        "third <- ...\n",
        "\n",
        "answer_4 <- ...   \n",
        "\n",
        "test_4()"
      ],
      "id": "76a1b349-737e-42f0-a0b8-3e1667d24ac6"
    },
    {
      "cell_type": "markdown",
      "metadata": {},
      "source": [
        "1.  Now, extract the 8th row of `mat2` and store it in `answer_5`."
      ],
      "id": "d0a32da6-51be-4188-8153-0a39c8d07794"
    },
    {
      "cell_type": "code",
      "execution_count": null,
      "metadata": {},
      "outputs": [],
      "source": [
        "answer_5 <- ... \n",
        "\n",
        "test_5()"
      ],
      "id": "21bc409c-2a17-4550-9550-ae81f030c860"
    },
    {
      "cell_type": "markdown",
      "metadata": {},
      "source": [
        "In this exercise, you will need to:\n",
        "\n",
        "1.  Create an object named `a_list`, which is a list with two\n",
        "    components: an element called `string` which stores the character\n",
        "    string “Hello World”, and an element called `range` which contains a\n",
        "    vector with values 1 through 5.\n",
        "2.  Extract the elements of the second object, and store it in the\n",
        "    variable `answer_6`."
      ],
      "id": "844077c9-9e4c-478b-bd2a-4588522276f6"
    },
    {
      "cell_type": "code",
      "execution_count": null,
      "metadata": {},
      "outputs": [],
      "source": [
        "a_list <- list(... = \"Hello World\", range = ...) # fill in the missing code\n",
        "\n",
        "answer_6 <- a_list... # fill in the missing code\n",
        "\n",
        "test_6()"
      ],
      "id": "27ed3366-f1c1-481f-9a47-f2461b2ede46"
    },
    {
      "cell_type": "markdown",
      "metadata": {},
      "source": [
        "In this exercise:\n",
        "\n",
        "1.  Create an object `my_dataframe` which is a dataframe with two\n",
        "    variables and two observations. The first column `var1` will take on\n",
        "    values `1,2,3`. The second column `var2` will take on values\n",
        "    `\"A\", \"B\", \"C\"`.\n",
        "2.  Extract the column `var1` and store it in the object `answer_7`"
      ],
      "id": "bf51cbe3-58a9-43cd-a2e9-cacc288140be"
    },
    {
      "cell_type": "code",
      "execution_count": null,
      "metadata": {},
      "outputs": [],
      "source": [
        "my_dataframe <- data.frame(var1=..., ...=c(...)) # fill in the missing code\n",
        "\n",
        "answer_7 <- ... # fill in the missing code\n",
        "\n",
        "test_7()"
      ],
      "id": "09fd04e9-ed52-4663-b6dc-46cb866f8134"
    },
    {
      "cell_type": "markdown",
      "metadata": {},
      "source": [
        "Now, we have created a data frame called `hidden_df`. Select the third\n",
        "element from the column `col4` of the data frame `hidden_df` and store\n",
        "it in `answer_8`. Try to do that without actually seeing the dataset."
      ],
      "id": "409808c0-bcff-48a7-81e7-2a49c151a611"
    },
    {
      "cell_type": "code",
      "execution_count": null,
      "metadata": {},
      "outputs": [],
      "source": [
        "# Hint: you can think of a column of a dataset as a vector\n",
        "\n",
        "answer_8 <- ... # fill in the missing code\n",
        "\n",
        "test_8()"
      ],
      "id": "768aa2de-50bb-4a20-81be-e76f0c068e7e"
    },
    {
      "cell_type": "markdown",
      "metadata": {},
      "source": [
        "## Part 2: Operations with Variables\n",
        "\n",
        "At this point, you are familiar with some of the different types of data\n",
        "in R and how they work. However, let’s understand how we can work with\n",
        "these data types in more detail by writing R code. A **variable** or\n",
        "**object** is a name assigned to a memory location in the R workspace\n",
        "(working memory). For now we can use the terms variable and object\n",
        "interchangeably. An object will always have an associated type,\n",
        "determined by the information assigned to it. Clear and concise object\n",
        "assignment is essential for **reproducible data analysis**, as mentioned\n",
        "in the module *Intro to Jupyter*.\n",
        "\n",
        "When it comes to code, we can assign information (stored in a specific\n",
        "data type) to variables and objects using the **assignment operator**\n",
        "`<-`. Using the assignment operator, the information on the right-hand\n",
        "side is assigned to the variable/object on the left-hand side; we’ve\n",
        "seen this before, in some of the examples earlier.\n",
        "\n",
        "In the example \\[2\\] below, `\"Hello\"` has been assigned to the object\n",
        "`var_1`. `\"Hello\"` will be stored in the R workspace as an object named\n",
        "`\"var_1\"`.\n",
        "\n",
        "> **Note**: R is case sensitive. When referring to an object, it must\n",
        "> *exactly* match the assignment. `Var_1` is not the same as `var_1` or\n",
        "> `var1`."
      ],
      "id": "dae8caaa-1802-4cf8-b97e-21f84cfad0fe"
    },
    {
      "cell_type": "code",
      "execution_count": null,
      "metadata": {},
      "outputs": [],
      "source": [
        "var_1 <- \"Hello\"\n",
        "\n",
        "var_1\n",
        "\n",
        "typeof(var_1)"
      ],
      "id": "d1ebb9d9-df2c-434e-90e3-fe716b85f6dd"
    },
    {
      "cell_type": "markdown",
      "metadata": {},
      "source": [
        "You can create variables of many different types, including all of the\n",
        "basic and advanced types we discussed above."
      ],
      "id": "821563a6-200e-4d06-9af8-df5ff447160d"
    },
    {
      "cell_type": "code",
      "execution_count": null,
      "metadata": {},
      "outputs": [],
      "source": [
        "var_2 <- 34.5 #numeric/double\n",
        "var_3 <- 6L #integer\n",
        "var_4 <- TRUE #logical/boolean\n",
        "var_5 <- 1 + 3i #complex"
      ],
      "id": "6ec24bb3-ad41-4791-a18b-da7975fea5c5"
    },
    {
      "cell_type": "markdown",
      "metadata": {},
      "source": [
        "### Operations\n",
        "\n",
        "In R, we can also perform **operations** on objects; the type of an\n",
        "object defines what operations are valid. All of the basic mathematical\n",
        "and logical operations you are familiar with are example of these, but\n",
        "there are many more. For example:"
      ],
      "id": "b9e330f3-26cd-4e7b-9d1a-fe90510d3151"
    },
    {
      "cell_type": "code",
      "execution_count": null,
      "metadata": {},
      "outputs": [],
      "source": [
        "a <- 4 # creates an object named \"a\" assigned to the value: 4\n",
        "b <- 6 # creates an object named \"b\" assigned to the value: 6\n",
        "c <- a + b # creates an object \"c\" assigned to the value (a = 4) + (b = 6)"
      ],
      "id": "d8891c73-aaa5-4796-bd2e-afbde21fc9a8"
    },
    {
      "cell_type": "markdown",
      "metadata": {},
      "source": [
        "Try and think about what value c holds!\n",
        "\n",
        "We can view the assigned value of `c` in two different ways:\n",
        "\n",
        "1.  By printing `a + b`\n",
        "2.  By printing `c`\n",
        "\n",
        "Run the code cell below to see for yourself!"
      ],
      "id": "76e559df-603f-4683-ab18-4ee50d01b930"
    },
    {
      "cell_type": "code",
      "execution_count": null,
      "metadata": {},
      "outputs": [],
      "source": [
        "a + b\n",
        "c"
      ],
      "id": "2f739053-ee48-4e13-b218-9d9c5883c1e7"
    },
    {
      "cell_type": "markdown",
      "metadata": {},
      "source": [
        "It is also possible to change the value of our objects. In the example\n",
        "below, the object `b` has been reassigned the value 5."
      ],
      "id": "e28f6a04-5263-48b8-b193-7be329bf888d"
    },
    {
      "cell_type": "code",
      "execution_count": null,
      "metadata": {},
      "outputs": [],
      "source": [
        "b <- 5 "
      ],
      "id": "98ef4893-cef6-4cbb-b758-0efd1c555b3a"
    },
    {
      "cell_type": "markdown",
      "metadata": {},
      "source": [
        "R will now store the updated value of 5 in the object `b`. This\n",
        "overrides the original assignment of 6 to `b`. The ability to change\n",
        "object names is a key benefit using variables in R. We can simply\n",
        "reassign the value to a variable without having to change that value\n",
        "everywhere in our code. This will be quite useful when we want to do\n",
        "things such as change the name of a column in a dataset.\n",
        "\n",
        "> **To Remember**: use a unique object name that hasn’t been used before\n",
        "> in order to avoid unplanned object reassignments when creating a new\n",
        "> object. The more descriptive, the better!\n",
        "\n",
        "### Comments\n",
        "\n",
        "While developing our code, we do not always have to use markdown cells\n",
        "to document our process. We can also write notes in code cells using\n",
        "something called a **comment**. A comment simply allows us to write\n",
        "lines in our code cell which will not run when we run the cell itself.\n",
        "By simply typing the `#` sign, anything written directly after this sign\n",
        "and on the same line will not run; it is a comment. To comment out\n",
        "multiple lines of code, simply include the `#` sign at the start of each\n",
        "line.\n",
        "\n",
        "> **Note**: In general, the purpose of comments is to make the source\n",
        "> code easier for readers to understand. Remember the concept of\n",
        "> **reproducibility** from our last notebook?\n",
        "\n",
        "It is important to comment on our code for three main reasons:\n",
        "\n",
        "1.  It allows us to **keep track of our actions and thought process**:\n",
        "    Commenting is a great way to help us stay organized. Code comments\n",
        "    provide an ordered process for everyone to follow. In case we need\n",
        "    to debug our codes, we can easily track which step is problematic\n",
        "    and come back to that particular line of code that may be the source\n",
        "    of the problem.\n",
        "\n",
        "2.  It **helps readers understand** why we’re coding in a particular\n",
        "    way: While coding something like `a + b` may be a more or less\n",
        "    straightforward computation, our reader may not be able to\n",
        "    understand what `a` or `b` are referring to, or why they need to be\n",
        "    added to each other. Our readers or other developers may ask: why is\n",
        "    addition used instead of multiplication or division? With comments,\n",
        "    we can explain why this particular method was used for this\n",
        "    particular code block and how it relates to other code blocks.\n",
        "\n",
        "3.  It **saves everyone’s time** in the future, including yourself: It’s\n",
        "    far easier than you might expect to forget what a piece of code\n",
        "    does, or is supposed to do. Keeping good comments ensures that your\n",
        "    code remains comprehensible.\n",
        "\n",
        "> **To Remember**: an old woodworker’s tip is to always label something\n",
        "> when taking it apart so that a stranger could put the pieces back\n",
        "> together. The same advice applies to comments and coding: write code\n",
        "> so that a stranger could figure out what it is supposed to do.\n",
        "\n",
        "Generally, it is always a good idea to add comments to our code.\n",
        "However, if we find ourselves needing to explain an important block of\n",
        "code using lines upon lines of comments, it is preferable to use a\n",
        "markdown cell instead to give ourselves more room. Comments are best\n",
        "served for the reasons above.\n",
        "\n",
        "### More on Operators\n",
        "\n",
        "Earlier, we used discussed operations and used the example of `+` to run\n",
        "the addition of `a` and `b`. `+` is a type of R arithmetic **operator**,\n",
        "a symbol that tells R to perform a specific operation. We can use\n",
        "different R operators with variables. R has 4 types of operators:\n",
        "\n",
        "-   **Arithmetic operators**: used to carry out mathematical operations.\n",
        "    Ex. `*` for multiplication, `/` for division, `^` for exponent etc.\n",
        "-   **Assignment operators**: used to assign values to variables. Ex.\n",
        "    `<-`\n",
        "-   **Relational operators**: used to compare between values. Ex. `>`\n",
        "    for greater than, `==` for equal to, `!=` for not equal to etc.\n",
        "-   **Logical operators**: used to carry out Boolean operations. Ex. `!`\n",
        "    for Logical NOT, `&` for Logical AND etc.\n",
        "\n",
        "We won’t cover all of these right now, but you can look them up online;\n",
        "for now, keep an eye out for them when they occur.\n",
        "\n",
        "### Functions\n",
        "\n",
        "These simple operations are great to start with, but what if we want to\n",
        "do operations on different values of X and Y over and over again and\n",
        "don’t want to constantly rewrite this code? This is where **functions**\n",
        "come in. Functions allow us to carry out specific tasks. We simply pass\n",
        "in a parameter or parameters to the function. Code is then executed in\n",
        "the function body based on these parameters, and output may be returned."
      ],
      "id": "e2a68be1-745e-4863-adbc-c5ec84b1d74c"
    },
    {
      "cell_type": "code",
      "execution_count": null,
      "metadata": {},
      "outputs": [],
      "source": [
        "# function_name <- function(arguments)\n",
        "#  {code operating on the arguments\n",
        "#   }"
      ],
      "id": "c22e4590-303b-4aaf-8faf-76481e3c8d1e"
    },
    {
      "cell_type": "markdown",
      "metadata": {},
      "source": [
        "This structure says that we start with a name for our function\n",
        "(`function_name`) and we use the assignment operator similarly to when\n",
        "we assign values to variables. We then pass **arguments or parameters**\n",
        "to our function (which can be numeric, characters, vectors, collections\n",
        "such as lists, etc.): those are the *inputs* to the function.\n",
        "\n",
        "Finally, within the curly brackets we write our code needed to\n",
        "accomplish our desired task. Once we have done this, we can call this\n",
        "function anywhere in our code (after having run the cell defining the\n",
        "function!) and evaluate it based on specific parameter values.\n",
        "\n",
        "An example is shown below; can you figure out what this function does?"
      ],
      "id": "d20a3072-1bdf-4ab5-9e05-c14ef252dab1"
    },
    {
      "cell_type": "code",
      "execution_count": null,
      "metadata": {},
      "outputs": [],
      "source": [
        "my_function <- function(x, y)\n",
        " { k <- 2*(x + y)\n",
        " print(k)\n",
        "}"
      ],
      "id": "62a3b41d-dc36-4539-82c9-259941af6ac7"
    },
    {
      "cell_type": "markdown",
      "metadata": {},
      "source": [
        "The function (1) takes the inputs `(x,y)` given by the user (2) assigns\n",
        "the value of 2 times `x` plus `y` to some object `k` (3) prints the\n",
        "object `k`. We can call this function with any paramaters we want (as\n",
        "long as it is a number), and the function will output the operations for\n",
        "the inputs we specified. For example, let’s call the function for the\n",
        "values `x = 2` and `y = 3`."
      ],
      "id": "3c857e74-db70-447a-8e79-d46011234917"
    },
    {
      "cell_type": "code",
      "execution_count": null,
      "metadata": {},
      "outputs": [],
      "source": [
        "my_function(x = 2, y = 3)"
      ],
      "id": "0b73d041-ee96-4fe3-a09a-379f4401f58b"
    },
    {
      "cell_type": "markdown",
      "metadata": {},
      "source": [
        "The parameters placed into functions can be given **defaults**. Defaults\n",
        "are specific values for parameters that have been chosen and defined\n",
        "within the circular brackets of the function definition. For example, we\n",
        "can define `y = 3` as a default in our `my_function`. Then, when we call\n",
        "our function, we do not have to specify an input for `y` unless we want\n",
        "to."
      ],
      "id": "013615da-1a6d-4fd1-b573-502b6e011c30"
    },
    {
      "cell_type": "code",
      "execution_count": null,
      "metadata": {},
      "outputs": [],
      "source": [
        "my_function <- function(x, y = 3)\n",
        " { k <- 2*(x + y)\n",
        " print(k)\n",
        "}\n",
        "\n",
        "my_function(2)"
      ],
      "id": "92c39b2a-4a0b-4607-a839-ec6ac0d67659"
    },
    {
      "cell_type": "markdown",
      "metadata": {},
      "source": [
        "If we want to override this default parameter, we can simply call the\n",
        "function with a new input for `y`. This is done below for `y = 4`,\n",
        "allowing us to execute our code as though our default was actually\n",
        "`y = 4`."
      ],
      "id": "612cada6-d9ce-4ce9-ad26-7c7412dd5da0"
    },
    {
      "cell_type": "code",
      "execution_count": null,
      "metadata": {},
      "outputs": [],
      "source": [
        "my_function <- function(x, y = 3)\n",
        " { k <- 2*(x + y)\n",
        " print(k)\n",
        "}\n",
        "\n",
        "my_function(x = 2, y = 4)"
      ],
      "id": "16fc9454-3704-486f-b82f-e5f78341fab0"
    },
    {
      "cell_type": "markdown",
      "metadata": {},
      "source": [
        "Finally, note that we can **nest** functions within functions; meaning\n",
        "we can call functions inside of other functions, creating very complex\n",
        "arrangements. Just be sure that these inner functions have themselves\n",
        "already been defined."
      ],
      "id": "3a9b45cf-3c50-4b65-af08-3ce2a6b309d3"
    },
    {
      "cell_type": "code",
      "execution_count": null,
      "metadata": {},
      "outputs": [],
      "source": [
        "my_function_1 <- function(x, y)\n",
        " { k <- 2*(x + y)\n",
        "}\n",
        "\n",
        "my_function_2 <- function(x, y)\n",
        " {j <- x + y - my_function_1(x, y)\n",
        "  i <- 2 * j\n",
        "  print(i)\n",
        "}\n",
        "\n",
        "my_function_2(2, 3)"
      ],
      "id": "8c8683ed-b95f-4df8-b44c-084acfd080d3"
    },
    {
      "cell_type": "markdown",
      "metadata": {},
      "source": [
        "Luckily, we usually don’t have to define our own functions, since most\n",
        "useful built-in functions we need already come with R - although we may\n",
        "need to import specific packages to access them. We can always use the\n",
        "help `?` feature in R to learn more about a built-in function if we’re\n",
        "unsure. For example, `?max` gives us more information about the `max()`\n",
        "function.\n",
        "\n",
        "For more information about how you can read and use different functions,\n",
        "please refer to the [Function Cheat\n",
        "Sheet](https://cran.r-project.org/doc/contrib/Short-refcard.pdf).\n",
        "\n",
        "### Test Your Knowledge\n",
        "\n",
        "In this exercise:\n",
        "\n",
        "1.  create an object `u` which is equal to 1\n",
        "2.  create an object `y` which is equal to 7\n",
        "3.  create an object `w` which is equal to 10.\n",
        "4.  create an object `answer_9` which is equal to the sum of `u` and\n",
        "    `y`, divided by `w`"
      ],
      "id": "34640604-bf55-47fd-99d0-1697411948d3"
    },
    {
      "cell_type": "code",
      "execution_count": null,
      "metadata": {},
      "outputs": [],
      "source": [
        "... <- 1 # fill in the missing code\n",
        "y <- ...\n",
        "... <- ...\n",
        "\n",
        "answer_9 <- ...\n",
        "\n",
        "test_9()"
      ],
      "id": "e3e00f22-3e0f-4231-bc77-cc2d8beae951"
    },
    {
      "cell_type": "markdown",
      "metadata": {},
      "source": [
        "1.  Now multiply each of `u`, `y`, and `w` by 2, and store the answers\n",
        "    in the objects `v1`, `v2`, and `v3`, respectively.\n",
        "2.  Create a vector with objects `v1`, `v2`, and `v3`, and store the\n",
        "    vector in `answer_10`. Make sure the elements are exactly in that\n",
        "    order!"
      ],
      "id": "b18f9db9-d196-4c98-839f-146b549cfdd2"
    },
    {
      "cell_type": "code",
      "execution_count": null,
      "metadata": {},
      "outputs": [],
      "source": [
        "v1 <- ...\n",
        "v2 <- ...\n",
        "v3 <- ...\n",
        "\n",
        "answer_10 <- ...\n",
        "\n",
        "test_10()"
      ],
      "id": "0928a9a8-de6d-4e65-af94-45706a72d9fc"
    },
    {
      "cell_type": "markdown",
      "metadata": {},
      "source": [
        "In this exercise:\n",
        "\n",
        "1.  Create a function `divide` which takes in two arguments, `x` and\n",
        "    `y`. The function should return `x` divided by `y`.\n",
        "2.  Store the solution to `divide(5,3)` in the object `answer_11`:"
      ],
      "id": "d5d89b8a-a366-4461-b4e3-a2e72700a6e3"
    },
    {
      "cell_type": "code",
      "execution_count": null,
      "metadata": {},
      "outputs": [],
      "source": [
        "divide <- function(x,y) {\n",
        "    ...\n",
        "    }\n",
        "\n",
        "\n",
        "answer_11 <- ...(x = 5, y = 3)\n",
        "\n",
        "test_11()"
      ],
      "id": "7c5bbc42-1653-4bd2-a2b4-0f606150ffa6"
    },
    {
      "cell_type": "markdown",
      "metadata": {},
      "source": [
        "## Part 3: Dealing with Errors\n",
        "\n",
        "Sometimes in our analysis we can run into errors in our code. This\n",
        "happens to everyone - don’t worry - it’s not a reason to panic.\n",
        "Understanding the nature of the error we are confronted with can be a\n",
        "helpful first step to finding a solution. There are two common types of\n",
        "errors:\n",
        "\n",
        "-   **Syntax errors**: This is the most common error type. These errors\n",
        "    result from invalid code statements/structures that R doesn’t\n",
        "    understand. Suppose R speaks English, speaking to it in German or\n",
        "    broken English certainly would not work! Here are some examples of\n",
        "    common syntax errors: the associated package is not loaded,\n",
        "    misspelling of a command as R is case-sensitive,\n",
        "    unmatched/incomplete parenthesis etc. How we handle syntax errors is\n",
        "    case-by-case: we can usually solve syntax errors by reading the\n",
        "    error message and finding what is often a typo or by looking up the\n",
        "    error message on the internet using resources like stack overflow.\n",
        "\n",
        "-   **Semantic errors**: These errors result from valid code that\n",
        "    successfully executes but produces unintended outcomes. Again, let\n",
        "    us suppose R speaks English. Although we asked it to hand us an\n",
        "    apple in English and R successfully understood, it somehow handed us\n",
        "    a banana! This is not okay! How we handle semantic errors is also\n",
        "    case-by-case: we can usually solve semantic errors by reading the\n",
        "    error message and searching it online.\n",
        "\n",
        "Now that we have all of these terms and tools at our disposal, we can\n",
        "begin to load in data and operate on it using what we’ve learned.\n",
        "\n",
        "### Test your knowledge\n",
        "\n",
        "In this exercise, you will be asked to extract data and perform basic\n",
        "operations with a dataset of statistics from violent crime rates in US\n",
        "states. This is a dataset that comes with R. For now, don’t worry about\n",
        "how we get and load the data (you’ll learn about it in the next\n",
        "modules); just focus on what the questions ask you to do. This is\n",
        "intended to be a hard exercise - if you complete it successfully, it\n",
        "means you understood the content well! Let’s get to it:\n",
        "\n",
        "1.  Use the function `str` to view the structure of the data frame\n",
        "    `us_arrests`. How many columns and rows do we have in the dataset?"
      ],
      "id": "f9213f5c-cef9-47de-9bb6-e6cae434b4c9"
    },
    {
      "cell_type": "code",
      "execution_count": null,
      "metadata": {},
      "outputs": [],
      "source": [
        "# use this cell to write your code if you need"
      ],
      "id": "0a82f2af-b31a-44e2-aa01-c5e9a48c08ee"
    },
    {
      "cell_type": "code",
      "execution_count": null,
      "metadata": {},
      "outputs": [],
      "source": [
        "# write your answers here\n",
        "numrows <- ...\n",
        "numcols <- ...\n",
        "\n",
        "answer_12 <- c(numrows, numcols) # don't change this!\n",
        "\n",
        "test_12()"
      ],
      "id": "76ce5d55-e253-4b7e-80dc-fb92f993d240"
    },
    {
      "cell_type": "markdown",
      "metadata": {},
      "source": [
        "The units of our numeric columns are as follows:\n",
        "\n",
        "-   `Murder`: Murder arrests (per 100,000)\n",
        "-   `Assault`: Assault arrests (per 100,000)\n",
        "-   `UrbanPop`: Percent urban population\n",
        "-   `Rape`: Rape arrests (per 100,000)\n",
        "\n",
        "States are listed in alphabetical order in the column `States`.\n",
        "\n",
        "1.  Extract the murder rate in Arizona and store it in `answer_13`."
      ],
      "id": "2244db63-55b9-4f32-ad59-561fd83d092d"
    },
    {
      "cell_type": "code",
      "execution_count": null,
      "metadata": {},
      "outputs": [],
      "source": [
        "# use this cell to write your code if you need"
      ],
      "id": "610c8c54-9c6e-44b5-84e1-96c571f4b698"
    },
    {
      "cell_type": "code",
      "execution_count": null,
      "metadata": {},
      "outputs": [],
      "source": [
        "# write your answer here\n",
        "answer_13 <- ...\n",
        "\n",
        "test_13()"
      ],
      "id": "d6ce8292-4660-4edb-a8e1-7adf93ab182d"
    },
    {
      "cell_type": "markdown",
      "metadata": {},
      "source": [
        "1.  What is the absolute value of the difference between the murder rate\n",
        "    in New York and in Colorado? Store the answer in `answer_14`.\n",
        "\n",
        "> Hint: New York is the 32nd state and Colorado is the 6th state in\n",
        "> alphabetical order\n",
        "\n",
        "> Hint 2: The function `abs()` returns the absolute value of your input"
      ],
      "id": "4a1e6e72-0d2b-460d-9914-f2a0b389bdc6"
    },
    {
      "cell_type": "code",
      "execution_count": null,
      "metadata": {},
      "outputs": [],
      "source": [
        "# use this cell to write your code if you need"
      ],
      "id": "2a6ec843-4e1f-43fd-82e9-296c694a26fe"
    },
    {
      "cell_type": "code",
      "execution_count": null,
      "metadata": {},
      "outputs": [],
      "source": [
        "# write your answer here\n",
        "murder_ny <- ...\n",
        "\n",
        "murder_co <- ...\n",
        "\n",
        "answer_14 <- abs(...)\n",
        "\n",
        "test_14()"
      ],
      "id": "552943dc-5946-4b54-bda4-c9aac1bcbe29"
    },
    {
      "cell_type": "markdown",
      "metadata": {},
      "source": [
        "1.  And what about the differences in `Assault` and `Rape`? Create a\n",
        "    vector with the absolute value of the differences as elements, and\n",
        "    store it in `answer_15`. Make sure you order your elements as (1)\n",
        "    murder, (2) assault, and (3) rape."
      ],
      "id": "7575d543-bd24-45fb-94a8-5c27742a45a9"
    },
    {
      "cell_type": "code",
      "execution_count": null,
      "metadata": {},
      "outputs": [],
      "source": [
        "# use this cell to write your code if you need"
      ],
      "id": "5d6ffc76-c664-490b-8cad-e2b2e97ffc2b"
    },
    {
      "cell_type": "code",
      "execution_count": null,
      "metadata": {},
      "outputs": [],
      "source": [
        "# write your answer here\n",
        "murder <- ...\n",
        "\n",
        "assault <- ...\n",
        "\n",
        "rape <- ...\n",
        "\n",
        "answer_15 <- ...\n",
        "\n",
        "test_15()"
      ],
      "id": "0ced6c45-9568-4f33-a9f7-a93cd32041c8"
    }
  ],
  "nbformat": 4,
  "nbformat_minor": 5,
  "metadata": {
    "kernelspec": {
      "name": "ir",
      "display_name": "R",
      "language": "r"
    }
  }
}