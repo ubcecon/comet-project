{
  "cells": [
    {
      "cell_type": "markdown",
      "metadata": {},
      "source": [
        "# 0.3.2 - Introduction to Data in R - Part 2\n",
        "\n",
        "COMET Team <br> *Colby Grimes, Colby Chamber, Jonathan Graves, Manas\n",
        "Mridul, Valeria Zolla*  \n",
        "2023-07-09\n",
        "\n",
        "## Outline\n",
        "\n",
        "### Prerequisites\n",
        "\n",
        "-   Introduction to Data in R - Part 1\n",
        "\n",
        "### Learning Outcomes\n",
        "\n",
        "In this notebook, you will learn about:\n",
        "\n",
        "-   Filtering, segmenting, combining and cleaning datasets with\n",
        "    `tidyverse` and base R\n",
        "-   Reshaping and presenting data in different kinds of formats\n",
        "\n",
        "### References\n",
        "\n",
        "-   [Introduction to Probability and Statistics Using\n",
        "    R](https://mran.microsoft.com/snapshot/2018-09-28/web/packages/IPSUR/vignettes/IPSUR.pdf)\n",
        "-   [DSCI 100 Textbook](https://datasciencebook.ca/index.html)"
      ],
      "id": "23f133e7-a8fd-40e4-8134-bc931bd5b45c"
    },
    {
      "cell_type": "code",
      "execution_count": null,
      "metadata": {},
      "outputs": [],
      "source": [
        "# run this cell\n",
        "source(\"getting_started_intro_to_data_tests_2.r\")\n",
        "# loading in our packages\n",
        "library(tidyverse)\n",
        "library(haven)"
      ],
      "id": "d397a807-061d-4e0c-ab10-88a7878813f0"
    },
    {
      "cell_type": "markdown",
      "metadata": {},
      "source": [
        "## Part 1: Data Cleaning\n",
        "\n",
        "The World Development Indicators (WDI) is the primary World Bank\n",
        "collection of development indicators, compiled from officially\n",
        "recognized international sources.\n",
        "\n",
        "We have used World Bank’s DataBank applet to select and import some\n",
        "macro and development-related time series data for the countries Canada,\n",
        "India, Mexico, South Africa, and Zimbabwe for years 2014-2022."
      ],
      "id": "4d7303cb-69ac-4fdf-ab48-ddb52fddc5db"
    },
    {
      "cell_type": "code",
      "execution_count": null,
      "metadata": {},
      "outputs": [],
      "source": [
        "# importing required packages\n",
        "library(readr)\n",
        "library(dplyr)\n",
        "library(tidyr)\n",
        "library(stringr)\n",
        "\n",
        "#Loading the CSV file using the URL \n",
        "file_path <- \"datasets/WDI_raw.csv\"\n",
        "\n",
        "wdi <- read_csv(file_path) %>%\n",
        "       rename(Series_Code = \"Series Code\", Series_Name = \"Series Name\",\n",
        "       Country = \"Country Name\", Country_Code = \"Country Code\")\n",
        "\n",
        "head(wdi, 10)"
      ],
      "id": "0082da32-58f4-4c83-9929-62a394b8b305"
    },
    {
      "cell_type": "code",
      "execution_count": null,
      "metadata": {},
      "outputs": [],
      "source": [
        "dim(wdi)"
      ],
      "id": "7b028942-8cef-4519-9713-76c6ae4ba163"
    },
    {
      "cell_type": "markdown",
      "metadata": {},
      "source": [
        "The data frame is in long format. Each unique value in `Series_Name` an\n",
        "entry for a row, and not a column. As an example:\n",
        "\n",
        "| Country | Year |   Var | Value |\n",
        "|--------:|-----:|------:|------:|\n",
        "|  Canada | 2017 | Var A | Value |\n",
        "|  Canada | 2017 | Var B | Value |\n",
        "|  Canada | 2018 | Var C | Value |\n",
        "|  Canada | 2018 | Var B | Value |\n",
        "|  Canada | 2018 | Var C | Value |\n",
        "\n",
        "A simpler version of the data frame in a **wide-format** could look like\n",
        "this:\n",
        "\n",
        "| Country | Year | Var A | Var B | Var C |\n",
        "|--------:|-----:|------:|------:|------:|\n",
        "|  Canada | 2017 | Value | Value | Value |\n",
        "|  Canada | 2018 | Value | Value | Value |\n",
        "\n",
        "> **Note**: look up the functions `pivot_wider()` and `pivot_longer()`\n",
        "> to learn how to switch between long and wide formats.\n",
        "\n",
        "While `Series_Name` contains descriptions for each of the series in the\n",
        "data frame, `Series_Code` offers a handy way to group variables.\n",
        "\n",
        "Our `Series_Code` variable follow a taxonomy system. For example, any\n",
        "code starting with `AG` belongs to a *family of series* related to the\n",
        "state of agriculture in that country. Let’s see the unique series\n",
        "families and their sub series names."
      ],
      "id": "dcfb557a-b132-45b5-bb6f-391404694f3f"
    },
    {
      "cell_type": "code",
      "execution_count": null,
      "metadata": {},
      "outputs": [],
      "source": [
        "Series_Families <- wdi %>%\n",
        "                   mutate(Series_Family = substr(`Series_Code`, 1, 2)) %>%    # substring first two characters\n",
        "                   group_by(Series_Family) %>%    # group by unique vals\n",
        "                   summarize(Series_Names_Under_Family = paste(unique(`Series_Name`), collapse = \", \")) # for each family, find and paste all `Series_Name`\n",
        "\n",
        "head(Series_Families, 13)"
      ],
      "id": "ec8015cf-673d-418b-bbd4-ab9bf34a75eb"
    },
    {
      "cell_type": "markdown",
      "metadata": {},
      "source": [
        "Let’s create a data frame with series families related to access to\n",
        "institutions. Those are grouped under `SE` (Schooling), `FX` (Financial\n",
        "Institutions) and `EG` (Electricity). Let’s call our dataset\n",
        "`access_wdi`."
      ],
      "id": "4732dee8-3233-456d-963e-10cd371a510f"
    },
    {
      "cell_type": "code",
      "execution_count": null,
      "metadata": {},
      "outputs": [],
      "source": [
        "prefixes <- c(\"SE\", \"EG\", \"FX\")\n",
        "\n",
        "access_wdi <- wdi %>% \n",
        "              filter(str_detect(`Series_Code`, str_c(\"^\", prefixes, collapse = \"|\")))\n",
        "\n",
        "access_wdi <- access_wdi %>%  \n",
        "              rename_with(~str_extract(., \"\\\\d{4}\"), starts_with(\"20\")) # rename year columns to follow the 2XYZ format.\n",
        "\n",
        "head(access_wdi, 5)"
      ],
      "id": "ce26adc4-ac6f-47c3-bf93-4d19654dd192"
    },
    {
      "cell_type": "markdown",
      "metadata": {},
      "source": [
        "### Handling missing values\n",
        "\n",
        "We are interested in seeing if there are any specific years for when the\n",
        "data was not collected or is missing for *most* of the variables/series.\n",
        "\n",
        "Let’s look at each of the year columns and count the number of rows with\n",
        "`NA`."
      ],
      "id": "abedbe7a-6e21-4693-b569-d1c9eb3e279c"
    },
    {
      "cell_type": "code",
      "execution_count": null,
      "metadata": {},
      "outputs": [],
      "source": [
        "year_columns <- c(\"2018\", \"2019\", \"2020\", \"2021\", \"2022\")\n",
        "\n",
        "missing_counts <- sapply(year_columns, function(column) sum(is.na(access_wdi[[column]]))) # create custom function to count missing values\n",
        "\n",
        "print(missing_counts / nrow(access_wdi))"
      ],
      "id": "c821e274-fd7d-4f83-95ee-ed8b5493b926"
    },
    {
      "cell_type": "markdown",
      "metadata": {},
      "source": [
        "Looks like 98% of the data is missing for the year 2022. It probably\n",
        "makes sense to drop the 2022 column altogether."
      ],
      "id": "76fb8bfb-4ccb-4d33-9a67-dd42685defc5"
    },
    {
      "cell_type": "code",
      "execution_count": null,
      "metadata": {},
      "outputs": [],
      "source": [
        "access_wdi <- access_wdi %>% \n",
        "              select(-`2022`)\n",
        "\n",
        "head(access_wdi, 20)"
      ],
      "id": "9e908d93-0308-4d37-bf01-691c35bbd358"
    },
    {
      "cell_type": "markdown",
      "metadata": {},
      "source": [
        "Now let’s check for missing values *row-wise* - whether there are lots\n",
        "of NAs for a country-series combination. Let’s check if there are any\n",
        "particular country-series combination for which the data is missing for\n",
        "more than 2 years."
      ],
      "id": "76c7b7c9-9861-49e0-9e7a-781e951faa6c"
    },
    {
      "cell_type": "code",
      "execution_count": null,
      "metadata": {},
      "outputs": [],
      "source": [
        "# create new column with NA count by columns for each row\n",
        "access_wdi$count_na <- rowSums(is.na(access_wdi))\n",
        "\n",
        "# sort by number of missing vals\n",
        "access_wdi <- access_wdi %>% \n",
        "              arrange(desc(count_na))\n",
        "\n",
        "select(access_wdi, c(\"Country_Code\", \"Series_Code\", \"count_na\"))"
      ],
      "id": "beee781c-9758-4768-93c1-becd1ddc4740"
    },
    {
      "cell_type": "markdown",
      "metadata": {},
      "source": [
        "This data frame shows that we don’t have *any* data for series beginning\n",
        "with the `SE` (Schooling) prefix.\n",
        "\n",
        "> **Think Deeper**: how could you be systematic when choosing whether to\n",
        "> drop or not NA values? Our panel datasets is indexed by country and\n",
        "> series, and we’re interested in yearly values over time. Think about\n",
        "> the options we have to drop NAs: (1) Dropping a series altogether (2)\n",
        "> Dropping specific countries (3) Dropping specific rows (i.e.,\n",
        "> country-series pairs)…\n",
        "\n",
        "Let’s create an array with `Series_Code` to be dropped from our dataset."
      ],
      "id": "68767e62-49db-475f-9df4-4bd3dfaccf6b"
    },
    {
      "cell_type": "code",
      "execution_count": null,
      "metadata": {},
      "outputs": [],
      "source": [
        "# creating an array of `Series_Code` that need to be dropped from access_wdi\n",
        "\n",
        "to_drop <- access_wdi %>%\n",
        "           filter(count_na > 2) %>%\n",
        "           distinct(Series_Code) %>% unique() \n",
        "\n",
        "to_drop <- unlist(to_drop, use.names = FALSE)\n",
        "\n",
        "to_drop"
      ],
      "id": "3ad4420b-f772-4c42-ae52-e13794bb2f94"
    },
    {
      "cell_type": "markdown",
      "metadata": {},
      "source": [
        "> **Think Deeper**: what if dropping the missing values leads to low\n",
        "> sample size issues? One approach is to import data from alternative\n",
        "> sources and *fill them into* our original data set. This topic is\n",
        "> beyond the scope of this notebook, but think about the implications of\n",
        "> filling in data to the study.\n",
        "\n",
        "Let’s now drop all the rows where `Series_Code` matches any of the codes\n",
        "in `to_drop`, and save the resulting data frame as a new version of\n",
        "`access_wdi`."
      ],
      "id": "e780b010-694e-404d-b070-107bc4ffc7b0"
    },
    {
      "cell_type": "code",
      "execution_count": null,
      "metadata": {},
      "outputs": [],
      "source": [
        "filtered_access_wdi <- access_wdi %>%\n",
        "                       filter(!(Series_Code %in% to_drop))\n",
        "\n",
        "filtered_access_wdi"
      ],
      "id": "f849df8a-87a2-4e88-92d6-c78e7e8bf37d"
    },
    {
      "cell_type": "markdown",
      "metadata": {},
      "source": [
        "Now the only variables left in this data frame are the `EG` variables,\n",
        "which indicate the levels of access to electricity and other power\n",
        "sources within the countries.\n",
        "\n",
        "This dataset is clearly not appropriate to answer question about the\n",
        "access to the overall access to institutions; however, it could be\n",
        "extremely useful if the scope of the research is narrowed to access to\n",
        "power utilities. For example, we could use the dataset to visualize the\n",
        "growth in access to energy across the countries over the last 5 years.\n",
        "\n",
        "### Test your knowledge\n",
        "\n",
        "Before you complete the following exercises, take a moment to review the\n",
        "section above. Are there any functions you’re not familiar with? Now is\n",
        "a good time to learn them.\n",
        "\n",
        "> **Note**: by running `?function_name` you can get a detailed\n",
        "> description of any of the functions used in this notebook.\n",
        "\n",
        "What are some possible ways to deal with NA values? Select all that\n",
        "apply\n",
        "\n",
        "1.  Drop them row-wise\n",
        "2.  Drop them column-wise\n",
        "3.  Fill them in\n",
        "4.  Change the scope of the research"
      ],
      "id": "e1fe3113-c6e2-48c6-8c9f-6cd9b644a632"
    },
    {
      "cell_type": "code",
      "execution_count": null,
      "metadata": {},
      "outputs": [],
      "source": [
        "# Enter your answer as a string (in alphabetical order) with your answer choices ex: \"ACD\"\n",
        "\n",
        "answer_1 <- \n",
        "\n",
        "test_1()"
      ],
      "id": "55f4c1ee-7582-4316-b843-43d35a31873f"
    },
    {
      "cell_type": "markdown",
      "metadata": {},
      "source": [
        "What is normally the best way to deal with missing data?\n",
        "\n",
        "1.  Drop them row-wise\n",
        "2.  Drop them column-wise\n",
        "3.  Fill them in\n",
        "4.  Change the scope of the research\n",
        "5.  Impossible to tell"
      ],
      "id": "0896ea80-a3c1-4269-b7f4-83f9ee01b4cb"
    },
    {
      "cell_type": "code",
      "execution_count": null,
      "metadata": {},
      "outputs": [],
      "source": [
        "# Enter your answer as either \"A\", \"B\", \"C\", \"D\", or \"E\"\n",
        "\n",
        "answer_2 <- \n",
        "\n",
        "test_2()"
      ],
      "id": "c5b6c4d2-7935-4312-9b9b-6c409834e753"
    },
    {
      "cell_type": "markdown",
      "metadata": {},
      "source": [
        "## Part 2: Merging data frames in R\n",
        "\n",
        "Now let’s take a step back and consider an example of merging data\n",
        "frames. Our WDI data set has macro information on *national incomes*,\n",
        "*CABs*, *Bank Capital to Assets Ratios,* and various kinds of *CPIA*\n",
        "ratings. Let’s extract that data and merge it with data from the\n",
        "Quarterly Public Debt (QPD) data base. The QPD is exactly what you think\n",
        "it is: a record of sovereign debt managed by the World Bank and the\n",
        "International Monetary Fund (IMF).\n",
        "\n",
        "First, to our `wdi` dataset."
      ],
      "id": "94467585-9211-4811-8c5b-260557a0a52f"
    },
    {
      "cell_type": "code",
      "execution_count": null,
      "metadata": {},
      "outputs": [],
      "source": [
        "# identify the relevant series families \n",
        "prefixes <- c(\"NY\", \"FD\", \"FB\", \"IQ\", \"BN\")\n",
        "\n",
        "# subset `wdi` and create `macro_wdi`\n",
        "macro_wdi <- wdi %>% \n",
        "             filter(str_detect(`Series_Code`, str_c(\"^\", prefixes, collapse = \"|\"))) %>% \n",
        "             rename_with(~str_extract(., \"\\\\d{4}\"), starts_with(\"20\"))\n",
        "  \n",
        "macro_wdi"
      ],
      "id": "748bf4b2-7b0a-4b82-b909-21e659f8580f"
    },
    {
      "cell_type": "markdown",
      "metadata": {},
      "source": [
        "Again, take note of the missing values! It’s sad that we’re missing the\n",
        "CPIA rating variables (starting with `IQ`) for all the countries\n",
        "(Canada, India, Mexico, South Africa and Indonesia). Let’s drop the CPIA\n",
        "rows."
      ],
      "id": "8d579597-cbce-49f5-9b27-2cec189af76e"
    },
    {
      "cell_type": "code",
      "execution_count": null,
      "metadata": {},
      "outputs": [],
      "source": [
        "macro_wdi <- macro_wdi %>% \n",
        "             filter(!(Series_Code %in% c('IQ.CPA.FINS.XQ', 'IQ.CPA.FISP.XQ', 'IQ.CPA.MACR.XQ', 'IQ.CPA.PROP.XQ', 'IQ.CPA.PROT.XQ', 'IQ.CPA.DEBT.XQ', 'IQ.CPA.TRAD.XQ')))\n",
        "\n",
        "c(macro_wdi$Series_Code %>% \n",
        "unique(), macro_wdi$Series_Name %>% \n",
        "unique())"
      ],
      "id": "cdc638cd-8ee9-4483-bc0d-747d827b4d51"
    },
    {
      "cell_type": "markdown",
      "metadata": {},
      "source": [
        "So these are the variables we’ll include from the WDI data frame! Now,\n",
        "let’s load the QPD dataset."
      ],
      "id": "8f48abc2-4f92-4fe7-8683-13eb335da7be"
    },
    {
      "cell_type": "code",
      "execution_count": null,
      "metadata": {},
      "outputs": [],
      "source": [
        "file_path_2 <- \"datasets/qpd.csv\"\n",
        "\n",
        "qpd <- read_csv(file_path_2) %>%\n",
        "       rename(Series_Code = \"Series Code\", Series_Name = \"Series Name\",\n",
        "              Country = \"Country Name\", Country_Code = \"Country Code\")\n",
        "\n",
        "head(qpd, 25)"
      ],
      "id": "583564b5-6ff0-4ef3-91ea-6cae8286aa1e"
    },
    {
      "cell_type": "markdown",
      "metadata": {},
      "source": [
        "The series data in QPD is stored on a quarter-by-year basis. We can\n",
        "aggregate the data *column-wise* to get yearly amounts.\n",
        "\n",
        "> **Note**: R usually throws an error if you’re telling it to sum over\n",
        "> certain rows/columns that include NA values. We resolve this by\n",
        "> setting the parameter `na.rm = TRUE`, which literally means “NA remove\n",
        "> is TRUE”.\n",
        "\n",
        "Before we aggregate the data, let’s check the number of periods for\n",
        "which data is missing. Again, we’ll look at the country-series\n",
        "combinations. We do that below with a loop, telling R to *manually* go\n",
        "over each unique row, count the number of NAs along the period columns,\n",
        "and then store the result in another dataframe called `status`."
      ],
      "id": "38cd12b2-ef57-4fe5-a2da-6bc04a732dd5"
    },
    {
      "cell_type": "code",
      "execution_count": null,
      "metadata": {},
      "outputs": [],
      "source": [
        "status <- data.frame()    # empty data-frame that is placeholder for the final data\n",
        "Series_Codes <- qpd$Series_Code %>% unique()    # gets all `Series_Codes` to iterate over\n",
        "Countries <- qpd$Country_Code %>% unique()     # gets all `Country_Codes` to iterate over \n",
        "\n",
        "for (country_code in Countries) {\n",
        "    select <- filter(qpd, Country_Code == country_code)    # first filter for the indexed country with `country_code`\n",
        "  \n",
        "    for (series_code in Series_Codes) {\n",
        "        select_further <- filter(select, Series_Code == series_code)    # then filter by for the indexed series with `series_code`\n",
        "        cols_to_check <- select(select_further, c(\"2018Q1 [YR2018Q1]\", \"2018Q2 [YR2018Q2]\", \"2018Q3 [YR2018Q3]\", \"2018Q4 [YR2018Q4]\",    # then select the period columns \n",
        "                                              \"2019Q1 [YR2019Q1]\", \"2019Q2 [YR2019Q2]\", \"2019Q3 [YR2019Q3]\", \"2019Q4 [YR2019Q4]\",\n",
        "                                              \"2020Q1 [YR2020Q1]\", \"2020Q2 [YR2020Q2]\", \"2020Q3 [YR2020Q3]\", \"2020Q4 [YR2020Q4]\",\n",
        "                                              \"2021Q1 [YR2021Q1]\", \"2021Q2 [YR2021Q2]\", \"2021Q3 [YR2021Q3]\", \"2021Q4 [YR2021Q4]\",\n",
        "                                              \"2022Q1 [YR2022Q1]\", \"2022Q2 [YR2022Q2]\", \"2022Q3 [YR2022Q3]\", \"2022Q4 [YR2022Q4]\"))\n",
        "        \n",
        "        # the result will be a single row of period columns for each unique `Country_Code`, `Series_Code` combination\n",
        "        \n",
        "        na_count <- sum(is.na(cols_to_check))    # finally, store the value of NAs\n",
        "        result <- data.frame(Country_Code = country_code, Series_Code = series_code, na_count = na_count)\n",
        "        status <- rbind(status, result)    # appends the result to the status dataframe and iterate over\n",
        "  }\n",
        "}\n",
        "\n",
        "head(status)"
      ],
      "id": "4333f6fd-d6c6-42fd-83f2-fdd418f3e74c"
    },
    {
      "cell_type": "markdown",
      "metadata": {},
      "source": [
        "As expected, `status` has three columns: `Country_Code`, `Series_Code`,\n",
        "and the `na_count`. Now let’s check which combinations have data missing\n",
        "for less than 20 periods."
      ],
      "id": "34e3ef64-03a8-43f8-9fc0-94d6f5af4aa4"
    },
    {
      "cell_type": "code",
      "execution_count": null,
      "metadata": {},
      "outputs": [],
      "source": [
        "status_to_drop <- status %>% filter(na_count < 20 & na_count > 0) # strictly less than 20\n",
        "status_to_drop"
      ],
      "id": "b1fcd382-e3dc-44fb-9ecd-26f47e987247"
    },
    {
      "cell_type": "markdown",
      "metadata": {},
      "source": [
        "> **Note**: we filter by `(na_count < 20 & na_count > 0)` because if the\n",
        "> data is missing for *all* of the 20 columns, the aggregate function\n",
        "> will take care of the missing values and return `0` as the yearly\n",
        "> aggregate value. However, if data is missing for strictly less than 20\n",
        "> period columns, the yearly aggregate values will be under-estimated.\n",
        "\n",
        "These are the countries-series pairs which we must drop from the\n",
        "data-frame.\n",
        "\n",
        "> **Note**: by storing our exploration’s results in `status`, we can\n",
        "> re-visit our decision to drop values anytime we want. Such proper\n",
        "> documentation builds trust around the validity of the aggregate\n",
        "> computations!\n",
        "\n",
        "Let’s now use `anti_join()` to drop any rows from `qpd` that match the\n",
        "`Country_Code`, `Series_Code` pairs in `status_to_drop`."
      ],
      "id": "35f1a8f5-732f-4886-9db0-63aa0b51deec"
    },
    {
      "cell_type": "code",
      "execution_count": null,
      "metadata": {},
      "outputs": [],
      "source": [
        "qpd_filtered <- anti_join(qpd, status_to_drop, by = c(\"Country_Code\", \"Series_Code\"))\n",
        "qpd_filtered"
      ],
      "id": "33b783ea-8ba7-45df-824e-6d79cab103be"
    },
    {
      "cell_type": "markdown",
      "metadata": {},
      "source": [
        "> **Note**: `anti_join()` is a function that removes rows from a\n",
        "> dataframe that have matching values in specified columns with another\n",
        "> dataframe. In this context, it is used to drop rows from qpd that\n",
        "> match the `Country_Code` and `Series_Code` pairs in `status_to_drop`,\n",
        "> resulting in the filtered dataframe `qpd_filtered`.\n",
        "\n",
        "The code below tells R how to manually go over each unique combination\n",
        "of `Country`, `Series_Code` values and aggregate quaterly values by\n",
        "year. To learn exactly what each line does, head to the Appendix!"
      ],
      "id": "a9089b37-1546-4d1f-966b-551f931356a9"
    },
    {
      "cell_type": "code",
      "execution_count": null,
      "metadata": {},
      "outputs": [],
      "source": [
        "# pivot the data from wide to long format, creating separate rows for each quarterly value\n",
        "qpd_long <- qpd_filtered %>%\n",
        "  tidyr::pivot_longer(starts_with(\"20\"), names_to = \"quarter\", values_to = \"value\")\n",
        "\n",
        "# extract the year from the \"quarter\" column\n",
        "qpd_extracted <- qpd_long %>%\n",
        "  dplyr::mutate(year = stringr::str_extract(quarter, \"\\\\d+\"))\n",
        "\n",
        "# group the data by country, series, and year for aggregation\n",
        "qpd_grouped <- qpd_extracted %>%\n",
        "  dplyr::group_by(Country_Code, Country, Series_Code, Series_Name, year)\n",
        "\n",
        "# calculate the sum of values for each combination of country, series, and year\n",
        "qpd_summarized <- qpd_grouped %>%\n",
        "  dplyr::summarise(total_value = sum(value, na.rm = TRUE))\n",
        "\n",
        "# pivot the data back to wide format, with separate columns for each year\n",
        "qpd_aggregated <- qpd_summarized %>%\n",
        "  tidyr::pivot_wider(names_from = year, values_from = total_value, names_prefix = \"year_\")\n",
        "\n",
        "qpd_aggregated"
      ],
      "id": "dd7f20bc-32fa-4745-a43a-00956c90d26e"
    },
    {
      "cell_type": "markdown",
      "metadata": {},
      "source": [
        "Notice the zeroes in the data frame? As explained earlier, these occur\n",
        "due to certain pairs of missing data for all of the 20 time periods. We\n",
        "could filter out these observations if we had to!\n",
        "\n",
        "### Performing the merge\n",
        "\n",
        "Now let’s create a new data frame which includes both the macro\n",
        "variables from WDI and the QPD data. We’ll use `rbind()` to append\n",
        "observations from `qpd_aggregated` to `macro_wdi`."
      ],
      "id": "b344c88d-4a58-4c9c-9684-fc6dda212751"
    },
    {
      "cell_type": "code",
      "execution_count": null,
      "metadata": {},
      "outputs": [],
      "source": [
        "# since the yearly column names are different, we can rename them to match\n",
        "colnames(qpd_aggregated) <- colnames(macro_wdi)\n",
        "\n",
        "# combine the data frames using rbind\n",
        "df_macro <- rbind(macro_wdi, qpd_aggregated)\n",
        "\n",
        "# print the dimensions of the combined data frame\n",
        "print(dim(df_macro))\n",
        "\n",
        "# view the combined data frame\n",
        "df_macro"
      ],
      "id": "4e6c4f5e-be6d-48fc-8bb3-3b0fbb8160ab"
    },
    {
      "cell_type": "markdown",
      "metadata": {},
      "source": [
        "## Part 3: Other Types of Merges\n",
        "\n",
        "Let’s look at a **horizontal merge**. Suppose we were to update\n",
        "`df_macro` the following values for the year 2023."
      ],
      "id": "663435d0-f58b-4d54-bf51-5082a83c8e94"
    },
    {
      "cell_type": "code",
      "execution_count": null,
      "metadata": {},
      "outputs": [],
      "source": [
        "values_2023 <- c(-46898267372, -25575220073, 1457067267, 81641557999, -59663613794, 79677936994, 88935053721, 32159558497, 25822808780, -87642745906, -58805085020, -64688649494, 37404569332, -23179256357, 53968284000, -460151583, 43523701653, 98381218966, -23992964113, 55489044264, 86941046221, -57571495743, 30334753217, -74888980808, -46555866254, -22777181491, -97321933368, -23522408586, 73938169144, -31930200662, -3583976906, 19913165085)\n",
        "\n",
        "Country <- c(\"India\",  \"India\", \"Canada\", \"Canada\", \"Honduras\", \"Honduras\", \"Indonesia\", \"Indonesia\", \"South Africa\", \"South Africa\", \"Mexico\",  \"Mexico\", \"United Kingdom\", \"United Kingdom\", \"United States\", \"United States\", \"China\", \"China\", \"Hong Kong SAR, China\", \"Hong Kong SAR, China\", \"Netherlands\", \"Netherlands\", \"Egypt, Arab Rep.\", \"Egypt, Arab Rep.\", \"Georgia\", \"Georgia\", \"Slovak Republic\", \"Slovak Republic\", \"Georgia\", \"Honduras\", \"Indonesia\", \"Slovak Republic\")\n",
        "\n",
        "Series_Code <- rep(df_macro$Series_Code, length.out = length(values_2023))\n",
        "Series_Name <- rep(df_macro$Series_Name, length.out = length(values_2023))\n",
        "\n",
        "series_2023 <- data.frame( Country = Country, Series_Code = Series_Code, Series_Name = Series_Name, values_2023 = values_2023)\n",
        "\n",
        "head(series_2023, 5)"
      ],
      "id": "0fb70b28-cfe3-49a3-a861-3eb43c58d83a"
    },
    {
      "cell_type": "markdown",
      "metadata": {},
      "source": [
        "We can use `merge()` to add the 2023 values column into `df_macro`,\n",
        "specifiying that we merge by `Country`, `Series_Code`, and\n",
        "`Series_Name`."
      ],
      "id": "e73123ee-beb3-41db-aa88-4b325fc1abfe"
    },
    {
      "cell_type": "code",
      "execution_count": null,
      "metadata": {},
      "outputs": [],
      "source": [
        "df_macro_2 <- merge(df_macro, series_2023, by = c(\"Country\", \"Series_Code\", \"Series_Name\"))\n",
        "\n",
        "df_macro_2 <- df_macro_2 %>% \n",
        "              rename(\"2023\" = \"values_2023\")\n",
        "\n",
        "head(df_macro_2, 5)"
      ],
      "id": "ae43a14c-2443-43e9-a263-85aec5eb5d4c"
    },
    {
      "cell_type": "markdown",
      "metadata": {},
      "source": [
        "Take a look at the image below to learn about other methods for merging.\n",
        "\n",
        "<figure>\n",
        "<img src=\"attachment:media/join_visual.png\"\n",
        "alt=\"Merging Methods - COMET Team\" />\n",
        "<figcaption aria-hidden=\"true\">Merging Methods - COMET Team</figcaption>\n",
        "</figure>\n",
        "\n",
        "As illustrated in the image, a `full_join()` and `right_join()` are\n",
        "great for merging data sources in situations when we are particularly\n",
        "interested in the issue of missing matches.For simpler cases,\n",
        "`inner_join()` is ideal when you only want to include fully matched\n",
        "observations in the final data set.\n",
        "\n",
        "### Test your knowledge\n",
        "\n",
        "Debug the code below to calculate the mean of the vector `set`. Store\n",
        "the answer in `answer_3`."
      ],
      "attachments": {
        "media/join_visual.png": {
          "image/png": "[encoded data removed]"
        }
      },
      "id": "c9da5c0f-6939-424d-8d15-5ef692a1354b"
    },
    {
      "cell_type": "code",
      "execution_count": null,
      "metadata": {},
      "outputs": [],
      "source": [
        "set"
      ],
      "id": "98cae553-b4c3-4037-9c9f-fe5aa9ebd38e"
    },
    {
      "cell_type": "code",
      "execution_count": null,
      "metadata": {},
      "outputs": [],
      "source": [
        "mean(set)"
      ],
      "id": "05c81850-5a78-4bf4-86bf-495e794d075b"
    },
    {
      "cell_type": "code",
      "execution_count": null,
      "metadata": {},
      "outputs": [],
      "source": [
        "answer_3 <- \n",
        "\n",
        "test_3()"
      ],
      "id": "4416ae97-0340-4b2b-a2e5-342d530c6178"
    },
    {
      "cell_type": "markdown",
      "metadata": {},
      "source": [
        "Suppose you have two data frames, `df1` and `df2`. What line of code\n",
        "should you run if you want to perform a merge and preserve the entries\n",
        "of `df1`?\n",
        "\n",
        "1.  `anti_join(df1, df2)`\n",
        "2.  `right_join(df1, df2)`\n",
        "3.  `inner_join(df1, df2)`\n",
        "4.  `left_join(df1, df2)`\n",
        "5.  Impossible to tell without knowing the entries"
      ],
      "id": "3bb1ecf6-5614-46cf-b1d0-0cc3a37f303b"
    },
    {
      "cell_type": "code",
      "execution_count": null,
      "metadata": {},
      "outputs": [],
      "source": [
        "# Enter your answer as either \"A\", \"B\", \"C\", \"D\", or \"E\"\n",
        "\n",
        "answer_4 <- \n",
        "\n",
        "test_4()"
      ],
      "id": "930bd768-7344-4f00-8b8e-10ad75466220"
    },
    {
      "cell_type": "markdown",
      "metadata": {},
      "source": [
        "## Appendix\n",
        "\n",
        "### More on the wrangling code that aggregates period values in QPD\n",
        "\n",
        "The following code should produce 5 different data-frames that\n",
        "incrementally show how our wrangling code for calculating the yearly\n",
        "aggregates for each Country and Series."
      ],
      "id": "373837b2-26ad-45bd-9c9d-d9dbc221c0a5"
    },
    {
      "cell_type": "code",
      "execution_count": null,
      "metadata": {},
      "outputs": [],
      "source": [
        "# select a specific country and series for demonstration (e.g., \"USA\" and \"GDP\")\n",
        "country_code <- \"ALB\"\n",
        "series_code <- \"DP.DOD.DSCD.CR.PS.CD\"\n",
        "\n",
        "# filter the data for the specific country and series\n",
        "qpd_example <- qpd_filtered %>%\n",
        "  dplyr::filter(Country_Code == country_code, Series_Code == series_code)\n",
        "\n",
        "# pivot the data from wide to long format, creating separate rows for each quarterly value\n",
        "qpd_long <- qpd_example %>%\n",
        "  tidyr::pivot_longer(starts_with(\"20\"), names_to = \"quarter\", values_to = \"value\")\n",
        "\n",
        "# show the intermediate result: qpd_long\n",
        "qpd_long\n",
        "\n",
        "# extract the year from the \"quarter\" column\n",
        "qpd_extracted <- qpd_long %>%\n",
        "  dplyr::mutate(year = stringr::str_extract(quarter, \"\\\\d+\"))\n",
        "\n",
        "# show the intermediate result: qpd_extracted\n",
        "qpd_extracted\n",
        "\n",
        "# group the data by country, series, and year for aggregation\n",
        "qpd_grouped <- qpd_extracted %>%\n",
        "  dplyr::group_by(Country_Code, Country, Series_Code, Series_Name, year)\n",
        "\n",
        "# show the intermediate result: qpd_grouped\n",
        "qpd_grouped\n",
        "\n",
        "# calculate the sum of values for each combination of country, series, and year\n",
        "qpd_summarized <- qpd_grouped %>%\n",
        "  dplyr::summarise(total_value = sum(value, na.rm = TRUE))\n",
        "\n",
        "# show the intermediate result: qpd_summarized\n",
        "qpd_summarized\n",
        "\n",
        "# pivot the data back to wide format, with separate columns for each year\n",
        "qpd_aggregated <- qpd_summarized %>%\n",
        "  tidyr::pivot_wider(names_from = year, values_from = total_value, names_prefix = \"year_\")\n",
        "\n",
        "# show the final result: qpd_aggregated\n",
        "qpd_aggregated"
      ],
      "id": "7b36f363-e6da-49d6-ad17-fe8309fe65bb"
    }
  ],
  "nbformat": 4,
  "nbformat_minor": 5,
  "metadata": {
    "kernelspec": {
      "name": "ir",
      "display_name": "R",
      "language": "r"
    }
  }
}