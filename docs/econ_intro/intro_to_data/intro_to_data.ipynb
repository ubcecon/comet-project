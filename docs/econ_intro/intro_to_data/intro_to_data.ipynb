{
  "cells": [
    {
      "cell_type": "markdown",
      "metadata": {},
      "source": [
        "# 03 - Introduction to Data in R\n",
        "\n",
        "COMET Team <br> *Valeria Zolla, Colby Chamber, Colin Grimes, Jonathan\n",
        "Graves*  \n",
        "12/01/2023\n",
        "\n",
        "## Outline\n",
        "\n",
        "### Prerequisites\n",
        "\n",
        "-   Introduction to Jupyter\n",
        "-   Introduction to R\n",
        "\n",
        "### Outcomes\n",
        "\n",
        "After completing this notebook, you will be able to:\n",
        "\n",
        "-   Identify and understand the packages and commands needed to load,\n",
        "    manipulate, and combine data frames in R\n",
        "-   Load data using R in a variety of forms\n",
        "-   Create and reformat data, including transforming data into factor\n",
        "    variables\n",
        "-   Handle missing data\n",
        "-   Select subsets of the data set for use\n",
        "-   Combine and append data\n",
        "\n",
        "### References\n",
        "\n",
        "-   [Introduction to Probability and Statistics Using\n",
        "    R](https://mran.microsoft.com/snapshot/2018-09-28/web/packages/IPSUR/vignettes/IPSUR.pdf)\n",
        "-   [DSCI 100 Textbook](https://datasciencebook.ca/index.html)"
      ],
      "id": "a7a65711-9bdc-4ce9-9215-1efc86372a9b"
    },
    {
      "cell_type": "code",
      "execution_count": null,
      "metadata": {},
      "outputs": [],
      "source": [
        "# Run this cell\n",
        "\n",
        "source(\"intro_to_data_tests.r\")"
      ],
      "id": "9fed4458-d00a-44a9-a281-bbd7a0f7d81f"
    },
    {
      "cell_type": "markdown",
      "metadata": {},
      "source": [
        "We will start this notebook by focusing on loading and cleaning up our\n",
        "data-set: these are **fundamental** skills which will be necessary for\n",
        "essentially every data project we will do. This process usually consists\n",
        "of three steps:\n",
        "\n",
        "1.  We load the data into R, meaning we take a file on our computer (or\n",
        "    the web) and tell R how to interpret it.\n",
        "2.  We clean up the data by removing missing variables or adjusting the\n",
        "    way they are interpreted.\n",
        "3.  We select and filter the data into an appropriate dataset for our\n",
        "    project, which can involve creating or deleting variables or\n",
        "    observations.\n",
        "\n",
        "In this notebook, we will cover each of these three steps in detail.\n",
        "Let’s start by looking at the loading process.\n",
        "\n",
        "# Loading Data\n",
        "\n",
        "Remember, before we can load the data we need to tell R what\n",
        "**packages** we will be using in the notebook. Without these packages, R\n",
        "will not have access to the appropriate functions needed to interpret\n",
        "our raw data. As explained in the previous lesson, packages only need to\n",
        "be installed once; however, they need to be imported every time we open\n",
        "a notebook.\n",
        "\n",
        "We have discussed packages previously: for data loading, the two most\n",
        "important ones are `tidyverse` and `haven`. \\* `tidyverse` should\n",
        "already be somewhat familiar. It includes a wide range of useful\n",
        "functions for working with data in R. \\* `haven` is a special package\n",
        "containing functions that can be used to import data.\n",
        "\n",
        "Let’s get started by loading them now."
      ],
      "id": "6d3a566e-d16a-46f7-906f-4ada88dab94a"
    },
    {
      "cell_type": "code",
      "execution_count": null,
      "metadata": {},
      "outputs": [],
      "source": [
        "# loading in our packages\n",
        "library(tidyverse)\n",
        "library(haven)"
      ],
      "id": "b7eac1dd-75ae-46e9-85e4-ddadd219577b"
    },
    {
      "cell_type": "markdown",
      "metadata": {},
      "source": [
        "Data can be created by different programs and stored in different\n",
        "styles - these are called **file types**. We can usually tell what kind\n",
        "of file type we are working with by looking at the extension. For\n",
        "example, a text file usually has an extension like `.txt`. The data we\n",
        "will be using in this course is commonly stored in STATA, Excel, text,\n",
        "or comma-separated variables files. These have the following types:\n",
        "\n",
        "-   `.dta` for a STATA data file\n",
        "-   `.xls` or `.xlsx` for an Excel file\n",
        "-   `.txt` for a text file\n",
        "-   `.csv` for a comma-separated variables file\n",
        "\n",
        "To load any dataset, we need to use the appropriate function so that R\n",
        "can read the dataset correctly.\n",
        "\n",
        "-   To load a `.csv` file we use the command `read_csv(\"file name\")`\n",
        "-   To load a STATA file we use the command `read_dta(\"file name\")`\n",
        "-   To load an Excel file we the command `read_excel(\"file name\")`\n",
        "-   To load a text file we use the command\n",
        "    `read_table(\"file name\", header = FALSE)`.\n",
        "    -   The header argument specifies whether or not we have specified\n",
        "        column names in our data file.\n",
        "\n",
        "> **Note:** if we are using an Excel file, we need to load in the\n",
        "> package `readxl` alongside the `tidyverse` and `haven` packages above\n",
        "> to read the file.\n",
        "\n",
        "In this notebook, we will be working with data from the Canadian census\n",
        "which is stored as `01_census2016.dta`.\n",
        "\n",
        "## Exercise: Load in the Dataset\n",
        "\n",
        "Which function should we use to load this file? Write the name of the\n",
        "function just before the brackets (e.g. `read_table`)"
      ],
      "id": "8f24f6e0-9081-4324-9708-0327c74fca6c"
    },
    {
      "cell_type": "code",
      "execution_count": null,
      "metadata": {},
      "outputs": [],
      "source": [
        "# which function should we use?\n",
        "\n",
        "answer0 <- \"...\"\n",
        "\n",
        "test_0()"
      ],
      "id": "9e56df4f-7516-424a-abc3-717b6741b3ad"
    },
    {
      "cell_type": "markdown",
      "metadata": {},
      "source": [
        "Did you get it? Okay, now replace the `...` in the code below with that\n",
        "function to load the data!"
      ],
      "id": "8525b3ad-eae4-43c1-9a57-54d520f673bf"
    },
    {
      "cell_type": "code",
      "execution_count": null,
      "metadata": {
        "tags": []
      },
      "outputs": [],
      "source": [
        "# reading in the data\n",
        "census_data <- ??(\".../datasets/01_census2016.dta\")  # change me!\n",
        "\n",
        "# inspecting the data\n",
        "glimpse(census_data)"
      ],
      "id": "9384814a-c0e8-47bf-9f2c-e57b171e958e"
    },
    {
      "cell_type": "markdown",
      "metadata": {},
      "source": [
        "# Cleaning Data\n",
        "\n",
        "Now that we’ve loaded our data, the next step is to do some rudimentary\n",
        "cleaning. This can include redefining and factorizing variables,\n",
        "defining new variables, and dropping missing observations.\n",
        "\n",
        "## Factor Variables\n",
        "\n",
        "We have already seen that there are different types of variables which\n",
        "can be stored in R. Namely, there are quantitative variables and\n",
        "qualitative variables. Any quantitative variable can be stored in R as a\n",
        "set of strings or letters. These are known as **character** variables.\n",
        "Qualitative variables can also be stored in R as factor variables.\n",
        "Factor variables will associate a qualitative response to a categorical\n",
        "value, making analysis much easier. Additionally, data is often\n",
        "**encoded** which means that the levels of a qualitative variable have\n",
        "been represented by “codes”, usually in numeric form.\n",
        "\n",
        "Look at line `pr` in the output from `glimpse` above:\n",
        "\n",
        "    pr      <dbl+lbl> 35, 35, 11, 24, 35, 35, 35, 10, 35, 35, 59, 59, 46, 24, 59\n",
        "\n",
        "The `pr` variable in the Census data stands for province. Do these look\n",
        "much like Canadian provinces to you? This is an example of encoding. We\n",
        "can also see the variable type is `<dbl+lbl>`: this is a *labeled\n",
        "double*. This is good: it means that R already understands what the\n",
        "levels of this variable mean.\n",
        "\n",
        "There are three similar ways to change variables into factor variables.\n",
        "\n",
        "1.  We can change a specific variable inside a dataframe to a factor by\n",
        "    using the `as_factor` command"
      ],
      "id": "5faffb35-9ebe-49c5-8eff-54a632a59513"
    },
    {
      "cell_type": "code",
      "execution_count": null,
      "metadata": {},
      "outputs": [],
      "source": [
        "census_data <- census_data %>%  #we start by saying we want to update the data, AND THEN... (%>%)\n",
        "    mutate(pr = as_factor(pr)) #mutate (update) pr to be a factor variable\n",
        "\n",
        "glimpse(census_data)"
      ],
      "id": "80751b29-12e5-424f-8488-f521ebb95a25"
    },
    {
      "cell_type": "markdown",
      "metadata": {},
      "source": [
        "Do you see the difference in the `pr` variable? You can also see that\n",
        "the type has changed to `<fct>` for **factor variable**.\n",
        "\n",
        "The reason R was able to do this automatically is because the type was\n",
        "`<dbl+lbl>`; because of the information contained in the original\n",
        "dataset, R already knew how to “decode” the factor variables from the\n",
        "imported data. But what if that wasn’t the case? This brings us to the\n",
        "next method.\n",
        "\n",
        "1.  We can **supply a list of factors** using the `factor` command. This\n",
        "    command takes two other values:\n",
        "    -   A list of levels the qualitative variable will take on\n",
        "    -   A list of labels, one for each level, which describes what each\n",
        "        level means\n",
        "\n",
        "Let’s look at the `pkids` (has children) variable as an example. Let’s\n",
        "suppose we didn’t notice that it is of type `<dbl+lbl>` *or* we decided\n",
        "we didn’t like the built-in labels. We can create a custom factor\n",
        "variable as follows:"
      ],
      "id": "a781d425-5a2f-44c6-8a86-6b64a12e55bb"
    },
    {
      "cell_type": "code",
      "execution_count": null,
      "metadata": {},
      "outputs": [],
      "source": [
        "# first, we write down a list of levels\n",
        "kids_levels = c(0,1,9)\n",
        "\n",
        "# then, we write a list of our labels\n",
        "kids_labels = c('none', 'one or more', 'not applicable')\n",
        "\n",
        "# finally, we use the command but with some options - telling factor() how to interpret the levels\n",
        "\n",
        "census_data <- census_data %>%  # we start by saying we want to update the data, AND THEN... (%>%)\n",
        "    mutate(pkids = factor(pkids,   # notice the function is \"factor\", not \"as_factor\"\n",
        "                          levels = kids_levels, \n",
        "                          labels = kids_labels)) # mutate (update pkids) to be a factor of pkids\n",
        "glimpse(census_data)"
      ],
      "id": "cb8d3f94-ce45-481a-832b-8d4422aa22c0"
    },
    {
      "cell_type": "markdown",
      "metadata": {},
      "source": [
        "Again, do you see the difference here? This is how we can customize\n",
        "factor labels when creating new variables.\n",
        "\n",
        "1.  The final method is very similar to the first; if we have a large\n",
        "    dataset, it can be tiresome to decode all of the variables\n",
        "    one-by-one. Instead, we can use `as_factor` on the **entire\n",
        "    dataset** and it will convert all of the variables with appropriate\n",
        "    types."
      ],
      "id": "3c904882-7833-412e-80c6-a316882f54e4"
    },
    {
      "cell_type": "code",
      "execution_count": null,
      "metadata": {},
      "outputs": [],
      "source": [
        "census_data <- as_factor(census_data)\n",
        "glimpse(census_data)"
      ],
      "id": "b46f6fc7-c4a4-41da-87d5-71d8c47c3a66"
    },
    {
      "cell_type": "markdown",
      "metadata": {},
      "source": [
        "This is our final dataset, all cleaned up! Notice that some of the\n",
        "variables (e.g. `ppsort`) were *not* converted into factor variables.\n",
        "\n",
        "> **Test Your Knowledge**: Can you tell why?\n",
        "\n",
        "## Creating New Variables\n",
        "\n",
        "Another important clean-up task is to make new variables. It’s pretty\n",
        "uncommon for a data set to already contain all of the variables we want!\n",
        "\n",
        "To do this, we can use the `mutate` command again: in fact, when we were\n",
        "making factor variables earlier, we were, in a sense, already making new\n",
        "variables! However, let’s see how we can do something more complex.\n",
        "\n",
        "As we mentioned, to create any new variable we use the command `mutate`.\n",
        "This command is an efficient way of manipulating the columns of our data\n",
        "frame. We supply to mutate a formula for creating the new variable:\n",
        "\n",
        "    census_data <- census_data %>%\n",
        "            mutate(new_variable_name = function(stuff...))\n",
        "\n",
        "Let’s see it in action with the `log()` function which we will use to\n",
        "create a new variable for the natural logarithm of wages. This can be\n",
        "quite useful for many models."
      ],
      "id": "30468c79-ae39-4bce-9e9d-6c1e4cdd463f"
    },
    {
      "cell_type": "code",
      "execution_count": null,
      "metadata": {},
      "outputs": [],
      "source": [
        "census_data <- census_data %>%\n",
        "        mutate(log_wages = log(wages)) # the log function\n",
        "\n",
        "glimpse(census_data)"
      ],
      "id": "f30ffbdc-4aed-4cad-8864-8e9d3e63d91c"
    },
    {
      "cell_type": "markdown",
      "metadata": {},
      "source": [
        "Do you see our new variable at the bottom? Nice!\n",
        "\n",
        "## The `case_when` function\n",
        "\n",
        "We can also use more complex functions. We won’t cover all of them in\n",
        "this notebook, but we will mention one very important example: the\n",
        "`case_when` function. This function creates different values for an\n",
        "input based on specified cases. You can read more about it by running\n",
        "the code block below."
      ],
      "id": "b4638c80-bc69-4d48-a41c-153d1a47f429"
    },
    {
      "cell_type": "code",
      "execution_count": null,
      "metadata": {},
      "outputs": [],
      "source": [
        "?case_when"
      ],
      "id": "5c4f9613-3c09-4f34-9e82-557397b78f3b"
    },
    {
      "cell_type": "markdown",
      "metadata": {},
      "source": [
        "Essentially, this function consists of a series of lines, and each line\n",
        "gives (i) a case and (ii) a value for the case. \\> **Tip**: you can\n",
        "create a “default” case by using TRUE as the case in the last line.\n",
        "\n",
        "Suppose we are looking at our `pkids` variable and find it frustrating\n",
        "that it has three levels (`'none', 'one or more', 'not applicable'`). We\n",
        "are interested in creating a dummy variable which is equal to one if the\n",
        "respondent has children and zero otherwise. Let’s call it `has_kids`. We\n",
        "can use the `case_when()` function to achieve this!"
      ],
      "id": "072adc21-dee5-4716-a678-ab271a8c43bd"
    },
    {
      "cell_type": "code",
      "execution_count": null,
      "metadata": {},
      "outputs": [],
      "source": [
        "census_data <- census_data %>% \n",
        "    mutate(has_kids = case_when( # make a new variable, call it has_kids\n",
        "        pkids == \"none\" ~ 0, # case 1: pkids is \"none\"; output is 0 (no kids)\n",
        "        pkids == \"one or more\" ~ 1, # case 2: \"one or more\"; output is 1 (kids)\n",
        "        pkids == 'not applicable' ~ 0)) # case 2: \"not applicable\"; output is 0 (no kids)\n",
        "\n",
        "glimpse (census_data)"
      ],
      "id": "2310b5b0-41f6-4590-a470-414ad1ac72c9"
    },
    {
      "cell_type": "markdown",
      "metadata": {},
      "source": [
        "Notice that `has_kids` is not a factor variable. We have to add on the\n",
        "appropriate code to do that.\n",
        "\n",
        "## Exercise: Factorize `has_kids`\n",
        "\n",
        "Create an object, stored in `answer1`, in which the `census_data` data\n",
        "frame is identical to the one above but in which the `has_kids` variable\n",
        "is also in factor form."
      ],
      "id": "f0298c6e-d863-41ed-aca3-0558913957e9"
    },
    {
      "cell_type": "code",
      "execution_count": null,
      "metadata": {},
      "outputs": [],
      "source": [
        "answer1 <- census_data %>% \n",
        "                ... # fill me in!\n",
        "\n",
        "test_1()"
      ],
      "id": "08b06eab-4289-4a09-91cc-d0fff6dd85ff"
    },
    {
      "cell_type": "markdown",
      "metadata": {},
      "source": [
        "## More Complex Variables\n",
        "\n",
        "We can also create dummy variables from more complex variables. For\n",
        "example, we can create a dummy variable called `retired`. If the person\n",
        "is of retirement age then it will equal one. If they are younger than 65\n",
        "(ie, not of retirement age) then it will equal zero. To create this new\n",
        "variable we need to join many categories of the `agegrp` variable into\n",
        "one."
      ],
      "id": "12f67880-f59e-4a08-aaf2-31aa2c94c09e"
    },
    {
      "cell_type": "code",
      "execution_count": null,
      "metadata": {},
      "outputs": [],
      "source": [
        "census_data <- census_data %>% \n",
        "    mutate(retired = case_when((agegrp == \"65 to 69 years\")|(agegrp == \"70 to 74 years\")|(agegrp == \"75 to 79 years\")|(agegrp == \"80 to 84 years\")|(agegrp == \"85 years and over\") ~ 1, \n",
        "                               TRUE ~ 0)) %>% # otherwise\n",
        "    mutate(retired = as_factor(retired)) # factor\n",
        "\n",
        "glimpse(census_data)"
      ],
      "id": "0c091e92-4c1e-462e-a2e5-b52caf6395f5"
    },
    {
      "cell_type": "markdown",
      "metadata": {},
      "source": [
        "We typically want to create a dummy variable to identify which\n",
        "individuals have a certain characteristic and which ones don’t (using a\n",
        "binary configuration). This type of variable is useful in many models\n",
        "which have trouble handling more complex types of data. You now know how\n",
        "to create these variables!\n",
        "\n",
        "## Exercise: Adding a Variable\n",
        "\n",
        "Create an object `answer2` in which the `census_data` dataframe now has\n",
        "an extra dummy variable called `knows_english` which is equal to 1 if\n",
        "the respondent knows English and 0 if not. Make sure that this variable\n",
        "is factorized."
      ],
      "id": "d52cd70d-3df7-4478-891c-482747d999b2"
    },
    {
      "cell_type": "code",
      "execution_count": null,
      "metadata": {},
      "outputs": [],
      "source": [
        "answer2 <- ... # fill me in!\n",
        "\n",
        "test_2()"
      ],
      "id": "64845422-c312-4e53-9ab6-9ae3853a168e"
    },
    {
      "cell_type": "markdown",
      "metadata": {},
      "source": [
        "## Removing Missing Data\n",
        "\n",
        "Removing missing data is an important step of our cleaning process. For\n",
        "example, if we wanted to create a dummy called `visible_minority_status`\n",
        "(1 if the person identifies as a visible minority), we would get our\n",
        "values from the variable `vismin`. However, if we check the different\n",
        "levels and labels of that variable we see that visible minority status\n",
        "is not available for all individuals. How do we handle this situation?\n",
        "\n",
        "> **🔎 **Let’s think critically****\n",
        ">\n",
        "> > 🟠 Choosing which observations to drop is always an important\n",
        "> > research decision. There are different ways to handle missing data\n",
        "> > beyond just dropping it - for instance, by treating “missing” as its\n",
        "> > own valid category. These decisions have important consequences for\n",
        "> > your analysis, and should always be carefully thought through -\n",
        "> > especially if the reasons why data are missing might not be random.\n",
        "> >\n",
        "> > 🟠 In the context of census data, why might responses to the\n",
        "> > question of a person’s visible minority status be missing?  \n",
        "> > 🟠 Why might a state apparatus like Statistics Canada be interested\n",
        "> > in collecting data in this dimension?  \n",
        "> > 🟠 What might be some consequences for an analysis if these\n",
        "> > observations were dropped?\n",
        "\n",
        "Let’s start with simply removing the observations where data is not\n",
        "available. To do this, we will use the `filter()` method which\n",
        "conditionally drops observations. Each row (observation) is evaluated\n",
        "against the supplied condition. Only observations where the condition is\n",
        "true or met are retained (selection by inclusion) in the dataframe. The\n",
        "`filter()` method checks all rows at once, not just one at a time. Let’s\n",
        "see it in action below."
      ],
      "id": "5c616f80-28f8-4460-b00d-aa8d05f40521"
    },
    {
      "cell_type": "code",
      "execution_count": null,
      "metadata": {},
      "outputs": [],
      "source": [
        "glimpse(filter(census_data, vismin != \"not available\"))"
      ],
      "id": "afa4d1a8-a1e0-4c80-bf06-7a53ee8685b2"
    },
    {
      "cell_type": "markdown",
      "metadata": {},
      "source": [
        "> **Recall**: The operator `!=` is a conditional statement for “not\n",
        "> equal to”. Therefore we are telling R to keep the observations that\n",
        "> are NOT equal to “not available”.\n",
        "\n",
        "Notice the change in the number of observations here. Now that `NA` data\n",
        "has been deleted we can create the dummy!"
      ],
      "id": "268407c3-c591-49dd-b249-281ca3de87da"
    },
    {
      "cell_type": "code",
      "execution_count": null,
      "metadata": {},
      "outputs": [],
      "source": [
        "census_data <- filter(census_data, vismin != \"not available\")\n",
        "\n",
        "census_data <- census_data %>% \n",
        "    mutate(minority = case_when(vismin == \"not a visible minority\" ~ 0, \n",
        "                                TRUE ~ 1)) %>%\n",
        "    mutate(minority = as_factor(minority))\n",
        "           \n",
        "glimpse(census_data)"
      ],
      "id": "438f6011-1d23-4318-b822-e3f2777c5a34"
    },
    {
      "cell_type": "markdown",
      "metadata": {},
      "source": [
        "Now if we wanted to check whether there is a difference between the\n",
        "wages of those who are and are not visible minorities, we could create a\n",
        "table, make a chart or run some calculations, all concepts we will learn\n",
        "about in other notebooks.\n",
        "\n",
        "## Exercise: Removing Missing Data\n",
        "\n",
        "Create an object `answer3` which uses the `filter()` function to drop\n",
        "values of “NA” from `pkids` in our census dataframe."
      ],
      "id": "08863ebc-4826-4da7-aef4-52e8b61f1313"
    },
    {
      "cell_type": "code",
      "execution_count": null,
      "metadata": {},
      "outputs": [],
      "source": [
        "answer3 <- census_data %>% ...\n",
        "\n",
        "test_3()"
      ],
      "id": "632318b4-b4c5-4ca2-ace5-76a2141bac4e"
    },
    {
      "cell_type": "markdown",
      "metadata": {},
      "source": [
        "## Changing Variable Names\n",
        "\n",
        "One optional step in our data cleaning process is changing the names of\n",
        "variables so they are appropriate and understandable when producing\n",
        "research. More specifically, this means making all of our variable names\n",
        "short and descriptive. Many datasets from statistical agencies will have\n",
        "excellent variable names, so this is a conventional and helpful process\n",
        "to go through when we encounter a data set with non-descriptive names.\n",
        "For instance, many older datasets have variables with names like\n",
        "`EDMM1928`, which are not very helpful!\n",
        "\n",
        "We can use the command `rename(new name = old name)` to change a\n",
        "variable’s name. As you may have seen before, we can also use `mutate()`\n",
        "to create a new variable category.\n",
        "\n",
        "> **🔎 **Let’s think critically****\n",
        ">\n",
        "> > 🟠 Sometimes variable name changes and category creations happen for\n",
        "> > reasons other than making a label clearer as we’ve seen above. For\n",
        "> > example, the label “illegal alien” was used to describe a genre of\n",
        "> > immigration status by the US Immigration and Customs Enforcement and\n",
        "> > the US Customs and Border Protection from 1980 to 2021, until\n",
        "> > pressures from [student\n",
        "> > activism](https://visaandgreencard.com/blog/library-congress-will-stop-using-phrase-illegal-alien/)\n",
        "> > and the [Biden\n",
        "> > administration](https://www.washingtonpost.com/immigration/illegal-alien-assimilation/2021/04/19/9a2f878e-9ebc-11eb-b7a8-014b14aeb9e4_story.html)\n",
        "> > resulted in its phasing out under the argument that this categorical\n",
        "> > label enabled racist attitudes to status-seeking folks in the United\n",
        "> > States. Today, many choose to use terms like “undocumented\n",
        "> > immigrant”, “non-citizen” and “migrant” instead.\n",
        "> >\n",
        "> > 🟠 How might the language of variable names shape how people, groups\n",
        "> > or concepts are represented?  \n",
        "> > 🟠 How can individuals (you!) and institutions ensure that label\n",
        "> > choices honour the consent and agency of the people and groups that\n",
        "> > they affect? Are there any tradeoffs associated with this pursuit?"
      ],
      "id": "dcdbcefa-702a-40b4-a6a9-b218779ca327"
    },
    {
      "cell_type": "code",
      "execution_count": null,
      "metadata": {},
      "outputs": [],
      "source": [
        "head(census_data) %>% \n",
        "    rename(highest_degree = hdgree)"
      ],
      "id": "efd225c9-0369-4e82-a2a6-b3a743368e74"
    },
    {
      "cell_type": "markdown",
      "metadata": {},
      "source": [
        "# Adding and Removing Data\n",
        "\n",
        "Another step in data cleaning involves bringing in new data from other\n",
        "datasets or dropping existing data from our data set entirely. In this\n",
        "step, we must always think very carefully about the purpose of our data\n",
        "in terms of the research we are doing. The underlying goal of our\n",
        "project should always guide decision to bring in new datasets or\n",
        "removing information from our existing one.\n",
        "\n",
        "## Combining Datasets\n",
        "\n",
        "Often we will need to draw on data from multiple datasets. Most of the\n",
        "time, these datasets will be available for download in different files\n",
        "(each for a given year, month, country, etc.). For example, if we are\n",
        "working with macroeconomic data from Statistics Canada such as inflation\n",
        "rates, GDP, and population, data for these variables may be stored in\n",
        "different datasets corresponding to different years. Thus, if we want to\n",
        "compile them we need to combine them into the same data frame.\n",
        "\n",
        "There are two key ways of combining data, each reflecting different\n",
        "goals:\n",
        "\n",
        "1.  When we want to add more observations from another dataset into our\n",
        "    existing dataset, we call this **appending** data.\n",
        "    -   If you think of a dataset as a spreadsheet, this is like taking\n",
        "        one dataset and “pasting” it into the bottom of a current\n",
        "        dataset to add more observations. We do this when the\n",
        "        observations from the other dataset have recorded data for all\n",
        "        existing variables.\n",
        "2.  When we want to add new variables and their data from another\n",
        "    dataset into our existing dataset, we call this **merging** data.\n",
        "    -   This is like looking up values in a table and then adding a\n",
        "        column; in Excel, this is called a `VLOOKUP`. Importantly, we\n",
        "        can only merge data that share a common column or **key** to\n",
        "        identify observations with particular values. For example, if we\n",
        "        want to merge in data from a different year but for the same\n",
        "        people (observations) as those we are currently working with,\n",
        "        datasets will usually have an identifying number for the person\n",
        "        that functions as our key. In this dataset, every individual is\n",
        "        identified by their `ppsort` number, so this is the key we would\n",
        "        use to merge in new variables.\n",
        "\n",
        "## Appending Datasets\n",
        "\n",
        "Let’s say that our `census_data` data set is inexplicably missing 2\n",
        "observations, the people coded as 867543 and 923845. These people have\n",
        "recorded observations for all of the same variables as those in our\n",
        "existing data frame, so we can simply append them to our `census_data`\n",
        "data frame. Let’s add these two people to our data set for analysis by\n",
        "appending `extra_census_data` to `census_data`."
      ],
      "id": "0ca94f93-1919-456a-b177-ef4e44ff0d0f"
    },
    {
      "cell_type": "code",
      "execution_count": null,
      "metadata": {},
      "outputs": [],
      "source": [
        "extra_census_data <- data.frame(ppsort = c(867543, 923845), agegrp = c(\"20 to 24 years\", \"35 to 39 years\"), \n",
        "                                ageimm = c(\"5 to 9 years\", \"0 to 4 years\"), cip2011 = c(\"01 education\", \"01 education\"),\n",
        "                                fol = c(\"english only\", \"french only\"), hdgree = c(\"bachelor's degree\", \"bachelor's degree\"),\n",
        "                                immstat = c(\"non-immigrants\", \"immigrants\"), kol = c(\"english only\", \"french only\"),\n",
        "                                lfact = c(\"employed - worked in reference week\", \"employed - worked in reference week\"),\n",
        "                                locstud = c(\"ontario\", \"quebec\"), mrkinc = c(20000, 34000), pkids = c(\"none\", \"one or more\"),\n",
        "                                pr = c(\"ontario\", \"quebec\"), sex = c(\"male\", \"female\"), vismin = c(\"chinese\", \"black\"),\n",
        "                                wages = c(15000, 30000), log_wages = c(9.615805, 10.308952), has_kids = c(0, 1),\n",
        "                                retired = c(0, 0), minority = c(1, 1))\n",
        "\n",
        "census_data <- rbind(census_data, extra_census_data)\n",
        "\n",
        "glimpse(census_data)"
      ],
      "id": "1227b802-6109-43b4-b5a9-d7bfc22b4011"
    },
    {
      "cell_type": "markdown",
      "metadata": {},
      "source": [
        "Here we used the function `rbind()` to append these datasets. We did\n",
        "this because we were appending rows to the bottom of the data frame. Our\n",
        "`census_data` data set now has 2 more rows than before, meaning we have\n",
        "successfully appended these two observations to our data frame for\n",
        "analysis.\n",
        "\n",
        "## Merging Datasets\n",
        "\n",
        "Suppose now that we are undergoing research and realize that we would\n",
        "like to include religion in our analysis. However, we don’t have a\n",
        "variable pertaining to it currently in our `census_data` data set.\n",
        "Luckily, we find the data set `more_census_data` which includes a dummy\n",
        "variable for whether the respondent `ppsort` is religious. This variable\n",
        "is coded as `religious` and equals 1 if the person self-identifies as\n",
        "religious and 0 if not."
      ],
      "id": "facd24bd-bbb4-46fd-b34b-60b8d18ae6ba"
    },
    {
      "cell_type": "code",
      "execution_count": null,
      "metadata": {},
      "outputs": [],
      "source": [
        "set.seed(123) #ignore this function!\n",
        "\n",
        "more_census_data <- data.frame(ppsort = census_data$ppsort, religious = sample(0:1, 382278, replace = TRUE))\n",
        "\n",
        "glimpse(more_census_data)"
      ],
      "id": "e0a20af4-4558-4ecd-9672-da7d8fb7ff13"
    },
    {
      "cell_type": "markdown",
      "metadata": {},
      "source": [
        "We can see from glimpsing the above data set that it contains the same\n",
        "number of observations as our `census_data` data set, one observation\n",
        "for each `ppsort` ID. For each `ppsort` ID, there is a corresponding\n",
        "dummy of 0 or 1 indicating whether that person is religious. Since this\n",
        "is a new variable we want to add to our existing data set, we can merge\n",
        "this `more_census_data` into our existing data frame to match up each\n",
        "`religious` entry to its corresponding `ppsort` ID within the larger\n",
        "`census_data` data frame. We can do this with the function `merge()`.\n",
        "This function has the following default form:\n",
        "\n",
        "Merged_Data \\<- merge(data frame A, data frame B, by = “the variable\n",
        "that is common in both data frames”)\n",
        "\n",
        "If the column on which we want to merge our datasets is named\n",
        "differently in the two data frames, we must specify each column name in\n",
        "the by = “” option above."
      ],
      "id": "6a8f62a5-d453-40ec-8422-90878c617e70"
    },
    {
      "cell_type": "code",
      "execution_count": null,
      "metadata": {},
      "outputs": [],
      "source": [
        "census_data <- merge(census_data, more_census_data, by = \"ppsort\")\n",
        "glimpse(census_data)"
      ],
      "id": "839b9c13-103e-40cd-b9bc-cf231f63b18f"
    },
    {
      "cell_type": "markdown",
      "metadata": {},
      "source": [
        "We can now see that our `census_data` data set has an additional\n",
        "variable, `religious`, with data for each person. This was an example of\n",
        "a simple 1:1 (one-to-one) merge since there was a perfect match between\n",
        "the number of observations in both datasets. In this way, there were no\n",
        "extra observations in either. However, this will not often be the case.\n",
        "\n",
        "Suppose we only had half of the `ppsort` IDs in our `more_census_data`\n",
        "data frame. When merging, we could have then chosen to create our merged\n",
        "data frame with ONLY those `ppsort` who can find a “match” in both\n",
        "datasets. We could do this with the `left_join()` or `right_join()`\n",
        "functions, using the former if our first specified data set was\n",
        "`census_data` and the latter if our second specified data set was\n",
        "`census_data` within the brackets of the function. If we instead had\n",
        "some observations in each data set which did not have a match (the\n",
        "`ppsort` ID did not match) and we didn’t want to lose these\n",
        "observations, we could use the `full_join()` option to retain all\n",
        "observations within both datasets in our final dataframe.\n",
        "\n",
        "Finally, if we wanted only those observations which had matching\n",
        "`ppsort` IDs across both datasets, we could use the `inner_join()`\n",
        "function, returning us a smaller dataset. This is implicitly what we did\n",
        "in our merge above; however, since all observations in both datasets\n",
        "matched on `ppsort`, we didn’t lose anything. For a helpful\n",
        "clarification of these commands, check out the help menu for these\n",
        "specific merges below!"
      ],
      "id": "acfb6f89-a784-41f1-9c7c-5b5c7ee14133"
    },
    {
      "cell_type": "code",
      "execution_count": null,
      "metadata": {},
      "outputs": [],
      "source": [
        "?inner_join"
      ],
      "id": "3b149682-379f-42d6-a609-b9f21fe53f57"
    },
    {
      "cell_type": "markdown",
      "metadata": {},
      "source": [
        "## Exercise: Combining Dataframes\n",
        "\n",
        "Create an object `A` which is a data frame with two columns and two\n",
        "rows. The first column should be called `ID` and have values 1 and 2,\n",
        "while the second column should be called `value1` and have values 10 and\n",
        "11.\n",
        "\n",
        "Then create a second object named `B` which is a dataframe with two\n",
        "columns and two rows. The first column should be called ID and perfectly\n",
        "match the IDs in `A`, while the second column should be called `value2`\n",
        "and have values 12 and 13. Finally, merge these two data frames along\n",
        "the ID column and store in the object `answer4`."
      ],
      "id": "bbc3eeed-0226-48d8-8f0b-59380105da65"
    },
    {
      "cell_type": "code",
      "execution_count": null,
      "metadata": {},
      "outputs": [],
      "source": [
        "# your code here\n",
        "\n",
        "answer4 <- ... # fill me in!\n",
        "\n",
        "test_4()"
      ],
      "id": "ffd80a28-2d06-4a45-ad51-89ef2dbe1bf2"
    },
    {
      "cell_type": "markdown",
      "metadata": {},
      "source": [
        "## Selecting and Filtering Data\n",
        "\n",
        "Oftentimes we have more data at our disposal than we actually need to\n",
        "answer the question at hand. Because the process of data collection is\n",
        "so resource-intensive, surveyors and researchers attempt to collect as\n",
        "much data as possible from each individual that is surveyed. This\n",
        "massive amount of data allows many research questions to be explored,\n",
        "even ones that weren’t intended from the surveyors to begin with. The\n",
        "Canadian census is a great example of this.\n",
        "\n",
        "Let’s assume we are interested in determining the gender pay gap for\n",
        "residents in British Columbia. Our current 2016 census dataset\n",
        "encompasses a whole host of data from nearly all residents in Canada and\n",
        "contains variables such as their age group, education level, income,\n",
        "minority status, etc. To help us with our analysis, we need to filter\n",
        "the census data only for residents in British Columbia. As mentioned\n",
        "above, the `filter()` method is used to conditionally drop rows. In our\n",
        "case, we can use the filter function to go through each observation in\n",
        "the data frame and check to see whether the province `pr` is coded as\n",
        "“british columbia”, then drop all observations for which this is not the\n",
        "case.\n",
        "\n",
        "> **Note**: we’ve seen this before, but to check equivalency in R and\n",
        "> most programming languages, you need to use `==` as opposed to `=`."
      ],
      "id": "6267f29a-fdf5-4d2d-8461-d7291d732bea"
    },
    {
      "cell_type": "code",
      "execution_count": null,
      "metadata": {},
      "outputs": [],
      "source": [
        "census_data <- census_data %>%\n",
        "    filter(pr == \"british columbia\")\n",
        "\n",
        "glimpse(census_data)"
      ],
      "id": "613e0c1e-9f4e-4cc3-a504-ac2b82e4d49e"
    },
    {
      "cell_type": "markdown",
      "metadata": {},
      "source": [
        "Sometimes we want to drop variables (columns) instead of observations\n",
        "(rows). The `select` method in R allows us to do this. We pass as\n",
        "parameters to the `select` function every column we wish to keep.\n",
        "\n",
        "-   `select(variables, I, want, to, keep)`\n",
        "-   `select(-variables, -I, -don't, -want)`\n",
        "\n",
        "This is very useful and is usually done for practical reasons such as\n",
        "memory. Cleaning data sets to remove unessential information also allows\n",
        "us to focus our analysis and makes it easier to answer our desired\n",
        "research question. In our specific case, we want to keep data on just\n",
        "wages and sex. We will use the select function for this."
      ],
      "id": "dc82316a-5f0c-4861-a829-fe1db0da1f24"
    },
    {
      "cell_type": "code",
      "execution_count": null,
      "metadata": {},
      "outputs": [],
      "source": [
        "head(census_data %>% select(wages, sex))"
      ],
      "id": "0d2e81d3-fb89-4841-af5e-c9a2ed2b3806"
    },
    {
      "cell_type": "markdown",
      "metadata": {},
      "source": [
        "As seen above, this function allows us to look at the relationship\n",
        "between sex and wages more directly in our raw data. To finish finding\n",
        "the wage gap among British Columbians (keep in mind we have filtered out\n",
        "those who do not fit pr == “british columbia”), we can then invoke the\n",
        "`group_by()` and `summarize()` functions we have learned in past\n",
        "notebooks."
      ],
      "id": "17d5cc98-2e0b-4505-9eb2-6602777a47c5"
    },
    {
      "cell_type": "code",
      "execution_count": null,
      "metadata": {},
      "outputs": [],
      "source": [
        "# creating our more focused dataframe\n",
        "answer <- census_data %>%\n",
        "    mutate(sex = as_factor(sex)) %>% \n",
        "    filter(wages != \"NA\") %>%     \n",
        "    group_by(sex) %>%\n",
        "    summarize(average_wage = mean(wages))\n",
        "\n",
        "answer"
      ],
      "id": "ed5b167b-8328-4bab-9038-7e4fb2529430"
    },
    {
      "cell_type": "markdown",
      "metadata": {},
      "source": [
        "Using the `group_by` and `summarize` tools we learned in previous\n",
        "lessons has allowed us to address our research question. We find that\n",
        "the gender pay gap between male and female British Columbians is roughly\n",
        "\\$23,000.\n",
        "\n",
        "> **🔎 **Let’s think critically****\n",
        ">\n",
        "> > 🟠 The place name “British Columbia” was invented when this region\n",
        "> > became an official province of the larger colonial project of\n",
        "> > “Canada” in 1871. This name, [having roots in European conquest\n",
        "> > *(British)* and the Spanish “explorer” Columbus\n",
        "> > *(Columbia)*](https://thewalrus.ca/rename-british-columbia/), has\n",
        "> > only been used to refer to this region for around 150 years. For\n",
        "> > thousands of years before then, this region was known by many other\n",
        "> > names in many different languages by over 200 unique First Nations,\n",
        "> > each with their own distinct lifeways and traditions. If you are not\n",
        "> > Indigenous to the place you are currently located, we invite you to\n",
        "> > reflect on the following:  \n",
        "> > 🟠 Where are you currently situated right now? You can use [this\n",
        "> > interactive map](https://native-land.ca/) to see what Indigenous\n",
        "> > lands you are on.\n",
        "> >\n",
        "> > 🟠 The place names reflected in the 2016 Canadian census data\n",
        "> > reflect a particular, politically-involved way of organizing and\n",
        "> > understanding space and consequently enable particular kinds of\n",
        "> > economic research questions (ie, how does average income in BC\n",
        "> > compare to average income in Alberta?) What kinds of questions can\n",
        "> > the Canadian census data *not* answer?  \n",
        "> > 🟠 What kinds of economic research questions might we be able to\n",
        "> > form if given population data that was spatially arranged in a\n",
        "> > fashion resembling the [Native Land Digital\n",
        "> > Map?](https://native-land.ca/)  \n",
        "> > 🟠 If you are located in what is currently referred to as “British\n",
        "> > Columbia”, how can you learn about economic practices that are local\n",
        "> > to this area? The province of BC’s [Indigenous Economic Development\n",
        "> > website](https://www2.gov.bc.ca/gov/content/employment-business/economic-development/bc-ideas-exchange/success-stories/indigenous-economic-development)\n",
        "> > has a list of just *some* of the ways that local Indigenous groups\n",
        "> > are applying their own economic traditions today.\n",
        "\n",
        "## Exercise: Using Select and Filter\n",
        "\n",
        "Use `census_data` to create a data frame which only shows the highest\n",
        "education level `hdegree` for British Columbians with 100,000 CAD or\n",
        "more in wages. Your data frame should have a single column with the name\n",
        "as `hdegree`. Store your answer in the object `answer5`."
      ],
      "id": "9ec6d932-92f4-49d0-a4c0-cdd0dbf47dcd"
    },
    {
      "cell_type": "code",
      "execution_count": null,
      "metadata": {},
      "outputs": [],
      "source": [
        "answer5 <-\n",
        "\n",
        "test_5()"
      ],
      "id": "84b789a1-528a-4d84-afc8-fa5b432fb121"
    },
    {
      "cell_type": "markdown",
      "metadata": {},
      "source": [
        "# Conclusion\n",
        "\n",
        "In this notebook, we have covered the basic process of working with\n",
        "data. You should now be familiar with how to load in data, how to define\n",
        "and redefine variables, how to drop missing observations, how to add in\n",
        "new data and drop existing data to meet your research purposes. This\n",
        "general scheme is critical to any research project, so it is important\n",
        "to keep in mind as you progress throughout your undergraduate economics\n",
        "courses and beyond."
      ],
      "id": "b769ed7d-ce88-432b-af68-60a803e90b75"
    }
  ],
  "nbformat": 4,
  "nbformat_minor": 5,
  "metadata": {
    "kernelspec": {
      "name": "ir",
      "display_name": "R",
      "language": "r"
    }
  }
}