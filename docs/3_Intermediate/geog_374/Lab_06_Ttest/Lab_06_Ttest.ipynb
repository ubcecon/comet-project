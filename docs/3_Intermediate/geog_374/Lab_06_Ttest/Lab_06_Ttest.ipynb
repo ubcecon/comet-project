{
 "cells": [
  {
   "cell_type": "markdown",
   "id": "e3e96389-0ec3-442e-b0b9-25ca341d0e14",
   "metadata": {},
   "source": [
    "# GEOG 374: $t$-test - Determining Differences in Growth Between Cross-Pollinated and Self-Fertilized Plants\n",
    "* **Authors**: Hewitt Lab (Micheal Jerowsky and Nina Hewitt) $\\times$ COMET Team (Charlotte White, and Jonathan Graves)\n",
    "* **Last Update**: 9 September 2023\n",
    "\n",
    "\n",
    "This module has a suggested citation of:\n",
    "\n",
    "> Jerowsky, M., Hewitt, N., 2023. _Interactive Notebooks for Statistics and Computation in Geography: Determining Differences in Growth Between Cross-Pollinated and Self-Fertilized Plants_. In Adshade et al. 2023. _The COMET Project: Creating Online Materials for Econometrics Teaching_. https://comet.arts.ubc.ca/.\n"
   ]
  },
  {
   "cell_type": "markdown",
   "id": "52be8c72-44bc-4712-9a81-cfb372e3b2f0",
   "metadata": {},
   "source": [
    "## Outline\n",
    "\n",
    "### Prerequisites\n",
    "\n",
    "* Introduction to Jupyter\n",
    "* Introduction to R\n",
    "* Introduction to Data \n",
    "\n",
    "### Outcomes\n",
    "\n",
    "After completing this notebook, you will be able to:\n",
    "* Explore data to gain a better understanding of its content and structure.\n",
    "* Visualize data using a histogram and boxplot.\n",
    "* Conduct a t-test in R.\n",
    "* Conduct a Mann-Whitney-Wilcoxon test in R.\n",
    "\n",
    "### References\n",
    "\n",
    "* [Illowsky and Dean - Chapter 10: Hypothesis Testing with Two Samples](https://openstax.org/books/introductory-statistics/pages/10-introduction)\n",
    "* [Lane - Chapter 11: Logic of Hypothesis Testing](https://onlinestatbook.com/2/logic_of_hypothesis_testing/logic_hypothesis.html)\n",
    "* [Lane - Chapter 12: Tests of Means](https://onlinestatbook.com/2/tests_of_means/testing_means.html)\n",
    "* [*Cross and Self-Fertilization of Plants*, by Charles Dawin](http://darwin-online.org.uk/converted/published/1876_CrossandSelfFertilisation_F1249/1876_CrossandSelfFertilisation_F1249.html)"
   ]
  },
  {
   "cell_type": "markdown",
   "id": "59a94028-978a-482f-83a9-74bfcc1bb541",
   "metadata": {},
   "source": [
    "## Introduction\n",
    "\n",
    "When many of us think of Charles Darwin, we think of his voyages to the Galapagos Islands and *The Origin of Species* which describes his theory of evolution and natural selection. However, few realize that after he returned from his voyage aboard the HMS Beagle, he would never leave Britain again due to ailing health. Rather, the gardens at Darwin House in the Kentish countryside would become a laboratory for him. He would grow all sorts of exotic specimens that were sent to him by botanists from around the world.\n",
    "    \n",
    "![Darwin House, Photo by Nigel Wallace-Iles, English Heritage](media/darwinhouse.jpg)\n",
    "\n",
    "In this lab, you will conduct a t-test to analyze an experiment conducted by Charles Darwin in which he sought to determine if there was a difference between the growth of cross-pollinated plants and self-fertilized plants. In cross-pollinated plants, the pollen and ovule are from different individuals, whereas in self-fertilized plants, the pollen and ovule are from the same individual. He postulated that cross-pollinated plants would produce fitter offspring when compared to self-fertilized plants. In order to test this, Darwin raised pairs of plants (one self-fertilized and one cross-pollinated) in the same pot, and then measured differences in their heights."
   ]
  },
  {
   "cell_type": "markdown",
   "id": "3e3a88bb-e8c2-40bb-9c0c-31a598a7d66e",
   "metadata": {},
   "source": [
    "## Data\n",
    "We will use the dataset collected by Charles Darwin in his treatise on the cross and self-fertilization of plants, documenting the height of 15 pairs.\n",
    "\n",
    "To begin, let's import our data and save it as a variable called `dat`."
   ]
  },
  {
   "cell_type": "code",
   "execution_count": null,
   "id": "1c6a36ff-9947-469a-abf0-27752ccb2680",
   "metadata": {
    "vscode": {
     "languageId": "r"
    }
   },
   "outputs": [],
   "source": [
    "source(\"Lab_06_tests.r\")\n",
    "\n",
    "dat = read.csv(\"../datasets/Lab_06_darwin.csv\")"
   ]
  },
  {
   "cell_type": "markdown",
   "id": "95aff0e8-d887-4ba5-904f-54244ea9f094",
   "metadata": {},
   "source": [
    "This data contains values for:\n",
    "* **Fertilization**: Treatment condition 1 refers to cross-pollination, and treatment condition 2 refers to self-fertilization.\n",
    "\n",
    "* **Plant**: The specific plant pairing.\n",
    "\n",
    "* **Height**: The height of the plant in cm."
   ]
  },
  {
   "cell_type": "markdown",
   "id": "45a5a8de-def4-43ee-907a-afa6c927267d",
   "metadata": {
    "tags": []
   },
   "source": [
    "## Part 1: Key Concepts"
   ]
  },
  {
   "cell_type": "markdown",
   "id": "ce80e020-a9b6-4ea0-8901-bb4875246c23",
   "metadata": {
    "tags": []
   },
   "source": [
    "### Two Sample T-tests\n",
    "\n",
    "A two sample t-test is a form of hypothesis test that is used to determine if two groups are significantly different from each other by comparing the means of those groups. However, there are some basic assumptions that must be fulfilled before using this hypothesis test:\n",
    "* The populations from which the sample groups are taken are assumed to be normal.\n",
    "* Samples are randomly selected and independent.\n",
    "* The samples are assumed to have equal standard deviations (or variances). If this is not the case, we can conduct a t-test for unequal variances (Welch's t-test). \n",
    "\n",
    ">**Example:** An education researcher would like to compare the knowledge gains from students' environmental education in two different grade 6 classes that use different approaches to teaching. One class takes students on a field trip to a local park, while the second class goes on a virtual field trip of the same park. The dependent variable is the grade students receive on a knowledge test at the end of the field trip, and the independent variable is the type of field trip they participated in. As the researcher is comparing the means of these two different groups, they will use a two sample t-test.\n",
    "\n",
    "When conducting a t-test, a researcher is interested in determining if the test statistic exceeds the critical values of the test. The null hypothesis for such a test can be written as follows: $Ho: \\mu_1 - \\mu_2 = 0$ \n",
    "\n",
    "However, the alternate hypothesis for such a test will depend on whether it is a two-tailed or one-tailed test.\n",
    "\n",
    "A two-tailed test simply looks to see if there is a difference between the means at all. Looking at the distribution of sample differences, we would seek to see if our computed test statistic lay past the critical value at either end of the distribution. In such a case, the critical value would be associated with an $\\alpha/2$:\n",
    "\n",
    "![Two-tail t-test](media/twotail.jpg)\n",
    "\n",
    "A one-tailed test looks to see if there is a difference between means at one end of the distribution. This would be used if the question being asked assumed that the mean of one sample was higher or lower than the other. We would look to see if our computed test statistic lay past the critical value at one end of the distribution. In such a case, the critical value would be associated with the full $\\alpha$ value.\n",
    "\n",
    "![One-tail t-test](media/onetail.jpg)\n",
    "\n",
    "The alternate hypothesis can be written as follows depending on the type of test being conducted:\n",
    "\n",
    "* Two-tailed Test: $Ha: \\mu_1 - \\mu_2 \\neq 0 $\n",
    "* Left-tailed Test: $Ha: \\mu_1 - \\mu_2 < 0 $\n",
    "* Right-tailed Test: $Ha: \\mu_1 - \\mu_2 > 0 $\n",
    "\n",
    "If our computed t-statistic is within the critical region for our test, then we have found a statistically significant result. We can reject our null hypothesis, and the two groups are different from one another based on our chosen alpha level. In the case of conducting a t-test in r, if the p-value is below an assumed $\\alpha$, we can also reject our null hypothesis.\n",
    "\n",
    "In r, the function for t-test is `t.test(y~x,data=dataset, var.equal=TRUE)` where\n",
    "* `y`= numeric variable\n",
    "* `x`= treatment group\n",
    "* `dataset`should be replaced with the name of the variable storing your data.\n",
    "* You can use the `var.equal = TRUE` option to specify equal variances and a pooled variance estimate, or remove it if you believe variances to be unequal. \n",
    "* You can use the `alternative=\"less\"` or `alternative=\"greater\"` option to specify a one tailed test if desired.\n",
    "\n",
    "### Mann-Whitney-Wilcoxon Test\n",
    "A t-test, however, is not appropriate in every case. T-tests are based on assumptions about the larger population that the samples have been drawn from. In this way, t-tests are **parametric tests**. As specified above, our dataset must therefore fulfill a number of basic assumptions in order for us to conduct a t-test. But what can be done if our dataset does not meet all of these assumptions? \n",
    "\n",
    "The Mann-Whitney-Wilcoxon test is a **nonparametric statistical test** used to compare two independent samples of ordinal or continuous data. It assesses whether there is a significant difference between the medians of the two groups by ranking all the observations in the combined sample and then comparing the sum of ranks for each group. It is an alternative to the two-sample t-test when normality and equal variances assumptions are violated, or when the sample size is small.\n",
    "\n",
    "It is important to note that the Mann-Whitney-Wilcoxon test only tests for a difference in the median values of the two groups. Additionally, it assumes that the two samples are independent and randomly sampled."
   ]
  },
  {
   "cell_type": "markdown",
   "id": "835499ce-0924-4739-a234-65450c980a5a",
   "metadata": {},
   "source": [
    "## Part 2: Lab Exercises\n",
    "### Exercise 1: Data Exploration and Visualization\n",
    "First we will explore the data collected by Darwin to ensure that it meets the prerequisites for a t-test. \n",
    "\n",
    "**A)** Investigate the dataframe using `head` and `tail` to view its structure, headings, and the total number of records. Then look at the overall structure of your data."
   ]
  },
  {
   "cell_type": "code",
   "execution_count": null,
   "id": "851b46a3-b376-4d64-8cb4-f6d61ee3981a",
   "metadata": {
    "vscode": {
     "languageId": "r"
    }
   },
   "outputs": [],
   "source": [
    "head(dat) # look at the first few entries\n",
    "tail(dat) # look at the last few entries\n",
    "str(dat)  # look at the overall structure"
   ]
  },
  {
   "cell_type": "markdown",
   "id": "c035a05d-8762-4daa-8e48-254881d3aa18",
   "metadata": {},
   "source": [
    "**B)**  Next, create two variables (`Fertil.1` and `Fertil.2`) to hold the observations for cross-pollinated and self-fertilized plants."
   ]
  },
  {
   "cell_type": "code",
   "execution_count": null,
   "id": "8217686f-a7e8-4de0-a2cf-5abb02515eaf",
   "metadata": {
    "vscode": {
     "languageId": "r"
    }
   },
   "outputs": [],
   "source": [
    "Fertil.1 = dat$height_cm[dat$Fertil==1]  \n",
    "Fertil.2 = dat$height_cm[dat$Fertil==2]"
   ]
  },
  {
   "cell_type": "markdown",
   "id": "4165f99c-fce5-440b-acdf-d919de576083",
   "metadata": {},
   "source": [
    "**Question 1:** How many records are in this dataset?"
   ]
  },
  {
   "cell_type": "code",
   "execution_count": null,
   "id": "cbab0eb7-ce3c-41b7-95ba-d684513fa33b",
   "metadata": {
    "vscode": {
     "languageId": "r"
    }
   },
   "outputs": [],
   "source": [
    "answer_1 <- # your answer here\n",
    "\n",
    "test_1()"
   ]
  },
  {
   "cell_type": "markdown",
   "id": "551fd4c3-ac60-445a-a1a6-577b93845806",
   "metadata": {},
   "source": [
    "**C)** Create histograms for each treatment group to visualize the distribution of plant height. You will need to create classes to visualize your data by using the `seq()` function, storing this as a variable called `bins`. Make sure to label your histograms."
   ]
  },
  {
   "cell_type": "code",
   "execution_count": null,
   "id": "70b9df47-1878-4ab5-8543-45c752a319aa",
   "metadata": {
    "vscode": {
     "languageId": "r"
    }
   },
   "outputs": [],
   "source": [
    "bins = seq(30, 60, 6) # create classes for your histograms\n",
    "\n",
    "par(mfrow=c(1,2))                # create a matrix of plots to hold two plots in the same output               \n",
    "hist(Fertil.1,                   # create a histogram for treatment group 1\n",
    "     breaks=bins,                # reference your class breaks\n",
    "     xlab = \"Plant Height (cm)\", # title your x axis\n",
    "     main=\"\",                    # give your histogram a descriptive title\n",
    "     col = \"light green\")        # color your histogram\n",
    "hist(Fertil.2,                   # create a histogram for treatment group 2\n",
    "     breaks=bins,                # reference your class breaks \n",
    "     xlab = \"Plant Height (cm)\", # title your x axis\n",
    "     main=\"\",                    # create a histogram for treatment group 2\n",
    "     col = \"purple\")             # color your histogram "
   ]
  },
  {
   "cell_type": "markdown",
   "id": "8d35846b-5a42-408e-a973-25ae54fcec84",
   "metadata": {},
   "source": [
    "**D)** Use the `fivenum` function to calculate quartiles for `Fertil.1` and `Fertil.2` that will help you describe your data."
   ]
  },
  {
   "cell_type": "code",
   "execution_count": null,
   "id": "61c260aa-0898-47ca-9c64-6616e226aee2",
   "metadata": {
    "vscode": {
     "languageId": "r"
    }
   },
   "outputs": [],
   "source": [
    "fivenum(Fertil.1)\n",
    "fivenum(Fertil.2)"
   ]
  },
  {
   "cell_type": "markdown",
   "id": "ad02a788-452c-4d2d-949f-4a64ea439a54",
   "metadata": {},
   "source": [
    "**Question 2:** What is the range of the self-fertilized group? Please include 2 decimal places in your answer."
   ]
  },
  {
   "cell_type": "code",
   "execution_count": null,
   "id": "5ddf01ec-f5bf-49cc-abb5-fe5af4d3e620",
   "metadata": {
    "vscode": {
     "languageId": "r"
    }
   },
   "outputs": [],
   "source": [
    "answer_2 <- # your answer here\n",
    "\n",
    "test_2()"
   ]
  },
  {
   "cell_type": "markdown",
   "id": "21b2cfb4-ce59-446a-99e3-3fcc09d2394e",
   "metadata": {},
   "source": [
    "**Question 3:** What is the median value for the cross-pollinated group?"
   ]
  },
  {
   "cell_type": "code",
   "execution_count": null,
   "id": "cf10b0c0-5f2c-4833-92a8-27df7209fe56",
   "metadata": {
    "vscode": {
     "languageId": "r"
    }
   },
   "outputs": [],
   "source": [
    "answer_3 <- # your answer here\n",
    "\n",
    "test_3()"
   ]
  },
  {
   "cell_type": "markdown",
   "id": "d69a14ae-87ac-404e-ab74-d5311e9768cd",
   "metadata": {},
   "source": [
    "**E)** Another way to visualize and inspect your data is to create a box plot. Use the `boxplot()` function to create a boxplot of each group for comparison. Be sure to add a title to your visual!"
   ]
  },
  {
   "cell_type": "code",
   "execution_count": null,
   "id": "6c9d5094-0d4c-45e2-8556-b7b6964a96f9",
   "metadata": {
    "vscode": {
     "languageId": "r"
    }
   },
   "outputs": [],
   "source": [
    "boxplot(dat$height_cm ~ dat$Fertil,    #create boxplots\n",
    "        xlab=\"Plant Height (cm)\",      # label your x-axis                   \n",
    "        ylab=\"Fertilization Method\",   # label your y-axis\n",
    "        main=\"\",                       # give visual a title\n",
    "        col=c(\"light green\",\"purple\"), # color your boxplots\n",
    "        range = 0,                     # a rang of 0 extends whiskers to the extremes of your data\n",
    "        horizontal=TRUE)               # create a horizontal box plot. The default is vertical."
   ]
  },
  {
   "cell_type": "markdown",
   "id": "8c91d92d-1c58-481f-9272-4dd8610202c2",
   "metadata": {},
   "source": [
    "**Question 4:** Based on the boxplots, what is the approximate interquartile range of treatment group 2? ('A', 'B', 'C', or 'D')\n",
    "\n",
    "A) 32-52\n",
    "\n",
    "B) 41-47\n",
    "\n",
    "C) 50-56\n",
    "\n",
    "D) 35-60"
   ]
  },
  {
   "cell_type": "code",
   "execution_count": null,
   "id": "c432d222-6036-4a42-a2ec-4fbcf09c9fd7",
   "metadata": {
    "vscode": {
     "languageId": "r"
    }
   },
   "outputs": [],
   "source": [
    "answer_4 <- '' # your answer here ('A', 'B', 'C', or 'D')\n",
    "\n",
    "test_4()"
   ]
  },
  {
   "cell_type": "markdown",
   "id": "e4b2b7bc-5e9e-4909-b6a7-ba4ac548208c",
   "metadata": {},
   "source": [
    "**F)** While box plots are good for visualizing basic distributions and comparing summary statistics, they do not let us see variations in the data very well. The violin plot is a hybrid of a box plot and a kernel density plot, which allows us to see peaks in the data and visualize its distribution. Use the code below to create violin plots for the two different fertilization methods."
   ]
  },
  {
   "cell_type": "code",
   "execution_count": null,
   "id": "361b197a-71bd-46b9-ad07-4ef7b6f9303b",
   "metadata": {
    "vscode": {
     "languageId": "r"
    }
   },
   "outputs": [],
   "source": [
    "dat$Fertil <- as.factor(dat$Fertil) # Change the fetilization method variable to a factor which is used for categorical data\n",
    "vp <- ggplot(dat, aes(x=Fertil, y=height_cm, fill=Fertil)) +   # Create a variable 'vp' to hold the violin plot and assign your x and y axis    \n",
    "      geom_violin(trim=FALSE) +   # set the trim argument to FALSE to prevent the ends of your distribution from being cut off\n",
    "      scale_fill_manual(values=c(\"light green\", \"purple\")) +   # set the colors of the violin plots\n",
    "      geom_boxplot(width=0.1, fill=\"white\") + # style the box plot\n",
    "      labs(title=\"Plant height by breeding method\",x=\"Fertilization method\", y = \"Height (cm)\")  # title your plot and axis.\n",
    "vp + coord_flip()   # Flip the violin plots so they are displayed horizontally"
   ]
  },
  {
   "cell_type": "markdown",
   "id": "0b96f57e-c03c-4627-a08a-fbc3d513e2d6",
   "metadata": {},
   "source": [
    "**Question 5:** Are the data normally distributed? ('yes' or 'no')"
   ]
  },
  {
   "cell_type": "code",
   "execution_count": null,
   "id": "dc2d10a1-5d18-4c7d-94e0-1ca38d28d57d",
   "metadata": {
    "vscode": {
     "languageId": "r"
    }
   },
   "outputs": [],
   "source": [
    "answer_5 <- '' # your answer here ('yes' or 'no')\n",
    "\n",
    "test_5()"
   ]
  },
  {
   "cell_type": "markdown",
   "id": "ca281b43-48e7-4623-a357-0bf99c0dc715",
   "metadata": {},
   "source": [
    "**F)** Let's attempt to transform the data to see if it will become normally distributed after logging it. We will use the `mutate()` function to create a new column in our data and populate it by logging the heights of both groups."
   ]
  },
  {
   "cell_type": "code",
   "execution_count": null,
   "id": "50409c81-8805-4f7f-9010-0fdd224b0f66",
   "metadata": {
    "vscode": {
     "languageId": "r"
    }
   },
   "outputs": [],
   "source": [
    "dat = read.csv(\"../datasets/Lab_06_darwin.csv\") %>% # we are reading in our data again and using a piping operator '%>%' to then use the mutate function on it.\n",
    "mutate(height_log=log(height_cm)) # mutate creates a new column called height_log and this is equal to the log of each heigh_cm record."
   ]
  },
  {
   "cell_type": "markdown",
   "id": "d53c7dd3-05fd-43c8-abf3-50604a4e5312",
   "metadata": {},
   "source": [
    "**G)** Create another violin plot with the logged height data to check if it is normally distributed."
   ]
  },
  {
   "cell_type": "code",
   "execution_count": null,
   "id": "fd6f4ca2-d154-42c7-9237-d49eb4601df8",
   "metadata": {
    "vscode": {
     "languageId": "r"
    }
   },
   "outputs": [],
   "source": [
    "dat$Fertil <- as.factor(dat$Fertil) # Change the fetilization method variable to a factor which is used for categorical data\n",
    "vp2 <- ggplot(dat, aes(x=Fertil, y=height_log, fill=Fertil)) +   # Create a variable 'vp' to hold the violin plot and assign your x and y axis    \n",
    "      geom_violin(trim=FALSE) +   # set the trim argument to FALSE to prevent the ends of your distribution from being cut off\n",
    "      scale_fill_manual(values=c(\"light green\", \"purple\")) +   # set the colors of the violin plots\n",
    "      geom_boxplot(width=0.1, fill=\"white\") + # style the box plot\n",
    "      labs(title=\"Plant height by breeding method\",x=\"Fertilization method\", y = \"Height (cm)\")  # title your plot and axis.\n",
    "vp2 + coord_flip()   # Flip the violin plots so they are displayed horizontally"
   ]
  },
  {
   "cell_type": "markdown",
   "id": "79a72a66-b6ae-4930-86f9-4daac763e710",
   "metadata": {},
   "source": [
    "**Question 6:** Are the data normally distributed? ('yes' or 'no')"
   ]
  },
  {
   "cell_type": "code",
   "execution_count": null,
   "id": "be39d62c-3842-43ca-9a2f-1476db823fed",
   "metadata": {
    "vscode": {
     "languageId": "r"
    }
   },
   "outputs": [],
   "source": [
    "answer_6 <- '' # your answer here ('yes' or 'no')\n",
    "\n",
    "test_6()"
   ]
  },
  {
   "cell_type": "markdown",
   "id": "0107067b-07b4-4d69-ad8f-7d910ccc00f7",
   "metadata": {},
   "source": [
    "### Exercise 2: Two-Sample T-test and Mann-Whitney-Wilcoxon Test\n",
    "Now we will investigate whether the heights of cross-pollinated and self-fertilized plants are significantly different."
   ]
  },
  {
   "cell_type": "markdown",
   "id": "3115edbd-2002-42c6-8a2a-b7c60341e60e",
   "metadata": {},
   "source": [
    "**Question 7:** Is a t-test appropriate to determine if there is a significant difference in this case?"
   ]
  },
  {
   "cell_type": "code",
   "execution_count": null,
   "id": "46f74568-48a5-46b2-9d46-23057500d6a5",
   "metadata": {
    "vscode": {
     "languageId": "r"
    }
   },
   "outputs": [],
   "source": [
    "answer_7 <- '' # your answer here ('yes' or 'no')\n",
    "\n",
    "test_7()"
   ]
  },
  {
   "cell_type": "markdown",
   "id": "45b296e3-fcd3-44ad-851a-c47e03e89066",
   "metadata": {},
   "source": [
    "**Question 8:** Explain your answer to question 7."
   ]
  },
  {
   "cell_type": "markdown",
   "id": "94ead186-58d6-4446-9863-fca1e36d3369",
   "metadata": {},
   "source": [
    "<font color=\"red\">Write your answer here</font>"
   ]
  },
  {
   "cell_type": "markdown",
   "id": "8077726e-01d2-4217-b7b1-32d0ce6fd742",
   "metadata": {},
   "source": [
    "**A)** For questions 9-12, assume that the data had been normally distributed. "
   ]
  },
  {
   "cell_type": "markdown",
   "id": "2aace744-32c4-41a5-b6a9-83be9889dc9e",
   "metadata": {},
   "source": [
    "**Question 9:** You have been asked to determine if there is a difference in height between the two fertilization methods. Would you use a one or two-tailed t-test to determine this?\n",
    "\n",
    "A) One-tailed\n",
    "\n",
    "B) Two-tailed"
   ]
  },
  {
   "cell_type": "code",
   "execution_count": null,
   "id": "66d2d869-cb65-44d9-83e4-093e343e8a62",
   "metadata": {
    "vscode": {
     "languageId": "r"
    }
   },
   "outputs": [],
   "source": [
    "answer_9 <- '' # your answer here ('A' or 'B')\n",
    "\n",
    "test_9()"
   ]
  },
  {
   "cell_type": "markdown",
   "id": "a930901b-0658-4905-b081-61b8dc294610",
   "metadata": {},
   "source": [
    "**Question 10:** What is your null hypothesis? ('A', 'B', 'C', or 'D')\n",
    "\n",
    "A) $Ho: \\mu_1 - \\mu_2 \\neq 0$\n",
    "\n",
    "B) $H_0: \\mu = 0$\n",
    "\n",
    "C) $H_0: \\mu_2 - \\mu_1 > 0$\n",
    "\n",
    "D) $Ho: \\mu_1 - \\mu_2 = 0$ "
   ]
  },
  {
   "cell_type": "code",
   "execution_count": null,
   "id": "97ef698b-3cc2-4402-b763-b70b5af60a80",
   "metadata": {
    "vscode": {
     "languageId": "r"
    }
   },
   "outputs": [],
   "source": [
    "answer_10 <- '' # your answer here ('A', 'B', 'C', or 'D')\n",
    "\n",
    "test_10()"
   ]
  },
  {
   "cell_type": "markdown",
   "id": "23596e9c-8544-4808-9414-29709b651c93",
   "metadata": {},
   "source": [
    "**Question 11:** What is your alternative hypothesis? ('A', 'B', 'C', or 'D')\n",
    "\n",
    "A) $Ha: \\mu_1 - \\mu_2 > 0 $\n",
    "\n",
    "B) $Ha: \\mu_1 - \\mu_2 < 0 $\n",
    "\n",
    "C) $Ha: \\mu_1 - \\mu_2 \\neq 0 $\n",
    "\n",
    "D) $Ho: \\mu_1 - \\mu_2 = 0$ "
   ]
  },
  {
   "cell_type": "code",
   "execution_count": null,
   "id": "bed37261-52c1-4dd3-92e3-ef0941203e6b",
   "metadata": {
    "vscode": {
     "languageId": "r"
    }
   },
   "outputs": [],
   "source": [
    "answer_11 <- '' # your answer here ('A', 'B', 'C', or 'D')\n",
    "\n",
    "test_11()"
   ]
  },
  {
   "cell_type": "markdown",
   "id": "9675f595-95cc-4af2-8d44-d30fde63eaac",
   "metadata": {},
   "source": [
    "**B)** Conduct a two sample t-test using the `t.test()` function."
   ]
  },
  {
   "cell_type": "code",
   "execution_count": null,
   "id": "02194190-ceed-41d5-a65e-eb5ef3ecfb35",
   "metadata": {
    "vscode": {
     "languageId": "r"
    }
   },
   "outputs": [],
   "source": [
    "t.test(height_log ~ Fertil, data = dat)"
   ]
  },
  {
   "cell_type": "markdown",
   "id": "cd0171f5-6aec-407d-93e4-2f976c69bfcd",
   "metadata": {},
   "source": [
    "**Question 12:** Can you reject your null hypothesis? ('yes' or 'no')"
   ]
  },
  {
   "cell_type": "code",
   "execution_count": null,
   "id": "49614569-eae6-4408-9cf4-97c9fe529428",
   "metadata": {
    "vscode": {
     "languageId": "r"
    }
   },
   "outputs": [],
   "source": [
    "answer_12 <- '' # your answer here ('yes' or 'no')\n",
    "\n",
    "test_12()"
   ]
  },
  {
   "cell_type": "markdown",
   "id": "5ec6a7fb-02f5-432e-b9ae-2f262ecbf8cd",
   "metadata": {},
   "source": [
    "**C)** As the data was not actually normally distributed, the appropriate response would have been to run a non-parametric test as opposed to a t-test. In this case, we will run a Mann-Whitney-Wilcoxon Test. As this test is for non-normal data, we will not use the logged heights in our test."
   ]
  },
  {
   "cell_type": "code",
   "execution_count": null,
   "id": "b297a512-88d1-4458-8c9e-14b3d4c43c0c",
   "metadata": {
    "vscode": {
     "languageId": "r"
    }
   },
   "outputs": [],
   "source": [
    "wilcox.test(height_cm ~ Fertil, data=dat, exact=FALSE) "
   ]
  },
  {
   "cell_type": "markdown",
   "id": "75a7b567-ae0a-43dc-accb-506d74647df0",
   "metadata": {},
   "source": [
    "**Question 13:** In 2-3 sentences, summarize your findings with regard to fertilization method. Be sure to state your p-value, alpha value, and explain what this means based on the background information provided for this lab."
   ]
  },
  {
   "cell_type": "markdown",
   "id": "6593ac81-6b3d-4795-9d2a-8eea4be8ac0c",
   "metadata": {},
   "source": [
    "<font color=\"red\">Write your answer here</font>"
   ]
  },
  {
   "cell_type": "markdown",
   "id": "fbebddcd-514d-47cf-ac7f-5890e806faf9",
   "metadata": {
    "tags": []
   },
   "source": [
    "**Question 14:** As a researcher, what could you do to improve the chances that your data were normally distributed?"
   ]
  },
  {
   "cell_type": "markdown",
   "id": "b42fde69-1519-4072-82c5-0ecba59cdd64",
   "metadata": {},
   "source": [
    "<font color=\"red\">Write your answer here</font>"
   ]
  }
 ],
 "metadata": {
  "kernelspec": {
   "display_name": "R",
   "language": "R",
   "name": "ir"
  },
  "language_info": {
   "codemirror_mode": "r",
   "file_extension": ".r",
   "mimetype": "text/x-r-source",
   "name": "R",
   "pygments_lexer": "r",
   "version": "4.2.1"
  }
 },
 "nbformat": 4,
 "nbformat_minor": 5
}
