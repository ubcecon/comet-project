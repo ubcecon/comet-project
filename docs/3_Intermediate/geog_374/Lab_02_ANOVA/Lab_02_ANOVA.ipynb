{
 "cells": [
  {
   "cell_type": "markdown",
   "id": "e3e96389-0ec3-442e-b0b9-25ca341d0e14",
   "metadata": {},
   "source": [
    "# GEOG 374: ANOVA - Nesting Tree Characteristics of the Northern Spotted Owl\n",
    "* **Authors**:  Hewitt Lab (Kevin Pierce, Nina Hewitt and Micheal Jerowsky) $\\times$ COMET Team (Charlotte White, and Jonathan Graves)\n",
    "* **Last Update**: 9 September 2023\n",
    "\n",
    "This module has a suggested citation of:\n",
    "\n",
    "> Pierce, K., Hewitt, N., Jerowsky, M., 2023. _Interactive Notebooks for Statistics and Computation in Geography: Nesting Tree Characteristics of the Northern Spotted Owl_. In Adshade et al. 2023. _The COMET Project: Creating Online Materials for Econometrics Teaching_. https://comet.arts.ubc.ca/.\n"
   ]
  },
  {
   "cell_type": "markdown",
   "id": "52be8c72-44bc-4712-9a81-cfb372e3b2f0",
   "metadata": {},
   "source": [
    "## Outline\n",
    "\n",
    "### Prerequisites\n",
    "\n",
    "* Introduction to Jupyter\n",
    "* Introduction to R\n",
    "* Introduction to Data\n",
    "\n",
    "### Outcomes\n",
    "\n",
    "After completing this notebook, you will be able to:\n",
    "* Explore data to gain a better understanding of its content and structure.\n",
    "* Determine unique values of data, common values, and calculate the coefficient of variation.\n",
    "* Visualize data using a boxplot.\n",
    "* Conduct an analysis of variance (ANOVA) and post-hoc Tukey test.\n",
    "\n",
    "### References\n",
    "\n",
    "* [Illowsky and Dean - Chapter 13: ANOVA](https://openstax.org/books/introductory-statistics/pages/13-introduction)\n",
    "* [Lane - Chapter 16: Log Transformations](https://onlinestatbook.com/2/transformations/log.html)"
   ]
  },
  {
   "cell_type": "markdown",
   "id": "59a94028-978a-482f-83a9-74bfcc1bb541",
   "metadata": {},
   "source": [
    "## Introduction\n",
    "In this lab, we will apply descriptive statistics, analysis of variance (ANOVA), and the Tukey post-hoc test to determine the types of trees that northern spotted owls prefer for nesting.\n",
    "\n",
    "The northern spotted owl is under extreme pressure in British Columbia due to forestry activities and competition from the barred owl, which only recently migrated to the area. Only [six wild owls](https://www.cbc.ca/news/canada/british-columbia/spotted-owl-protections-bc-new-chick-breeding-program-1.5131548) have been confirmed to remain in BC, located exclusively within old growth forest in the lower Fraser Basin. This is thought to represent a decline of around 99\\% from their precolonial numbers.\n",
    "The BC government is attempting to protect remaining owl habitat and increase owl numbers through a [captive breeding and release program](https://www2.gov.bc.ca/gov/content/environment/plants-animals-ecosystems/species-ecosystems-at-risk/implementation/conservation-projects-partnerships/northern-spotted-owl).\n",
    "\n",
    "The image below shows northern spotted owls (2 adults and 3 juveniles) in two different types of nests. The left panel is a \"top cavity\" nest, while the right panel is a \"platform\" nest.\n",
    "\n",
    "![Spotted Owl with juveniles in a top cavity nest (Credit Jared Hobbs)](media/nest.png)\n",
    "\n",
    "The number of owls in Washington, Oregon, and California is much higher than in BC. In these regions, the owls are considered threatened (as the population is low and decreasing), but not endangered. To identify potential northern spotted owl habitat for protection from harvesting or barred owl colonization, it is necessary to characterize the features of ideal nesting trees for northern spotted owls."
   ]
  },
  {
   "cell_type": "markdown",
   "id": "3e3a88bb-e8c2-40bb-9c0c-31a598a7d66e",
   "metadata": {},
   "source": [
    "## Data\n",
    "We will use a dataset that includes characteristics of nearly 2000 spotted owl nesting trees in Oregon, Washington, and California. \n",
    "\n",
    "To begin, let's import our data and save it as a variable called `df`."
   ]
  },
  {
   "cell_type": "code",
   "execution_count": null,
   "id": "1c6a36ff-9947-469a-abf0-27752ccb2680",
   "metadata": {
    "vscode": {
     "languageId": "r"
    }
   },
   "outputs": [],
   "source": [
    "source(\"lab_02_tests.r\")\n",
    "\n",
    "df = read.csv('../datasets/Lab_02_nestingTrees.csv')"
   ]
  },
  {
   "cell_type": "markdown",
   "id": "95aff0e8-d887-4ba5-904f-54244ea9f094",
   "metadata": {},
   "source": [
    "These data contain values for:\n",
    "* **Site**: The location where the nest was observed. \"Olympic\" -- Olympic Peninsula, \"Interior\" -- within the rain shadow of the Cascade mountain range, \"CoastN\" -- Northern coast of Wa. and Northern Or., and \"Coast S\" -- Southern coast of Southern Or. and Northern Ca. \n",
    "\n",
    "* **Nest**: The type of nest. \"TopCavity\" -- a nest within the hollowed out cavity at the top of a broken tree, \"SideCavity\" -- a nest within a cavity on the side of a tree, and \"Platform\" -- a nest perched on the limbs of a tree.\n",
    "\n",
    "* **DBH**: The diameter at breast height of the nesting tree in *centimeters*.\n",
    "\n",
    "* **Ht**: The height of the nesting tree in *meters*.\n",
    "\n",
    "* **Stage**: The life stage of a tree on a scale between 1 and 7. Values of 1-2 represent living trees while 3-7 represent dead trees in progressive decay. The image below indicates the meaning of `Stage`. For Douglas-fir and western red cedar trees, stage 2 often represents trees of order of 500-1000 years old.\n",
    "\n",
    "![Decay stages of trees (Credit Plos ONE)](media/treedecay.png)"
   ]
  },
  {
   "cell_type": "markdown",
   "id": "45a5a8de-def4-43ee-907a-afa6c927267d",
   "metadata": {
    "tags": []
   },
   "source": [
    "## Part 1: Key Concepts"
   ]
  },
  {
   "cell_type": "markdown",
   "id": "ce80e020-a9b6-4ea0-8901-bb4875246c23",
   "metadata": {
    "tags": []
   },
   "source": [
    "### One-Way Analysis of Variance (ANOVA)\n",
    "\n",
    "A **one-way ANOVA** is used to determine if there is a statistically significant difference between three or more groups. This statistical test looks at the overall variability of data values in order to compare the equality of means. However, there are some basic assumptions that must be fulfilled before using this hypothesis test:\n",
    "* The populations from which the sample groups are taken are assumed to be normal.\n",
    "* Samples are randomly selected and independent.\n",
    "* The populations are assumed to have equal standard deviations (or variances).\n",
    "\n",
    ">**Example:** A researcher is interested in different approaches to weight loss and would like to determine if there is a difference between three different diets (ketogenic, low-carb and paleo). In order to test this, they randomly assign a group of 60 people to the three diets of interest and track their overall weight loss over a six-month period. The dependent variable is weight loss in this study, and the independent variable is diet type. The null hypothesis is that there is no difference between means of the three diet groups, and the alternative hypothesis is that there is a difference between at least two groups in the study. So long as the three fundamental assumptions listed above are met, a one-way ANOVA would be appropriate to use in this case. \n",
    "\n",
    "ANOVA is used to test general, rather than specific differences between means. That is, it tests if a difference exists between groups, but cannot tell us *which* pairs of groups have differences between them. As such, the null hypothesis is: $Ho: \\mu_1 = \\mu_2 = \\mu_3$. Meanwhile, the alternative hypothesis is: $Ha: \\mu_i \\neq \\mu_j$ for some $i \\neq j$.\n",
    "\n",
    "The test is conducted by computing an F-statistic and comparing it against a critical value determined using the F-distribution. The F-statistic is a ratio of the mean square variance between groups and within groups: \n",
    "\n",
    "$F = \\frac{MS_{between}}{MS_{within}}$\n",
    "\n",
    "If there is no difference between the groups being tested, then the between-group variance and the within-group variance will be roughly equal and thus a value close to 1 would be expected. For an explanation of how to compute this test statistic by hand, please consult [this resource by openstax](https://openstax.org/books/introductory-statistics/pages/13-2-the-f-distribution-and-the-f-ratio).\n",
    "\n",
    "The F-distribution is a family of curves based on the degrees of freedom (df) of the variance of the numerator, and the df of the denominator:\n",
    "\n",
    "![F-Distribution (Credit openstax](media/f_dist.png)\n",
    "\n",
    "The distribution has some key properties:\n",
    "* The curve is skewed to the right.\n",
    "* There is a different curve for each set of dfs.\n",
    "* The F-statistic is always greater than or equal to zero.\n",
    "* As the degrees of freedom for the numerator and for the denominator get larger, the curve approximates the normal.\n",
    "\n",
    "If your computed F-statistic is greater than the F-critical value determined from the F-distribution table, then you have found a statistically significant result and at least one group differs significantly from another group based on your chosen alpha level. We will be conducting ANOVA using r and the F-statistic will be calculated along with a p-value associated with it. In the case of conducting an ANOVA in r, if the p-value is below an assumed $\\alpha$ of .05, you can reject your null hypothesis. However, if you are conducting a one-way ANOVA by hand, please consult an \n",
    "[F-distribution table](https://www.itl.nist.gov/div898/handbook/eda/section3/eda3673.htm) to determine your critical value.\n",
    "\n",
    "In r, the function for ANOVA is `aov(y~x,data=dataset)` where\n",
    "* `y`=independent variable\n",
    "* `x`=dependent variable\n",
    "* `dataset`should be replaced with the name of the variable storing your data.\n",
    "\n",
    "Store your ANOVA as a variable, and summarize it using the `summary()` function."
   ]
  },
  {
   "cell_type": "markdown",
   "id": "53e72819-de9e-478b-ad5d-1172a4b4fbd2",
   "metadata": {},
   "source": [
    "### Post-hoc Tukey Test\n",
    "\n",
    "**Tukey's Honest Significant Difference** (HSD) test is a post-hoc test that is commonly used to determine differences between pairs of group means following an ANOVA. As discussed, ANOVA does not determine which groups a significant difference exists between. The Tukey test is used to determine this through pairwise comparisons.\n",
    "\n",
    "In r, you can conduct a post-hoc Tukey test using the `TukeyHSD()` function, referencing the variable you saved your ANOVA as.\n",
    "\n",
    "To analyze its output, assume an $\\alpha$ of .05. If the p-value associated with each pairwise comparison is below .05, a statistically significant difference exists between those two groups."
   ]
  },
  {
   "cell_type": "markdown",
   "id": "835499ce-0924-4739-a234-65450c980a5a",
   "metadata": {},
   "source": [
    "## Part 2: Lab Exercises\n",
    "### Exercise 1: Descriptive Statistics\n",
    "First we will compute descriptive statistics to determine which species of tree northern spotted owls prefer to nest in.\n",
    "\n",
    "**A)** Investigate the dataframe using `head` and `tail` to view its structure, headings, and the total number of records."
   ]
  },
  {
   "cell_type": "code",
   "execution_count": null,
   "id": "851b46a3-b376-4d64-8cb4-f6d61ee3981a",
   "metadata": {
    "vscode": {
     "languageId": "r"
    }
   },
   "outputs": [],
   "source": [
    "head(df)\n",
    "tail(df)"
   ]
  },
  {
   "cell_type": "markdown",
   "id": "4165f99c-fce5-440b-acdf-d919de576083",
   "metadata": {},
   "source": [
    "**Question 1:** How many records are in this data set?"
   ]
  },
  {
   "cell_type": "code",
   "execution_count": null,
   "id": "cbab0eb7-ce3c-41b7-95ba-d684513fa33b",
   "metadata": {
    "vscode": {
     "languageId": "r"
    }
   },
   "outputs": [],
   "source": [
    "answer_1 <- # your answer here\n",
    "\n",
    "test_1()"
   ]
  },
  {
   "cell_type": "markdown",
   "id": "551fd4c3-ac60-445a-a1a6-577b93845806",
   "metadata": {},
   "source": [
    "**B)** You can find the unique tree species using the function `unique` after selecting the `Tree` column from `df`."
   ]
  },
  {
   "cell_type": "code",
   "execution_count": null,
   "id": "70b9df47-1878-4ab5-8543-45c752a319aa",
   "metadata": {
    "vscode": {
     "languageId": "r"
    }
   },
   "outputs": [],
   "source": [
    "species = unique(df$Tree)\n",
    "species"
   ]
  },
  {
   "cell_type": "markdown",
   "id": "4c8b3834-ec7a-4ea1-adb2-1b90eba4f08b",
   "metadata": {},
   "source": [
    "**Question 2:** How many unique species of trees are there?"
   ]
  },
  {
   "cell_type": "code",
   "execution_count": null,
   "id": "60964422-00ca-4209-a171-9ff97af304fb",
   "metadata": {
    "vscode": {
     "languageId": "r"
    }
   },
   "outputs": [],
   "source": [
    "answer_2 <- # your answer here\n",
    "\n",
    "test_2()"
   ]
  },
  {
   "cell_type": "markdown",
   "id": "d69a14ae-87ac-404e-ab74-d5311e9768cd",
   "metadata": {},
   "source": [
    "**C)** Determine the most common tree species for owls to nest in. Assign this species to a variable called `commonTree`, and then calculate the percentage of all nests that are in this tree species. Assign this percentage to a variable called `percentTree`. You can apply the function `table(x)` to count unique occurrences in a vector `x`. You can drop the `name` attribute from a table `T` with `unname(T)`."
   ]
  },
  {
   "cell_type": "code",
   "execution_count": null,
   "id": "6c9d5094-0d4c-45e2-8556-b7b6964a96f9",
   "metadata": {
    "vscode": {
     "languageId": "r"
    }
   },
   "outputs": [],
   "source": [
    "x = table(df$Tree)\n",
    "x"
   ]
  },
  {
   "cell_type": "code",
   "execution_count": null,
   "id": "311ca8a3",
   "metadata": {
    "vscode": {
     "languageId": "r"
    }
   },
   "outputs": [],
   "source": [
    "commonTree = 'DouglasFir' #assign the species 'DouglasFir' to the variable 'commonTree'\n",
    "percentTree = unname(x[1]/sum(x)*100) # calculate the percentage and drop the name. Here,'x[1]' indicates the first value in table 'x'\n",
    "percentTree"
   ]
  },
  {
   "cell_type": "markdown",
   "id": "8c91d92d-1c58-481f-9272-4dd8610202c2",
   "metadata": {},
   "source": [
    "**Question 3:** What percentage of all nests are in the most common tree species? Please round your answer to 2 decimal places."
   ]
  },
  {
   "cell_type": "code",
   "execution_count": null,
   "id": "c432d222-6036-4a42-a2ec-4fbcf09c9fd7",
   "metadata": {
    "tags": [],
    "vscode": {
     "languageId": "r"
    }
   },
   "outputs": [],
   "source": [
    "answer_3 <- # your answer here\n",
    "\n",
    "test_3()"
   ]
  },
  {
   "cell_type": "markdown",
   "id": "17755a7e-7e6b-4dbf-89a0-3b7c7e0d9300",
   "metadata": {},
   "source": [
    "**D)** Select the rows within `df` that correspond to the most common tree species for owl nesting and include these in a new dataframe `df1`. Using `df1`, calculate the mean diameter at breast height (`DBH`) and its standard deviation. Assign these values to variables `meanDBH` and `sdDBH` respectively. Similarly obtain the mean tree height (`Ht`) and its standard deviation, and assign these values to `meanHt` and `sdHt`. "
   ]
  },
  {
   "cell_type": "code",
   "execution_count": null,
   "id": "81d15f61-5320-47ce-b6b1-5a616c97aec1",
   "metadata": {
    "vscode": {
     "languageId": "r"
    }
   },
   "outputs": [],
   "source": [
    "mask = df$Tree==commonTree\n",
    "df1 = subset(df,mask)\n",
    "meanDBH = mean(df1$DBH)\n",
    "sdDBH = sd(df1$DBH)\n",
    "meanHt = mean(df1$Ht)\n",
    "sdHt = sd(df1$Ht)"
   ]
  },
  {
   "cell_type": "markdown",
   "id": "192b4d38-7ba6-4f1d-90bd-13a4a39039d7",
   "metadata": {},
   "source": [
    "**Question 4:** (1) What is the mean DBH of the common tree? (2) What is the standard deviation for the height of the common tree? Please round your answers to 2 decimal places."
   ]
  },
  {
   "cell_type": "code",
   "execution_count": null,
   "id": "fc11af85-6f66-46b7-9bab-82c8d999740b",
   "metadata": {
    "vscode": {
     "languageId": "r"
    }
   },
   "outputs": [],
   "source": [
    "answer_4.1 <- # your answer here for DBH\n",
    "answer_4.2 <- # your answer here for tree height\n",
    "\n",
    "test_4.1()\n",
    "test_4.2()"
   ]
  },
  {
   "cell_type": "markdown",
   "id": "24ad0f16-26a2-4f73-86f2-b3d9e7626aea",
   "metadata": {},
   "source": [
    "**E)** Calculate the coefficient of variation for both tree height and diameter for the most common tree species. Assign these to variables `cvHt` and `cvDBH` respectively. Don't forget to call the objects to view their values."
   ]
  },
  {
   "cell_type": "code",
   "execution_count": null,
   "id": "b816d302-848b-4bd6-8ad1-7dbc189ea93b",
   "metadata": {
    "vscode": {
     "languageId": "r"
    }
   },
   "outputs": [],
   "source": [
    "cvDBH = meanDBH/sdDBH\n",
    "cvHt = meanHt/sdHt"
   ]
  },
  {
   "cell_type": "markdown",
   "id": "89503f40-234d-4729-a7c4-92dced541c3c",
   "metadata": {},
   "source": [
    "**Question 5:** Are tree diameters more variable than tree heights ('yes' or 'no')? Please do not capitalize your answers."
   ]
  },
  {
   "cell_type": "code",
   "execution_count": null,
   "id": "ab27976d-cd3d-4990-9c62-07418eb573f8",
   "metadata": {
    "tags": [],
    "vscode": {
     "languageId": "r"
    }
   },
   "outputs": [],
   "source": [
    "answer_5 <- '' # your answer here ('yes' or 'no') \n",
    "\n",
    "test_5()"
   ]
  },
  {
   "cell_type": "markdown",
   "id": "3c35ebbe-6463-4d58-8f3a-e1059edc1218",
   "metadata": {
    "tags": []
   },
   "source": [
    "**F)** Determine the most common stage of decay among trees which owls build nests in. Assign this answer (as an integer between 1 and 7) to the variable `commonStage`. Determine the percentage of common trees in this stage of decay."
   ]
  },
  {
   "cell_type": "code",
   "execution_count": null,
   "id": "a975b22f-982b-41c2-a855-20753bd89399",
   "metadata": {
    "vscode": {
     "languageId": "r"
    }
   },
   "outputs": [],
   "source": [
    "x = table(df$Stage)"
   ]
  },
  {
   "cell_type": "code",
   "execution_count": null,
   "id": "e1c673a5-2753-4c3b-9b2b-e4f1549745e7",
   "metadata": {
    "vscode": {
     "languageId": "r"
    }
   },
   "outputs": [],
   "source": [
    "commonStage = 2\n",
    "percentStage = unname(x[2]/sum(x)*100)"
   ]
  },
  {
   "cell_type": "markdown",
   "id": "81627d86-8118-4e08-ad9d-69e5c98e05f3",
   "metadata": {},
   "source": [
    "**Question 6:** What percentage of common trees are in this stage of decay? Please round your answer to 2 decimal places."
   ]
  },
  {
   "cell_type": "code",
   "execution_count": null,
   "id": "8624255f-089a-4b2a-a9fd-afe973ba1198",
   "metadata": {
    "tags": [],
    "vscode": {
     "languageId": "r"
    }
   },
   "outputs": [],
   "source": [
    "answer_6 <- # your answer here \n",
    "\n",
    "test_6()"
   ]
  },
  {
   "cell_type": "markdown",
   "id": "ce6374e7-d2bc-4b0b-bcf5-d5ecdb007e4f",
   "metadata": {},
   "source": [
    "**G)** Determine the most common nest type. Assign the most common nest type to a variable called `commonNest`.  Determine what percentage of all nests in the dataset are this nest type and name this to a variable called `percentNest`."
   ]
  },
  {
   "cell_type": "code",
   "execution_count": null,
   "id": "2e0d5f1d-c4d6-4303-9feb-dc0b97de2ba3",
   "metadata": {
    "tags": [],
    "vscode": {
     "languageId": "r"
    }
   },
   "outputs": [],
   "source": [
    "x = table(df$Nest)"
   ]
  },
  {
   "cell_type": "code",
   "execution_count": null,
   "id": "f6c2e7f7-41d7-4ab9-95ff-004c3e05d83b",
   "metadata": {
    "tags": [],
    "vscode": {
     "languageId": "r"
    }
   },
   "outputs": [],
   "source": [
    "commonNest = 'TopCavity'\n",
    "percentNest = unname((x[3])/sum(x)*100)"
   ]
  },
  {
   "cell_type": "markdown",
   "id": "ac763b5d-ef52-4c30-babf-fa8b1d16d3cd",
   "metadata": {},
   "source": [
    "**Question 7:** What percentage of all nests in the dataset are of the most common type? Please round your answer to 2 decimal places."
   ]
  },
  {
   "cell_type": "code",
   "execution_count": null,
   "id": "d29beeca-206e-4dcd-8ac7-c9538eb822c2",
   "metadata": {
    "tags": [],
    "vscode": {
     "languageId": "r"
    }
   },
   "outputs": [],
   "source": [
    "answer_7 <- # your answer here\n",
    "\n",
    "test_7()"
   ]
  },
  {
   "cell_type": "markdown",
   "id": "1037a974-b53f-4ce9-a8fa-0a96384458cd",
   "metadata": {},
   "source": [
    "**H)** Summarize your results. What species of trees do northern spotted owls prefer to nest in? What life stage are their preferred trees in? What types of nests do owls most commonly build in these trees?"
   ]
  },
  {
   "cell_type": "markdown",
   "id": "0a72998d-be52-4bdd-8d6a-9834d6f7cb06",
   "metadata": {},
   "source": [
    "<font color=\"red\">Write your answer here</font>"
   ]
  },
  {
   "cell_type": "markdown",
   "id": "0107067b-07b4-4d69-ad8f-7d910ccc00f7",
   "metadata": {},
   "source": [
    "### Exercise 2: Analysis of Variance (ANOVA)\n",
    "Now we will investigate whether the diameter and height of nesting trees affect the types of nests owls make in them using **analysis of variance (ANOVA)**."
   ]
  },
  {
   "cell_type": "markdown",
   "id": "2aace744-32c4-41a5-b6a9-83be9889dc9e",
   "metadata": {},
   "source": [
    "**A)** For the most common nesting tree species (`Tree`) and life stage (`Stage`), form a boxplot showing the tree diameter on the y-axis versus the nest type on the x-axis. Label your axes with units as appropriate. Add a plot title. You can extract the appropriate data from `df` with the `subset` function using `mask = (df$Stage==commonStage) & (df$Tree==commonTree)`.\n",
    "You can use `boxplot(y ~ x, data=yourDataFrame, main='a title for your plot', xlab='your x-axis label', ylab='your y-axis label', col 'lightblue')` with appropriate substitutions to visualize your data."
   ]
  },
  {
   "cell_type": "code",
   "execution_count": null,
   "id": "bed37261-52c1-4dd3-92e3-ef0941203e6b",
   "metadata": {
    "vscode": {
     "languageId": "r"
    }
   },
   "outputs": [],
   "source": [
    "mask = (df$Stage==commonStage) & (df$Tree==commonTree)\n",
    "df2 = subset(df, mask)\n",
    "\n",
    "boxplot(DBH~Nest,\n",
    "        data=df2,\n",
    "        main='Tree diameter versus nest type: Douglas firs in life stage 2',\n",
    "        xlab='Nest Type',\n",
    "        ylab='Tree DBH [cm]',\n",
    "        col='lightblue')"
   ]
  },
  {
   "cell_type": "markdown",
   "id": "9675f595-95cc-4af2-8d44-d30fde63eaac",
   "metadata": {},
   "source": [
    "**Question 8:** Upon visualizing the data using boxplots, does the data meet the requirements of an ANOVA ('yes' or 'no')?"
   ]
  },
  {
   "cell_type": "code",
   "execution_count": null,
   "id": "49614569-eae6-4408-9cf4-97c9fe529428",
   "metadata": {
    "tags": [],
    "vscode": {
     "languageId": "r"
    }
   },
   "outputs": [],
   "source": [
    "answer_8 <- '' # your answer here ('yes' or 'no')\n",
    "\n",
    "test_8()"
   ]
  },
  {
   "cell_type": "markdown",
   "id": "75a7b567-ae0a-43dc-accb-506d74647df0",
   "metadata": {},
   "source": [
    "**B)** Determine the null and alternative hypotheses for our test using what we have learned so far."
   ]
  },
  {
   "cell_type": "markdown",
   "id": "774b63e8-6a73-42d3-a37d-d98c76309e39",
   "metadata": {},
   "source": [
    "**Question 9:** Which of the following corresponds to the correct null and alternative hypotheses?\n",
    "\n",
    "A) $Ho: \\mu_1 = \\mu_2 = \\mu_3$; $Ha: \\mu_1 \\neq \\mu_2 \\neq \\mu_3$\n",
    "\n",
    "B) $Ho: \\mu_1 \\neq \\mu_2 \\neq \\mu_3$; $Ha: \\mu_1 = \\mu_2 = \\mu_3$\n",
    "\n",
    "C) $Ho: \\mu_1 = \\mu_2 = \\mu_3$; Ha: $\\mu_i \\neq \\mu_j$ for some $\\mu_i \\neq \\mu_j$.\n",
    "\n",
    "D) $Ho: \\mu_i = \\mu_j$; $Ha: \\mu_i \\neq \\mu_j$."
   ]
  },
  {
   "cell_type": "code",
   "execution_count": null,
   "id": "0e1e721a-7d84-4bba-8dba-7491e989951c",
   "metadata": {
    "vscode": {
     "languageId": "r"
    }
   },
   "outputs": [],
   "source": [
    "answer_9 <- '' # your answer here ('A', 'B', 'C', or 'D')\n",
    "\n",
    "test_9()"
   ]
  },
  {
   "cell_type": "markdown",
   "id": "434d23f3-16ce-49d3-895d-4e5201950308",
   "metadata": {},
   "source": [
    "**C)** Conduct an ANOVA on the data visualized in your boxplot. The function for ANOVA is `aov`. It operates as `A = aov(y~x,data=dataset)` with appropriate subsitutions. As written here, the ANOVA results are stored in `A`. You can summarize the results with `summary(A)`."
   ]
  },
  {
   "cell_type": "code",
   "execution_count": null,
   "id": "7e10b496-85d3-4b19-a6fc-27ff3ba9945c",
   "metadata": {
    "vscode": {
     "languageId": "r"
    }
   },
   "outputs": [],
   "source": [
    "A = aov(DBH~Nest,data=df2) #perform an ANOVA and name it 'A'\n",
    "summary(A)"
   ]
  },
  {
   "cell_type": "markdown",
   "id": "07ca7bf3-865c-43a0-821e-cb8e03cc0619",
   "metadata": {},
   "source": [
    "**Question 10:** (1) What is the p-value associated with your ANOVA? Please round to 2 decimal places. (2) Should you reject your null hypothesis ('yes' or 'no')? Please do not capitalize your answers."
   ]
  },
  {
   "cell_type": "code",
   "execution_count": null,
   "id": "399bdc0f-72e6-412f-ac23-7db7d074cdb2",
   "metadata": {
    "tags": [],
    "vscode": {
     "languageId": "r"
    }
   },
   "outputs": [],
   "source": [
    "answer_10.1 <- # your answer here\n",
    "answer_10.2 <- '' # your answer here ('yes' or 'no')\n",
    "\n",
    "test_10.1()\n",
    "test_10.2()"
   ]
  },
  {
   "cell_type": "markdown",
   "id": "c466f96e-e29b-445d-b48e-a13969f0f7c6",
   "metadata": {
    "tags": []
   },
   "source": [
    "**D)** Summarize the results of your ANOVA using several sentences. Think about what this statistical test is actually implying about tree diameters and the type of nests that these owls construct."
   ]
  },
  {
   "cell_type": "markdown",
   "id": "7a70fdd9-c92e-44b4-8ed7-49a387091a9f",
   "metadata": {},
   "source": [
    "<font color=\"red\">Write your answer here</font>"
   ]
  },
  {
   "cell_type": "markdown",
   "id": "5a336c36-7c73-46bb-a8be-4e1fb3b80ffc",
   "metadata": {},
   "source": [
    "**E)** Conduct a post-hoc Tukey test on the ANOVA output using the `TukeyHSD()` function. Each row of the Tukey output compares tree diameters between a pair of nest types.\n",
    "If `p adj` < 0.05 for this row, the tree diameters are different for this pair of nest types."
   ]
  },
  {
   "cell_type": "code",
   "execution_count": null,
   "id": "44d100bb-1a4e-4b3c-ba5a-7be801fbff30",
   "metadata": {
    "tags": [],
    "vscode": {
     "languageId": "r"
    }
   },
   "outputs": [],
   "source": [
    "TukeyHSD(A)"
   ]
  },
  {
   "cell_type": "markdown",
   "id": "2b0429d5-e39f-47e6-8e0f-cf1ddec6e390",
   "metadata": {},
   "source": [
    "**Question 11:** How many pairwise comparisons were statistically significant?"
   ]
  },
  {
   "cell_type": "code",
   "execution_count": null,
   "id": "a1eed462-1e0d-4f02-9697-944bb3cd88f3",
   "metadata": {
    "vscode": {
     "languageId": "r"
    }
   },
   "outputs": [],
   "source": [
    "answer_11 <- # your answer here \n",
    "\n",
    "test_11()"
   ]
  },
  {
   "cell_type": "markdown",
   "id": "c28f320b-62f7-4d05-a7cf-78dac5b5013d",
   "metadata": {},
   "source": [
    "**F)** Perform an ANOVA to determine if nest type (`Nest`) is related to tree height (`Ht`) for the most common nesting tree species and life stage (the `df2` dataframe). Summarize your results as in the previous ANOVA. "
   ]
  },
  {
   "cell_type": "code",
   "execution_count": null,
   "id": "c91e95ac-357b-4bb4-92f1-b923e17bcd81",
   "metadata": {
    "vscode": {
     "languageId": "r"
    }
   },
   "outputs": [],
   "source": [
    "B = aov(Ht~Nest,data=df2) #perform and ANOVA and name it 'B'"
   ]
  },
  {
   "cell_type": "markdown",
   "id": "4ffae5ba-430e-4af6-8d96-d20b90306dea",
   "metadata": {},
   "source": [
    "**Question 12:** (1) What is the p-value associated with your ANOVA? Please round to 2 decimal places. (2) Should you reject your null hypothesis ('yes' or 'no')? "
   ]
  },
  {
   "cell_type": "code",
   "execution_count": null,
   "id": "ebed756b-2846-44fb-8191-b5d28ad896e3",
   "metadata": {
    "tags": [],
    "vscode": {
     "languageId": "r"
    }
   },
   "outputs": [],
   "source": [
    "answer_12.1 <- # your answer here\n",
    "answer_12.2 <- '' # your answer here ('yes' or 'no')\n",
    "\n",
    "test_12.1()\n",
    "test_12.2()"
   ]
  },
  {
   "cell_type": "markdown",
   "id": "1c315ee3-541e-4afb-b613-d6d5f15baea4",
   "metadata": {},
   "source": [
    "**Question 13:** In 2-3 sentences, summarize your findings with regard to (i) the characteristics of trees that northern spotted owls select for nesting, (ii) the types of nests these owls most commonly build in these trees, and (iii) how ANOVA informs the control of tree height and diameter on the types of nests owls construct."
   ]
  },
  {
   "cell_type": "markdown",
   "id": "6593ac81-6b3d-4795-9d2a-8eea4be8ac0c",
   "metadata": {},
   "source": [
    "<font color=\"red\">Write your answer here</font>"
   ]
  }
 ],
 "metadata": {
  "kernelspec": {
   "display_name": "R",
   "language": "R",
   "name": "ir"
  },
  "language_info": {
   "codemirror_mode": "r",
   "file_extension": ".r",
   "mimetype": "text/x-r-source",
   "name": "R",
   "pygments_lexer": "r",
   "version": "4.2.1"
  }
 },
 "nbformat": 4,
 "nbformat_minor": 5
}
