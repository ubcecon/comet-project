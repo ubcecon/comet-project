{
 "cells": [
  {
   "cell_type": "markdown",
   "id": "33ece909-bcf6-48fd-904a-50c2d56435a2",
   "metadata": {},
   "source": [
    "# GEOG 374: Wrangle and Visualize Climate Disaster Data\n",
    "\n",
    "* **Authors**: (Hewitt Lab) (Nina Hewitt and Michael Jerowsky) $\\times$ COMET Team (Jonathan Graves)\n",
    "* **Last Update**: 15 September 2023 "
   ]
  },
  {
   "cell_type": "markdown",
   "id": "4a777f55-4d01-415d-924a-2892873574ea",
   "metadata": {},
   "source": [
    "## Outline\n",
    "\n",
    "### Prerequisites\n",
    "\n",
    "* Introduction to Jupyter\n",
    "* Introduction to R\n",
    "\n",
    "### Outcomes\n",
    "\n",
    "After completing this notebook, you will be able to:\n",
    "* Explore data to gain a better understanding of its content and structure.\n",
    "* Transform data to meet the needs of data analysis and visualization. \n",
    "* Visualize data using time series and histograms\n",
    "\n",
    "### References\n",
    "\n",
    "* [Datacamp, Introduction to Data Cleaning](https://www.datacamp.com/tutorial/tutorial-data-cleaning-tutorial)\n",
    "* [Climate Central: Disaster Fatigue](https://www.climatecentral.org/climate-matters/disaster-fatigue)\n",
    "* [How to Use geom_smooth in R](https://www.sharpsightlabs.com/blog/geom_smooth/)\n",
    "* [Data Wrangling](https://moderndive.com/3-wrangling.html)\n",
    "* [Data Wrangling: Dates and Times](https://r4ds.had.co.nz/dates-and-times.html)\n",
    "\n",
    "> This module has a suggested citation of: Hewitt, N. and Jerowsky, M., 2023. _Interactive Notebooks for Statistics and Computation in Geography: Wrangle and Visualize Climate Disaster Data_. In Adshade et al. 2023. _The COMET Project: Creating Online Materials for Econometrics Teaching_. https://comet.arts.ubc.ca/.\n",
    "> \n",
    "> We also want to recognize the special contributions of Dr Dan Moore, who provided some of the code for this module."
   ]
  },
  {
   "cell_type": "markdown",
   "id": "106c8d17-c9be-4e39-bc5a-a55fdb4af739",
   "metadata": {},
   "source": [
    "## Introduction\n",
    "\n",
    "This module uses a data set on disasters to illustrate working with date variables. The data comes from Climate Central's exploration of climate events from 1980-present, including the time interval between major events. The Hewitt Lab would like to acknowledge the help of Dr. Dan Moore, who provided some of the code for this module.\n",
    "\n",
    "**Disaster fatigue** is a term used to describe the phenomenon of exhaustion and apathy that can arise among individuals and communities as a result of repeated exposure to disasters or crises. It refers to the sense of feeling overwhelmed and emotionally depleted by the incessant flow of news and information regarding disasters, as well as the long-term economic impacts that such disasters can have on the resiliency of local communities. In this module, we will be looking at disasters associated with climate change. As More et al. (2018) discuss, greenhouse gas (GHG) emission are triggering many new climate hazards around the globe. Unless we substantially reduce these, the results could be catastrophic.\n",
    "\n",
    "![View of flooded New Orleans in the aftermath of Hurricane Katrina. (Wikipedia Commons): Commander Mark Moran, of the NOAA Aviation Weather Center, and Lt. Phil Eastman and Lt. Dave Demers, of the NOAA Aircraft Operations Center](media/Wiki_Flood.jpg)\n",
    "\n",
    "Over time, disaster fatigue can lead to a reduced ability to respond, recover and prepare, as the resources of communities are depleted. People may also become desensitized to the the impacts of each new disaster, particularly at national and international levels where such disasters are not felt equally across the population or by policy makers. This can make it more challenging to prepare for disasters, which may ultimately worsen their impact.\n",
    "\n",
    "Disaster fatigue can also be exacerbated by other factors. Individuals may have a lack of trust in authorities or institutions, feelings of helplessness or hopelessness, and ongoing stress and trauma resulting from previous disasters or other life events. Meanwhile, communities may be overwhelmed financially or impacted negatively by rigid response policies that are not flexible enough to meet the emergent needs of a natural disaster as it unfolds."
   ]
  },
  {
   "cell_type": "markdown",
   "id": "91739d3f-ddd6-4f1e-9ae1-245ed37fd27d",
   "metadata": {},
   "source": [
    "## Data\n",
    "\n",
    "`disaster_data.csv` contains a subset of data from the Climate Central data on climate events. It focusses on the United States. The data contains information on:\n",
    "* Event Name\n",
    "* Type of Event\n",
    "* Year\n",
    "* Month\n",
    "* Day\n",
    "* Full Date\n",
    "* Cost\n",
    "* Death\n",
    "* Days between events\n",
    "\n",
    "Prior to begining this module, run the r code below to read read in the .csv file and save it to a variable. The `source` and `library` functions are included so that you can complete the test questions in this module and they can be autograded. Don't be concerned if there is a warning that there is an incomplete final line found in the data set. This will be worked around."
   ]
  },
  {
   "cell_type": "code",
   "execution_count": null,
   "id": "72546b13-bf5a-4dba-961b-7cf43a827c93",
   "metadata": {
    "vscode": {
     "languageId": "r"
    }
   },
   "outputs": [],
   "source": [
    "library(testthat)\n",
    "library(digest)\n",
    "\n",
    "disaster = readLines(\"../datasets/disaster_data.csv\")"
   ]
  },
  {
   "cell_type": "markdown",
   "id": "97fb9225-deed-4f64-a460-0544f6e9bde5",
   "metadata": {},
   "source": [
    "## Packages\n",
    "\n",
    "If the following packages are not already installed, please run the following code block; otherwise, you can skip this step."
   ]
  },
  {
   "cell_type": "code",
   "execution_count": null,
   "id": "aa9cdcb8-9e60-44db-9d3a-0511001813d4",
   "metadata": {
    "vscode": {
     "languageId": "r"
    }
   },
   "outputs": [],
   "source": [
    "install.packages(\"dplyr\")\n",
    "install.packages(\"magrittr\")\n",
    "install.packages(\"tidyr\")\n",
    "install.packages(\"lubridate\")\n",
    "install.packages(\"ggplot2\")\n",
    "install.packages(\"here\")"
   ]
  },
  {
   "cell_type": "code",
   "execution_count": null,
   "id": "4569342f-b92c-41cd-907b-5539e0272575",
   "metadata": {
    "tags": [],
    "vscode": {
     "languageId": "r"
    }
   },
   "outputs": [],
   "source": [
    "library(dplyr)\n",
    "library(magrittr)\n",
    "library(tidyr)\n",
    "library(lubridate)\n",
    "library(ggplot2)\n",
    "library(here)"
   ]
  },
  {
   "cell_type": "markdown",
   "id": "ab56d898-6797-40a1-b23c-0a64475b894f",
   "metadata": {},
   "source": [
    "## Exercises"
   ]
  },
  {
   "cell_type": "markdown",
   "id": "f81ec042-e093-4d55-a602-cdd51e19845d",
   "metadata": {},
   "source": [
    "**A)** Briefly look at the records from the beginning and end of your data to understand its basic structure."
   ]
  },
  {
   "cell_type": "code",
   "execution_count": null,
   "id": "183916d8-3a89-4c05-b6b4-0cd5973cc9b3",
   "metadata": {
    "vscode": {
     "languageId": "r"
    }
   },
   "outputs": [],
   "source": [
    "head(disaster)\n",
    "tail(disaster)"
   ]
  },
  {
   "cell_type": "markdown",
   "id": "e2cb1076-0ff9-4b4a-8bbb-e5f42a22f1bb",
   "metadata": {},
   "source": [
    "**B)** You can also view a condensed summary of your data. Since the `disaster` dataframe doesn't have a huge number of columns, you can view a quick snapshot of your data using the `str()` function. This will tell you the class of each variable and give you a preview of its contents."
   ]
  },
  {
   "cell_type": "code",
   "execution_count": null,
   "id": "d53ad92d-d596-4c8c-9201-64b31454c8bb",
   "metadata": {
    "vscode": {
     "languageId": "r"
    }
   },
   "outputs": [],
   "source": [
    "str(disaster) # preview of data with helpful details"
   ]
  },
  {
   "cell_type": "markdown",
   "id": "6ff623b2-9936-451d-a1ea-6d5928480cf0",
   "metadata": {},
   "source": [
    "**C)** The `glimpse()` function from dplyr is a slightly cleaner alternative to `str()`. The reason to review the overall structure of your data is to determine if there are any issues with the way columns are labelled, how variables are encoded, etc."
   ]
  },
  {
   "cell_type": "code",
   "execution_count": null,
   "id": "a26c1e13-fe20-4ddb-a811-15983f799668",
   "metadata": {
    "vscode": {
     "languageId": "r"
    }
   },
   "outputs": [],
   "source": [
    "glimpse(disaster) #better version of str() from dplyr"
   ]
  },
  {
   "cell_type": "markdown",
   "id": "451134fc-28e3-42dd-90d0-8cc0b9698aa4",
   "metadata": {},
   "source": [
    "**D)** Neither of these provided much information as information is being treated as text and needs to be wrangled. Let's save it as a data frame and use the `mutate()` function to create new columns that are functions of existing columns to try and clean-up the data a bit. The `%>%` operator is called the pipe operator and is used to chain together multiple functions into a single pipeline. In this case, we're using it to apply the mutate() function to the csv. file data. In addition to simple arithmetic expressions, you can use any R function inside the mutate() function to create new variables. \n",
    "\n",
    "Specifically regarding the mutation of the time and date data, `lubridate` is an R package that provides a set of tools for working with dates and times in R. It makes it easy to parse, manipulate, and format date and time objects in a way that is both intuitive and efficient. You can find more information on working with dates and times [here](https://r4ds.had.co.nz/dates-and-times.html)."
   ]
  },
  {
   "cell_type": "code",
   "execution_count": null,
   "id": "992d011e-f639-4baf-be08-7a16242189c5",
   "metadata": {
    "vscode": {
     "languageId": "r"
    }
   },
   "outputs": [],
   "source": [
    "dd2 <- read.csv(\"../datasets/disaster_data.csv\") %>% # read the csv. fuke and save it as a data frame\n",
    "  mutate(date_lub = mdy(full_date)) %>%              # create a new column and combine year, month, day separated by dashes\n",
    "  mutate(date_base = ISOdate(year, month, day)) %>%  # create a new column with a data time for each record\n",
    "  mutate(cost = as.numeric(cost))                    # ensure the cost column is saved as numeric"
   ]
  },
  {
   "cell_type": "markdown",
   "id": "eaa486c2-a796-47ee-9073-d5be39b4f18c",
   "metadata": {},
   "source": [
    "**E)** Briefly look at the beginning and end of the records again. This time, the output is much more legible. This is an example of Tidy data: each subject or observation is in a row; It is coded by different variables (disaster type, year, etc) in successive columns. Values correspond to the measurement or category for that subject for the given variable listed in the column header."
   ]
  },
  {
   "cell_type": "code",
   "execution_count": null,
   "id": "9f9c7071-d804-460e-b3e3-eb43f46e56af",
   "metadata": {
    "vscode": {
     "languageId": "r"
    }
   },
   "outputs": [],
   "source": [
    "head(dd2)\n",
    "tail(dd2)"
   ]
  },
  {
   "cell_type": "markdown",
   "id": "7f9b5367-9987-4657-a052-33bf8ef3a18b",
   "metadata": {},
   "source": [
    "**F)** Review the structure of the new dataframe using the following functions."
   ]
  },
  {
   "cell_type": "code",
   "execution_count": null,
   "id": "aaedee66-6ca6-4751-9417-0def58227551",
   "metadata": {
    "vscode": {
     "languageId": "r"
    }
   },
   "outputs": [],
   "source": [
    "summary(dd2) # summary of the structure of your data\n",
    "class(dd2) # class of data object\n",
    "dim(dd2) # dimensions of data object\n",
    "names(dd2) # column names\n",
    "str(dd2) # preview of data with helpful details\n",
    "glimpse(dd2) # better version of str() from dplyr"
   ]
  },
  {
   "cell_type": "markdown",
   "id": "dc662928-03cb-4dfd-bd43-16b68b3a23f7",
   "metadata": {},
   "source": [
    "**G)** Now that the we have wrangled our data, let's visualize the climate disasters between 1980 and now. Begin by setting the theme of ggplot2 to a classic grey background with white gridlines."
   ]
  },
  {
   "cell_type": "code",
   "execution_count": null,
   "id": "97948f1c-8805-430c-836a-861c4d3254e2",
   "metadata": {
    "vscode": {
     "languageId": "r"
    }
   },
   "outputs": [],
   "source": [
    "theme_set(theme_bw())"
   ]
  },
  {
   "cell_type": "markdown",
   "id": "b83ed781-d151-4470-bbd2-91df63d64ee5",
   "metadata": {},
   "source": [
    "**H)** Next, use the following r code to create a time series plot. These are useful tools when analyzing and understanding trends, patterns, and changes in data over time. There are several reasons why one might use a time series plot. \n",
    "\n",
    "* They can reveal long-term trends in the data, such as seasonal or cyclical patterns, which may not be apparent from individual data points. \n",
    "* They can help identify outliers, anomalies, and other irregularities in the data, which can be useful in detecting and correcting errors or anomalies. \n",
    "* They can provide insight into the relationship between variables and their changes over time, which can be helpful in identifying cause-and-effect relationships and making predictions or forecasts.\n",
    "\n",
    "Sometimes it can be difficult to see if there is a trend in the data based on point data alone, which is why a trend line has been added here and smoothed using the `geom_smooth()` function. By default, this function uses locally weighted scatterplot smoothing (LOESS), which is a non-paramteric method for fitting a smooth curve through a scatterplot. Specifically, the LOESS algorithm assigns weights to nearby data points according to their distance from the point being smoothed, and these weights are then used to fit a weighted least squares regression line through the data points in that neighbourhood. If you would like more information on this function, check out [this link](http://statseducation.com/Introduction-to-R/modules/graphics/smoothing/), which provides a more detailed discussion of this function."
   ]
  },
  {
   "cell_type": "code",
   "execution_count": null,
   "id": "e15f78d7-6852-459c-b014-6d2ecd181df8",
   "metadata": {
    "vscode": {
     "languageId": "r"
    }
   },
   "outputs": [],
   "source": [
    "ggplot(data = dd2, aes(x = date_lub, y = cost)) +\n",
    "  geom_point(col = \"red\") + # style the points representing each individual disaster\n",
    "  labs(x = \"Date\", y = \"Cost ($US)\") + # label the x and y axis\n",
    "  scale_y_log10() + # transform the y scale to use log 10\n",
    "  geom_smooth(se = FALSE) # add a trend line over the data"
   ]
  },
  {
   "cell_type": "markdown",
   "id": "f7085b0e-584f-4434-aff7-7a7504ed8f2a",
   "metadata": {},
   "source": [
    "**I)** The data would be better visualized if a trend line was given for each type of disaster. We can do this by grouping the data by `disaster_type` when creating the time series plot, then we can color code them to make it easier for readers to compare different trends when looking at our visualization."
   ]
  },
  {
   "cell_type": "code",
   "execution_count": null,
   "id": "efdd97af-0896-4b92-b5e5-c0699ede7b72",
   "metadata": {
    "vscode": {
     "languageId": "r"
    }
   },
   "outputs": [],
   "source": [
    "ggplot(data = dd2, aes(x = date_lub, y = cost,\n",
    "                      group = disaster_type)) + # group the data by disaster type.\n",
    "  geom_point(aes(col = disaster_type, # color each point based on disaster type\n",
    "                 shape = disaster_type)) + # assign a shape to each disaster type\n",
    "  labs(x = \"Date\", y = \"Cost ($US)\") + # label the x and y axis\n",
    "  scale_y_log10() + # transform the y scale to use log 10\n",
    "  geom_smooth(se = FALSE, aes(col = disaster_type), # create trend lines and color by disaster type\n",
    "              span = 1) + # controls the amount of smoothing. Larger numbers produce smoother lines.\n",
    "  labs(col = \"Disaster type\", # create a column for the legend and label\n",
    "       shape = \"Disaster type\") # generate the shap and color for the legend"
   ]
  },
  {
   "cell_type": "markdown",
   "id": "15c2090b-0828-42b6-ad54-3ff91ed1abc9",
   "metadata": {},
   "source": [
    "**J)** Next, let's create a histogram to visualize how many days are generally between each major disaster."
   ]
  },
  {
   "cell_type": "code",
   "execution_count": null,
   "id": "b34ded34-8069-4cf0-a7f8-3aeb4c7d701e",
   "metadata": {
    "vscode": {
     "languageId": "r"
    }
   },
   "outputs": [],
   "source": [
    "ggplot(data = dd2) + # reference the datafram\n",
    "  geom_histogram(aes(x = days_between), # indicate the variable being tracked on the x-axis.\n",
    "                 boundary = 0, binwidth = 20, # determine how far apart your columns are and the bin-width\n",
    "                 fill = \"lightblue\", col = \"black\") + # styke your columns and their outline.\n",
    "  labs(x = \"Days between successive events\", y = \"Count\") # label the x and y axis"
   ]
  },
  {
   "cell_type": "markdown",
   "id": "574843ed-931a-4d1c-803a-4813d39409da",
   "metadata": {},
   "source": [
    "**K)** Once again, make a time series plot; however, this time compare the number of days between natural disasters as opposed to their cost."
   ]
  },
  {
   "cell_type": "code",
   "execution_count": null,
   "id": "9469eb5e-3ec5-4016-b7bf-180d39293707",
   "metadata": {
    "vscode": {
     "languageId": "r"
    }
   },
   "outputs": [],
   "source": [
    "# time series of days_between\n",
    "ggplot(data = dd2, aes(x = date_lub, y = days_between)) + # indicate which variable will be plotted on the x and y-axis\n",
    "  geom_point(col = \"red\") + # color the points representing disasters\n",
    "  geom_smooth(span = 1, se = FALSE) + # controls the amount of smoothing. Larger numbers produce smoother lines.\n",
    "  labs(y = \"Days between successive events\", x = \"Date\") # label the x and y axis"
   ]
  },
  {
   "cell_type": "markdown",
   "id": "49271ab3-759d-484b-aca3-ec305964eb42",
   "metadata": {},
   "source": [
    "**L)** While we could create a time series of days between disasters which plots each type of disaster on the same graph, sometimes it can be better to plot each as a separate visualization and compare them next to one another. `facet_wrap()` makes a long ribbon of panels (generated by any number of variables) and wraps it into 2d."
   ]
  },
  {
   "cell_type": "code",
   "execution_count": null,
   "id": "7a898d69-3993-41a2-b256-b6d91f40ed26",
   "metadata": {
    "vscode": {
     "languageId": "r"
    }
   },
   "outputs": [],
   "source": [
    "ggplot(data = dd2, aes(x = date_lub, y = days_between)) + # indicate which variable will be plotted on the x and y-axis\n",
    "  geom_point(col = \"red\") + # color the points representing disasters\n",
    "  geom_smooth(span = 1, se = FALSE) + # controls the amount of smoothing. Larger numbers produce smoother lines.\n",
    "  labs(y = \"Days between successive events\", x = \"Date\") + # label the x and y axis\n",
    "  facet_wrap(vars(disaster_type)) # create multiple graphs for the disaster-type variable"
   ]
  }
 ],
 "metadata": {
  "kernelspec": {
   "display_name": "R",
   "language": "R",
   "name": "ir"
  },
  "language_info": {
   "codemirror_mode": "r",
   "file_extension": ".r",
   "mimetype": "text/x-r-source",
   "name": "R",
   "pygments_lexer": "r",
   "version": "4.2.1"
  }
 },
 "nbformat": 4,
 "nbformat_minor": 5
}
